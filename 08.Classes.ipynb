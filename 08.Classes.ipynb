{
 "cells": [
  {
   "cell_type": "markdown",
   "metadata": {},
   "source": [
    "Pierre Navaro - [Institut de Recherche Mathématique de Rennes](https://irmar.univ-rennes1.fr) - [CNRS](http://www.cnrs.fr/)"
   ]
  },
  {
   "cell_type": "markdown",
   "metadata": {
    "slideshow": {
     "slide_type": "slide"
    }
   },
   "source": [
    "# Classes\n",
    "- Classes provide a means of bundling data and functionality together.\n",
    "- Creating a new class creates a *new type* of object.\n",
    "- Assigned variables are new *instances* of that type.\n",
    "- Each class instance can have *attributes* attached to it.\n",
    "- Class instances can also have *methods* for modifying its state.\n",
    "- Python classes provide the class inheritance mechanism.\n"
   ]
  },
  {
   "cell_type": "raw",
   "metadata": {},
   "source": [
    "<script>\n",
    "    function hide_prompt() {\n",
    "        $('div.prompt').hide(); // always hide prompt\n",
    "    }\n",
    "    $( document ).ready(hide_prompt);\n",
    "</script>"
   ]
  },
  {
   "cell_type": "code",
   "execution_count": 7,
   "metadata": {
    "slideshow": {
     "slide_type": "slide"
    }
   },
   "outputs": [
    {
     "name": "stdout",
     "output_type": "stream",
     "text": [
      "MyClass: i, j = 6, 9\n"
     ]
    },
    {
     "data": {
      "text/plain": [
       "(6, 9, None)"
      ]
     },
     "execution_count": 7,
     "metadata": {},
     "output_type": "execute_result"
    }
   ],
   "source": [
    "class MyFirstClass:\n",
    "    \n",
    "   \"A simple example class that writes its attributes i and j\"\n",
    "\n",
    "   def __init__(self, i, j): # Constructor\n",
    "      self.i = i\n",
    "      self.j = j\n",
    "    \n",
    "   def f(self):\n",
    "      print(\"MyClass: i, j = {}, {}\".format(self.i,self.j))\n",
    "\n",
    "obj1 = MyFirstClass(6,9)\n",
    "obj1.i, obj1.j, obj1.f()"
   ]
  },
  {
   "cell_type": "markdown",
   "metadata": {
    "slideshow": {
     "slide_type": "fragment"
    }
   },
   "source": [
    "- `obj` is an *instance* of MyClass.\n",
    "- `obj.f` is a *method* of `obj` instance.\n",
    "- `i` and `j` are attributes of `obj` instance."
   ]
  },
  {
   "cell_type": "code",
   "execution_count": 8,
   "metadata": {
    "collapsed": true,
    "slideshow": {
     "slide_type": "skip"
    }
   },
   "outputs": [],
   "source": [
    "MyFirstClass?"
   ]
  },
  {
   "cell_type": "markdown",
   "metadata": {
    "slideshow": {
     "slide_type": "slide"
    }
   },
   "source": [
    "# Method Overriding\n",
    "- Every Python classes has a `__repr__` method used when you call `print` function."
   ]
  },
  {
   "cell_type": "code",
   "execution_count": 9,
   "metadata": {
    "slideshow": {
     "slide_type": "fragment"
    }
   },
   "outputs": [
    {
     "name": "stdout",
     "output_type": "stream",
     "text": [
      "MyClass: i, j = 6, 9\n"
     ]
    }
   ],
   "source": [
    "class MyClass:\n",
    "   \"\"\"Simple example class with method overriding \"\"\"\n",
    "   def __init__(self, i, j):\n",
    "      self.i = i\n",
    "      self.j = j\n",
    "   def __repr__(self):\n",
    "      return \"MyClass: i, j = {}, {}\".format(self.i,self.j)\n",
    "\n",
    "obj2 = MyClass(6,9)\n",
    "print(obj2)"
   ]
  },
  {
   "cell_type": "code",
   "execution_count": 10,
   "metadata": {
    "slideshow": {
     "slide_type": "fragment"
    }
   },
   "outputs": [
    {
     "name": "stdout",
     "output_type": "stream",
     "text": [
      "<__main__.MyFirstClass object at 0x1063b15c0>\n"
     ]
    }
   ],
   "source": [
    "print(obj1)"
   ]
  },
  {
   "cell_type": "markdown",
   "metadata": {
    "slideshow": {
     "slide_type": "slide"
    }
   },
   "source": [
    "# Inheritance"
   ]
  },
  {
   "cell_type": "code",
   "execution_count": 11,
   "metadata": {
    "slideshow": {
     "slide_type": "fragment"
    }
   },
   "outputs": [
    {
     "name": "stdout",
     "output_type": "stream",
     "text": [
      "MyClass: i, j = 6, 9\n",
      "MyDerivedClass: i, j, k = 6, 9, 12\n"
     ]
    }
   ],
   "source": [
    "class MyDerivedClass(MyClass):\n",
    "   def __init__(self, i, j, k):\n",
    "      super().__init__(i,j) # Call method in the parent class\n",
    "      self.k = k\n",
    "   def __repr__(self):\n",
    "      return \"MyDerivedClass: i, j, k = {}, {}, {}\".format(self.i,self.j,self.k)\n",
    "    \n",
    "obj1 = MyClass(6,9)\n",
    "print(obj1)\n",
    "obj2 = MyDerivedClass(6,9,12)\n",
    "print(obj2)"
   ]
  },
  {
   "cell_type": "markdown",
   "metadata": {
    "slideshow": {
     "slide_type": "slide"
    }
   },
   "source": [
    "# Private Variables and Methods"
   ]
  },
  {
   "cell_type": "code",
   "execution_count": 12,
   "metadata": {
    "collapsed": true,
    "slideshow": {
     "slide_type": "fragment"
    }
   },
   "outputs": [],
   "source": [
    "class MyClass:\n",
    "    def public_method(self):\n",
    "        print ('public.')\n",
    "    def __private_method(self):  # Note the use of leading underscores\n",
    "        print ('private!')\n",
    "\n",
    "obj = MyClass()"
   ]
  },
  {
   "cell_type": "code",
   "execution_count": 13,
   "metadata": {
    "slideshow": {
     "slide_type": "fragment"
    }
   },
   "outputs": [
    {
     "name": "stdout",
     "output_type": "stream",
     "text": [
      "public.\n"
     ]
    }
   ],
   "source": [
    "obj.public_method()"
   ]
  },
  {
   "cell_type": "code",
   "execution_count": 14,
   "metadata": {
    "slideshow": {
     "slide_type": "fragment"
    }
   },
   "outputs": [
    {
     "ename": "AttributeError",
     "evalue": "'MyClass' object has no attribute '__private_method'",
     "output_type": "error",
     "traceback": [
      "\u001b[0;31m---------------------------------------------------------------------------\u001b[0m",
      "\u001b[0;31mAttributeError\u001b[0m                            Traceback (most recent call last)",
      "\u001b[0;32m<ipython-input-14-082843f30a7f>\u001b[0m in \u001b[0;36m<module>\u001b[0;34m()\u001b[0m\n\u001b[0;32m----> 1\u001b[0;31m \u001b[0mobj\u001b[0m\u001b[0;34m.\u001b[0m\u001b[0m__private_method\u001b[0m\u001b[0;34m(\u001b[0m\u001b[0;34m)\u001b[0m\u001b[0;34m\u001b[0m\u001b[0m\n\u001b[0m",
      "\u001b[0;31mAttributeError\u001b[0m: 'MyClass' object has no attribute '__private_method'"
     ]
    }
   ],
   "source": [
    "obj.__private_method()"
   ]
  },
  {
   "cell_type": "code",
   "execution_count": 15,
   "metadata": {
    "slideshow": {
     "slide_type": "slide"
    }
   },
   "outputs": [
    {
     "data": {
      "text/plain": [
       "['_MyClass__private_method', 'public_method']"
      ]
     },
     "execution_count": 15,
     "metadata": {},
     "output_type": "execute_result"
    }
   ],
   "source": [
    "[ s for s in dir(obj) if \"method\" in s]"
   ]
  },
  {
   "cell_type": "code",
   "execution_count": 16,
   "metadata": {
    "slideshow": {
     "slide_type": "fragment"
    }
   },
   "outputs": [
    {
     "name": "stdout",
     "output_type": "stream",
     "text": [
      "private!\n"
     ]
    }
   ],
   "source": [
    "obj._MyClass__private_method()"
   ]
  },
  {
   "cell_type": "markdown",
   "metadata": {
    "slideshow": {
     "slide_type": "slide"
    }
   },
   "source": [
    "# Use `class` as a Function."
   ]
  },
  {
   "cell_type": "code",
   "execution_count": 17,
   "metadata": {
    "slideshow": {
     "slide_type": "fragment"
    }
   },
   "outputs": [
    {
     "data": {
      "text/plain": [
       "9"
      ]
     },
     "execution_count": 17,
     "metadata": {},
     "output_type": "execute_result"
    }
   ],
   "source": [
    "class F:\n",
    "    \n",
    "   \" Class to create function f:x,y -> a+b*x+c*y**2\"\n",
    "    \n",
    "   def __init__(self, a=1, b=1, c=1):\n",
    "      self.a=a\n",
    "      self.b=b\n",
    "      self.c=c\n",
    "        \n",
    "   def __call__(self, x, y):\n",
    "      return self.a+self.b*x+self.c*y*y\n",
    "\n",
    "f = F(a=2,b=4,c=-1)\n",
    "f(2,1) "
   ]
  },
  {
   "cell_type": "markdown",
   "metadata": {
    "slideshow": {
     "slide_type": "slide"
    }
   },
   "source": [
    "# Operators Overriding "
   ]
  },
  {
   "cell_type": "markdown",
   "metadata": {
    "slideshow": {
     "slide_type": "slide"
    }
   },
   "source": [
    "We can change the *class* attribute dimension."
   ]
  },
  {
   "cell_type": "code",
   "execution_count": 8,
   "metadata": {
    "collapsed": true,
    "slideshow": {
     "slide_type": "fragment"
    }
   },
   "outputs": [],
   "source": [
    "class MyVector:\n",
    "   \" Simple class to create vector with x and y coordinates\"\n",
    "   dimension = 2 \n",
    "   def __init__(self, x=0, y=0):\n",
    "      self.x=x\n",
    "      self.y=y\n",
    "        \n",
    "   def __eq__(self, vB): # override '=='\n",
    "      return (self.x==vB.x) and (self.y==vB.y)\n",
    "    \n",
    "   def __add__(self, vB): # override '+'\n",
    "      return MyVector(self.x+vB.x,self.y+vB.y)\n",
    "    \n",
    "   def __sub__(self, vB): # override '-'\n",
    "      return MyVector(self.x-vB.x,self.y-vB.y)\n",
    "    \n",
    "   def __mul__(self, c): # override '*'\n",
    "      if isinstance(c,MyVector):\n",
    "         return self.x*c.x+self.y*c.y\n",
    "      else:\n",
    "         return MyVector(c*self.x,c*self.y)"
   ]
  },
  {
   "cell_type": "code",
   "execution_count": 19,
   "metadata": {
    "slideshow": {
     "slide_type": "slide"
    }
   },
   "outputs": [
    {
     "data": {
      "text/plain": [
       "(<__main__.MyVector at 0x10646e438>, <__main__.MyVector at 0x10646e4a8>)"
      ]
     },
     "execution_count": 19,
     "metadata": {},
     "output_type": "execute_result"
    }
   ],
   "source": [
    "u = MyVector() \n",
    "u.x, u.y = 0, 1\n",
    "v = MyVector()\n",
    "v.x, v.y = 1, 0\n",
    "u, v"
   ]
  },
  {
   "cell_type": "code",
   "execution_count": 20,
   "metadata": {
    "slideshow": {
     "slide_type": "fragment"
    }
   },
   "outputs": [
    {
     "name": "stdout",
     "output_type": "stream",
     "text": [
      "<__main__.MyVector object at 0x10644e1d0> 1 1\n"
     ]
    }
   ],
   "source": [
    "w = u+v\n",
    "print (w, w.x, w.y)"
   ]
  },
  {
   "cell_type": "code",
   "execution_count": 21,
   "metadata": {
    "slideshow": {
     "slide_type": "fragment"
    }
   },
   "outputs": [
    {
     "data": {
      "text/plain": [
       "3"
      ]
     },
     "execution_count": 21,
     "metadata": {},
     "output_type": "execute_result"
    }
   ],
   "source": [
    "MyVector.dimension=3\n",
    "u.dimension"
   ]
  },
  {
   "cell_type": "code",
   "execution_count": 22,
   "metadata": {
    "slideshow": {
     "slide_type": "fragment"
    }
   },
   "outputs": [
    {
     "data": {
      "text/plain": [
       "3"
      ]
     },
     "execution_count": 22,
     "metadata": {},
     "output_type": "execute_result"
    }
   ],
   "source": [
    "v.dimension"
   ]
  },
  {
   "cell_type": "markdown",
   "metadata": {
    "slideshow": {
     "slide_type": "slide"
    }
   },
   "source": [
    "We can change the *instance* attribute dimension."
   ]
  },
  {
   "cell_type": "code",
   "execution_count": 23,
   "metadata": {
    "collapsed": true,
    "slideshow": {
     "slide_type": "fragment"
    }
   },
   "outputs": [],
   "source": [
    "u.dimension=4"
   ]
  },
  {
   "cell_type": "code",
   "execution_count": 24,
   "metadata": {
    "slideshow": {
     "slide_type": "fragment"
    }
   },
   "outputs": [
    {
     "data": {
      "text/plain": [
       "3"
      ]
     },
     "execution_count": 24,
     "metadata": {},
     "output_type": "execute_result"
    }
   ],
   "source": [
    "v.dimension"
   ]
  },
  {
   "cell_type": "code",
   "execution_count": 25,
   "metadata": {
    "slideshow": {
     "slide_type": "fragment"
    }
   },
   "outputs": [
    {
     "data": {
      "text/plain": [
       "4"
      ]
     },
     "execution_count": 25,
     "metadata": {},
     "output_type": "execute_result"
    }
   ],
   "source": [
    "MyVector.dimension=5\n",
    "u.dimension # set attribute keeps its value"
   ]
  },
  {
   "cell_type": "code",
   "execution_count": 26,
   "metadata": {
    "slideshow": {
     "slide_type": "fragment"
    }
   },
   "outputs": [
    {
     "data": {
      "text/plain": [
       "5"
      ]
     },
     "execution_count": 26,
     "metadata": {},
     "output_type": "execute_result"
    }
   ],
   "source": [
    "v.dimension # unset attribute is set to the new value"
   ]
  },
  {
   "cell_type": "markdown",
   "metadata": {
    "slideshow": {
     "slide_type": "slide"
    }
   },
   "source": [
    "## Exercise \n",
    "Create a class named Complex to store a complex number:\n",
    "- Attributes are real part a and imaginary part b\n",
    "- Overrides '+' operator\n",
    "- Overrides '-' operator\n",
    "- Overrides '*' operatot\n",
    "- Create method that returns the module."
   ]
  },
  {
   "cell_type": "markdown",
   "metadata": {
    "slideshow": {
     "slide_type": "slide"
    }
   },
   "source": [
    "<button data-toggle=\"collapse\" data-target=\"#complex\" class='btn btn-primary'>Solution</button>\n",
    "<div id=\"complex\" class=\"collapse\">\n",
    "```python\n",
    "class Complex:\n",
    "    \" Class to represent a complex\"\n",
    "    def __init__(self, a, b):\n",
    "        self.a = a\n",
    "        self.b = b\n",
    "\n",
    "    def __add__( self, c):  #  ( c + x )\n",
    "        if isinstance(c,Complex):\n",
    "            return Complex(self.a+c.a,self.b+c.b)\n",
    "        else:\n",
    "            return Complex(self.a+c, self.b)\n",
    "\n",
    "    def __radd__( self, c): #  ( x + c )\n",
    "        return self + c\n",
    "\n",
    "    def __sub__(self, c): #  ( c - x )\n",
    "        if isinstance(c,Complex):\n",
    "            return Complex(self.a-c.a,self.b-c.b)\n",
    "        else:\n",
    "            return Complex(self.a-c, self.b)\n",
    "        \n",
    "    def __rsub__(self, c): #  ( x - c )\n",
    "        return -1 * self + c\n",
    "\n",
    "    def __repr__(self): #  print(c)\n",
    "        return str(self.a)+'+'+str(self.b)+'j'\n",
    "\n",
    "    def __mul__(self, c): # c * x\n",
    "        if isinstance(c, Complex):\n",
    "            return Complex(self.a*c.a-self.b*c.b,self.a*c.b+self.b*c.a)\n",
    "        else:\n",
    "            return Complex(self.a*c, self.b*c)\n",
    "        return \n",
    "\n",
    "    def __rmul__(self, c): # x * c\n",
    "        return  self * c\n",
    "\n",
    "    def __eq__(self, c): # x == c\n",
    "      if isinstance(c, Complex):\n",
    "        return self.a == c.a and self.b == c.b\n",
    "      else:\n",
    "        raise TypeError( str(c) + ' not a Complex Class Instance')\n",
    "\n",
    "    @property\n",
    "    def module(self):\n",
    "        import math\n",
    "        return math.sqrt(self.a*self.a+self.b*self.b)\n",
    "\n",
    "\n",
    "c1 = Complex(1,2)\n",
    "c2 = Complex(2,4)\n",
    "assert c1 + c2  == Complex(3, 6)\n",
    "assert c1 + 7   == Complex(8, 2)\n",
    "assert 7 + c2   == Complex(9, 4)\n",
    "assert c1 - c2  == Complex(-1,-2)\n",
    "assert c1 - 7   == Complex(-6, 2)\n",
    "assert 7 - c2   == Complex(5, -4)\n",
    "assert c1 * c2  == Complex(-6, 8)\n",
    "assert c1 * 7   == Complex( 7,14)\n",
    "assert 7 * c2   == Complex(14,28)\n",
    "assert (c1==c2) == False\n",
    "print( c1.module, c2.module)\n",
    "c1 == 5\n",
    "```"
   ]
  },
  {
   "cell_type": "markdown",
   "metadata": {
    "collapsed": true,
    "slideshow": {
     "slide_type": "slide"
    }
   },
   "source": [
    "# Iterators\n",
    "Most container objects can be looped over using a for statement:"
   ]
  },
  {
   "cell_type": "code",
   "execution_count": 27,
   "metadata": {
    "slideshow": {
     "slide_type": "fragment"
    }
   },
   "outputs": [
    {
     "name": "stdout",
     "output_type": "stream",
     "text": [
      "1 2 3 1 2 3 one two 1 2 3 1. This is a txt file.\n",
      "2. \\n is used to begin a new line"
     ]
    }
   ],
   "source": [
    "for element in [1, 2, 3]:\n",
    "    print(element, end=' ')\n",
    "for element in (1, 2, 3):\n",
    "    print(element, end= ' ')\n",
    "for key in {'one':1, 'two':2}:\n",
    "    print(key, end= ' ')\n",
    "for char in \"123\":\n",
    "    print(char, end= ' ')\n",
    "for line in open(\"workfile.txt\"):\n",
    "    print(line, end='')"
   ]
  },
  {
   "cell_type": "markdown",
   "metadata": {
    "slideshow": {
     "slide_type": "slide"
    }
   },
   "source": [
    "- The `for` statement calls `iter()` on the container object. \n",
    "- The function returns an iterator object that defines the method `__next__()`\n",
    "- To add iterator behavior to your classes: \n",
    "    - Define an `__iter__()` method which returns an object with a `__next__()`.\n",
    "    - If the class defines `__next__()`, then `__iter__()` can just return self.\n",
    "    - The **StopIteration** exception indicates the end of the loop."
   ]
  },
  {
   "cell_type": "code",
   "execution_count": 28,
   "metadata": {
    "slideshow": {
     "slide_type": "fragment"
    }
   },
   "outputs": [
    {
     "data": {
      "text/plain": [
       "<str_iterator at 0x10645c9b0>"
      ]
     },
     "execution_count": 28,
     "metadata": {},
     "output_type": "execute_result"
    }
   ],
   "source": [
    "s = 'abc'\n",
    "it = iter(s)\n",
    "it"
   ]
  },
  {
   "cell_type": "code",
   "execution_count": 29,
   "metadata": {
    "slideshow": {
     "slide_type": "fragment"
    }
   },
   "outputs": [
    {
     "data": {
      "text/plain": [
       "'a'"
      ]
     },
     "execution_count": 29,
     "metadata": {},
     "output_type": "execute_result"
    }
   ],
   "source": [
    "next(it)"
   ]
  },
  {
   "cell_type": "code",
   "execution_count": 30,
   "metadata": {
    "slideshow": {
     "slide_type": "fragment"
    }
   },
   "outputs": [
    {
     "data": {
      "text/plain": [
       "'b'"
      ]
     },
     "execution_count": 30,
     "metadata": {},
     "output_type": "execute_result"
    }
   ],
   "source": [
    "next(it)"
   ]
  },
  {
   "cell_type": "code",
   "execution_count": 31,
   "metadata": {
    "slideshow": {
     "slide_type": "fragment"
    }
   },
   "outputs": [
    {
     "data": {
      "text/plain": [
       "'c'"
      ]
     },
     "execution_count": 31,
     "metadata": {},
     "output_type": "execute_result"
    }
   ],
   "source": [
    "next(it)"
   ]
  },
  {
   "cell_type": "code",
   "execution_count": 32,
   "metadata": {
    "collapsed": true,
    "slideshow": {
     "slide_type": "slide"
    }
   },
   "outputs": [],
   "source": [
    "class Reverse:\n",
    "    \"\"\"Iterator for looping over a sequence backwards.\"\"\"\n",
    "    def __init__(self, data):\n",
    "        self.data = data\n",
    "        self.index = len(data)\n",
    "\n",
    "    def __iter__(self):\n",
    "        return self\n",
    "\n",
    "    def __next__(self):\n",
    "        if self.index == 0:\n",
    "            raise StopIteration\n",
    "        self.index = self.index - 1\n",
    "        return self.data[self.index]"
   ]
  },
  {
   "cell_type": "code",
   "execution_count": 33,
   "metadata": {
    "slideshow": {
     "slide_type": "fragment"
    }
   },
   "outputs": [
    {
     "name": "stdout",
     "output_type": "stream",
     "text": [
      "maps"
     ]
    }
   ],
   "source": [
    "rev = Reverse('spam')\n",
    "for char in rev:\n",
    "    print(char, end='')"
   ]
  },
  {
   "cell_type": "markdown",
   "metadata": {
    "slideshow": {
     "slide_type": "slide"
    }
   },
   "source": [
    "# Generators\n",
    "- Generators are a simple and powerful tool for creating iterators.\n",
    "- Write regular functions but use the yield statement when you want to return data.\n",
    "- the `__iter__()` and `__next__()` methods are created automatically.\n"
   ]
  },
  {
   "cell_type": "code",
   "execution_count": 34,
   "metadata": {
    "collapsed": true,
    "slideshow": {
     "slide_type": "fragment"
    }
   },
   "outputs": [],
   "source": [
    "def reverse(data):\n",
    "    for index in range(len(data)-1, -1, -1):\n",
    "        yield data[index]"
   ]
  },
  {
   "cell_type": "code",
   "execution_count": 35,
   "metadata": {
    "slideshow": {
     "slide_type": "fragment"
    }
   },
   "outputs": [
    {
     "name": "stdout",
     "output_type": "stream",
     "text": [
      "flog"
     ]
    }
   ],
   "source": [
    "for char in reverse('golf'):\n",
    "     print(char, end='')"
   ]
  },
  {
   "cell_type": "markdown",
   "metadata": {
    "slideshow": {
     "slide_type": "slide"
    }
   },
   "source": [
    "# Generator Expressions\n",
    "\n",
    "- Use a syntax similar to list comprehensions but with parentheses instead of brackets.\n",
    "- Tend to be more memory friendly than equivalent list comprehensions."
   ]
  },
  {
   "cell_type": "code",
   "execution_count": 36,
   "metadata": {
    "slideshow": {
     "slide_type": "fragment"
    }
   },
   "outputs": [
    {
     "data": {
      "text/plain": [
       "285"
      ]
     },
     "execution_count": 36,
     "metadata": {},
     "output_type": "execute_result"
    }
   ],
   "source": [
    "sum(i*i for i in range(10))                 # sum of squares"
   ]
  },
  {
   "cell_type": "markdown",
   "metadata": {},
   "source": [
    "Install **psutil** and **memory_profiler** with conda or pip."
   ]
  },
  {
   "cell_type": "code",
   "execution_count": 37,
   "metadata": {
    "collapsed": true,
    "slideshow": {
     "slide_type": "fragment"
    }
   },
   "outputs": [],
   "source": [
    "%load_ext memory_profiler"
   ]
  },
  {
   "cell_type": "code",
   "execution_count": 38,
   "metadata": {
    "slideshow": {
     "slide_type": "fragment"
    }
   },
   "outputs": [
    {
     "name": "stdout",
     "output_type": "stream",
     "text": [
      "peak memory: 42.29 MiB, increment: 0.88 MiB\n"
     ]
    }
   ],
   "source": [
    "%memit doubles = [2 * n for n in range(10000)]"
   ]
  },
  {
   "cell_type": "code",
   "execution_count": 39,
   "metadata": {
    "slideshow": {
     "slide_type": "fragment"
    }
   },
   "outputs": [
    {
     "name": "stdout",
     "output_type": "stream",
     "text": [
      "peak memory: 42.24 MiB, increment: -0.07 MiB\n"
     ]
    }
   ],
   "source": [
    "%memit doubles = (2 * n for n in range(10000))"
   ]
  },
  {
   "cell_type": "code",
   "execution_count": 40,
   "metadata": {
    "slideshow": {
     "slide_type": "slide"
    }
   },
   "outputs": [
    {
     "name": "stdout",
     "output_type": "stream",
     "text": [
      "0 2 4 6 8 10 12 14 16 18 "
     ]
    }
   ],
   "source": [
    "# list comprehension\n",
    "doubles = [2 * n for n in range(10)]\n",
    "for x in doubles:\n",
    "    print(x, end=' ')"
   ]
  },
  {
   "cell_type": "code",
   "execution_count": 41,
   "metadata": {
    "slideshow": {
     "slide_type": "fragment"
    }
   },
   "outputs": [
    {
     "name": "stdout",
     "output_type": "stream",
     "text": [
      "0 2 4 6 8 10 12 14 16 18 "
     ]
    }
   ],
   "source": [
    "# generator expression\n",
    "doubles = (2 * n for n in range(10))\n",
    "for x in doubles:\n",
    "    print(x, end=' ')"
   ]
  },
  {
   "cell_type": "markdown",
   "metadata": {
    "slideshow": {
     "slide_type": "slide"
    }
   },
   "source": [
    "# Use class to store data and function\n",
    "\n",
    "- A empty class can be used to bundle together a few named data items. \n",
    "- You can easily save this class containing your data in JSON file."
   ]
  },
  {
   "cell_type": "code",
   "execution_count": 42,
   "metadata": {
    "collapsed": true,
    "slideshow": {
     "slide_type": "fragment"
    }
   },
   "outputs": [],
   "source": [
    "class Employee:\n",
    "    pass\n",
    "\n",
    "john = Employee()  # Create an empty employee record\n",
    "\n",
    "# Fill the fields of the record\n",
    "john.name = 'John Doe'\n",
    "john.dept = 'computer lab'\n",
    "john.salary = 1000"
   ]
  },
  {
   "cell_type": "markdown",
   "metadata": {
    "slideshow": {
     "slide_type": "slide"
    }
   },
   "source": [
    "# Exercise\n",
    "\n",
    "- Take the MyVector class to represent a vector in 2 dimensions space.\n",
    "- The `__mul__` function works for $u * v$ or $3 * u$ but not for $v * 2$. You need to \n",
    "overrride the `__rmul__` function.\n",
    "- Create a new class Particle, with parameters:  position vector, speed vector and mass.\n",
    "- Implement the *move(dt)* method to compute the new position of the particle after a time step *dt*.\n",
    "- Create the method *energy* returning the energy of the particle.\n",
    "- Create a class called ChargedParticle derived from Particle with a *charge* attribute.\n",
    "- Add a interact_with(other) method returning the [interaction force](https://en.wikipedia.org/wiki/Coulomb%27s_law) between two charged particles.\n"
   ]
  },
  {
   "cell_type": "markdown",
   "metadata": {
    "slideshow": {
     "slide_type": "slide"
    }
   },
   "source": [
    "<button data-toggle=\"collapse\" data-target=\"#particle\" class='btn btn-primary'>Solution</button>\n",
    "<div id=\"particle\" class=\"collapse\">\n",
    "```python\n",
    "from math import sqrt, pi\n",
    "\n",
    "from scipy.constants import epsilon_0\n",
    "\n",
    "c = 1.0 / (4 * pi * epsilon_0)\n",
    "\n",
    "class Vector:\n",
    "    def __init__(self, x=0, y=0):\n",
    "        self.x=x\n",
    "        self.y=y\n",
    "    def __eq__(self, vB):\n",
    "        return (self.x==vB.x) and (self.y==vB.y)\n",
    "    def __add__(self, vB):\n",
    "        return Vector(self.x+vB.x,self.y+vB.y)\n",
    "    def __sub__(self, vB):\n",
    "        return Vector(self.x-vB.x,self.y-vB.y)\n",
    "    def __mul__(self, c):\n",
    "        if isinstance(c,Vector):\n",
    "            return  self.x*c.x+self.y*c.y\n",
    "        else:\n",
    "            return Vector(c*self.x,c*self.y)\n",
    "    def __rmul__(self, c):\n",
    "        return self.__mul__(c)\n",
    "\n",
    "    def __repr__(self):\n",
    "        return \"(%s , %s)\" % (self.x,self.y)\n",
    "\n",
    "    def module(self):\n",
    "        return sqrt(self.x*self.x+self.y*self.y)\n",
    "\n",
    "class Particle:\n",
    "    def __init__(self, x=Vector(0,0), v=Vector(0,0)):\n",
    "        self.x = x\n",
    "        self.v = v\n",
    "        \n",
    "    def move(self, dt):\n",
    "        self.x +=  dt * self.v\n",
    "        \n",
    "    def __repr__(self):\n",
    "        return \"position %s; vitesse %s\" % (self.x,self.v)\n",
    "\n",
    "    def interact_with(self, other):\n",
    "        r = (self.x-other.v).module()\n",
    "        return c * (self.q * other.q) / r\n",
    "\n",
    "class Ion (Particle):\n",
    "   def __init__(self, x=Vector(0,0), v=Vector(0,0), masse=0.):\n",
    "      Particle.__init__(self, x, v)\n",
    "      self.mass = mass\n",
    "\n",
    "   @property\n",
    "   def energy(self):\n",
    "      return 0.5*self.mass*self.v*self.v\n",
    "        \n",
    "\n",
    "xp = Vector(3,4)\n",
    "vp = Vector(1,2)\n",
    "p  = Particle(xp,vp)\n",
    "print (p)\n",
    "p.move(1.)\n",
    "print (p)\n",
    "i = Ion(xp,vp,1.)\n",
    "i.move(-1.)\n",
    "print (i)\n",
    "print (\"Energy :\", i.energy)\n",
    "```"
   ]
  },
  {
   "cell_type": "markdown",
   "metadata": {
    "collapsed": true,
    "slideshow": {
     "slide_type": "slide"
    }
   },
   "source": [
    "# Exercise\n",
    "\n",
    "- Create a class representing a polynom.\n",
    "- Implement +,-,* operators\n",
    "- Implement print function.\n",
    "\n"
   ]
  }
 ],
 "metadata": {
  "celltoolbar": "Slideshow",
  "kernelspec": {
   "display_name": "Python 3",
   "language": "python",
   "name": "python3"
  },
  "language_info": {
   "codemirror_mode": {
    "name": "ipython",
    "version": 3
   },
   "file_extension": ".py",
   "mimetype": "text/x-python",
   "name": "python",
   "nbconvert_exporter": "python",
   "pygments_lexer": "ipython3",
   "version": "3.6.2"
  }
 },
 "nbformat": 4,
 "nbformat_minor": 2
}
