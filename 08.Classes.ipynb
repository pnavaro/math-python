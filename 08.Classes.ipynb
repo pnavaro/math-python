{
 "cells": [
  {
   "cell_type": "markdown",
   "metadata": {
    "slideshow": {
     "slide_type": "slide"
    }
   },
   "source": [
    "# Classes\n",
    "- Classes provide a means of bundling data and functionality together.\n",
    "- Creating a new class creates a *new type* of object.\n",
    "- Assigned variables are new *instances* of that type.\n",
    "- Each class instance can have *attributes* attached to it.\n",
    "- Class instances can also have *methods* for modifying its state.\n",
    "- Python classes provide the class inheritance mechanism.\n"
   ]
  },
  {
   "cell_type": "markdown",
   "metadata": {
    "slideshow": {
     "slide_type": "slide"
    }
   },
   "source": [
    "# Use class to store data\n",
    "\n",
    "- A empty class can be used to bundle together a few named data items. \n",
    "- You can easily save this class containing your data in JSON file."
   ]
  },
  {
   "cell_type": "code",
   "execution_count": 1,
   "metadata": {
    "slideshow": {
     "slide_type": "fragment"
    }
   },
   "outputs": [
    {
     "name": "stdout",
     "output_type": "stream",
     "text": [
      "{\"name\": \"John Doe\", \"dept\": \"computer lab\", \"salary\": 1000}"
     ]
    }
   ],
   "source": [
    "import json\n",
    "class Employee:\n",
    "    pass\n",
    "\n",
    "john = Employee()  # Create an empty employee record\n",
    "\n",
    "# Fill the fields of the record\n",
    "john.name = 'John Doe'\n",
    "john.dept = 'computer lab'\n",
    "john.salary = 1000\n",
    "\n",
    "with open('john.json','w') as f:\n",
    "    json.dump(john.__dict__,f)\n",
    "%cat john.json"
   ]
  },
  {
   "cell_type": "code",
   "execution_count": 5,
   "metadata": {
    "slideshow": {
     "slide_type": "slide"
    }
   },
   "outputs": [
    {
     "name": "stdout",
     "output_type": "stream",
     "text": [
      " Dog: 18 Kg, 4 years\n"
     ]
    },
    {
     "data": {
      "text/plain": [
       "2014"
      ]
     },
     "execution_count": 5,
     "metadata": {},
     "output_type": "execute_result"
    }
   ],
   "source": [
    "class Animal:\n",
    "    \n",
    "   \"A simple example class that writes its attributes i and j\"\n",
    "\n",
    "   def __init__(self, name, weight, age): # Constructor\n",
    "      self.name = name\n",
    "      self.weight = weight\n",
    "      self.age = age\n",
    "    \n",
    "   def birthyear(self): # method\n",
    "      import datetime\n",
    "      now = datetime.datetime.now()\n",
    "      return now.year - self.age\n",
    "\n",
    "dog = Animal('Dog', 18, 4)\n",
    "print(f' {dog.name}: {dog.weight} Kg, {dog.age} years')\n",
    "dog.birthyear()"
   ]
  },
  {
   "cell_type": "code",
   "execution_count": 6,
   "metadata": {
    "slideshow": {
     "slide_type": "slide"
    }
   },
   "outputs": [
    {
     "data": {
      "text/plain": [
       "2011"
      ]
     },
     "execution_count": 6,
     "metadata": {},
     "output_type": "execute_result"
    }
   ],
   "source": [
    "dog.age = 7\n",
    "dog.birthyear()"
   ]
  },
  {
   "cell_type": "markdown",
   "metadata": {
    "slideshow": {
     "slide_type": "fragment"
    }
   },
   "source": [
    "- `dog` is an *instance* of Animal Class.\n",
    "- `dog.birthdate` is a *method* of `Animal` instance `dog`.\n",
    "- `name` and `weight` are attributes of `Animal` instance `dog`."
   ]
  },
  {
   "cell_type": "markdown",
   "metadata": {
    "slideshow": {
     "slide_type": "slide"
    }
   },
   "source": [
    "# Method Overriding\n",
    "- Every Python classes has a `__repr__` method used when you call `print` function."
   ]
  },
  {
   "cell_type": "code",
   "execution_count": 12,
   "metadata": {
    "slideshow": {
     "slide_type": "fragment"
    }
   },
   "outputs": [
    {
     "name": "stdout",
     "output_type": "stream",
     "text": [
      "Pierre Navaro\n"
     ]
    },
    {
     "data": {
      "text/plain": [
       "46"
      ]
     },
     "execution_count": 12,
     "metadata": {},
     "output_type": "execute_result"
    }
   ],
   "source": [
    "class Person:\n",
    "    \"\"\"Simple example class with method overriding \"\"\"\n",
    "    def __init__(self, firstname, lastname, birthyear):\n",
    "        self.firstname = firstname\n",
    "        self.lastname = lastname\n",
    "        self.birthyear = birthyear\n",
    "    def __repr__(self):\n",
    "        return f\"{self.firstname} {self.lastname}\"\n",
    "    def age(self):\n",
    "        import datetime\n",
    "        now = datetime.datetime.now()\n",
    "        return now.year - self.birthyear\n",
    "\n",
    "me = Person('Pierre', 'Navaro', 1972)\n",
    "print(me)\n",
    "me.age()"
   ]
  },
  {
   "cell_type": "markdown",
   "metadata": {
    "slideshow": {
     "slide_type": "slide"
    }
   },
   "source": [
    "# Inheritance"
   ]
  },
  {
   "cell_type": "code",
   "execution_count": 13,
   "metadata": {
    "slideshow": {
     "slide_type": "fragment"
    }
   },
   "outputs": [
    {
     "name": "stdout",
     "output_type": "stream",
     "text": [
      "Pierre Navaro CNRS\n"
     ]
    },
    {
     "data": {
      "text/plain": [
       "46"
      ]
     },
     "execution_count": 13,
     "metadata": {},
     "output_type": "execute_result"
    }
   ],
   "source": [
    "class Employee(Person):  # Parent class is defined here\n",
    "    \n",
    "   \" Derived from MyClass with k attribute \"\n",
    "\n",
    "   def __init__(self, firstname, lastname, age, company):\n",
    "      super().__init__(firstname,lastname,age) # Call method in the parent class\n",
    "      self.company = company\n",
    "        \n",
    "   def __repr__(self):\n",
    "      return f\"{self.firstname} {self.lastname} {self.company}\"\n",
    "    \n",
    "me = Employee('Pierre', 'Navaro', 1972, 'CNRS')\n",
    "print(me)\n",
    "me.age()"
   ]
  },
  {
   "cell_type": "markdown",
   "metadata": {
    "slideshow": {
     "slide_type": "slide"
    }
   },
   "source": [
    "### Exercise: Grocery list item\n",
    "\n",
    "Let's create a class representing a Grocery list. First we need a class to represent an item of this Grocery list:\n",
    "- The `GroceryListItem` class has seven attributes:\n",
    "    - `name` (string)\n",
    "    - `category` (string)\n",
    "    - `vat_percentage` (double)\n",
    "    - `quantity` (integer)\n",
    "    - `ingredients` (list of strings)"
   ]
  },
  {
   "cell_type": "markdown",
   "metadata": {
    "slideshow": {
     "slide_type": "slide"
    }
   },
   "source": [
    "- The item class has three methods\n",
    "    - `get_total_vat` returns the VAT value.\n",
    "    - `get_total_price` returns the total price.\n",
    "\n",
    "Implement the `GroceryListItem` class and override the \\_\\_repr\\_\\_ method by returning the item name and its quantity."
   ]
  },
  {
   "cell_type": "markdown",
   "metadata": {
    "slideshow": {
     "slide_type": "slide"
    }
   },
   "source": [
    "```python\n",
    "beef = GroceryListItem(\"Beef\", 12.3, \"Meat\", 10, 2, [\"Beef\"])\n",
    "print(beef)\n",
    "print(f\"Total price : {beef.get_total_price():.2f} \\u20ac \")\n",
    "print(f\"Total VAT   : {beef.get_total_vat():.2f} \\u20ac \")\n",
    "```\n",
    "```pybt\n",
    "Beef x 2\n",
    "Total cut   : 0.0 € \n",
    "Total price : 27.060000000000002 € \n",
    "Total VAT   : 2.46 € \n",
    "```"
   ]
  },
  {
   "cell_type": "markdown",
   "metadata": {
    "slideshow": {
     "slide_type": "slide"
    }
   },
   "source": [
    "### Exercice: Grocery list\n",
    "\n",
    "Now you will implement the ShoppingList containing Item defined above.\n",
    "In this class you can add these functions:\n",
    "\n",
    "- `items_with_meat` return a list of items of 'Meat' category.\n",
    "- `prices_with_vat` return a dict with item names as keys and prices as values.\n",
    "- `ingredients_list` return a set of all ingredients contained in items.\n",
    "- `total_invoice` return the total price of the shopping list.\n",
    "- `total_for` return the total price for a category\n",
    "- `price_by_category` return a dict with category as key and the price as value.\n",
    "- `total_vat` return the total VAT amount.\n",
    "- `top_ingredients` ranks the `n` most frequently founded ingredients\n",
    "- `all_item_names` return a list of item names"
   ]
  },
  {
   "cell_type": "markdown",
   "metadata": {
    "slideshow": {
     "slide_type": "slide"
    }
   },
   "source": [
    "```python\n",
    "print(f\"Articles with meat are : {shopping_list.items_with_meat()}\")\n",
    "print(f\"Full prices are : {shopping_list.prices_with_vat()}\")\n",
    "print(f\"Ingredients : {shopping_list.ingredients_list()}\")\n",
    "print(f\"Total  : {shopping_list.total_invoice()}\")\n",
    "print(f\"Total for meat category : {shopping_list.total_for('Meat')}\")\n",
    "print(f\"Prices by category : {shopping_list.price_by_category()}\")\n",
    "print(f\"VAT amount : {shopping_list.total_vat()}\")\n",
    "print(f\"First three ingedients : {shopping_list.top_ingredients(3)}\")\n",
    "print(f\"All articles names : {shopping_list.all_item_names()}\")\n",
    "```\n",
    "```pytb\n",
    "Articles with meat are : [Beef x 2, Pork x 1]\n",
    "Full prices are : {'Beef': 27.060000000000002, 'Pork': 8.34955, 'Tomato Sauce': 6.6000000000000005, 'Beans': 17.325000000000003, 'Tuna': 7.199999999999999}\n",
    "Ingredients : {'Tomato', 'Preservatives', 'Fish', 'Sugar', 'Water', 'Beef', 'Salt', 'Beans', 'Oil', 'Pork'}\n",
    "Total  : 66.53455000000001\n",
    "Total for meat category : 35.40955\n",
    "Prices by category : {'Meat': 35.40955, 'Can': 31.125000000000004}\n",
    "VAT amount : 6.59405\n",
    "First three ingedients : ['Water', 'Salt', 'Beef']\n",
    "All articles names : ['Beef', 'Pork', 'Tomato Sauce', 'Beans', 'Tuna']\n",
    "```"
   ]
  },
  {
   "cell_type": "markdown",
   "metadata": {
    "slideshow": {
     "slide_type": "slide"
    }
   },
   "source": [
    "# Private Variables and Methods"
   ]
  },
  {
   "cell_type": "code",
   "execution_count": 14,
   "metadata": {
    "slideshow": {
     "slide_type": "fragment"
    }
   },
   "outputs": [],
   "source": [
    "class DemoClass:\n",
    "    \" Demo class for name mangling \"\n",
    "    def public_method(self):\n",
    "        return 'public!'\n",
    "    def __private_method(self):  # Note the use of leading underscores\n",
    "        return 'private!'\n",
    "\n",
    "object3 = DemoClass()"
   ]
  },
  {
   "cell_type": "code",
   "execution_count": 15,
   "metadata": {
    "slideshow": {
     "slide_type": "slide"
    }
   },
   "outputs": [
    {
     "data": {
      "text/plain": [
       "'public!'"
      ]
     },
     "execution_count": 15,
     "metadata": {},
     "output_type": "execute_result"
    }
   ],
   "source": [
    "object3.public_method()"
   ]
  },
  {
   "cell_type": "code",
   "execution_count": 16,
   "metadata": {
    "slideshow": {
     "slide_type": "fragment"
    }
   },
   "outputs": [
    {
     "ename": "AttributeError",
     "evalue": "'DemoClass' object has no attribute '__private_method'",
     "output_type": "error",
     "traceback": [
      "\u001b[0;31m---------------------------------------------------------------------------\u001b[0m",
      "\u001b[0;31mAttributeError\u001b[0m                            Traceback (most recent call last)",
      "\u001b[0;32m<ipython-input-16-5a4a6ba27511>\u001b[0m in \u001b[0;36m<module>\u001b[0;34m()\u001b[0m\n\u001b[0;32m----> 1\u001b[0;31m \u001b[0mobject3\u001b[0m\u001b[0;34m.\u001b[0m\u001b[0m__private_method\u001b[0m\u001b[0;34m(\u001b[0m\u001b[0;34m)\u001b[0m\u001b[0;34m\u001b[0m\u001b[0m\n\u001b[0m",
      "\u001b[0;31mAttributeError\u001b[0m: 'DemoClass' object has no attribute '__private_method'"
     ]
    }
   ],
   "source": [
    "object3.__private_method()"
   ]
  },
  {
   "cell_type": "code",
   "execution_count": 17,
   "metadata": {
    "slideshow": {
     "slide_type": "fragment"
    }
   },
   "outputs": [
    {
     "data": {
      "text/plain": [
       "['_DemoClass__private_method', 'public_method']"
      ]
     },
     "execution_count": 17,
     "metadata": {},
     "output_type": "execute_result"
    }
   ],
   "source": [
    "[ s for s in dir(object3) if \"method\" in s]"
   ]
  },
  {
   "cell_type": "code",
   "execution_count": 18,
   "metadata": {
    "slideshow": {
     "slide_type": "fragment"
    }
   },
   "outputs": [
    {
     "data": {
      "text/plain": [
       "'private!'"
      ]
     },
     "execution_count": 18,
     "metadata": {},
     "output_type": "execute_result"
    }
   ],
   "source": [
    "object3._DemoClass__private_method()"
   ]
  },
  {
   "cell_type": "code",
   "execution_count": 19,
   "metadata": {},
   "outputs": [
    {
     "data": {
      "text/plain": [
       "<bound method DemoClass.public_method of <__main__.DemoClass object at 0x110169da0>>"
      ]
     },
     "execution_count": 19,
     "metadata": {},
     "output_type": "execute_result"
    }
   ],
   "source": [
    "object3.public_method"
   ]
  },
  {
   "cell_type": "markdown",
   "metadata": {
    "slideshow": {
     "slide_type": "slide"
    }
   },
   "source": [
    "# Use `class` as a Function."
   ]
  },
  {
   "cell_type": "code",
   "execution_count": 21,
   "metadata": {
    "slideshow": {
     "slide_type": "fragment"
    }
   },
   "outputs": [
    {
     "data": {
      "text/plain": [
       "6"
      ]
     },
     "execution_count": 21,
     "metadata": {},
     "output_type": "execute_result"
    }
   ],
   "source": [
    "class Polynom:\n",
    "    \n",
    "   \" Class representing a polynom P(x) -> c_0+c_1*x+c_2*x^2+...\"\n",
    "    \n",
    "   def __init__(self, coeffs):\n",
    "      self.coeffs = coeffs\n",
    "        \n",
    "   def __call__(self, x):\n",
    "      return sum([coef*x**exp for exp,coef in enumerate(self.coeffs)])\n",
    "\n",
    "p = Polynom([2,4,-1])\n",
    "p(2) "
   ]
  },
  {
   "cell_type": "markdown",
   "metadata": {
    "slideshow": {
     "slide_type": "slide"
    }
   },
   "source": [
    "### Exercise: Polynomial\n",
    "\n",
    "- Create a class called Polynomial.\n",
    "- This class is built with a list containing the coefficients.\n",
    "- Create a method `diff(n)` to compute the nth derivative.\n",
    "- Override the __repr__ method to output a pretty printing.\n",
    "\n",
    "Hint: `f\"{coeff:+d}\"` forces to print sign before the value of integer coeff."
   ]
  },
  {
   "cell_type": "markdown",
   "metadata": {
    "slideshow": {
     "slide_type": "slide"
    }
   },
   "source": [
    "# Operators Overriding "
   ]
  },
  {
   "cell_type": "code",
   "execution_count": 57,
   "metadata": {
    "slideshow": {
     "slide_type": "fragment"
    }
   },
   "outputs": [],
   "source": [
    "class MyComplex:\n",
    "   \" Simple class to create vector with x and y coordinates\"\n",
    "   width = 7\n",
    "   precision = 3\n",
    "   def __init__(self, real=0, imag=0):\n",
    "      self.real = real\n",
    "      self.imag = imag\n",
    "   def __repr__(self):\n",
    "      return (f\"({self.real:{self.width}.{self.precision}f},\"\n",
    "              f\"{self.imag:+{self.width}.{self.precision}f}j)\")\n",
    "   def __eq__(self, other): # override '=='\n",
    "      return (self.real == other.real) and (self.imag == other.imag)\n",
    "    \n",
    "   def __add__(self, other): # override '+'\n",
    "      return MyComplex(self.real+other.real,self.imag+other.imag)\n",
    "    \n",
    "   def __sub__(self, other): # override '-'\n",
    "      return MyComplex(self.real-other.real,self.imag-other.imag)\n",
    "    \n",
    "   def __mul__(self, other): # override '*'\n",
    "      if isinstance(other,MyComplex):\n",
    "         return MyComplex(self.real * other.real - self.imag * other.imag,\n",
    "                          self.real * other.imag + self.imag * other.real)\n",
    "                \n",
    "      else:\n",
    "         return MyComplex(other*self.real,other*self.imag)"
   ]
  },
  {
   "cell_type": "code",
   "execution_count": 58,
   "metadata": {
    "slideshow": {
     "slide_type": "slide"
    }
   },
   "outputs": [
    {
     "data": {
      "text/plain": [
       "((  0.000, +1.000j), (  1.000, +0.000j))"
      ]
     },
     "execution_count": 58,
     "metadata": {},
     "output_type": "execute_result"
    }
   ],
   "source": [
    "u = MyComplex(0,1) \n",
    "v = MyComplex(1,0)\n",
    "u, v"
   ]
  },
  {
   "cell_type": "code",
   "execution_count": 59,
   "metadata": {
    "slideshow": {
     "slide_type": "fragment"
    }
   },
   "outputs": [
    {
     "data": {
      "text/plain": [
       "((  1.000, +1.000j), ( -1.000, +1.000j), (  0.000, +1.000j), False)"
      ]
     },
     "execution_count": 59,
     "metadata": {},
     "output_type": "execute_result"
    }
   ],
   "source": [
    "u+v, u-v, u*v, u==v"
   ]
  },
  {
   "cell_type": "markdown",
   "metadata": {
    "slideshow": {
     "slide_type": "fragment"
    }
   },
   "source": [
    "We can change the *class* attribute precision."
   ]
  },
  {
   "cell_type": "code",
   "execution_count": 61,
   "metadata": {
    "slideshow": {
     "slide_type": "fragment"
    }
   },
   "outputs": [
    {
     "name": "stdout",
     "output_type": "stream",
     "text": [
      "2\n",
      "(   0.00,  +1.00j)\n"
     ]
    }
   ],
   "source": [
    "MyComplex.precision=2\n",
    "print(u.precision)\n",
    "print(u)"
   ]
  },
  {
   "cell_type": "code",
   "execution_count": 63,
   "metadata": {
    "slideshow": {
     "slide_type": "fragment"
    }
   },
   "outputs": [
    {
     "data": {
      "text/plain": [
       "2"
      ]
     },
     "execution_count": 63,
     "metadata": {},
     "output_type": "execute_result"
    }
   ],
   "source": [
    "v.precision"
   ]
  },
  {
   "cell_type": "markdown",
   "metadata": {
    "slideshow": {
     "slide_type": "slide"
    }
   },
   "source": [
    "We can change the *instance* attribute precision."
   ]
  },
  {
   "cell_type": "code",
   "execution_count": 70,
   "metadata": {
    "slideshow": {
     "slide_type": "fragment"
    }
   },
   "outputs": [
    {
     "name": "stdout",
     "output_type": "stream",
     "text": [
      "(    0.0,   +1.0j)\n"
     ]
    }
   ],
   "source": [
    "u.precision=1\n",
    "print(u)"
   ]
  },
  {
   "cell_type": "code",
   "execution_count": 71,
   "metadata": {
    "slideshow": {
     "slide_type": "fragment"
    }
   },
   "outputs": [
    {
     "name": "stdout",
     "output_type": "stream",
     "text": [
      "(1.00000,+0.00000j)\n"
     ]
    }
   ],
   "source": [
    "print(v)"
   ]
  },
  {
   "cell_type": "code",
   "execution_count": 72,
   "metadata": {
    "slideshow": {
     "slide_type": "fragment"
    }
   },
   "outputs": [
    {
     "data": {
      "text/plain": [
       "(    0.0,   +1.0j)"
      ]
     },
     "execution_count": 72,
     "metadata": {},
     "output_type": "execute_result"
    }
   ],
   "source": [
    "MyComplex.precision=5\n",
    "u # set attribute keeps its value"
   ]
  },
  {
   "cell_type": "code",
   "execution_count": 73,
   "metadata": {
    "slideshow": {
     "slide_type": "fragment"
    }
   },
   "outputs": [
    {
     "data": {
      "text/plain": [
       "(1.00000,+0.00000j)"
      ]
     },
     "execution_count": 73,
     "metadata": {},
     "output_type": "execute_result"
    }
   ],
   "source": [
    "v # unset attribute is set to the new value"
   ]
  },
  {
   "cell_type": "markdown",
   "metadata": {
    "slideshow": {
     "slide_type": "slide"
    }
   },
   "source": [
    "## Rational example"
   ]
  },
  {
   "cell_type": "code",
   "execution_count": 75,
   "metadata": {
    "slideshow": {
     "slide_type": "fragment"
    }
   },
   "outputs": [],
   "source": [
    "class Rational:\n",
    "    \"\"\" Class representing a rational number\"\"\"\n",
    "    def __init__(self, n, d):\n",
    "        assert isinstance(n, int) and isinstance(d, int)\n",
    "        def gcd(x, y):\n",
    "            if   x == 0: return y\n",
    "            elif x < 0 : return gcd(-x, y)\n",
    "            elif y < 0 : return -gcd(x, -y)\n",
    "            else : return gcd(y % x, x)\n",
    "        g = gcd(n, d)\n",
    "        self.numer = n//g\n",
    "        self.denom = d//g\n",
    "  \n",
    "    def __add__(self, other):\n",
    "        return Rational(self.numer * other.denom + other.numer * self.denom,\n",
    "                 self.denom * other.denom)\n",
    "    \n",
    "    def __sub__ (self, other):\n",
    "        return Rational(self.numer * other.denom - other.numer * self.denom,\n",
    "                 self.denom * other.denom)\n",
    "    \n",
    "    def __mul__(self, other):\n",
    "        return Rational(self.numer * other.numer, self.denom * other.denom)\n",
    "    \n",
    "    def __truediv__(self, other) :\n",
    "        return Rational(self.numer * other.denom, self.denom * other.numer)\n",
    "  \n",
    "    def __repr__(self):\n",
    "        return f\"{self.numer:d} / {self.denom:d}\""
   ]
  },
  {
   "cell_type": "code",
   "execution_count": 77,
   "metadata": {
    "slideshow": {
     "slide_type": "slide"
    }
   },
   "outputs": [
    {
     "data": {
      "text/plain": [
       "(17 / 12, -1 / 12, 1 / 2, 8 / 9)"
      ]
     },
     "execution_count": 77,
     "metadata": {},
     "output_type": "execute_result"
    }
   ],
   "source": [
    "r1 = Rational(2,3)\n",
    "r2 = Rational(3,4)\n",
    "r1+r2, r1-r2, r1*r2, r1/r2"
   ]
  },
  {
   "cell_type": "markdown",
   "metadata": {
    "slideshow": {
     "slide_type": "slide"
    }
   },
   "source": [
    "### Exercise \n",
    "Improve the class Polynom by implementing operations:\n",
    "- Overrides '+' operator (__add__)\n",
    "- Overrides '-' operator (__neg__)\n",
    "- Overrides '==' operator (__eq__)\n",
    "- Overrides '*' operator (__mul__)"
   ]
  },
  {
   "cell_type": "markdown",
   "metadata": {
    "collapsed": true,
    "slideshow": {
     "slide_type": "slide"
    }
   },
   "source": [
    "# Iterators\n",
    "Most container objects can be looped over using a for statement:"
   ]
  },
  {
   "cell_type": "code",
   "execution_count": 78,
   "metadata": {
    "slideshow": {
     "slide_type": "fragment"
    }
   },
   "outputs": [
    {
     "name": "stdout",
     "output_type": "stream",
     "text": [
      "1 2 3 \n",
      "1 2 3 \n",
      "one two \n",
      "1 2 3 \n",
      "{\"name\": \"John Doe\", \"dept\": \"computer lab\", \"salary\": 1000}"
     ]
    }
   ],
   "source": [
    "for element in [1, 2, 3]:\n",
    "    print(element, end=' ')\n",
    "print()\n",
    "for element in (1, 2, 3):\n",
    "    print(element, end= ' ')\n",
    "print()\n",
    "for key in {'one':1, 'two':2}:\n",
    "    print(key, end= ' ')\n",
    "print()\n",
    "for char in \"123\":\n",
    "    print(char, end= ' ')\n",
    "print()\n",
    "for line in open(\"john.json\"):\n",
    "    print(line, end='')"
   ]
  },
  {
   "cell_type": "markdown",
   "metadata": {
    "slideshow": {
     "slide_type": "slide"
    }
   },
   "source": [
    "- The `for` statement calls `iter()` on the container object. \n",
    "- The function returns an iterator object that defines the method `__next__()`\n",
    "- To add iterator behavior to your classes: \n",
    "    - Define an `__iter__()` method which returns an object with a `__next__()`.\n",
    "    - If the class defines `__next__()`, then `__iter__()` can just return self.\n",
    "    - The **StopIteration** exception indicates the end of the loop."
   ]
  },
  {
   "cell_type": "code",
   "execution_count": 79,
   "metadata": {
    "slideshow": {
     "slide_type": "fragment"
    }
   },
   "outputs": [
    {
     "data": {
      "text/plain": [
       "<str_iterator at 0x1101a1358>"
      ]
     },
     "execution_count": 79,
     "metadata": {},
     "output_type": "execute_result"
    }
   ],
   "source": [
    "s = 'abc'\n",
    "it = iter(s)\n",
    "it"
   ]
  },
  {
   "cell_type": "code",
   "execution_count": 80,
   "metadata": {
    "slideshow": {
     "slide_type": "fragment"
    }
   },
   "outputs": [
    {
     "data": {
      "text/plain": [
       "('a', 'b', 'c')"
      ]
     },
     "execution_count": 80,
     "metadata": {},
     "output_type": "execute_result"
    }
   ],
   "source": [
    "next(it), next(it), next(it)"
   ]
  },
  {
   "cell_type": "code",
   "execution_count": 81,
   "metadata": {
    "slideshow": {
     "slide_type": "slide"
    }
   },
   "outputs": [],
   "source": [
    "class Reverse:\n",
    "    \"\"\"Iterator for looping over a sequence backwards.\"\"\"\n",
    "    def __init__(self, data):\n",
    "        self.data = data\n",
    "        self.index = len(data)\n",
    "\n",
    "    def __iter__(self):\n",
    "        return self\n",
    "\n",
    "    def __next__(self):\n",
    "        if self.index == 0:\n",
    "            raise StopIteration\n",
    "        self.index = self.index - 1\n",
    "        return self.data[self.index]"
   ]
  },
  {
   "cell_type": "code",
   "execution_count": 82,
   "metadata": {
    "slideshow": {
     "slide_type": "fragment"
    }
   },
   "outputs": [
    {
     "name": "stdout",
     "output_type": "stream",
     "text": [
      "maps"
     ]
    }
   ],
   "source": [
    "rev = Reverse('spam')\n",
    "for char in rev:\n",
    "    print(char, end='')"
   ]
  },
  {
   "cell_type": "markdown",
   "metadata": {
    "slideshow": {
     "slide_type": "slide"
    }
   },
   "source": [
    "# Generators\n",
    "- Generators are a simple and powerful tool for creating iterators.\n",
    "- Write regular functions but use the yield statement when you want to return data.\n",
    "- the `__iter__()` and `__next__()` methods are created automatically.\n"
   ]
  },
  {
   "cell_type": "code",
   "execution_count": 83,
   "metadata": {
    "slideshow": {
     "slide_type": "fragment"
    }
   },
   "outputs": [],
   "source": [
    "def reverse(data):\n",
    "    for index in range(len(data)-1, -1, -1):\n",
    "        yield data[index]"
   ]
  },
  {
   "cell_type": "code",
   "execution_count": 88,
   "metadata": {
    "slideshow": {
     "slide_type": "fragment"
    }
   },
   "outputs": [
    {
     "name": "stdout",
     "output_type": "stream",
     "text": [
      "zorglub"
     ]
    }
   ],
   "source": [
    "for char in reverse('bulgroz'):\n",
    "     print(char, end='')"
   ]
  },
  {
   "cell_type": "markdown",
   "metadata": {
    "slideshow": {
     "slide_type": "slide"
    }
   },
   "source": [
    "# Generator Expressions\n",
    "\n",
    "- Use a syntax similar to list comprehensions but with parentheses instead of brackets.\n",
    "- Tend to be more memory friendly than equivalent list comprehensions."
   ]
  },
  {
   "cell_type": "code",
   "execution_count": 89,
   "metadata": {
    "slideshow": {
     "slide_type": "fragment"
    }
   },
   "outputs": [
    {
     "data": {
      "text/plain": [
       "285"
      ]
     },
     "execution_count": 89,
     "metadata": {},
     "output_type": "execute_result"
    }
   ],
   "source": [
    "sum(i*i for i in range(10))                 # sum of squares"
   ]
  },
  {
   "cell_type": "code",
   "execution_count": 90,
   "metadata": {
    "slideshow": {
     "slide_type": "fragment"
    }
   },
   "outputs": [],
   "source": [
    "%load_ext memory_profiler"
   ]
  },
  {
   "cell_type": "code",
   "execution_count": 91,
   "metadata": {
    "slideshow": {
     "slide_type": "fragment"
    }
   },
   "outputs": [
    {
     "name": "stdout",
     "output_type": "stream",
     "text": [
      "peak memory: 64.78 MiB, increment: 0.62 MiB\n"
     ]
    }
   ],
   "source": [
    "%memit doubles = [2 * n for n in range(10000)]"
   ]
  },
  {
   "cell_type": "code",
   "execution_count": 92,
   "metadata": {
    "slideshow": {
     "slide_type": "fragment"
    }
   },
   "outputs": [
    {
     "name": "stdout",
     "output_type": "stream",
     "text": [
      "peak memory: 64.78 MiB, increment: 0.00 MiB\n"
     ]
    }
   ],
   "source": [
    "%memit doubles = (2 * n for n in range(10000))"
   ]
  },
  {
   "cell_type": "code",
   "execution_count": 93,
   "metadata": {
    "slideshow": {
     "slide_type": "slide"
    }
   },
   "outputs": [
    {
     "name": "stdout",
     "output_type": "stream",
     "text": [
      "0 2 4 6 8 10 12 14 16 18 "
     ]
    }
   ],
   "source": [
    "# list comprehension\n",
    "doubles = [2 * n for n in range(10)]\n",
    "for x in doubles:\n",
    "    print(x, end=' ')"
   ]
  },
  {
   "cell_type": "code",
   "execution_count": 94,
   "metadata": {
    "slideshow": {
     "slide_type": "fragment"
    }
   },
   "outputs": [
    {
     "name": "stdout",
     "output_type": "stream",
     "text": [
      "0 2 4 6 8 10 12 14 16 18 "
     ]
    }
   ],
   "source": [
    "# generator expression\n",
    "doubles = (2 * n for n in range(10))\n",
    "for x in doubles:\n",
    "    print(x, end=' ')"
   ]
  },
  {
   "cell_type": "markdown",
   "metadata": {
    "slideshow": {
     "slide_type": "slide"
    }
   },
   "source": [
    "### Exercise\n",
    "\n",
    "The [Chebyshev polynomials](https://en.wikipedia.org/wiki/Chebyshev_polynomials) of the first kind are defined by the recurrence relation\n",
    "$$\n",
    "\\begin{eqnarray}\n",
    "T_o(x) &=& 1 \\\\\n",
    "T_1(x) &=& x \\\\\n",
    "T_{n+1} &=& 2xT_n(x)-T_{n-1}(x)\n",
    "\\end{eqnarray}\n",
    "$$\n",
    "- Create a class `Chebyshev` that generates the sequence of Chebyshev polynomials"
   ]
  }
 ],
 "metadata": {
  "celltoolbar": "Slideshow",
  "kernelspec": {
   "display_name": "Python 3",
   "language": "python",
   "name": "python3"
  },
  "language_info": {
   "codemirror_mode": {
    "name": "ipython",
    "version": 3
   },
   "file_extension": ".py",
   "mimetype": "text/x-python",
   "name": "python",
   "nbconvert_exporter": "python",
   "pygments_lexer": "ipython3",
   "version": "3.6.5"
  }
 },
 "nbformat": 4,
 "nbformat_minor": 2
}
