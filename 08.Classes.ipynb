{
 "cells": [
  {
   "cell_type": "markdown",
   "metadata": {
    "slideshow": {
     "slide_type": "slide"
    }
   },
   "source": [
    "# Classes\n",
    "- Classes provide a means of bundling data and functionality together.\n",
    "- Creating a new class creates a *new type* of object.\n",
    "- Assigned variables are new *instances* of that type.\n",
    "- Each class instance can have *attributes* attached to it.\n",
    "- Class instances can also have *methods* for modifying its state.\n",
    "- Python classes provide the class inheritance mechanism.\n"
   ]
  },
  {
   "cell_type": "code",
   "execution_count": 1,
   "metadata": {
    "slideshow": {
     "slide_type": "slide"
    }
   },
   "outputs": [
    {
     "name": "stdout",
     "output_type": "stream",
     "text": [
      "6 9\n",
      "A simple example class that writes its attributes i and j\n",
      "MyClass: i, j = 6, 9\n"
     ]
    }
   ],
   "source": [
    "class MyFirstClass:\n",
    "    \n",
    "   \"A simple example class that writes its attributes i and j\"\n",
    "\n",
    "   def __init__(self, i, j): # Constructor\n",
    "      self.i = i\n",
    "      self.j = j\n",
    "    \n",
    "   def f(self): # method\n",
    "      print(\"MyClass: i, j = {}, {}\".format(self.i,self.j))\n",
    "\n",
    "object1 = MyFirstClass(6,9)\n",
    "print(object1.i, object1.j)\n",
    "print(MyFirstClass.__doc__)\n",
    "object1.f()"
   ]
  },
  {
   "cell_type": "markdown",
   "metadata": {
    "slideshow": {
     "slide_type": "fragment"
    }
   },
   "source": [
    "- `object1` is an *instance* of MyClass.\n",
    "- `object1.f` is a *method* of `MyFirstClass` instance `object1`.\n",
    "- `i` and `j` are attributes of `MyFirstClass` instance `object1`."
   ]
  },
  {
   "cell_type": "markdown",
   "metadata": {
    "slideshow": {
     "slide_type": "slide"
    }
   },
   "source": [
    "# Method Overriding\n",
    "- Every Python classes has a `__repr__` method used when you call `print` function."
   ]
  },
  {
   "cell_type": "code",
   "execution_count": 2,
   "metadata": {
    "slideshow": {
     "slide_type": "fragment"
    }
   },
   "outputs": [],
   "source": [
    "class MyClass:\n",
    "   \"\"\"Simple example class with method overriding \"\"\"\n",
    "   def __init__(self, i, j):\n",
    "      self.i = i\n",
    "      self.j = j\n",
    "   def __repr__(self):\n",
    "      return \"MyClass: i, j = {}, {}\".format(self.i,self.j)\n",
    "\n",
    "object2 = MyClass(6,9)"
   ]
  },
  {
   "cell_type": "code",
   "execution_count": 3,
   "metadata": {
    "slideshow": {
     "slide_type": "fragment"
    }
   },
   "outputs": [
    {
     "name": "stdout",
     "output_type": "stream",
     "text": [
      "<__main__.MyFirstClass object at 0x108e2f860>\n",
      "MyClass: i, j = 6, 9\n"
     ]
    }
   ],
   "source": [
    "print(object1)\n",
    "print(object2)"
   ]
  },
  {
   "cell_type": "markdown",
   "metadata": {},
   "source": [
    "## Exercise\n",
    "\n",
    "Let's create a class representing a Grocery list. First we need a class to represent an item of this Grocery list:\n",
    "- The `Item` class has seven attributes:\n",
    "    - `name` (string)\n",
    "    - `price_without_cut` (double)\n",
    "    - `cut_percentage` (double)\n",
    "    - `category` (string)\n",
    "    - `vat_percentage` (double)\n",
    "    - `quantity` (integer)\n",
    "    - `ingredients` (list of strings)\n",
    "- The item class has three methods\n",
    "    - `get_total_vat` returns the VAT value.\n",
    "    - `get_total_price` returns the total price.\n",
    "    - `get_total_cut` returns the total cut.\n",
    "\n",
    "Implement the `Item` class and override the __repr__ method by returning the item name."
   ]
  },
  {
   "cell_type": "code",
   "execution_count": 44,
   "metadata": {},
   "outputs": [
    {
     "name": "stdout",
     "output_type": "stream",
     "text": [
      "Beef\n",
      "Total cut   : 0.0 € \n",
      "Total price : 27.060000000000002 € \n",
      "Total VAT   : 2.46 € \n"
     ]
    }
   ],
   "source": [
    "class Item:\n",
    "    \n",
    "    \" Grocery list item \"\n",
    "\n",
    "    def __init__(self, name, price_without_cut, cut_percentage, category,\n",
    "                 vat_percentage, quantity, ingredients):\n",
    "        self.name = name\n",
    "        self.price_without_cut = price_without_cut\n",
    "        self.cut_percentage = cut_percentage\n",
    "        self.category = category\n",
    "        self.vat_percentage = vat_percentage\n",
    "        self.quantity = quantity\n",
    "        self.ingredients = ingredients\n",
    "\n",
    "    def get_total_price(self):\n",
    "        return self.price_without_cut*(1+self.vat_percentage/100)*(1-self.cut_percentage/100)*self.quantity\n",
    "\n",
    "    def get_total_vat(self):\n",
    "        return self.price_without_cut*self.vat_percentage/100*(1-self.cut_percentage/100)*self.quantity\n",
    "\n",
    "    def get_total_cut(self):\n",
    "        return self.price_without_cut*(1+self.vat_percentage/100)*self.cut_percentage/100*self.quantity\n",
    "\n",
    "    def __repr__(self):\n",
    "        return self.name\n",
    "\n",
    "\n",
    "beef = Item(\"Beef\", 12.3, 0, \"Meat\", 10, 2, [\"Beef\"])\n",
    "print(beef)\n",
    "print(\"Total cut   : {} \\u20ac \".format(beef.get_total_cut()))\n",
    "print(\"Total price : {} \\u20ac \".format(beef.get_total_price()))\n",
    "print(\"Total VAT   : {} \\u20ac \".format(beef.get_total_vat()))"
   ]
  },
  {
   "cell_type": "code",
   "execution_count": 49,
   "metadata": {},
   "outputs": [],
   "source": [
    "from operator import itemgetter\n",
    "\n",
    "class ShoppingList:\n",
    "\n",
    "    def __init__(self, *args):\n",
    "\n",
    "        self.items = args\n",
    "\n",
    "    def items_with_meat(self):\n",
    "        return [repr(a) for a in self.items if a.category == \"Meat\"]\n",
    "\n",
    "    def prices_with_vat(self):\n",
    "        res = {}\n",
    "        for a in self.items:\n",
    "            res[a.name] = a.get_total_price()\n",
    "        return res\n",
    "\n",
    "    def ingredients_list(self):\n",
    "        res = []\n",
    "        for a in self.items:\n",
    "            res += a.ingredients\n",
    "        return set(res)\n",
    "\n",
    "    def total_invoice(self):       \n",
    "        return sum([a.get_total_price() for a in self.items])\n",
    "\n",
    "    def total_for(self, category):\n",
    "        return sum([a.get_total_price() for a in self.items if a.category == category])\n",
    "\n",
    "    def price_by_category(self):\n",
    "        res = {}\n",
    "        for a in self.items:\n",
    "            try:\n",
    "                res[a.category] += a.get_total_price()\n",
    "            except KeyError:\n",
    "                res[a.category] = a.get_total_price()\n",
    "        return res\n",
    "\n",
    "    def total_vat(self):\n",
    "        return sum([a.get_total_vat() for a in self.items])\n",
    "\n",
    "    def total_cut(self):\n",
    "        return sum([a.get_total_cut() for a in self.items])\n",
    "\n",
    "    def top_ingredients(self, n):\n",
    "        res = {}\n",
    "        for a in self.items:\n",
    "            for i in a.ingredients:\n",
    "                try:\n",
    "                    res[i] += 1\n",
    "                except KeyError:\n",
    "                    res[i] = 1\n",
    "        return sorted(res, key=itemgetter(1))[:n]                \n",
    "\n",
    "    def all_item_names(self):\n",
    "        return [a.name for a in self.items]\n",
    "\n",
    "    def __getitem__(self, index):\n",
    "        return self.items[index]\n",
    "\n",
    "    def __len__(self):\n",
    "        return len(self.items)\n",
    "\n",
    "    def __iter__(self):\n",
    "        yield from self.items"
   ]
  },
  {
   "cell_type": "code",
   "execution_count": 64,
   "metadata": {},
   "outputs": [
    {
     "name": "stdout",
     "output_type": "stream",
     "text": [
      "(Beef, Pork, Tomato Sauce, Beans, Tuna)\n",
      "5\n",
      "(Tuna, Beans, Tomato Sauce, Pork, Beef)\n",
      "  Beef            x  2 =   27.06 €\n",
      "  Pork            x  1 =    8.35 €\n",
      "  Tomato Sauce    x  3 =    6.60 €\n",
      "  Beans           x  5 =   17.33 €\n",
      "  Tuna            x  4 =    7.20 €\n"
     ]
    }
   ],
   "source": [
    "shopping_list = ShoppingList(\n",
    "    Item(\"Beef\", 12.3, 0, \"Meat\", 10, 2, [\"Beef\"]),\n",
    "    Item(\"Pork\", 7.99, 5, \"Meat\", 10, 1, [\"Pork\"]),\n",
    "    Item(\"Tomato Sauce\", 2, 0, \"Can\", 10, 3, [\"Tomato\", \"Water\", \"Salt\", \"Sugar\", \"Preservatives\"]),\n",
    "    Item(\"Beans\", 3.5, 10, \"Can\", 10, 5, [\"Beans\", \"Water\", \"Salt\", \"Preservatives\"]),\n",
    "    Item(\"Tuna\", 1.50, 0, \"Can\", 20, 4, [\"Fish\", \"Oil\", \"Salt\", \"Water\", \"Preservatives\"])\n",
    ")\n",
    "\n",
    "print(shopping_list.items)\n",
    "print(len(shopping_list))\n",
    "print(shopping_list[::-1])\n",
    "for item in shopping_list:\n",
    "    print(f\"  {item.name:15s} x {item.quantity:2d} = {item.get_total_price():7.2f} \\u20ac\" )"
   ]
  },
  {
   "cell_type": "code",
   "execution_count": 65,
   "metadata": {},
   "outputs": [
    {
     "name": "stdout",
     "output_type": "stream",
     "text": [
      "Articles with meat are : ['Beef', 'Pork']\n",
      "Full prices are : {'Beef': 27.060000000000002, 'Pork': 8.34955, 'Tomato Sauce': 6.6000000000000005, 'Beans': 17.325000000000003, 'Tuna': 7.199999999999999}\n",
      "Ingredients : {'Sugar', 'Beef', 'Beans', 'Fish', 'Pork', 'Oil', 'Preservatives', 'Water', 'Tomato', 'Salt'}\n",
      "Total  : 66.53455000000001\n",
      "Total for meat category : 35.40955\n",
      "Prices by category : {'Meat': 35.40955, 'Can': 31.125000000000004}\n",
      "VAT amount : 6.59405\n",
      "Cut value : 2.36445\n",
      "First three ingedients : ['Water', 'Salt', 'Beef']\n",
      "All articles names : ['Beef', 'Pork', 'Tomato Sauce', 'Beans', 'Tuna']\n"
     ]
    }
   ],
   "source": [
    "print(f\"Articles with meat are : {shopping_list.items_with_meat()}\")\n",
    "print(f\"Full prices are : {shopping_list.prices_with_vat()}\")\n",
    "print(f\"Ingredients : {shopping_list.ingredients_list()}\")\n",
    "print(f\"Total  : {shopping_list.total_invoice()}\")\n",
    "print(f\"Total for meat category : {shopping_list.total_for('Meat')}\")\n",
    "print(f\"Prices by category : {shopping_list.price_by_category()}\")\n",
    "print(f\"VAT amount : {shopping_list.total_vat()}\")\n",
    "print(f\"Cut value : {shopping_list.total_cut()}\")\n",
    "print(f\"First three ingedients : {shopping_list.top_ingredients(3)}\")\n",
    "print(f\"All articles names : {shopping_list.all_item_names()}\")"
   ]
  },
  {
   "cell_type": "markdown",
   "metadata": {
    "slideshow": {
     "slide_type": "slide"
    }
   },
   "source": [
    "# Inheritance"
   ]
  },
  {
   "cell_type": "code",
   "execution_count": 4,
   "metadata": {
    "slideshow": {
     "slide_type": "fragment"
    }
   },
   "outputs": [
    {
     "name": "stdout",
     "output_type": "stream",
     "text": [
      "MyClass: i, j = 6, 9\n",
      "MyDerivedClass: i, j, k = 6, 9, 12\n"
     ]
    }
   ],
   "source": [
    "class MyDerivedClass(MyClass):\n",
    "   \" Derived from MyClass with k attribute \"\n",
    "   def __init__(self, i, j, k):\n",
    "      super().__init__(i,j) # Call method in the parent class\n",
    "      self.k = k\n",
    "   def __repr__(self):\n",
    "      return \"MyDerivedClass: i, j, k = {}, {}, {}\".format(self.i,self.j,self.k)\n",
    "    \n",
    "object1 = MyClass(6,9)\n",
    "print(object1)\n",
    "object2 = MyDerivedClass(6,9,12)\n",
    "print(object2)"
   ]
  },
  {
   "cell_type": "markdown",
   "metadata": {
    "slideshow": {
     "slide_type": "slide"
    }
   },
   "source": [
    "# Private Variables and Methods"
   ]
  },
  {
   "cell_type": "code",
   "execution_count": 5,
   "metadata": {
    "slideshow": {
     "slide_type": "fragment"
    }
   },
   "outputs": [],
   "source": [
    "class DemoClass:\n",
    "    \" Demo class for name mangling \"\n",
    "    def public_method(self):\n",
    "        return 'public!'\n",
    "    def __private_method(self):  # Note the use of leading underscores\n",
    "        return 'private!'\n",
    "\n",
    "object3 = DemoClass()"
   ]
  },
  {
   "cell_type": "code",
   "execution_count": 6,
   "metadata": {
    "slideshow": {
     "slide_type": "fragment"
    }
   },
   "outputs": [
    {
     "data": {
      "text/plain": [
       "'public!'"
      ]
     },
     "execution_count": 6,
     "metadata": {},
     "output_type": "execute_result"
    }
   ],
   "source": [
    "object3.public_method()"
   ]
  },
  {
   "cell_type": "code",
   "execution_count": 7,
   "metadata": {
    "slideshow": {
     "slide_type": "fragment"
    }
   },
   "outputs": [
    {
     "ename": "AttributeError",
     "evalue": "'DemoClass' object has no attribute '__private_method'",
     "output_type": "error",
     "traceback": [
      "\u001b[0;31m---------------------------------------------------------------------------\u001b[0m",
      "\u001b[0;31mAttributeError\u001b[0m                            Traceback (most recent call last)",
      "\u001b[0;32m<ipython-input-7-5a4a6ba27511>\u001b[0m in \u001b[0;36m<module>\u001b[0;34m()\u001b[0m\n\u001b[0;32m----> 1\u001b[0;31m \u001b[0mobject3\u001b[0m\u001b[0;34m.\u001b[0m\u001b[0m__private_method\u001b[0m\u001b[0;34m(\u001b[0m\u001b[0;34m)\u001b[0m\u001b[0;34m\u001b[0m\u001b[0m\n\u001b[0m",
      "\u001b[0;31mAttributeError\u001b[0m: 'DemoClass' object has no attribute '__private_method'"
     ]
    }
   ],
   "source": [
    "object3.__private_method()"
   ]
  },
  {
   "cell_type": "code",
   "execution_count": 8,
   "metadata": {
    "slideshow": {
     "slide_type": "slide"
    }
   },
   "outputs": [
    {
     "data": {
      "text/plain": [
       "['_DemoClass__private_method', 'public_method']"
      ]
     },
     "execution_count": 8,
     "metadata": {},
     "output_type": "execute_result"
    }
   ],
   "source": [
    "[ s for s in dir(object3) if \"method\" in s]"
   ]
  },
  {
   "cell_type": "code",
   "execution_count": 9,
   "metadata": {
    "slideshow": {
     "slide_type": "fragment"
    }
   },
   "outputs": [
    {
     "data": {
      "text/plain": [
       "'private!'"
      ]
     },
     "execution_count": 9,
     "metadata": {},
     "output_type": "execute_result"
    }
   ],
   "source": [
    "object3._DemoClass__private_method()"
   ]
  },
  {
   "cell_type": "markdown",
   "metadata": {
    "slideshow": {
     "slide_type": "slide"
    }
   },
   "source": [
    "# Use `class` as a Function."
   ]
  },
  {
   "cell_type": "code",
   "execution_count": 10,
   "metadata": {
    "slideshow": {
     "slide_type": "fragment"
    }
   },
   "outputs": [
    {
     "data": {
      "text/plain": [
       "9"
      ]
     },
     "execution_count": 10,
     "metadata": {},
     "output_type": "execute_result"
    }
   ],
   "source": [
    "class F:\n",
    "    \n",
    "   \" Class to create function f:x,y -> a+b*x+c*y**2\"\n",
    "    \n",
    "   def __init__(self, a=1, b=1, c=1):\n",
    "      self.a=a\n",
    "      self.b=b\n",
    "      self.c=c\n",
    "        \n",
    "   def __call__(self, x, y):\n",
    "      return self.a+self.b*x+self.c*y*y\n",
    "\n",
    "f = F(a=2,b=4,c=-1)\n",
    "f(2,1) "
   ]
  },
  {
   "cell_type": "markdown",
   "metadata": {
    "slideshow": {
     "slide_type": "slide"
    }
   },
   "source": [
    "### Exercise: Polynomial\n",
    "\n",
    "- Create a class called Polynomial.\n",
    "- This class is built with a list containing the coefficients.\n",
    "- Create a method `diff(n)` to compute the nth derivative.\n",
    "- Override the __repr__ method to output a pretty printing.\n",
    "\n",
    "Hint: `\"{0:+d}\".format(coeff)` forces to print before the value of integer coeff."
   ]
  },
  {
   "cell_type": "markdown",
   "metadata": {},
   "source": [
    "<button data-toggle=\"collapse\" data-target=\"#polynom\" class='btn btn-primary'>Solution</button>\n",
    "<div id=\"polynom\" class=\"collapse\">\n",
    "```python\n",
    "class Polynomial:\n",
    "    \"\"\" Polynomial \"\"\"\n",
    "    def __init__( self, coefficients):\n",
    "        self.coeffs = coefficients\n",
    "        self.degree = len(coefficients)\n",
    "\n",
    "    def diff(self, n):\n",
    "        \"\"\" Return the nth derivative \"\"\"\n",
    "        coeffs = self.coeffs[:]\n",
    "        for k in range(n):\n",
    "            coeffs = [i * coeffs[i] for i in range(1,len(coeffs))]\n",
    "        return Polynomial(coeffs)\n",
    "\n",
    "    def __repr__(self):\n",
    "        output = \"\"\n",
    "        for i, c  in enumerate(self.coeffs):\n",
    "            output += \"{0:+d}x^{1}\".format(c,i)\n",
    "        return output\n",
    "\n",
    "    def pprint(self):\n",
    "        from IPython.display import Math, display\n",
    "        display(Math(self.__repr__()))\n",
    "\n",
    "P = Polynomial([-1,-1,1,-1,1])\n",
    "Q = P.diff(1)\n",
    "print(P)\n",
    "print(Q)\n",
    "```"
   ]
  },
  {
   "cell_type": "markdown",
   "metadata": {
    "slideshow": {
     "slide_type": "slide"
    }
   },
   "source": [
    "# Operators Overriding "
   ]
  },
  {
   "cell_type": "markdown",
   "metadata": {
    "slideshow": {
     "slide_type": "slide"
    }
   },
   "source": [
    "We can change the *class* attribute dimension."
   ]
  },
  {
   "cell_type": "code",
   "execution_count": 11,
   "metadata": {
    "slideshow": {
     "slide_type": "fragment"
    }
   },
   "outputs": [],
   "source": [
    "class MyVector:\n",
    "   \" Simple class to create vector with x and y coordinates\"\n",
    "   dimension = 2 \n",
    "   def __init__(self, x=0, y=0):\n",
    "      self.x=x\n",
    "      self.y=y\n",
    "        \n",
    "   def __eq__(self, vB): # override '=='\n",
    "      return (self.x==vB.x) and (self.y==vB.y)\n",
    "    \n",
    "   def __add__(self, vB): # override '+'\n",
    "      return MyVector(self.x+vB.x,self.y+vB.y)\n",
    "    \n",
    "   def __sub__(self, vB): # override '-'\n",
    "      return MyVector(self.x-vB.x,self.y-vB.y)\n",
    "    \n",
    "   def __mul__(self, c): # override '*'\n",
    "      if isinstance(c,MyVector):\n",
    "         return self.x*c.x+self.y*c.y\n",
    "      else:\n",
    "         return MyVector(c*self.x,c*self.y)"
   ]
  },
  {
   "cell_type": "code",
   "execution_count": 12,
   "metadata": {
    "slideshow": {
     "slide_type": "slide"
    }
   },
   "outputs": [
    {
     "data": {
      "text/plain": [
       "(<__main__.MyVector at 0x10c274860>, <__main__.MyVector at 0x10c2748d0>)"
      ]
     },
     "execution_count": 12,
     "metadata": {},
     "output_type": "execute_result"
    }
   ],
   "source": [
    "u = MyVector() \n",
    "u.x, u.y = 0, 1\n",
    "v = MyVector()\n",
    "v.x, v.y = 1, 0\n",
    "u, v"
   ]
  },
  {
   "cell_type": "code",
   "execution_count": 13,
   "metadata": {
    "slideshow": {
     "slide_type": "fragment"
    }
   },
   "outputs": [
    {
     "name": "stdout",
     "output_type": "stream",
     "text": [
      "<__main__.MyVector object at 0x10c274470> 1 1\n"
     ]
    }
   ],
   "source": [
    "w = u+v\n",
    "print (w, w.x, w.y)"
   ]
  },
  {
   "cell_type": "code",
   "execution_count": 14,
   "metadata": {
    "slideshow": {
     "slide_type": "fragment"
    }
   },
   "outputs": [
    {
     "data": {
      "text/plain": [
       "3"
      ]
     },
     "execution_count": 14,
     "metadata": {},
     "output_type": "execute_result"
    }
   ],
   "source": [
    "MyVector.dimension=3\n",
    "u.dimension"
   ]
  },
  {
   "cell_type": "code",
   "execution_count": 15,
   "metadata": {
    "slideshow": {
     "slide_type": "fragment"
    }
   },
   "outputs": [
    {
     "data": {
      "text/plain": [
       "3"
      ]
     },
     "execution_count": 15,
     "metadata": {},
     "output_type": "execute_result"
    }
   ],
   "source": [
    "v.dimension"
   ]
  },
  {
   "cell_type": "markdown",
   "metadata": {
    "slideshow": {
     "slide_type": "slide"
    }
   },
   "source": [
    "We can change the *instance* attribute dimension."
   ]
  },
  {
   "cell_type": "code",
   "execution_count": 16,
   "metadata": {
    "slideshow": {
     "slide_type": "fragment"
    }
   },
   "outputs": [],
   "source": [
    "u.dimension=4"
   ]
  },
  {
   "cell_type": "code",
   "execution_count": 17,
   "metadata": {
    "slideshow": {
     "slide_type": "fragment"
    }
   },
   "outputs": [
    {
     "data": {
      "text/plain": [
       "3"
      ]
     },
     "execution_count": 17,
     "metadata": {},
     "output_type": "execute_result"
    }
   ],
   "source": [
    "v.dimension"
   ]
  },
  {
   "cell_type": "code",
   "execution_count": 18,
   "metadata": {
    "slideshow": {
     "slide_type": "fragment"
    }
   },
   "outputs": [
    {
     "data": {
      "text/plain": [
       "4"
      ]
     },
     "execution_count": 18,
     "metadata": {},
     "output_type": "execute_result"
    }
   ],
   "source": [
    "MyVector.dimension=5\n",
    "u.dimension # set attribute keeps its value"
   ]
  },
  {
   "cell_type": "code",
   "execution_count": 19,
   "metadata": {
    "slideshow": {
     "slide_type": "fragment"
    }
   },
   "outputs": [
    {
     "data": {
      "text/plain": [
       "5"
      ]
     },
     "execution_count": 19,
     "metadata": {},
     "output_type": "execute_result"
    }
   ],
   "source": [
    "v.dimension # unset attribute is set to the new value"
   ]
  },
  {
   "cell_type": "markdown",
   "metadata": {
    "slideshow": {
     "slide_type": "slide"
    }
   },
   "source": [
    "### Exercise \n",
    "Improve the class Polynom by implementing operations:\n",
    "- Overrides '+' operator (__add__)\n",
    "- Overrides '-' operator (__neg__)\n",
    "- Overrides '==' operator (__eq__)"
   ]
  },
  {
   "cell_type": "markdown",
   "metadata": {
    "slideshow": {
     "slide_type": "slide"
    }
   },
   "source": [
    "<button data-toggle=\"collapse\" data-target=\"#polynom2\" class='btn btn-primary'>Solution</button>\n",
    "<div id=\"polynom2\" class=\"collapse\">\n",
    "```python\n",
    "class Polynomial:\n",
    "    \"\"\" Polynomial \"\"\"\n",
    "    def __init__( self, coefficients):\n",
    "        self.coeffs = coefficients\n",
    "        self.degree = len(coefficients)\n",
    "\n",
    "    def diff(self, n):\n",
    "        \"\"\" Return the nth derivative \"\"\"\n",
    "        coeffs = self.coeffs[:]\n",
    "        for k in range(n):\n",
    "            coeffs = [i * coeffs[i] for i in range(1,len(coeffs))]\n",
    "        return Polynomial(coeffs)\n",
    "\n",
    "    def __repr__(self):\n",
    "        output = \"\"\n",
    "        for i, c  in enumerate(self.coeffs):\n",
    "            output += \"{0:+d}x^{1}\".format(c,i)\n",
    "        return output\n",
    "\n",
    "    def pprint(self):\n",
    "        from IPython.display import Math, display\n",
    "        display(Math(self.__repr__()))\n",
    "\n",
    "    def __eq__(self, Q): # override '=='\n",
    "        return self.coeffs == Q.coeffs\n",
    "\n",
    "    def __add__( self, Q):  #  ( P + Q )\n",
    "        if self.degree < Q.degree:\n",
    "            coeffs = self.coeffs + [0]*(Q.degree - self.degree)\n",
    "            return Polynomial([c+q for c,q in zip(Q.coeffs,coeffs)])\n",
    "        else:\n",
    "            coeffs = Q.coeffs + [0]*(self.degree - Q.degree)\n",
    "            return Polynomial([c+q for c,q in zip(self.coeffs,coeffs)])\n",
    "        \n",
    "    def __neg__(self):\n",
    "        return Polynomial([-c for c in self.coeffs])\n",
    "\n",
    "    def __sub__(self, Q):\n",
    "        return self.__add__(-Q)\n",
    "    \n",
    "    def __mul__(self, Q): # (P * Q) or (alpha * P)\n",
    "\n",
    "        if isinstance(Q, Polynomial):\n",
    "            _s = self.coeffs\n",
    "            _q = Q.coeffs\n",
    "            res = [0]*(len(_s)+len(_q)-1)\n",
    "            for s_p,s_c in enumerate(_s):\n",
    "                for q_p, q_c in enumerate(_q):\n",
    "                    res[s_p+q_p] += s_c*q_c\n",
    "            return Polynomial(res)\n",
    "        else:\n",
    "            return Polynomial([c*Q for c in self.coeffs])\n",
    "            \n",
    "P = Polynomial([-3,-1,1,-1,4])\n",
    "Q = P.diff(2)\n",
    "S = -P\n",
    "print(P)\n",
    "print(Q)\n",
    "print(S)\n",
    "print(P+Q)\n",
    "print(Q+P)\n",
    "```"
   ]
  },
  {
   "cell_type": "markdown",
   "metadata": {
    "collapsed": true,
    "slideshow": {
     "slide_type": "slide"
    }
   },
   "source": [
    "# Iterators\n",
    "Most container objects can be looped over using a for statement:"
   ]
  },
  {
   "cell_type": "code",
   "execution_count": 20,
   "metadata": {
    "slideshow": {
     "slide_type": "fragment"
    }
   },
   "outputs": [
    {
     "name": "stdout",
     "output_type": "stream",
     "text": [
      "1 2 3 \n",
      "1 2 3 \n",
      "one two \n",
      "1 2 3 \n",
      "1\n"
     ]
    }
   ],
   "source": [
    "for element in [1, 2, 3]:\n",
    "    print(element, end=' ')\n",
    "print()\n",
    "for element in (1, 2, 3):\n",
    "    print(element, end= ' ')\n",
    "print()\n",
    "for key in {'one':1, 'two':2}:\n",
    "    print(key, end= ' ')\n",
    "print()\n",
    "for char in \"123\":\n",
    "    print(char, end= ' ')\n",
    "print()\n",
    "for line in open(\"workfile.txt\"):\n",
    "    print(line, end='')"
   ]
  },
  {
   "cell_type": "markdown",
   "metadata": {
    "slideshow": {
     "slide_type": "slide"
    }
   },
   "source": [
    "- The `for` statement calls `iter()` on the container object. \n",
    "- The function returns an iterator object that defines the method `__next__()`\n",
    "- To add iterator behavior to your classes: \n",
    "    - Define an `__iter__()` method which returns an object with a `__next__()`.\n",
    "    - If the class defines `__next__()`, then `__iter__()` can just return self.\n",
    "    - The **StopIteration** exception indicates the end of the loop."
   ]
  },
  {
   "cell_type": "code",
   "execution_count": 21,
   "metadata": {
    "slideshow": {
     "slide_type": "fragment"
    }
   },
   "outputs": [
    {
     "data": {
      "text/plain": [
       "<str_iterator at 0x10c1ba940>"
      ]
     },
     "execution_count": 21,
     "metadata": {},
     "output_type": "execute_result"
    }
   ],
   "source": [
    "s = 'abc'\n",
    "it = iter(s)\n",
    "it"
   ]
  },
  {
   "cell_type": "code",
   "execution_count": 22,
   "metadata": {
    "slideshow": {
     "slide_type": "fragment"
    }
   },
   "outputs": [
    {
     "data": {
      "text/plain": [
       "('a', 'b', 'c')"
      ]
     },
     "execution_count": 22,
     "metadata": {},
     "output_type": "execute_result"
    }
   ],
   "source": [
    "next(it), next(it), next(it)"
   ]
  },
  {
   "cell_type": "code",
   "execution_count": 23,
   "metadata": {
    "slideshow": {
     "slide_type": "slide"
    }
   },
   "outputs": [],
   "source": [
    "class Reverse:\n",
    "    \"\"\"Iterator for looping over a sequence backwards.\"\"\"\n",
    "    def __init__(self, data):\n",
    "        self.data = data\n",
    "        self.index = len(data)\n",
    "\n",
    "    def __iter__(self):\n",
    "        return self\n",
    "\n",
    "    def __next__(self):\n",
    "        if self.index == 0:\n",
    "            raise StopIteration\n",
    "        self.index = self.index - 1\n",
    "        return self.data[self.index]"
   ]
  },
  {
   "cell_type": "code",
   "execution_count": 24,
   "metadata": {
    "slideshow": {
     "slide_type": "fragment"
    }
   },
   "outputs": [
    {
     "name": "stdout",
     "output_type": "stream",
     "text": [
      "maps"
     ]
    }
   ],
   "source": [
    "rev = Reverse('spam')\n",
    "for char in rev:\n",
    "    print(char, end='')"
   ]
  },
  {
   "cell_type": "markdown",
   "metadata": {
    "slideshow": {
     "slide_type": "slide"
    }
   },
   "source": [
    "# Generators\n",
    "- Generators are a simple and powerful tool for creating iterators.\n",
    "- Write regular functions but use the yield statement when you want to return data.\n",
    "- the `__iter__()` and `__next__()` methods are created automatically.\n"
   ]
  },
  {
   "cell_type": "code",
   "execution_count": 25,
   "metadata": {
    "slideshow": {
     "slide_type": "fragment"
    }
   },
   "outputs": [],
   "source": [
    "def reverse(data):\n",
    "    for index in range(len(data)-1, -1, -1):\n",
    "        yield data[index]"
   ]
  },
  {
   "cell_type": "code",
   "execution_count": 26,
   "metadata": {
    "slideshow": {
     "slide_type": "fragment"
    }
   },
   "outputs": [
    {
     "name": "stdout",
     "output_type": "stream",
     "text": [
      "ruso"
     ]
    }
   ],
   "source": [
    "for char in reverse('osur'):\n",
    "     print(char, end='')"
   ]
  },
  {
   "cell_type": "markdown",
   "metadata": {
    "slideshow": {
     "slide_type": "slide"
    }
   },
   "source": [
    "# Generator Expressions\n",
    "\n",
    "- Use a syntax similar to list comprehensions but with parentheses instead of brackets.\n",
    "- Tend to be more memory friendly than equivalent list comprehensions."
   ]
  },
  {
   "cell_type": "code",
   "execution_count": 27,
   "metadata": {
    "slideshow": {
     "slide_type": "fragment"
    }
   },
   "outputs": [
    {
     "data": {
      "text/plain": [
       "285"
      ]
     },
     "execution_count": 27,
     "metadata": {},
     "output_type": "execute_result"
    }
   ],
   "source": [
    "sum(i*i for i in range(10))                 # sum of squares"
   ]
  },
  {
   "cell_type": "code",
   "execution_count": 28,
   "metadata": {
    "slideshow": {
     "slide_type": "fragment"
    }
   },
   "outputs": [],
   "source": [
    "%load_ext memory_profiler"
   ]
  },
  {
   "cell_type": "code",
   "execution_count": 29,
   "metadata": {
    "slideshow": {
     "slide_type": "fragment"
    }
   },
   "outputs": [
    {
     "name": "stdout",
     "output_type": "stream",
     "text": [
      "peak memory: 53.24 MiB, increment: 1.07 MiB\n"
     ]
    }
   ],
   "source": [
    "%memit doubles = [2 * n for n in range(10000)]"
   ]
  },
  {
   "cell_type": "code",
   "execution_count": 30,
   "metadata": {
    "slideshow": {
     "slide_type": "fragment"
    }
   },
   "outputs": [
    {
     "name": "stdout",
     "output_type": "stream",
     "text": [
      "peak memory: 52.75 MiB, increment: -0.50 MiB\n"
     ]
    }
   ],
   "source": [
    "%memit doubles = (2 * n for n in range(10000))"
   ]
  },
  {
   "cell_type": "code",
   "execution_count": 31,
   "metadata": {
    "slideshow": {
     "slide_type": "slide"
    }
   },
   "outputs": [
    {
     "name": "stdout",
     "output_type": "stream",
     "text": [
      "0 2 4 6 8 10 12 14 16 18 "
     ]
    }
   ],
   "source": [
    "# list comprehension\n",
    "doubles = [2 * n for n in range(10)]\n",
    "for x in doubles:\n",
    "    print(x, end=' ')"
   ]
  },
  {
   "cell_type": "code",
   "execution_count": 32,
   "metadata": {
    "slideshow": {
     "slide_type": "fragment"
    }
   },
   "outputs": [
    {
     "name": "stdout",
     "output_type": "stream",
     "text": [
      "0 2 4 6 8 10 12 14 16 18 "
     ]
    }
   ],
   "source": [
    "# generator expression\n",
    "doubles = (2 * n for n in range(10))\n",
    "for x in doubles:\n",
    "    print(x, end=' ')"
   ]
  },
  {
   "cell_type": "markdown",
   "metadata": {
    "slideshow": {
     "slide_type": "slide"
    }
   },
   "source": [
    "# Use class to store data and function\n",
    "\n",
    "- A empty class can be used to bundle together a few named data items. \n",
    "- You can easily save this class containing your data in JSON file."
   ]
  },
  {
   "cell_type": "code",
   "execution_count": 33,
   "metadata": {
    "slideshow": {
     "slide_type": "fragment"
    }
   },
   "outputs": [],
   "source": [
    "class Employee:\n",
    "    pass\n",
    "\n",
    "john = Employee()  # Create an empty employee record\n",
    "\n",
    "# Fill the fields of the record\n",
    "john.name = 'John Doe'\n",
    "john.dept = 'computer lab'\n",
    "john.salary = 1000"
   ]
  },
  {
   "cell_type": "markdown",
   "metadata": {
    "slideshow": {
     "slide_type": "slide"
    }
   },
   "source": [
    "### Exercise\n",
    "\n",
    "The [Chebyshev polynomials](https://en.wikipedia.org/wiki/Chebyshev_polynomials) of the first kind are defined by the recurrence relation\n",
    "$$\n",
    "\\begin{eqnarray}\n",
    "T_o(x) &=& 1 \\\\\n",
    "T_1(x) &=& x \\\\\n",
    "T_{n+1} &=& 2xT_n(x)-T_{n-1}(x)\n",
    "\\end{eqnarray}\n",
    "$$\n",
    "- Create a class `Iterator` that generates the sequence of Chebyshev polynomials\n"
   ]
  },
  {
   "cell_type": "markdown",
   "metadata": {},
   "source": [
    "<button data-toggle=\"collapse\" data-target=\"#chebyshev\" class='btn btn-primary'>Solution</button>\n",
    "<div id=\"chebyshev\" class=\"collapse\">\n",
    "```python\n",
    "\n",
    "class Chebyshev:\n",
    "    \"\"\"\n",
    "    this class generates the sequence of Chebyshev polynomials of the first kind\n",
    "    \"\"\"\n",
    "    def __init__(self,n_max=10):\n",
    "        self.T_0 = Polynomial([1])\n",
    "        self.T_1 = Polynomial([0,1])\n",
    "        self.n_max = n_max \n",
    "        self.index = 0\n",
    "    def __iter__(self):       \n",
    "        return self    # Returns itself as an iterator object\n",
    "    def __next__(self):\n",
    "        T = self.T_0\n",
    "        self.index += 1\n",
    "        if self.index > self.n_max:\n",
    "            raise StopIteration()\n",
    "        self.T_0, self.T_1 = self.T_1, Polynomial([0,2])*self.T_1 - self.T_0\n",
    "        return T\n",
    "\n",
    "    \n",
    "for t in Chebyshev():\n",
    "    print(t)\n",
    "```"
   ]
  }
 ],
 "metadata": {
  "kernelspec": {
   "display_name": "Python 3",
   "language": "python",
   "name": "python3"
  },
  "language_info": {
   "codemirror_mode": {
    "name": "ipython",
    "version": 3
   },
   "file_extension": ".py",
   "mimetype": "text/x-python",
   "name": "python",
   "nbconvert_exporter": "python",
   "pygments_lexer": "ipython3",
   "version": "3.6.4"
  }
 },
 "nbformat": 4,
 "nbformat_minor": 2
}
