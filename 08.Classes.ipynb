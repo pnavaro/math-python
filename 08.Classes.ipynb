{
 "cells": [
  {
   "cell_type": "markdown",
   "metadata": {
    "slideshow": {
     "slide_type": "slide"
    }
   },
   "source": [
    "# Classes\n",
    "- Classes provide a means of bundling data and functionality together.\n",
    "- Creating a new class creates a **new type** of object.\n",
    "- Assigned variables are new **instances** of that type.\n",
    "- Each class instance can have **attributes** attached to it.\n",
    "- Class instances can also have **methods** for modifying its state.\n",
    "- Python classes provide the class **inheritance** mechanism.\n"
   ]
  },
  {
   "cell_type": "markdown",
   "metadata": {
    "slideshow": {
     "slide_type": "slide"
    }
   },
   "source": [
    "# Use class to store data\n",
    "\n",
    "- A empty class can be used to bundle together a few named data items. \n",
    "- You can easily save this class containing your data in JSON file."
   ]
  },
  {
   "cell_type": "code",
   "execution_count": null,
   "metadata": {
    "slideshow": {
     "slide_type": "fragment"
    }
   },
   "outputs": [
    {
     "name": "stdout",
     "output_type": "stream",
     "text": [
      "{\"name\": \"Navaro\", \"lab\": \"IRMAR\", \"office\": 112}"
     ]
    }
   ],
   "source": [
    "import json\n",
    "class Agent:\n",
    "    pass\n",
    "\n",
    "pierre = Agent()  # Create an empty employee record\n",
    "\n",
    "# Fill the fields of the record\n",
    "pierre.name = 'Navaro'\n",
    "pierre.lab = 'IRMAR'\n",
    "pierre.office = 112\n",
    "\n",
    "with open('pierre.json','w') as f:\n",
    "    json.dump(pierre.__dict__,f)\n",
    "%cat pierre.json"
   ]
  },
  {
   "cell_type": "code",
   "execution_count": 44,
   "metadata": {
    "slideshow": {
     "slide_type": "slide"
    }
   },
   "outputs": [
    {
     "name": "stdout",
     "output_type": "stream",
     "text": [
      " Dog: 18 Kg, 4 years\n"
     ]
    },
    {
     "data": {
      "text/plain": [
       "2014"
      ]
     },
     "execution_count": 44,
     "metadata": {},
     "output_type": "execute_result"
    }
   ],
   "source": [
    "class Animal:\n",
    "\n",
    "    \"A simple example class Animal with its name, weight and age\"\n",
    "\n",
    "    def __init__(self, name, weight, age):  # constructor\n",
    "        self.name = name\n",
    "        self.weight = weight\n",
    "        self.age = age\n",
    "        \n",
    "\n",
    "    def birthyear(self):  # method\n",
    "        import datetime\n",
    "        now = datetime.datetime.now()\n",
    "        return now.year - self.age\n",
    "\n",
    "\n",
    "dog = Animal('Dog', 18, 4) # Instance\n",
    "print(f' {dog.name}: {dog.weight} Kg, {dog.age} years')\n",
    "dog.birthyear()"
   ]
  },
  {
   "cell_type": "code",
   "execution_count": 45,
   "metadata": {
    "slideshow": {
     "slide_type": "slide"
    }
   },
   "outputs": [
    {
     "data": {
      "text/plain": [
       "2011"
      ]
     },
     "execution_count": 45,
     "metadata": {},
     "output_type": "execute_result"
    }
   ],
   "source": [
    "dog.age = 7\n",
    "dog.birthyear()"
   ]
  },
  {
   "cell_type": "markdown",
   "metadata": {
    "slideshow": {
     "slide_type": "fragment"
    }
   },
   "source": [
    "- `dog` is an *instance* of Animal Class.\n",
    "- `dog.birthdate()` is a *method* of `Animal` instance `dog`.\n",
    "- `name` and `weight` are attributes of `Animal` instance `dog`."
   ]
  },
  {
   "cell_type": "markdown",
   "metadata": {
    "slideshow": {
     "slide_type": "slide"
    }
   },
   "source": [
    "# Convert method to attribute\n",
    "\n",
    "Use the `property` decorator "
   ]
  },
  {
   "cell_type": "code",
   "execution_count": 3,
   "metadata": {},
   "outputs": [
    {
     "data": {
      "text/plain": [
       "2014"
      ]
     },
     "execution_count": 3,
     "metadata": {},
     "output_type": "execute_result"
    }
   ],
   "source": [
    "class Animal:\n",
    "\n",
    "    \"A simple example class Animal with its name, weight and age\"\n",
    "\n",
    "    def __init__(self, name, weight, age):  # constructor\n",
    "        self.name = name\n",
    "        self.weight = weight\n",
    "        self.age = age\n",
    "\n",
    "    @property\n",
    "    def birthyear(self):  # method\n",
    "        import datetime\n",
    "        now = datetime.datetime.now()\n",
    "        return now.year - self.age\n",
    "\n",
    "\n",
    "dog = Animal('Dog', 18, 4)\n",
    "dog.birthyear  # birthyear can now be used as an attribute"
   ]
  },
  {
   "cell_type": "markdown",
   "metadata": {
    "slideshow": {
     "slide_type": "slide"
    }
   },
   "source": [
    "# namedtuple"
   ]
  },
  {
   "cell_type": "code",
   "execution_count": 5,
   "metadata": {
    "slideshow": {
     "slide_type": "fragment"
    }
   },
   "outputs": [
    {
     "data": {
      "text/plain": [
       "Animal(name='Dog', weight=18, age=4)"
      ]
     },
     "execution_count": 5,
     "metadata": {},
     "output_type": "execute_result"
    }
   ],
   "source": [
    "from collections import namedtuple\n",
    "\n",
    "Animal = namedtuple('Animal', 'name, weight, age')\n",
    "\n",
    "dog = Animal('Dog', 18, 4)\n",
    "dog"
   ]
  },
  {
   "cell_type": "code",
   "execution_count": 6,
   "metadata": {
    "slideshow": {
     "slide_type": "fragment"
    }
   },
   "outputs": [
    {
     "ename": "AttributeError",
     "evalue": "can't set attribute",
     "output_type": "error",
     "traceback": [
      "\u001b[0;31m---------------------------------------------------------------------------\u001b[0m",
      "\u001b[0;31mAttributeError\u001b[0m                            Traceback (most recent call last)",
      "\u001b[0;32m<ipython-input-6-da818e5db707>\u001b[0m in \u001b[0;36m<module>\u001b[0;34m()\u001b[0m\n\u001b[1;32m      1\u001b[0m \u001b[0;31m# Like tuples, namedtuples are immutable:\u001b[0m\u001b[0;34m\u001b[0m\u001b[0;34m\u001b[0m\u001b[0m\n\u001b[0;32m----> 2\u001b[0;31m \u001b[0mdog\u001b[0m\u001b[0;34m.\u001b[0m\u001b[0mweight\u001b[0m \u001b[0;34m=\u001b[0m \u001b[0;36m14\u001b[0m\u001b[0;34m\u001b[0m\u001b[0m\n\u001b[0m",
      "\u001b[0;31mAttributeError\u001b[0m: can't set attribute"
     ]
    }
   ],
   "source": [
    "# Like tuples, namedtuples are immutable:\n",
    "dog.weight = 14"
   ]
  },
  {
   "cell_type": "markdown",
   "metadata": {
    "slideshow": {
     "slide_type": "slide"
    }
   },
   "source": [
    "# The new Python 3.7 DataClass"
   ]
  },
  {
   "cell_type": "code",
   "execution_count": 7,
   "metadata": {
    "slideshow": {
     "slide_type": "fragment"
    }
   },
   "outputs": [
    {
     "data": {
      "text/plain": [
       "Person(firstname='Pierre', lastname='Navaro', birthyear=1972)"
      ]
     },
     "execution_count": 7,
     "metadata": {},
     "output_type": "execute_result"
    }
   ],
   "source": [
    "from dataclasses import dataclass\n",
    "\n",
    "@dataclass\n",
    "class Person:\n",
    "\n",
    "    firstname: str\n",
    "    lastname: str\n",
    "    birthyear: int\n",
    "\n",
    "    @property\n",
    "    def age(self) -> int:\n",
    "        import datetime\n",
    "        now = datetime.datetime.now()\n",
    "        return now.year - self.birthyear\n",
    "\n",
    "me = Person('Pierre', 'Navaro', 1972)\n",
    "me"
   ]
  },
  {
   "cell_type": "markdown",
   "metadata": {
    "slideshow": {
     "slide_type": "slide"
    }
   },
   "source": [
    "# Method Overriding\n",
    "- Every Python classes has a `__repr__()` method used when you call `print()` function."
   ]
  },
  {
   "cell_type": "code",
   "execution_count": 18,
   "metadata": {
    "slideshow": {
     "slide_type": "fragment"
    }
   },
   "outputs": [
    {
     "name": "stdout",
     "output_type": "stream",
     "text": [
      "Pierre Navaro\n"
     ]
    },
    {
     "data": {
      "text/plain": [
       "46"
      ]
     },
     "execution_count": 18,
     "metadata": {},
     "output_type": "execute_result"
    }
   ],
   "source": [
    "class Person:\n",
    "    \"\"\"Simple example class with method overriding \"\"\"\n",
    "\n",
    "    def __init__(self, firstname, lastname, birthyear):\n",
    "        self.firstname = firstname\n",
    "        self.lastname = lastname\n",
    "        self.birthyear = birthyear\n",
    "\n",
    "    def __repr__(self):\n",
    "        return f\"{self.firstname} {self.lastname}\"\n",
    "\n",
    "    @property\n",
    "    def age(self):\n",
    "        import datetime\n",
    "        now = datetime.datetime.now()\n",
    "        return now.year - self.birthyear\n",
    "\n",
    "\n",
    "me = Person('Pierre', 'Navaro', 1972)\n",
    "print(me)\n",
    "me.age"
   ]
  },
  {
   "cell_type": "markdown",
   "metadata": {
    "slideshow": {
     "slide_type": "slide"
    }
   },
   "source": [
    "# Inheritance"
   ]
  },
  {
   "cell_type": "code",
   "execution_count": 20,
   "metadata": {
    "slideshow": {
     "slide_type": "fragment"
    }
   },
   "outputs": [
    {
     "name": "stdout",
     "output_type": "stream",
     "text": [
      "Pierre Navaro CNRS\n"
     ]
    },
    {
     "data": {
      "text/plain": [
       "46"
      ]
     },
     "execution_count": 20,
     "metadata": {},
     "output_type": "execute_result"
    }
   ],
   "source": [
    "class Employee(Person):  # Parent class is defined here\n",
    "\n",
    "    \" Derived from MyClass with k attribute \"\n",
    "\n",
    "    def __init__(self, firstname, lastname, age, company):\n",
    "        super().__init__(firstname, lastname, age)  # Call method in the parent class\n",
    "        self.company = company\n",
    "\n",
    "    def __repr__(self):\n",
    "        return f\"{self.firstname} {self.lastname} {self.company}\"\n",
    "\n",
    "\n",
    "me = Employee('Pierre', 'Navaro', 1972, 'CNRS')\n",
    "print(me)\n",
    "me.age"
   ]
  },
  {
   "cell_type": "markdown",
   "metadata": {
    "slideshow": {
     "slide_type": "fragment"
    }
   },
   "source": [
    "### Exercise: Grocery list item\n",
    "\n",
    "Let's create a class representing a grocery list. First we need a class to represent an item of this grocery list:\n",
    "- The `GroceryItem` class has seven attributes:\n",
    "    - `name` (string)\n",
    "    - `price` (double)\n",
    "    - `category` (string)\n",
    "    - `vat_percentage` (double)\n",
    "    - `quantity` (integer)\n",
    "    - `ingredients` (list of strings)\n",
    "\n",
    "- The item class has two methods\n",
    "    - `get_total_vat` returns the VAT value.\n",
    "    - `get_total_price` returns the total price.\n",
    "\n",
    "Implement the `GroceryItem` class and override the `__repr__()` method by returning the item name and its quantity."
   ]
  },
  {
   "cell_type": "markdown",
   "metadata": {
    "slideshow": {
     "slide_type": "slide"
    }
   },
   "source": [
    "```python\n",
    "beef = GroceryItem(\"Beef\", 12.3, \"Meat\", 10, 2, [\"Beef\"])\n",
    "print(beef)\n",
    "print(f\"Total price : {beef.get_total_price():.2f} \\u20ac \")\n",
    "print(f\"Total VAT   : {beef.get_total_vat():.2f} \\u20ac \")\n",
    "```\n",
    "```pybt\n",
    "Beef x 2\n",
    "Total cut   : 0.0 € \n",
    "Total price : 27.060000000000002 € \n",
    "Total VAT   : 2.46 € \n",
    "```"
   ]
  },
  {
   "cell_type": "markdown",
   "metadata": {
    "slideshow": {
     "slide_type": "slide"
    }
   },
   "source": [
    "### Exercice: Grocery list\n",
    "\n",
    "Now implement the GroceryList containing GroceryItem defined above.\n",
    "In this class, add these functions:\n",
    "\n",
    "- `items_with_meat()` return a list of items of 'Meat' category.\n",
    "- `prices_with_vat()` return a dict with item names as keys and prices as values.\n",
    "- `ingredients_list()` return a set of all ingredients contained in items.\n",
    "- `total_invoice()` return the total price of the shopping list.\n",
    "- `total_for(category)` return the total price for a category\n",
    "- `price_by_category()` return a dict with category as key and the price as value.\n",
    "- `total_vat()` return the total VAT amount.\n",
    "- `top_ingredients(n)` ranks the `n` most frequently founded ingredients\n",
    "- `all_item_names()` return a list of item names"
   ]
  },
  {
   "cell_type": "markdown",
   "metadata": {
    "slideshow": {
     "slide_type": "slide"
    }
   },
   "source": [
    "```python\n",
    "print(f\"Articles with meat are : {shopping_list.items_with_meat()}\")\n",
    "print(f\"Full prices are : {shopping_list.prices_with_vat()}\")\n",
    "print(f\"Ingredients : {shopping_list.ingredients_list()}\")\n",
    "print(f\"Total  : {shopping_list.total_invoice()}\")\n",
    "print(f\"Total for meat category : {shopping_list.total_for('Meat')}\")\n",
    "print(f\"Prices by category : {shopping_list.price_by_category()}\")\n",
    "print(f\"VAT amount : {shopping_list.total_vat()}\")\n",
    "print(f\"First three ingedients : {shopping_list.top_ingredients(3)}\")\n",
    "print(f\"All articles names : {shopping_list.all_item_names()}\")\n",
    "```\n",
    "```pytb\n",
    "Articles with meat are : [Beef x 2, Pork x 1]\n",
    "Full prices are : {'Beef': 27.06, 'Pork': 8.34, 'Tomato Sauce': 6.60, 'Beans': 17.32, 'Tuna': 7.19}\n",
    "Ingredients : {'Tomato', 'Preservatives', 'Fish', 'Sugar', 'Water', 'Beef', 'Salt', 'Beans', 'Oil', 'Pork'}\n",
    "Total  : 66.53\n",
    "Total for meat category : 35.40\n",
    "Prices by category : {'Meat': 35.40, 'Can': 31.125000000000004}\n",
    "VAT amount : 6.59\n",
    "First three ingedients : ['Water', 'Salt', 'Beef']\n",
    "All articles names : ['Beef', 'Pork', 'Tomato Sauce', 'Beans', 'Tuna']\n",
    "```"
   ]
  },
  {
   "cell_type": "markdown",
   "metadata": {
    "slideshow": {
     "slide_type": "slide"
    }
   },
   "source": [
    "# Private Variables and Methods"
   ]
  },
  {
   "cell_type": "code",
   "execution_count": 21,
   "metadata": {
    "slideshow": {
     "slide_type": "fragment"
    }
   },
   "outputs": [],
   "source": [
    "class DemoClass:\n",
    "    \" Demo class for name mangling \"\n",
    "\n",
    "    def public_method(self):\n",
    "        return 'public!'\n",
    "\n",
    "    def __private_method(self):  # Note the use of leading underscores\n",
    "        return 'private!'\n",
    "\n",
    "\n",
    "object3 = DemoClass()"
   ]
  },
  {
   "cell_type": "code",
   "execution_count": 22,
   "metadata": {
    "slideshow": {
     "slide_type": "slide"
    }
   },
   "outputs": [
    {
     "data": {
      "text/plain": [
       "'public!'"
      ]
     },
     "execution_count": 22,
     "metadata": {},
     "output_type": "execute_result"
    }
   ],
   "source": [
    "object3.public_method()"
   ]
  },
  {
   "cell_type": "code",
   "execution_count": 23,
   "metadata": {
    "slideshow": {
     "slide_type": "fragment"
    }
   },
   "outputs": [
    {
     "ename": "AttributeError",
     "evalue": "'DemoClass' object has no attribute '__private_method'",
     "output_type": "error",
     "traceback": [
      "\u001b[0;31m---------------------------------------------------------------------------\u001b[0m",
      "\u001b[0;31mAttributeError\u001b[0m                            Traceback (most recent call last)",
      "\u001b[0;32m<ipython-input-23-5a4a6ba27511>\u001b[0m in \u001b[0;36m<module>\u001b[0;34m()\u001b[0m\n\u001b[0;32m----> 1\u001b[0;31m \u001b[0mobject3\u001b[0m\u001b[0;34m.\u001b[0m\u001b[0m__private_method\u001b[0m\u001b[0;34m(\u001b[0m\u001b[0;34m)\u001b[0m\u001b[0;34m\u001b[0m\u001b[0m\n\u001b[0m",
      "\u001b[0;31mAttributeError\u001b[0m: 'DemoClass' object has no attribute '__private_method'"
     ]
    }
   ],
   "source": [
    "object3.__private_method()"
   ]
  },
  {
   "cell_type": "code",
   "execution_count": 24,
   "metadata": {
    "slideshow": {
     "slide_type": "fragment"
    }
   },
   "outputs": [
    {
     "data": {
      "text/plain": [
       "['_DemoClass__private_method', 'public_method']"
      ]
     },
     "execution_count": 24,
     "metadata": {},
     "output_type": "execute_result"
    }
   ],
   "source": [
    "[ s for s in dir(object3) if \"method\" in s]"
   ]
  },
  {
   "cell_type": "code",
   "execution_count": 25,
   "metadata": {
    "slideshow": {
     "slide_type": "fragment"
    }
   },
   "outputs": [
    {
     "data": {
      "text/plain": [
       "'private!'"
      ]
     },
     "execution_count": 25,
     "metadata": {},
     "output_type": "execute_result"
    }
   ],
   "source": [
    "object3._DemoClass__private_method()"
   ]
  },
  {
   "cell_type": "code",
   "execution_count": 26,
   "metadata": {},
   "outputs": [
    {
     "data": {
      "text/plain": [
       "<bound method DemoClass.public_method of <__main__.DemoClass object at 0x10cb7a828>>"
      ]
     },
     "execution_count": 26,
     "metadata": {},
     "output_type": "execute_result"
    }
   ],
   "source": [
    "object3.public_method"
   ]
  },
  {
   "cell_type": "markdown",
   "metadata": {
    "slideshow": {
     "slide_type": "slide"
    }
   },
   "source": [
    "# Use `class` as a Function."
   ]
  },
  {
   "cell_type": "code",
   "execution_count": 27,
   "metadata": {
    "slideshow": {
     "slide_type": "fragment"
    }
   },
   "outputs": [
    {
     "data": {
      "text/plain": [
       "6"
      ]
     },
     "execution_count": 27,
     "metadata": {},
     "output_type": "execute_result"
    }
   ],
   "source": [
    "class Polynomial:\n",
    "    \n",
    "   \" Class representing a polynom P(x) -> c_0+c_1*x+c_2*x^2+...\"\n",
    "    \n",
    "   def __init__(self, coeffs):\n",
    "      self.coeffs = coeffs\n",
    "        \n",
    "   def __call__(self, x):\n",
    "      return sum([coef*x**exp for exp,coef in enumerate(self.coeffs)])\n",
    "\n",
    "p = Polynomial([2,4,-1])\n",
    "p(2) "
   ]
  },
  {
   "cell_type": "markdown",
   "metadata": {
    "slideshow": {
     "slide_type": "slide"
    }
   },
   "source": [
    "### Exercise: Polynomial\n",
    "\n",
    "- Improve the class above called Polynomial by creating a method `diff(n)` to compute the nth derivative.\n",
    "- Override the `__repr__()` method to output a pretty printing.\n",
    "\n",
    "Hint: `f\"{coeff:+d}\"` forces to print sign before the value of an integer."
   ]
  },
  {
   "cell_type": "markdown",
   "metadata": {
    "slideshow": {
     "slide_type": "slide"
    }
   },
   "source": [
    "# Operators Overriding "
   ]
  },
  {
   "cell_type": "code",
   "execution_count": 30,
   "metadata": {
    "slideshow": {
     "slide_type": "fragment"
    }
   },
   "outputs": [],
   "source": [
    "class MyComplex:\n",
    "    \" Simple class representing a complex\"\n",
    "    width = 7\n",
    "    precision = 3\n",
    "\n",
    "    def __init__(self, real=0, imag=0):\n",
    "        self.real = real\n",
    "        self.imag = imag\n",
    "\n",
    "    def __repr__(self): \n",
    "        return (f\"({self.real:{self.width}.{self.precision}f},\"\n",
    "                f\"{self.imag:+{self.width}.{self.precision}f}j)\")\n",
    "\n",
    "    def __eq__(self, other):  # override '=='\n",
    "        return (self.real == other.real) and (self.imag == other.imag)\n",
    "\n",
    "    def __add__(self, other):  # override '+'\n",
    "        return MyComplex(self.real+other.real, self.imag+other.imag)\n",
    "\n",
    "    def __sub__(self, other):  # override '-'\n",
    "        return MyComplex(self.real-other.real, self.imag-other.imag)\n",
    "\n",
    "    def __mul__(self, other):  # override '*'\n",
    "        if isinstance(other, MyComplex):\n",
    "            return MyComplex(self.real * other.real - self.imag * other.imag,\n",
    "                             self.real * other.imag + self.imag * other.real)\n",
    "\n",
    "        else:\n",
    "            return MyComplex(other*self.real, other*self.imag)"
   ]
  },
  {
   "cell_type": "code",
   "execution_count": 33,
   "metadata": {
    "slideshow": {
     "slide_type": "slide"
    }
   },
   "outputs": [
    {
     "name": "stdout",
     "output_type": "stream",
     "text": [
      "u= (  0.000, +1.000j) ; v= (  1.000, +0.000j)\n"
     ]
    }
   ],
   "source": [
    "u = MyComplex(0, 1)\n",
    "v = MyComplex(1, 0)\n",
    "print('u=', u, \"; v=\", v)"
   ]
  },
  {
   "cell_type": "code",
   "execution_count": 34,
   "metadata": {
    "slideshow": {
     "slide_type": "fragment"
    }
   },
   "outputs": [
    {
     "data": {
      "text/plain": [
       "((  1.000, +1.000j), ( -1.000, +1.000j), (  0.000, +1.000j), False)"
      ]
     },
     "execution_count": 34,
     "metadata": {},
     "output_type": "execute_result"
    }
   ],
   "source": [
    "u+v, u-v, u*v, u==v"
   ]
  },
  {
   "cell_type": "markdown",
   "metadata": {
    "slideshow": {
     "slide_type": "fragment"
    }
   },
   "source": [
    "We can change the *class* attribute precision."
   ]
  },
  {
   "cell_type": "code",
   "execution_count": 35,
   "metadata": {
    "slideshow": {
     "slide_type": "fragment"
    }
   },
   "outputs": [
    {
     "name": "stdout",
     "output_type": "stream",
     "text": [
      "2\n",
      "(   0.00,  +1.00j)\n"
     ]
    }
   ],
   "source": [
    "MyComplex.precision=2\n",
    "print(u.precision)\n",
    "print(u)"
   ]
  },
  {
   "cell_type": "code",
   "execution_count": 36,
   "metadata": {
    "slideshow": {
     "slide_type": "fragment"
    }
   },
   "outputs": [
    {
     "data": {
      "text/plain": [
       "2"
      ]
     },
     "execution_count": 36,
     "metadata": {},
     "output_type": "execute_result"
    }
   ],
   "source": [
    "v.precision"
   ]
  },
  {
   "cell_type": "markdown",
   "metadata": {
    "slideshow": {
     "slide_type": "slide"
    }
   },
   "source": [
    "We can change the *instance* attribute precision."
   ]
  },
  {
   "cell_type": "code",
   "execution_count": 37,
   "metadata": {
    "slideshow": {
     "slide_type": "fragment"
    }
   },
   "outputs": [
    {
     "name": "stdout",
     "output_type": "stream",
     "text": [
      "(    0.0,   +1.0j)\n"
     ]
    }
   ],
   "source": [
    "u.precision=1\n",
    "print(u)"
   ]
  },
  {
   "cell_type": "code",
   "execution_count": 38,
   "metadata": {
    "slideshow": {
     "slide_type": "fragment"
    }
   },
   "outputs": [
    {
     "name": "stdout",
     "output_type": "stream",
     "text": [
      "(   1.00,  +0.00j)\n"
     ]
    }
   ],
   "source": [
    "print(v)"
   ]
  },
  {
   "cell_type": "code",
   "execution_count": 39,
   "metadata": {
    "slideshow": {
     "slide_type": "fragment"
    }
   },
   "outputs": [
    {
     "data": {
      "text/plain": [
       "(    0.0,   +1.0j)"
      ]
     },
     "execution_count": 39,
     "metadata": {},
     "output_type": "execute_result"
    }
   ],
   "source": [
    "MyComplex.precision=5\n",
    "u # set attribute keeps its value"
   ]
  },
  {
   "cell_type": "code",
   "execution_count": 40,
   "metadata": {
    "slideshow": {
     "slide_type": "fragment"
    }
   },
   "outputs": [
    {
     "data": {
      "text/plain": [
       "(1.00000,+0.00000j)"
      ]
     },
     "execution_count": 40,
     "metadata": {},
     "output_type": "execute_result"
    }
   ],
   "source": [
    "v # unset attribute is set to the new value"
   ]
  },
  {
   "cell_type": "markdown",
   "metadata": {
    "slideshow": {
     "slide_type": "slide"
    }
   },
   "source": [
    "## Rational example"
   ]
  },
  {
   "cell_type": "code",
   "execution_count": 41,
   "metadata": {
    "slideshow": {
     "slide_type": "fragment"
    }
   },
   "outputs": [],
   "source": [
    "class Rational:\n",
    "    \" Class representing a rational number\"\n",
    "\n",
    "    def __init__(self, n, d):\n",
    "        assert isinstance(n, int) and isinstance(d, int)\n",
    "\n",
    "        def gcd(x, y):\n",
    "            if x == 0:\n",
    "                return y\n",
    "            elif x < 0:\n",
    "                return gcd(-x, y)\n",
    "            elif y < 0:\n",
    "                return -gcd(x, -y)\n",
    "            else:\n",
    "                return gcd(y % x, x)\n",
    "\n",
    "        g = gcd(n, d)\n",
    "        self.numer, self.denom = n//g, d//g\n",
    "\n",
    "    def __add__(self, other):\n",
    "        return Rational(self.numer * other.denom + other.numer * self.denom,\n",
    "                        self.denom * other.denom)\n",
    "\n",
    "    def __sub__(self, other):\n",
    "        return Rational(self.numer * other.denom - other.numer * self.denom,\n",
    "                        self.denom * other.denom)\n",
    "\n",
    "    def __mul__(self, other):\n",
    "        return Rational(self.numer * other.numer, self.denom * other.denom)\n",
    "\n",
    "    def __truediv__(self, other):\n",
    "        return Rational(self.numer * other.denom, self.denom * other.numer)\n",
    "\n",
    "    def __repr__(self):\n",
    "        return f\"{self.numer:d}/{self.denom:d}\""
   ]
  },
  {
   "cell_type": "code",
   "execution_count": 42,
   "metadata": {
    "slideshow": {
     "slide_type": "slide"
    }
   },
   "outputs": [
    {
     "data": {
      "text/plain": [
       "(17/12, -1/12, 1/2, 8/9)"
      ]
     },
     "execution_count": 42,
     "metadata": {},
     "output_type": "execute_result"
    }
   ],
   "source": [
    "r1 = Rational(2,3)\n",
    "r2 = Rational(3,4)\n",
    "r1+r2, r1-r2, r1*r2, r1/r2"
   ]
  },
  {
   "cell_type": "markdown",
   "metadata": {
    "slideshow": {
     "slide_type": "slide"
    }
   },
   "source": [
    "### Exercise \n",
    "Improve the class Polynomial by implementing operations:\n",
    "- Overrides '+' operator (__add__)\n",
    "- Overrides '-' operator (__neg__)\n",
    "- Overrides '==' operator (__eq__)\n",
    "- Overrides '*' operator (__mul__)"
   ]
  }
 ],
 "metadata": {
  "celltoolbar": "Slideshow",
  "kernelspec": {
   "display_name": "Python 3",
   "language": "python",
   "name": "python3"
  },
  "language_info": {
   "codemirror_mode": {
    "name": "ipython",
    "version": 3
   },
   "file_extension": ".py",
   "mimetype": "text/x-python",
   "name": "python",
   "nbconvert_exporter": "python",
   "pygments_lexer": "ipython3",
   "version": "3.6.5"
  }
 },
 "nbformat": 4,
 "nbformat_minor": 2
}
