{
 "cells": [
  {
   "cell_type": "raw",
   "metadata": {},
   "source": [
    "<script>\n",
    "    function hide_prompt() {\n",
    "        $('div.prompt').hide(); // always hide prompt\n",
    "    }\n",
    "    $( document ).ready(hide_prompt);\n",
    "</script>"
   ]
  },
  {
   "cell_type": "markdown",
   "metadata": {
    "slideshow": {
     "slide_type": "slide"
    }
   },
   "source": [
    "Pierre Navaro - [Institut de Recherche Mathématique de Rennes](https://irmar.univ-rennes1.fr) - [CNRS](http://www.cnrs.fr/)"
   ]
  },
  {
   "cell_type": "markdown",
   "metadata": {
    "slideshow": {
     "slide_type": "slide"
    }
   },
   "source": [
    "# Classes\n",
    "- Classes provide a means of bundling data and functionality together.\n",
    "- Creating a new class creates a *new type* of object.\n",
    "- Assigned variables are new *instances* of that type.\n",
    "- Each class instance can have *attributes* attached to it.\n",
    "- Class instances can also have *methods* for modifying its state.\n",
    "- Python classes provide the class inheritance mechanism.\n"
   ]
  },
  {
   "cell_type": "code",
   "execution_count": 5,
   "metadata": {
    "slideshow": {
     "slide_type": "slide"
    }
   },
   "outputs": [
    {
     "name": "stdout",
     "output_type": "stream",
     "text": [
      "MyClass: i, j = 6, 9\n"
     ]
    },
    {
     "data": {
      "text/plain": [
       "'A simple example class that writes its attributes i and j'"
      ]
     },
     "execution_count": 5,
     "metadata": {},
     "output_type": "execute_result"
    }
   ],
   "source": [
    "class MyFirstClass:\n",
    "    \n",
    "   \"A simple example class that writes its attributes i and j\"\n",
    "\n",
    "   def __init__(self, i, j): # Constructor\n",
    "      self.i = i\n",
    "      self.j = j\n",
    "    \n",
    "   def f(self):\n",
    "      print(\"MyClass: i, j = {}, {}\".format(self.i,self.j))\n",
    "\n",
    "object1 = MyFirstClass(6,9)\n",
    "object1.i, object1.j, object1.f()\n",
    "MyFirstClass.__doc__"
   ]
  },
  {
   "cell_type": "markdown",
   "metadata": {
    "slideshow": {
     "slide_type": "fragment"
    }
   },
   "source": [
    "- `obj` is an *instance* of MyClass.\n",
    "- `obj.f` is a *method* of `obj` instance.\n",
    "- `i` and `j` are attributes of `obj` instance."
   ]
  },
  {
   "cell_type": "markdown",
   "metadata": {
    "slideshow": {
     "slide_type": "slide"
    }
   },
   "source": [
    "# Method Overriding\n",
    "- Every Python classes has a `__repr__` method used when you call `print` function."
   ]
  },
  {
   "cell_type": "code",
   "execution_count": 6,
   "metadata": {
    "slideshow": {
     "slide_type": "fragment"
    }
   },
   "outputs": [
    {
     "name": "stdout",
     "output_type": "stream",
     "text": [
      "MyClass: i, j = 6, 9\n"
     ]
    }
   ],
   "source": [
    "class MyClass:\n",
    "   \"\"\"Simple example class with method overriding \"\"\"\n",
    "   def __init__(self, i, j):\n",
    "      self.i = i\n",
    "      self.j = j\n",
    "   def __repr__(self):\n",
    "      return \"MyClass: i, j = {}, {}\".format(self.i,self.j)\n",
    "\n",
    "object2 = MyClass(6,9)"
   ]
  },
  {
   "cell_type": "code",
   "execution_count": 8,
   "metadata": {
    "slideshow": {
     "slide_type": "fragment"
    }
   },
   "outputs": [
    {
     "name": "stdout",
     "output_type": "stream",
     "text": [
      "<__main__.MyFirstClass object at 0x10f20ef98>\n",
      "MyClass: i, j = 6, 9\n"
     ]
    }
   ],
   "source": [
    "print(object1)\n",
    "print(object2)"
   ]
  },
  {
   "cell_type": "markdown",
   "metadata": {
    "slideshow": {
     "slide_type": "slide"
    }
   },
   "source": [
    "# Inheritance"
   ]
  },
  {
   "cell_type": "code",
   "execution_count": 11,
   "metadata": {
    "slideshow": {
     "slide_type": "fragment"
    }
   },
   "outputs": [
    {
     "name": "stdout",
     "output_type": "stream",
     "text": [
      "MyClass: i, j = 6, 9\n",
      "MyDerivedClass: i, j, k = 6, 9, 12\n"
     ]
    }
   ],
   "source": [
    "class MyDerivedClass(MyClass):\n",
    "   \" Derived from MyClass with k attribute \"\n",
    "   def __init__(self, i, j, k):\n",
    "      super().__init__(i,j) # Call method in the parent class\n",
    "      self.k = k\n",
    "   def __repr__(self):\n",
    "      return \"MyDerivedClass: i, j, k = {}, {}, {}\".format(self.i,self.j,self.k)\n",
    "    \n",
    "object1 = MyClass(6,9)\n",
    "print(object1)\n",
    "object2 = MyDerivedClass(6,9,12)\n",
    "print(object2)"
   ]
  },
  {
   "cell_type": "markdown",
   "metadata": {
    "slideshow": {
     "slide_type": "slide"
    }
   },
   "source": [
    "# Private Variables and Methods"
   ]
  },
  {
   "cell_type": "code",
   "execution_count": 14,
   "metadata": {
    "slideshow": {
     "slide_type": "fragment"
    }
   },
   "outputs": [],
   "source": [
    "class DemoClass:\n",
    "    \" Demo class for name mangling \"\n",
    "    def public_method(self):\n",
    "        return 'public!'\n",
    "    def __private_method(self):  # Note the use of leading underscores\n",
    "        return 'private!'\n",
    "\n",
    "object3 = DemoClass()"
   ]
  },
  {
   "cell_type": "code",
   "execution_count": 15,
   "metadata": {
    "slideshow": {
     "slide_type": "fragment"
    }
   },
   "outputs": [
    {
     "data": {
      "text/plain": [
       "'public!'"
      ]
     },
     "execution_count": 15,
     "metadata": {},
     "output_type": "execute_result"
    }
   ],
   "source": [
    "object3.public_method()"
   ]
  },
  {
   "cell_type": "code",
   "execution_count": 16,
   "metadata": {
    "slideshow": {
     "slide_type": "fragment"
    }
   },
   "outputs": [
    {
     "ename": "AttributeError",
     "evalue": "'DemoClass' object has no attribute '__private_method'",
     "output_type": "error",
     "traceback": [
      "\u001b[0;31m---------------------------------------------------------------------------\u001b[0m",
      "\u001b[0;31mAttributeError\u001b[0m                            Traceback (most recent call last)",
      "\u001b[0;32m<ipython-input-16-5a4a6ba27511>\u001b[0m in \u001b[0;36m<module>\u001b[0;34m()\u001b[0m\n\u001b[0;32m----> 1\u001b[0;31m \u001b[0mobject3\u001b[0m\u001b[0;34m.\u001b[0m\u001b[0m__private_method\u001b[0m\u001b[0;34m(\u001b[0m\u001b[0;34m)\u001b[0m\u001b[0;34m\u001b[0m\u001b[0m\n\u001b[0m",
      "\u001b[0;31mAttributeError\u001b[0m: 'DemoClass' object has no attribute '__private_method'"
     ]
    }
   ],
   "source": [
    "object3.__private_method()"
   ]
  },
  {
   "cell_type": "code",
   "execution_count": 18,
   "metadata": {
    "slideshow": {
     "slide_type": "slide"
    }
   },
   "outputs": [
    {
     "data": {
      "text/plain": [
       "['_DemoClass__private_method', 'public_method']"
      ]
     },
     "execution_count": 18,
     "metadata": {},
     "output_type": "execute_result"
    }
   ],
   "source": [
    "[ s for s in dir(object3) if \"method\" in s]"
   ]
  },
  {
   "cell_type": "code",
   "execution_count": 20,
   "metadata": {
    "slideshow": {
     "slide_type": "fragment"
    }
   },
   "outputs": [
    {
     "data": {
      "text/plain": [
       "'private!'"
      ]
     },
     "execution_count": 20,
     "metadata": {},
     "output_type": "execute_result"
    }
   ],
   "source": [
    "object3._DemoClass__private_method()"
   ]
  },
  {
   "cell_type": "markdown",
   "metadata": {
    "slideshow": {
     "slide_type": "slide"
    }
   },
   "source": [
    "# Use `class` as a Function."
   ]
  },
  {
   "cell_type": "code",
   "execution_count": 21,
   "metadata": {
    "slideshow": {
     "slide_type": "fragment"
    }
   },
   "outputs": [
    {
     "data": {
      "text/plain": [
       "9"
      ]
     },
     "execution_count": 21,
     "metadata": {},
     "output_type": "execute_result"
    }
   ],
   "source": [
    "class F:\n",
    "    \n",
    "   \" Class to create function f:x,y -> a+b*x+c*y**2\"\n",
    "    \n",
    "   def __init__(self, a=1, b=1, c=1):\n",
    "      self.a=a\n",
    "      self.b=b\n",
    "      self.c=c\n",
    "        \n",
    "   def __call__(self, x, y):\n",
    "      return self.a+self.b*x+self.c*y*y\n",
    "\n",
    "f = F(a=2,b=4,c=-1)\n",
    "f(2,1) "
   ]
  },
  {
   "cell_type": "markdown",
   "metadata": {
    "slideshow": {
     "slide_type": "slide"
    }
   },
   "source": [
    "### Exercise: Polynomial\n",
    "\n",
    "- Create a class called Polynomial.\n",
    "- This class is built with a list containing the coefficients.\n",
    "- Create a method `diff(n)` to compute the nth derivative.\n",
    "- Override the __repr__ method to output a pretty printing.\n",
    "\n",
    "Hint: `\"{0:+d}\".format(coeff)` forces to print before the value of integer coeff."
   ]
  },
  {
   "cell_type": "markdown",
   "metadata": {},
   "source": [
    "<button data-toggle=\"collapse\" data-target=\"#polynom\" class='btn btn-primary'>Solution</button>\n",
    "<div id=\"polynom\" class=\"collapse\">\n",
    "```python\n",
    "class Polynomial:\n",
    "    \"\"\" Polynomial \"\"\"\n",
    "    def __init__( self, coefficients):\n",
    "        self.coeffs = coefficients\n",
    "        self.degree = len(coefficients)\n",
    "\n",
    "    def diff(self, n):\n",
    "        \"\"\" Return the nth derivative \"\"\"\n",
    "        coeffs = self.coeffs[:]\n",
    "        for k in range(n):\n",
    "            coeffs = [i * coeffs[i] for i in range(1,len(coeffs))]\n",
    "        return Polynomial(coeffs)\n",
    "\n",
    "    def __repr__(self):\n",
    "        output = \"\"\n",
    "        for i, c  in enumerate(self.coeffs):\n",
    "            output += \"{0:+d}x^{1}\".format(c,i)\n",
    "        return output\n",
    "\n",
    "    def pprint(self):\n",
    "        from IPython.display import Math, display\n",
    "        display(Math(self.__repr__()))\n",
    "\n",
    "P = Polynomial([-1,-1,1,-1,1])\n",
    "Q = P.diff(1)\n",
    "print(P)\n",
    "print(Q)\n",
    "```"
   ]
  },
  {
   "cell_type": "markdown",
   "metadata": {
    "slideshow": {
     "slide_type": "slide"
    }
   },
   "source": [
    "# Operators Overriding "
   ]
  },
  {
   "cell_type": "markdown",
   "metadata": {
    "slideshow": {
     "slide_type": "slide"
    }
   },
   "source": [
    "We can change the *class* attribute dimension."
   ]
  },
  {
   "cell_type": "code",
   "execution_count": 91,
   "metadata": {
    "slideshow": {
     "slide_type": "fragment"
    }
   },
   "outputs": [],
   "source": [
    "class MyVector:\n",
    "   \" Simple class to create vector with x and y coordinates\"\n",
    "   dimension = 2 \n",
    "   def __init__(self, x=0, y=0):\n",
    "      self.x=x\n",
    "      self.y=y\n",
    "        \n",
    "   def __eq__(self, vB): # override '=='\n",
    "      return (self.x==vB.x) and (self.y==vB.y)\n",
    "    \n",
    "   def __add__(self, vB): # override '+'\n",
    "      return MyVector(self.x+vB.x,self.y+vB.y)\n",
    "    \n",
    "   def __sub__(self, vB): # override '-'\n",
    "      return MyVector(self.x-vB.x,self.y-vB.y)\n",
    "    \n",
    "   def __mul__(self, c): # override '*'\n",
    "      if isinstance(c,MyVector):\n",
    "         return self.x*c.x+self.y*c.y\n",
    "      else:\n",
    "         return MyVector(c*self.x,c*self.y)"
   ]
  },
  {
   "cell_type": "code",
   "execution_count": 92,
   "metadata": {
    "slideshow": {
     "slide_type": "slide"
    }
   },
   "outputs": [
    {
     "data": {
      "text/plain": [
       "(<__main__.MyVector at 0x10f36c908>, <__main__.MyVector at 0x10f36c208>)"
      ]
     },
     "execution_count": 92,
     "metadata": {},
     "output_type": "execute_result"
    }
   ],
   "source": [
    "u = MyVector() \n",
    "u.x, u.y = 0, 1\n",
    "v = MyVector()\n",
    "v.x, v.y = 1, 0\n",
    "u, v"
   ]
  },
  {
   "cell_type": "code",
   "execution_count": 93,
   "metadata": {
    "slideshow": {
     "slide_type": "fragment"
    }
   },
   "outputs": [
    {
     "name": "stdout",
     "output_type": "stream",
     "text": [
      "<__main__.MyVector object at 0x10f331860> 1 1\n"
     ]
    }
   ],
   "source": [
    "w = u+v\n",
    "print (w, w.x, w.y)"
   ]
  },
  {
   "cell_type": "code",
   "execution_count": 94,
   "metadata": {
    "slideshow": {
     "slide_type": "fragment"
    }
   },
   "outputs": [
    {
     "data": {
      "text/plain": [
       "3"
      ]
     },
     "execution_count": 94,
     "metadata": {},
     "output_type": "execute_result"
    }
   ],
   "source": [
    "MyVector.dimension=3\n",
    "u.dimension"
   ]
  },
  {
   "cell_type": "code",
   "execution_count": 95,
   "metadata": {
    "slideshow": {
     "slide_type": "fragment"
    }
   },
   "outputs": [
    {
     "data": {
      "text/plain": [
       "3"
      ]
     },
     "execution_count": 95,
     "metadata": {},
     "output_type": "execute_result"
    }
   ],
   "source": [
    "v.dimension"
   ]
  },
  {
   "cell_type": "markdown",
   "metadata": {
    "slideshow": {
     "slide_type": "slide"
    }
   },
   "source": [
    "We can change the *instance* attribute dimension."
   ]
  },
  {
   "cell_type": "code",
   "execution_count": 96,
   "metadata": {
    "slideshow": {
     "slide_type": "fragment"
    }
   },
   "outputs": [],
   "source": [
    "u.dimension=4"
   ]
  },
  {
   "cell_type": "code",
   "execution_count": 97,
   "metadata": {
    "slideshow": {
     "slide_type": "fragment"
    }
   },
   "outputs": [
    {
     "data": {
      "text/plain": [
       "3"
      ]
     },
     "execution_count": 97,
     "metadata": {},
     "output_type": "execute_result"
    }
   ],
   "source": [
    "v.dimension"
   ]
  },
  {
   "cell_type": "code",
   "execution_count": 98,
   "metadata": {
    "slideshow": {
     "slide_type": "fragment"
    }
   },
   "outputs": [
    {
     "data": {
      "text/plain": [
       "4"
      ]
     },
     "execution_count": 98,
     "metadata": {},
     "output_type": "execute_result"
    }
   ],
   "source": [
    "MyVector.dimension=5\n",
    "u.dimension # set attribute keeps its value"
   ]
  },
  {
   "cell_type": "code",
   "execution_count": 99,
   "metadata": {
    "slideshow": {
     "slide_type": "fragment"
    }
   },
   "outputs": [
    {
     "data": {
      "text/plain": [
       "5"
      ]
     },
     "execution_count": 99,
     "metadata": {},
     "output_type": "execute_result"
    }
   ],
   "source": [
    "v.dimension # unset attribute is set to the new value"
   ]
  },
  {
   "cell_type": "markdown",
   "metadata": {
    "slideshow": {
     "slide_type": "slide"
    }
   },
   "source": [
    "### Exercise \n",
    "Improve the class Polynom by implementing operations:\n",
    "- Overrides '+' operator (__add__)\n",
    "- Overrides '-' operator (__neg__)\n",
    "- Overrides '==' operator (__eq__)"
   ]
  },
  {
   "cell_type": "markdown",
   "metadata": {
    "slideshow": {
     "slide_type": "slide"
    }
   },
   "source": [
    "<button data-toggle=\"collapse\" data-target=\"#polynom2\" class='btn btn-primary'>Solution</button>\n",
    "<div id=\"polynom2\" class=\"collapse\">\n",
    "```python\n",
    "class Polynomial:\n",
    "    \"\"\" Polynomial \"\"\"\n",
    "    def __init__( self, coefficients):\n",
    "        self.coeffs = coefficients\n",
    "        self.degree = len(coefficients)\n",
    "\n",
    "    def diff(self, n):\n",
    "        \"\"\" Return the nth derivative \"\"\"\n",
    "        coeffs = self.coeffs[:]\n",
    "        for k in range(n):\n",
    "            coeffs = [i * coeffs[i] for i in range(1,len(coeffs))]\n",
    "        return Polynomial(coeffs)\n",
    "\n",
    "    def __repr__(self):\n",
    "        output = \"\"\n",
    "        for i, c  in enumerate(self.coeffs):\n",
    "            output += \"{0:+d}x^{1}\".format(c,i)\n",
    "        return output\n",
    "\n",
    "    def pprint(self):\n",
    "        from IPython.display import Math, display\n",
    "        display(Math(self.__repr__()))\n",
    "\n",
    "    def __eq__(self, Q): # override '=='\n",
    "        return self.coeffs == Q.coeffs\n",
    "\n",
    "    def __add__( self, Q):  #  ( P + Q )\n",
    "        if self.degree < Q.degree:\n",
    "            coeffs = self.coeffs + [0]*(Q.degree - self.degree)\n",
    "            return Polynomial([c+q for c,q in zip(Q.coeffs,coeffs)])\n",
    "        else:\n",
    "            coeffs = Q.coeffs + [0]*(self.degree - Q.degree)\n",
    "            return Polynomial([c+q for c,q in zip(self.coeffs,coeffs)])\n",
    "        \n",
    "    def __neg__(self):\n",
    "        return Polynomial([-c for c in self.coeffs])\n",
    "\n",
    "    def __sub__(self, Q):\n",
    "        return self.__add__(-Q)\n",
    "    \n",
    "    def __mul__(self, Q): # (P * Q) or (alpha * P)\n",
    "\n",
    "        if isinstance(Q, Polynomial):\n",
    "            _s = self.coeffs\n",
    "            _q = Q.coeffs\n",
    "            res = [0]*(len(_s)+len(_q)-1)\n",
    "            for s_p,s_c in enumerate(_s):\n",
    "                for q_p, q_c in enumerate(_q):\n",
    "                    res[s_p+q_p] += s_c*q_c\n",
    "            return Polynomial(res)\n",
    "        else:\n",
    "            return Polynomial([c*Q for c in self.coeffs])\n",
    "            \n",
    "P = Polynomial([-3,-1,1,-1,4])\n",
    "Q = P.diff(2)\n",
    "S = -P\n",
    "print(P)\n",
    "print(Q)\n",
    "print(S)\n",
    "print(P+Q)\n",
    "print(Q+P)\n",
    "```"
   ]
  },
  {
   "cell_type": "markdown",
   "metadata": {
    "collapsed": true,
    "slideshow": {
     "slide_type": "slide"
    }
   },
   "source": [
    "# Iterators\n",
    "Most container objects can be looped over using a for statement:"
   ]
  },
  {
   "cell_type": "code",
   "execution_count": 215,
   "metadata": {
    "slideshow": {
     "slide_type": "fragment"
    }
   },
   "outputs": [
    {
     "name": "stdout",
     "output_type": "stream",
     "text": [
      "1 2 3 \n",
      "1 2 3 \n",
      "one two \n",
      "1 2 3 \n",
      "1\n"
     ]
    }
   ],
   "source": [
    "for element in [1, 2, 3]:\n",
    "    print(element, end=' ')\n",
    "print()\n",
    "for element in (1, 2, 3):\n",
    "    print(element, end= ' ')\n",
    "print()\n",
    "for key in {'one':1, 'two':2}:\n",
    "    print(key, end= ' ')\n",
    "print()\n",
    "for char in \"123\":\n",
    "    print(char, end= ' ')\n",
    "print()\n",
    "for line in open(\"workfile.txt\"):\n",
    "    print(line, end='')"
   ]
  },
  {
   "cell_type": "markdown",
   "metadata": {
    "slideshow": {
     "slide_type": "slide"
    }
   },
   "source": [
    "- The `for` statement calls `iter()` on the container object. \n",
    "- The function returns an iterator object that defines the method `__next__()`\n",
    "- To add iterator behavior to your classes: \n",
    "    - Define an `__iter__()` method which returns an object with a `__next__()`.\n",
    "    - If the class defines `__next__()`, then `__iter__()` can just return self.\n",
    "    - The **StopIteration** exception indicates the end of the loop."
   ]
  },
  {
   "cell_type": "code",
   "execution_count": 216,
   "metadata": {
    "slideshow": {
     "slide_type": "fragment"
    }
   },
   "outputs": [
    {
     "data": {
      "text/plain": [
       "<str_iterator at 0x10f2e4198>"
      ]
     },
     "execution_count": 216,
     "metadata": {},
     "output_type": "execute_result"
    }
   ],
   "source": [
    "s = 'abc'\n",
    "it = iter(s)\n",
    "it"
   ]
  },
  {
   "cell_type": "code",
   "execution_count": 217,
   "metadata": {
    "slideshow": {
     "slide_type": "fragment"
    }
   },
   "outputs": [
    {
     "data": {
      "text/plain": [
       "('a', 'b', 'c')"
      ]
     },
     "execution_count": 217,
     "metadata": {},
     "output_type": "execute_result"
    }
   ],
   "source": [
    "next(it), next(it), next(it)"
   ]
  },
  {
   "cell_type": "code",
   "execution_count": 218,
   "metadata": {
    "slideshow": {
     "slide_type": "slide"
    }
   },
   "outputs": [],
   "source": [
    "class Reverse:\n",
    "    \"\"\"Iterator for looping over a sequence backwards.\"\"\"\n",
    "    def __init__(self, data):\n",
    "        self.data = data\n",
    "        self.index = len(data)\n",
    "\n",
    "    def __iter__(self):\n",
    "        return self\n",
    "\n",
    "    def __next__(self):\n",
    "        if self.index == 0:\n",
    "            raise StopIteration\n",
    "        self.index = self.index - 1\n",
    "        return self.data[self.index]"
   ]
  },
  {
   "cell_type": "code",
   "execution_count": 219,
   "metadata": {
    "slideshow": {
     "slide_type": "fragment"
    }
   },
   "outputs": [
    {
     "name": "stdout",
     "output_type": "stream",
     "text": [
      "maps"
     ]
    }
   ],
   "source": [
    "rev = Reverse('spam')\n",
    "for char in rev:\n",
    "    print(char, end='')"
   ]
  },
  {
   "cell_type": "markdown",
   "metadata": {
    "slideshow": {
     "slide_type": "slide"
    }
   },
   "source": [
    "# Generators\n",
    "- Generators are a simple and powerful tool for creating iterators.\n",
    "- Write regular functions but use the yield statement when you want to return data.\n",
    "- the `__iter__()` and `__next__()` methods are created automatically.\n"
   ]
  },
  {
   "cell_type": "code",
   "execution_count": 220,
   "metadata": {
    "slideshow": {
     "slide_type": "fragment"
    }
   },
   "outputs": [],
   "source": [
    "def reverse(data):\n",
    "    for index in range(len(data)-1, -1, -1):\n",
    "        yield data[index]"
   ]
  },
  {
   "cell_type": "code",
   "execution_count": 221,
   "metadata": {
    "slideshow": {
     "slide_type": "fragment"
    }
   },
   "outputs": [
    {
     "name": "stdout",
     "output_type": "stream",
     "text": [
      "ruso"
     ]
    }
   ],
   "source": [
    "for char in reverse('osur'):\n",
    "     print(char, end='')"
   ]
  },
  {
   "cell_type": "markdown",
   "metadata": {
    "slideshow": {
     "slide_type": "slide"
    }
   },
   "source": [
    "# Generator Expressions\n",
    "\n",
    "- Use a syntax similar to list comprehensions but with parentheses instead of brackets.\n",
    "- Tend to be more memory friendly than equivalent list comprehensions."
   ]
  },
  {
   "cell_type": "code",
   "execution_count": 222,
   "metadata": {
    "slideshow": {
     "slide_type": "fragment"
    }
   },
   "outputs": [
    {
     "data": {
      "text/plain": [
       "285"
      ]
     },
     "execution_count": 222,
     "metadata": {},
     "output_type": "execute_result"
    }
   ],
   "source": [
    "sum(i*i for i in range(10))                 # sum of squares"
   ]
  },
  {
   "cell_type": "code",
   "execution_count": 223,
   "metadata": {
    "slideshow": {
     "slide_type": "fragment"
    }
   },
   "outputs": [
    {
     "name": "stdout",
     "output_type": "stream",
     "text": [
      "The memory_profiler extension is already loaded. To reload it, use:\n",
      "  %reload_ext memory_profiler\n"
     ]
    }
   ],
   "source": [
    "%load_ext memory_profiler"
   ]
  },
  {
   "cell_type": "code",
   "execution_count": 224,
   "metadata": {
    "slideshow": {
     "slide_type": "fragment"
    }
   },
   "outputs": [
    {
     "name": "stdout",
     "output_type": "stream",
     "text": [
      "peak memory: 49.58 MiB, increment: 0.69 MiB\n"
     ]
    }
   ],
   "source": [
    "%memit doubles = [2 * n for n in range(10000)]"
   ]
  },
  {
   "cell_type": "code",
   "execution_count": 225,
   "metadata": {
    "slideshow": {
     "slide_type": "fragment"
    }
   },
   "outputs": [
    {
     "name": "stdout",
     "output_type": "stream",
     "text": [
      "peak memory: 49.26 MiB, increment: -0.32 MiB\n"
     ]
    }
   ],
   "source": [
    "%memit doubles = (2 * n for n in range(10000))"
   ]
  },
  {
   "cell_type": "code",
   "execution_count": 226,
   "metadata": {
    "slideshow": {
     "slide_type": "slide"
    }
   },
   "outputs": [
    {
     "name": "stdout",
     "output_type": "stream",
     "text": [
      "0 2 4 6 8 10 12 14 16 18 "
     ]
    }
   ],
   "source": [
    "# list comprehension\n",
    "doubles = [2 * n for n in range(10)]\n",
    "for x in doubles:\n",
    "    print(x, end=' ')"
   ]
  },
  {
   "cell_type": "code",
   "execution_count": 227,
   "metadata": {
    "slideshow": {
     "slide_type": "fragment"
    }
   },
   "outputs": [
    {
     "name": "stdout",
     "output_type": "stream",
     "text": [
      "0 2 4 6 8 10 12 14 16 18 "
     ]
    }
   ],
   "source": [
    "# generator expression\n",
    "doubles = (2 * n for n in range(10))\n",
    "for x in doubles:\n",
    "    print(x, end=' ')"
   ]
  },
  {
   "cell_type": "markdown",
   "metadata": {
    "slideshow": {
     "slide_type": "slide"
    }
   },
   "source": [
    "# Use class to store data and function\n",
    "\n",
    "- A empty class can be used to bundle together a few named data items. \n",
    "- You can easily save this class containing your data in JSON file."
   ]
  },
  {
   "cell_type": "code",
   "execution_count": 228,
   "metadata": {
    "slideshow": {
     "slide_type": "fragment"
    }
   },
   "outputs": [],
   "source": [
    "class Employee:\n",
    "    pass\n",
    "\n",
    "john = Employee()  # Create an empty employee record\n",
    "\n",
    "# Fill the fields of the record\n",
    "john.name = 'John Doe'\n",
    "john.dept = 'computer lab'\n",
    "john.salary = 1000"
   ]
  },
  {
   "cell_type": "markdown",
   "metadata": {
    "slideshow": {
     "slide_type": "slide"
    }
   },
   "source": [
    "### Exercise\n",
    "\n",
    "The [Chebyshev polynomials](https://en.wikipedia.org/wiki/Chebyshev_polynomials) of the first kind are defined by the recurrence relation\n",
    "$$\n",
    "\\begin{eqnarray}\n",
    "T_o(x) &=& 1 \\\\\n",
    "T_1(x) &=& x \\\\\n",
    "T_{n+1} &=& 2xT_n(x)-T_{n-1}(x)\n",
    "\\end{eqnarray}\n",
    "$$\n",
    "- Create a class `Iterator` that generates the sequence of Chebyshev polynomials\n"
   ]
  },
  {
   "cell_type": "markdown",
   "metadata": {},
   "source": [
    "<button data-toggle=\"collapse\" data-target=\"#chebyshev\" class='btn btn-primary'>Solution</button>\n",
    "<div id=\"chebyshev\" class=\"collapse\">\n",
    "```python\n",
    "\n",
    "class Chebyshev:\n",
    "    \"\"\"\n",
    "    this class generates the sequence of Chebyshev polynomials of the first kind\n",
    "    \"\"\"\n",
    "    def __init__(self,n_max=10):\n",
    "        self.T_0 = Polynomial([1])\n",
    "        self.T_1 = Polynomial([0,1])\n",
    "        self.n_max = n_max \n",
    "        self.index = 0\n",
    "    def __iter__(self):       \n",
    "        return self    # Returns itself as an iterator object\n",
    "    def __next__(self):\n",
    "        T = self.T_0\n",
    "        self.index += 1\n",
    "        if self.index > self.n_max:\n",
    "            raise StopIteration()\n",
    "        self.T_0, self.T_1 = self.T_1, Polynomial([0,2])*self.T_1 - self.T_0\n",
    "        return T\n",
    "\n",
    "    \n",
    "for t in Chebyshev():\n",
    "    print(t)\n",
    "```"
   ]
  },
  {
   "cell_type": "code",
   "execution_count": null,
   "metadata": {},
   "outputs": [],
   "source": []
  }
 ],
 "metadata": {
  "kernelspec": {
   "display_name": "Python 3",
   "language": "python",
   "name": "python3"
  },
  "language_info": {
   "codemirror_mode": {
    "name": "ipython",
    "version": 3
   },
   "file_extension": ".py",
   "mimetype": "text/x-python",
   "name": "python",
   "nbconvert_exporter": "python",
   "pygments_lexer": "ipython3",
   "version": "3.6.3"
  }
 },
 "nbformat": 4,
 "nbformat_minor": 2
}
