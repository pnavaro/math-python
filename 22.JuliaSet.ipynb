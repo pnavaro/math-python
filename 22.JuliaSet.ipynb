{
 "metadata": {
  "celltoolbar": "Slideshow",
  "name": "",
  "signature": "sha256:54a60d1623b6dfb23984d6636d11d6a2ec9c4172586aacbaa153a6878a1ddb06"
 },
 "nbformat": 3,
 "nbformat_minor": 0,
 "worksheets": [
  {
   "cells": [
    {
     "cell_type": "code",
     "collapsed": false,
     "input": [
      "%matplotlib inline\n",
      "import numpy as np\n",
      "import matplotlib.pyplot as plt\n",
      "import matplotlib.cm as cm\n",
      "from timeit import default_timer as timer"
     ],
     "language": "python",
     "metadata": {
      "internals": {
       "slide_helper": "subslide_end",
       "slide_type": "subslide"
      },
      "slide_helper": "slide_end",
      "slideshow": {
       "slide_type": "skip"
      }
     },
     "outputs": [],
     "prompt_number": 1
    },
    {
     "cell_type": "markdown",
     "metadata": {
      "internals": {
       "slide_helper": "subslide_end",
       "slide_type": "subslide"
      },
      "slide_helper": "slide_end",
      "slideshow": {
       "slide_type": "slide"
      }
     },
     "source": [
      "<h1 align=\"center\">Ensemble de Julia</h1>\n",
      "<h3 align=\"center\">Lo\u00efc Gouarin</h3>\n",
      "<h3 align=\"center\">21 novembre 2014</h3>"
     ]
    },
    {
     "cell_type": "markdown",
     "metadata": {
      "internals": {
       "slide_helper": "subslide_end",
       "slide_type": "subslide"
      },
      "slide_helper": "slide_end",
      "slideshow": {
       "slide_type": "slide"
      }
     },
     "source": [
      "Soit $z_0$ un nombre complexe que l'on associe aux points du plan. Si un point a pour coordonn\u00e9es $(x, y)$ alors $z_0=x + iy$ (o\u00f9 $i^2=-1$). Soit $c$ un autre nombre complexe constant. On d\u00e9finit une suite $z_n$ par la relation de r\u00e9currence\n",
      "\n",
      "$$\n",
      "z_{n+1} = z_n^2 + c.\n",
      "$$\n",
      "\n",
      "Alors l'ensemble de Julia est l'ensemble des points $z_0$ dont la suite des it\u00e9r\u00e9s reste born\u00e9e."
     ]
    },
    {
     "cell_type": "markdown",
     "metadata": {
      "internals": {
       "slide_type": "subslide"
      },
      "slideshow": {
       "slide_type": "slide"
      }
     },
     "source": [
      "# D\u00e9finition des param\u00e8tres pour nos tests"
     ]
    },
    {
     "cell_type": "code",
     "collapsed": false,
     "input": [
      "# taille de la grille\n",
      "nx, ny = 128, 128\n",
      "#nx, ny = 1024, 1024\n",
      "# limites indiquant quand la suite diverge\n",
      "lim, maxit = 400, 2000\n",
      "# valeurs \u00e0 visualiser \n",
      "vmin, vmax = 0, 200\n",
      "# d\u00e9finition de la grille\n",
      "x = np.linspace(-1.6, 1.6, nx)\n",
      "y = np.linspace(-1.6, 1.6, ny)\n",
      "c = -0.772691322542185 + 0.124281466072787j"
     ],
     "language": "python",
     "metadata": {
      "internals": {
       "slide_helper": "subslide_end"
      },
      "slide_helper": "slide_end",
      "slideshow": {
       "slide_type": "-"
      }
     },
     "outputs": [],
     "prompt_number": 2
    },
    {
     "cell_type": "markdown",
     "metadata": {
      "internals": {
       "slide_type": "subslide"
      },
      "slideshow": {
       "slide_type": "slide"
      }
     },
     "source": [
      "# Version Python pur"
     ]
    },
    {
     "cell_type": "code",
     "collapsed": false,
     "input": [
      "def juliasetPurePython(x, y, c, lim, maxit):\n",
      "    \"\"\" \n",
      "    Renvoie l'ensemble de Julia\n",
      "    \n",
      "    Param\u00e8tres\n",
      "    ----------\n",
      "    x: coordonn\u00e9es des parties r\u00e9elles regard\u00e9es\n",
      "    y: coordonn\u00e9es des parties imaginaires regard\u00e9es\n",
      "    c: nombre complexe figurant dans z^2 + c\n",
      "    lim: limite du module complexe \u00e0 partir de laquelle la suite est dite divergente\n",
      "    maxit: nombre d'it\u00e9r\u00e9s maximal\n",
      "    \n",
      "    \"\"\"\n",
      "    julia = np.zeros((x.size, y.size))\n",
      "\n",
      "    for i in xrange(x.size):\n",
      "        for j in xrange(y.size):\n",
      "            z = x[i] + 1j*y[j]\n",
      "            ite = 0\n",
      "            while abs(z) < lim and ite < maxit:\n",
      "                z = z**2 + c\n",
      "                ite += 1\n",
      "            julia[j, i] = ite\n",
      "\n",
      "    return julia"
     ],
     "language": "python",
     "metadata": {
      "internals": {},
      "slideshow": {
       "slide_type": "-"
      }
     },
     "outputs": [],
     "prompt_number": 3
    },
    {
     "cell_type": "code",
     "collapsed": false,
     "input": [
      "julia1 = juliasetPurePython(x, y, c, lim, maxit)\n",
      "julia1[0, 0]\n",
      "plt.imshow(julia1)"
     ],
     "language": "python",
     "metadata": {
      "internals": {
       "slide_helper": "subslide_end"
      },
      "slide_helper": "slide_end",
      "slideshow": {
       "slide_type": "-"
      }
     },
     "outputs": [
      {
       "metadata": {},
       "output_type": "pyout",
       "prompt_number": 5,
       "text": [
        "<matplotlib.image.AxesImage at 0x407f6d0>"
       ]
      },
      {
       "metadata": {},
       "output_type": "display_data",
       "png": "[encoded data removed]",
       "text": [
        "<matplotlib.figure.Figure at 0x405b190>"
       ]
      }
     ],
     "prompt_number": 5
    },
    {
     "cell_type": "code",
     "collapsed": false,
     "input": [],
     "language": "python",
     "metadata": {},
     "outputs": []
    },
    {
     "cell_type": "markdown",
     "metadata": {
      "internals": {
       "slide_type": "subslide"
      },
      "slideshow": {
       "slide_type": "slide"
      }
     },
     "source": [
      "# Fonction permettant de r\u00e9cup\u00e9rer l'ensemble des temps d'ex\u00e9cution"
     ]
    },
    {
     "cell_type": "code",
     "collapsed": false,
     "input": [
      "def myTimer(fonction, fonction_args=(), nrep=10):\n",
      "    t = timer()\n",
      "    for i in xrange(nrep):\n",
      "        fonction(*fonction_args)\n",
      "    try:\n",
      "        name = fonction.__name__\n",
      "    except:\n",
      "        name = fonction.py_func.func_name\n",
      "    return [name, (timer() - t)/nrep]"
     ],
     "language": "python",
     "metadata": {
      "internals": {},
      "slideshow": {
       "slide_type": "-"
      }
     },
     "outputs": [],
     "prompt_number": 16
    },
    {
     "cell_type": "code",
     "collapsed": false,
     "input": [
      "import copy\n",
      "from pandas import DataFrame\n",
      "\n",
      "def printTable(execTime):\n",
      "    t = np.zeros(len(execTime))\n",
      "    cdata = copy.deepcopy(execTime)\n",
      "\n",
      "    for i in xrange(len(cdata)):\n",
      "        t[i] = cdata[i][1]\n",
      "        \n",
      "    mx = np.max(t)\n",
      "    for d in cdata:\n",
      "        d.append(mx/d[1])\n",
      "\n",
      "    df = DataFrame(data = cdata, columns=['Nom des fonctions', \"Temps d'ex\u00e9cution\", \"Rapport\"])\n",
      "    return df"
     ],
     "language": "python",
     "metadata": {
      "internals": {
       "slide_helper": "subslide_end"
      },
      "slide_helper": "slide_end",
      "slideshow": {
       "slide_type": "-"
      }
     },
     "outputs": [],
     "prompt_number": 6
    },
    {
     "cell_type": "markdown",
     "metadata": {
      "internals": {
       "slide_type": "subslide"
      },
      "slideshow": {
       "slide_type": "slide"
      }
     },
     "source": [
      "# Repr\u00e9sentation de l'ensemble de Julia"
     ]
    },
    {
     "cell_type": "code",
     "collapsed": false,
     "input": [
      "def plotJuliaSet(julia):\n",
      "    plt.figure(figsize=(10,10))\n",
      "    plt.imshow(julia, cmap = cm.Greys, vmin=vmin, vmax=vmax)"
     ],
     "language": "python",
     "metadata": {
      "internals": {},
      "slideshow": {
       "slide_type": "-"
      }
     },
     "outputs": [],
     "prompt_number": 7
    },
    {
     "cell_type": "code",
     "collapsed": false,
     "input": [
      "plotJuliaSet(julia1)"
     ],
     "language": "python",
     "metadata": {
      "internals": {
       "slide_helper": "subslide_end"
      },
      "slide_helper": "slide_end",
      "slideshow": {
       "slide_type": "-"
      }
     },
     "outputs": [
      {
       "metadata": {},
       "output_type": "display_data",
       "png": "[encoded data removed]",
       "text": [
        "<matplotlib.figure.Figure at 0x427f110>"
       ]
      }
     ],
     "prompt_number": 8
    },
    {
     "cell_type": "markdown",
     "metadata": {
      "internals": {
       "slide_type": "subslide"
      },
      "slideshow": {
       "slide_type": "slide"
      }
     },
     "source": [
      "# Version Numpy"
     ]
    },
    {
     "cell_type": "markdown",
     "metadata": {
      "internals": {},
      "slideshow": {
       "slide_type": "-"
      }
     },
     "source": [
      "Dans cette version, on essaie de vectoriser au maximum. Le co\u00fbt ici est que l'on fait plus d'op\u00e9rations que dans le cas Python pur. On ne gagne donc pas forc\u00e9ment beaucoup de temps comme on le verra par la suite."
     ]
    },
    {
     "cell_type": "code",
     "collapsed": false,
     "input": [
      "def juliasetNumpy(x, y, c, lim, maxit):\n",
      "    julia = np.zeros((x.size, y.size), dtype=np.int32)\n",
      "\n",
      "    zx = x[np.newaxis, :]\n",
      "    zy = y[:, np.newaxis]\n",
      "    \n",
      "    z = zx + zy*1j\n",
      "    \n",
      "    ite = 0\n",
      "    while not np.all(julia) and ite < maxit:\n",
      "        z = z**2 + c\n",
      "        mask = np.logical_not(julia) & (np.abs(z) >= lim)\n",
      "        ite += 1\n",
      "        julia[mask] = ite\n",
      "\n",
      "    return julia"
     ],
     "language": "python",
     "metadata": {
      "internals": {
       "slide_helper": "subslide_end"
      },
      "slide_helper": "subslide_end",
      "slideshow": {
       "slide_type": "-"
      }
     },
     "outputs": [],
     "prompt_number": 9
    },
    {
     "cell_type": "markdown",
     "metadata": {
      "internals": {
       "slide_type": "subslide"
      },
      "slideshow": {
       "slide_type": "subslide"
      }
     },
     "source": [
      "On calcule les temps d'ex\u00e9cution pour les versions Python pur et Numpy et on constate que l'on n'a pas gagn\u00e9 grand chose."
     ]
    },
    {
     "cell_type": "code",
     "collapsed": false,
     "input": [
      "execution_times = []\n",
      "execution_times.append(myTimer(juliasetPurePython, (x, y, c, lim, maxit), 1))\n",
      "execution_times.append(myTimer(juliasetNumpy, (x, y, c, lim, maxit), 1))"
     ],
     "language": "python",
     "metadata": {
      "internals": {},
      "slideshow": {
       "slide_type": "-"
      }
     },
     "outputs": [],
     "prompt_number": 10
    },
    {
     "cell_type": "code",
     "collapsed": false,
     "input": [
      "printTable(execution_times)"
     ],
     "language": "python",
     "metadata": {
      "internals": {
       "slide_helper": "subslide_end"
      },
      "slide_helper": "slide_end",
      "slideshow": {
       "slide_type": "-"
      }
     },
     "outputs": [
      {
       "html": [
        "<div style=\"max-height:1000px;max-width:1500px;overflow:auto;\">\n",
        "<table border=\"1\" class=\"dataframe\">\n",
        "  <thead>\n",
        "    <tr style=\"text-align: right;\">\n",
        "      <th></th>\n",
        "      <th>Nom des fonctions</th>\n",
        "      <th>Temps d'ex\u00e9cution</th>\n",
        "      <th>Rapport</th>\n",
        "    </tr>\n",
        "  </thead>\n",
        "  <tbody>\n",
        "    <tr>\n",
        "      <th>0</th>\n",
        "      <td> juliasetPurePython</td>\n",
        "      <td> 52.602572</td>\n",
        "      <td> 1.00000</td>\n",
        "    </tr>\n",
        "    <tr>\n",
        "      <th>1</th>\n",
        "      <td>      juliasetNumpy</td>\n",
        "      <td> 18.026554</td>\n",
        "      <td> 2.91806</td>\n",
        "    </tr>\n",
        "  </tbody>\n",
        "</table>\n",
        "</div>"
       ],
       "metadata": {},
       "output_type": "pyout",
       "prompt_number": 11,
       "text": [
        "    Nom des fonctions  Temps d'ex\u00e9cution  Rapport\n",
        "0  juliasetPurePython          52.602572  1.00000\n",
        "1       juliasetNumpy          18.026554  2.91806"
       ]
      }
     ],
     "prompt_number": 11
    },
    {
     "cell_type": "markdown",
     "metadata": {
      "internals": {
       "slide_type": "subslide"
      },
      "slideshow": {
       "slide_type": "slide"
      }
     },
     "source": [
      "# Version cython"
     ]
    },
    {
     "cell_type": "markdown",
     "metadata": {
      "internals": {},
      "slideshow": {
       "slide_type": "-"
      }
     },
     "source": [
      "On dit au *notebook* que l'on va se servir de cython \u00e0 l'aide de la commande"
     ]
    },
    {
     "cell_type": "code",
     "collapsed": false,
     "input": [
      "%load_ext cythonmagic"
     ],
     "language": "python",
     "metadata": {
      "internals": {},
      "slideshow": {
       "slide_type": "-"
      }
     },
     "outputs": [],
     "prompt_number": 1
    },
    {
     "cell_type": "markdown",
     "metadata": {
      "internals": {
       "slide_helper": "subslide_end"
      },
      "slide_helper": "subslide_end",
      "slideshow": {
       "slide_type": "-"
      }
     },
     "source": [
      "On commence par faire une premi\u00e8re version qui ressemble fortement \u00e0 la version Python pur sauf que l'on ajoute le typage de nos variables. Il faut \u00e9galement lui dire ce qu'est le module complexe car cette fonction n'existe pas en langage C."
     ]
    },
    {
     "cell_type": "code",
     "collapsed": false,
     "input": [
      "%%cython -a\n",
      "# ajouter l'option -a si vous voulez voir le code \n",
      "import numpy as np\n",
      "import cython\n",
      "\n",
      "cdef inline double cabs(double complex z) nogil:\n",
      "    return (z.real*z.real + z.imag*z.imag)\n",
      "\n",
      "@cython.boundscheck(False)\n",
      "@cython.wraparound(False)\n",
      "def juliasetCython_v1(double [:] x, double [:] y, double complex c, double lim, int maxit):\n",
      "    cdef:\n",
      "        int [:, ::1] julia = np.zeros((x.size, y.size), dtype = np.int32)\n",
      "        double lim2 = lim*lim\n",
      "        double complex z\n",
      "        int ite, i, j, nx=x.size, ny=y.size\n",
      "\n",
      "    for i in xrange(nx):\n",
      "        for j in xrange(ny):\n",
      "            z = x[i] + 1j*y[j]\n",
      "            ite = 0\n",
      "            while  cabs(z) < lim2 and ite < maxit:\n",
      "                z = z**2 + c\n",
      "                ite += 1\n",
      "            julia[j, i] = ite\n",
      "\n",
      "    return julia"
     ],
     "language": "python",
     "metadata": {
      "internals": {
       "slide_helper": "subslide_end",
       "slide_type": "subslide"
      },
      "slide_helper": "subslide_end",
      "slideshow": {
       "slide_type": "subslide"
      }
     },
     "outputs": [
      {
       "html": [
        "<!DOCTYPE html>\n",
        "<!-- Generated by Cython 0.20.1 on Wed Jul  9 14:00:19 2014 -->\n",
        "<html>\n",
        "\n",
        "<head>\n",
        "<meta http-equiv=\"Content-Type\" content=\"text/html; charset=utf-8\" />\n",
        "<style type=\"text/css\">\n",
        "\n",
        "body { font-family: courier; font-size: 12; }\n",
        "\n",
        ".code  { font-size: 9; color: #444444; display: none; margin-left: 20px; }\n",
        ".py_c_api  { color: red; }\n",
        ".py_macro_api  { color: #FF7000; }\n",
        ".pyx_c_api  { color: #FF3000; }\n",
        ".pyx_macro_api  { color: #FF7000; }\n",
        ".refnanny  { color: #FFA000; }\n",
        "\n",
        ".error_goto  { color: #FFA000; }\n",
        "\n",
        ".tag  {  }\n",
        "\n",
        ".coerce  { color: #008000; border: 1px dotted #008000 }\n",
        "\n",
        ".py_attr { color: #FF0000; font-weight: bold; }\n",
        ".c_attr  { color: #0000FF; }\n",
        "\n",
        ".py_call { color: #FF0000; font-weight: bold; }\n",
        ".c_call  { color: #0000FF; }\n",
        "\n",
        ".line { margin: 0em }\n",
        "\n",
        "</style>\n",
        "<script>\n",
        "function toggleDiv(id) {\n",
        "    theDiv = document.getElementById(id);\n",
        "    if (theDiv.style.display != 'block') theDiv.style.display = 'block';\n",
        "    else theDiv.style.display = 'none';\n",
        "}\n",
        "</script>\n",
        "</head>\n",
        "        <body>\n",
        "<p>Generated by Cython 0.20.1 on Wed Jul  9 14:00:19 2014\n",
        "<pre class='line' style='background-color: #FFFF79' onclick='toggleDiv(\"line1\")'> 1: # ajouter l'option -a si vous voulez voir le code</pre>\n",
        "<pre id='line1' class='code' style='background-color: #FFFF79'>  __pyx_t_1 = <span class='py_c_api'>PyDict_New</span>();<span class='error_goto'> if (unlikely(!__pyx_t_1)) {__pyx_filename = __pyx_f[0]; __pyx_lineno = 1; __pyx_clineno = __LINE__; goto __pyx_L1_error;}</span>\n",
        "  <span class='refnanny'>__Pyx_GOTREF</span>(__pyx_t_1);\n",
        "  if (<span class='py_c_api'>PyDict_SetItem</span>(__pyx_d, __pyx_n_s_test, __pyx_t_1) &lt; 0) <span class='error_goto'>{__pyx_filename = __pyx_f[0]; __pyx_lineno = 1; __pyx_clineno = __LINE__; goto __pyx_L1_error;}</span>\n",
        "  <span class='pyx_macro_api'>__Pyx_DECREF</span>(__pyx_t_1); __pyx_t_1 = 0;\n",
        "</pre><pre class='line' style='background-color: #FFFF8d' onclick='toggleDiv(\"line2\")'> 2: import numpy as np</pre>\n",
        "<pre id='line2' class='code' style='background-color: #FFFF8d'>  __pyx_t_1 = <span class='pyx_c_api'>__Pyx_Import</span>(__pyx_n_s_numpy, 0, -1);<span class='error_goto'> if (unlikely(!__pyx_t_1)) {__pyx_filename = __pyx_f[0]; __pyx_lineno = 2; __pyx_clineno = __LINE__; goto __pyx_L1_error;}</span>\n",
        "  <span class='refnanny'>__Pyx_GOTREF</span>(__pyx_t_1);\n",
        "  if (<span class='py_c_api'>PyDict_SetItem</span>(__pyx_d, __pyx_n_s_np, __pyx_t_1) &lt; 0) <span class='error_goto'>{__pyx_filename = __pyx_f[0]; __pyx_lineno = 2; __pyx_clineno = __LINE__; goto __pyx_L1_error;}</span>\n",
        "  <span class='pyx_macro_api'>__Pyx_DECREF</span>(__pyx_t_1); __pyx_t_1 = 0;\n",
        "</pre><pre class='line' style='background-color: #FFFFff' onclick='toggleDiv(\"line3\")'> 3: import cython</pre>\n",
        "<pre id='line3' class='code' style='background-color: #FFFFff'></pre><pre class='line' style='background-color: #FFFFff' onclick='toggleDiv(\"line4\")'> 4: </pre>\n",
        "<pre id='line4' class='code' style='background-color: #FFFFff'></pre><pre class='line' style='background-color: #FFFFff' onclick='toggleDiv(\"line5\")'> 5: cdef inline double cabs(double complex z) nogil:</pre>\n",
        "<pre id='line5' class='code' style='background-color: #FFFFff'>static CYTHON_INLINE double __pyx_f_46_cython_magic_9161895b59bf36bf8f907d0336f41fac_cabs(__pyx_t_double_complex __pyx_v_z) {\n",
        "  double __pyx_r;\n",
        "/* \u2026 */\n",
        "  /* function exit code */\n",
        "  __pyx_L0:;\n",
        "  return __pyx_r;\n",
        "}\n",
        "</pre><pre class='line' style='background-color: #FFFFb6' onclick='toggleDiv(\"line6\")'> 6:     return (z.real*z.real + z.imag*z.imag)</pre>\n",
        "<pre id='line6' class='code' style='background-color: #FFFFb6'>  __pyx_r = ((<span class='pyx_macro_api'>__Pyx_CREAL</span>(__pyx_v_z) * <span class='pyx_macro_api'>__Pyx_CREAL</span>(__pyx_v_z)) + (<span class='pyx_macro_api'>__Pyx_CIMAG</span>(__pyx_v_z) * <span class='pyx_macro_api'>__Pyx_CIMAG</span>(__pyx_v_z)));\n",
        "  goto __pyx_L0;\n",
        "</pre><pre class='line' style='background-color: #FFFFff' onclick='toggleDiv(\"line7\")'> 7: </pre>\n",
        "<pre id='line7' class='code' style='background-color: #FFFFff'></pre><pre class='line' style='background-color: #FFFFff' onclick='toggleDiv(\"line8\")'> 8: @cython.boundscheck(False)</pre>\n",
        "<pre id='line8' class='code' style='background-color: #FFFFff'></pre><pre class='line' style='background-color: #FFFFff' onclick='toggleDiv(\"line9\")'> 9: @cython.wraparound(False)</pre>\n",
        "<pre id='line9' class='code' style='background-color: #FFFFff'></pre><pre class='line' style='background-color: #FFFF19' onclick='toggleDiv(\"line10\")'> 10: def juliasetCython_v1(double [:] x, double [:] y, double complex c, double lim, int maxit):</pre>\n",
        "<pre id='line10' class='code' style='background-color: #FFFF19'>/* Python wrapper */\n",
        "static PyObject *__pyx_pw_46_cython_magic_9161895b59bf36bf8f907d0336f41fac_1juliasetCython_v1(PyObject *__pyx_self, PyObject *__pyx_args, PyObject *__pyx_kwds); /*proto*/\n",
        "static PyMethodDef __pyx_mdef_46_cython_magic_9161895b59bf36bf8f907d0336f41fac_1juliasetCython_v1 = {<span class='pyx_macro_api'>__Pyx_NAMESTR</span>(\"juliasetCython_v1\"), (PyCFunction)__pyx_pw_46_cython_magic_9161895b59bf36bf8f907d0336f41fac_1juliasetCython_v1, METH_VARARGS|METH_KEYWORDS, <span class='pyx_macro_api'>__Pyx_DOCSTR</span>(0)};\n",
        "static PyObject *__pyx_pw_46_cython_magic_9161895b59bf36bf8f907d0336f41fac_1juliasetCython_v1(PyObject *__pyx_self, PyObject *__pyx_args, PyObject *__pyx_kwds) {\n",
        "  __Pyx_memviewslice __pyx_v_x = { 0, 0, { 0 }, { 0 }, { 0 } };\n",
        "  __Pyx_memviewslice __pyx_v_y = { 0, 0, { 0 }, { 0 }, { 0 } };\n",
        "  __pyx_t_double_complex __pyx_v_c;\n",
        "  double __pyx_v_lim;\n",
        "  int __pyx_v_maxit;\n",
        "  PyObject *__pyx_r = 0;\n",
        "  <span class='refnanny'>__Pyx_RefNannyDeclarations</span>\n",
        "  <span class='refnanny'>__Pyx_RefNannySetupContext</span>(\"juliasetCython_v1 (wrapper)\", 0);\n",
        "  {\n",
        "    static PyObject **__pyx_pyargnames[] = {&amp;__pyx_n_s_x,&amp;__pyx_n_s_y,&amp;__pyx_n_s_c,&amp;__pyx_n_s_lim,&amp;__pyx_n_s_maxit,0};\n",
        "    PyObject* values[5] = {0,0,0,0,0};\n",
        "    if (unlikely(__pyx_kwds)) {\n",
        "      Py_ssize_t kw_args;\n",
        "      const Py_ssize_t pos_args = <span class='py_macro_api'>PyTuple_GET_SIZE</span>(__pyx_args);\n",
        "      switch (pos_args) {\n",
        "        case  5: values[4] = <span class='py_macro_api'>PyTuple_GET_ITEM</span>(__pyx_args, 4);\n",
        "        case  4: values[3] = <span class='py_macro_api'>PyTuple_GET_ITEM</span>(__pyx_args, 3);\n",
        "        case  3: values[2] = <span class='py_macro_api'>PyTuple_GET_ITEM</span>(__pyx_args, 2);\n",
        "        case  2: values[1] = <span class='py_macro_api'>PyTuple_GET_ITEM</span>(__pyx_args, 1);\n",
        "        case  1: values[0] = <span class='py_macro_api'>PyTuple_GET_ITEM</span>(__pyx_args, 0);\n",
        "        case  0: break;\n",
        "        default: goto __pyx_L5_argtuple_error;\n",
        "      }\n",
        "      kw_args = <span class='py_c_api'>PyDict_Size</span>(__pyx_kwds);\n",
        "      switch (pos_args) {\n",
        "        case  0:\n",
        "        if (likely((values[0] = <span class='py_c_api'>PyDict_GetItem</span>(__pyx_kwds, __pyx_n_s_x)) != 0)) kw_args--;\n",
        "        else goto __pyx_L5_argtuple_error;\n",
        "        case  1:\n",
        "        if (likely((values[1] = <span class='py_c_api'>PyDict_GetItem</span>(__pyx_kwds, __pyx_n_s_y)) != 0)) kw_args--;\n",
        "        else {\n",
        "          <span class='pyx_c_api'>__Pyx_RaiseArgtupleInvalid</span>(\"juliasetCython_v1\", 1, 5, 5, 1); <span class='error_goto'>{__pyx_filename = __pyx_f[0]; __pyx_lineno = 10; __pyx_clineno = __LINE__; goto __pyx_L3_error;}</span>\n",
        "        }\n",
        "        case  2:\n",
        "        if (likely((values[2] = <span class='py_c_api'>PyDict_GetItem</span>(__pyx_kwds, __pyx_n_s_c)) != 0)) kw_args--;\n",
        "        else {\n",
        "          <span class='pyx_c_api'>__Pyx_RaiseArgtupleInvalid</span>(\"juliasetCython_v1\", 1, 5, 5, 2); <span class='error_goto'>{__pyx_filename = __pyx_f[0]; __pyx_lineno = 10; __pyx_clineno = __LINE__; goto __pyx_L3_error;}</span>\n",
        "        }\n",
        "        case  3:\n",
        "        if (likely((values[3] = <span class='py_c_api'>PyDict_GetItem</span>(__pyx_kwds, __pyx_n_s_lim)) != 0)) kw_args--;\n",
        "        else {\n",
        "          <span class='pyx_c_api'>__Pyx_RaiseArgtupleInvalid</span>(\"juliasetCython_v1\", 1, 5, 5, 3); <span class='error_goto'>{__pyx_filename = __pyx_f[0]; __pyx_lineno = 10; __pyx_clineno = __LINE__; goto __pyx_L3_error;}</span>\n",
        "        }\n",
        "        case  4:\n",
        "        if (likely((values[4] = <span class='py_c_api'>PyDict_GetItem</span>(__pyx_kwds, __pyx_n_s_maxit)) != 0)) kw_args--;\n",
        "        else {\n",
        "          <span class='pyx_c_api'>__Pyx_RaiseArgtupleInvalid</span>(\"juliasetCython_v1\", 1, 5, 5, 4); <span class='error_goto'>{__pyx_filename = __pyx_f[0]; __pyx_lineno = 10; __pyx_clineno = __LINE__; goto __pyx_L3_error;}</span>\n",
        "        }\n",
        "      }\n",
        "      if (unlikely(kw_args &gt; 0)) {\n",
        "        if (unlikely(<span class='pyx_c_api'>__Pyx_ParseOptionalKeywords</span>(__pyx_kwds, __pyx_pyargnames, 0, values, pos_args, \"juliasetCython_v1\") &lt; 0)) <span class='error_goto'>{__pyx_filename = __pyx_f[0]; __pyx_lineno = 10; __pyx_clineno = __LINE__; goto __pyx_L3_error;}</span>\n",
        "      }\n",
        "    } else if (<span class='py_macro_api'>PyTuple_GET_SIZE</span>(__pyx_args) != 5) {\n",
        "      goto __pyx_L5_argtuple_error;\n",
        "    } else {\n",
        "      values[0] = <span class='py_macro_api'>PyTuple_GET_ITEM</span>(__pyx_args, 0);\n",
        "      values[1] = <span class='py_macro_api'>PyTuple_GET_ITEM</span>(__pyx_args, 1);\n",
        "      values[2] = <span class='py_macro_api'>PyTuple_GET_ITEM</span>(__pyx_args, 2);\n",
        "      values[3] = <span class='py_macro_api'>PyTuple_GET_ITEM</span>(__pyx_args, 3);\n",
        "      values[4] = <span class='py_macro_api'>PyTuple_GET_ITEM</span>(__pyx_args, 4);\n",
        "    }\n",
        "    __pyx_v_x = <span class='pyx_c_api'>__Pyx_PyObject_to_MemoryviewSlice_ds_double</span>(values[0]);<span class='error_goto'> if (unlikely(!__pyx_v_x.memview)) {__pyx_filename = __pyx_f[0]; __pyx_lineno = 10; __pyx_clineno = __LINE__; goto __pyx_L3_error;}</span>\n",
        "    __pyx_v_y = <span class='pyx_c_api'>__Pyx_PyObject_to_MemoryviewSlice_ds_double</span>(values[1]);<span class='error_goto'> if (unlikely(!__pyx_v_y.memview)) {__pyx_filename = __pyx_f[0]; __pyx_lineno = 10; __pyx_clineno = __LINE__; goto __pyx_L3_error;}</span>\n",
        "    __pyx_v_c = <span class='pyx_c_api'>__Pyx_PyComplex_As___pyx_t_double_complex</span>(values[2]);<span class='error_goto'> if (unlikely(PyErr_Occurred())) {__pyx_filename = __pyx_f[0]; __pyx_lineno = 10; __pyx_clineno = __LINE__; goto __pyx_L3_error;}</span>\n",
        "    __pyx_v_lim = __pyx_<span class='py_c_api'>PyFloat_AsDouble</span>(values[3]);<span class='error_goto'> if (unlikely((__pyx_v_lim == (double)-1) &amp;&amp; PyErr_Occurred())) {__pyx_filename = __pyx_f[0]; __pyx_lineno = 10; __pyx_clineno = __LINE__; goto __pyx_L3_error;}</span>\n",
        "    __pyx_v_maxit = <span class='pyx_c_api'>__Pyx_PyInt_As_int</span>(values[4]);<span class='error_goto'> if (unlikely((__pyx_v_maxit == (int)-1) &amp;&amp; PyErr_Occurred())) {__pyx_filename = __pyx_f[0]; __pyx_lineno = 10; __pyx_clineno = __LINE__; goto __pyx_L3_error;}</span>\n",
        "  }\n",
        "  goto __pyx_L4_argument_unpacking_done;\n",
        "  __pyx_L5_argtuple_error:;\n",
        "  <span class='pyx_c_api'>__Pyx_RaiseArgtupleInvalid</span>(\"juliasetCython_v1\", 1, 5, 5, <span class='py_macro_api'>PyTuple_GET_SIZE</span>(__pyx_args)); <span class='error_goto'>{__pyx_filename = __pyx_f[0]; __pyx_lineno = 10; __pyx_clineno = __LINE__; goto __pyx_L3_error;}</span>\n",
        "  __pyx_L3_error:;\n",
        "  <span class='pyx_c_api'>__Pyx_AddTraceback</span>(\"_cython_magic_9161895b59bf36bf8f907d0336f41fac.juliasetCython_v1\", __pyx_clineno, __pyx_lineno, __pyx_filename);\n",
        "  <span class='refnanny'>__Pyx_RefNannyFinishContext</span>();\n",
        "  return NULL;\n",
        "  __pyx_L4_argument_unpacking_done:;\n",
        "  __pyx_r = __pyx_pf_46_cython_magic_9161895b59bf36bf8f907d0336f41fac_juliasetCython_v1(__pyx_self, __pyx_v_x, __pyx_v_y, __pyx_v_c, __pyx_v_lim, __pyx_v_maxit);\n",
        "  int __pyx_lineno = 0;\n",
        "  const char *__pyx_filename = NULL;\n",
        "  int __pyx_clineno = 0;\n",
        "\n",
        "  /* function exit code */\n",
        "  <span class='refnanny'>__Pyx_RefNannyFinishContext</span>();\n",
        "  return __pyx_r;\n",
        "}\n",
        "\n",
        "static PyObject *__pyx_pf_46_cython_magic_9161895b59bf36bf8f907d0336f41fac_juliasetCython_v1(CYTHON_UNUSED PyObject *__pyx_self, __Pyx_memviewslice __pyx_v_x, __Pyx_memviewslice __pyx_v_y, __pyx_t_double_complex __pyx_v_c, double __pyx_v_lim, int __pyx_v_maxit) {\n",
        "  __Pyx_memviewslice __pyx_v_julia = { 0, 0, { 0 }, { 0 }, { 0 } };\n",
        "  double __pyx_v_lim2;\n",
        "  __pyx_t_double_complex __pyx_v_z;\n",
        "  int __pyx_v_ite;\n",
        "  int __pyx_v_i;\n",
        "  int __pyx_v_j;\n",
        "  int __pyx_v_nx;\n",
        "  int __pyx_v_ny;\n",
        "  PyObject *__pyx_r = NULL;\n",
        "  <span class='refnanny'>__Pyx_RefNannyDeclarations</span>\n",
        "  <span class='refnanny'>__Pyx_RefNannySetupContext</span>(\"juliasetCython_v1\", 0);\n",
        "/* \u2026 */\n",
        "  /* function exit code */\n",
        "  __pyx_L1_error:;\n",
        "  <span class='pyx_macro_api'>__Pyx_XDECREF</span>(__pyx_t_1);\n",
        "  <span class='pyx_macro_api'>__Pyx_XDECREF</span>(__pyx_t_2);\n",
        "  <span class='pyx_macro_api'>__Pyx_XDECREF</span>(__pyx_t_3);\n",
        "  <span class='pyx_macro_api'>__Pyx_XDECREF</span>(__pyx_t_4);\n",
        "  <span class='pyx_macro_api'>__Pyx_XDECREF</span>(__pyx_t_5);\n",
        "  __PYX_XDEC_MEMVIEW(&amp;__pyx_t_6, 1);\n",
        "  <span class='pyx_c_api'>__Pyx_AddTraceback</span>(\"_cython_magic_9161895b59bf36bf8f907d0336f41fac.juliasetCython_v1\", __pyx_clineno, __pyx_lineno, __pyx_filename);\n",
        "  __pyx_r = NULL;\n",
        "  __pyx_L0:;\n",
        "  __PYX_XDEC_MEMVIEW(&amp;__pyx_v_julia, 1);\n",
        "  __PYX_XDEC_MEMVIEW(&amp;__pyx_v_x, 1);\n",
        "  __PYX_XDEC_MEMVIEW(&amp;__pyx_v_y, 1);\n",
        "  <span class='refnanny'>__Pyx_XGIVEREF</span>(__pyx_r);\n",
        "  <span class='refnanny'>__Pyx_RefNannyFinishContext</span>();\n",
        "  return __pyx_r;\n",
        "}\n",
        "/* \u2026 */\n",
        "  __pyx_tuple__14 = <span class='py_c_api'>PyTuple_Pack</span>(13, __pyx_n_s_x, __pyx_n_s_y, __pyx_n_s_c, __pyx_n_s_lim, __pyx_n_s_maxit, __pyx_n_s_julia, __pyx_n_s_lim2, __pyx_n_s_z, __pyx_n_s_ite, __pyx_n_s_i, __pyx_n_s_j, __pyx_n_s_nx, __pyx_n_s_ny);<span class='error_goto'> if (unlikely(!__pyx_tuple__14)) {__pyx_filename = __pyx_f[0]; __pyx_lineno = 10; __pyx_clineno = __LINE__; goto __pyx_L1_error;}</span>\n",
        "  <span class='refnanny'>__Pyx_GOTREF</span>(__pyx_tuple__14);\n",
        "  <span class='refnanny'>__Pyx_GIVEREF</span>(__pyx_tuple__14);\n",
        "/* \u2026 */\n",
        "  __pyx_t_1 = PyCFunction_NewEx(&amp;__pyx_mdef_46_cython_magic_9161895b59bf36bf8f907d0336f41fac_1juliasetCython_v1, NULL, __pyx_n_s_cython_magic_9161895b59bf36bf8f);<span class='error_goto'> if (unlikely(!__pyx_t_1)) {__pyx_filename = __pyx_f[0]; __pyx_lineno = 10; __pyx_clineno = __LINE__; goto __pyx_L1_error;}</span>\n",
        "  <span class='refnanny'>__Pyx_GOTREF</span>(__pyx_t_1);\n",
        "  if (<span class='py_c_api'>PyDict_SetItem</span>(__pyx_d, __pyx_n_s_juliasetCython_v1, __pyx_t_1) &lt; 0) <span class='error_goto'>{__pyx_filename = __pyx_f[0]; __pyx_lineno = 10; __pyx_clineno = __LINE__; goto __pyx_L1_error;}</span>\n",
        "  <span class='pyx_macro_api'>__Pyx_DECREF</span>(__pyx_t_1); __pyx_t_1 = 0;\n",
        "  __pyx_codeobj__15 = (PyObject*)<span class='pyx_c_api'>__Pyx_PyCode_New</span>(5, 0, 13, 0, 0, __pyx_empty_bytes, __pyx_empty_tuple, __pyx_empty_tuple, __pyx_tuple__14, __pyx_empty_tuple, __pyx_empty_tuple, __pyx_kp_s_home_gouarin_cache_ipython_cyth, __pyx_n_s_juliasetCython_v1, 10, __pyx_empty_bytes);<span class='error_goto'> if (unlikely(!__pyx_codeobj__15)) {__pyx_filename = __pyx_f[0]; __pyx_lineno = 10; __pyx_clineno = __LINE__; goto __pyx_L1_error;}</span>\n",
        "</pre><pre class='line' style='background-color: #FFFFff' onclick='toggleDiv(\"line11\")'> 11:     cdef:</pre>\n",
        "<pre id='line11' class='code' style='background-color: #FFFFff'></pre><pre class='line' style='background-color: #FFFF2b' onclick='toggleDiv(\"line12\")'> 12:         int [:, ::1] julia = np.zeros((x.size, y.size), dtype = np.int32)</pre>\n",
        "<pre id='line12' class='code' style='background-color: #FFFF2b'>  __pyx_t_1 = <span class='pyx_c_api'>__Pyx_GetModuleGlobalName</span>(__pyx_n_s_np);<span class='error_goto'> if (unlikely(!__pyx_t_1)) {__pyx_filename = __pyx_f[0]; __pyx_lineno = 12; __pyx_clineno = __LINE__; goto __pyx_L1_error;}</span>\n",
        "  <span class='refnanny'>__Pyx_GOTREF</span>(__pyx_t_1);\n",
        "  __pyx_t_2 = <span class='pyx_c_api'>__Pyx_PyObject_GetAttrStr</span>(__pyx_t_1, __pyx_n_s_zeros);<span class='error_goto'> if (unlikely(!__pyx_t_2)) {__pyx_filename = __pyx_f[0]; __pyx_lineno = 12; __pyx_clineno = __LINE__; goto __pyx_L1_error;}</span>\n",
        "  <span class='refnanny'>__Pyx_GOTREF</span>(__pyx_t_2);\n",
        "  <span class='pyx_macro_api'>__Pyx_DECREF</span>(__pyx_t_1); __pyx_t_1 = 0;\n",
        "  __pyx_t_1 = __pyx_memoryview_fromslice(__pyx_v_x, 1, (PyObject *(*)(char *)) __pyx_memview_get_double, (int (*)(char *, PyObject *)) __pyx_memview_set_double, 0);;<span class='error_goto'> if (unlikely(!__pyx_t_1)) {__pyx_filename = __pyx_f[0]; __pyx_lineno = 12; __pyx_clineno = __LINE__; goto __pyx_L1_error;}</span>\n",
        "  <span class='refnanny'>__Pyx_GOTREF</span>(__pyx_t_1);\n",
        "  __pyx_t_3 = <span class='pyx_c_api'>__Pyx_PyObject_GetAttrStr</span>(__pyx_t_1, __pyx_n_s_size);<span class='error_goto'> if (unlikely(!__pyx_t_3)) {__pyx_filename = __pyx_f[0]; __pyx_lineno = 12; __pyx_clineno = __LINE__; goto __pyx_L1_error;}</span>\n",
        "  <span class='refnanny'>__Pyx_GOTREF</span>(__pyx_t_3);\n",
        "  <span class='pyx_macro_api'>__Pyx_DECREF</span>(__pyx_t_1); __pyx_t_1 = 0;\n",
        "  __pyx_t_1 = __pyx_memoryview_fromslice(__pyx_v_y, 1, (PyObject *(*)(char *)) __pyx_memview_get_double, (int (*)(char *, PyObject *)) __pyx_memview_set_double, 0);;<span class='error_goto'> if (unlikely(!__pyx_t_1)) {__pyx_filename = __pyx_f[0]; __pyx_lineno = 12; __pyx_clineno = __LINE__; goto __pyx_L1_error;}</span>\n",
        "  <span class='refnanny'>__Pyx_GOTREF</span>(__pyx_t_1);\n",
        "  __pyx_t_4 = <span class='pyx_c_api'>__Pyx_PyObject_GetAttrStr</span>(__pyx_t_1, __pyx_n_s_size);<span class='error_goto'> if (unlikely(!__pyx_t_4)) {__pyx_filename = __pyx_f[0]; __pyx_lineno = 12; __pyx_clineno = __LINE__; goto __pyx_L1_error;}</span>\n",
        "  <span class='refnanny'>__Pyx_GOTREF</span>(__pyx_t_4);\n",
        "  <span class='pyx_macro_api'>__Pyx_DECREF</span>(__pyx_t_1); __pyx_t_1 = 0;\n",
        "  __pyx_t_1 = <span class='py_c_api'>PyTuple_New</span>(2);<span class='error_goto'> if (unlikely(!__pyx_t_1)) {__pyx_filename = __pyx_f[0]; __pyx_lineno = 12; __pyx_clineno = __LINE__; goto __pyx_L1_error;}</span>\n",
        "  <span class='refnanny'>__Pyx_GOTREF</span>(__pyx_t_1);\n",
        "  <span class='py_macro_api'>PyTuple_SET_ITEM</span>(__pyx_t_1, 0, __pyx_t_3);\n",
        "  <span class='refnanny'>__Pyx_GIVEREF</span>(__pyx_t_3);\n",
        "  <span class='py_macro_api'>PyTuple_SET_ITEM</span>(__pyx_t_1, 1, __pyx_t_4);\n",
        "  <span class='refnanny'>__Pyx_GIVEREF</span>(__pyx_t_4);\n",
        "  __pyx_t_3 = 0;\n",
        "  __pyx_t_4 = 0;\n",
        "  __pyx_t_4 = <span class='py_c_api'>PyTuple_New</span>(1);<span class='error_goto'> if (unlikely(!__pyx_t_4)) {__pyx_filename = __pyx_f[0]; __pyx_lineno = 12; __pyx_clineno = __LINE__; goto __pyx_L1_error;}</span>\n",
        "  <span class='refnanny'>__Pyx_GOTREF</span>(__pyx_t_4);\n",
        "  <span class='py_macro_api'>PyTuple_SET_ITEM</span>(__pyx_t_4, 0, __pyx_t_1);\n",
        "  <span class='refnanny'>__Pyx_GIVEREF</span>(__pyx_t_1);\n",
        "  __pyx_t_1 = 0;\n",
        "  __pyx_t_1 = <span class='py_c_api'>PyDict_New</span>();<span class='error_goto'> if (unlikely(!__pyx_t_1)) {__pyx_filename = __pyx_f[0]; __pyx_lineno = 12; __pyx_clineno = __LINE__; goto __pyx_L1_error;}</span>\n",
        "  <span class='refnanny'>__Pyx_GOTREF</span>(__pyx_t_1);\n",
        "  __pyx_t_3 = <span class='pyx_c_api'>__Pyx_GetModuleGlobalName</span>(__pyx_n_s_np);<span class='error_goto'> if (unlikely(!__pyx_t_3)) {__pyx_filename = __pyx_f[0]; __pyx_lineno = 12; __pyx_clineno = __LINE__; goto __pyx_L1_error;}</span>\n",
        "  <span class='refnanny'>__Pyx_GOTREF</span>(__pyx_t_3);\n",
        "  __pyx_t_5 = <span class='pyx_c_api'>__Pyx_PyObject_GetAttrStr</span>(__pyx_t_3, __pyx_n_s_int32);<span class='error_goto'> if (unlikely(!__pyx_t_5)) {__pyx_filename = __pyx_f[0]; __pyx_lineno = 12; __pyx_clineno = __LINE__; goto __pyx_L1_error;}</span>\n",
        "  <span class='refnanny'>__Pyx_GOTREF</span>(__pyx_t_5);\n",
        "  <span class='pyx_macro_api'>__Pyx_DECREF</span>(__pyx_t_3); __pyx_t_3 = 0;\n",
        "  if (<span class='py_c_api'>PyDict_SetItem</span>(__pyx_t_1, __pyx_n_s_dtype, __pyx_t_5) &lt; 0) <span class='error_goto'>{__pyx_filename = __pyx_f[0]; __pyx_lineno = 12; __pyx_clineno = __LINE__; goto __pyx_L1_error;}</span>\n",
        "  <span class='pyx_macro_api'>__Pyx_DECREF</span>(__pyx_t_5); __pyx_t_5 = 0;\n",
        "  __pyx_t_5 = <span class='pyx_c_api'>__Pyx_PyObject_Call</span>(__pyx_t_2, __pyx_t_4, __pyx_t_1);<span class='error_goto'> if (unlikely(!__pyx_t_5)) {__pyx_filename = __pyx_f[0]; __pyx_lineno = 12; __pyx_clineno = __LINE__; goto __pyx_L1_error;}</span>\n",
        "  <span class='refnanny'>__Pyx_GOTREF</span>(__pyx_t_5);\n",
        "  <span class='pyx_macro_api'>__Pyx_DECREF</span>(__pyx_t_2); __pyx_t_2 = 0;\n",
        "  <span class='pyx_macro_api'>__Pyx_DECREF</span>(__pyx_t_4); __pyx_t_4 = 0;\n",
        "  <span class='pyx_macro_api'>__Pyx_DECREF</span>(__pyx_t_1); __pyx_t_1 = 0;\n",
        "  __pyx_t_6 = <span class='pyx_c_api'>__Pyx_PyObject_to_MemoryviewSlice_d_dc_int</span>(__pyx_t_5);\n",
        "  if (unlikely(!__pyx_t_6.memview)) <span class='error_goto'>{__pyx_filename = __pyx_f[0]; __pyx_lineno = 12; __pyx_clineno = __LINE__; goto __pyx_L1_error;}</span>\n",
        "  <span class='pyx_macro_api'>__Pyx_DECREF</span>(__pyx_t_5); __pyx_t_5 = 0;\n",
        "  __pyx_v_julia = __pyx_t_6;\n",
        "  __pyx_t_6.memview = NULL;\n",
        "  __pyx_t_6.data = NULL;\n",
        "</pre><pre class='line' style='background-color: #FFFFff' onclick='toggleDiv(\"line13\")'> 13:         double lim2 = lim*lim</pre>\n",
        "<pre id='line13' class='code' style='background-color: #FFFFff'>  __pyx_v_lim2 = (__pyx_v_lim * __pyx_v_lim);\n",
        "</pre><pre class='line' style='background-color: #FFFFff' onclick='toggleDiv(\"line14\")'> 14:         double complex z</pre>\n",
        "<pre id='line14' class='code' style='background-color: #FFFFff'></pre><pre class='line' style='background-color: #FFFF73' onclick='toggleDiv(\"line15\")'> 15:         int ite, i, j, nx=x.size, ny=y.size</pre>\n",
        "<pre id='line15' class='code' style='background-color: #FFFF73'>  __pyx_t_5 = __pyx_memoryview_fromslice(__pyx_v_x, 1, (PyObject *(*)(char *)) __pyx_memview_get_double, (int (*)(char *, PyObject *)) __pyx_memview_set_double, 0);;<span class='error_goto'> if (unlikely(!__pyx_t_5)) {__pyx_filename = __pyx_f[0]; __pyx_lineno = 15; __pyx_clineno = __LINE__; goto __pyx_L1_error;}</span>\n",
        "  <span class='refnanny'>__Pyx_GOTREF</span>(__pyx_t_5);\n",
        "  __pyx_t_1 = <span class='pyx_c_api'>__Pyx_PyObject_GetAttrStr</span>(__pyx_t_5, __pyx_n_s_size);<span class='error_goto'> if (unlikely(!__pyx_t_1)) {__pyx_filename = __pyx_f[0]; __pyx_lineno = 15; __pyx_clineno = __LINE__; goto __pyx_L1_error;}</span>\n",
        "  <span class='refnanny'>__Pyx_GOTREF</span>(__pyx_t_1);\n",
        "  <span class='pyx_macro_api'>__Pyx_DECREF</span>(__pyx_t_5); __pyx_t_5 = 0;\n",
        "  __pyx_t_7 = <span class='pyx_c_api'>__Pyx_PyInt_As_int</span>(__pyx_t_1);<span class='error_goto'> if (unlikely((__pyx_t_7 == (int)-1) &amp;&amp; PyErr_Occurred())) {__pyx_filename = __pyx_f[0]; __pyx_lineno = 15; __pyx_clineno = __LINE__; goto __pyx_L1_error;}</span>\n",
        "  <span class='pyx_macro_api'>__Pyx_DECREF</span>(__pyx_t_1); __pyx_t_1 = 0;\n",
        "  __pyx_v_nx = __pyx_t_7;\n",
        "  __pyx_t_1 = __pyx_memoryview_fromslice(__pyx_v_y, 1, (PyObject *(*)(char *)) __pyx_memview_get_double, (int (*)(char *, PyObject *)) __pyx_memview_set_double, 0);;<span class='error_goto'> if (unlikely(!__pyx_t_1)) {__pyx_filename = __pyx_f[0]; __pyx_lineno = 15; __pyx_clineno = __LINE__; goto __pyx_L1_error;}</span>\n",
        "  <span class='refnanny'>__Pyx_GOTREF</span>(__pyx_t_1);\n",
        "  __pyx_t_5 = <span class='pyx_c_api'>__Pyx_PyObject_GetAttrStr</span>(__pyx_t_1, __pyx_n_s_size);<span class='error_goto'> if (unlikely(!__pyx_t_5)) {__pyx_filename = __pyx_f[0]; __pyx_lineno = 15; __pyx_clineno = __LINE__; goto __pyx_L1_error;}</span>\n",
        "  <span class='refnanny'>__Pyx_GOTREF</span>(__pyx_t_5);\n",
        "  <span class='pyx_macro_api'>__Pyx_DECREF</span>(__pyx_t_1); __pyx_t_1 = 0;\n",
        "  __pyx_t_7 = <span class='pyx_c_api'>__Pyx_PyInt_As_int</span>(__pyx_t_5);<span class='error_goto'> if (unlikely((__pyx_t_7 == (int)-1) &amp;&amp; PyErr_Occurred())) {__pyx_filename = __pyx_f[0]; __pyx_lineno = 15; __pyx_clineno = __LINE__; goto __pyx_L1_error;}</span>\n",
        "  <span class='pyx_macro_api'>__Pyx_DECREF</span>(__pyx_t_5); __pyx_t_5 = 0;\n",
        "  __pyx_v_ny = __pyx_t_7;\n",
        "</pre><pre class='line' style='background-color: #FFFFff' onclick='toggleDiv(\"line16\")'> 16: </pre>\n",
        "<pre id='line16' class='code' style='background-color: #FFFFff'></pre><pre class='line' style='background-color: #FFFFff' onclick='toggleDiv(\"line17\")'> 17:     for i in xrange(nx):</pre>\n",
        "<pre id='line17' class='code' style='background-color: #FFFFff'>  __pyx_t_7 = __pyx_v_nx;\n",
        "  for (__pyx_t_8 = 0; __pyx_t_8 &lt; __pyx_t_7; __pyx_t_8+=1) {\n",
        "    __pyx_v_i = __pyx_t_8;\n",
        "</pre><pre class='line' style='background-color: #FFFFff' onclick='toggleDiv(\"line18\")'> 18:         for j in xrange(ny):</pre>\n",
        "<pre id='line18' class='code' style='background-color: #FFFFff'>    __pyx_t_9 = __pyx_v_ny;\n",
        "    for (__pyx_t_10 = 0; __pyx_t_10 &lt; __pyx_t_9; __pyx_t_10+=1) {\n",
        "      __pyx_v_j = __pyx_t_10;\n",
        "</pre><pre class='line' style='background-color: #FFFFff' onclick='toggleDiv(\"line19\")'> 19:             z = x[i] + 1j*y[j]</pre>\n",
        "<pre id='line19' class='code' style='background-color: #FFFFff'>      __pyx_t_11 = __pyx_v_i;\n",
        "      __pyx_t_12 = __pyx_v_j;\n",
        "      __pyx_v_z = __Pyx_c_sum(__pyx_t_double_complex_from_parts((*((double *) ( /* dim=0 */ (__pyx_v_x.data + __pyx_t_11 * __pyx_v_x.strides[0]) ))), 0), __Pyx_c_prod(__pyx_t_double_complex_from_parts(0, 1.0), __pyx_t_double_complex_from_parts((*((double *) ( /* dim=0 */ (__pyx_v_y.data + __pyx_t_12 * __pyx_v_y.strides[0]) ))), 0)));\n",
        "</pre><pre class='line' style='background-color: #FFFFff' onclick='toggleDiv(\"line20\")'> 20:             ite = 0</pre>\n",
        "<pre id='line20' class='code' style='background-color: #FFFFff'>      __pyx_v_ite = 0;\n",
        "</pre><pre class='line' style='background-color: #FFFFff' onclick='toggleDiv(\"line21\")'> 21:             while  cabs(z) &lt; lim2 and ite &lt; maxit:</pre>\n",
        "<pre id='line21' class='code' style='background-color: #FFFFff'>      while (1) {\n",
        "        __pyx_t_13 = ((__pyx_f_46_cython_magic_9161895b59bf36bf8f907d0336f41fac_cabs(__pyx_v_z) &lt; __pyx_v_lim2) != 0);\n",
        "        if (__pyx_t_13) {\n",
        "          __pyx_t_14 = ((__pyx_v_ite &lt; __pyx_v_maxit) != 0);\n",
        "          __pyx_t_15 = __pyx_t_14;\n",
        "        } else {\n",
        "          __pyx_t_15 = __pyx_t_13;\n",
        "        }\n",
        "        if (!__pyx_t_15) break;\n",
        "</pre><pre class='line' style='background-color: #FFFFff' onclick='toggleDiv(\"line22\")'> 22:                 z = z**2 + c</pre>\n",
        "<pre id='line22' class='code' style='background-color: #FFFFff'>        __pyx_v_z = __Pyx_c_sum(__Pyx_c_pow(__pyx_v_z, __pyx_t_double_complex_from_parts(2, 0)), __pyx_v_c);\n",
        "</pre><pre class='line' style='background-color: #FFFFff' onclick='toggleDiv(\"line23\")'> 23:                 ite += 1</pre>\n",
        "<pre id='line23' class='code' style='background-color: #FFFFff'>        __pyx_v_ite = (__pyx_v_ite + 1);\n",
        "      }\n",
        "</pre><pre class='line' style='background-color: #FFFFff' onclick='toggleDiv(\"line24\")'> 24:             julia[j, i] = ite</pre>\n",
        "<pre id='line24' class='code' style='background-color: #FFFFff'>      __pyx_t_16 = __pyx_v_j;\n",
        "      __pyx_t_17 = __pyx_v_i;\n",
        "      *((int *) ( /* dim=1 */ ((char *) (((int *) ( /* dim=0 */ (__pyx_v_julia.data + __pyx_t_16 * __pyx_v_julia.strides[0]) )) + __pyx_t_17)) )) = __pyx_v_ite;\n",
        "    }\n",
        "  }\n",
        "</pre><pre class='line' style='background-color: #FFFFff' onclick='toggleDiv(\"line25\")'> 25: </pre>\n",
        "<pre id='line25' class='code' style='background-color: #FFFFff'></pre><pre class='line' style='background-color: #FFFFe7' onclick='toggleDiv(\"line26\")'> 26:     return julia</pre>\n",
        "<pre id='line26' class='code' style='background-color: #FFFFe7'>  <span class='pyx_macro_api'>__Pyx_XDECREF</span>(__pyx_r);\n",
        "  __pyx_t_5 = __pyx_memoryview_fromslice(__pyx_v_julia, 2, (PyObject *(*)(char *)) __pyx_memview_get_int, (int (*)(char *, PyObject *)) __pyx_memview_set_int, 0);;<span class='error_goto'> if (unlikely(!__pyx_t_5)) {__pyx_filename = __pyx_f[0]; __pyx_lineno = 26; __pyx_clineno = __LINE__; goto __pyx_L1_error;}</span>\n",
        "  <span class='refnanny'>__Pyx_GOTREF</span>(__pyx_t_5);\n",
        "  __pyx_r = __pyx_t_5;\n",
        "  __pyx_t_5 = 0;\n",
        "  goto __pyx_L0;\n",
        "</pre></body></html>"
       ],
       "metadata": {},
       "output_type": "pyout",
       "prompt_number": 2,
       "text": [
        "<IPython.core.display.HTML at 0x39c23d0>"
       ]
      }
     ],
     "prompt_number": 2
    },
    {
     "cell_type": "code",
     "collapsed": false,
     "input": [
      "execution_times.append(myTimer(juliasetCython_v1, (x, y, c, lim, maxit), 100))"
     ],
     "language": "python",
     "metadata": {
      "internals": {
       "slide_type": "subslide"
      },
      "slideshow": {
       "slide_type": "subslide"
      }
     },
     "outputs": [],
     "prompt_number": 18
    },
    {
     "cell_type": "code",
     "collapsed": false,
     "input": [
      "printTable(execution_times)"
     ],
     "language": "python",
     "metadata": {
      "internals": {},
      "slideshow": {
       "slide_type": "-"
      }
     },
     "outputs": [
      {
       "html": [
        "<div style=\"max-height:1000px;max-width:1500px;overflow:auto;\">\n",
        "<table border=\"1\" class=\"dataframe\">\n",
        "  <thead>\n",
        "    <tr style=\"text-align: right;\">\n",
        "      <th></th>\n",
        "      <th>Nom des fonctions</th>\n",
        "      <th>Temps d'ex\u00e9cution</th>\n",
        "      <th>Rapport</th>\n",
        "    </tr>\n",
        "  </thead>\n",
        "  <tbody>\n",
        "    <tr>\n",
        "      <th>0</th>\n",
        "      <td> juliasetPurePython</td>\n",
        "      <td> 52.602572</td>\n",
        "      <td>   1.00000</td>\n",
        "    </tr>\n",
        "    <tr>\n",
        "      <th>1</th>\n",
        "      <td>      juliasetNumpy</td>\n",
        "      <td> 18.026554</td>\n",
        "      <td>   2.91806</td>\n",
        "    </tr>\n",
        "    <tr>\n",
        "      <th>2</th>\n",
        "      <td>  juliasetCython_v1</td>\n",
        "      <td>  0.078088</td>\n",
        "      <td> 673.62817</td>\n",
        "    </tr>\n",
        "  </tbody>\n",
        "</table>\n",
        "</div>"
       ],
       "metadata": {},
       "output_type": "pyout",
       "prompt_number": 19,
       "text": [
        "    Nom des fonctions  Temps d'ex\u00e9cution    Rapport\n",
        "0  juliasetPurePython          52.602572    1.00000\n",
        "1       juliasetNumpy          18.026554    2.91806\n",
        "2   juliasetCython_v1           0.078088  673.62817"
       ]
      }
     ],
     "prompt_number": 19
    },
    {
     "cell_type": "markdown",
     "metadata": {
      "internals": {
       "slide_helper": "subslide_end"
      },
      "slide_helper": "subslide_end",
      "slideshow": {
       "slide_type": "-"
      }
     },
     "source": [
      "Si on regarde un peu plus finement ce qu'il se passe, on se rend compte que l'on a encore une couche Python dans la fonction *cabs* qui permet de r\u00e9cup\u00e9rer la partie r\u00e9elle et imaginaire de $z$. On va donc \u00e9crire \u00e0 pr\u00e9sent une version qui n'a plus besoin du type *double complex*."
     ]
    },
    {
     "cell_type": "code",
     "collapsed": false,
     "input": [
      "%%cython\n",
      "import numpy as np\n",
      "import cython\n",
      "\n",
      "@cython.boundscheck(False)\n",
      "@cython.wraparound(False)\n",
      "def juliasetCython_v2(double [:] x, double [:] y, double complex c, double lim, int maxit):\n",
      "    cdef:\n",
      "        int [:, ::1] julia = np.zeros((x.size, y.size), dtype = np.int32)\n",
      "        double tmp, zr, zi, lim2 = lim*lim\n",
      "        double cr = c.real, ci = c.imag\n",
      "        int ite, i, j, nx=x.size, ny=y.size\n",
      "\n",
      "    for i in xrange(nx):\n",
      "        for j in xrange(ny):\n",
      "            zr = x[i] \n",
      "            zi = y[j]\n",
      "            ite = 0\n",
      "            while (zr*zr + zi*zi) < lim2 and ite < maxit:\n",
      "                zr, zi = zr*zr - zi*zi + cr, 2*zr*zi + ci\n",
      "                ite += 1\n",
      "            julia[j, i] = ite\n",
      "\n",
      "    return julia"
     ],
     "language": "python",
     "metadata": {
      "internals": {
       "slide_helper": "subslide_end",
       "slide_type": "subslide"
      },
      "slide_helper": "subslide_end",
      "slideshow": {
       "slide_type": "subslide"
      }
     },
     "outputs": [],
     "prompt_number": 20
    },
    {
     "cell_type": "code",
     "collapsed": false,
     "input": [
      "execution_times.append(myTimer(juliasetCython_v2, (x, y, c, lim, maxit), 100))"
     ],
     "language": "python",
     "metadata": {
      "internals": {
       "slide_type": "subslide"
      },
      "slideshow": {
       "slide_type": "subslide"
      }
     },
     "outputs": [],
     "prompt_number": 21
    },
    {
     "cell_type": "code",
     "collapsed": false,
     "input": [
      "printTable(execution_times)"
     ],
     "language": "python",
     "metadata": {
      "internals": {
       "slide_helper": "subslide_end"
      },
      "slide_helper": "subslide_end",
      "slideshow": {
       "slide_type": "-"
      }
     },
     "outputs": [
      {
       "html": [
        "<div style=\"max-height:1000px;max-width:1500px;overflow:auto;\">\n",
        "<table border=\"1\" class=\"dataframe\">\n",
        "  <thead>\n",
        "    <tr style=\"text-align: right;\">\n",
        "      <th></th>\n",
        "      <th>Nom des fonctions</th>\n",
        "      <th>Temps d'ex\u00e9cution</th>\n",
        "      <th>Rapport</th>\n",
        "    </tr>\n",
        "  </thead>\n",
        "  <tbody>\n",
        "    <tr>\n",
        "      <th>0</th>\n",
        "      <td> juliasetPurePython</td>\n",
        "      <td> 52.602572</td>\n",
        "      <td>   1.000000</td>\n",
        "    </tr>\n",
        "    <tr>\n",
        "      <th>1</th>\n",
        "      <td>      juliasetNumpy</td>\n",
        "      <td> 18.026554</td>\n",
        "      <td>   2.918060</td>\n",
        "    </tr>\n",
        "    <tr>\n",
        "      <th>2</th>\n",
        "      <td>  juliasetCython_v1</td>\n",
        "      <td>  0.078088</td>\n",
        "      <td> 673.628170</td>\n",
        "    </tr>\n",
        "    <tr>\n",
        "      <th>3</th>\n",
        "      <td>  juliasetCython_v2</td>\n",
        "      <td>  0.067541</td>\n",
        "      <td> 778.826241</td>\n",
        "    </tr>\n",
        "  </tbody>\n",
        "</table>\n",
        "</div>"
       ],
       "metadata": {},
       "output_type": "pyout",
       "prompt_number": 22,
       "text": [
        "    Nom des fonctions  Temps d'ex\u00e9cution     Rapport\n",
        "0  juliasetPurePython          52.602572    1.000000\n",
        "1       juliasetNumpy          18.026554    2.918060\n",
        "2   juliasetCython_v1           0.078088  673.628170\n",
        "3   juliasetCython_v2           0.067541  778.826241"
       ]
      }
     ],
     "prompt_number": 22
    },
    {
     "cell_type": "markdown",
     "metadata": {
      "internals": {
       "slide_type": "subslide"
      },
      "slideshow": {
       "slide_type": "subslide"
      }
     },
     "source": [
      "Ce genre d'exemple se parall\u00e9lise tr\u00e8s bien avec openMP et cython offre la possibilit\u00e9 de parall\u00e9liser des boucles en utilisant soit *prange*, soit *parallel* se trouvant dans le module *cython.parallel*."
     ]
    },
    {
     "cell_type": "code",
     "collapsed": false,
     "input": [
      "%%cython -f -c-fopenmp --link-args=-fopenmp\n",
      "import numpy as np\n",
      "import cython\n",
      "from cython.parallel import prange\n",
      "from libc.stdlib cimport malloc, free \n",
      "\n",
      "@cython.boundscheck(False)\n",
      "@cython.wraparound(False)\n",
      "def juliasetCython_openMP(double [:] x, double [:] y, double complex c, double lim, int maxit):\n",
      "    cdef:\n",
      "        int [:, ::1] julia = np.zeros((x.size, y.size), dtype = np.int32)\n",
      "        double tmp, zr, zi, lim2 = lim*lim\n",
      "        double cr = c.real, ci = c.imag\n",
      "        int  i, j, nx=x.size, ny=y.size\n",
      "        int *ite\n",
      "\n",
      "    for j in prange(ny, nogil=True, schedule='dynamic'):\n",
      "        ite = <int *> malloc(sizeof(int))\n",
      "        for i in xrange(nx):\n",
      "            zr = x[i] \n",
      "            zi = y[j]\n",
      "            ite[0] = 0\n",
      "            while (zr*zr + zi*zi) < lim2 and ite[0] < maxit:\n",
      "                zr, zi = zr*zr - zi*zi + cr, 2*zr*zi + ci\n",
      "                ite[0] += 1\n",
      "            julia[j, i] = ite[0]\n",
      "        free(ite)\n",
      "        \n",
      "    return julia"
     ],
     "language": "python",
     "metadata": {
      "internals": {
       "slide_helper": "subslide_end"
      },
      "slide_helper": "subslide_end",
      "slideshow": {
       "slide_type": "-"
      }
     },
     "outputs": [],
     "prompt_number": 23
    },
    {
     "cell_type": "code",
     "collapsed": false,
     "input": [
      "execution_times.append(myTimer(juliasetCython_openMP, (x, y, c, lim, maxit), 100))"
     ],
     "language": "python",
     "metadata": {
      "internals": {
       "slide_type": "subslide"
      },
      "slideshow": {
       "slide_type": "subslide"
      }
     },
     "outputs": [],
     "prompt_number": 24
    },
    {
     "cell_type": "code",
     "collapsed": false,
     "input": [
      "printTable(execution_times)"
     ],
     "language": "python",
     "metadata": {
      "internals": {
       "slide_helper": "subslide_end"
      },
      "slide_helper": "slide_end",
      "slideshow": {
       "slide_type": "-"
      }
     },
     "outputs": [
      {
       "html": [
        "<div style=\"max-height:1000px;max-width:1500px;overflow:auto;\">\n",
        "<table border=\"1\" class=\"dataframe\">\n",
        "  <thead>\n",
        "    <tr style=\"text-align: right;\">\n",
        "      <th></th>\n",
        "      <th>Nom des fonctions</th>\n",
        "      <th>Temps d'ex\u00e9cution</th>\n",
        "      <th>Rapport</th>\n",
        "    </tr>\n",
        "  </thead>\n",
        "  <tbody>\n",
        "    <tr>\n",
        "      <th>0</th>\n",
        "      <td>    juliasetPurePython</td>\n",
        "      <td> 52.602572</td>\n",
        "      <td>    1.000000</td>\n",
        "    </tr>\n",
        "    <tr>\n",
        "      <th>1</th>\n",
        "      <td>         juliasetNumpy</td>\n",
        "      <td> 18.026554</td>\n",
        "      <td>    2.918060</td>\n",
        "    </tr>\n",
        "    <tr>\n",
        "      <th>2</th>\n",
        "      <td>     juliasetCython_v1</td>\n",
        "      <td>  0.078088</td>\n",
        "      <td>  673.628170</td>\n",
        "    </tr>\n",
        "    <tr>\n",
        "      <th>3</th>\n",
        "      <td>     juliasetCython_v2</td>\n",
        "      <td>  0.067541</td>\n",
        "      <td>  778.826241</td>\n",
        "    </tr>\n",
        "    <tr>\n",
        "      <th>4</th>\n",
        "      <td> juliasetCython_openMP</td>\n",
        "      <td>  0.012383</td>\n",
        "      <td> 4248.001603</td>\n",
        "    </tr>\n",
        "  </tbody>\n",
        "</table>\n",
        "</div>"
       ],
       "metadata": {},
       "output_type": "pyout",
       "prompt_number": 25,
       "text": [
        "       Nom des fonctions  Temps d'ex\u00e9cution      Rapport\n",
        "0     juliasetPurePython          52.602572     1.000000\n",
        "1          juliasetNumpy          18.026554     2.918060\n",
        "2      juliasetCython_v1           0.078088   673.628170\n",
        "3      juliasetCython_v2           0.067541   778.826241\n",
        "4  juliasetCython_openMP           0.012383  4248.001603"
       ]
      }
     ],
     "prompt_number": 25
    },
    {
     "cell_type": "markdown",
     "metadata": {
      "internals": {
       "slide_type": "subslide"
      },
      "slideshow": {
       "slide_type": "slide"
      }
     },
     "source": [
      "# version numba"
     ]
    },
    {
     "cell_type": "markdown",
     "metadata": {
      "internals": {},
      "slideshow": {
       "slide_type": "-"
      }
     },
     "source": [
      "Lorsque vous utilisez **Anaconda**, vous avez la possibilit\u00e9 d'utiliser **Numba** qui permet d'optimiser des r\u00e9gions utilisant **Numpy** de mani\u00e8re assez simple puisqu'on utilise de d\u00e9corateurs. Voici un exemple pour notre code"
     ]
    },
    {
     "cell_type": "code",
     "collapsed": false,
     "input": [
      "from numba import autojit\n",
      "\n",
      "@autojit\n",
      "def juliasetNumba(x, y, c, lim, maxit):\n",
      "    julia = np.zeros((x.size, y.size))\n",
      "    lim2 = lim*lim\n",
      "    \n",
      "    # necessaire pour que numba comprenne le type de c\n",
      "    c = complex(c)\n",
      "    for i in xrange(x.size):\n",
      "        for j in xrange(y.size):\n",
      "            z = complex(x[i], y[j])\n",
      "            ite = 0\n",
      "            while (z.real*z.real + z.imag*z.imag) < lim2 and ite < maxit:\n",
      "                z = z*z + c\n",
      "                ite += 1\n",
      "            julia[j, i] = ite\n",
      "\n",
      "    return julia"
     ],
     "language": "python",
     "metadata": {
      "internals": {
       "slide_helper": "subslide_end"
      },
      "slide_helper": "subslide_end",
      "slideshow": {
       "slide_type": "-"
      }
     },
     "outputs": [],
     "prompt_number": 26
    },
    {
     "cell_type": "code",
     "collapsed": false,
     "input": [
      "execution_times.append(myTimer(juliasetNumba, (x, y, c, lim, maxit), 100))"
     ],
     "language": "python",
     "metadata": {
      "internals": {
       "slide_type": "subslide"
      },
      "slideshow": {
       "slide_type": "subslide"
      }
     },
     "outputs": [],
     "prompt_number": 27
    },
    {
     "cell_type": "code",
     "collapsed": false,
     "input": [
      "printTable(execution_times)"
     ],
     "language": "python",
     "metadata": {
      "internals": {
       "slide_helper": "subslide_end"
      },
      "slide_helper": "subslide_end",
      "slideshow": {
       "slide_type": "-"
      }
     },
     "outputs": [
      {
       "html": [
        "<div style=\"max-height:1000px;max-width:1500px;overflow:auto;\">\n",
        "<table border=\"1\" class=\"dataframe\">\n",
        "  <thead>\n",
        "    <tr style=\"text-align: right;\">\n",
        "      <th></th>\n",
        "      <th>Nom des fonctions</th>\n",
        "      <th>Temps d'ex\u00e9cution</th>\n",
        "      <th>Rapport</th>\n",
        "    </tr>\n",
        "  </thead>\n",
        "  <tbody>\n",
        "    <tr>\n",
        "      <th>0</th>\n",
        "      <td>    juliasetPurePython</td>\n",
        "      <td> 52.602572</td>\n",
        "      <td>    1.000000</td>\n",
        "    </tr>\n",
        "    <tr>\n",
        "      <th>1</th>\n",
        "      <td>         juliasetNumpy</td>\n",
        "      <td> 18.026554</td>\n",
        "      <td>    2.918060</td>\n",
        "    </tr>\n",
        "    <tr>\n",
        "      <th>2</th>\n",
        "      <td>     juliasetCython_v1</td>\n",
        "      <td>  0.078088</td>\n",
        "      <td>  673.628170</td>\n",
        "    </tr>\n",
        "    <tr>\n",
        "      <th>3</th>\n",
        "      <td>     juliasetCython_v2</td>\n",
        "      <td>  0.067541</td>\n",
        "      <td>  778.826241</td>\n",
        "    </tr>\n",
        "    <tr>\n",
        "      <th>4</th>\n",
        "      <td> juliasetCython_openMP</td>\n",
        "      <td>  0.012383</td>\n",
        "      <td> 4248.001603</td>\n",
        "    </tr>\n",
        "    <tr>\n",
        "      <th>5</th>\n",
        "      <td>         juliasetNumba</td>\n",
        "      <td>  0.080430</td>\n",
        "      <td>  654.016074</td>\n",
        "    </tr>\n",
        "  </tbody>\n",
        "</table>\n",
        "</div>"
       ],
       "metadata": {},
       "output_type": "pyout",
       "prompt_number": 28,
       "text": [
        "       Nom des fonctions  Temps d'ex\u00e9cution      Rapport\n",
        "0     juliasetPurePython          52.602572     1.000000\n",
        "1          juliasetNumpy          18.026554     2.918060\n",
        "2      juliasetCython_v1           0.078088   673.628170\n",
        "3      juliasetCython_v2           0.067541   778.826241\n",
        "4  juliasetCython_openMP           0.012383  4248.001603\n",
        "5          juliasetNumba           0.080430   654.016074"
       ]
      }
     ],
     "prompt_number": 28
    },
    {
     "cell_type": "markdown",
     "metadata": {
      "internals": {
       "slide_helper": "subslide_end",
       "slide_type": "subslide"
      },
      "slide_helper": "subslide_end",
      "slideshow": {
       "slide_type": "subslide"
      }
     },
     "source": [
      "Il existe \u00e9galement **NumbaPro** qui permet d'optimiser des r\u00e9gions utilisant **Numpy** en g\u00e9n\u00e9rant du code permettant d'ex\u00e9cuter le programme sur **GPU**. Cette version est gratuite pour le monde acad\u00e9mique \u00e0 partir de moment o\u00f9 le code n'a pas vocation \u00e0 \u00eatre commercialis\u00e9."
     ]
    },
    {
     "cell_type": "markdown",
     "metadata": {
      "internals": {
       "slide_type": "subslide"
      },
      "slideshow": {
       "slide_type": "subslide"
      }
     },
     "source": [
      "Voici un exemple d'utilisation pour notre code. C'est une premi\u00e8re version et il y a certainement des optimisations \u00e0 faire."
     ]
    },
    {
     "cell_type": "code",
     "collapsed": false,
     "input": [
      "from numbapro import cuda\n",
      "from numbapro import *\n",
      "import numpy as np\n",
      "\n",
      "@cuda.jit(argtypes=[f8[:], f8[:], f8, f8, f8, int32, int32[:, :]])\n",
      "def juliasetNumba_kernel(x, y, cr, ci, lim, maxit, julia):\n",
      "    lim2 = lim*lim\n",
      "    startX, startY = cuda.grid(2)\n",
      "    gridX = cuda.gridDim.x*cuda.blockDim.x;\n",
      "    gridY = cuda.gridDim.y*cuda.blockDim.y;\n",
      "\n",
      "    c = cr + ci*1j\n",
      "    for j in xrange(startY, y.size, gridY):\n",
      "        for i in xrange(startX, x.size, gridX):\n",
      "            z = x[i] + y[j]*1j\n",
      "            ite = 0\n",
      "            while (z.real*z.real + z.imag*z.imag) < lim2 and ite < maxit:\n",
      "                z = z*z + c\n",
      "                ite += 1\n",
      "            julia[j, i] = ite\n"
     ],
     "language": "python",
     "metadata": {
      "internals": {
       "slide_helper": "subslide_end"
      },
      "slide_helper": "subslide_end",
      "slideshow": {
       "slide_type": "-"
      }
     },
     "outputs": [
      {
       "output_type": "stream",
       "stream": "stderr",
       "text": [
        "Vendor:  Continuum Analytics, Inc.\n",
        "Package: numbapro\n",
        "Message: trial mode expires in 30 days\n"
       ]
      }
     ],
     "prompt_number": 29
    },
    {
     "cell_type": "code",
     "collapsed": false,
     "input": [
      "def juliasetNumba_GPU(x, y, c, lim, maxit):\n",
      "    blockdim = (8, 8)\n",
      "    griddim = (32, 16)\n",
      "\n",
      "    julia = np.zeros((x.size, y.size), dtype = np.int32)\n",
      "\n",
      "    d_image = cuda.to_device(julia)\n",
      "    d_x = cuda.to_device(x)\n",
      "    d_y = cuda.to_device(y)\n",
      "\n",
      "    juliasetNumba_kernel[griddim, blockdim](d_x, d_y, c.real, c.imag, lim, maxit, d_image) \n",
      "    d_image.to_host()\n",
      "    \n",
      "    return julia"
     ],
     "language": "python",
     "metadata": {
      "internals": {
       "slide_helper": "subslide_end",
       "slide_type": "subslide"
      },
      "slide_helper": "subslide_end",
      "slideshow": {
       "slide_type": "subslide"
      }
     },
     "outputs": [],
     "prompt_number": 30
    },
    {
     "cell_type": "code",
     "collapsed": false,
     "input": [
      "execution_times.append(myTimer(juliasetNumba_GPU, (x, y, c, lim, maxit), 100))"
     ],
     "language": "python",
     "metadata": {
      "internals": {
       "slide_type": "subslide"
      },
      "slideshow": {
       "slide_type": "subslide"
      }
     },
     "outputs": [],
     "prompt_number": 31
    },
    {
     "cell_type": "code",
     "collapsed": false,
     "input": [
      "printTable(execution_times)"
     ],
     "language": "python",
     "metadata": {
      "internals": {
       "slide_helper": "subslide_end"
      },
      "slide_helper": "slide_end",
      "slideshow": {
       "slide_type": "-"
      }
     },
     "outputs": [
      {
       "html": [
        "<div style=\"max-height:1000px;max-width:1500px;overflow:auto;\">\n",
        "<table border=\"1\" class=\"dataframe\">\n",
        "  <thead>\n",
        "    <tr style=\"text-align: right;\">\n",
        "      <th></th>\n",
        "      <th>Nom des fonctions</th>\n",
        "      <th>Temps d'ex\u00e9cution</th>\n",
        "      <th>Rapport</th>\n",
        "    </tr>\n",
        "  </thead>\n",
        "  <tbody>\n",
        "    <tr>\n",
        "      <th>0</th>\n",
        "      <td>    juliasetPurePython</td>\n",
        "      <td> 52.602572</td>\n",
        "      <td>    1.000000</td>\n",
        "    </tr>\n",
        "    <tr>\n",
        "      <th>1</th>\n",
        "      <td>         juliasetNumpy</td>\n",
        "      <td> 18.026554</td>\n",
        "      <td>    2.918060</td>\n",
        "    </tr>\n",
        "    <tr>\n",
        "      <th>2</th>\n",
        "      <td>     juliasetCython_v1</td>\n",
        "      <td>  0.078088</td>\n",
        "      <td>  673.628170</td>\n",
        "    </tr>\n",
        "    <tr>\n",
        "      <th>3</th>\n",
        "      <td>     juliasetCython_v2</td>\n",
        "      <td>  0.067541</td>\n",
        "      <td>  778.826241</td>\n",
        "    </tr>\n",
        "    <tr>\n",
        "      <th>4</th>\n",
        "      <td> juliasetCython_openMP</td>\n",
        "      <td>  0.012383</td>\n",
        "      <td> 4248.001603</td>\n",
        "    </tr>\n",
        "    <tr>\n",
        "      <th>5</th>\n",
        "      <td>         juliasetNumba</td>\n",
        "      <td>  0.080430</td>\n",
        "      <td>  654.016074</td>\n",
        "    </tr>\n",
        "    <tr>\n",
        "      <th>6</th>\n",
        "      <td>     juliasetNumba_GPU</td>\n",
        "      <td>  0.029994</td>\n",
        "      <td> 1753.799014</td>\n",
        "    </tr>\n",
        "  </tbody>\n",
        "</table>\n",
        "</div>"
       ],
       "metadata": {},
       "output_type": "pyout",
       "prompt_number": 32,
       "text": [
        "       Nom des fonctions  Temps d'ex\u00e9cution      Rapport\n",
        "0     juliasetPurePython          52.602572     1.000000\n",
        "1          juliasetNumpy          18.026554     2.918060\n",
        "2      juliasetCython_v1           0.078088   673.628170\n",
        "3      juliasetCython_v2           0.067541   778.826241\n",
        "4  juliasetCython_openMP           0.012383  4248.001603\n",
        "5          juliasetNumba           0.080430   654.016074\n",
        "6      juliasetNumba_GPU           0.029994  1753.799014"
       ]
      }
     ],
     "prompt_number": 32
    }
   ],
   "metadata": {}
  }
 ]
}