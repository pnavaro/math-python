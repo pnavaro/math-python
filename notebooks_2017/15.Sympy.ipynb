{
 "cells": [
  {
   "cell_type": "code",
   "execution_count": 1,
   "metadata": {
    "slideshow": {
     "slide_type": "fragment"
    }
   },
   "outputs": [],
   "source": [
    "%matplotlib inline\n",
    "%config InlineBackend.figure_format = \"retina\"\n",
    "import matplotlib.pyplot as plt\n",
    "import numpy as np\n",
    "import seaborn as sns\n",
    "sns.set()\n",
    "plt.rcParams['figure.figsize'] = (10.0, 6.0)"
   ]
  },
  {
   "cell_type": "markdown",
   "metadata": {
    "slideshow": {
     "slide_type": "slide"
    }
   },
   "source": [
    "# Sympy\n",
    "![sympy](http://www.sympy.org/static/images/logo.png)\n",
    "\n",
    "The function init_printing() will enable LaTeX pretty printing in the notebook for SymPy expressions."
   ]
  },
  {
   "cell_type": "code",
   "execution_count": 2,
   "metadata": {
    "slideshow": {
     "slide_type": "fragment"
    }
   },
   "outputs": [],
   "source": [
    "import sympy as sym\n",
    "from sympy import symbols, Symbol\n",
    "sym.init_printing()"
   ]
  },
  {
   "cell_type": "code",
   "execution_count": 3,
   "metadata": {
    "slideshow": {
     "slide_type": "slide"
    }
   },
   "outputs": [
    {
     "data": {
      "image/png": "[encoded data removed]",
      "text/latex": [
       "$$\\left(x + \\pi\\right)^{2}$$"
      ],
      "text/plain": [
       "       2\n",
       "(x + π) "
      ]
     },
     "execution_count": 3,
     "metadata": {},
     "output_type": "execute_result"
    }
   ],
   "source": [
    "x= Symbol('x')\n",
    "(sym.pi + x)**2"
   ]
  },
  {
   "cell_type": "code",
   "execution_count": 4,
   "metadata": {
    "slideshow": {
     "slide_type": "fragment"
    }
   },
   "outputs": [
    {
     "data": {
      "image/png": "[encoded data removed]",
      "text/latex": [
       "$$\\left ( \\alpha_{1}, \\quad \\omega_{2}\\right )$$"
      ],
      "text/plain": [
       "(α₁, ω₂)"
      ]
     },
     "execution_count": 4,
     "metadata": {},
     "output_type": "execute_result"
    }
   ],
   "source": [
    "alpha1, omega_2 = symbols('alpha1 omega_2')\n",
    "alpha1, omega_2"
   ]
  },
  {
   "cell_type": "code",
   "execution_count": 5,
   "metadata": {
    "slideshow": {
     "slide_type": "fragment"
    }
   },
   "outputs": [
    {
     "data": {
      "image/png": "[encoded data removed]",
      "text/latex": [
       "$$\\frac{\\sqrt{2} e^{- \\frac{\\left(- \\mu + x\\right)^{2}}{2 \\sigma^{2}}}}{2 \\sqrt{\\pi} \\sigma}$$"
      ],
      "text/plain": [
       "             2 \n",
       "    -(-μ + x)  \n",
       "    ───────────\n",
       "           2   \n",
       "        2⋅σ    \n",
       "√2⋅ℯ           \n",
       "───────────────\n",
       "     2⋅√π⋅σ    "
      ]
     },
     "execution_count": 5,
     "metadata": {},
     "output_type": "execute_result"
    }
   ],
   "source": [
    "mu, sigma = sym.symbols('mu sigma', positive = True)\n",
    "1/sym.sqrt(2*sym.pi*sigma**2)* sym.exp(-(x-mu)**2/(2*sigma**2))"
   ]
  },
  {
   "cell_type": "markdown",
   "metadata": {
    "slideshow": {
     "slide_type": "slide"
    }
   },
   "source": [
    "# Why use `sympy`?\n",
    "- Symbolic derivatives\n",
    "- Translate mathematics into low level code\n",
    "- Deal with very large expressions\n",
    "- Optimize code using mathematics"
   ]
  },
  {
   "cell_type": "markdown",
   "metadata": {
    "collapsed": true,
    "slideshow": {
     "slide_type": "slide"
    }
   },
   "source": [
    "Dividing two integers in Python creates a float, like 1/2 -> 0.5. If you want a rational number, use Rational(1, 2) or S(1)/2."
   ]
  },
  {
   "cell_type": "code",
   "execution_count": 6,
   "metadata": {
    "slideshow": {
     "slide_type": "fragment"
    }
   },
   "outputs": [
    {
     "data": {
      "image/png": "[encoded data removed]",
      "text/latex": [
       "$$\\left ( x + \\frac{1}{2}, \\quad \\frac{1}{4}\\right )$$"
      ],
      "text/plain": [
       "(x + 1/2, 1/4)"
      ]
     },
     "execution_count": 6,
     "metadata": {},
     "output_type": "execute_result"
    }
   ],
   "source": [
    "x + sym.S(1)/2 , sym.Rational(1,4)"
   ]
  },
  {
   "cell_type": "code",
   "execution_count": 7,
   "metadata": {
    "slideshow": {
     "slide_type": "fragment"
    }
   },
   "outputs": [
    {
     "data": {
      "image/png": "[encoded data removed]",
      "text/latex": [
       "$$x \\veebar y$$"
      ],
      "text/plain": [
       "x ⊻ y"
      ]
     },
     "execution_count": 7,
     "metadata": {},
     "output_type": "execute_result"
    }
   ],
   "source": [
    "y = Symbol('y')\n",
    "x ^ y # XOR operator (True only if x != y)"
   ]
  },
  {
   "cell_type": "code",
   "execution_count": 8,
   "metadata": {
    "slideshow": {
     "slide_type": "fragment"
    }
   },
   "outputs": [
    {
     "data": {
      "image/png": "[encoded data removed]",
      "text/latex": [
       "$$x^{y}$$"
      ],
      "text/plain": [
       " y\n",
       "x "
      ]
     },
     "execution_count": 8,
     "metadata": {},
     "output_type": "execute_result"
    }
   ],
   "source": [
    "x**y"
   ]
  },
  {
   "cell_type": "markdown",
   "metadata": {
    "slideshow": {
     "slide_type": "slide"
    }
   },
   "source": [
    "SymPy expressions are immutable. Functions that operate on an expression return a new expression."
   ]
  },
  {
   "cell_type": "code",
   "execution_count": 9,
   "metadata": {
    "slideshow": {
     "slide_type": "fragment"
    }
   },
   "outputs": [
    {
     "data": {
      "image/png": "[encoded data removed]",
      "text/latex": [
       "$$x + 1$$"
      ],
      "text/plain": [
       "x + 1"
      ]
     },
     "execution_count": 9,
     "metadata": {},
     "output_type": "execute_result"
    }
   ],
   "source": [
    "expr = x + 1\n",
    "expr"
   ]
  },
  {
   "cell_type": "code",
   "execution_count": 10,
   "metadata": {
    "slideshow": {
     "slide_type": "fragment"
    }
   },
   "outputs": [
    {
     "data": {
      "image/png": "[encoded data removed]",
      "text/latex": [
       "$$3$$"
      ],
      "text/plain": [
       "3"
      ]
     },
     "execution_count": 10,
     "metadata": {},
     "output_type": "execute_result"
    }
   ],
   "source": [
    "expr.subs(x, 2)"
   ]
  },
  {
   "cell_type": "code",
   "execution_count": 11,
   "metadata": {
    "slideshow": {
     "slide_type": "fragment"
    }
   },
   "outputs": [
    {
     "data": {
      "image/png": "[encoded data removed]",
      "text/latex": [
       "$$x + 1$$"
      ],
      "text/plain": [
       "x + 1"
      ]
     },
     "execution_count": 11,
     "metadata": {},
     "output_type": "execute_result"
    }
   ],
   "source": [
    "expr"
   ]
  },
  {
   "cell_type": "markdown",
   "metadata": {
    "slideshow": {
     "slide_type": "slide"
    }
   },
   "source": [
    "### Exercise: Lagrange polynomial\n",
    "\n",
    "Given a set of $k + 1$ data points \n",
    ":$(x_0, y_0),\\ldots,(x_j, y_j),\\ldots,(x_k, y_k)$ the Lagrange interpolation polynomial is:\n",
    "\n",
    "$$\n",
    "L(x) := \\sum_{j=0}^{k} y_j \\ell_j(x)\n",
    "$$\n",
    "$\\ell_j$ are Lagrange basis polynomials:\n",
    "$$\\ell_j(x) := \\prod_{\\begin{smallmatrix}0\\le m\\le k\\\\ m\\neq j\\end{smallmatrix}} \\frac{x-x_m}{x_j-x_m} $$\n",
    "We can demonstrate that at each point $x_i$, $L(x_i)=y_i$ so $L$ interpolates the function.\n",
    "\n",
    "- Compute the Lagrange polynomial for points \n",
    "$$\n",
    "(-2,21),(-1,1),(0,-1),(1,-3),(2,1)\n",
    "$$\n"
   ]
  },
  {
   "cell_type": "markdown",
   "metadata": {
    "slideshow": {
     "slide_type": "slide"
    }
   },
   "source": [
    "## Evaluate an expression"
   ]
  },
  {
   "cell_type": "code",
   "execution_count": 12,
   "metadata": {
    "slideshow": {
     "slide_type": "fragment"
    }
   },
   "outputs": [
    {
     "data": {
      "image/png": "[encoded data removed]",
      "text/latex": [
       "$$\\left ( \\sqrt{2}, \\quad 1.414214\\right )$$"
      ],
      "text/plain": [
       "(√2, 1.414214)"
      ]
     },
     "execution_count": 12,
     "metadata": {},
     "output_type": "execute_result"
    }
   ],
   "source": [
    "sym.sqrt(2), sym.sqrt(2).evalf(7) # set the precision to 7 digits"
   ]
  },
  {
   "cell_type": "code",
   "execution_count": 13,
   "metadata": {
    "slideshow": {
     "slide_type": "fragment"
    }
   },
   "outputs": [
    {
     "data": {
      "image/png": "[encoded data removed]",
      "text/latex": [
       "$$0.00050721430461364$$"
      ],
      "text/plain": [
       "0.000507214304613640"
      ]
     },
     "execution_count": 13,
     "metadata": {},
     "output_type": "execute_result"
    }
   ],
   "source": [
    "from sympy import sin\n",
    "x = Symbol('x')\n",
    "expr = sin(x)/x\n",
    "expr.evalf(subs={x: 3.14})  # substitute the symbol x by Pi value"
   ]
  },
  {
   "cell_type": "code",
   "execution_count": 14,
   "metadata": {
    "slideshow": {
     "slide_type": "slide"
    }
   },
   "outputs": [
    {
     "data": {
      "image/png": "[encoded data removed]",
      "text/plain": [
       "<Figure size 432x288 with 1 Axes>"
      ]
     },
     "metadata": {
      "image/png": {
       "height": 254,
       "width": 383
      },
      "needs_background": "light"
     },
     "output_type": "display_data"
    }
   ],
   "source": [
    "from sympy.utilities.autowrap import ufuncify\n",
    "f = ufuncify([x], expr, backend='f2py') \n",
    "\n",
    "t = np.linspace(0,4*np.pi,100)\n",
    "plt.plot(t, f(t));"
   ]
  },
  {
   "cell_type": "markdown",
   "metadata": {
    "slideshow": {
     "slide_type": "slide"
    }
   },
   "source": [
    "### Exercise\n",
    "\n",
    "- Plot the Lagrange polynomial computed above and interpolations points with matplotlib"
   ]
  },
  {
   "cell_type": "markdown",
   "metadata": {
    "slideshow": {
     "slide_type": "slide"
    }
   },
   "source": [
    "## Undefined functions and derivatives\n",
    "\n",
    "Undefined functions are created with `Function()`. Undefined are useful to state that one variable depends on another (for the purposes of differentiation)."
   ]
  },
  {
   "cell_type": "code",
   "execution_count": 15,
   "metadata": {
    "slideshow": {
     "slide_type": "fragment"
    }
   },
   "outputs": [],
   "source": [
    "from sympy import Function\n",
    "f = Function('f')"
   ]
  },
  {
   "cell_type": "code",
   "execution_count": 16,
   "metadata": {
    "slideshow": {
     "slide_type": "fragment"
    }
   },
   "outputs": [
    {
     "data": {
      "image/png": "[encoded data removed]",
      "text/latex": [
       "$$f{\\left (x \\right )} + 1$$"
      ],
      "text/plain": [
       "f(x) + 1"
      ]
     },
     "execution_count": 16,
     "metadata": {},
     "output_type": "execute_result"
    }
   ],
   "source": [
    "f(x) + 1"
   ]
  },
  {
   "cell_type": "code",
   "execution_count": 17,
   "metadata": {
    "slideshow": {
     "slide_type": "fragment"
    }
   },
   "outputs": [
    {
     "data": {
      "image/png": "[encoded data removed]",
      "text/latex": [
       "$$\\left ( \\cos{\\left (y \\right )} \\cos{\\left (x + 1 \\right )}, \\quad - \\sin{\\left (y \\right )} \\cos{\\left (x + 1 \\right )}, \\quad \\frac{d}{d x} f{\\left (x \\right )}\\right )$$"
      ],
      "text/plain": [
       "⎛                                       d       ⎞\n",
       "⎜cos(y)⋅cos(x + 1), -sin(y)⋅cos(x + 1), ──(f(x))⎟\n",
       "⎝                                       dx      ⎠"
      ]
     },
     "execution_count": 17,
     "metadata": {},
     "output_type": "execute_result"
    }
   ],
   "source": [
    "from sympy import diff, sin, cos\n",
    "diff(sin(x + 1)*cos(y), x), diff(sin(x + 1)*cos(y), x, y), diff(f(x), x)"
   ]
  },
  {
   "cell_type": "code",
   "execution_count": 18,
   "metadata": {
    "slideshow": {
     "slide_type": "fragment"
    }
   },
   "outputs": [
    {
     "data": {
      "image/png": "[encoded data removed]",
      "text/latex": [
       "$$\\frac{\\partial^{2}}{\\partial c^{2}} u{\\left (c,x \\right )} = t^{2} \\frac{\\partial^{2}}{\\partial x^{2}} u{\\left (c,x \\right )}$$"
      ],
      "text/plain": [
       "  2                 2         \n",
       " ∂              2  ∂          \n",
       "───(u(c, x)) = t ⋅───(u(c, x))\n",
       "  2                 2         \n",
       "∂c                ∂x          "
      ]
     },
     "execution_count": 18,
     "metadata": {},
     "output_type": "execute_result"
    }
   ],
   "source": [
    "c, t = sym.symbols('t c')\n",
    "u = sym.Function('u')\n",
    "sym.Eq(diff(u(t,x),t,t), c**2*diff(u(t,x),x,2))"
   ]
  },
  {
   "cell_type": "markdown",
   "metadata": {
    "slideshow": {
     "slide_type": "slide"
    }
   },
   "source": [
    "# Matrices"
   ]
  },
  {
   "cell_type": "code",
   "execution_count": 19,
   "metadata": {
    "slideshow": {
     "slide_type": "fragment"
    }
   },
   "outputs": [
    {
     "data": {
      "image/png": "[encoded data removed]",
      "text/latex": [
       "$$\\left[\\begin{matrix}x + 2 y\\\\3 x + 4 y\\end{matrix}\\right]$$"
      ],
      "text/plain": [
       "⎡ x + 2⋅y ⎤\n",
       "⎢         ⎥\n",
       "⎣3⋅x + 4⋅y⎦"
      ]
     },
     "execution_count": 19,
     "metadata": {},
     "output_type": "execute_result"
    }
   ],
   "source": [
    "from sympy import Matrix\n",
    "Matrix([[1, 2], [3, 4]])*Matrix([x, y])"
   ]
  },
  {
   "cell_type": "code",
   "execution_count": 20,
   "metadata": {
    "slideshow": {
     "slide_type": "fragment"
    }
   },
   "outputs": [
    {
     "data": {
      "image/png": "[encoded data removed]",
      "text/latex": [
       "$$\\left[\\begin{matrix}\\cos{\\left (x \\right )} & 1 & 0\\\\1 & - \\sin{\\left (y \\right )} & 0\\\\0 & 0 & 1\\end{matrix}\\right]$$"
      ],
      "text/plain": [
       "⎡cos(x)     1     0⎤\n",
       "⎢                  ⎥\n",
       "⎢  1     -sin(y)  0⎥\n",
       "⎢                  ⎥\n",
       "⎣  0        0     1⎦"
      ]
     },
     "execution_count": 20,
     "metadata": {},
     "output_type": "execute_result"
    }
   ],
   "source": [
    "x, y, z = sym.symbols('x y z')\n",
    "Matrix([sin(x) + y, cos(y) + x, z]).jacobian([x, y, z])"
   ]
  },
  {
   "cell_type": "markdown",
   "metadata": {
    "slideshow": {
     "slide_type": "slide"
    }
   },
   "source": [
    "## Matrix symbols\n",
    "\n",
    "SymPy can also operate on matrices of symbolic dimension ($n \\times m$). `MatrixSymbol(\"M\", n, m)` creates a matrix $M$ of shape $n \\times m$. "
   ]
  },
  {
   "cell_type": "code",
   "execution_count": 21,
   "metadata": {
    "slideshow": {
     "slide_type": "fragment"
    }
   },
   "outputs": [
    {
     "data": {
      "image/png": "[encoded data removed]",
      "text/latex": [
       "$$\\left(M b\\right)^T$$"
      ],
      "text/plain": [
       "     T\n",
       "(M⋅b) "
      ]
     },
     "execution_count": 21,
     "metadata": {},
     "output_type": "execute_result"
    }
   ],
   "source": [
    "from sympy import MatrixSymbol, Transpose\n",
    "\n",
    "n, m = sym.symbols('n m', integer=True)\n",
    "M = MatrixSymbol(\"M\", n, m)\n",
    "b = MatrixSymbol(\"b\", m, 1)\n",
    "Transpose(M*b)"
   ]
  },
  {
   "cell_type": "code",
   "execution_count": 22,
   "metadata": {
    "slideshow": {
     "slide_type": "fragment"
    }
   },
   "outputs": [
    {
     "data": {
      "image/png": "[encoded data removed]",
      "text/latex": [
       "$$b^T M^T$$"
      ],
      "text/plain": [
       " T  T\n",
       "b ⋅M "
      ]
     },
     "execution_count": 22,
     "metadata": {},
     "output_type": "execute_result"
    }
   ],
   "source": [
    "Transpose(M*b).doit()"
   ]
  },
  {
   "cell_type": "markdown",
   "metadata": {
    "slideshow": {
     "slide_type": "slide"
    }
   },
   "source": [
    "## Solving systems of equations\n",
    "\n",
    "`solve` solves equations symbolically (not numerically). The return value is a list of solutions. It automatically assumes that it is equal to 0."
   ]
  },
  {
   "cell_type": "code",
   "execution_count": 23,
   "metadata": {
    "slideshow": {
     "slide_type": "fragment"
    }
   },
   "outputs": [
    {
     "data": {
      "image/png": "[encoded data removed]",
      "text/latex": [
       "$$\\left [ -2, \\quad 2\\right ]$$"
      ],
      "text/plain": [
       "[-2, 2]"
      ]
     },
     "execution_count": 23,
     "metadata": {},
     "output_type": "execute_result"
    }
   ],
   "source": [
    "from sympy import Eq, solve\n",
    "solve(Eq(x**2, 4), x)"
   ]
  },
  {
   "cell_type": "code",
   "execution_count": 24,
   "metadata": {
    "slideshow": {
     "slide_type": "fragment"
    }
   },
   "outputs": [
    {
     "data": {
      "image/png": "[encoded data removed]",
      "text/latex": [
       "$$\\left [ - \\frac{3}{2} + \\frac{\\sqrt{21}}{2}, \\quad - \\frac{\\sqrt{21}}{2} - \\frac{3}{2}\\right ]$$"
      ],
      "text/plain": [
       "⎡  3   √21    √21   3⎤\n",
       "⎢- ─ + ───, - ─── - ─⎥\n",
       "⎣  2    2      2    2⎦"
      ]
     },
     "execution_count": 24,
     "metadata": {},
     "output_type": "execute_result"
    }
   ],
   "source": [
    "solve(x**2 + 3*x - 3, x)"
   ]
  },
  {
   "cell_type": "code",
   "execution_count": 25,
   "metadata": {
    "slideshow": {
     "slide_type": "fragment"
    }
   },
   "outputs": [
    {
     "data": {
      "image/png": "[encoded data removed]",
      "text/latex": [
       "$$\\left [ \\left ( \\frac{2}{5} + \\frac{\\sqrt{19}}{5}, \\quad - \\frac{2 \\sqrt{19}}{5} + \\frac{1}{5}\\right ), \\quad \\left ( - \\frac{\\sqrt{19}}{5} + \\frac{2}{5}, \\quad \\frac{1}{5} + \\frac{2 \\sqrt{19}}{5}\\right )\\right ]$$"
      ],
      "text/plain": [
       "⎡⎛2   √19    2⋅√19   1⎞  ⎛  √19   2  1   2⋅√19⎞⎤\n",
       "⎢⎜─ + ───, - ───── + ─⎟, ⎜- ─── + ─, ─ + ─────⎟⎥\n",
       "⎣⎝5    5       5     5⎠  ⎝   5    5  5     5  ⎠⎦"
      ]
     },
     "execution_count": 25,
     "metadata": {},
     "output_type": "execute_result"
    }
   ],
   "source": [
    "eq1 = x**2 + y**2 - 4  # circle of radius 2\n",
    "eq2 = 2*x + y - 1  # straight line: y(x) = -2*x + 1\n",
    "solve([eq1, eq2], [x, y])"
   ]
  },
  {
   "cell_type": "markdown",
   "metadata": {
    "slideshow": {
     "slide_type": "slide"
    }
   },
   "source": [
    "## Solving differential equations\n",
    "`dsolve` can (sometimes) produce an exact symbolic solution. Like `solve`, `dsolve` assumes that expressions are equal to 0. "
   ]
  },
  {
   "cell_type": "code",
   "execution_count": 26,
   "metadata": {
    "slideshow": {
     "slide_type": "fragment"
    }
   },
   "outputs": [
    {
     "data": {
      "image/png": "[encoded data removed]",
      "text/latex": [
       "$$f{\\left (x \\right )} = C_{1} \\sin{\\left (x \\right )} + C_{2} \\cos{\\left (x \\right )}$$"
      ],
      "text/plain": [
       "f(x) = C₁⋅sin(x) + C₂⋅cos(x)"
      ]
     },
     "execution_count": 26,
     "metadata": {},
     "output_type": "execute_result"
    }
   ],
   "source": [
    "from sympy import Function, dsolve\n",
    "f = Function('f')\n",
    "dsolve(f(x).diff(x, 2) + f(x))"
   ]
  },
  {
   "cell_type": "markdown",
   "metadata": {
    "slideshow": {
     "slide_type": "slide"
    }
   },
   "source": [
    "## Code printers\n",
    "The most basic form of code generation are the code printers. They convert SymPy expressions into over a dozen target languages.\n"
   ]
  },
  {
   "cell_type": "code",
   "execution_count": 27,
   "metadata": {
    "slideshow": {
     "slide_type": "fragment"
    }
   },
   "outputs": [
    {
     "data": {
      "image/png": "[encoded data removed]",
      "text/latex": [
       "$$\\left|{\\sin{\\left (x^{2} \\right )}}\\right|$$"
      ],
      "text/plain": [
       "│   ⎛ 2⎞│\n",
       "│sin⎝x ⎠│"
      ]
     },
     "execution_count": 27,
     "metadata": {},
     "output_type": "execute_result"
    }
   ],
   "source": [
    "x = symbols('x')\n",
    "expr = abs(sin(x**2))\n",
    "expr"
   ]
  },
  {
   "cell_type": "code",
   "execution_count": 28,
   "metadata": {
    "slideshow": {
     "slide_type": "fragment"
    }
   },
   "outputs": [
    {
     "data": {
      "text/plain": [
       "'fabs(sin(pow(x, 2)))'"
      ]
     },
     "execution_count": 28,
     "metadata": {},
     "output_type": "execute_result"
    }
   ],
   "source": [
    "sym.ccode(expr)"
   ]
  },
  {
   "cell_type": "code",
   "execution_count": 29,
   "metadata": {
    "slideshow": {
     "slide_type": "fragment"
    }
   },
   "outputs": [
    {
     "data": {
      "text/plain": [
       "'abs(sin(x**2))'"
      ]
     },
     "execution_count": 29,
     "metadata": {},
     "output_type": "execute_result"
    }
   ],
   "source": [
    "sym.fcode(expr, standard=2003, source_format='free')"
   ]
  },
  {
   "cell_type": "code",
   "execution_count": 30,
   "metadata": {
    "slideshow": {
     "slide_type": "fragment"
    }
   },
   "outputs": [
    {
     "data": {
      "text/plain": [
       "'std::fabs(std::sin(std::pow(x, 2)))'"
      ]
     },
     "execution_count": 30,
     "metadata": {},
     "output_type": "execute_result"
    }
   ],
   "source": [
    "from sympy.printing.cxxcode import cxxcode\n",
    "cxxcode(expr)"
   ]
  },
  {
   "cell_type": "code",
   "execution_count": 31,
   "metadata": {
    "slideshow": {
     "slide_type": "slide"
    }
   },
   "outputs": [
    {
     "data": {
      "image/png": "[encoded data removed]",
      "text/latex": [
       "$$\\frac{e^{x} - e^{- x}}{e^{x} + e^{- x}}$$"
      ],
      "text/plain": [
       " x    -x\n",
       "ℯ  - ℯ  \n",
       "────────\n",
       " x    -x\n",
       "ℯ  + ℯ  "
      ]
     },
     "execution_count": 31,
     "metadata": {},
     "output_type": "execute_result"
    }
   ],
   "source": [
    "sym.tanh(x).rewrite(sym.exp)"
   ]
  },
  {
   "cell_type": "code",
   "execution_count": 32,
   "metadata": {
    "slideshow": {
     "slide_type": "fragment"
    }
   },
   "outputs": [
    {
     "name": "stdout",
     "output_type": "stream",
     "text": [
      "parameter (pi = 3.1415926535897932d0)\n",
      "(1.0d0/2.0d0)*sqrt(2.0d0)*exp(-0.5d0*(-mu + x)**2/sigma**2)/(sqrt(pi)* &\n",
      "      sigma)\n"
     ]
    }
   ],
   "source": [
    "from sympy import sqrt, exp, pi\n",
    "expr = 1/sqrt(2*pi*sigma**2)* exp(-(x-mu)**2/(2*sigma**2))\n",
    "print(sym.fcode(expr, standard=2003, source_format='free'))"
   ]
  },
  {
   "cell_type": "markdown",
   "metadata": {
    "slideshow": {
     "slide_type": "slide"
    }
   },
   "source": [
    "## Creating a function from a symbolic expression\n",
    "In SymPy there is a function to create a Python function which evaluates (usually numerically) an expression. SymPy allows the user to define the signature of this function (which is convenient when working with e.g. a numerical solver in ``scipy``)."
   ]
  },
  {
   "cell_type": "code",
   "execution_count": 33,
   "metadata": {
    "slideshow": {
     "slide_type": "fragment"
    }
   },
   "outputs": [
    {
     "data": {
      "image/png": "[encoded data removed]",
      "text/latex": [
       "$$3 x^{2} + \\log{\\left (x^{2} + y^{2} + 1 \\right )}$$"
      ],
      "text/plain": [
       "   2      ⎛ 2    2    ⎞\n",
       "3⋅x  + log⎝x  + y  + 1⎠"
      ]
     },
     "execution_count": 33,
     "metadata": {},
     "output_type": "execute_result"
    }
   ],
   "source": [
    "from sympy import log\n",
    "x, y = symbols('x y')\n",
    "expr = 3*x**2 + log(x**2 + y**2 + 1)\n",
    "expr"
   ]
  },
  {
   "cell_type": "code",
   "execution_count": 34,
   "metadata": {
    "slideshow": {
     "slide_type": "fragment"
    }
   },
   "outputs": [
    {
     "name": "stdout",
     "output_type": "stream",
     "text": [
      "235 µs ± 4.24 µs per loop (mean ± std. dev. of 7 runs, 1000 loops each)\n"
     ]
    }
   ],
   "source": [
    "%timeit expr.subs({x: 17, y: 42}).evalf()"
   ]
  },
  {
   "cell_type": "code",
   "execution_count": 35,
   "metadata": {
    "slideshow": {
     "slide_type": "slide"
    }
   },
   "outputs": [
    {
     "data": {
      "image/png": "[encoded data removed]",
      "text/latex": [
       "$$874.6275443904885$$"
      ],
      "text/plain": [
       "874.6275443904885"
      ]
     },
     "execution_count": 35,
     "metadata": {},
     "output_type": "execute_result"
    }
   ],
   "source": [
    "import math\n",
    "f = lambda x, y: 3*x**2 + math.log(x**2 + y**2 + 1)\n",
    "f(17, 42)"
   ]
  },
  {
   "cell_type": "code",
   "execution_count": 36,
   "metadata": {
    "slideshow": {
     "slide_type": "fragment"
    }
   },
   "outputs": [
    {
     "name": "stdout",
     "output_type": "stream",
     "text": [
      "1.06 µs ± 9.63 ns per loop (mean ± std. dev. of 7 runs, 1000000 loops each)\n"
     ]
    }
   ],
   "source": [
    "%timeit f(17, 42)"
   ]
  },
  {
   "cell_type": "markdown",
   "metadata": {
    "slideshow": {
     "slide_type": "fragment"
    }
   },
   "source": [
    "Evaluate above expression numerically invoking the subs method followed by the evalf method can be quite slow and cannot be done repeatedly."
   ]
  },
  {
   "cell_type": "code",
   "execution_count": 37,
   "metadata": {
    "slideshow": {
     "slide_type": "slide"
    }
   },
   "outputs": [
    {
     "data": {
      "image/png": "[encoded data removed]",
      "text/latex": [
       "$$874.6275443904885$$"
      ],
      "text/plain": [
       "874.6275443904885"
      ]
     },
     "execution_count": 37,
     "metadata": {},
     "output_type": "execute_result"
    }
   ],
   "source": [
    "from sympy import lambdify\n",
    "g = lambdify([x, y], expr, modules=['math'])\n",
    "g(17, 42)"
   ]
  },
  {
   "cell_type": "code",
   "execution_count": 38,
   "metadata": {
    "slideshow": {
     "slide_type": "fragment"
    }
   },
   "outputs": [
    {
     "name": "stdout",
     "output_type": "stream",
     "text": [
      "1.06 µs ± 9.19 ns per loop (mean ± std. dev. of 7 runs, 1000000 loops each)\n"
     ]
    }
   ],
   "source": [
    "%timeit g(17, 42)"
   ]
  },
  {
   "cell_type": "code",
   "execution_count": 39,
   "metadata": {
    "slideshow": {
     "slide_type": "fragment"
    }
   },
   "outputs": [
    {
     "data": {
      "image/png": "[encoded data removed]",
      "text/latex": [
       "$$\\left ( 5\\right )$$"
      ],
      "text/plain": [
       "(5,)"
      ]
     },
     "execution_count": 39,
     "metadata": {},
     "output_type": "execute_result"
    }
   ],
   "source": [
    "xarr = np.linspace(17, 18, 5)\n",
    "h = lambdify([x, y], expr)  # lambdify return a python function\n",
    "out = h(xarr, 42)\n",
    "out.shape"
   ]
  },
  {
   "cell_type": "code",
   "execution_count": 40,
   "metadata": {
    "slideshow": {
     "slide_type": "fragment"
    }
   },
   "outputs": [
    {
     "data": {
      "image/png": "[encoded data removed]",
      "text/latex": [
       "$$24$$"
      ],
      "text/plain": [
       "24"
      ]
     },
     "execution_count": 40,
     "metadata": {},
     "output_type": "execute_result"
    }
   ],
   "source": [
    "z = z1, z2, z3 = symbols('z:3')\n",
    "expr2 = x*y*(z1 + z2 + z3)\n",
    "func2 = lambdify([x, y, z], expr2)\n",
    "func2(1, 2, (3, 4, 5))"
   ]
  },
  {
   "cell_type": "markdown",
   "metadata": {
    "slideshow": {
     "slide_type": "fragment"
    }
   },
   "source": [
    "Behind the scenes lambdify constructs a string representation of the Python code and uses Python's eval function to compile the function."
   ]
  },
  {
   "cell_type": "markdown",
   "metadata": {
    "slideshow": {
     "slide_type": "slide"
    }
   },
   "source": [
    "### SIR model \n",
    "\n",
    "$$\n",
    "\\begin{eqnarray}\n",
    "\\frac{dS(t)}{dt} &=& - \\beta  S(t) I(t) \\\\\n",
    "\\frac{dI(t)}{dt} &=& \\beta  S(t) I(t) -  \\gamma I(t) \\\\\n",
    "\\frac{dR(t)}{dt} &=& \\gamma I(t)\n",
    "\\end{eqnarray}\n",
    "$$\n",
    "\n",
    "- S,I,R: ratio of suceptibles, infectious and recovered fraction of the population.\n",
    "- t: time\n",
    "- $\\beta$ : transmission coefficient.\n",
    "- $\\gamma$ : healing rate.\n",
    "\n",
    "**We assume that total population is constant.**"
   ]
  },
  {
   "cell_type": "markdown",
   "metadata": {
    "collapsed": true,
    "slideshow": {
     "slide_type": "slide"
    }
   },
   "source": [
    "### Solving the initial value problem numerically\n",
    "We will now integrate this system of ordinary differential equations numerically using the ``odeint`` solver provided by ``scipy``:\n"
   ]
  },
  {
   "cell_type": "markdown",
   "metadata": {
    "slideshow": {
     "slide_type": "fragment"
    }
   },
   "source": [
    "By looking at the [documentation](https://docs.scipy.org/doc/scipy-0.19.0/reference/generated/scipy.integrate.odeint.html) of odeint we see that we need to provide a function which computes a vector of derivatives ($\\dot{\\mathbf{y}} = [\\frac{dy_1}{dt}, \\frac{dy_2}{dt}, \\frac{dy_3}{dt}]$). The expected signature of this function is:\n",
    "\n",
    "    f(y: array[float64], t: float64, *args: arbitrary constants) -> dydt: array[float64]\n",
    "    \n",
    "in our case we can write it as:"
   ]
  },
  {
   "cell_type": "code",
   "execution_count": 41,
   "metadata": {
    "slideshow": {
     "slide_type": "fragment"
    }
   },
   "outputs": [],
   "source": [
    "def rhs(y, t, beta, gamma):\n",
    "    rb = beta * y[0]*y[1]\n",
    "    rg = gamma * y[1]\n",
    "    return [- rb , rb - rg, rg]"
   ]
  },
  {
   "cell_type": "code",
   "execution_count": 42,
   "metadata": {
    "slideshow": {
     "slide_type": "slide"
    }
   },
   "outputs": [
    {
     "data": {
      "image/png": "[encoded data removed]",
      "text/plain": [
       "<Figure size 432x288 with 1 Axes>"
      ]
     },
     "metadata": {
      "image/png": {
       "height": 254,
       "width": 376
      },
      "needs_background": "light"
     },
     "output_type": "display_data"
    }
   ],
   "source": [
    "import scipy.integrate as spi\n",
    "tout = np.linspace(0, 10, 100)\n",
    "k_vals = 1.66, 0.4545455\n",
    "y0 = [0.95, 0.05, 0]\n",
    "yout = spi.odeint(rhs, y0, tout, k_vals)\n",
    "plt.plot(tout, yout)\n",
    "plt.legend(['susceptible', 'infected', 'recovered']);"
   ]
  },
  {
   "cell_type": "markdown",
   "metadata": {
    "slideshow": {
     "slide_type": "slide"
    }
   },
   "source": [
    "We will construct the system from a symbolic representation. But at the same time, we need the ``rhs`` function to be fast. Which means that we want to produce a fast function from our symbolic representation. Generating a function from our symbolic representation is achieved through *code generation*. \n",
    "\n",
    "1. Construct a symbolic representation from some domain specific representation using SymPy.\n",
    "2. Have SymPy generate a function with an appropriate signature (or multiple thereof), which we pass on to the solver.\n",
    "\n",
    "We will achieve (1) by using SymPy symbols (and functions if needed). For (2) we will use a function in SymPy called ``lambdify``―it takes a symbolic expressions and returns a function. In a later notebook, we will look at (1), for now we will just use ``rhs`` which we've already written:"
   ]
  },
  {
   "cell_type": "code",
   "execution_count": 43,
   "metadata": {
    "slideshow": {
     "slide_type": "fragment"
    }
   },
   "outputs": [
    {
     "data": {
      "image/png": "[encoded data removed]",
      "text/latex": [
       "$$\\left ( \\left ( y_{0}, \\quad y_{1}, \\quad y_{2}\\right ), \\quad \\left [ - \\beta y_{0} y_{1}, \\quad \\beta y_{0} y_{1} - \\gamma y_{1}, \\quad \\gamma y_{1}\\right ]\\right )$$"
      ],
      "text/plain": [
       "((y₀, y₁, y₂), [-β⋅y₀⋅y₁, β⋅y₀⋅y₁ - γ⋅y₁, γ⋅y₁])"
      ]
     },
     "execution_count": 43,
     "metadata": {},
     "output_type": "execute_result"
    }
   ],
   "source": [
    "y, k = sym.symbols('y:3'), sym.symbols('beta gamma')\n",
    "ydot = rhs(y, None, *k)\n",
    "y, ydot"
   ]
  },
  {
   "cell_type": "code",
   "execution_count": 44,
   "metadata": {
    "slideshow": {
     "slide_type": "slide"
    }
   },
   "outputs": [
    {
     "data": {
      "image/png": "[encoded data removed]",
      "text/plain": [
       "<Figure size 432x288 with 1 Axes>"
      ]
     },
     "metadata": {
      "image/png": {
       "height": 254,
       "width": 376
      },
      "needs_background": "light"
     },
     "output_type": "display_data"
    }
   ],
   "source": [
    "f = sym.lambdify((y,t)+k, ydot)\n",
    "plt.plot(tout, spi.odeint(f, y0, tout, k_vals))\n",
    "plt.legend(['Suceptible', 'Infected', 'Recovered']);"
   ]
  },
  {
   "cell_type": "markdown",
   "metadata": {
    "slideshow": {
     "slide_type": "fragment"
    }
   },
   "source": [
    "In this example the gains of using a symbolic representation are arguably limited."
   ]
  },
  {
   "cell_type": "markdown",
   "metadata": {
    "slideshow": {
     "slide_type": "slide"
    }
   },
   "source": [
    "Let's take the same example with demography and $n$ classes of subjects:\n",
    "\n",
    "$$\n",
    "X_i = S_i, I_i, R_i  \\qquad i = 1 \\ldots n \n",
    "$$\n",
    "\n",
    "$$\n",
    "    \\frac{dS_i}{dt} = \\nu_i - \\beta_i S_i I_i - \\mu_i S_i + \n",
    "    \\sum_{j=1}^n m_{ji} S_j-\\sum_{j=1}^n m_{ij} S_i \\\\\n",
    "    \\frac{dI_i}{dt} = \\beta_i S_i I_i - (\\gamma_i + \\mu_i) I_i +\n",
    "    \\sum_{j=1}^n m_{ij} I_j-\\sum_{j=1}^n m_{ji} I_i \\\\\n",
    "    \\frac{dR_i}{dt} = - \\frac{dS_i}{dt} - \\frac{dI_i}{dt}\n",
    "$$\n",
    "\n",
    "- $\\beta$  : transmission coefficient\n",
    "- $\\gamma$ : healing rate\n",
    "- $\\mu$    : mortality rate\n",
    "- $\\nu$    : birth rate\n",
    "        "
   ]
  },
  {
   "cell_type": "markdown",
   "metadata": {
    "slideshow": {
     "slide_type": "slide"
    }
   },
   "source": [
    "### Exercise \n",
    "\n",
    "- Create the symbolic matrix $m$, symbols $\\nu_i,\\mu_i,\\beta_i,\\gamma_i$ for $i=0,1,2$ and $y_j$ for\n",
    "$j=0,1,2,\\ldots,8$\n",
    "- Write the system $\\dot{y} = f(t,y,m,\\nu,\\mu,\\beta,\\gamma)$\n",
    "- `lambdify` the $f$ function.\n",
    "- Solve the system with:\n",
    "$$\n",
    "m = \\begin{bmatrix} \n",
    "0 & 0.01 & 0.01 \\\\\n",
    "0.01 & 0 & 0.01 \\\\\n",
    "0.01 & 0.01 & 0 \\\\\n",
    "\\end{bmatrix}\n",
    "$$\n",
    "$$\n",
    "\\begin{aligned}\n",
    "t &= [0,10] \\mbox{ with } dt = 0.1 \\\\\n",
    "\\nu_i &= 0.0 \\\\\n",
    "\\mu_i &= 0.0 \\\\\n",
    "\\beta_i &= 1.66 \\\\\n",
    "\\gamma_i &= [0.4545,0.3545,0.2545] \\\\\n",
    "S_i&= 0.95 \\\\\n",
    "I_i &= 0.05 \\\\\n",
    "R_i &= 0.0 \n",
    "\\end{aligned}\n",
    "$$\n"
   ]
  },
  {
   "cell_type": "markdown",
   "metadata": {
    "slideshow": {
     "slide_type": "slide"
    }
   },
   "source": [
    "### Exercise : Bezier curve\n",
    "\n",
    "We want to compute and the draw the Bezier curve between the 3 points $p_0$, $p_1$, and $p_2$,\n",
    "The middle point $p_1$ position is arbitrary.\n",
    "\n",
    "$$\n",
    "p0=(1,0); \\qquad\n",
    "p1=(x,y); \\qquad\n",
    "p2=(0,1)\n",
    "$$\n",
    "\n",
    "\n",
    "The $n+1$ Bernstein basis polynomials of degree $n$ are defined as\n",
    "\n",
    "$$\n",
    "b_{i,n}(x) = {n \\choose i} x^{i} \\left( 1 - x \\right)^{n - i}, \\quad i = 0, \\ldots, n.\n",
    "$$\n",
    "\n",
    "where ${n \\choose i}$ is the binomial coefficient.\n",
    "\n",
    "The Bezier curve is defined by a linear combination of Bernstein basis polynomials:\n",
    "\n",
    "$$B_n(x) = \\sum_{i=0}^{n} \\beta_{i} b_{i,n}(x)$$\n",
    "\n",
    "- With`sympy.binomial`, write a function `bpoly(t,n,i)` that returns the Bernstein basis polynomial $b_{i,n}(t)$.\n",
    "- Compute the Berstein polynomial representing the Bezier curve between $p_0,p_1,p_2$. $\\beta_i=1$.\n",
    "- Plot the Bezier Curve for 3 positions of $p_1= (0,0), (0.5,0.5), (1,1)$ \n"
   ]
  },
  {
   "cell_type": "markdown",
   "metadata": {
    "slideshow": {
     "slide_type": "slide"
    }
   },
   "source": [
    "## Integrals quadrature"
   ]
  },
  {
   "cell_type": "code",
   "execution_count": 45,
   "metadata": {
    "slideshow": {
     "slide_type": "fragment"
    }
   },
   "outputs": [
    {
     "data": {
      "image/png": "[encoded data removed]",
      "text/latex": [
       "$$\\left ( \\left [ -0.7746, \\quad 0, \\quad 0.7746\\right ], \\quad \\left [ 0.55556, \\quad 0.88889, \\quad 0.55556\\right ]\\right )$$"
      ],
      "text/plain": [
       "([-0.7746, 0, 0.7746], [0.55556, 0.88889, 0.55556])"
      ]
     },
     "execution_count": 45,
     "metadata": {},
     "output_type": "execute_result"
    }
   ],
   "source": [
    "from sympy.integrals.quadrature import *\n",
    "x, w = gauss_legendre(3, 5)\n",
    "x, w"
   ]
  },
  {
   "cell_type": "code",
   "execution_count": 46,
   "metadata": {
    "slideshow": {
     "slide_type": "fragment"
    }
   },
   "outputs": [
    {
     "data": {
      "image/png": "[encoded data removed]",
      "text/latex": [
       "$$\\left ( \\left [ -1, \\quad 0, \\quad 1\\right ], \\quad \\left [ 0.333333333333, \\quad 1.33333333333, \\quad 0.333333333333\\right ]\\right )$$"
      ],
      "text/plain": [
       "([-1, 0, 1], [0.333333333333, 1.33333333333, 0.333333333333])"
      ]
     },
     "execution_count": 46,
     "metadata": {},
     "output_type": "execute_result"
    }
   ],
   "source": [
    "x, w = gauss_lobatto(3,12)\n",
    "x, w"
   ]
  },
  {
   "cell_type": "markdown",
   "metadata": {
    "slideshow": {
     "slide_type": "skip"
    }
   },
   "source": [
    "# References\n",
    "\n",
    "- [SciPy 2017 tutorial](https://youtu.be/5jzIVp6bTy0)\n",
    "\n"
   ]
  }
 ],
 "metadata": {
  "kernelspec": {
   "display_name": "Python (math-python)",
   "language": "python",
   "name": "math-python"
  },
  "language_info": {
   "codemirror_mode": {
    "name": "ipython",
    "version": 3
   },
   "file_extension": ".py",
   "mimetype": "text/x-python",
   "name": "python",
   "nbconvert_exporter": "python",
   "pygments_lexer": "ipython3",
   "version": "3.6.6"
  }
 },
 "nbformat": 4,
 "nbformat_minor": 2
}
