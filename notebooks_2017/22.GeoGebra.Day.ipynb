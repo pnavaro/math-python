{
 "cells": [
  {
   "cell_type": "markdown",
   "metadata": {},
   "source": [
    "# GeoGebra Day data\n",
    "\n",
    "- Example of cleaning data with pandas\n",
    "- csv `data/geogebra.csv` file is exported from LimeSurvey "
   ]
  },
  {
   "cell_type": "code",
   "execution_count": 1,
   "metadata": {},
   "outputs": [],
   "source": [
    "%matplotlib inline\n",
    "%config InlineBackend.figure_format = 'retina'\n",
    "import matplotlib.pyplot as plt"
   ]
  },
  {
   "cell_type": "code",
   "execution_count": 2,
   "metadata": {},
   "outputs": [],
   "source": [
    "plt.rcParams['figure.figsize'] = (10,6)\n",
    "import pandas as pd"
   ]
  },
  {
   "cell_type": "code",
   "execution_count": 3,
   "metadata": {},
   "outputs": [
    {
     "data": {
      "text/html": [
       "<div>\n",
       "<style scoped>\n",
       "    .dataframe tbody tr th:only-of-type {\n",
       "        vertical-align: middle;\n",
       "    }\n",
       "\n",
       "    .dataframe tbody tr th {\n",
       "        vertical-align: top;\n",
       "    }\n",
       "\n",
       "    .dataframe thead th {\n",
       "        text-align: right;\n",
       "    }\n",
       "</style>\n",
       "<table border=\"1\" class=\"dataframe\">\n",
       "  <thead>\n",
       "    <tr style=\"text-align: right;\">\n",
       "      <th></th>\n",
       "      <th>ID de la réponse</th>\n",
       "      <th>Date de soumission</th>\n",
       "      <th>Dernière page</th>\n",
       "      <th>Langue de départ</th>\n",
       "      <th>Tête de série</th>\n",
       "      <th>Prénom - Nom</th>\n",
       "      <th>Institution</th>\n",
       "      <th>Quel est votre fonction ?</th>\n",
       "      <th>Quel est votre fonction ? [Autre]</th>\n",
       "      <th>Participez-vous au déjeuner?</th>\n",
       "      <th>Quel est, selon vous, votre niveau de connaissance actuel de Geogebra (1 débutant, 5 expert) ?</th>\n",
       "      <th>Avez-vous des attentes particulières en assistant à cette présentation ?</th>\n",
       "    </tr>\n",
       "  </thead>\n",
       "  <tbody>\n",
       "    <tr>\n",
       "      <th>0</th>\n",
       "      <td>1</td>\n",
       "      <td>1980-01-01 00:00:00</td>\n",
       "      <td>1.0</td>\n",
       "      <td>fr</td>\n",
       "      <td>1179529866</td>\n",
       "      <td>Pierre Navaro</td>\n",
       "      <td>CNRS</td>\n",
       "      <td>Autre</td>\n",
       "      <td>Ingénieur</td>\n",
       "      <td>Oui</td>\n",
       "      <td>1.0</td>\n",
       "      <td>NaN</td>\n",
       "    </tr>\n",
       "    <tr>\n",
       "      <th>1</th>\n",
       "      <td>2</td>\n",
       "      <td>NaN</td>\n",
       "      <td>NaN</td>\n",
       "      <td>fr</td>\n",
       "      <td>1983302816</td>\n",
       "      <td>NaN</td>\n",
       "      <td>NaN</td>\n",
       "      <td>NaN</td>\n",
       "      <td>NaN</td>\n",
       "      <td>NaN</td>\n",
       "      <td>NaN</td>\n",
       "      <td>NaN</td>\n",
       "    </tr>\n",
       "    <tr>\n",
       "      <th>2</th>\n",
       "      <td>3</td>\n",
       "      <td>1980-01-01 00:00:00</td>\n",
       "      <td>1.0</td>\n",
       "      <td>fr</td>\n",
       "      <td>981881199</td>\n",
       "      <td>Arame Diaw</td>\n",
       "      <td>Université de Rennes 1</td>\n",
       "      <td>Doctorant</td>\n",
       "      <td>NaN</td>\n",
       "      <td>NaN</td>\n",
       "      <td>1.0</td>\n",
       "      <td>NaN</td>\n",
       "    </tr>\n",
       "    <tr>\n",
       "      <th>3</th>\n",
       "      <td>4</td>\n",
       "      <td>NaN</td>\n",
       "      <td>NaN</td>\n",
       "      <td>fr</td>\n",
       "      <td>1823724502</td>\n",
       "      <td>NaN</td>\n",
       "      <td>NaN</td>\n",
       "      <td>NaN</td>\n",
       "      <td>NaN</td>\n",
       "      <td>NaN</td>\n",
       "      <td>NaN</td>\n",
       "      <td>NaN</td>\n",
       "    </tr>\n",
       "    <tr>\n",
       "      <th>4</th>\n",
       "      <td>5</td>\n",
       "      <td>NaN</td>\n",
       "      <td>NaN</td>\n",
       "      <td>fr</td>\n",
       "      <td>1295378405</td>\n",
       "      <td>NaN</td>\n",
       "      <td>NaN</td>\n",
       "      <td>NaN</td>\n",
       "      <td>NaN</td>\n",
       "      <td>NaN</td>\n",
       "      <td>NaN</td>\n",
       "      <td>NaN</td>\n",
       "    </tr>\n",
       "  </tbody>\n",
       "</table>\n",
       "</div>"
      ],
      "text/plain": [
       "   ID de la réponse   Date de soumission  Dernière page Langue de départ  \\\n",
       "0                 1  1980-01-01 00:00:00            1.0               fr   \n",
       "1                 2                  NaN            NaN               fr   \n",
       "2                 3  1980-01-01 00:00:00            1.0               fr   \n",
       "3                 4                  NaN            NaN               fr   \n",
       "4                 5                  NaN            NaN               fr   \n",
       "\n",
       "   Tête de série   Prénom - Nom             Institution  \\\n",
       "0     1179529866  Pierre Navaro                    CNRS   \n",
       "1     1983302816            NaN                     NaN   \n",
       "2      981881199     Arame Diaw  Université de Rennes 1   \n",
       "3     1823724502            NaN                     NaN   \n",
       "4     1295378405            NaN                     NaN   \n",
       "\n",
       "  Quel est votre fonction ? Quel est votre fonction ? [Autre]  \\\n",
       "0                     Autre                         Ingénieur   \n",
       "1                       NaN                               NaN   \n",
       "2                 Doctorant                               NaN   \n",
       "3                       NaN                               NaN   \n",
       "4                       NaN                               NaN   \n",
       "\n",
       "  Participez-vous au déjeuner?  \\\n",
       "0                          Oui   \n",
       "1                          NaN   \n",
       "2                          NaN   \n",
       "3                          NaN   \n",
       "4                          NaN   \n",
       "\n",
       "   Quel est, selon vous, votre niveau de connaissance actuel de Geogebra (1 débutant, 5 expert) ?  \\\n",
       "0                                                1.0                                                \n",
       "1                                                NaN                                                \n",
       "2                                                1.0                                                \n",
       "3                                                NaN                                                \n",
       "4                                                NaN                                                \n",
       "\n",
       "  Avez-vous des attentes particulières en assistant à cette présentation ?  \n",
       "0                                                NaN                        \n",
       "1                                                NaN                        \n",
       "2                                                NaN                        \n",
       "3                                                NaN                        \n",
       "4                                                NaN                        "
      ]
     },
     "execution_count": 3,
     "metadata": {},
     "output_type": "execute_result"
    }
   ],
   "source": [
    "geogebra = pd.read_csv('../data/geogebra.csv', sep=';')\n",
    "geogebra.head()"
   ]
  },
  {
   "cell_type": "markdown",
   "metadata": {},
   "source": [
    "### Remove all rows where \"Prenom - Nom\" is Nan"
   ]
  },
  {
   "cell_type": "code",
   "execution_count": 4,
   "metadata": {},
   "outputs": [
    {
     "data": {
      "text/html": [
       "<div>\n",
       "<style scoped>\n",
       "    .dataframe tbody tr th:only-of-type {\n",
       "        vertical-align: middle;\n",
       "    }\n",
       "\n",
       "    .dataframe tbody tr th {\n",
       "        vertical-align: top;\n",
       "    }\n",
       "\n",
       "    .dataframe thead th {\n",
       "        text-align: right;\n",
       "    }\n",
       "</style>\n",
       "<table border=\"1\" class=\"dataframe\">\n",
       "  <thead>\n",
       "    <tr style=\"text-align: right;\">\n",
       "      <th></th>\n",
       "      <th>ID de la réponse</th>\n",
       "      <th>Date de soumission</th>\n",
       "      <th>Dernière page</th>\n",
       "      <th>Langue de départ</th>\n",
       "      <th>Tête de série</th>\n",
       "      <th>Prénom - Nom</th>\n",
       "      <th>Institution</th>\n",
       "      <th>Quel est votre fonction ?</th>\n",
       "      <th>Quel est votre fonction ? [Autre]</th>\n",
       "      <th>Participez-vous au déjeuner?</th>\n",
       "      <th>Quel est, selon vous, votre niveau de connaissance actuel de Geogebra (1 débutant, 5 expert) ?</th>\n",
       "      <th>Avez-vous des attentes particulières en assistant à cette présentation ?</th>\n",
       "    </tr>\n",
       "  </thead>\n",
       "  <tbody>\n",
       "    <tr>\n",
       "      <th>0</th>\n",
       "      <td>1</td>\n",
       "      <td>1980-01-01 00:00:00</td>\n",
       "      <td>1.0</td>\n",
       "      <td>fr</td>\n",
       "      <td>1179529866</td>\n",
       "      <td>Pierre Navaro</td>\n",
       "      <td>CNRS</td>\n",
       "      <td>Autre</td>\n",
       "      <td>Ingénieur</td>\n",
       "      <td>Oui</td>\n",
       "      <td>1.0</td>\n",
       "      <td>NaN</td>\n",
       "    </tr>\n",
       "    <tr>\n",
       "      <th>2</th>\n",
       "      <td>3</td>\n",
       "      <td>1980-01-01 00:00:00</td>\n",
       "      <td>1.0</td>\n",
       "      <td>fr</td>\n",
       "      <td>981881199</td>\n",
       "      <td>Arame Diaw</td>\n",
       "      <td>Université de Rennes 1</td>\n",
       "      <td>Doctorant</td>\n",
       "      <td>NaN</td>\n",
       "      <td>NaN</td>\n",
       "      <td>1.0</td>\n",
       "      <td>NaN</td>\n",
       "    </tr>\n",
       "    <tr>\n",
       "      <th>8</th>\n",
       "      <td>9</td>\n",
       "      <td>1980-01-01 00:00:00</td>\n",
       "      <td>1.0</td>\n",
       "      <td>fr</td>\n",
       "      <td>1494213942</td>\n",
       "      <td>Lionel Antoine</td>\n",
       "      <td>NaN</td>\n",
       "      <td>Enseignant du second degré</td>\n",
       "      <td>NaN</td>\n",
       "      <td>NaN</td>\n",
       "      <td>4.0</td>\n",
       "      <td>NaN</td>\n",
       "    </tr>\n",
       "    <tr>\n",
       "      <th>12</th>\n",
       "      <td>13</td>\n",
       "      <td>1980-01-01 00:00:00</td>\n",
       "      <td>1.0</td>\n",
       "      <td>fr</td>\n",
       "      <td>1179284381</td>\n",
       "      <td>Basile Pillet</td>\n",
       "      <td>Lycée Chateaubriand</td>\n",
       "      <td>Enseignant du second degré</td>\n",
       "      <td>NaN</td>\n",
       "      <td>Oui</td>\n",
       "      <td>3.0</td>\n",
       "      <td>Fabriquer des animations, faire de la programm...</td>\n",
       "    </tr>\n",
       "    <tr>\n",
       "      <th>13</th>\n",
       "      <td>14</td>\n",
       "      <td>1980-01-01 00:00:00</td>\n",
       "      <td>1.0</td>\n",
       "      <td>fr</td>\n",
       "      <td>159275002</td>\n",
       "      <td>Ludo Marquis</td>\n",
       "      <td>IRMAR</td>\n",
       "      <td>Enseignant-chercheur</td>\n",
       "      <td>NaN</td>\n",
       "      <td>Oui</td>\n",
       "      <td>3.0</td>\n",
       "      <td>En savoir plus !</td>\n",
       "    </tr>\n",
       "  </tbody>\n",
       "</table>\n",
       "</div>"
      ],
      "text/plain": [
       "    ID de la réponse   Date de soumission  Dernière page Langue de départ  \\\n",
       "0                  1  1980-01-01 00:00:00            1.0               fr   \n",
       "2                  3  1980-01-01 00:00:00            1.0               fr   \n",
       "8                  9  1980-01-01 00:00:00            1.0               fr   \n",
       "12                13  1980-01-01 00:00:00            1.0               fr   \n",
       "13                14  1980-01-01 00:00:00            1.0               fr   \n",
       "\n",
       "    Tête de série    Prénom - Nom             Institution  \\\n",
       "0      1179529866   Pierre Navaro                    CNRS   \n",
       "2       981881199      Arame Diaw  Université de Rennes 1   \n",
       "8      1494213942  Lionel Antoine                     NaN   \n",
       "12     1179284381   Basile Pillet     Lycée Chateaubriand   \n",
       "13      159275002    Ludo Marquis                   IRMAR   \n",
       "\n",
       "     Quel est votre fonction ? Quel est votre fonction ? [Autre]  \\\n",
       "0                        Autre                         Ingénieur   \n",
       "2                    Doctorant                               NaN   \n",
       "8   Enseignant du second degré                               NaN   \n",
       "12  Enseignant du second degré                               NaN   \n",
       "13        Enseignant-chercheur                               NaN   \n",
       "\n",
       "   Participez-vous au déjeuner?  \\\n",
       "0                           Oui   \n",
       "2                           NaN   \n",
       "8                           NaN   \n",
       "12                          Oui   \n",
       "13                          Oui   \n",
       "\n",
       "    Quel est, selon vous, votre niveau de connaissance actuel de Geogebra (1 débutant, 5 expert) ?  \\\n",
       "0                                                 1.0                                                \n",
       "2                                                 1.0                                                \n",
       "8                                                 4.0                                                \n",
       "12                                                3.0                                                \n",
       "13                                                3.0                                                \n",
       "\n",
       "   Avez-vous des attentes particulières en assistant à cette présentation ?  \n",
       "0                                                 NaN                        \n",
       "2                                                 NaN                        \n",
       "8                                                 NaN                        \n",
       "12  Fabriquer des animations, faire de la programm...                        \n",
       "13                                  En savoir plus !                         "
      ]
     },
     "execution_count": 4,
     "metadata": {},
     "output_type": "execute_result"
    }
   ],
   "source": [
    "geogebra = geogebra.dropna(subset=['Prénom - Nom'])\n",
    "geogebra.head()"
   ]
  },
  {
   "cell_type": "markdown",
   "metadata": {},
   "source": [
    "### Remove some unuseful variables"
   ]
  },
  {
   "cell_type": "code",
   "execution_count": 5,
   "metadata": {},
   "outputs": [
    {
     "data": {
      "text/plain": [
       "Index(['ID de la réponse', 'Date de soumission', 'Dernière page',\n",
       "       'Langue de départ', 'Tête de série', 'Prénom - Nom', 'Institution',\n",
       "       'Quel est votre fonction ?', 'Quel est votre fonction ? [Autre]',\n",
       "       'Participez-vous au déjeuner?',\n",
       "       'Quel est, selon vous, votre niveau de connaissance actuel de Geogebra (1 débutant, 5 expert) ?',\n",
       "       'Avez-vous des attentes particulières en assistant à cette présentation ?'],\n",
       "      dtype='object')"
      ]
     },
     "execution_count": 5,
     "metadata": {},
     "output_type": "execute_result"
    }
   ],
   "source": [
    "geogebra.columns"
   ]
  },
  {
   "cell_type": "code",
   "execution_count": 6,
   "metadata": {},
   "outputs": [],
   "source": [
    "geogebra = geogebra.drop(geogebra.columns[0:5], axis=1)"
   ]
  },
  {
   "cell_type": "code",
   "execution_count": 7,
   "metadata": {},
   "outputs": [],
   "source": [
    "geogebra = geogebra.reset_index(drop=True)"
   ]
  },
  {
   "cell_type": "code",
   "execution_count": 8,
   "metadata": {},
   "outputs": [
    {
     "data": {
      "text/html": [
       "<div>\n",
       "<style scoped>\n",
       "    .dataframe tbody tr th:only-of-type {\n",
       "        vertical-align: middle;\n",
       "    }\n",
       "\n",
       "    .dataframe tbody tr th {\n",
       "        vertical-align: top;\n",
       "    }\n",
       "\n",
       "    .dataframe thead th {\n",
       "        text-align: right;\n",
       "    }\n",
       "</style>\n",
       "<table border=\"1\" class=\"dataframe\">\n",
       "  <thead>\n",
       "    <tr style=\"text-align: right;\">\n",
       "      <th></th>\n",
       "      <th>Prénom - Nom</th>\n",
       "      <th>Institution</th>\n",
       "      <th>Quel est votre fonction ?</th>\n",
       "      <th>Quel est votre fonction ? [Autre]</th>\n",
       "      <th>Participez-vous au déjeuner?</th>\n",
       "      <th>Quel est, selon vous, votre niveau de connaissance actuel de Geogebra (1 débutant, 5 expert) ?</th>\n",
       "      <th>Avez-vous des attentes particulières en assistant à cette présentation ?</th>\n",
       "    </tr>\n",
       "  </thead>\n",
       "  <tbody>\n",
       "    <tr>\n",
       "      <th>0</th>\n",
       "      <td>Pierre Navaro</td>\n",
       "      <td>CNRS</td>\n",
       "      <td>Autre</td>\n",
       "      <td>Ingénieur</td>\n",
       "      <td>Oui</td>\n",
       "      <td>1.0</td>\n",
       "      <td>NaN</td>\n",
       "    </tr>\n",
       "    <tr>\n",
       "      <th>1</th>\n",
       "      <td>Arame Diaw</td>\n",
       "      <td>Université de Rennes 1</td>\n",
       "      <td>Doctorant</td>\n",
       "      <td>NaN</td>\n",
       "      <td>NaN</td>\n",
       "      <td>1.0</td>\n",
       "      <td>NaN</td>\n",
       "    </tr>\n",
       "    <tr>\n",
       "      <th>2</th>\n",
       "      <td>Lionel Antoine</td>\n",
       "      <td>NaN</td>\n",
       "      <td>Enseignant du second degré</td>\n",
       "      <td>NaN</td>\n",
       "      <td>NaN</td>\n",
       "      <td>4.0</td>\n",
       "      <td>NaN</td>\n",
       "    </tr>\n",
       "    <tr>\n",
       "      <th>3</th>\n",
       "      <td>Basile Pillet</td>\n",
       "      <td>Lycée Chateaubriand</td>\n",
       "      <td>Enseignant du second degré</td>\n",
       "      <td>NaN</td>\n",
       "      <td>Oui</td>\n",
       "      <td>3.0</td>\n",
       "      <td>Fabriquer des animations, faire de la programm...</td>\n",
       "    </tr>\n",
       "    <tr>\n",
       "      <th>4</th>\n",
       "      <td>Ludo Marquis</td>\n",
       "      <td>IRMAR</td>\n",
       "      <td>Enseignant-chercheur</td>\n",
       "      <td>NaN</td>\n",
       "      <td>Oui</td>\n",
       "      <td>3.0</td>\n",
       "      <td>En savoir plus !</td>\n",
       "    </tr>\n",
       "  </tbody>\n",
       "</table>\n",
       "</div>"
      ],
      "text/plain": [
       "     Prénom - Nom             Institution   Quel est votre fonction ?  \\\n",
       "0   Pierre Navaro                    CNRS                       Autre   \n",
       "1      Arame Diaw  Université de Rennes 1                   Doctorant   \n",
       "2  Lionel Antoine                     NaN  Enseignant du second degré   \n",
       "3   Basile Pillet     Lycée Chateaubriand  Enseignant du second degré   \n",
       "4    Ludo Marquis                   IRMAR        Enseignant-chercheur   \n",
       "\n",
       "  Quel est votre fonction ? [Autre] Participez-vous au déjeuner?  \\\n",
       "0                         Ingénieur                          Oui   \n",
       "1                               NaN                          NaN   \n",
       "2                               NaN                          NaN   \n",
       "3                               NaN                          Oui   \n",
       "4                               NaN                          Oui   \n",
       "\n",
       "   Quel est, selon vous, votre niveau de connaissance actuel de Geogebra (1 débutant, 5 expert) ?  \\\n",
       "0                                                1.0                                                \n",
       "1                                                1.0                                                \n",
       "2                                                4.0                                                \n",
       "3                                                3.0                                                \n",
       "4                                                3.0                                                \n",
       "\n",
       "  Avez-vous des attentes particulières en assistant à cette présentation ?  \n",
       "0                                                NaN                        \n",
       "1                                                NaN                        \n",
       "2                                                NaN                        \n",
       "3  Fabriquer des animations, faire de la programm...                        \n",
       "4                                  En savoir plus !                         "
      ]
     },
     "execution_count": 8,
     "metadata": {},
     "output_type": "execute_result"
    }
   ],
   "source": [
    "geogebra.head()"
   ]
  },
  {
   "cell_type": "markdown",
   "metadata": {},
   "source": [
    "### Replace Nan by 'Non' and count Lunch participants"
   ]
  },
  {
   "cell_type": "code",
   "execution_count": 9,
   "metadata": {},
   "outputs": [
    {
     "data": {
      "text/html": [
       "<div>\n",
       "<style scoped>\n",
       "    .dataframe tbody tr th:only-of-type {\n",
       "        vertical-align: middle;\n",
       "    }\n",
       "\n",
       "    .dataframe tbody tr th {\n",
       "        vertical-align: top;\n",
       "    }\n",
       "\n",
       "    .dataframe thead th {\n",
       "        text-align: right;\n",
       "    }\n",
       "</style>\n",
       "<table border=\"1\" class=\"dataframe\">\n",
       "  <thead>\n",
       "    <tr style=\"text-align: right;\">\n",
       "      <th></th>\n",
       "      <th>Prénom - Nom</th>\n",
       "      <th>Institution</th>\n",
       "      <th>Quel est votre fonction ?</th>\n",
       "      <th>Quel est votre fonction ? [Autre]</th>\n",
       "      <th>Participez-vous au déjeuner?</th>\n",
       "      <th>Quel est, selon vous, votre niveau de connaissance actuel de Geogebra (1 débutant, 5 expert) ?</th>\n",
       "      <th>Avez-vous des attentes particulières en assistant à cette présentation ?</th>\n",
       "    </tr>\n",
       "  </thead>\n",
       "  <tbody>\n",
       "    <tr>\n",
       "      <th>0</th>\n",
       "      <td>Pierre Navaro</td>\n",
       "      <td>CNRS</td>\n",
       "      <td>Autre</td>\n",
       "      <td>Ingénieur</td>\n",
       "      <td>Oui</td>\n",
       "      <td>1.0</td>\n",
       "      <td>NaN</td>\n",
       "    </tr>\n",
       "    <tr>\n",
       "      <th>1</th>\n",
       "      <td>Arame Diaw</td>\n",
       "      <td>Université de Rennes 1</td>\n",
       "      <td>Doctorant</td>\n",
       "      <td>NaN</td>\n",
       "      <td>Non</td>\n",
       "      <td>1.0</td>\n",
       "      <td>NaN</td>\n",
       "    </tr>\n",
       "    <tr>\n",
       "      <th>2</th>\n",
       "      <td>Lionel Antoine</td>\n",
       "      <td>NaN</td>\n",
       "      <td>Enseignant du second degré</td>\n",
       "      <td>NaN</td>\n",
       "      <td>Non</td>\n",
       "      <td>4.0</td>\n",
       "      <td>NaN</td>\n",
       "    </tr>\n",
       "    <tr>\n",
       "      <th>3</th>\n",
       "      <td>Basile Pillet</td>\n",
       "      <td>Lycée Chateaubriand</td>\n",
       "      <td>Enseignant du second degré</td>\n",
       "      <td>NaN</td>\n",
       "      <td>Oui</td>\n",
       "      <td>3.0</td>\n",
       "      <td>Fabriquer des animations, faire de la programm...</td>\n",
       "    </tr>\n",
       "    <tr>\n",
       "      <th>4</th>\n",
       "      <td>Ludo Marquis</td>\n",
       "      <td>IRMAR</td>\n",
       "      <td>Enseignant-chercheur</td>\n",
       "      <td>NaN</td>\n",
       "      <td>Oui</td>\n",
       "      <td>3.0</td>\n",
       "      <td>En savoir plus !</td>\n",
       "    </tr>\n",
       "  </tbody>\n",
       "</table>\n",
       "</div>"
      ],
      "text/plain": [
       "     Prénom - Nom             Institution   Quel est votre fonction ?  \\\n",
       "0   Pierre Navaro                    CNRS                       Autre   \n",
       "1      Arame Diaw  Université de Rennes 1                   Doctorant   \n",
       "2  Lionel Antoine                     NaN  Enseignant du second degré   \n",
       "3   Basile Pillet     Lycée Chateaubriand  Enseignant du second degré   \n",
       "4    Ludo Marquis                   IRMAR        Enseignant-chercheur   \n",
       "\n",
       "  Quel est votre fonction ? [Autre] Participez-vous au déjeuner?  \\\n",
       "0                         Ingénieur                          Oui   \n",
       "1                               NaN                          Non   \n",
       "2                               NaN                          Non   \n",
       "3                               NaN                          Oui   \n",
       "4                               NaN                          Oui   \n",
       "\n",
       "   Quel est, selon vous, votre niveau de connaissance actuel de Geogebra (1 débutant, 5 expert) ?  \\\n",
       "0                                                1.0                                                \n",
       "1                                                1.0                                                \n",
       "2                                                4.0                                                \n",
       "3                                                3.0                                                \n",
       "4                                                3.0                                                \n",
       "\n",
       "  Avez-vous des attentes particulières en assistant à cette présentation ?  \n",
       "0                                                NaN                        \n",
       "1                                                NaN                        \n",
       "2                                                NaN                        \n",
       "3  Fabriquer des animations, faire de la programm...                        \n",
       "4                                  En savoir plus !                         "
      ]
     },
     "execution_count": 9,
     "metadata": {},
     "output_type": "execute_result"
    }
   ],
   "source": [
    "geogebra.iloc[:,4] = geogebra.iloc[:,4].fillna('Non')\n",
    "geogebra.head()"
   ]
  },
  {
   "cell_type": "code",
   "execution_count": 10,
   "metadata": {},
   "outputs": [
    {
     "data": {
      "text/plain": [
       "27"
      ]
     },
     "execution_count": 10,
     "metadata": {},
     "output_type": "execute_result"
    }
   ],
   "source": [
    "import numpy as np\n",
    "len(list(filter(lambda x:x=='Oui',geogebra.iloc[:,4].values)))"
   ]
  },
  {
   "cell_type": "code",
   "execution_count": 11,
   "metadata": {},
   "outputs": [
    {
     "data": {
      "text/plain": [
       "Oui    27\n",
       "Non    13\n",
       "Name: Participez-vous au déjeuner?, dtype: int64"
      ]
     },
     "execution_count": 11,
     "metadata": {},
     "output_type": "execute_result"
    }
   ],
   "source": [
    "geogebra.iloc[:,4].value_counts()"
   ]
  },
  {
   "cell_type": "code",
   "execution_count": 12,
   "metadata": {},
   "outputs": [
    {
     "name": "stdout",
     "output_type": "stream",
     "text": [
      "Alice Touzet \n",
      "Basile Pillet\n",
      "Carole HERRMANN\n",
      "Daniel MERDRIGNAC\n",
      "Didier BENOIT\n",
      "François-Xavier  Josse-Michaux\n",
      "GAUTIER Daniel\n",
      "Gaelle Morvan\n",
      "Gaëlle Guillot\n",
      "Gwenaëlle CLEMENT\n",
      "Hélène DEMOY\n",
      "JESTIN Martine\n",
      "Julie Verscheldem\n",
      "Jérôme - BRUNEL\n",
      "Katia - Barré               katia.barre@ac-rennes.fr\n",
      "Ludo Marquis\n",
      "Marie-Pierre Lebaud\n",
      "Martine MELEC\n",
      "Nathalie - Krell\n",
      "Pascale AUBRY\n",
      "Pierre Navaro\n",
      "Pérignon Éric\n",
      "RIBEZZO Karine\n",
      "Sandrine Clarinval\n",
      "Youssouf GBADAMASSI\n",
      "jean-michel Raoul\n",
      "raoul\n"
     ]
    }
   ],
   "source": [
    "lunch_participants = geogebra[geogebra.iloc[:,4] == 'Oui'].iloc[:,0].values\n",
    "for people in sorted(lunch_participants):\n",
    "    print(people)"
   ]
  },
  {
   "cell_type": "code",
   "execution_count": 13,
   "metadata": {},
   "outputs": [
    {
     "name": "stdout",
     "output_type": "stream",
     "text": [
      "Arame Diaw\n",
      "Lionel Antoine\n",
      "delahaie chrystele\n",
      "jean pierre hairault\n",
      "Bihan\n",
      "Catherine GAUTRAIS\n",
      "Jesús David Pineda Escobar\n",
      "djamad Naderi\n",
      "Carole Herrmann\n",
      "PINOT Laure\n",
      "Yaël Patiinec\n",
      "Marino Tintaya Gutiérrez\n",
      "Christine LE BIHAN\n"
     ]
    }
   ],
   "source": [
    "nolunch_participants = geogebra[geogebra.iloc[:,4] == 'Non'].iloc[:,0].values\n",
    "for person in nolunch_participants:\n",
    "    print(person)"
   ]
  },
  {
   "cell_type": "markdown",
   "metadata": {},
   "source": [
    "### GeoGebra participants level"
   ]
  },
  {
   "cell_type": "code",
   "execution_count": 14,
   "metadata": {},
   "outputs": [
    {
     "data": {
      "image/png": "[encoded data removed]",
      "text/plain": [
       "<Figure size 432x432 with 1 Axes>"
      ]
     },
     "metadata": {
      "image/png": {
       "height": 357,
       "width": 352
      }
     },
     "output_type": "display_data"
    }
   ],
   "source": [
    "plt.figure(figsize=(6,6))\n",
    "geogebra.iloc[:,5] = geogebra.iloc[:,5].astype(int) # convert to int\n",
    "ax = geogebra.iloc[:,5].value_counts().plot(kind='pie');\n",
    "ax.set_title(\"GeoGebra level 1-5\")\n",
    "ax.set_ylabel(\"\");"
   ]
  },
  {
   "cell_type": "markdown",
   "metadata": {},
   "source": [
    "### Participants institution"
   ]
  },
  {
   "cell_type": "code",
   "execution_count": 15,
   "metadata": {
    "scrolled": true
   },
   "outputs": [
    {
     "data": {
      "text/plain": [
       "Enseignant du second degré    33\n",
       "Enseignant-chercheur           3\n",
       "Doctorant                      2\n",
       "Autre                          2\n",
       "Name: Quel est votre fonction ?, dtype: int64"
      ]
     },
     "execution_count": 15,
     "metadata": {},
     "output_type": "execute_result"
    }
   ],
   "source": [
    "geogebra.iloc[:,2].value_counts()"
   ]
  },
  {
   "cell_type": "code",
   "execution_count": 16,
   "metadata": {},
   "outputs": [
    {
     "name": "stdout",
     "output_type": "stream",
     "text": [
      "Lionel Antoine\n",
      "Basile Pillet\n",
      "François-Xavier  Josse-Michaux\n",
      "delahaie chrystele\n",
      "jean pierre hairault\n",
      "Katia - Barré               katia.barre@ac-rennes.fr\n",
      "Bihan\n",
      "Catherine GAUTRAIS\n",
      "Gwenaëlle CLEMENT\n",
      "Alice Touzet \n",
      "Gaëlle Guillot\n",
      "Jérôme - BRUNEL\n",
      "Youssouf GBADAMASSI\n",
      "GAUTIER Daniel\n",
      "djamad Naderi\n",
      "raoul\n",
      "jean-michel Raoul\n",
      "Gaelle Morvan\n",
      "Daniel MERDRIGNAC\n",
      "Martine MELEC\n",
      "Hélène DEMOY\n",
      "Carole Herrmann\n",
      "Julie Verscheldem\n",
      "RIBEZZO Karine\n",
      "PINOT Laure\n",
      "Yaël Patiinec\n",
      "Didier BENOIT\n",
      "Christine LE BIHAN\n",
      "Sandrine Clarinval\n",
      "JESTIN Martine\n",
      "Pascale AUBRY\n",
      "Carole HERRMANN\n",
      "Pérignon Éric\n"
     ]
    }
   ],
   "source": [
    "for people in geogebra[geogebra.iloc[:,2] == \"Enseignant du second degré\"].iloc[:,0].values:\n",
    "    print(people)"
   ]
  },
  {
   "cell_type": "markdown",
   "metadata": {},
   "source": [
    "### display participants remarks"
   ]
  },
  {
   "cell_type": "code",
   "execution_count": 17,
   "metadata": {},
   "outputs": [],
   "source": [
    "remarks = geogebra.iloc[:,6]\n",
    "remarks = remarks.dropna()"
   ]
  },
  {
   "cell_type": "code",
   "execution_count": 18,
   "metadata": {},
   "outputs": [],
   "source": [
    "with open('remarks.md','w') as f:\n",
    "    for i, line in enumerate(remarks.values):\n",
    "        line = line.strip().replace(\"\\n\",\"\")\n",
    "        f.write(str(i)+'. '+line+'\\n')"
   ]
  },
  {
   "cell_type": "markdown",
   "metadata": {},
   "source": [
    "0. Fabriquer des animations, faire de la programmation avec GeoGebra...\n",
    "1. En savoir plus !\n",
    "2. geom espace term S et surfaces z = f(x,y)\n",
    "3. Je ne pourrai pas être présente le matin, j'arriverai vers 13 h 30.\n",
    "4. J'utilise GeoGebra pour mes préparations de cours et aussi avec les élèves. Je pense avoir des utilisations très basiques de GeoGebra et j'espère pouvoir découvrir davantage ses possibilités.\n",
    "5. Utiliser le tableur, faire des  calculs formels, et des figures dans l'espace.\n",
    "6. Je souhaiterai voir différentes utilisations de GeoGebra pour les fonctions, les listes ( suites définies par récurrence : représentation graphique par exemple...)\n",
    "7. Pas d'attentes particulières. J'aime bien ce logiciel, mais je pense que je n'utilise que très peu de fonctionnalités....Je voudrais découvrir des nouvelles fonctions et des nouvelles idées pour enrichir mon utilisation en classe (lycée)Par ailleurs, je prépare l'agrégation interne de maths. Pour les épreuves orales, le jury apprécie que les candidats illustrent leurs leçons par des animations logicielles (géogébra, python, scilab, xcas....). Plus je connaitrais Géogébra, et plus j'aurais des idées pour illustrer mes leçons d'oral. Voilà une deuxième motivation pour venir à cette journée.\n",
    "8. Acquisitions de nouvelles méthodes éventuellement rapides\n",
    "9. Les applications de Géogébra pour concevoir les cours, et les activités.\n",
    "10. Connaitre plus les fonctions de calcul formel, de probabilités et de 3D\n",
    "11. Utiliser Géogébra pour la géométrie dans l'espace.\n",
    "12. Géométrie dans l'espace.\n",
    "13. Utilisation de Géogébra en première et terminale.\n",
    "14. Travailler sur la géométrie dans l’espace.\n",
    "15. Étudier ce que l on peut faire d un point de vue pédagogique avec les élèves pour conjecturer/démontrer . Travailler avec des commandes cachées.  Apprendre à utiliser le curseur. Mieux connaître l outil geogebra pour l utiliser dzns la création de mes cours.\n",
    "16. Me sentir plus à l’aise lorsque je propose une activité geogebra aux élèves.\n",
    "17. Yes\n",
    "18. Utilisation des outils \"avancés\" : calcul formel, tableur Lien entre ces outils \"avancés\"Possibilité (ou non) d'exploiter une figure geogebra dans une page HTML en tant qu'applet (ce qui était possible dans les anciennes versions en .jar) sans être forcé de l'héberger sur GeogebraTubeSi oui : quelle interaction avec les paramètres prédéfinis ?\n",
    "19. Voir toutes les fonctionnalités de Géogebra pour faire des animations en classe ou pour utiliser avec les élèves. ( Lycee)\n",
    "20. Insérer des images.Créer des animations.Géogébra 3D\n",
    "21. Géométrie dans l'espace nivea\n"
   ]
  }
 ],
 "metadata": {
  "kernelspec": {
   "display_name": "Python (math-python)",
   "language": "python",
   "name": "math-python"
  },
  "language_info": {
   "codemirror_mode": {
    "name": "ipython",
    "version": 3
   },
   "file_extension": ".py",
   "mimetype": "text/x-python",
   "name": "python",
   "nbconvert_exporter": "python",
   "pygments_lexer": "ipython3",
   "version": "3.6.6"
  }
 },
 "nbformat": 4,
 "nbformat_minor": 2
}
