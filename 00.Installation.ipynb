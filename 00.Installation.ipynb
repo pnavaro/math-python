{
 "cells": [
  {
   "cell_type": "markdown",
   "metadata": {
    "slideshow": {
     "slide_type": "slide"
    }
   },
   "source": [
    "## Installation\n",
    "\n",
    "1. Install [Anaconda](https://www.anaconda.com/downloads) (large) or [Miniconda](https://conda.io/miniconda.html) (small)\n",
    "\n",
    "2. Clone the repository (you can install git with conda):\n",
    "```bash\n",
    "conda install git\n",
    "git config --global user.name “Prenom Nom\"\n",
    "git config --global user.email “prenom.nom@univ-rennes1.fr\"\n",
    "git clone https://github.com/pnavaro/math-python.git\n",
    "```\n",
    "\n",
    "3. Create a new conda environment:\n",
    "\n",
    "```bash\n",
    "conda env create -f environment.yml\n",
    "source activate math-python  # Linux OS/X\n",
    "activate math         # Windows\n",
    "```\n",
    "\n",
    "\n",
    "\n"
   ]
  },
  {
   "cell_type": "markdown",
   "metadata": {
    "slideshow": {
     "slide_type": "slide"
    }
   },
   "source": [
    "Activating the virtual environment will change your shell’s prompt to show what virtual environment you’re using, and modify the environment so that running python will get you that particular version and installation of Python. \n",
    "<pre>\n",
    "$ source activate math-python\n",
    "(math-python) $ python\n",
    "Python 3.6.2 (default, Jul 17 2017, 16:44:45) \n",
    "[GCC 4.2.1 Compatible Apple LLVM 8.1.0 (clang-802.0.42)] on darwin\n",
    "Type \"help\", \"copyright\", \"credits\" or \"license\" for more information.\n",
    ">>> \n",
    "</pre>"
   ]
  },
  {
   "cell_type": "markdown",
   "metadata": {
    "slideshow": {
     "slide_type": "slide"
    }
   },
   "source": [
    "## Managing environments with conda\n",
    "\n",
    "To create a new environment with Python2:\n",
    "\n",
    "```sh\n",
    "$ conda create --name python2 python=2\n",
    "```\n",
    "\n",
    "to activate this environment\n",
    "\n",
    "```sh\n",
    "$ source activate python2\n",
    "```\n",
    "\n",
    "List all environments\n",
    "\n",
    "```sh\n",
    "$ conda env list\n",
    "```\n",
    "\n",
    "You can also clone environment, check the [documentation](https://conda.io/docs/using/envs.html)."
   ]
  },
  {
   "cell_type": "markdown",
   "metadata": {
    "slideshow": {
     "slide_type": "slide"
    }
   },
   "source": [
    "## Managing Packages with pip\n",
    "\n",
    "- Search a package\n",
    "\n",
    "```bash\n",
    "$ pip3 search biopython\n",
    "```\n",
    "\n",
    "- Install a package (or update if it is already installed)\n",
    "\n",
    "```bash\n",
    "$ pip3 install -U biopython\n",
    "```\n",
    "\n",
    "- List packages installed\n",
    "\n",
    "```bash\n",
    "$ pip3 list\n",
    "```\n"
   ]
  },
  {
   "cell_type": "markdown",
   "metadata": {
    "slideshow": {
     "slide_type": "slide"
    }
   },
   "source": [
    "## Managing packages with conda\n",
    "\n",
    "* Use conda-forge\n",
    "```sh\n",
    "$ conda config --add channels conda-forge\n",
    "```\n",
    "\n",
    "* List all packages\n",
    "```sh\n",
    "$ conda list\n",
    "```\n",
    "\n",
    "* Search a package\n",
    "```sh\n",
    "$ conda search biopython\n",
    "```\n",
    "\n",
    "* Install a package\n",
    "```sh\n",
    "$ conda install biopython # install from default channel\n",
    "$ conda install -n python2 biopython # install in python2 env\n",
    "$ conda install -c bioconda biopython # install from bioconda\n",
    "```\n",
    "\n",
    "You can also update or remove, check the [documentation](https://conda.io/docs/using/pkgs.html)."
   ]
  },
  {
   "cell_type": "markdown",
   "metadata": {
    "slideshow": {
     "slide_type": "slide"
    }
   },
   "source": [
    "## Installing Python Packages from a Jupyter Notebook\n",
    "\n",
    "### Install a conda package in the current Jupyter kernel\n",
    "\n",
    "Example with package `lorem` from *conda-forge*\n",
    "```python\n",
    "import sys\n",
    "!conda install --yes --prefix {sys.prefix} -c conda-forge lorem\n",
    "```\n",
    "\n",
    "### Install a pip package in the current Jupyter kernel\n",
    "```\n",
    "import sys\n",
    "!{sys.executable} -m pip install lorem\n",
    "```"
   ]
  },
  {
   "cell_type": "code",
   "execution_count": null,
   "metadata": {
    "slideshow": {
     "slide_type": "fragment"
    }
   },
   "outputs": [],
   "source": [
    "!type -a python"
   ]
  }
 ],
 "metadata": {
  "kernelspec": {
   "display_name": "Python 3",
   "language": "python",
   "name": "python3"
  },
  "language_info": {
   "codemirror_mode": {
    "name": "ipython",
    "version": 3
   },
   "file_extension": ".py",
   "mimetype": "text/x-python",
   "name": "python",
   "nbconvert_exporter": "python",
   "pygments_lexer": "ipython3",
   "version": "3.6.5"
  }
 },
 "nbformat": 4,
 "nbformat_minor": 2
}
