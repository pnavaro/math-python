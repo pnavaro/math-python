{
 "cells": [
  {
   "cell_type": "markdown",
   "metadata": {
    "slideshow": {
     "slide_type": "slide"
    }
   },
   "source": [
    "# Installation"
   ]
  },
  {
   "cell_type": "markdown",
   "metadata": {
    "slideshow": {
     "slide_type": "slide"
    }
   },
   "source": [
    "## With conda\n",
    "\n",
    "### 1. Install [Anaconda](https://www.anaconda.com/downloads) (large) or [Miniconda](https://conda.io/miniconda.html) (small)"
   ]
  },
  {
   "cell_type": "markdown",
   "metadata": {
    "slideshow": {
     "slide_type": "slide"
    }
   },
   "source": [
    "### 2. Open a terminal (Linux/MacOSX) or a conda prompt (Windows)"
   ]
  },
  {
   "cell_type": "markdown",
   "metadata": {
    "slideshow": {
     "slide_type": "slide"
    }
   },
   "source": [
    "### 3. Create a new conda environment with python 3.6\n",
    "\n",
    "\n",
    "```bash\n",
    "conda create python=3.6 -n my-env\n",
    "```"
   ]
  },
  {
   "cell_type": "markdown",
   "metadata": {
    "slideshow": {
     "slide_type": "slide"
    }
   },
   "source": [
    "### 4. Activate the new environment\n",
    "\n",
    "Activating the conda environment will change your shell’s prompt to show what virtual environment you’re using, and modify the environment so that running python will get you that particular version and installation of Python. \n",
    "<pre>\n",
    "$ conda activate my-env\n",
    "(math-python) $ python\n",
    "Python 3.6.2 (default, Jul 17 2017, 16:44:45) \n",
    "[GCC 4.2.1 Compatible Apple LLVM 8.1.0 (clang-802.0.42)] on darwin\n",
    "Type \"help\", \"copyright\", \"credits\" or \"license\" for more information.\n",
    ">>> quit()\n",
    "</pre>\n",
    "\n",
    "[Conda envs documentation](https://conda.io/docs/using/envs.html)."
   ]
  },
  {
   "cell_type": "markdown",
   "metadata": {
    "slideshow": {
     "slide_type": "slide"
    }
   },
   "source": [
    "### 5. Managing packages with conda\n",
    "\n",
    "* Use conda-forge channel\n",
    "```sh\n",
    "conda config --add channels conda-forge\n",
    "```\n",
    "\n",
    "* List all packages\n",
    "```sh\n",
    "conda list\n",
    "```\n",
    "\n",
    "* Search a package\n",
    "```sh\n",
    "conda search jupyter\n",
    "```\n",
    "\n",
    "You can also update or remove, check the [documentation](https://conda.io/docs/using/pkgs.html)."
   ]
  },
  {
   "cell_type": "markdown",
   "metadata": {
    "slideshow": {
     "slide_type": "slide"
    }
   },
   "source": [
    "### 6. Install jupyter with extensions\n",
    "\n",
    "```\n",
    "conda install jupyter_contrib_nbextensions\n",
    "conda install autopep8\n",
    "```"
   ]
  },
  {
   "cell_type": "markdown",
   "metadata": {
    "slideshow": {
     "slide_type": "slide"
    }
   },
   "source": [
    "### 7. Enable autopep8 extension\n",
    "\n",
    "```\n",
    "jupyter nbextension enable code_prettify/autopep8\n",
    "```"
   ]
  },
  {
   "cell_type": "markdown",
   "metadata": {
    "slideshow": {
     "slide_type": "slide"
    }
   },
   "source": [
    "## With pip"
   ]
  },
  {
   "cell_type": "markdown",
   "metadata": {
    "slideshow": {
     "slide_type": "slide"
    }
   },
   "source": [
    "### 1. First create a [Python environment](https://docs.python.org/3/library/venv.html)\n",
    "\n",
    "```dos\n",
    "C:\\>python -m venv C:\\Users\\'Username'\\my-venv\n",
    "C:\\Users\\'Username'\\my-venv\\Scripts\\activate.bat\n",
    "```"
   ]
  },
  {
   "cell_type": "markdown",
   "metadata": {
    "slideshow": {
     "slide_type": "slide"
    }
   },
   "source": [
    "### 2. Install pip\n",
    "\n",
    "```\n",
    "python -m pip install --upgrade pip\n",
    "```"
   ]
  },
  {
   "cell_type": "markdown",
   "metadata": {
    "slideshow": {
     "slide_type": "slide"
    }
   },
   "source": [
    "### 3. Install jupyter with extensions"
   ]
  },
  {
   "cell_type": "markdown",
   "metadata": {
    "slideshow": {
     "slide_type": "fragment"
    }
   },
   "source": [
    "```\n",
    "pip install jupyter_contrib_nbextensions\n",
    "jupyter contrib nbextension install --sys-prefix\n",
    "pip install autopep8\n",
    "jupyter nbextension enable code_prettify/autopep8\n",
    "```"
   ]
  },
  {
   "cell_type": "markdown",
   "metadata": {
    "slideshow": {
     "slide_type": "slide"
    }
   },
   "source": [
    "### 4. Managing Packages with pip\n",
    "\n",
    "- Search a package\n",
    "\n",
    "```bash\n",
    "pip search lorem\n",
    "```\n",
    "\n",
    "- Install a package (or update if it is already installed)\n",
    "\n",
    "```bash\n",
    "pip install -U lorem\n",
    "```\n",
    "\n",
    "- List packages installed\n",
    "\n",
    "```bash\n",
    "pip list\n",
    "```\n"
   ]
  },
  {
   "cell_type": "markdown",
   "metadata": {
    "slideshow": {
     "slide_type": "slide"
    }
   },
   "source": [
    "## Get jupyter notebooks\n",
    "\n",
    "\n",
    "### Clone the repository with git\n",
    "\n",
    "```\n",
    "conda install git # install with conda if not present\n",
    "git config --global user.name “Prenom Nom\"\n",
    "git config --global user.email “prenom.nom@univ-rennes1.fr\"\n",
    "git clone https://github.com/pnavaro/python-notebooks.git\n",
    "```\n",
    "\n",
    "### Or download zip archive.\n",
    "\n",
    "https://github.com/pnavaro/python-notebooks/archive/master.zip\n"
   ]
  },
  {
   "cell_type": "markdown",
   "metadata": {
    "slideshow": {
     "slide_type": "slide"
    }
   },
   "source": [
    "## Run jupyter\n",
    "\n",
    "```\n",
    "cd python-notebooks\n",
    "jupyter notebook\n",
    "```"
   ]
  },
  {
   "cell_type": "markdown",
   "metadata": {
    "slideshow": {
     "slide_type": "slide"
    }
   },
   "source": [
    "## Installing Python Packages from a Jupyter Notebook\n",
    "\n",
    "### conda package in the current Jupyter kernel\n",
    "\n",
    "Example with package `lorem` from *conda-forge*\n",
    "```python\n",
    "import sys\n",
    "!conda install --yes --prefix {sys.prefix} -c conda-forge lorem\n",
    "```\n",
    "\n",
    "### pip package in the current Jupyter kernel\n",
    "```\n",
    "import sys\n",
    "!{sys.executable} -m pip install lorem\n",
    "```"
   ]
  },
  {
   "cell_type": "code",
   "execution_count": 1,
   "metadata": {
    "slideshow": {
     "slide_type": "slide"
    }
   },
   "outputs": [
    {
     "name": "stdout",
     "output_type": "stream",
     "text": [
      "/usr/local/opt/python/bin/python3.6\n"
     ]
    }
   ],
   "source": [
    "import sys\n",
    "print(sys.executable)"
   ]
  }
 ],
 "metadata": {
  "celltoolbar": "Slideshow",
  "kernelspec": {
   "display_name": "Python 3",
   "language": "python",
   "name": "python3"
  },
  "language_info": {
   "codemirror_mode": {
    "name": "ipython",
    "version": 3
   },
   "file_extension": ".py",
   "mimetype": "text/x-python",
   "name": "python",
   "nbconvert_exporter": "python",
   "pygments_lexer": "ipython3",
   "version": "3.6.5"
  }
 },
 "nbformat": 4,
 "nbformat_minor": 2
}
