{
 "cells": [
  {
   "cell_type": "markdown",
   "metadata": {
    "slideshow": {
     "slide_type": "skip"
    }
   },
   "source": [
    "Pierre Navaro - [Institut de Recherche Mathématique de Rennes](https://irmar.univ-rennes1.fr) - [CNRS](http://www.cnrs.fr/)"
   ]
  },
  {
   "cell_type": "markdown",
   "metadata": {
    "slideshow": {
     "slide_type": "slide"
    }
   },
   "source": [
    "# Python Introduction"
   ]
  },
  {
   "cell_type": "raw",
   "metadata": {
    "slideshow": {
     "slide_type": "-"
    }
   },
   "source": [
    "<script>\n",
    "    function hide_prompt() {\n",
    "        $('div.prompt').hide(); // always hide prompt\n",
    "    }\n",
    "    $( document ).ready(hide_prompt);\n",
    "</script>"
   ]
  },
  {
   "cell_type": "markdown",
   "metadata": {
    "slideshow": {
     "slide_type": "slide"
    }
   },
   "source": [
    "# History\n",
    "\n",
    "- Project initiated by Guido Von Rossum in 1990\n",
    "- Interpreted language written in C.\n",
    "- Widely used in all domains (Web, Data Science, Scientific Computation).\n",
    "- This is a high level language with a simple syntax. \n",
    "- Python types are numerously and powerful.\n",
    "- Bind Python with other languages is easy.\n",
    "- You can perform a lot of operations with very few lines.\n",
    "- Available on all platforms Unix, Windows, Mac OS X...\n",
    "- Very few limits.\n",
    "- Many libraries offer Python bindings.\n",
    "\n"
   ]
  },
  {
   "cell_type": "markdown",
   "metadata": {
    "slideshow": {
     "slide_type": "slide"
    }
   },
   "source": [
    "# Python 2 and 3 version\n",
    "- Python 3.x isn't a simple improvement or extension of Python 2.x.\n",
    "- All libraries exist in version 3  but both versions coexist.\n",
    "- Every example are written in Python 3.x, it is the default version.\n",
    "- Changes in official documentation: [https://docs.python.org/3/whatsnew/3.0.html]\n",
    "- `print` is now a function `print()` with `sep` argument.\n",
    "- Some function return \"views\" instead of \"lists\".\n",
    "- In version 3 division operator isn't pure (7/2 = 3.5).\n",
    "- `range` function doesn't return list anymore. Use `list(range(n))`.\n",
    "\n",
    "## Porting your code \n",
    "- http://www.diveintopython3.net/porting-code-to-python-3-with-2to3.html\n",
    "- [Python-Future](http://python-future.org/quickstart.html) offers Python 2 compatibility."
   ]
  },
  {
   "cell_type": "markdown",
   "metadata": {
    "slideshow": {
     "slide_type": "slide"
    }
   },
   "source": [
    "# Python distributions\n",
    "\n",
    " Python packages are available with all linux distributions but you can get standalone bundles:\n",
    "- [Enthought Python Distribution](http://www.enthought.com/products/epd.php)\n",
    "- [Astropy](http://www.astropy.org)\n",
    "- [SAGEMATH](http://sagemath.org/)\n",
    "- [Anaconda](https://www.continuum.io/downloads)\n",
    "- [Pyzo](http://www.pyzo.org)\n"
   ]
  },
  {
   "cell_type": "markdown",
   "metadata": {
    "slideshow": {
     "slide_type": "slide"
    }
   },
   "source": [
    "# Performances\n",
    " Python is not fast... but:\n",
    "- Sometimes it is. \n",
    "- Most of operations are optimized.\n",
    "- Package like numpy can reduce the CPU time.\n",
    "- With Python you can save time to achieve your project.\n",
    "\n",
    "Some advices:\n",
    "- Write your program with Python language. \n",
    "- If it is fast enough, be happy.\n",
    "- After profiling, optimize costly parts of your code.\n",
    "\n",
    "\"Premature optimization is the root of all evil\" (Donald Knuth 1974)\n"
   ]
  },
  {
   "cell_type": "markdown",
   "metadata": {
    "slideshow": {
     "slide_type": "slide"
    }
   },
   "source": [
    "# Optimization\n",
    "\n",
    "- Profiling\n",
    "```shell\n",
    "python -m profile -s time my_script.p\n",
    "```\n",
    "- Improve your algorithm\n",
    "- Import optimized module (numpy, scipy)\n",
    "- Use low level languages:\n",
    "    - C / Swig,\n",
    "    - C++ / Swig \n",
    "    - C++ / Boost,\n",
    "    - Fortran / f2py.\n",
    "- Pyrex, Cython, Pythran, Pypy, Numba, Parakeet,...\n",
    "    - http://serge-sans-paille.github.io/talks/pythran-2014-07-15.html\n",
    "    - http://calcul.math.cnrs.fr/spip.php?article284\n",
    "\n"
   ]
  },
  {
   "cell_type": "markdown",
   "metadata": {
    "slideshow": {
     "slide_type": "slide"
    }
   },
   "source": [
    "# Jupyter - Start The Notebook\n",
    "\n",
    "Clone the repository (you can install git with conda):\n",
    "```bash\n",
    "git config --global user.name “Prenom Nom\"\n",
    "git config --global user.email “prenom.nom@univ-rennes1.fr\"\n",
    "git clone git@gitlab-ssh.univ-rennes1.fr:pnavaro/osur-python-2017.git\n",
    "cd osur-python-2017\n",
    "git pull\n",
    "conda env create -f environment.yml\n",
    "source activate osur2017\n",
    "nbopen 01.Introduction.ipynb\n",
    "```\n",
    "You should see the notebook open in your browser. If not, go to http://localhost:8888\n",
    "\n",
    "The Jupyter Notebook is an interactive environment for writing and running code. The notebook is capable of running code in a wide range of languages. However, each notebook is associated with Python3 kernel.\n",
    "\n",
    "\n",
    "\n"
   ]
  },
  {
   "cell_type": "markdown",
   "metadata": {
    "slideshow": {
     "slide_type": "slide"
    }
   },
   "source": [
    "## Code cells allow you to enter and run code\n",
    "\n",
    "**Make a copy of this notebook by using the File menu.**\n",
    "\n",
    "Run a code cell using `Shift-Enter` or pressing the <button class='btn btn-default btn-xs'><i class=\"icon-step-forward fa fa-step-forward\"></i></button> button in the toolbar above:\n",
    "\n",
    "There are two other keyboard shortcuts for running code:\n",
    "\n",
    "* `Alt-Enter` runs the current cell and inserts a new one below.\n",
    "* `Ctrl-Enter` run the current cell and enters command mode."
   ]
  },
  {
   "cell_type": "markdown",
   "metadata": {
    "slideshow": {
     "slide_type": "slide"
    }
   },
   "source": [
    "\n",
    "\n",
    "## Managing the Kernel\n",
    "\n",
    "Code is run in a separate process called the Kernel.  The Kernel can be interrupted or restarted.  Try running the following cell and then hit the <button class='btn btn-default btn-xs'><i class='icon-stop fa fa-stop'></i></button> button in the toolbar above.\n",
    "\n",
    "The \"Cell\" menu has a number of menu items for running code in different ways. These includes:\n",
    "\n",
    "* Run and Select Below\n",
    "* Run and Insert Below\n",
    "* Run All\n",
    "* Run All Above\n",
    "* Run All Below\n",
    "\n"
   ]
  },
  {
   "cell_type": "markdown",
   "metadata": {
    "slideshow": {
     "slide_type": "slide"
    }
   },
   "source": [
    "## Restarting the kernels\n",
    "\n",
    "The kernel maintains the state of a notebook's computations. You can reset this state by restarting the kernel. This is done by clicking on the <button class='btn btn-default btn-xs'><i class='fa fa-repeat icon-repeat'></i></button> in the toolbar above.\n",
    "\n",
    "\n",
    "Check the [documentation](https://jupyter-notebook.readthedocs.io/en/latest/examples/Notebook/Notebook%20Basics.html)."
   ]
  },
  {
   "cell_type": "markdown",
   "metadata": {
    "collapsed": true,
    "slideshow": {
     "slide_type": "slide"
    }
   },
   "source": [
    "# First program\n",
    "\n",
    "- Print out the string \"Hello world!\" and its type.\n",
    "- Print out the value of `a` variable set to 6625 and its type."
   ]
  },
  {
   "cell_type": "code",
   "execution_count": 2,
   "metadata": {
    "slideshow": {
     "slide_type": "fragment"
    }
   },
   "outputs": [
    {
     "name": "stdout",
     "output_type": "stream",
     "text": [
      "<class 'str'> Hello World!\n",
      "<class 'int'> 6625\n"
     ]
    }
   ],
   "source": [
    "s = \"Hello World!\"\n",
    "print(type(s),s)\n",
    "a = 6625\n",
    "print(type(a),a)"
   ]
  },
  {
   "cell_type": "markdown",
   "metadata": {
    "slideshow": {
     "slide_type": "slide"
    }
   },
   "source": [
    "## Execute using python"
   ]
  },
  {
   "cell_type": "code",
   "execution_count": 5,
   "metadata": {
    "slideshow": {
     "slide_type": "fragment"
    }
   },
   "outputs": [
    {
     "name": "stdout",
     "output_type": "stream",
     "text": [
      "Overwriting hello.py\n"
     ]
    }
   ],
   "source": [
    "%%file hello.py\n",
    "#!/usr/bin/env python \n",
    "# -*- coding: utf-8 -*-\n",
    "\n",
    "s = \"Hello World!\"\n",
    "print(type(s),s)\n",
    "a = 6625\n",
    "print(type(a),a)"
   ]
  },
  {
   "cell_type": "markdown",
   "metadata": {
    "slideshow": {
     "slide_type": "fragment"
    }
   },
   "source": [
    "```bash\n",
    "$ chmod +x hello.py\n",
    "$ python3 hello.py\n",
    "<class 'str'> Hello World!\n",
    "<class 'int'> 6625\n",
    "```"
   ]
  },
  {
   "cell_type": "markdown",
   "metadata": {
    "slideshow": {
     "slide_type": "slide"
    }
   },
   "source": [
    "## Execute with ipython\n",
    "```ipython\n",
    "(osur2017) $ ipython\n",
    "Python 3.6.3 | packaged by conda-forge | (default, Nov  4 2017, 10:13:32)\n",
    "Type 'copyright', 'credits' or 'license' for more information\n",
    "IPython 6.2.1 -- An enhanced Interactive Python. Type '?' for help.\n",
    "\n",
    "In [1]: run hello.py\n",
    "<class 'str'> Hello World!\n",
    "<class 'int'> 6625\n",
    "```"
   ]
  },
  {
   "cell_type": "markdown",
   "metadata": {
    "slideshow": {
     "slide_type": "slide"
    }
   },
   "source": [
    "# Python Types\n",
    "- Most of Python types are classes, typing is dynamic.\n",
    "- ; symbol can be used to split two Python commands on the same line."
   ]
  },
  {
   "cell_type": "code",
   "execution_count": 2,
   "metadata": {
    "slideshow": {
     "slide_type": "fragment"
    }
   },
   "outputs": [
    {
     "name": "stdout",
     "output_type": "stream",
     "text": [
      "<class 'int'>\n",
      "<class 'float'>\n",
      "<class 'bool'>\n",
      "<class 'NoneType'>\n",
      "<class 'complex'>\n",
      "<class 'type'>\n"
     ]
    }
   ],
   "source": [
    "s = int(2010); print(type(s))\n",
    "s = 3.14; print(type(s))\n",
    "s = True; print(type(s))\n",
    "s = None; print(type(s))\n",
    "s = 1.0j; print(type(s))\n",
    "s = type(type(s)); print(type(s))"
   ]
  },
  {
   "cell_type": "markdown",
   "metadata": {
    "slideshow": {
     "slide_type": "slide"
    }
   },
   "source": [
    "# Calculate with Python"
   ]
  },
  {
   "cell_type": "code",
   "execution_count": 3,
   "metadata": {
    "slideshow": {
     "slide_type": "fragment"
    }
   },
   "outputs": [
    {
     "name": "stdout",
     "output_type": "stream",
     "text": [
      "47 True\n"
     ]
    }
   ],
   "source": [
    "x = 45      # This is a comment!\n",
    "x += 2        # equivalent to x = x + 2\n",
    "print(x, x > 45)"
   ]
  },
  {
   "cell_type": "code",
   "execution_count": 4,
   "metadata": {
    "slideshow": {
     "slide_type": "fragment"
    }
   },
   "outputs": [
    {
     "name": "stdout",
     "output_type": "stream",
     "text": [
      "x+y= 49.5 <class 'float'>\n"
     ]
    }
   ],
   "source": [
    "y = 2.5\n",
    "print(\"x+y=\",x+y, type(x+y))  # Add float to integer, result will be a float"
   ]
  },
  {
   "cell_type": "code",
   "execution_count": 5,
   "metadata": {
    "slideshow": {
     "slide_type": "fragment"
    }
   },
   "outputs": [
    {
     "name": "stdout",
     "output_type": "stream",
     "text": [
      "188.0\n",
      "156\n"
     ]
    }
   ],
   "source": [
    "print(x*10/y)   # classic division returns a float\n",
    "print(x*10//3)  # floor division discards the fractional part"
   ]
  },
  {
   "cell_type": "code",
   "execution_count": 6,
   "metadata": {
    "slideshow": {
     "slide_type": "fragment"
    }
   },
   "outputs": [
    {
     "name": "stdout",
     "output_type": "stream",
     "text": [
      "7\n"
     ]
    }
   ],
   "source": [
    "print( x % 8) # the % operator returns the remainder of the division"
   ]
  },
  {
   "cell_type": "code",
   "execution_count": 7,
   "metadata": {
    "slideshow": {
     "slide_type": "fragment"
    }
   },
   "outputs": [
    {
     "name": "stdout",
     "output_type": "stream",
     "text": [
      "x = 00047 \n"
     ]
    }
   ],
   "source": [
    "print( \"x = %05d \" % x) # You can use C format rules to improve print output"
   ]
  },
  {
   "cell_type": "markdown",
   "metadata": {
    "collapsed": true,
    "slideshow": {
     "slide_type": "slide"
    }
   },
   "source": [
    "# Multiple Assignment\n",
    "- Variables can simultaneously get new values. \n",
    "- Expressions on the right-hand side are all evaluated first before assignments take place. \n",
    "- The right-hand side expressions are evaluated from the left to the right.\n",
    "- Use it very carefully"
   ]
  },
  {
   "cell_type": "code",
   "execution_count": 7,
   "metadata": {
    "slideshow": {
     "slide_type": "fragment"
    }
   },
   "outputs": [
    {
     "name": "stdout",
     "output_type": "stream",
     "text": [
      "1 1 1\n"
     ]
    }
   ],
   "source": [
    "a = b = c = 1\n",
    "print(a, b, c) "
   ]
  },
  {
   "cell_type": "code",
   "execution_count": 8,
   "metadata": {
    "slideshow": {
     "slide_type": "fragment"
    }
   },
   "outputs": [
    {
     "name": "stdout",
     "output_type": "stream",
     "text": [
      "1 2 3\n"
     ]
    }
   ],
   "source": [
    "a, b, c = 1, 2, 3\n",
    "print (a, b, c)"
   ]
  },
  {
   "cell_type": "code",
   "execution_count": 9,
   "metadata": {
    "slideshow": {
     "slide_type": "fragment"
    }
   },
   "outputs": [
    {
     "name": "stdout",
     "output_type": "stream",
     "text": [
      "3 2 1\n"
     ]
    }
   ],
   "source": [
    "a, c = c, a     # Nice way to permute values\n",
    "print (a, b, c) "
   ]
  },
  {
   "cell_type": "code",
   "execution_count": 11,
   "metadata": {
    "slideshow": {
     "slide_type": "fragment"
    }
   },
   "outputs": [
    {
     "data": {
      "text/plain": [
       "(False, True)"
      ]
     },
     "execution_count": 11,
     "metadata": {},
     "output_type": "execute_result"
    }
   ],
   "source": [
    "a < b < c, a > b > c"
   ]
  },
  {
   "cell_type": "markdown",
   "metadata": {
    "slideshow": {
     "slide_type": "slide"
    }
   },
   "source": [
    "# `input` Function"
   ]
  },
  {
   "cell_type": "code",
   "execution_count": 3,
   "metadata": {
    "slideshow": {
     "slide_type": "fragment"
    }
   },
   "outputs": [
    {
     "name": "stdout",
     "output_type": "stream",
     "text": [
      "Please enter your name: Navaro\n"
     ]
    },
    {
     "data": {
      "text/plain": [
       "'Navaro'"
      ]
     },
     "execution_count": 3,
     "metadata": {},
     "output_type": "execute_result"
    }
   ],
   "source": [
    "name = input(\"Please enter your name: \")\n",
    "name"
   ]
  },
  {
   "cell_type": "code",
   "execution_count": 1,
   "metadata": {
    "slideshow": {
     "slide_type": "fragment"
    }
   },
   "outputs": [
    {
     "name": "stdout",
     "output_type": "stream",
     "text": [
      "Please enter an integer: 42\n"
     ]
    },
    {
     "data": {
      "text/plain": [
       "42"
      ]
     },
     "execution_count": 1,
     "metadata": {},
     "output_type": "execute_result"
    }
   ],
   "source": [
    "x = int(input(\"Please enter an integer: \"))\n",
    "x"
   ]
  },
  {
   "cell_type": "code",
   "execution_count": 10,
   "metadata": {
    "slideshow": {
     "slide_type": "fragment"
    }
   },
   "outputs": [
    {
     "name": "stdout",
     "output_type": "stream",
     "text": [
      "Please enter 3 values 1.0 4 7\n"
     ]
    },
    {
     "data": {
      "text/plain": [
       "['1', '.', '0', ' ', '4', ' ', '7']"
      ]
     },
     "execution_count": 10,
     "metadata": {},
     "output_type": "execute_result"
    }
   ],
   "source": [
    "l = list(input(\"Please enter 3 values \"))\n",
    "l"
   ]
  },
  {
   "cell_type": "markdown",
   "metadata": {
    "slideshow": {
     "slide_type": "skip"
    }
   },
   "source": [
    "# References\n",
    "\n",
    "- Official documentation (http://docs.python.org/tutorial)\n",
    "- *Dive Into Python* (http://diveintopython.adrahon.org)\n",
    "- *Learning Python* Mark Lutz and David Ascher chez O'Reilly\n",
    "- *Python Scripting for Computational Science* Hans Petter Langtangen Springer\n",
    "- *How to Think Like a Computer Scientist* (http://openbookproject.net//thinkCSpy/)\n",
    "- Free books (http://www.oreilly.com/programming/free/)\n",
    "- Notebook Gallery https://github.com/jupyter/jupyter/wiki/A-gallery-of-interesting-Jupyter-Notebooks"
   ]
  },
  {
   "cell_type": "code",
   "execution_count": null,
   "metadata": {},
   "outputs": [],
   "source": []
  }
 ],
 "metadata": {
  "kernelspec": {
   "display_name": "Python 3",
   "language": "python",
   "name": "python3"
  },
  "language_info": {
   "codemirror_mode": {
    "name": "ipython",
    "version": 3
   },
   "file_extension": ".py",
   "mimetype": "text/x-python",
   "name": "python",
   "nbconvert_exporter": "python",
   "pygments_lexer": "ipython3",
   "version": "3.6.3"
  }
 },
 "nbformat": 4,
 "nbformat_minor": 1
}
