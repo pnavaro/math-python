{
 "cells": [
  {
   "cell_type": "markdown",
   "metadata": {
    "slideshow": {
     "slide_type": "slide"
    }
   },
   "source": [
    "Pierre Navaro - [Institut de Recherche Mathématique de Rennes](https://irmar.univ-rennes1.fr) - [CNRS](http://www.cnrs.fr/)"
   ]
  },
  {
   "cell_type": "markdown",
   "metadata": {
    "slideshow": {
     "slide_type": "slide"
    }
   },
   "source": [
    "# What provide Numpy to Python ?\n",
    "\n",
    "- `ndarray` multi-dimensional array object\n",
    "- derived objects such as masket arrays and matrices\n",
    "- `ufunc` fast array mathematical operations.\n",
    "- Offers some Matlab-ish capabilities within Python\n",
    "- Initially developed by [Travis Oliphant](https://www.continuum.io/people/travis-oliphant).\n",
    "- Numpy 1.0 released October, 2006.\n",
    "- The [SciPy.org website](https://docs.scipy.org/doc/numpy) is very helpful.\n",
    "- NumPy fully supports an object-oriented approach.\n",
    "- Routines for fast operations on arrays.\n",
    "    - shape manipulation\n",
    "    - sorting\n",
    "    - I/O\n",
    "    - FFT\n",
    "    - basic linear algebra\n",
    "    - basic statistical operations\n",
    "    - random simulation and much more.\n"
   ]
  },
  {
   "cell_type": "markdown",
   "metadata": {
    "slideshow": {
     "slide_type": "slide"
    }
   },
   "source": [
    "# Getting Started with NumPy\n",
    "\n",
    "- It is handy to import everything from NumPy into a Python console:\n",
    "```python\n",
    "from numpy import *\n",
    "```\n",
    "- But it is easier to read and debug if you use explicit imports. \n",
    "    - `plt` for `matplotlib.pyplot`\n",
    "    - `np` for `numpy`\n",
    "    - `sp` for `scipy`\n"
   ]
  },
  {
   "cell_type": "code",
   "execution_count": 1,
   "metadata": {
    "slideshow": {
     "slide_type": "fragment"
    }
   },
   "outputs": [
    {
     "name": "stdout",
     "output_type": "stream",
     "text": [
      "1.14.0\n"
     ]
    }
   ],
   "source": [
    "import numpy as np\n",
    "print(np.__version__)"
   ]
  },
  {
   "cell_type": "markdown",
   "metadata": {
    "slideshow": {
     "slide_type": "slide"
    }
   },
   "source": [
    "To find all reading functions in numpy, ask ipython's tab completion:"
   ]
  },
  {
   "cell_type": "code",
   "execution_count": 2,
   "metadata": {
    "slideshow": {
     "slide_type": "fragment"
    }
   },
   "outputs": [],
   "source": [
    "#np.nd<TAB>"
   ]
  },
  {
   "cell_type": "code",
   "execution_count": 3,
   "metadata": {
    "slideshow": {
     "slide_type": "slide"
    }
   },
   "outputs": [
    {
     "name": "stdout",
     "output_type": "stream",
     "text": [
      "ndarray(shape, dtype=float, buffer=None, offset=0,\n",
      "            strides=None, order=None)\n",
      "\n",
      "    An array object represents a multidimensional, homogeneous array\n",
      "    of fixed-size items.  An associated data-type object describes the\n",
      "    format of each element in the array (its byte-order, how many bytes it\n",
      "    occupies in memory, whether it is an integer, a floating point number,\n",
      "    or something else, etc.)\n",
      "\n",
      "    Arrays should be constructed using `array`, `zeros` or `empty` (refer\n",
      "    to the See Also section below).  The parameters given here refer to\n",
      "    a low-level method (`ndarray(...)`) for instantiating an array.\n",
      "\n",
      "    For more information, refer to the `numpy` module and examine the\n",
      "    methods and attributes of an array.\n",
      "\n",
      "    Parameters\n",
      "    ----------\n",
      "    (for the __new__ method; see Notes below)\n",
      "\n",
      "    shape : tuple of ints\n",
      "        Shape of created array.\n",
      "    dtype : data-type, optional\n",
      "        Any object that can be interpreted as a numpy data type.\n",
      "    buffer : object exposing buffer interface, optional\n",
      "        Used to fill the array with data.\n",
      "    offset : int, optional\n",
      "        Offset of array data in buffer.\n",
      "    strides : tuple of ints, optional\n",
      "        Strides of data in memory.\n",
      "    order : {'C', 'F'}, optional\n",
      "        Row-major (C-style) or column-major (Fortran-style) order.\n",
      "\n",
      "    Attributes\n",
      "    ----------\n",
      "    T : ndarray\n",
      "        Transpose of the array.\n",
      "    data : buffer\n",
      "        The array's elements, in memory.\n",
      "    dtype : dtype object\n",
      "        Describes the format of the elements in the array.\n",
      "    flags : dict\n",
      "        Dictionary containing information related to memory use, e.g.,\n",
      "        'C_CONTIGUOUS', 'OWNDATA', 'WRITEABLE', etc.\n",
      "    flat : numpy.flatiter object\n",
      "        Flattened version of the array as an iterator.  The iterator\n",
      "        allows assignments, e.g., ``x.flat = 3`` (See `ndarray.flat` for\n",
      "        assignment examples; TODO).\n",
      "    imag : ndarray\n",
      "        Imaginary part of the array.\n",
      "    real : ndarray\n",
      "        Real part of the array.\n",
      "    size : int\n",
      "        Number of elements in the array.\n",
      "    itemsize : int\n",
      "        The memory use of each array element in bytes.\n",
      "    nbytes : int\n",
      "        The total number of bytes required to store the array data,\n",
      "        i.e., ``itemsize * size``.\n",
      "    ndim : int\n",
      "        The array's number of dimensions.\n",
      "    shape : tuple of ints\n",
      "        Shape of the array.\n",
      "    strides : tuple of ints\n",
      "        The step-size required to move from one element to the next in\n",
      "        memory. For example, a contiguous ``(3, 4)`` array of type\n",
      "        ``int16`` in C-order has strides ``(8, 2)``.  This implies that\n",
      "        to move from element to element in memory requires jumps of 2 bytes.\n",
      "        To move from row-to-row, one needs to jump 8 bytes at a time\n",
      "        (``2 * 4``).\n",
      "    ctypes : ctypes object\n",
      "        Class containing properties of the array needed for interaction\n",
      "        with ctypes.\n",
      "    base : ndarray\n",
      "        If the array is a view into another array, that array is its `base`\n",
      "        (unless that array is also a view).  The `base` array is where the\n",
      "        array data is actually stored.\n",
      "\n",
      "    See Also\n",
      "    --------\n",
      "    array : Construct an array.\n",
      "    zeros : Create an array, each element of which is zero.\n",
      "    empty : Create an array, but leave its allocated memory unchanged (i.e.,\n",
      "            it contains \"garbage\").\n",
      "    dtype : Create a data-type.\n",
      "\n",
      "    Notes\n",
      "    -----\n",
      "    There are two modes of creating an array using ``__new__``:\n",
      "\n",
      "    1. If `buffer` is None, then only `shape`, `dtype`, and `order`\n",
      "       are used.\n",
      "    2. If `buffer` is an object exposing the buffer interface, then\n",
      "       all keywords are interpreted.\n",
      "\n",
      "    No ``__init__`` method is needed because the array is fully initialized\n",
      "    after the ``__new__`` method.\n",
      "\n",
      "    Examples\n",
      "    --------\n",
      "    These examples illustrate the low-level `ndarray` constructor.  Refer\n",
      "    to the `See Also` section above for easier ways of constructing an\n",
      "    ndarray.\n",
      "\n",
      "    First mode, `buffer` is None:\n",
      "\n",
      "    >>> np.ndarray(shape=(2,2), dtype=float, order='F')\n",
      "    array([[ -1.13698227e+002,   4.25087011e-303],\n",
      "           [  2.88528414e-306,   3.27025015e-309]])         #random\n",
      "\n",
      "    Second mode:\n",
      "\n",
      "    >>> np.ndarray((2,), buffer=np.array([1,2,3]),\n",
      "    ...            offset=np.int_().itemsize,\n",
      "    ...            dtype=int) # offset = 1*itemsize, i.e. skip first element\n",
      "    array([2, 3])\n"
     ]
    }
   ],
   "source": [
    "print(np.ndarray.__doc__)"
   ]
  },
  {
   "cell_type": "markdown",
   "metadata": {
    "slideshow": {
     "slide_type": "slide"
    }
   },
   "source": [
    "# Why Arrays ?"
   ]
  },
  {
   "cell_type": "markdown",
   "metadata": {
    "slideshow": {
     "slide_type": "fragment"
    }
   },
   "source": [
    "- Python lists are slow to process and use a lot of memory.\n",
    "- For tables, matrices, or volumetric data, you need lists of lists of lists... which becomes messy to program."
   ]
  },
  {
   "cell_type": "code",
   "execution_count": 4,
   "metadata": {
    "slideshow": {
     "slide_type": "fragment"
    }
   },
   "outputs": [],
   "source": [
    "from random import random\n",
    "from operator import truediv"
   ]
  },
  {
   "cell_type": "code",
   "execution_count": 5,
   "metadata": {
    "slideshow": {
     "slide_type": "fragment"
    }
   },
   "outputs": [
    {
     "name": "stdout",
     "output_type": "stream",
     "text": [
      "78.2 µs ± 904 ns per loop (mean ± std. dev. of 7 runs, 10000 loops each)\n"
     ]
    }
   ],
   "source": [
    "l1 = [random() for i in range(1000)]\n",
    "l2 = [random() for i in range(1000)]\n",
    "%timeit s = sum(map(truediv,l1,l2))"
   ]
  },
  {
   "cell_type": "code",
   "execution_count": 6,
   "metadata": {
    "slideshow": {
     "slide_type": "fragment"
    }
   },
   "outputs": [
    {
     "name": "stdout",
     "output_type": "stream",
     "text": [
      "9.8 µs ± 36.6 ns per loop (mean ± std. dev. of 7 runs, 100000 loops each)\n"
     ]
    }
   ],
   "source": [
    "a1 = np.array(l1)\n",
    "a2 = np.array(l2)\n",
    "%timeit s = np.sum(a1/a2)"
   ]
  },
  {
   "cell_type": "markdown",
   "metadata": {
    "slideshow": {
     "slide_type": "slide"
    }
   },
   "source": [
    "# Numpy Arrays: The `ndarray` class.\n",
    "\n",
    "- There are important differences between NumPy arrays and Python lists:\n",
    "    - NumPy arrays have a fixed size at creation.\n",
    "    - NumPy arrays elements are all required to be of the same data type.\n",
    "    - NumPy arrays operations are performed in compiled code for performance.\n",
    "- Most of today's scientific/mathematical Python-based software use NumPy arrays.\n",
    "- NumPy gives us the code simplicity of Python, but the operation is speedily executed by pre-compiled C code."
   ]
  },
  {
   "cell_type": "code",
   "execution_count": 7,
   "metadata": {
    "slideshow": {
     "slide_type": "fragment"
    }
   },
   "outputs": [],
   "source": [
    "a = np.array([0,1,2,3])  #  list\n",
    "b = np.array((4,5,6,7))  #  tuple\n",
    "c = np.matrix('8 9 0 1') #  string (matlab syntax)"
   ]
  },
  {
   "cell_type": "code",
   "execution_count": 8,
   "metadata": {
    "slideshow": {
     "slide_type": "fragment"
    }
   },
   "outputs": [
    {
     "name": "stdout",
     "output_type": "stream",
     "text": [
      "[0 1 2 3] [4 5 6 7] [[8 9 0 1]]\n"
     ]
    }
   ],
   "source": [
    "print(a,b,c)"
   ]
  },
  {
   "cell_type": "markdown",
   "metadata": {
    "slideshow": {
     "slide_type": "slide"
    }
   },
   "source": [
    "## element wise operations are the “default mode” "
   ]
  },
  {
   "cell_type": "code",
   "execution_count": 9,
   "metadata": {
    "slideshow": {
     "slide_type": "fragment"
    }
   },
   "outputs": [
    {
     "data": {
      "text/plain": [
       "(array([ 0,  5, 12, 21]), array([ 4,  6,  8, 10]))"
      ]
     },
     "execution_count": 9,
     "metadata": {},
     "output_type": "execute_result"
    }
   ],
   "source": [
    "a*b,a+b"
   ]
  },
  {
   "cell_type": "code",
   "execution_count": 10,
   "metadata": {
    "slideshow": {
     "slide_type": "fragment"
    }
   },
   "outputs": [
    {
     "data": {
      "text/plain": [
       "(array([ 0,  5, 10, 15]), array([5, 6, 7, 8]))"
      ]
     },
     "execution_count": 10,
     "metadata": {},
     "output_type": "execute_result"
    }
   ],
   "source": [
    "5*a, 5+a"
   ]
  },
  {
   "cell_type": "code",
   "execution_count": 11,
   "metadata": {
    "slideshow": {
     "slide_type": "fragment"
    }
   },
   "outputs": [
    {
     "data": {
      "text/plain": [
       "(38, 38)"
      ]
     },
     "execution_count": 11,
     "metadata": {},
     "output_type": "execute_result"
    }
   ],
   "source": [
    "a@b, np.dot(a,b)  # Matrix multiplication"
   ]
  },
  {
   "cell_type": "markdown",
   "metadata": {
    "slideshow": {
     "slide_type": "slide"
    }
   },
   "source": [
    "#  NumPy Arrays Properties"
   ]
  },
  {
   "cell_type": "code",
   "execution_count": 12,
   "metadata": {
    "slideshow": {
     "slide_type": "fragment"
    }
   },
   "outputs": [],
   "source": [
    "a = np.array([1,2,3,4,5]) # Simple array creation"
   ]
  },
  {
   "cell_type": "code",
   "execution_count": 13,
   "metadata": {
    "slideshow": {
     "slide_type": "fragment"
    }
   },
   "outputs": [
    {
     "data": {
      "text/plain": [
       "numpy.ndarray"
      ]
     },
     "execution_count": 13,
     "metadata": {},
     "output_type": "execute_result"
    }
   ],
   "source": [
    "type(a) # Checking the type"
   ]
  },
  {
   "cell_type": "code",
   "execution_count": 14,
   "metadata": {
    "slideshow": {
     "slide_type": "fragment"
    }
   },
   "outputs": [
    {
     "data": {
      "text/plain": [
       "dtype('int64')"
      ]
     },
     "execution_count": 14,
     "metadata": {},
     "output_type": "execute_result"
    }
   ],
   "source": [
    "a.dtype # Print numeric type of elements"
   ]
  },
  {
   "cell_type": "code",
   "execution_count": 15,
   "metadata": {
    "slideshow": {
     "slide_type": "fragment"
    }
   },
   "outputs": [
    {
     "data": {
      "text/plain": [
       "8"
      ]
     },
     "execution_count": 15,
     "metadata": {},
     "output_type": "execute_result"
    }
   ],
   "source": [
    "a.itemsize # Print Bytes per element"
   ]
  },
  {
   "cell_type": "code",
   "execution_count": 16,
   "metadata": {
    "slideshow": {
     "slide_type": "slide"
    }
   },
   "outputs": [
    {
     "data": {
      "text/plain": [
       "(5,)"
      ]
     },
     "execution_count": 16,
     "metadata": {},
     "output_type": "execute_result"
    }
   ],
   "source": [
    "a.shape # returns a tuple listing the length along each dimension"
   ]
  },
  {
   "cell_type": "code",
   "execution_count": 17,
   "metadata": {
    "slideshow": {
     "slide_type": "fragment"
    }
   },
   "outputs": [
    {
     "data": {
      "text/plain": [
       "(5, 5)"
      ]
     },
     "execution_count": 17,
     "metadata": {},
     "output_type": "execute_result"
    }
   ],
   "source": [
    "np.size(a), a.size # returns the entire number of elements."
   ]
  },
  {
   "cell_type": "code",
   "execution_count": 18,
   "metadata": {
    "slideshow": {
     "slide_type": "fragment"
    }
   },
   "outputs": [
    {
     "data": {
      "text/plain": [
       "1"
      ]
     },
     "execution_count": 18,
     "metadata": {},
     "output_type": "execute_result"
    }
   ],
   "source": [
    "a.ndim  # Number of dimensions"
   ]
  },
  {
   "cell_type": "code",
   "execution_count": 19,
   "metadata": {
    "slideshow": {
     "slide_type": "fragment"
    }
   },
   "outputs": [
    {
     "data": {
      "text/plain": [
       "40"
      ]
     },
     "execution_count": 19,
     "metadata": {},
     "output_type": "execute_result"
    }
   ],
   "source": [
    "a.nbytes # Memory used"
   ]
  },
  {
   "cell_type": "markdown",
   "metadata": {
    "slideshow": {
     "slide_type": "fragment"
    }
   },
   "source": [
    "- ** Always use `shape` or `size` for numpy arrays instead of `len` **\n",
    "- `len` gives same information only for 1d array."
   ]
  },
  {
   "cell_type": "markdown",
   "metadata": {
    "slideshow": {
     "slide_type": "slide"
    }
   },
   "source": [
    "## Structured array using a compound data type specification"
   ]
  },
  {
   "cell_type": "code",
   "execution_count": 20,
   "metadata": {
    "slideshow": {
     "slide_type": "fragment"
    }
   },
   "outputs": [
    {
     "name": "stdout",
     "output_type": "stream",
     "text": [
      "[('name', '<U10'), ('age', '<i4'), ('weight', '<f8')]\n"
     ]
    }
   ],
   "source": [
    "data = np.zeros(4, dtype={'names':('name', 'age', 'weight'),\n",
    "                          'formats':('U10', 'i4', 'f8')})\n",
    "print(data.dtype)"
   ]
  },
  {
   "cell_type": "code",
   "execution_count": 21,
   "metadata": {
    "slideshow": {
     "slide_type": "fragment"
    }
   },
   "outputs": [
    {
     "name": "stdout",
     "output_type": "stream",
     "text": [
      "[('Pierre', 45, 95.) ('Paul', 10, 75.) ('Jacques', 71, 88.)\n",
      " ('Francois', 39, 71.)]\n"
     ]
    }
   ],
   "source": [
    "data['name'] = ['Pierre', 'Paul', 'Jacques', 'Francois']\n",
    "data['age'] = [45, 10, 71, 39]\n",
    "data['weight'] = [95.0, 75.0, 88.0, 71.0]\n",
    "print(data)"
   ]
  },
  {
   "cell_type": "markdown",
   "metadata": {
    "slideshow": {
     "slide_type": "slide"
    }
   },
   "source": [
    "# Functions to allocate arrays"
   ]
  },
  {
   "cell_type": "code",
   "execution_count": 22,
   "metadata": {
    "slideshow": {
     "slide_type": "fragment"
    }
   },
   "outputs": [
    {
     "data": {
      "text/plain": [
       "array([(0, 0., b''), (0, 0., b'')],\n",
       "      dtype=[('f0', '<i4'), ('f1', '<f4'), ('f2', 'S10')])"
      ]
     },
     "execution_count": 22,
     "metadata": {},
     "output_type": "execute_result"
    }
   ],
   "source": [
    "x = np.zeros((2,),dtype=('i4,f4,a10'))\n",
    "x"
   ]
  },
  {
   "cell_type": "markdown",
   "metadata": {
    "slideshow": {
     "slide_type": "slide"
    }
   },
   "source": [
    "`empty, empty_like, ones, ones_like, zeros, zeros_like, full, full_like`"
   ]
  },
  {
   "cell_type": "code",
   "execution_count": 23,
   "metadata": {
    "slideshow": {
     "slide_type": "fragment"
    }
   },
   "outputs": [
    {
     "data": {
      "text/plain": [
       "array([[ True,  True,  True,  True,  True],\n",
       "       [ True,  True,  True,  True,  True],\n",
       "       [ True,  True,  True,  True,  True],\n",
       "       [ True,  True,  True,  True,  True],\n",
       "       [ True,  True,  True,  True,  True]])"
      ]
     },
     "execution_count": 23,
     "metadata": {},
     "output_type": "execute_result"
    }
   ],
   "source": [
    "n = 5\n",
    "a = np.zeros(n*n,dtype=np.double).reshape(n,n) # 2d array\n",
    "b = np.zeros((n,n),dtype=np.double)\n",
    "a == b"
   ]
  },
  {
   "cell_type": "markdown",
   "metadata": {
    "slideshow": {
     "slide_type": "slide"
    }
   },
   "source": [
    "#  Setting Array Elements Values"
   ]
  },
  {
   "cell_type": "code",
   "execution_count": 24,
   "metadata": {
    "slideshow": {
     "slide_type": "fragment"
    }
   },
   "outputs": [
    {
     "name": "stdout",
     "output_type": "stream",
     "text": [
      "int64\n"
     ]
    }
   ],
   "source": [
    "a = np.array([1,2,3,4,5])\n",
    "print(a.dtype)"
   ]
  },
  {
   "cell_type": "code",
   "execution_count": 25,
   "metadata": {
    "slideshow": {
     "slide_type": "fragment"
    }
   },
   "outputs": [
    {
     "data": {
      "text/plain": [
       "(array([10,  2,  3,  4,  5]), dtype('int64'))"
      ]
     },
     "execution_count": 25,
     "metadata": {},
     "output_type": "execute_result"
    }
   ],
   "source": [
    "a[0] = 10 # Change first item value\n",
    "a, a.dtype"
   ]
  },
  {
   "cell_type": "code",
   "execution_count": 26,
   "metadata": {
    "slideshow": {
     "slide_type": "fragment"
    }
   },
   "outputs": [
    {
     "data": {
      "text/plain": [
       "array([0, 0, 0, 0, 0])"
      ]
     },
     "execution_count": 26,
     "metadata": {},
     "output_type": "execute_result"
    }
   ],
   "source": [
    "a.fill(0) # slighty faster than a[:] = 0\n",
    "a"
   ]
  },
  {
   "cell_type": "markdown",
   "metadata": {
    "slideshow": {
     "slide_type": "slide"
    }
   },
   "source": [
    "# Setting Array Elements Types"
   ]
  },
  {
   "cell_type": "code",
   "execution_count": 27,
   "metadata": {
    "slideshow": {
     "slide_type": "fragment"
    }
   },
   "outputs": [
    {
     "data": {
      "text/plain": [
       "(array([1., 2., 3., 4., 5.]), dtype('float64'))"
      ]
     },
     "execution_count": 27,
     "metadata": {},
     "output_type": "execute_result"
    }
   ],
   "source": [
    "b = np.array([1,2,3,4,5.0]) # Last item is a float\n",
    "b, b.dtype"
   ]
  },
  {
   "cell_type": "code",
   "execution_count": 28,
   "metadata": {
    "slideshow": {
     "slide_type": "fragment"
    }
   },
   "outputs": [
    {
     "name": "stdout",
     "output_type": "stream",
     "text": [
      "int64 [3 1 3 3 3]\n"
     ]
    }
   ],
   "source": [
    "a.fill(3.0)  # assigning a float into a int array \n",
    "a[1] = 1.5   # truncates the decimal part\n",
    "print(a.dtype, a)"
   ]
  },
  {
   "cell_type": "code",
   "execution_count": 29,
   "metadata": {
    "slideshow": {
     "slide_type": "fragment"
    }
   },
   "outputs": [
    {
     "data": {
      "text/plain": [
       "array([3., 1., 3., 3., 3.])"
      ]
     },
     "execution_count": 29,
     "metadata": {},
     "output_type": "execute_result"
    }
   ],
   "source": [
    "a.astype('float64') # returns a new array containing doubles"
   ]
  },
  {
   "cell_type": "code",
   "execution_count": 30,
   "metadata": {
    "slideshow": {
     "slide_type": "fragment"
    }
   },
   "outputs": [
    {
     "data": {
      "text/plain": [
       "array([1., 2., 3., 4.])"
      ]
     },
     "execution_count": 30,
     "metadata": {},
     "output_type": "execute_result"
    }
   ],
   "source": [
    "np.asfarray([1,2,3,4]) # Return an array converted to a float type"
   ]
  },
  {
   "cell_type": "markdown",
   "metadata": {
    "slideshow": {
     "slide_type": "slide"
    }
   },
   "source": [
    "# Slicing x[lower:upper:step]\n",
    "- Extracts a portion of a sequence by specifying a lower and upper bound.\n",
    "- The lower-bound element is included, but the upper-bound element is **not** included.\n",
    "- The default step value is 1 and can be negative."
   ]
  },
  {
   "cell_type": "code",
   "execution_count": 31,
   "metadata": {
    "slideshow": {
     "slide_type": "fragment"
    }
   },
   "outputs": [],
   "source": [
    "a = np.array([10,11,12,13,14])"
   ]
  },
  {
   "cell_type": "code",
   "execution_count": 32,
   "metadata": {
    "slideshow": {
     "slide_type": "fragment"
    }
   },
   "outputs": [
    {
     "data": {
      "text/plain": [
       "(array([10, 11]), array([10, 11]), array([10, 11]), array([13, 14]))"
      ]
     },
     "execution_count": 32,
     "metadata": {},
     "output_type": "execute_result"
    }
   ],
   "source": [
    "a[:2], a[-5:-3], a[0:2], a[-2:] # negative indices work"
   ]
  },
  {
   "cell_type": "code",
   "execution_count": 33,
   "metadata": {
    "slideshow": {
     "slide_type": "fragment"
    }
   },
   "outputs": [
    {
     "data": {
      "text/plain": [
       "(array([10, 12, 14]), array([14, 13, 12, 11, 10]))"
      ]
     },
     "execution_count": 33,
     "metadata": {},
     "output_type": "execute_result"
    }
   ],
   "source": [
    "a[::2], a[::-1]"
   ]
  },
  {
   "cell_type": "markdown",
   "metadata": {
    "slideshow": {
     "slide_type": "slide"
    }
   },
   "source": [
    "### Exercise: \n",
    "- Compute derivative of $f(x) = \\sin(x)$ with finite difference method.\n",
    "$$\n",
    "    \\frac{\\partial f}{\\partial x} \\sim \\frac{f(x+dx)-f(x)}{dx}\n",
    "$$\n",
    "\n",
    "derivatives values are centered in-between sample points."
   ]
  },
  {
   "cell_type": "code",
   "execution_count": 34,
   "metadata": {
    "slideshow": {
     "slide_type": "fragment"
    }
   },
   "outputs": [],
   "source": [
    "x, dx = np.linspace(0,4*np.pi,40, retstep=True)\n",
    "y = np.sin(x)"
   ]
  },
  {
   "cell_type": "code",
   "execution_count": 35,
   "metadata": {
    "slideshow": {
     "slide_type": "slide"
    }
   },
   "outputs": [
    {
     "data": {
      "image/png": "[encoded data removed]",
      "text/plain": [
       "<matplotlib.figure.Figure at 0x10a252358>"
      ]
     },
     "metadata": {},
     "output_type": "display_data"
    }
   ],
   "source": [
    "%matplotlib inline\n",
    "import matplotlib.pyplot as plt\n",
    "plt.rcParams['figure.figsize'] = [12.,8.] # Increase plot size\n",
    "plt.plot(x, np.cos(x),'b')\n",
    "plt.title(r\"$\\rm{Derivative\\ of}\\ \\sin(x)$\");"
   ]
  },
  {
   "cell_type": "markdown",
   "metadata": {
    "collapsed": true,
    "slideshow": {
     "slide_type": "fragment"
    }
   },
   "source": [
    "<button data-toggle=\"collapse\" data-target=\"#sinderivative\" class='btn btn-primary'>Solution</button>\n",
    "<div id=\"sinderivative\" class=\"collapse\">\n",
    "```python\n",
    "dy = y[1:]-y[:-1]\n",
    "dx = x[1:]-x[:-1]\n",
    "dy_dx = dy / dx\n",
    "\n",
    "centers_x = 0.5*(x[1:]+x[:-1]) \n",
    "```"
   ]
  },
  {
   "cell_type": "code",
   "execution_count": 36,
   "metadata": {
    "slideshow": {
     "slide_type": "slide"
    }
   },
   "outputs": [
    {
     "data": {
      "image/png": "[encoded data removed]",
      "text/plain": [
       "<matplotlib.figure.Figure at 0x10b62edd8>"
      ]
     },
     "metadata": {},
     "output_type": "display_data"
    }
   ],
   "source": [
    "# Compute integral of x numerically\n",
    "avg_height = 0.5*(y[1:]+y[:-1])\n",
    "int_sin = np.cumsum(dx*avg_height)\n",
    "plt.plot(x[1:], int_sin, 'rx', x, np.cos(0)-np.cos(x));"
   ]
  },
  {
   "cell_type": "markdown",
   "metadata": {
    "slideshow": {
     "slide_type": "slide"
    }
   },
   "source": [
    "# Multidimensional array"
   ]
  },
  {
   "cell_type": "code",
   "execution_count": 37,
   "metadata": {
    "slideshow": {
     "slide_type": "fragment"
    }
   },
   "outputs": [],
   "source": [
    "a = np.arange(4*3).reshape(4,3) # NumPy array\n",
    "l = [[0,1,2],[3,4,5],[6,7,8],[9,10,11]] # Python List"
   ]
  },
  {
   "cell_type": "code",
   "execution_count": 38,
   "metadata": {
    "slideshow": {
     "slide_type": "fragment"
    }
   },
   "outputs": [
    {
     "name": "stdout",
     "output_type": "stream",
     "text": [
      "[[ 0  1  2]\n",
      " [ 3  4  5]\n",
      " [ 6  7  8]\n",
      " [ 9 10 11]]\n",
      "[[0, 1, 2], [3, 4, 5], [6, 7, 8], [9, 10, 11]]\n"
     ]
    }
   ],
   "source": [
    "print(a)\n",
    "print(l)"
   ]
  },
  {
   "cell_type": "code",
   "execution_count": 39,
   "metadata": {
    "slideshow": {
     "slide_type": "slide"
    }
   },
   "outputs": [
    {
     "data": {
      "text/plain": [
       "11"
      ]
     },
     "execution_count": 39,
     "metadata": {},
     "output_type": "execute_result"
    }
   ],
   "source": [
    "l[-1][-1] # Access to last item"
   ]
  },
  {
   "cell_type": "code",
   "execution_count": 40,
   "metadata": {
    "slideshow": {
     "slide_type": "fragment"
    }
   },
   "outputs": [
    {
     "name": "stdout",
     "output_type": "stream",
     "text": [
      "11\n",
      "0\n",
      "[3 4 5]\n"
     ]
    }
   ],
   "source": [
    "print(a[-1,-1])  # Indexing syntax is different with NumPy array\n",
    "print(a[0,0])    # returns the first item\n",
    "print(a[1,:])    # returns the second line"
   ]
  },
  {
   "cell_type": "code",
   "execution_count": 41,
   "metadata": {
    "slideshow": {
     "slide_type": "fragment"
    }
   },
   "outputs": [
    {
     "name": "stdout",
     "output_type": "stream",
     "text": [
      "[3 4 5]\n",
      "[ 2  5  8 11]\n"
     ]
    }
   ],
   "source": [
    "print(a[1]) # second line with 2d array\n",
    "print(a[:,-1])  # last column"
   ]
  },
  {
   "cell_type": "markdown",
   "metadata": {
    "slideshow": {
     "slide_type": "slide"
    }
   },
   "source": [
    "### Exercise \n",
    "- We compute numerically the Laplace Equation Solution using Finite Difference Method\n",
    "- Replace the computation of the discrete form of Laplace equation with numpy arrays\n",
    "$$\n",
    "T_{i,j} = \\frac{1}{4} ( T_{i+1,j} + T_{i-1,j} + T_{i,j+1} + T_{i,j-1})\n",
    "$$\n",
    "- The function numpy.allclose can help you to compute the residual."
   ]
  },
  {
   "cell_type": "code",
   "execution_count": 42,
   "metadata": {
    "slideshow": {
     "slide_type": "slide"
    }
   },
   "outputs": [
    {
     "name": "stdout",
     "output_type": "stream",
     "text": [
      "(2457, 1.0022293826789268e-05)\n",
      "iterations =  2457\n",
      "CPU times: user 33.2 s, sys: 515 ms, total: 33.7 s\n",
      "Wall time: 33.5 s\n"
     ]
    },
    {
     "data": {
      "image/png": "[encoded data removed]",
      "text/plain": [
       "<matplotlib.figure.Figure at 0x10b847630>"
      ]
     },
     "metadata": {},
     "output_type": "display_data"
    }
   ],
   "source": [
    "%%time\n",
    "import itertools\n",
    "# Boundary conditions\n",
    "Tnorth, Tsouth, Twest, Teast = 100, 20, 50, 50\n",
    "\n",
    "# Set meshgrid\n",
    "n, l = 64, 1.0\n",
    "X, Y = np.meshgrid(np.linspace(0,l,n), np.linspace(0,l,n))\n",
    "T = np.zeros((n,n))\n",
    "\n",
    "# Set Boundary condition\n",
    "T[n-1:, :] = Tnorth\n",
    "T[:1, :] = Tsouth\n",
    "T[:, n-1:] = Teast\n",
    "T[:, :1] = Twest\n",
    "\n",
    "residual = 1.0   \n",
    "istep = 0\n",
    "while residual > 1e-5 :\n",
    "    istep += 1\n",
    "    print ((istep, residual), end=\"\\r\")\n",
    "    residual = 0.0   \n",
    "    for i in range(1, n-1):\n",
    "        for j in range(1, n-1):\n",
    "            T_old = T[i,j]\n",
    "            T[i, j] = 0.25 * (T[i+1,j] + T[i-1,j] + T[i,j+1] + T[i,j-1])\n",
    "            if T[i,j]>0:\n",
    "                residual=max(residual,abs((T_old-T[i,j])/T[i,j]))\n",
    "\n",
    "\n",
    "print()\n",
    "print(\"iterations = \",istep)\n",
    "plt.title(\"Temperature\")\n",
    "plt.contourf(X, Y, T)\n",
    "plt.colorbar()"
   ]
  },
  {
   "cell_type": "markdown",
   "metadata": {
    "slideshow": {
     "slide_type": "slide"
    }
   },
   "source": [
    "<button data-toggle=\"collapse\" data-target=\"#laplace\" class='btn btn-primary'>Solution</button>\n",
    "\n",
    "<div id=\"laplace\" class=\"collapse\">\n",
    "Replace  loop by\n",
    "```python\n",
    "for istep in itertools.count():\n",
    "    T_old = T[1:-1,1:-1]\n",
    "    T_new = (T[1:-1,2:]+T[2:,1:-1]+T[1:-1,:-2]+T[:-2,1:-1])*0.25\n",
    "    if np.allclose(T_new, T_old, rtol=1e-5): break\n",
    "    T[1:-1,1:-1] = T_new\n",
    "```\n",
    "    "
   ]
  },
  {
   "cell_type": "markdown",
   "metadata": {
    "slideshow": {
     "slide_type": "slide"
    }
   },
   "source": [
    "# Arrays to ASCII files\n"
   ]
  },
  {
   "cell_type": "code",
   "execution_count": 43,
   "metadata": {
    "slideshow": {
     "slide_type": "fragment"
    }
   },
   "outputs": [],
   "source": [
    "x = y = z = np.arange(0.0,5.0,1.0)"
   ]
  },
  {
   "cell_type": "code",
   "execution_count": 44,
   "metadata": {
    "slideshow": {
     "slide_type": "fragment"
    }
   },
   "outputs": [
    {
     "name": "stdout",
     "output_type": "stream",
     "text": [
      "0.000000000000000000e+00,1.000000000000000000e+00,2.000000000000000000e+00,3.000000000000000000e+00,4.000000000000000000e+00\r\n",
      "0.000000000000000000e+00,1.000000000000000000e+00,2.000000000000000000e+00,3.000000000000000000e+00,4.000000000000000000e+00\r\n",
      "0.000000000000000000e+00,1.000000000000000000e+00,2.000000000000000000e+00,3.000000000000000000e+00,4.000000000000000000e+00\r\n"
     ]
    }
   ],
   "source": [
    "np.savetxt('test.out', (x,y,z), delimiter=',')   # X is an array\n",
    "%cat test.out"
   ]
  },
  {
   "cell_type": "code",
   "execution_count": 45,
   "metadata": {
    "slideshow": {
     "slide_type": "slide"
    }
   },
   "outputs": [
    {
     "name": "stdout",
     "output_type": "stream",
     "text": [
      "0.0000e+00 1.0000e+00 2.0000e+00 3.0000e+00 4.0000e+00\r\n",
      "0.0000e+00 1.0000e+00 2.0000e+00 3.0000e+00 4.0000e+00\r\n",
      "0.0000e+00 1.0000e+00 2.0000e+00 3.0000e+00 4.0000e+00\r\n"
     ]
    }
   ],
   "source": [
    "np.savetxt('test.out', (x,y,z), fmt='%1.4e')   # use exponential notation\n",
    "%cat test.out"
   ]
  },
  {
   "cell_type": "markdown",
   "metadata": {
    "slideshow": {
     "slide_type": "slide"
    }
   },
   "source": [
    "# Arrays from ASCII files"
   ]
  },
  {
   "cell_type": "code",
   "execution_count": 46,
   "metadata": {
    "slideshow": {
     "slide_type": "fragment"
    }
   },
   "outputs": [
    {
     "data": {
      "text/plain": [
       "array([[0., 1., 2., 3., 4.],\n",
       "       [0., 1., 2., 3., 4.],\n",
       "       [0., 1., 2., 3., 4.]])"
      ]
     },
     "execution_count": 46,
     "metadata": {},
     "output_type": "execute_result"
    }
   ],
   "source": [
    "np.loadtxt('test.out')"
   ]
  },
  {
   "cell_type": "markdown",
   "metadata": {
    "slideshow": {
     "slide_type": "fragment"
    }
   },
   "source": [
    "- [save](https://docs.scipy.org/doc/numpy-1.13.0/reference/generated/numpy.save.html#numpy.save): Save an array to a binary file in NumPy .npy format\n",
    "- [savez](https://docs.scipy.org/doc/numpy-1.13.0/reference/generated/numpy.savez.html#numpy.savez) : Save several arrays into an uncompressed .npz archive\n",
    "- [savez_compressed](https://docs.scipy.org/doc/numpy-1.13.0/reference/generated/numpy.savez_compressed.html#numpy.savez_compressed): Save several arrays into a compressed .npz archive\n",
    "- [load](https://docs.scipy.org/doc/numpy-1.13.0/reference/generated/numpy.load.html#numpy.load): Load arrays or pickled objects from .npy, .npz or pickled files."
   ]
  },
  {
   "cell_type": "markdown",
   "metadata": {
    "slideshow": {
     "slide_type": "slide"
    }
   },
   "source": [
    "## H5py\n",
    "\n",
    "Pythonic interface to the HDF5 binary data format. [h5py user manual](http://docs.h5py.org)"
   ]
  },
  {
   "cell_type": "code",
   "execution_count": 47,
   "metadata": {
    "slideshow": {
     "slide_type": "fragment"
    }
   },
   "outputs": [
    {
     "name": "stderr",
     "output_type": "stream",
     "text": [
      "/usr/local/lib/python3.6/site-packages/h5py/__init__.py:36: FutureWarning: Conversion of the second argument of issubdtype from `float` to `np.floating` is deprecated. In future, it will be treated as `np.float64 == np.dtype(float).type`.\n",
      "  from ._conv import register_converters as _register_converters\n"
     ]
    }
   ],
   "source": [
    "import h5py as h5\n",
    "\n",
    "with h5.File('test.h5','w') as f:\n",
    "    f['x'] = x\n",
    "    f['y'] = y\n",
    "    f['z'] = z"
   ]
  },
  {
   "cell_type": "code",
   "execution_count": 48,
   "metadata": {
    "slideshow": {
     "slide_type": "fragment"
    }
   },
   "outputs": [
    {
     "name": "stdout",
     "output_type": "stream",
     "text": [
      "x: [0. 1. 2. 3. 4.]\n",
      "y: [0. 1. 2. 3. 4.]\n",
      "z: [0. 1. 2. 3. 4.]\n"
     ]
    }
   ],
   "source": [
    "with h5.File('test.h5','r') as f:\n",
    "    for field in f.keys():\n",
    "        print(field+':',f[field].value)\n",
    "       "
   ]
  },
  {
   "cell_type": "markdown",
   "metadata": {
    "slideshow": {
     "slide_type": "slide"
    }
   },
   "source": [
    "# Slices Are References\n",
    "- Slices are references to memory in the original array.\n",
    "- Changing values in a slice also changes the original array.\n"
   ]
  },
  {
   "cell_type": "code",
   "execution_count": 49,
   "metadata": {
    "slideshow": {
     "slide_type": "fragment"
    }
   },
   "outputs": [
    {
     "data": {
      "text/plain": [
       "array([3, 4, 5])"
      ]
     },
     "execution_count": 49,
     "metadata": {},
     "output_type": "execute_result"
    }
   ],
   "source": [
    "a = np.arange(10)\n",
    "b = a[3:6]\n",
    "b  # `b` is a view of array `a` and `a` is called base of `b`"
   ]
  },
  {
   "cell_type": "code",
   "execution_count": 50,
   "metadata": {
    "slideshow": {
     "slide_type": "fragment"
    }
   },
   "outputs": [
    {
     "data": {
      "text/plain": [
       "array([ 0,  1,  2, -1,  4,  5,  6,  7,  8,  9])"
      ]
     },
     "execution_count": 50,
     "metadata": {},
     "output_type": "execute_result"
    }
   ],
   "source": [
    "b[0] = -1\n",
    "a  # you change a view the base is changed."
   ]
  },
  {
   "cell_type": "markdown",
   "metadata": {
    "slideshow": {
     "slide_type": "fragment"
    }
   },
   "source": [
    "- Numpy does not copy if it is not necessary to save memory."
   ]
  },
  {
   "cell_type": "code",
   "execution_count": 51,
   "metadata": {
    "slideshow": {
     "slide_type": "fragment"
    }
   },
   "outputs": [
    {
     "data": {
      "text/plain": [
       "array([ 0,  1,  2, -1,  4,  5,  6,  7,  8,  9])"
      ]
     },
     "execution_count": 51,
     "metadata": {},
     "output_type": "execute_result"
    }
   ],
   "source": [
    "c = a[7:8].copy() # Explicit copy of the array slice\n",
    "c[0] = -1 \n",
    "a"
   ]
  },
  {
   "cell_type": "markdown",
   "metadata": {
    "slideshow": {
     "slide_type": "slide"
    }
   },
   "source": [
    "# Fancy Indexing"
   ]
  },
  {
   "cell_type": "code",
   "execution_count": 52,
   "metadata": {
    "slideshow": {
     "slide_type": "fragment"
    }
   },
   "outputs": [
    {
     "data": {
      "text/plain": [
       "array([[10, 11, 12, 13, 14],\n",
       "       [20, 21, 22, 23, 24],\n",
       "       [30, 31, 32, 33, 34],\n",
       "       [40, 41, 42, 43, 44]])"
      ]
     },
     "execution_count": 52,
     "metadata": {},
     "output_type": "execute_result"
    }
   ],
   "source": [
    "a = np.fromfunction(lambda i, j: (i+1)*10+j, (4, 5), dtype=int)\n",
    "a"
   ]
  },
  {
   "cell_type": "code",
   "execution_count": 53,
   "metadata": {
    "slideshow": {
     "slide_type": "fragment"
    }
   },
   "outputs": [
    {
     "data": {
      "text/plain": [
       "array([[14, 21, 33, 30, 13],\n",
       "       [42, 44, 24, 34, 22],\n",
       "       [11, 43, 31, 41, 10],\n",
       "       [20, 23, 40, 12, 32]])"
      ]
     },
     "execution_count": 53,
     "metadata": {},
     "output_type": "execute_result"
    }
   ],
   "source": [
    "np.random.shuffle(a.flat) # shuffle modify only the first axis\n",
    "a"
   ]
  },
  {
   "cell_type": "code",
   "execution_count": 54,
   "metadata": {
    "slideshow": {
     "slide_type": "slide"
    }
   },
   "outputs": [
    {
     "data": {
      "text/plain": [
       "array([[14,  0,  0,  0, 13],\n",
       "       [ 0, 44,  0, 34, 22],\n",
       "       [11, 43, 31, 41, 10],\n",
       "       [20, 23, 40,  0, 32]])"
      ]
     },
     "execution_count": 54,
     "metadata": {},
     "output_type": "execute_result"
    }
   ],
   "source": [
    "locations = a % 3 == 0 # locations can be used as a mask\n",
    "a[locations] = 0 #set to 0 only the values that are divisible by 3\n",
    "a"
   ]
  },
  {
   "cell_type": "code",
   "execution_count": 55,
   "metadata": {
    "slideshow": {
     "slide_type": "fragment"
    }
   },
   "outputs": [
    {
     "data": {
      "text/plain": [
       "array([[14,  1,  1,  1, 13],\n",
       "       [ 1, 44,  1, 34, 22],\n",
       "       [11, 43, 31, 41, 10],\n",
       "       [20, 23, 40,  1, 32]])"
      ]
     },
     "execution_count": 55,
     "metadata": {},
     "output_type": "execute_result"
    }
   ],
   "source": [
    "a += a == 0\n",
    "a"
   ]
  },
  {
   "cell_type": "markdown",
   "metadata": {
    "slideshow": {
     "slide_type": "slide"
    }
   },
   "source": [
    "# Changing array shape"
   ]
  },
  {
   "cell_type": "code",
   "execution_count": 56,
   "metadata": {
    "slideshow": {
     "slide_type": "fragment"
    }
   },
   "outputs": [
    {
     "data": {
      "text/plain": [
       "array([[0, 0, 0],\n",
       "       [1, 1, 1]])"
      ]
     },
     "execution_count": 56,
     "metadata": {},
     "output_type": "execute_result"
    }
   ],
   "source": [
    "grid = np.indices((2,3)) # Return an array representing the indices of a grid.\n",
    "grid[0]"
   ]
  },
  {
   "cell_type": "code",
   "execution_count": 57,
   "metadata": {
    "slideshow": {
     "slide_type": "fragment"
    }
   },
   "outputs": [
    {
     "data": {
      "text/plain": [
       "array([[0, 1, 2],\n",
       "       [0, 1, 2]])"
      ]
     },
     "execution_count": 57,
     "metadata": {},
     "output_type": "execute_result"
    }
   ],
   "source": [
    "grid[1]"
   ]
  },
  {
   "cell_type": "code",
   "execution_count": 58,
   "metadata": {
    "slideshow": {
     "slide_type": "slide"
    }
   },
   "outputs": [
    {
     "data": {
      "text/plain": [
       "array([0, 0, 0, 1, 1, 1, 0, 1, 2, 0, 1, 2])"
      ]
     },
     "execution_count": 58,
     "metadata": {},
     "output_type": "execute_result"
    }
   ],
   "source": [
    "grid.flat[:] # Return a view of grid array"
   ]
  },
  {
   "cell_type": "code",
   "execution_count": 59,
   "metadata": {
    "slideshow": {
     "slide_type": "fragment"
    }
   },
   "outputs": [
    {
     "data": {
      "text/plain": [
       "array([0, 0, 0, 1, 1, 1, 0, 1, 2, 0, 1, 2])"
      ]
     },
     "execution_count": 59,
     "metadata": {},
     "output_type": "execute_result"
    }
   ],
   "source": [
    "grid.flatten() # Return a copy"
   ]
  },
  {
   "cell_type": "code",
   "execution_count": 60,
   "metadata": {
    "slideshow": {
     "slide_type": "fragment"
    }
   },
   "outputs": [
    {
     "data": {
      "text/plain": [
       "array([0, 0, 0, 1, 1, 1, 0, 1, 2, 0, 1, 2])"
      ]
     },
     "execution_count": 60,
     "metadata": {},
     "output_type": "execute_result"
    }
   ],
   "source": [
    "np.ravel(grid, order='C') # A copy is made only if needed."
   ]
  },
  {
   "cell_type": "markdown",
   "metadata": {
    "slideshow": {
     "slide_type": "slide"
    }
   },
   "source": [
    "# Sorting"
   ]
  },
  {
   "cell_type": "code",
   "execution_count": 61,
   "metadata": {
    "slideshow": {
     "slide_type": "fragment"
    }
   },
   "outputs": [
    {
     "data": {
      "text/plain": [
       "array([0, 1, 3, 5, 6, 6, 7, 8, 9])"
      ]
     },
     "execution_count": 61,
     "metadata": {},
     "output_type": "execute_result"
    }
   ],
   "source": [
    "a=np.array([5,3,6,1,6,7,9,0,8])\n",
    "np.sort(a) #. Return a view"
   ]
  },
  {
   "cell_type": "code",
   "execution_count": 62,
   "metadata": {
    "slideshow": {
     "slide_type": "fragment"
    }
   },
   "outputs": [
    {
     "data": {
      "text/plain": [
       "array([5, 3, 6, 1, 6, 7, 9, 0, 8])"
      ]
     },
     "execution_count": 62,
     "metadata": {},
     "output_type": "execute_result"
    }
   ],
   "source": [
    "a"
   ]
  },
  {
   "cell_type": "code",
   "execution_count": 63,
   "metadata": {
    "slideshow": {
     "slide_type": "fragment"
    }
   },
   "outputs": [
    {
     "data": {
      "text/plain": [
       "array([0, 1, 3, 5, 6, 6, 7, 8, 9])"
      ]
     },
     "execution_count": 63,
     "metadata": {},
     "output_type": "execute_result"
    }
   ],
   "source": [
    "a.sort() # Change the array inplace\n",
    "a"
   ]
  },
  {
   "cell_type": "markdown",
   "metadata": {
    "slideshow": {
     "slide_type": "slide"
    }
   },
   "source": [
    "# Transpose-like operations"
   ]
  },
  {
   "cell_type": "code",
   "execution_count": 64,
   "metadata": {
    "slideshow": {
     "slide_type": "fragment"
    }
   },
   "outputs": [],
   "source": [
    "a = np.array([5,3,6,1,6,7,9,0,8])\n",
    "b = a\n",
    "b.shape = (3,3) # b is a reference so a will be changed"
   ]
  },
  {
   "cell_type": "code",
   "execution_count": 65,
   "metadata": {
    "slideshow": {
     "slide_type": "fragment"
    }
   },
   "outputs": [
    {
     "data": {
      "text/plain": [
       "array([[5, 3, 6],\n",
       "       [1, 6, 7],\n",
       "       [9, 0, 8]])"
      ]
     },
     "execution_count": 65,
     "metadata": {},
     "output_type": "execute_result"
    }
   ],
   "source": [
    "a"
   ]
  },
  {
   "cell_type": "code",
   "execution_count": 66,
   "metadata": {
    "slideshow": {
     "slide_type": "fragment"
    }
   },
   "outputs": [
    {
     "data": {
      "text/plain": [
       "True"
      ]
     },
     "execution_count": 66,
     "metadata": {},
     "output_type": "execute_result"
    }
   ],
   "source": [
    "c = a.T # Return a view so a is not changed\n",
    "np.may_share_memory(a,c)"
   ]
  },
  {
   "cell_type": "code",
   "execution_count": 67,
   "metadata": {
    "slideshow": {
     "slide_type": "fragment"
    }
   },
   "outputs": [
    {
     "data": {
      "text/plain": [
       "array([[-1,  3,  6],\n",
       "       [ 1,  6,  7],\n",
       "       [ 9,  0,  8]])"
      ]
     },
     "execution_count": 67,
     "metadata": {},
     "output_type": "execute_result"
    }
   ],
   "source": [
    "c[0,0] = -1 # c is stored in same memory so change c you change a\n",
    "a"
   ]
  },
  {
   "cell_type": "code",
   "execution_count": 68,
   "metadata": {
    "slideshow": {
     "slide_type": "slide"
    }
   },
   "outputs": [
    {
     "data": {
      "text/plain": [
       "array([[-1,  1,  9],\n",
       "       [ 3,  6,  0],\n",
       "       [ 6,  7,  8]])"
      ]
     },
     "execution_count": 68,
     "metadata": {},
     "output_type": "execute_result"
    }
   ],
   "source": [
    "c  # is a transposed view of a"
   ]
  },
  {
   "cell_type": "code",
   "execution_count": 69,
   "metadata": {
    "slideshow": {
     "slide_type": "fragment"
    }
   },
   "outputs": [
    {
     "data": {
      "text/plain": [
       "array([[-1,  3,  6],\n",
       "       [ 1,  6,  7],\n",
       "       [ 9,  0,  8]])"
      ]
     },
     "execution_count": 69,
     "metadata": {},
     "output_type": "execute_result"
    }
   ],
   "source": [
    "b  # b is a reference to a"
   ]
  },
  {
   "cell_type": "code",
   "execution_count": 70,
   "metadata": {
    "slideshow": {
     "slide_type": "fragment"
    }
   },
   "outputs": [
    {
     "data": {
      "text/plain": [
       "array([[-1,  3,  6],\n",
       "       [ 1,  6,  7],\n",
       "       [ 9,  0,  8]])"
      ]
     },
     "execution_count": 70,
     "metadata": {},
     "output_type": "execute_result"
    }
   ],
   "source": [
    "c.base  # When the array is not a view `base` return None"
   ]
  },
  {
   "cell_type": "markdown",
   "metadata": {
    "slideshow": {
     "slide_type": "slide"
    }
   },
   "source": [
    "# Methods Attached to NumPy Arrays"
   ]
  },
  {
   "cell_type": "code",
   "execution_count": 71,
   "metadata": {
    "slideshow": {
     "slide_type": "fragment"
    }
   },
   "outputs": [
    {
     "data": {
      "text/plain": [
       "array([[11, 14,  1, 15, 13],\n",
       "       [16, 18, 19,  8,  2],\n",
       "       [ 0, 17,  3,  7, 12],\n",
       "       [ 4,  9, 10,  6,  5]])"
      ]
     },
     "execution_count": 71,
     "metadata": {},
     "output_type": "execute_result"
    }
   ],
   "source": [
    "a = np.arange(20).reshape(4,5)\n",
    "np.random.shuffle(a.flat)\n",
    "a"
   ]
  },
  {
   "cell_type": "code",
   "execution_count": 72,
   "metadata": {
    "slideshow": {
     "slide_type": "fragment"
    }
   },
   "outputs": [
    {
     "name": "stdout",
     "output_type": "stream",
     "text": [
      "[[ 0.26013299  0.78039897 -1.47408695  0.95382097  0.60697698]\n",
      " [ 1.12724296  1.47408695  1.64750894 -0.26013299 -1.30066495]\n",
      " [-1.64750894  1.30066495 -1.12724296 -0.43355498  0.43355498]\n",
      " [-0.95382097 -0.086711    0.086711   -0.60697698 -0.78039897]]\n"
     ]
    }
   ],
   "source": [
    "a = (a - a.mean())/ a.std() # Standardize the matrix\n",
    "print(a)"
   ]
  },
  {
   "cell_type": "code",
   "execution_count": 73,
   "metadata": {
    "slideshow": {
     "slide_type": "slide"
    }
   },
   "outputs": [
    {
     "name": "stdout",
     "output_type": "stream",
     "text": [
      "[[ 0.2601  0.7804 -1.4741  0.9538  0.607 ]\n",
      " [ 1.1272  1.4741  1.6475 -0.2601 -1.3007]\n",
      " [-1.6475  1.3007 -1.1272 -0.4336  0.4336]\n",
      " [-0.9538 -0.0867  0.0867 -0.607  -0.7804]]\n"
     ]
    }
   ],
   "source": [
    "np.set_printoptions(precision=4)\n",
    "print(a)"
   ]
  },
  {
   "cell_type": "code",
   "execution_count": 74,
   "metadata": {
    "slideshow": {
     "slide_type": "fragment"
    }
   },
   "outputs": [
    {
     "data": {
      "text/plain": [
       "7"
      ]
     },
     "execution_count": 74,
     "metadata": {},
     "output_type": "execute_result"
    }
   ],
   "source": [
    "a.argmax() # max position in the memory contiguous array"
   ]
  },
  {
   "cell_type": "code",
   "execution_count": 75,
   "metadata": {
    "slideshow": {
     "slide_type": "fragment"
    }
   },
   "outputs": [
    {
     "data": {
      "text/plain": [
       "(1, 2)"
      ]
     },
     "execution_count": 75,
     "metadata": {},
     "output_type": "execute_result"
    }
   ],
   "source": [
    "np.unravel_index(a.argmax(),a.shape) # get position in the matrix"
   ]
  },
  {
   "cell_type": "markdown",
   "metadata": {
    "slideshow": {
     "slide_type": "slide"
    }
   },
   "source": [
    "# Array Operations over a given axis"
   ]
  },
  {
   "cell_type": "code",
   "execution_count": 76,
   "metadata": {
    "slideshow": {
     "slide_type": "fragment"
    }
   },
   "outputs": [],
   "source": [
    "a = np.arange(20).reshape(5,4)\n",
    "np.random.shuffle(a.flat)"
   ]
  },
  {
   "cell_type": "code",
   "execution_count": 77,
   "metadata": {
    "slideshow": {
     "slide_type": "fragment"
    }
   },
   "outputs": [
    {
     "data": {
      "text/plain": [
       "array([67, 26, 51, 46])"
      ]
     },
     "execution_count": 77,
     "metadata": {},
     "output_type": "execute_result"
    }
   ],
   "source": [
    "a.sum(axis=0) # sum of each column"
   ]
  },
  {
   "cell_type": "code",
   "execution_count": 78,
   "metadata": {
    "slideshow": {
     "slide_type": "fragment"
    }
   },
   "outputs": [
    {
     "data": {
      "text/plain": [
       "array([67, 26, 51, 46])"
      ]
     },
     "execution_count": 78,
     "metadata": {},
     "output_type": "execute_result"
    }
   ],
   "source": [
    "np.apply_along_axis(sum, axis=0, arr=a)"
   ]
  },
  {
   "cell_type": "code",
   "execution_count": 79,
   "metadata": {
    "slideshow": {
     "slide_type": "fragment"
    }
   },
   "outputs": [
    {
     "data": {
      "text/plain": [
       "array([[ 7,  0,  5,  1],\n",
       "       [10,  2,  8,  6],\n",
       "       [15,  3,  9, 12],\n",
       "       [16,  4, 11, 13],\n",
       "       [19, 17, 18, 14]])"
      ]
     },
     "execution_count": 79,
     "metadata": {},
     "output_type": "execute_result"
    }
   ],
   "source": [
    "np.apply_along_axis(sorted, axis=0, arr=a)"
   ]
  },
  {
   "cell_type": "markdown",
   "metadata": {
    "slideshow": {
     "slide_type": "fragment"
    }
   },
   "source": [
    "You can replace the `sorted` builtin fonction by a user defined function."
   ]
  },
  {
   "cell_type": "code",
   "execution_count": 80,
   "metadata": {
    "slideshow": {
     "slide_type": "slide"
    }
   },
   "outputs": [
    {
     "data": {
      "text/plain": [
       "array([ 0.1 ,  0.2 ,  0.25,  0.5 ,  1.  ,  2.  ,  2.5 ,  5.  , 10.  ,\n",
       "       20.  ])"
      ]
     },
     "execution_count": 80,
     "metadata": {},
     "output_type": "execute_result"
    }
   ],
   "source": [
    "np.empty(10)"
   ]
  },
  {
   "cell_type": "code",
   "execution_count": 81,
   "metadata": {
    "slideshow": {
     "slide_type": "fragment"
    }
   },
   "outputs": [
    {
     "data": {
      "text/plain": [
       "array([0.    , 0.6981, 1.3963, 2.0944, 2.7925, 3.4907, 4.1888, 4.8869,\n",
       "       5.5851, 6.2832])"
      ]
     },
     "execution_count": 81,
     "metadata": {},
     "output_type": "execute_result"
    }
   ],
   "source": [
    "np.linspace(0,2*np.pi,10)"
   ]
  },
  {
   "cell_type": "code",
   "execution_count": 82,
   "metadata": {
    "slideshow": {
     "slide_type": "fragment"
    }
   },
   "outputs": [
    {
     "data": {
      "text/plain": [
       "array([0. , 0.4, 0.8, 1.2, 1.6, 2. ])"
      ]
     },
     "execution_count": 82,
     "metadata": {},
     "output_type": "execute_result"
    }
   ],
   "source": [
    "np.arange(0,2.+0.4,0.4)"
   ]
  },
  {
   "cell_type": "code",
   "execution_count": 83,
   "metadata": {
    "slideshow": {
     "slide_type": "slide"
    }
   },
   "outputs": [
    {
     "data": {
      "text/plain": [
       "array([[1., 0., 0., 0.],\n",
       "       [0., 1., 0., 0.],\n",
       "       [0., 0., 1., 0.],\n",
       "       [0., 0., 0., 1.]])"
      ]
     },
     "execution_count": 83,
     "metadata": {},
     "output_type": "execute_result"
    }
   ],
   "source": [
    "np.eye(4)"
   ]
  },
  {
   "cell_type": "code",
   "execution_count": 84,
   "metadata": {
    "slideshow": {
     "slide_type": "fragment"
    }
   },
   "outputs": [
    {
     "data": {
      "text/plain": [
       "array([[0, 0, 0, 0],\n",
       "       [0, 1, 0, 0],\n",
       "       [0, 0, 2, 0],\n",
       "       [0, 0, 0, 3]])"
      ]
     },
     "execution_count": 84,
     "metadata": {},
     "output_type": "execute_result"
    }
   ],
   "source": [
    "a = np.diag(range(4))\n",
    "a"
   ]
  },
  {
   "cell_type": "code",
   "execution_count": 85,
   "metadata": {
    "slideshow": {
     "slide_type": "slide"
    }
   },
   "outputs": [
    {
     "data": {
      "text/plain": [
       "array([[[0],\n",
       "        [0],\n",
       "        [0],\n",
       "        [0]],\n",
       "\n",
       "       [[0],\n",
       "        [1],\n",
       "        [0],\n",
       "        [0]],\n",
       "\n",
       "       [[0],\n",
       "        [0],\n",
       "        [2],\n",
       "        [0]],\n",
       "\n",
       "       [[0],\n",
       "        [0],\n",
       "        [0],\n",
       "        [3]]])"
      ]
     },
     "execution_count": 85,
     "metadata": {},
     "output_type": "execute_result"
    }
   ],
   "source": [
    "a[:,:,np.newaxis]"
   ]
  },
  {
   "cell_type": "markdown",
   "metadata": {
    "slideshow": {
     "slide_type": "slide"
    }
   },
   "source": [
    "### Create the following arrays\n",
    "```python\n",
    "[100 101 102 103 104 105 106 107 108 109]\n",
    "```\n",
    "Hint: numpy.arange\n",
    "```python\n",
    "[-2. -1.8 -1.6 -1.4 -1.2 -1. -0.8 -0.6 -0.4 -0.2 0. \n",
    "0.2 0.4 0.6 0.8 1. 1.2 1.4 1.6 1.8]\n",
    "```\n",
    "Hint: numpy.linspace\n",
    "```python\n",
    "[[ 0.001\t0.00129155 0.0016681 0.00215443 0.00278256 \n",
    "     0.003593810.00464159 0.00599484 0.00774264 0.01]\n",
    "```\n",
    "Hint: numpy.logspace\n",
    "```python\n",
    "[[ 0. 0. -1. -1. -1.] \n",
    " [ 0. 0.  0. -1. -1.] \n",
    " [ 0. 0.  0.  0. -1.]\n",
    " [ 0. 0.  0.  0.  0.]\n",
    " [ 0. 0.  0.  0.  0.] \n",
    " [ 0. 0.  0.  0.  0.] \n",
    " [ 0. 0.  0.  0.  0.]]\n",
    "```\n",
    "Hint: numpy.tri, numpy.zeros, numpy.transpose"
   ]
  },
  {
   "cell_type": "markdown",
   "metadata": {
    "slideshow": {
     "slide_type": "skip"
    }
   },
   "source": [
    "<button data-toggle=\"collapse\" data-target=\"#numpy1\" class='btn btn-primary'>Solution</button>\n",
    "\n",
    "<div id=\"numpy1\" class=\"collapse\">\n",
    "```python\n",
    "np.arange(100,110)\n",
    "np.linspace(-2,2,20,endpoint=False)\n",
    "np.logspace(-3,-2,10)\n",
    "np.tri(7,5, k=1) - np.ones((7,5))\n",
    "np.zeros((7,5))-np.tri(5, 7, k=-2).transpose()\n",
    "```"
   ]
  },
  {
   "cell_type": "markdown",
   "metadata": {
    "slideshow": {
     "slide_type": "slide"
    }
   },
   "source": [
    "\n",
    "\n",
    "```python\n",
    "[[ 0.  1.  2.  3. 4.] \n",
    " [-1.  0.  1.  2. 3.] \n",
    " [-1. -1.  0.  1. 2.] \n",
    " [-1. -1. -1.  0. 1.] \n",
    " [-1. -1. -1. -1. 0.]]\n",
    "```\n",
    "Hint: numpy.ones, numpy.diag\n",
    "\n",
    "* Compute the integral numerically with Trapezoidal rule\n",
    "$$\n",
    "I = \\int_{-\\infty}^\\infty e^{-v^2} dv\n",
    "$$\n",
    "with  $v \\in [-10;10]$ and n=20.\n",
    "\n"
   ]
  },
  {
   "cell_type": "markdown",
   "metadata": {
    "slideshow": {
     "slide_type": "skip"
    }
   },
   "source": [
    "<button data-toggle=\"collapse\" data-target=\"#numpy2\" class='btn btn-primary'>Solution</button>\n",
    "<div id=\"numpy2\" class=\"collapse\">\n",
    "```python\n",
    "s = 5\n",
    "a = -np.ones((s,s)) \n",
    "for i in range(s):\n",
    "  a += np.diag((i+1)*np.ones(s-i), k=i)\n",
    "a\n",
    "# trapezoidal rule\n",
    "def trapz( f , a, b, n):\n",
    "    \"\"\" compute the integral of f in [a,b]\n",
    "    using trapezoidal rule with n partitions \"\"\"\n",
    "    x, dx = np.linspace(a, b, n, retstep=True)\n",
    "    return np.sum(0.5*(f(x[:-1])+f(x[1:])))*dx\n",
    "\n",
    "f = lambda v: np.exp(-v*v)\n",
    "\n",
    "print(trapz(f, -10, 10, 20))\n",
    "x = np.linspace(-10, 10, 20)\n",
    "np.trapz(f(x), x)  # check the result with numpy.trapz function \n",
    "```"
   ]
  },
  {
   "cell_type": "markdown",
   "metadata": {
    "slideshow": {
     "slide_type": "slide"
    }
   },
   "source": [
    "# Views and Memory Management\n",
    "- If it exists one view of a NumPy array, it can be destroyed.\n"
   ]
  },
  {
   "cell_type": "code",
   "execution_count": 86,
   "metadata": {
    "slideshow": {
     "slide_type": "fragment"
    }
   },
   "outputs": [
    {
     "data": {
      "text/plain": [
       "array([     0,      1,      2, ..., 999997, 999998, 999999])"
      ]
     },
     "execution_count": 86,
     "metadata": {},
     "output_type": "execute_result"
    }
   ],
   "source": [
    "big = np.arange(1000000)\n",
    "small = big[:5]\n",
    "del big\n",
    "small.base"
   ]
  },
  {
   "cell_type": "markdown",
   "metadata": {
    "slideshow": {
     "slide_type": "fragment"
    }
   },
   "source": [
    "- Array called `big` is still allocated.\n",
    "- Sometimes it is better to create a copy."
   ]
  },
  {
   "cell_type": "code",
   "execution_count": 87,
   "metadata": {
    "slideshow": {
     "slide_type": "fragment"
    }
   },
   "outputs": [
    {
     "name": "stdout",
     "output_type": "stream",
     "text": [
      "None\n"
     ]
    }
   ],
   "source": [
    "big = np.arange(1000000)\n",
    "small = big[:5].copy()\n",
    "del big\n",
    "print(small.base)"
   ]
  },
  {
   "cell_type": "markdown",
   "metadata": {
    "slideshow": {
     "slide_type": "slide"
    }
   },
   "source": [
    "## Change memory alignement"
   ]
  },
  {
   "cell_type": "code",
   "execution_count": 88,
   "metadata": {
    "slideshow": {
     "slide_type": "fragment"
    }
   },
   "outputs": [
    {
     "name": "stdout",
     "output_type": "stream",
     "text": [
      "  C_CONTIGUOUS : True\n",
      "  F_CONTIGUOUS : False\n",
      "  OWNDATA : False\n",
      "  WRITEABLE : True\n",
      "  ALIGNED : True\n",
      "  WRITEBACKIFCOPY : False\n",
      "  UPDATEIFCOPY : False\n"
     ]
    }
   ],
   "source": [
    "del(a)\n",
    "a = np.arange(20).reshape(5,4)\n",
    "print(a.flags)\n",
    "b = np.asfortranarray(a) # makes a copy"
   ]
  },
  {
   "cell_type": "code",
   "execution_count": 89,
   "metadata": {
    "slideshow": {
     "slide_type": "fragment"
    }
   },
   "outputs": [
    {
     "data": {
      "text/plain": [
       "  C_CONTIGUOUS : True\n",
       "  F_CONTIGUOUS : False\n",
       "  OWNDATA : True\n",
       "  WRITEABLE : True\n",
       "  ALIGNED : True\n",
       "  WRITEBACKIFCOPY : False\n",
       "  UPDATEIFCOPY : False"
      ]
     },
     "execution_count": 89,
     "metadata": {},
     "output_type": "execute_result"
    }
   ],
   "source": [
    "a = a + 1\n",
    "a.flags"
   ]
  },
  {
   "cell_type": "code",
   "execution_count": 90,
   "metadata": {
    "slideshow": {
     "slide_type": "fragment"
    }
   },
   "outputs": [
    {
     "data": {
      "text/plain": [
       "  C_CONTIGUOUS : False\n",
       "  F_CONTIGUOUS : True\n",
       "  OWNDATA : True\n",
       "  WRITEABLE : True\n",
       "  ALIGNED : True\n",
       "  WRITEBACKIFCOPY : False\n",
       "  UPDATEIFCOPY : False"
      ]
     },
     "execution_count": 90,
     "metadata": {},
     "output_type": "execute_result"
    }
   ],
   "source": [
    "b.flags"
   ]
  },
  {
   "cell_type": "code",
   "execution_count": 91,
   "metadata": {
    "slideshow": {
     "slide_type": "fragment"
    }
   },
   "outputs": [
    {
     "data": {
      "text/plain": [
       "False"
      ]
     },
     "execution_count": 91,
     "metadata": {},
     "output_type": "execute_result"
    }
   ],
   "source": [
    "b.base is a"
   ]
  },
  {
   "cell_type": "markdown",
   "metadata": {
    "slideshow": {
     "slide_type": "slide"
    }
   },
   "source": [
    "You can also create a fortran array with array function."
   ]
  },
  {
   "cell_type": "code",
   "execution_count": 92,
   "metadata": {
    "slideshow": {
     "slide_type": "fragment"
    }
   },
   "outputs": [],
   "source": [
    "c = np.array([[1,2,3],[4,5,6]])\n",
    "f = np.asfortranarray(c)"
   ]
  },
  {
   "cell_type": "code",
   "execution_count": 93,
   "metadata": {
    "slideshow": {
     "slide_type": "fragment"
    }
   },
   "outputs": [
    {
     "name": "stdout",
     "output_type": "stream",
     "text": [
      "[1 4 2 5 3 6]\n",
      "[1 2 3 4 5 6]\n"
     ]
    }
   ],
   "source": [
    "print(f.ravel(order='K')) # Return a 1D array using memory order\n",
    "print(c.ravel(order='K')) # Copy is made only if necessary"
   ]
  },
  {
   "cell_type": "markdown",
   "metadata": {
    "slideshow": {
     "slide_type": "slide"
    }
   },
   "source": [
    "# Broadcasting rules\n",
    "\n",
    "Broadcasting rules allow you to make an outer product between two vectors: the first method involves array tiling, the second one involves broadcasting. The last method is significantly faster.\n"
   ]
  },
  {
   "cell_type": "code",
   "execution_count": 94,
   "metadata": {
    "slideshow": {
     "slide_type": "fragment"
    }
   },
   "outputs": [],
   "source": [
    "n = 1000\n",
    "a = np.arange(n)\n",
    "ac = a[:, np.newaxis]   # column matrix\n",
    "ar = a[np.newaxis, :]   # row matrix"
   ]
  },
  {
   "cell_type": "code",
   "execution_count": 95,
   "metadata": {
    "slideshow": {
     "slide_type": "fragment"
    }
   },
   "outputs": [
    {
     "name": "stdout",
     "output_type": "stream",
     "text": [
      "9.66 ms ± 5.86 µs per loop (mean ± std. dev. of 7 runs, 100 loops each)\n"
     ]
    }
   ],
   "source": [
    "%timeit np.tile(ac, (1, n)) * np.tile(ar, (n, 1))"
   ]
  },
  {
   "cell_type": "code",
   "execution_count": 96,
   "metadata": {
    "slideshow": {
     "slide_type": "fragment"
    }
   },
   "outputs": [
    {
     "name": "stdout",
     "output_type": "stream",
     "text": [
      "2.32 ms ± 84.1 µs per loop (mean ± std. dev. of 7 runs, 100 loops each)\n"
     ]
    }
   ],
   "source": [
    "%timeit ac * ar"
   ]
  },
  {
   "cell_type": "code",
   "execution_count": 97,
   "metadata": {
    "slideshow": {
     "slide_type": "fragment"
    }
   },
   "outputs": [
    {
     "data": {
      "text/plain": [
       "True"
      ]
     },
     "execution_count": 97,
     "metadata": {},
     "output_type": "execute_result"
    }
   ],
   "source": [
    "np.all(np.tile(ac, (1, n)) * np.tile(ar, (n, 1)) == ac * ar)"
   ]
  },
  {
   "cell_type": "markdown",
   "metadata": {
    "slideshow": {
     "slide_type": "slide"
    }
   },
   "source": [
    "# Numpy Matrix\n",
    "\n",
    "Specialized 2-D array that retains its 2-D nature through operations. It has certain special operators, such as $*$ (matrix multiplication) and $**$ (matrix power)."
   ]
  },
  {
   "cell_type": "code",
   "execution_count": 98,
   "metadata": {
    "slideshow": {
     "slide_type": "fragment"
    }
   },
   "outputs": [
    {
     "data": {
      "text/plain": [
       "matrix([[1, 2],\n",
       "        [3, 4]])"
      ]
     },
     "execution_count": 98,
     "metadata": {},
     "output_type": "execute_result"
    }
   ],
   "source": [
    "m = np.matrix('1 2; 3 4') #Matlab syntax\n",
    "m"
   ]
  },
  {
   "cell_type": "code",
   "execution_count": 99,
   "metadata": {
    "slideshow": {
     "slide_type": "fragment"
    }
   },
   "outputs": [
    {
     "data": {
      "text/plain": [
       "matrix([[1, 2],\n",
       "        [3, 4]])"
      ]
     },
     "execution_count": 99,
     "metadata": {},
     "output_type": "execute_result"
    }
   ],
   "source": [
    "a = np.matrix([[1, 2],[ 3, 4]]) #Python syntax\n",
    "a"
   ]
  },
  {
   "cell_type": "code",
   "execution_count": 100,
   "metadata": {
    "slideshow": {
     "slide_type": "slide"
    }
   },
   "outputs": [
    {
     "data": {
      "text/plain": [
       "(matrix([[1, 2, 3]]), True)"
      ]
     },
     "execution_count": 100,
     "metadata": {},
     "output_type": "execute_result"
    }
   ],
   "source": [
    "a = np.arange(1,4)\n",
    "b = np.mat(a) # 2D view, no copy!\n",
    "b, np.may_share_memory(a,b)"
   ]
  },
  {
   "cell_type": "code",
   "execution_count": 101,
   "metadata": {
    "slideshow": {
     "slide_type": "fragment"
    }
   },
   "outputs": [
    {
     "data": {
      "text/plain": [
       "matrix([[14],\n",
       "        [26]])"
      ]
     },
     "execution_count": 101,
     "metadata": {},
     "output_type": "execute_result"
    }
   ],
   "source": [
    "a = np.matrix([[1, 2, 3],[ 3, 4, 5]])\n",
    "a * b.T # Matrix vector product"
   ]
  },
  {
   "cell_type": "code",
   "execution_count": 102,
   "metadata": {
    "slideshow": {
     "slide_type": "fragment"
    }
   },
   "outputs": [
    {
     "data": {
      "text/plain": [
       "matrix([[ 7, 10, 13],\n",
       "        [15, 22, 29]])"
      ]
     },
     "execution_count": 102,
     "metadata": {},
     "output_type": "execute_result"
    }
   ],
   "source": [
    "m * a # Matrix multiplication"
   ]
  },
  {
   "cell_type": "markdown",
   "metadata": {
    "slideshow": {
     "slide_type": "slide"
    }
   },
   "source": [
    "# NumPy Array Programming\n",
    "- Array operations are fast, Python loops are slow. \n",
    "- Top priority: **avoid loops**\n",
    "- It’s better to do the work three times witharray operations than once with a loop.\n",
    "- This does require a change of habits.\n",
    "- This does require some experience.\n",
    "- NumPy’s array operations are designed to make this possible."
   ]
  },
  {
   "cell_type": "markdown",
   "metadata": {
    "slideshow": {
     "slide_type": "slide"
    }
   },
   "source": [
    "# Fast Evaluation Of Array Expressions \n",
    "\n",
    "- The `numexpr` package supplies routines for the fast evaluation of array expressions elementwise by using a vector-based virtual machine.\n",
    "- Expressions are cached, so reuse is fast."
   ]
  },
  {
   "cell_type": "markdown",
   "metadata": {
    "slideshow": {
     "slide_type": "fragment"
    }
   },
   "source": [
    "[Numexpr Users Guide](https://github.com/pydata/numexpr/wiki/Numexpr-Users-Guide)"
   ]
  },
  {
   "cell_type": "code",
   "execution_count": 103,
   "metadata": {
    "slideshow": {
     "slide_type": "slide"
    }
   },
   "outputs": [],
   "source": [
    "import numexpr as ne\n",
    "import numpy as np\n",
    "nrange = (2 ** np.arange(6, 24)).astype(int)\n",
    "\n",
    "t_numpy = []\n",
    "t_numexpr = []\n",
    "\n",
    "for n in nrange:\n",
    "    a = np.random.random(n)\n",
    "    b = np.arange(n, dtype=np.double)\n",
    "    c = np.random.random(n)\n",
    "    \n",
    "    c1 = ne.evaluate(\"a ** 2 + b ** 2 + 2 * a * b * c \", optimization='aggressive')\n",
    "\n",
    "    t1 = %timeit -oq -n 10 a ** 2 + b ** 2 + 2 * a * b * c\n",
    "    t2 = %timeit -oq -n 10 ne.re_evaluate()\n",
    "\n",
    "    t_numpy.append(t1.best)\n",
    "    t_numexpr.append(t2.best)"
   ]
  },
  {
   "cell_type": "code",
   "execution_count": 104,
   "metadata": {
    "slideshow": {
     "slide_type": "slide"
    }
   },
   "outputs": [
    {
     "data": {
      "image/png": "[encoded data removed]",
      "text/plain": [
       "<matplotlib.figure.Figure at 0x10b3c0048>"
      ]
     },
     "metadata": {
      "image/png": {
       "height": 267,
       "width": 390
      }
     },
     "output_type": "display_data"
    }
   ],
   "source": [
    "%matplotlib inline\n",
    "%config InlineBackend.figure_format = 'retina'\n",
    "import matplotlib.pyplot as plt\n",
    "import seaborn; seaborn.set()\n",
    "\n",
    "plt.loglog(nrange, t_numpy, label='numpy')\n",
    "plt.loglog(nrange, t_numexpr, label='numexpr')\n",
    "\n",
    "plt.legend(loc='lower right')\n",
    "plt.xlabel('Vectors size')\n",
    "plt.ylabel('Execution Time (s)');"
   ]
  },
  {
   "cell_type": "markdown",
   "metadata": {
    "slideshow": {
     "slide_type": "slide"
    }
   },
   "source": [
    "# References\n",
    "- [NumPy reference](http://docs.scipy.org/doc/numpy/reference/)\n",
    "- [Getting the Best Performance out of NumPy](http://ipython-books.github.io/featured-01/)\n",
    "- [Numpy by Konrad Hinsen](http://calcul.math.cnrs.fr/Documents/Ecoles/2013/python/NumPy%20avance.pdf)"
   ]
  },
  {
   "cell_type": "code",
   "execution_count": 119,
   "metadata": {},
   "outputs": [
    {
     "data": {
      "text/plain": [
       "array([[ 0,  1,  2,  3,  4],\n",
       "       [ 5,  6,  7,  8,  9],\n",
       "       [10, 11, 12, 13, 14],\n",
       "       [15, 16, 17, 18, 19]])"
      ]
     },
     "execution_count": 119,
     "metadata": {},
     "output_type": "execute_result"
    }
   ],
   "source": [
    "M = np.arange(20).reshape(4,5)\n",
    "M"
   ]
  },
  {
   "cell_type": "code",
   "execution_count": null,
   "metadata": {},
   "outputs": [],
   "source": []
  },
  {
   "cell_type": "code",
   "execution_count": null,
   "metadata": {},
   "outputs": [],
   "source": []
  },
  {
   "cell_type": "code",
   "execution_count": 120,
   "metadata": {},
   "outputs": [
    {
     "data": {
      "text/plain": [
       "array([[ 7,  8,  9],\n",
       "       [12, 13, 14]])"
      ]
     },
     "execution_count": 120,
     "metadata": {},
     "output_type": "execute_result"
    }
   ],
   "source": [
    "M[1:3,2:5]"
   ]
  },
  {
   "cell_type": "code",
   "execution_count": 122,
   "metadata": {},
   "outputs": [
    {
     "data": {
      "text/plain": [
       "array([[1, 3],\n",
       "       [2, 4]])"
      ]
     },
     "execution_count": 122,
     "metadata": {},
     "output_type": "execute_result"
    }
   ],
   "source": [
    "np.take(M,[[1,3],[2,4]])"
   ]
  },
  {
   "cell_type": "code",
   "execution_count": null,
   "metadata": {},
   "outputs": [],
   "source": []
  },
  {
   "cell_type": "code",
   "execution_count": null,
   "metadata": {},
   "outputs": [],
   "source": []
  }
 ],
 "metadata": {
  "celltoolbar": "Slideshow",
  "kernelspec": {
   "display_name": "Python 3",
   "language": "python",
   "name": "python3"
  },
  "language_info": {
   "codemirror_mode": {
    "name": "ipython",
    "version": 3
   },
   "file_extension": ".py",
   "mimetype": "text/x-python",
   "name": "python",
   "nbconvert_exporter": "python",
   "pygments_lexer": "ipython3",
   "version": "3.6.4"
  }
 },
 "nbformat": 4,
 "nbformat_minor": 2
}
