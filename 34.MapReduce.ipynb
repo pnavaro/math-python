{
 "cells": [
  {
   "cell_type": "markdown",
   "metadata": {
    "slideshow": {
     "slide_type": "skip"
    }
   },
   "source": [
    "Pierre Navaro - [Institut de Recherche Mathématique de Rennes](https://irmar.univ-rennes1.fr) - [CNRS](http://www.cnrs.fr/)"
   ]
  },
  {
   "cell_type": "markdown",
   "metadata": {
    "slideshow": {
     "slide_type": "skip"
    }
   },
   "source": [
    "# References\n",
    "- [Outils pour le Big Data - Pierre Nerzic 🇫🇷](https://perso.univ-rennes1.fr/pierre.nerzic/Hadoop/)\n",
    "- [Writing an Hadoop MapReduce Program in Python - Michael G. Noll](http://www.michael-noll.com/tutorials/writing-an-hadoop-mapreduce-program-in-python/)\n",
    "- [Hadoop MapReduce Framework Tutorials with Examples - Matthew Rathbone](https://blog.matthewrathbone.com/2013/01/05/a-quick-guide-to-hadoop-map-reduce-frameworks.html)\n",
    "- [Python course: Lambda, filter, reduce and map](http://www.python-course.eu/lambda.php)\n",
    "- [Mastering Python for Data Science - Samir Madhavan](https://www.packtpub.com/big-data-and-business-intelligence/mastering-python-data-science)\n",
    "* [Implementing MapReduce with multiprocessing](https://pymotw.com/2/multiprocessing/mapreduce.html)\n",
    "* [MPI4PY examples](https://github.com/jbornschein/mpi4py-examples)\n",
    "* [sharedmem package](http://rainwoodman.github.io/sharedmem/)\n",
    "- [A Guide to Python Frameworks for Hadoop](http://blog.cloudera.com/blog/2013/01/a-guide-to-python-frameworks-for-hadoop/)"
   ]
  },
  {
   "cell_type": "markdown",
   "metadata": {
    "slideshow": {
     "slide_type": "slide"
    }
   },
   "source": [
    "# Data processing through MapReduce\n",
    "\n",
    "![MapReduce](http://mm-tom.s3.amazonaws.com/blog/MapReduce.png)"
   ]
  },
  {
   "cell_type": "markdown",
   "metadata": {
    "slideshow": {
     "slide_type": "slide"
    }
   },
   "source": [
    "# Python Map Reduce\n",
    "\n",
    "## Exercise 1\n",
    "Compute a vector norm $|v| = \\sqrt(\\sum_i v_i^2)$ with this process:\n",
    "- use `map` function\n",
    "- use `reduce` funtion from `functools`"
   ]
  },
  {
   "cell_type": "code",
   "execution_count": 42,
   "metadata": {
    "scrolled": false,
    "slideshow": {
     "slide_type": "fragment"
    }
   },
   "outputs": [],
   "source": [
    "V = [4,1,2,3]"
   ]
  },
  {
   "cell_type": "markdown",
   "metadata": {
    "scrolled": false,
    "slideshow": {
     "slide_type": "fragment"
    }
   },
   "source": [
    "<button data-toggle=\"collapse\" data-target=\"#sol1\" class='btn btn-primary'>Solution</button>\n",
    "<div id=\"sol1\" class=\"collapse\">\n",
    "```python\n",
    "from operator import add\n",
    "from functools import reduce\n",
    "from math import sqrt\n",
    "\n",
    "f = lambda x: x*x   # Function applied\n",
    "L = map(f, V)       # map return a iterator\n",
    "s = reduce(add,L)   # reduce compute the sum\n",
    "sqrt(s) == sqrt(sum(map(f,V)))\n",
    "```"
   ]
  },
  {
   "cell_type": "markdown",
   "metadata": {
    "slideshow": {
     "slide_type": "fragment"
    }
   },
   "source": [
    "- The `map(func, seq)` Python function applies the function func to all the elements of the sequence seq. It returns a new list with the elements changed by func"
   ]
  },
  {
   "cell_type": "markdown",
   "metadata": {
    "slideshow": {
     "slide_type": "fragment"
    }
   },
   "source": [
    "- The function `reduce(func, seq)` continually applies the function func() to the sequence seq and return a single value. For example, reduce(f, [1, 2, 3, 4, 5]) calculates f(f(f(f(1,2),3),4),5)."
   ]
  },
  {
   "cell_type": "markdown",
   "metadata": {
    "slideshow": {
     "slide_type": "slide"
    }
   },
   "source": [
    "# Wordcount Example\n",
    "\n",
    "[WordCount](https://hadoop.apache.org/docs/current/hadoop-mapreduce-client/hadoop-mapreduce-client-core/MapReduceTutorial.html#Example:_WordCount_v1.0) is a simple application that counts the number of occurrences of each word in a given input set.\n",
    "\n",
    "Each mapper takes a line of text files as input and breaks it into words. It then emits a key/value pair of the word and 1 (separated by a tab). Each reducer sums the counts for each word and emits a single key/value with the word and sum."
   ]
  },
  {
   "cell_type": "code",
   "execution_count": 43,
   "metadata": {
    "scrolled": false,
    "slideshow": {
     "slide_type": "skip"
    }
   },
   "outputs": [],
   "source": [
    "%mkdir -p hadoop"
   ]
  },
  {
   "cell_type": "code",
   "execution_count": 44,
   "metadata": {
    "scrolled": false,
    "slideshow": {
     "slide_type": "fragment"
    }
   },
   "outputs": [
    {
     "name": "stdout",
     "output_type": "stream",
     "text": [
      "Etincidunt etincidunt sit dolor aliquam velit. Ut ut modi quiquia velit. Labore magnam amet aliquam voluptatem quisquam aliquam. Quisquam velit dolorem tempora eius. Ipsum magnam tempora ipsum consectetur. Quisquam consectetur tempora labore numquam porro aliquam. Labore ut velit ut quisquam est quiquia. Etincidunt est ut sit voluptatem etincidunt labore amet. Adipisci amet adipisci non sit. Sed sit dolorem sit adipisci est.\n",
      "\n",
      "Quisquam est dolore aliquam. Aliquam sit dolor ipsum labore. Non quaer\n"
     ]
    }
   ],
   "source": [
    "from lorem import text\n",
    "t = text()\n",
    "\n",
    "with open(\"hadoop/sample.txt\", \"w\") as sample:\n",
    "    sample.write(t)\n",
    "\n",
    "print(t[:500]) # print only 500 first characters"
   ]
  },
  {
   "cell_type": "markdown",
   "metadata": {
    "slideshow": {
     "slide_type": "slide"
    }
   },
   "source": [
    "## Exercise 2\n",
    "\n",
    "Write a python program that counts the number of words in that file.\n"
   ]
  },
  {
   "cell_type": "markdown",
   "metadata": {
    "scrolled": false,
    "slideshow": {
     "slide_type": "fragment"
    }
   },
   "source": [
    "<button data-toggle=\"collapse\" data-target=\"#sol2\" class='btn btn-primary'>Solution</button>\n",
    "<div id=\"sol2\" class=\"collapse\">\n",
    "```python\n",
    "import re\n",
    "splitter = re.compile('\\w+')\n",
    "with open('hadoop/sample.txt', 'r') as f:\n",
    "    data = f.read()\n",
    "result = len(splitter.findall(data))\n",
    "result\n",
    "```"
   ]
  },
  {
   "cell_type": "markdown",
   "metadata": {
    "slideshow": {
     "slide_type": "slide"
    }
   },
   "source": [
    "### Wordcount using a collections.Counter"
   ]
  },
  {
   "cell_type": "code",
   "execution_count": 45,
   "metadata": {
    "slideshow": {
     "slide_type": "fragment"
    }
   },
   "outputs": [
    {
     "name": "stdout",
     "output_type": "stream",
     "text": [
      "[('adipisci', 9), ('aliquam', 17), ('amet', 11), ('consectetur', 10), ('dolor', 12), ('dolore', 4), ('dolorem', 9), ('eius', 13), ('est', 8), ('etincidunt', 12), ('ipsum', 11), ('labore', 10), ('magnam', 12), ('modi', 4), ('neque', 10), ('non', 13), ('numquam', 2), ('porro', 8), ('quaerat', 11), ('quiquia', 12), ('quisquam', 13), ('sed', 9), ('sit', 13), ('tempora', 14), ('ut', 16), ('velit', 9), ('voluptatem', 15)]\n"
     ]
    }
   ],
   "source": [
    "from collections import Counter\n",
    "from string import punctuation\n",
    "\n",
    "with open(\"hadoop/sample.txt\", \"r\") as sample:\n",
    "    translator = str.maketrans('', '', punctuation)\n",
    "    p = sample.read().lower().translate(translator).replace('\\n',' ').split(' ')\n",
    "    c = Counter(p)\n",
    "    del c['']\n",
    "    print(sorted(c.most_common()))"
   ]
  },
  {
   "cell_type": "markdown",
   "metadata": {
    "slideshow": {
     "slide_type": "slide"
    }
   },
   "source": [
    "### Wordcount using a collections.defaultdict"
   ]
  },
  {
   "cell_type": "code",
   "execution_count": 46,
   "metadata": {
    "slideshow": {
     "slide_type": "fragment"
    }
   },
   "outputs": [
    {
     "name": "stdout",
     "output_type": "stream",
     "text": [
      "[('adipisci', 9), ('aliquam', 17), ('amet', 11), ('consectetur', 10), ('dolor', 12), ('dolore', 4), ('dolorem', 9), ('eius', 13), ('est', 8), ('etincidunt', 12), ('ipsum', 11), ('labore', 10), ('magnam', 12), ('modi', 4), ('neque', 10), ('non', 13), ('numquam', 2), ('porro', 8), ('quaerat', 11), ('quiquia', 12), ('quisquam', 13), ('sed', 9), ('sit', 13), ('tempora', 14), ('ut', 16), ('velit', 9), ('voluptatem', 15)]\n"
     ]
    }
   ],
   "source": [
    "from collections import defaultdict\n",
    "from string import punctuation\n",
    "\n",
    "with open(\"hadoop/sample.txt\", \"r\") as sample:\n",
    "    translator = str.maketrans('', '', punctuation)\n",
    "    t = sample.read().lower().translate(translator).replace('\\n',' ').split(' ')\n",
    "    d = defaultdict(int)\n",
    "    for k in t:\n",
    "        d[k] += 1\n",
    "\n",
    "    del d[''] # remove empty string from the list\n",
    "    print(sorted(d.items()))\n",
    "    "
   ]
  },
  {
   "cell_type": "markdown",
   "metadata": {
    "slideshow": {
     "slide_type": "slide"
    }
   },
   "source": [
    "## Map-Reduce\n",
    "\n",
    "### Exercise 3: Read file and return a key/value pairs\n",
    "\n",
    "Write a Python function with file name as input that returns a sorted sequence of (word, 1) values."
   ]
  },
  {
   "cell_type": "markdown",
   "metadata": {
    "collapsed": true,
    "scrolled": false,
    "slideshow": {
     "slide_type": "fragment"
    }
   },
   "source": [
    "<button data-toggle=\"collapse\" data-target=\"#words\" class='btn btn-primary'>Solution</button>\n",
    "<div id=\"words\" class=\"collapse\">\n",
    "```python\n",
    "import string\n",
    "\n",
    "def words(file):\n",
    "    \"\"\"\n",
    "    Read a text file and return a sorted list of (word, 1) values.\n",
    "    \"\"\"\n",
    "    translator = str.maketrans('', '', string.punctuation)\n",
    "    output = []\n",
    "    with open(file) as f:\n",
    "        for line in f:\n",
    "            line = line.strip()\n",
    "            line = line.translate(translator)\n",
    "            for word in line.split():\n",
    "                word = word.lower()\n",
    "                output.append((word, 1))\n",
    "    output.sort()\n",
    "    return output\n",
    "```"
   ]
  },
  {
   "cell_type": "code",
   "execution_count": 48,
   "metadata": {
    "scrolled": false,
    "slideshow": {
     "slide_type": "slide"
    }
   },
   "outputs": [
    {
     "data": {
      "text/plain": [
       "[('adipisci', 1),\n",
       " ('aliquam', 1),\n",
       " ('aliquam', 1),\n",
       " ('amet', 1),\n",
       " ('consectetur', 1),\n",
       " ('dolor', 1),\n",
       " ('dolore', 1),\n",
       " ('dolorem', 1),\n",
       " ('eius', 1),\n",
       " ('est', 1),\n",
       " ('etincidunt', 1),\n",
       " ('ipsum', 1),\n",
       " ('labore', 1),\n",
       " ('magnam', 1),\n",
       " ('modi', 1),\n",
       " ('neque', 1),\n",
       " ('non', 1),\n",
       " ('porro', 1),\n",
       " ('quaerat', 1),\n",
       " ('quiquia', 1),\n",
       " ('quisquam', 1),\n",
       " ('quisquam', 1),\n",
       " ('sit', 1),\n",
       " ('sit', 1),\n",
       " ('tempora', 1),\n",
       " ('ut', 1),\n",
       " ('ut', 1),\n",
       " ('velit', 1),\n",
       " ('voluptatem', 1)]"
      ]
     },
     "execution_count": 48,
     "metadata": {},
     "output_type": "execute_result"
    }
   ],
   "source": [
    "import string\n",
    "\n",
    "def words(file):\n",
    "    \"\"\"\n",
    "    Read a text file and return a sorted list of (word, 1) values.\n",
    "    \"\"\"\n",
    "    translator = str.maketrans('', '', string.punctuation)\n",
    "    output = []\n",
    "    with open(file) as f:\n",
    "        for line in f:\n",
    "            line = line.strip()\n",
    "            line = line.translate(translator)\n",
    "            for word in line.split():\n",
    "                word = word.lower()\n",
    "                output.append((word, 1))\n",
    "    output.sort()\n",
    "    return output\n",
    "words('hadoop/sample.txt')[::10]"
   ]
  },
  {
   "cell_type": "markdown",
   "metadata": {
    "slideshow": {
     "slide_type": "slide"
    }
   },
   "source": [
    "# Reduce \n",
    "\n",
    "Write the funtion to read the results of words and sum the occurrences of each word to a final count, and then output the results\n",
    "as a list of (word, occurences). Two steps:\n",
    "- Group (word, 1) pairs into a dictionary as\n",
    "```python\n",
    "{word1 : [1, 1], word2 : [1, 1, 1], word3 : [1] }\n",
    "```\n",
    "- Reduce operation prints out the word and its number of occurences."
   ]
  },
  {
   "cell_type": "markdown",
   "metadata": {
    "collapsed": true,
    "scrolled": false,
    "slideshow": {
     "slide_type": "fragment"
    }
   },
   "source": [
    "<button data-toggle=\"collapse\" data-target=\"#reduce\" class='btn btn-primary'>Solution</button>\n",
    "<div id=\"reduce\" class=\"collapse\">\n",
    "```python\n",
    "def reduce(words):\n",
    "    \"\"\" Read the sorted list from map and print out every word with \n",
    "    its number of occurences\"\"\"\n",
    "    d = {}\n",
    "    for w in words:\n",
    "        try:\n",
    "            d[w[0]] +=1\n",
    "        except KeyError:\n",
    "            d[w[0]] = 1\n",
    "    return d\n",
    "```"
   ]
  },
  {
   "cell_type": "code",
   "execution_count": 49,
   "metadata": {},
   "outputs": [],
   "source": [
    "def reduce(words):\n",
    "    \"\"\" Read the sorted list from map and print out every word with \n",
    "    its number of occurences\"\"\"\n",
    "    d = {}\n",
    "    for w in words:\n",
    "        try:\n",
    "            d[w[0]] +=1\n",
    "        except KeyError:\n",
    "            d[w[0]] = 1\n",
    "    return d"
   ]
  },
  {
   "cell_type": "code",
   "execution_count": 50,
   "metadata": {
    "scrolled": false,
    "slideshow": {
     "slide_type": "subslide"
    }
   },
   "outputs": [
    {
     "data": {
      "text/plain": [
       "[('aliquam', 17),\n",
       " ('ut', 16),\n",
       " ('voluptatem', 15),\n",
       " ('tempora', 14),\n",
       " ('sit', 13),\n",
       " ('quisquam', 13),\n",
       " ('non', 13),\n",
       " ('eius', 13),\n",
       " ('quiquia', 12),\n",
       " ('magnam', 12)]"
      ]
     },
     "execution_count": 50,
     "metadata": {},
     "output_type": "execute_result"
    }
   ],
   "source": [
    "import operator\n",
    "res = reduce(words('hadoop/sample.txt'))\n",
    "res = sorted(res.items(), key=operator.itemgetter(1))\n",
    "res.reverse()\n",
    "res[:10]"
   ]
  },
  {
   "cell_type": "markdown",
   "metadata": {
    "slideshow": {
     "slide_type": "slide"
    }
   },
   "source": [
    "- This  approach load all the data into memory. A very large file might fill up memory. \n",
    "- Counting words in each line is totally independent of the others. \n",
    "- We can evaluate each piece of data and immediately free up the memory space. \n",
    "- Data chunks would be small enough not to stress memory, but big enough for efficient use of the CPU."
   ]
  },
  {
   "cell_type": "markdown",
   "metadata": {
    "slideshow": {
     "slide_type": "slide"
    }
   },
   "source": [
    "# Multiprocessing version\n",
    "\n",
    "The multiprocessing Pool class provides a map function. Partition and distribute input to a user-specified function in pool of worker processes is automatic.\n",
    "\n",
    "## Example\n"
   ]
  },
  {
   "cell_type": "code",
   "execution_count": 51,
   "metadata": {
    "scrolled": false,
    "slideshow": {
     "slide_type": "fragment"
    }
   },
   "outputs": [
    {
     "name": "stdout",
     "output_type": "stream",
     "text": [
      "[3, 10, 7, 5, 6, 10, 7, 5, 3, 7, 3, 4, 7, 4, 8, 10, 5, 5, 6, 4, 7, 11, 5, 7, 7, 7, 7, 8, 4, 6, 5, 5, 3, 5, 8, 4, 4, 3, 5, 7, 4, 7, 7, 5, 7, 4, 4, 7, 8, 6, 3, 8, 4, 3, 7, 2, 4, 6]\n"
     ]
    }
   ],
   "source": [
    "from multiprocessing import Pool\n",
    "from lorem import paragraph\n",
    "\n",
    "words = paragraph().split() # Create a list of words\n",
    "if __name__ == '__main__': # Executed only on main process.\n",
    "    with Pool(4) as p:\n",
    "        print(p.map(len, words)) # Print words length\n",
    "    "
   ]
  },
  {
   "cell_type": "markdown",
   "metadata": {
    "slideshow": {
     "slide_type": "subslide"
    }
   },
   "source": [
    "- Pool() launches one slave process per physical processor on the computer. \n",
    "- pool.map(...) divides the input list into chunks and puts the tasks (function + chunk) on a queue.\n",
    "- Each slave process takes a task (function + a chunk of data), runs map(function, chunk), and puts the result on a result list.\n",
    "- pool.map on the master process waits until all tasks are handled and returns the concatenation of the result lists."
   ]
  },
  {
   "cell_type": "markdown",
   "metadata": {
    "slideshow": {
     "slide_type": "slide"
    }
   },
   "source": [
    "# Map\n",
    "\n",
    "Same function words"
   ]
  },
  {
   "cell_type": "code",
   "execution_count": 52,
   "metadata": {
    "scrolled": false
   },
   "outputs": [],
   "source": [
    "import string\n",
    "import multiprocessing as mp\n",
    "def words_mp(file):\n",
    "    \"\"\"\n",
    "    Read a text file and return a sorted list of (word, 1) values.\n",
    "    \"\"\"\n",
    "    print(mp.current_process().name, 'reading', file)\n",
    "    translator = str.maketrans('', '', string.punctuation)\n",
    "    output = []\n",
    "    try:\n",
    "        with open(file) as f:\n",
    "            for line in f:   \n",
    "                line = line.strip()\n",
    "                line = line.translate(translator)\n",
    "                for word in line.split():\n",
    "                    if word.isalpha():\n",
    "                        word = word.lower()\n",
    "                        output.append((word, 1))\n",
    "                        \n",
    "    except UnicodeDecodeError as err:\n",
    "        print(\"Some error occurred decoding file %s: %s\" % (file, err))\n",
    "                \n",
    "    output.sort()\n",
    "    return output"
   ]
  },
  {
   "cell_type": "markdown",
   "metadata": {
    "slideshow": {
     "slide_type": "slide"
    }
   },
   "source": [
    "## Partition\n",
    "\n",
    "Before **reduce** operation, data must be aligned in a container. Create a function named `partition` that stores the key/value pairs from `words` into a [defaultdict](https://docs.python.org/3.6/library/collections.html#collections.defaultdict) from `collections` module. Ouput will be:\n",
    "```python\n",
    "[('word1', [1, 1]), ('word2', [1]), ('word3', [1, 1, 1])]\n",
    "```"
   ]
  },
  {
   "cell_type": "code",
   "execution_count": 53,
   "metadata": {
    "scrolled": false
   },
   "outputs": [],
   "source": [
    "import collections\n",
    "def partition_mp(mapped_values):\n",
    "    \"\"\"\n",
    "        Organize the mapped values by their key.\n",
    "        Returns an unsorted sequence of tuples \n",
    "        with a key and a sequence of values.\n",
    "    \"\"\"\n",
    "    partitioned_data = collections.defaultdict(list)\n",
    "    for key, value in mapped_values:\n",
    "        partitioned_data[key].append(value)\n",
    "    return partitioned_data.items()"
   ]
  },
  {
   "cell_type": "markdown",
   "metadata": {},
   "source": [
    "## Reduce"
   ]
  },
  {
   "cell_type": "code",
   "execution_count": 54,
   "metadata": {
    "scrolled": false,
    "slideshow": {
     "slide_type": "fragment"
    }
   },
   "outputs": [],
   "source": [
    "def reduce_mp(item):\n",
    "    \"\"\"Convert the partitioned data for a word to a\n",
    "    tuple containing the word and the number of occurances.\n",
    "    \"\"\"\n",
    "    word, occurances = item\n",
    "    return (word, len(occurances))"
   ]
  },
  {
   "cell_type": "code",
   "execution_count": 55,
   "metadata": {
    "scrolled": false,
    "slideshow": {
     "slide_type": "subslide"
    }
   },
   "outputs": [
    {
     "name": "stdout",
     "output_type": "stream",
     "text": [
      "MainProcess reading hadoop/sample.txt\n",
      "[('adipisci', 1), ('adipisci', 1), ('adipisci', 1), ('adipisci', 1), ('adipisci', 1), ('adipisci', 1), ('adipisci', 1), ('adipisci', 1), ('adipisci', 1), ('aliquam', 1), ('aliquam', 1), ('aliquam', 1), ('aliquam', 1), ('aliquam', 1), ('aliquam', 1), ('aliquam', 1), ('aliquam', 1), ('aliquam', 1), ('aliquam', 1), ('aliquam', 1), ('aliquam', 1), ('aliquam', 1), ('aliquam', 1), ('aliquam', 1), ('aliquam', 1), ('aliquam', 1), ('amet', 1), ('amet', 1), ('amet', 1), ('amet', 1), ('amet', 1), ('amet', 1), ('amet', 1), ('amet', 1), ('amet', 1), ('amet', 1), ('amet', 1), ('consectetur', 1), ('consectetur', 1), ('consectetur', 1), ('consectetur', 1), ('consectetur', 1), ('consectetur', 1), ('consectetur', 1), ('consectetur', 1), ('consectetur', 1), ('consectetur', 1), ('dolor', 1), ('dolor', 1), ('dolor', 1), ('dolor', 1), ('dolor', 1), ('dolor', 1), ('dolor', 1), ('dolor', 1), ('dolor', 1), ('dolor', 1), ('dolor', 1), ('dolor', 1), ('dolore', 1), ('dolore', 1), ('dolore', 1), ('dolore', 1), ('dolorem', 1), ('dolorem', 1), ('dolorem', 1), ('dolorem', 1), ('dolorem', 1), ('dolorem', 1), ('dolorem', 1), ('dolorem', 1), ('dolorem', 1), ('eius', 1), ('eius', 1), ('eius', 1), ('eius', 1), ('eius', 1), ('eius', 1), ('eius', 1), ('eius', 1), ('eius', 1), ('eius', 1), ('eius', 1), ('eius', 1), ('eius', 1), ('est', 1), ('est', 1), ('est', 1), ('est', 1), ('est', 1), ('est', 1), ('est', 1), ('est', 1), ('etincidunt', 1), ('etincidunt', 1), ('etincidunt', 1), ('etincidunt', 1), ('etincidunt', 1), ('etincidunt', 1), ('etincidunt', 1), ('etincidunt', 1), ('etincidunt', 1), ('etincidunt', 1), ('etincidunt', 1), ('etincidunt', 1), ('ipsum', 1), ('ipsum', 1), ('ipsum', 1), ('ipsum', 1), ('ipsum', 1), ('ipsum', 1), ('ipsum', 1), ('ipsum', 1), ('ipsum', 1), ('ipsum', 1), ('ipsum', 1), ('labore', 1), ('labore', 1), ('labore', 1), ('labore', 1), ('labore', 1), ('labore', 1), ('labore', 1), ('labore', 1), ('labore', 1), ('labore', 1), ('magnam', 1), ('magnam', 1), ('magnam', 1), ('magnam', 1), ('magnam', 1), ('magnam', 1), ('magnam', 1), ('magnam', 1), ('magnam', 1), ('magnam', 1), ('magnam', 1), ('magnam', 1), ('modi', 1), ('modi', 1), ('modi', 1), ('modi', 1), ('neque', 1), ('neque', 1), ('neque', 1), ('neque', 1), ('neque', 1), ('neque', 1), ('neque', 1), ('neque', 1), ('neque', 1), ('neque', 1), ('non', 1), ('non', 1), ('non', 1), ('non', 1), ('non', 1), ('non', 1), ('non', 1), ('non', 1), ('non', 1), ('non', 1), ('non', 1), ('non', 1), ('non', 1), ('numquam', 1), ('numquam', 1), ('porro', 1), ('porro', 1), ('porro', 1), ('porro', 1), ('porro', 1), ('porro', 1), ('porro', 1), ('porro', 1), ('quaerat', 1), ('quaerat', 1), ('quaerat', 1), ('quaerat', 1), ('quaerat', 1), ('quaerat', 1), ('quaerat', 1), ('quaerat', 1), ('quaerat', 1), ('quaerat', 1), ('quaerat', 1), ('quiquia', 1), ('quiquia', 1), ('quiquia', 1), ('quiquia', 1), ('quiquia', 1), ('quiquia', 1), ('quiquia', 1), ('quiquia', 1), ('quiquia', 1), ('quiquia', 1), ('quiquia', 1), ('quiquia', 1), ('quisquam', 1), ('quisquam', 1), ('quisquam', 1), ('quisquam', 1), ('quisquam', 1), ('quisquam', 1), ('quisquam', 1), ('quisquam', 1), ('quisquam', 1), ('quisquam', 1), ('quisquam', 1), ('quisquam', 1), ('quisquam', 1), ('sed', 1), ('sed', 1), ('sed', 1), ('sed', 1), ('sed', 1), ('sed', 1), ('sed', 1), ('sed', 1), ('sed', 1), ('sit', 1), ('sit', 1), ('sit', 1), ('sit', 1), ('sit', 1), ('sit', 1), ('sit', 1), ('sit', 1), ('sit', 1), ('sit', 1), ('sit', 1), ('sit', 1), ('sit', 1), ('tempora', 1), ('tempora', 1), ('tempora', 1), ('tempora', 1), ('tempora', 1), ('tempora', 1), ('tempora', 1), ('tempora', 1), ('tempora', 1), ('tempora', 1), ('tempora', 1), ('tempora', 1), ('tempora', 1), ('tempora', 1), ('ut', 1), ('ut', 1), ('ut', 1), ('ut', 1), ('ut', 1), ('ut', 1), ('ut', 1), ('ut', 1), ('ut', 1), ('ut', 1), ('ut', 1), ('ut', 1), ('ut', 1), ('ut', 1), ('ut', 1), ('ut', 1), ('velit', 1), ('velit', 1), ('velit', 1), ('velit', 1), ('velit', 1), ('velit', 1), ('velit', 1), ('velit', 1), ('velit', 1), ('voluptatem', 1), ('voluptatem', 1), ('voluptatem', 1), ('voluptatem', 1), ('voluptatem', 1), ('voluptatem', 1), ('voluptatem', 1), ('voluptatem', 1), ('voluptatem', 1), ('voluptatem', 1), ('voluptatem', 1), ('voluptatem', 1), ('voluptatem', 1), ('voluptatem', 1), ('voluptatem', 1)]\n"
     ]
    }
   ],
   "source": [
    "mapped_values = words_mp('hadoop/sample.txt')\n",
    "print(mapped_values)"
   ]
  },
  {
   "cell_type": "code",
   "execution_count": 56,
   "metadata": {},
   "outputs": [
    {
     "name": "stdout",
     "output_type": "stream",
     "text": [
      "dict_items([('adipisci', [1, 1, 1, 1, 1, 1, 1, 1, 1]), ('aliquam', [1, 1, 1, 1, 1, 1, 1, 1, 1, 1, 1, 1, 1, 1, 1, 1, 1]), ('amet', [1, 1, 1, 1, 1, 1, 1, 1, 1, 1, 1]), ('consectetur', [1, 1, 1, 1, 1, 1, 1, 1, 1, 1]), ('dolor', [1, 1, 1, 1, 1, 1, 1, 1, 1, 1, 1, 1]), ('dolore', [1, 1, 1, 1]), ('dolorem', [1, 1, 1, 1, 1, 1, 1, 1, 1]), ('eius', [1, 1, 1, 1, 1, 1, 1, 1, 1, 1, 1, 1, 1]), ('est', [1, 1, 1, 1, 1, 1, 1, 1]), ('etincidunt', [1, 1, 1, 1, 1, 1, 1, 1, 1, 1, 1, 1]), ('ipsum', [1, 1, 1, 1, 1, 1, 1, 1, 1, 1, 1]), ('labore', [1, 1, 1, 1, 1, 1, 1, 1, 1, 1]), ('magnam', [1, 1, 1, 1, 1, 1, 1, 1, 1, 1, 1, 1]), ('modi', [1, 1, 1, 1]), ('neque', [1, 1, 1, 1, 1, 1, 1, 1, 1, 1]), ('non', [1, 1, 1, 1, 1, 1, 1, 1, 1, 1, 1, 1, 1]), ('numquam', [1, 1]), ('porro', [1, 1, 1, 1, 1, 1, 1, 1]), ('quaerat', [1, 1, 1, 1, 1, 1, 1, 1, 1, 1, 1]), ('quiquia', [1, 1, 1, 1, 1, 1, 1, 1, 1, 1, 1, 1]), ('quisquam', [1, 1, 1, 1, 1, 1, 1, 1, 1, 1, 1, 1, 1]), ('sed', [1, 1, 1, 1, 1, 1, 1, 1, 1]), ('sit', [1, 1, 1, 1, 1, 1, 1, 1, 1, 1, 1, 1, 1]), ('tempora', [1, 1, 1, 1, 1, 1, 1, 1, 1, 1, 1, 1, 1, 1]), ('ut', [1, 1, 1, 1, 1, 1, 1, 1, 1, 1, 1, 1, 1, 1, 1, 1]), ('velit', [1, 1, 1, 1, 1, 1, 1, 1, 1]), ('voluptatem', [1, 1, 1, 1, 1, 1, 1, 1, 1, 1, 1, 1, 1, 1, 1])])\n"
     ]
    }
   ],
   "source": [
    "partioned_values = partition_mp(mapped_values)\n",
    "print(partioned_values)"
   ]
  },
  {
   "cell_type": "code",
   "execution_count": 57,
   "metadata": {
    "scrolled": false
   },
   "outputs": [
    {
     "name": "stdout",
     "output_type": "stream",
     "text": [
      "ForkPoolWorker-11 reading hadoop/sample.txt\n"
     ]
    },
    {
     "data": {
      "text/plain": [
       "[('aliquam', 17),\n",
       " ('ut', 16),\n",
       " ('voluptatem', 15),\n",
       " ('tempora', 14),\n",
       " ('sit', 13),\n",
       " ('quisquam', 13),\n",
       " ('non', 13),\n",
       " ('eius', 13),\n",
       " ('quiquia', 12),\n",
       " ('magnam', 12)]"
      ]
     },
     "execution_count": 57,
     "metadata": {},
     "output_type": "execute_result"
    }
   ],
   "source": [
    "import glob, itertools, operator\n",
    "from multiprocessing import Pool\n",
    "files = glob.glob('hadoop/*.txt')\n",
    "\n",
    "if __name__ == '__main__':\n",
    "    with Pool(processes=6) as p:\n",
    "        mapped_values = p.map(words_mp,files)\n",
    "        partitioned_data = partition_mp(itertools.chain(*mapped_values))\n",
    "        reduced_values = p.map(reduce_mp, partitioned_data)\n",
    "        reduced_values.sort(key=operator.itemgetter(1)) # sort values by number of occurences\n",
    "        reduced_values.reverse() # Put highest number of occurences on top\n",
    "        \n",
    "reduced_values[:10]"
   ]
  },
  {
   "cell_type": "markdown",
   "metadata": {
    "slideshow": {
     "slide_type": "slide"
    }
   },
   "source": [
    "- [itertools.chain(*mapped_values)](https://docs.python.org/3.6/library/itertools.html#itertools.chain) is used for treating consecutive sequences as a single sequence. It makes an iterator that returns elements from the first iterable until it is exhausted, then proceeds to the next iterable, until all of the iterables are exhausted.\n",
    "- [operator](https://docs.python.org/3/library/operator.html).itemgetter(1)\n",
    "Return a callable object that fetches item from its operand using the operand’s __getitem__() method. \n",
    "```python\n",
    "inventory = [('apple', 3), ('banana', 2), ('pear', 5), ('orange', 1)]\n",
    "getcount = itemgetter(1)\n",
    ">>> list(map(getcount, inventory))\n",
    "[3, 2, 5, 1]\n",
    ">>> sorted(inventory, key=getcount)\n",
    "[('orange', 1), ('banana', 2), ('apple', 3), ('pear', 5)]\n",
    "```"
   ]
  },
  {
   "cell_type": "markdown",
   "metadata": {
    "slideshow": {
     "slide_type": "slide"
    }
   },
   "source": [
    "# sharedmem\n",
    "\n",
    "- http://github.com/rainwoodman/sharedmem\n",
    "- https://pypi.python.org/pypi/sharedmem\n",
    "\n",
    "Create a list of sample texts in different files\n"
   ]
  },
  {
   "cell_type": "code",
   "execution_count": 58,
   "metadata": {
    "scrolled": false,
    "slideshow": {
     "slide_type": "fragment"
    }
   },
   "outputs": [],
   "source": [
    "from lorem import text\n",
    "\n",
    "for i in range(10):\n",
    "    with open(\"hadoop/sample_{0:1d}.txt\".format(i), \"w\") as sample:\n",
    "        sample.write(text())"
   ]
  },
  {
   "cell_type": "code",
   "execution_count": 59,
   "metadata": {
    "scrolled": false,
    "slideshow": {
     "slide_type": "slide"
    }
   },
   "outputs": [
    {
     "name": "stdout",
     "output_type": "stream",
     "text": [
      "hadoop/sample_0.txt\n",
      "hadoop/sample_1.txt\n",
      "hadoop/sample_2.txt\n",
      "hadoop/sample_3.txt\n",
      "hadoop/sample_4.txt\n",
      "hadoop/sample_6.txt\n",
      "hadoop/sample_8.txt\n",
      "hadoop/sample_5.txt\n",
      "hadoop/sample_7.txt\n",
      "hadoop/sample_9.txt\n"
     ]
    },
    {
     "data": {
      "text/plain": [
       "{'dolorem': 19, 'ipsum': 16}"
      ]
     },
     "execution_count": 59,
     "metadata": {},
     "output_type": "execute_result"
    }
   ],
   "source": [
    "import sharedmem\n",
    "import glob\n",
    "samples = glob.glob('hadoop/sample_*.txt')\n",
    "\n",
    "word_count = {\n",
    "        'dolorem': 0,\n",
    "        'ipsum': 0,\n",
    "            }\n",
    "\n",
    "with sharedmem.MapReduce() as pool:\n",
    "\n",
    "    def work(file):\n",
    "        print(file)\n",
    "        with open(file) as f:\n",
    "            for line in f:\n",
    "                my_word_count = dict([(word, 0) for word in word_count])\n",
    "                for word in line.replace('.', ' ').split():\n",
    "                    if word in word_count:\n",
    "                        my_word_count[word] += 1\n",
    "\n",
    "        return my_word_count\n",
    "\n",
    "    def reduce(her_word_count):\n",
    "        for word in word_count:\n",
    "            word_count[word] += her_word_count[word]\n",
    "\n",
    "    pool.map(work, samples, reduce=reduce)\n",
    "\n",
    "word_count # count of 'dolorem' and 'ipsum'"
   ]
  },
  {
   "cell_type": "markdown",
   "metadata": {
    "slideshow": {
     "slide_type": "slide"
    }
   },
   "source": [
    "#  Dask Bag"
   ]
  },
  {
   "cell_type": "code",
   "execution_count": 60,
   "metadata": {
    "scrolled": false,
    "slideshow": {
     "slide_type": "fragment"
    }
   },
   "outputs": [
    {
     "data": {
      "text/plain": [
       "dask.bag<bag-fro..., npartitions=10>"
      ]
     },
     "execution_count": 60,
     "metadata": {},
     "output_type": "execute_result"
    }
   ],
   "source": [
    "import os\n",
    "import dask.bag as db\n",
    "\n",
    "lines = db.read_text(os.path.join('hadoop', 'sample_*.txt'))\n",
    "lines"
   ]
  },
  {
   "cell_type": "code",
   "execution_count": 61,
   "metadata": {
    "scrolled": false,
    "slideshow": {
     "slide_type": "fragment"
    }
   },
   "outputs": [
    {
     "data": {
      "image/png": "[encoded data removed]",
      "text/plain": [
       "<IPython.core.display.Image object>"
      ]
     },
     "execution_count": 61,
     "metadata": {},
     "output_type": "execute_result"
    }
   ],
   "source": [
    "lines.visualize()"
   ]
  },
  {
   "cell_type": "code",
   "execution_count": 62,
   "metadata": {
    "scrolled": false,
    "slideshow": {
     "slide_type": "slide"
    }
   },
   "outputs": [
    {
     "data": {
      "text/plain": [
       "('Neque velit dolorem porro. Eius dolorem eius consectetur eius voluptatem consectetur. Dolorem ut sit eius ipsum labore sit. Ipsum adipisci quisquam quiquia labore adipisci dolorem. Aliquam aliquam dolorem etincidunt voluptatem dolore velit. Sed amet numquam ut. Velit porro tempora amet dolor tempora dolore. Dolorem neque dolore amet.\\n',)"
      ]
     },
     "execution_count": 62,
     "metadata": {},
     "output_type": "execute_result"
    }
   ],
   "source": [
    "lines.take(1) # Look at the first element"
   ]
  },
  {
   "cell_type": "markdown",
   "metadata": {
    "collapsed": true,
    "scrolled": false,
    "slideshow": {
     "slide_type": "fragment"
    }
   },
   "source": [
    "Bag method can split the lines into words, concatenate the nested lists of words into a single list, count the frequencies of each word, then list the top 10 words by their count:"
   ]
  },
  {
   "cell_type": "code",
   "execution_count": 63,
   "metadata": {
    "scrolled": false,
    "slideshow": {
     "slide_type": "slide"
    }
   },
   "outputs": [],
   "source": [
    "wordcount = lines.str.split().flatten().frequencies().topk(10, lambda x: x[1])"
   ]
  },
  {
   "cell_type": "code",
   "execution_count": 64,
   "metadata": {},
   "outputs": [
    {
     "data": {
      "text/plain": [
       "[('tempora', 66),\n",
       " ('aliquam', 65),\n",
       " ('dolor', 60),\n",
       " ('dolore', 59),\n",
       " ('velit', 58),\n",
       " ('adipisci', 58),\n",
       " ('magnam', 58),\n",
       " ('eius', 57),\n",
       " ('sit', 57),\n",
       " ('est', 57)]"
      ]
     },
     "execution_count": 64,
     "metadata": {},
     "output_type": "execute_result"
    }
   ],
   "source": [
    "wordcount.compute()"
   ]
  },
  {
   "cell_type": "markdown",
   "metadata": {
    "slideshow": {
     "slide_type": "slide"
    }
   },
   "source": [
    "\n",
    "\n",
    "# Deploying the MapReduce code on Hadoop\n",
    "\n",
    "This Python must use the [Hadoop Streaming API](http://hadoop.apache.org/docs/stable/hadoop-streaming/HadoopStreaming.html) to pass data between our Map and Reduce code via Python’s sys.stdin (standard input) and sys.stdout (standard output). \n",
    "\n",
    "Download some books\n",
    "* [The Outline of Science, Vol. 1 (of 4) by J. Arthur Thomson](http://www.gutenberg.org/ebooks/20417.txt.utf-8)\n",
    "* [Ulysses by James Joyce](http://www.gutenberg.org/files/4300/4300-0.txt)\n",
    "* [The Art of War by 6th cent. B.C. Sunzi](http://www.gutenberg.org/ebooks/132.txt.utf-8)\n",
    "* [The Adventures of Sherlock Holmes by Sir Arthur Conan Doyle](http://www.gutenberg.org/ebooks/1661.txt.utf-8)\n",
    "* [The Devil’s Dictionary by Ambrose Bierce](http://www.gutenberg.org/ebooks/972.txt.utf-8)\n",
    "* [Encyclopaedia Britannica, 11th Edition, Volume 4, Part 3](http://www.gutenberg.org/ebooks/19699.txt.utf-8)\n",
    "\n"
   ]
  },
  {
   "cell_type": "markdown",
   "metadata": {
    "slideshow": {
     "slide_type": "slide"
    }
   },
   "source": [
    "# Map \n",
    "\n",
    "The following Python code read data from sys.stdin, split it into words and output a list of lines mapping words to their (intermediate) counts to sys.stdout. For every word it outputs <word> 1 tuples immediately. \n"
   ]
  },
  {
   "cell_type": "code",
   "execution_count": 65,
   "metadata": {
    "scrolled": false,
    "slideshow": {
     "slide_type": "fragment"
    }
   },
   "outputs": [
    {
     "name": "stdout",
     "output_type": "stream",
     "text": [
      "Writing hadoop/mapper.py\n"
     ]
    }
   ],
   "source": [
    "%%file hadoop/mapper.py\n",
    "#!/usr/bin/env python\n",
    "from __future__ import print_function\n",
    "import sys, string\n",
    "\n",
    "# input comes from standard input\n",
    "for line in sys.stdin:\n",
    "    # remove leading and trailing whitespace\n",
    "    line = line.strip()\n",
    "    # strip punctuation\n",
    "    line = line.translate(None,string.punctuation)    \n",
    "\n",
    "    # split the line into words\n",
    "    words = line.split()\n",
    "    # increase counters\n",
    "    for word in words:\n",
    "        # write the results to standard output;\n",
    "        # what we output here will be the input for the\n",
    "        # Reduce step, i.e. the input for reducer.py\n",
    "        #\n",
    "        # tab-delimited; the trivial word count is 1\n",
    "        print ('%s\\t%s' % (word, 1))"
   ]
  },
  {
   "cell_type": "code",
   "execution_count": 66,
   "metadata": {
    "scrolled": false,
    "slideshow": {
     "slide_type": "skip"
    }
   },
   "outputs": [],
   "source": [
    "!chmod +x hadoop/mapper.py "
   ]
  },
  {
   "cell_type": "markdown",
   "metadata": {
    "slideshow": {
     "slide_type": "slide"
    }
   },
   "source": [
    "# Reduce \n",
    "\n",
    "The following code reads the results of mapper.py and sum the occurrences of each word to a final count, and then output its results to sys.stdout.\n",
    "Remember that Hadoop sorts map output so it is easier to count words.\n"
   ]
  },
  {
   "cell_type": "code",
   "execution_count": 67,
   "metadata": {
    "scrolled": false,
    "slideshow": {
     "slide_type": "slide"
    }
   },
   "outputs": [
    {
     "name": "stdout",
     "output_type": "stream",
     "text": [
      "Writing hadoop/reducer.py\n"
     ]
    }
   ],
   "source": [
    "%%file hadoop/reducer.py\n",
    "#!/usr/bin/env python\n",
    "from __future__ import print_function\n",
    "from operator import itemgetter\n",
    "import sys\n",
    "\n",
    "\n",
    "current_word = None\n",
    "current_count = 0\n",
    "word = None\n",
    "\n",
    "# input lines\n",
    "for line in sys.stdin:\n",
    "    # remove leading and trailing whitespace\n",
    "    line = line.strip()\n",
    "    \n",
    "    # parse the input we got from mapper.py\n",
    "    word, count = line.split('\\t', 1)\n",
    "\n",
    "    # convert count (currently a string) to int\n",
    "    try:\n",
    "        count = int(count)\n",
    "    except ValueError:\n",
    "        # count was not a number, so silently\n",
    "        # ignore/discard this line\n",
    "        continue\n",
    "\n",
    "    # this IF-switch only works because Hadoop sorts map output\n",
    "    # by key (here: word) before it is passed to the reducer\n",
    "    if current_word == word:\n",
    "        current_count += count\n",
    "    else:\n",
    "        if current_word:\n",
    "            # write result to sys.stdout\n",
    "            print ('{}\\t{}'.format(current_word, current_count))\n",
    "        current_count = count\n",
    "        current_word = word\n",
    "\n",
    "# do not forget to output the last word if needed!\n",
    "if current_word == word:\n",
    "    print ('{}\\t{}'.format(current_word, current_count))"
   ]
  },
  {
   "cell_type": "code",
   "execution_count": 68,
   "metadata": {
    "scrolled": false,
    "slideshow": {
     "slide_type": "skip"
    }
   },
   "outputs": [],
   "source": [
    "!chmod +x hadoop/reducer.py"
   ]
  },
  {
   "cell_type": "markdown",
   "metadata": {
    "slideshow": {
     "slide_type": "slide"
    }
   },
   "source": [
    "# Test"
   ]
  },
  {
   "cell_type": "code",
   "execution_count": 69,
   "metadata": {
    "scrolled": false,
    "slideshow": {
     "slide_type": "slide"
    }
   },
   "outputs": [
    {
     "name": "stdout",
     "output_type": "stream",
     "text": [
      "Adipisci\t2\r\n",
      "Aliquam\t5\r\n",
      "Amet\t4\r\n",
      "Consectetur\t1\r\n",
      "Dolor\t2\r\n",
      "Dolorem\t1\r\n",
      "Eius\t2\r\n",
      "Etincidunt\t5\r\n",
      "Ipsum\t1\r\n",
      "Labore\t2\r\n",
      "Neque\t1\r\n",
      "Non\t3\r\n",
      "Porro\t1\r\n",
      "Quaerat\t2\r\n",
      "Quiquia\t3\r\n",
      "Quisquam\t5\r\n",
      "Sed\t1\r\n",
      "Ut\t3\r\n",
      "Velit\t3\r\n",
      "Voluptatem\t3\r\n",
      "adipisci\t7\r\n",
      "aliquam\t12\r\n",
      "amet\t7\r\n",
      "consectetur\t9\r\n",
      "dolor\t10\r\n",
      "dolore\t4\r\n",
      "dolorem\t8\r\n",
      "eius\t11\r\n",
      "est\t8\r\n",
      "etincidunt\t7\r\n",
      "ipsum\t10\r\n",
      "labore\t8\r\n",
      "magnam\t12\r\n",
      "modi\t4\r\n",
      "neque\t9\r\n",
      "non\t10\r\n",
      "numquam\t2\r\n",
      "porro\t7\r\n",
      "quaerat\t9\r\n",
      "quiquia\t9\r\n",
      "quisquam\t8\r\n",
      "sed\t8\r\n",
      "sit\t13\r\n",
      "tempora\t14\r\n",
      "ut\t13\r\n",
      "velit\t6\r\n",
      "voluptatem\t12\r\n"
     ]
    }
   ],
   "source": [
    "!cat hadoop/sample.txt | ./hadoop/mapper.py | sort | ./hadoop/reducer.py"
   ]
  },
  {
   "cell_type": "markdown",
   "metadata": {
    "slideshow": {
     "slide_type": "slide"
    }
   },
   "source": [
    "## Execution on Hadoop cluster\n",
    "\n",
    "* Copy books to HDFS\n",
    "* Run the WordCount MapReduce\n",
    "\n",
    "Makefile"
   ]
  },
  {
   "cell_type": "code",
   "execution_count": 75,
   "metadata": {
    "scrolled": false,
    "slideshow": {
     "slide_type": "fragment"
    }
   },
   "outputs": [
    {
     "name": "stdout",
     "output_type": "stream",
     "text": [
      "Overwriting hadoop/Makefile\n"
     ]
    }
   ],
   "source": [
    "%%file hadoop/Makefile\n",
    "HADOOP_TOOLS=/usr/local/Cellar/hadoop/2.8.1/libexec/share/hadoop/tools/lib/\n",
    "HDFS_DIR=/user/${USER}\n",
    "\n",
    "BOOKS = books/20417.txt \\\n",
    "books/4300-0.txt books/132.txt books/1661.txt books/972.txt books/19699.txt \n",
    "\n",
    "download:\n",
    "\tmkdir -p books\n",
    "\twget -q -O books/20417.txt http://www.gutenberg.org/ebooks/20417.txt.utf-8\n",
    "\twget -q -O books/4300-0.txt http://www.gutenberg.org/files/4300/4300-0.txt\n",
    "\twget -q -O books/132.txt http://www.gutenberg.org/ebooks/132.txt.utf-8\n",
    "\twget -q -O books/1661.txt http://www.gutenberg.org/ebooks/1661.txt.utf-8\n",
    "\twget -q -O books/972.txt http://www.gutenberg.org/ebooks/972.txt.utf-8\n",
    "\twget -q -O books/19699.txt http://www.gutenberg.org/ebooks/19699.txt.utf-8\n",
    "\n",
    "copy_to_hdfs: ${BOOKS}\n",
    "\thdfs dfs -put books books\n",
    "\t\n",
    "run_with_hadoop: \n",
    "\thadoop jar ${HADOOP_TOOLS}/hadoop-streaming-2.8.1.jar \\\n",
    "    -file  ${PWD}/mapper.py  -mapper  ${PWD}/mapper.py \\\n",
    "    -file  ${PWD}/reducer.py -reducer ${PWD}/reducer.py \\\n",
    "    -input ${HDFS_DIR}/books/* -output ${HDFS_DIR}/output-hadoop\n",
    "\n",
    "run_with_yarn: \n",
    "\tyarn jar ${HADOOP_TOOLS}/hadoop-streaming-2.8.1.jar \\\n",
    "\t-file  ${PWD}/mapper.py  -mapper  ${PWD}/mapper.py \\\n",
    "\t-file  ${PWD}/reducer.py -reducer ${PWD}/reducer.py \\\n",
    "\t-input ${HDFS_DIR}/books/* -output ${HDFS_DIR}/output-yarn\n"
   ]
  },
  {
   "cell_type": "markdown",
   "metadata": {
    "slideshow": {
     "slide_type": "slide"
    }
   },
   "source": [
    "### Run\n",
    "\n",
    "```bash\n",
    "make downloads\n",
    "make copy_to_hdfs\n",
    "make run_with_hadoop\n",
    "make run_with_yarn\n",
    "```\n"
   ]
  },
  {
   "cell_type": "markdown",
   "metadata": {
    "slideshow": {
     "slide_type": "slide"
    }
   },
   "source": [
    "# Dask Cluster computation with HDFS\n",
    "http://dask.pydata.org/en/latest/examples/bag-word-count-hdfs.html\n",
    "\n",
    "```shell\n",
    "$ dask-scheduler  # On the head node\n",
    "$ dask-worker SCHEDULER_IP:SCHEDULER_PORT --nprocs 4 --nthreads 1  # On the compute nodes\n",
    "```"
   ]
  },
  {
   "cell_type": "markdown",
   "metadata": {
    "collapsed": true,
    "slideshow": {
     "slide_type": "slide"
    }
   },
   "source": [
    "# Map Reduce with mrjob\n",
    "\n",
    "https://mrjob.readthedocs.io\n",
    "\n",
    "- `mrjob` is an open-source Python framework that wraps Hadoop Streaming. \n",
    "- `mrjob` allows the user to work with any objects as keys and mappers. \n",
    "- `mrjob` appears to be the most actively developed.\n",
    "- A job is defined by a class that inherits from MRJob and contains methods that define the *steps*.\n",
    "- A *step* consists of a mapper, a combiner, and a reducer. All of those are optional, though you must have at least one."
   ]
  },
  {
   "cell_type": "code",
   "execution_count": 37,
   "metadata": {
    "slideshow": {
     "slide_type": "slide"
    }
   },
   "outputs": [
    {
     "name": "stdout",
     "output_type": "stream",
     "text": [
      "Overwriting mr_word_count.py\n"
     ]
    }
   ],
   "source": [
    "%%file mr_word_count.py\n",
    "\n",
    "from mrjob.job import MRJob\n",
    "\n",
    "\n",
    "class MRWordFrequencyCount(MRJob):\n",
    "\n",
    "    def mapper(self, _, line):\n",
    "        yield \"chars\", len(line)\n",
    "        yield \"words\", len(line.split())\n",
    "        yield \"lines\", 1\n",
    "\n",
    "    def reducer(self, key, values):\n",
    "        yield key, sum(values)\n",
    "\n",
    "\n",
    "if __name__ == '__main__':\n",
    "    MRWordFrequencyCount.run()"
   ]
  },
  {
   "cell_type": "code",
   "execution_count": 38,
   "metadata": {
    "slideshow": {
     "slide_type": "slide"
    }
   },
   "outputs": [
    {
     "name": "stderr",
     "output_type": "stream",
     "text": [
      "No configs found; falling back on auto-configuration\n",
      "Creating temp directory /var/folders/56/lhgl67bx4qj6tvjx41b1wgdr0000gn/T/mr_word_count.navaro.20170925.203702.609185\n",
      "Running step 1 of 1...\n",
      "Streaming final output from /var/folders/56/lhgl67bx4qj6tvjx41b1wgdr0000gn/T/mr_word_count.navaro.20170925.203702.609185/output...\n"
     ]
    },
    {
     "name": "stdout",
     "output_type": "stream",
     "text": [
      "\"chars\"\t1496\n",
      "\"lines\"\t9\n",
      "\"words\"\t211\n"
     ]
    },
    {
     "name": "stderr",
     "output_type": "stream",
     "text": [
      "Removing temp directory /var/folders/56/lhgl67bx4qj6tvjx41b1wgdr0000gn/T/mr_word_count.navaro.20170925.203702.609185...\n"
     ]
    }
   ],
   "source": [
    "%run mr_word_count.py hadoop/sample.txt"
   ]
  },
  {
   "cell_type": "markdown",
   "metadata": {
    "slideshow": {
     "slide_type": "slide"
    }
   },
   "source": [
    "### Job that finds the most commonly used word in the input"
   ]
  },
  {
   "cell_type": "code",
   "execution_count": 39,
   "metadata": {
    "slideshow": {
     "slide_type": "fragment"
    }
   },
   "outputs": [
    {
     "name": "stdout",
     "output_type": "stream",
     "text": [
      "Writing mr_most_used_word.py\n"
     ]
    }
   ],
   "source": [
    "%%file mr_most_used_word.py\n",
    "from mrjob.job import MRJob\n",
    "from mrjob.step import MRStep\n",
    "import re\n",
    "\n",
    "WORD_RE = re.compile(r\"[\\w']+\")\n",
    "\n",
    "class MRMostUsedWord(MRJob):\n",
    "\n",
    "    def steps(self):\n",
    "        return [\n",
    "            MRStep(mapper=self.mapper_get_words,\n",
    "                   combiner=self.combiner_count_words,\n",
    "                   reducer=self.reducer_count_words),\n",
    "            MRStep(reducer=self.reducer_find_max_word)\n",
    "        ]\n",
    "\n",
    "    def mapper_get_words(self, _, line):\n",
    "        # yield each word in the line\n",
    "        for word in WORD_RE.findall(line):\n",
    "            yield (word.lower(), 1)\n",
    "\n",
    "    def combiner_count_words(self, word, counts):\n",
    "        # optimization: sum the words we've seen so far\n",
    "        yield (word, sum(counts))\n",
    "\n",
    "    def reducer_count_words(self, word, counts):\n",
    "        # send all (num_occurrences, word) pairs to the same reducer.\n",
    "        # num_occurrences is so we can easily use Python's max() function.\n",
    "        yield None, (sum(counts), word)\n",
    "\n",
    "    # discard the key; it is just None\n",
    "    def reducer_find_max_word(self, _, word_count_pairs):\n",
    "        # each item of word_count_pairs is (count, word),\n",
    "        # so yielding one results in key=counts, value=word\n",
    "        yield max(word_count_pairs)\n",
    "\n",
    "\n",
    "if __name__ == '__main__':\n",
    "    MRMostUsedWord.run()\n"
   ]
  },
  {
   "cell_type": "code",
   "execution_count": 40,
   "metadata": {
    "slideshow": {
     "slide_type": "slide"
    }
   },
   "outputs": [
    {
     "name": "stderr",
     "output_type": "stream",
     "text": [
      "No configs found; falling back on auto-configuration\n",
      "No configs found; falling back on auto-configuration\n",
      "Creating temp directory /var/folders/56/lhgl67bx4qj6tvjx41b1wgdr0000gn/T/mr_most_used_word.navaro.20170925.203732.925762\n",
      "Creating temp directory /var/folders/56/lhgl67bx4qj6tvjx41b1wgdr0000gn/T/mr_most_used_word.navaro.20170925.203732.925762\n",
      "Running step 1 of 2...\n",
      "Running step 1 of 2...\n",
      "Running step 2 of 2...\n",
      "Running step 2 of 2...\n",
      "Streaming final output from /var/folders/56/lhgl67bx4qj6tvjx41b1wgdr0000gn/T/mr_most_used_word.navaro.20170925.203732.925762/output...\n",
      "Streaming final output from /var/folders/56/lhgl67bx4qj6tvjx41b1wgdr0000gn/T/mr_most_used_word.navaro.20170925.203732.925762/output...\n"
     ]
    },
    {
     "name": "stdout",
     "output_type": "stream",
     "text": [
      "14\t\"porro\"\n"
     ]
    },
    {
     "name": "stderr",
     "output_type": "stream",
     "text": [
      "Removing temp directory /var/folders/56/lhgl67bx4qj6tvjx41b1wgdr0000gn/T/mr_most_used_word.navaro.20170925.203732.925762...\n",
      "Removing temp directory /var/folders/56/lhgl67bx4qj6tvjx41b1wgdr0000gn/T/mr_most_used_word.navaro.20170925.203732.925762...\n"
     ]
    }
   ],
   "source": [
    "%run mr_most_used_word.py hadoop/sample.txt"
   ]
  },
  {
   "cell_type": "code",
   "execution_count": 41,
   "metadata": {
    "slideshow": {
     "slide_type": "slide"
    }
   },
   "outputs": [
    {
     "ename": "AnalysisException",
     "evalue": "'Path does not exist: hdfs://localhost:9000/user/navaro/hadoop/sample.txt;'",
     "output_type": "error",
     "traceback": [
      "\u001b[0;31m---------------------------------------------------------------------------\u001b[0m",
      "\u001b[0;31mPy4JJavaError\u001b[0m                             Traceback (most recent call last)",
      "\u001b[0;32m/usr/local/opt/apache-spark/libexec/python/pyspark/sql/utils.py\u001b[0m in \u001b[0;36mdeco\u001b[0;34m(*a, **kw)\u001b[0m\n\u001b[1;32m     62\u001b[0m         \u001b[0;32mtry\u001b[0m\u001b[0;34m:\u001b[0m\u001b[0;34m\u001b[0m\u001b[0m\n\u001b[0;32m---> 63\u001b[0;31m             \u001b[0;32mreturn\u001b[0m \u001b[0mf\u001b[0m\u001b[0;34m(\u001b[0m\u001b[0;34m*\u001b[0m\u001b[0ma\u001b[0m\u001b[0;34m,\u001b[0m \u001b[0;34m**\u001b[0m\u001b[0mkw\u001b[0m\u001b[0;34m)\u001b[0m\u001b[0;34m\u001b[0m\u001b[0m\n\u001b[0m\u001b[1;32m     64\u001b[0m         \u001b[0;32mexcept\u001b[0m \u001b[0mpy4j\u001b[0m\u001b[0;34m.\u001b[0m\u001b[0mprotocol\u001b[0m\u001b[0;34m.\u001b[0m\u001b[0mPy4JJavaError\u001b[0m \u001b[0;32mas\u001b[0m \u001b[0me\u001b[0m\u001b[0;34m:\u001b[0m\u001b[0;34m\u001b[0m\u001b[0m\n",
      "\u001b[0;32m/usr/local/opt/apache-spark/libexec/python/lib/py4j-0.10.4-src.zip/py4j/protocol.py\u001b[0m in \u001b[0;36mget_return_value\u001b[0;34m(answer, gateway_client, target_id, name)\u001b[0m\n\u001b[1;32m    318\u001b[0m                     \u001b[0;34m\"An error occurred while calling {0}{1}{2}.\\n\"\u001b[0m\u001b[0;34m.\u001b[0m\u001b[0;34m\u001b[0m\u001b[0m\n\u001b[0;32m--> 319\u001b[0;31m                     format(target_id, \".\", name), value)\n\u001b[0m\u001b[1;32m    320\u001b[0m             \u001b[0;32melse\u001b[0m\u001b[0;34m:\u001b[0m\u001b[0;34m\u001b[0m\u001b[0m\n",
      "\u001b[0;31mPy4JJavaError\u001b[0m: An error occurred while calling o25.text.\n: org.apache.spark.sql.AnalysisException: Path does not exist: hdfs://localhost:9000/user/navaro/hadoop/sample.txt;\n\tat org.apache.spark.sql.execution.datasources.DataSource$$anonfun$14.apply(DataSource.scala:360)\n\tat org.apache.spark.sql.execution.datasources.DataSource$$anonfun$14.apply(DataSource.scala:348)\n\tat scala.collection.TraversableLike$$anonfun$flatMap$1.apply(TraversableLike.scala:241)\n\tat scala.collection.TraversableLike$$anonfun$flatMap$1.apply(TraversableLike.scala:241)\n\tat scala.collection.immutable.List.foreach(List.scala:381)\n\tat scala.collection.TraversableLike$class.flatMap(TraversableLike.scala:241)\n\tat scala.collection.immutable.List.flatMap(List.scala:344)\n\tat org.apache.spark.sql.execution.datasources.DataSource.resolveRelation(DataSource.scala:348)\n\tat org.apache.spark.sql.DataFrameReader.load(DataFrameReader.scala:178)\n\tat org.apache.spark.sql.DataFrameReader.text(DataFrameReader.scala:623)\n\tat sun.reflect.NativeMethodAccessorImpl.invoke0(Native Method)\n\tat sun.reflect.NativeMethodAccessorImpl.invoke(NativeMethodAccessorImpl.java:62)\n\tat sun.reflect.DelegatingMethodAccessorImpl.invoke(DelegatingMethodAccessorImpl.java:43)\n\tat java.lang.reflect.Method.invoke(Method.java:498)\n\tat py4j.reflection.MethodInvoker.invoke(MethodInvoker.java:244)\n\tat py4j.reflection.ReflectionEngine.invoke(ReflectionEngine.java:357)\n\tat py4j.Gateway.invoke(Gateway.java:280)\n\tat py4j.commands.AbstractCommand.invokeMethod(AbstractCommand.java:132)\n\tat py4j.commands.CallCommand.execute(CallCommand.java:79)\n\tat py4j.GatewayConnection.run(GatewayConnection.java:214)\n\tat java.lang.Thread.run(Thread.java:745)\n",
      "\nDuring handling of the above exception, another exception occurred:\n",
      "\u001b[0;31mAnalysisException\u001b[0m                         Traceback (most recent call last)",
      "\u001b[0;32m<ipython-input-41-ac952a93e417>\u001b[0m in \u001b[0;36m<module>\u001b[0;34m()\u001b[0m\n\u001b[1;32m     13\u001b[0m \u001b[0mfile\u001b[0m \u001b[0;34m=\u001b[0m \u001b[0;34m\"hadoop/sample.txt\"\u001b[0m\u001b[0;34m\u001b[0m\u001b[0m\n\u001b[1;32m     14\u001b[0m \u001b[0;34m\u001b[0m\u001b[0m\n\u001b[0;32m---> 15\u001b[0;31m \u001b[0mlines\u001b[0m \u001b[0;34m=\u001b[0m \u001b[0mspark\u001b[0m\u001b[0;34m.\u001b[0m\u001b[0mread\u001b[0m\u001b[0;34m.\u001b[0m\u001b[0mtext\u001b[0m\u001b[0;34m(\u001b[0m\u001b[0mfile\u001b[0m\u001b[0;34m)\u001b[0m\u001b[0;34m.\u001b[0m\u001b[0mrdd\u001b[0m\u001b[0;34m.\u001b[0m\u001b[0mmap\u001b[0m\u001b[0;34m(\u001b[0m\u001b[0;32mlambda\u001b[0m \u001b[0mr\u001b[0m\u001b[0;34m:\u001b[0m \u001b[0mr\u001b[0m\u001b[0;34m[\u001b[0m\u001b[0;36m0\u001b[0m\u001b[0;34m]\u001b[0m\u001b[0;34m)\u001b[0m\u001b[0;34m\u001b[0m\u001b[0m\n\u001b[0m\u001b[1;32m     16\u001b[0m \u001b[0mcounts\u001b[0m \u001b[0;34m=\u001b[0m \u001b[0mlines\u001b[0m\u001b[0;34m.\u001b[0m\u001b[0mflatMap\u001b[0m\u001b[0;34m(\u001b[0m\u001b[0;32mlambda\u001b[0m \u001b[0mx\u001b[0m\u001b[0;34m:\u001b[0m \u001b[0mx\u001b[0m\u001b[0;34m.\u001b[0m\u001b[0msplit\u001b[0m\u001b[0;34m(\u001b[0m\u001b[0;34m' '\u001b[0m\u001b[0;34m)\u001b[0m\u001b[0;34m)\u001b[0m                   \u001b[0;34m.\u001b[0m\u001b[0mmap\u001b[0m\u001b[0;34m(\u001b[0m\u001b[0;32mlambda\u001b[0m \u001b[0mx\u001b[0m\u001b[0;34m:\u001b[0m \u001b[0;34m(\u001b[0m\u001b[0mx\u001b[0m\u001b[0;34m,\u001b[0m \u001b[0;36m1\u001b[0m\u001b[0;34m)\u001b[0m\u001b[0;34m)\u001b[0m                   \u001b[0;34m.\u001b[0m\u001b[0mreduceByKey\u001b[0m\u001b[0;34m(\u001b[0m\u001b[0madd\u001b[0m\u001b[0;34m)\u001b[0m\u001b[0;34m\u001b[0m\u001b[0m\n\u001b[1;32m     17\u001b[0m \u001b[0moutput\u001b[0m \u001b[0;34m=\u001b[0m \u001b[0mcounts\u001b[0m\u001b[0;34m.\u001b[0m\u001b[0mcollect\u001b[0m\u001b[0;34m(\u001b[0m\u001b[0;34m)\u001b[0m\u001b[0;34m\u001b[0m\u001b[0m\n",
      "\u001b[0;32m/usr/local/opt/apache-spark/libexec/python/pyspark/sql/readwriter.py\u001b[0m in \u001b[0;36mtext\u001b[0;34m(self, paths)\u001b[0m\n\u001b[1;32m    309\u001b[0m         \u001b[0;32mif\u001b[0m \u001b[0misinstance\u001b[0m\u001b[0;34m(\u001b[0m\u001b[0mpaths\u001b[0m\u001b[0;34m,\u001b[0m \u001b[0mbasestring\u001b[0m\u001b[0;34m)\u001b[0m\u001b[0;34m:\u001b[0m\u001b[0;34m\u001b[0m\u001b[0m\n\u001b[1;32m    310\u001b[0m             \u001b[0mpaths\u001b[0m \u001b[0;34m=\u001b[0m \u001b[0;34m[\u001b[0m\u001b[0mpaths\u001b[0m\u001b[0;34m]\u001b[0m\u001b[0;34m\u001b[0m\u001b[0m\n\u001b[0;32m--> 311\u001b[0;31m         \u001b[0;32mreturn\u001b[0m \u001b[0mself\u001b[0m\u001b[0;34m.\u001b[0m\u001b[0m_df\u001b[0m\u001b[0;34m(\u001b[0m\u001b[0mself\u001b[0m\u001b[0;34m.\u001b[0m\u001b[0m_jreader\u001b[0m\u001b[0;34m.\u001b[0m\u001b[0mtext\u001b[0m\u001b[0;34m(\u001b[0m\u001b[0mself\u001b[0m\u001b[0;34m.\u001b[0m\u001b[0m_spark\u001b[0m\u001b[0;34m.\u001b[0m\u001b[0m_sc\u001b[0m\u001b[0;34m.\u001b[0m\u001b[0m_jvm\u001b[0m\u001b[0;34m.\u001b[0m\u001b[0mPythonUtils\u001b[0m\u001b[0;34m.\u001b[0m\u001b[0mtoSeq\u001b[0m\u001b[0;34m(\u001b[0m\u001b[0mpaths\u001b[0m\u001b[0;34m)\u001b[0m\u001b[0;34m)\u001b[0m\u001b[0;34m)\u001b[0m\u001b[0;34m\u001b[0m\u001b[0m\n\u001b[0m\u001b[1;32m    312\u001b[0m \u001b[0;34m\u001b[0m\u001b[0m\n\u001b[1;32m    313\u001b[0m     \u001b[0;34m@\u001b[0m\u001b[0msince\u001b[0m\u001b[0;34m(\u001b[0m\u001b[0;36m2.0\u001b[0m\u001b[0;34m)\u001b[0m\u001b[0;34m\u001b[0m\u001b[0m\n",
      "\u001b[0;32m/usr/local/opt/apache-spark/libexec/python/lib/py4j-0.10.4-src.zip/py4j/java_gateway.py\u001b[0m in \u001b[0;36m__call__\u001b[0;34m(self, *args)\u001b[0m\n\u001b[1;32m   1131\u001b[0m         \u001b[0manswer\u001b[0m \u001b[0;34m=\u001b[0m \u001b[0mself\u001b[0m\u001b[0;34m.\u001b[0m\u001b[0mgateway_client\u001b[0m\u001b[0;34m.\u001b[0m\u001b[0msend_command\u001b[0m\u001b[0;34m(\u001b[0m\u001b[0mcommand\u001b[0m\u001b[0;34m)\u001b[0m\u001b[0;34m\u001b[0m\u001b[0m\n\u001b[1;32m   1132\u001b[0m         return_value = get_return_value(\n\u001b[0;32m-> 1133\u001b[0;31m             answer, self.gateway_client, self.target_id, self.name)\n\u001b[0m\u001b[1;32m   1134\u001b[0m \u001b[0;34m\u001b[0m\u001b[0m\n\u001b[1;32m   1135\u001b[0m         \u001b[0;32mfor\u001b[0m \u001b[0mtemp_arg\u001b[0m \u001b[0;32min\u001b[0m \u001b[0mtemp_args\u001b[0m\u001b[0;34m:\u001b[0m\u001b[0;34m\u001b[0m\u001b[0m\n",
      "\u001b[0;32m/usr/local/opt/apache-spark/libexec/python/pyspark/sql/utils.py\u001b[0m in \u001b[0;36mdeco\u001b[0;34m(*a, **kw)\u001b[0m\n\u001b[1;32m     67\u001b[0m                                              e.java_exception.getStackTrace()))\n\u001b[1;32m     68\u001b[0m             \u001b[0;32mif\u001b[0m \u001b[0ms\u001b[0m\u001b[0;34m.\u001b[0m\u001b[0mstartswith\u001b[0m\u001b[0;34m(\u001b[0m\u001b[0;34m'org.apache.spark.sql.AnalysisException: '\u001b[0m\u001b[0;34m)\u001b[0m\u001b[0;34m:\u001b[0m\u001b[0;34m\u001b[0m\u001b[0m\n\u001b[0;32m---> 69\u001b[0;31m                 \u001b[0;32mraise\u001b[0m \u001b[0mAnalysisException\u001b[0m\u001b[0;34m(\u001b[0m\u001b[0ms\u001b[0m\u001b[0;34m.\u001b[0m\u001b[0msplit\u001b[0m\u001b[0;34m(\u001b[0m\u001b[0;34m': '\u001b[0m\u001b[0;34m,\u001b[0m \u001b[0;36m1\u001b[0m\u001b[0;34m)\u001b[0m\u001b[0;34m[\u001b[0m\u001b[0;36m1\u001b[0m\u001b[0;34m]\u001b[0m\u001b[0;34m,\u001b[0m \u001b[0mstackTrace\u001b[0m\u001b[0;34m)\u001b[0m\u001b[0;34m\u001b[0m\u001b[0m\n\u001b[0m\u001b[1;32m     70\u001b[0m             \u001b[0;32mif\u001b[0m \u001b[0ms\u001b[0m\u001b[0;34m.\u001b[0m\u001b[0mstartswith\u001b[0m\u001b[0;34m(\u001b[0m\u001b[0;34m'org.apache.spark.sql.catalyst.analysis'\u001b[0m\u001b[0;34m)\u001b[0m\u001b[0;34m:\u001b[0m\u001b[0;34m\u001b[0m\u001b[0m\n\u001b[1;32m     71\u001b[0m                 \u001b[0;32mraise\u001b[0m \u001b[0mAnalysisException\u001b[0m\u001b[0;34m(\u001b[0m\u001b[0ms\u001b[0m\u001b[0;34m.\u001b[0m\u001b[0msplit\u001b[0m\u001b[0;34m(\u001b[0m\u001b[0;34m': '\u001b[0m\u001b[0;34m,\u001b[0m \u001b[0;36m1\u001b[0m\u001b[0;34m)\u001b[0m\u001b[0;34m[\u001b[0m\u001b[0;36m1\u001b[0m\u001b[0;34m]\u001b[0m\u001b[0;34m,\u001b[0m \u001b[0mstackTrace\u001b[0m\u001b[0;34m)\u001b[0m\u001b[0;34m\u001b[0m\u001b[0m\n",
      "\u001b[0;31mAnalysisException\u001b[0m: 'Path does not exist: hdfs://localhost:9000/user/navaro/hadoop/sample.txt;'"
     ]
    }
   ],
   "source": [
    "#%%file spark_wordcount.py\n",
    "\n",
    "import findspark\n",
    "findspark.init()\n",
    "\n",
    "import sys\n",
    "from operator import add\n",
    "\n",
    "from pyspark.sql import SparkSession\n",
    "\n",
    "spark = SparkSession\\\n",
    "        .builder\\\n",
    "        .appName(\"PythonWordCount\")\\\n",
    "        .getOrCreate()\n",
    "\n",
    "file = \"hadoop/sample.txt\"\n",
    "\n",
    "lines = spark.read.text(file).rdd.map(lambda r: r[0])\n",
    "counts = lines.flatMap(lambda x: x.split(' ')) \\\n",
    "                  .map(lambda x: (x, 1)) \\\n",
    "                  .reduceByKey(add)\n",
    "output = counts.collect()\n",
    "for (word, count) in output:\n",
    "    print(\"%s: %i\" % (word, count))\n",
    "\n",
    "spark.stop()"
   ]
  },
  {
   "cell_type": "code",
   "execution_count": null,
   "metadata": {},
   "outputs": [],
   "source": []
  }
 ],
 "metadata": {
  "celltoolbar": "Slideshow",
  "kernelspec": {
   "display_name": "Python 3",
   "language": "python",
   "name": "python3"
  },
  "language_info": {
   "codemirror_mode": {
    "name": "ipython",
    "version": 3
   },
   "file_extension": ".py",
   "mimetype": "text/x-python",
   "name": "python",
   "nbconvert_exporter": "python",
   "pygments_lexer": "ipython3",
   "version": "3.6.2"
  }
 },
 "nbformat": 4,
 "nbformat_minor": 2
}
