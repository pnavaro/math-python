{
 "cells": [
  {
   "cell_type": "markdown",
   "metadata": {
    "slideshow": {
     "slide_type": "skip"
    }
   },
   "source": [
    "Pierre Navaro - [Institut de Recherche Mathématique de Rennes](https://irmar.univ-rennes1.fr) - [CNRS](http://www.cnrs.fr/)"
   ]
  },
  {
   "cell_type": "markdown",
   "metadata": {
    "slideshow": {
     "slide_type": "skip"
    }
   },
   "source": [
    "# References\n",
    "- [Outils pour le Big Data - Pierre Nerzic 🇫🇷](https://perso.univ-rennes1.fr/pierre.nerzic/Hadoop/)\n",
    "- [Writing an Hadoop MapReduce Program in Python - Michael G. Noll](http://www.michael-noll.com/tutorials/writing-an-hadoop-mapreduce-program-in-python/)\n",
    "- [Hadoop MapReduce Framework Tutorials with Examples - Matthew Rathbone](https://blog.matthewrathbone.com/2013/01/05/a-quick-guide-to-hadoop-map-reduce-frameworks.html)\n",
    "- [Python course: Lambda, filter, reduce and map](http://www.python-course.eu/lambda.php)\n",
    "- [Mastering Python for Data Science - Samir Madhavan](https://www.packtpub.com/big-data-and-business-intelligence/mastering-python-data-science)\n",
    "* [Implementing MapReduce with multiprocessing](https://pymotw.com/2/multiprocessing/mapreduce.html)\n",
    "* [MPI4PY examples](https://github.com/jbornschein/mpi4py-examples)\n",
    "* [sharedmem package](http://rainwoodman.github.io/sharedmem/)\n",
    "- [A Guide to Python Frameworks for Hadoop](http://blog.cloudera.com/blog/2013/01/a-guide-to-python-frameworks-for-hadoop/)"
   ]
  },
  {
   "cell_type": "markdown",
   "metadata": {
    "slideshow": {
     "slide_type": "slide"
    }
   },
   "source": [
    "# Data processing through MapReduce\n",
    "\n",
    "![MapReduce](http://mm-tom.s3.amazonaws.com/blog/MapReduce.png)"
   ]
  },
  {
   "cell_type": "markdown",
   "metadata": {
    "slideshow": {
     "slide_type": "slide"
    }
   },
   "source": [
    "# Python Map Reduce\n",
    "\n",
    "## Exercise 1\n",
    "Compute a vector norm $|v| = \\sqrt(\\sum_i v_i^2)$ with this process:\n",
    "- use `map` function\n",
    "- use `reduce` funtion from `functools`"
   ]
  },
  {
   "cell_type": "code",
   "execution_count": 4,
   "metadata": {
    "collapsed": true,
    "scrolled": false,
    "slideshow": {
     "slide_type": "fragment"
    }
   },
   "outputs": [],
   "source": [
    "V = [4,1,2,3]"
   ]
  },
  {
   "cell_type": "markdown",
   "metadata": {
    "scrolled": false,
    "slideshow": {
     "slide_type": "fragment"
    }
   },
   "source": [
    "<button data-toggle=\"collapse\" data-target=\"#sol1\" class='btn btn-primary'>Solution</button>\n",
    "<div id=\"sol1\" class=\"collapse\">\n",
    "```python\n",
    "from operator import add\n",
    "from functools import reduce\n",
    "from math import sqrt\n",
    "\n",
    "f = lambda x: x*x   # Function applied\n",
    "L = map(f, V)       # map return a iterator\n",
    "s = reduce(add,L)   # reduce compute the sum\n",
    "sqrt(s) == sqrt(sum(map(f,V)))\n",
    "```"
   ]
  },
  {
   "cell_type": "markdown",
   "metadata": {
    "slideshow": {
     "slide_type": "fragment"
    }
   },
   "source": [
    "- The `map(func, seq)` Python function applies the function func to all the elements of the sequence seq. It returns a new list with the elements changed by func"
   ]
  },
  {
   "cell_type": "markdown",
   "metadata": {
    "slideshow": {
     "slide_type": "fragment"
    }
   },
   "source": [
    "- The function `reduce(func, seq)` continually applies the function func() to the sequence seq and return a single value. For example, reduce(f, [1, 2, 3, 4, 5]) calculates f(f(f(f(1,2),3),4),5)."
   ]
  },
  {
   "cell_type": "markdown",
   "metadata": {
    "slideshow": {
     "slide_type": "slide"
    }
   },
   "source": [
    "# Wordcount Example\n",
    "\n",
    "[WordCount](https://hadoop.apache.org/docs/current/hadoop-mapreduce-client/hadoop-mapreduce-client-core/MapReduceTutorial.html#Example:_WordCount_v1.0) is a simple application that counts the number of occurrences of each word in a given input set.\n",
    "\n",
    "Each mapper takes a line of text files as input and breaks it into words. It then emits a key/value pair of the word and 1 (separated by a tab). Each reducer sums the counts for each word and emits a single key/value with the word and sum."
   ]
  },
  {
   "cell_type": "code",
   "execution_count": 2,
   "metadata": {
    "collapsed": true,
    "scrolled": false,
    "slideshow": {
     "slide_type": "skip"
    }
   },
   "outputs": [],
   "source": [
    "%mkdir -p hadoop"
   ]
  },
  {
   "cell_type": "code",
   "execution_count": 5,
   "metadata": {
    "scrolled": false,
    "slideshow": {
     "slide_type": "fragment"
    }
   },
   "outputs": [
    {
     "name": "stdout",
     "output_type": "stream",
     "text": [
      "Etincidunt quiquia porro aliquam aliquam consectetur labore. Aliquam est tempora sed modi neque consectetur. Adipisci adipisci tempora amet dolorem tempora tempora amet. Modi eius magnam quaerat. Porro adipisci adipisci quiquia tempora. Adipisci eius amet magnam. Quaerat quaerat non porro tempora aliquam eius eius. Dolore sit porro quaerat sit magnam. Neque tempora eius est dolore non. Sed non labore ut.\n",
      "\n",
      "Tempora ipsum adipisci consectetur dolore. Amet consectetur dolor non modi sed ut aliquam. \n"
     ]
    }
   ],
   "source": [
    "from lorem import text\n",
    "t = text()\n",
    "\n",
    "with open(\"hadoop/sample.txt\", \"w\") as sample:\n",
    "    sample.write(t)\n",
    "\n",
    "print(t[:500]) # print only 500 first characters"
   ]
  },
  {
   "cell_type": "markdown",
   "metadata": {
    "slideshow": {
     "slide_type": "slide"
    }
   },
   "source": [
    "## Exercise 2\n",
    "\n",
    "Write a python program that counts the number of words in that file.\n"
   ]
  },
  {
   "cell_type": "markdown",
   "metadata": {
    "scrolled": false,
    "slideshow": {
     "slide_type": "fragment"
    }
   },
   "source": [
    "<button data-toggle=\"collapse\" data-target=\"#sol2\" class='btn btn-primary'>Solution</button>\n",
    "<div id=\"sol2\" class=\"collapse\">\n",
    "```python\n",
    "import re\n",
    "splitter = re.compile('\\w+')\n",
    "with open('hadoop/sample.txt', 'r') as f:\n",
    "    data = f.read()\n",
    "result = len(splitter.findall(data))\n",
    "result\n",
    "```"
   ]
  },
  {
   "cell_type": "markdown",
   "metadata": {
    "slideshow": {
     "slide_type": "slide"
    }
   },
   "source": [
    "- This  approach load all the data into memory. A very large file might fill up memory. \n",
    "- Counting words in each line is totally independent of the others. \n",
    "- We can evaluate each piece of data and immediately free up the memory space. \n",
    "- Data chunks would be small enough not to stress memory, but big enough for efficient use of the CPU."
   ]
  },
  {
   "cell_type": "markdown",
   "metadata": {
    "slideshow": {
     "slide_type": "slide"
    }
   },
   "source": [
    "## Read file and return a key/value pairs\n",
    "\n",
    "### Exercise 3\n",
    "\n",
    "Write a Python function with file name as input that returns a sorted sequence of (word, 1) values."
   ]
  },
  {
   "cell_type": "markdown",
   "metadata": {
    "collapsed": true,
    "scrolled": false,
    "slideshow": {
     "slide_type": "fragment"
    }
   },
   "source": [
    "<button data-toggle=\"collapse\" data-target=\"#words\" class='btn btn-primary'>Solution</button>\n",
    "<div id=\"words\" class=\"collapse\">\n",
    "```python\n",
    "import string\n",
    "\n",
    "def words(file):\n",
    "    \"\"\"\n",
    "    Read a text file and return a sorted list of (word, 1) values.\n",
    "    \"\"\"\n",
    "    translator = str.maketrans('', '', string.punctuation)\n",
    "    output = []\n",
    "    with open(file) as f:\n",
    "        for line in f:\n",
    "            line = line.strip()\n",
    "            line = line.translate(translator)\n",
    "            for word in line.split():\n",
    "                word = word.lower()\n",
    "                output.append((word, 1))\n",
    "    output.sort()\n",
    "    return output\n",
    "```"
   ]
  },
  {
   "cell_type": "code",
   "execution_count": 9,
   "metadata": {
    "scrolled": false,
    "slideshow": {
     "slide_type": "slide"
    }
   },
   "outputs": [
    {
     "data": {
      "text/plain": [
       "[('adipisci', 1),\n",
       " ('aliquam', 1),\n",
       " ('amet', 1),\n",
       " ('consectetur', 1),\n",
       " ('dolor', 1),\n",
       " ('dolore', 1),\n",
       " ('dolorem', 1),\n",
       " ('eius', 1),\n",
       " ('est', 1),\n",
       " ('ipsum', 1),\n",
       " ('labore', 1),\n",
       " ('magnam', 1),\n",
       " ('neque', 1),\n",
       " ('non', 1),\n",
       " ('numquam', 1),\n",
       " ('porro', 1),\n",
       " ('quaerat', 1),\n",
       " ('quisquam', 1),\n",
       " ('sed', 1),\n",
       " ('tempora', 1),\n",
       " ('ut', 1),\n",
       " ('voluptatem', 1)]"
      ]
     },
     "execution_count": 9,
     "metadata": {},
     "output_type": "execute_result"
    }
   ],
   "source": [
    "words('hadoop/sample.txt')[::10]"
   ]
  },
  {
   "cell_type": "markdown",
   "metadata": {
    "slideshow": {
     "slide_type": "slide"
    }
   },
   "source": [
    "# Reduce \n",
    "\n",
    "Write the funtion to read the results of words and sum the occurrences of each word to a final count, and then output the results\n",
    "as a list of (word, occurences). Two steps:\n",
    "- Group (word, 1) pairs into a dictionary as\n",
    "```python\n",
    "{word1 : [1, 1], word2 : [1, 1, 1], word3 : [1] }\n",
    "```\n",
    "- Reduce operation prints out the word and its number of occurences."
   ]
  },
  {
   "cell_type": "markdown",
   "metadata": {
    "collapsed": true,
    "scrolled": false,
    "slideshow": {
     "slide_type": "fragment"
    }
   },
   "source": [
    "<button data-toggle=\"collapse\" data-target=\"#reduce\" class='btn btn-primary'>Solution</button>\n",
    "<div id=\"reduce\" class=\"collapse\">\n",
    "```python\n",
    "def reduce(words):\n",
    "    \"\"\" Read the sorted list from map and print out every word with \n",
    "    its number of occurences\"\"\"\n",
    "    d = {}\n",
    "    for w in words:\n",
    "        try:\n",
    "            d[w[0]] +=1\n",
    "        except KeyError:\n",
    "            d[w[0]] = 1\n",
    "    return d\n",
    "```"
   ]
  },
  {
   "cell_type": "code",
   "execution_count": 36,
   "metadata": {
    "scrolled": false,
    "slideshow": {
     "slide_type": "subslide"
    }
   },
   "outputs": [
    {
     "data": {
      "text/plain": [
       "[('modi', 14),\n",
       " ('voluptatem', 12),\n",
       " ('quiquia', 12),\n",
       " ('neque', 12),\n",
       " ('velit', 11),\n",
       " ('tempora', 11),\n",
       " ('numquam', 11),\n",
       " ('ut', 10),\n",
       " ('quisquam', 10),\n",
       " ('consectetur', 10)]"
      ]
     },
     "execution_count": 36,
     "metadata": {},
     "output_type": "execute_result"
    }
   ],
   "source": [
    "import operator\n",
    "res = reduce(words('hadoop/sample.txt'))\n",
    "res = sorted(res.items(), key=operator.itemgetter(1))\n",
    "res.reverse()\n",
    "res[:10]"
   ]
  },
  {
   "cell_type": "markdown",
   "metadata": {
    "slideshow": {
     "slide_type": "slide"
    }
   },
   "source": [
    "# Multiprocessing version\n",
    "\n",
    "The multiprocessing Pool class provides a map function. Partition and distribute input to a user-specified function in pool of worker processes is automatic.\n",
    "\n",
    "## Example\n"
   ]
  },
  {
   "cell_type": "code",
   "execution_count": 37,
   "metadata": {
    "scrolled": false,
    "slideshow": {
     "slide_type": "fragment"
    }
   },
   "outputs": [
    {
     "name": "stdout",
     "output_type": "stream",
     "text": [
      "[8, 7, 8, 6, 7, 3, 5, 8, 3, 5, 10, 8, 7, 8, 4, 6, 3, 4, 6, 11, 7, 6, 5, 11, 6, 6, 8]\n"
     ]
    }
   ],
   "source": [
    "from multiprocessing import Pool\n",
    "from lorem import paragraph\n",
    "\n",
    "words = paragraph().split() # Create a list of words\n",
    "if __name__ == '__main__': # Executed only on main process.\n",
    "    with Pool(4) as p:\n",
    "        print(p.map(len, words)) # Print words length\n",
    "    "
   ]
  },
  {
   "cell_type": "markdown",
   "metadata": {
    "slideshow": {
     "slide_type": "subslide"
    }
   },
   "source": [
    "- Pool() launches one slave process per physical processor on the computer. \n",
    "- pool.map(...) divides the input list into chunks and puts the tasks (function + chunk) on a queue.\n",
    "- Each slave process takes a task (function + a chunk of data), runs map(function, chunk), and puts the result on a result list.\n",
    "- pool.map on the master process waits until all tasks are handled and returns the concatenation of the result lists."
   ]
  },
  {
   "cell_type": "markdown",
   "metadata": {
    "slideshow": {
     "slide_type": "slide"
    }
   },
   "source": [
    "# Map\n",
    "\n",
    "Same function words"
   ]
  },
  {
   "cell_type": "code",
   "execution_count": 38,
   "metadata": {
    "collapsed": true,
    "scrolled": false
   },
   "outputs": [],
   "source": [
    "import multiprocessing as mp\n",
    "def words_mp(file):\n",
    "    \"\"\"\n",
    "    Read a text file and return a sorted list of (word, 1) values.\n",
    "    \"\"\"\n",
    "    print(mp.current_process().name, 'reading', file)\n",
    "    translator = str.maketrans('', '', string.punctuation)\n",
    "    output = []\n",
    "    try:\n",
    "        with open(file) as f:\n",
    "            for line in f:   \n",
    "                line = line.strip()\n",
    "                line = line.translate(translator)\n",
    "                for word in line.split():\n",
    "                    if word.isalpha():\n",
    "                        word = word.lower()\n",
    "                        output.append((word, 1))\n",
    "                        \n",
    "    except UnicodeDecodeError as err:\n",
    "        print(\"Some error occurred decoding file %s: %s\" % (file, err))\n",
    "                \n",
    "    output.sort()\n",
    "    return output"
   ]
  },
  {
   "cell_type": "markdown",
   "metadata": {
    "slideshow": {
     "slide_type": "slide"
    }
   },
   "source": [
    "## Partition\n",
    "\n",
    "Before **reduce** operation, data must be aligned in a container. Create a function named `partition` that stores the key/value pairs from `words` into a [defaultdict](https://docs.python.org/3.6/library/collections.html#collections.defaultdict) from `collections` module. Ouput will be:\n",
    "```python\n",
    "[('word1', [1, 1]), ('word2', [1]), ('word3', [1, 1, 1])]\n",
    "```"
   ]
  },
  {
   "cell_type": "code",
   "execution_count": 39,
   "metadata": {
    "collapsed": true,
    "scrolled": false
   },
   "outputs": [],
   "source": [
    "import collections\n",
    "def partition_mp(mapped_values):\n",
    "    \"\"\"\n",
    "        Organize the mapped values by their key.\n",
    "        Returns an unsorted sequence of tuples with a key and a sequence of values.\n",
    "    \"\"\"\n",
    "    partitioned_data = collections.defaultdict(list)\n",
    "    for key, value in mapped_values:\n",
    "        partitioned_data[key].append(value)\n",
    "    return partitioned_data.items()"
   ]
  },
  {
   "cell_type": "markdown",
   "metadata": {},
   "source": [
    "## Reduce"
   ]
  },
  {
   "cell_type": "code",
   "execution_count": 40,
   "metadata": {
    "collapsed": true,
    "scrolled": false,
    "slideshow": {
     "slide_type": "fragment"
    }
   },
   "outputs": [],
   "source": [
    "def reduce_mp(item):\n",
    "    \"\"\"Convert the partitioned data for a word to a\n",
    "    tuple containing the word and the number of occurances.\n",
    "    \"\"\"\n",
    "    word, occurances = item\n",
    "    return (word, sum(occurances))"
   ]
  },
  {
   "cell_type": "code",
   "execution_count": 41,
   "metadata": {
    "scrolled": false,
    "slideshow": {
     "slide_type": "subslide"
    }
   },
   "outputs": [
    {
     "name": "stdout",
     "output_type": "stream",
     "text": [
      "MainProcess reading hadoop/sample.txt\n",
      "('adipisci', 5) ('aliquam', 5) ('amet', 9) ('consectetur', 10) ('dolor', 8) ('dolore', 8) ('dolorem', 9) ('eius', 8) ('est', 4) ('etincidunt', 8) ('ipsum', 8) ('labore', 5) ('magnam', 2) ('modi', 14) ('neque', 12) ('non', 8) ('numquam', 11) ('porro', 9) ('quaerat', 6) ('quiquia', 12) ('quisquam', 10) ('sed', 7) ('sit', 6) ('tempora', 11) ('ut', 10) ('velit', 11) ('voluptatem', 12)\n"
     ]
    }
   ],
   "source": [
    "mapped_values = words_mp('hadoop/sample.txt')\n",
    "partioned_values = partition_mp(mapped_values)\n",
    "print(*map(reduce_mp,partioned_values))"
   ]
  },
  {
   "cell_type": "code",
   "execution_count": 42,
   "metadata": {
    "scrolled": false
   },
   "outputs": [
    {
     "name": "stdout",
     "output_type": "stream",
     "text": [
      "ForkPoolWorker-28 reading hadoop/books/1661.txt\n",
      "ForkPoolWorker-31 reading hadoop/books/4300-0.txt\n",
      "ForkPoolWorker-29 reading hadoop/books/19699.txt\n",
      "ForkPoolWorker-27 reading hadoop/books/132.txt\n",
      "ForkPoolWorker-30 reading hadoop/books/20417.txt\n",
      "ForkPoolWorker-32 reading hadoop/books/972.txt\n"
     ]
    },
    {
     "data": {
      "text/plain": [
       "[('the', 66482),\n",
       " ('of', 38941),\n",
       " ('and', 26981),\n",
       " ('a', 21549),\n",
       " ('in', 20797),\n",
       " ('to', 20138),\n",
       " ('is', 10447),\n",
       " ('that', 8742),\n",
       " ('he', 8552),\n",
       " ('it', 8321)]"
      ]
     },
     "execution_count": 42,
     "metadata": {},
     "output_type": "execute_result"
    }
   ],
   "source": [
    "import glob, itertools, operator\n",
    "from multiprocessing import Pool\n",
    "files = glob.glob('hadoop/books/*.txt')\n",
    "\n",
    "if __name__ == '__main__':\n",
    "    with Pool(processes=6) as p:\n",
    "        mapped_values = p.map(words_mp,files)\n",
    "        partitioned_data = partition_mp(itertools.chain(*mapped_values))\n",
    "        reduced_values = p.map(reduce_mp, partitioned_data)\n",
    "        reduced_values.sort(key=operator.itemgetter(1)) # sort values by number of occurences\n",
    "        reduced_values.reverse() # Put highest number of occurences on top\n",
    "        \n",
    "reduced_values[:10]"
   ]
  },
  {
   "cell_type": "markdown",
   "metadata": {
    "slideshow": {
     "slide_type": "slide"
    }
   },
   "source": [
    "- [itertools.chain(*mapped_values)](https://docs.python.org/3.6/library/itertools.html#itertools.chain) is used for treating consecutive sequences as a single sequence. \n",
    "- [operator](https://docs.python.org/3/library/operator.html).itemgetter(1)\n",
    "Return a callable object that fetches item from its operand using the operand’s __getitem__() method. \n",
    "```python\n",
    "inventory = [('apple', 3), ('banana', 2), ('pear', 5), ('orange', 1)]\n",
    "getcount = itemgetter(1)\n",
    ">>> list(map(getcount, inventory))\n",
    "[3, 2, 5, 1]\n",
    ">>> sorted(inventory, key=getcount)\n",
    "[('orange', 1), ('banana', 2), ('apple', 3), ('pear', 5)]\n",
    "```"
   ]
  },
  {
   "cell_type": "markdown",
   "metadata": {
    "slideshow": {
     "slide_type": "slide"
    }
   },
   "source": [
    "# sharedmem\n",
    "\n",
    "- http://github.com/rainwoodman/sharedmem\n",
    "- https://pypi.python.org/pypi/sharedmem\n",
    "\n",
    "Create a list of sample texts in different files\n"
   ]
  },
  {
   "cell_type": "code",
   "execution_count": 43,
   "metadata": {
    "collapsed": true,
    "scrolled": false,
    "slideshow": {
     "slide_type": "fragment"
    }
   },
   "outputs": [],
   "source": [
    "from lorem import text\n",
    "\n",
    "for i in range(10):\n",
    "    with open(\"hadoop/sample_{0:1d}.txt\".format(i), \"w\") as sample:\n",
    "        sample.write(text())"
   ]
  },
  {
   "cell_type": "code",
   "execution_count": 44,
   "metadata": {
    "scrolled": false,
    "slideshow": {
     "slide_type": "slide"
    }
   },
   "outputs": [
    {
     "name": "stdout",
     "output_type": "stream",
     "text": [
      "hadoop/sample_0.txt\n",
      "hadoop/sample_1.txt\n",
      "hadoop/sample_2.txt\n",
      "hadoop/sample_3.txt\n",
      "hadoop/sample_6.txt\n",
      "hadoop/sample_7.txt\n",
      "hadoop/sample_8.txt\n",
      "hadoop/sample_5.txt\n",
      "hadoop/sample_4.txt\n",
      "hadoop/sample_9.txt\n"
     ]
    },
    {
     "data": {
      "text/plain": [
       "{'dolorem': 17, 'ipsum': 14}"
      ]
     },
     "execution_count": 44,
     "metadata": {},
     "output_type": "execute_result"
    }
   ],
   "source": [
    "import sharedmem\n",
    "import glob\n",
    "samples = glob.glob('hadoop/sample_*.txt')\n",
    "\n",
    "word_count = {\n",
    "        'dolorem': 0,\n",
    "        'ipsum': 0,\n",
    "            }\n",
    "\n",
    "with sharedmem.MapReduce() as pool:\n",
    "\n",
    "    def work(file):\n",
    "        print(file)\n",
    "        with open(file) as f:\n",
    "            for line in f:\n",
    "                my_word_count = dict([(word, 0) for word in word_count])\n",
    "                for word in line.replace('.', ' ').split():\n",
    "                    if word in word_count:\n",
    "                        my_word_count[word] += 1\n",
    "\n",
    "        return my_word_count\n",
    "\n",
    "    def reduce(her_word_count):\n",
    "        for word in word_count:\n",
    "            word_count[word] += her_word_count[word]\n",
    "\n",
    "    pool.map(work, samples, reduce=reduce)\n",
    "\n",
    "word_count # count of 'dolorem' and 'ipsum'"
   ]
  },
  {
   "cell_type": "markdown",
   "metadata": {
    "slideshow": {
     "slide_type": "slide"
    }
   },
   "source": [
    "#  Dask Bag"
   ]
  },
  {
   "cell_type": "code",
   "execution_count": 45,
   "metadata": {
    "scrolled": false,
    "slideshow": {
     "slide_type": "fragment"
    }
   },
   "outputs": [
    {
     "data": {
      "text/plain": [
       "dask.bag<bag-fro..., npartitions=10>"
      ]
     },
     "execution_count": 45,
     "metadata": {},
     "output_type": "execute_result"
    }
   ],
   "source": [
    "import os\n",
    "import dask.bag as db\n",
    "\n",
    "lines = db.read_text(os.path.join('hadoop', 'sample_*.txt'))\n",
    "lines"
   ]
  },
  {
   "cell_type": "code",
   "execution_count": 46,
   "metadata": {
    "scrolled": false,
    "slideshow": {
     "slide_type": "fragment"
    }
   },
   "outputs": [
    {
     "data": {
      "image/png": "[encoded data removed]",
      "text/plain": [
       "<IPython.core.display.Image object>"
      ]
     },
     "execution_count": 46,
     "metadata": {},
     "output_type": "execute_result"
    }
   ],
   "source": [
    "lines.visualize()"
   ]
  },
  {
   "cell_type": "code",
   "execution_count": 47,
   "metadata": {
    "scrolled": false,
    "slideshow": {
     "slide_type": "slide"
    }
   },
   "outputs": [
    {
     "data": {
      "text/plain": [
       "('Dolorem eius etincidunt numquam velit. Quisquam consectetur dolor ipsum voluptatem. Eius dolorem dolorem sed sed. Quisquam porro velit magnam magnam dolore. Sed sit ut etincidunt magnam. Dolor quisquam labore etincidunt labore porro quiquia numquam. Sed amet consectetur dolorem non. Eius tempora numquam quaerat consectetur tempora non ut. Porro quaerat est dolore. Numquam aliquam sit ut velit ipsum dolor amet.\\n',)"
      ]
     },
     "execution_count": 47,
     "metadata": {},
     "output_type": "execute_result"
    }
   ],
   "source": [
    "lines.take(1) # Look at the first element"
   ]
  },
  {
   "cell_type": "markdown",
   "metadata": {
    "collapsed": true,
    "scrolled": false,
    "slideshow": {
     "slide_type": "fragment"
    }
   },
   "source": [
    "Bag method can split the lines into words, concatenate the nested lists of words into a single list, count the frequencies of each word, then list the top 10 words by their count:"
   ]
  },
  {
   "cell_type": "code",
   "execution_count": 51,
   "metadata": {
    "collapsed": true,
    "scrolled": false,
    "slideshow": {
     "slide_type": "slide"
    }
   },
   "outputs": [],
   "source": [
    "wordcount = lines.str.split().flatten().frequencies().topk(10, lambda x: x[1])"
   ]
  },
  {
   "cell_type": "code",
   "execution_count": 52,
   "metadata": {},
   "outputs": [
    {
     "data": {
      "text/plain": [
       "[('etincidunt', 64),\n",
       " ('dolorem', 64),\n",
       " ('sit', 61),\n",
       " ('amet', 61),\n",
       " ('porro', 60),\n",
       " ('quiquia', 59),\n",
       " ('dolore', 58),\n",
       " ('ipsum', 57),\n",
       " ('sed', 57),\n",
       " ('quisquam', 57)]"
      ]
     },
     "execution_count": 52,
     "metadata": {},
     "output_type": "execute_result"
    }
   ],
   "source": [
    "wordcount.compute()"
   ]
  },
  {
   "cell_type": "markdown",
   "metadata": {
    "slideshow": {
     "slide_type": "slide"
    }
   },
   "source": [
    "\n",
    "\n",
    "# Deploying the MapReduce code on Hadoop\n",
    "\n",
    "This Python must use the [Hadoop Streaming API](http://hadoop.apache.org/docs/stable/hadoop-streaming/HadoopStreaming.html) to pass data between our Map and Reduce code via Python’s sys.stdin (standard input) and sys.stdout (standard output). \n",
    "\n",
    "Download some books\n",
    "* [The Outline of Science, Vol. 1 (of 4) by J. Arthur Thomson](http://www.gutenberg.org/ebooks/20417.txt.utf-8)\n",
    "* [Ulysses by James Joyce](http://www.gutenberg.org/files/4300/4300-0.txt)\n",
    "* [The Art of War by 6th cent. B.C. Sunzi](http://www.gutenberg.org/ebooks/132.txt.utf-8)\n",
    "* [The Adventures of Sherlock Holmes by Sir Arthur Conan Doyle](http://www.gutenberg.org/ebooks/1661.txt.utf-8)\n",
    "* [The Devil’s Dictionary by Ambrose Bierce](http://www.gutenberg.org/ebooks/972.txt.utf-8)\n",
    "* [Encyclopaedia Britannica, 11th Edition, Volume 4, Part 3](http://www.gutenberg.org/ebooks/19699.txt.utf-8)\n",
    "\n"
   ]
  },
  {
   "cell_type": "markdown",
   "metadata": {
    "slideshow": {
     "slide_type": "slide"
    }
   },
   "source": [
    "# Map \n",
    "\n",
    "The following Python code read data from sys.stdin, split it into words and output a list of lines mapping words to their (intermediate) counts to sys.stdout. For every word it outputs <word> 1 tuples immediately. \n"
   ]
  },
  {
   "cell_type": "code",
   "execution_count": 358,
   "metadata": {
    "scrolled": false,
    "slideshow": {
     "slide_type": "fragment"
    }
   },
   "outputs": [
    {
     "name": "stdout",
     "output_type": "stream",
     "text": [
      "Overwriting hadoop/mapper.py\n"
     ]
    }
   ],
   "source": [
    "%%file hadoop/mapper.py\n",
    "#!/usr/bin/env python\n",
    "from __future__ import print_function\n",
    "import sys, string\n",
    "\n",
    "# input comes from standard input\n",
    "for line in sys.stdin:\n",
    "    # remove leading and trailing whitespace\n",
    "    line = line.strip()\n",
    "    # strip punctuation\n",
    "    line = line.translate(None,string.punctuation)    \n",
    "\n",
    "    # split the line into words\n",
    "    words = line.split()\n",
    "    # increase counters\n",
    "    for word in words:\n",
    "        # write the results to standard output;\n",
    "        # what we output here will be the input for the\n",
    "        # Reduce step, i.e. the input for reducer.py\n",
    "        #\n",
    "        # tab-delimited; the trivial word count is 1\n",
    "        print ('%s\\t%s' % (word, 1))"
   ]
  },
  {
   "cell_type": "code",
   "execution_count": 359,
   "metadata": {
    "collapsed": true,
    "scrolled": false,
    "slideshow": {
     "slide_type": "skip"
    }
   },
   "outputs": [],
   "source": [
    "!chmod +x hadoop/mapper.py "
   ]
  },
  {
   "cell_type": "markdown",
   "metadata": {
    "slideshow": {
     "slide_type": "slide"
    }
   },
   "source": [
    "# Reduce \n",
    "\n",
    "The following code reads the results of mapper.py and sum the occurrences of each word to a final count, and then output its results to sys.stdout.\n",
    "Remember that Hadoop sorts map output so it is easier to count words.\n"
   ]
  },
  {
   "cell_type": "code",
   "execution_count": 360,
   "metadata": {
    "scrolled": false,
    "slideshow": {
     "slide_type": "slide"
    }
   },
   "outputs": [
    {
     "name": "stdout",
     "output_type": "stream",
     "text": [
      "Overwriting hadoop/reducer.py\n"
     ]
    }
   ],
   "source": [
    "%%file hadoop/reducer.py\n",
    "#!/usr/bin/env python\n",
    "from __future__ import print_function\n",
    "from operator import itemgetter\n",
    "import sys\n",
    "\n",
    "\n",
    "current_word = None\n",
    "current_count = 0\n",
    "word = None\n",
    "\n",
    "# input lines\n",
    "for line in sys.stdin:\n",
    "    # remove leading and trailing whitespace\n",
    "    line = line.strip()\n",
    "    \n",
    "    # parse the input we got from mapper.py\n",
    "    word, count = line.split('\\t', 1)\n",
    "\n",
    "    # convert count (currently a string) to int\n",
    "    try:\n",
    "        count = int(count)\n",
    "    except ValueError:\n",
    "        # count was not a number, so silently\n",
    "        # ignore/discard this line\n",
    "        continue\n",
    "\n",
    "    # this IF-switch only works because Hadoop sorts map output\n",
    "    # by key (here: word) before it is passed to the reducer\n",
    "    if current_word == word:\n",
    "        current_count += count\n",
    "    else:\n",
    "        if current_word:\n",
    "            # write result to sys.stdout\n",
    "            print ('{}\\t{}'.format(current_word, current_count))\n",
    "        current_count = count\n",
    "        current_word = word\n",
    "\n",
    "# do not forget to output the last word if needed!\n",
    "if current_word == word:\n",
    "    print ('{}\\t{}'.format(current_word, current_count))"
   ]
  },
  {
   "cell_type": "code",
   "execution_count": 361,
   "metadata": {
    "collapsed": true,
    "scrolled": false,
    "slideshow": {
     "slide_type": "skip"
    }
   },
   "outputs": [],
   "source": [
    "!chmod +x hadoop/reducer.py"
   ]
  },
  {
   "cell_type": "markdown",
   "metadata": {
    "slideshow": {
     "slide_type": "slide"
    }
   },
   "source": [
    "# Test"
   ]
  },
  {
   "cell_type": "code",
   "execution_count": 362,
   "metadata": {
    "scrolled": false,
    "slideshow": {
     "slide_type": "slide"
    }
   },
   "outputs": [
    {
     "name": "stdout",
     "output_type": "stream",
     "text": [
      "Amet\t1\r\n",
      "Consectetur\t1\r\n",
      "Dolor\t1\r\n",
      "Dolore\t1\r\n",
      "Dolorem\t2\r\n",
      "Eius\t1\r\n",
      "Etincidunt\t1\r\n",
      "Ipsum\t2\r\n",
      "Labore\t1\r\n",
      "Magnam\t1\r\n",
      "Modi\t1\r\n",
      "Non\t1\r\n",
      "Numquam\t1\r\n",
      "Quaerat\t3\r\n",
      "Quiquia\t1\r\n",
      "Quisquam\t1\r\n",
      "Sed\t2\r\n",
      "Sit\t2\r\n",
      "Tempora\t1\r\n",
      "Voluptatem\t1\r\n",
      "adipisci\t9\r\n",
      "aliquam\t3\r\n",
      "amet\t3\r\n",
      "consectetur\t1\r\n",
      "dolor\t8\r\n",
      "dolore\t10\r\n",
      "dolorem\t7\r\n",
      "eius\t6\r\n",
      "est\t4\r\n",
      "etincidunt\t5\r\n",
      "ipsum\t2\r\n",
      "labore\t3\r\n",
      "magnam\t5\r\n",
      "modi\t3\r\n",
      "neque\t4\r\n",
      "non\t4\r\n",
      "numquam\t4\r\n",
      "porro\t4\r\n",
      "quaerat\t1\r\n",
      "quiquia\t4\r\n",
      "quisquam\t3\r\n",
      "sed\t6\r\n",
      "sit\t5\r\n",
      "tempora\t4\r\n",
      "ut\t6\r\n",
      "velit\t5\r\n",
      "voluptatem\t10\r\n"
     ]
    }
   ],
   "source": [
    "!cat hadoop/sample.txt | ./hadoop/mapper.py | sort | ./hadoop/reducer.py"
   ]
  },
  {
   "cell_type": "markdown",
   "metadata": {
    "slideshow": {
     "slide_type": "slide"
    }
   },
   "source": [
    "## Execution on Hadoop cluster\n",
    "\n",
    "* Copy books to HDFS\n",
    "* Run the WordCount MapReduce\n",
    "\n",
    "Makefile"
   ]
  },
  {
   "cell_type": "code",
   "execution_count": 192,
   "metadata": {
    "scrolled": false,
    "slideshow": {
     "slide_type": "fragment"
    }
   },
   "outputs": [
    {
     "name": "stdout",
     "output_type": "stream",
     "text": [
      "Overwriting hadoop/Makefile\n"
     ]
    }
   ],
   "source": [
    "%%file hadoop/Makefile\n",
    "HADOOP_TOOLS=/usr/local/Cellar/hadoop/2.8.0/libexec/share/hadoop/tools/lib/\n",
    "HDFS_DIR=/user/${USER}\n",
    "\n",
    "BOOKS = books/20417.txt books/5000-8.txt books/4300-0.txt books/132.txt ht books/1661.txt h books/972.txt ht books/19699.txt \n",
    "\n",
    "download:\n",
    "\tmkdir -p books\n",
    "\twget -q -O books/20417.txt http://www.gutenberg.org/ebooks/20417.txt.utf-8\n",
    "\twget -q -O books/4300-0.txt http://www.gutenberg.org/files/4300/4300-0.txt\n",
    "\twget -q -O books/132.txt http://www.gutenberg.org/ebooks/132.txt.utf-8\n",
    "\twget -q -O books/1661.txt http://www.gutenberg.org/ebooks/1661.txt.utf-8\n",
    "\twget -q -O books/972.txt http://www.gutenberg.org/ebooks/972.txt.utf-8\n",
    "\twget -q -O books/19699.txt http://www.gutenberg.org/ebooks/19699.txt.utf-8\n",
    "\n",
    "copy_to_hdfs: ${BOOKS}\n",
    "\thdfs dfs -put books books\n",
    "\t\n",
    "run_with_hadoop: \n",
    "\thadoop jar ${HADOOP_TOOLS}/hadoop-streaming-2.8.0.jar \\\n",
    "    -file  ${PWD}/mapper.py  -mapper  ${PWD}/mapper.py \\\n",
    "    -file  ${PWD}/reducer.py -reducer ${PWD}/reducer.py \\\n",
    "    -input ${HDFS_DIR}/books/* -output ${HDFS_DIR}/output-hadoop\n",
    "\n",
    "run_with_yarn: \n",
    "\tyarn jar ${HADOOP_TOOLS}/hadoop-streaming-2.8.0.jar \\\n",
    "\t-file  ${PWD}/mapper.py  -mapper  ${PWD}/mapper.py \\\n",
    "\t-file  ${PWD}/reducer.py -reducer ${PWD}/reducer.py \\\n",
    "\t-input ${HDFS_DIR}/books/* -output ${HDFS_DIR}/output-yarn\n"
   ]
  },
  {
   "cell_type": "markdown",
   "metadata": {
    "slideshow": {
     "slide_type": "slide"
    }
   },
   "source": [
    "### Run\n",
    "\n",
    "```bash\n",
    "$ make run_with_hadoop\n",
    "\n",
    "$ make run_with_yarn\n",
    "```\n"
   ]
  },
  {
   "cell_type": "markdown",
   "metadata": {
    "slideshow": {
     "slide_type": "slide"
    }
   },
   "source": [
    "# Dask Cluster computation with HDFS\n",
    "http://dask.pydata.org/en/latest/examples/bag-word-count-hdfs.html\n",
    "\n",
    "```shell\n",
    "$ dask-scheduler  # On the head node\n",
    "$ dask-worker SCHEDULER_IP:SCHEDULER_PORT --nprocs 4 --nthreads 1  # On the compute nodes\n",
    "```"
   ]
  },
  {
   "cell_type": "markdown",
   "metadata": {
    "collapsed": true,
    "slideshow": {
     "slide_type": "slide"
    }
   },
   "source": [
    "# Map Reduce with mrjob\n",
    "\n",
    "https://mrjob.readthedocs.io\n",
    "\n",
    "- `mrjob` is an open-source Python framework that wraps Hadoop Streaming. \n",
    "- `mrjob` allows the user to work with any objects as keys and mappers. \n",
    "- `mrjob` appears to be the most actively developed.\n",
    "- A job is defined by a class that inherits from MRJob and contains methods that define the *steps*.\n",
    "- A *step* consists of a mapper, a combiner, and a reducer. All of those are optional, though you must have at least one."
   ]
  },
  {
   "cell_type": "code",
   "execution_count": 11,
   "metadata": {
    "slideshow": {
     "slide_type": "slide"
    }
   },
   "outputs": [
    {
     "name": "stdout",
     "output_type": "stream",
     "text": [
      "Writing mr_word_count.py\n"
     ]
    }
   ],
   "source": [
    "%%file mr_word_count.py\n",
    "\n",
    "from mrjob.job import MRJob\n",
    "\n",
    "\n",
    "class MRWordFrequencyCount(MRJob):\n",
    "\n",
    "    def mapper(self, _, line):\n",
    "        yield \"chars\", len(line)\n",
    "        yield \"words\", len(line.split())\n",
    "        yield \"lines\", 1\n",
    "\n",
    "    def reducer(self, key, values):\n",
    "        yield key, sum(values)\n",
    "\n",
    "\n",
    "if __name__ == '__main__':\n",
    "    MRWordFrequencyCount.run()"
   ]
  },
  {
   "cell_type": "code",
   "execution_count": 12,
   "metadata": {
    "slideshow": {
     "slide_type": "slide"
    }
   },
   "outputs": [
    {
     "name": "stderr",
     "output_type": "stream",
     "text": [
      "No configs found; falling back on auto-configuration\n",
      "No configs found; falling back on auto-configuration\n",
      "Creating temp directory /var/folders/mw/nwq5qyg56fl585pb9jw81_qc0000gn/T/mr_word_count.navaro.20170905.072243.468792\n",
      "Creating temp directory /var/folders/mw/nwq5qyg56fl585pb9jw81_qc0000gn/T/mr_word_count.navaro.20170905.072243.468792\n",
      "Running step 1 of 1...\n",
      "Running step 1 of 1...\n",
      "Streaming final output from /var/folders/mw/nwq5qyg56fl585pb9jw81_qc0000gn/T/mr_word_count.navaro.20170905.072243.468792/output...\n",
      "Streaming final output from /var/folders/mw/nwq5qyg56fl585pb9jw81_qc0000gn/T/mr_word_count.navaro.20170905.072243.468792/output...\n"
     ]
    },
    {
     "name": "stdout",
     "output_type": "stream",
     "text": [
      "\"chars\"\t809\n",
      "\"lines\"\t5\n",
      "\"words\"\t115\n"
     ]
    },
    {
     "name": "stderr",
     "output_type": "stream",
     "text": [
      "Removing temp directory /var/folders/mw/nwq5qyg56fl585pb9jw81_qc0000gn/T/mr_word_count.navaro.20170905.072243.468792...\n",
      "Removing temp directory /var/folders/mw/nwq5qyg56fl585pb9jw81_qc0000gn/T/mr_word_count.navaro.20170905.072243.468792...\n"
     ]
    }
   ],
   "source": [
    "%run mr_word_count.py hadoop/sample.txt"
   ]
  },
  {
   "cell_type": "markdown",
   "metadata": {
    "slideshow": {
     "slide_type": "slide"
    }
   },
   "source": [
    "### Job that finds the most commonly used word in the input"
   ]
  },
  {
   "cell_type": "code",
   "execution_count": 13,
   "metadata": {
    "slideshow": {
     "slide_type": "fragment"
    }
   },
   "outputs": [
    {
     "name": "stdout",
     "output_type": "stream",
     "text": [
      "Writing mr_most_used_word.py\n"
     ]
    }
   ],
   "source": [
    "%%file mr_most_used_word.py\n",
    "from mrjob.job import MRJob\n",
    "from mrjob.step import MRStep\n",
    "import re\n",
    "\n",
    "WORD_RE = re.compile(r\"[\\w']+\")\n",
    "\n",
    "class MRMostUsedWord(MRJob):\n",
    "\n",
    "    def steps(self):\n",
    "        return [\n",
    "            MRStep(mapper=self.mapper_get_words,\n",
    "                   combiner=self.combiner_count_words,\n",
    "                   reducer=self.reducer_count_words),\n",
    "            MRStep(reducer=self.reducer_find_max_word)\n",
    "        ]\n",
    "\n",
    "    def mapper_get_words(self, _, line):\n",
    "        # yield each word in the line\n",
    "        for word in WORD_RE.findall(line):\n",
    "            yield (word.lower(), 1)\n",
    "\n",
    "    def combiner_count_words(self, word, counts):\n",
    "        # optimization: sum the words we've seen so far\n",
    "        yield (word, sum(counts))\n",
    "\n",
    "    def reducer_count_words(self, word, counts):\n",
    "        # send all (num_occurrences, word) pairs to the same reducer.\n",
    "        # num_occurrences is so we can easily use Python's max() function.\n",
    "        yield None, (sum(counts), word)\n",
    "\n",
    "    # discard the key; it is just None\n",
    "    def reducer_find_max_word(self, _, word_count_pairs):\n",
    "        # each item of word_count_pairs is (count, word),\n",
    "        # so yielding one results in key=counts, value=word\n",
    "        yield max(word_count_pairs)\n",
    "\n",
    "\n",
    "if __name__ == '__main__':\n",
    "    MRMostUsedWord.run()\n"
   ]
  },
  {
   "cell_type": "code",
   "execution_count": 14,
   "metadata": {
    "slideshow": {
     "slide_type": "slide"
    }
   },
   "outputs": [
    {
     "name": "stderr",
     "output_type": "stream",
     "text": [
      "No configs found; falling back on auto-configuration\n",
      "No configs found; falling back on auto-configuration\n",
      "No configs found; falling back on auto-configuration\n",
      "Creating temp directory /var/folders/mw/nwq5qyg56fl585pb9jw81_qc0000gn/T/mr_most_used_word.navaro.20170905.072407.101120\n",
      "Creating temp directory /var/folders/mw/nwq5qyg56fl585pb9jw81_qc0000gn/T/mr_most_used_word.navaro.20170905.072407.101120\n",
      "Creating temp directory /var/folders/mw/nwq5qyg56fl585pb9jw81_qc0000gn/T/mr_most_used_word.navaro.20170905.072407.101120\n",
      "Running step 1 of 2...\n",
      "Running step 1 of 2...\n",
      "Running step 1 of 2...\n",
      "Running step 2 of 2...\n",
      "Running step 2 of 2...\n",
      "Running step 2 of 2...\n",
      "Streaming final output from /var/folders/mw/nwq5qyg56fl585pb9jw81_qc0000gn/T/mr_most_used_word.navaro.20170905.072407.101120/output...\n",
      "Streaming final output from /var/folders/mw/nwq5qyg56fl585pb9jw81_qc0000gn/T/mr_most_used_word.navaro.20170905.072407.101120/output...\n",
      "Streaming final output from /var/folders/mw/nwq5qyg56fl585pb9jw81_qc0000gn/T/mr_most_used_word.navaro.20170905.072407.101120/output...\n"
     ]
    },
    {
     "name": "stdout",
     "output_type": "stream",
     "text": [
      "8\t\"dolorem\"\n"
     ]
    },
    {
     "name": "stderr",
     "output_type": "stream",
     "text": [
      "Removing temp directory /var/folders/mw/nwq5qyg56fl585pb9jw81_qc0000gn/T/mr_most_used_word.navaro.20170905.072407.101120...\n",
      "Removing temp directory /var/folders/mw/nwq5qyg56fl585pb9jw81_qc0000gn/T/mr_most_used_word.navaro.20170905.072407.101120...\n",
      "Removing temp directory /var/folders/mw/nwq5qyg56fl585pb9jw81_qc0000gn/T/mr_most_used_word.navaro.20170905.072407.101120...\n"
     ]
    }
   ],
   "source": [
    "%run mr_most_used_word.py hadoop/sample.txt"
   ]
  },
  {
   "cell_type": "code",
   "execution_count": 10,
   "metadata": {
    "slideshow": {
     "slide_type": "slide"
    }
   },
   "outputs": [
    {
     "name": "stdout",
     "output_type": "stream",
     "text": [
      "Writing spark_wordcount.py\n"
     ]
    }
   ],
   "source": [
    "%%file spark_wordcount.py\n",
    "\n",
    "import findspark\n",
    "findspark.init()\n",
    "\n",
    "import sys\n",
    "from operator import add\n",
    "\n",
    "from pyspark.sql import SparkSession\n",
    "\n",
    "spark = SparkSession\\\n",
    "        .builder\\\n",
    "        .appName(\"PythonWordCount\")\\\n",
    "        .getOrCreate()\n",
    "\n",
    "file = \"hadoop/sample.txt\"\n",
    "\n",
    "lines = spark.read.text(file).rdd.map(lambda r: r[0])\n",
    "counts = lines.flatMap(lambda x: x.split(' ')) \\\n",
    "                  .map(lambda x: (x, 1)) \\\n",
    "                  .reduceByKey(add)\n",
    "output = counts.collect()\n",
    "for (word, count) in output:\n",
    "    print(\"%s: %i\" % (word, count))\n",
    "\n",
    "spark.stop()"
   ]
  },
  {
   "cell_type": "code",
   "execution_count": null,
   "metadata": {},
   "outputs": [],
   "source": []
  }
 ],
 "metadata": {
  "celltoolbar": "Slideshow",
  "kernelspec": {
   "display_name": "Python 3",
   "language": "python",
   "name": "python3"
  },
  "language_info": {
   "codemirror_mode": {
    "name": "ipython",
    "version": 3
   },
   "file_extension": ".py",
   "mimetype": "text/x-python",
   "name": "python",
   "nbconvert_exporter": "python",
   "pygments_lexer": "ipython3",
   "version": "3.6.2"
  }
 },
 "nbformat": 4,
 "nbformat_minor": 2
}
