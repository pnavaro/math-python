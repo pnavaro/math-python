{
 "cells": [
  {
   "cell_type": "markdown",
   "metadata": {
    "slideshow": {
     "slide_type": "slide"
    }
   },
   "source": [
    "Pierre Navaro - [Institut de Recherche Mathématique de Rennes](https://irmar.univ-rennes1.fr) - [CNRS](http://www.cnrs.fr/)"
   ]
  },
  {
   "cell_type": "markdown",
   "metadata": {
    "slideshow": {
     "slide_type": "slide"
    }
   },
   "source": [
    "## Map reduce"
   ]
  },
  {
   "cell_type": "code",
   "execution_count": 13,
   "metadata": {
    "slideshow": {
     "slide_type": "fragment"
    }
   },
   "outputs": [
    {
     "data": {
      "text/plain": [
       "[0, 1, 2, 3, 4, 5, 6, 7]"
      ]
     },
     "execution_count": 13,
     "metadata": {},
     "output_type": "execute_result"
    }
   ],
   "source": [
    "from time import sleep\n",
    "def f(x):\n",
    "    sleep(1)\n",
    "    return x*x\n",
    "L = list(range(8))\n",
    "L"
   ]
  },
  {
   "cell_type": "code",
   "execution_count": 14,
   "metadata": {
    "slideshow": {
     "slide_type": "fragment"
    }
   },
   "outputs": [
    {
     "name": "stdout",
     "output_type": "stream",
     "text": [
      "CPU times: user 906 µs, sys: 1.4 ms, total: 2.31 ms\n",
      "Wall time: 8.02 s\n"
     ]
    },
    {
     "data": {
      "text/plain": [
       "140"
      ]
     },
     "execution_count": 14,
     "metadata": {},
     "output_type": "execute_result"
    }
   ],
   "source": [
    "%time sum([f(x) for x in L])"
   ]
  },
  {
   "cell_type": "code",
   "execution_count": 15,
   "metadata": {
    "slideshow": {
     "slide_type": "fragment"
    }
   },
   "outputs": [
    {
     "name": "stdout",
     "output_type": "stream",
     "text": [
      "CPU times: user 991 µs, sys: 1.52 ms, total: 2.51 ms\n",
      "Wall time: 8.02 s\n"
     ]
    },
    {
     "data": {
      "text/plain": [
       "140"
      ]
     },
     "execution_count": 15,
     "metadata": {},
     "output_type": "execute_result"
    }
   ],
   "source": [
    "%time sum(map(f,L))"
   ]
  },
  {
   "cell_type": "markdown",
   "metadata": {
    "slideshow": {
     "slide_type": "fragment"
    }
   },
   "source": [
    "We can process each f calls independently and in parallel.  To accomplish this we'll apply that function f across all list items in parallel using multiple processes.\n"
   ]
  },
  {
   "cell_type": "markdown",
   "metadata": {
    "slideshow": {
     "slide_type": "slide"
    }
   },
   "source": [
    "## Thread and Process: Differences\n",
    "\n",
    "- A Process is an instance of a running program. \n",
    "- Process may contain one or more threads, but a thread cannot contain a process.\n",
    "- Process has a self-contained execution environment. It has its own memory space. \n",
    "- Application running on your computer may be a set of cooperating processes.\n",
    "\n",
    "- A Thread is made of and exist within a Process; every process has at least one. \n",
    "- Multiple threads in a process share resources, which helps in efficient communication between threads.\n",
    "- Threads can be concurrent on a multi-core system, with every core executing the separate threads simultaneously.\n",
    "\n"
   ]
  },
  {
   "cell_type": "markdown",
   "metadata": {
    "slideshow": {
     "slide_type": "slide"
    }
   },
   "source": [
    "## Multi-Processing vs Multi-Threading\n",
    "\n",
    "### Memory\n",
    "- Each process has its own copy of the data segment of the parent process.\n",
    "- Each thread has direct access to the data segment of its process.\n",
    "- A process runs in separate memory spaces.\n",
    "- A thread runs in shared memory spaces.\n",
    "\n",
    "### Communication\n",
    "- Processes must use inter-process communication to communicate with sibling processes.\n",
    "- Threads can directly communicate with other threads of its process.\n",
    "\n",
    "### Overheads\n",
    "- Processes have considerable overhead.\n",
    "- Threads have almost no overhead."
   ]
  },
  {
   "cell_type": "markdown",
   "metadata": {
    "slideshow": {
     "slide_type": "slide"
    }
   },
   "source": [
    "## Multi-Processing vs Multi-Threading\n",
    "\n",
    "### Creation\n",
    "- New processes require duplication of the parent process.\n",
    "- New threads are easily created.  \n",
    "\n",
    "### Control\n",
    "- Processes can only exercise control over child processes.\n",
    "- Threads can exercise considerable control over threads of the same process.\n",
    "\n",
    "### Changes\n",
    "- Any change in the parent process does not affect child processes.\n",
    "- Any change in the main thread may affect the behavior of the other threads of the process.\n"
   ]
  },
  {
   "cell_type": "markdown",
   "metadata": {
    "slideshow": {
     "slide_type": "slide"
    }
   },
   "source": [
    "## The Global Interpreter Lock (GIL)\n",
    "\n",
    "- The Python interpreter is not thread safe.\n",
    "- A few critical internal data structures may only be accessed by one thread at a time. Access to them is protected by the GIL.\n",
    "- Attempts at removing the GIL from Python have failed until now. The main difficulty is maintaining the C API for extension modules.\n",
    "- Multiprocessing avoids the GIL by having separate processes which each have an independent copy of the interpreter data structures.\n",
    "- The price to pay: serialization of tasks, arguments, and results."
   ]
  },
  {
   "cell_type": "markdown",
   "metadata": {
    "collapsed": true,
    "slideshow": {
     "slide_type": "slide"
    }
   },
   "source": [
    "# Multiprocessing (history)\n",
    "\n",
    "- The multiprocessing allows the programmer to fully leverage multiple processors. \n",
    "- It runs on both Unix and Windows.\n",
    "- The `Pool` object parallelizes the execution of a function across multiple input values.\n",
    "- The if `__name__ == '__main__'` part is necessary.\n",
    "<p><font color=red> The next cell could not work on Windows </font></p>\n",
    "Try to add \n",
    "```python\n",
    "sys.argv = ['c:/pathToScript/script.py']\n",
    "multiprocessing.set_executable('C:/PathToMiniconda/bin/python.exe')\n",
    "```"
   ]
  },
  {
   "cell_type": "code",
   "execution_count": 16,
   "metadata": {
    "slideshow": {
     "slide_type": "fragment"
    }
   },
   "outputs": [
    {
     "name": "stdout",
     "output_type": "stream",
     "text": [
      "CPU times: user 7.67 ms, sys: 14.6 ms, total: 22.3 ms\n",
      "Wall time: 2.08 s\n"
     ]
    }
   ],
   "source": [
    "%%time\n",
    "from multiprocessing import Pool\n",
    "\n",
    "if __name__ == '__main__': # Executed only on main process.\n",
    "    with Pool(4) as p:\n",
    "        result = sum(p.map(f, L))\n",
    "result"
   ]
  },
  {
   "cell_type": "markdown",
   "metadata": {
    "collapsed": true,
    "slideshow": {
     "slide_type": "slide"
    }
   },
   "source": [
    "# Futures\n",
    "\n",
    "The `concurrent.futures` module provides a high-level interface for asynchronously executing callables.\n",
    "\n",
    "The asynchronous execution can be performed with threads, using ThreadPoolExecutor, or separate processes, using ProcessPoolExecutor. Both implement the same interface, which is defined by the abstract Executor class."
   ]
  },
  {
   "cell_type": "code",
   "execution_count": 17,
   "metadata": {
    "slideshow": {
     "slide_type": "slide"
    }
   },
   "outputs": [
    {
     "name": "stdout",
     "output_type": "stream",
     "text": [
      "CPU times: user 11.8 ms, sys: 24.4 ms, total: 36.2 ms\n",
      "Wall time: 1.03 s\n"
     ]
    }
   ],
   "source": [
    "%%time\n",
    "from concurrent.futures import ProcessPoolExecutor\n",
    "# from loky import ProcessPoolExecutor  # for Windows users \n",
    "\n",
    "\n",
    "def f(x):\n",
    "    sleep(1)\n",
    "    return x*x\n",
    "\n",
    "e = ProcessPoolExecutor()\n",
    "\n",
    "results = list(e.map(f, range(8)))"
   ]
  },
  {
   "cell_type": "code",
   "execution_count": 18,
   "metadata": {
    "slideshow": {
     "slide_type": "slide"
    }
   },
   "outputs": [
    {
     "name": "stdout",
     "output_type": "stream",
     "text": [
      "CPU times: user 3.47 ms, sys: 4.61 ms, total: 8.08 ms\n",
      "Wall time: 1.01 s\n"
     ]
    }
   ],
   "source": [
    "%%time\n",
    "from concurrent.futures import ThreadPoolExecutor\n",
    "\n",
    "def f(x):\n",
    "    sleep(1)\n",
    "    return x*x\n",
    "\n",
    "e = ThreadPoolExecutor()\n",
    "\n",
    "results = list(e.map(f, range(8)))"
   ]
  },
  {
   "cell_type": "markdown",
   "metadata": {
    "slideshow": {
     "slide_type": "slide"
    }
   },
   "source": [
    "# Asynchronous Future\n",
    "While many parallel applications can be described as maps, some can be more complex. In this section we look at the asynchronous Future interface, which provides a simple API for ad-hoc parallelism. This is useful for when your computations don't fit a regular pattern.\n"
   ]
  },
  {
   "cell_type": "markdown",
   "metadata": {
    "collapsed": true,
    "slideshow": {
     "slide_type": "fragment"
    }
   },
   "source": [
    "### Executor.submit\n",
    "\n",
    "The `submit` method starts a computation in a separate thread or process and immediately gives us a `Future` object that refers to the result.  At first, the future is pending.  Once the function completes the future is finished. \n",
    "\n",
    "We collect the result of the task with the `.result()` method,\n",
    "which does not return until the results are available."
   ]
  },
  {
   "cell_type": "code",
   "execution_count": 19,
   "metadata": {
    "slideshow": {
     "slide_type": "slide"
    }
   },
   "outputs": [],
   "source": [
    "from time import sleep\n",
    "\n",
    "def slowadd(a, b, delay=1):\n",
    "    sleep(delay)\n",
    "    return a + b"
   ]
  },
  {
   "cell_type": "code",
   "execution_count": 20,
   "metadata": {
    "slideshow": {
     "slide_type": "fragment"
    }
   },
   "outputs": [
    {
     "data": {
      "text/plain": [
       "<Future at 0x10e89dc50 state=running>"
      ]
     },
     "execution_count": 20,
     "metadata": {},
     "output_type": "execute_result"
    }
   ],
   "source": [
    "from concurrent.futures import ThreadPoolExecutor\n",
    "e = ThreadPoolExecutor(4)\n",
    "future = e.submit(slowadd, 1, 2)\n",
    "future"
   ]
  },
  {
   "cell_type": "code",
   "execution_count": 21,
   "metadata": {
    "slideshow": {
     "slide_type": "fragment"
    }
   },
   "outputs": [
    {
     "data": {
      "text/plain": [
       "3"
      ]
     },
     "execution_count": 21,
     "metadata": {},
     "output_type": "execute_result"
    }
   ],
   "source": [
    "future.result()"
   ]
  },
  {
   "cell_type": "markdown",
   "metadata": {
    "slideshow": {
     "slide_type": "slide"
    }
   },
   "source": [
    "Submit many tasks all at once and they be will executed in parallel."
   ]
  },
  {
   "cell_type": "code",
   "execution_count": 22,
   "metadata": {
    "slideshow": {
     "slide_type": "fragment"
    }
   },
   "outputs": [
    {
     "name": "stdout",
     "output_type": "stream",
     "text": [
      "CPU times: user 858 µs, sys: 1.14 ms, total: 2 ms\n",
      "Wall time: 8.02 s\n"
     ]
    }
   ],
   "source": [
    "%%time\n",
    "results = [slowadd(i, i, delay=1) for i in range(8)]"
   ]
  },
  {
   "cell_type": "code",
   "execution_count": 23,
   "metadata": {
    "slideshow": {
     "slide_type": "fragment"
    }
   },
   "outputs": [
    {
     "name": "stdout",
     "output_type": "stream",
     "text": [
      "CPU times: user 1.79 ms, sys: 2.33 ms, total: 4.12 ms\n",
      "Wall time: 2.01 s\n"
     ]
    }
   ],
   "source": [
    "%%time\n",
    "futures = [e.submit(slowadd, 1, 1, delay=1) for i in range(8)]\n",
    "results = [f.result() for f in futures]"
   ]
  },
  {
   "cell_type": "markdown",
   "metadata": {
    "slideshow": {
     "slide_type": "slide"
    }
   },
   "source": [
    "*  Submit fires off a single function call in the background, returning a future.  \n",
    "*  When you combine submit with a single for loop we recover the functionality of map.  \n",
    "*  To collect your results, replace each of futures, `f`, with a call to `f.result()`\n",
    "*  Combine submit with multiple for loops and other general programming to get something more general than map.\n",
    "*  Sometimes, it did not speed up the code very much\n",
    "*  Threads and processes show some performance differences\n",
    "*  Use threads carefully, you can break your Python session."
   ]
  },
  {
   "cell_type": "markdown",
   "metadata": {
    "slideshow": {
     "slide_type": "slide"
    }
   },
   "source": [
    "Today most library designers are coordinating around the concurrent.futures interface, so it's wise to move over.\n",
    "\n",
    "* Profile your code\n",
    "* Used concurrent.futures.ProcessPoolExecutor for simple parallelism \n",
    "* Gained some speed boost (but not as much as expected)\n",
    "* Lost ability to diagnose performance within parallel code\n",
    "* Describing each task as a function call helps use tools like map for parallelism\n",
    "* Making your tasks fast is often at least as important as parallelizing your tasks."
   ]
  },
  {
   "cell_type": "markdown",
   "metadata": {
    "slideshow": {
     "slide_type": "slide"
    }
   },
   "source": [
    "### Exercise: Pi computation\n",
    "\n",
    "Parallelize this computation with a ProcessPoolExecutor. ThreadPoolExecutor is not usable because of `random` function calls."
   ]
  },
  {
   "cell_type": "code",
   "execution_count": 24,
   "metadata": {
    "slideshow": {
     "slide_type": "fragment"
    }
   },
   "outputs": [
    {
     "name": "stdout",
     "output_type": "stream",
     "text": [
      "Estimated value of Pi : 3.14173600 time : 13.55839324\n"
     ]
    }
   ],
   "source": [
    "# Serial version\n",
    "\n",
    "import time, random\n",
    "def compute_pi(n):\n",
    "    count = 0\n",
    "    for i in range(n):\n",
    "        x=random.random()\n",
    "        y=random.random()\n",
    "        if x*x + y*y <= 1: count+=1\n",
    "    return count\n",
    "    \n",
    "elapsed_time = time.time()\n",
    "nb_simulations = 4\n",
    "n = 10**7\n",
    "result = []\n",
    "for i in range(nb_simulations): # launch 4 simulations\n",
    "    result.append(compute_pi(n))\n",
    "pi = 4* sum(result)/ (n*nb_simulations)\n",
    "print (\"Estimated value of Pi : {0:.8f} time : {1:.8f}\".format(pi,time.time()-elapsed_time))"
   ]
  },
  {
   "cell_type": "markdown",
   "metadata": {
    "scrolled": true,
    "slideshow": {
     "slide_type": "slide"
    }
   },
   "source": [
    "<button data-toggle=\"collapse\" data-target=\"#sol1\" class='btn btn-primary'>Solution with map</button>\n",
    "<div id=\"sol1\" class=\"collapse\">\n",
    "```python\n",
    "import time, random, math\n",
    "from multiprocessing import cpu_count\n",
    "from concurrent.futures import ProcessPoolExecutor\n",
    "\n",
    "def compute_pi(n):\n",
    "    count = 0\n",
    "    for i in range(n):\n",
    "        x=random.random()\n",
    "        y=random.random()\n",
    "        if x*x + y*y <= 1: count+=1\n",
    "    return count\n",
    "\n",
    "times = []\n",
    "for np in range(1,cpu_count()+1):\n",
    "    elapsed_time = time.time()\n",
    "    n = 4 * 10**7\n",
    "    part_count=[n//np] * np\n",
    "    with ProcessPoolExecutor(np) as pool: \n",
    "        count=pool.map(compute_pi, part_count)\n",
    "    pi = 4*sum(count)/n\n",
    "    print (\"Number of cores {0}, Error : {1:.8f}\"\n",
    "       \" time : {2:.8f}\".format(np, abs(pi-math.pi) ,time.time()-elapsed_time))\n",
    "    times.append(time.time()-elapsed_time)\n",
    "    \n",
    "```"
   ]
  },
  {
   "cell_type": "code",
   "execution_count": 27,
   "metadata": {
    "slideshow": {
     "slide_type": "slide"
    }
   },
   "outputs": [
    {
     "data": {
      "image/png": "[encoded data removed]",
      "text/plain": [
       "<matplotlib.figure.Figure at 0x116c23d30>"
      ]
     },
     "metadata": {},
     "output_type": "display_data"
    }
   ],
   "source": [
    "%matplotlib inline\n",
    "import matplotlib.pyplot as plt\n",
    "import seaborn as sns\n",
    "sns.set()\n",
    "procs = [p+1 for p in range(len(times))]\n",
    "etimes = [times[0]/t for t,p in zip(times,procs)]\n",
    "plt.plot(procs,etimes,'b-o', procs, procs, 'r-');"
   ]
  },
  {
   "cell_type": "markdown",
   "metadata": {},
   "source": [
    "<button data-toggle=\"collapse\" data-target=\"#sol2\" class='btn btn-primary'>Solution with submit</button>\n",
    "<div id=\"sol2\" class=\"collapse\">\n",
    "```python\n",
    "import time, random\n",
    "from concurrent.futures import ProcessPoolExecutor\n",
    "def compute_pi(n):\n",
    "    count = 0\n",
    "    for i in range(n):\n",
    "        x=random.random()\n",
    "        y=random.random()\n",
    "        if x*x + y*y <= 1: count+=1\n",
    "    return count\n",
    "    \n",
    "elapsed_time = time.time()\n",
    "np = 4\n",
    "n = 10**7\n",
    "\n",
    "pool = ProcessPoolExecutor()\n",
    "\n",
    "futures = [pool.submit(compute_pi,n)] * np\n",
    "\n",
    "results = [f.result() for f in futures]\n",
    "    \n",
    "pi = 4* sum(results)/ (n*np)\n",
    "print (\"Estimated value of Pi : {0:.8f} time : {1:.8f}\".format(pi,time.time()-elapsed_time))\n",
    "```"
   ]
  },
  {
   "cell_type": "markdown",
   "metadata": {
    "slideshow": {
     "slide_type": "slide"
    }
   },
   "source": [
    "# Joblib (bonus)\n",
    "\n",
    "[Joblib](http://pythonhosted.org/joblib/) provides a simple helper class to write parallel for loops using multiprocessing. \n"
   ]
  },
  {
   "cell_type": "code",
   "execution_count": 30,
   "metadata": {
    "slideshow": {
     "slide_type": "fragment"
    }
   },
   "outputs": [
    {
     "name": "stdout",
     "output_type": "stream",
     "text": [
      "CPU times: user 45.6 ms, sys: 26.9 ms, total: 72.5 ms\n",
      "Wall time: 1.1 s\n"
     ]
    }
   ],
   "source": [
    "%%time\n",
    "from joblib import Parallel, delayed\n",
    "Parallel(n_jobs=8)(delayed(f)(x) for x in range(8))"
   ]
  },
  {
   "cell_type": "markdown",
   "metadata": {
    "slideshow": {
     "slide_type": "fragment"
    }
   },
   "source": [
    "<button data-toggle=\"collapse\" data-target=\"#sol3\" class='btn btn-primary'>Solution with joblib</button>\n",
    "<div id=\"sol3\" class=\"collapse\">\n",
    "```python\n",
    "%%time\n",
    "from joblib import Parallel, delayed\n",
    "\n",
    "np = 4\n",
    "n  = 10**7\n",
    "part_count = [n] * np\n",
    "result = Parallel(n_jobs=np)(delayed(compute_pi)(i) for i in part_count)\n",
    "\n",
    "pi = 4* sum(result)/ n\n",
    "\n",
    "print (\"Estimated value of Pi : {0:.8f}\".format(pi))\n",
    "```"
   ]
  },
  {
   "cell_type": "code",
   "execution_count": 1,
   "metadata": {},
   "outputs": [],
   "source": [
    "def laplacian(T):\n",
    "    Told = T[1:-1, 1:-1]\n",
    "    Tnew = (T[1:-1,2:]+T[2:,1:-1]+T[1:-1,:-2]+T[:-2,1:-1])/4.0\n",
    "    Tmask = Tnew > 0.0\n",
    "    residual = (numpy.repeat(numpy.fabs(Told-Tnews).flat,\n",
    "                             Tmask.flat) / \\\n",
    "                numpy.repeat(Tnew.flat, Tmask.flat)).max()\n",
    "    return Tnew, residual\n",
    "\n",
    "def laplacian_parallel(T, n, pool):d\n",
    "    d = min(7, n-2) # partition must be optimized ...\n",
    "    # Make slices of equal size\n",
    "    slices_jmin = numpy.arange(1, n-1, d)    \n",
    "    slices_jmax = numpy.minimum(slices_jmin + d, n-1)\n",
    "    # slice size must be > 1\n",
    "    slices_jmin = numpy.minimum(slices_jmin, slices_jmax-1)\n",
    "    # submit all tasks\n",
    "    slices = pool.map(laplacian, [T[:, jmin-1:jmax+1]\n",
    "                                  for jmin, jmax in zip(slices_jmin,\n",
    "                                                        slices_jmax)])\n",
    "    # cmpute residual\n",
    "    self._residual = max(t[1] for t in slices)\n",
    "    # copie new temperature values in  T\n",
    "    for jmin, jmax, (apres, _)  in zip(slices_jmin, slices_jmax, slices):\n",
    "      T[1:-1, jmin:jmax] = Tnew\n",
    "    return residual"
   ]
  },
  {
   "cell_type": "code",
   "execution_count": null,
   "metadata": {},
   "outputs": [],
   "source": []
  }
 ],
 "metadata": {
  "kernelspec": {
   "display_name": "Python 3",
   "language": "python",
   "name": "python3"
  },
  "language_info": {
   "codemirror_mode": {
    "name": "ipython",
    "version": 3
   },
   "file_extension": ".py",
   "mimetype": "text/x-python",
   "name": "python",
   "nbconvert_exporter": "python",
   "pygments_lexer": "ipython3",
   "version": "3.6.3"
  }
 },
 "nbformat": 4,
 "nbformat_minor": 2
}
