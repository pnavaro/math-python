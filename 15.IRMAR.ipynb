{
 "cells": [
  {
   "cell_type": "code",
   "execution_count": 2,
   "metadata": {},
   "outputs": [],
   "source": [
    "import numpy as np\n",
    "\n",
    "with open('data/IRMAR-2017-2018.txt') as f:\n",
    "    data = f.readlines()\n",
    "\n",
    "org_catalog = ['AGRO', 'INSA', 'R1', 'R2', 'INRIA', 'EXT', 'ENS', 'CNRS']\n",
    "pos_catalog = ['PR', 'CR', 'DOC', 'MC', 'DR', 'MC-HDR', 'CR-HDR', 'PE',\n",
    "               'PDOC', 'ADMG', 'TC', 'IR', 'IE', 'AI', 'AGPREP', 'ATER,DOC',\n",
    "               'ADMG', 'ADM-UFR', 'PRAG', 'CH', 'ADMP', 'CH-HDR', 'ATER', 'LOG']\n",
    "\n",
    "names, phones, offices, orgs, positions, teams = [], [], [], [], [], []\n",
    "for m, line in enumerate(data):\n",
    "\n",
    "    member = line.strip()\n",
    "    i = member.index('+')\n",
    "    name = member[:i]\n",
    "    names.append(name)\n",
    "    phones.append(member[i:i+17].replace(' ',''))\n",
    "    remind = member[i+17:].split()\n",
    "    office = 'NA'\n",
    "    organization = 'R1'\n",
    "    team = ['NA']\n",
    "\n",
    "    # office\n",
    "    if remind[0].isdigit() or '/' in remind[0]:\n",
    "        offices.append(remind[0])\n",
    "        office = remind[0]\n",
    "        remind.pop(0)\n",
    "    else:\n",
    "        offices.append('NA')\n",
    "\n",
    "    # organization\n",
    "    if len(remind) > 0 and remind[0] in org_catalog:\n",
    "        orgs.append(remind[0])\n",
    "        organization = remind[0]\n",
    "        remind.pop(0)\n",
    "    else:\n",
    "        orgs.append('R1')\n",
    "\n",
    "    # position\n",
    "    if len(remind) > 0 and remind[0] in pos_catalog:\n",
    "        positions.append(remind[0])\n",
    "        position = remind[0]\n",
    "        remind.pop(0)\n",
    "    else:\n",
    "        position = 'NA'\n",
    "        positions.append('NA')\n",
    "\n",
    "    # team\n",
    "    if len(remind) > 0:\n",
    "        team = remind[-1].split(',')\n",
    "        if len(team) == 2:\n",
    "            teams.append(tuple(team))\n",
    "        else:\n",
    "            teams.append(tuple(team+['NA']))\n",
    "    else:\n",
    "        teams.append(('ADM','NA'))\n",
    "\n",
    "irmar = np.zeros(len(data),\n",
    "dtype={'names': ['name', 'phone', 'office', 'organization', 'position', 'hdr', 'team1', 'team2'],\n",
    "       'formats': ['U30', 'U17', 'U7', 'U5', 'U6', '?', 'U9', 'U9']})"
   ]
  },
  {
   "cell_type": "code",
   "execution_count": 3,
   "metadata": {},
   "outputs": [],
   "source": [
    "irmar['name'] = names\n",
    "irmar['phone'] = phones\n",
    "irmar['office'] = offices\n",
    "irmar['organization'] = orgs\n",
    "\n",
    "def _hdr(position):\n",
    "    return any(x in position for x in ['HDR','PR','DR','PE'])\n",
    "    \n",
    "irmar['hdr'] = [ _hdr(position) for position in positions]\n",
    "irmar['position'] = [position.replace('-HDR','') for position in positions]\n",
    "irmar['team1'] = [team[0] for team in teams]\n",
    "irmar['team2'] = [team[1] for team in teams]"
   ]
  },
  {
   "cell_type": "code",
   "execution_count": 4,
   "metadata": {},
   "outputs": [],
   "source": [
    "import pandas as pd\n",
    "df = pd.DataFrame(irmar)\n",
    "df['position'] = df.position.astype('category')\n",
    "df['team1'] = df.team1.astype('category')\n",
    "df['team2'] = df.team2.astype('category')\n",
    "df['organization'] = df.organization.astype('category')\n",
    "df['hdr'] = df.hdr.astype('bool')"
   ]
  },
  {
   "cell_type": "markdown",
   "metadata": {},
   "source": [
    "- Combien d'enseignants-chercheurs habilités à diriger des recherches ?"
   ]
  },
  {
   "cell_type": "code",
   "execution_count": 5,
   "metadata": {},
   "outputs": [
    {
     "data": {
      "text/plain": [
       "103"
      ]
     },
     "execution_count": 5,
     "metadata": {},
     "output_type": "execute_result"
    }
   ],
   "source": [
    "len(df[df.hdr])"
   ]
  },
  {
   "cell_type": "markdown",
   "metadata": {},
   "source": [
    "- Combien d'enseignants-chercheurs de Rennes 2 ?"
   ]
  },
  {
   "cell_type": "code",
   "execution_count": 6,
   "metadata": {},
   "outputs": [
    {
     "data": {
      "text/plain": [
       "11"
      ]
     },
     "execution_count": 6,
     "metadata": {},
     "output_type": "execute_result"
    }
   ],
   "source": [
    "len(df[df.organization == 'R2'])"
   ]
  },
  {
   "cell_type": "code",
   "execution_count": 7,
   "metadata": {},
   "outputs": [
    {
     "data": {
      "text/html": [
       "<div>\n",
       "<style scoped>\n",
       "    .dataframe tbody tr th:only-of-type {\n",
       "        vertical-align: middle;\n",
       "    }\n",
       "\n",
       "    .dataframe tbody tr th {\n",
       "        vertical-align: top;\n",
       "    }\n",
       "\n",
       "    .dataframe thead th {\n",
       "        text-align: right;\n",
       "    }\n",
       "</style>\n",
       "<table border=\"1\" class=\"dataframe\">\n",
       "  <thead>\n",
       "    <tr style=\"text-align: right;\">\n",
       "      <th></th>\n",
       "      <th>name</th>\n",
       "      <th>phone</th>\n",
       "      <th>office</th>\n",
       "      <th>organization</th>\n",
       "      <th>position</th>\n",
       "      <th>hdr</th>\n",
       "      <th>team1</th>\n",
       "      <th>team2</th>\n",
       "    </tr>\n",
       "  </thead>\n",
       "  <tbody>\n",
       "    <tr>\n",
       "      <th>142</th>\n",
       "      <td>Le Guevel Ronan</td>\n",
       "      <td>+33299141800</td>\n",
       "      <td>NA</td>\n",
       "      <td>R2</td>\n",
       "      <td>MC</td>\n",
       "      <td>False</td>\n",
       "      <td>PROC-STOC</td>\n",
       "      <td>STAT</td>\n",
       "    </tr>\n",
       "  </tbody>\n",
       "</table>\n",
       "</div>"
      ],
      "text/plain": [
       "                 name         phone office organization position    hdr  \\\n",
       "142  Le Guevel Ronan   +33299141800     NA           R2       MC  False   \n",
       "\n",
       "         team1 team2  \n",
       "142  PROC-STOC  STAT  "
      ]
     },
     "execution_count": 7,
     "metadata": {},
     "output_type": "execute_result"
    }
   ],
   "source": [
    "df.loc[df['name'].str.contains(\"Guevel\")]"
   ]
  },
  {
   "cell_type": "markdown",
   "metadata": {},
   "source": [
    "- Liste des MC de l'équipe STATS"
   ]
  },
  {
   "cell_type": "code",
   "execution_count": 13,
   "metadata": {},
   "outputs": [
    {
     "data": {
      "text/html": [
       "<div>\n",
       "<style scoped>\n",
       "    .dataframe tbody tr th:only-of-type {\n",
       "        vertical-align: middle;\n",
       "    }\n",
       "\n",
       "    .dataframe tbody tr th {\n",
       "        vertical-align: top;\n",
       "    }\n",
       "\n",
       "    .dataframe thead th {\n",
       "        text-align: right;\n",
       "    }\n",
       "</style>\n",
       "<table border=\"1\" class=\"dataframe\">\n",
       "  <thead>\n",
       "    <tr style=\"text-align: right;\">\n",
       "      <th></th>\n",
       "      <th>name</th>\n",
       "      <th>phone</th>\n",
       "      <th>office</th>\n",
       "      <th>organization</th>\n",
       "      <th>position</th>\n",
       "      <th>hdr</th>\n",
       "      <th>team1</th>\n",
       "      <th>team2</th>\n",
       "    </tr>\n",
       "  </thead>\n",
       "  <tbody>\n",
       "    <tr>\n",
       "      <th>17</th>\n",
       "      <td>Bennani-Dosse Mohammed</td>\n",
       "      <td>+33299141796</td>\n",
       "      <td>NA</td>\n",
       "      <td>R2</td>\n",
       "      <td>MC</td>\n",
       "      <td>False</td>\n",
       "      <td>STAT</td>\n",
       "      <td>NA</td>\n",
       "    </tr>\n",
       "    <tr>\n",
       "      <th>42</th>\n",
       "      <td>Chagneau Pierrette</td>\n",
       "      <td>+33223238528</td>\n",
       "      <td>NA</td>\n",
       "      <td>INSA</td>\n",
       "      <td>MC</td>\n",
       "      <td>False</td>\n",
       "      <td>STAT</td>\n",
       "      <td>NA</td>\n",
       "    </tr>\n",
       "    <tr>\n",
       "      <th>46</th>\n",
       "      <td>Chauvet Guillaume</td>\n",
       "      <td>+33299053233</td>\n",
       "      <td>NA</td>\n",
       "      <td>R1</td>\n",
       "      <td>MC</td>\n",
       "      <td>True</td>\n",
       "      <td>STAT</td>\n",
       "      <td>NA</td>\n",
       "    </tr>\n",
       "    <tr>\n",
       "      <th>55</th>\n",
       "      <td>Cornillon Pierre-André</td>\n",
       "      <td>+33299141819</td>\n",
       "      <td>NA</td>\n",
       "      <td>R2</td>\n",
       "      <td>MC</td>\n",
       "      <td>False</td>\n",
       "      <td>STAT</td>\n",
       "      <td>NA</td>\n",
       "    </tr>\n",
       "    <tr>\n",
       "      <th>83</th>\n",
       "      <td>Emily Mathieu</td>\n",
       "      <td>+33299141807</td>\n",
       "      <td>121</td>\n",
       "      <td>R1</td>\n",
       "      <td>MC</td>\n",
       "      <td>True</td>\n",
       "      <td>STAT</td>\n",
       "      <td>NA</td>\n",
       "    </tr>\n",
       "    <tr>\n",
       "      <th>85</th>\n",
       "      <td>Etienne Marie-Pierre</td>\n",
       "      <td>+33223485874</td>\n",
       "      <td>NA</td>\n",
       "      <td>R1</td>\n",
       "      <td>MC</td>\n",
       "      <td>False</td>\n",
       "      <td>STAT</td>\n",
       "      <td>NA</td>\n",
       "    </tr>\n",
       "    <tr>\n",
       "      <th>93</th>\n",
       "      <td>Gares Valérie</td>\n",
       "      <td>+33223238948</td>\n",
       "      <td>NA</td>\n",
       "      <td>INSA</td>\n",
       "      <td>MC</td>\n",
       "      <td>False</td>\n",
       "      <td>STAT</td>\n",
       "      <td>NA</td>\n",
       "    </tr>\n",
       "    <tr>\n",
       "      <th>96</th>\n",
       "      <td>Giacofci Joyce Madison</td>\n",
       "      <td>+33299141800</td>\n",
       "      <td>NA</td>\n",
       "      <td>R2</td>\n",
       "      <td>MC</td>\n",
       "      <td>False</td>\n",
       "      <td>STAT</td>\n",
       "      <td>NA</td>\n",
       "    </tr>\n",
       "    <tr>\n",
       "      <th>130</th>\n",
       "      <td>Klutchnikoff Nicolas</td>\n",
       "      <td>+33299141819</td>\n",
       "      <td>NA</td>\n",
       "      <td>R2</td>\n",
       "      <td>MC</td>\n",
       "      <td>False</td>\n",
       "      <td>STAT</td>\n",
       "      <td>NA</td>\n",
       "    </tr>\n",
       "    <tr>\n",
       "      <th>131</th>\n",
       "      <td>Krell Nathalie</td>\n",
       "      <td>+33223236000</td>\n",
       "      <td>305</td>\n",
       "      <td>R1</td>\n",
       "      <td>MC</td>\n",
       "      <td>False</td>\n",
       "      <td>STAT</td>\n",
       "      <td>NA</td>\n",
       "    </tr>\n",
       "    <tr>\n",
       "      <th>135</th>\n",
       "      <td>Le Sébastien</td>\n",
       "      <td>+33223485887</td>\n",
       "      <td>NA</td>\n",
       "      <td>AGRO</td>\n",
       "      <td>MC</td>\n",
       "      <td>False</td>\n",
       "      <td>STAT</td>\n",
       "      <td>NA</td>\n",
       "    </tr>\n",
       "    <tr>\n",
       "      <th>142</th>\n",
       "      <td>Le Guevel Ronan</td>\n",
       "      <td>+33299141800</td>\n",
       "      <td>NA</td>\n",
       "      <td>R2</td>\n",
       "      <td>MC</td>\n",
       "      <td>False</td>\n",
       "      <td>PROC-STOC</td>\n",
       "      <td>STAT</td>\n",
       "    </tr>\n",
       "    <tr>\n",
       "      <th>172</th>\n",
       "      <td>Mom Alain</td>\n",
       "      <td>+33299141808</td>\n",
       "      <td>NA</td>\n",
       "      <td>R2</td>\n",
       "      <td>MC</td>\n",
       "      <td>False</td>\n",
       "      <td>STAT</td>\n",
       "      <td>NA</td>\n",
       "    </tr>\n",
       "    <tr>\n",
       "      <th>218</th>\n",
       "      <td>Rouviere Laurent</td>\n",
       "      <td>+33299141804</td>\n",
       "      <td>NA</td>\n",
       "      <td>R2</td>\n",
       "      <td>MC</td>\n",
       "      <td>False</td>\n",
       "      <td>STAT</td>\n",
       "      <td>NA</td>\n",
       "    </tr>\n",
       "    <tr>\n",
       "      <th>231</th>\n",
       "      <td>Truquet Lionel</td>\n",
       "      <td>+33223236670</td>\n",
       "      <td>NA</td>\n",
       "      <td>R1</td>\n",
       "      <td>MC</td>\n",
       "      <td>False</td>\n",
       "      <td>STAT</td>\n",
       "      <td>NA</td>\n",
       "    </tr>\n",
       "  </tbody>\n",
       "</table>\n",
       "</div>"
      ],
      "text/plain": [
       "                        name         phone office organization position  \\\n",
       "17   Bennani-Dosse Mohammed   +33299141796     NA           R2       MC   \n",
       "42       Chagneau Pierrette   +33223238528     NA         INSA       MC   \n",
       "46        Chauvet Guillaume   +33299053233     NA           R1       MC   \n",
       "55   Cornillon Pierre-André   +33299141819     NA           R2       MC   \n",
       "83            Emily Mathieu   +33299141807    121           R1       MC   \n",
       "85     Etienne Marie-Pierre   +33223485874     NA           R1       MC   \n",
       "93            Gares Valérie   +33223238948     NA         INSA       MC   \n",
       "96   Giacofci Joyce Madison   +33299141800     NA           R2       MC   \n",
       "130    Klutchnikoff Nicolas   +33299141819     NA           R2       MC   \n",
       "131          Krell Nathalie   +33223236000    305           R1       MC   \n",
       "135            Le Sébastien   +33223485887     NA         AGRO       MC   \n",
       "142         Le Guevel Ronan   +33299141800     NA           R2       MC   \n",
       "172               Mom Alain   +33299141808     NA           R2       MC   \n",
       "218        Rouviere Laurent   +33299141804     NA           R2       MC   \n",
       "231          Truquet Lionel   +33223236670     NA           R1       MC   \n",
       "\n",
       "       hdr      team1 team2  \n",
       "17   False       STAT    NA  \n",
       "42   False       STAT    NA  \n",
       "46    True       STAT    NA  \n",
       "55   False       STAT    NA  \n",
       "83    True       STAT    NA  \n",
       "85   False       STAT    NA  \n",
       "93   False       STAT    NA  \n",
       "96   False       STAT    NA  \n",
       "130  False       STAT    NA  \n",
       "131  False       STAT    NA  \n",
       "135  False       STAT    NA  \n",
       "142  False  PROC-STOC  STAT  \n",
       "172  False       STAT    NA  \n",
       "218  False       STAT    NA  \n",
       "231  False       STAT    NA  "
      ]
     },
     "execution_count": 13,
     "metadata": {},
     "output_type": "execute_result"
    }
   ],
   "source": [
    "df.loc[df.position == 'MC'].loc[(df.team1 == 'STAT') | (df.team2 == 'STAT')]"
   ]
  },
  {
   "cell_type": "markdown",
   "metadata": {},
   "source": [
    "- Pourcentage d'EC non doctorants habilités"
   ]
  },
  {
   "cell_type": "code",
   "execution_count": 14,
   "metadata": {},
   "outputs": [
    {
     "data": {
      "text/plain": [
       "56.59340659340659"
      ]
     },
     "execution_count": 14,
     "metadata": {},
     "output_type": "execute_result"
    }
   ],
   "source": [
    "df.loc[df.position != 'DOC'].hdr.sum()/df.loc[df.position != 'DOC'].hdr.count()*100"
   ]
  },
  {
   "cell_type": "code",
   "execution_count": 15,
   "metadata": {},
   "outputs": [],
   "source": [
    "res = pd.DataFrame()\n",
    "for position in ['DOC','PR','MC','CR','DR']:\n",
    "    res[position] = df.loc[df.position == position].groupby('team1').name.count()"
   ]
  },
  {
   "cell_type": "code",
   "execution_count": 16,
   "metadata": {},
   "outputs": [],
   "source": [
    "res = res.drop(['INFO','IREM','BIBLI','ADM'])"
   ]
  },
  {
   "cell_type": "code",
   "execution_count": 20,
   "metadata": {},
   "outputs": [],
   "source": [
    "import matplotlib.pyplot as plt\n",
    "plt.rcParams['figure.figsize'] = (10,6)"
   ]
  },
  {
   "cell_type": "code",
   "execution_count": 34,
   "metadata": {},
   "outputs": [
    {
     "data": {
      "text/plain": [
       "<matplotlib.axes._subplots.AxesSubplot at 0x10b7c4f98>"
      ]
     },
     "execution_count": 34,
     "metadata": {},
     "output_type": "execute_result"
    },
    {
     "data": {
      "image/png": "[encoded data removed]",
      "text/plain": [
       "<Figure size 576x576 with 1 Axes>"
      ]
     },
     "metadata": {},
     "output_type": "display_data"
    }
   ],
   "source": [
    "res.sum().plot.pie(figsize=(8, 8))"
   ]
  },
  {
   "cell_type": "code",
   "execution_count": 39,
   "metadata": {},
   "outputs": [
    {
     "data": {
      "text/plain": [
       "<matplotlib.axes._subplots.AxesSubplot at 0x10b817438>"
      ]
     },
     "execution_count": 39,
     "metadata": {},
     "output_type": "execute_result"
    },
    {
     "data": {
      "image/png": "[encoded data removed]",
      "text/plain": [
       "<Figure size 576x576 with 1 Axes>"
      ]
     },
     "metadata": {},
     "output_type": "display_data"
    }
   ],
   "source": [
    "res.sum(axis=1).plot.pie(figsize=(8, 8))"
   ]
  },
  {
   "cell_type": "markdown",
   "metadata": {},
   "source": [
    "- Nombre de maitres de conférence"
   ]
  },
  {
   "cell_type": "code",
   "execution_count": 26,
   "metadata": {
    "scrolled": true
   },
   "outputs": [
    {
     "data": {
      "text/plain": [
       "62"
      ]
     },
     "execution_count": 26,
     "metadata": {},
     "output_type": "execute_result"
    }
   ],
   "source": [
    "df['name'].loc[df.position == 'MC'].count()"
   ]
  },
  {
   "cell_type": "code",
   "execution_count": null,
   "metadata": {},
   "outputs": [],
   "source": []
  }
 ],
 "metadata": {
  "kernelspec": {
   "display_name": "Python 3",
   "language": "python",
   "name": "python3"
  },
  "language_info": {
   "codemirror_mode": {
    "name": "ipython",
    "version": 3
   },
   "file_extension": ".py",
   "mimetype": "text/x-python",
   "name": "python",
   "nbconvert_exporter": "python",
   "pygments_lexer": "ipython3",
   "version": "3.6.5"
  }
 },
 "nbformat": 4,
 "nbformat_minor": 2
}
