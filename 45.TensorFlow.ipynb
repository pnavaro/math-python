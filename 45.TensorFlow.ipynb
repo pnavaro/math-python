{
 "cells": [
  {
   "cell_type": "code",
   "execution_count": null,
   "metadata": {},
   "outputs": [],
   "source": [
    "import numpy as np\n",
    "import tensorflow as tf\n",
    "n = 10\n",
    "a = np.random.random(n)\n",
    "b = np.arange(n,dtype=np.float64)\n",
    "\n",
    "ta = tf.constant(a)  \n",
    "tb = tf.constant(b)\n",
    "\n",
    "# Create a session object\n",
    "with tensorflow.Session() as s:\n",
    "    result = tf.add_n([tf.multiply(2*ta ,tb),ta**2,tb**2])\n",
    "    print(np.all(2*a*b+a**2+b**2 == s.run(result)))\n",
    "\n",
    "\n"
   ]
  }
 ],
 "metadata": {
  "kernelspec": {
   "display_name": "Python 3",
   "language": "python",
   "name": "python3"
  },
  "language_info": {
   "codemirror_mode": {
    "name": "ipython",
    "version": 3
   },
   "file_extension": ".py",
   "mimetype": "text/x-python",
   "name": "python",
   "nbconvert_exporter": "python",
   "pygments_lexer": "ipython3",
   "version": "3.6.2"
  }
 },
 "nbformat": 4,
 "nbformat_minor": 2
}
