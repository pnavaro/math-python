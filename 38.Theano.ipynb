{
 "cells": [
  {
   "cell_type": "code",
   "execution_count": 8,
   "metadata": {},
   "outputs": [],
   "source": [
    "import numpy as np\n",
    "import numexpr\n",
    "n = 4*8192\n",
    "a = np.random.random(n)\n",
    "b = np.arange(n)"
   ]
  },
  {
   "cell_type": "code",
   "execution_count": 9,
   "metadata": {},
   "outputs": [
    {
     "name": "stdout",
     "output_type": "stream",
     "text": [
      "159 µs ± 10.8 µs per loop (mean ± std. dev. of 7 runs, 10000 loops each)\n"
     ]
    }
   ],
   "source": [
    "%timeit res = a ** 2 + b ** 2 + 2 * a * b "
   ]
  },
  {
   "cell_type": "code",
   "execution_count": 10,
   "metadata": {},
   "outputs": [
    {
     "name": "stdout",
     "output_type": "stream",
     "text": [
      "193 µs ± 441 ns per loop (mean ± std. dev. of 7 runs, 10000 loops each)\n"
     ]
    }
   ],
   "source": [
    "%timeit res = numexpr.evaluate(\"a ** 2 + b ** 2 + 2 * a * b \");"
   ]
  },
  {
   "cell_type": "code",
   "execution_count": 11,
   "metadata": {},
   "outputs": [],
   "source": [
    "from theano import function  \n",
    "import theano  \n",
    "import theano.tensor as T\n",
    "\n",
    "ta = theano.shared(a)  \n",
    "tb = theano.shared(b)\n",
    "\n",
    "out = ta ** 2 + tb ** 2 + 2 * ta * tb  # build symbolic expression\n",
    "f = theano.function([], out)   # compile function\n",
    "\n"
   ]
  },
  {
   "cell_type": "code",
   "execution_count": 12,
   "metadata": {},
   "outputs": [
    {
     "name": "stdout",
     "output_type": "stream",
     "text": [
      "53.4 µs ± 524 ns per loop (mean ± std. dev. of 7 runs, 10000 loops each)\n"
     ]
    }
   ],
   "source": [
    "%timeit f()"
   ]
  },
  {
   "cell_type": "code",
   "execution_count": 35,
   "metadata": {},
   "outputs": [
    {
     "name": "stdout",
     "output_type": "stream",
     "text": [
      "True\n"
     ]
    }
   ],
   "source": [
    "import numpy as np\n",
    "import tensorflow as tf\n",
    "n = 10\n",
    "a = np.random.random(n)\n",
    "b = np.arange(n,dtype=np.float64)\n",
    "\n",
    "ta = tf.constant(a)  \n",
    "tb = tf.constant(b)\n",
    "\n",
    "# Create a session object\n",
    "with tensorflow.Session() as s:\n",
    "    result = tf.add_n([tf.multiply(2*ta ,tb),tf.pow(ta,2),tf.pow(tb,2)])\n",
    "    print(np.all(2*a*b+a**2+b**2 == s.run(result)))\n",
    "\n"
   ]
  },
  {
   "cell_type": "code",
   "execution_count": null,
   "metadata": {},
   "outputs": [],
   "source": []
  },
  {
   "cell_type": "code",
   "execution_count": null,
   "metadata": {},
   "outputs": [],
   "source": []
  }
 ],
 "metadata": {
  "kernelspec": {
   "display_name": "Python 3",
   "language": "python",
   "name": "python3"
  },
  "language_info": {
   "codemirror_mode": {
    "name": "ipython",
    "version": 3
   },
   "file_extension": ".py",
   "mimetype": "text/x-python",
   "name": "python",
   "nbconvert_exporter": "python",
   "pygments_lexer": "ipython3",
   "version": "3.6.2"
  }
 },
 "nbformat": 4,
 "nbformat_minor": 2
}
