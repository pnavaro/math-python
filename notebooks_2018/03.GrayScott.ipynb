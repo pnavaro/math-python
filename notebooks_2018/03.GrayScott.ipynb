{
 "cells": [
  {
   "cell_type": "markdown",
   "metadata": {},
   "source": [
    "The reaction-diffusion system described here involves two generic chemical species U and V, whose concentration at a given point in space is referred to by variables u and v. As the term implies, they react with each other, and they diffuse through the medium. Therefore the concentration of U and V at any given location changes with time and can differ from that at other locations.\n",
    "\n",
    "The overall behavior of the system is described by the following formula, two equations which describe three sources of increase and decrease for each of the two chemicals:\n",
    "\n",
    "\n",
    "$$\n",
    "\\begin{array}{l}\n",
    "\\displaystyle \\frac{\\partial u}{\\partial t} = D_u \\Delta u - uv^2 + F(1-u) \\\\\n",
    "\\displaystyle \\frac{\\partial v}{\\partial t} = D_v \\Delta v + uv^2 - (F+k)v\n",
    "\\end{array}\n",
    "$$\n",
    "\n",
    "\n",
    "The classic Euler scheme is used to integrate the time derivative.\n",
    "\n",
    "[Reaction-Diffusion by the Gray-Scott Model: Pearson's Parametrization](https://mrob.com/pub/comp/xmorphia/)"
   ]
  },
  {
   "cell_type": "markdown",
   "metadata": {},
   "source": [
    "## Initialization\n",
    "\n",
    "$u = 1$ everywhere et $v = 0$ in the domain except in a square zone where $v = 0.25$ and $ u = 0.5$. This square located in the center of the domain is  $[0, 1]\\times[0,1]$ with a size of $0.2$.\n",
    "\n",
    "Parameters:"
   ]
  },
  {
   "cell_type": "code",
   "execution_count": 117,
   "metadata": {},
   "outputs": [],
   "source": [
    "Du, Dv = .1, .05\n",
    "F, k = 0.0545, 0.062"
   ]
  },
  {
   "cell_type": "code",
   "execution_count": 118,
   "metadata": {},
   "outputs": [],
   "source": [
    "%matplotlib inline"
   ]
  },
  {
   "cell_type": "code",
   "execution_count": 119,
   "metadata": {},
   "outputs": [
    {
     "data": {
      "text/plain": [
       "(-0.05, 1.05, -0.05, 1.05)"
      ]
     },
     "execution_count": 119,
     "metadata": {},
     "output_type": "execute_result"
    },
    {
     "data": {
      "image/png": "[encoded data removed]",
      "text/plain": [
       "<Figure size 720x432 with 1 Axes>"
      ]
     },
     "metadata": {
      "needs_background": "light"
     },
     "output_type": "display_data"
    }
   ],
   "source": [
    "import matplotlib.pyplot as plt\n",
    "plt.rcParams['figure.figsize'] = (10,6)\n",
    "\n",
    "plt.axes()\n",
    "\n",
    "ext_domain = plt.Rectangle((0,0), 1, 1, ec=\"k\", fc=\"b\")\n",
    "int_domain = plt.Rectangle((0.4,0.4), 0.2, 0.2, fc=\"r\", ec=\"k\")\n",
    "ax = plt.gca()\n",
    "ax.add_patch(ext_domain)\n",
    "ax.add_patch(int_domain)\n",
    "plt.axis('scaled')"
   ]
  },
  {
   "cell_type": "markdown",
   "metadata": {},
   "source": [
    "To represent values of $u$ and $v$ on the mesh we will use numpy arrays. Numpy provides `ndarray` multi-dimensional array object\n",
    "and derived objects such as masked arrays and matrices. It provides also a set of functions for fast array mathematical operations.\n",
    "\n",
    "It was initially developed by [Travis Oliphant](https://www.continuum.io/people/travis-oliphant)."
   ]
  },
  {
   "cell_type": "markdown",
   "metadata": {},
   "source": [
    "# Getting Started with NumPy\n",
    "\n",
    "- It is handy to import everything from NumPy into a Python console:\n",
    "```python\n",
    "from numpy import *\n",
    "```\n",
    "- But it is easier to read and debug if you use explicit imports.\n",
    "```python\n",
    "import numpy as np\n",
    "```"
   ]
  },
  {
   "cell_type": "code",
   "execution_count": 120,
   "metadata": {},
   "outputs": [
    {
     "name": "stdout",
     "output_type": "stream",
     "text": [
      "1.16.1\n"
     ]
    }
   ],
   "source": [
    "import numpy as np\n",
    "print(np.__version__)"
   ]
  },
  {
   "cell_type": "markdown",
   "metadata": {},
   "source": [
    "# Why Arrays ?\n",
    "\n",
    "Let's try to compute the laplacian using Python lists\n",
    "\n",
    "The laplacian is computed with the following numerical scheme\n",
    "\n",
    "$$\n",
    "\\Delta u_{i,j} \\approx u_{i,j-1} + u_{i-1,j} -4u_{i,j} + u_{i+1, j} + u_{i, j+1}\n",
    "$$\n",
    "\n",
    "Let's write a list of lists that represents $u$, its size is set to 1000 by 1000. Write function that takes this list of lists in input and return\n",
    "a new list of lists for $\\Delta u$."
   ]
  },
  {
   "cell_type": "code",
   "execution_count": 121,
   "metadata": {},
   "outputs": [],
   "source": [
    "nx, ny = 100, 100\n",
    "dx, dy = 1./nx, 1./ny\n",
    "\n",
    "u, v = [], []\n",
    "for i in range(nx):\n",
    "    u.append([0 for j in range(ny)])\n",
    "    \n",
    "for i in range(nx):\n",
    "    for j in range(ny):\n",
    "        if 400 < i < 600 and 400 < j < 600:\n",
    "            u[i][j] = 0.5"
   ]
  },
  {
   "cell_type": "code",
   "execution_count": 122,
   "metadata": {},
   "outputs": [],
   "source": [
    "def laplacian_python(u):\n",
    "    \n",
    "    delta_u = u.copy()\n",
    "    for i in range(1,nx-1):\n",
    "        for j in range(1,ny-1):\n",
    "            delta_u[i][j] = u[i][j-1]+u[i-1][j] \\\n",
    "                             -4*u[i][j]+u[i+1][j]+u[i][j+1]\n",
    "    \n",
    "    return delta_u"
   ]
  },
  {
   "cell_type": "code",
   "execution_count": 123,
   "metadata": {},
   "outputs": [
    {
     "name": "stdout",
     "output_type": "stream",
     "text": [
      "5.87 ms ± 23.1 µs per loop (mean ± std. dev. of 7 runs, 100 loops each)\n"
     ]
    }
   ],
   "source": [
    "%timeit laplacian_python(u)"
   ]
  },
  {
   "cell_type": "markdown",
   "metadata": {},
   "source": [
    "## Numpy Arrays\n",
    "\n",
    "- There are important differences between NumPy arrays and Python lists:\n",
    "    - NumPy arrays have a fixed size at creation.\n",
    "    - NumPy arrays elements are all required to be of the same data type.\n",
    "    - NumPy arrays operations are performed in compiled code for performance.\n",
    "- Most of today's scientific/mathematical Python-based software use NumPy arrays.\n",
    "- NumPy gives us the code simplicity of Python, but the operation is speedily executed by pre-compiled C code."
   ]
  },
  {
   "cell_type": "markdown",
   "metadata": {},
   "source": [
    "### Replace the list by a numpy array"
   ]
  },
  {
   "cell_type": "code",
   "execution_count": 124,
   "metadata": {},
   "outputs": [],
   "source": [
    "u = np.array(u)"
   ]
  },
  {
   "cell_type": "code",
   "execution_count": 125,
   "metadata": {},
   "outputs": [
    {
     "data": {
      "text/html": [
       "<table style='border-style:solid;border-width:1px;'>\n",
       "<tr>\n",
       "<td style='font-family:monospace;white-space: pre;' title='(0, 0)'>0</td>\n",
       "<td style='font-family:monospace;white-space: pre;' title='(0, 1)'>0</td>\n",
       "<td style='font-family:monospace;white-space: pre;' title='(0, 2)'>0</td>\n",
       "<td style='font-family:monospace;white-space: pre;' title='(0, 3)'>0</td>\n",
       "<td><center>⋯</center></td>\n",
       "<td style='font-family:monospace;white-space: pre;' title='(0, 96)'>0</td>\n",
       "<td style='font-family:monospace;white-space: pre;' title='(0, 97)'>0</td>\n",
       "<td style='font-family:monospace;white-space: pre;' title='(0, 98)'>0</td>\n",
       "<td style='font-family:monospace;white-space: pre;' title='(0, 99)'>0</td>\n",
       "</tr>\n",
       "<tr>\n",
       "<td style='font-family:monospace;white-space: pre;' title='(1, 0)'>0</td>\n",
       "<td style='font-family:monospace;white-space: pre;' title='(1, 1)'>0</td>\n",
       "<td style='font-family:monospace;white-space: pre;' title='(1, 2)'>0</td>\n",
       "<td style='font-family:monospace;white-space: pre;' title='(1, 3)'>0</td>\n",
       "<td><center>⋯</center></td>\n",
       "<td style='font-family:monospace;white-space: pre;' title='(1, 96)'>0</td>\n",
       "<td style='font-family:monospace;white-space: pre;' title='(1, 97)'>0</td>\n",
       "<td style='font-family:monospace;white-space: pre;' title='(1, 98)'>0</td>\n",
       "<td style='font-family:monospace;white-space: pre;' title='(1, 99)'>0</td>\n",
       "</tr>\n",
       "<tr>\n",
       "<td style='font-family:monospace;white-space: pre;' title='(2, 0)'>0</td>\n",
       "<td style='font-family:monospace;white-space: pre;' title='(2, 1)'>0</td>\n",
       "<td style='font-family:monospace;white-space: pre;' title='(2, 2)'>0</td>\n",
       "<td style='font-family:monospace;white-space: pre;' title='(2, 3)'>0</td>\n",
       "<td><center>⋯</center></td>\n",
       "<td style='font-family:monospace;white-space: pre;' title='(2, 96)'>0</td>\n",
       "<td style='font-family:monospace;white-space: pre;' title='(2, 97)'>0</td>\n",
       "<td style='font-family:monospace;white-space: pre;' title='(2, 98)'>0</td>\n",
       "<td style='font-family:monospace;white-space: pre;' title='(2, 99)'>0</td>\n",
       "</tr>\n",
       "<tr>\n",
       "<td style='font-family:monospace;white-space: pre;' title='(3, 0)'>0</td>\n",
       "<td style='font-family:monospace;white-space: pre;' title='(3, 1)'>0</td>\n",
       "<td style='font-family:monospace;white-space: pre;' title='(3, 2)'>0</td>\n",
       "<td style='font-family:monospace;white-space: pre;' title='(3, 3)'>0</td>\n",
       "<td><center>⋯</center></td>\n",
       "<td style='font-family:monospace;white-space: pre;' title='(3, 96)'>0</td>\n",
       "<td style='font-family:monospace;white-space: pre;' title='(3, 97)'>0</td>\n",
       "<td style='font-family:monospace;white-space: pre;' title='(3, 98)'>0</td>\n",
       "<td style='font-family:monospace;white-space: pre;' title='(3, 99)'>0</td>\n",
       "</tr>\n",
       "<tr>\n",
       "<td><center>⋮</center></td>\n",
       "<td><center>⋮</center></td>\n",
       "<td><center>⋮</center></td>\n",
       "<td><center>⋮</center></td>\n",
       "<td><center>⋱</center></td>\n",
       "<td><center>⋮</center></td>\n",
       "<td><center>⋮</center></td>\n",
       "<td><center>⋮</center></td>\n",
       "<td><center>⋮</center></td>\n",
       "</tr>\n",
       "<tr>\n",
       "<td style='font-family:monospace;white-space: pre;' title='(96, 0)'>0</td>\n",
       "<td style='font-family:monospace;white-space: pre;' title='(96, 1)'>0</td>\n",
       "<td style='font-family:monospace;white-space: pre;' title='(96, 2)'>0</td>\n",
       "<td style='font-family:monospace;white-space: pre;' title='(96, 3)'>0</td>\n",
       "<td><center>⋯</center></td>\n",
       "<td style='font-family:monospace;white-space: pre;' title='(96, 96)'>0</td>\n",
       "<td style='font-family:monospace;white-space: pre;' title='(96, 97)'>0</td>\n",
       "<td style='font-family:monospace;white-space: pre;' title='(96, 98)'>0</td>\n",
       "<td style='font-family:monospace;white-space: pre;' title='(96, 99)'>0</td>\n",
       "</tr>\n",
       "<tr>\n",
       "<td style='font-family:monospace;white-space: pre;' title='(97, 0)'>0</td>\n",
       "<td style='font-family:monospace;white-space: pre;' title='(97, 1)'>0</td>\n",
       "<td style='font-family:monospace;white-space: pre;' title='(97, 2)'>0</td>\n",
       "<td style='font-family:monospace;white-space: pre;' title='(97, 3)'>0</td>\n",
       "<td><center>⋯</center></td>\n",
       "<td style='font-family:monospace;white-space: pre;' title='(97, 96)'>0</td>\n",
       "<td style='font-family:monospace;white-space: pre;' title='(97, 97)'>0</td>\n",
       "<td style='font-family:monospace;white-space: pre;' title='(97, 98)'>0</td>\n",
       "<td style='font-family:monospace;white-space: pre;' title='(97, 99)'>0</td>\n",
       "</tr>\n",
       "<tr>\n",
       "<td style='font-family:monospace;white-space: pre;' title='(98, 0)'>0</td>\n",
       "<td style='font-family:monospace;white-space: pre;' title='(98, 1)'>0</td>\n",
       "<td style='font-family:monospace;white-space: pre;' title='(98, 2)'>0</td>\n",
       "<td style='font-family:monospace;white-space: pre;' title='(98, 3)'>0</td>\n",
       "<td><center>⋯</center></td>\n",
       "<td style='font-family:monospace;white-space: pre;' title='(98, 96)'>0</td>\n",
       "<td style='font-family:monospace;white-space: pre;' title='(98, 97)'>0</td>\n",
       "<td style='font-family:monospace;white-space: pre;' title='(98, 98)'>0</td>\n",
       "<td style='font-family:monospace;white-space: pre;' title='(98, 99)'>0</td>\n",
       "</tr>\n",
       "<tr>\n",
       "<td style='font-family:monospace;white-space: pre;' title='(99, 0)'>0</td>\n",
       "<td style='font-family:monospace;white-space: pre;' title='(99, 1)'>0</td>\n",
       "<td style='font-family:monospace;white-space: pre;' title='(99, 2)'>0</td>\n",
       "<td style='font-family:monospace;white-space: pre;' title='(99, 3)'>0</td>\n",
       "<td><center>⋯</center></td>\n",
       "<td style='font-family:monospace;white-space: pre;' title='(99, 96)'>0</td>\n",
       "<td style='font-family:monospace;white-space: pre;' title='(99, 97)'>0</td>\n",
       "<td style='font-family:monospace;white-space: pre;' title='(99, 98)'>0</td>\n",
       "<td style='font-family:monospace;white-space: pre;' title='(99, 99)'>0</td>\n",
       "</tr>\n",
       "</table>"
      ],
      "text/plain": [
       "array([[0, 0, 0, 0, ..., 0, 0, 0, 0],\n",
       "       [0, 0, 0, 0, ..., 0, 0, 0, 0],\n",
       "       [0, 0, 0, 0, ..., 0, 0, 0, 0],\n",
       "       [0, 0, 0, 0, ..., 0, 0, 0, 0],\n",
       "       ...,\n",
       "       [0, 0, 0, 0, ..., 0, 0, 0, 0],\n",
       "       [0, 0, 0, 0, ..., 0, 0, 0, 0],\n",
       "       [0, 0, 0, 0, ..., 0, 0, 0, 0],\n",
       "       [0, 0, 0, 0, ..., 0, 0, 0, 0]])"
      ]
     },
     "execution_count": 125,
     "metadata": {},
     "output_type": "execute_result"
    }
   ],
   "source": [
    "import numpy_html\n",
    "np.set_printoptions(threshold=2, edgeitems=4)\n",
    "u"
   ]
  },
  {
   "cell_type": "markdown",
   "metadata": {},
   "source": [
    "### Laplacian for numpy array"
   ]
  },
  {
   "cell_type": "code",
   "execution_count": 126,
   "metadata": {},
   "outputs": [],
   "source": [
    "def laplacian_numpy_with_loops(u):\n",
    "    \n",
    "    delta_u = np.zeros_like(u)\n",
    "    for i in range(1,nx-1):\n",
    "        for j in range(1,ny-1):\n",
    "            delta_u[i,j] = u[i,j-1]+u[i-1,j] \\\n",
    "                             -4*u[i,j]+u[i+1,j]+u[i,j+1]\n",
    "    \n",
    "    return delta_u"
   ]
  },
  {
   "cell_type": "code",
   "execution_count": 127,
   "metadata": {},
   "outputs": [
    {
     "name": "stdout",
     "output_type": "stream",
     "text": [
      "13.4 ms ± 58.8 µs per loop (mean ± std. dev. of 7 runs, 100 loops each)\n"
     ]
    }
   ],
   "source": [
    "%timeit laplacian_numpy_with_loops(u)"
   ]
  },
  {
   "cell_type": "markdown",
   "metadata": {},
   "source": [
    "Performance are not much better because of loops. If you want to get some spped using numpy you need to vectorize your operations.\n",
    "\n",
    "For example if we want to ompute derivative of $f(x) = \\sin(x)$ with finite difference method.\n",
    "$$\n",
    "    \\frac{\\partial f}{\\partial x} \\sim \\frac{f(x+dx)-f(x)}{dx}\n",
    "$$\n",
    "\n",
    "derivatives values are centered in-between sample points.\n",
    "\n",
    "Numpy provides the linspace function that returns an array of values equally spaced. You can also use the $sin$ function applied to all elements of $x$. Element wise operations are the “default mode”."
   ]
  },
  {
   "cell_type": "code",
   "execution_count": 128,
   "metadata": {},
   "outputs": [],
   "source": [
    "x, dx = np.linspace(0,4*np.pi,100, retstep=True)\n",
    "y = np.sin(x)"
   ]
  },
  {
   "cell_type": "code",
   "execution_count": 129,
   "metadata": {},
   "outputs": [
    {
     "data": {
      "image/png": "[encoded data removed]",
      "text/plain": [
       "<Figure size 720x432 with 1 Axes>"
      ]
     },
     "metadata": {
      "needs_background": "light"
     },
     "output_type": "display_data"
    }
   ],
   "source": [
    "plt.plot(x, np.sin(x), 'r', x, np.cos(x),'b')\n",
    "plt.title(r\"$\\rm{Derivative\\ of}\\ \\sin(x)$\");"
   ]
  },
  {
   "cell_type": "markdown",
   "metadata": {},
   "source": [
    "We will use the numpy array slicing `x[lower:upper:step]` to vectorize\n",
    "the derivative computation. It extracts a portion of a sequence by specifying a lower and upper bound. be aware that the lower-bound element is included, but the upper-bound element is **not** included. The default step value is 1 and can be negative."
   ]
  },
  {
   "cell_type": "code",
   "execution_count": 130,
   "metadata": {},
   "outputs": [
    {
     "data": {
      "text/plain": [
       "(array([10, 11]), array([10, 11]), array([10, 11]), array([13, 14]))"
      ]
     },
     "execution_count": 130,
     "metadata": {},
     "output_type": "execute_result"
    }
   ],
   "source": [
    "\n",
    "a = np.array([10,11,12,13,14])\n",
    "a[:2], a[-5:-3], a[0:2], a[-2:] # negative indices work"
   ]
  },
  {
   "cell_type": "code",
   "execution_count": 131,
   "metadata": {},
   "outputs": [
    {
     "data": {
      "text/plain": [
       "(array([10, 12, 14]), array([14, 13, 12, 11, 10]))"
      ]
     },
     "execution_count": 131,
     "metadata": {},
     "output_type": "execute_result"
    }
   ],
   "source": [
    "a[::2], a[::-1]"
   ]
  },
  {
   "cell_type": "code",
   "execution_count": 132,
   "metadata": {},
   "outputs": [
    {
     "data": {
      "image/png": "[encoded data removed]",
      "text/plain": [
       "<Figure size 720x432 with 1 Axes>"
      ]
     },
     "metadata": {
      "needs_background": "light"
     },
     "output_type": "display_data"
    }
   ],
   "source": [
    "f = np.sin(x)\n",
    "df = (f[1:]-f[:-1])/ dx\n",
    "plt.plot(x, np.cos(x), 'r', 0.5*(x[:-1]+x[1:]), df, 'bo' );"
   ]
  },
  {
   "cell_type": "markdown",
   "metadata": {},
   "source": [
    "### Exercise\n",
    "\n",
    "Compute derivative using the second order formula:\n",
    "\n",
    "$$\n",
    "    \\frac{\\partial f_i}{\\partial x} \\sim \\frac{f_{i+1}-f_{i-1}}{2dx}\n",
    "$$\n",
    "\n",
    "\n"
   ]
  },
  {
   "cell_type": "code",
   "execution_count": 133,
   "metadata": {},
   "outputs": [
    {
     "data": {
      "text/plain": [
       "98"
      ]
     },
     "execution_count": 133,
     "metadata": {},
     "output_type": "execute_result"
    }
   ],
   "source": [
    "f = np.sin(x)\n",
    "df = (f[2:]-f[:-2])/ (2*dx)\n",
    "df.size"
   ]
  },
  {
   "cell_type": "code",
   "execution_count": 134,
   "metadata": {},
   "outputs": [
    {
     "data": {
      "image/png": "[encoded data removed]",
      "text/plain": [
       "<Figure size 720x432 with 1 Axes>"
      ]
     },
     "metadata": {
      "needs_background": "light"
     },
     "output_type": "display_data"
    }
   ],
   "source": [
    "plt.plot(x, np.cos(x), 'r', x[1:-1], df, 'bo' );"
   ]
  },
  {
   "cell_type": "code",
   "execution_count": 135,
   "metadata": {},
   "outputs": [],
   "source": [
    "f = np.sin(x)\n",
    "df = np.gradient(f)/dx"
   ]
  },
  {
   "cell_type": "code",
   "execution_count": 176,
   "metadata": {},
   "outputs": [
    {
     "data": {
      "image/png": "[encoded data removed]",
      "text/plain": [
       "<Figure size 720x432 with 1 Axes>"
      ]
     },
     "metadata": {
      "needs_background": "light"
     },
     "output_type": "display_data"
    }
   ],
   "source": [
    "plt.plot(x, np.cos(x), 'r', x, df, 'bo' );"
   ]
  },
  {
   "cell_type": "code",
   "execution_count": 202,
   "metadata": {},
   "outputs": [
    {
     "data": {
      "image/png": "[encoded data removed]",
      "text/plain": [
       "<Figure size 720x432 with 1 Axes>"
      ]
     },
     "metadata": {
      "needs_background": "light"
     },
     "output_type": "display_data"
    }
   ],
   "source": [
    "n = 64\n",
    "x = np.linspace(0,4*np.pi,n, endpoint=False)\n",
    "kx =2*np.pi/(4*np.pi)*np.concatenate((np.arange(n//2),np.arange(-n//2,0)))\n",
    "f = np.sin(x)\n",
    "df = np.real(np.fft.ifft(1j * kx * np.fft.fft(f)))\n",
    "plt.plot(x, np.cos(x), 'r', x, df, 'bo' );"
   ]
  },
  {
   "cell_type": "markdown",
   "metadata": {},
   "source": [
    "## Multidimensional array"
   ]
  },
  {
   "cell_type": "code",
   "execution_count": 137,
   "metadata": {},
   "outputs": [],
   "source": [
    "a = np.arange(4*5).reshape(4,5) "
   ]
  },
  {
   "cell_type": "code",
   "execution_count": 167,
   "metadata": {},
   "outputs": [
    {
     "data": {
      "text/html": [
       "<table style='border-style:solid;border-width:1px;'>\n",
       "<tr><td style='font-family:monospace;white-space: pre;' title='0'>0  </td></tr>\n",
       "<tr><td style='font-family:monospace;white-space: pre;' title='1'>1  </td></tr>\n",
       "<tr><td style='font-family:monospace;white-space: pre;' title='2'>2  </td></tr>\n",
       "<tr><td style='font-family:monospace;white-space: pre;' title='3'>3  </td></tr>\n",
       "<tr><td><center>⋮</center></td></tr>\n",
       "<tr><td style='font-family:monospace;white-space: pre;' title='996'>996</td></tr>\n",
       "<tr><td style='font-family:monospace;white-space: pre;' title='997'>997</td></tr>\n",
       "<tr><td style='font-family:monospace;white-space: pre;' title='998'>998</td></tr>\n",
       "<tr><td style='font-family:monospace;white-space: pre;' title='999'>999</td></tr>\n",
       "</table>"
      ],
      "text/plain": [
       "array([  0,   1,   2,   3, ..., 996, 997, 998, 999])"
      ]
     },
     "execution_count": 167,
     "metadata": {},
     "output_type": "execute_result"
    }
   ],
   "source": [
    "a"
   ]
  },
  {
   "cell_type": "code",
   "execution_count": 174,
   "metadata": {},
   "outputs": [],
   "source": [
    "x = np.linspace(-np.pi,np.pi,100)\n",
    "y = np.linspace(-np.pi,np.pi,100)\n",
    "xx, yy = np.meshgrid(x, y, sparse=True)\n",
    "z = np.exp(-(xx-1)*(xx-1)/0.1)*np.exp(-(yy-1)*(yy-1)/0.1)"
   ]
  },
  {
   "cell_type": "code",
   "execution_count": 175,
   "metadata": {},
   "outputs": [
    {
     "data": {
      "text/plain": [
       "<matplotlib.contour.QuadContourSet at 0x11c532d68>"
      ]
     },
     "execution_count": 175,
     "metadata": {},
     "output_type": "execute_result"
    },
    {
     "data": {
      "image/png": "[encoded data removed]",
      "text/plain": [
       "<Figure size 720x432 with 1 Axes>"
      ]
     },
     "metadata": {
      "needs_background": "light"
     },
     "output_type": "display_data"
    }
   ],
   "source": [
    "plt.contourf(x,y,z)"
   ]
  },
  {
   "cell_type": "code",
   "execution_count": null,
   "metadata": {},
   "outputs": [],
   "source": [
    "fstrang= copy(f0)\n",
    "fjo= copy(f0)\n",
    "\n",
    "for n in range(Nt):\n",
    "\n",
    "    for i, xx in enumerate(x):\n",
    "        fstrang[i,:]=real(ifft(exp(ky*1j*xx*dt/2) * fft(fstrang[i,:])))\n",
    "\n",
    "    for j, yy in enumerate(y):\n",
    "        fstrang[:,j]=real(ifft(exp(-1j*yy*kx*dt) * fft(fstrang[:,j])))\n",
    "\n",
    "    for i in range(Nx):\n",
    "        fstrang[i,:]=real(ifft(exp(1j*xx*ky*dt/2)*fft(fstrang[i,:])))\n",
    "\n",
    "    for i, xx in enumerate(x):\n",
    "        fjo[i,:]=real(ifft(exp(1j*xx*ky*tan(dt/2))*fft(fjo[i,:])))\n",
    "\n",
    "    for j, yy in enumerate(y):\n",
    "        fjo[:,j]=real(ifft(exp(-1j*yy*kx*sin(dt))*fft(fjo[:,j])))\n",
    "\n",
    "    for i, xx in enumerate(x):\n",
    "        fjo[i,:]=real(ifft(exp(1j*xx*ky*tan(dt/2))*fft(fjo[i,:])))"
   ]
  },
  {
   "cell_type": "markdown",
   "metadata": {},
   "source": [
    "# Slices Are References\n",
    "- Slices are references to memory in the original array.\n",
    "- Changing values in a slice also changes the original array.\n",
    "\n"
   ]
  },
  {
   "cell_type": "code",
   "execution_count": 152,
   "metadata": {},
   "outputs": [
    {
     "data": {
      "text/html": [
       "<table style='border-style:solid;border-width:1px;'>\n",
       "<tr><td style='font-family:monospace;white-space: pre;' title='0'>3</td></tr>\n",
       "<tr><td style='font-family:monospace;white-space: pre;' title='1'>4</td></tr>\n",
       "<tr><td style='font-family:monospace;white-space: pre;' title='2'>5</td></tr>\n",
       "</table>"
      ],
      "text/plain": [
       "array([3, 4, 5])"
      ]
     },
     "execution_count": 152,
     "metadata": {},
     "output_type": "execute_result"
    }
   ],
   "source": [
    "a = np.arange(10)\n",
    "b = a[3:6]\n",
    "b  # `b` is a view of array `a` and `a` is called base of `b`"
   ]
  },
  {
   "cell_type": "code",
   "execution_count": 153,
   "metadata": {},
   "outputs": [
    {
     "data": {
      "text/html": [
       "<table style='border-style:solid;border-width:1px;'>\n",
       "<tr><td style='font-family:monospace;white-space: pre;' title='0'>0 </td></tr>\n",
       "<tr><td style='font-family:monospace;white-space: pre;' title='1'>1 </td></tr>\n",
       "<tr><td style='font-family:monospace;white-space: pre;' title='2'>2 </td></tr>\n",
       "<tr><td style='font-family:monospace;white-space: pre;' title='3'>-1</td></tr>\n",
       "<tr><td><center>⋮</center></td></tr>\n",
       "<tr><td style='font-family:monospace;white-space: pre;' title='6'>6 </td></tr>\n",
       "<tr><td style='font-family:monospace;white-space: pre;' title='7'>7 </td></tr>\n",
       "<tr><td style='font-family:monospace;white-space: pre;' title='8'>8 </td></tr>\n",
       "<tr><td style='font-family:monospace;white-space: pre;' title='9'>9 </td></tr>\n",
       "</table>"
      ],
      "text/plain": [
       "array([ 0,  1,  2, -1, ...,  6,  7,  8,  9])"
      ]
     },
     "execution_count": 153,
     "metadata": {},
     "output_type": "execute_result"
    }
   ],
   "source": [
    "b[0] = -1\n",
    "a  # you change a view the base is changed."
   ]
  },
  {
   "cell_type": "code",
   "execution_count": 156,
   "metadata": {},
   "outputs": [
    {
     "data": {
      "text/html": [
       "<table style='border-style:solid;border-width:1px;'>\n",
       "<tr><td style='font-family:monospace;white-space: pre;' title='0'>0 </td></tr>\n",
       "<tr><td style='font-family:monospace;white-space: pre;' title='1'>1 </td></tr>\n",
       "<tr><td style='font-family:monospace;white-space: pre;' title='2'>2 </td></tr>\n",
       "<tr><td style='font-family:monospace;white-space: pre;' title='3'>-1</td></tr>\n",
       "<tr><td><center>⋮</center></td></tr>\n",
       "<tr><td style='font-family:monospace;white-space: pre;' title='6'>6 </td></tr>\n",
       "<tr><td style='font-family:monospace;white-space: pre;' title='7'>7 </td></tr>\n",
       "<tr><td style='font-family:monospace;white-space: pre;' title='8'>8 </td></tr>\n",
       "<tr><td style='font-family:monospace;white-space: pre;' title='9'>9 </td></tr>\n",
       "</table>"
      ],
      "text/plain": [
       "array([ 0,  1,  2, -1, ...,  6,  7,  8,  9])"
      ]
     },
     "execution_count": 156,
     "metadata": {},
     "output_type": "execute_result"
    }
   ],
   "source": [
    "c = a[7:8].copy() # Explicit copy of the array slice\n",
    "c[0] = -1 \n",
    "a"
   ]
  },
  {
   "cell_type": "markdown",
   "metadata": {},
   "source": [
    "# Fancy Indexing"
   ]
  },
  {
   "cell_type": "code",
   "execution_count": 157,
   "metadata": {},
   "outputs": [
    {
     "data": {
      "text/html": [
       "<table style='border-style:solid;border-width:1px;'>\n",
       "<tr>\n",
       "<td style='font-family:monospace;white-space: pre;' title='(0, 0)'>11</td>\n",
       "<td style='font-family:monospace;white-space: pre;' title='(0, 1)'>15</td>\n",
       "<td style='font-family:monospace;white-space: pre;' title='(0, 2)'>14</td>\n",
       "<td style='font-family:monospace;white-space: pre;' title='(0, 3)'>9 </td>\n",
       "<td style='font-family:monospace;white-space: pre;' title='(0, 4)'>15</td>\n",
       "</tr>\n",
       "<tr>\n",
       "<td style='font-family:monospace;white-space: pre;' title='(1, 0)'>19</td>\n",
       "<td style='font-family:monospace;white-space: pre;' title='(1, 1)'>2 </td>\n",
       "<td style='font-family:monospace;white-space: pre;' title='(1, 2)'>12</td>\n",
       "<td style='font-family:monospace;white-space: pre;' title='(1, 3)'>7 </td>\n",
       "<td style='font-family:monospace;white-space: pre;' title='(1, 4)'>5 </td>\n",
       "</tr>\n",
       "<tr>\n",
       "<td style='font-family:monospace;white-space: pre;' title='(2, 0)'>9 </td>\n",
       "<td style='font-family:monospace;white-space: pre;' title='(2, 1)'>10</td>\n",
       "<td style='font-family:monospace;white-space: pre;' title='(2, 2)'>7 </td>\n",
       "<td style='font-family:monospace;white-space: pre;' title='(2, 3)'>8 </td>\n",
       "<td style='font-family:monospace;white-space: pre;' title='(2, 4)'>17</td>\n",
       "</tr>\n",
       "<tr>\n",
       "<td style='font-family:monospace;white-space: pre;' title='(3, 0)'>4 </td>\n",
       "<td style='font-family:monospace;white-space: pre;' title='(3, 1)'>1 </td>\n",
       "<td style='font-family:monospace;white-space: pre;' title='(3, 2)'>14</td>\n",
       "<td style='font-family:monospace;white-space: pre;' title='(3, 3)'>4 </td>\n",
       "<td style='font-family:monospace;white-space: pre;' title='(3, 4)'>10</td>\n",
       "</tr>\n",
       "</table>"
      ],
      "text/plain": [
       "array([[11, 15, 14,  9, 15],\n",
       "       [19,  2, 12,  7,  5],\n",
       "       [ 9, 10,  7,  8, 17],\n",
       "       [ 4,  1, 14,  4, 10]])"
      ]
     },
     "execution_count": 157,
     "metadata": {},
     "output_type": "execute_result"
    }
   ],
   "source": [
    "a = np.random.randint(20, size=(4, 5))\n",
    "a"
   ]
  },
  {
   "cell_type": "code",
   "execution_count": 158,
   "metadata": {},
   "outputs": [
    {
     "data": {
      "text/html": [
       "<table style='border-style:solid;border-width:1px;'>\n",
       "<tr>\n",
       "<td style='font-family:monospace;white-space: pre;' title='(0, 0)'>11</td>\n",
       "<td style='font-family:monospace;white-space: pre;' title='(0, 1)'>0 </td>\n",
       "<td style='font-family:monospace;white-space: pre;' title='(0, 2)'>14</td>\n",
       "<td style='font-family:monospace;white-space: pre;' title='(0, 3)'>0 </td>\n",
       "<td style='font-family:monospace;white-space: pre;' title='(0, 4)'>0 </td>\n",
       "</tr>\n",
       "<tr>\n",
       "<td style='font-family:monospace;white-space: pre;' title='(1, 0)'>19</td>\n",
       "<td style='font-family:monospace;white-space: pre;' title='(1, 1)'>2 </td>\n",
       "<td style='font-family:monospace;white-space: pre;' title='(1, 2)'>0 </td>\n",
       "<td style='font-family:monospace;white-space: pre;' title='(1, 3)'>7 </td>\n",
       "<td style='font-family:monospace;white-space: pre;' title='(1, 4)'>5 </td>\n",
       "</tr>\n",
       "<tr>\n",
       "<td style='font-family:monospace;white-space: pre;' title='(2, 0)'>0 </td>\n",
       "<td style='font-family:monospace;white-space: pre;' title='(2, 1)'>10</td>\n",
       "<td style='font-family:monospace;white-space: pre;' title='(2, 2)'>7 </td>\n",
       "<td style='font-family:monospace;white-space: pre;' title='(2, 3)'>8 </td>\n",
       "<td style='font-family:monospace;white-space: pre;' title='(2, 4)'>17</td>\n",
       "</tr>\n",
       "<tr>\n",
       "<td style='font-family:monospace;white-space: pre;' title='(3, 0)'>4 </td>\n",
       "<td style='font-family:monospace;white-space: pre;' title='(3, 1)'>1 </td>\n",
       "<td style='font-family:monospace;white-space: pre;' title='(3, 2)'>14</td>\n",
       "<td style='font-family:monospace;white-space: pre;' title='(3, 3)'>4 </td>\n",
       "<td style='font-family:monospace;white-space: pre;' title='(3, 4)'>10</td>\n",
       "</tr>\n",
       "</table>"
      ],
      "text/plain": [
       "array([[11,  0, 14,  0,  0],\n",
       "       [19,  2,  0,  7,  5],\n",
       "       [ 0, 10,  7,  8, 17],\n",
       "       [ 4,  1, 14,  4, 10]])"
      ]
     },
     "execution_count": 158,
     "metadata": {},
     "output_type": "execute_result"
    }
   ],
   "source": [
    "locations = a % 3 == 0 # locations can be used as a mask\n",
    "a[locations] = 0 #set to 0 only the values that are divisible by 3\n",
    "a"
   ]
  },
  {
   "cell_type": "code",
   "execution_count": 159,
   "metadata": {},
   "outputs": [
    {
     "data": {
      "text/html": [
       "<table style='border-style:solid;border-width:1px;'>\n",
       "<tr>\n",
       "<td style='font-family:monospace;white-space: pre;' title='(0, 0)'>11</td>\n",
       "<td style='font-family:monospace;white-space: pre;' title='(0, 1)'>1 </td>\n",
       "<td style='font-family:monospace;white-space: pre;' title='(0, 2)'>14</td>\n",
       "<td style='font-family:monospace;white-space: pre;' title='(0, 3)'>1 </td>\n",
       "<td style='font-family:monospace;white-space: pre;' title='(0, 4)'>1 </td>\n",
       "</tr>\n",
       "<tr>\n",
       "<td style='font-family:monospace;white-space: pre;' title='(1, 0)'>19</td>\n",
       "<td style='font-family:monospace;white-space: pre;' title='(1, 1)'>2 </td>\n",
       "<td style='font-family:monospace;white-space: pre;' title='(1, 2)'>1 </td>\n",
       "<td style='font-family:monospace;white-space: pre;' title='(1, 3)'>7 </td>\n",
       "<td style='font-family:monospace;white-space: pre;' title='(1, 4)'>5 </td>\n",
       "</tr>\n",
       "<tr>\n",
       "<td style='font-family:monospace;white-space: pre;' title='(2, 0)'>1 </td>\n",
       "<td style='font-family:monospace;white-space: pre;' title='(2, 1)'>10</td>\n",
       "<td style='font-family:monospace;white-space: pre;' title='(2, 2)'>7 </td>\n",
       "<td style='font-family:monospace;white-space: pre;' title='(2, 3)'>8 </td>\n",
       "<td style='font-family:monospace;white-space: pre;' title='(2, 4)'>17</td>\n",
       "</tr>\n",
       "<tr>\n",
       "<td style='font-family:monospace;white-space: pre;' title='(3, 0)'>4 </td>\n",
       "<td style='font-family:monospace;white-space: pre;' title='(3, 1)'>1 </td>\n",
       "<td style='font-family:monospace;white-space: pre;' title='(3, 2)'>14</td>\n",
       "<td style='font-family:monospace;white-space: pre;' title='(3, 3)'>4 </td>\n",
       "<td style='font-family:monospace;white-space: pre;' title='(3, 4)'>10</td>\n",
       "</tr>\n",
       "</table>"
      ],
      "text/plain": [
       "array([[11,  1, 14,  1,  1],\n",
       "       [19,  2,  1,  7,  5],\n",
       "       [ 1, 10,  7,  8, 17],\n",
       "       [ 4,  1, 14,  4, 10]])"
      ]
     },
     "execution_count": 159,
     "metadata": {},
     "output_type": "execute_result"
    }
   ],
   "source": [
    "a += a == 0\n",
    "a"
   ]
  },
  {
   "cell_type": "markdown",
   "metadata": {},
   "source": [
    "# Array Operations over a given axis"
   ]
  },
  {
   "cell_type": "code",
   "execution_count": 160,
   "metadata": {},
   "outputs": [
    {
     "data": {
      "text/html": [
       "<table style='border-style:solid;border-width:1px;'>\n",
       "<tr>\n",
       "<td style='font-family:monospace;white-space: pre;' title='(0, 0)'>0 </td>\n",
       "<td style='font-family:monospace;white-space: pre;' title='(0, 1)'>1 </td>\n",
       "<td style='font-family:monospace;white-space: pre;' title='(0, 2)'>2 </td>\n",
       "<td style='font-family:monospace;white-space: pre;' title='(0, 3)'>3 </td>\n",
       "</tr>\n",
       "<tr>\n",
       "<td style='font-family:monospace;white-space: pre;' title='(1, 0)'>4 </td>\n",
       "<td style='font-family:monospace;white-space: pre;' title='(1, 1)'>5 </td>\n",
       "<td style='font-family:monospace;white-space: pre;' title='(1, 2)'>6 </td>\n",
       "<td style='font-family:monospace;white-space: pre;' title='(1, 3)'>7 </td>\n",
       "</tr>\n",
       "<tr>\n",
       "<td style='font-family:monospace;white-space: pre;' title='(2, 0)'>8 </td>\n",
       "<td style='font-family:monospace;white-space: pre;' title='(2, 1)'>9 </td>\n",
       "<td style='font-family:monospace;white-space: pre;' title='(2, 2)'>10</td>\n",
       "<td style='font-family:monospace;white-space: pre;' title='(2, 3)'>11</td>\n",
       "</tr>\n",
       "<tr>\n",
       "<td style='font-family:monospace;white-space: pre;' title='(3, 0)'>12</td>\n",
       "<td style='font-family:monospace;white-space: pre;' title='(3, 1)'>13</td>\n",
       "<td style='font-family:monospace;white-space: pre;' title='(3, 2)'>14</td>\n",
       "<td style='font-family:monospace;white-space: pre;' title='(3, 3)'>15</td>\n",
       "</tr>\n",
       "<tr>\n",
       "<td style='font-family:monospace;white-space: pre;' title='(4, 0)'>16</td>\n",
       "<td style='font-family:monospace;white-space: pre;' title='(4, 1)'>17</td>\n",
       "<td style='font-family:monospace;white-space: pre;' title='(4, 2)'>18</td>\n",
       "<td style='font-family:monospace;white-space: pre;' title='(4, 3)'>19</td>\n",
       "</tr>\n",
       "</table>"
      ],
      "text/plain": [
       "array([[ 0,  1,  2,  3],\n",
       "       [ 4,  5,  6,  7],\n",
       "       [ 8,  9, 10, 11],\n",
       "       [12, 13, 14, 15],\n",
       "       [16, 17, 18, 19]])"
      ]
     },
     "execution_count": 160,
     "metadata": {},
     "output_type": "execute_result"
    }
   ],
   "source": [
    "a = np.arange(20).reshape(5,4)\n",
    "a"
   ]
  },
  {
   "cell_type": "code",
   "execution_count": 161,
   "metadata": {},
   "outputs": [
    {
     "data": {
      "text/html": [
       "<table style='border-style:solid;border-width:1px;'>\n",
       "<tr><td style='font-family:monospace;white-space: pre;' title='0'>40</td></tr>\n",
       "<tr><td style='font-family:monospace;white-space: pre;' title='1'>45</td></tr>\n",
       "<tr><td style='font-family:monospace;white-space: pre;' title='2'>50</td></tr>\n",
       "<tr><td style='font-family:monospace;white-space: pre;' title='3'>55</td></tr>\n",
       "</table>"
      ],
      "text/plain": [
       "array([40, 45, 50, 55])"
      ]
     },
     "execution_count": 161,
     "metadata": {},
     "output_type": "execute_result"
    }
   ],
   "source": [
    "a.sum(axis=0) # sum of each column"
   ]
  },
  {
   "cell_type": "markdown",
   "metadata": {},
   "source": [
    "# Broadcasting rules\n",
    "\n",
    "Broadcasting rules allow you to make an outer product between two vectors: the first method involves array tiling, the second one involves broadcasting. The last method is significantly faster.\n",
    "\n"
   ]
  },
  {
   "cell_type": "code",
   "execution_count": 163,
   "metadata": {},
   "outputs": [],
   "source": [
    "n = 1000\n",
    "a = np.arange(n)\n",
    "ac = a[:, np.newaxis]   # column matrix\n",
    "ar = a[np.newaxis, :]   # row matrix"
   ]
  },
  {
   "cell_type": "code",
   "execution_count": 164,
   "metadata": {},
   "outputs": [
    {
     "name": "stdout",
     "output_type": "stream",
     "text": [
      "11.7 ms ± 122 µs per loop (mean ± std. dev. of 7 runs, 100 loops each)\n"
     ]
    }
   ],
   "source": [
    "%timeit np.tile(a, (n,1)).T * np.tile(a, (n,1))"
   ]
  },
  {
   "cell_type": "code",
   "execution_count": 165,
   "metadata": {},
   "outputs": [
    {
     "name": "stdout",
     "output_type": "stream",
     "text": [
      "1.75 ms ± 20.9 µs per loop (mean ± std. dev. of 7 runs, 1000 loops each)\n"
     ]
    }
   ],
   "source": [
    "%timeit ac * ar"
   ]
  },
  {
   "cell_type": "code",
   "execution_count": 166,
   "metadata": {},
   "outputs": [
    {
     "data": {
      "text/plain": [
       "True"
      ]
     },
     "execution_count": 166,
     "metadata": {},
     "output_type": "execute_result"
    }
   ],
   "source": [
    "np.all(np.tile(a, (n,1)).T * np.tile(a, (n,1)) == ac * ar)"
   ]
  },
  {
   "cell_type": "code",
   "execution_count": null,
   "metadata": {},
   "outputs": [],
   "source": []
  },
  {
   "cell_type": "code",
   "execution_count": 155,
   "metadata": {},
   "outputs": [],
   "source": [
    "def init(n):\n",
    " \n",
    "    u = np.ones((n+2,n+2))\n",
    "    v = np.zeros((n+2,n+2))\n",
    "    \n",
    "    x, y = np.meshgrid(np.linspace(0, 1, n+2), np.linspace(0, 1, n+2))\n",
    "\n",
    "    mask = (0.4<x) & (x<0.6) & (0.4<y) & (y<0.6)\n",
    "    \n",
    "    u[mask] = 0.50\n",
    "    v[mask] = 0.25\n",
    "        \n",
    "    return u, v"
   ]
  },
  {
   "cell_type": "markdown",
   "metadata": {},
   "source": [
    "Redefine the laplacian function using numpy arrays operations."
   ]
  },
  {
   "cell_type": "code",
   "execution_count": 146,
   "metadata": {},
   "outputs": [],
   "source": [
    "\n",
    "def laplacian(u):\n",
    "    \"\"\"\n",
    "    second order finite differences\n",
    "    \"\"\"\n",
    "    return (                  u[ :-2, 1:-1] +\n",
    "             u[1:-1, :-2] - 4*u[1:-1, 1:-1] + u[1:-1, 2:] +\n",
    "                          +   u[2:  , 1:-1] )"
   ]
  },
  {
   "cell_type": "code",
   "execution_count": 147,
   "metadata": {
    "scrolled": false
   },
   "outputs": [
    {
     "name": "stdout",
     "output_type": "stream",
     "text": [
      "94.3 µs ± 3.09 µs per loop (mean ± std. dev. of 7 runs, 10000 loops each)\n"
     ]
    }
   ],
   "source": [
    "%timeit laplacian(u)"
   ]
  },
  {
   "cell_type": "markdown",
   "metadata": {},
   "source": [
    "## Periodic domain"
   ]
  },
  {
   "cell_type": "code",
   "execution_count": 141,
   "metadata": {},
   "outputs": [],
   "source": [
    "def periodic_bc(u):\n",
    "    u[0, :] = u[-2, :]\n",
    "    u[-1, :] = u[1, :]\n",
    "    u[:, 0] = u[:, -2]\n",
    "    u[:, -1] = u[:, 1]"
   ]
  },
  {
   "cell_type": "code",
   "execution_count": 142,
   "metadata": {},
   "outputs": [],
   "source": [
    "def grayscott(U, V, Du, Dv, F, k):\n",
    "    \n",
    "    u, v = U[1:-1,1:-1], V[1:-1,1:-1]\n",
    "\n",
    "    Lu = laplacian(U)\n",
    "    Lv = laplacian(V)\n",
    "\n",
    "    uvv = u*v*v\n",
    "    u += Du*Lu - uvv + F*(1 - u)\n",
    "    v += Dv*Lv + uvv - (F + k)*v\n",
    "\n",
    "    periodic_bc(U)\n",
    "    periodic_bc(V)"
   ]
  },
  {
   "cell_type": "code",
   "execution_count": 143,
   "metadata": {},
   "outputs": [
    {
     "data": {
      "application/vnd.jupyter.widget-view+json": {
       "model_id": "e8b05d9da24043cab645ac292b3362eb",
       "version_major": 2,
       "version_minor": 0
      },
      "text/plain": [
       "HBox(children=(IntProgress(value=0, max=500), HTML(value='')))"
      ]
     },
     "metadata": {},
     "output_type": "display_data"
    },
    {
     "name": "stdout",
     "output_type": "stream",
     "text": [
      "CPU times: user 43.7 s, sys: 369 ms, total: 44.1 s\n",
      "Wall time: 44 s\n"
     ]
    }
   ],
   "source": [
    "%%time\n",
    "from tqdm import tqdm_notebook as tqdm\n",
    "from PIL import Image\n",
    "U, V = init(300)\n",
    "\n",
    "def create_image():\n",
    "    global U, V\n",
    "    for t in range(40):\n",
    "        grayscott(U, V, Du, Dv, F, k)\n",
    "    V_scaled = np.uint8(255*(V-V.min()) / (V.max()-V.min()))\n",
    "    return V_scaled\n",
    "\n",
    "def create_frames(n):\n",
    "\n",
    "    return [create_image() for i in tqdm(range(n))]\n",
    "    \n",
    "frames = create_frames(500)"
   ]
  },
  {
   "cell_type": "code",
   "execution_count": 145,
   "metadata": {},
   "outputs": [],
   "source": [
    "import imageio\n",
    "frames_scaled = [np.uint8(255 * frame) for frame in frames]\n",
    "imageio.mimsave('movie.gif', frames_scaled, format='gif', fps=60)"
   ]
  },
  {
   "cell_type": "markdown",
   "metadata": {},
   "source": [
    "![grayscott](movie.gif \"grayscott\")"
   ]
  },
  {
   "cell_type": "code",
   "execution_count": null,
   "metadata": {},
   "outputs": [],
   "source": []
  }
 ],
 "metadata": {
  "kernelspec": {
   "display_name": "Python 3.7",
   "language": "python",
   "name": "python3"
  },
  "language_info": {
   "codemirror_mode": {
    "name": "ipython",
    "version": 3
   },
   "file_extension": ".py",
   "mimetype": "text/x-python",
   "name": "python",
   "nbconvert_exporter": "python",
   "pygments_lexer": "ipython3",
   "version": "3.7.2"
  }
 },
 "nbformat": 4,
 "nbformat_minor": 2
}
