{
 "cells": [
  {
   "cell_type": "markdown",
   "metadata": {},
   "source": [
    "# Caesar cipher\n",
    "\n",
    "In cryptography, a Caesar cipher, is one of the simplest and most widely known encryption techniques. It is a type of substitution cipher in which each letter in the plaintext is replaced by a letter some fixed number of positions down the alphabet. For example, with a left shift of 3, D would be replaced by A, E would become B, and so on. \n",
    "\n",
    "## Objectives\n",
    "\n",
    "- Create a function `cipher` that take a plain text and the key value as arguments and return the encrypted text.\n",
    "```py\n",
    "cipher(\"abcd gef\", 1) == \"bcde hij\"\n",
    "```"
   ]
  },
  {
   "cell_type": "markdown",
   "metadata": {},
   "source": [
    "## String methods\n",
    "\n",
    "- the method `lower()` returns the lowered string contained in variable word\n",
    "- the method `isalpha()` returns true if string has at least 1 character and all characters are alphabetic "
   ]
  },
  {
   "cell_type": "code",
   "execution_count": 28,
   "metadata": {},
   "outputs": [
    {
     "data": {
      "text/plain": [
       "('bonjour', True)"
      ]
     },
     "execution_count": 28,
     "metadata": {},
     "output_type": "execute_result"
    }
   ],
   "source": [
    "word = \"Bonjour\"\n",
    "word.lower(),word.isalpha()"
   ]
  },
  {
   "cell_type": "code",
   "execution_count": 29,
   "metadata": {},
   "outputs": [
    {
     "data": {
      "text/plain": [
       "('bonjour', True)"
      ]
     },
     "execution_count": 29,
     "metadata": {},
     "output_type": "execute_result"
    }
   ],
   "source": [
    "str.lower(word), str.isalpha(word)"
   ]
  },
  {
   "cell_type": "markdown",
   "metadata": {},
   "source": [
    "### Exercise 1.1\n",
    "\n",
    "- Display all strings methods by typing `<TAB>` key after the dot of `word.`,\n",
    "- Select the `word.replace` method,\n",
    "- Display documentation by typing `<shift>+<TAB>` keys after `word.replace`,\n",
    "- replace all character `o` by `O` by using `word.replace` method."
   ]
  },
  {
   "cell_type": "code",
   "execution_count": 32,
   "metadata": {},
   "outputs": [
    {
     "data": {
      "text/plain": [
       "'Bonjour'"
      ]
     },
     "execution_count": 32,
     "metadata": {},
     "output_type": "execute_result"
    }
   ],
   "source": [
    "word   # . and <TAB>"
   ]
  },
  {
   "cell_type": "code",
   "execution_count": 33,
   "metadata": {},
   "outputs": [
    {
     "data": {
      "text/plain": [
       "<function str.replace(old, new, count=-1, /)>"
      ]
     },
     "execution_count": 33,
     "metadata": {},
     "output_type": "execute_result"
    }
   ],
   "source": [
    "word.replace  # shift+<TAB> "
   ]
  },
  {
   "cell_type": "code",
   "execution_count": 34,
   "metadata": {},
   "outputs": [
    {
     "data": {
      "text/plain": [
       "'BOnjOur'"
      ]
     },
     "execution_count": 34,
     "metadata": {},
     "output_type": "execute_result"
    }
   ],
   "source": [
    "word.replace(\"o\",\"O\")"
   ]
  },
  {
   "cell_type": "markdown",
   "metadata": {},
   "source": [
    "alphabet string is available from the standard library string:"
   ]
  },
  {
   "cell_type": "code",
   "execution_count": 153,
   "metadata": {},
   "outputs": [
    {
     "name": "stdout",
     "output_type": "stream",
     "text": [
      "abcdefghijklmnopqrstuvwxyz\n"
     ]
    }
   ],
   "source": [
    "import string\n",
    "\n",
    "alphabet = string.ascii_lowercase\n",
    "print(alphabet)"
   ]
  },
  {
   "cell_type": "code",
   "execution_count": 154,
   "metadata": {},
   "outputs": [
    {
     "name": "stdout",
     "output_type": "stream",
     "text": [
      "ABCDEFGHIJKLMNOPQRSTUVWXYZ\n"
     ]
    }
   ],
   "source": [
    "from string import ascii_uppercase as ALPHABET\n",
    "\n",
    "print(ALPHABET)"
   ]
  },
  {
   "cell_type": "markdown",
   "metadata": {
    "slideshow": {
     "slide_type": "slide"
    }
   },
   "source": [
    "## Loop over an iterable object\n",
    "\n",
    "We use `for` statement for looping over an iterable object. If we use it with a string, it loops over its characters.\n",
    "\n",
    "[Link to Python tutorial](https://docs.python.org/3.7/tutorial/controlflow.html#for-statements)"
   ]
  },
  {
   "cell_type": "markdown",
   "metadata": {
    "slideshow": {
     "slide_type": "slide"
    }
   },
   "source": [
    "## `if` Statements\n",
    "\n",
    "`if` .. `elif`..`else`\n",
    "```python\n",
    "True, False, and, or, not, ==, is, !=, is not, >, >=, <, <=, in\n",
    "```\n",
    "\n",
    "[Link to Python tutorial](https://docs.python.org/3.7/tutorial/controlflow.html#if-statements)"
   ]
  },
  {
   "cell_type": "markdown",
   "metadata": {
    "slideshow": {
     "slide_type": "slide"
    }
   },
   "source": [
    "### Exercise  `char_to_int` function\n",
    "\n",
    "Create a function `char_to_int(c)` that returns the position of c in alphabet\n",
    "\n",
    "- `for` every character in text, \n",
    "- If this character is an alpha character.\n",
    "- Loop over alphabet `while`  until this character is equal to the matching character in alphabet. Increment a counter to compute its position.\n",
    "- A function that does not explictely return a value, returns [`None`](https://docs.python.org/3.7/tutorial/controlflow.html#defining-functions)\n",
    "\n",
    "[Example in Python tutorial](https://docs.python.org/3.7/tutorial/controlflow.html#defining-functions) "
   ]
  },
  {
   "cell_type": "code",
   "execution_count": 160,
   "metadata": {
    "slideshow": {
     "slide_type": "slide"
    }
   },
   "outputs": [
    {
     "data": {
      "text/plain": [
       "(4, None)"
      ]
     },
     "execution_count": 160,
     "metadata": {},
     "output_type": "execute_result"
    }
   ],
   "source": [
    "def char_to_int(c):\n",
    "    if c.isalpha():\n",
    "        i = 0\n",
    "        while alphabet[i] != c: # Don't forget the ':' character.\n",
    "            i += 1              # The body of the loop is indented\n",
    "        return i\n",
    "\n",
    "char_to_int(\"e\"), char_to_int(\" \")"
   ]
  },
  {
   "cell_type": "markdown",
   "metadata": {},
   "source": [
    "### Exercise: rewrite the `char_to_int` with a for loop\n",
    "\n",
    "Hint: loop can be stopped by `break` or `return` inside a function."
   ]
  },
  {
   "cell_type": "markdown",
   "metadata": {},
   "source": [
    "### Exercise \n",
    "\n",
    "- write the int_to_char function"
   ]
  },
  {
   "cell_type": "code",
   "execution_count": 156,
   "metadata": {},
   "outputs": [],
   "source": [
    "def int_to_char(n):\n",
    "    return alphabet[n]"
   ]
  },
  {
   "cell_type": "markdown",
   "metadata": {},
   "source": [
    "## String concatenation"
   ]
  },
  {
   "cell_type": "code",
   "execution_count": 170,
   "metadata": {},
   "outputs": [
    {
     "data": {
      "text/plain": [
       "'aaaa'"
      ]
     },
     "execution_count": 170,
     "metadata": {},
     "output_type": "execute_result"
    }
   ],
   "source": [
    "s = \"\"\n",
    "s += \"a\"\n",
    "s *= 4\n",
    "s"
   ]
  },
  {
   "cell_type": "markdown",
   "metadata": {},
   "source": [
    "[Link to Python tutorial](https://docs.python.org/3.7/tutorial/introduction.html#strings)"
   ]
  },
  {
   "cell_type": "markdown",
   "metadata": {},
   "source": [
    "### Exercise \n",
    "\n",
    "Write a first version of the cipher function using both functions implemented above\n"
   ]
  },
  {
   "cell_type": "code",
   "execution_count": 161,
   "metadata": {},
   "outputs": [
    {
     "data": {
      "text/plain": [
       "'i am a pythonista'"
      ]
     },
     "execution_count": 161,
     "metadata": {},
     "output_type": "execute_result"
    }
   ],
   "source": [
    "def cipher(text, key):\n",
    "    s = \"\"\n",
    "    for c in text:\n",
    "        i = char_to_int(c)\n",
    "        if i is not None:\n",
    "            s += int_to_char((i+key)%26)\n",
    "        else:\n",
    "            s += c\n",
    "        \n",
    "    return s\n",
    "\n",
    "cipher('s kw k zidryxscdk', 42)"
   ]
  },
  {
   "cell_type": "markdown",
   "metadata": {},
   "source": [
    "## Exercise\n",
    "\n",
    "Functions `char_to_int` and `int_to_char` already exist in Python. They are `chr` and\n",
    "`ord`."
   ]
  },
  {
   "cell_type": "code",
   "execution_count": 19,
   "metadata": {
    "scrolled": false
   },
   "outputs": [
    {
     "name": "stdout",
     "output_type": "stream",
     "text": [
      "97  \t  a\n",
      "98  \t  b\n",
      "99  \t  c\n",
      "100  \t  d\n"
     ]
    }
   ],
   "source": [
    "for x in 'abcd':\n",
    "    print(ord(x), ' \\t ',chr(ord(x)))"
   ]
  },
  {
   "cell_type": "code",
   "execution_count": null,
   "metadata": {},
   "outputs": [],
   "source": [
    "def cipher(text, key):\n",
    "    s = \"\"\n",
    "    for c in text:\n",
    "        s += chr(ord)\n",
    "    return\n",
    "    "
   ]
  },
  {
   "cell_type": "markdown",
   "metadata": {
    "slideshow": {
     "slide_type": "slide"
    }
   },
   "source": [
    "# Loop with range function\n",
    "\n",
    "- It generates arithmetic progressions\n",
    "- It is possible to let the range start at another number, or to specify a different increment.\n",
    "- Since Python 3, the object returned by `range()` doesn’t return a list to save memory space. `xrange` no longer exists.\n",
    "- Use function list() to creates it."
   ]
  },
  {
   "cell_type": "markdown",
   "metadata": {
    "collapsed": true,
    "slideshow": {
     "slide_type": "slide"
    }
   },
   "source": [
    "# `enumerate` Function"
   ]
  },
  {
   "cell_type": "code",
   "execution_count": 38,
   "metadata": {
    "slideshow": {
     "slide_type": "fragment"
    }
   },
   "outputs": [
    {
     "name": "stdout",
     "output_type": "stream",
     "text": [
      "0  ---  1\n",
      "1  ---  2\n",
      "2  ---  3\n",
      "3  ---  5\n",
      "4  ---  7\n",
      "5  ---  11\n",
      "6  ---  13\n"
     ]
    }
   ],
   "source": [
    "primes =  [1,2,3,5,7,11,13]\n",
    "for idx, ele in enumerate (primes):\n",
    "    print(idx, \" --- \", ele) "
   ]
  },
  {
   "cell_type": "markdown",
   "metadata": {
    "slideshow": {
     "slide_type": "slide"
    }
   },
   "source": [
    "# `zip` Builtin Function\n",
    "\n",
    "Loop over sequences simultaneously."
   ]
  },
  {
   "cell_type": "code",
   "execution_count": 39,
   "metadata": {
    "slideshow": {
     "slide_type": "fragment"
    }
   },
   "outputs": [
    {
     "name": "stdout",
     "output_type": "stream",
     "text": [
      "1 4 -- 5\n",
      "2 5 -- 7\n",
      "3 6 -- 9\n"
     ]
    }
   ],
   "source": [
    "L1 = [1, 2, 3]\n",
    "L2 = [4, 5, 6]\n",
    "\n",
    "for (x, y) in zip(L1, L2):\n",
    "    print (x, y, '--', x + y)"
   ]
  },
  {
   "cell_type": "markdown",
   "metadata": {
    "slideshow": {
     "slide_type": "fragment"
    }
   },
   "source": [
    "### Exercise\n",
    "\n",
    "Code a new version of your cypher function to crypt also upper case character. \n",
    "Use `zip` to loop over upper and lower case alphabets.\n"
   ]
  },
  {
   "cell_type": "markdown",
   "metadata": {
    "slideshow": {
     "slide_type": "slide"
    }
   },
   "source": [
    "# List comprehension\n",
    "\n",
    "- Set or change values inside a list\n",
    "- Create list from function"
   ]
  },
  {
   "cell_type": "code",
   "execution_count": 43,
   "metadata": {
    "slideshow": {
     "slide_type": "fragment"
    }
   },
   "outputs": [
    {
     "data": {
      "text/plain": [
       "[2, 6, 18, 8]"
      ]
     },
     "execution_count": 43,
     "metadata": {},
     "output_type": "execute_result"
    }
   ],
   "source": [
    "lsingle = [1, 3, 9, 4]\n",
    "ldouble = []\n",
    "for k in lsingle:\n",
    "    ldouble.append(2*k)\n",
    "ldouble"
   ]
  },
  {
   "cell_type": "code",
   "execution_count": 44,
   "metadata": {
    "slideshow": {
     "slide_type": "fragment"
    }
   },
   "outputs": [],
   "source": [
    "ldouble = [k*2 for k in lsingle]"
   ]
  },
  {
   "cell_type": "code",
   "execution_count": 45,
   "metadata": {
    "slideshow": {
     "slide_type": "slide"
    }
   },
   "outputs": [
    {
     "data": {
      "text/plain": [
       "[1, 4, 9, 16, 25, 36, 49, 64, 81]"
      ]
     },
     "execution_count": 45,
     "metadata": {},
     "output_type": "execute_result"
    }
   ],
   "source": [
    "[n*n for n in range(1,10)]"
   ]
  },
  {
   "cell_type": "code",
   "execution_count": 46,
   "metadata": {
    "slideshow": {
     "slide_type": "fragment"
    }
   },
   "outputs": [
    {
     "data": {
      "text/plain": [
       "[1, 9, 25, 49, 81]"
      ]
     },
     "execution_count": 46,
     "metadata": {},
     "output_type": "execute_result"
    }
   ],
   "source": [
    "[n*n for n in range(1,10) if n&1]"
   ]
  },
  {
   "cell_type": "code",
   "execution_count": 18,
   "metadata": {
    "slideshow": {
     "slide_type": "fragment"
    }
   },
   "outputs": [
    {
     "data": {
      "text/plain": [
       "[4, 1, 10, 2, 16, 3, 22, 4, 28]"
      ]
     },
     "execution_count": 18,
     "metadata": {},
     "output_type": "execute_result"
    }
   ],
   "source": [
    "[3*n+1 if n&1 else n//2 for n in range(1,10) ]"
   ]
  },
  {
   "cell_type": "code",
   "execution_count": 22,
   "metadata": {},
   "outputs": [
    {
     "data": {
      "text/plain": [
       "[4, 1, 10, 2, 16, 3, 22, 4, 28]"
      ]
     },
     "execution_count": 22,
     "metadata": {},
     "output_type": "execute_result"
    }
   ],
   "source": [
    "[3*n+1 if n&1 else n//2 for n in range(1,10) ]"
   ]
  },
  {
   "cell_type": "markdown",
   "metadata": {
    "slideshow": {
     "slide_type": "slide"
    }
   },
   "source": [
    "### Exercise\n",
    "\n",
    "Code a new version of cypher function using list comprehension. \n",
    "\n",
    "Hints: \n",
    "- `s = ''.join(L)` convert the characters list `L` into a string `s`.\n",
    "- `L.index(c)` return the index position of `c` in list `L` \n",
    "- `\"c\".islower()` and `\"C\".isupper()` return `True`"
   ]
  },
  {
   "cell_type": "markdown",
   "metadata": {
    "slideshow": {
     "slide_type": "slide"
    }
   },
   "source": [
    "# `map` built-in function\n",
    "\n",
    "Apply a function over a sequence.\n"
   ]
  },
  {
   "cell_type": "code",
   "execution_count": 100,
   "metadata": {
    "slideshow": {
     "slide_type": "fragment"
    }
   },
   "outputs": [
    {
     "name": "stdout",
     "output_type": "stream",
     "text": [
      "<map object at 0x10c1affd0>\n"
     ]
    }
   ],
   "source": [
    "res = map(chr,range(97,123))\n",
    "print(res)"
   ]
  },
  {
   "cell_type": "markdown",
   "metadata": {
    "slideshow": {
     "slide_type": "fragment"
    }
   },
   "source": [
    "Since Python 3.x, `map` process return an iterator. Save memory, and should make things go faster.\n",
    "Display result by using unpacking operator."
   ]
  },
  {
   "cell_type": "code",
   "execution_count": 101,
   "metadata": {
    "slideshow": {
     "slide_type": "fragment"
    }
   },
   "outputs": [
    {
     "name": "stdout",
     "output_type": "stream",
     "text": [
      "a b c d e f g h i j k l m n o p q r s t u v w x y z\n"
     ]
    }
   ],
   "source": [
    "print(*res)"
   ]
  },
  {
   "cell_type": "markdown",
   "metadata": {
    "slideshow": {
     "slide_type": "slide"
    }
   },
   "source": [
    "# `map` with user-defined function"
   ]
  },
  {
   "cell_type": "code",
   "execution_count": 50,
   "metadata": {
    "slideshow": {
     "slide_type": "fragment"
    }
   },
   "outputs": [
    {
     "name": "stdout",
     "output_type": "stream",
     "text": [
      "5 7 9\n"
     ]
    }
   ],
   "source": [
    "def add(x,y):\n",
    "    return x+y\n",
    "\n",
    "L1 = [1, 2, 3]\n",
    "L2 = [4, 5, 6]\n",
    "print(*map(add,L1,L2))"
   ]
  },
  {
   "cell_type": "markdown",
   "metadata": {
    "slideshow": {
     "slide_type": "slide"
    }
   },
   "source": [
    "### `map` is often faster than `for` loop"
   ]
  },
  {
   "cell_type": "code",
   "execution_count": 51,
   "metadata": {
    "slideshow": {
     "slide_type": "fragment"
    }
   },
   "outputs": [
    {
     "name": "stdout",
     "output_type": "stream",
     "text": [
      "230 ns ± 2.32 ns per loop (mean ± std. dev. of 7 runs, 1000000 loops each)\n"
     ]
    }
   ],
   "source": [
    "M = range(10000)\n",
    "f = lambda x: x**2\n",
    "%timeit lmap = map(f,M)"
   ]
  },
  {
   "cell_type": "code",
   "execution_count": 52,
   "metadata": {
    "slideshow": {
     "slide_type": "fragment"
    }
   },
   "outputs": [
    {
     "name": "stdout",
     "output_type": "stream",
     "text": [
      "406 ns ± 3.54 ns per loop (mean ± std. dev. of 7 runs, 1000000 loops each)\n"
     ]
    }
   ],
   "source": [
    "M = range(10000)\n",
    "f = lambda x: x**2\n",
    "%timeit lfor = (f(m) for m in M)"
   ]
  },
  {
   "cell_type": "markdown",
   "metadata": {
    "slideshow": {
     "slide_type": "slide"
    }
   },
   "source": [
    "### Exercise:\n",
    "\n",
    "Code a new version of your cypher function using map. \n",
    "\n",
    "Hints: \n",
    "- Applied function must have only one argument, create a function called `shift` with the key value and use map."
   ]
  },
  {
   "cell_type": "markdown",
   "metadata": {},
   "source": [
    "## `while` and `for` loop"
   ]
  },
  {
   "cell_type": "code",
   "execution_count": 79,
   "metadata": {},
   "outputs": [
    {
     "data": {
      "text/plain": [
       "'i am a pythonista'"
      ]
     },
     "execution_count": 79,
     "metadata": {},
     "output_type": "execute_result"
    }
   ],
   "source": [
    "from string import ascii_lowercase as alphabet\n",
    "\n",
    "def cipher(text, key=0):\n",
    "    \"Encrypt the `text` using the Caesar cipher technique.\" \n",
    "    res = \"\"\n",
    "    for c in text:\n",
    "        if c.isalpha():\n",
    "            i = 0\n",
    "            while alphabet[i] != c :\n",
    "                i +=1\n",
    "            res += alphabet[(i+key)%26]\n",
    "        else:\n",
    "            res += c\n",
    "    \n",
    "    return res\n",
    "\n",
    "cipher('s kw k zidryxscdk', 42)"
   ]
  },
  {
   "cell_type": "markdown",
   "metadata": {},
   "source": [
    "## `for` loop and `str.index` function"
   ]
  },
  {
   "cell_type": "code",
   "execution_count": 126,
   "metadata": {},
   "outputs": [
    {
     "data": {
      "text/plain": [
       "'i am a pythonista'"
      ]
     },
     "execution_count": 126,
     "metadata": {},
     "output_type": "execute_result"
    }
   ],
   "source": [
    "def cipher(text, key=0):\n",
    "    \"Encrypt the `text` using the Caesar cipher technique. \"\n",
    "    res = \"\"\n",
    "    for c in text:\n",
    "        if c.isalpha():\n",
    "            i = alphabet.index(c)\n",
    "            res += alphabet[(i+key)%26]\n",
    "        else:\n",
    "            res += c\n",
    "    \n",
    "    return res\n",
    "\n",
    "cipher('s kw k zidryxscdk', 42)"
   ]
  },
  {
   "cell_type": "markdown",
   "metadata": {},
   "source": [
    "## `str.index` and `list comprehension`"
   ]
  },
  {
   "cell_type": "code",
   "execution_count": 127,
   "metadata": {},
   "outputs": [
    {
     "data": {
      "text/plain": [
       "'i am a pythonista'"
      ]
     },
     "execution_count": 127,
     "metadata": {},
     "output_type": "execute_result"
    }
   ],
   "source": [
    "def cipher(text, key=0):\n",
    "    \"Encrypt the `text` using the Caesar cipher technique.\"\n",
    "    a = alphabet\n",
    "    res = [a[(a.index(c)+key)%26] if c.isalpha()  else c for c in text]\n",
    "    return \"\".join(res)\n",
    "\n",
    "cipher('s kw k zidryxscdk', 42)"
   ]
  },
  {
   "cell_type": "markdown",
   "metadata": {},
   "source": [
    "##  `enumerate` and `list`"
   ]
  },
  {
   "cell_type": "code",
   "execution_count": 128,
   "metadata": {},
   "outputs": [
    {
     "data": {
      "text/plain": [
       "'i am a pythonista'"
      ]
     },
     "execution_count": 128,
     "metadata": {},
     "output_type": "execute_result"
    }
   ],
   "source": [
    "def cipher(text, key=0):\n",
    "    \"Encrypt the `text` using the Caesar cipher technique.\"\n",
    "    res = list(text)\n",
    "    for i, c in enumerate(text):\n",
    "        if c.isalpha():\n",
    "            j = alphabet.index(c)\n",
    "            res[i] = alphabet[(j+key)%26]\n",
    "\n",
    "    return \"\".join(res)\n",
    "        \n",
    "cipher('s kw k zidryxscdk', 42)"
   ]
  },
  {
   "cell_type": "markdown",
   "metadata": {},
   "source": [
    "## `map` and `str.join`"
   ]
  },
  {
   "cell_type": "code",
   "execution_count": 129,
   "metadata": {},
   "outputs": [
    {
     "data": {
      "text/plain": [
       "'i am a pythonista'"
      ]
     },
     "execution_count": 129,
     "metadata": {},
     "output_type": "execute_result"
    }
   ],
   "source": [
    "def cipher(text, key=0):\n",
    "    \"Encrypt the `text` using the Caesar cipher technique.\"\n",
    "    \n",
    "    def shift(c):\n",
    "        if c.isalpha():\n",
    "            i = alphabet.index(c)\n",
    "            return alphabet[(i+key)%26]\n",
    "        else:\n",
    "            return c\n",
    "    \n",
    "    return \"\".join(map(shift, text))\n",
    "        \n",
    "cipher('s kw k zidryxscdk', 42)"
   ]
  },
  {
   "cell_type": "markdown",
   "metadata": {},
   "source": [
    "##  `set` and  `dict`"
   ]
  },
  {
   "cell_type": "code",
   "execution_count": 130,
   "metadata": {},
   "outputs": [
    {
     "data": {
      "text/plain": [
       "'i am a pythonista'"
      ]
     },
     "execution_count": 130,
     "metadata": {},
     "output_type": "execute_result"
    }
   ],
   "source": [
    "def cipher(text, key=0):\n",
    "    \"Encrypt the `text` using the Caesar cipher technique.\"\n",
    "    a = { c:i for (i,c) in enumerate(alphabet)}\n",
    "    \n",
    "    res = [alphabet[(a[c]+key)%26] if c.isalpha() else c for c in text ]\n",
    "    return \"\".join(res)\n",
    "\n",
    "cipher('s kw k zidryxscdk', 42)"
   ]
  },
  {
   "cell_type": "markdown",
   "metadata": {},
   "source": [
    "## `dict` and `Exception` handling"
   ]
  },
  {
   "cell_type": "code",
   "execution_count": 131,
   "metadata": {},
   "outputs": [
    {
     "data": {
      "text/plain": [
       "'i am a pythonista'"
      ]
     },
     "execution_count": 131,
     "metadata": {},
     "output_type": "execute_result"
    }
   ],
   "source": [
    "def cipher(text, key=0):\n",
    "    \"Encrypt the `text` using the Caesar cipher technique.\"\n",
    "    a = { c:i for (i,c) in enumerate(alphabet)}\n",
    "    res = \"\"\n",
    "    for c in text:\n",
    "        try:\n",
    "            res += alphabet[(a[c]+key)%26]\n",
    "        except KeyError:\n",
    "            res += c\n",
    "            \n",
    "    return res\n",
    "\n",
    "cipher('s kw k zidryxscdk', 42)"
   ]
  },
  {
   "cell_type": "markdown",
   "metadata": {},
   "source": [
    "## `str.maketrans` and `str.translate`"
   ]
  },
  {
   "cell_type": "code",
   "execution_count": 132,
   "metadata": {},
   "outputs": [
    {
     "data": {
      "text/plain": [
       "'i am a pythonista'"
      ]
     },
     "execution_count": 132,
     "metadata": {},
     "output_type": "execute_result"
    }
   ],
   "source": [
    "def cipher(text, key=0):\n",
    "    \"Encrypt the `text` using the Caesar cipher technique.\"\n",
    "    \n",
    "    a = { c:alphabet[(i+key)%26] for (i,c) in enumerate(alphabet)}\n",
    "    \n",
    "    table = str.maketrans(a)\n",
    "    return text.translate(table)\n",
    "\n",
    "cipher('s kw k zidryxscdk', 42)"
   ]
  },
  {
   "cell_type": "code",
   "execution_count": 133,
   "metadata": {
    "slideshow": {
     "slide_type": "slide"
    }
   },
   "outputs": [
    {
     "name": "stdout",
     "output_type": "stream",
     "text": [
      "Help on function cipher in module __main__:\n",
      "\n",
      "cipher(text, key=0)\n",
      "    Encrypt the `text` using the Caesar cipher technique.\n",
      "\n"
     ]
    }
   ],
   "source": [
    "help(cipher)"
   ]
  },
  {
   "cell_type": "markdown",
   "metadata": {},
   "source": [
    "## Create a latin text with `lorem` package "
   ]
  },
  {
   "cell_type": "code",
   "execution_count": 23,
   "metadata": {
    "slideshow": {
     "slide_type": "slide"
    }
   },
   "outputs": [
    {
     "name": "stdout",
     "output_type": "stream",
     "text": [
      "Requirement already satisfied: lorem in /usr/local/lib/python3.7/site-packages (0.1.1)\n",
      "Adipisci eius modi quaerat quisquam eius eius.\n"
     ]
    }
   ],
   "source": [
    "import sys\n",
    "!{sys.executable} -m pip install lorem\n",
    "\n",
    "import lorem\n",
    "\n",
    "text = lorem.sentence()\n",
    "\n",
    "print(text)"
   ]
  },
  {
   "cell_type": "markdown",
   "metadata": {},
   "source": [
    "## Open and write a the file sample.txt"
   ]
  },
  {
   "cell_type": "code",
   "execution_count": 25,
   "metadata": {},
   "outputs": [],
   "source": [
    "from lorem import text\n",
    "with open(\"sample.txt\",\"w\") as f:\n",
    "    f.write(text())"
   ]
  },
  {
   "cell_type": "markdown",
   "metadata": {},
   "source": [
    "## Open and read the file sample.txt"
   ]
  },
  {
   "cell_type": "code",
   "execution_count": 26,
   "metadata": {},
   "outputs": [
    {
     "data": {
      "text/plain": [
       "'Neque tempora consectetur dolorem ipsum. Consectetur modi non dolor labore. Voluptatem adipisci dolorem sed. Ipsum velit etincidunt quiquia sed quisquam velit quaerat. Velit ut consectetur tempora non dolorem.\\n\\nSit labore numquam voluptatem labore sed velit dolorem. Sed adipisci ut modi ut velit. Tempora sed est non neque porro consectetur. Numquam etincidunt est porro sed voluptatem dolore. Eius quiquia modi etincidunt velit modi.\\n\\nAliquam tempora labore aliquam amet voluptatem. Dolore consectetur voluptatem non. Dolore eius quisquam aliquam magnam dolor. Dolorem modi magnam dolore magnam. Quiquia eius magnam quisquam sed. Eius sed ipsum sit dolor porro non modi. Porro adipisci aliquam magnam eius est. Sit adipisci labore neque modi.\\n\\nAliquam porro quiquia non ut eius. Dolore quiquia sed amet dolore velit amet. Quaerat velit neque etincidunt non adipisci voluptatem numquam. Neque neque ipsum non ut. Quiquia eius magnam tempora voluptatem numquam. Voluptatem dolorem quisquam quisquam. Tempora dolor sed aliquam velit aliquam voluptatem labore. Velit ut tempora sed quiquia sed non consectetur.\\n\\nNumquam modi neque ut aliquam. Magnam adipisci voluptatem non. Voluptatem est ipsum voluptatem est aliquam numquam ipsum. Sit quiquia tempora amet magnam eius eius quisquam. Ipsum consectetur modi sit. Sit quiquia eius sit sed.'"
      ]
     },
     "execution_count": 26,
     "metadata": {},
     "output_type": "execute_result"
    }
   ],
   "source": [
    "with open(\"sample.txt\",\"r\") as f:\n",
    "    data = f.read()\n",
    "    \n",
    "data"
   ]
  },
  {
   "cell_type": "code",
   "execution_count": null,
   "metadata": {},
   "outputs": [],
   "source": []
  }
 ],
 "metadata": {
  "kernelspec": {
   "display_name": "Python 3.7",
   "language": "python",
   "name": "python3"
  },
  "language_info": {
   "codemirror_mode": {
    "name": "ipython",
    "version": 3
   },
   "file_extension": ".py",
   "mimetype": "text/x-python",
   "name": "python",
   "nbconvert_exporter": "python",
   "pygments_lexer": "ipython3",
   "version": "3.7.0"
  }
 },
 "nbformat": 4,
 "nbformat_minor": 1
}
