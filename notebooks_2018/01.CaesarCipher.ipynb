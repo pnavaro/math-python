{
 "cells": [
  {
   "cell_type": "markdown",
   "metadata": {},
   "source": [
    "# Caesar cipher\n",
    "\n",
    "In cryptography, a Caesar cipher, is one of the simplest and most widely known encryption techniques. It is a type of substitution cipher in which each letter in the plaintext is replaced by a letter some fixed number of positions down the alphabet. For example, with a left shift of 3, D would be replaced by A, E would become B, and so on. \n",
    "\n",
    "## Objectives\n",
    "\n",
    "- Create a function `cipher` that take a plain text and the key value as arguments and return the encrypted text.\n",
    "```py\n",
    "cipher(\"abcd gef\", 1) == \"bcde hij\"\n",
    "```"
   ]
  },
  {
   "cell_type": "markdown",
   "metadata": {},
   "source": [
    "## String methods\n",
    "\n",
    "- the method `lower()` returns the lowered string contained in variable word\n",
    "- the method `isalpha()` returns true if string has at least 1 character and all characters are alphabetic "
   ]
  },
  {
   "cell_type": "code",
   "execution_count": 28,
   "metadata": {},
   "outputs": [
    {
     "data": {
      "text/plain": [
       "('bonjour', True)"
      ]
     },
     "execution_count": 28,
     "metadata": {},
     "output_type": "execute_result"
    }
   ],
   "source": [
    "word = \"Bonjour\"\n",
    "word.lower(),word.isalpha()"
   ]
  },
  {
   "cell_type": "code",
   "execution_count": 29,
   "metadata": {},
   "outputs": [
    {
     "data": {
      "text/plain": [
       "('bonjour', True)"
      ]
     },
     "execution_count": 29,
     "metadata": {},
     "output_type": "execute_result"
    }
   ],
   "source": [
    "str.lower(word), str.isalpha(word)"
   ]
  },
  {
   "cell_type": "markdown",
   "metadata": {},
   "source": [
    "### Exercise 1\n",
    "\n",
    "- Display all strings methods by typing `<TAB>` key after the dot of `word.`,\n",
    "- Select the `word.replace` method,\n",
    "- Display documentation by typing `<shift>+<TAB>` keys after `word.replace`,\n",
    "- replace all character `o` by `O` by using `word.replace` method."
   ]
  },
  {
   "cell_type": "code",
   "execution_count": 32,
   "metadata": {},
   "outputs": [
    {
     "data": {
      "text/plain": [
       "'Bonjour'"
      ]
     },
     "execution_count": 32,
     "metadata": {},
     "output_type": "execute_result"
    }
   ],
   "source": [
    "word   # . and <TAB>"
   ]
  },
  {
   "cell_type": "code",
   "execution_count": 33,
   "metadata": {},
   "outputs": [
    {
     "data": {
      "text/plain": [
       "<function str.replace(old, new, count=-1, /)>"
      ]
     },
     "execution_count": 33,
     "metadata": {},
     "output_type": "execute_result"
    }
   ],
   "source": [
    "word.replace  # shift+<TAB> "
   ]
  },
  {
   "cell_type": "code",
   "execution_count": 34,
   "metadata": {},
   "outputs": [
    {
     "data": {
      "text/plain": [
       "'BOnjOur'"
      ]
     },
     "execution_count": 34,
     "metadata": {},
     "output_type": "execute_result"
    }
   ],
   "source": [
    "word.replace(\"o\",\"O\")"
   ]
  },
  {
   "cell_type": "markdown",
   "metadata": {},
   "source": [
    "alphabet string is available from the standard library string:"
   ]
  },
  {
   "cell_type": "code",
   "execution_count": 153,
   "metadata": {},
   "outputs": [
    {
     "name": "stdout",
     "output_type": "stream",
     "text": [
      "abcdefghijklmnopqrstuvwxyz\n"
     ]
    }
   ],
   "source": [
    "import string\n",
    "\n",
    "alphabet = string.ascii_lowercase\n",
    "print(alphabet)"
   ]
  },
  {
   "cell_type": "code",
   "execution_count": 154,
   "metadata": {},
   "outputs": [
    {
     "name": "stdout",
     "output_type": "stream",
     "text": [
      "ABCDEFGHIJKLMNOPQRSTUVWXYZ\n"
     ]
    }
   ],
   "source": [
    "from string import ascii_uppercase as ALPHABET\n",
    "\n",
    "print(ALPHABET)"
   ]
  },
  {
   "cell_type": "markdown",
   "metadata": {
    "slideshow": {
     "slide_type": "slide"
    }
   },
   "source": [
    "## Loop over an iterable object\n",
    "\n",
    "We use `for` statement for looping over an iterable object. If we use it with a string, it loops over its characters.\n",
    "\n",
    "https://docs.python.org/3.7/tutorial/controlflow.html#for-statements"
   ]
  },
  {
   "cell_type": "markdown",
   "metadata": {
    "slideshow": {
     "slide_type": "slide"
    }
   },
   "source": [
    "## `if` Statements\n",
    "\n",
    "`if` .. `elif`..`else`\n",
    "```python\n",
    "True, False, and, or, not, ==, is, !=, is not, >, >=, <, <=, in\n",
    "```\n",
    "https://docs.python.org/3.7/tutorial/controlflow.html#if-statements"
   ]
  },
  {
   "cell_type": "markdown",
   "metadata": {},
   "source": [
    "We need a `int_to_char` function that returns letter at shifted position."
   ]
  },
  {
   "cell_type": "code",
   "execution_count": 397,
   "metadata": {},
   "outputs": [],
   "source": [
    "def int_to_char(n):\n",
    "    \"\"\" ---------------------\n",
    "        First Python function\n",
    "        ---------------------\n",
    "        \n",
    "        return the alphabet character at position n modulo 26\n",
    "    \"\"\"\n",
    "    return alphabet[n%26]"
   ]
  },
  {
   "cell_type": "code",
   "execution_count": 398,
   "metadata": {
    "slideshow": {
     "slide_type": "slide"
    }
   },
   "outputs": [
    {
     "name": "stdout",
     "output_type": "stream",
     "text": [
      "Help on function int_to_char in module __main__:\n",
      "\n",
      "int_to_char(n)\n",
      "    ---------------------\n",
      "    First Python function\n",
      "    ---------------------\n",
      "    \n",
      "    return the alphabet character at position n modulo 26\n",
      "\n"
     ]
    }
   ],
   "source": [
    "help(int_to_char)"
   ]
  },
  {
   "cell_type": "markdown",
   "metadata": {
    "slideshow": {
     "slide_type": "slide"
    }
   },
   "source": [
    "### Exercise  2\n",
    "\n",
    "Create a function `char_to_int(c)` that returns the position of c in alphabet\n",
    "\n",
    "*Algorithm*\n",
    "- If this character is an alpha character.\n",
    "- Loop over alphabet `while`  until this character is equal to the matching character in alphabet. Increment a counter to compute its position.\n",
    "- A function that does not explictely return a value, returns `None` \n",
    "\n",
    "https://docs.python.org/3.7/tutorial/controlflow.html#defining-functions "
   ]
  },
  {
   "cell_type": "code",
   "execution_count": 336,
   "metadata": {
    "slideshow": {
     "slide_type": "slide"
    }
   },
   "outputs": [],
   "source": [
    "# %load solutions/caesar/ex02.py"
   ]
  },
  {
   "cell_type": "markdown",
   "metadata": {
    "slideshow": {
     "slide_type": "fragment"
    }
   },
   "source": [
    "# `enumerate` Function\n",
    "\n",
    "https://docs.python.org/3.7/tutorial/introduction.html#strings"
   ]
  },
  {
   "cell_type": "code",
   "execution_count": 172,
   "metadata": {
    "scrolled": true,
    "slideshow": {
     "slide_type": "fragment"
    }
   },
   "outputs": [
    {
     "name": "stdout",
     "output_type": "stream",
     "text": [
      "0  :  a\n",
      "1  :  b\n",
      "2  :  c\n",
      "3  :  d\n"
     ]
    }
   ],
   "source": [
    "for i, c in enumerate(\"abcd\"):\n",
    "    print(i, \" : \", c) "
   ]
  },
  {
   "cell_type": "markdown",
   "metadata": {},
   "source": [
    "### Exercise 3\n",
    "\n",
    "Rewrite the `char_to_int` with a for loop\n",
    "\n",
    "*Algorithm*\n",
    "- If input character is an alpha character.\n",
    "- Loop over enumerate(alphabet)  until input character is equal to the matching character in alphabet. \n",
    "- Return the index (loop is stopped by `break` or `return` inside a function).\n",
    "\n"
   ]
  },
  {
   "cell_type": "code",
   "execution_count": 346,
   "metadata": {},
   "outputs": [],
   "source": [
    "# %load solutions/caesar/ex03.py"
   ]
  },
  {
   "cell_type": "markdown",
   "metadata": {},
   "source": [
    "### Exercise 4\n",
    "\n",
    "The `char_to_int` function can be improved by using the `str.index` method. Rewrite the function."
   ]
  },
  {
   "cell_type": "code",
   "execution_count": 347,
   "metadata": {},
   "outputs": [
    {
     "name": "stdout",
     "output_type": "stream",
     "text": [
      "S.index(sub[, start[, end]]) -> int\n",
      "\n",
      "Return the lowest index in S where substring sub is found, \n",
      "such that sub is contained within S[start:end].  Optional\n",
      "arguments start and end are interpreted as in slice notation.\n",
      "\n",
      "Raises ValueError when the substring is not found.\n"
     ]
    }
   ],
   "source": [
    "print(str.index.__doc__)"
   ]
  },
  {
   "cell_type": "code",
   "execution_count": 348,
   "metadata": {},
   "outputs": [
    {
     "data": {
      "text/plain": [
       "(4, None)"
      ]
     },
     "execution_count": 348,
     "metadata": {},
     "output_type": "execute_result"
    }
   ],
   "source": [
    "# %load solutions/caesar/ex04.py\n",
    "def char_to_int(c):\n",
    "    if c.isalpha():\n",
    "        return alphabet.index(c)\n",
    "\n",
    "char_to_int(\"e\"), char_to_int(\" \")"
   ]
  },
  {
   "cell_type": "markdown",
   "metadata": {},
   "source": [
    "## String concatenation\n",
    "\n",
    "https://docs.python.org/3.7/tutorial/introduction.html#strings"
   ]
  },
  {
   "cell_type": "code",
   "execution_count": 349,
   "metadata": {},
   "outputs": [
    {
     "data": {
      "text/plain": [
       "'aaaa'"
      ]
     },
     "execution_count": 349,
     "metadata": {},
     "output_type": "execute_result"
    }
   ],
   "source": [
    "s = \"\"\n",
    "s += \"a\"\n",
    "s *= 4\n",
    "s"
   ]
  },
  {
   "cell_type": "markdown",
   "metadata": {},
   "source": [
    "### Exercise 5\n",
    "\n",
    "Improve again functions `char_to_int` and `int_to_char` by using Python functions `chr` and\n",
    "`ord`."
   ]
  },
  {
   "cell_type": "code",
   "execution_count": 350,
   "metadata": {
    "scrolled": false
   },
   "outputs": [
    {
     "name": "stdout",
     "output_type": "stream",
     "text": [
      "97  \t  a\n",
      "98  \t  b\n",
      "99  \t  c\n",
      "100  \t  d\n"
     ]
    }
   ],
   "source": [
    "for x in 'abcd':\n",
    "    print(ord(x), ' \\t ',chr(ord(x)))"
   ]
  },
  {
   "cell_type": "code",
   "execution_count": 353,
   "metadata": {},
   "outputs": [],
   "source": [
    "# %load solutions/caesar/ex05.py"
   ]
  },
  {
   "cell_type": "markdown",
   "metadata": {},
   "source": [
    "### Exercise 6\n",
    "\n",
    "Write a first version of the cipher function using both functions implemented above.\n",
    "\n",
    "*Algorithm*\n",
    "- Create an empty string `s`.\n",
    "- For every character in input text do:\n",
    "    - compute position in alphabet with `char_to_int`\n",
    "    - if c is a character append the shifted character to `s`.\n",
    "    - else append the unchanged c character.\n",
    "- Return the string s"
   ]
  },
  {
   "cell_type": "code",
   "execution_count": null,
   "metadata": {},
   "outputs": [],
   "source": [
    "# %load solutions/caesar/ex06.py"
   ]
  },
  {
   "cell_type": "markdown",
   "metadata": {},
   "source": [
    "## Python list\n",
    "\n",
    "The function above works but we need to create a new string to cipher the plain text.\n",
    "Since the string is not mutable, the cell code below will throw an error.\n",
    "\n",
    "https://docs.python.org/3.6/tutorial/introduction.html#lists"
   ]
  },
  {
   "cell_type": "code",
   "execution_count": 304,
   "metadata": {},
   "outputs": [
    {
     "ename": "TypeError",
     "evalue": "'str' object does not support item assignment",
     "output_type": "error",
     "traceback": [
      "\u001b[0;31m---------------------------------------------------------------------------\u001b[0m",
      "\u001b[0;31mTypeError\u001b[0m                                 Traceback (most recent call last)",
      "\u001b[0;32m<ipython-input-304-d8f31d01ce8e>\u001b[0m in \u001b[0;36m<module>\u001b[0;34m()\u001b[0m\n\u001b[1;32m      1\u001b[0m \u001b[0mword\u001b[0m \u001b[0;34m=\u001b[0m \u001b[0;34m\"bonjour\"\u001b[0m\u001b[0;34m\u001b[0m\u001b[0m\n\u001b[0;32m----> 2\u001b[0;31m \u001b[0mword\u001b[0m\u001b[0;34m[\u001b[0m\u001b[0;36m0\u001b[0m\u001b[0;34m]\u001b[0m \u001b[0;34m=\u001b[0m \u001b[0;34m\"B\"\u001b[0m\u001b[0;34m\u001b[0m\u001b[0m\n\u001b[0m",
      "\u001b[0;31mTypeError\u001b[0m: 'str' object does not support item assignment"
     ]
    }
   ],
   "source": [
    "word = \"bonjour\"\n",
    "word[0] = \"B\""
   ]
  },
  {
   "cell_type": "markdown",
   "metadata": {},
   "source": [
    "Let's use a Python list to cipher the text. We will no longer use functions `char_to_int` and `int_to_char`.\n",
    "Strings can be cast to list with `list` function or `str.split` method. The function `str.join` convert a list of characters to a string."
   ]
  },
  {
   "cell_type": "code",
   "execution_count": 305,
   "metadata": {},
   "outputs": [
    {
     "data": {
      "text/plain": [
       "['b', 'o', 'n', 'j', 'o', 'u', 'r']"
      ]
     },
     "execution_count": 305,
     "metadata": {},
     "output_type": "execute_result"
    }
   ],
   "source": [
    "word = list(word)\n",
    "word"
   ]
  },
  {
   "cell_type": "code",
   "execution_count": 306,
   "metadata": {},
   "outputs": [
    {
     "data": {
      "text/plain": [
       "['i', 'am', 'a', 'pythonista!']"
      ]
     },
     "execution_count": 306,
     "metadata": {},
     "output_type": "execute_result"
    }
   ],
   "source": [
    "'i am a pythonista!'.split()"
   ]
  },
  {
   "cell_type": "code",
   "execution_count": 307,
   "metadata": {},
   "outputs": [
    {
     "data": {
      "text/plain": [
       "'bonjour'"
      ]
     },
     "execution_count": 307,
     "metadata": {},
     "output_type": "execute_result"
    }
   ],
   "source": [
    "\"\".join(word)"
   ]
  },
  {
   "cell_type": "markdown",
   "metadata": {},
   "source": [
    "Here a version of the cipher function using a `for` loop and `str.index` function."
   ]
  },
  {
   "cell_type": "code",
   "execution_count": 308,
   "metadata": {},
   "outputs": [
    {
     "data": {
      "text/plain": [
       "2"
      ]
     },
     "execution_count": 308,
     "metadata": {},
     "output_type": "execute_result"
    }
   ],
   "source": [
    "alphabet.index(\"c\") # returns the position of first \"c\" in alphabet string."
   ]
  },
  {
   "cell_type": "code",
   "execution_count": 309,
   "metadata": {},
   "outputs": [
    {
     "data": {
      "text/plain": [
       "'i am a pythonista!'"
      ]
     },
     "execution_count": 309,
     "metadata": {},
     "output_type": "execute_result"
    }
   ],
   "source": [
    "def cipher(text, key=0):\n",
    "    \"Encrypt the `text` using the Caesar cipher technique. \"\n",
    "    res = \"\"\n",
    "    for c in text:\n",
    "        if c.isalpha():\n",
    "            i = alphabet.index(c)\n",
    "            res += alphabet[(i+key)%26]\n",
    "        else:\n",
    "            res += c\n",
    "    \n",
    "    return res\n",
    "\n",
    "cipher('s kw k zidryxscdk!', 42)"
   ]
  },
  {
   "cell_type": "markdown",
   "metadata": {},
   "source": [
    "### Exercise 7 \n",
    "\n",
    "Rewrite the `cipher` function using Python list.\n",
    "\n",
    "*Algorithm*\n",
    "- remove the `res` string\n",
    "- convert the `text` string to a python list\n",
    "- change every item of this list by its shifted version.\n",
    "- return the string converted from list using `str.join`"
   ]
  },
  {
   "cell_type": "code",
   "execution_count": null,
   "metadata": {},
   "outputs": [],
   "source": [
    "# %load solutions/caesar/ex07.py"
   ]
  },
  {
   "cell_type": "markdown",
   "metadata": {
    "slideshow": {
     "slide_type": "slide"
    }
   },
   "source": [
    "## List comprehension\n",
    "\n",
    "- Set or change values inside a list\n",
    "- Create list from function\n",
    "\n",
    "https://docs.python.org/3.7/tutorial/datastructures.html#list-comprehensions"
   ]
  },
  {
   "cell_type": "code",
   "execution_count": 311,
   "metadata": {
    "slideshow": {
     "slide_type": "fragment"
    }
   },
   "outputs": [
    {
     "data": {
      "text/plain": [
       "[2, 6, 18, 8]"
      ]
     },
     "execution_count": 311,
     "metadata": {},
     "output_type": "execute_result"
    }
   ],
   "source": [
    "lsingle = [1, 3, 9, 4]  # Create double version of single list\n",
    "ldouble = []\n",
    "for k in lsingle:\n",
    "    ldouble.append(2*k)\n",
    "ldouble"
   ]
  },
  {
   "cell_type": "code",
   "execution_count": 312,
   "metadata": {
    "slideshow": {
     "slide_type": "fragment"
    }
   },
   "outputs": [],
   "source": [
    "ldouble = [k*2 for k in lsingle] # comprehension version"
   ]
  },
  {
   "cell_type": "code",
   "execution_count": 313,
   "metadata": {
    "slideshow": {
     "slide_type": "slide"
    }
   },
   "outputs": [
    {
     "data": {
      "text/plain": [
       "[1, 4, 9, 16, 25, 36, 49, 64, 81]"
      ]
     },
     "execution_count": 313,
     "metadata": {},
     "output_type": "execute_result"
    }
   ],
   "source": [
    "[n*n for n in range(1,10)] # square from 1 to 9"
   ]
  },
  {
   "cell_type": "code",
   "execution_count": 314,
   "metadata": {
    "slideshow": {
     "slide_type": "fragment"
    }
   },
   "outputs": [
    {
     "data": {
      "text/plain": [
       "[1, 9, 25, 49, 81]"
      ]
     },
     "execution_count": 314,
     "metadata": {},
     "output_type": "execute_result"
    }
   ],
   "source": [
    "[n*n for n in range(1,10) if n&1] # square only if item is odd"
   ]
  },
  {
   "cell_type": "code",
   "execution_count": 315,
   "metadata": {
    "slideshow": {
     "slide_type": "fragment"
    }
   },
   "outputs": [
    {
     "data": {
      "text/plain": [
       "[4, 1, 10, 2, 16, 3, 22, 4, 28]"
      ]
     },
     "execution_count": 315,
     "metadata": {},
     "output_type": "execute_result"
    }
   ],
   "source": [
    "[3*n+1 if n&1 else n//2 for n in range(1,10) ]"
   ]
  },
  {
   "cell_type": "markdown",
   "metadata": {
    "slideshow": {
     "slide_type": "slide"
    }
   },
   "source": [
    "### Exercise 8\n",
    "\n",
    "Code a new version of cypher function using list comprehension. \n"
   ]
  },
  {
   "cell_type": "code",
   "execution_count": 358,
   "metadata": {},
   "outputs": [],
   "source": [
    "# %load solutions/caesar/ex08.py"
   ]
  },
  {
   "cell_type": "markdown",
   "metadata": {
    "slideshow": {
     "slide_type": "slide"
    }
   },
   "source": [
    "## `map` built-in function\n",
    "\n",
    "Apply a function over a sequence.\n"
   ]
  },
  {
   "cell_type": "code",
   "execution_count": 359,
   "metadata": {
    "slideshow": {
     "slide_type": "fragment"
    }
   },
   "outputs": [
    {
     "name": "stdout",
     "output_type": "stream",
     "text": [
      "<map object at 0x10c1fb400>\n"
     ]
    }
   ],
   "source": [
    "res = map(chr,range(97,123))\n",
    "print(res)"
   ]
  },
  {
   "cell_type": "markdown",
   "metadata": {
    "slideshow": {
     "slide_type": "fragment"
    }
   },
   "source": [
    "Since Python 3.x, `map` process return an iterator. Save memory, and should make things go faster.\n",
    "Display result by using unpacking operator."
   ]
  },
  {
   "cell_type": "code",
   "execution_count": 360,
   "metadata": {
    "slideshow": {
     "slide_type": "fragment"
    }
   },
   "outputs": [
    {
     "name": "stdout",
     "output_type": "stream",
     "text": [
      "a b c d e f g h i j k l m n o p q r s t u v w x y z\n"
     ]
    }
   ],
   "source": [
    "print(*res)"
   ]
  },
  {
   "cell_type": "markdown",
   "metadata": {
    "slideshow": {
     "slide_type": "slide"
    }
   },
   "source": [
    "## `map` with user-defined function"
   ]
  },
  {
   "cell_type": "code",
   "execution_count": 361,
   "metadata": {
    "slideshow": {
     "slide_type": "fragment"
    }
   },
   "outputs": [
    {
     "name": "stdout",
     "output_type": "stream",
     "text": [
      "5 7 9\n"
     ]
    }
   ],
   "source": [
    "def add(x,y):\n",
    "    return x+y\n",
    "\n",
    "L1 = [1, 2, 3]\n",
    "L2 = [4, 5, 6]\n",
    "print(*map(add,L1,L2))"
   ]
  },
  {
   "cell_type": "markdown",
   "metadata": {
    "slideshow": {
     "slide_type": "slide"
    }
   },
   "source": [
    "### `map` is often faster than `for` loop"
   ]
  },
  {
   "cell_type": "code",
   "execution_count": 362,
   "metadata": {
    "slideshow": {
     "slide_type": "fragment"
    }
   },
   "outputs": [
    {
     "name": "stdout",
     "output_type": "stream",
     "text": [
      "216 ns ± 4.2 ns per loop (mean ± std. dev. of 7 runs, 1000000 loops each)\n"
     ]
    }
   ],
   "source": [
    "M = range(10000)\n",
    "f = lambda x: x**2\n",
    "%timeit lmap = map(f,M)"
   ]
  },
  {
   "cell_type": "code",
   "execution_count": 363,
   "metadata": {
    "slideshow": {
     "slide_type": "fragment"
    }
   },
   "outputs": [
    {
     "name": "stdout",
     "output_type": "stream",
     "text": [
      "373 ns ± 23.8 ns per loop (mean ± std. dev. of 7 runs, 1000000 loops each)\n"
     ]
    }
   ],
   "source": [
    "M = range(10000)\n",
    "f = lambda x: x**2\n",
    "%timeit lfor = (f(m) for m in M)"
   ]
  },
  {
   "cell_type": "markdown",
   "metadata": {
    "slideshow": {
     "slide_type": "slide"
    }
   },
   "source": [
    "### Exercise 9\n",
    "\n",
    "Code a new version of your cypher function using map. \n",
    "\n",
    "*Algorithm*:\n",
    "- create a function called `shift` that return the shifted character with the key value inside the cipher function\n",
    "- Applied function shift, must have only one argument.\n",
    "- use map to apply this shift function.\n",
    "- return the ciphered text"
   ]
  },
  {
   "cell_type": "code",
   "execution_count": 366,
   "metadata": {},
   "outputs": [],
   "source": [
    "# %load solutions/caesar/ex09.py"
   ]
  },
  {
   "cell_type": "markdown",
   "metadata": {},
   "source": [
    "##  `dict`\n",
    "\n",
    "https://docs.python.org/3.6/tutorial/datastructures.html#dictionaries"
   ]
  },
  {
   "cell_type": "code",
   "execution_count": 367,
   "metadata": {},
   "outputs": [
    {
     "data": {
      "text/plain": [
       "{'a': 0, 'b': 1, 'c': 2, 'd': 3}"
      ]
     },
     "execution_count": 367,
     "metadata": {},
     "output_type": "execute_result"
    }
   ],
   "source": [
    "d = { c:i for (i,c) in enumerate(\"abcd\")}\n",
    "d"
   ]
  },
  {
   "cell_type": "code",
   "execution_count": 368,
   "metadata": {},
   "outputs": [
    {
     "data": {
      "text/plain": [
       "1"
      ]
     },
     "execution_count": 368,
     "metadata": {},
     "output_type": "execute_result"
    }
   ],
   "source": [
    "d['b']"
   ]
  },
  {
   "cell_type": "code",
   "execution_count": 369,
   "metadata": {},
   "outputs": [
    {
     "data": {
      "text/plain": [
       "dict_keys(['a', 'b', 'c', 'd'])"
      ]
     },
     "execution_count": 369,
     "metadata": {},
     "output_type": "execute_result"
    }
   ],
   "source": [
    "d.keys()"
   ]
  },
  {
   "cell_type": "code",
   "execution_count": 370,
   "metadata": {},
   "outputs": [
    {
     "data": {
      "text/plain": [
       "dict_items([('a', 0), ('b', 1), ('c', 2), ('d', 3)])"
      ]
     },
     "execution_count": 370,
     "metadata": {},
     "output_type": "execute_result"
    }
   ],
   "source": [
    "d.items()"
   ]
  },
  {
   "cell_type": "code",
   "execution_count": 371,
   "metadata": {},
   "outputs": [
    {
     "data": {
      "text/plain": [
       "'i am a pythonista!'"
      ]
     },
     "execution_count": 371,
     "metadata": {},
     "output_type": "execute_result"
    }
   ],
   "source": [
    "def cipher(text, key=0):\n",
    "    \n",
    "    \"Encrypt the `text` using the Caesar cipher technique.\"\n",
    "    \n",
    "    a = { c:alphabet[(i+key)%26] for (i,c) in enumerate(alphabet)}\n",
    "    \n",
    "    return \"\".join((a[c] if c.isalpha() else c for c in text ))\n",
    "\n",
    "cipher('s kw k zidryxscdk!', 42)"
   ]
  },
  {
   "cell_type": "markdown",
   "metadata": {},
   "source": [
    "## `str.maketrans` and `str.translate`\n",
    "\n",
    "https://docs.python.org/3.6/library/stdtypes.html?highlight=maketrans#str.maketrans"
   ]
  },
  {
   "cell_type": "code",
   "execution_count": 372,
   "metadata": {},
   "outputs": [
    {
     "data": {
      "text/plain": [
       "'i am a pythonista!'"
      ]
     },
     "execution_count": 372,
     "metadata": {},
     "output_type": "execute_result"
    }
   ],
   "source": [
    "def cipher(text, key=0):\n",
    "    \"Encrypt the `text` using the Caesar cipher technique.\"\n",
    "    \n",
    "    a = { c:alphabet[(i+key)%26] for (i,c) in enumerate(alphabet)}\n",
    "    \n",
    "    table = str.maketrans(a)\n",
    "    \n",
    "    return text.translate(table)\n",
    "\n",
    "cipher('s kw k zidryxscdk!', 42)"
   ]
  },
  {
   "cell_type": "markdown",
   "metadata": {},
   "source": [
    "## Create a latin text with `lorem` package "
   ]
  },
  {
   "cell_type": "code",
   "execution_count": 373,
   "metadata": {
    "slideshow": {
     "slide_type": "slide"
    }
   },
   "outputs": [
    {
     "name": "stdout",
     "output_type": "stream",
     "text": [
      "Requirement already satisfied: lorem in /usr/local/lib/python3.7/site-packages (0.1.1)\n",
      "Quaerat est quiquia porro porro modi eius modi.\n"
     ]
    }
   ],
   "source": [
    "import sys\n",
    "!{sys.executable} -m pip install lorem\n",
    "\n",
    "import lorem\n",
    "\n",
    "text = lorem.sentence()\n",
    "\n",
    "print(text)"
   ]
  },
  {
   "cell_type": "markdown",
   "metadata": {},
   "source": [
    "## Open and write a the file sample.txt"
   ]
  },
  {
   "cell_type": "code",
   "execution_count": 381,
   "metadata": {},
   "outputs": [],
   "source": [
    "from lorem import text\n",
    "with open(\"sample.txt\",\"w\") as f:\n",
    "    f.write(text())"
   ]
  },
  {
   "cell_type": "markdown",
   "metadata": {},
   "source": [
    "## Open and read the file sample.txt"
   ]
  },
  {
   "cell_type": "code",
   "execution_count": 383,
   "metadata": {},
   "outputs": [
    {
     "name": "stdout",
     "output_type": "stream",
     "text": [
      "Dolore dolorem sed labore amet modi velit non. Etincidunt aliquam non non quaerat. Non numquam porro numquam quisquam sit. Non voluptatem dolor neque quaerat velit quisquam tempora. Non magnam porro neque. Tempora quiquia labore sed labore sed. Modi sed voluptatem aliquam labore velit ut sit.\n",
      "\n",
      "Dolorem sed ut labore. Etincidunt quisquam dolore quisquam eius eius sed. Quiquia sit numquam dolore est tempora. Dolore adipisci dolorem est sed sit velit dolor. Numquam dolore aliquam voluptatem quisquam dolore porro. Ut ut tempora dolore ipsum. Amet adipisci consectetur consectetur consectetur etincidunt. Labore ut neque non velit adipisci etincidunt sed. Sit voluptatem quiquia ut.\n",
      "\n",
      "Voluptatem neque adipisci magnam dolor non dolorem porro. Magnam adipisci est sit numquam tempora. Neque labore sit porro quiquia eius dolor tempora. Dolorem adipisci ut tempora numquam. Sed ut etincidunt aliquam dolor quisquam. Quaerat eius aliquam neque quiquia. Sit modi est ut dolorem ipsum est voluptatem. Dolorem dolore ut tempora.\n",
      "\n",
      "Consectetur ut quaerat dolore tempora ipsum consectetur. Porro quiquia velit dolore voluptatem ut voluptatem. Tempora quisquam consectetur porro labore consectetur. Quisquam aliquam consectetur aliquam ut quaerat. Quisquam est aliquam eius dolore velit amet. Adipisci adipisci magnam aliquam labore aliquam dolor. Labore voluptatem voluptatem sit labore quiquia velit dolorem. Ut adipisci dolor aliquam non. Sed etincidunt quaerat est.\n"
     ]
    }
   ],
   "source": [
    "with open(\"sample.txt\") as f:\n",
    "    data = f.read()\n",
    "print(data)"
   ]
  },
  {
   "cell_type": "markdown",
   "metadata": {},
   "source": [
    "## Homework\n",
    "\n",
    "Write the cipher function with file name as input and key value. This function will:\n",
    "- Open and read the file.\n",
    "- Cipher the plain text (be careful there are upper case character this time)\n",
    "- Open and write the crypted text in the same file.\n",
    "- Don't forget the key 😉"
   ]
  },
  {
   "cell_type": "code",
   "execution_count": null,
   "metadata": {},
   "outputs": [],
   "source": [
    "# %load solutions/caesar/homework.py"
   ]
  },
  {
   "cell_type": "code",
   "execution_count": 385,
   "metadata": {},
   "outputs": [
    {
     "name": "stdout",
     "output_type": "stream",
     "text": [
      "Epmpsf epmpsfn tfe mbcpsf bnfu npej wfmju opo. Fujodjevou bmjrvbn opo opo rvbfsbu. Opo ovnrvbn qpssp ovnrvbn rvjtrvbn tju. Opo wpmvqubufn epmps ofrvf rvbfsbu wfmju rvjtrvbn ufnqpsb. Opo nbhobn qpssp ofrvf. Ufnqpsb rvjrvjb mbcpsf tfe mbcpsf tfe. Npej tfe wpmvqubufn bmjrvbn mbcpsf wfmju vu tju.\r\n",
      "\r\n",
      "Epmpsfn tfe vu mbcpsf. Fujodjevou rvjtrvbn epmpsf rvjtrvbn fjvt fjvt tfe. Rvjrvjb tju ovnrvbn epmpsf ftu ufnqpsb. Epmpsf bejqjtdj epmpsfn ftu tfe tju wfmju epmps. Ovnrvbn epmpsf bmjrvbn wpmvqubufn rvjtrvbn epmpsf qpssp. Vu vu ufnqpsb epmpsf jqtvn. Bnfu bejqjtdj dpotfdufuvs dpotfdufuvs dpotfdufuvs fujodjevou. Mbcpsf vu ofrvf opo wfmju bejqjtdj fujodjevou tfe. Tju wpmvqubufn rvjrvjb vu.\r\n",
      "\r\n",
      "Wpmvqubufn ofrvf bejqjtdj nbhobn epmps opo epmpsfn qpssp. Nbhobn bejqjtdj ftu tju ovnrvbn ufnqpsb. Ofrvf mbcpsf tju qpssp rvjrvjb fjvt epmps ufnqpsb. Epmpsfn bejqjtdj vu ufnqpsb ovnrvbn. Tfe vu fujodjevou bmjrvbn epmps rvjtrvbn. Rvbfsbu fjvt bmjrvbn ofrvf rvjrvjb. Tju npej ftu vu epmpsfn jqtvn ftu wpmvqubufn. Epmpsfn epmpsf vu ufnqpsb.\r\n",
      "\r\n",
      "Dpotfdufuvs vu rvbfsbu epmpsf ufnqpsb jqtvn dpotfdufuvs. Qpssp rvjrvjb wfmju epmpsf wpmvqubufn vu wpmvqubufn. Ufnqpsb rvjtrvbn dpotfdufuvs qpssp mbcpsf dpotfdufuvs. Rvjtrvbn bmjrvbn dpotfdufuvs bmjrvbn vu rvbfsbu. Rvjtrvbn ftu bmjrvbn fjvt epmpsf wfmju bnfu. Bejqjtdj bejqjtdj nbhobn bmjrvbn mbcpsf bmjrvbn epmps. Mbcpsf wpmvqubufn wpmvqubufn tju mbcpsf rvjrvjb wfmju epmpsfn. Vu bejqjtdj epmps bmjrvbn opo. Tfe fujodjevou rvbfsbu ftu."
     ]
    }
   ],
   "source": [
    "%cat sample.txt"
   ]
  },
  {
   "cell_type": "code",
   "execution_count": 386,
   "metadata": {},
   "outputs": [],
   "source": [
    "cipher(\"sample.txt\",-1)"
   ]
  },
  {
   "cell_type": "code",
   "execution_count": 387,
   "metadata": {},
   "outputs": [
    {
     "name": "stdout",
     "output_type": "stream",
     "text": [
      "Dolore dolorem sed labore amet modi velit non. Etincidunt aliquam non non quaerat. Non numquam porro numquam quisquam sit. Non voluptatem dolor neque quaerat velit quisquam tempora. Non magnam porro neque. Tempora quiquia labore sed labore sed. Modi sed voluptatem aliquam labore velit ut sit.\r\n",
      "\r\n",
      "Dolorem sed ut labore. Etincidunt quisquam dolore quisquam eius eius sed. Quiquia sit numquam dolore est tempora. Dolore adipisci dolorem est sed sit velit dolor. Numquam dolore aliquam voluptatem quisquam dolore porro. Ut ut tempora dolore ipsum. Amet adipisci consectetur consectetur consectetur etincidunt. Labore ut neque non velit adipisci etincidunt sed. Sit voluptatem quiquia ut.\r\n",
      "\r\n",
      "Voluptatem neque adipisci magnam dolor non dolorem porro. Magnam adipisci est sit numquam tempora. Neque labore sit porro quiquia eius dolor tempora. Dolorem adipisci ut tempora numquam. Sed ut etincidunt aliquam dolor quisquam. Quaerat eius aliquam neque quiquia. Sit modi est ut dolorem ipsum est voluptatem. Dolorem dolore ut tempora.\r\n",
      "\r\n",
      "Consectetur ut quaerat dolore tempora ipsum consectetur. Porro quiquia velit dolore voluptatem ut voluptatem. Tempora quisquam consectetur porro labore consectetur. Quisquam aliquam consectetur aliquam ut quaerat. Quisquam est aliquam eius dolore velit amet. Adipisci adipisci magnam aliquam labore aliquam dolor. Labore voluptatem voluptatem sit labore quiquia velit dolorem. Ut adipisci dolor aliquam non. Sed etincidunt quaerat est."
     ]
    }
   ],
   "source": [
    "%cat sample.txt"
   ]
  },
  {
   "cell_type": "code",
   "execution_count": null,
   "metadata": {},
   "outputs": [],
   "source": []
  }
 ],
 "metadata": {
  "kernelspec": {
   "display_name": "Python3.7",
   "language": "python",
   "name": "python3"
  },
  "language_info": {
   "codemirror_mode": {
    "name": "ipython",
    "version": 3
   },
   "file_extension": ".py",
   "mimetype": "text/x-python",
   "name": "python",
   "nbconvert_exporter": "python",
   "pygments_lexer": "ipython3",
   "version": "3.7.0"
  }
 },
 "nbformat": 4,
 "nbformat_minor": 1
}
