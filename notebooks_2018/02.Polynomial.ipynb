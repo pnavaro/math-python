{
 "cells": [
  {
   "cell_type": "markdown",
   "metadata": {
    "slideshow": {
     "slide_type": "slide"
    }
   },
   "source": [
    "# Recursive Call"
   ]
  },
  {
   "cell_type": "code",
   "execution_count": 11,
   "metadata": {},
   "outputs": [
    {
     "data": {
      "text/plain": [
       "24"
      ]
     },
     "execution_count": 11,
     "metadata": {},
     "output_type": "execute_result"
    }
   ],
   "source": [
    "def factorial(n):\n",
    "    \" Compute factorial with recursive call \"\n",
    "    if n == 0:\n",
    "        return 1\n",
    "    else:\n",
    "        return n * factorial(n-1)\n",
    "    \n",
    "factorial(4)"
   ]
  },
  {
   "cell_type": "code",
   "execution_count": 56,
   "metadata": {
    "slideshow": {
     "slide_type": "fragment"
    }
   },
   "outputs": [
    {
     "data": {
      "text/plain": [
       "4"
      ]
     },
     "execution_count": 56,
     "metadata": {},
     "output_type": "execute_result"
    }
   ],
   "source": [
    "def gcd(x, y): \n",
    "    \"\"\" returns the greatest common divisor.\"\"\"\n",
    "    if x == 0: \n",
    "        return y\n",
    "    else : \n",
    "        return gcd(y % x, x)\n",
    "\n",
    "gcd(12,16)"
   ]
  },
  {
   "cell_type": "markdown",
   "metadata": {
    "slideshow": {
     "slide_type": "slide"
    }
   },
   "source": [
    "### Exercise: Polynomial derivative\n",
    "- A Polynomial is represented by a Python list of its coefficients.\n",
    "    [1,5,-4] => $1+5x-4x^2$\n",
    "- Write the function diff(P,n) that return the nth derivative Q\n",
    "```\n",
    "diff([3,2,1,5,7],2) = [2, 30, 84]\n",
    "diff([-6,5,-3,-4,3,-4],3) = [-24, 72, -240]\n",
    "```"
   ]
  },
  {
   "cell_type": "markdown",
   "metadata": {
    "slideshow": {
     "slide_type": "slide"
    }
   },
   "source": [
    "# Classes\n",
    "- Classes provide a means of bundling data and functionality together.\n",
    "- Creating a new class creates a **new type** of object.\n",
    "- Assigned variables are new **instances** of that type.\n",
    "- Each class instance can have **attributes** attached to it.\n",
    "- Class instances can also have **methods** for modifying its state.\n",
    "- Python classes provide the class **inheritance** mechanism.\n"
   ]
  },
  {
   "cell_type": "markdown",
   "metadata": {
    "slideshow": {
     "slide_type": "slide"
    }
   },
   "source": [
    "# Use class to store data\n",
    "\n",
    "- A empty class can be used to bundle together a few named data items. \n",
    "- You can easily save this class containing your data in JSON file."
   ]
  },
  {
   "cell_type": "code",
   "execution_count": 2,
   "metadata": {
    "slideshow": {
     "slide_type": "fragment"
    }
   },
   "outputs": [],
   "source": [
    "import json\n",
    "class Polynomial:\n",
    "    pass\n",
    "\n",
    "p = Polynomial()  # Create an empty animal record\n",
    "\n",
    "p.degree = 2\n",
    "p.coeffs = [1,-2,3]"
   ]
  },
  {
   "cell_type": "code",
   "execution_count": 3,
   "metadata": {
    "slideshow": {
     "slide_type": "fragment"
    }
   },
   "outputs": [
    {
     "data": {
      "text/plain": [
       "{'degree': 2, 'coeffs': [1, -2, 3]}"
      ]
     },
     "execution_count": 3,
     "metadata": {},
     "output_type": "execute_result"
    }
   ],
   "source": [
    "p.__dict__"
   ]
  },
  {
   "cell_type": "markdown",
   "metadata": {
    "slideshow": {
     "slide_type": "slide"
    }
   },
   "source": [
    "# namedtuple"
   ]
  },
  {
   "cell_type": "code",
   "execution_count": 5,
   "metadata": {
    "slideshow": {
     "slide_type": "fragment"
    }
   },
   "outputs": [],
   "source": [
    "from collections import namedtuple\n",
    "\n",
    "Polynomial = namedtuple('Polynomial', 'degree, coeffs')"
   ]
  },
  {
   "cell_type": "code",
   "execution_count": 7,
   "metadata": {
    "slideshow": {
     "slide_type": "fragment"
    }
   },
   "outputs": [
    {
     "data": {
      "text/plain": [
       "Polynomial(degree=2, coeffs=[1, -2, 3])"
      ]
     },
     "execution_count": 7,
     "metadata": {},
     "output_type": "execute_result"
    }
   ],
   "source": [
    "p = Polynomial( 2, [1, -2, 3])\n",
    "p"
   ]
  },
  {
   "cell_type": "code",
   "execution_count": 8,
   "metadata": {
    "slideshow": {
     "slide_type": "fragment"
    }
   },
   "outputs": [
    {
     "ename": "AttributeError",
     "evalue": "can't set attribute",
     "output_type": "error",
     "traceback": [
      "\u001b[0;31m---------------------------------------------------------------------------\u001b[0m",
      "\u001b[0;31mAttributeError\u001b[0m                            Traceback (most recent call last)",
      "\u001b[0;32m<ipython-input-8-22a794dbc786>\u001b[0m in \u001b[0;36m<module>\u001b[0;34m()\u001b[0m\n\u001b[1;32m      1\u001b[0m \u001b[0;31m# Like tuples, namedtuples are immutable:\u001b[0m\u001b[0;34m\u001b[0m\u001b[0;34m\u001b[0m\u001b[0m\n\u001b[1;32m      2\u001b[0m \u001b[0;34m\u001b[0m\u001b[0m\n\u001b[0;32m----> 3\u001b[0;31m \u001b[0mp\u001b[0m\u001b[0;34m.\u001b[0m\u001b[0mdegree\u001b[0m \u001b[0;34m=\u001b[0m \u001b[0;36m3\u001b[0m\u001b[0;34m\u001b[0m\u001b[0m\n\u001b[0m",
      "\u001b[0;31mAttributeError\u001b[0m: can't set attribute"
     ]
    }
   ],
   "source": [
    "# Like tuples, namedtuples are immutable:\n",
    "\n",
    "p.degree = 3"
   ]
  },
  {
   "cell_type": "code",
   "execution_count": 15,
   "metadata": {
    "slideshow": {
     "slide_type": "slide"
    }
   },
   "outputs": [
    {
     "data": {
      "text/plain": [
       "+1x^0 -2x^1 +3x^2 "
      ]
     },
     "execution_count": 15,
     "metadata": {},
     "output_type": "execute_result"
    }
   ],
   "source": [
    "class Polynomial:\n",
    "\n",
    "    \"A simple example class to represent a Polynomial\"\n",
    "\n",
    "    def __init__(self, coeffs):  # constructor\n",
    "        self.coeffs = coeffs\n",
    "        self.degree = len(coeffs)-1\n",
    "        \n",
    "    def __repr__(self):\n",
    "        res = \"\"\n",
    "        for i,c in enumerate(self.coeffs):\n",
    "            res += f\"{c:+d}x^{i} \"\n",
    "            \n",
    "        return res\n",
    "\n",
    "p = Polynomial([1, -2, 3])\n",
    "p"
   ]
  },
  {
   "cell_type": "markdown",
   "metadata": {
    "slideshow": {
     "slide_type": "slide"
    }
   },
   "source": [
    "# Convert method to attribute\n",
    "\n",
    "Use the `property` decorator "
   ]
  },
  {
   "cell_type": "code",
   "execution_count": 9,
   "metadata": {
    "slideshow": {
     "slide_type": "fragment"
    }
   },
   "outputs": [],
   "source": [
    "class Polynomial:\n",
    "\n",
    "    \"A simple example class Animal with its name, weight and age\"\n",
    "\n",
    "    def __init__(self, coeffs):  # constructor\n",
    "        self.coeffs = coeffs\n",
    "\n",
    "    @property\n",
    "    def degree(self):  # method\n",
    "        return len(self.coeffs)-1"
   ]
  },
  {
   "cell_type": "code",
   "execution_count": 16,
   "metadata": {
    "slideshow": {
     "slide_type": "fragment"
    }
   },
   "outputs": [
    {
     "data": {
      "text/plain": [
       "2"
      ]
     },
     "execution_count": 16,
     "metadata": {},
     "output_type": "execute_result"
    }
   ],
   "source": [
    "p = Polynomial([1, -2, 3])\n",
    "\n",
    "p.degree"
   ]
  },
  {
   "cell_type": "code",
   "execution_count": 11,
   "metadata": {
    "slideshow": {
     "slide_type": "fragment"
    }
   },
   "outputs": [
    {
     "data": {
      "text/plain": [
       "<__main__.Animal at 0x1057547b8>"
      ]
     },
     "execution_count": 11,
     "metadata": {},
     "output_type": "execute_result"
    }
   ],
   "source": [
    "dog"
   ]
  },
  {
   "cell_type": "markdown",
   "metadata": {
    "slideshow": {
     "slide_type": "slide"
    }
   },
   "source": [
    "# The new Python 3.7 DataClass"
   ]
  },
  {
   "cell_type": "code",
   "execution_count": 12,
   "metadata": {
    "slideshow": {
     "slide_type": "fragment"
    }
   },
   "outputs": [],
   "source": [
    "from dataclasses import dataclass\n",
    "\n",
    "@dataclass\n",
    "class Animal:\n",
    "\n",
    "    name: str\n",
    "    weight: float\n",
    "    age: int\n",
    "\n",
    "    @property\n",
    "    def birthyear(self) -> int:\n",
    "        import datetime\n",
    "        now = datetime.datetime.now()\n",
    "        return now.year - self.age"
   ]
  },
  {
   "cell_type": "code",
   "execution_count": 13,
   "metadata": {
    "slideshow": {
     "slide_type": "fragment"
    }
   },
   "outputs": [
    {
     "data": {
      "text/plain": [
       "Animal(name='Dog', weight=18.0, age=4)"
      ]
     },
     "execution_count": 13,
     "metadata": {},
     "output_type": "execute_result"
    }
   ],
   "source": [
    "dog = Animal('Dog', 18.0, 4)\n",
    "dog"
   ]
  },
  {
   "cell_type": "markdown",
   "metadata": {
    "slideshow": {
     "slide_type": "slide"
    }
   },
   "source": [
    "# Method Overriding\n",
    "- Every Python classes has a `__repr__()` method used when you call `print()` function."
   ]
  },
  {
   "cell_type": "code",
   "execution_count": 14,
   "metadata": {
    "slideshow": {
     "slide_type": "fragment"
    }
   },
   "outputs": [],
   "source": [
    "class Animal:\n",
    "    \"\"\"Simple example class with method overriding \"\"\"\n",
    "\n",
    "    def __init__(self, name, weight, age):\n",
    "        self.name = name\n",
    "        self.weight = weight\n",
    "        self.age = age\n",
    "\n",
    "    def __repr__(self):\n",
    "        return f\"{self.__class__.__name__}({self.name}, {self.weight}, {self.age})\"\n",
    "\n",
    "    @property\n",
    "    def birthyear(self):\n",
    "        import datetime\n",
    "        now = datetime.datetime.now()\n",
    "        return now.year - self.age"
   ]
  },
  {
   "cell_type": "code",
   "execution_count": 15,
   "metadata": {
    "slideshow": {
     "slide_type": "fragment"
    }
   },
   "outputs": [
    {
     "name": "stdout",
     "output_type": "stream",
     "text": [
      "Animal(Dog, 18.0, 4)\n"
     ]
    },
    {
     "data": {
      "text/plain": [
       "2014"
      ]
     },
     "execution_count": 15,
     "metadata": {},
     "output_type": "execute_result"
    }
   ],
   "source": [
    "dog = Animal('Dog', 18.0, 4)\n",
    "print(dog)\n",
    "dog.birthyear"
   ]
  },
  {
   "cell_type": "markdown",
   "metadata": {
    "slideshow": {
     "slide_type": "slide"
    }
   },
   "source": [
    "# Inheritance"
   ]
  },
  {
   "cell_type": "code",
   "execution_count": 16,
   "metadata": {
    "slideshow": {
     "slide_type": "fragment"
    }
   },
   "outputs": [
    {
     "name": "stdout",
     "output_type": "stream",
     "text": [
      "Dog(Jack, 9.0, 1, Beagle)\n"
     ]
    },
    {
     "data": {
      "text/plain": [
       "2017"
      ]
     },
     "execution_count": 16,
     "metadata": {},
     "output_type": "execute_result"
    }
   ],
   "source": [
    "class Dog(Animal):  # Parent class is defined here\n",
    "\n",
    "    \" Derived from MyClass with k attribute \"\n",
    "\n",
    "    def __init__(self, name, weight, age, breed):\n",
    "        super().__init__(name, weight, age)  # Call method in the parent class\n",
    "        self.breed = breed\n",
    "\n",
    "    def __repr__(self):\n",
    "        return f\"{self.__class__.__name__}({self.name}, {self.weight}, {self.age}, {self.breed})\"\n",
    "\n",
    "\n",
    "beagle = Dog('Jack', 9.0, 1, 'Beagle')\n",
    "print(beagle)\n",
    "beagle.birthyear"
   ]
  },
  {
   "cell_type": "markdown",
   "metadata": {
    "slideshow": {
     "slide_type": "slide"
    }
   },
   "source": [
    "### Exercise: Rectangle and Square\n",
    "- Create two classes to represent a Square and a Rectangle.\n",
    "- Add a method to compute Area\n",
    "- Override the print function to draw them using ascii art.\n",
    "```py\n",
    ">>> print(Rectangle(4,10))\n",
    "##########\n",
    "##########\n",
    "##########\n",
    "##########\n",
    ">>> print(Square(4))\n",
    "####\n",
    "####\n",
    "####\n",
    "####\n",
    "```\n"
   ]
  },
  {
   "cell_type": "markdown",
   "metadata": {
    "slideshow": {
     "slide_type": "slide"
    }
   },
   "source": [
    "# Private Variables and Methods"
   ]
  },
  {
   "cell_type": "code",
   "execution_count": 25,
   "metadata": {
    "slideshow": {
     "slide_type": "fragment"
    }
   },
   "outputs": [],
   "source": [
    "class DemoClass:\n",
    "    \" Demo class for name mangling \"\n",
    "\n",
    "    def public_method(self):\n",
    "        return 'public!'\n",
    "\n",
    "    def __private_method(self):  # Note the use of leading underscores\n",
    "        return 'private!'\n",
    "\n",
    "\n",
    "object3 = DemoClass()"
   ]
  },
  {
   "cell_type": "code",
   "execution_count": 26,
   "metadata": {
    "slideshow": {
     "slide_type": "slide"
    }
   },
   "outputs": [
    {
     "data": {
      "text/plain": [
       "'public!'"
      ]
     },
     "execution_count": 26,
     "metadata": {},
     "output_type": "execute_result"
    }
   ],
   "source": [
    "object3.public_method()"
   ]
  },
  {
   "cell_type": "code",
   "execution_count": 27,
   "metadata": {
    "slideshow": {
     "slide_type": "fragment"
    }
   },
   "outputs": [
    {
     "name": "stderr",
     "output_type": "stream",
     "text": [
      "Traceback (most recent call last):\n",
      "  File \"<ipython-input-27-80afeed4b92b>\", line 2, in <module>\n",
      "    object3.__private_method()\n",
      "AttributeError: 'DemoClass' object has no attribute '__private_method'\n"
     ]
    }
   ],
   "source": [
    "try:\n",
    "    object3.__private_method()\n",
    "except:\n",
    "    traceback.print_exc()"
   ]
  },
  {
   "cell_type": "code",
   "execution_count": 28,
   "metadata": {
    "slideshow": {
     "slide_type": "fragment"
    }
   },
   "outputs": [
    {
     "data": {
      "text/plain": [
       "['_DemoClass__private_method', 'public_method']"
      ]
     },
     "execution_count": 28,
     "metadata": {},
     "output_type": "execute_result"
    }
   ],
   "source": [
    "[ s for s in dir(object3) if \"method\" in s]"
   ]
  },
  {
   "cell_type": "code",
   "execution_count": 29,
   "metadata": {
    "slideshow": {
     "slide_type": "fragment"
    }
   },
   "outputs": [
    {
     "data": {
      "text/plain": [
       "'private!'"
      ]
     },
     "execution_count": 29,
     "metadata": {},
     "output_type": "execute_result"
    }
   ],
   "source": [
    "object3._DemoClass__private_method()"
   ]
  },
  {
   "cell_type": "code",
   "execution_count": 30,
   "metadata": {},
   "outputs": [
    {
     "data": {
      "text/plain": [
       "<bound method DemoClass.public_method of <__main__.DemoClass object at 0x10579a828>>"
      ]
     },
     "execution_count": 30,
     "metadata": {},
     "output_type": "execute_result"
    }
   ],
   "source": [
    "object3.public_method"
   ]
  },
  {
   "cell_type": "markdown",
   "metadata": {
    "slideshow": {
     "slide_type": "slide"
    }
   },
   "source": [
    "# Use `class` as a Function."
   ]
  },
  {
   "cell_type": "code",
   "execution_count": 9,
   "metadata": {
    "slideshow": {
     "slide_type": "fragment"
    }
   },
   "outputs": [
    {
     "data": {
      "text/plain": [
       "6"
      ]
     },
     "execution_count": 9,
     "metadata": {},
     "output_type": "execute_result"
    }
   ],
   "source": [
    "class Polynomial:\n",
    "    \n",
    "   \" Class representing a polynom P(x) -> c_0+c_1*x+c_2*x^2+...\"\n",
    "    \n",
    "   def __init__(self, coeffs):\n",
    "      self.coeffs = coeffs\n",
    "        \n",
    "   def __call__(self, x):\n",
    "      return sum([coef*x**exp for exp,coef in enumerate(self.coeffs)])\n",
    "\n",
    "p = Polynomial([2,4,-1])\n",
    "p(2) "
   ]
  },
  {
   "cell_type": "markdown",
   "metadata": {
    "slideshow": {
     "slide_type": "slide"
    }
   },
   "source": [
    "### Exercise: Polynomial\n",
    "\n",
    "- Improve the class above called Polynomial by creating a method `diff(n)` to compute the nth derivative.\n",
    "- Override the `__repr__()` method to output a pretty printing.\n",
    "\n",
    "Hint: `f\"{coeff:+d}\"` forces to print sign before the value of an integer."
   ]
  },
  {
   "cell_type": "markdown",
   "metadata": {
    "slideshow": {
     "slide_type": "slide"
    }
   },
   "source": [
    "# Operators Overriding "
   ]
  },
  {
   "cell_type": "markdown",
   "metadata": {
    "slideshow": {
     "slide_type": "slide"
    }
   },
   "source": [
    "## Rational example"
   ]
  },
  {
   "cell_type": "code",
   "execution_count": 67,
   "metadata": {
    "slideshow": {
     "slide_type": "fragment"
    }
   },
   "outputs": [],
   "source": [
    "class Rational:\n",
    "    \" Class representing a rational number\"\n",
    "\n",
    "    def __init__(self, n, d):\n",
    "        assert isinstance(n, int) and isinstance(d, int)\n",
    "\n",
    "        def gcd(x, y):\n",
    "            if x == 0:\n",
    "                return y\n",
    "            elif x < 0:\n",
    "                return gcd(-x, y)\n",
    "            elif y < 0:\n",
    "                return -gcd(x, -y)\n",
    "            else:\n",
    "                return gcd(y % x, x)\n",
    "\n",
    "        g = gcd(n, d)\n",
    "        self.numer, self.denom = n//g, d//g\n",
    "\n",
    "    def __add__(self, other):\n",
    "        return Rational(self.numer * other.denom + other.numer * self.denom,\n",
    "                        self.denom * other.denom)\n",
    "\n",
    "    def __sub__(self, other):\n",
    "        return Rational(self.numer * other.denom - other.numer * self.denom,\n",
    "                        self.denom * other.denom)\n",
    "\n",
    "    def __mul__(self, other):\n",
    "        return Rational(self.numer * other.numer, self.denom * other.denom)\n",
    "\n",
    "    def __truediv__(self, other):\n",
    "        return Rational(self.numer * other.denom, self.denom * other.numer)\n",
    "\n",
    "    def __repr__(self):\n",
    "        return f\"{self.numer:d}/{self.denom:d}\""
   ]
  },
  {
   "cell_type": "code",
   "execution_count": 68,
   "metadata": {
    "slideshow": {
     "slide_type": "slide"
    }
   },
   "outputs": [
    {
     "data": {
      "text/plain": [
       "(17/12, -1/12, 1/2, 8/9)"
      ]
     },
     "execution_count": 68,
     "metadata": {},
     "output_type": "execute_result"
    }
   ],
   "source": [
    "r1 = Rational(2,3)\n",
    "r2 = Rational(3,4)\n",
    "r1+r2, r1-r2, r1*r2, r1/r2"
   ]
  },
  {
   "cell_type": "markdown",
   "metadata": {
    "slideshow": {
     "slide_type": "slide"
    }
   },
   "source": [
    "### Exercise \n",
    "Improve the class Polynomial by implementing operations:\n",
    "- Overrides '==' operator (__eq__)\n",
    "- Overrides '+' operator (__add__)\n",
    "- Overrides '-' operator (__neg__)\n",
    "- Overrides '*' operator (__mul__)"
   ]
  },
  {
   "cell_type": "markdown",
   "metadata": {
    "collapsed": true,
    "slideshow": {
     "slide_type": "slide"
    }
   },
   "source": [
    "# Iterators\n",
    "Most container objects can be looped over using a for statement:"
   ]
  },
  {
   "cell_type": "code",
   "execution_count": 1,
   "metadata": {
    "slideshow": {
     "slide_type": "slide"
    }
   },
   "outputs": [
    {
     "name": "stdout",
     "output_type": "stream",
     "text": [
      "1 2 3 "
     ]
    }
   ],
   "source": [
    "for element in [1, 2, 3]:\n",
    "    print(element, end=' ')"
   ]
  },
  {
   "cell_type": "code",
   "execution_count": 2,
   "metadata": {
    "slideshow": {
     "slide_type": "slide"
    }
   },
   "outputs": [
    {
     "name": "stdout",
     "output_type": "stream",
     "text": [
      "1 2 3 "
     ]
    }
   ],
   "source": [
    "for element in (1, 2, 3):\n",
    "    print(element, end=' ')"
   ]
  },
  {
   "cell_type": "code",
   "execution_count": 3,
   "metadata": {
    "slideshow": {
     "slide_type": "slide"
    }
   },
   "outputs": [
    {
     "name": "stdout",
     "output_type": "stream",
     "text": [
      "one two "
     ]
    }
   ],
   "source": [
    "for key in {'one': 1, 'two': 2}:\n",
    "    print(key, end=' ')"
   ]
  },
  {
   "cell_type": "code",
   "execution_count": 4,
   "metadata": {
    "slideshow": {
     "slide_type": "slide"
    }
   },
   "outputs": [
    {
     "name": "stdout",
     "output_type": "stream",
     "text": [
      "1 2 3 "
     ]
    }
   ],
   "source": [
    "for char in \"123\":\n",
    "    print(char, end=' ')"
   ]
  },
  {
   "cell_type": "code",
   "execution_count": 5,
   "metadata": {
    "slideshow": {
     "slide_type": "slide"
    }
   },
   "outputs": [
    {
     "name": "stdout",
     "output_type": "stream",
     "text": [
      "name: math-python,channels:,- conda-forge,- r,- defaults,dependencies:,- autopep8,- beautifulsoup4,- cloudpickle,- cython,- dask,- dataclasses,- fortran-magic,- graphviz,- h5py,- ipywidgets,- joblib,- jupyter,- lorem,- lxml,- matplotlib,- memory_profiler,- numba,- numpy,- pandas,- pytables,- python-graphviz,- pytest,- pythran,- r,- r-nloptr,- r-tidyverse,- r-irkernel,- rpy2,- scipy,- seaborn,- sympy,- toolz,- tzlocal,- xlwt,"
     ]
    }
   ],
   "source": [
    "for line in open(\"../binder/environment.yml\"):\n",
    "    print(line.strip(), end=',')"
   ]
  },
  {
   "cell_type": "markdown",
   "metadata": {
    "slideshow": {
     "slide_type": "slide"
    }
   },
   "source": [
    "- The `for` statement calls `iter()` on the container object. \n",
    "- The function returns an iterator object that defines the method `__next__()`\n",
    "- To add iterator behavior to your classes: \n",
    "    - Define an `__iter__()` method which returns an object with a `__next__()`.\n",
    "    - If the class defines `__next__()`, then `__iter__()` can just return self.\n",
    "    - The **StopIteration** exception indicates the end of the loop."
   ]
  },
  {
   "cell_type": "code",
   "execution_count": 6,
   "metadata": {
    "slideshow": {
     "slide_type": "fragment"
    }
   },
   "outputs": [
    {
     "data": {
      "text/plain": [
       "<str_iterator at 0x110d4b400>"
      ]
     },
     "execution_count": 6,
     "metadata": {},
     "output_type": "execute_result"
    }
   ],
   "source": [
    "s = 'abc'\n",
    "it = iter(s)\n",
    "it"
   ]
  },
  {
   "cell_type": "code",
   "execution_count": 7,
   "metadata": {
    "slideshow": {
     "slide_type": "fragment"
    }
   },
   "outputs": [
    {
     "data": {
      "text/plain": [
       "('a', 'b', 'c')"
      ]
     },
     "execution_count": 7,
     "metadata": {},
     "output_type": "execute_result"
    }
   ],
   "source": [
    "next(it), next(it), next(it)"
   ]
  },
  {
   "cell_type": "code",
   "execution_count": 8,
   "metadata": {
    "slideshow": {
     "slide_type": "slide"
    }
   },
   "outputs": [],
   "source": [
    "class Reverse:\n",
    "    \"\"\"Iterator for looping over a sequence backwards.\"\"\"\n",
    "\n",
    "    def __init__(self, data):\n",
    "        self.data = data\n",
    "        self.index = len(data)\n",
    "\n",
    "    def __iter__(self):\n",
    "        return self\n",
    "\n",
    "    def __next__(self):\n",
    "        if self.index == 0:\n",
    "            raise StopIteration\n",
    "        self.index = self.index - 1\n",
    "        return self.data[self.index]"
   ]
  },
  {
   "cell_type": "code",
   "execution_count": 9,
   "metadata": {
    "slideshow": {
     "slide_type": "fragment"
    }
   },
   "outputs": [
    {
     "name": "stdout",
     "output_type": "stream",
     "text": [
      "maps"
     ]
    }
   ],
   "source": [
    "rev = Reverse('spam')\n",
    "for char in rev:\n",
    "    print(char, end='')"
   ]
  },
  {
   "cell_type": "code",
   "execution_count": 10,
   "metadata": {
    "slideshow": {
     "slide_type": "slide"
    }
   },
   "outputs": [
    {
     "name": "stdout",
     "output_type": "stream",
     "text": [
      "zorglub"
     ]
    }
   ],
   "source": [
    "def reverse(data): # Python 3.6\n",
    "    yield from data[::-1]\n",
    "    \n",
    "for char in reverse('bulgroz'):\n",
    "     print(char, end='')"
   ]
  },
  {
   "cell_type": "markdown",
   "metadata": {
    "slideshow": {
     "slide_type": "slide"
    }
   },
   "source": [
    "# Generators\n",
    "- Generators are a simple and powerful tool for creating iterators.\n",
    "- Write regular functions but use the yield statement when you want to return data.\n",
    "- the `__iter__()` and `__next__()` methods are created automatically.\n"
   ]
  },
  {
   "cell_type": "code",
   "execution_count": 11,
   "metadata": {
    "slideshow": {
     "slide_type": "fragment"
    }
   },
   "outputs": [],
   "source": [
    "def reverse(data):\n",
    "    for index in range(len(data)-1, -1, -1):\n",
    "        yield data[index]"
   ]
  },
  {
   "cell_type": "code",
   "execution_count": 12,
   "metadata": {
    "slideshow": {
     "slide_type": "fragment"
    }
   },
   "outputs": [
    {
     "name": "stdout",
     "output_type": "stream",
     "text": [
      "zorglub"
     ]
    }
   ],
   "source": [
    "for char in reverse('bulgroz'):\n",
    "     print(char, end='')"
   ]
  },
  {
   "cell_type": "markdown",
   "metadata": {
    "slideshow": {
     "slide_type": "slide"
    }
   },
   "source": [
    "# Generator Expressions\n",
    "\n",
    "- Use a syntax similar to list comprehensions but with parentheses instead of brackets.\n",
    "- Tend to be more memory friendly than equivalent list comprehensions."
   ]
  },
  {
   "cell_type": "markdown",
   "metadata": {
    "slideshow": {
     "slide_type": "slide"
    }
   },
   "source": [
    "### Exercise\n",
    "\n",
    "The [Chebyshev polynomials](https://en.wikipedia.org/wiki/Chebyshev_polynomials) of the first kind are defined by the recurrence relation\n",
    "\n",
    "$$\n",
    "\\begin{eqnarray}\n",
    "T_o(x) &=& 1 \\\\\n",
    "T_1(x) &=& x \\\\\n",
    "T_{n+1} &=& 2xT_n(x)-T_{n-1}(x)\n",
    "\\end{eqnarray}\n",
    "$$\n",
    "\n",
    "- Create a class `Chebyshev` that generates the sequence of Chebyshev polynomials"
   ]
  }
 ],
 "metadata": {
  "kernelspec": {
   "display_name": "math",
   "language": "python",
   "name": "math-python"
  },
  "language_info": {
   "codemirror_mode": {
    "name": "ipython",
    "version": 3
   },
   "file_extension": ".py",
   "mimetype": "text/x-python",
   "name": "python",
   "nbconvert_exporter": "python",
   "pygments_lexer": "ipython3",
   "version": "3.6.6"
  }
 },
 "nbformat": 4,
 "nbformat_minor": 1
}
