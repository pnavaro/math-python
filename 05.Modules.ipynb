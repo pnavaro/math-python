{
 "cells": [
  {
   "cell_type": "markdown",
   "metadata": {
    "slideshow": {
     "slide_type": "slide"
    }
   },
   "source": [
    "Pierre Navaro - [Institut de Recherche Mathématique de Rennes](https://irmar.univ-rennes1.fr) - [CNRS](http://www.cnrs.fr/)"
   ]
  },
  {
   "cell_type": "markdown",
   "metadata": {
    "slideshow": {
     "slide_type": "slide"
    }
   },
   "source": [
    "# Modules\n",
    "\n",
    "If your Python program gets longer, you may want to split it into several files for easier maintenance. To support this, Python has a way to put definitions in a file and use them in a script or in an interactive instance of the interpreter. Such a file is called a module."
   ]
  },
  {
   "cell_type": "markdown",
   "metadata": {
    "slideshow": {
     "slide_type": "slide"
    }
   },
   "source": [
    "Run the cell below to create a file named fibo.py with several functions inside:"
   ]
  },
  {
   "cell_type": "code",
   "execution_count": 10,
   "metadata": {
    "slideshow": {
     "slide_type": "slide"
    }
   },
   "outputs": [
    {
     "name": "stdout",
     "output_type": "stream",
     "text": [
      "Overwriting fibo.py\n"
     ]
    }
   ],
   "source": [
    "%%file fibo.py\n",
    "\"\"\" Simple module with\n",
    "    two functions to compute Fibonacci series \"\"\"\n",
    "\n",
    "def fib1(n):\n",
    "   \"\"\" write Fibonacci series up to n \"\"\"\n",
    "   a, b = 0, 1\n",
    "   while b < n:\n",
    "      print(b, end=', ')\n",
    "      a, b = b, a+b\n",
    "\n",
    "def fib2(n):   \n",
    "    \"\"\" return Fibonacci series up to n \"\"\"\n",
    "    result = []\n",
    "    a, b = 0, 1\n",
    "    while b < n:\n",
    "        result.append(b)\n",
    "        a, b = b, a+b\n",
    "    return result\n",
    "\n",
    "if __name__ == \"__main__\":\n",
    "    import sys\n",
    "    fib1(int(sys.argv[1]))"
   ]
  },
  {
   "cell_type": "code",
   "execution_count": 11,
   "metadata": {
    "slideshow": {
     "slide_type": "slide"
    }
   },
   "outputs": [
    {
     "name": "stdout",
     "output_type": "stream",
     "text": [
      "\"\"\" Simple module with\r\n",
      "    two functions to compute Fibonacci series \"\"\"\r\n",
      "\r\n",
      "def fib1(n):\r\n",
      "   \"\"\" write Fibonacci series up to n \"\"\"\r\n",
      "   a, b = 0, 1\r\n",
      "   while b < n:\r\n",
      "      print(b, end=', ')\r\n",
      "      a, b = b, a+b\r\n",
      "\r\n",
      "def fib2(n):   \r\n",
      "    \"\"\" return Fibonacci series up to n \"\"\"\r\n",
      "    result = []\r\n",
      "    a, b = 0, 1\r\n",
      "    while b < n:\r\n",
      "        result.append(b)\r\n",
      "        a, b = b, a+b\r\n",
      "    return result\r\n",
      "\r\n",
      "if __name__ == \"__main__\":\r\n",
      "    import sys\r\n",
      "    fib1(int(sys.argv[1]))"
     ]
    }
   ],
   "source": [
    "%cat fibo.py"
   ]
  },
  {
   "cell_type": "markdown",
   "metadata": {
    "slideshow": {
     "slide_type": "slide"
    }
   },
   "source": [
    "You can use the function fib by importing fibo which is the name of the file without .py extension."
   ]
  },
  {
   "cell_type": "code",
   "execution_count": 12,
   "metadata": {
    "slideshow": {
     "slide_type": "fragment"
    }
   },
   "outputs": [
    {
     "name": "stdout",
     "output_type": "stream",
     "text": [
      "fibo\n",
      "1, 1, 2, 3, 5, 8, 13, 21, 34, 55, 89, 144, 233, 377, 610, 987, "
     ]
    }
   ],
   "source": [
    "import fibo\n",
    "print(fibo.__name__)\n",
    "fibo.fib1(1000)"
   ]
  },
  {
   "cell_type": "code",
   "execution_count": 13,
   "metadata": {
    "slideshow": {
     "slide_type": "fragment"
    }
   },
   "outputs": [
    {
     "name": "stdout",
     "output_type": "stream",
     "text": [
      " Simple module with\n",
      "    two functions to compute Fibonacci series \n"
     ]
    }
   ],
   "source": [
    "print(fibo.__doc__)"
   ]
  },
  {
   "cell_type": "markdown",
   "metadata": {
    "slideshow": {
     "slide_type": "slide"
    }
   },
   "source": [
    "# Executing modules as scripts\n",
    "\n",
    "When you run a Python module with\n",
    "```bash\n",
    "$ python fibo.py <arguments>\n",
    "```\n",
    "the code in the module will be executed, just as if you imported it, but with the __name__ set to \"__main__\". The following code will be executed only in this case and not when it is imported.\n",
    "```python\n",
    "if __name__ == \"__main__\":\n",
    "    import sys\n",
    "    fib(int(sys.argv[1]))\n",
    "```\n",
    "In Jupyter notebook, you can run the fibo.py python script using magic command."
   ]
  },
  {
   "cell_type": "code",
   "execution_count": 14,
   "metadata": {
    "slideshow": {
     "slide_type": "slide"
    }
   },
   "outputs": [
    {
     "name": "stdout",
     "output_type": "stream",
     "text": [
      "1, 1, 2, 3, 5, 8, 13, 21, 34, 55, 89, 144, 233, 377, 610, 987, "
     ]
    }
   ],
   "source": [
    "%run fibo.py 1000"
   ]
  },
  {
   "cell_type": "markdown",
   "metadata": {
    "slideshow": {
     "slide_type": "fragment"
    }
   },
   "source": [
    "The module is also imported."
   ]
  },
  {
   "cell_type": "code",
   "execution_count": 15,
   "metadata": {
    "slideshow": {
     "slide_type": "fragment"
    }
   },
   "outputs": [
    {
     "name": "stdout",
     "output_type": "stream",
     "text": [
      "1, 1, 2, 3, 5, 8, 13, 21, 34, 55, 89, 144, 233, 377, 610, 987, "
     ]
    }
   ],
   "source": [
    "fib1(1000)"
   ]
  },
  {
   "cell_type": "markdown",
   "metadata": {
    "slideshow": {
     "slide_type": "slide"
    }
   },
   "source": [
    "## Different ways to import a module\n",
    "```python\n",
    "import fibo\n",
    "import fibo as f\n",
    "from fibo import fib1, fib2\n",
    "from fibo import *\n",
    "```"
   ]
  },
  {
   "cell_type": "markdown",
   "metadata": {
    "slideshow": {
     "slide_type": "fragment"
    }
   },
   "source": [
    "- Last command with '*' imports all names except those beginning with an underscore (_). In most cases, do not use this facility since it introduces an unknown set of names into the interpreter, possibly hiding some things you have already defined."
   ]
  },
  {
   "cell_type": "markdown",
   "metadata": {
    "slideshow": {
     "slide_type": "slide"
    }
   },
   "source": [
    "- If a function with same name is present in different modules imported. Last module function imported replace the previous one."
   ]
  },
  {
   "cell_type": "code",
   "execution_count": 16,
   "metadata": {
    "slideshow": {
     "slide_type": "fragment"
    }
   },
   "outputs": [
    {
     "data": {
      "text/plain": [
       "1j"
      ]
     },
     "execution_count": 16,
     "metadata": {},
     "output_type": "execute_result"
    }
   ],
   "source": [
    "from numpy import sqrt\n",
    "from scipy import sqrt\n",
    "sqrt(-1)"
   ]
  },
  {
   "cell_type": "code",
   "execution_count": 17,
   "metadata": {
    "slideshow": {
     "slide_type": "fragment"
    }
   },
   "outputs": [
    {
     "name": "stderr",
     "output_type": "stream",
     "text": [
      "/opt/miniconda3/envs/osur2017/lib/python3.6/site-packages/ipykernel_launcher.py:3: RuntimeWarning: invalid value encountered in sqrt\n",
      "  This is separate from the ipykernel package so we can avoid doing imports until\n"
     ]
    },
    {
     "data": {
      "text/plain": [
       "nan"
      ]
     },
     "execution_count": 17,
     "metadata": {},
     "output_type": "execute_result"
    }
   ],
   "source": [
    "from scipy import sqrt\n",
    "from numpy import sqrt\n",
    "sqrt(-1)"
   ]
  },
  {
   "cell_type": "markdown",
   "metadata": {
    "slideshow": {
     "slide_type": "slide"
    }
   },
   "source": [
    "- For efficiency reasons, each module is only imported once per interpreter session. Therefore, if you change your modules, you must restart the interpreter \n",
    "– If you really want to test interactively after a long run, use :\n",
    "```python\n",
    "import importlib\n",
    "importlib.reload(modulename)\n",
    "```"
   ]
  },
  {
   "cell_type": "markdown",
   "metadata": {
    "slideshow": {
     "slide_type": "slide"
    }
   },
   "source": [
    "# The Module Search Path\n",
    "\n",
    "When a module is imported, the interpreter searches for a file named module.py in a list of directories given by the variable sys.path.\n",
    "- Python programs can modify sys.path\n",
    "- export the PYTHONPATH environment variable to change it on your system."
   ]
  },
  {
   "cell_type": "code",
   "execution_count": 18,
   "metadata": {
    "slideshow": {
     "slide_type": "fragment"
    }
   },
   "outputs": [
    {
     "data": {
      "text/plain": [
       "['',\n",
       " '/opt/miniconda3/envs/osur2017/lib/python36.zip',\n",
       " '/opt/miniconda3/envs/osur2017/lib/python3.6',\n",
       " '/opt/miniconda3/envs/osur2017/lib/python3.6/lib-dynload',\n",
       " '/opt/miniconda3/envs/osur2017/lib/python3.6/site-packages',\n",
       " '/opt/miniconda3/envs/osur2017/lib/python3.6/site-packages/cycler-0.10.0-py3.6.egg',\n",
       " '/opt/miniconda3/envs/osur2017/lib/python3.6/site-packages/IPython/extensions',\n",
       " '/Users/navaro/.ipython']"
      ]
     },
     "execution_count": 18,
     "metadata": {},
     "output_type": "execute_result"
    }
   ],
   "source": [
    "import sys\n",
    "sys.path"
   ]
  },
  {
   "cell_type": "markdown",
   "metadata": {
    "slideshow": {
     "slide_type": "slide"
    }
   },
   "source": [
    "# Packages\n",
    "\n",
    "- A package is a directory containing Python module files.\n",
    "- This directory always contains a file name \\_\\_init\\_\\_.py\n",
    "\n",
    "<pre>\n",
    "marseille/ Main package\n",
    "    __init__.py Initialize my_module\n",
    "    cirm/ Sub package\n",
    "        __init__.py\n",
    "        bastide.py\n",
    "        annexe.py \n",
    "        auditorium.py\n",
    "    calanques/ Sub package\n",
    "        __init__.py\n",
    "        sugiton.py\n",
    "        morgiou.py\n",
    "        sorgiou.py\n",
    "</pre>"
   ]
  },
  {
   "cell_type": "markdown",
   "metadata": {
    "collapsed": true,
    "slideshow": {
     "slide_type": "slide"
    }
   },
   "source": [
    "## Relative imports\n",
    "\n",
    "These imports use leading dots to indicate the current and parent packages involved in the relative import. In the sugiton module, you can use:\n",
    "```python\n",
    "from . import morgiou # import module in the same directory\n",
    "from .. import cirm   # import module in parent directory\n",
    "from ..cirm import bastide # import module in another subdirectory of the parent directory\n",
    "```"
   ]
  },
  {
   "cell_type": "code",
   "execution_count": null,
   "metadata": {
    "collapsed": true
   },
   "outputs": [],
   "source": []
  }
 ],
 "metadata": {
  "kernelspec": {
   "display_name": "Python 3",
   "language": "python",
   "name": "python3"
  },
  "language_info": {
   "codemirror_mode": {
    "name": "ipython",
    "version": 3
   },
   "file_extension": ".py",
   "mimetype": "text/x-python",
   "name": "python",
   "nbconvert_exporter": "python",
   "pygments_lexer": "ipython3",
   "version": "3.6.3"
  }
 },
 "nbformat": 4,
 "nbformat_minor": 2
}
