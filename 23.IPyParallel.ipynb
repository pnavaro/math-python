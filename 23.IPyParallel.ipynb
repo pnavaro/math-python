{
 "cells": [
  {
   "cell_type": "markdown",
   "metadata": {
    "collapsed": true
   },
   "source": [
    "Pierre Navaro - [Institut de Recherche Mathématique de Rennes](https://irmar.univ-rennes1.fr) - [CNRS](http://www.cnrs.fr/)"
   ]
  },
  {
   "cell_type": "markdown",
   "metadata": {},
   "source": [
    "* [Interactive Parallel Computing in Python](https://github.com/ipython/ipyparallel)\n",
    "* [Documentation](https://ipyparallel.readthedocs.io/en/latest/)\n"
   ]
  },
  {
   "cell_type": "markdown",
   "metadata": {},
   "source": [
    "Install ipyparallel:\n",
    "\n",
    "    pip3 install ipyparallel\n",
    "\n",
    "To enable the `IPython Clusters` tab in Jupyter Notebook:\n",
    "\n",
    "    ipcluster nbextension enable\n",
    "\n",
    "\n",
    "To disable it again:\n",
    "\n",
    "    ipcluster nbextension disable\n",
    "\n",
    "See the [documentation on configuring the notebook server](https://jupyter-notebook.readthedocs.io/en/latest/public_server.html)\n",
    "to find your config or setup your initial `jupyter_notebook_config.py`.\n",
    "\n",
    "\n",
    "## Run\n",
    "\n",
    "Start a cluster:\n",
    "\n",
    "    ipcluster start\n",
    "\n",
    "Use it from Python:\n",
    "\n",
    "```python\n",
    "import os\n",
    "import ipyparallel as ipp\n",
    "\n",
    "rc = ipp.Client()\n",
    "ar = rc[:].apply_async(os.getpid)\n",
    "pid_map = ar.get_dict()\n",
    "```"
   ]
  },
  {
   "cell_type": "code",
   "execution_count": 1,
   "metadata": {},
   "outputs": [
    {
     "name": "stderr",
     "output_type": "stream",
     "text": [
      "/usr/local/lib/python3.6/site-packages/IPython/parallel.py:13: ShimWarning: The `IPython.parallel` package has been deprecated since IPython 4.0. You should import from ipyparallel instead.\n",
      "  \"You should import from ipyparallel instead.\", ShimWarning)\n"
     ]
    }
   ],
   "source": [
    "from IPython.parallel import Client\n",
    "c = Client()\n",
    "view = c.load_balanced_view()"
   ]
  },
  {
   "cell_type": "code",
   "execution_count": null,
   "metadata": {},
   "outputs": [],
   "source": []
  }
 ],
 "metadata": {
  "kernelspec": {
   "display_name": "Python 3",
   "language": "python",
   "name": "python3"
  },
  "language_info": {
   "codemirror_mode": {
    "name": "ipython",
    "version": 3
   },
   "file_extension": ".py",
   "mimetype": "text/x-python",
   "name": "python",
   "nbconvert_exporter": "python",
   "pygments_lexer": "ipython3",
   "version": "3.6.2"
  }
 },
 "nbformat": 4,
 "nbformat_minor": 2
}
