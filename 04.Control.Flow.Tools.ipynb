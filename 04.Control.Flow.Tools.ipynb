{
 "cells": [
  {
   "cell_type": "markdown",
   "metadata": {},
   "source": [
    "Pierre Navaro - [Institut de Recherche Mathématique de Rennes](https://irmar.univ-rennes1.fr) - [CNRS](http://www.cnrs.fr/)"
   ]
  },
  {
   "cell_type": "markdown",
   "metadata": {
    "slideshow": {
     "slide_type": "slide"
    }
   },
   "source": [
    "# Control Flow Tools\n",
    "\n",
    "https://github.com/pnavaro/notebooks-python/blob/master/04.Control.Flow.Tools.ipynb\n"
   ]
  },
  {
   "cell_type": "raw",
   "metadata": {},
   "source": [
    "<script>\n",
    "    function hide_prompt() {\n",
    "        $('div.prompt').hide(); // always hide prompt\n",
    "    }\n",
    "    $( document ).ready(hide_prompt);\n",
    "</script>"
   ]
  },
  {
   "cell_type": "markdown",
   "metadata": {
    "slideshow": {
     "slide_type": "slide"
    }
   },
   "source": [
    "## While loop\n",
    "\n",
    "- Don't forget the ':' character.\n",
    "- The body of the loop is indented"
   ]
  },
  {
   "cell_type": "code",
   "execution_count": 2,
   "metadata": {
    "slideshow": {
     "slide_type": "fragment"
    }
   },
   "outputs": [
    {
     "name": "stdout",
     "output_type": "stream",
     "text": [
      "1 1 2 3 5 8 "
     ]
    }
   ],
   "source": [
    "# Fibonacci series:\n",
    "# the sum of two elements defines the next\n",
    "a, b = 0, 1\n",
    "while b < 10:\n",
    "     print(b, end=\" \")\n",
    "     a, b = b, a+b"
   ]
  },
  {
   "cell_type": "code",
   "execution_count": 3,
   "metadata": {
    "slideshow": {
     "slide_type": "slide"
    }
   },
   "outputs": [
    {
     "data": {
      "text/plain": [
       "34"
      ]
     },
     "execution_count": 3,
     "metadata": {},
     "output_type": "execute_result"
    }
   ],
   "source": [
    "n = 100\n",
    "k = 0\n",
    "while True: \n",
    "    if n == 1 : break \n",
    "    if n & 1:\n",
    "        n = n // 2\n",
    "    else:\n",
    "        n = 3*n +1\n",
    "    k += 1\n",
    " \n",
    "k"
   ]
  },
  {
   "cell_type": "code",
   "execution_count": 5,
   "metadata": {
    "slideshow": {
     "slide_type": "slide"
    }
   },
   "outputs": [
    {
     "data": {
      "text/plain": [
       "34"
      ]
     },
     "execution_count": 5,
     "metadata": {},
     "output_type": "execute_result"
    }
   ],
   "source": [
    "import itertools\n",
    "n = 100\n",
    "for k in itertools.count():\n",
    "    if n == 1 : break \n",
    "    if n & 1:\n",
    "        n = n // 2\n",
    "    else:\n",
    "        n = 3*n +1\n",
    "k"
   ]
  },
  {
   "cell_type": "markdown",
   "metadata": {
    "slideshow": {
     "slide_type": "slide"
    }
   },
   "source": [
    "# `if` Statements\n",
    "\n",
    "```python\n",
    "True, False, and, or, not, ==, is, !=, is not, >, >=, <, <=\n",
    "```\n",
    "\n"
   ]
  },
  {
   "cell_type": "code",
   "execution_count": 1,
   "metadata": {
    "slideshow": {
     "slide_type": "fragment"
    }
   },
   "outputs": [
    {
     "name": "stdout",
     "output_type": "stream",
     "text": [
      "More\n"
     ]
    }
   ],
   "source": [
    "x = 42\n",
    "if x < 0:\n",
    "    x = 0\n",
    "    print('Negative changed to zero')\n",
    "elif x == 0:\n",
    "    print('Zero')\n",
    "elif x == 1:\n",
    "    print('Single')\n",
    "else:\n",
    "    print('More')"
   ]
  },
  {
   "cell_type": "markdown",
   "metadata": {
    "slideshow": {
     "slide_type": "fragment"
    }
   },
   "source": [
    "\n",
    "switch or case statements don't exist in Python\n"
   ]
  },
  {
   "cell_type": "markdown",
   "metadata": {
    "slideshow": {
     "slide_type": "slide"
    }
   },
   "source": [
    "# Loop over an iterable object\n",
    "\n",
    "We use for statement for looping over an iterable object. If we use it with a string, it loops over its characters.\n"
   ]
  },
  {
   "cell_type": "code",
   "execution_count": 3,
   "metadata": {
    "slideshow": {
     "slide_type": "fragment"
    }
   },
   "outputs": [
    {
     "name": "stdout",
     "output_type": "stream",
     "text": [
      "e\n",
      "n\n",
      "s\n",
      "a\n",
      "i\n"
     ]
    }
   ],
   "source": [
    "for c in \"ensai\":\n",
    "    print(c)"
   ]
  },
  {
   "cell_type": "markdown",
   "metadata": {
    "slideshow": {
     "slide_type": "slide"
    }
   },
   "source": [
    "# Loop with range function\n",
    "\n",
    "- It generates arithmetic progressions\n",
    "- It is possible to let the range start at another number, or to specify a different increment.\n",
    "- Since Python 3, the object returned by range() doesn’t return a list to save space.\n",
    "- Use function list() to creates it."
   ]
  },
  {
   "cell_type": "code",
   "execution_count": 4,
   "metadata": {
    "slideshow": {
     "slide_type": "fragment"
    }
   },
   "outputs": [
    {
     "name": "stdout",
     "output_type": "stream",
     "text": [
      "[0, 1, 2, 3, 4]\n"
     ]
    }
   ],
   "source": [
    "print(list(range(5)))"
   ]
  },
  {
   "cell_type": "code",
   "execution_count": 5,
   "metadata": {
    "slideshow": {
     "slide_type": "fragment"
    }
   },
   "outputs": [
    {
     "name": "stdout",
     "output_type": "stream",
     "text": [
      "[2, 3, 4]\n"
     ]
    }
   ],
   "source": [
    "print(list(range(2, 5)))"
   ]
  },
  {
   "cell_type": "code",
   "execution_count": 6,
   "metadata": {
    "slideshow": {
     "slide_type": "fragment"
    }
   },
   "outputs": [
    {
     "name": "stdout",
     "output_type": "stream",
     "text": [
      "[-1, -2, -3, -4]\n"
     ]
    }
   ],
   "source": [
    "print(list(range(-1, -5, -1)))"
   ]
  },
  {
   "cell_type": "code",
   "execution_count": 7,
   "metadata": {
    "slideshow": {
     "slide_type": "fragment"
    }
   },
   "outputs": [
    {
     "name": "stdout",
     "output_type": "stream",
     "text": [
      "0 1 2 3 4 "
     ]
    }
   ],
   "source": [
    "for i in range(5):\n",
    "    print(i, end=' ')"
   ]
  },
  {
   "cell_type": "markdown",
   "metadata": {
    "collapsed": true,
    "slideshow": {
     "slide_type": "slide"
    }
   },
   "source": [
    "# `break` Statement."
   ]
  },
  {
   "cell_type": "code",
   "execution_count": 8,
   "metadata": {
    "slideshow": {
     "slide_type": "fragment"
    }
   },
   "outputs": [
    {
     "name": "stdout",
     "output_type": "stream",
     "text": [
      " 3 is a prime number\n",
      "4  =  2 * 2\n",
      " 5 is a prime number\n",
      " 5 is a prime number\n",
      " 5 is a prime number\n",
      "6  =  2 * 3\n",
      " 7 is a prime number\n",
      " 7 is a prime number\n",
      " 7 is a prime number\n",
      " 7 is a prime number\n",
      " 7 is a prime number\n",
      "8  =  2 * 4\n",
      " 9 is a prime number\n",
      "9  =  3 * 3\n"
     ]
    }
   ],
   "source": [
    "for n in range(2, 10):\n",
    "   for x in range(2, n):\n",
    "      if n % x == 0:\n",
    "         print (n, \" = \", x, \"*\", n//x)\n",
    "         break\n",
    "      else:\n",
    "         print  (\" %s is a prime number\" % n)"
   ]
  },
  {
   "cell_type": "markdown",
   "metadata": {
    "collapsed": true,
    "slideshow": {
     "slide_type": "slide"
    }
   },
   "source": [
    "# `enumerate` Function"
   ]
  },
  {
   "cell_type": "code",
   "execution_count": 9,
   "metadata": {
    "slideshow": {
     "slide_type": "fragment"
    }
   },
   "outputs": [
    {
     "name": "stdout",
     "output_type": "stream",
     "text": [
      "0 1\n",
      "1 2\n",
      "2 3\n",
      "3 5\n",
      "4 7\n",
      "5 11\n",
      "6 13\n"
     ]
    }
   ],
   "source": [
    "primes =  [1,2,3,5,7,11,13]\n",
    "for idx, ele in enumerate (primes):\n",
    "    print(idx, ele) "
   ]
  },
  {
   "cell_type": "markdown",
   "metadata": {
    "slideshow": {
     "slide_type": "slide"
    }
   },
   "source": [
    "#  `iter` Function"
   ]
  },
  {
   "cell_type": "code",
   "execution_count": 10,
   "metadata": {
    "slideshow": {
     "slide_type": "fragment"
    }
   },
   "outputs": [
    {
     "name": "stdout",
     "output_type": "stream",
     "text": [
      "['Centre', \"D'Eté\", 'DE', 'Mathematiques', 'et', 'Recherche', 'en', 'Calcul', 'Scientifique']\n"
     ]
    }
   ],
   "source": [
    "cemracs = \"\"\" Centre D'Eté DE Mathematiques et Recherche en Calcul Scientifique \"\"\".split()\n",
    "print(cemracs)"
   ]
  },
  {
   "cell_type": "code",
   "execution_count": 11,
   "metadata": {
    "slideshow": {
     "slide_type": "fragment"
    }
   },
   "outputs": [
    {
     "name": "stdout",
     "output_type": "stream",
     "text": [
      "Centre\n"
     ]
    }
   ],
   "source": [
    "iterator = iter(cemracs)\n",
    "print(iterator.__next__())"
   ]
  },
  {
   "cell_type": "code",
   "execution_count": 12,
   "metadata": {
    "slideshow": {
     "slide_type": "fragment"
    }
   },
   "outputs": [
    {
     "name": "stdout",
     "output_type": "stream",
     "text": [
      "D'Eté\n"
     ]
    }
   ],
   "source": [
    "print(iterator.__next__())"
   ]
  },
  {
   "cell_type": "markdown",
   "metadata": {
    "slideshow": {
     "slide_type": "slide"
    }
   },
   "source": [
    "# Defining Function: `def` statement"
   ]
  },
  {
   "cell_type": "code",
   "execution_count": 13,
   "metadata": {
    "slideshow": {
     "slide_type": "fragment"
    }
   },
   "outputs": [
    {
     "name": "stdout",
     "output_type": "stream",
     "text": [
      "5.0\n"
     ]
    }
   ],
   "source": [
    "from math import sqrt\n",
    "\n",
    "def my_norm(x,y):\n",
    "    \"Return $\\sqrt(x^2+y^2)$\"\n",
    "    return sqrt(x*x+y*y)\n",
    "\n",
    "print(my_norm(3,4))"
   ]
  },
  {
   "cell_type": "markdown",
   "metadata": {
    "slideshow": {
     "slide_type": "slide"
    }
   },
   "source": [
    "- Body of the function start must be indented\n",
    "- Functions without a return statement do return a value called `None`.\n",
    "- It’s good practice to include docstrings in code that you write, so make a habit of it."
   ]
  },
  {
   "cell_type": "code",
   "execution_count": 14,
   "metadata": {
    "slideshow": {
     "slide_type": "fragment"
    }
   },
   "outputs": [
    {
     "name": "stdout",
     "output_type": "stream",
     "text": [
      "0 1 1 2 3 5 8 13 21 34 55 89 144 233 377 610 987 1597 "
     ]
    }
   ],
   "source": [
    "def fib(n):    # write Fibonacci series up to n\n",
    "     \"\"\"Print a Fibonacci series up to n.\"\"\"\n",
    "     a, b = 0, 1\n",
    "     while a < n:\n",
    "         print(a, end=' ')\n",
    "         a, b = b, a+b\n",
    "     \n",
    "fib(2000)"
   ]
  },
  {
   "cell_type": "markdown",
   "metadata": {
    "slideshow": {
     "slide_type": "slide"
    }
   },
   "source": [
    "# Documentation string"
   ]
  },
  {
   "cell_type": "code",
   "execution_count": 15,
   "metadata": {
    "slideshow": {
     "slide_type": "fragment"
    }
   },
   "outputs": [
    {
     "name": "stdout",
     "output_type": "stream",
     "text": [
      "Do nothing, but document it.\n",
      "\n",
      "     No, really, it doesn't do anything.\n",
      "     \n"
     ]
    }
   ],
   "source": [
    "def my_function():\n",
    "     \"\"\"Do nothing, but document it.\n",
    "\n",
    "     No, really, it doesn't do anything.\n",
    "     \"\"\"\n",
    "     pass\n",
    "\n",
    "print(my_function.__doc__)"
   ]
  },
  {
   "cell_type": "code",
   "execution_count": 16,
   "metadata": {
    "slideshow": {
     "slide_type": "fragment"
    }
   },
   "outputs": [
    {
     "name": "stdout",
     "output_type": "stream",
     "text": [
      "Help on function my_function in module __main__:\n",
      "\n",
      "my_function()\n",
      "    Do nothing, but document it.\n",
      "    \n",
      "    No, really, it doesn't do anything.\n",
      "\n"
     ]
    }
   ],
   "source": [
    "help(my_function)"
   ]
  },
  {
   "cell_type": "markdown",
   "metadata": {
    "slideshow": {
     "slide_type": "slide"
    }
   },
   "source": [
    "# Default Argument Values"
   ]
  },
  {
   "cell_type": "code",
   "execution_count": 17,
   "metadata": {
    "slideshow": {
     "slide_type": "fragment"
    }
   },
   "outputs": [
    {
     "data": {
      "text/plain": [
       "'bca'"
      ]
     },
     "execution_count": 17,
     "metadata": {},
     "output_type": "execute_result"
    }
   ],
   "source": [
    "def f(a,b=5):\n",
    "    return a+b\n",
    "\n",
    "f(1)\n",
    "f(b=\"a\",a=\"bc\")"
   ]
  },
  {
   "cell_type": "markdown",
   "metadata": {
    "slideshow": {
     "slide_type": "slide"
    }
   },
   "source": [
    "**Important warning**: The default value is evaluated only once. "
   ]
  },
  {
   "cell_type": "code",
   "execution_count": 18,
   "metadata": {
    "slideshow": {
     "slide_type": "fragment"
    }
   },
   "outputs": [
    {
     "name": "stdout",
     "output_type": "stream",
     "text": [
      "[1]\n"
     ]
    }
   ],
   "source": [
    "def f(a, L=[]):\n",
    "    L.append(a)\n",
    "    return L\n",
    "\n",
    "print(f(1))"
   ]
  },
  {
   "cell_type": "code",
   "execution_count": 19,
   "metadata": {
    "slideshow": {
     "slide_type": "fragment"
    }
   },
   "outputs": [
    {
     "name": "stdout",
     "output_type": "stream",
     "text": [
      "[1, 2]\n"
     ]
    }
   ],
   "source": [
    "print(f(2))"
   ]
  },
  {
   "cell_type": "code",
   "execution_count": 20,
   "metadata": {
    "slideshow": {
     "slide_type": "fragment"
    }
   },
   "outputs": [
    {
     "name": "stdout",
     "output_type": "stream",
     "text": [
      "[1, 2, 3]\n"
     ]
    }
   ],
   "source": [
    "print(f(3))"
   ]
  },
  {
   "cell_type": "markdown",
   "metadata": {
    "slideshow": {
     "slide_type": "slide"
    }
   },
   "source": [
    "# Recursive Call"
   ]
  },
  {
   "cell_type": "code",
   "execution_count": 21,
   "metadata": {
    "slideshow": {
     "slide_type": "fragment"
    }
   },
   "outputs": [
    {
     "data": {
      "text/plain": [
       "55"
      ]
     },
     "execution_count": 21,
     "metadata": {},
     "output_type": "execute_result"
    }
   ],
   "source": [
    "def fibo( n ):\n",
    "    \"\"\" Return nth\n",
    "          Fibonacci number \"\"\"\n",
    "    if n == 0 or n == 1:\n",
    "       return n\n",
    "    else:\n",
    "       return fibo( n - 1 ) + fibo( n - 2 )\n",
    "\n",
    "fibo(10)"
   ]
  },
  {
   "cell_type": "markdown",
   "metadata": {
    "slideshow": {
     "slide_type": "slide"
    }
   },
   "source": [
    "# Function Annotations\n",
    "\n",
    "Completely optional metadata information about the types used by user-defined functions."
   ]
  },
  {
   "cell_type": "code",
   "execution_count": 22,
   "metadata": {
    "slideshow": {
     "slide_type": "fragment"
    }
   },
   "outputs": [
    {
     "name": "stdout",
     "output_type": "stream",
     "text": [
      "Annotations: {'ham': <class 'str'>, 'eggs': <class 'str'>, 'return': <class 'str'>}\n",
      "Arguments: spam eggs\n",
      "Help on function f in module __main__:\n",
      "\n",
      "f(ham:str, eggs:str='eggs') -> str\n",
      "\n",
      "None\n"
     ]
    }
   ],
   "source": [
    "def f(ham: str, eggs: str = 'eggs') -> str:\n",
    "     print(\"Annotations:\", f.__annotations__)\n",
    "     print(\"Arguments:\", ham, eggs)\n",
    "     return ham + ' and ' + eggs\n",
    "\n",
    "f('spam')\n",
    "help(f)\n",
    "print(f.__doc__)"
   ]
  },
  {
   "cell_type": "markdown",
   "metadata": {
    "slideshow": {
     "slide_type": "slide"
    }
   },
   "source": [
    "# Arbitrary Argument Lists\n",
    "\n",
    "Arguments can be wrapped up in a tuple or a list with form *args"
   ]
  },
  {
   "cell_type": "code",
   "execution_count": 23,
   "metadata": {
    "slideshow": {
     "slide_type": "fragment"
    }
   },
   "outputs": [
    {
     "name": "stdout",
     "output_type": "stream",
     "text": [
      "('big', 'data')\n",
      "big data\n"
     ]
    }
   ],
   "source": [
    "def f(*args, sep=\" \"):\n",
    "    print (args)\n",
    "    return sep.join(args)\n",
    "\n",
    "print(f(\"big\",\"data\"))"
   ]
  },
  {
   "cell_type": "markdown",
   "metadata": {
    "slideshow": {
     "slide_type": "fragment"
    }
   },
   "source": [
    "- Normally, these variadic arguments will be last in the list of formal parameters. \n",
    "- Any formal parameters which occur after the *args parameter are ‘keyword-only’ arguments."
   ]
  },
  {
   "cell_type": "markdown",
   "metadata": {
    "slideshow": {
     "slide_type": "slide"
    }
   },
   "source": [
    "# Keyword Arguments Dictionary\n",
    "\n",
    "A final formal parameter of the form **name receives a dictionary."
   ]
  },
  {
   "cell_type": "code",
   "execution_count": 24,
   "metadata": {
    "collapsed": true,
    "slideshow": {
     "slide_type": "fragment"
    }
   },
   "outputs": [],
   "source": [
    "def cheeseshop(kind, *arguments, **keywords):\n",
    "    print(\"-- Do you have any\", kind, \"?\")\n",
    "    print(\"-- I'm sorry, we're all out of\", kind)\n",
    "    for arg in arguments:\n",
    "        print(arg)\n",
    "    print(\"-\" * 40)\n",
    "    for kw in keywords:\n",
    "        print(kw, \":\", keywords[kw])"
   ]
  },
  {
   "cell_type": "markdown",
   "metadata": {
    "slideshow": {
     "slide_type": "fragment"
    }
   },
   "source": [
    "\\*name must occur before \\*\\*name"
   ]
  },
  {
   "cell_type": "code",
   "execution_count": 25,
   "metadata": {
    "slideshow": {
     "slide_type": "slide"
    }
   },
   "outputs": [
    {
     "name": "stdout",
     "output_type": "stream",
     "text": [
      "-- Do you have any Limburger ?\n",
      "-- I'm sorry, we're all out of Limburger\n",
      "It's very runny, sir.\n",
      "It's really very, VERY runny, sir.\n",
      "----------------------------------------\n",
      "shopkeeper : Michael Palin\n",
      "client : John Cleese\n",
      "sketch : Cheese Shop Sketch\n"
     ]
    }
   ],
   "source": [
    "cheeseshop(\"Limburger\", \"It's very runny, sir.\",\n",
    "           \"It's really very, VERY runny, sir.\",\n",
    "           shopkeeper=\"Michael Palin\",\n",
    "           client=\"John Cleese\",\n",
    "           sketch=\"Cheese Shop Sketch\")"
   ]
  },
  {
   "cell_type": "markdown",
   "metadata": {
    "slideshow": {
     "slide_type": "slide"
    }
   },
   "source": [
    "# Unpacking Argument Lists\n",
    "Arguments are already in a list or tuple. They can be unpacked for a function call. \n",
    "For instance, the built-in range() function is called with the *-operator to unpack the arguments out of a list:\n",
    "\n"
   ]
  },
  {
   "cell_type": "code",
   "execution_count": 1,
   "metadata": {
    "slideshow": {
     "slide_type": "fragment"
    }
   },
   "outputs": [
    {
     "data": {
      "text/plain": [
       "[3, 4, 5]"
      ]
     },
     "execution_count": 1,
     "metadata": {},
     "output_type": "execute_result"
    }
   ],
   "source": [
    "list(range(3, 6))            # normal call with separate arguments\n",
    "args = [3, 6]\n",
    "list(range(*args))            # call with arguments unpacked from a list"
   ]
  },
  {
   "cell_type": "code",
   "execution_count": 3,
   "metadata": {},
   "outputs": [
    {
     "name": "stdout",
     "output_type": "stream",
     "text": [
      "0 1 2 3 4\n"
     ]
    }
   ],
   "source": [
    "a = range(5)\n",
    "a\n",
    "print(*a)"
   ]
  },
  {
   "cell_type": "markdown",
   "metadata": {
    "slideshow": {
     "slide_type": "slide"
    }
   },
   "source": [
    "In the same fashion, dictionaries can deliver keyword arguments with the **-operator:"
   ]
  },
  {
   "cell_type": "code",
   "execution_count": 27,
   "metadata": {
    "slideshow": {
     "slide_type": "fragment"
    }
   },
   "outputs": [
    {
     "name": "stdout",
     "output_type": "stream",
     "text": [
      "-- This parrot wouldn't VOOM if you put four million volts through it. E's bleedin' demised !\n"
     ]
    }
   ],
   "source": [
    "def parrot(voltage, state='a stiff', action='voom'):\n",
    "     print(\"-- This parrot wouldn't\", action, end=' ')\n",
    "     print(\"if you put\", voltage, \"volts through it.\", end=' ')\n",
    "     print(\"E's\", state, \"!\")\n",
    "\n",
    "d = {\"voltage\": \"four million\", \"state\": \"bleedin' demised\", \"action\": \"VOOM\"}\n",
    "parrot(**d)"
   ]
  },
  {
   "cell_type": "markdown",
   "metadata": {
    "slideshow": {
     "slide_type": "slide"
    }
   },
   "source": [
    "# Lambda Expressions\n",
    "\n",
    "Lambda functions can be used wherever function objects are required."
   ]
  },
  {
   "cell_type": "code",
   "execution_count": 28,
   "metadata": {
    "slideshow": {
     "slide_type": "fragment"
    }
   },
   "outputs": [
    {
     "name": "stdout",
     "output_type": "stream",
     "text": [
      "5.0\n"
     ]
    }
   ],
   "source": [
    "from math import sqrt\n",
    "\n",
    "my_norm = lambda x,y: sqrt(x*x+y*y)\n",
    "print(my_norm(3,4))"
   ]
  },
  {
   "cell_type": "markdown",
   "metadata": {
    "slideshow": {
     "slide_type": "fragment"
    }
   },
   "source": [
    "lambda functions can reference variables from the containing scope:\n",
    "\n"
   ]
  },
  {
   "cell_type": "code",
   "execution_count": 29,
   "metadata": {
    "slideshow": {
     "slide_type": "fragment"
    }
   },
   "outputs": [
    {
     "data": {
      "text/plain": [
       "(42, 43)"
      ]
     },
     "execution_count": 29,
     "metadata": {},
     "output_type": "execute_result"
    }
   ],
   "source": [
    "def make_incrementor(n):\n",
    "    return lambda x: x + n\n",
    "\n",
    "f = make_incrementor(42)\n",
    "f(0),f(1)"
   ]
  },
  {
   "cell_type": "markdown",
   "metadata": {
    "slideshow": {
     "slide_type": "slide"
    }
   },
   "source": [
    "# Functions Scope\n",
    "\n",
    "- All variable assignments in a function store the value in the local symbol table.\n",
    "- Global variables cannot be directly assigned a value within a function (unless named in a global statement).\n",
    "- The value of the function can be assigned to another name which can then also be used as a function."
   ]
  },
  {
   "cell_type": "code",
   "execution_count": 30,
   "metadata": {
    "slideshow": {
     "slide_type": "fragment"
    }
   },
   "outputs": [
    {
     "name": "stdout",
     "output_type": "stream",
     "text": [
      "0.785\n",
      "1.0\n"
     ]
    }
   ],
   "source": [
    "pi = 1.\n",
    "def deg2rad(theta):\n",
    "    pi = 3.14\n",
    "    return theta * pi / 180.\n",
    "\n",
    "print(deg2rad(45))\n",
    "print(pi)"
   ]
  },
  {
   "cell_type": "code",
   "execution_count": 31,
   "metadata": {
    "slideshow": {
     "slide_type": "slide"
    }
   },
   "outputs": [
    {
     "name": "stdout",
     "output_type": "stream",
     "text": [
      "141.3\n",
      "45.0\n"
     ]
    }
   ],
   "source": [
    "def rad2deg(theta):\n",
    "    return theta*180./pi\n",
    "\n",
    "print(rad2deg(0.785))\n",
    "pi = 3.14\n",
    "print(rad2deg(0.785))"
   ]
  },
  {
   "cell_type": "code",
   "execution_count": 32,
   "metadata": {
    "slideshow": {
     "slide_type": "slide"
    }
   },
   "outputs": [
    {
     "name": "stdout",
     "output_type": "stream",
     "text": [
      "0.785\n"
     ]
    }
   ],
   "source": [
    "def deg2rad(theta):\n",
    "    global pi\n",
    "    pi = 3.14\n",
    "    return theta * pi / 180\n",
    "\n",
    "pi = 1\n",
    "print(deg2rad(45))"
   ]
  },
  {
   "cell_type": "code",
   "execution_count": 33,
   "metadata": {
    "slideshow": {
     "slide_type": "fragment"
    }
   },
   "outputs": [
    {
     "name": "stdout",
     "output_type": "stream",
     "text": [
      "3.14\n"
     ]
    }
   ],
   "source": [
    "print(pi)"
   ]
  },
  {
   "cell_type": "markdown",
   "metadata": {
    "slideshow": {
     "slide_type": "slide"
    }
   },
   "source": [
    "# `map` built-in function\n",
    "\n",
    "Apply a function over a sequence.\n"
   ]
  },
  {
   "cell_type": "code",
   "execution_count": 34,
   "metadata": {
    "slideshow": {
     "slide_type": "fragment"
    }
   },
   "outputs": [
    {
     "name": "stdout",
     "output_type": "stream",
     "text": [
      "<map object at 0x10a5424e0>\n"
     ]
    }
   ],
   "source": [
    "from math import factorial\n",
    "res = map(factorial,range(4))\n",
    "print(res)"
   ]
  },
  {
   "cell_type": "markdown",
   "metadata": {
    "slideshow": {
     "slide_type": "fragment"
    }
   },
   "source": [
    "Since Python 3.x, `map` process return an iterator. Save memory, and should make things go faster.\n",
    "Display result by using unpacking operator."
   ]
  },
  {
   "cell_type": "code",
   "execution_count": 35,
   "metadata": {
    "slideshow": {
     "slide_type": "fragment"
    }
   },
   "outputs": [
    {
     "name": "stdout",
     "output_type": "stream",
     "text": [
      "1 1 2 6\n"
     ]
    }
   ],
   "source": [
    "print(*res)"
   ]
  },
  {
   "cell_type": "markdown",
   "metadata": {
    "slideshow": {
     "slide_type": "slide"
    }
   },
   "source": [
    "# `map` with User-Defined function\n"
   ]
  },
  {
   "cell_type": "code",
   "execution_count": 36,
   "metadata": {
    "slideshow": {
     "slide_type": "fragment"
    }
   },
   "outputs": [
    {
     "name": "stdout",
     "output_type": "stream",
     "text": [
      "5 7 9\n"
     ]
    }
   ],
   "source": [
    "def add(x,y):\n",
    "    return x+y\n",
    "\n",
    "L1 = [1, 2, 3]\n",
    "L2 = [4, 5, 6]\n",
    "print(*map(add,L1,L2))"
   ]
  },
  {
   "cell_type": "markdown",
   "metadata": {
    "slideshow": {
     "slide_type": "subslide"
    }
   },
   "source": [
    "Using `map` can be much faster than `for` loop"
   ]
  },
  {
   "cell_type": "code",
   "execution_count": 9,
   "metadata": {
    "slideshow": {
     "slide_type": "fragment"
    }
   },
   "outputs": [
    {
     "name": "stdout",
     "output_type": "stream",
     "text": [
      "CPU times: user 6 µs, sys: 0 ns, total: 6 µs\n",
      "Wall time: 9.06 µs\n"
     ]
    }
   ],
   "source": [
    "%%time\n",
    "M=range(1000)\n",
    "f=lambda x: x*2\n",
    "lmap = map(f,M)"
   ]
  },
  {
   "cell_type": "code",
   "execution_count": 10,
   "metadata": {
    "slideshow": {
     "slide_type": "fragment"
    }
   },
   "outputs": [
    {
     "name": "stdout",
     "output_type": "stream",
     "text": [
      "CPU times: user 190 µs, sys: 0 ns, total: 190 µs\n",
      "Wall time: 194 µs\n"
     ]
    }
   ],
   "source": [
    "%%time\n",
    "M=range(1000)\n",
    "f=lambda x:x*2\n",
    "lfor = [f(m) for m in M]"
   ]
  },
  {
   "cell_type": "markdown",
   "metadata": {
    "slideshow": {
     "slide_type": "slide"
    }
   },
   "source": [
    "# `zip` Builtin Function\n",
    "\n",
    "Loop over sequences simultaneously."
   ]
  },
  {
   "cell_type": "code",
   "execution_count": 39,
   "metadata": {
    "slideshow": {
     "slide_type": "fragment"
    }
   },
   "outputs": [
    {
     "name": "stdout",
     "output_type": "stream",
     "text": [
      "1 4 -- 5\n",
      "2 5 -- 7\n",
      "3 6 -- 9\n"
     ]
    }
   ],
   "source": [
    "L1 = [1, 2, 3]\n",
    "L2 = [4, 5, 6]\n",
    "\n",
    "for (x, y) in zip(L1, L2):\n",
    "\n",
    "    print (x, y, '--', x + y)"
   ]
  },
  {
   "cell_type": "markdown",
   "metadata": {
    "slideshow": {
     "slide_type": "slide"
    }
   },
   "source": [
    "# List comprehension\n",
    "\n",
    "- Set or change values inside a list\n",
    "- Create list from function"
   ]
  },
  {
   "cell_type": "code",
   "execution_count": 40,
   "metadata": {
    "slideshow": {
     "slide_type": "fragment"
    }
   },
   "outputs": [
    {
     "data": {
      "text/plain": [
       "[2, 18, 16, 8]"
      ]
     },
     "execution_count": 40,
     "metadata": {},
     "output_type": "execute_result"
    }
   ],
   "source": [
    "li = [1, 9, 8, 4]\n",
    "[elem*2 for elem in li]"
   ]
  },
  {
   "cell_type": "code",
   "execution_count": 41,
   "metadata": {
    "slideshow": {
     "slide_type": "fragment"
    }
   },
   "outputs": [
    {
     "data": {
      "text/plain": [
       "[1, 4, 9, 16, 25, 36, 49, 64, 81]"
      ]
     },
     "execution_count": 41,
     "metadata": {},
     "output_type": "execute_result"
    }
   ],
   "source": [
    "[n*n for n in range(1,10)]"
   ]
  },
  {
   "cell_type": "markdown",
   "metadata": {
    "slideshow": {
     "slide_type": "slide"
    }
   },
   "source": [
    "## Time converter\n",
    "Write 3 functions to manipulate hours and minutes : \n",
    "- Function minutes return minutes from (hours, minutes). \n",
    "- Function hours the inverse function that return (hours, minutes) from minutes. \n",
    "- Function add_time to add (hh1,mm1) and (hh2, mm2) two couples (hours, minutes). It takes 2\n",
    "tuples of length 2 as input arguments and return the tuple (hh,mm). \n",
    "\n",
    "Check the results with datetime package.\n"
   ]
  },
  {
   "cell_type": "code",
   "execution_count": 5,
   "metadata": {
    "slideshow": {
     "slide_type": "slide"
    }
   },
   "outputs": [
    {
     "name": "stdout",
     "output_type": "stream",
     "text": [
      "6:15:00\n",
      "7:46:00\n",
      "14:01:00\n"
     ]
    }
   ],
   "source": [
    "from datetime import timedelta\n",
    "a = timedelta(minutes=375)\n",
    "print(a)\n",
    "b = timedelta(minutes=466)\n",
    "print(b)\n",
    "print(a+b)"
   ]
  },
  {
   "cell_type": "markdown",
   "metadata": {},
   "source": [
    "<button data-toggle=\"collapse\" data-target=\"#hours\" class='btn btn-primary'>Solution</button>\n",
    "<div id=\"hours\" class=\"collapse\">\n",
    "```python\n",
    "minutes = lambda  hours, minutes: 60*hours+minutes\n",
    "\n",
    "def hours(minutes):\n",
    "    return minutes//60, minutes%60\n",
    "\n",
    "def add_time(hh1,mm1, hh2, mm2):\n",
    "    total_minutes = minutes(hh1,mm1)+minutes(hh2,mm2)\n",
    "    return hours(total_minutes)\n",
    "\n",
    "add_time(6,15,7,46)\n",
    "```"
   ]
  },
  {
   "cell_type": "markdown",
   "metadata": {
    "slideshow": {
     "slide_type": "slide"
    }
   },
   "source": [
    "## Polynom derivative\n",
    "- A Polynom is represented by a Python list of its coefficients.\n",
    "    [1,5,-4] => 1+5x-4x^2\n",
    "- Write the function diff(P,n) that return the nth derivative Q\n",
    "- Don't use any external package 😉"
   ]
  },
  {
   "cell_type": "code",
   "execution_count": 46,
   "metadata": {
    "slideshow": {
     "slide_type": "fragment"
    }
   },
   "outputs": [
    {
     "name": "stdout",
     "output_type": "stream",
     "text": [
      "   4     3     2\n",
      "3 x + 2 x + 1 x + 5 x + 7\n",
      "    2\n",
      "36 x + 12 x + 2\n"
     ]
    }
   ],
   "source": [
    "from numpy import poly1d\n",
    "P = poly1d([3,2,1,5,7])\n",
    "print(P)\n",
    "print(P.deriv(2))"
   ]
  },
  {
   "cell_type": "code",
   "execution_count": 11,
   "metadata": {
    "slideshow": {
     "slide_type": "fragment"
    }
   },
   "outputs": [
    {
     "data": {
      "text/plain": [
       "72*x"
      ]
     },
     "execution_count": 11,
     "metadata": {},
     "output_type": "execute_result"
    }
   ],
   "source": [
    "from sympy import symbols, diff\n",
    "x = symbols('x')\n",
    "Q = 3*x**4-4**3-3*x**2+5*x-6\n",
    "diff(Q,x,3)"
   ]
  },
  {
   "cell_type": "markdown",
   "metadata": {},
   "source": [
    "<button data-toggle=\"collapse\" data-target=\"#polynom\" class='btn btn-primary'>Solution</button>\n",
    "<div id=\"polynom\" class=\"collapse\">\n",
    "```python\n",
    "def diff(P):\n",
    "    \"\"\" Return the derivative of polynom P \"\"\"\n",
    "    assert (len(P) > 0)\n",
    "    d = len(P) - 1\n",
    "    if d == 0:\n",
    "        return [0]\n",
    "    else:\n",
    "        return [(i + 1) * P[i + 1] for i in range(d)]\n",
    "\n",
    "def nth_diff(P, n):\n",
    "    Q = P.copy()\n",
    "    for i in range(n):\n",
    "        Q = diff(Q)\n",
    "    return Q\n",
    "\n",
    "P = list(range(7))\n",
    "print(\"P=\",P)\n",
    "print(\"diff(P)=\",diff(P))\n",
    "print(\"diff(P,3)=\",nth_diff(P, 3))\n",
    "```"
   ]
  },
  {
   "cell_type": "markdown",
   "metadata": {
    "slideshow": {
     "slide_type": "slide"
    }
   },
   "source": [
    "# Exponential\n",
    "\n",
    "- Implement the exponential function using the taylor series developed at 0 and without any import of external modules:\n",
    "\n",
    "$$ f(x) = \\sum_{i=0}^n \\frac{x^i}{i!} $$\n",
    "\n",
    "- Check the result with math package"
   ]
  },
  {
   "cell_type": "code",
   "execution_count": 12,
   "metadata": {
    "collapsed": true,
    "slideshow": {
     "slide_type": "fragment"
    }
   },
   "outputs": [],
   "source": [
    "def my_exp(x,terms=50):\n",
    "   \"\"\" Exponential function \"\"\"\n",
    "   pass\n",
    "\n",
    "#from math import e\n",
    "#my_exp(1.0) - e"
   ]
  },
  {
   "cell_type": "markdown",
   "metadata": {},
   "source": [
    "<button data-toggle=\"collapse\" data-target=\"#exponential\" class='btn btn-primary'>Solution</button>\n",
    "<div id=\"exponential\" class=\"collapse\">\n",
    "```python\n",
    "def exp(x,terms=50):\n",
    "   sum = 0.\n",
    "   power = 1.\n",
    "   fact = 1.\n",
    "   for i in range(terms):\n",
    "      sum += power/fact\n",
    "      power *= x\n",
    "      fact *= i+1\n",
    "   return sum\n",
    "\n",
    "from math import e \n",
    "print ( e , exp(1.0) )\n",
    "```"
   ]
  },
  {
   "cell_type": "markdown",
   "metadata": {
    "slideshow": {
     "slide_type": "slide"
    }
   },
   "source": [
    "# Syracuse serie\n",
    "\n",
    "For $N > 0$ it is defined : \n",
    "\n",
    "$U_0=N$ and for all positive integer n :\n",
    "$$\n",
    "U_{n+1} = \\left\\{ \\begin{array}{ll} U_n/2  & \\mbox{if } U_n  \\mbox{is even} \\\\ 3 U_{n}+1 & \\mbox{if not}\\end{array} \\right.\n",
    "$$\n",
    "\n",
    "Collatz conjecture is that no matter what number you start with, you will always reach 1.\n",
    "\n",
    "Write the function Syracuse with argument N, print terms until 1 and return the number of steps called *total stopping time*."
   ]
  },
  {
   "cell_type": "markdown",
   "metadata": {},
   "source": [
    "<button data-toggle=\"collapse\" data-target=\"#syracuse\" class='btn btn-primary'>Solution</button>\n",
    "<div id=\"syracuse\" class=\"collapse\">\n",
    "```python\n",
    "def syracuse(n):\n",
    "    count = 0\n",
    "    x = n\n",
    "    while x != 1:\n",
    "        if x & 1:  # Check if the last bit is 1\n",
    "            x //= 2\n",
    "        else:\n",
    "            x = 3 * x + 1\n",
    "        count += 1\n",
    "    return count\n",
    "\n",
    "\n",
    "print(syracuse(1000000))\n",
    "```"
   ]
  },
  {
   "cell_type": "code",
   "execution_count": null,
   "metadata": {
    "collapsed": true
   },
   "outputs": [],
   "source": []
  }
 ],
 "metadata": {
  "celltoolbar": "Slideshow",
  "kernelspec": {
   "display_name": "Python 3",
   "language": "python",
   "name": "python3"
  },
  "language_info": {
   "codemirror_mode": {
    "name": "ipython",
    "version": 3
   },
   "file_extension": ".py",
   "mimetype": "text/x-python",
   "name": "python",
   "nbconvert_exporter": "python",
   "pygments_lexer": "ipython3",
   "version": "3.6.3"
  }
 },
 "nbformat": 4,
 "nbformat_minor": 1
}
