{
 "cells": [
  {
   "cell_type": "markdown",
   "metadata": {
    "slideshow": {
     "slide_type": "slide"
    }
   },
   "source": [
    "# Control Flow Tools"
   ]
  },
  {
   "cell_type": "markdown",
   "metadata": {
    "slideshow": {
     "slide_type": "slide"
    }
   },
   "source": [
    "## While loop\n",
    "\n",
    "- Don't forget the ':' character.\n",
    "- The body of the loop is indented"
   ]
  },
  {
   "cell_type": "code",
   "execution_count": 2,
   "metadata": {
    "slideshow": {
     "slide_type": "fragment"
    }
   },
   "outputs": [
    {
     "name": "stdout",
     "output_type": "stream",
     "text": [
      "1.0,2.0,1.5,1.6666666666666667,1.6,1.625,1.6153846153846154,1.619047619047619,1.6176470588235294,1.6181818181818182,1.6179775280898876,1.6180555555555556,1.6180257510729614,1.6180371352785146,1.618032786885246,1.618034447821682,"
     ]
    }
   ],
   "source": [
    "# Fibonacci series:\n",
    "# the sum of two elements defines the next\n",
    "a, b = 0, 1\n",
    "while b < 1000:\n",
    "    a, b = b, a+b\n",
    "    print(b/a, end=\",\")"
   ]
  },
  {
   "cell_type": "markdown",
   "metadata": {
    "slideshow": {
     "slide_type": "slide"
    }
   },
   "source": [
    "# `if` Statements\n",
    "\n",
    "```python\n",
    "True, False, and, or, not, ==, is, !=, is not, >, >=, <, <=\n",
    "```\n",
    "\n"
   ]
  },
  {
   "cell_type": "code",
   "execution_count": 16,
   "metadata": {
    "slideshow": {
     "slide_type": "fragment"
    }
   },
   "outputs": [
    {
     "name": "stdout",
     "output_type": "stream",
     "text": [
      "More\n"
     ]
    }
   ],
   "source": [
    "x = 42\n",
    "if x < 0:\n",
    "    x = 0\n",
    "    print('Negative changed to zero')\n",
    "elif x == 0:\n",
    "    print('Zero')\n",
    "elif x == 1:\n",
    "    print('Single')\n",
    "else:\n",
    "    print('More')"
   ]
  },
  {
   "cell_type": "markdown",
   "metadata": {
    "slideshow": {
     "slide_type": "fragment"
    }
   },
   "source": [
    "switch or case statements don't exist in Python."
   ]
  },
  {
   "cell_type": "markdown",
   "metadata": {
    "slideshow": {
     "slide_type": "slide"
    }
   },
   "source": [
    "### Exercise [Collatz conjecture](https://en.wikipedia.org/wiki/Collatz_conjecture)\n",
    "\n",
    "Consider the following operation on an arbitrary positive integer:\n",
    " - If the number is even, divide it by two.\n",
    " - If the number is odd, triple it and add one.\n",
    "\n",
    "The conjecture is that no matter what initial value of this integer, the sequence will always reach 1.\n",
    " - Test the Collatz conjecture for n = 100000.\n",
    " - How many steps do you need to reach 1 ?\n",
    " \n",
    "<button data-toggle=\"collapse\" data-target=\"#collatz\" class='btn btn-primary'>Solution</button>\n",
    "<div id=\"collatz\" class=\"collapse\">\n",
    "```python\n",
    "n = 100000 # \n",
    "k = 0\n",
    "while n != 1: \n",
    "    if n & 1:  # returns the last bit of n binary representation.\n",
    "        n = 3*n +1\n",
    "    else:\n",
    "        n = n // 2  # Pure division by 2\n",
    "    k += 1\n",
    "\n",
    "print(k) # 128\n",
    "```"
   ]
  },
  {
   "cell_type": "code",
   "execution_count": null,
   "metadata": {},
   "outputs": [],
   "source": []
  },
  {
   "cell_type": "markdown",
   "metadata": {
    "slideshow": {
     "slide_type": "slide"
    }
   },
   "source": [
    "# Loop over an iterable object\n",
    "\n",
    "We use for statement for looping over an iterable object. If we use it with a string, it loops over its characters.\n"
   ]
  },
  {
   "cell_type": "code",
   "execution_count": 8,
   "metadata": {
    "slideshow": {
     "slide_type": "fragment"
    }
   },
   "outputs": [
    {
     "name": "stdout",
     "output_type": "stream",
     "text": [
      "p\n",
      "y\n",
      "t\n",
      "h\n",
      "o\n",
      "n\n"
     ]
    }
   ],
   "source": [
    "for c in \"python\":\n",
    "    print(c)"
   ]
  },
  {
   "cell_type": "code",
   "execution_count": 10,
   "metadata": {
    "slideshow": {
     "slide_type": "slide"
    }
   },
   "outputs": [
    {
     "name": "stdout",
     "output_type": "stream",
     "text": [
      "Python 6\n",
      "Lille 5\n",
      "april 5\n",
      "10th 4\n",
      "2018 4\n"
     ]
    }
   ],
   "source": [
    "for word in \"Python Lille april 10th 2018\".split(\" \"):\n",
    "    print(word, len(word))   "
   ]
  },
  {
   "cell_type": "code",
   "execution_count": 11,
   "metadata": {},
   "outputs": [
    {
     "name": "stdout",
     "output_type": "stream",
     "text": [
      "0\n",
      "1\n",
      "2\n",
      "3\n",
      "4\n",
      "5\n",
      "6\n",
      "7\n",
      "8\n",
      "9\n"
     ]
    }
   ],
   "source": [
    "for i in range(10):\n",
    "    print(i)"
   ]
  },
  {
   "cell_type": "markdown",
   "metadata": {
    "slideshow": {
     "slide_type": "slide"
    }
   },
   "source": [
    "### Exercise: Anagram\n",
    "An anagram is word or phrase formed by rearranging the letters of a different word or phrase, typically using all the original letters exactly once.\n",
    "\n",
    "Write a code that print True if s1 is an anagram of s2. \n",
    "To do it, remove every character present in both strings. Check \n",
    "you obtain two empty strings.\n",
    "\n",
    "Hint: `s = s.replace(c,\"\",1)` removes the character `c` in string `s` one time.\n",
    "\n",
    "```python\n",
    "s1 = \"pascal obispo\"\n",
    "s2 = \"pablo picasso\"\n",
    "..\n",
    "True\n",
    "```\n",
    "\n",
    "<button data-toggle=\"collapse\" data-target=\"#anagram\" class='btn btn-primary'>Solution</button>\n",
    "<div id=\"anagram\" class=\"collapse\">\n",
    "```python\n",
    "s1 = \"pascal obispo\"\n",
    "s2 = \"pablo picasso\"\n",
    "\n",
    "assert len(s1) == len(s2)\n",
    "\n",
    "# solution with loops\n",
    "for c1 in s1:\n",
    "    for c2 in s2:\n",
    "        if c1 == c2:\n",
    "            s1 = s1.replace(c1,\"\",1)\n",
    "            s2 = s2.replace(c2,\"\",1)\n",
    "\n",
    "print(len(s1) == len(s2) == 0 )     \n",
    "\n",
    "# solution with lists\n",
    "s1 = list(\"pascal obispo\")\n",
    "s2 = list(\"pablo picasso\")\n",
    "s1.sort()\n",
    "s2.sort()\n",
    "print(s1 == s2)\n",
    "\n",
    "\n",
    "# best solution\n",
    "s1 = list(\"pascalobispo\")\n",
    "s2 = list(\"pablopicasso\")\n",
    "print(sorted(s1) == sorted(s2))\n",
    "```"
   ]
  },
  {
   "cell_type": "code",
   "execution_count": 22,
   "metadata": {},
   "outputs": [],
   "source": [
    "s1.replace(\"\\t\",\"\")"
   ]
  },
  {
   "cell_type": "code",
   "execution_count": 21,
   "metadata": {},
   "outputs": [
    {
     "name": "stdout",
     "output_type": "stream",
     "text": [
      "pascal obispo et pablo picasso sont des anagrammes \n"
     ]
    }
   ],
   "source": [
    "s1 = \"pascal obispo\"\n",
    "s2 = \"pablo picasso\"\n",
    "print( s1 + \" et \" + s2, end=\"\")\n",
    "assert len(s1) == len(s2)\n",
    "\n",
    "for c1 in s1:\n",
    "    for c2 in s2:\n",
    "        if c1 == c2:\n",
    "            s1 = s1.replace(c1,\"\",1)\n",
    "            s2 = s2.replace(c2,\"\",1)\n",
    "            \n",
    "if len(s1) == len(s2) == 0:\n",
    "    print( \" sont des anagrammes \")\n",
    "else:\n",
    "    print( \" ne sont pas des anagrammes \")"
   ]
  },
  {
   "cell_type": "markdown",
   "metadata": {
    "slideshow": {
     "slide_type": "slide"
    }
   },
   "source": [
    "# Loop with range function\n",
    "\n",
    "- It generates arithmetic progressions\n",
    "- It is possible to let the range start at another number, or to specify a different increment.\n",
    "- Since Python 3, the object returned by `range()` doesn’t return a list to save memory space. `xrange` no longer exists.\n",
    "- Use function list() to creates it."
   ]
  },
  {
   "cell_type": "code",
   "execution_count": 18,
   "metadata": {
    "slideshow": {
     "slide_type": "fragment"
    }
   },
   "outputs": [
    {
     "data": {
      "text/plain": [
       "[0, 1, 2, 3, 4]"
      ]
     },
     "execution_count": 18,
     "metadata": {},
     "output_type": "execute_result"
    }
   ],
   "source": [
    "list(range(5))"
   ]
  },
  {
   "cell_type": "code",
   "execution_count": 19,
   "metadata": {
    "slideshow": {
     "slide_type": "fragment"
    }
   },
   "outputs": [
    {
     "data": {
      "text/plain": [
       "[2, 3, 4]"
      ]
     },
     "execution_count": 19,
     "metadata": {},
     "output_type": "execute_result"
    }
   ],
   "source": [
    "list(range(2, 5))"
   ]
  },
  {
   "cell_type": "code",
   "execution_count": 20,
   "metadata": {
    "slideshow": {
     "slide_type": "fragment"
    }
   },
   "outputs": [
    {
     "data": {
      "text/plain": [
       "[-1, -2, -3, -4]"
      ]
     },
     "execution_count": 20,
     "metadata": {},
     "output_type": "execute_result"
    }
   ],
   "source": [
    "list(range(-1, -5, -1))"
   ]
  },
  {
   "cell_type": "code",
   "execution_count": 21,
   "metadata": {
    "slideshow": {
     "slide_type": "fragment"
    }
   },
   "outputs": [
    {
     "name": "stdout",
     "output_type": "stream",
     "text": [
      "0 1 2 3 4 "
     ]
    }
   ],
   "source": [
    "for i in range(5):\n",
    "    print(i, end=' ')"
   ]
  },
  {
   "cell_type": "markdown",
   "metadata": {
    "slideshow": {
     "slide_type": "slide"
    }
   },
   "source": [
    "### Exercise Exponential\n",
    "\n",
    "- Write some code to compute the exponential mathematical constant $e \\simeq 2.718281828459045$ using the taylor series developed at 0 and without any import of external modules and $n = 50$:\n",
    "\n",
    "$$ e \\simeq \\sum_{i=0}^n \\frac{1}{i!} $$\n",
    "\n",
    "<button data-toggle=\"collapse\" data-target=\"#exponential\" class='btn btn-primary'>Solution</button>\n",
    "<div id=\"exponential\" class=\"collapse\">\n",
    "```python\n",
    "   n = 50\n",
    "   e = 0.\n",
    "   fact = 1.\n",
    "   for i in range(n):\n",
    "      e += 1/fact\n",
    "      fact *= i+1\n",
    "   print(e)\n",
    "\n",
    "```"
   ]
  },
  {
   "cell_type": "code",
   "execution_count": 30,
   "metadata": {},
   "outputs": [
    {
     "name": "stdout",
     "output_type": "stream",
     "text": [
      "f= 1 i= 0  e =  1.0\n",
      "f= 2 i= 1  e =  2.0\n",
      "f= 6 i= 2  e =  2.5\n",
      "f= 24 i= 3  e =  2.6666666666666665\n",
      "f= 120 i= 4  e =  2.708333333333333\n",
      "f= 720 i= 5  e =  2.7166666666666663\n",
      "f= 5040 i= 6  e =  2.7180555555555554\n",
      "f= 40320 i= 7  e =  2.7182539682539684\n",
      "f= 362880 i= 8  e =  2.71827876984127\n",
      "f= 3628800 i= 9  e =  2.7182815255731922\n"
     ]
    }
   ],
   "source": [
    "f = 1\n",
    "e = 0\n",
    "for i in range(10):\n",
    "    e += 1 / f\n",
    "    f *= i+1\n",
    "    print( \"f=\",f, \"i=\", i, \" e = \", e )   "
   ]
  },
  {
   "cell_type": "markdown",
   "metadata": {
    "collapsed": true,
    "slideshow": {
     "slide_type": "slide"
    }
   },
   "source": [
    "# `break` Statement."
   ]
  },
  {
   "cell_type": "code",
   "execution_count": 2,
   "metadata": {
    "slideshow": {
     "slide_type": "fragment"
    }
   },
   "outputs": [
    {
     "name": "stdout",
     "output_type": "stream",
     "text": [
      " 3 is a prime number\n",
      "4  =  2 * 2\n",
      " 5 is a prime number\n",
      " 5 is a prime number\n",
      " 5 is a prime number\n",
      "6  =  2 * 3\n",
      " 7 is a prime number\n",
      " 7 is a prime number\n",
      " 7 is a prime number\n",
      " 7 is a prime number\n",
      " 7 is a prime number\n",
      "8  =  2 * 4\n",
      " 9 is a prime number\n",
      "9  =  3 * 3\n"
     ]
    }
   ],
   "source": [
    "for n in range(2, 10):     # n = 2,3,4,5,6,7,8,9\n",
    "    for x in range(2, n):  # x = 2, ..., n-1\n",
    "        if n % x == 0:     # Return the division remain (mod)\n",
    "            print(n, \" = \", x, \"*\", n//x)\n",
    "            break\n",
    "        else:\n",
    "            print(\" %d is a prime number\" % n)"
   ]
  },
  {
   "cell_type": "markdown",
   "metadata": {
    "slideshow": {
     "slide_type": "slide"
    }
   },
   "source": [
    "#  `iter` Function"
   ]
  },
  {
   "cell_type": "code",
   "execution_count": 4,
   "metadata": {
    "slideshow": {
     "slide_type": "fragment"
    }
   },
   "outputs": [
    {
     "name": "stdout",
     "output_type": "stream",
     "text": [
      "['Python', 'april', '10,11,12', '2018', 'LILLE']\n"
     ]
    }
   ],
   "source": [
    "course = \"\"\" Python april 10,11,12 2018 LILLE \"\"\".split()\n",
    "print(course)"
   ]
  },
  {
   "cell_type": "code",
   "execution_count": 5,
   "metadata": {
    "slideshow": {
     "slide_type": "fragment"
    }
   },
   "outputs": [
    {
     "name": "stdout",
     "output_type": "stream",
     "text": [
      "Python\n"
     ]
    }
   ],
   "source": [
    "iterator = iter(course)\n",
    "print(iterator.__next__())"
   ]
  },
  {
   "cell_type": "code",
   "execution_count": 6,
   "metadata": {
    "slideshow": {
     "slide_type": "fragment"
    }
   },
   "outputs": [
    {
     "name": "stdout",
     "output_type": "stream",
     "text": [
      "april\n"
     ]
    }
   ],
   "source": [
    "print(iterator.__next__())"
   ]
  },
  {
   "cell_type": "markdown",
   "metadata": {
    "slideshow": {
     "slide_type": "slide"
    }
   },
   "source": [
    "# Defining Function: `def` statement"
   ]
  },
  {
   "cell_type": "code",
   "execution_count": 8,
   "metadata": {
    "slideshow": {
     "slide_type": "fragment"
    }
   },
   "outputs": [
    {
     "data": {
      "text/plain": [
       "True"
      ]
     },
     "execution_count": 8,
     "metadata": {},
     "output_type": "execute_result"
    }
   ],
   "source": [
    "def is_palindrome(s):\n",
    "    \"Return True if the input sequence is a palindrome\"\n",
    "    return s == s[::-1]\n",
    "\n",
    "\n",
    "is_palindrome(\"kayak\")"
   ]
  },
  {
   "cell_type": "markdown",
   "metadata": {
    "slideshow": {
     "slide_type": "fragment"
    }
   },
   "source": [
    "- Body of the function start must be indented\n",
    "- Functions without a return statement do return a value called `None`.\n"
   ]
  },
  {
   "cell_type": "code",
   "execution_count": 13,
   "metadata": {
    "slideshow": {
     "slide_type": "fragment"
    }
   },
   "outputs": [
    {
     "name": "stdout",
     "output_type": "stream",
     "text": [
      "0 1 1 2 3 5 8 13 21 34 55 89 144 233 377 610 987 1597 \n",
      "\n",
      "None\n"
     ]
    }
   ],
   "source": [
    "def fib(n):\n",
    "    \"\"\"Print a Fibonacci series up to n.\"\"\"\n",
    "    a, b = 0, 1\n",
    "    while a < n:\n",
    "         print(a, end=' ')  # the end optional argument is \\n by default\n",
    "         a, b = b, a+b\n",
    "    print(\"\\n\") # new line\n",
    "     \n",
    "result = fib(2000)\n",
    "print(result) # is None"
   ]
  },
  {
   "cell_type": "markdown",
   "metadata": {
    "slideshow": {
     "slide_type": "slide"
    }
   },
   "source": [
    "# Documentation string\n",
    "- It’s good practice to include docstrings in code that you write, so make a habit of it."
   ]
  },
  {
   "cell_type": "code",
   "execution_count": 12,
   "metadata": {
    "slideshow": {
     "slide_type": "fragment"
    }
   },
   "outputs": [
    {
     "name": "stdout",
     "output_type": "stream",
     "text": [
      "Do nothing, but document it.\n",
      "\n",
      "     No, really, it doesn't do anything.\n",
      "     \n"
     ]
    }
   ],
   "source": [
    "def my_function( foo):\n",
    "     \"\"\"Do nothing, but document it.\n",
    "\n",
    "     No, really, it doesn't do anything.\n",
    "     \"\"\"\n",
    "     pass\n",
    "\n",
    "print(my_function.__doc__)"
   ]
  },
  {
   "cell_type": "code",
   "execution_count": 13,
   "metadata": {
    "slideshow": {
     "slide_type": "fragment"
    }
   },
   "outputs": [
    {
     "name": "stdout",
     "output_type": "stream",
     "text": [
      "Help on function my_function in module __main__:\n",
      "\n",
      "my_function(foo)\n",
      "    Do nothing, but document it.\n",
      "    \n",
      "    No, really, it doesn't do anything.\n",
      "\n"
     ]
    }
   ],
   "source": [
    "help(my_function)"
   ]
  },
  {
   "cell_type": "markdown",
   "metadata": {
    "slideshow": {
     "slide_type": "slide"
    }
   },
   "source": [
    "# Default Argument Values"
   ]
  },
  {
   "cell_type": "code",
   "execution_count": 14,
   "metadata": {
    "slideshow": {
     "slide_type": "fragment"
    }
   },
   "outputs": [
    {
     "name": "stdout",
     "output_type": "stream",
     "text": [
      "6\n",
      "bca\n"
     ]
    }
   ],
   "source": [
    "def f(a,b=5):\n",
    "    return a+b\n",
    "\n",
    "print(f(1))\n",
    "print(f(b=\"a\",a=\"bc\"))"
   ]
  },
  {
   "cell_type": "markdown",
   "metadata": {
    "slideshow": {
     "slide_type": "slide"
    }
   },
   "source": [
    "**Important warning**: The default value is evaluated only once. "
   ]
  },
  {
   "cell_type": "code",
   "execution_count": 15,
   "metadata": {
    "slideshow": {
     "slide_type": "fragment"
    }
   },
   "outputs": [
    {
     "name": "stdout",
     "output_type": "stream",
     "text": [
      "[1]\n"
     ]
    }
   ],
   "source": [
    "def f(a, L=[]):\n",
    "    L.append(a)\n",
    "    return L\n",
    "\n",
    "print(f(1))"
   ]
  },
  {
   "cell_type": "code",
   "execution_count": 16,
   "metadata": {
    "slideshow": {
     "slide_type": "fragment"
    }
   },
   "outputs": [
    {
     "name": "stdout",
     "output_type": "stream",
     "text": [
      "[1, 2]\n"
     ]
    }
   ],
   "source": [
    "print(f(2)) # L = [1]"
   ]
  },
  {
   "cell_type": "code",
   "execution_count": 17,
   "metadata": {
    "slideshow": {
     "slide_type": "fragment"
    }
   },
   "outputs": [
    {
     "name": "stdout",
     "output_type": "stream",
     "text": [
      "[1, 2, 3]\n"
     ]
    }
   ],
   "source": [
    "print(f(3)) # L = [1,2]"
   ]
  },
  {
   "cell_type": "markdown",
   "metadata": {
    "slideshow": {
     "slide_type": "slide"
    }
   },
   "source": [
    "# Function Annotations\n",
    "\n",
    "Completely optional metadata information about the types used by user-defined functions.\n",
    "These type annotations conforming to [PEP 484](https://www.python.org/dev/peps/pep-0484/) could be statically used by [MyPy](http://mypy-lang.org)."
   ]
  },
  {
   "cell_type": "code",
   "execution_count": 18,
   "metadata": {
    "slideshow": {
     "slide_type": "fragment"
    }
   },
   "outputs": [
    {
     "name": "stdout",
     "output_type": "stream",
     "text": [
      "Annotations: {'ham': <class 'str'>, 'eggs': <class 'str'>, 'return': <class 'str'>}\n",
      "Arguments: spam eggs\n",
      "Help on function f in module __main__:\n",
      "\n",
      "f(ham:str, eggs:str='eggs') -> str\n",
      "\n",
      "None\n"
     ]
    }
   ],
   "source": [
    "def f(ham: str, eggs: str = 'eggs') -> str:\n",
    "     print(\"Annotations:\", f.__annotations__)\n",
    "     print(\"Arguments:\", ham, eggs)\n",
    "     return ham + ' and ' + eggs\n",
    "\n",
    "f('spam')\n",
    "help(f)\n",
    "print(f.__doc__)"
   ]
  },
  {
   "cell_type": "markdown",
   "metadata": {
    "slideshow": {
     "slide_type": "slide"
    }
   },
   "source": [
    "# Arbitrary Argument Lists\n",
    "\n",
    "Arguments can be wrapped up in a tuple or a list with form *args"
   ]
  },
  {
   "cell_type": "code",
   "execution_count": 14,
   "metadata": {
    "slideshow": {
     "slide_type": "fragment"
    }
   },
   "outputs": [
    {
     "name": "stdout",
     "output_type": "stream",
     "text": [
      "('big', 'data')\n",
      "big data\n"
     ]
    }
   ],
   "source": [
    "def f(*args, sep=\" \"):\n",
    "    print (args)\n",
    "    return sep.join(args)\n",
    "\n",
    "print(f(\"big\",\"data\"))"
   ]
  },
  {
   "cell_type": "markdown",
   "metadata": {
    "slideshow": {
     "slide_type": "fragment"
    }
   },
   "source": [
    "- Normally, these variadic arguments will be last in the list of formal parameters. \n",
    "- Any formal parameters which occur after the *args parameter are ‘keyword-only’ arguments."
   ]
  },
  {
   "cell_type": "markdown",
   "metadata": {
    "slideshow": {
     "slide_type": "slide"
    }
   },
   "source": [
    "# Keyword Arguments Dictionary\n",
    "\n",
    "A final formal parameter of the form **name receives a dictionary."
   ]
  },
  {
   "cell_type": "code",
   "execution_count": 15,
   "metadata": {
    "slideshow": {
     "slide_type": "fragment"
    }
   },
   "outputs": [],
   "source": [
    "def cheeseshop(kind, *arguments, **keywords):\n",
    "    print(\"-- Do you have any\", kind, \"?\")\n",
    "    print(\"-- I'm sorry, we're all out of\", kind)\n",
    "    for arg in arguments:\n",
    "        print(arg)\n",
    "    print(\"-\" * 40)\n",
    "    for key, value in keywords.items():\n",
    "        print(key, \":\", value)"
   ]
  },
  {
   "cell_type": "markdown",
   "metadata": {
    "slideshow": {
     "slide_type": "fragment"
    }
   },
   "source": [
    "\\*name must occur before \\*\\*name"
   ]
  },
  {
   "cell_type": "code",
   "execution_count": 16,
   "metadata": {
    "slideshow": {
     "slide_type": "slide"
    }
   },
   "outputs": [
    {
     "name": "stdout",
     "output_type": "stream",
     "text": [
      "-- Do you have any Limburger ?\n",
      "-- I'm sorry, we're all out of Limburger\n",
      "It's very runny, sir.\n",
      "It's really very, VERY runny, sir.\n",
      "----------------------------------------\n",
      "shopkeeper : Michael Palin\n",
      "client : John Cleese\n",
      "sketch : Cheese Shop Sketch\n"
     ]
    }
   ],
   "source": [
    "cheeseshop(\"Limburger\", \"It's very runny, sir.\",\n",
    "           \"It's really very, VERY runny, sir.\",\n",
    "           shopkeeper=\"Michael Palin\",\n",
    "           client=\"John Cleese\",\n",
    "           sketch=\"Cheese Shop Sketch\")"
   ]
  },
  {
   "cell_type": "markdown",
   "metadata": {
    "slideshow": {
     "slide_type": "slide"
    }
   },
   "source": [
    "# Lambda Expressions\n",
    "\n",
    "Lambda functions can be used wherever function objects are required."
   ]
  },
  {
   "cell_type": "code",
   "execution_count": 17,
   "metadata": {
    "slideshow": {
     "slide_type": "fragment"
    }
   },
   "outputs": [
    {
     "name": "stdout",
     "output_type": "stream",
     "text": [
      "6\n"
     ]
    }
   ],
   "source": [
    "taxicab_distance = lambda x_a,y_a,x_b,y_b: abs(x_b-x_a)+abs(y_b-y_a)\n",
    "print(taxicab_distance(3,4,7,2))"
   ]
  },
  {
   "cell_type": "markdown",
   "metadata": {
    "slideshow": {
     "slide_type": "fragment"
    }
   },
   "source": [
    "lambda functions can reference variables from the containing scope:\n",
    "\n"
   ]
  },
  {
   "cell_type": "code",
   "execution_count": 18,
   "metadata": {
    "slideshow": {
     "slide_type": "fragment"
    }
   },
   "outputs": [
    {
     "data": {
      "text/plain": [
       "(42, 43)"
      ]
     },
     "execution_count": 18,
     "metadata": {},
     "output_type": "execute_result"
    }
   ],
   "source": [
    "def make_incrementor(n):\n",
    "    return lambda x: x + n\n",
    "\n",
    "f = make_incrementor(42)\n",
    "f(0),f(1)"
   ]
  },
  {
   "cell_type": "markdown",
   "metadata": {
    "slideshow": {
     "slide_type": "slide"
    }
   },
   "source": [
    "# Unpacking Argument Lists\n",
    "Arguments are already in a list or tuple. They can be unpacked for a function call. \n",
    "For instance, the built-in range() function is called with the *-operator to unpack the arguments out of a list:"
   ]
  },
  {
   "cell_type": "code",
   "execution_count": 19,
   "metadata": {},
   "outputs": [
    {
     "data": {
      "text/plain": [
       "4"
      ]
     },
     "execution_count": 19,
     "metadata": {},
     "output_type": "execute_result"
    }
   ],
   "source": [
    "def chessboard_distance(x_a, y_a, x_b, y_b):\n",
    "    \"\"\"\n",
    "    Compute the rectilinear distance between \n",
    "    point (x_a,y_a) and (x_b, y_b)\n",
    "    \"\"\"\n",
    "    return max(abs(x_b-x_a),abs(y_b-y_a))\n",
    "\n",
    "coordinates = [3,4,7,2] \n",
    "chessboard_distance(*coordinates)"
   ]
  },
  {
   "cell_type": "markdown",
   "metadata": {
    "slideshow": {
     "slide_type": "slide"
    }
   },
   "source": [
    "In the same fashion, dictionaries can deliver keyword arguments with the **-operator:"
   ]
  },
  {
   "cell_type": "code",
   "execution_count": 20,
   "metadata": {
    "slideshow": {
     "slide_type": "fragment"
    }
   },
   "outputs": [
    {
     "name": "stdout",
     "output_type": "stream",
     "text": [
      "-- This parrot wouldn't VOOM if you put four million volts through it. E's bleedin' demised !\n"
     ]
    }
   ],
   "source": [
    "def parrot(voltage, state='a stiff', action='voom'):\n",
    "     print(\"-- This parrot wouldn't\", action, end=' ')\n",
    "     print(\"if you put\", voltage, \"volts through it.\", end=' ')\n",
    "     print(\"E's\", state, \"!\")\n",
    "\n",
    "d = {\"voltage\": \"four million\", \"state\": \"bleedin' demised\", \"action\": \"VOOM\"}\n",
    "parrot(**d)"
   ]
  },
  {
   "cell_type": "markdown",
   "metadata": {
    "slideshow": {
     "slide_type": "slide"
    }
   },
   "source": [
    "### Exercise: Time converter\n",
    "Write 3 functions to manipulate hours and minutes : \n",
    "- Function minutes return minutes from (hours, minutes). \n",
    "- Function hours the inverse function that return (hours, minutes) from minutes. \n",
    "- Function add_time to add (hh1,mm1) and (hh2, mm2) two couples (hours, minutes). It takes 2\n",
    "tuples of length 2 as input arguments and return the tuple (hh,mm). \n",
    "\n",
    "```python\n",
    "print(minutes(6,15)) # 375 \n",
    "print(minutes(7,46)) # 466 \n",
    "print(add_time((6,15),(7,46)) # (14,01)\n",
    "```\n",
    "\n",
    "<button data-toggle=\"collapse\" data-target=\"#hours\" class='btn btn-primary'>Solution</button>\n",
    "<div id=\"hours\" class=\"collapse\">\n",
    "```python\n",
    "minutes = lambda  hours, minutes: 60*hours+minutes\n",
    "\n",
    "def hours(minutes):\n",
    "    return minutes//60, minutes%60\n",
    "\n",
    "def add_time(hh1, hh2):\n",
    "    total_minutes = minutes(*hh1)+minutes(*hh2)\n",
    "    return hours(total_minutes)\n",
    "\n",
    "print(\"{0:02d}:{1:02d}\".format(*add_time((6,15),(7,46))))\n",
    "```"
   ]
  },
  {
   "cell_type": "code",
   "execution_count": 40,
   "metadata": {},
   "outputs": [
    {
     "data": {
      "text/plain": [
       "(6, 15)"
      ]
     },
     "execution_count": 40,
     "metadata": {},
     "output_type": "execute_result"
    }
   ],
   "source": [
    "minutes = lambda hh, mm: hh*60+mm\n",
    "\n",
    "def hours(mm):\n",
    "    \"\"\" convert mm minutes to hours, minutes \"\"\"\n",
    "    return mm//60, mm%60\n",
    "\n",
    "hours(minutes(6,15))"
   ]
  },
  {
   "cell_type": "code",
   "execution_count": 45,
   "metadata": {},
   "outputs": [
    {
     "data": {
      "text/plain": [
       "466"
      ]
     },
     "execution_count": 45,
     "metadata": {},
     "output_type": "execute_result"
    }
   ],
   "source": [
    "minutes(hours(466)[0], hours(466)[1])"
   ]
  },
  {
   "cell_type": "code",
   "execution_count": null,
   "metadata": {},
   "outputs": [],
   "source": [
    "hh, mm = hours(466)\n",
    "print(hh)\n",
    "print(mm)"
   ]
  },
  {
   "cell_type": "code",
   "execution_count": 41,
   "metadata": {},
   "outputs": [
    {
     "name": "stdout",
     "output_type": "stream",
     "text": [
      "7 46\n"
     ]
    }
   ],
   "source": [
    "ans = hours(466)\n",
    "print(ans[0], ans[1])"
   ]
  },
  {
   "cell_type": "code",
   "execution_count": 43,
   "metadata": {},
   "outputs": [
    {
     "data": {
      "text/plain": [
       "(14, 1)"
      ]
     },
     "execution_count": 43,
     "metadata": {},
     "output_type": "execute_result"
    }
   ],
   "source": [
    "def add_time(hm1, hm2):\n",
    "    \"\"\" Add two time values \"\"\"\n",
    "    return hours(minutes(*hm1)+minutes(*hm2))\n",
    "add_time((6,15),(7,46))"
   ]
  },
  {
   "cell_type": "markdown",
   "metadata": {
    "slideshow": {
     "slide_type": "slide"
    }
   },
   "source": [
    "# Functions Scope\n",
    "\n",
    "- All variable assignments in a function store the value in the local symbol table.\n",
    "- Global variables cannot be directly assigned a value within a function (unless named in a global statement).\n",
    "- The value of the function can be assigned to another name which can then also be used as a function."
   ]
  },
  {
   "cell_type": "code",
   "execution_count": 37,
   "metadata": {
    "slideshow": {
     "slide_type": "fragment"
    }
   },
   "outputs": [
    {
     "name": "stdout",
     "output_type": "stream",
     "text": [
      "0.785\n",
      "1.0\n"
     ]
    }
   ],
   "source": [
    "pi = 1.\n",
    "def deg2rad(theta):\n",
    "    pi = 3.14\n",
    "    return theta * pi / 180.\n",
    "\n",
    "print(deg2rad(45))\n",
    "print(pi)"
   ]
  },
  {
   "cell_type": "code",
   "execution_count": 38,
   "metadata": {
    "slideshow": {
     "slide_type": "slide"
    }
   },
   "outputs": [
    {
     "name": "stdout",
     "output_type": "stream",
     "text": [
      "141.3\n",
      "45.0\n"
     ]
    }
   ],
   "source": [
    "def rad2deg(theta):\n",
    "    return theta*180./pi\n",
    "\n",
    "print(rad2deg(0.785))\n",
    "pi = 3.14\n",
    "print(rad2deg(0.785))"
   ]
  },
  {
   "cell_type": "code",
   "execution_count": 39,
   "metadata": {
    "slideshow": {
     "slide_type": "fragment"
    }
   },
   "outputs": [
    {
     "name": "stdout",
     "output_type": "stream",
     "text": [
      "0.785\n"
     ]
    }
   ],
   "source": [
    "def deg2rad(theta):\n",
    "    global pi\n",
    "    pi = 3.14\n",
    "    return theta * pi / 180\n",
    "\n",
    "pi = 1\n",
    "print(deg2rad(45))"
   ]
  },
  {
   "cell_type": "code",
   "execution_count": 29,
   "metadata": {
    "slideshow": {
     "slide_type": "fragment"
    }
   },
   "outputs": [
    {
     "name": "stdout",
     "output_type": "stream",
     "text": [
      "3.14\n"
     ]
    }
   ],
   "source": [
    "print(pi)"
   ]
  },
  {
   "cell_type": "markdown",
   "metadata": {
    "collapsed": true,
    "slideshow": {
     "slide_type": "slide"
    }
   },
   "source": [
    "# `enumerate` Function"
   ]
  },
  {
   "cell_type": "code",
   "execution_count": 14,
   "metadata": {
    "slideshow": {
     "slide_type": "fragment"
    }
   },
   "outputs": [
    {
     "name": "stdout",
     "output_type": "stream",
     "text": [
      "0  ---  1\n",
      "1  ---  2\n",
      "2  ---  3\n",
      "3  ---  5\n",
      "4  ---  7\n",
      "5  ---  11\n",
      "6  ---  13\n"
     ]
    }
   ],
   "source": [
    "primes =  [1,2,3,5,7,11,13]\n",
    "for idx, ele in enumerate (primes):\n",
    "    print(idx, \" --- \", ele) "
   ]
  },
  {
   "cell_type": "markdown",
   "metadata": {
    "slideshow": {
     "slide_type": "slide"
    }
   },
   "source": [
    "### Exercise: Caesar cipher\n",
    "\n",
    "In cryptography, a Caesar cipher, is one of the simplest and most widely known encryption techniques. It is a type of substitution cipher in which each letter in the plaintext is replaced by a letter some fixed number of positions down the alphabet. For example, with a left shift of 3, D would be replaced by A, E would become B, and so on. \n",
    "\n",
    "- Create a function `cipher` that take the plain text and the key value as arguments and return the encrypted text.\n",
    "- Create a funtion `plain` that take the crypted text and the key value as arguments that return the deciphered text.\n",
    "\n",
    "<button data-toggle=\"collapse\" data-target=\"#cipher\" class='btn btn-primary'>Solution with enumerate</button>\n",
    "<div id=\"cipher\" class=\"collapse\">\n",
    "```python\n",
    "alphabet = \"abcdefghijklmnopqrstuvwxyz\"\n",
    "def cipher( text, key):\n",
    "    \" Crypt text using Caesar cipher\"\n",
    "    \n",
    "    crypted_text = \"\"\n",
    "    for c in text:\n",
    "        for i, l in enumerate(alphabet):\n",
    "            if c == l:\n",
    "                crypted_text += alphabet[(i+key)%26]\n",
    "                    \n",
    "    return crypted_text\n",
    "\n",
    "def plain( text, key):\n",
    "    \" Uncrypt text using Caesar cipher\"\n",
    "    return cipher( text, -key)\n",
    "\n",
    "s = cipher(\"python\", 13)\n",
    "print( s )\n",
    "plain(s, 13)\n",
    "```"
   ]
  },
  {
   "cell_type": "code",
   "execution_count": 58,
   "metadata": {},
   "outputs": [
    {
     "data": {
      "text/plain": [
       "'caesar'"
      ]
     },
     "execution_count": 58,
     "metadata": {},
     "output_type": "execute_result"
    }
   ],
   "source": [
    "alphabet = \"abcdefghijklmnopqrstuvwxyz\"\n",
    "\n",
    "def cipher( s, shift=0):\n",
    "    crypted = \"\" # empty string\n",
    "    for c in s:\n",
    "        for i, a in enumerate(alphabet):\n",
    "            if ( c == a ):\n",
    "                crypted += alphabet[(i+shift)%26]\n",
    "    return crypted\n",
    "\n",
    "def plain( s, shift=0):\n",
    "    return cipher(s,-shift)\n",
    "\n",
    "crypted = cipher(\"caesar\",45)\n",
    "plain(crypted, 45)"
   ]
  },
  {
   "cell_type": "code",
   "execution_count": 65,
   "metadata": {},
   "outputs": [
    {
     "data": {
      "text/plain": [
       "'vtxltk'"
      ]
     },
     "execution_count": 65,
     "metadata": {},
     "output_type": "execute_result"
    }
   ],
   "source": [
    "alphabet = \"abcdefghijklmnopqrstuvwxyz\"\n",
    "\n",
    "def cipher( s, shift=0):\n",
    "    crypted = s\n",
    "    for c in s:\n",
    "        k = alphabet.index(c)\n",
    "        crypted = crypted.replace(c,alphabet[(k+shift)%26],1)\n",
    "               \n",
    "    return crypted\n",
    "\n",
    "def plain( s, shift=0):\n",
    "    return cipher(s,-shift)\n",
    "\n",
    "cipher(\"caesar\",45)\n"
   ]
  },
  {
   "cell_type": "markdown",
   "metadata": {
    "slideshow": {
     "slide_type": "slide"
    }
   },
   "source": [
    "# `zip` Builtin Function\n",
    "\n",
    "Loop over sequences simultaneously."
   ]
  },
  {
   "cell_type": "code",
   "execution_count": 66,
   "metadata": {
    "slideshow": {
     "slide_type": "fragment"
    }
   },
   "outputs": [
    {
     "name": "stdout",
     "output_type": "stream",
     "text": [
      "1 4 -- 5\n",
      "2 5 -- 7\n",
      "3 6 -- 9\n"
     ]
    }
   ],
   "source": [
    "L1 = [1, 2, 3]\n",
    "L2 = [4, 5, 6]\n",
    "\n",
    "for (x, y) in zip(L1, L2):\n",
    "    print (x, y, '--', x + y)"
   ]
  },
  {
   "cell_type": "code",
   "execution_count": 69,
   "metadata": {},
   "outputs": [
    {
     "name": "stdout",
     "output_type": "stream",
     "text": [
      "a A -- aA\n",
      "b B -- bB\n",
      "c C -- cC\n",
      "d D -- dD\n",
      "e E -- eE\n",
      "f F -- fF\n",
      "g G -- gG\n",
      "h H -- hH\n",
      "i I -- iI\n",
      "j J -- jJ\n",
      "k K -- kK\n",
      "l L -- lL\n",
      "m M -- mM\n",
      "n N -- nN\n",
      "o O -- oO\n",
      "p P -- pP\n"
     ]
    }
   ],
   "source": [
    "L1 = alphabet\n",
    "L2 = alphabet.upper()\n",
    "\n",
    "for x, y in zip(L1[:-10], L2):\n",
    "    print (x, y, '--', x + y)"
   ]
  },
  {
   "cell_type": "markdown",
   "metadata": {
    "slideshow": {
     "slide_type": "fragment"
    }
   },
   "source": [
    "L1 = alphabet\n",
    "L2 = alphabet.upper()\n",
    "\n",
    "for x, y in zip(L1[:-10], L2):\n",
    "    print (x, y, '--', x + y)"
   ]
  },
  {
   "cell_type": "markdown",
   "metadata": {
    "slideshow": {
     "slide_type": "fragment"
    }
   },
   "source": [
    "### Exercise\n",
    "\n",
    "Code a new version of your cypher function to crypt also upper case character. \n",
    "Use `zip` to loop over upper and lower case alphabets.\n",
    "\n",
    "<button data-toggle=\"collapse\" data-target=\"#cypherzip\" class='btn btn-primary'>Solution</button>\n",
    "<div id=\"cypherzip\" class=\"collapse\">\n",
    "```python\n",
    "def cipher( text, shift):\n",
    "    l_alphabet = \"abcdefghijklmnopqrstuvwxyz\"\n",
    "    u_alphabet = \"ABCDEFGHIJKLMNOPQRSTUVWXYZ\"\n",
    "    crypted_text = \"\"\n",
    "    for c in text:\n",
    "        for (i, l), u in zip(enumerate(l_alphabet),u_alphabet):\n",
    "            if c == l:\n",
    "                crypted_text += l_alphabet[(i+shift)%26]\n",
    "            elif c == u:\n",
    "                crypted_text += u_alphabet[(i+shift)%26]\n",
    "\n",
    "    return crypted_text\n",
    "\n",
    "def plain( text, shift):\n",
    "    return cipher( text, -shift)\n",
    "\n",
    "s = cipher(\"Python\", 13)\n",
    "print( s )\n",
    "plain(s, 13)\n",
    "```"
   ]
  },
  {
   "cell_type": "code",
   "execution_count": 74,
   "metadata": {},
   "outputs": [
    {
     "name": "stdout",
     "output_type": "stream",
     "text": [
      "VtxLtk\n"
     ]
    },
    {
     "data": {
      "text/plain": [
       "'CaeSar'"
      ]
     },
     "execution_count": 74,
     "metadata": {},
     "output_type": "execute_result"
    }
   ],
   "source": [
    "alphabet = \"abcdefghijklmnopqrstuvwxyz\"\n",
    "ALPHABET = alphabet.upper()\n",
    "\n",
    "def cipher( s, shift=0):\n",
    "    crypted = \"\" # empty string\n",
    "    for c in s:\n",
    "        for i, (a, A) in enumerate(zip(alphabet,ALPHABET)):\n",
    "            if a == c:\n",
    "                crypted += alphabet[(i+shift)%26]\n",
    "            elif A == c:\n",
    "                crypted += ALPHABET[(i+shift)%26]\n",
    "                \n",
    "    return crypted\n",
    "\n",
    "def plain( s, shift=0):\n",
    "    return cipher(s,-shift)\n",
    "\n",
    "crypted = cipher(\"CaeSar\",45)\n",
    "print(crypted)\n",
    "plain(crypted, 45)"
   ]
  },
  {
   "cell_type": "markdown",
   "metadata": {
    "slideshow": {
     "slide_type": "slide"
    }
   },
   "source": [
    "# List comprehension\n",
    "\n",
    "- Set or change values inside a list\n",
    "- Create list from function"
   ]
  },
  {
   "cell_type": "code",
   "execution_count": 78,
   "metadata": {
    "slideshow": {
     "slide_type": "fragment"
    }
   },
   "outputs": [
    {
     "data": {
      "text/plain": [
       "[2, 18, 16, 8]"
      ]
     },
     "execution_count": 78,
     "metadata": {},
     "output_type": "execute_result"
    }
   ],
   "source": [
    "li = [1, 9, 8, 4]\n",
    "[k*2 for k in li]"
   ]
  },
  {
   "cell_type": "code",
   "execution_count": 77,
   "metadata": {},
   "outputs": [
    {
     "data": {
      "text/plain": [
       "[2, 18, 16, 8]"
      ]
     },
     "execution_count": 77,
     "metadata": {},
     "output_type": "execute_result"
    }
   ],
   "source": [
    "lj = []\n",
    "for k in li:\n",
    "    lj.append(2*k)\n",
    "lj"
   ]
  },
  {
   "cell_type": "code",
   "execution_count": 24,
   "metadata": {
    "slideshow": {
     "slide_type": "fragment"
    }
   },
   "outputs": [
    {
     "data": {
      "text/plain": [
       "[1, 4, 9, 16, 25, 36, 49, 64, 81]"
      ]
     },
     "execution_count": 24,
     "metadata": {},
     "output_type": "execute_result"
    }
   ],
   "source": [
    "[n*n for n in range(1,10)]"
   ]
  },
  {
   "cell_type": "code",
   "execution_count": 25,
   "metadata": {
    "slideshow": {
     "slide_type": "fragment"
    }
   },
   "outputs": [
    {
     "data": {
      "text/plain": [
       "[1, 9, 25, 49, 81]"
      ]
     },
     "execution_count": 25,
     "metadata": {},
     "output_type": "execute_result"
    }
   ],
   "source": [
    "[n*n for n in range(1,10) if n&1]"
   ]
  },
  {
   "cell_type": "code",
   "execution_count": 26,
   "metadata": {
    "slideshow": {
     "slide_type": "fragment"
    }
   },
   "outputs": [
    {
     "data": {
      "text/plain": [
       "[2, 1, 4, 2, 6, 3, 8, 4, 10]"
      ]
     },
     "execution_count": 26,
     "metadata": {},
     "output_type": "execute_result"
    }
   ],
   "source": [
    "[n+1 if n&1 else n//2 for n in range(1,10) ]"
   ]
  },
  {
   "cell_type": "markdown",
   "metadata": {
    "slideshow": {
     "slide_type": "slide"
    }
   },
   "source": [
    "### Exercise\n",
    "\n",
    "Code a new version of cypher function using list comprehension. \n",
    "\n",
    "Hints: \n",
    "- `s = ''.join(L)` convert the characters list `L` into a string `s`.\n",
    "- `L.index(c)` return the index position of `c` in list `L` \n",
    "- `\"c\".islower()` and `\"C\".isupper()` return `True`"
   ]
  },
  {
   "cell_type": "code",
   "execution_count": 86,
   "metadata": {},
   "outputs": [
    {
     "data": {
      "text/plain": [
       "'caesar'"
      ]
     },
     "execution_count": 86,
     "metadata": {},
     "output_type": "execute_result"
    }
   ],
   "source": [
    "def cypher(s, shift):\n",
    "    \n",
    "    res = [ alphabet[(alphabet.index(c)+shift)%26] for i, c in enumerate(s) ]\n",
    "    \n",
    "    return \"\".join(res)\n",
    "\n",
    "def plain(s, shift):\n",
    "    \n",
    "    return cypher(s, -shift)\n",
    "\n",
    "plain(cypher(\"caesar\", 45), 45)"
   ]
  },
  {
   "cell_type": "markdown",
   "metadata": {
    "slideshow": {
     "slide_type": "fragment"
    }
   },
   "source": [
    "<button data-toggle=\"collapse\" data-target=\"#cipher2\" class='btn btn-primary'>Solution</button>\n",
    "<div id=\"cipher2\" class=\"collapse\">\n",
    "```python\n",
    "def cipher( text, key):\n",
    "    alphabet = \"abcdefghijklmnopqrstuvwxyz\"\n",
    "    ll = [alphabet[(alphabet.index(c)+key)%26] if c.islower() else c for c in text ]\n",
    "    alphabet = alphabet.upper()\n",
    "    u = [alphabet[(alphabet.index(c)+key)%26] if c.isupper() else c for c in ll ]\n",
    "    return ''.join(u)\n",
    "\n",
    "print(cipher(\"Python\", 5))\n",
    "s = cipher(\"Python\", 5)\n",
    "plain(s,5)\n",
    "```\n",
    "\n"
   ]
  },
  {
   "cell_type": "markdown",
   "metadata": {
    "slideshow": {
     "slide_type": "slide"
    }
   },
   "source": [
    "# `map` built-in function\n",
    "\n",
    "Apply a function over a sequence.\n"
   ]
  },
  {
   "cell_type": "code",
   "execution_count": 27,
   "metadata": {
    "slideshow": {
     "slide_type": "fragment"
    }
   },
   "outputs": [
    {
     "name": "stdout",
     "output_type": "stream",
     "text": [
      "<map object at 0x111abce10>\n"
     ]
    }
   ],
   "source": [
    "res = map(hex,range(16))\n",
    "print(res)"
   ]
  },
  {
   "cell_type": "markdown",
   "metadata": {
    "slideshow": {
     "slide_type": "fragment"
    }
   },
   "source": [
    "Since Python 3.x, `map` process return an iterator. Save memory, and should make things go faster.\n",
    "Display result by using unpacking operator."
   ]
  },
  {
   "cell_type": "code",
   "execution_count": 28,
   "metadata": {
    "slideshow": {
     "slide_type": "fragment"
    }
   },
   "outputs": [
    {
     "name": "stdout",
     "output_type": "stream",
     "text": [
      "0x0 0x1 0x2 0x3 0x4 0x5 0x6 0x7 0x8 0x9 0xa 0xb 0xc 0xd 0xe 0xf\n"
     ]
    }
   ],
   "source": [
    "print(*res)"
   ]
  },
  {
   "cell_type": "markdown",
   "metadata": {
    "slideshow": {
     "slide_type": "slide"
    }
   },
   "source": [
    "# `map` with user-defined function"
   ]
  },
  {
   "cell_type": "code",
   "execution_count": 87,
   "metadata": {
    "slideshow": {
     "slide_type": "fragment"
    }
   },
   "outputs": [
    {
     "name": "stdout",
     "output_type": "stream",
     "text": [
      "5 7 9\n"
     ]
    }
   ],
   "source": [
    "def add(x,y):\n",
    "    return x+y\n",
    "\n",
    "L1 = [1, 2, 3]\n",
    "L2 = [4, 5, 6]\n",
    "print(*map(add,L1,L2))"
   ]
  },
  {
   "cell_type": "code",
   "execution_count": 90,
   "metadata": {},
   "outputs": [
    {
     "name": "stdout",
     "output_type": "stream",
     "text": [
      "A L P H A B E T\n"
     ]
    }
   ],
   "source": [
    "s = \"alphabet\"\n",
    "\n",
    "res = map(lambda x: x.upper(), s )\n",
    "print(*res)"
   ]
  },
  {
   "cell_type": "markdown",
   "metadata": {
    "slideshow": {
     "slide_type": "slide"
    }
   },
   "source": [
    "### `map` is often faster than `for` loop"
   ]
  },
  {
   "cell_type": "code",
   "execution_count": 91,
   "metadata": {
    "slideshow": {
     "slide_type": "fragment"
    }
   },
   "outputs": [
    {
     "name": "stdout",
     "output_type": "stream",
     "text": [
      "236 ns ± 5.66 ns per loop (mean ± std. dev. of 7 runs, 1000000 loops each)\n"
     ]
    }
   ],
   "source": [
    "M = range(10000)\n",
    "f = lambda x: x**2\n",
    "%timeit lmap = map(f,M)"
   ]
  },
  {
   "cell_type": "code",
   "execution_count": 92,
   "metadata": {
    "slideshow": {
     "slide_type": "fragment"
    }
   },
   "outputs": [
    {
     "name": "stdout",
     "output_type": "stream",
     "text": [
      "377 ns ± 16.9 ns per loop (mean ± std. dev. of 7 runs, 1000000 loops each)\n"
     ]
    }
   ],
   "source": [
    "M = range(10000)\n",
    "f = lambda x: x**2\n",
    "%timeit lfor = (f(m) for m in M)"
   ]
  },
  {
   "cell_type": "markdown",
   "metadata": {
    "slideshow": {
     "slide_type": "slide"
    }
   },
   "source": [
    "## filter\n",
    "creates a iterator of elements for which a function returns `True`. "
   ]
  },
  {
   "cell_type": "code",
   "execution_count": 32,
   "metadata": {
    "slideshow": {
     "slide_type": "fragment"
    }
   },
   "outputs": [
    {
     "name": "stdout",
     "output_type": "stream",
     "text": [
      "-5 -3 -1 1 3\n"
     ]
    }
   ],
   "source": [
    "number_list = range(-5, 5)\n",
    "odd_numbers = filter(lambda x: x & 1 , number_list)\n",
    "print(*odd_numbers)"
   ]
  },
  {
   "cell_type": "markdown",
   "metadata": {
    "slideshow": {
     "slide_type": "slide"
    }
   },
   "source": [
    "### As `map`, `filter` is often faster than `for` loop"
   ]
  },
  {
   "cell_type": "code",
   "execution_count": 93,
   "metadata": {
    "slideshow": {
     "slide_type": "fragment"
    }
   },
   "outputs": [
    {
     "name": "stdout",
     "output_type": "stream",
     "text": [
      "198 ns ± 7.52 ns per loop (mean ± std. dev. of 7 runs, 1000000 loops each)\n"
     ]
    }
   ],
   "source": [
    "M = range(1000)\n",
    "f = lambda x: x % 3 == 0\n",
    "%timeit lmap = filter(f,M)"
   ]
  },
  {
   "cell_type": "code",
   "execution_count": 94,
   "metadata": {
    "slideshow": {
     "slide_type": "fragment"
    }
   },
   "outputs": [
    {
     "name": "stdout",
     "output_type": "stream",
     "text": [
      "375 ns ± 19.9 ns per loop (mean ± std. dev. of 7 runs, 1000000 loops each)\n"
     ]
    }
   ],
   "source": [
    "M = range(1000)\n",
    "%timeit lfor = (m for m in M if m % 3 == 0)"
   ]
  },
  {
   "cell_type": "markdown",
   "metadata": {
    "slideshow": {
     "slide_type": "slide"
    }
   },
   "source": [
    "### Exercise:\n",
    "\n",
    "Code a new version of your cypher function using map. \n",
    "\n",
    "Hints: \n",
    "- Applied function must have only one argument, create a function called `shift` with the key value and use map."
   ]
  },
  {
   "cell_type": "code",
   "execution_count": 102,
   "metadata": {},
   "outputs": [
    {
     "data": {
      "text/plain": [
       "'vtxltk'"
      ]
     },
     "execution_count": 102,
     "metadata": {},
     "output_type": "execute_result"
    }
   ],
   "source": [
    "alphabet = \"abcdefghijklmnopqrstuvwxyz\"\n",
    "def cypher(s, key):\n",
    "    \n",
    "    shift = lambda c: alphabet[(alphabet.index(c)+key)%26]\n",
    "    \n",
    "    res = map(shift,s)\n",
    "    \n",
    "    return \"\".join(res)\n",
    "\n",
    "def plain(s, shift):\n",
    "    \n",
    "    return cypher(s, -shift)\n",
    "\n",
    "cypher(\"caesar\", 45)"
   ]
  },
  {
   "cell_type": "code",
   "execution_count": 108,
   "metadata": {},
   "outputs": [
    {
     "name": "stdout",
     "output_type": "stream",
     "text": [
      "Collecting lorem\n",
      "  Using cached lorem-0.1.1-py3-none-any.whl\n",
      "Installing collected packages: lorem\n",
      "Successfully installed lorem-0.1.1\n"
     ]
    }
   ],
   "source": [
    "import sys\n",
    "!{sys.executable} -m pip install  lorem"
   ]
  },
  {
   "cell_type": "code",
   "execution_count": 115,
   "metadata": {},
   "outputs": [
    {
     "data": {
      "text/plain": [
       "'Tempora sed sit numquam. Dolore sit quaerat ut non dolor. Sit dolorem non dolorem. Adipisci est magnam eius. Modi dolore eius labore. Amet dolore dolor eius voluptatem. Quiquia etincidunt amet etincidunt ut neque etincidunt modi. Consectetur dolorem consectetur ipsum modi neque quisquam.  Velit aliquam etincidunt modi quaerat dolor. Voluptatem amet sit est quiquia dolor quisquam est. Non dolorem ut ut non. Consectetur porro neque dolore est sit quaerat ut. Quaerat dolor sed magnam sed. Dolore magnam quaerat velit tempora dolor quiquia. Quaerat aliquam velit amet. Aliquam ut numquam numquam dolore consectetur quaerat sit.  Amet modi labore velit consectetur tempora. Quisquam ut dolor sit adipisci amet. Sed est consectetur labore. Sed labore consectetur porro dolore tempora. Consectetur eius non etincidunt. Quisquam velit magnam dolor.  Dolore dolore modi quaerat quaerat adipisci tempora amet. Quiquia non adipisci est tempora eius voluptatem. Quiquia modi etincidunt quiquia tempora porro. Porro dolore non aliquam consectetur eius. Sed porro voluptatem ipsum eius consectetur velit sed. Magnam aliquam dolor modi aliquam. Ipsum est aliquam velit non. Dolorem etincidunt adipisci aliquam quisquam sed magnam porro.'"
      ]
     },
     "execution_count": 115,
     "metadata": {},
     "output_type": "execute_result"
    }
   ],
   "source": [
    "import lorem\n",
    "text = lorem.text()\n",
    "text.strip().replace(\"\\n\",\" \")"
   ]
  },
  {
   "cell_type": "code",
   "execution_count": 112,
   "metadata": {},
   "outputs": [
    {
     "data": {
      "text/plain": [
       "'OhenimtmxflxwwhehkjnbljntfxmbgvbwngmlxwIhkkhlbmvhglxvmxmnkghgJnbljntfftzgtfftzgtfghgEtuhkxwhehkxmbgvbwngmohenimtmxfnmJnbljntfwhehkftzgtflbmtwbiblvbmxfihktxlmjnbjnbtWhehkihkkhihkkhetuhkxtebjntfFhwbohenimtmxfvhglxvmxmnkvhglxvmxmnkgnfjntfmxfihktxlmGnfjntfoxebmlbmlbmlbmxlmFhwbwhehkxfihkkhwhehkmxfihktihkkhvhglxvmxmnkwhehkxfWhehkxfjnbljntftfxmwhehkxOhenimtmxfbilnfgnfjntfihkkhlxwtwbiblvbwhehkxfhwbGxjnxtwbiblvbjnbjnbtgxjnxlxwWhehkxfnmghglxwGnfjntflxwtebjntffhwbjntxktmtfxmxbnlTwbiblvbtfxmlbmwhehkOxebmmxfihktbilnfjnbjnbtOhenimtmxfxbnljnbljntfwhehkxfWhehkxbnlftzgtffhwbwhehkxftfxmOhenimtmxfxlmohenimtmxfihkkhwhehkTebjntfvhglxvmxmnkihkkhxlmtfxmbilnfOxebmnmfhwbnmjnbljntfxlmwhehkxxbnlJnbljntfwhehkxfmxfihktlxwghgtebjntfwhehkxfGnfjntfnmghgghgLbmetuhkxjntxktmwhehkxxmbgvbwngmjnbjnbtlbmtebjntfEtuhkxxlmmxfihktxmbgvbwngmlbmjntxktmMxfihktgnfjntftebjntfftzgtfOhenimtmxflxwfhwbfhwbJntxktmoxebmihkkhtfxmwhehkxfxlmwhehkxfGxjnxohenimtmxfoxebmmxfihktlbmlbmohenimtmxfjnbljntfOxebmohenimtmxftfxmtfxmbilnflxwwhehkxfGxjnxxbnlwhehkxlbmtwbiblvbohenimtmxfxlmoxebmNmgnfjntftebjntfihkkhihkkhjnbjnbtxmbgvbwngmwhehkWhehkwhehkxwhehkxetuhkxwhehkxfjnbjnbtJnbljntfihkkhtfxmtebjntfxmbgvbwngmJnbjnbtlxwtfxmxmbgvbwngmxmbgvbwngmvhglxvmxmnkohenimtmxfghgOhenimtmxfnmjnbljntfihkkhohenimtmxflxwohenimtmxflxwTebjntfftzgtfjnbljntftfxmjnbjnbtetuhkxwhehkxBilnfxmbgvbwngmoxebmghgWhehkxwhehkohenimtmxfjnbljntfBilnfxmbgvbwngmtfxmgxjnxwhehkxvhglxvmxmnkihkkhFhwbtwbiblvbwhehkxfftzgtfwhehkjnbjnbtLxwlxwoxebmftzgtfetuhkxbilnfGhgftzgtfjnbljntfbilnfmxfihktjnbjnbtTfxmnmohenimtmxfgnfjntfgnfjntfgnfjntfTfxmxbnlfhwbfhwblxwtfxmjnbljntfFhwbwhehktwbiblvboxebmjnbjnbtvhglxvmxmnknmOxebmghgbilnftwbiblvbohenimtmxfVhglxvmxmnkxbnltebjntfxbnl'"
      ]
     },
     "execution_count": 112,
     "metadata": {},
     "output_type": "execute_result"
    }
   ],
   "source": [
    "cipher(text, 45)"
   ]
  },
  {
   "cell_type": "markdown",
   "metadata": {
    "slideshow": {
     "slide_type": "fragment"
    }
   },
   "source": [
    "<button data-toggle=\"collapse\" data-target=\"#cipher3\" class='btn btn-primary'>Solution</button>\n",
    "<div id=\"cipher3\" class=\"collapse\">\n",
    "```python\n",
    "def cipher( text, key ):\n",
    "    l_alphabet = \"abcdefghijklmnopqrstuvwxyz\"\n",
    "    u_alphabet = l_alphabet.upper()\n",
    "\n",
    "    def shift( c ):\n",
    "        if c.islower():\n",
    "            return l_alphabet[(l_alphabet.index(c)+key)%26]\n",
    "        else:\n",
    "            return u_alphabet[(u_alphabet.index(c)+key)%26]\n",
    "\n",
    "    return map(shift, text)\n",
    "\n",
    "print(*cipher(\"Python\",5))\n",
    "\n",
    "def plain( text, key):\n",
    "    return cipher( text, -key)\n",
    "\n",
    "print(*plain(cipher(\"Python\",5),5))\n",
    "```"
   ]
  },
  {
   "cell_type": "markdown",
   "metadata": {
    "slideshow": {
     "slide_type": "slide"
    }
   },
   "source": [
    "# Recursive Call"
   ]
  },
  {
   "cell_type": "code",
   "execution_count": 108,
   "metadata": {
    "slideshow": {
     "slide_type": "fragment"
    }
   },
   "outputs": [
    {
     "data": {
      "text/plain": [
       "4"
      ]
     },
     "execution_count": 108,
     "metadata": {},
     "output_type": "execute_result"
    }
   ],
   "source": [
    "def gcd(x, y): \n",
    "    \"\"\" returns the greatest common divisor.\"\"\"\n",
    "    if x == 0: \n",
    "        return y\n",
    "    else : \n",
    "        return gcd(y % x, x)\n",
    "\n",
    "gcd(12,16)"
   ]
  },
  {
   "cell_type": "markdown",
   "metadata": {
    "slideshow": {
     "slide_type": "slide"
    }
   },
   "source": [
    "### Exercise: factorial\n",
    "\n",
    "- Write the function `factorial` with a recursive call\n",
    "\n",
    "<button data-toggle=\"collapse\" data-target=\"#factorial\" class='btn btn-primary'>Solution</button>\n",
    "<div id=\"factorial\" class=\"collapse\">\n",
    "```python\n",
    "def factorial(n):\n",
    "    \"\"\" Return n! \"\"\"\n",
    "    if n == 0: \n",
    "        return 1\n",
    "    else: \n",
    "        return n * factorial(n-1)\n",
    "    \n",
    "print(factorial(5))\n",
    "```\n",
    "NB: Recursion is not recommended by [Guido](http://neopythonic.blogspot.co.uk/2009/04/tail-recursion-elimination.html)."
   ]
  },
  {
   "cell_type": "code",
   "execution_count": 117,
   "metadata": {},
   "outputs": [
    {
     "data": {
      "text/plain": [
       "[0, 1, 2, 3, 4, 5, 6, 7, 8, 9]"
      ]
     },
     "execution_count": 117,
     "metadata": {},
     "output_type": "execute_result"
    }
   ],
   "source": [
    "P = list(range(10))\n",
    "P"
   ]
  },
  {
   "cell_type": "code",
   "execution_count": 121,
   "metadata": {},
   "outputs": [
    {
     "data": {
      "text/plain": [
       "[0, 1, 2, 3, 4, 5, 6, 7, 8, 9]"
      ]
     },
     "execution_count": 121,
     "metadata": {},
     "output_type": "execute_result"
    }
   ],
   "source": [
    "Q = P.copy() # P[:]\n",
    "Q[3]=0\n",
    "P"
   ]
  },
  {
   "cell_type": "code",
   "execution_count": 122,
   "metadata": {},
   "outputs": [
    {
     "data": {
      "text/plain": [
       "[0, 1, 2, 0, 4, 5, 6, 7, 8, 9]"
      ]
     },
     "execution_count": 122,
     "metadata": {},
     "output_type": "execute_result"
    }
   ],
   "source": [
    "Q"
   ]
  },
  {
   "cell_type": "markdown",
   "metadata": {
    "slideshow": {
     "slide_type": "slide"
    }
   },
   "source": [
    "### Exercise: Polynomial derivative\n",
    "- A Polynomial is represented by a Python list of its coefficients.\n",
    "    [1,5,-4] => $1+5x-4x^2$\n",
    "- Write the function diff(P,n) that return the nth derivative Q\n",
    "- Don't use any external package 😉\n",
    "```\n",
    "diff([3,2,1,5,7],2) = [2, 30, 84]\n",
    "diff([-6,5,-3,-4,3,-4],3) = [-24, 72, -240]\n",
    "```\n",
    "\n",
    "<button data-toggle=\"collapse\" data-target=\"#polynom\" class='btn btn-primary'>Solution</button>\n",
    "<div id=\"polynom\" class=\"collapse\">\n",
    "```python\n",
    "def diff(P, n):\n",
    "    \"\"\" Return the nth derivative of polynom P \"\"\"\n",
    "    if n == 0:\n",
    "        return P\n",
    "    else:\n",
    "        return diff([i * P[i] for i in range(1,len(P))], n-1)\n",
    "\n",
    "\n",
    "print(diff([3,2,1,5,7],2))\n",
    "print(diff([-6,5,-3,-4,3,-4],3))\n",
    "```"
   ]
  },
  {
   "cell_type": "code",
   "execution_count": 159,
   "metadata": {},
   "outputs": [
    {
     "data": {
      "text/latex": [
       "$$+2x^0$$"
      ],
      "text/plain": [
       "<IPython.core.display.Math object>"
      ]
     },
     "metadata": {},
     "output_type": "display_data"
    },
    {
     "data": {
      "text/latex": [
       "$$+2x^1$$"
      ],
      "text/plain": [
       "<IPython.core.display.Math object>"
      ]
     },
     "metadata": {},
     "output_type": "display_data"
    },
    {
     "data": {
      "text/latex": [
       "$$+15x^2$$"
      ],
      "text/plain": [
       "<IPython.core.display.Math object>"
      ]
     },
     "metadata": {},
     "output_type": "display_data"
    },
    {
     "data": {
      "text/latex": [
       "$$+28x^3$$"
      ],
      "text/plain": [
       "<IPython.core.display.Math object>"
      ]
     },
     "metadata": {},
     "output_type": "display_data"
    },
    {
     "data": {
      "text/latex": [
       "$$+2x^0$$"
      ],
      "text/plain": [
       "<IPython.core.display.Math object>"
      ]
     },
     "metadata": {},
     "output_type": "display_data"
    },
    {
     "data": {
      "text/latex": [
       "$$+30x^1$$"
      ],
      "text/plain": [
       "<IPython.core.display.Math object>"
      ]
     },
     "metadata": {},
     "output_type": "display_data"
    },
    {
     "data": {
      "text/latex": [
       "$$+84x^2$$"
      ],
      "text/plain": [
       "<IPython.core.display.Math object>"
      ]
     },
     "metadata": {},
     "output_type": "display_data"
    },
    {
     "data": {
      "text/latex": [
       "$$+30x^0$$"
      ],
      "text/plain": [
       "<IPython.core.display.Math object>"
      ]
     },
     "metadata": {},
     "output_type": "display_data"
    },
    {
     "data": {
      "text/latex": [
       "$$+168x^1$$"
      ],
      "text/plain": [
       "<IPython.core.display.Math object>"
      ]
     },
     "metadata": {},
     "output_type": "display_data"
    },
    {
     "data": {
      "text/plain": [
       "[30, 168]"
      ]
     },
     "execution_count": 159,
     "metadata": {},
     "output_type": "execute_result"
    }
   ],
   "source": [
    "P = [3,2,1,5,7]\n",
    "from IPython.display import display, Math\n",
    "\n",
    "def diff(P, n):\n",
    "    \n",
    "    if n == 0:\n",
    "        return P\n",
    "    else:\n",
    "        degree = len(P)-1\n",
    "        Q = [ (i+1)*P[i+1] for i in range(degree)]\n",
    "        for i, c in enumerate(Q):\n",
    "            display(Math(\"{0:+d}x^{1}\".format(c,i)))\n",
    "        return diff(Q,n-1)\n",
    "        \n",
    "\n",
    "diff(P,3)"
   ]
  },
  {
   "cell_type": "code",
   "execution_count": 144,
   "metadata": {},
   "outputs": [
    {
     "data": {
      "text/plain": [
       "[0, 3, 2, 1]"
      ]
     },
     "execution_count": 144,
     "metadata": {},
     "output_type": "execute_result"
    }
   ],
   "source": [
    "n = 1230\n",
    "\n",
    "tmp = list(str(n)[::-1])\n",
    "tmp = [int(d) for d in tmp]\n",
    "tmp"
   ]
  },
  {
   "cell_type": "markdown",
   "metadata": {},
   "source": [
    "### Exercise: [non-palindromic skinny numbers](https://oeis.org/A035123)\n",
    "\n",
    "non-palindromic squares remaining square when written backwards\n",
    "\n",
    "$$\n",
    "\\begin{array}{lclclcl}\n",
    "10^2  &=& 100   &\\qquad& 01^2  &=& 001 \\\\\n",
    "13^2  &=& 169   &\\qquad& 31^2  &=& 961 \\\\\n",
    "102^2 &=& 10404 &\\qquad& 201^2 &=& 40401\n",
    "\\end{array}\n",
    "$$\n",
    "<button data-toggle=\"collapse\" data-target=\"#skinny\" class='btn btn-primary'>Solution</button>\n",
    "<div id=\"skinny\" class=\"collapse\">\n",
    "```python\n",
    "    def reverse(n):\n",
    "    return int(str(n)[::-1])\n",
    "\n",
    "def skinny(N):\n",
    "    for n in range(10,N):\n",
    "        if reverse(n**2)==reverse(n)**2 and n != reverse(n):\n",
    "\n",
    "skinny(200)\n",
    "```"
   ]
  },
  {
   "cell_type": "markdown",
   "metadata": {
    "slideshow": {
     "slide_type": "slide"
    }
   },
   "source": [
    "### Exercise: Narcissistic number\n",
    "\n",
    "A  number is narcissistic if the sum of its own digits each raised to the power of the number of digits. \n",
    "\n",
    "Example : $4150 = 4^5 + 1^5 + 5^5 + 0^5$ or $153 = 1^3 + 5^3 + 3^3$\n",
    "\n",
    "Find narcissitic numbers with 3 digits\n",
    "\n",
    "\n",
    "<button data-toggle=\"collapse\" data-target=\"#narcissitic\" class='btn btn-primary'>Solution</button>\n",
    "<div id=\"narcissitic\" class=\"collapse\">\n",
    "```python\n",
    "\n",
    "def narcissitic(n):\n",
    "    \"\"\"\n",
    "    Return True if n is a narcissitic number with 3 digits \"\"\"\n",
    "    assert  len(str(n)) == 3  # check if n contains 3 digits \n",
    "    s = 0\n",
    "    tmp = n\n",
    "    while tmp > 0:\n",
    "        d = tmp % 10\n",
    "        s += d ** 3\n",
    "        tmp //= 10\n",
    "    if s == n :\n",
    "        return True\n",
    "    else:\n",
    "        return False\n",
    "    \n",
    "%time print([n for n in range(100,1000) if narcissitic(n)])\n",
    "```\n",
    "    "
   ]
  },
  {
   "cell_type": "markdown",
   "metadata": {},
   "source": [
    "### Exercise: Happy number\n",
    "\n",
    "- Given a number $n = n_0$, define a sequence $n_1, n_2,\\ldots$ where \n",
    "    $n_{{i+1}}$ is the sum of the squares of the digits of $n_{i}$. \n",
    "    Then $n$ is happy if and only if there exists i such that $n_{i}=1$.\n",
    "\n",
    "For example, 19 is happy, as the associated sequence is:\n",
    "$$\n",
    "\\begin{array}{cccccl}\n",
    "1^2 &+& 9^2 & &     &=& 82 \\\\\n",
    "8^2 &+& 2^2 & &     &=& 68 \\\\\n",
    "6^2 &+& 8^2 & &     &=& 100 \\\\\n",
    "1^2 &+& 0^2 &+& 0^2 &=& 1\n",
    "\\end{array}\n",
    "$$\n",
    "- Write a function `ishappy(n)` that returns True if `n` is happy.\n",
    "- Write a function `happy(n)` that returns a list with all happy numbers < $n$.\n",
    "\n",
    "```python\n",
    "happy(100) = [1, 7, 10, 13, 19, 23, 28, 31, 32, 44, 49, 68, 70, 79, 82, 86, 91, 94, 97]\n",
    "```\n",
    "\n",
    "<button data-toggle=\"collapse\" data-target=\"#happy\" class='btn btn-primary'>Solution</button>\n",
    "<div id=\"happy\" class=\"collapse\">\n",
    "```python\n",
    "def is_happy(n):\n",
    "    \" Check if a number is happy \"\n",
    "\tunhappy_list = []\n",
    "\twhile True:\n",
    "\t\tr = 0\n",
    "\t\tfor d in str(n):\n",
    "\t\t\tr += int(d) * int(d)\n",
    "\t\tif r == 1:\n",
    "\t\t\treturn True\n",
    "\t\telif r in unhappy_list: # If a member of its sequence is unhappy\n",
    "\t\t\treturn False      # then the number is unhappy\n",
    "\t\tunhappy_list.append(r)\n",
    "\t\tn = r\n",
    "\n",
    "def happy(n):\n",
    "    \"Return happy numbers < n\"\n",
    "    return [i for i in range(1,n) if is_happy(i)]\n",
    "\n",
    "\n",
    "happy(100)\n",
    "```"
   ]
  }
 ],
 "metadata": {
  "celltoolbar": "Slideshow",
  "kernelspec": {
   "display_name": "Python 3",
   "language": "python",
   "name": "python3"
  },
  "language_info": {
   "codemirror_mode": {
    "name": "ipython",
    "version": 3
   },
   "file_extension": ".py",
   "mimetype": "text/x-python",
   "name": "python",
   "nbconvert_exporter": "python",
   "pygments_lexer": "ipython3",
   "version": "3.6.5"
  }
 },
 "nbformat": 4,
 "nbformat_minor": 1
}
