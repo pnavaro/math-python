{
 "cells": [
  {
   "cell_type": "code",
   "execution_count": 184,
   "metadata": {},
   "outputs": [],
   "source": [
    "import numpy as np\n",
    "\n",
    "with open('data/IRMAR-2017-2018.txt') as f:\n",
    "    data = f.readlines()\n",
    "\n",
    "org_catalog = ['AGRO', 'INSA', 'R1', 'R2', 'INRIA', 'EXT', 'ENS', 'CNRS']\n",
    "pos_catalog = ['PR', 'CR', 'DOC', 'MC', 'DR', 'MC-HDR', 'CR-HDR', 'PE',\n",
    "               'PDOC', 'ADMG', 'TC', 'IR', 'IE', 'AI', 'AGPREP', 'ATER,DOC',\n",
    "               'ADMG', 'ADM-UFR', 'PRAG', 'CH', 'ADMP', 'CH-HDR', 'ATER', 'LOG']\n",
    "\n",
    "names, phones, offices, orgs, positions, teams = [], [], [], [], [], []\n",
    "for m, line in enumerate(data):\n",
    "\n",
    "    member = line.strip()\n",
    "    i = member.index('+')\n",
    "    name = member[:i]\n",
    "    names.append(name)\n",
    "    phones.append(member[i:i+17].replace(' ',''))\n",
    "    remind = member[i+17:].split()\n",
    "    office = 'NA'\n",
    "    organization = 'R1'\n",
    "    team = ['NA']\n",
    "\n",
    "    # office\n",
    "    if remind[0].isdigit() or '/' in remind[0]:\n",
    "        offices.append(remind[0])\n",
    "        office = remind[0]\n",
    "        remind.pop(0)\n",
    "    else:\n",
    "        offices.append('NA')\n",
    "\n",
    "    # organization\n",
    "    if len(remind) > 0 and remind[0] in org_catalog:\n",
    "        orgs.append(remind[0])\n",
    "        organization = remind[0]\n",
    "        remind.pop(0)\n",
    "    else:\n",
    "        orgs.append('R1')\n",
    "\n",
    "    # position\n",
    "    if len(remind) > 0 and remind[0] in pos_catalog:\n",
    "        positions.append(remind[0])\n",
    "        position = remind[0]\n",
    "        remind.pop(0)\n",
    "    else:\n",
    "        position = 'NA'\n",
    "        positions.append('NA')\n",
    "\n",
    "    # team\n",
    "    if len(remind) > 0:\n",
    "        team = remind[-1].split(',')\n",
    "        if len(team) == 2:\n",
    "            teams.append(tuple(team))\n",
    "        else:\n",
    "            teams.append(tuple(team+['NA']))\n",
    "    else:\n",
    "        teams.append(('ADM','NA'))\n",
    "\n",
    "irmar = np.zeros(len(data),\n",
    "dtype={'names': ['name', 'phone', 'office', 'organization', 'position', 'hdr', 'team1', 'team2'],\n",
    "       'formats': ['U30', 'U17', 'U7', 'U5', 'U6', '?', 'U9', 'U9']})"
   ]
  },
  {
   "cell_type": "code",
   "execution_count": 185,
   "metadata": {},
   "outputs": [],
   "source": [
    "irmar['name'] = names\n",
    "irmar['phone'] = phones\n",
    "irmar['office'] = offices\n",
    "irmar['organization'] = orgs\n",
    "\n",
    "def _hdr(position):\n",
    "    return any(x in position for x in ['HDR','PR','DR','PE'])\n",
    "    \n",
    "irmar['hdr'] = [ _hdr(position) for position in positions]\n",
    "irmar['position'] = [position.replace('-HDR','') for position in positions]\n",
    "irmar['team1'] = [team[0] for team in teams]\n",
    "irmar['team2'] = [team[1] for team in teams]"
   ]
  },
  {
   "cell_type": "code",
   "execution_count": 186,
   "metadata": {},
   "outputs": [],
   "source": [
    "import pandas as pd\n",
    "df = pd.DataFrame(irmar)\n",
    "df['position'] = df.position.astype('category')\n",
    "df['team1'] = df.team1.astype('category')\n",
    "df['team2'] = df.team2.astype('category')\n",
    "df['organization'] = df.organization.astype('category')\n",
    "df['hdr'] = df.hdr.astype('bool')"
   ]
  },
  {
   "cell_type": "markdown",
   "metadata": {},
   "source": [
    "- Combien d'enseignants-chercheurs habilités à diriger des recherches ?"
   ]
  },
  {
   "cell_type": "code",
   "execution_count": 187,
   "metadata": {},
   "outputs": [
    {
     "data": {
      "text/plain": [
       "103"
      ]
     },
     "execution_count": 187,
     "metadata": {},
     "output_type": "execute_result"
    }
   ],
   "source": [
    "len(df[df.hdr])"
   ]
  },
  {
   "cell_type": "markdown",
   "metadata": {},
   "source": [
    "- Combien d'enseignants-chercheurs de Rennes 1 ?"
   ]
  },
  {
   "cell_type": "code",
   "execution_count": 188,
   "metadata": {},
   "outputs": [
    {
     "data": {
      "text/plain": [
       "11"
      ]
     },
     "execution_count": 188,
     "metadata": {},
     "output_type": "execute_result"
    }
   ],
   "source": [
    "len(df[df.organization == 'R2'])"
   ]
  },
  {
   "cell_type": "code",
   "execution_count": 202,
   "metadata": {},
   "outputs": [
    {
     "data": {
      "text/html": [
       "<div>\n",
       "<style scoped>\n",
       "    .dataframe tbody tr th:only-of-type {\n",
       "        vertical-align: middle;\n",
       "    }\n",
       "\n",
       "    .dataframe tbody tr th {\n",
       "        vertical-align: top;\n",
       "    }\n",
       "\n",
       "    .dataframe thead th {\n",
       "        text-align: right;\n",
       "    }\n",
       "</style>\n",
       "<table border=\"1\" class=\"dataframe\">\n",
       "  <thead>\n",
       "    <tr style=\"text-align: right;\">\n",
       "      <th></th>\n",
       "      <th>name</th>\n",
       "      <th>phone</th>\n",
       "      <th>office</th>\n",
       "      <th>organization</th>\n",
       "      <th>position</th>\n",
       "      <th>hdr</th>\n",
       "      <th>team1</th>\n",
       "      <th>team2</th>\n",
       "    </tr>\n",
       "  </thead>\n",
       "  <tbody>\n",
       "    <tr>\n",
       "      <th>142</th>\n",
       "      <td>Le Guevel Ronan</td>\n",
       "      <td>+33299141800</td>\n",
       "      <td>NA</td>\n",
       "      <td>R2</td>\n",
       "      <td>MC</td>\n",
       "      <td>False</td>\n",
       "      <td>PROC-STOC</td>\n",
       "      <td>STAT</td>\n",
       "    </tr>\n",
       "  </tbody>\n",
       "</table>\n",
       "</div>"
      ],
      "text/plain": [
       "                 name         phone office organization position    hdr  \\\n",
       "142  Le Guevel Ronan   +33299141800     NA           R2       MC  False   \n",
       "\n",
       "         team1 team2  \n",
       "142  PROC-STOC  STAT  "
      ]
     },
     "execution_count": 202,
     "metadata": {},
     "output_type": "execute_result"
    }
   ],
   "source": [
    "df.loc[df['name'].str.contains(\"Guevel\")]"
   ]
  },
  {
   "cell_type": "markdown",
   "metadata": {},
   "source": [
    "- Liste des MC de STATS"
   ]
  },
  {
   "cell_type": "code",
   "execution_count": 204,
   "metadata": {},
   "outputs": [
    {
     "data": {
      "text/html": [
       "<div>\n",
       "<style scoped>\n",
       "    .dataframe tbody tr th:only-of-type {\n",
       "        vertical-align: middle;\n",
       "    }\n",
       "\n",
       "    .dataframe tbody tr th {\n",
       "        vertical-align: top;\n",
       "    }\n",
       "\n",
       "    .dataframe thead th {\n",
       "        text-align: right;\n",
       "    }\n",
       "</style>\n",
       "<table border=\"1\" class=\"dataframe\">\n",
       "  <thead>\n",
       "    <tr style=\"text-align: right;\">\n",
       "      <th></th>\n",
       "      <th>name</th>\n",
       "      <th>phone</th>\n",
       "      <th>office</th>\n",
       "      <th>organization</th>\n",
       "      <th>position</th>\n",
       "      <th>hdr</th>\n",
       "      <th>team1</th>\n",
       "      <th>team2</th>\n",
       "    </tr>\n",
       "  </thead>\n",
       "  <tbody>\n",
       "    <tr>\n",
       "      <th>17</th>\n",
       "      <td>Bennani-Dosse Mohammed</td>\n",
       "      <td>+33299141796</td>\n",
       "      <td>NA</td>\n",
       "      <td>R2</td>\n",
       "      <td>MC</td>\n",
       "      <td>False</td>\n",
       "      <td>STAT</td>\n",
       "      <td>NA</td>\n",
       "    </tr>\n",
       "    <tr>\n",
       "      <th>42</th>\n",
       "      <td>Chagneau Pierrette</td>\n",
       "      <td>+33223238528</td>\n",
       "      <td>NA</td>\n",
       "      <td>INSA</td>\n",
       "      <td>MC</td>\n",
       "      <td>False</td>\n",
       "      <td>STAT</td>\n",
       "      <td>NA</td>\n",
       "    </tr>\n",
       "    <tr>\n",
       "      <th>46</th>\n",
       "      <td>Chauvet Guillaume</td>\n",
       "      <td>+33299053233</td>\n",
       "      <td>NA</td>\n",
       "      <td>R1</td>\n",
       "      <td>MC</td>\n",
       "      <td>True</td>\n",
       "      <td>STAT</td>\n",
       "      <td>NA</td>\n",
       "    </tr>\n",
       "    <tr>\n",
       "      <th>55</th>\n",
       "      <td>Cornillon Pierre-André</td>\n",
       "      <td>+33299141819</td>\n",
       "      <td>NA</td>\n",
       "      <td>R2</td>\n",
       "      <td>MC</td>\n",
       "      <td>False</td>\n",
       "      <td>STAT</td>\n",
       "      <td>NA</td>\n",
       "    </tr>\n",
       "    <tr>\n",
       "      <th>83</th>\n",
       "      <td>Emily Mathieu</td>\n",
       "      <td>+33299141807</td>\n",
       "      <td>121</td>\n",
       "      <td>R1</td>\n",
       "      <td>MC</td>\n",
       "      <td>True</td>\n",
       "      <td>STAT</td>\n",
       "      <td>NA</td>\n",
       "    </tr>\n",
       "    <tr>\n",
       "      <th>85</th>\n",
       "      <td>Etienne Marie-Pierre</td>\n",
       "      <td>+33223485874</td>\n",
       "      <td>NA</td>\n",
       "      <td>R1</td>\n",
       "      <td>MC</td>\n",
       "      <td>False</td>\n",
       "      <td>STAT</td>\n",
       "      <td>NA</td>\n",
       "    </tr>\n",
       "    <tr>\n",
       "      <th>93</th>\n",
       "      <td>Gares Valérie</td>\n",
       "      <td>+33223238948</td>\n",
       "      <td>NA</td>\n",
       "      <td>INSA</td>\n",
       "      <td>MC</td>\n",
       "      <td>False</td>\n",
       "      <td>STAT</td>\n",
       "      <td>NA</td>\n",
       "    </tr>\n",
       "    <tr>\n",
       "      <th>96</th>\n",
       "      <td>Giacofci Joyce Madison</td>\n",
       "      <td>+33299141800</td>\n",
       "      <td>NA</td>\n",
       "      <td>R2</td>\n",
       "      <td>MC</td>\n",
       "      <td>False</td>\n",
       "      <td>STAT</td>\n",
       "      <td>NA</td>\n",
       "    </tr>\n",
       "    <tr>\n",
       "      <th>130</th>\n",
       "      <td>Klutchnikoff Nicolas</td>\n",
       "      <td>+33299141819</td>\n",
       "      <td>NA</td>\n",
       "      <td>R2</td>\n",
       "      <td>MC</td>\n",
       "      <td>False</td>\n",
       "      <td>STAT</td>\n",
       "      <td>NA</td>\n",
       "    </tr>\n",
       "    <tr>\n",
       "      <th>131</th>\n",
       "      <td>Krell Nathalie</td>\n",
       "      <td>+33223236000</td>\n",
       "      <td>305</td>\n",
       "      <td>R1</td>\n",
       "      <td>MC</td>\n",
       "      <td>False</td>\n",
       "      <td>STAT</td>\n",
       "      <td>NA</td>\n",
       "    </tr>\n",
       "    <tr>\n",
       "      <th>135</th>\n",
       "      <td>Le Sébastien</td>\n",
       "      <td>+33223485887</td>\n",
       "      <td>NA</td>\n",
       "      <td>AGRO</td>\n",
       "      <td>MC</td>\n",
       "      <td>False</td>\n",
       "      <td>STAT</td>\n",
       "      <td>NA</td>\n",
       "    </tr>\n",
       "    <tr>\n",
       "      <th>142</th>\n",
       "      <td>Le Guevel Ronan</td>\n",
       "      <td>+33299141800</td>\n",
       "      <td>NA</td>\n",
       "      <td>R2</td>\n",
       "      <td>MC</td>\n",
       "      <td>False</td>\n",
       "      <td>PROC-STOC</td>\n",
       "      <td>STAT</td>\n",
       "    </tr>\n",
       "    <tr>\n",
       "      <th>172</th>\n",
       "      <td>Mom Alain</td>\n",
       "      <td>+33299141808</td>\n",
       "      <td>NA</td>\n",
       "      <td>R2</td>\n",
       "      <td>MC</td>\n",
       "      <td>False</td>\n",
       "      <td>STAT</td>\n",
       "      <td>NA</td>\n",
       "    </tr>\n",
       "    <tr>\n",
       "      <th>218</th>\n",
       "      <td>Rouviere Laurent</td>\n",
       "      <td>+33299141804</td>\n",
       "      <td>NA</td>\n",
       "      <td>R2</td>\n",
       "      <td>MC</td>\n",
       "      <td>False</td>\n",
       "      <td>STAT</td>\n",
       "      <td>NA</td>\n",
       "    </tr>\n",
       "    <tr>\n",
       "      <th>231</th>\n",
       "      <td>Truquet Lionel</td>\n",
       "      <td>+33223236670</td>\n",
       "      <td>NA</td>\n",
       "      <td>R1</td>\n",
       "      <td>MC</td>\n",
       "      <td>False</td>\n",
       "      <td>STAT</td>\n",
       "      <td>NA</td>\n",
       "    </tr>\n",
       "  </tbody>\n",
       "</table>\n",
       "</div>"
      ],
      "text/plain": [
       "                        name         phone office organization position  \\\n",
       "17   Bennani-Dosse Mohammed   +33299141796     NA           R2       MC   \n",
       "42       Chagneau Pierrette   +33223238528     NA         INSA       MC   \n",
       "46        Chauvet Guillaume   +33299053233     NA           R1       MC   \n",
       "55   Cornillon Pierre-André   +33299141819     NA           R2       MC   \n",
       "83            Emily Mathieu   +33299141807    121           R1       MC   \n",
       "85     Etienne Marie-Pierre   +33223485874     NA           R1       MC   \n",
       "93            Gares Valérie   +33223238948     NA         INSA       MC   \n",
       "96   Giacofci Joyce Madison   +33299141800     NA           R2       MC   \n",
       "130    Klutchnikoff Nicolas   +33299141819     NA           R2       MC   \n",
       "131          Krell Nathalie   +33223236000    305           R1       MC   \n",
       "135            Le Sébastien   +33223485887     NA         AGRO       MC   \n",
       "142         Le Guevel Ronan   +33299141800     NA           R2       MC   \n",
       "172               Mom Alain   +33299141808     NA           R2       MC   \n",
       "218        Rouviere Laurent   +33299141804     NA           R2       MC   \n",
       "231          Truquet Lionel   +33223236670     NA           R1       MC   \n",
       "\n",
       "       hdr      team1 team2  \n",
       "17   False       STAT    NA  \n",
       "42   False       STAT    NA  \n",
       "46    True       STAT    NA  \n",
       "55   False       STAT    NA  \n",
       "83    True       STAT    NA  \n",
       "85   False       STAT    NA  \n",
       "93   False       STAT    NA  \n",
       "96   False       STAT    NA  \n",
       "130  False       STAT    NA  \n",
       "131  False       STAT    NA  \n",
       "135  False       STAT    NA  \n",
       "142  False  PROC-STOC  STAT  \n",
       "172  False       STAT    NA  \n",
       "218  False       STAT    NA  \n",
       "231  False       STAT    NA  "
      ]
     },
     "execution_count": 204,
     "metadata": {},
     "output_type": "execute_result"
    }
   ],
   "source": [
    "df.loc[df.position == 'MC'].loc[(df.team1 == 'STAT') | (df.team2 == 'STAT')]"
   ]
  },
  {
   "cell_type": "code",
   "execution_count": 239,
   "metadata": {},
   "outputs": [
    {
     "data": {
      "text/plain": [
       "56.59340659340659"
      ]
     },
     "execution_count": 239,
     "metadata": {},
     "output_type": "execute_result"
    }
   ],
   "source": [
    "df.loc[df.position != 'DOC'].hdr.sum()/df.loc[df.position != 'DOC'].hdr.count()*100"
   ]
  },
  {
   "cell_type": "code",
   "execution_count": 241,
   "metadata": {},
   "outputs": [
    {
     "data": {
      "text/plain": [
       "0         DOC\n",
       "1          MC\n",
       "2         DOC\n",
       "3          MC\n",
       "4          MC\n",
       "5          PR\n",
       "6          MC\n",
       "7          MC\n",
       "8          CR\n",
       "9          PR\n",
       "10         PR\n",
       "11         MC\n",
       "12        DOC\n",
       "13        DOC\n",
       "14         MC\n",
       "15        DOC\n",
       "16         PR\n",
       "17         MC\n",
       "18        DOC\n",
       "19         PE\n",
       "20        DOC\n",
       "21        DOC\n",
       "22         CR\n",
       "23         MC\n",
       "24         MC\n",
       "25         MC\n",
       "26        DOC\n",
       "27         PR\n",
       "28         PR\n",
       "29         PR\n",
       "        ...  \n",
       "214       DOC\n",
       "215       DOC\n",
       "216        TC\n",
       "217        CR\n",
       "218        MC\n",
       "219        PE\n",
       "220        MC\n",
       "221        PR\n",
       "222        PR\n",
       "223        PR\n",
       "224      PRAG\n",
       "225        DR\n",
       "226        MC\n",
       "227        MC\n",
       "228      PDOC\n",
       "229       DOC\n",
       "230        MC\n",
       "231        MC\n",
       "232       DOC\n",
       "233        PR\n",
       "234       LOG\n",
       "235      ADMG\n",
       "236        MC\n",
       "237       DOC\n",
       "238        PR\n",
       "239        MC\n",
       "240        CR\n",
       "241        PE\n",
       "242       DOC\n",
       "243    ATER,D\n",
       "Name: position, Length: 244, dtype: category\n",
       "Categories (20, object): [ADM-UF, ADMG, ADMP, AGPREP, ..., PE, PR, PRAG, TC]"
      ]
     },
     "execution_count": 241,
     "metadata": {},
     "output_type": "execute_result"
    }
   ],
   "source": [
    "df.position"
   ]
  },
  {
   "cell_type": "code",
   "execution_count": 252,
   "metadata": {},
   "outputs": [],
   "source": [
    "res = pd.DataFrame()\n",
    "for position in ['DOC','PR','MC','CR','DR']:\n",
    "    res[position] = df.loc[df.position == position].groupby('team1').name.count()"
   ]
  },
  {
   "cell_type": "code",
   "execution_count": 266,
   "metadata": {},
   "outputs": [
    {
     "ename": "ValueError",
     "evalue": "labels ['INFO' 'IREM' 'BIBLI' 'ADM'] not contained in axis",
     "output_type": "error",
     "traceback": [
      "\u001b[0;31m---------------------------------------------------------------------------\u001b[0m",
      "\u001b[0;31mValueError\u001b[0m                                Traceback (most recent call last)",
      "\u001b[0;32m<ipython-input-266-bdae60902377>\u001b[0m in \u001b[0;36m<module>\u001b[0;34m()\u001b[0m\n\u001b[0;32m----> 1\u001b[0;31m \u001b[0mres\u001b[0m \u001b[0;34m=\u001b[0m \u001b[0mres\u001b[0m\u001b[0;34m.\u001b[0m\u001b[0mdrop\u001b[0m\u001b[0;34m(\u001b[0m\u001b[0;34m[\u001b[0m\u001b[0;34m'INFO'\u001b[0m\u001b[0;34m,\u001b[0m\u001b[0;34m'IREM'\u001b[0m\u001b[0;34m,\u001b[0m\u001b[0;34m'BIBLI'\u001b[0m\u001b[0;34m,\u001b[0m\u001b[0;34m'ADM'\u001b[0m\u001b[0;34m]\u001b[0m\u001b[0;34m)\u001b[0m\u001b[0;34m\u001b[0m\u001b[0m\n\u001b[0m",
      "\u001b[0;32m/usr/local/lib/python3.6/site-packages/pandas/core/generic.py\u001b[0m in \u001b[0;36mdrop\u001b[0;34m(self, labels, axis, index, columns, level, inplace, errors)\u001b[0m\n\u001b[1;32m   2528\u001b[0m         \u001b[0;32mfor\u001b[0m \u001b[0maxis\u001b[0m\u001b[0;34m,\u001b[0m \u001b[0mlabels\u001b[0m \u001b[0;32min\u001b[0m \u001b[0maxes\u001b[0m\u001b[0;34m.\u001b[0m\u001b[0mitems\u001b[0m\u001b[0;34m(\u001b[0m\u001b[0;34m)\u001b[0m\u001b[0;34m:\u001b[0m\u001b[0;34m\u001b[0m\u001b[0m\n\u001b[1;32m   2529\u001b[0m             \u001b[0;32mif\u001b[0m \u001b[0mlabels\u001b[0m \u001b[0;32mis\u001b[0m \u001b[0;32mnot\u001b[0m \u001b[0;32mNone\u001b[0m\u001b[0;34m:\u001b[0m\u001b[0;34m\u001b[0m\u001b[0m\n\u001b[0;32m-> 2530\u001b[0;31m                 \u001b[0mobj\u001b[0m \u001b[0;34m=\u001b[0m \u001b[0mobj\u001b[0m\u001b[0;34m.\u001b[0m\u001b[0m_drop_axis\u001b[0m\u001b[0;34m(\u001b[0m\u001b[0mlabels\u001b[0m\u001b[0;34m,\u001b[0m \u001b[0maxis\u001b[0m\u001b[0;34m,\u001b[0m \u001b[0mlevel\u001b[0m\u001b[0;34m=\u001b[0m\u001b[0mlevel\u001b[0m\u001b[0;34m,\u001b[0m \u001b[0merrors\u001b[0m\u001b[0;34m=\u001b[0m\u001b[0merrors\u001b[0m\u001b[0;34m)\u001b[0m\u001b[0;34m\u001b[0m\u001b[0m\n\u001b[0m\u001b[1;32m   2531\u001b[0m \u001b[0;34m\u001b[0m\u001b[0m\n\u001b[1;32m   2532\u001b[0m         \u001b[0;32mif\u001b[0m \u001b[0minplace\u001b[0m\u001b[0;34m:\u001b[0m\u001b[0;34m\u001b[0m\u001b[0m\n",
      "\u001b[0;32m/usr/local/lib/python3.6/site-packages/pandas/core/generic.py\u001b[0m in \u001b[0;36m_drop_axis\u001b[0;34m(self, labels, axis, level, errors)\u001b[0m\n\u001b[1;32m   2560\u001b[0m                 \u001b[0mnew_axis\u001b[0m \u001b[0;34m=\u001b[0m \u001b[0maxis\u001b[0m\u001b[0;34m.\u001b[0m\u001b[0mdrop\u001b[0m\u001b[0;34m(\u001b[0m\u001b[0mlabels\u001b[0m\u001b[0;34m,\u001b[0m \u001b[0mlevel\u001b[0m\u001b[0;34m=\u001b[0m\u001b[0mlevel\u001b[0m\u001b[0;34m,\u001b[0m \u001b[0merrors\u001b[0m\u001b[0;34m=\u001b[0m\u001b[0merrors\u001b[0m\u001b[0;34m)\u001b[0m\u001b[0;34m\u001b[0m\u001b[0m\n\u001b[1;32m   2561\u001b[0m             \u001b[0;32melse\u001b[0m\u001b[0;34m:\u001b[0m\u001b[0;34m\u001b[0m\u001b[0m\n\u001b[0;32m-> 2562\u001b[0;31m                 \u001b[0mnew_axis\u001b[0m \u001b[0;34m=\u001b[0m \u001b[0maxis\u001b[0m\u001b[0;34m.\u001b[0m\u001b[0mdrop\u001b[0m\u001b[0;34m(\u001b[0m\u001b[0mlabels\u001b[0m\u001b[0;34m,\u001b[0m \u001b[0merrors\u001b[0m\u001b[0;34m=\u001b[0m\u001b[0merrors\u001b[0m\u001b[0;34m)\u001b[0m\u001b[0;34m\u001b[0m\u001b[0m\n\u001b[0m\u001b[1;32m   2563\u001b[0m             \u001b[0mdropped\u001b[0m \u001b[0;34m=\u001b[0m \u001b[0mself\u001b[0m\u001b[0;34m.\u001b[0m\u001b[0mreindex\u001b[0m\u001b[0;34m(\u001b[0m\u001b[0;34m**\u001b[0m\u001b[0;34m{\u001b[0m\u001b[0maxis_name\u001b[0m\u001b[0;34m:\u001b[0m \u001b[0mnew_axis\u001b[0m\u001b[0;34m}\u001b[0m\u001b[0;34m)\u001b[0m\u001b[0;34m\u001b[0m\u001b[0m\n\u001b[1;32m   2564\u001b[0m             \u001b[0;32mtry\u001b[0m\u001b[0;34m:\u001b[0m\u001b[0;34m\u001b[0m\u001b[0m\n",
      "\u001b[0;32m/usr/local/lib/python3.6/site-packages/pandas/core/indexes/base.py\u001b[0m in \u001b[0;36mdrop\u001b[0;34m(self, labels, errors)\u001b[0m\n\u001b[1;32m   3742\u001b[0m             \u001b[0;32mif\u001b[0m \u001b[0merrors\u001b[0m \u001b[0;34m!=\u001b[0m \u001b[0;34m'ignore'\u001b[0m\u001b[0;34m:\u001b[0m\u001b[0;34m\u001b[0m\u001b[0m\n\u001b[1;32m   3743\u001b[0m                 raise ValueError('labels %s not contained in axis' %\n\u001b[0;32m-> 3744\u001b[0;31m                                  labels[mask])\n\u001b[0m\u001b[1;32m   3745\u001b[0m             \u001b[0mindexer\u001b[0m \u001b[0;34m=\u001b[0m \u001b[0mindexer\u001b[0m\u001b[0;34m[\u001b[0m\u001b[0;34m~\u001b[0m\u001b[0mmask\u001b[0m\u001b[0;34m]\u001b[0m\u001b[0;34m\u001b[0m\u001b[0m\n\u001b[1;32m   3746\u001b[0m         \u001b[0;32mreturn\u001b[0m \u001b[0mself\u001b[0m\u001b[0;34m.\u001b[0m\u001b[0mdelete\u001b[0m\u001b[0;34m(\u001b[0m\u001b[0mindexer\u001b[0m\u001b[0;34m)\u001b[0m\u001b[0;34m\u001b[0m\u001b[0m\n",
      "\u001b[0;31mValueError\u001b[0m: labels ['INFO' 'IREM' 'BIBLI' 'ADM'] not contained in axis"
     ]
    }
   ],
   "source": [
    "res = res.drop(['INFO','IREM','BIBLI','ADM'])"
   ]
  },
  {
   "cell_type": "code",
   "execution_count": 269,
   "metadata": {},
   "outputs": [],
   "source": [
    "import matplotlib.pyplot as plt\n",
    "plt.rcParams['figure.figsize'] = (10,6)"
   ]
  },
  {
   "cell_type": "code",
   "execution_count": null,
   "metadata": {},
   "outputs": [],
   "source": []
  },
  {
   "cell_type": "code",
   "execution_count": 271,
   "metadata": {},
   "outputs": [
    {
     "data": {
      "text/plain": [
       "<matplotlib.axes._subplots.AxesSubplot at 0x11588ccc0>"
      ]
     },
     "execution_count": 271,
     "metadata": {},
     "output_type": "execute_result"
    },
    {
     "data": {
      "image/png": "[encoded data removed]",
      "text/plain": [
       "<Figure size 720x432 with 1 Axes>"
      ]
     },
     "metadata": {},
     "output_type": "display_data"
    }
   ],
   "source": [
    "res.plot.barh(stacked=True)"
   ]
  },
  {
   "cell_type": "code",
   "execution_count": 265,
   "metadata": {},
   "outputs": [
    {
     "data": {
      "text/plain": [
       "name            62\n",
       "phone           62\n",
       "office          62\n",
       "organization    62\n",
       "position        62\n",
       "hdr             62\n",
       "team1           62\n",
       "team2           62\n",
       "dtype: int64"
      ]
     },
     "execution_count": 265,
     "metadata": {},
     "output_type": "execute_result"
    }
   ],
   "source": [
    "df.loc[any(df.position == 'MC'].count()"
   ]
  },
  {
   "cell_type": "code",
   "execution_count": 272,
   "metadata": {},
   "outputs": [
    {
     "data": {
      "text/plain": [
       "0        214\n",
       "1        209\n",
       "2        301\n",
       "3        320\n",
       "4        302\n",
       "5        835\n",
       "6        110\n",
       "7        734\n",
       "8        331\n",
       "9        235\n",
       "10       307\n",
       "11       615\n",
       "12        NA\n",
       "13       634\n",
       "14        NA\n",
       "15        NA\n",
       "16        NA\n",
       "17        NA\n",
       "18       214\n",
       "19       601\n",
       "20       610\n",
       "21       202\n",
       "22       211\n",
       "23       612\n",
       "24       614\n",
       "25       109\n",
       "26        NA\n",
       "27       308\n",
       "28        NA\n",
       "29        NA\n",
       "       ...  \n",
       "214       NA\n",
       "215    202/1\n",
       "216      131\n",
       "217       NA\n",
       "218       NA\n",
       "219      633\n",
       "220      305\n",
       "221      604\n",
       "222      607\n",
       "223      109\n",
       "224      432\n",
       "225      318\n",
       "226      207\n",
       "227      106\n",
       "228      313\n",
       "229      634\n",
       "230      834\n",
       "231       NA\n",
       "232      206\n",
       "233      606\n",
       "234    215/1\n",
       "235      033\n",
       "236      231\n",
       "237      621\n",
       "238    210/1\n",
       "239      732\n",
       "240      309\n",
       "241      211\n",
       "242      313\n",
       "243      610\n",
       "Name: office, Length: 244, dtype: object"
      ]
     },
     "execution_count": 272,
     "metadata": {},
     "output_type": "execute_result"
    }
   ],
   "source": [
    "df.office"
   ]
  },
  {
   "cell_type": "code",
   "execution_count": null,
   "metadata": {},
   "outputs": [],
   "source": []
  }
 ],
 "metadata": {
  "kernelspec": {
   "display_name": "Python 3",
   "language": "python",
   "name": "python3"
  },
  "language_info": {
   "codemirror_mode": {
    "name": "ipython",
    "version": 3
   },
   "file_extension": ".py",
   "mimetype": "text/x-python",
   "name": "python",
   "nbconvert_exporter": "python",
   "pygments_lexer": "ipython3",
   "version": "3.6.5"
  }
 },
 "nbformat": 4,
 "nbformat_minor": 2
}
