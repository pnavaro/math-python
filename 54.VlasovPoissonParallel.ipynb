{
 "cells": [
  {
   "cell_type": "markdown",
   "metadata": {},
   "source": [
    "# Vlasov-Poisson \n",
    "\n",
    "In this notebook we present a multithreaded version of the Vlasov-Poisson system in 1D1D phase space.\n",
    "Equations are solved numerically using semi-lagrangian method. The serial version of this code,optimized \n",
    "succesively by f2py, numba, pythran and cython is available on Github http://github.com/pnavaro/python-notebooks"
   ]
  },
  {
   "cell_type": "markdown",
   "metadata": {},
   "source": [
    "I made some tests with multiprocessing library from python but it is not very effective.\n",
    "\n",
    "The first version i propose is to translate the advection functions in fortran."
   ]
  },
  {
   "cell_type": "code",
   "execution_count": 2,
   "metadata": {},
   "outputs": [],
   "source": [
    "%matplotlib inline\n",
    "%config InlineBackend.figure_format = 'retina'\n",
    "import matplotlib.pyplot as plt\n",
    "import numpy as np\n",
    "\n",
    "plt.rcParams['figure.figsize'] = (11,7)"
   ]
  },
  {
   "cell_type": "code",
   "execution_count": 3,
   "metadata": {},
   "outputs": [
    {
     "data": {
      "application/javascript": [
       "$.getScript(\"https://raw.github.com/marijnh/CodeMirror/master/mode/fortran/fortran.js\", function () {\n",
       "IPython.config.cell_magic_highlight['magic_fortran'] = {'reg':[/^%%fortran/]};});\n"
      ]
     },
     "metadata": {},
     "output_type": "display_data"
    },
    {
     "name": "stdout",
     "output_type": "stream",
     "text": [
      "env: CC='gcc-7'\n",
      "env: FC='gfortran'\n"
     ]
    }
   ],
   "source": [
    "%load_ext fortranmagic\n",
    "%env CC='gcc-7'\n",
    "%env FC='gfortran'"
   ]
  },
  {
   "cell_type": "code",
   "execution_count": 4,
   "metadata": {},
   "outputs": [],
   "source": [
    "%%fortran --link fftw3 --f90flags \"-O3 -march=native -fopenmp\" --extra \"-L/usr/local/lib -lgomp\"\n",
    "\n",
    "module bsl_fftw\n",
    "\n",
    "   use, intrinsic :: iso_c_binding\n",
    "   implicit none\n",
    "   include 'fftw3.f03'\n",
    "   \n",
    "   contains\n",
    "   \n",
    "   recursive function bspline(p, j, x) result(res)\n",
    "   \n",
    "      integer :: p, j\n",
    "      real(8) :: x, w, w1\n",
    "      real(8) :: res\n",
    "   \n",
    "      if (p == 0) then\n",
    "          if (j == 0) then\n",
    "              res = 1.0\n",
    "              return\n",
    "          else\n",
    "              res = 0.0\n",
    "              return\n",
    "          end if\n",
    "      else\n",
    "          w = (x - j) / p\n",
    "          w1 = (x - j - 1) / p\n",
    "      end if\n",
    "   \n",
    "      res = w * bspline(p-1,j,x)+(1-w1)*bspline(p-1,j+1,x)\n",
    "   \n",
    "   end function bspline\n",
    "   \n",
    "   subroutine advection(p, n, deltax, alpha, df)\n",
    "   \n",
    "      integer, intent(in)     :: p\n",
    "      integer, intent(in)     :: n\n",
    "      real(8), intent(in)     :: deltax\n",
    "      real(8), intent(inout)  :: df(0:n-1,0:n-1)\n",
    "      !f2py optional , depend(in) :: n=len(f)\n",
    "      real(8), intent(in)     :: alpha(0:n-1)\n",
    "   \n",
    "      real(8),    allocatable :: f(:)\n",
    "      complex(8), allocatable :: ft(:)\n",
    "      real(8),    allocatable :: eig_bspl(:)\n",
    "      real(8),    allocatable :: modes(:)\n",
    "      complex(8), allocatable :: eigalpha(:)\n",
    "      integer(8)              :: fwd\n",
    "      integer(8)              :: bwd\n",
    "   \n",
    "      integer                 :: i\n",
    "      integer                 :: j\n",
    "      integer                 :: ishift\n",
    "      real(8)                 :: beta\n",
    "      real(8), parameter      :: pi = 3.141592654\n",
    "   \n",
    "      allocate(modes(0:n/2))\n",
    "      allocate(eigalpha(0:n/2))\n",
    "      allocate(eig_bspl(0:n/2))\n",
    "      allocate(f(0:n-1))\n",
    "      allocate(ft(0:n/2))\n",
    "   \n",
    "      do i = 0, n/2\n",
    "         modes(i) = 2 * pi * i / n\n",
    "      end do\n",
    "    \n",
    "      call dfftw_plan_dft_r2c_1d(fwd, n, f, ft, FFTW_ESTIMATE)\n",
    "      call dfftw_plan_dft_c2r_1d(bwd, n, ft, f, FFTW_ESTIMATE)\n",
    "   \n",
    "      eig_bspl = 0.0   \n",
    "      do j = 1, (p+1)/2\n",
    "         eig_bspl = eig_bspl + bspline(p, j-(p+1)/2, 0.0_8) * 2.0 * cos(j * modes)\n",
    "      end do\n",
    "   \n",
    "      eig_bspl = eig_bspl + bspline(p, -(p + 1) / 2, 0.0_8)\n",
    "    \n",
    "      !$OMP PARALLEL DO DEFAULT(FIRSTPRIVATE), SHARED(df,fwd,bwd)\n",
    "      do i = 1, n\n",
    "   \n",
    "         ishift = floor(-alpha(i) / deltax)\n",
    "         beta   = -ishift - alpha(i) / deltax\n",
    "         eigalpha = (0.0, 0.0)\n",
    "       \n",
    "         do j=-(p-1)/2, (p+1)/2+1\n",
    "            eigalpha = eigalpha + bspline(p, j-(p+1)/2, beta) * exp((ishift+j) * (0.0,1.0) * modes)\n",
    "         end do     \n",
    "      \n",
    "         f = df(:,i)\n",
    "         call dfftw_execute_dft_r2c(fwd, f, ft)\n",
    "         ft = ft * eigalpha / eig_bspl / n\n",
    "         call dfftw_execute_dft_c2r(bwd, ft, f)\n",
    "         df(:,i) = f\n",
    "        \n",
    "      end do\n",
    "      !$OMP END PARALLEL DO     \n",
    "      \n",
    "      call dfftw_destroy_plan(fwd)\n",
    "      call dfftw_destroy_plan(bwd)\n",
    "   \n",
    "   end subroutine advection\n",
    "\n",
    "\n",
    "end module bsl_fftw"
   ]
  },
  {
   "cell_type": "code",
   "execution_count": 5,
   "metadata": {},
   "outputs": [
    {
     "data": {
      "image/png": "[encoded data removed]",
      "text/plain": [
       "<matplotlib.figure.Figure at 0x10e638c18>"
      ]
     },
     "metadata": {
      "image/png": {
       "height": 413,
       "width": 657
      }
     },
     "output_type": "display_data"
    }
   ],
   "source": [
    "import numpy as np\n",
    "n = 64\n",
    "p = 3\n",
    "alpha = 0.5*np.ones(n)\n",
    "x, deltax = np.linspace(-2,2,n,retstep=True)\n",
    "x, y = np.meshgrid(x,x)\n",
    "df = np.exp(-(x*x+y*y))\n",
    "df = np.asfortranarray(df)\n",
    "fig  = plt.figure()\n",
    "axes = fig.add_subplot(121)\n",
    "axes.contourf(x,y,df);\n",
    "axes.set_aspect('equal','datalim')\n",
    "bsl_fftw.advection(p, deltax, alpha, df)\n",
    "axes = fig.add_subplot(122)\n",
    "axes.contourf(x,y,df);\n",
    "axes.set_aspect('equal','datalim')"
   ]
  },
  {
   "cell_type": "code",
   "execution_count": 54,
   "metadata": {
    "scrolled": true
   },
   "outputs": [
    {
     "ename": "error",
     "evalue": "failed in converting 4th argument `df' of _fortran_magic_3304a8c3af8e688a8a08ba3f329ec3a2.bsl_fftw.advection to C/Fortran array",
     "output_type": "error",
     "traceback": [
      "\u001b[0;31m---------------------------------------------------------------------------\u001b[0m",
      "\u001b[0;31merror\u001b[0m                                     Traceback (most recent call last)",
      "\u001b[0;32m<ipython-input-54-8d72492fa0c8>\u001b[0m in \u001b[0;36m<module>\u001b[0;34m()\u001b[0m\n\u001b[0;32m----> 1\u001b[0;31m \u001b[0mbsl_fftw\u001b[0m\u001b[0;34m.\u001b[0m\u001b[0madvection\u001b[0m\u001b[0;34m(\u001b[0m\u001b[0mp\u001b[0m\u001b[0;34m,\u001b[0m \u001b[0mdeltax\u001b[0m\u001b[0;34m,\u001b[0m \u001b[0;36m0.5\u001b[0m\u001b[0;34m,\u001b[0m \u001b[0mdf\u001b[0m\u001b[0;34m)\u001b[0m\u001b[0;34m\u001b[0m\u001b[0m\n\u001b[0m\u001b[1;32m      2\u001b[0m \u001b[0maxes\u001b[0m \u001b[0;34m=\u001b[0m \u001b[0mfig\u001b[0m\u001b[0;34m.\u001b[0m\u001b[0madd_subplot\u001b[0m\u001b[0;34m(\u001b[0m\u001b[0;36m122\u001b[0m\u001b[0;34m)\u001b[0m\u001b[0;34m\u001b[0m\u001b[0m\n\u001b[1;32m      3\u001b[0m \u001b[0maxes\u001b[0m\u001b[0;34m.\u001b[0m\u001b[0mcontourf\u001b[0m\u001b[0;34m(\u001b[0m\u001b[0mx\u001b[0m\u001b[0;34m,\u001b[0m\u001b[0my\u001b[0m\u001b[0;34m,\u001b[0m\u001b[0mdf\u001b[0m\u001b[0;34m)\u001b[0m\u001b[0;34m;\u001b[0m\u001b[0;34m\u001b[0m\u001b[0m\n\u001b[1;32m      4\u001b[0m \u001b[0maxes\u001b[0m\u001b[0;34m.\u001b[0m\u001b[0mset_aspect\u001b[0m\u001b[0;34m(\u001b[0m\u001b[0;34m'equal'\u001b[0m\u001b[0;34m,\u001b[0m\u001b[0;34m'datalim'\u001b[0m\u001b[0;34m)\u001b[0m\u001b[0;34m\u001b[0m\u001b[0m\n",
      "\u001b[0;31merror\u001b[0m: failed in converting 4th argument `df' of _fortran_magic_3304a8c3af8e688a8a08ba3f329ec3a2.bsl_fftw.advection to C/Fortran array"
     ]
    }
   ],
   "source": []
  },
  {
   "cell_type": "code",
   "execution_count": null,
   "metadata": {},
   "outputs": [],
   "source": []
  },
  {
   "cell_type": "code",
   "execution_count": null,
   "metadata": {},
   "outputs": [],
   "source": []
  }
 ],
 "metadata": {
  "kernelspec": {
   "display_name": "Python 3",
   "language": "python",
   "name": "python3"
  },
  "language_info": {
   "codemirror_mode": {
    "name": "ipython",
    "version": 3
   },
   "file_extension": ".py",
   "mimetype": "text/x-python",
   "name": "python",
   "nbconvert_exporter": "python",
   "pygments_lexer": "ipython3",
   "version": "3.6.3"
  }
 },
 "nbformat": 4,
 "nbformat_minor": 2
}
