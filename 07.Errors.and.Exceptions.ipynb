{
 "cells": [
  {
   "cell_type": "markdown",
   "metadata": {
    "collapsed": true,
    "slideshow": {
     "slide_type": "slide"
    }
   },
   "source": [
    "# Errors and Exceptions\n",
    "\n",
    "There are two distinguishable kinds of errors: *syntax errors* and *exceptions*.\n",
    "- Syntax errors, also known as parsing errors, are the most common.\n",
    "- Exceptions are errors caused by statement or expression syntactically corrects.\n",
    "- Exceptions are not unconditionally fatal.\n",
    "\n",
    "[Exceptions in Python documentation](https://docs.python.org/3/library/exceptions.html)"
   ]
  },
  {
   "cell_type": "code",
   "execution_count": 1,
   "metadata": {
    "slideshow": {
     "slide_type": "slide"
    }
   },
   "outputs": [
    {
     "ename": "ZeroDivisionError",
     "evalue": "division by zero",
     "output_type": "error",
     "traceback": [
      "\u001b[0;31m---------------------------------------------------------------------------\u001b[0m",
      "\u001b[0;31mZeroDivisionError\u001b[0m                         Traceback (most recent call last)",
      "\u001b[0;32m<ipython-input-1-0b280f36835c>\u001b[0m in \u001b[0;36m<module>\u001b[0;34m()\u001b[0m\n\u001b[0;32m----> 1\u001b[0;31m \u001b[0;36m10\u001b[0m \u001b[0;34m*\u001b[0m \u001b[0;34m(\u001b[0m\u001b[0;36m1\u001b[0m\u001b[0;34m/\u001b[0m\u001b[0;36m0\u001b[0m\u001b[0;34m)\u001b[0m\u001b[0;34m\u001b[0m\u001b[0m\n\u001b[0m",
      "\u001b[0;31mZeroDivisionError\u001b[0m: division by zero"
     ]
    }
   ],
   "source": [
    "10 * (1/0)"
   ]
  },
  {
   "cell_type": "code",
   "execution_count": 2,
   "metadata": {
    "slideshow": {
     "slide_type": "slide"
    }
   },
   "outputs": [
    {
     "ename": "NameError",
     "evalue": "name 'spam' is not defined",
     "output_type": "error",
     "traceback": [
      "\u001b[0;31m---------------------------------------------------------------------------\u001b[0m",
      "\u001b[0;31mNameError\u001b[0m                                 Traceback (most recent call last)",
      "\u001b[0;32m<ipython-input-2-c98bb92cdcac>\u001b[0m in \u001b[0;36m<module>\u001b[0;34m()\u001b[0m\n\u001b[0;32m----> 1\u001b[0;31m \u001b[0;36m4\u001b[0m \u001b[0;34m+\u001b[0m \u001b[0mspam\u001b[0m\u001b[0;34m*\u001b[0m\u001b[0;36m3\u001b[0m\u001b[0;34m\u001b[0m\u001b[0m\n\u001b[0m",
      "\u001b[0;31mNameError\u001b[0m: name 'spam' is not defined"
     ]
    }
   ],
   "source": [
    "4 + spam*3"
   ]
  },
  {
   "cell_type": "code",
   "execution_count": 3,
   "metadata": {
    "slideshow": {
     "slide_type": "slide"
    }
   },
   "outputs": [
    {
     "ename": "TypeError",
     "evalue": "must be str, not int",
     "output_type": "error",
     "traceback": [
      "\u001b[0;31m---------------------------------------------------------------------------\u001b[0m",
      "\u001b[0;31mTypeError\u001b[0m                                 Traceback (most recent call last)",
      "\u001b[0;32m<ipython-input-3-d2b23a1db757>\u001b[0m in \u001b[0;36m<module>\u001b[0;34m()\u001b[0m\n\u001b[0;32m----> 1\u001b[0;31m \u001b[0;34m'2'\u001b[0m \u001b[0;34m+\u001b[0m \u001b[0;36m2\u001b[0m\u001b[0;34m\u001b[0m\u001b[0m\n\u001b[0m",
      "\u001b[0;31mTypeError\u001b[0m: must be str, not int"
     ]
    }
   ],
   "source": [
    "'2' + 2"
   ]
  },
  {
   "cell_type": "markdown",
   "metadata": {
    "slideshow": {
     "slide_type": "slide"
    }
   },
   "source": [
    "# Handling Exceptions\n",
    "\n",
    "- In example below, the user can interrupt the program with `Control-C` or the `stop` button in Jupyter Notebook.\n",
    "- Note that a user-generated interruption is signalled by raising the **KeyboardInterrupt** exception.\n"
   ]
  },
  {
   "cell_type": "code",
   "execution_count": 7,
   "metadata": {
    "slideshow": {
     "slide_type": "fragment"
    }
   },
   "outputs": [
    {
     "name": "stdout",
     "output_type": "stream",
     "text": [
      "Please enter a number: p\n",
      "Oops!  That was no valid number.  Try again...\n",
      "Please enter a number: o\n",
      "Oops!  That was no valid number.  Try again...\n",
      "Please enter a number: 89.5\n",
      "Oops!  That was no valid number.  Try again...\n",
      "Please enter a number: 8\n"
     ]
    }
   ],
   "source": [
    "while True:\n",
    "   try:\n",
    "     x = int(input(\"Please enter a number: \"))\n",
    "     break\n",
    "   except ValueError:\n",
    "     print(\"Oops!  That was no valid number.  Try again...\")"
   ]
  },
  {
   "cell_type": "markdown",
   "metadata": {
    "slideshow": {
     "slide_type": "slide"
    }
   },
   "source": [
    "- A try statement may have more than one except clause\n",
    "- The optional `else` clause must follow all except clauses."
   ]
  },
  {
   "cell_type": "code",
   "execution_count": 17,
   "metadata": {
    "slideshow": {
     "slide_type": "fragment"
    }
   },
   "outputs": [],
   "source": [
    "import sys\n",
    "\n",
    "def process_file(file):\n",
    "    try:\n",
    "        i = int(open(file).readline().strip()) # Read the first line of f and convert to int\n",
    "        print(i)\n",
    "        assert i < 0 # check if i is negative\n",
    "    except OSError as err:\n",
    "        print(f\"OS error: {err}\")\n",
    "    except ValueError:\n",
    "        print(\"Could not convert data to an integer.\")\n",
    "    except:\n",
    "        print(\"Unexpected error:\", sys.exc_info()[0])\n",
    "\n",
    "# Create the file workfile.txt\n",
    "with open('workfile.txt','w') as f:\n",
    "    f.write(\"foo\")\n",
    "    f.write(\"bar\")"
   ]
  },
  {
   "cell_type": "code",
   "execution_count": 18,
   "metadata": {
    "slideshow": {
     "slide_type": "slide"
    }
   },
   "outputs": [
    {
     "name": "stdout",
     "output_type": "stream",
     "text": [
      "OS error: [Errno 13] Permission denied: 'workfile.txt'\n"
     ]
    }
   ],
   "source": [
    "process_file('workfile.txt')"
   ]
  },
  {
   "cell_type": "code",
   "execution_count": 19,
   "metadata": {
    "slideshow": {
     "slide_type": "slide"
    }
   },
   "outputs": [],
   "source": [
    "# Change permission of the file, workfile.txt cannot be read\n",
    "!chmod u-r workfile.txt"
   ]
  },
  {
   "cell_type": "code",
   "execution_count": 20,
   "metadata": {
    "slideshow": {
     "slide_type": "fragment"
    }
   },
   "outputs": [
    {
     "name": "stdout",
     "output_type": "stream",
     "text": [
      "OS error: [Errno 13] Permission denied: 'workfile.txt'\n"
     ]
    }
   ],
   "source": [
    "process_file('workfile.txt')"
   ]
  },
  {
   "cell_type": "code",
   "execution_count": 23,
   "metadata": {
    "slideshow": {
     "slide_type": "slide"
    }
   },
   "outputs": [],
   "source": [
    "# Let's delete the file workfile.txt\n",
    "!rm -f workfile.txt"
   ]
  },
  {
   "cell_type": "code",
   "execution_count": 25,
   "metadata": {
    "slideshow": {
     "slide_type": "fragment"
    }
   },
   "outputs": [
    {
     "name": "stdout",
     "output_type": "stream",
     "text": [
      "OS error: [Errno 2] No such file or directory: 'workfile.txt'\n"
     ]
    }
   ],
   "source": [
    "process_file('workfile.txt')"
   ]
  },
  {
   "cell_type": "code",
   "execution_count": 26,
   "metadata": {
    "slideshow": {
     "slide_type": "slide"
    }
   },
   "outputs": [
    {
     "name": "stdout",
     "output_type": "stream",
     "text": [
      "1\r\n"
     ]
    }
   ],
   "source": [
    "# Insert the value 1 at the top of workfile.txt\n",
    "!echo \"1\" > workfile.txt\n",
    "%cat workfile.txt"
   ]
  },
  {
   "cell_type": "code",
   "execution_count": 27,
   "metadata": {
    "slideshow": {
     "slide_type": "slide"
    }
   },
   "outputs": [
    {
     "name": "stdout",
     "output_type": "stream",
     "text": [
      "1\n",
      "Unexpected error: <class 'AssertionError'>\n"
     ]
    }
   ],
   "source": [
    "process_file('workfile.txt')"
   ]
  },
  {
   "cell_type": "markdown",
   "metadata": {
    "slideshow": {
     "slide_type": "slide"
    }
   },
   "source": [
    "# Raising Exceptions\n",
    "\n",
    "The raise statement allows the programmer to force a specified exception to occur.\n"
   ]
  },
  {
   "cell_type": "code",
   "execution_count": 6,
   "metadata": {
    "slideshow": {
     "slide_type": "fragment"
    }
   },
   "outputs": [
    {
     "ename": "NameError",
     "evalue": "HiThere",
     "output_type": "error",
     "traceback": [
      "\u001b[0;31m---------------------------------------------------------------------------\u001b[0m",
      "\u001b[0;31mNameError\u001b[0m                                 Traceback (most recent call last)",
      "\u001b[0;32m<ipython-input-6-72c183edb298>\u001b[0m in \u001b[0;36m<module>\u001b[0;34m()\u001b[0m\n\u001b[0;32m----> 1\u001b[0;31m \u001b[0;32mraise\u001b[0m \u001b[0mNameError\u001b[0m\u001b[0;34m(\u001b[0m\u001b[0;34m'HiThere'\u001b[0m\u001b[0;34m)\u001b[0m\u001b[0;34m\u001b[0m\u001b[0m\n\u001b[0m",
      "\u001b[0;31mNameError\u001b[0m: HiThere"
     ]
    }
   ],
   "source": [
    "raise NameError('HiThere')"
   ]
  },
  {
   "cell_type": "markdown",
   "metadata": {
    "slideshow": {
     "slide_type": "slide"
    }
   },
   "source": [
    "# Defining Clean-up Actions\n",
    "\n",
    "- The try statement has an optional clause which is intended to define clean-up actions that must be executed under all circumstances.\n",
    "\n",
    "- A finally clause is always executed before leaving the try statement"
   ]
  },
  {
   "cell_type": "code",
   "execution_count": 58,
   "metadata": {
    "slideshow": {
     "slide_type": "fragment"
    }
   },
   "outputs": [
    {
     "name": "stdout",
     "output_type": "stream",
     "text": [
      "Goodbye, world!\n"
     ]
    },
    {
     "ename": "KeyboardInterrupt",
     "evalue": "",
     "output_type": "error",
     "traceback": [
      "\u001b[0;31m---------------------------------------------------------------------------\u001b[0m",
      "\u001b[0;31mKeyboardInterrupt\u001b[0m                         Traceback (most recent call last)",
      "\u001b[0;32m<ipython-input-58-7786db0b9fd1>\u001b[0m in \u001b[0;36m<module>\u001b[0;34m()\u001b[0m\n\u001b[1;32m      1\u001b[0m \u001b[0;32mtry\u001b[0m\u001b[0;34m:\u001b[0m\u001b[0;34m\u001b[0m\u001b[0m\n\u001b[0;32m----> 2\u001b[0;31m      \u001b[0;32mraise\u001b[0m \u001b[0mKeyboardInterrupt\u001b[0m\u001b[0;34m\u001b[0m\u001b[0m\n\u001b[0m\u001b[1;32m      3\u001b[0m \u001b[0;32mfinally\u001b[0m\u001b[0;34m:\u001b[0m\u001b[0;34m\u001b[0m\u001b[0m\n\u001b[1;32m      4\u001b[0m      \u001b[0mprint\u001b[0m\u001b[0;34m(\u001b[0m\u001b[0;34m'Goodbye, world!'\u001b[0m\u001b[0;34m)\u001b[0m\u001b[0;34m\u001b[0m\u001b[0m\n",
      "\u001b[0;31mKeyboardInterrupt\u001b[0m: "
     ]
    }
   ],
   "source": [
    "try:\n",
    "     raise KeyboardInterrupt\n",
    "finally:\n",
    "     print('Goodbye, world!')"
   ]
  },
  {
   "cell_type": "markdown",
   "metadata": {
    "slideshow": {
     "slide_type": "slide"
    }
   },
   "source": [
    "### Exercise\n",
    "\n",
    "- Write a function `check_date` that takes a string \"DD/MM/YYYY\" as argument and\n",
    "returns `True` if the date is valid.\n",
    "- Use it with a `try ... except` statement to help the user to enter a valid date.\n",
    "- raise ValueError \"Not a valid date\"\n",
    "- Hints: \n",
    "  * Use string method `split`\n",
    "  * Year y is a leap year if y%400==0 or (y%4==0 and y%100!=0)"
   ]
  },
  {
   "cell_type": "markdown",
   "metadata": {
    "slideshow": {
     "slide_type": "fragment"
    }
   },
   "source": [
    "<button data-toggle=\"collapse\" data-target=\"#date\" class='btn btn-primary'>Solution</button>\n",
    "<div id=\"date\" class=\"collapse\">\n",
    "```python\n",
    "def check_date(date):\n",
    "    d, m, y = date.split(\"/\")\n",
    "    d, m, y = int(d), int(m), int(y)\n",
    "\n",
    "    months = [31, 28, 31, 30, 31, 30, 31, 31, 30, 31, 30, 31]\n",
    "\n",
    "    if 12 < m or m < 1:  # m in [1,12]\n",
    "        return False\n",
    "\n",
    "    if y%400==0 or (y%4==0 and y%100!=0): # leap year\n",
    "        months[1] = 29\n",
    "\n",
    "    if months[m-1] < d or d < 1:\n",
    "        return False\n",
    "    \n",
    "    return True\n",
    "\n",
    "while True:\n",
    "    try:\n",
    "        if check_date(input(\"Please enter a date (DD/MM/YYYY) : \")):\n",
    "            print(\"OK\")\n",
    "            break\n",
    "        else:\n",
    "            raise ValueError()\n",
    "\n",
    "    except ValueError:\n",
    "        print(\"Oops!  That was no valid date.  Try again...\")\n",
    "```"
   ]
  },
  {
   "cell_type": "markdown",
   "metadata": {
    "collapsed": true,
    "slideshow": {
     "slide_type": "slide"
    }
   },
   "source": [
    "### Wordcount Exercise\n",
    "[WordCount](https://hadoop.apache.org/docs/current/hadoop-mapreduce-client/hadoop-mapreduce-client-core/MapReduceTutorial.html#Example:_WordCount_v1.0) is a simple application that counts the number of occurrences of each word in a given input set. This computation can be splitted into two steps: a map operation to each word in our input text in order to compute a set of intermediate key/value pairs, and then a reduce operation to all the values that shared the same key.\n",
    "\n",
    "1. Write the function `mapper` with multilines string as input and breaks it into words. It returns a list of key/value pair (word, 1). \n",
    "2. Write the funtion `reducer` to read the results of `mapper` and sum the occurrences of each word to a final count, and then output the results as a dictionary of {word:occurences}. \n",
    "\n",
    "Hints : \n",
    " - `str.strip()` removes end line character\n",
    " - `str.split()` split string into a list of words\n",
    " - Use the `KeyError` exception to fill in the dictionary.\n",
    " \n",
    "Here an example of wordcount using unix commands."
   ]
  },
  {
   "cell_type": "code",
   "execution_count": 57,
   "metadata": {
    "slideshow": {
     "slide_type": "fragment"
    }
   },
   "outputs": [
    {
     "name": "stdout",
     "output_type": "stream",
     "text": [
      "   3 Ce\r\n",
      "   1 années\r\n",
      "   1 erreurs\r\n",
      "   3 ne\r\n",
      "   3 pas\r\n",
      "   3 sont\r\n",
      "   3 tes\r\n",
      "   1 triomphes\r\n"
     ]
    }
   ],
   "source": [
    "!echo \"Ce ne sont pas tes erreurs Ce ne sont pas tes triomphes Ce ne sont pas tes années\" |  fmt -1 | sort | uniq -c"
   ]
  },
  {
   "cell_type": "markdown",
   "metadata": {
    "slideshow": {
     "slide_type": "fragment"
    }
   },
   "source": [
    "<button data-toggle=\"collapse\" data-target=\"#mapper\" class='btn btn-primary'>Solution mapper</button>\n",
    "<div id=\"mapper\" class=\"collapse\">\n",
    "```python\n",
    "def mapper ( text ):\n",
    "    \"\"\" Count every occurence of word in text\n",
    "    return a sorted list of tuples (word,1) \"\"\"\n",
    "    result = []\n",
    "    for word in text.strip().split():\n",
    "        result.append((word,1))\n",
    "    return sorted(result)\n",
    "\n",
    "text = \"\"\"\n",
    "        Ce ne sont pas tes erreurs\n",
    "        Ce ne sont pas tes triomphes\n",
    "        Ce ne sont pas tes années\n",
    "       \"\"\"\n",
    "mapper(text)\n",
    "```"
   ]
  },
  {
   "cell_type": "markdown",
   "metadata": {
    "slideshow": {
     "slide_type": "fragment"
    }
   },
   "source": [
    "<button data-toggle=\"collapse\" data-target=\"#reducer\" class='btn btn-primary'>Solution reducer without Exception</button>\n",
    "<div id=\"reducer\" class=\"collapse\">\n",
    "```python       \n",
    "def reducer ( mapped_values):\n",
    "    \"\"\" Count the number of occurences of a word in a sorted list\n",
    "    of tuples (word,1), and return result in a dictionary \"\"\"\n",
    "    \n",
    "    current_word = None\n",
    "    result = {}\n",
    "    for word, k in mapped_values:\n",
    "        if current_word is None:  \n",
    "            current_word = word\n",
    "            result[word] = 0  # Add the first word in result\n",
    "\n",
    "        # this if only works because input is sorted \n",
    "        if current_word == word:\n",
    "            result[word] += k\n",
    "        else: # When the word is not already present in result\n",
    "            current_word = word \n",
    "            result[word] = k\n",
    "\n",
    "    return result\n",
    "    \n",
    "reducer(mapper(text))\n",
    "```"
   ]
  },
  {
   "cell_type": "markdown",
   "metadata": {},
   "source": [
    "<button data-toggle=\"collapse\" data-target=\"#keyerror\" class='btn btn-primary'>Solution reducer with Exception</button>\n",
    "<div id=\"keyerror\" class=\"collapse\">\n",
    "```python\n",
    "def reducer(words):\n",
    "    \"\"\" Read the sorted list of (words,1) tuples and fill a dictionary with every word \n",
    "    as keys and number of occurences as values\"\"\"\n",
    "    result = {}\n",
    "    for w, k in words:\n",
    "        try:\n",
    "            result[w] +=k\n",
    "        except KeyError:\n",
    "            result[w] = k \n",
    "    return result\n",
    "```"
   ]
  }
 ],
 "metadata": {
  "celltoolbar": "Slideshow",
  "kernelspec": {
   "display_name": "Python 3",
   "language": "python",
   "name": "python3"
  },
  "language_info": {
   "codemirror_mode": {
    "name": "ipython",
    "version": 3
   },
   "file_extension": ".py",
   "mimetype": "text/x-python",
   "name": "python",
   "nbconvert_exporter": "python",
   "pygments_lexer": "ipython3",
   "version": "3.6.4"
  }
 },
 "nbformat": 4,
 "nbformat_minor": 2
}
