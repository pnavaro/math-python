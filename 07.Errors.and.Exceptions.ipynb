{
 "cells": [
  {
   "cell_type": "markdown",
   "metadata": {
    "slideshow": {
     "slide_type": "slide"
    }
   },
   "source": [
    "Pierre Navaro - [Institut de Recherche Mathématique de Rennes](https://irmar.univ-rennes1.fr) - [CNRS](http://www.cnrs.fr/)"
   ]
  },
  {
   "cell_type": "markdown",
   "metadata": {
    "collapsed": true,
    "slideshow": {
     "slide_type": "slide"
    }
   },
   "source": [
    "# Errors and Exceptions\n",
    "\n",
    "There are two distinguishable kinds of errors: *syntax errors* and *exceptions*.\n",
    "- Syntax errors, also known as parsing errors, are the most common.\n",
    "- Exceptions are errors caused by statement or expression syntactically corrects.\n",
    "- Exceptions are not unconditionally fatal."
   ]
  },
  {
   "cell_type": "code",
   "execution_count": 1,
   "metadata": {
    "slideshow": {
     "slide_type": "slide"
    }
   },
   "outputs": [
    {
     "ename": "ZeroDivisionError",
     "evalue": "division by zero",
     "output_type": "error",
     "traceback": [
      "\u001b[0;31m---------------------------------------------------------------------------\u001b[0m",
      "\u001b[0;31mZeroDivisionError\u001b[0m                         Traceback (most recent call last)",
      "\u001b[0;32m<ipython-input-1-0b280f36835c>\u001b[0m in \u001b[0;36m<module>\u001b[0;34m()\u001b[0m\n\u001b[0;32m----> 1\u001b[0;31m \u001b[0;36m10\u001b[0m \u001b[0;34m*\u001b[0m \u001b[0;34m(\u001b[0m\u001b[0;36m1\u001b[0m\u001b[0;34m/\u001b[0m\u001b[0;36m0\u001b[0m\u001b[0;34m)\u001b[0m\u001b[0;34m\u001b[0m\u001b[0m\n\u001b[0m",
      "\u001b[0;31mZeroDivisionError\u001b[0m: division by zero"
     ]
    }
   ],
   "source": [
    "10 * (1/0)"
   ]
  },
  {
   "cell_type": "code",
   "execution_count": 2,
   "metadata": {
    "slideshow": {
     "slide_type": "slide"
    }
   },
   "outputs": [
    {
     "ename": "NameError",
     "evalue": "name 'spam' is not defined",
     "output_type": "error",
     "traceback": [
      "\u001b[0;31m---------------------------------------------------------------------------\u001b[0m",
      "\u001b[0;31mNameError\u001b[0m                                 Traceback (most recent call last)",
      "\u001b[0;32m<ipython-input-2-c98bb92cdcac>\u001b[0m in \u001b[0;36m<module>\u001b[0;34m()\u001b[0m\n\u001b[0;32m----> 1\u001b[0;31m \u001b[0;36m4\u001b[0m \u001b[0;34m+\u001b[0m \u001b[0mspam\u001b[0m\u001b[0;34m*\u001b[0m\u001b[0;36m3\u001b[0m\u001b[0;34m\u001b[0m\u001b[0m\n\u001b[0m",
      "\u001b[0;31mNameError\u001b[0m: name 'spam' is not defined"
     ]
    }
   ],
   "source": [
    "4 + spam*3"
   ]
  },
  {
   "cell_type": "code",
   "execution_count": 3,
   "metadata": {
    "slideshow": {
     "slide_type": "slide"
    }
   },
   "outputs": [
    {
     "ename": "TypeError",
     "evalue": "must be str, not int",
     "output_type": "error",
     "traceback": [
      "\u001b[0;31m---------------------------------------------------------------------------\u001b[0m",
      "\u001b[0;31mTypeError\u001b[0m                                 Traceback (most recent call last)",
      "\u001b[0;32m<ipython-input-3-d2b23a1db757>\u001b[0m in \u001b[0;36m<module>\u001b[0;34m()\u001b[0m\n\u001b[0;32m----> 1\u001b[0;31m \u001b[0;34m'2'\u001b[0m \u001b[0;34m+\u001b[0m \u001b[0;36m2\u001b[0m\u001b[0;34m\u001b[0m\u001b[0m\n\u001b[0m",
      "\u001b[0;31mTypeError\u001b[0m: must be str, not int"
     ]
    }
   ],
   "source": [
    "'2' + 2"
   ]
  },
  {
   "cell_type": "markdown",
   "metadata": {
    "slideshow": {
     "slide_type": "slide"
    }
   },
   "source": [
    "# Handling Exceptions\n",
    "\n",
    "- In example below, the user can interrupt the program with `Control-C` or the `stop` button in Jupyter Notebook.\n",
    "- Note that a user-generated interruption is signalled by raising the **KeyboardInterrupt** exception.\n"
   ]
  },
  {
   "cell_type": "code",
   "execution_count": 4,
   "metadata": {
    "slideshow": {
     "slide_type": "fragment"
    }
   },
   "outputs": [
    {
     "name": "stdout",
     "output_type": "stream",
     "text": [
      "Please enter a number: 43\n"
     ]
    }
   ],
   "source": [
    "while True:\n",
    "   try:\n",
    "     x = int(input(\"Please enter a number: \"))\n",
    "     break\n",
    "   except ValueError:\n",
    "     print(\"Oops!  That was no valid number.  Try again...\")"
   ]
  },
  {
   "cell_type": "markdown",
   "metadata": {
    "slideshow": {
     "slide_type": "slide"
    }
   },
   "source": [
    "- A try statement may have more than one except clause\n",
    "- The optional `else` clause must follow all except clauses."
   ]
  },
  {
   "cell_type": "code",
   "execution_count": 5,
   "metadata": {
    "slideshow": {
     "slide_type": "fragment"
    }
   },
   "outputs": [
    {
     "name": "stdout",
     "output_type": "stream",
     "text": [
      "Could not convert data to an integer.\n",
      "OS error: [Errno 13] Permission denied: 'workfile.txt'\n",
      "OS error: [Errno 2] No such file or directory: 'workfile.txt'\n",
      "Unexpected error: <class 'AssertionError'>\n"
     ]
    }
   ],
   "source": [
    "import sys\n",
    "\n",
    "def read_file(file):\n",
    "    try:\n",
    "        i = int(open(file).readline().strip())\n",
    "        assert i < 0\n",
    "    except OSError as err:\n",
    "        print(\"OS error: {0}\".format(err))\n",
    "    except ValueError:\n",
    "        print(\"Could not convert data to an integer.\")\n",
    "    except:\n",
    "        print(\"Unexpected error:\", sys.exc_info()[0])\n",
    "\n",
    "!date > workfile.txt\n",
    "read_file('workfile.txt')\n",
    "!chmod u-r workfile.txt\n",
    "read_file('workfile.txt')\n",
    "!rm -f workfile.txt\n",
    "read_file('workfile.txt')\n",
    "!echo \"1\" > workfile.txt\n",
    "read_file('workfile.txt')"
   ]
  },
  {
   "cell_type": "markdown",
   "metadata": {
    "slideshow": {
     "slide_type": "slide"
    }
   },
   "source": [
    "# Raising Exceptions\n",
    "\n",
    "The raise statement allows the programmer to force a specified exception to occur.\n"
   ]
  },
  {
   "cell_type": "code",
   "execution_count": 6,
   "metadata": {
    "slideshow": {
     "slide_type": "fragment"
    }
   },
   "outputs": [
    {
     "ename": "NameError",
     "evalue": "HiThere",
     "output_type": "error",
     "traceback": [
      "\u001b[0;31m---------------------------------------------------------------------------\u001b[0m",
      "\u001b[0;31mNameError\u001b[0m                                 Traceback (most recent call last)",
      "\u001b[0;32m<ipython-input-6-72c183edb298>\u001b[0m in \u001b[0;36m<module>\u001b[0;34m()\u001b[0m\n\u001b[0;32m----> 1\u001b[0;31m \u001b[0;32mraise\u001b[0m \u001b[0mNameError\u001b[0m\u001b[0;34m(\u001b[0m\u001b[0;34m'HiThere'\u001b[0m\u001b[0;34m)\u001b[0m\u001b[0;34m\u001b[0m\u001b[0m\n\u001b[0m",
      "\u001b[0;31mNameError\u001b[0m: HiThere"
     ]
    }
   ],
   "source": [
    "raise NameError('HiThere')"
   ]
  },
  {
   "cell_type": "markdown",
   "metadata": {
    "slideshow": {
     "slide_type": "slide"
    }
   },
   "source": [
    "# Defining Clean-up Actions\n",
    "\n",
    "- The try statement has an optional clause which is intended to define clean-up actions that must be executed under all circumstances.\n",
    "\n",
    "- A finally clause is always executed before leaving the try statement"
   ]
  },
  {
   "cell_type": "code",
   "execution_count": 7,
   "metadata": {
    "slideshow": {
     "slide_type": "fragment"
    }
   },
   "outputs": [
    {
     "name": "stdout",
     "output_type": "stream",
     "text": [
      "Goodbye, world!\n"
     ]
    },
    {
     "ename": "KeyboardInterrupt",
     "evalue": "",
     "output_type": "error",
     "traceback": [
      "\u001b[0;31m---------------------------------------------------------------------------\u001b[0m",
      "\u001b[0;31mKeyboardInterrupt\u001b[0m                         Traceback (most recent call last)",
      "\u001b[0;32m<ipython-input-7-7786db0b9fd1>\u001b[0m in \u001b[0;36m<module>\u001b[0;34m()\u001b[0m\n\u001b[1;32m      1\u001b[0m \u001b[0;32mtry\u001b[0m\u001b[0;34m:\u001b[0m\u001b[0;34m\u001b[0m\u001b[0m\n\u001b[0;32m----> 2\u001b[0;31m      \u001b[0;32mraise\u001b[0m \u001b[0mKeyboardInterrupt\u001b[0m\u001b[0;34m\u001b[0m\u001b[0m\n\u001b[0m\u001b[1;32m      3\u001b[0m \u001b[0;32mfinally\u001b[0m\u001b[0;34m:\u001b[0m\u001b[0;34m\u001b[0m\u001b[0m\n\u001b[1;32m      4\u001b[0m      \u001b[0mprint\u001b[0m\u001b[0;34m(\u001b[0m\u001b[0;34m'Goodbye, world!'\u001b[0m\u001b[0;34m)\u001b[0m\u001b[0;34m\u001b[0m\u001b[0m\n",
      "\u001b[0;31mKeyboardInterrupt\u001b[0m: "
     ]
    }
   ],
   "source": [
    "try:\n",
    "     raise KeyboardInterrupt\n",
    "finally:\n",
    "     print('Goodbye, world!')"
   ]
  },
  {
   "cell_type": "markdown",
   "metadata": {
    "slideshow": {
     "slide_type": "slide"
    }
   },
   "source": [
    "### Exercise\n",
    "\n",
    "Write a `try ... except` statement to help the user to enter a date with \n",
    "DD/MM/YYYY format.\n",
    "- DD must be in [1,31]\n",
    "- MM must be in [1,12]\n",
    "- YYYY must be positive and lower than 2018\n",
    "- raise ValueError \"Not a valid date\"\n",
    "- Hint: Use string method `split`"
   ]
  },
  {
   "cell_type": "markdown",
   "metadata": {
    "slideshow": {
     "slide_type": "fragment"
    }
   },
   "source": [
    "<button data-toggle=\"collapse\" data-target=\"#date\" class='btn btn-primary'>Solution</button>\n",
    "<div id=\"date\" class=\"collapse\">\n",
    "```python\n",
    "def check_date(date):\n",
    "    d, m, y = date.split(\"/\")\n",
    "    d, m, y = int(d), int(m), int(y)\n",
    "\n",
    "    months = [31, 28, 31, 30, 31, 30, 31, 31, 30, 31, 30, 31]\n",
    "\n",
    "    if 12 < m or m < 1:\n",
    "        return False\n",
    "\n",
    "    if y%400==0 or (y%4==0 and y%100!=0):\n",
    "        months[1] = 29\n",
    "    else:\n",
    "        months[1] = 28\n",
    "\n",
    "    if months[m-1] < d or d < 1:\n",
    "        return False\n",
    "    \n",
    "    if y < 0:\n",
    "        return False\n",
    "    else:\n",
    "        return True\n",
    "\n",
    "while True:\n",
    "    try:\n",
    "        if check_date(input(\"Please enter a date (DD/MM/YYYY) : \")):\n",
    "            print(\"OK\")\n",
    "            break\n",
    "        else:\n",
    "            raise ValueError()\n",
    "\n",
    "    except ValueError:\n",
    "        print(\"Oops!  That was no valid date.  Try again...\")\n",
    "```"
   ]
  },
  {
   "cell_type": "markdown",
   "metadata": {
    "collapsed": true,
    "slideshow": {
     "slide_type": "slide"
    }
   },
   "source": [
    "### Exercise \n",
    "Improve the function above by using the KeyError exception to fill the dictionary."
   ]
  },
  {
   "cell_type": "code",
   "execution_count": 8,
   "metadata": {
    "slideshow": {
     "slide_type": "fragment"
    }
   },
   "outputs": [
    {
     "data": {
      "text/plain": [
       "{'hello': 3, 'world': 2}"
      ]
     },
     "execution_count": 8,
     "metadata": {},
     "output_type": "execute_result"
    }
   ],
   "source": [
    "def reduce ( words ):\n",
    "    \"\"\" Count the number of occurences of a word in list\n",
    "    and return a dictionary \"\"\"\n",
    "    current_word = None\n",
    "    result = {}\n",
    "    for word in words:\n",
    "        if current_word is None:\n",
    "            current_word = word\n",
    "            result[word] = 0  # Add the first word in result\n",
    "\n",
    "        # this if only works because words output is sorted \n",
    "        if current_word == word:\n",
    "            result[word] += 1\n",
    "        else:\n",
    "            current_word = word\n",
    "            result[word] = 1\n",
    "\n",
    "    return result\n",
    "\n",
    "reduce( 3 * ['hello'] + 2 * ['world'])"
   ]
  },
  {
   "cell_type": "markdown",
   "metadata": {},
   "source": [
    "<button data-toggle=\"collapse\" data-target=\"#keyerror\" class='btn btn-primary'>Solution</button>\n",
    "<div id=\"keyerror\" class=\"collapse\">\n",
    "```python\n",
    "def reduce(words):\n",
    "    \"\"\" Read the sorted list of words and fill a dictionary with every word \n",
    "    as keys and its number of occurences as values\"\"\"\n",
    "    d = {}\n",
    "    for w in words:\n",
    "        try:\n",
    "            d[w] +=1\n",
    "        except KeyError:\n",
    "            d[w] = 1 \n",
    "    return d\n",
    "```"
   ]
  }
 ],
 "metadata": {
  "kernelspec": {
   "display_name": "Python 3",
   "language": "python",
   "name": "python3"
  },
  "language_info": {
   "codemirror_mode": {
    "name": "ipython",
    "version": 3
   },
   "file_extension": ".py",
   "mimetype": "text/x-python",
   "name": "python",
   "nbconvert_exporter": "python",
   "pygments_lexer": "ipython3",
   "version": "3.6.3"
  }
 },
 "nbformat": 4,
 "nbformat_minor": 2
}
