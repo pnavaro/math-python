{
 "cells": [
  {
   "cell_type": "markdown",
   "metadata": {},
   "source": [
    "Pierre Navaro - [Institut de Recherche Mathématique de Rennes](https://irmar.univ-rennes1.fr) - [CNRS](http://www.cnrs.fr/)"
   ]
  },
  {
   "cell_type": "markdown",
   "metadata": {
    "slideshow": {
     "slide_type": "slide"
    }
   },
   "source": [
    "# Virtual Environments and Packages\n",
    "\n",
    "By creating a virtual environment, you get a self-contained directory tree that contains a Python installation for a particular version of Python, plus a number of additional packages.\n",
    "\n",
    "* Different applications can then use different virtual environments.\n",
    "\n",
    "To create a virtual environment, decide upon a directory where you want to place it, and run the venv module as a script with the directory path:\n",
    "```bash\n",
    "python3 -m venv new-env\n",
    "```\n",
    "To activate it.\n",
    "- On Windows, run:\n",
    "```sh\n",
    "activate\n",
    "```\n",
    "- On Unix or MacOS, run:\n",
    "```bash\n",
    "source activate\n",
    "```"
   ]
  },
  {
   "cell_type": "markdown",
   "metadata": {
    "slideshow": {
     "slide_type": "slide"
    }
   },
   "source": [
    "Activating the virtual environment will change your shell’s prompt to show what virtual environment you’re using, and modify the environment so that running python will get you that particular version and installation of Python. \n",
    "<pre>\n",
    "$ source ~/envs/new-env/bin/activate\n",
    "(new-env) $ python\n",
    "Python 3.6.2 (default, Jul 17 2017, 16:44:45) \n",
    "[GCC 4.2.1 Compatible Apple LLVM 8.1.0 (clang-802.0.42)] on darwin\n",
    "Type \"help\", \"copyright\", \"credits\" or \"license\" for more information.\n",
    ">>> \n",
    "</pre>"
   ]
  },
  {
   "cell_type": "markdown",
   "metadata": {
    "slideshow": {
     "slide_type": "slide"
    }
   },
   "source": [
    "# Managing environments with conda\n",
    "\n",
    "To create a new environment with Python2:\n",
    "\n",
    "```sh\n",
    "$ conda create --name python2 python=2\n",
    "```\n",
    "\n",
    "to activate this environment\n",
    "\n",
    "```sh\n",
    "$ source activate python2\n",
    "```\n",
    "\n",
    "List all environments\n",
    "\n",
    "```sh\n",
    "$ conda env list\n",
    "```\n",
    "\n",
    "You can also clone environment, check the [documentation](https://conda.io/docs/using/envs.html)."
   ]
  },
  {
   "cell_type": "markdown",
   "metadata": {
    "slideshow": {
     "slide_type": "slide"
    }
   },
   "source": [
    "# Managing Packages with pip\n",
    "\n",
    "- Search a package\n",
    "\n",
    "```bash\n",
    "$ pip3 search biopython\n",
    "```\n",
    "\n",
    "- Install a package (or update if it is already installed)\n",
    "\n",
    "```bash\n",
    "$ pip3 install -U biopython\n",
    "```\n",
    "\n",
    "- List packages installed\n",
    "\n",
    "```bash\n",
    "$ pip3 list\n",
    "```\n"
   ]
  },
  {
   "cell_type": "markdown",
   "metadata": {
    "slideshow": {
     "slide_type": "slide"
    }
   },
   "source": [
    "# Managing packages with conda\n",
    "\n",
    "* Use conda-forge\n",
    "\n",
    "```sh\n",
    "$ conda config --add channels conda-forge\n",
    "```\n",
    "\n",
    "* List all packages\n",
    "\n",
    "```sh\n",
    "$ conda list\n",
    "$ conda list -n python2\n",
    "```\n",
    "\n",
    "* Search a package\n",
    "\n",
    "```sh\n",
    "$ conda search biopython\n",
    "```\n",
    "\n",
    "* Install a package\n",
    "\n",
    "```sh\n",
    "$ conda install biopython # install from default channel\n",
    "$ conda install -n python2 biopython # install in python2 env\n",
    "$ conda install -c bioconda biopython # install from bioconda\n",
    "```\n",
    "\n",
    "You can also update or remove, check the [documentation](https://conda.io/docs/using/pkgs.html)."
   ]
  }
 ],
 "metadata": {
  "kernelspec": {
   "display_name": "Python 3",
   "language": "python",
   "name": "python3"
  },
  "language_info": {
   "codemirror_mode": {
    "name": "ipython",
    "version": 3
   },
   "file_extension": ".py",
   "mimetype": "text/x-python",
   "name": "python",
   "nbconvert_exporter": "python",
   "pygments_lexer": "ipython3",
   "version": "3.6.3"
  }
 },
 "nbformat": 4,
 "nbformat_minor": 2
}
