{
 "cells": [
  {
   "cell_type": "markdown",
   "metadata": {
    "slideshow": {
     "slide_type": "skip"
    }
   },
   "source": [
    "# References\n",
    "\n",
    "* [Numba by Loic Gouarin](https://github.com/gouarin/cours_numba_2017)\n",
    "* [Numba Documentation](http://numba.pydata.org/numba-doc/latest/index.html)\n",
    "* [Numbapro](https://github.com/ContinuumIO/numbapro-examples/)\n",
    "* [Numba examples](https://github.com/harrism/numba_examples)\n"
   ]
  },
  {
   "cell_type": "markdown",
   "metadata": {
    "slideshow": {
     "slide_type": "slide"
    }
   },
   "source": [
    "<img src=\"https://cdn.dribbble.com/users/915978/screenshots/3034118/numba_1x.jpg\" alt=\"Drawing\" style=\"width: 40%;\"/>\n",
    "\n"
   ]
  },
  {
   "cell_type": "code",
   "execution_count": 1,
   "metadata": {
    "slideshow": {
     "slide_type": "skip"
    }
   },
   "outputs": [],
   "source": [
    "import numpy as np"
   ]
  },
  {
   "cell_type": "code",
   "execution_count": 2,
   "metadata": {
    "slideshow": {
     "slide_type": "fragment"
    }
   },
   "outputs": [],
   "source": [
    "from numba import jit\n",
    "\n",
    "@jit\n",
    "def sum(a, b):\n",
    "    return a + b"
   ]
  },
  {
   "cell_type": "code",
   "execution_count": 3,
   "metadata": {
    "slideshow": {
     "slide_type": "fragment"
    }
   },
   "outputs": [
    {
     "name": "stdout",
     "output_type": "stream",
     "text": [
      "3\n",
      "(2+1j)\n"
     ]
    }
   ],
   "source": [
    "print(sum(1, 2))\n",
    "print(sum(1j, 2))"
   ]
  },
  {
   "cell_type": "code",
   "execution_count": 4,
   "metadata": {
    "slideshow": {
     "slide_type": "fragment"
    }
   },
   "outputs": [
    {
     "name": "stdout",
     "output_type": "stream",
     "text": [
      "[ 0.55709032  0.70001499  0.68223984  0.79070666  1.1158453   0.50064724\n",
      "  0.81100589  0.50927336  0.29776204  1.46868564]\n"
     ]
    }
   ],
   "source": [
    "x = np.random.rand(10)\n",
    "y = np.random.rand(10)\n",
    "print(sum(x, y))"
   ]
  },
  {
   "cell_type": "code",
   "execution_count": 5,
   "metadata": {
    "slideshow": {
     "slide_type": "slide"
    }
   },
   "outputs": [],
   "source": [
    "x = np.random.rand(10000000)"
   ]
  },
  {
   "cell_type": "code",
   "execution_count": 6,
   "metadata": {
    "slideshow": {
     "slide_type": "fragment"
    }
   },
   "outputs": [
    {
     "name": "stdout",
     "output_type": "stream",
     "text": [
      "6.69 ms ± 151 µs per loop (mean ± std. dev. of 7 runs, 100 loops each)\n"
     ]
    }
   ],
   "source": [
    "%timeit x.sum()"
   ]
  },
  {
   "cell_type": "code",
   "execution_count": 7,
   "metadata": {
    "slideshow": {
     "slide_type": "fragment"
    }
   },
   "outputs": [],
   "source": [
    "@jit\n",
    "def numba_sum(x):\n",
    "    res= 0\n",
    "    for i in range(x.size):\n",
    "        res += x[i]\n",
    "    return res"
   ]
  },
  {
   "cell_type": "code",
   "execution_count": 8,
   "metadata": {
    "slideshow": {
     "slide_type": "fragment"
    }
   },
   "outputs": [
    {
     "name": "stdout",
     "output_type": "stream",
     "text": [
      "12.3 ms ± 54.4 µs per loop (mean ± std. dev. of 7 runs, 100 loops each)\n"
     ]
    }
   ],
   "source": [
    "%timeit numba_sum(x)"
   ]
  },
  {
   "cell_type": "code",
   "execution_count": 9,
   "metadata": {
    "slideshow": {
     "slide_type": "fragment"
    }
   },
   "outputs": [],
   "source": [
    "@jit\n",
    "def jit_sum(a, b):\n",
    "    return a + b"
   ]
  },
  {
   "cell_type": "code",
   "execution_count": 10,
   "metadata": {
    "slideshow": {
     "slide_type": "skip"
    }
   },
   "outputs": [],
   "source": [
    "jit_sum.inspect_types() # jit_sum has not been compiled"
   ]
  },
  {
   "cell_type": "code",
   "execution_count": 11,
   "metadata": {
    "slideshow": {
     "slide_type": "fragment"
    }
   },
   "outputs": [
    {
     "name": "stdout",
     "output_type": "stream",
     "text": [
      "jit_sum (int64, int64)\n",
      "--------------------------------------------------------------------------------\n",
      "# File: <ipython-input-9-ebda2b2f7dda>\n",
      "# --- LINE 1 --- \n",
      "# label 0\n",
      "#   del b\n",
      "#   del a\n",
      "#   del $0.3\n",
      "\n",
      "@jit\n",
      "\n",
      "# --- LINE 2 --- \n",
      "\n",
      "def jit_sum(a, b):\n",
      "\n",
      "    # --- LINE 3 --- \n",
      "    #   a = arg(0, name=a)  :: int64\n",
      "    #   b = arg(1, name=b)  :: int64\n",
      "    #   $0.3 = a + b  :: int64\n",
      "    #   $0.4 = cast(value=$0.3)  :: int64\n",
      "    #   return $0.4\n",
      "\n",
      "    return a + b\n",
      "\n",
      "\n",
      "================================================================================\n"
     ]
    }
   ],
   "source": [
    "jit_sum(1, 2) # call it once with ints\n",
    "jit_sum.inspect_types()"
   ]
  },
  {
   "cell_type": "code",
   "execution_count": 12,
   "metadata": {
    "slideshow": {
     "slide_type": "slide"
    }
   },
   "outputs": [
    {
     "name": "stdout",
     "output_type": "stream",
     "text": [
      "jit_sum (int64, int64)\n",
      "--------------------------------------------------------------------------------\n",
      "# File: <ipython-input-9-ebda2b2f7dda>\n",
      "# --- LINE 1 --- \n",
      "# label 0\n",
      "#   del b\n",
      "#   del a\n",
      "#   del $0.3\n",
      "\n",
      "@jit\n",
      "\n",
      "# --- LINE 2 --- \n",
      "\n",
      "def jit_sum(a, b):\n",
      "\n",
      "    # --- LINE 3 --- \n",
      "    #   a = arg(0, name=a)  :: int64\n",
      "    #   b = arg(1, name=b)  :: int64\n",
      "    #   $0.3 = a + b  :: int64\n",
      "    #   $0.4 = cast(value=$0.3)  :: int64\n",
      "    #   return $0.4\n",
      "\n",
      "    return a + b\n",
      "\n",
      "\n",
      "================================================================================\n",
      "jit_sum (float64, float64)\n",
      "--------------------------------------------------------------------------------\n",
      "# File: <ipython-input-9-ebda2b2f7dda>\n",
      "# --- LINE 1 --- \n",
      "# label 0\n",
      "#   del b\n",
      "#   del a\n",
      "#   del $0.3\n",
      "\n",
      "@jit\n",
      "\n",
      "# --- LINE 2 --- \n",
      "\n",
      "def jit_sum(a, b):\n",
      "\n",
      "    # --- LINE 3 --- \n",
      "    #   a = arg(0, name=a)  :: float64\n",
      "    #   b = arg(1, name=b)  :: float64\n",
      "    #   $0.3 = a + b  :: float64\n",
      "    #   $0.4 = cast(value=$0.3)  :: float64\n",
      "    #   return $0.4\n",
      "\n",
      "    return a + b\n",
      "\n",
      "\n",
      "================================================================================\n"
     ]
    }
   ],
   "source": [
    "jit_sum(1., 2.) # call it once with doubles\n",
    "jit_sum.inspect_types()"
   ]
  },
  {
   "cell_type": "code",
   "execution_count": 13,
   "metadata": {
    "scrolled": true,
    "slideshow": {
     "slide_type": "slide"
    }
   },
   "outputs": [
    {
     "name": "stdout",
     "output_type": "stream",
     "text": [
      "; ModuleID = 'jit_sum'\n",
      "source_filename = \"<string>\"\n",
      "target datalayout = \"e-m:e-i64:64-f80:128-n8:16:32:64-S128\"\n",
      "target triple = \"x86_64-unknown-linux-gnu\"\n",
      "\n",
      "@.const.jit_sum = internal constant [8 x i8] c\"jit_sum\\00\"\n",
      "@\".const.Fatal error: missing _dynfunc.Closure\" = internal constant [38 x i8] c\"Fatal error: missing _dynfunc.Closure\\00\"\n",
      "@PyExc_RuntimeError = external global i8\n",
      "@\".const.missing Environment\" = internal constant [20 x i8] c\"missing Environment\\00\"\n",
      "\n",
      "; Function Attrs: norecurse nounwind\n",
      "define i32 @\"_ZN8__main__11jit_sum$248Edd\"(double* noalias nocapture %retptr, { i8*, i32 }** noalias nocapture readnone %excinfo, i8* noalias nocapture readnone %env, double %arg.a, double %arg.b) local_unnamed_addr #0 {\n",
      "entry:\n",
      "  %.15 = fadd double %arg.a, %arg.b\n",
      "  store double %.15, double* %retptr, align 8\n",
      "  ret i32 0\n",
      "}\n",
      "\n",
      "define i8* @\"_ZN7cpython8__main__11jit_sum$248Edd\"(i8* %py_closure, i8* %py_args, i8* nocapture readnone %py_kws) local_unnamed_addr {\n",
      "entry:\n",
      "  %.5 = alloca i8*, align 8\n",
      "  %.6 = alloca i8*, align 8\n",
      "  %.7 = call i32 (i8*, i8*, i64, i64, ...) @PyArg_UnpackTuple(i8* %py_args, i8* getelementptr inbounds ([8 x i8], [8 x i8]* @.const.jit_sum, i64 0, i64 0), i64 2, i64 2, i8** nonnull %.5, i8** nonnull %.6)\n",
      "  %.8 = icmp eq i32 %.7, 0\n",
      "  br i1 %.8, label %entry.if, label %entry.endif, !prof !0\n",
      "\n",
      "entry.if:                                         ; preds = %entry.endif.endif.endif.endif, %entry.endif.endif.endif, %entry\n",
      "  ret i8* null\n",
      "\n",
      "entry.endif:                                      ; preds = %entry\n",
      "  %.12 = icmp eq i8* %py_closure, null\n",
      "  br i1 %.12, label %entry.endif.if, label %entry.endif.endif, !prof !0\n",
      "\n",
      "entry.endif.if:                                   ; preds = %entry.endif\n",
      "  %.14 = call i32 @puts(i8* getelementptr inbounds ([38 x i8], [38 x i8]* @\".const.Fatal error: missing _dynfunc.Closure\", i64 0, i64 0))\n",
      "  unreachable\n",
      "\n",
      "entry.endif.endif:                                ; preds = %entry.endif\n",
      "  %.16 = ptrtoint i8* %py_closure to i64\n",
      "  %.17 = add i64 %.16, 24\n",
      "  %.19 = inttoptr i64 %.17 to { i8* }*\n",
      "  %.201 = bitcast { i8* }* %.19 to i8**\n",
      "  %.21 = load i8*, i8** %.201, align 8\n",
      "  %.26 = icmp eq i8* %.21, null\n",
      "  br i1 %.26, label %entry.endif.endif.if, label %entry.endif.endif.endif, !prof !0\n",
      "\n",
      "entry.endif.endif.if:                             ; preds = %entry.endif.endif\n",
      "  call void @PyErr_SetString(i8* nonnull @PyExc_RuntimeError, i8* getelementptr inbounds ([20 x i8], [20 x i8]* @\".const.missing Environment\", i64 0, i64 0))\n",
      "  ret i8* null\n",
      "\n",
      "entry.endif.endif.endif:                          ; preds = %entry.endif.endif\n",
      "  %.30 = load i8*, i8** %.5, align 8\n",
      "  %.31 = call i8* @PyNumber_Float(i8* %.30)\n",
      "  %.32 = call double @PyFloat_AsDouble(i8* %.31)\n",
      "  call void @Py_DecRef(i8* %.31)\n",
      "  %.34 = call i8* @PyErr_Occurred()\n",
      "  %.35 = icmp eq i8* %.34, null\n",
      "  br i1 %.35, label %entry.endif.endif.endif.endif, label %entry.if, !prof !1\n",
      "\n",
      "entry.endif.endif.endif.endif:                    ; preds = %entry.endif.endif.endif\n",
      "  %.39 = load i8*, i8** %.6, align 8\n",
      "  %.40 = call i8* @PyNumber_Float(i8* %.39)\n",
      "  %.41 = call double @PyFloat_AsDouble(i8* %.40)\n",
      "  call void @Py_DecRef(i8* %.40)\n",
      "  %.43 = call i8* @PyErr_Occurred()\n",
      "  %.44 = icmp eq i8* %.43, null\n",
      "  br i1 %.44, label %entry.endif.endif.endif.endif.endif, label %entry.if, !prof !1\n",
      "\n",
      "entry.endif.endif.endif.endif.endif:              ; preds = %entry.endif.endif.endif.endif\n",
      "  %.15.i = fadd double %.32, %.41\n",
      "  %.65 = call i8* @PyFloat_FromDouble(double %.15.i)\n",
      "  ret i8* %.65\n",
      "}\n",
      "\n",
      "declare i32 @PyArg_UnpackTuple(i8*, i8*, i64, i64, ...) local_unnamed_addr\n",
      "\n",
      "; Function Attrs: nounwind\n",
      "declare i32 @puts(i8* nocapture readonly) local_unnamed_addr #1\n",
      "\n",
      "declare void @PyErr_SetString(i8*, i8*) local_unnamed_addr\n",
      "\n",
      "declare i8* @PyNumber_Float(i8*) local_unnamed_addr\n",
      "\n",
      "declare double @PyFloat_AsDouble(i8*) local_unnamed_addr\n",
      "\n",
      "declare void @Py_DecRef(i8*) local_unnamed_addr\n",
      "\n",
      "declare i8* @PyErr_Occurred() local_unnamed_addr\n",
      "\n",
      "declare i8* @PyFloat_FromDouble(double) local_unnamed_addr\n",
      "\n",
      "; Function Attrs: nounwind\n",
      "declare void @llvm.stackprotector(i8*, i8**) #1\n",
      "\n",
      "attributes #0 = { norecurse nounwind }\n",
      "attributes #1 = { nounwind }\n",
      "\n",
      "!0 = !{!\"branch_weights\", i32 1, i32 99}\n",
      "!1 = !{!\"branch_weights\", i32 99, i32 1}\n",
      "\n",
      "; ModuleID = 'jit_sum'\n",
      "source_filename = \"<string>\"\n",
      "target datalayout = \"e-m:e-i64:64-f80:128-n8:16:32:64-S128\"\n",
      "target triple = \"x86_64-unknown-linux-gnu\"\n",
      "\n",
      "@.const.jit_sum = internal constant [8 x i8] c\"jit_sum\\00\"\n",
      "@\".const.Fatal error: missing _dynfunc.Closure\" = internal constant [38 x i8] c\"Fatal error: missing _dynfunc.Closure\\00\"\n",
      "@PyExc_RuntimeError = external global i8\n",
      "@\".const.missing Environment\" = internal constant [20 x i8] c\"missing Environment\\00\"\n",
      "\n",
      "; Function Attrs: norecurse nounwind\n",
      "define i32 @\"_ZN8__main__11jit_sum$247Exx\"(i64* noalias nocapture %retptr, { i8*, i32 }** noalias nocapture readnone %excinfo, i8* noalias nocapture readnone %env, i64 %arg.a, i64 %arg.b) local_unnamed_addr #0 {\n",
      "entry:\n",
      "  %.15 = add nsw i64 %arg.b, %arg.a\n",
      "  store i64 %.15, i64* %retptr, align 8\n",
      "  ret i32 0\n",
      "}\n",
      "\n",
      "define i8* @\"_ZN7cpython8__main__11jit_sum$247Exx\"(i8* %py_closure, i8* %py_args, i8* nocapture readnone %py_kws) local_unnamed_addr {\n",
      "entry:\n",
      "  %.5 = alloca i8*, align 8\n",
      "  %.6 = alloca i8*, align 8\n",
      "  %.7 = call i32 (i8*, i8*, i64, i64, ...) @PyArg_UnpackTuple(i8* %py_args, i8* getelementptr inbounds ([8 x i8], [8 x i8]* @.const.jit_sum, i64 0, i64 0), i64 2, i64 2, i8** nonnull %.5, i8** nonnull %.6)\n",
      "  %.8 = icmp eq i32 %.7, 0\n",
      "  br i1 %.8, label %entry.if, label %entry.endif, !prof !0\n",
      "\n",
      "entry.if:                                         ; preds = %entry.endif.endif.endif.endif.endif.endif, %entry.endif.endif.endif.endif, %entry\n",
      "  ret i8* null\n",
      "\n",
      "entry.endif:                                      ; preds = %entry\n",
      "  %.12 = icmp eq i8* %py_closure, null\n",
      "  br i1 %.12, label %entry.endif.if, label %entry.endif.endif, !prof !0\n",
      "\n",
      "entry.endif.if:                                   ; preds = %entry.endif\n",
      "  %.14 = call i32 @puts(i8* getelementptr inbounds ([38 x i8], [38 x i8]* @\".const.Fatal error: missing _dynfunc.Closure\", i64 0, i64 0))\n",
      "  unreachable\n",
      "\n",
      "entry.endif.endif:                                ; preds = %entry.endif\n",
      "  %.16 = ptrtoint i8* %py_closure to i64\n",
      "  %.17 = add i64 %.16, 24\n",
      "  %.19 = inttoptr i64 %.17 to { i8* }*\n",
      "  %.201 = bitcast { i8* }* %.19 to i8**\n",
      "  %.21 = load i8*, i8** %.201, align 8\n",
      "  %.26 = icmp eq i8* %.21, null\n",
      "  br i1 %.26, label %entry.endif.endif.if, label %entry.endif.endif.endif, !prof !0\n",
      "\n",
      "entry.endif.endif.if:                             ; preds = %entry.endif.endif\n",
      "  call void @PyErr_SetString(i8* nonnull @PyExc_RuntimeError, i8* getelementptr inbounds ([20 x i8], [20 x i8]* @\".const.missing Environment\", i64 0, i64 0))\n",
      "  ret i8* null\n",
      "\n",
      "entry.endif.endif.endif:                          ; preds = %entry.endif.endif\n",
      "  %.30 = load i8*, i8** %.5, align 8\n",
      "  %.32 = call i8* @PyNumber_Long(i8* %.30)\n",
      "  %.33 = icmp eq i8* %.32, null\n",
      "  br i1 %.33, label %entry.endif.endif.endif.endif, label %entry.endif.endif.endif.if, !prof !0\n",
      "\n",
      "entry.endif.endif.endif.if:                       ; preds = %entry.endif.endif.endif\n",
      "  %.35 = call i64 @PyLong_AsLongLong(i8* nonnull %.32)\n",
      "  call void @Py_DecRef(i8* nonnull %.32)\n",
      "  br label %entry.endif.endif.endif.endif\n",
      "\n",
      "entry.endif.endif.endif.endif:                    ; preds = %entry.endif.endif.endif, %entry.endif.endif.endif.if\n",
      "  %.31.0 = phi i64 [ %.35, %entry.endif.endif.endif.if ], [ undef, %entry.endif.endif.endif ]\n",
      "  %.40 = call i8* @PyErr_Occurred()\n",
      "  %.41 = icmp eq i8* %.40, null\n",
      "  br i1 %.41, label %entry.endif.endif.endif.endif.endif, label %entry.if, !prof !1\n",
      "\n",
      "entry.endif.endif.endif.endif.endif:              ; preds = %entry.endif.endif.endif.endif\n",
      "  %.45 = load i8*, i8** %.6, align 8\n",
      "  %.47 = call i8* @PyNumber_Long(i8* %.45)\n",
      "  %.48 = icmp eq i8* %.47, null\n",
      "  br i1 %.48, label %entry.endif.endif.endif.endif.endif.endif, label %entry.endif.endif.endif.endif.endif.if, !prof !0\n",
      "\n",
      "entry.endif.endif.endif.endif.endif.if:           ; preds = %entry.endif.endif.endif.endif.endif\n",
      "  %.50 = call i64 @PyLong_AsLongLong(i8* nonnull %.47)\n",
      "  call void @Py_DecRef(i8* nonnull %.47)\n",
      "  br label %entry.endif.endif.endif.endif.endif.endif\n",
      "\n",
      "entry.endif.endif.endif.endif.endif.endif:        ; preds = %entry.endif.endif.endif.endif.endif, %entry.endif.endif.endif.endif.endif.if\n",
      "  %.46.0 = phi i64 [ %.50, %entry.endif.endif.endif.endif.endif.if ], [ undef, %entry.endif.endif.endif.endif.endif ]\n",
      "  %.55 = call i8* @PyErr_Occurred()\n",
      "  %.56 = icmp eq i8* %.55, null\n",
      "  br i1 %.56, label %entry.endif.endif.endif.endif.endif.endif.endif, label %entry.if, !prof !1\n",
      "\n",
      "entry.endif.endif.endif.endif.endif.endif.endif:  ; preds = %entry.endif.endif.endif.endif.endif.endif\n",
      "  %.15.i = add nsw i64 %.46.0, %.31.0\n",
      "  %.78 = call i8* @PyLong_FromLongLong(i64 %.15.i)\n",
      "  ret i8* %.78\n",
      "}\n",
      "\n",
      "declare i32 @PyArg_UnpackTuple(i8*, i8*, i64, i64, ...) local_unnamed_addr\n",
      "\n",
      "; Function Attrs: nounwind\n",
      "declare i32 @puts(i8* nocapture readonly) local_unnamed_addr #1\n",
      "\n",
      "declare void @PyErr_SetString(i8*, i8*) local_unnamed_addr\n",
      "\n",
      "declare i8* @PyNumber_Long(i8*) local_unnamed_addr\n",
      "\n",
      "declare i64 @PyLong_AsLongLong(i8*) local_unnamed_addr\n",
      "\n",
      "declare void @Py_DecRef(i8*) local_unnamed_addr\n",
      "\n",
      "declare i8* @PyErr_Occurred() local_unnamed_addr\n",
      "\n",
      "declare i8* @PyLong_FromLongLong(i64) local_unnamed_addr\n",
      "\n",
      "; Function Attrs: nounwind\n",
      "declare void @llvm.stackprotector(i8*, i8**) #1\n",
      "\n",
      "attributes #0 = { norecurse nounwind }\n",
      "attributes #1 = { nounwind }\n",
      "\n",
      "!0 = !{!\"branch_weights\", i32 1, i32 99}\n",
      "!1 = !{!\"branch_weights\", i32 99, i32 1}\n",
      "\n"
     ]
    }
   ],
   "source": [
    "for k, v in jit_sum.inspect_llvm().items():\n",
    "    print(v)"
   ]
  },
  {
   "cell_type": "code",
   "execution_count": 14,
   "metadata": {},
   "outputs": [
    {
     "name": "stdout",
     "output_type": "stream",
     "text": [
      "\t.text\n",
      "\t.file\t\"jit_sum\"\n",
      "\t.globl\t_ZN8__main__11jit_sum$248Edd\n",
      "\t.p2align\t4, 0x90\n",
      "\t.type\t_ZN8__main__11jit_sum$248Edd,@function\n",
      "_ZN8__main__11jit_sum$248Edd:\n",
      "\tvaddsd\t%xmm1, %xmm0, %xmm0\n",
      "\tvmovsd\t%xmm0, (%rdi)\n",
      "\txorl\t%eax, %eax\n",
      "\tretq\n",
      ".Lfunc_end0:\n",
      "\t.size\t_ZN8__main__11jit_sum$248Edd, .Lfunc_end0-_ZN8__main__11jit_sum$248Edd\n",
      "\n",
      "\t.globl\t_ZN7cpython8__main__11jit_sum$248Edd\n",
      "\t.p2align\t4, 0x90\n",
      "\t.type\t_ZN7cpython8__main__11jit_sum$248Edd,@function\n",
      "_ZN7cpython8__main__11jit_sum$248Edd:\n",
      "\t.cfi_startproc\n",
      "\tpushq\t%r15\n",
      ".Lcfi0:\n",
      "\t.cfi_def_cfa_offset 16\n",
      "\tpushq\t%r14\n",
      ".Lcfi1:\n",
      "\t.cfi_def_cfa_offset 24\n",
      "\tpushq\t%r13\n",
      ".Lcfi2:\n",
      "\t.cfi_def_cfa_offset 32\n",
      "\tpushq\t%r12\n",
      ".Lcfi3:\n",
      "\t.cfi_def_cfa_offset 40\n",
      "\tpushq\t%rbx\n",
      ".Lcfi4:\n",
      "\t.cfi_def_cfa_offset 48\n",
      "\tsubq\t$32, %rsp\n",
      ".Lcfi5:\n",
      "\t.cfi_def_cfa_offset 80\n",
      ".Lcfi6:\n",
      "\t.cfi_offset %rbx, -48\n",
      ".Lcfi7:\n",
      "\t.cfi_offset %r12, -40\n",
      ".Lcfi8:\n",
      "\t.cfi_offset %r13, -32\n",
      ".Lcfi9:\n",
      "\t.cfi_offset %r14, -24\n",
      ".Lcfi10:\n",
      "\t.cfi_offset %r15, -16\n",
      "\tmovq\t%rdi, %rbx\n",
      "\tmovabsq\t$.const.jit_sum, %r10\n",
      "\tmovabsq\t$PyArg_UnpackTuple, %r11\n",
      "\tleaq\t24(%rsp), %r8\n",
      "\tleaq\t16(%rsp), %r9\n",
      "\tmovl\t$2, %edx\n",
      "\tmovl\t$2, %ecx\n",
      "\txorl\t%eax, %eax\n",
      "\tmovq\t%rsi, %rdi\n",
      "\tmovq\t%r10, %rsi\n",
      "\tcallq\t*%r11\n",
      "\ttestl\t%eax, %eax\n",
      "\tje\t.LBB1_1\n",
      "\ttestq\t%rbx, %rbx\n",
      "\tje\t.LBB1_9\n",
      "\tcmpq\t$0, 24(%rbx)\n",
      "\tje\t.LBB1_5\n",
      "\tmovq\t24(%rsp), %rdi\n",
      "\tmovabsq\t$PyNumber_Float, %r14\n",
      "\tcallq\t*%r14\n",
      "\tmovq\t%rax, %rbx\n",
      "\tmovabsq\t$PyFloat_AsDouble, %r15\n",
      "\tmovq\t%rbx, %rdi\n",
      "\tcallq\t*%r15\n",
      "\tvmovsd\t%xmm0, 8(%rsp)\n",
      "\tmovabsq\t$Py_DecRef, %r12\n",
      "\tmovq\t%rbx, %rdi\n",
      "\tcallq\t*%r12\n",
      "\tmovabsq\t$PyErr_Occurred, %r13\n",
      "\tcallq\t*%r13\n",
      "\ttestq\t%rax, %rax\n",
      "\tjne\t.LBB1_1\n",
      "\tmovq\t16(%rsp), %rdi\n",
      "\tcallq\t*%r14\n",
      "\tmovq\t%rax, %rbx\n",
      "\tmovq\t%rbx, %rdi\n",
      "\tcallq\t*%r15\n",
      "\tvmovsd\t%xmm0, (%rsp)\n",
      "\tmovq\t%rbx, %rdi\n",
      "\tcallq\t*%r12\n",
      "\tcallq\t*%r13\n",
      "\ttestq\t%rax, %rax\n",
      "\tjne\t.LBB1_1\n",
      "\tvmovsd\t(%rsp), %xmm0\n",
      "\tvaddsd\t8(%rsp), %xmm0, %xmm0\n",
      "\tmovabsq\t$PyFloat_FromDouble, %rax\n",
      "\tcallq\t*%rax\n",
      ".LBB1_2:\n",
      "\taddq\t$32, %rsp\n",
      "\tpopq\t%rbx\n",
      "\tpopq\t%r12\n",
      "\tpopq\t%r13\n",
      "\tpopq\t%r14\n",
      "\tpopq\t%r15\n",
      "\tretq\n",
      ".LBB1_5:\n",
      "\tmovabsq\t$PyExc_RuntimeError, %rdi\n",
      "\tmovabsq\t$\".const.missing Environment\", %rsi\n",
      "\tmovabsq\t$PyErr_SetString, %rax\n",
      "\tcallq\t*%rax\n",
      ".LBB1_1:\n",
      "\txorl\t%eax, %eax\n",
      "\tjmp\t.LBB1_2\n",
      ".LBB1_9:\n",
      "\tmovabsq\t$\".const.Fatal error: missing _dynfunc.Closure\", %rdi\n",
      "\tmovabsq\t$puts, %rax\n",
      "\tcallq\t*%rax\n",
      ".Lfunc_end1:\n",
      "\t.size\t_ZN7cpython8__main__11jit_sum$248Edd, .Lfunc_end1-_ZN7cpython8__main__11jit_sum$248Edd\n",
      "\t.cfi_endproc\n",
      "\n",
      "\t.type\t.const.jit_sum,@object\n",
      "\t.section\t.rodata,\"a\",@progbits\n",
      ".const.jit_sum:\n",
      "\t.asciz\t\"jit_sum\"\n",
      "\t.size\t.const.jit_sum, 8\n",
      "\n",
      "\t.type\t\".const.Fatal error: missing _dynfunc.Closure\",@object\n",
      "\t.p2align\t4\n",
      "\".const.Fatal error: missing _dynfunc.Closure\":\n",
      "\t.asciz\t\"Fatal error: missing _dynfunc.Closure\"\n",
      "\t.size\t\".const.Fatal error: missing _dynfunc.Closure\", 38\n",
      "\n",
      "\t.type\t\".const.missing Environment\",@object\n",
      "\t.p2align\t4\n",
      "\".const.missing Environment\":\n",
      "\t.asciz\t\"missing Environment\"\n",
      "\t.size\t\".const.missing Environment\", 20\n",
      "\n",
      "\n",
      "\t.section\t\".note.GNU-stack\",\"\",@progbits\n",
      "\n",
      "\t.text\n",
      "\t.file\t\"jit_sum\"\n",
      "\t.globl\t_ZN8__main__11jit_sum$247Exx\n",
      "\t.p2align\t4, 0x90\n",
      "\t.type\t_ZN8__main__11jit_sum$247Exx,@function\n",
      "_ZN8__main__11jit_sum$247Exx:\n",
      "\taddq\t%r8, %rcx\n",
      "\tmovq\t%rcx, (%rdi)\n",
      "\txorl\t%eax, %eax\n",
      "\tretq\n",
      ".Lfunc_end0:\n",
      "\t.size\t_ZN8__main__11jit_sum$247Exx, .Lfunc_end0-_ZN8__main__11jit_sum$247Exx\n",
      "\n",
      "\t.globl\t_ZN7cpython8__main__11jit_sum$247Exx\n",
      "\t.p2align\t4, 0x90\n",
      "\t.type\t_ZN7cpython8__main__11jit_sum$247Exx,@function\n",
      "_ZN7cpython8__main__11jit_sum$247Exx:\n",
      "\t.cfi_startproc\n",
      "\tpushq\t%r15\n",
      ".Lcfi0:\n",
      "\t.cfi_def_cfa_offset 16\n",
      "\tpushq\t%r14\n",
      ".Lcfi1:\n",
      "\t.cfi_def_cfa_offset 24\n",
      "\tpushq\t%r12\n",
      ".Lcfi2:\n",
      "\t.cfi_def_cfa_offset 32\n",
      "\tpushq\t%rbx\n",
      ".Lcfi3:\n",
      "\t.cfi_def_cfa_offset 40\n",
      "\tsubq\t$24, %rsp\n",
      ".Lcfi4:\n",
      "\t.cfi_def_cfa_offset 64\n",
      ".Lcfi5:\n",
      "\t.cfi_offset %rbx, -40\n",
      ".Lcfi6:\n",
      "\t.cfi_offset %r12, -32\n",
      ".Lcfi7:\n",
      "\t.cfi_offset %r14, -24\n",
      ".Lcfi8:\n",
      "\t.cfi_offset %r15, -16\n",
      "\tmovq\t%rdi, %rbx\n",
      "\tmovabsq\t$.const.jit_sum, %r10\n",
      "\tmovabsq\t$PyArg_UnpackTuple, %r11\n",
      "\tleaq\t16(%rsp), %r8\n",
      "\tleaq\t8(%rsp), %r9\n",
      "\tmovl\t$2, %edx\n",
      "\tmovl\t$2, %ecx\n",
      "\txorl\t%eax, %eax\n",
      "\tmovq\t%rsi, %rdi\n",
      "\tmovq\t%r10, %rsi\n",
      "\tcallq\t*%r11\n",
      "\ttestl\t%eax, %eax\n",
      "\tje\t.LBB1_1\n",
      "\ttestq\t%rbx, %rbx\n",
      "\tje\t.LBB1_15\n",
      "\tcmpq\t$0, 24(%rbx)\n",
      "\tje\t.LBB1_5\n",
      "\tmovq\t16(%rsp), %rdi\n",
      "\tmovabsq\t$PyNumber_Long, %r15\n",
      "\tcallq\t*%r15\n",
      "\tmovq\t%rax, %rbx\n",
      "\ttestq\t%rbx, %rbx\n",
      "\tje\t.LBB1_7\n",
      "\tmovabsq\t$PyLong_AsLongLong, %rax\n",
      "\tmovq\t%rbx, %rdi\n",
      "\tcallq\t*%rax\n",
      "\tmovq\t%rax, %r14\n",
      "\tmovabsq\t$Py_DecRef, %rax\n",
      "\tmovq\t%rbx, %rdi\n",
      "\tcallq\t*%rax\n",
      ".LBB1_9:\n",
      "\tmovabsq\t$PyErr_Occurred, %r12\n",
      "\tcallq\t*%r12\n",
      "\ttestq\t%rax, %rax\n",
      "\tjne\t.LBB1_1\n",
      "\tmovq\t8(%rsp), %rdi\n",
      "\tcallq\t*%r15\n",
      "\tmovq\t%rax, %rbx\n",
      "\ttestq\t%rbx, %rbx\n",
      "\tje\t.LBB1_11\n",
      "\tmovabsq\t$PyLong_AsLongLong, %rax\n",
      "\tmovq\t%rbx, %rdi\n",
      "\tcallq\t*%rax\n",
      "\tmovq\t%rax, %r15\n",
      "\tmovabsq\t$Py_DecRef, %rax\n",
      "\tmovq\t%rbx, %rdi\n",
      "\tcallq\t*%rax\n",
      ".LBB1_13:\n",
      "\tcallq\t*%r12\n",
      "\ttestq\t%rax, %rax\n",
      "\tjne\t.LBB1_1\n",
      "\taddq\t%r14, %r15\n",
      "\tmovabsq\t$PyLong_FromLongLong, %rax\n",
      "\tmovq\t%r15, %rdi\n",
      "\tcallq\t*%rax\n",
      ".LBB1_2:\n",
      "\taddq\t$24, %rsp\n",
      "\tpopq\t%rbx\n",
      "\tpopq\t%r12\n",
      "\tpopq\t%r14\n",
      "\tpopq\t%r15\n",
      "\tretq\n",
      ".LBB1_5:\n",
      "\tmovabsq\t$PyExc_RuntimeError, %rdi\n",
      "\tmovabsq\t$\".const.missing Environment\", %rsi\n",
      "\tmovabsq\t$PyErr_SetString, %rax\n",
      "\tcallq\t*%rax\n",
      ".LBB1_1:\n",
      "\txorl\t%eax, %eax\n",
      "\tjmp\t.LBB1_2\n",
      ".LBB1_7:\n",
      "\tjmp\t.LBB1_9\n",
      ".LBB1_11:\n",
      "\tjmp\t.LBB1_13\n",
      ".LBB1_15:\n",
      "\tmovabsq\t$\".const.Fatal error: missing _dynfunc.Closure\", %rdi\n",
      "\tmovabsq\t$puts, %rax\n",
      "\tcallq\t*%rax\n",
      ".Lfunc_end1:\n",
      "\t.size\t_ZN7cpython8__main__11jit_sum$247Exx, .Lfunc_end1-_ZN7cpython8__main__11jit_sum$247Exx\n",
      "\t.cfi_endproc\n",
      "\n",
      "\t.type\t.const.jit_sum,@object\n",
      "\t.section\t.rodata,\"a\",@progbits\n",
      ".const.jit_sum:\n",
      "\t.asciz\t\"jit_sum\"\n",
      "\t.size\t.const.jit_sum, 8\n",
      "\n",
      "\t.type\t\".const.Fatal error: missing _dynfunc.Closure\",@object\n",
      "\t.p2align\t4\n",
      "\".const.Fatal error: missing _dynfunc.Closure\":\n",
      "\t.asciz\t\"Fatal error: missing _dynfunc.Closure\"\n",
      "\t.size\t\".const.Fatal error: missing _dynfunc.Closure\", 38\n",
      "\n",
      "\t.type\t\".const.missing Environment\",@object\n",
      "\t.p2align\t4\n",
      "\".const.missing Environment\":\n",
      "\t.asciz\t\"missing Environment\"\n",
      "\t.size\t\".const.missing Environment\", 20\n",
      "\n",
      "\n",
      "\t.section\t\".note.GNU-stack\",\"\",@progbits\n",
      "\n"
     ]
    }
   ],
   "source": [
    "for k, v in jit_sum.inspect_asm().items():\n",
    "    print(v)"
   ]
  },
  {
   "cell_type": "code",
   "execution_count": 15,
   "metadata": {},
   "outputs": [
    {
     "data": {
      "text/plain": [
       "3"
      ]
     },
     "execution_count": 15,
     "metadata": {},
     "output_type": "execute_result"
    }
   ],
   "source": [
    "jit_sum.py_func(1, 2) # call origin python function without numba process"
   ]
  },
  {
   "cell_type": "markdown",
   "metadata": {},
   "source": [
    "### Types coercion"
   ]
  },
  {
   "cell_type": "code",
   "execution_count": 16,
   "metadata": {},
   "outputs": [],
   "source": [
    "@jit(['int32[:](int32[:], int32[:])',\n",
    "      'int32(int32, int32)'])\n",
    "def product(a, b):\n",
    "    return a*b"
   ]
  },
  {
   "cell_type": "code",
   "execution_count": 17,
   "metadata": {},
   "outputs": [
    {
     "data": {
      "text/plain": [
       "6"
      ]
     },
     "execution_count": 17,
     "metadata": {},
     "output_type": "execute_result"
    }
   ],
   "source": [
    "product(2, 3)"
   ]
  },
  {
   "cell_type": "code",
   "execution_count": 18,
   "metadata": {},
   "outputs": [
    {
     "data": {
      "text/plain": [
       "6"
      ]
     },
     "execution_count": 18,
     "metadata": {},
     "output_type": "execute_result"
    }
   ],
   "source": [
    "product(2.2, 3.2)"
   ]
  },
  {
   "cell_type": "code",
   "execution_count": 19,
   "metadata": {},
   "outputs": [
    {
     "data": {
      "text/plain": [
       "array([ 0,  1,  4,  9, 16, 25, 36, 49, 64, 81], dtype=int32)"
      ]
     },
     "execution_count": 19,
     "metadata": {},
     "output_type": "execute_result"
    }
   ],
   "source": [
    "a = np.arange(10, dtype=np.int32)\n",
    "b = np.arange(10, dtype=np.int32)\n",
    "\n",
    "product(a, b)"
   ]
  },
  {
   "cell_type": "code",
   "execution_count": 20,
   "metadata": {},
   "outputs": [
    {
     "name": "stdout",
     "output_type": "stream",
     "text": [
      "TypeError: No matching definition for argument type(s) array(float64, 1d, C), array(float64, 1d, C)\n"
     ]
    }
   ],
   "source": [
    "a = np.random.random(10) # Numpy arrays contain double by default\n",
    "b = np.random.random(10)\n",
    "try:\n",
    "    product(a, b)\n",
    "except TypeError as e:\n",
    "    print(\"TypeError:\",e)"
   ]
  },
  {
   "cell_type": "markdown",
   "metadata": {
    "slideshow": {
     "slide_type": "slide"
    }
   },
   "source": [
    "## Numba types\n",
    "```C\n",
    "void,\n",
    "intp, uintp,\n",
    "intc, uintc,\n",
    "int8, uint8, int16, uint16, int32, uint32, int64, uint64,\n",
    "float32, float64,\n",
    "complex64, complex128.\n",
    "```\n",
    "### Arrays\n",
    "```C\n",
    "float32[:] \n",
    "float64[:, :]\n",
    "```"
   ]
  },
  {
   "cell_type": "markdown",
   "metadata": {},
   "source": [
    "## Numba flags\n",
    "\n",
    "- ** nopython ** : Compilation fails if you use pure Python objects.\n",
    "- ** nogil ** : Release Global Interpreter Lock (GIL). Enable this option when you use threads.\n",
    "- ** cache ** : Do not recompile the function."
   ]
  },
  {
   "cell_type": "markdown",
   "metadata": {
    "slideshow": {
     "slide_type": "slide"
    }
   },
   "source": [
    "# Inlining\n"
   ]
  },
  {
   "cell_type": "code",
   "execution_count": 21,
   "metadata": {
    "slideshow": {
     "slide_type": "fragment"
    }
   },
   "outputs": [],
   "source": [
    "import math\n",
    "from numba import njit\n",
    "\n",
    "@njit\n",
    "def square(x):\n",
    "    return x ** 2\n",
    "\n",
    "@njit\n",
    "def hypot(x, y):\n",
    "    return math.sqrt(square(x) + square(y))"
   ]
  },
  {
   "cell_type": "code",
   "execution_count": 22,
   "metadata": {
    "slideshow": {
     "slide_type": "fragment"
    }
   },
   "outputs": [
    {
     "data": {
      "text/plain": [
       "3.605551275463989"
      ]
     },
     "execution_count": 22,
     "metadata": {},
     "output_type": "execute_result"
    }
   ],
   "source": [
    "hypot(2., 3.)"
   ]
  },
  {
   "cell_type": "code",
   "execution_count": 23,
   "metadata": {
    "scrolled": false,
    "slideshow": {
     "slide_type": "subslide"
    }
   },
   "outputs": [
    {
     "name": "stdout",
     "output_type": "stream",
     "text": [
      "\t.text\n",
      "\t.file\t\"hypot\"\n",
      "\t.globl\t_ZN8__main__10hypot$2412Edd\n",
      "\t.p2align\t4, 0x90\n",
      "\t.type\t_ZN8__main__10hypot$2412Edd,@function\n",
      "_ZN8__main__10hypot$2412Edd:\n",
      "\tvmulsd\t%xmm0, %xmm0, %xmm0\n",
      "\tvmulsd\t%xmm1, %xmm1, %xmm1\n",
      "\tvaddsd\t%xmm1, %xmm0, %xmm0\n",
      "\tvsqrtsd\t%xmm0, %xmm0, %xmm0\n",
      "\tvmovsd\t%xmm0, (%rdi)\n",
      "\txorl\t%eax, %eax\n",
      "\tretq\n",
      ".Lfunc_end0:\n",
      "\t.size\t_ZN8__main__10hypot$2412Edd, .Lfunc_end0-_ZN8__main__10hypot$2412Edd\n",
      "\n",
      "\t.globl\t_ZN7cpython8__main__10hypot$2412Edd\n",
      "\t.p2align\t4, 0x90\n",
      "\t.type\t_ZN7cpython8__main__10hypot$2412Edd,@function\n",
      "_ZN7cpython8__main__10hypot$2412Edd:\n",
      "\t.cfi_startproc\n",
      "\tpushq\t%r15\n",
      ".Lcfi0:\n",
      "\t.cfi_def_cfa_offset 16\n",
      "\tpushq\t%r14\n",
      ".Lcfi1:\n",
      "\t.cfi_def_cfa_offset 24\n",
      "\tpushq\t%r13\n",
      ".Lcfi2:\n",
      "\t.cfi_def_cfa_offset 32\n",
      "\tpushq\t%r12\n",
      ".Lcfi3:\n",
      "\t.cfi_def_cfa_offset 40\n",
      "\tpushq\t%rbx\n",
      ".Lcfi4:\n",
      "\t.cfi_def_cfa_offset 48\n",
      "\tsubq\t$32, %rsp\n",
      ".Lcfi5:\n",
      "\t.cfi_def_cfa_offset 80\n",
      ".Lcfi6:\n",
      "\t.cfi_offset %rbx, -48\n",
      ".Lcfi7:\n",
      "\t.cfi_offset %r12, -40\n",
      ".Lcfi8:\n",
      "\t.cfi_offset %r13, -32\n",
      ".Lcfi9:\n",
      "\t.cfi_offset %r14, -24\n",
      ".Lcfi10:\n",
      "\t.cfi_offset %r15, -16\n",
      "\tmovq\t%rdi, %rbx\n",
      "\tmovabsq\t$.const.hypot, %r10\n",
      "\tmovabsq\t$PyArg_UnpackTuple, %r11\n",
      "\tleaq\t24(%rsp), %r8\n",
      "\tleaq\t16(%rsp), %r9\n",
      "\tmovl\t$2, %edx\n",
      "\tmovl\t$2, %ecx\n",
      "\txorl\t%eax, %eax\n",
      "\tmovq\t%rsi, %rdi\n",
      "\tmovq\t%r10, %rsi\n",
      "\tcallq\t*%r11\n",
      "\ttestl\t%eax, %eax\n",
      "\tje\t.LBB1_1\n",
      "\ttestq\t%rbx, %rbx\n",
      "\tje\t.LBB1_9\n",
      "\tcmpq\t$0, 24(%rbx)\n",
      "\tje\t.LBB1_5\n",
      "\tmovq\t24(%rsp), %rdi\n",
      "\tmovabsq\t$PyNumber_Float, %r14\n",
      "\tcallq\t*%r14\n",
      "\tmovq\t%rax, %rbx\n",
      "\tmovabsq\t$PyFloat_AsDouble, %r15\n",
      "\tmovq\t%rbx, %rdi\n",
      "\tcallq\t*%r15\n",
      "\tvmovsd\t%xmm0, 8(%rsp)\n",
      "\tmovabsq\t$Py_DecRef, %r12\n",
      "\tmovq\t%rbx, %rdi\n",
      "\tcallq\t*%r12\n",
      "\tmovabsq\t$PyErr_Occurred, %r13\n",
      "\tcallq\t*%r13\n",
      "\ttestq\t%rax, %rax\n",
      "\tjne\t.LBB1_1\n",
      "\tmovq\t16(%rsp), %rdi\n",
      "\tcallq\t*%r14\n",
      "\tmovq\t%rax, %rbx\n",
      "\tmovq\t%rbx, %rdi\n",
      "\tcallq\t*%r15\n",
      "\tvmovsd\t%xmm0, (%rsp)\n",
      "\tmovq\t%rbx, %rdi\n",
      "\tcallq\t*%r12\n",
      "\tcallq\t*%r13\n",
      "\ttestq\t%rax, %rax\n",
      "\tjne\t.LBB1_1\n",
      "\tvmovsd\t8(%rsp), %xmm0\n",
      "\tvmulsd\t%xmm0, %xmm0, %xmm0\n",
      "\tvmovsd\t(%rsp), %xmm1\n",
      "\tvmulsd\t%xmm1, %xmm1, %xmm1\n",
      "\tvaddsd\t%xmm1, %xmm0, %xmm0\n",
      "\tvsqrtsd\t%xmm0, %xmm0, %xmm0\n",
      "\tmovabsq\t$PyFloat_FromDouble, %rax\n",
      "\tcallq\t*%rax\n",
      ".LBB1_2:\n",
      "\taddq\t$32, %rsp\n",
      "\tpopq\t%rbx\n",
      "\tpopq\t%r12\n",
      "\tpopq\t%r13\n",
      "\tpopq\t%r14\n",
      "\tpopq\t%r15\n",
      "\tretq\n",
      ".LBB1_5:\n",
      "\tmovabsq\t$PyExc_RuntimeError, %rdi\n",
      "\tmovabsq\t$\".const.missing Environment\", %rsi\n",
      "\tmovabsq\t$PyErr_SetString, %rax\n",
      "\tcallq\t*%rax\n",
      ".LBB1_1:\n",
      "\txorl\t%eax, %eax\n",
      "\tjmp\t.LBB1_2\n",
      ".LBB1_9:\n",
      "\tmovabsq\t$\".const.Fatal error: missing _dynfunc.Closure\", %rdi\n",
      "\tmovabsq\t$puts, %rax\n",
      "\tcallq\t*%rax\n",
      ".Lfunc_end1:\n",
      "\t.size\t_ZN7cpython8__main__10hypot$2412Edd, .Lfunc_end1-_ZN7cpython8__main__10hypot$2412Edd\n",
      "\t.cfi_endproc\n",
      "\n",
      "\t.type\t.const.hypot,@object\n",
      "\t.section\t.rodata,\"a\",@progbits\n",
      ".const.hypot:\n",
      "\t.asciz\t\"hypot\"\n",
      "\t.size\t.const.hypot, 6\n",
      "\n",
      "\t.type\t\".const.Fatal error: missing _dynfunc.Closure\",@object\n",
      "\t.p2align\t4\n",
      "\".const.Fatal error: missing _dynfunc.Closure\":\n",
      "\t.asciz\t\"Fatal error: missing _dynfunc.Closure\"\n",
      "\t.size\t\".const.Fatal error: missing _dynfunc.Closure\", 38\n",
      "\n",
      "\t.type\t\".const.missing Environment\",@object\n",
      "\t.p2align\t4\n",
      "\".const.missing Environment\":\n",
      "\t.asciz\t\"missing Environment\"\n",
      "\t.size\t\".const.missing Environment\", 20\n",
      "\n",
      "\n",
      "\t.section\t\".note.GNU-stack\",\"\",@progbits\n",
      "\n"
     ]
    }
   ],
   "source": [
    "for k, v in hypot.inspect_asm().items():\n",
    "    print(v)"
   ]
  },
  {
   "cell_type": "code",
   "execution_count": 3,
   "metadata": {
    "slideshow": {
     "slide_type": "slide"
    }
   },
   "outputs": [
    {
     "ename": "CudaSupportError",
     "evalue": "Error at driver init: \n[100] Call to cuInit results in CUDA_ERROR_NO_DEVICE:",
     "output_type": "error",
     "traceback": [
      "\u001b[0;31m---------------------------------------------------------------------------\u001b[0m",
      "\u001b[0;31mCudaSupportError\u001b[0m                          Traceback (most recent call last)",
      "\u001b[0;32m<ipython-input-3-56c86e2ab0c1>\u001b[0m in \u001b[0;36m<module>\u001b[0;34m()\u001b[0m\n\u001b[1;32m     16\u001b[0m \u001b[0;34m\u001b[0m\u001b[0m\n\u001b[1;32m     17\u001b[0m \u001b[0mout\u001b[0m \u001b[0;34m=\u001b[0m \u001b[0mnp\u001b[0m\u001b[0;34m.\u001b[0m\u001b[0mempty_like\u001b[0m\u001b[0;34m(\u001b[0m\u001b[0mmask\u001b[0m\u001b[0;34m,\u001b[0m \u001b[0mdtype\u001b[0m\u001b[0;34m=\u001b[0m\u001b[0mnp\u001b[0m\u001b[0;34m.\u001b[0m\u001b[0mcomplex64\u001b[0m\u001b[0;34m)\u001b[0m\u001b[0;34m\u001b[0m\u001b[0m\n\u001b[0;32m---> 18\u001b[0;31m \u001b[0mgpu_temp\u001b[0m \u001b[0;34m=\u001b[0m \u001b[0mnumba\u001b[0m\u001b[0;34m.\u001b[0m\u001b[0mcuda\u001b[0m\u001b[0;34m.\u001b[0m\u001b[0mto_device\u001b[0m\u001b[0;34m(\u001b[0m\u001b[0mout\u001b[0m\u001b[0;34m)\u001b[0m  \u001b[0;31m# make GPU array\u001b[0m\u001b[0;34m\u001b[0m\u001b[0m\n\u001b[0m\u001b[1;32m     19\u001b[0m \u001b[0mgpu_mask\u001b[0m \u001b[0;34m=\u001b[0m \u001b[0mnumba\u001b[0m\u001b[0;34m.\u001b[0m\u001b[0mcuda\u001b[0m\u001b[0;34m.\u001b[0m\u001b[0mto_device\u001b[0m\u001b[0;34m(\u001b[0m\u001b[0mmask\u001b[0m\u001b[0;34m)\u001b[0m  \u001b[0;31m# make GPU array\u001b[0m\u001b[0;34m\u001b[0m\u001b[0m\n\u001b[1;32m     20\u001b[0m \u001b[0;34m\u001b[0m\u001b[0m\n",
      "\u001b[0;32m/opt/anaconda/lib/python3.5/site-packages/numba/cuda/cudadrv/devices.py\u001b[0m in \u001b[0;36m_require_cuda_context\u001b[0;34m(*args, **kws)\u001b[0m\n\u001b[1;32m    209\u001b[0m     \u001b[0;34m@\u001b[0m\u001b[0mfunctools\u001b[0m\u001b[0;34m.\u001b[0m\u001b[0mwraps\u001b[0m\u001b[0;34m(\u001b[0m\u001b[0mfn\u001b[0m\u001b[0;34m)\u001b[0m\u001b[0;34m\u001b[0m\u001b[0m\n\u001b[1;32m    210\u001b[0m     \u001b[0;32mdef\u001b[0m \u001b[0m_require_cuda_context\u001b[0m\u001b[0;34m(\u001b[0m\u001b[0;34m*\u001b[0m\u001b[0margs\u001b[0m\u001b[0;34m,\u001b[0m \u001b[0;34m**\u001b[0m\u001b[0mkws\u001b[0m\u001b[0;34m)\u001b[0m\u001b[0;34m:\u001b[0m\u001b[0;34m\u001b[0m\u001b[0m\n\u001b[0;32m--> 211\u001b[0;31m         \u001b[0mget_context\u001b[0m\u001b[0;34m(\u001b[0m\u001b[0;34m)\u001b[0m\u001b[0;34m\u001b[0m\u001b[0m\n\u001b[0m\u001b[1;32m    212\u001b[0m         \u001b[0;32mreturn\u001b[0m \u001b[0mfn\u001b[0m\u001b[0;34m(\u001b[0m\u001b[0;34m*\u001b[0m\u001b[0margs\u001b[0m\u001b[0;34m,\u001b[0m \u001b[0;34m**\u001b[0m\u001b[0mkws\u001b[0m\u001b[0;34m)\u001b[0m\u001b[0;34m\u001b[0m\u001b[0m\n\u001b[1;32m    213\u001b[0m \u001b[0;34m\u001b[0m\u001b[0m\n",
      "\u001b[0;32m/opt/anaconda/lib/python3.5/site-packages/numba/cuda/cudadrv/devices.py\u001b[0m in \u001b[0;36mget_context\u001b[0;34m(devnum)\u001b[0m\n\u001b[1;32m    192\u001b[0m     \u001b[0;32mreturn\u001b[0m \u001b[0mthe\u001b[0m \u001b[0mCUDA\u001b[0m \u001b[0mcontext\u001b[0m\u001b[0;34m.\u001b[0m\u001b[0;34m\u001b[0m\u001b[0m\n\u001b[1;32m    193\u001b[0m     \"\"\"\n\u001b[0;32m--> 194\u001b[0;31m     \u001b[0;32mreturn\u001b[0m \u001b[0m_runtime\u001b[0m\u001b[0;34m.\u001b[0m\u001b[0mget_or_create_context\u001b[0m\u001b[0;34m(\u001b[0m\u001b[0mdevnum\u001b[0m\u001b[0;34m)\u001b[0m\u001b[0;34m\u001b[0m\u001b[0m\n\u001b[0m\u001b[1;32m    195\u001b[0m \u001b[0;34m\u001b[0m\u001b[0m\n\u001b[1;32m    196\u001b[0m \u001b[0;34m\u001b[0m\u001b[0m\n",
      "\u001b[0;32m/opt/anaconda/lib/python3.5/site-packages/numba/cuda/cudadrv/devices.py\u001b[0m in \u001b[0;36mget_or_create_context\u001b[0;34m(self, devnum)\u001b[0m\n\u001b[1;32m    160\u001b[0m         \u001b[0;32melse\u001b[0m\u001b[0;34m:\u001b[0m\u001b[0;34m\u001b[0m\u001b[0m\n\u001b[1;32m    161\u001b[0m             \u001b[0;32mwith\u001b[0m \u001b[0mself\u001b[0m\u001b[0;34m.\u001b[0m\u001b[0m_lock\u001b[0m\u001b[0;34m:\u001b[0m\u001b[0;34m\u001b[0m\u001b[0m\n\u001b[0;32m--> 162\u001b[0;31m                 \u001b[0;32mreturn\u001b[0m \u001b[0mself\u001b[0m\u001b[0;34m.\u001b[0m\u001b[0mpush_context\u001b[0m\u001b[0;34m(\u001b[0m\u001b[0mself\u001b[0m\u001b[0;34m.\u001b[0m\u001b[0mgpus\u001b[0m\u001b[0;34m[\u001b[0m\u001b[0mdevnum\u001b[0m\u001b[0;34m]\u001b[0m\u001b[0;34m)\u001b[0m\u001b[0;34m\u001b[0m\u001b[0m\n\u001b[0m\u001b[1;32m    163\u001b[0m \u001b[0;34m\u001b[0m\u001b[0m\n\u001b[1;32m    164\u001b[0m     \u001b[0;32mdef\u001b[0m \u001b[0mreset\u001b[0m\u001b[0;34m(\u001b[0m\u001b[0mself\u001b[0m\u001b[0;34m)\u001b[0m\u001b[0;34m:\u001b[0m\u001b[0;34m\u001b[0m\u001b[0m\n",
      "\u001b[0;32m/opt/anaconda/lib/python3.5/site-packages/numba/cuda/cudadrv/devices.py\u001b[0m in \u001b[0;36m__getitem__\u001b[0;34m(self, devnum)\u001b[0m\n\u001b[1;32m     38\u001b[0m         \u001b[0mReturns\u001b[0m \u001b[0mthe\u001b[0m \u001b[0mcontext\u001b[0m \u001b[0mmanager\u001b[0m \u001b[0;32mfor\u001b[0m \u001b[0mdevice\u001b[0m \u001b[0;34m*\u001b[0m\u001b[0mdevnum\u001b[0m\u001b[0;34m*\u001b[0m\u001b[0;34m.\u001b[0m\u001b[0;34m\u001b[0m\u001b[0m\n\u001b[1;32m     39\u001b[0m         '''\n\u001b[0;32m---> 40\u001b[0;31m         \u001b[0;32mreturn\u001b[0m \u001b[0mself\u001b[0m\u001b[0;34m.\u001b[0m\u001b[0mlst\u001b[0m\u001b[0;34m[\u001b[0m\u001b[0mdevnum\u001b[0m\u001b[0;34m]\u001b[0m\u001b[0;34m\u001b[0m\u001b[0m\n\u001b[0m\u001b[1;32m     41\u001b[0m \u001b[0;34m\u001b[0m\u001b[0m\n\u001b[1;32m     42\u001b[0m     \u001b[0;32mdef\u001b[0m \u001b[0m__str__\u001b[0m\u001b[0;34m(\u001b[0m\u001b[0mself\u001b[0m\u001b[0;34m)\u001b[0m\u001b[0;34m:\u001b[0m\u001b[0;34m\u001b[0m\u001b[0m\n",
      "\u001b[0;32m/opt/anaconda/lib/python3.5/site-packages/numba/cuda/cudadrv/devices.py\u001b[0m in \u001b[0;36m__getattr__\u001b[0;34m(self, attr)\u001b[0m\n\u001b[1;32m     24\u001b[0m             \u001b[0;31m# Device list is not initialized.\u001b[0m\u001b[0;34m\u001b[0m\u001b[0;34m\u001b[0m\u001b[0m\n\u001b[1;32m     25\u001b[0m             \u001b[0;31m# Query all CUDA devices.\u001b[0m\u001b[0;34m\u001b[0m\u001b[0;34m\u001b[0m\u001b[0m\n\u001b[0;32m---> 26\u001b[0;31m             \u001b[0mnumdev\u001b[0m \u001b[0;34m=\u001b[0m \u001b[0mdriver\u001b[0m\u001b[0;34m.\u001b[0m\u001b[0mget_device_count\u001b[0m\u001b[0;34m(\u001b[0m\u001b[0;34m)\u001b[0m\u001b[0;34m\u001b[0m\u001b[0m\n\u001b[0m\u001b[1;32m     27\u001b[0m             gpus = [_DeviceContextManager(driver.get_device(devid))\n\u001b[1;32m     28\u001b[0m                     for devid in range(numdev)]\n",
      "\u001b[0;32m/opt/anaconda/lib/python3.5/site-packages/numba/cuda/cudadrv/driver.py\u001b[0m in \u001b[0;36mget_device_count\u001b[0;34m(self)\u001b[0m\n\u001b[1;32m    332\u001b[0m     \u001b[0;32mdef\u001b[0m \u001b[0mget_device_count\u001b[0m\u001b[0;34m(\u001b[0m\u001b[0mself\u001b[0m\u001b[0;34m)\u001b[0m\u001b[0;34m:\u001b[0m\u001b[0;34m\u001b[0m\u001b[0m\n\u001b[1;32m    333\u001b[0m         \u001b[0mcount\u001b[0m \u001b[0;34m=\u001b[0m \u001b[0mc_int\u001b[0m\u001b[0;34m(\u001b[0m\u001b[0;34m)\u001b[0m\u001b[0;34m\u001b[0m\u001b[0m\n\u001b[0;32m--> 334\u001b[0;31m         \u001b[0mself\u001b[0m\u001b[0;34m.\u001b[0m\u001b[0mcuDeviceGetCount\u001b[0m\u001b[0;34m(\u001b[0m\u001b[0mbyref\u001b[0m\u001b[0;34m(\u001b[0m\u001b[0mcount\u001b[0m\u001b[0;34m)\u001b[0m\u001b[0;34m)\u001b[0m\u001b[0;34m\u001b[0m\u001b[0m\n\u001b[0m\u001b[1;32m    335\u001b[0m         \u001b[0;32mreturn\u001b[0m \u001b[0mcount\u001b[0m\u001b[0;34m.\u001b[0m\u001b[0mvalue\u001b[0m\u001b[0;34m\u001b[0m\u001b[0m\n\u001b[1;32m    336\u001b[0m \u001b[0;34m\u001b[0m\u001b[0m\n",
      "\u001b[0;32m/opt/anaconda/lib/python3.5/site-packages/numba/cuda/cudadrv/driver.py\u001b[0m in \u001b[0;36m__getattr__\u001b[0;34m(self, fname)\u001b[0m\n\u001b[1;32m    270\u001b[0m         \u001b[0;32mif\u001b[0m \u001b[0mself\u001b[0m\u001b[0;34m.\u001b[0m\u001b[0minitialization_error\u001b[0m \u001b[0;32mis\u001b[0m \u001b[0;32mnot\u001b[0m \u001b[0;32mNone\u001b[0m\u001b[0;34m:\u001b[0m\u001b[0;34m\u001b[0m\u001b[0m\n\u001b[1;32m    271\u001b[0m             raise CudaSupportError(\"Error at driver init: \\n%s:\" %\n\u001b[0;32m--> 272\u001b[0;31m                                    self.initialization_error)\n\u001b[0m\u001b[1;32m    273\u001b[0m \u001b[0;34m\u001b[0m\u001b[0m\n\u001b[1;32m    274\u001b[0m         \u001b[0;31m# Find function in driver library\u001b[0m\u001b[0;34m\u001b[0m\u001b[0;34m\u001b[0m\u001b[0m\n",
      "\u001b[0;31mCudaSupportError\u001b[0m: Error at driver init: \n[100] Call to cuInit results in CUDA_ERROR_NO_DEVICE:"
     ]
    }
   ],
   "source": [
    "import pyculib.fft\n",
    "import numba.cuda\n",
    "import numpy as np\n",
    "\n",
    "@numba.cuda.jit\n",
    "def apply_mask(frame, mask):\n",
    "    i, j = numba.cuda.grid(2)\n",
    "    frame[i, j] *= mask[i, j]\n",
    "\n",
    "x = np.linspace(0, 4*np.pi, 720) \n",
    "y = np.linspace(0, 4*np.pi, 1280) \n",
    "\n",
    "X, Y = np.meshgrid(x,y)\n",
    "frame = np.cos(X)*np.sin(Y)\n",
    "mask = frame / (np.max(frame)-np.min(frame))\n",
    "\n",
    "out = np.empty_like(mask, dtype=np.complex64)\n",
    "gpu_temp = numba.cuda.to_device(out)  # make GPU array\n",
    "gpu_mask = numba.cuda.to_device(mask)  # make GPU array\n",
    "\n",
    "pyculib.fft.fft(frame.astype(np.complex64), gpu_temp)  # implied host->device\n",
    "apply_mask[blocks, tpb](gpu_temp, gpu_mask)  # all on device\n",
    "pyculib.fft.ifft(gpu_temp, out)  # implied device->host"
   ]
  },
  {
   "cell_type": "code",
   "execution_count": 2,
   "metadata": {
    "slideshow": {
     "slide_type": "slide"
    }
   },
   "outputs": [],
   "source": [
    "\n",
    "import numpy as np\n",
    "from numba import vectorize\n",
    "\n",
    "@vectorize(['float32(float32, float32)'], target='cuda')\n",
    "def Add(a, b):\n",
    "  return a + b\n",
    "\n",
    "# Initialize arrays\n",
    "N = 100000\n",
    "A = np.ones(N, dtype=np.float32)\n",
    "B = np.ones(A.shape, dtype=A.dtype)\n",
    "C = np.empty_like(A, dtype=A.dtype)\n",
    "\n"
   ]
  },
  {
   "cell_type": "code",
   "execution_count": 3,
   "metadata": {},
   "outputs": [
    {
     "name": "stdout",
     "output_type": "stream",
     "text": [
      "CPU times: user 152 ms, sys: 10 ms, total: 163 ms\n",
      "Wall time: 162 ms\n"
     ]
    }
   ],
   "source": [
    "%%time\n",
    "# Add arrays on GPU\n",
    "C = Add(A, B)"
   ]
  },
  {
   "cell_type": "code",
   "execution_count": 4,
   "metadata": {},
   "outputs": [
    {
     "name": "stdout",
     "output_type": "stream",
     "text": [
      "CPU times: user 491 µs, sys: 0 ns, total: 491 µs\n",
      "Wall time: 328 µs\n"
     ]
    }
   ],
   "source": [
    "%%time\n",
    "C = A+ B"
   ]
  },
  {
   "cell_type": "code",
   "execution_count": 34,
   "metadata": {},
   "outputs": [
    {
     "name": "stdout",
     "output_type": "stream",
     "text": [
      "[ 0.43845084  0.4603647   0.25021471  0.49474377  0.05301112  0.33769926\n",
      "  0.39676252  0.87441866  0.48216683  0.0428398 ]\n"
     ]
    }
   ],
   "source": [
    "import numpy as np\n",
    "from pyculib import rand as curand\n",
    "\n",
    "prng = curand.PRNG(rndtype=curand.PRNG.XORWOW)\n",
    "rand = np.empty(100000)\n",
    "prng.uniform(rand)\n",
    "print(rand[:10])"
   ]
  },
  {
   "cell_type": "code",
   "execution_count": null,
   "metadata": {},
   "outputs": [],
   "source": []
  }
 ],
 "metadata": {
  "celltoolbar": "Slideshow",
  "kernelspec": {
   "display_name": "Python 3",
   "language": "python",
   "name": "python3"
  },
  "language_info": {
   "codemirror_mode": {
    "name": "ipython",
    "version": 3
   },
   "file_extension": ".py",
   "mimetype": "text/x-python",
   "name": "python",
   "nbconvert_exporter": "python",
   "pygments_lexer": "ipython3",
   "version": "3.5.4"
  }
 },
 "nbformat": 4,
 "nbformat_minor": 2
}
