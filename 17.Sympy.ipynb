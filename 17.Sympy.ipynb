{
 "cells": [
  {
   "cell_type": "markdown",
   "metadata": {
    "slideshow": {
     "slide_type": "slide"
    }
   },
   "source": [
    "Pierre Navaro - [Institut de Recherche Mathématique de Rennes](https://irmar.univ-rennes1.fr) - [CNRS](http://www.cnrs.fr/)"
   ]
  },
  {
   "cell_type": "markdown",
   "metadata": {
    "slideshow": {
     "slide_type": "skip"
    }
   },
   "source": [
    "# References\n",
    "\n",
    "- [SciPy 2017 tutorial](https://youtu.be/5jzIVp6bTy0)\n",
    "\n",
    "The function init_printing() will enable LaTeX pretty printing in the notebook for SymPy expressions."
   ]
  },
  {
   "cell_type": "code",
   "execution_count": 1,
   "metadata": {
    "slideshow": {
     "slide_type": "slide"
    }
   },
   "outputs": [],
   "source": [
    "from sympy import *\n",
    "import sympy as sym\n",
    "init_printing()"
   ]
  },
  {
   "cell_type": "code",
   "execution_count": 2,
   "metadata": {
    "slideshow": {
     "slide_type": "fragment"
    }
   },
   "outputs": [
    {
     "data": {
      "image/png": "[encoded data removed]",
      "text/latex": [
       "$$\\left(x + \\pi\\right)^{2}$$"
      ],
      "text/plain": [
       "       2\n",
       "(x + π) "
      ]
     },
     "execution_count": 2,
     "metadata": {},
     "output_type": "execute_result"
    }
   ],
   "source": [
    "x= Symbol('x')\n",
    "\n",
    "(pi + x)**2"
   ]
  },
  {
   "cell_type": "code",
   "execution_count": 3,
   "metadata": {
    "slideshow": {
     "slide_type": "fragment"
    }
   },
   "outputs": [
    {
     "data": {
      "image/png": "[encoded data removed]",
      "text/latex": [
       "$$\\left ( \\alpha_{1}, \\quad \\omega_{2}\\right )$$"
      ],
      "text/plain": [
       "(α₁, ω₂)"
      ]
     },
     "execution_count": 3,
     "metadata": {},
     "output_type": "execute_result"
    }
   ],
   "source": [
    "alpha1, omega_2 = symbols('alpha1 omega_2')\n",
    "alpha1, omega_2"
   ]
  },
  {
   "cell_type": "code",
   "execution_count": 4,
   "metadata": {},
   "outputs": [
    {
     "data": {
      "image/png": "[encoded data removed]",
      "text/latex": [
       "$$\\frac{\\sqrt{2}}{2 \\sqrt{\\pi} \\sigma} e^{- \\frac{\\left(- \\mu + x\\right)^{2}}{2 \\sigma^{2}}}$$"
      ],
      "text/plain": [
       "             2 \n",
       "    -(-μ + x)  \n",
       "    ───────────\n",
       "           2   \n",
       "        2⋅σ    \n",
       "√2⋅ℯ           \n",
       "───────────────\n",
       "     2⋅√π⋅σ    "
      ]
     },
     "execution_count": 4,
     "metadata": {},
     "output_type": "execute_result"
    }
   ],
   "source": [
    "mu, sigma = symbols('mu sigma', positive = True)\n",
    "1/sqrt(2*pi*sigma**2)* exp(-(x-mu)**2/(2*sigma**2))"
   ]
  },
  {
   "cell_type": "markdown",
   "metadata": {
    "slideshow": {
     "slide_type": "slide"
    }
   },
   "source": [
    "# Why use `sympy`?\n",
    "- Symbolic derivatives\n",
    "- Translate mathematics into low level code\n",
    "- Deal with very large expressions\n",
    "- Optimize code using mathematics"
   ]
  },
  {
   "cell_type": "markdown",
   "metadata": {
    "collapsed": true,
    "slideshow": {
     "slide_type": "slide"
    }
   },
   "source": [
    "Dividing two integers in Python creates a float, like 1/2 -> 0.5. If you want a rational number, use Rational(1, 2) or S(1)/2."
   ]
  },
  {
   "cell_type": "code",
   "execution_count": 5,
   "metadata": {
    "slideshow": {
     "slide_type": "fragment"
    }
   },
   "outputs": [
    {
     "data": {
      "image/png": "[encoded data removed]",
      "text/latex": [
       "$$\\left ( x + \\frac{1}{2}, \\quad \\frac{1}{4}\\right )$$"
      ],
      "text/plain": [
       "(x + 1/2, 1/4)"
      ]
     },
     "execution_count": 5,
     "metadata": {},
     "output_type": "execute_result"
    }
   ],
   "source": [
    "x + S(1)/2 , Rational(1,4)"
   ]
  },
  {
   "cell_type": "code",
   "execution_count": 6,
   "metadata": {
    "slideshow": {
     "slide_type": "fragment"
    }
   },
   "outputs": [
    {
     "data": {
      "image/png": "[encoded data removed]",
      "text/latex": [
       "$$x \\veebar y$$"
      ],
      "text/plain": [
       "x ⊻ y"
      ]
     },
     "execution_count": 6,
     "metadata": {},
     "output_type": "execute_result"
    }
   ],
   "source": [
    "y = Symbol('y')\n",
    "x ^ y # XOR operator (True only if x != y)"
   ]
  },
  {
   "cell_type": "code",
   "execution_count": 7,
   "metadata": {
    "slideshow": {
     "slide_type": "fragment"
    }
   },
   "outputs": [
    {
     "data": {
      "image/png": "[encoded data removed]",
      "text/latex": [
       "$$x^{y}$$"
      ],
      "text/plain": [
       " y\n",
       "x "
      ]
     },
     "execution_count": 7,
     "metadata": {},
     "output_type": "execute_result"
    }
   ],
   "source": [
    "x**y"
   ]
  },
  {
   "cell_type": "markdown",
   "metadata": {
    "slideshow": {
     "slide_type": "slide"
    }
   },
   "source": [
    "SymPy expressions are immutable. Functions that operate on an expression return a new expression."
   ]
  },
  {
   "cell_type": "code",
   "execution_count": 8,
   "metadata": {
    "slideshow": {
     "slide_type": "fragment"
    }
   },
   "outputs": [
    {
     "data": {
      "image/png": "[encoded data removed]",
      "text/latex": [
       "$$x + 1$$"
      ],
      "text/plain": [
       "x + 1"
      ]
     },
     "execution_count": 8,
     "metadata": {},
     "output_type": "execute_result"
    }
   ],
   "source": [
    "expr = x + 1\n",
    "expr"
   ]
  },
  {
   "cell_type": "code",
   "execution_count": 9,
   "metadata": {
    "slideshow": {
     "slide_type": "fragment"
    }
   },
   "outputs": [
    {
     "data": {
      "image/png": "[encoded data removed]",
      "text/latex": [
       "$$3$$"
      ],
      "text/plain": [
       "3"
      ]
     },
     "execution_count": 9,
     "metadata": {},
     "output_type": "execute_result"
    }
   ],
   "source": [
    "expr.subs(x, 2)"
   ]
  },
  {
   "cell_type": "code",
   "execution_count": 10,
   "metadata": {
    "slideshow": {
     "slide_type": "fragment"
    }
   },
   "outputs": [
    {
     "data": {
      "image/png": "[encoded data removed]",
      "text/latex": [
       "$$x + 1$$"
      ],
      "text/plain": [
       "x + 1"
      ]
     },
     "execution_count": 10,
     "metadata": {},
     "output_type": "execute_result"
    }
   ],
   "source": [
    "expr"
   ]
  },
  {
   "cell_type": "markdown",
   "metadata": {},
   "source": [
    "Evaluate a floating point approximation up to a user specified number of digits."
   ]
  },
  {
   "cell_type": "code",
   "execution_count": 11,
   "metadata": {
    "slideshow": {
     "slide_type": "slide"
    }
   },
   "outputs": [
    {
     "data": {
      "image/png": "[encoded data removed]",
      "text/latex": [
       "$$\\left ( \\sqrt{2}, \\quad 1.414214\\right )$$"
      ],
      "text/plain": [
       "(√2, 1.414214)"
      ]
     },
     "execution_count": 11,
     "metadata": {},
     "output_type": "execute_result"
    }
   ],
   "source": [
    "sqrt(2), sqrt(2).evalf(7)"
   ]
  },
  {
   "cell_type": "code",
   "execution_count": 12,
   "metadata": {},
   "outputs": [
    {
     "data": {
      "image/png": "[encoded data removed]",
      "text/latex": [
       "$$354224848179261915075$$"
      ],
      "text/plain": [
       "354224848179261915075"
      ]
     },
     "execution_count": 12,
     "metadata": {},
     "output_type": "execute_result"
    }
   ],
   "source": [
    "fibonacci(100)"
   ]
  },
  {
   "cell_type": "markdown",
   "metadata": {
    "slideshow": {
     "slide_type": "slide"
    }
   },
   "source": [
    "## Undefined functions and derivatives\n",
    "\n",
    "Undefined functions are created with `Function()`. Undefined are useful to state that one variable depends on another (for the purposes of differentiation)."
   ]
  },
  {
   "cell_type": "code",
   "execution_count": 13,
   "metadata": {
    "slideshow": {
     "slide_type": "fragment"
    }
   },
   "outputs": [],
   "source": [
    "f = Function('f')"
   ]
  },
  {
   "cell_type": "code",
   "execution_count": 14,
   "metadata": {
    "slideshow": {
     "slide_type": "fragment"
    }
   },
   "outputs": [
    {
     "data": {
      "image/png": "[encoded data removed]",
      "text/latex": [
       "$$f{\\left (x \\right )} + 1$$"
      ],
      "text/plain": [
       "f(x) + 1"
      ]
     },
     "execution_count": 14,
     "metadata": {},
     "output_type": "execute_result"
    }
   ],
   "source": [
    "f(x) + 1"
   ]
  },
  {
   "cell_type": "code",
   "execution_count": 15,
   "metadata": {
    "slideshow": {
     "slide_type": "fragment"
    }
   },
   "outputs": [
    {
     "data": {
      "image/png": "[encoded data removed]",
      "text/latex": [
       "$$\\left ( \\cos{\\left (y \\right )} \\cos{\\left (x + 1 \\right )}, \\quad - \\sin{\\left (y \\right )} \\cos{\\left (x + 1 \\right )}, \\quad \\frac{d}{d x} f{\\left (x \\right )}\\right )$$"
      ],
      "text/plain": [
       "⎛                                       d       ⎞\n",
       "⎜cos(y)⋅cos(x + 1), -sin(y)⋅cos(x + 1), ──(f(x))⎟\n",
       "⎝                                       dx      ⎠"
      ]
     },
     "execution_count": 15,
     "metadata": {},
     "output_type": "execute_result"
    }
   ],
   "source": [
    "diff(sin(x + 1)*cos(y), x), diff(sin(x + 1)*cos(y), x, y), diff(f(x), x)"
   ]
  },
  {
   "cell_type": "code",
   "execution_count": 16,
   "metadata": {
    "slideshow": {
     "slide_type": "fragment"
    }
   },
   "outputs": [
    {
     "data": {
      "image/png": "[encoded data removed]",
      "text/latex": [
       "$$\\frac{\\partial^{2}}{\\partial c^{2}}  u{\\left (c,x \\right )} = t^{2} \\frac{\\partial^{2}}{\\partial x^{2}}  u{\\left (c,x \\right )}$$"
      ],
      "text/plain": [
       "  2                 2         \n",
       " ∂              2  ∂          \n",
       "───(u(c, x)) = t ⋅───(u(c, x))\n",
       "  2                 2         \n",
       "∂c                ∂x          "
      ]
     },
     "execution_count": 16,
     "metadata": {},
     "output_type": "execute_result"
    }
   ],
   "source": [
    "c, t = symbols('t c')\n",
    "u = Function('u')\n",
    "Eq(diff(u(t,x),t,t), c**2*diff(u(t,x),x,2))"
   ]
  },
  {
   "cell_type": "markdown",
   "metadata": {
    "slideshow": {
     "slide_type": "slide"
    }
   },
   "source": [
    "# Matrices"
   ]
  },
  {
   "cell_type": "code",
   "execution_count": 17,
   "metadata": {
    "slideshow": {
     "slide_type": "fragment"
    }
   },
   "outputs": [
    {
     "data": {
      "image/png": "[encoded data removed]",
      "text/latex": [
       "$$\\left[\\begin{matrix}x + 2 y\\\\3 x + 4 y\\end{matrix}\\right]$$"
      ],
      "text/plain": [
       "⎡ x + 2⋅y ⎤\n",
       "⎢         ⎥\n",
       "⎣3⋅x + 4⋅y⎦"
      ]
     },
     "execution_count": 17,
     "metadata": {},
     "output_type": "execute_result"
    }
   ],
   "source": [
    "Matrix([[1, 2], [3, 4]])*Matrix([x, y])"
   ]
  },
  {
   "cell_type": "code",
   "execution_count": 18,
   "metadata": {
    "slideshow": {
     "slide_type": "fragment"
    }
   },
   "outputs": [
    {
     "data": {
      "image/png": "[encoded data removed]",
      "text/latex": [
       "$$\\left[\\begin{matrix}\\cos{\\left (x \\right )} & 1 & 0\\\\1 & - \\sin{\\left (y \\right )} & 0\\\\0 & 0 & 1\\end{matrix}\\right]$$"
      ],
      "text/plain": [
       "⎡cos(x)     1     0⎤\n",
       "⎢                  ⎥\n",
       "⎢  1     -sin(y)  0⎥\n",
       "⎢                  ⎥\n",
       "⎣  0        0     1⎦"
      ]
     },
     "execution_count": 18,
     "metadata": {},
     "output_type": "execute_result"
    }
   ],
   "source": [
    "x, y, z = symbols('x y z')\n",
    "Matrix([sin(x) + y, cos(y) + x, z]).jacobian([x, y, z])"
   ]
  },
  {
   "cell_type": "markdown",
   "metadata": {
    "slideshow": {
     "slide_type": "slide"
    }
   },
   "source": [
    "## Matrix symbols\n",
    "\n",
    "SymPy can also operate on matrices of symbolic dimension ($n \\times m$). `MatrixSymbol(\"M\", n, m)` creates a matrix $M$ of shape $n \\times m$. "
   ]
  },
  {
   "cell_type": "code",
   "execution_count": 19,
   "metadata": {
    "slideshow": {
     "slide_type": "fragment"
    }
   },
   "outputs": [
    {
     "data": {
      "image/png": "[encoded data removed]",
      "text/latex": [
       "$$\\left(M b\\right)^T$$"
      ],
      "text/plain": [
       "     T\n",
       "(M⋅b) "
      ]
     },
     "execution_count": 19,
     "metadata": {},
     "output_type": "execute_result"
    }
   ],
   "source": [
    "n, m = symbols('n m', integer=True)\n",
    "M = MatrixSymbol(\"M\", n, m)\n",
    "b = MatrixSymbol(\"b\", m, 1)\n",
    "Transpose(M*b)"
   ]
  },
  {
   "cell_type": "code",
   "execution_count": 20,
   "metadata": {
    "slideshow": {
     "slide_type": "fragment"
    }
   },
   "outputs": [
    {
     "data": {
      "image/png": "[encoded data removed]",
      "text/latex": [
       "$$b^T M^T$$"
      ],
      "text/plain": [
       " T  T\n",
       "b ⋅M "
      ]
     },
     "execution_count": 20,
     "metadata": {},
     "output_type": "execute_result"
    }
   ],
   "source": [
    "Transpose(M*b).doit()"
   ]
  },
  {
   "cell_type": "markdown",
   "metadata": {
    "slideshow": {
     "slide_type": "slide"
    }
   },
   "source": [
    "## Solving systems of equations\n",
    "\n",
    "`solve` solves equations symbolically (not numerically). The return value is a list of solutions. It automatically assumes that it is equal to 0."
   ]
  },
  {
   "cell_type": "code",
   "execution_count": 21,
   "metadata": {
    "slideshow": {
     "slide_type": "fragment"
    }
   },
   "outputs": [
    {
     "data": {
      "image/png": "[encoded data removed]",
      "text/latex": [
       "$$\\left [ -2, \\quad 2\\right ]$$"
      ],
      "text/plain": [
       "[-2, 2]"
      ]
     },
     "execution_count": 21,
     "metadata": {},
     "output_type": "execute_result"
    }
   ],
   "source": [
    "solve(Eq(x**2, 4), x)\n"
   ]
  },
  {
   "cell_type": "code",
   "execution_count": 22,
   "metadata": {
    "slideshow": {
     "slide_type": "fragment"
    }
   },
   "outputs": [
    {
     "data": {
      "image/png": "[encoded data removed]",
      "text/latex": [
       "$$\\left [ - \\frac{3}{2} + \\frac{\\sqrt{21}}{2}, \\quad - \\frac{\\sqrt{21}}{2} - \\frac{3}{2}\\right ]$$"
      ],
      "text/plain": [
       "⎡  3   √21    √21   3⎤\n",
       "⎢- ─ + ───, - ─── - ─⎥\n",
       "⎣  2    2      2    2⎦"
      ]
     },
     "execution_count": 22,
     "metadata": {},
     "output_type": "execute_result"
    }
   ],
   "source": [
    "solve(x**2 + 3*x - 3, x)"
   ]
  },
  {
   "cell_type": "code",
   "execution_count": 23,
   "metadata": {
    "slideshow": {
     "slide_type": "fragment"
    }
   },
   "outputs": [
    {
     "data": {
      "image/png": "[encoded data removed]",
      "text/latex": [
       "$$\\left [ \\left ( \\frac{2}{5} + \\frac{\\sqrt{19}}{5}, \\quad - \\frac{2 \\sqrt{19}}{5} + \\frac{1}{5}\\right ), \\quad \\left ( - \\frac{\\sqrt{19}}{5} + \\frac{2}{5}, \\quad \\frac{1}{5} + \\frac{2 \\sqrt{19}}{5}\\right )\\right ]$$"
      ],
      "text/plain": [
       "⎡⎛2   √19    2⋅√19   1⎞  ⎛  √19   2  1   2⋅√19⎞⎤\n",
       "⎢⎜─ + ───, - ───── + ─⎟, ⎜- ─── + ─, ─ + ─────⎟⎥\n",
       "⎣⎝5    5       5     5⎠  ⎝   5    5  5     5  ⎠⎦"
      ]
     },
     "execution_count": 23,
     "metadata": {},
     "output_type": "execute_result"
    }
   ],
   "source": [
    "eq1 = x**2 + y**2 - 4  # circle of radius 2\n",
    "eq2 = 2*x + y - 1  # straight line: y(x) = -2*x + 1\n",
    "solve([eq1, eq2], [x, y])"
   ]
  },
  {
   "cell_type": "markdown",
   "metadata": {
    "slideshow": {
     "slide_type": "slide"
    }
   },
   "source": [
    "## Solving differential equations\n",
    "`dsolve` can (sometimes) produce an exact symbolic solution. Like `solve`, `dsolve` assumes that expressions are equal to 0. "
   ]
  },
  {
   "cell_type": "code",
   "execution_count": 24,
   "metadata": {
    "slideshow": {
     "slide_type": "fragment"
    }
   },
   "outputs": [
    {
     "data": {
      "image/png": "[encoded data removed]",
      "text/latex": [
       "$$f{\\left (x \\right )} = C_{1} \\sin{\\left (x \\right )} + C_{2} \\cos{\\left (x \\right )}$$"
      ],
      "text/plain": [
       "f(x) = C₁⋅sin(x) + C₂⋅cos(x)"
      ]
     },
     "execution_count": 24,
     "metadata": {},
     "output_type": "execute_result"
    }
   ],
   "source": [
    "f = Function('f')\n",
    "dsolve(f(x).diff(x, 2) + f(x))"
   ]
  },
  {
   "cell_type": "markdown",
   "metadata": {
    "slideshow": {
     "slide_type": "slide"
    }
   },
   "source": [
    "## Code printers\n",
    "The most basic form of code generation are the code printers. They convert SymPy expressions into over a dozen target languages.\n"
   ]
  },
  {
   "cell_type": "code",
   "execution_count": 25,
   "metadata": {
    "slideshow": {
     "slide_type": "fragment"
    }
   },
   "outputs": [
    {
     "data": {
      "image/png": "[encoded data removed]",
      "text/latex": [
       "$$\\left|{\\sin{\\left (x^{2} \\right )}}\\right|$$"
      ],
      "text/plain": [
       "│   ⎛ 2⎞│\n",
       "│sin⎝x ⎠│"
      ]
     },
     "execution_count": 25,
     "metadata": {},
     "output_type": "execute_result"
    }
   ],
   "source": [
    "x = symbols('x')\n",
    "expr = abs(sin(x**2))\n",
    "expr"
   ]
  },
  {
   "cell_type": "code",
   "execution_count": 26,
   "metadata": {
    "slideshow": {
     "slide_type": "fragment"
    }
   },
   "outputs": [
    {
     "data": {
      "text/plain": [
       "'fabs(sin(pow(x, 2)))'"
      ]
     },
     "execution_count": 26,
     "metadata": {},
     "output_type": "execute_result"
    }
   ],
   "source": [
    "ccode(expr)"
   ]
  },
  {
   "cell_type": "code",
   "execution_count": 27,
   "metadata": {
    "slideshow": {
     "slide_type": "fragment"
    }
   },
   "outputs": [
    {
     "data": {
      "text/plain": [
       "'abs(sin(x**2))'"
      ]
     },
     "execution_count": 27,
     "metadata": {},
     "output_type": "execute_result"
    }
   ],
   "source": [
    "fcode(expr, standard=2003, source_format='free')"
   ]
  },
  {
   "cell_type": "code",
   "execution_count": 28,
   "metadata": {
    "slideshow": {
     "slide_type": "fragment"
    }
   },
   "outputs": [
    {
     "data": {
      "text/plain": [
       "'fabs(sin(std::pow(x, 2)))'"
      ]
     },
     "execution_count": 28,
     "metadata": {},
     "output_type": "execute_result"
    }
   ],
   "source": [
    "from sympy.printing.cxxcode import cxxcode\n",
    "cxxcode(expr)"
   ]
  },
  {
   "cell_type": "code",
   "execution_count": 29,
   "metadata": {
    "slideshow": {
     "slide_type": "slide"
    }
   },
   "outputs": [
    {
     "data": {
      "image/png": "[encoded data removed]",
      "text/latex": [
       "$$\\frac{e^{x} - e^{- x}}{e^{x} + e^{- x}}$$"
      ],
      "text/plain": [
       " x    -x\n",
       "ℯ  - ℯ  \n",
       "────────\n",
       " x    -x\n",
       "ℯ  + ℯ  "
      ]
     },
     "execution_count": 29,
     "metadata": {},
     "output_type": "execute_result"
    }
   ],
   "source": [
    "tanh(x).rewrite(exp)"
   ]
  },
  {
   "cell_type": "code",
   "execution_count": 30,
   "metadata": {},
   "outputs": [
    {
     "name": "stdout",
     "output_type": "stream",
     "text": [
      "parameter (pi = 3.14159265358979d0)\n",
      "(1.0d0/2.0d0)*sqrt(2.0d0)*exp(-0.5d0*(-mu + x)**2/sigma**2)/(sqrt(pi)* &\n",
      "      sigma)\n"
     ]
    }
   ],
   "source": [
    "expr = 1/sqrt(2*pi*sigma**2)* exp(-(x-mu)**2/(2*sigma**2))\n",
    "print(fcode(expr, standard=2003, source_format='free'))"
   ]
  },
  {
   "cell_type": "code",
   "execution_count": 31,
   "metadata": {},
   "outputs": [
    {
     "data": {
      "image/png": "[encoded data removed]",
      "text/latex": [
       "$$\\left \\{ \\left ( 0, \\quad 3\\right ) : 1, \\quad \\left ( 1, \\quad 2\\right ) : 3, \\quad \\left ( 2, \\quad 1\\right ) : 3, \\quad \\left ( 3, \\quad 0\\right ) : 1\\right \\}$$"
      ],
      "text/plain": [
       "{(0, 3): 1, (1, 2): 3, (2, 1): 3, (3, 0): 1}"
      ]
     },
     "execution_count": 31,
     "metadata": {},
     "output_type": "execute_result"
    }
   ],
   "source": [
    "binomial_coefficients(3)"
   ]
  },
  {
   "cell_type": "markdown",
   "metadata": {
    "slideshow": {
     "slide_type": "slide"
    }
   },
   "source": [
    "## Creating a function from a symbolic expression\n",
    "In SymPy there is a function to create a Python function which evaluates (usually numerically) an expression. SymPy allows the user to define the signature of this function (which is convenient when working with e.g. a numerical solver in ``scipy``)."
   ]
  },
  {
   "cell_type": "code",
   "execution_count": 32,
   "metadata": {
    "slideshow": {
     "slide_type": "fragment"
    }
   },
   "outputs": [
    {
     "data": {
      "image/png": "[encoded data removed]",
      "text/latex": [
       "$$3 x^{2} + \\log{\\left (x^{2} + y^{2} + 1 \\right )}$$"
      ],
      "text/plain": [
       "   2      ⎛ 2    2    ⎞\n",
       "3⋅x  + log⎝x  + y  + 1⎠"
      ]
     },
     "execution_count": 32,
     "metadata": {},
     "output_type": "execute_result"
    }
   ],
   "source": [
    "x, y = symbols('x y')\n",
    "expr = 3*x**2 + log(x**2 + y**2 + 1)\n",
    "expr"
   ]
  },
  {
   "cell_type": "code",
   "execution_count": 33,
   "metadata": {
    "slideshow": {
     "slide_type": "fragment"
    }
   },
   "outputs": [
    {
     "name": "stdout",
     "output_type": "stream",
     "text": [
      "294 µs ± 2.62 µs per loop (mean ± std. dev. of 7 runs, 1000 loops each)\n"
     ]
    }
   ],
   "source": [
    "%timeit expr.subs({x: 17, y: 42}).evalf()"
   ]
  },
  {
   "cell_type": "code",
   "execution_count": 34,
   "metadata": {
    "slideshow": {
     "slide_type": "fragment"
    }
   },
   "outputs": [
    {
     "data": {
      "image/png": "[encoded data removed]",
      "text/latex": [
       "$$874.6275443904885$$"
      ],
      "text/plain": [
       "874.6275443904885"
      ]
     },
     "execution_count": 34,
     "metadata": {},
     "output_type": "execute_result"
    }
   ],
   "source": [
    "import math\n",
    "f = lambda x, y: 3*x**2 + math.log(x**2 + y**2 + 1)\n",
    "f(17, 42)"
   ]
  },
  {
   "cell_type": "code",
   "execution_count": 35,
   "metadata": {
    "slideshow": {
     "slide_type": "fragment"
    }
   },
   "outputs": [
    {
     "name": "stdout",
     "output_type": "stream",
     "text": [
      "1.36 µs ± 8.32 ns per loop (mean ± std. dev. of 7 runs, 1000000 loops each)\n"
     ]
    }
   ],
   "source": [
    "%timeit f(17, 42)"
   ]
  },
  {
   "cell_type": "markdown",
   "metadata": {
    "slideshow": {
     "slide_type": "fragment"
    }
   },
   "source": [
    "Evaluate above expression numerically invoking the subs method followed by the evalf method can be quite slow and cannot be done repeatedly."
   ]
  },
  {
   "cell_type": "code",
   "execution_count": 36,
   "metadata": {
    "slideshow": {
     "slide_type": "slide"
    }
   },
   "outputs": [
    {
     "data": {
      "image/png": "[encoded data removed]",
      "text/latex": [
       "$$874.6275443904885$$"
      ],
      "text/plain": [
       "874.6275443904885"
      ]
     },
     "execution_count": 36,
     "metadata": {},
     "output_type": "execute_result"
    }
   ],
   "source": [
    "g = lambdify([x, y], expr, modules=['math'])\n",
    "g(17, 42)"
   ]
  },
  {
   "cell_type": "code",
   "execution_count": 37,
   "metadata": {
    "slideshow": {
     "slide_type": "fragment"
    }
   },
   "outputs": [
    {
     "name": "stdout",
     "output_type": "stream",
     "text": [
      "1.4 µs ± 62.7 ns per loop (mean ± std. dev. of 7 runs, 1000000 loops each)\n"
     ]
    }
   ],
   "source": [
    "%timeit g(17, 42)"
   ]
  },
  {
   "cell_type": "code",
   "execution_count": 38,
   "metadata": {},
   "outputs": [
    {
     "data": {
      "image/png": "[encoded data removed]",
      "text/latex": [
       "$$\\left ( 5\\right )$$"
      ],
      "text/plain": [
       "(5,)"
      ]
     },
     "execution_count": 38,
     "metadata": {},
     "output_type": "execute_result"
    }
   ],
   "source": [
    "import numpy as np\n",
    "xarr = np.linspace(17, 18, 5)\n",
    "h = lambdify([x, y], expr)\n",
    "out = h(xarr, 42)\n",
    "out.shape"
   ]
  },
  {
   "cell_type": "code",
   "execution_count": 39,
   "metadata": {},
   "outputs": [
    {
     "data": {
      "image/png": "[encoded data removed]",
      "text/latex": [
       "$$24$$"
      ],
      "text/plain": [
       "24"
      ]
     },
     "execution_count": 39,
     "metadata": {},
     "output_type": "execute_result"
    }
   ],
   "source": [
    "z = z1, z2, z3 = symbols('z:3')\n",
    "expr2 = x*y*(z1 + z2 + z3)\n",
    "func2 = lambdify([x, y, z], expr2)\n",
    "func2(1, 2, (3, 4, 5))"
   ]
  },
  {
   "cell_type": "markdown",
   "metadata": {},
   "source": [
    "Behind the scenes lambdify constructs a string representation of the Python code and uses Python's eval function to compile the function."
   ]
  },
  {
   "cell_type": "markdown",
   "metadata": {
    "slideshow": {
     "slide_type": "slide"
    }
   },
   "source": [
    "SIR model with respect to time t and variables X for constant population\n",
    "Order of variables in $X : [S, I, R]$\n",
    "\n",
    "$$\n",
    "\\frac{dS}{dt} = - \\beta  S I \\\\\n",
    "\\frac{dI}{dt} = \\beta  S I -  \\gamma I \\\\\n",
    "\\frac{dR}{dt} = \\gamma I\n",
    "$$\n",
    "\n",
    "- X: values of the variables (ratio of suceptibles, infectious and recovered fraction of the population)\n",
    "- t: time (not used because autonomous ODE)\n",
    "- $\\beta$ : transmission coefficient.\n",
    "- $\\gamma$ : healing rate.\n"
   ]
  },
  {
   "cell_type": "markdown",
   "metadata": {
    "collapsed": true,
    "slideshow": {
     "slide_type": "slide"
    }
   },
   "source": [
    "### Solving the initial value problem numerically\n",
    "We will now integrate this system of ordinary differential equations numerically using the ``odeint`` solver provided by ``scipy``:\n"
   ]
  },
  {
   "cell_type": "code",
   "execution_count": 40,
   "metadata": {
    "slideshow": {
     "slide_type": "fragment"
    }
   },
   "outputs": [],
   "source": [
    "import numpy as np\n",
    "from scipy.integrate import odeint"
   ]
  },
  {
   "cell_type": "markdown",
   "metadata": {
    "slideshow": {
     "slide_type": "fragment"
    }
   },
   "source": [
    "By looking at the [documentation](https://docs.scipy.org/doc/scipy-0.19.0/reference/generated/scipy.integrate.odeint.html) of odeint we see that we need to provide a function which computes a vector of derivatives ($\\dot{\\mathbf{y}} = [\\frac{dy_1}{dt}, \\frac{dy_2}{dt}, \\frac{dy_3}{dt}]$). The expected signature of this function is:\n",
    "\n",
    "    f(y: array[float64], t: float64, *args: arbitrary constants) -> dydt: array[float64]\n",
    "    \n",
    "in our case we can write it as:"
   ]
  },
  {
   "cell_type": "code",
   "execution_count": 41,
   "metadata": {
    "slideshow": {
     "slide_type": "slide"
    }
   },
   "outputs": [],
   "source": [
    "def rhs(y, t, beta, gamma):\n",
    "    rb = beta * y[0]*y[1]\n",
    "    rg = gamma * y[1]\n",
    "    return [- rb , rb - rg, rg]"
   ]
  },
  {
   "cell_type": "code",
   "execution_count": 42,
   "metadata": {
    "slideshow": {
     "slide_type": "slide"
    }
   },
   "outputs": [
    {
     "data": {
      "image/png": "[encoded data removed]",
      "text/plain": [
       "<matplotlib.figure.Figure at 0x10aa71b00>"
      ]
     },
     "metadata": {
      "image/png": {
       "height": 357,
       "width": 593
      }
     },
     "output_type": "display_data"
    }
   ],
   "source": [
    "%matplotlib inline\n",
    "%config InlineBackend.figure_format = 'retina'\n",
    "import matplotlib\n",
    "import matplotlib.pyplot as plt\n",
    "import seaborn as sns\n",
    "sns.set()\n",
    "matplotlib.rcParams['figure.figsize'] = (10.0, 6.0)\n",
    "\n",
    "tout = np.linspace(0, 10, 100)\n",
    "k_vals = 1.66, 0.4545455\n",
    "y0 = [0.95, 0.05, 0]\n",
    "yout = odeint(rhs, y0, tout, k_vals)\n",
    "plt.plot(tout, yout)\n",
    "_ = plt.legend(['susceptible', 'infected', 'recovered']);"
   ]
  },
  {
   "cell_type": "markdown",
   "metadata": {},
   "source": [
    "We will construct the system from a symbolic representation. But at the same time, we need the ``rhs`` function to be fast. Which means that we want to produce a fast function from our symbolic representation. Generating a function from our symbolic representation is achieved through *code generation*. \n",
    "\n",
    "1. Construct a symbolic representation from some domain specific representation using SymPy.\n",
    "2. Have SymPy generate a function with an appropriate signature (or multiple thereof), which we pass on to the solver.\n",
    "\n",
    "We will achieve (1) by using SymPy symbols (and functions if needed). For (2) we will use a function in SymPy called ``lambdify``―it takes a symbolic expressions and returns a function. In a later notebook, we will look at (1), for now we will just use ``rhs`` which we've already written:"
   ]
  },
  {
   "cell_type": "markdown",
   "metadata": {
    "slideshow": {
     "slide_type": "slide"
    }
   },
   "source": [
    "In last example the gains of using a symbolic representation are arguably limited. Let's take the same example with demography and $n$ classes of subjects :"
   ]
  },
  {
   "cell_type": "markdown",
   "metadata": {
    "slideshow": {
     "slide_type": "fragment"
    }
   },
   "source": [
    "$$\n",
    "X_i = S_i, I_i, R_i  \\qquad i = 1 \\ldots n \n",
    "$$\n",
    "\n",
    "$$\n",
    "    \\frac{dS_i}{dt} = \\nu_i - \\beta_i S_i I_i - \\mu_i S_i + \n",
    "    \\sum_{j=1}^n m_{ji} S_j-\\sum_{j=1}^n m_{ij} S_i \\\\\n",
    "    \\frac{dI_i}{dt} = \\beta_i S_i I_i - (\\gamma_i + \\mu_i) I_i \n",
    "    \\sum_{j=1}^n m_{ij} I_j-\\sum_{j=1}^n m_{ji} I_i \\\\\n",
    "    \\frac{dR_i}{dt} = - \\frac{dS_i}{dt} - \\frac{dI_i}{dt}\n",
    "$$\n",
    "\n",
    "- $\\beta$  : transmission coefficient\n",
    "- $\\gamma$ : healing rate\n",
    "- $\\mu$    : mortality rate\n",
    "- $\\nu$    : birth rate\n",
    "        "
   ]
  },
  {
   "cell_type": "code",
   "execution_count": 70,
   "metadata": {},
   "outputs": [],
   "source": [
    "import sympy as sym\n",
    "n = 3\n",
    "m = Matrix([[0, 0.01, 0.01], [0.01, 0.0, 0.01], [0.01, 0.01, 0.0]])\n",
    "\n",
    "def mk_symbols(name, n):\n",
    "    names = [name+'_{0:1d}'.format(n) for n in range(3)]\n",
    "    return sym.Matrix([sym.symbols(names, real=True, nonnegative=True)])\n",
    "\n",
    "y = []\n",
    "for name in 'S I R'.split():\n",
    "    y.append(mk_symbols(name, n))\n",
    "    \n",
    "nu = mk_symbols('nu', n)\n",
    "mu = mk_symbols('mu', n)\n",
    "beta = mk_symbols('beta', n)\n",
    "gamma = mk_symbols('gamma', n)"
   ]
  },
  {
   "cell_type": "code",
   "execution_count": 100,
   "metadata": {},
   "outputs": [
    {
     "data": {
      "image/png": "[encoded data removed]",
      "text/latex": [
       "$$\\left [ - I_{0} S_{0} \\beta_{0} - S_{0} \\mu_{0} + \\nu_{0}, \\quad I_{0} S_{0} \\beta_{0} - I_{0} \\left(\\gamma_{0} + \\mu_{0}\\right), \\quad - I_{1} S_{1} \\beta_{1} - S_{1} \\mu_{1} + \\nu_{1}, \\quad I_{1} S_{1} \\beta_{1} - I_{1} \\left(\\gamma_{1} + \\mu_{1}\\right), \\quad - I_{2} S_{2} \\beta_{2} - S_{2} \\mu_{2} + \\nu_{2}, \\quad I_{2} S_{2} \\beta_{2} - I_{2} \\left(\\gamma_{2} + \\mu_{2}\\right), \\quad I_{0} S_{0} \\beta_{0} - I_{1} S_{1} \\beta_{1} + I_{1} \\left(\\gamma_{1} + \\mu_{1}\\right) + S_{0} \\mu_{0} - \\nu_{0}, \\quad - I_{0} S_{0} \\beta_{0} + I_{0} \\left(\\gamma_{0} + \\mu_{0}\\right) + I_{2} S_{2} \\beta_{2} + S_{2} \\mu_{2} - \\nu_{2}, \\quad I_{1} S_{1} \\beta_{1} - I_{2} S_{2} \\beta_{2} + I_{2} \\left(\\gamma_{2} + \\mu_{2}\\right) + S_{1} \\mu_{1} - \\nu_{1}\\right ]$$"
      ],
      "text/plain": [
       "[-I₀⋅S₀⋅β₀ - S₀⋅μ₀ + ν₀, I₀⋅S₀⋅β₀ - I₀⋅(γ₀ + μ₀), -I₁⋅S₁⋅β₁ - S₁⋅μ₁ + ν₁, I₁⋅S\n",
       "₁⋅β₁ - I₁⋅(γ₁ + μ₁), -I₂⋅S₂⋅β₂ - S₂⋅μ₂ + ν₂, I₂⋅S₂⋅β₂ - I₂⋅(γ₂ + μ₂), I₀⋅S₀⋅β₀\n",
       " - I₁⋅S₁⋅β₁ + I₁⋅(γ₁ + μ₁) + S₀⋅μ₀ - ν₀, -I₀⋅S₀⋅β₀ + I₀⋅(γ₀ + μ₀) + I₂⋅S₂⋅β₂ +\n",
       " S₂⋅μ₂ - ν₂, I₁⋅S₁⋅β₁ - I₂⋅S₂⋅β₂ + I₂⋅(γ₂ + μ₂) + S₁⋅μ₁ - ν₁]"
      ]
     },
     "execution_count": 100,
     "metadata": {},
     "output_type": "execute_result"
    }
   ],
   "source": [
    "rhs = []\n",
    "for i in range(n):\n",
    "    rhs.append(nu[i] - beta[i]*y[0][i]*y[1][i] - mu[i]*y[0][i]\n",
    "        + sum(m.T @ y[0].T) - sum(m @ y[0].T))\n",
    "    rhs.append(beta[i] * y[0][i] * y[1][i] - (gamma[i] + mu[i])*y[1][i] \n",
    "    + sum( m @ y[1].T) - sum(y[1] @ m ))\n",
    "\n",
    "for i in range(n):\n",
    "    rhs.append(-rhs[i]-rhs[i+n])\n",
    "    \n",
    "rhs"
   ]
  },
  {
   "cell_type": "code",
   "execution_count": 89,
   "metadata": {},
   "outputs": [
    {
     "data": {
      "image/png": "[encoded data removed]",
      "text/latex": [
       "$$0$$"
      ],
      "text/plain": [
       "0"
      ]
     },
     "execution_count": 89,
     "metadata": {},
     "output_type": "execute_result"
    }
   ],
   "source": []
  },
  {
   "cell_type": "code",
   "execution_count": 90,
   "metadata": {},
   "outputs": [
    {
     "data": {
      "image/png": "[encoded data removed]",
      "text/latex": [
       "$$\\left[\\begin{matrix}0 & 0.01 & 0.01\\\\0.01 & 0.0 & 0.01\\\\0.01 & 0.01 & 0.0\\end{matrix}\\right]$$"
      ],
      "text/plain": [
       "⎡ 0    0.01  0.01⎤\n",
       "⎢                ⎥\n",
       "⎢0.01  0.0   0.01⎥\n",
       "⎢                ⎥\n",
       "⎣0.01  0.01  0.0 ⎦"
      ]
     },
     "execution_count": 90,
     "metadata": {},
     "output_type": "execute_result"
    }
   ],
   "source": [
    "m"
   ]
  },
  {
   "cell_type": "code",
   "execution_count": 91,
   "metadata": {},
   "outputs": [
    {
     "name": "stdout",
     "output_type": "stream",
     "text": [
      "Matrix([[0.01*S_1 + 0.01*S_2], [0.01*S_0 + 0.01*S_2], [0.01*S_0 + 0.01*S_1]])\n"
     ]
    }
   ],
   "source": [
    "s = sym.Matrix([0,0,0])\n",
    "for i in range(m.shape[0]):\n",
    "    for j in range(m.shape[1]):\n",
    "        s[i] += m[i,j]*y[0][j]\n",
    "        \n",
    "print(s)"
   ]
  },
  {
   "cell_type": "code",
   "execution_count": 94,
   "metadata": {},
   "outputs": [
    {
     "data": {
      "image/png": "[encoded data removed]",
      "text/latex": [
       "$$\\left[\\begin{matrix}0.01 S_{1} + 0.01 S_{2} & 0.01 S_{0} + 0.01 S_{2} & 0.01 S_{0} + 0.01 S_{1}\\end{matrix}\\right]$$"
      ],
      "text/plain": [
       "[0.01⋅S₁ + 0.01⋅S₂  0.01⋅S₀ + 0.01⋅S₂  0.01⋅S₀ + 0.01⋅S₁]"
      ]
     },
     "execution_count": 94,
     "metadata": {},
     "output_type": "execute_result"
    }
   ],
   "source": [
    "y[0] @ m"
   ]
  },
  {
   "cell_type": "code",
   "execution_count": 214,
   "metadata": {},
   "outputs": [
    {
     "data": {
      "image/png": "[encoded data removed]",
      "text/latex": [
       "$$\\left[\\begin{matrix}- \\beta y_{1} & - \\beta y_{0} & 0\\\\\\beta y_{1} & \\beta y_{0} - \\gamma & 0\\\\0 & \\gamma & 0\\end{matrix}\\right]$$"
      ],
      "text/plain": [
       "⎡-β⋅y₁   -β⋅y₀    0⎤\n",
       "⎢                  ⎥\n",
       "⎢β⋅y₁   β⋅y₀ - γ  0⎥\n",
       "⎢                  ⎥\n",
       "⎣  0       γ      0⎦"
      ]
     },
     "execution_count": 214,
     "metadata": {},
     "output_type": "execute_result"
    }
   ],
   "source": [
    "sym.Matrix(ydot).jacobian(y)"
   ]
  },
  {
   "cell_type": "code",
   "execution_count": 221,
   "metadata": {},
   "outputs": [
    {
     "ename": "ValueError",
     "evalue": "too many values to unpack (expected 2)",
     "output_type": "error",
     "traceback": [
      "\u001b[0;31m---------------------------------------------------------------------------\u001b[0m",
      "\u001b[0;31mValueError\u001b[0m                                Traceback (most recent call last)",
      "\u001b[0;32m<ipython-input-221-ac044eb250d4>\u001b[0m in \u001b[0;36m<module>\u001b[0;34m()\u001b[0m\n\u001b[0;32m----> 1\u001b[0;31m \u001b[0my\u001b[0m\u001b[0;34m,\u001b[0m \u001b[0mk\u001b[0m \u001b[0;34m=\u001b[0m \u001b[0msym\u001b[0m\u001b[0;34m.\u001b[0m\u001b[0msymbols\u001b[0m\u001b[0;34m(\u001b[0m\u001b[0;34m'y:3'\u001b[0m\u001b[0;34m)\u001b[0m\u001b[0;34m\u001b[0m\u001b[0m\n\u001b[0m\u001b[1;32m      2\u001b[0m \u001b[0mk\u001b[0m\u001b[0;34m\u001b[0m\u001b[0m\n",
      "\u001b[0;31mValueError\u001b[0m: too many values to unpack (expected 2)"
     ]
    }
   ],
   "source": [
    "\n"
   ]
  },
  {
   "cell_type": "code",
   "execution_count": null,
   "metadata": {
    "collapsed": true
   },
   "outputs": [],
   "source": []
  }
 ],
 "metadata": {
  "celltoolbar": "Slideshow",
  "kernelspec": {
   "display_name": "Python 3",
   "language": "python",
   "name": "python3"
  },
  "language_info": {
   "codemirror_mode": {
    "name": "ipython",
    "version": 3
   },
   "file_extension": ".py",
   "mimetype": "text/x-python",
   "name": "python",
   "nbconvert_exporter": "python",
   "pygments_lexer": "ipython3",
   "version": "3.6.3"
  }
 },
 "nbformat": 4,
 "nbformat_minor": 2
}
