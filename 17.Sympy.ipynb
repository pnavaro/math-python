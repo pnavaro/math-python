{
 "cells": [
  {
   "cell_type": "markdown",
   "metadata": {
    "slideshow": {
     "slide_type": "slide"
    }
   },
   "source": [
    "Pierre Navaro - [Institut de Recherche Mathématique de Rennes](https://irmar.univ-rennes1.fr) - [CNRS](http://www.cnrs.fr/)"
   ]
  },
  {
   "cell_type": "markdown",
   "metadata": {
    "slideshow": {
     "slide_type": "skip"
    }
   },
   "source": [
    "# References\n",
    "\n",
    "- [SciPy 2017 tutorial](https://youtu.be/5jzIVp6bTy0)\n",
    "\n",
    "The function init_printing() will enable LaTeX pretty printing in the notebook for SymPy expressions."
   ]
  },
  {
   "cell_type": "code",
   "execution_count": 127,
   "metadata": {
    "collapsed": true,
    "slideshow": {
     "slide_type": "slide"
    }
   },
   "outputs": [],
   "source": [
    "from sympy import *\n",
    "import sympy as sym\n",
    "init_printing()"
   ]
  },
  {
   "cell_type": "code",
   "execution_count": 128,
   "metadata": {
    "slideshow": {
     "slide_type": "fragment"
    }
   },
   "outputs": [
    {
     "data": {
      "image/png": "[encoded data removed]",
      "text/latex": [
       "$$\\left(x + \\pi\\right)^{2}$$"
      ],
      "text/plain": [
       "       2\n",
       "(x + π) "
      ]
     },
     "execution_count": 128,
     "metadata": {},
     "output_type": "execute_result"
    }
   ],
   "source": [
    "x= Symbol('x')\n",
    "\n",
    "(pi + x)**2"
   ]
  },
  {
   "cell_type": "code",
   "execution_count": 129,
   "metadata": {
    "slideshow": {
     "slide_type": "fragment"
    }
   },
   "outputs": [
    {
     "data": {
      "image/png": "[encoded data removed]",
      "text/latex": [
       "$$\\left ( \\alpha_{1}, \\quad \\omega_{2}\\right )$$"
      ],
      "text/plain": [
       "(α₁, ω₂)"
      ]
     },
     "execution_count": 129,
     "metadata": {},
     "output_type": "execute_result"
    }
   ],
   "source": [
    "alpha1, omega_2 = symbols('alpha1 omega_2')\n",
    "alpha1, omega_2"
   ]
  },
  {
   "cell_type": "code",
   "execution_count": 130,
   "metadata": {},
   "outputs": [
    {
     "data": {
      "image/png": "[encoded data removed]",
      "text/latex": [
       "$$\\frac{\\sqrt{2}}{2 \\sqrt{\\pi} \\sigma} e^{- \\frac{\\left(- \\mu + x\\right)^{2}}{2 \\sigma^{2}}}$$"
      ],
      "text/plain": [
       "             2 \n",
       "    -(-μ + x)  \n",
       "    ───────────\n",
       "           2   \n",
       "        2⋅σ    \n",
       "√2⋅ℯ           \n",
       "───────────────\n",
       "     2⋅√π⋅σ    "
      ]
     },
     "execution_count": 130,
     "metadata": {},
     "output_type": "execute_result"
    }
   ],
   "source": [
    "mu, sigma = symbols('mu sigma', positive = True)\n",
    "1/sqrt(2*pi*sigma**2)* exp(-(x-mu)**2/(2*sigma**2))"
   ]
  },
  {
   "cell_type": "markdown",
   "metadata": {
    "slideshow": {
     "slide_type": "slide"
    }
   },
   "source": [
    "# Why use `sympy`?\n",
    "- Symbolic derivatives\n",
    "- Translate mathematics into low level code\n",
    "- Deal with very large expressions\n",
    "- Optimize code using mathematics"
   ]
  },
  {
   "cell_type": "markdown",
   "metadata": {
    "collapsed": true,
    "slideshow": {
     "slide_type": "slide"
    }
   },
   "source": [
    "Dividing two integers in Python creates a float, like 1/2 -> 0.5. If you want a rational number, use Rational(1, 2) or S(1)/2."
   ]
  },
  {
   "cell_type": "code",
   "execution_count": 131,
   "metadata": {
    "slideshow": {
     "slide_type": "fragment"
    }
   },
   "outputs": [
    {
     "data": {
      "image/png": "[encoded data removed]",
      "text/latex": [
       "$$\\left ( x + \\frac{1}{2}, \\quad \\frac{1}{4}\\right )$$"
      ],
      "text/plain": [
       "(x + 1/2, 1/4)"
      ]
     },
     "execution_count": 131,
     "metadata": {},
     "output_type": "execute_result"
    }
   ],
   "source": [
    "x + S(1)/2 , Rational(1,4)"
   ]
  },
  {
   "cell_type": "code",
   "execution_count": 132,
   "metadata": {
    "slideshow": {
     "slide_type": "fragment"
    }
   },
   "outputs": [
    {
     "data": {
      "image/png": "[encoded data removed]",
      "text/latex": [
       "$$x \\veebar y$$"
      ],
      "text/plain": [
       "x ⊻ y"
      ]
     },
     "execution_count": 132,
     "metadata": {},
     "output_type": "execute_result"
    }
   ],
   "source": [
    "y = Symbol('y')\n",
    "x ^ y # XOR operator (True only if x != y)"
   ]
  },
  {
   "cell_type": "code",
   "execution_count": 133,
   "metadata": {
    "slideshow": {
     "slide_type": "fragment"
    }
   },
   "outputs": [
    {
     "data": {
      "image/png": "[encoded data removed]",
      "text/latex": [
       "$$x^{y}$$"
      ],
      "text/plain": [
       " y\n",
       "x "
      ]
     },
     "execution_count": 133,
     "metadata": {},
     "output_type": "execute_result"
    }
   ],
   "source": [
    "x**y"
   ]
  },
  {
   "cell_type": "markdown",
   "metadata": {
    "slideshow": {
     "slide_type": "slide"
    }
   },
   "source": [
    "SymPy expressions are immutable. Functions that operate on an expression return a new expression."
   ]
  },
  {
   "cell_type": "code",
   "execution_count": 134,
   "metadata": {
    "slideshow": {
     "slide_type": "fragment"
    }
   },
   "outputs": [
    {
     "data": {
      "image/png": "[encoded data removed]",
      "text/latex": [
       "$$x + 1$$"
      ],
      "text/plain": [
       "x + 1"
      ]
     },
     "execution_count": 134,
     "metadata": {},
     "output_type": "execute_result"
    }
   ],
   "source": [
    "expr = x + 1\n",
    "expr"
   ]
  },
  {
   "cell_type": "code",
   "execution_count": 135,
   "metadata": {
    "slideshow": {
     "slide_type": "fragment"
    }
   },
   "outputs": [
    {
     "data": {
      "image/png": "[encoded data removed]",
      "text/latex": [
       "$$3$$"
      ],
      "text/plain": [
       "3"
      ]
     },
     "execution_count": 135,
     "metadata": {},
     "output_type": "execute_result"
    }
   ],
   "source": [
    "expr.subs(x, 2)"
   ]
  },
  {
   "cell_type": "code",
   "execution_count": 136,
   "metadata": {
    "slideshow": {
     "slide_type": "fragment"
    }
   },
   "outputs": [
    {
     "data": {
      "image/png": "[encoded data removed]",
      "text/latex": [
       "$$x + 1$$"
      ],
      "text/plain": [
       "x + 1"
      ]
     },
     "execution_count": 136,
     "metadata": {},
     "output_type": "execute_result"
    }
   ],
   "source": [
    "expr"
   ]
  },
  {
   "cell_type": "markdown",
   "metadata": {},
   "source": [
    "Evaluate a floating point approximation up to a user specified number of digits."
   ]
  },
  {
   "cell_type": "code",
   "execution_count": 137,
   "metadata": {
    "slideshow": {
     "slide_type": "slide"
    }
   },
   "outputs": [
    {
     "data": {
      "image/png": "[encoded data removed]",
      "text/latex": [
       "$$\\left ( \\sqrt{2}, \\quad 1.414214\\right )$$"
      ],
      "text/plain": [
       "(√2, 1.414214)"
      ]
     },
     "execution_count": 137,
     "metadata": {},
     "output_type": "execute_result"
    }
   ],
   "source": [
    "sqrt(2), sqrt(2).evalf(7)"
   ]
  },
  {
   "cell_type": "code",
   "execution_count": 138,
   "metadata": {},
   "outputs": [
    {
     "data": {
      "image/png": "[encoded data removed]",
      "text/latex": [
       "$$354224848179261915075$$"
      ],
      "text/plain": [
       "354224848179261915075"
      ]
     },
     "execution_count": 138,
     "metadata": {},
     "output_type": "execute_result"
    }
   ],
   "source": [
    "fibonacci(100)"
   ]
  },
  {
   "cell_type": "markdown",
   "metadata": {
    "slideshow": {
     "slide_type": "slide"
    }
   },
   "source": [
    "## Undefined functions and derivatives\n",
    "\n",
    "Undefined functions are created with `Function()`. Undefined are useful to state that one variable depends on another (for the purposes of differentiation)."
   ]
  },
  {
   "cell_type": "code",
   "execution_count": 139,
   "metadata": {
    "collapsed": true,
    "slideshow": {
     "slide_type": "fragment"
    }
   },
   "outputs": [],
   "source": [
    "f = Function('f')"
   ]
  },
  {
   "cell_type": "code",
   "execution_count": 140,
   "metadata": {
    "slideshow": {
     "slide_type": "fragment"
    }
   },
   "outputs": [
    {
     "data": {
      "image/png": "[encoded data removed]",
      "text/latex": [
       "$$f{\\left (x \\right )} + 1$$"
      ],
      "text/plain": [
       "f(x) + 1"
      ]
     },
     "execution_count": 140,
     "metadata": {},
     "output_type": "execute_result"
    }
   ],
   "source": [
    "f(x) + 1"
   ]
  },
  {
   "cell_type": "code",
   "execution_count": 141,
   "metadata": {
    "slideshow": {
     "slide_type": "fragment"
    }
   },
   "outputs": [
    {
     "data": {
      "image/png": "[encoded data removed]",
      "text/latex": [
       "$$\\left ( \\cos{\\left (y \\right )} \\cos{\\left (x + 1 \\right )}, \\quad - \\sin{\\left (y \\right )} \\cos{\\left (x + 1 \\right )}, \\quad \\frac{d}{d x} f{\\left (x \\right )}\\right )$$"
      ],
      "text/plain": [
       "⎛                                       d       ⎞\n",
       "⎜cos(y)⋅cos(x + 1), -sin(y)⋅cos(x + 1), ──(f(x))⎟\n",
       "⎝                                       dx      ⎠"
      ]
     },
     "execution_count": 141,
     "metadata": {},
     "output_type": "execute_result"
    }
   ],
   "source": [
    "diff(sin(x + 1)*cos(y), x), diff(sin(x + 1)*cos(y), x, y), diff(f(x), x)"
   ]
  },
  {
   "cell_type": "code",
   "execution_count": 142,
   "metadata": {
    "slideshow": {
     "slide_type": "fragment"
    }
   },
   "outputs": [
    {
     "data": {
      "image/png": "[encoded data removed]",
      "text/latex": [
       "$$\\frac{\\partial^{2}}{\\partial c^{2}}  u{\\left (c,x \\right )} = t^{2} \\frac{\\partial^{2}}{\\partial x^{2}}  u{\\left (c,x \\right )}$$"
      ],
      "text/plain": [
       "  2                 2         \n",
       " ∂              2  ∂          \n",
       "───(u(c, x)) = t ⋅───(u(c, x))\n",
       "  2                 2         \n",
       "∂c                ∂x          "
      ]
     },
     "execution_count": 142,
     "metadata": {},
     "output_type": "execute_result"
    }
   ],
   "source": [
    "c, t = symbols('t c')\n",
    "u = Function('u')\n",
    "Eq(diff(u(t,x),t,t), c**2*diff(u(t,x),x,2))"
   ]
  },
  {
   "cell_type": "markdown",
   "metadata": {
    "slideshow": {
     "slide_type": "slide"
    }
   },
   "source": [
    "# Matrices"
   ]
  },
  {
   "cell_type": "code",
   "execution_count": 143,
   "metadata": {
    "slideshow": {
     "slide_type": "fragment"
    }
   },
   "outputs": [
    {
     "data": {
      "image/png": "[encoded data removed]",
      "text/latex": [
       "$$\\left[\\begin{matrix}x + 2 y\\\\3 x + 4 y\\end{matrix}\\right]$$"
      ],
      "text/plain": [
       "⎡ x + 2⋅y ⎤\n",
       "⎢         ⎥\n",
       "⎣3⋅x + 4⋅y⎦"
      ]
     },
     "execution_count": 143,
     "metadata": {},
     "output_type": "execute_result"
    }
   ],
   "source": [
    "Matrix([[1, 2], [3, 4]])*Matrix([x, y])"
   ]
  },
  {
   "cell_type": "code",
   "execution_count": 144,
   "metadata": {
    "slideshow": {
     "slide_type": "fragment"
    }
   },
   "outputs": [
    {
     "data": {
      "image/png": "[encoded data removed]",
      "text/latex": [
       "$$\\left[\\begin{matrix}\\cos{\\left (x \\right )} & 1 & 0\\\\1 & - \\sin{\\left (y \\right )} & 0\\\\0 & 0 & 1\\end{matrix}\\right]$$"
      ],
      "text/plain": [
       "⎡cos(x)     1     0⎤\n",
       "⎢                  ⎥\n",
       "⎢  1     -sin(y)  0⎥\n",
       "⎢                  ⎥\n",
       "⎣  0        0     1⎦"
      ]
     },
     "execution_count": 144,
     "metadata": {},
     "output_type": "execute_result"
    }
   ],
   "source": [
    "x, y, z = symbols('x y z')\n",
    "Matrix([sin(x) + y, cos(y) + x, z]).jacobian([x, y, z])"
   ]
  },
  {
   "cell_type": "markdown",
   "metadata": {
    "slideshow": {
     "slide_type": "slide"
    }
   },
   "source": [
    "## Matrix symbols\n",
    "\n",
    "SymPy can also operate on matrices of symbolic dimension ($n \\times m$). `MatrixSymbol(\"M\", n, m)` creates a matrix $M$ of shape $n \\times m$. "
   ]
  },
  {
   "cell_type": "code",
   "execution_count": 145,
   "metadata": {
    "slideshow": {
     "slide_type": "fragment"
    }
   },
   "outputs": [
    {
     "data": {
      "image/png": "[encoded data removed]",
      "text/latex": [
       "$$\\left(M b\\right)^T$$"
      ],
      "text/plain": [
       "     T\n",
       "(M⋅b) "
      ]
     },
     "execution_count": 145,
     "metadata": {},
     "output_type": "execute_result"
    }
   ],
   "source": [
    "n, m = symbols('n m', integer=True)\n",
    "M = MatrixSymbol(\"M\", n, m)\n",
    "b = MatrixSymbol(\"b\", m, 1)\n",
    "Transpose(M*b)"
   ]
  },
  {
   "cell_type": "code",
   "execution_count": 146,
   "metadata": {
    "slideshow": {
     "slide_type": "fragment"
    }
   },
   "outputs": [
    {
     "data": {
      "image/png": "[encoded data removed]",
      "text/latex": [
       "$$b^T M^T$$"
      ],
      "text/plain": [
       " T  T\n",
       "b ⋅M "
      ]
     },
     "execution_count": 146,
     "metadata": {},
     "output_type": "execute_result"
    }
   ],
   "source": [
    "Transpose(M*b).doit()"
   ]
  },
  {
   "cell_type": "markdown",
   "metadata": {
    "slideshow": {
     "slide_type": "slide"
    }
   },
   "source": [
    "## Solving systems of equations\n",
    "\n",
    "`solve` solves equations symbolically (not numerically). The return value is a list of solutions. It automatically assumes that it is equal to 0."
   ]
  },
  {
   "cell_type": "code",
   "execution_count": 147,
   "metadata": {
    "slideshow": {
     "slide_type": "fragment"
    }
   },
   "outputs": [
    {
     "data": {
      "image/png": "[encoded data removed]",
      "text/latex": [
       "$$\\left [ -2, \\quad 2\\right ]$$"
      ],
      "text/plain": [
       "[-2, 2]"
      ]
     },
     "execution_count": 147,
     "metadata": {},
     "output_type": "execute_result"
    }
   ],
   "source": [
    "solve(Eq(x**2, 4), x)\n"
   ]
  },
  {
   "cell_type": "code",
   "execution_count": 148,
   "metadata": {
    "slideshow": {
     "slide_type": "fragment"
    }
   },
   "outputs": [
    {
     "data": {
      "image/png": "[encoded data removed]",
      "text/latex": [
       "$$\\left [ - \\frac{3}{2} + \\frac{\\sqrt{21}}{2}, \\quad - \\frac{\\sqrt{21}}{2} - \\frac{3}{2}\\right ]$$"
      ],
      "text/plain": [
       "⎡  3   √21    √21   3⎤\n",
       "⎢- ─ + ───, - ─── - ─⎥\n",
       "⎣  2    2      2    2⎦"
      ]
     },
     "execution_count": 148,
     "metadata": {},
     "output_type": "execute_result"
    }
   ],
   "source": [
    "solve(x**2 + 3*x - 3, x)"
   ]
  },
  {
   "cell_type": "code",
   "execution_count": 149,
   "metadata": {
    "slideshow": {
     "slide_type": "fragment"
    }
   },
   "outputs": [
    {
     "data": {
      "image/png": "[encoded data removed]",
      "text/latex": [
       "$$\\left [ \\left ( \\frac{2}{5} + \\frac{\\sqrt{19}}{5}, \\quad - \\frac{2 \\sqrt{19}}{5} + \\frac{1}{5}\\right ), \\quad \\left ( - \\frac{\\sqrt{19}}{5} + \\frac{2}{5}, \\quad \\frac{1}{5} + \\frac{2 \\sqrt{19}}{5}\\right )\\right ]$$"
      ],
      "text/plain": [
       "⎡⎛2   √19    2⋅√19   1⎞  ⎛  √19   2  1   2⋅√19⎞⎤\n",
       "⎢⎜─ + ───, - ───── + ─⎟, ⎜- ─── + ─, ─ + ─────⎟⎥\n",
       "⎣⎝5    5       5     5⎠  ⎝   5    5  5     5  ⎠⎦"
      ]
     },
     "execution_count": 149,
     "metadata": {},
     "output_type": "execute_result"
    }
   ],
   "source": [
    "eq1 = x**2 + y**2 - 4  # circle of radius 2\n",
    "eq2 = 2*x + y - 1  # straight line: y(x) = -2*x + 1\n",
    "solve([eq1, eq2], [x, y])"
   ]
  },
  {
   "cell_type": "markdown",
   "metadata": {
    "slideshow": {
     "slide_type": "slide"
    }
   },
   "source": [
    "## Solving differential equations\n",
    "`dsolve` can (sometimes) produce an exact symbolic solution. Like `solve`, `dsolve` assumes that expressions are equal to 0. "
   ]
  },
  {
   "cell_type": "code",
   "execution_count": 150,
   "metadata": {
    "slideshow": {
     "slide_type": "fragment"
    }
   },
   "outputs": [
    {
     "data": {
      "image/png": "[encoded data removed]",
      "text/latex": [
       "$$f{\\left (x \\right )} = C_{1} \\sin{\\left (x \\right )} + C_{2} \\cos{\\left (x \\right )}$$"
      ],
      "text/plain": [
       "f(x) = C₁⋅sin(x) + C₂⋅cos(x)"
      ]
     },
     "execution_count": 150,
     "metadata": {},
     "output_type": "execute_result"
    }
   ],
   "source": [
    "f = Function('f')\n",
    "dsolve(f(x).diff(x, 2) + f(x))"
   ]
  },
  {
   "cell_type": "markdown",
   "metadata": {
    "slideshow": {
     "slide_type": "slide"
    }
   },
   "source": [
    "## Code printers\n",
    "The most basic form of code generation are the code printers. They convert SymPy expressions into over a dozen target languages.\n"
   ]
  },
  {
   "cell_type": "code",
   "execution_count": 151,
   "metadata": {
    "slideshow": {
     "slide_type": "fragment"
    }
   },
   "outputs": [
    {
     "data": {
      "image/png": "[encoded data removed]",
      "text/latex": [
       "$$\\left|{\\sin{\\left (x^{2} \\right )}}\\right|$$"
      ],
      "text/plain": [
       "│   ⎛ 2⎞│\n",
       "│sin⎝x ⎠│"
      ]
     },
     "execution_count": 151,
     "metadata": {},
     "output_type": "execute_result"
    }
   ],
   "source": [
    "x = symbols('x')\n",
    "expr = abs(sin(x**2))\n",
    "expr"
   ]
  },
  {
   "cell_type": "code",
   "execution_count": 152,
   "metadata": {
    "slideshow": {
     "slide_type": "fragment"
    }
   },
   "outputs": [
    {
     "data": {
      "text/plain": [
       "'fabs(sin(pow(x, 2)))'"
      ]
     },
     "execution_count": 152,
     "metadata": {},
     "output_type": "execute_result"
    }
   ],
   "source": [
    "ccode(expr)"
   ]
  },
  {
   "cell_type": "code",
   "execution_count": 153,
   "metadata": {
    "slideshow": {
     "slide_type": "fragment"
    }
   },
   "outputs": [
    {
     "data": {
      "text/plain": [
       "'abs(sin(x**2))'"
      ]
     },
     "execution_count": 153,
     "metadata": {},
     "output_type": "execute_result"
    }
   ],
   "source": [
    "fcode(expr, standard=2003, source_format='free')"
   ]
  },
  {
   "cell_type": "code",
   "execution_count": 154,
   "metadata": {
    "slideshow": {
     "slide_type": "fragment"
    }
   },
   "outputs": [
    {
     "data": {
      "text/plain": [
       "'fabs(sin(std::pow(x, 2)))'"
      ]
     },
     "execution_count": 154,
     "metadata": {},
     "output_type": "execute_result"
    }
   ],
   "source": [
    "from sympy.printing.cxxcode import cxxcode\n",
    "cxxcode(expr)"
   ]
  },
  {
   "cell_type": "code",
   "execution_count": 155,
   "metadata": {
    "slideshow": {
     "slide_type": "slide"
    }
   },
   "outputs": [
    {
     "data": {
      "image/png": "[encoded data removed]",
      "text/latex": [
       "$$\\frac{e^{x} - e^{- x}}{e^{x} + e^{- x}}$$"
      ],
      "text/plain": [
       " x    -x\n",
       "ℯ  - ℯ  \n",
       "────────\n",
       " x    -x\n",
       "ℯ  + ℯ  "
      ]
     },
     "execution_count": 155,
     "metadata": {},
     "output_type": "execute_result"
    }
   ],
   "source": [
    "tanh(x).rewrite(exp)"
   ]
  },
  {
   "cell_type": "code",
   "execution_count": 156,
   "metadata": {},
   "outputs": [
    {
     "name": "stdout",
     "output_type": "stream",
     "text": [
      "parameter (pi = 3.14159265358979d0)\n",
      "(1.0d0/2.0d0)*sqrt(2.0d0)*exp(-0.5d0*(-mu + x)**2/sigma**2)/(sqrt(pi)* &\n",
      "      sigma)\n"
     ]
    }
   ],
   "source": [
    "expr = 1/sqrt(2*pi*sigma**2)* exp(-(x-mu)**2/(2*sigma**2))\n",
    "print(fcode(expr, standard=2003, source_format='free'))"
   ]
  },
  {
   "cell_type": "code",
   "execution_count": 157,
   "metadata": {},
   "outputs": [
    {
     "data": {
      "image/png": "[encoded data removed]",
      "text/latex": [
       "$$\\left \\{ \\left ( 0, \\quad 3\\right ) : 1, \\quad \\left ( 1, \\quad 2\\right ) : 3, \\quad \\left ( 2, \\quad 1\\right ) : 3, \\quad \\left ( 3, \\quad 0\\right ) : 1\\right \\}$$"
      ],
      "text/plain": [
       "{(0, 3): 1, (1, 2): 3, (2, 1): 3, (3, 0): 1}"
      ]
     },
     "execution_count": 157,
     "metadata": {},
     "output_type": "execute_result"
    }
   ],
   "source": [
    "binomial_coefficients(3)"
   ]
  },
  {
   "cell_type": "markdown",
   "metadata": {
    "slideshow": {
     "slide_type": "slide"
    }
   },
   "source": [
    "## Creating a function from a symbolic expression\n",
    "In SymPy there is a function to create a Python function which evaluates (usually numerically) an expression. SymPy allows the user to define the signature of this function (which is convenient when working with e.g. a numerical solver in ``scipy``)."
   ]
  },
  {
   "cell_type": "code",
   "execution_count": 158,
   "metadata": {
    "slideshow": {
     "slide_type": "fragment"
    }
   },
   "outputs": [
    {
     "data": {
      "image/png": "[encoded data removed]",
      "text/latex": [
       "$$3 x^{2} + \\log{\\left (x^{2} + y^{2} + 1 \\right )}$$"
      ],
      "text/plain": [
       "   2      ⎛ 2    2    ⎞\n",
       "3⋅x  + log⎝x  + y  + 1⎠"
      ]
     },
     "execution_count": 158,
     "metadata": {},
     "output_type": "execute_result"
    }
   ],
   "source": [
    "x, y = symbols('x y')\n",
    "expr = 3*x**2 + log(x**2 + y**2 + 1)\n",
    "expr"
   ]
  },
  {
   "cell_type": "code",
   "execution_count": 159,
   "metadata": {
    "slideshow": {
     "slide_type": "fragment"
    }
   },
   "outputs": [
    {
     "name": "stdout",
     "output_type": "stream",
     "text": [
      "301 µs ± 4.82 µs per loop (mean ± std. dev. of 7 runs, 1000 loops each)\n"
     ]
    }
   ],
   "source": [
    "%timeit expr.subs({x: 17, y: 42}).evalf()"
   ]
  },
  {
   "cell_type": "code",
   "execution_count": 160,
   "metadata": {
    "slideshow": {
     "slide_type": "fragment"
    }
   },
   "outputs": [
    {
     "data": {
      "image/png": "[encoded data removed]",
      "text/latex": [
       "$$874.6275443904885$$"
      ],
      "text/plain": [
       "874.6275443904885"
      ]
     },
     "execution_count": 160,
     "metadata": {},
     "output_type": "execute_result"
    }
   ],
   "source": [
    "import math\n",
    "f = lambda x, y: 3*x**2 + math.log(x**2 + y**2 + 1)\n",
    "f(17, 42)"
   ]
  },
  {
   "cell_type": "code",
   "execution_count": 161,
   "metadata": {
    "slideshow": {
     "slide_type": "fragment"
    }
   },
   "outputs": [
    {
     "name": "stdout",
     "output_type": "stream",
     "text": [
      "1.45 µs ± 8.13 ns per loop (mean ± std. dev. of 7 runs, 1000000 loops each)\n"
     ]
    }
   ],
   "source": [
    "%timeit f(17, 42)"
   ]
  },
  {
   "cell_type": "markdown",
   "metadata": {
    "slideshow": {
     "slide_type": "fragment"
    }
   },
   "source": [
    "Evaluate above expression numerically invoking the subs method followed by the evalf method can be quite slow and cannot be done repeatedly."
   ]
  },
  {
   "cell_type": "code",
   "execution_count": 162,
   "metadata": {
    "slideshow": {
     "slide_type": "slide"
    }
   },
   "outputs": [
    {
     "data": {
      "image/png": "[encoded data removed]",
      "text/latex": [
       "$$874.6275443904885$$"
      ],
      "text/plain": [
       "874.6275443904885"
      ]
     },
     "execution_count": 162,
     "metadata": {},
     "output_type": "execute_result"
    }
   ],
   "source": [
    "g = lambdify([x, y], expr, modules=['math'])\n",
    "g(17, 42)"
   ]
  },
  {
   "cell_type": "code",
   "execution_count": 163,
   "metadata": {
    "slideshow": {
     "slide_type": "fragment"
    }
   },
   "outputs": [
    {
     "name": "stdout",
     "output_type": "stream",
     "text": [
      "1.41 µs ± 7.27 ns per loop (mean ± std. dev. of 7 runs, 1000000 loops each)\n"
     ]
    }
   ],
   "source": [
    "%timeit g(17, 42)"
   ]
  },
  {
   "cell_type": "code",
   "execution_count": 164,
   "metadata": {},
   "outputs": [
    {
     "data": {
      "image/png": "[encoded data removed]",
      "text/latex": [
       "$$\\left ( 5\\right )$$"
      ],
      "text/plain": [
       "(5,)"
      ]
     },
     "execution_count": 164,
     "metadata": {},
     "output_type": "execute_result"
    }
   ],
   "source": [
    "import numpy as np\n",
    "xarr = np.linspace(17, 18, 5)\n",
    "h = lambdify([x, y], expr)\n",
    "out = h(xarr, 42)\n",
    "out.shape"
   ]
  },
  {
   "cell_type": "code",
   "execution_count": 166,
   "metadata": {},
   "outputs": [
    {
     "data": {
      "image/png": "[encoded data removed]",
      "text/latex": [
       "$$24$$"
      ],
      "text/plain": [
       "24"
      ]
     },
     "execution_count": 166,
     "metadata": {},
     "output_type": "execute_result"
    }
   ],
   "source": [
    "z = z1, z2, z3 = symbols('z:3')\n",
    "expr2 = x*y*(z1 + z2 + z3)\n",
    "func2 = lambdify([x, y, z], expr2)\n",
    "func2(1, 2, (3, 4, 5))"
   ]
  },
  {
   "cell_type": "markdown",
   "metadata": {},
   "source": [
    "Behind the scenes lambdify constructs a string representation of the Python code and uses Python's eval function to compile the function."
   ]
  },
  {
   "cell_type": "markdown",
   "metadata": {},
   "source": [
    "SIR model and SIRS with respect to time t and variables X\n",
    "for constant or varying total population and any number nbc of classes\n",
    "Order of variables in X : S1, ..., Snbc, I1, ..., Inbc, R1, ..., Rnbc\n",
    "S_i' = nuf_i - (1/N) S_i Sum_{j=1}^nbc Beta_{ij} I_j + nup_i(S_i + I_i + R_i) + alpha_i R_i - (mu_i      + v_i + k_i) S_i : susceptibles classes\n",
    "     I_i' = S_i (1/N) Sum_{j=1}^nbc Beta_{ij} I_j - (Gamma_i + mu_i + delta_i + k_i) I_i : infectious cla     sses\n",
    "     R_i' = (Gamma_i + delta_i) I_i - (alpha_i + mu_i + k_i) R_i + v_i S_i : recovered classes\n",
    "\n",
    "     :param X: values of the variables (ratio of suceptibles, infectious and recovered on initial populat     ion size N0, with N the sum of all the variables)\n",
    "     :param t: time (not used because autonomous ODE)\n",
    "     :param paramod: values of the model parameters by dictionary\n",
    "         paramod[\"nbc\"] : classes number\n",
    "         paramod[\"transmission\"] : transmission coefficient Beta\n",
    "         paramod[\"healing\"] : healing rate Gamma\n",
    "         paramod[\"fbirth\"] : fixed birth rate nuf\n",
    "         paramod[\"pbirth\"] : proportional birth rate nup\n",
    "         paramod[\"mortality\"] : mortality rate mu\n",
    "         paramod[\"treatment\"] : treatment rate delta\n",
    "         paramod[\"immunity_loss \"] : immunity loss rate alpha\n",
    "     :return: F : function value\n",
    "\n",
    "     Model SIR for alpha=0\n",
    "\n",
    "     Default values : nbc=1, Beta=1.66, Gamma=1/2.2 ~ 0.4545455, alpha=nup=mu=nuf=v=delta=k=0, X0=[762,1,     0], t=t=np.linspace(0,20,101)\n",
    "     Prevalence : total of all individuals affected by the deasease at a time t, P(t) = N0 Sum_{j=1}^nbc      (I_j + R_j)\n",
    "     Incidence : new infected during a time interval tau = tau [ N0 Sum_{i=1}^nbc (S_i (1/N) Sum_{j=1}^nb     c Beta_{ij} I_j) ]\n",
    "\n",
    " "
   ]
  },
  {
   "cell_type": "code",
   "execution_count": null,
   "metadata": {
    "collapsed": true
   },
   "outputs": [],
   "source": []
  }
 ],
 "metadata": {
  "celltoolbar": "Slideshow",
  "kernelspec": {
   "display_name": "Python 3",
   "language": "python",
   "name": "python3"
  },
  "language_info": {
   "codemirror_mode": {
    "name": "ipython",
    "version": 3
   },
   "file_extension": ".py",
   "mimetype": "text/x-python",
   "name": "python",
   "nbconvert_exporter": "python",
   "pygments_lexer": "ipython3",
   "version": "3.6.2"
  }
 },
 "nbformat": 4,
 "nbformat_minor": 2
}
