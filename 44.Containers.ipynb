{
 "cells": [
  {
   "cell_type": "markdown",
   "metadata": {
    "slideshow": {
     "slide_type": "skip"
    }
   },
   "source": [
    "Pierre Navaro - [Institut de Recherche Mathématique de Rennes](https://irmar.univ-rennes1.fr) - [CNRS](http://www.cnrs.fr/)"
   ]
  },
  {
   "cell_type": "markdown",
   "metadata": {
    "slideshow": {
     "slide_type": "slide"
    }
   },
   "source": [
    "# Container datatypes\n",
    "\n",
    "`collection` module implements specialized container datatypes providing alternatives to Python’s general purpose built-in containers, `dict`, `list`, `set`, and `tuple`.\n",
    "\n",
    "- `namedtuple()`\t: factory function for creating tuple subclasses with named fields\n",
    "- `deque`\t: list-like container with fast appends and pops on either end\n",
    "- `ChainMap`\t: dict-like class for creating a single view of multiple mappings\n",
    "- `Counter`\t: dict subclass for counting hashable objects\n",
    "- `defaultdict` :\tdict subclass that calls a factory function to supply missing values\n"
   ]
  },
  {
   "cell_type": "markdown",
   "metadata": {
    "slideshow": {
     "slide_type": "slide"
    }
   },
   "source": [
    "## ChainMap \n",
    "\n",
    "\n",
    "The ChainMap class manages a sequence of dictionaries, and searches through them in the order they are given to find values associated with keys. \n",
    "A ChainMap makes a good “context” container, since it can be treated as a stack for which changes happen as the stack grows, with these changes being discarded again as the stack shrinks."
   ]
  },
  {
   "cell_type": "code",
   "execution_count": 189,
   "metadata": {
    "slideshow": {
     "slide_type": "fragment"
    }
   },
   "outputs": [
    {
     "name": "stdout",
     "output_type": "stream",
     "text": [
      "r = red\n",
      "g = green\n",
      "b = blue\n"
     ]
    }
   ],
   "source": [
    "import collections\n",
    "\n",
    "rgb = {'r': 'red', 'g': 'green', 'b': 'blue', }\n",
    "cmjk = {'c': 'cyan','m': 'magenta', 'y': 'yellow', 'b': 'black'}\n",
    "\n",
    "colormode = collections.ChainMap(d1, d2)\n",
    "\n",
    "print('r = {}'.format(colormode['r']))\n",
    "print('g = {}'.format(colormode['g']))\n",
    "print('b = {}'.format(colormode['b']))"
   ]
  },
  {
   "cell_type": "code",
   "execution_count": 190,
   "metadata": {
    "slideshow": {
     "slide_type": "slide"
    }
   },
   "outputs": [
    {
     "name": "stdout",
     "output_type": "stream",
     "text": [
      "Keys = ['c', 'm', 'y', 'k', 'b', 'r', 'g']\n",
      "Values = ['cyan', 'magenta', 'yellow', 'black', 'blue', 'red', 'green']\n"
     ]
    }
   ],
   "source": [
    "print('Keys = {}'.format(list(colormode.keys())))\n",
    "print('Values = {}'.format(list(colormode.values())))"
   ]
  },
  {
   "cell_type": "code",
   "execution_count": 191,
   "metadata": {
    "slideshow": {
     "slide_type": "fragment"
    }
   },
   "outputs": [
    {
     "name": "stdout",
     "output_type": "stream",
     "text": [
      "Items:\n",
      "c = cyan\n",
      "m = magenta\n",
      "y = yellow\n",
      "k = black\n",
      "b = blue\n",
      "r = red\n",
      "g = green\n"
     ]
    }
   ],
   "source": [
    "print('Items:')\n",
    "for k, v in colormode.items():\n",
    "    print('{} = {}'.format(k, v))"
   ]
  },
  {
   "cell_type": "markdown",
   "metadata": {},
   "source": [
    "### Reordering\n",
    "\n",
    "The ChainMap stores the list of mappings over which it searches in a list in its maps attribute. This list is mutable, so it is possible to add new mappings directly or to change the order of the elements to control lookup and update behavior.\n",
    "\n"
   ]
  },
  {
   "cell_type": "code",
   "execution_count": 192,
   "metadata": {},
   "outputs": [
    {
     "name": "stdout",
     "output_type": "stream",
     "text": [
      "[{'t': 'tint', 's': 'staturation', 'l': 'lightness'}, {'r': 'red', 'g': 'green', 'b': 'blue'}, {'c': 'cyan', 'm': 'magenta', 'y': 'yellow', 'k': 'black', 'b': 'black'}, {'t': 'tint', 's': 'staturation', 'l': 'lightness'}, {'t': 'tint', 's': 'staturation', 'l': 'lightness'}, {'t': 'tint', 's': 'staturation', 'l': 'lightness'}]\n",
      "b = blue\n",
      "\n",
      "[{'t': 'tint', 's': 'staturation', 'l': 'lightness'}, {'t': 'tint', 's': 'staturation', 'l': 'lightness'}, {'t': 'tint', 's': 'staturation', 'l': 'lightness'}, {'c': 'cyan', 'm': 'magenta', 'y': 'yellow', 'k': 'black', 'b': 'black'}, {'r': 'red', 'g': 'green', 'b': 'blue'}, {'t': 'tint', 's': 'staturation', 'l': 'lightness'}]\n",
      "b = black\n"
     ]
    }
   ],
   "source": [
    "print(cm.maps)\n",
    "print('b = {}\\n'.format(cm['b']))\n",
    "\n",
    "# reverse the list\n",
    "cm.maps = list(reversed(cm.maps))\n",
    "\n",
    "print(cm.maps)\n",
    "print('b = {}'.format(cm['b']))"
   ]
  },
  {
   "cell_type": "markdown",
   "metadata": {},
   "source": [
    "### Updating Values\n",
    "\n",
    "A ChainMap does not cache the values in the child mappings. Thus, if their contents are modified, the results are reflected when the ChainMap is accessed. So we can fix the wrong key in d2."
   ]
  },
  {
   "cell_type": "code",
   "execution_count": 193,
   "metadata": {},
   "outputs": [
    {
     "data": {
      "text/plain": [
       "'black'"
      ]
     },
     "execution_count": 193,
     "metadata": {},
     "output_type": "execute_result"
    }
   ],
   "source": [
    "cmjk['k'] = cmjk.pop('b') \n",
    "cm['k']"
   ]
  },
  {
   "cell_type": "markdown",
   "metadata": {
    "slideshow": {
     "slide_type": "slide"
    }
   },
   "source": [
    "ChainMap provides a convenience method for creating a new instance with one extra mapping at the front of the maps list to make it easy to avoid modifying the existing underlying data structures.\n",
    "\n",
    "\n"
   ]
  },
  {
   "cell_type": "code",
   "execution_count": 194,
   "metadata": {},
   "outputs": [
    {
     "data": {
      "text/plain": [
       "ChainMap({'t': 'tint', 's': 'staturation', 'l': 'lightness'}, {'t': 'tint', 's': 'staturation', 'l': 'lightness'}, {'t': 'tint', 's': 'staturation', 'l': 'lightness'}, {'t': 'tint', 's': 'staturation', 'l': 'lightness'}, {'c': 'cyan', 'm': 'magenta', 'y': 'yellow', 'k': 'black', 'b': 'black'}, {'r': 'red', 'g': 'green', 'b': 'blue'}, {'t': 'tint', 's': 'staturation', 'l': 'lightness'})"
      ]
     },
     "execution_count": 194,
     "metadata": {},
     "output_type": "execute_result"
    }
   ],
   "source": [
    "tsl = dict(t='tint', s='staturation',l='lightness')\n",
    "cm = cm.new_child(tsl)\n",
    "\n",
    "cm"
   ]
  },
  {
   "cell_type": "code",
   "execution_count": 195,
   "metadata": {},
   "outputs": [
    {
     "name": "stdout",
     "output_type": "stream",
     "text": [
      "Items:\n",
      "c = cyan\n",
      "t = tint\n",
      "m = magenta\n",
      "y = yellow\n",
      "k = black\n",
      "l = lightness\n",
      "s = staturation\n",
      "b = black\n",
      "r = red\n",
      "g = green\n"
     ]
    }
   ],
   "source": [
    "print('Items:')\n",
    "for k, v in cm.items():\n",
    "    print('{} = {}'.format(k, v))"
   ]
  },
  {
   "cell_type": "markdown",
   "metadata": {
    "slideshow": {
     "slide_type": "slide"
    }
   },
   "source": [
    "## Counter\n",
    "\n",
    "A Counter is a dict subclass for counting hashable objects. It is an unordered collection where elements are stored as dictionary keys and their counts are stored as dictionary values. Counts are allowed to be any integer value including zero or negative counts. The Counter class is similar to bags or multisets in other languages.\n",
    "\n",
    "Elements are counted from an iterable or initialized from another mapping (or counter):"
   ]
  },
  {
   "cell_type": "code",
   "execution_count": 196,
   "metadata": {
    "slideshow": {
     "slide_type": "fragment"
    }
   },
   "outputs": [
    {
     "name": "stdout",
     "output_type": "stream",
     "text": [
      "0\n",
      "238\n"
     ]
    }
   ],
   "source": [
    "from collections import Counter\n",
    "\n",
    "violet = dict(r=238,g=130,b=238)\n",
    "cnt = Counter(violet)  # or Counter(r=238, g=130, b=238)\n",
    "print(cnt['c'])\n",
    "print(cnt['r'])"
   ]
  },
  {
   "cell_type": "code",
   "execution_count": 197,
   "metadata": {
    "slideshow": {
     "slide_type": "slide"
    }
   },
   "outputs": [
    {
     "name": "stdout",
     "output_type": "stream",
     "text": [
      "r r r r r r r r r r r r r r r r r r r r r r r r r r r r r r r r r r r r r r r r r r r r r r r r r r r r r r r r r r r r r r r r r r r r r r r r r r r r r r r r r r r r r r r r r r r r r r r r r r r r r r r r r r r r r r r r r r r r r r r r r r r r r r r r r r r r r r r r r r r r r r r r r r r r r r r r r r r r r r r r r r r r r r r r r r r r r r r r r r r r r r r r r r r r r r r r r r r r r r r r r r r r r r r r r r r r r r r r r r r r r r r r r r r r r r r r r r r r r r g g g g g g g g g g g g g g g g g g g g g g g g g g g g g g g g g g g g g g g g g g g g g g g g g g g g g g g g g g g g g g g g g g g g g g g g g g g g g g g g g g g g g g g g g g g g g g g g g g g g g g g g g g g g g g g g g g g g g g g g g g g g g g g g g g b b b b b b b b b b b b b b b b b b b b b b b b b b b b b b b b b b b b b b b b b b b b b b b b b b b b b b b b b b b b b b b b b b b b b b b b b b b b b b b b b b b b b b b b b b b b b b b b b b b b b b b b b b b b b b b b b b b b b b b b b b b b b b b b b b b b b b b b b b b b b b b b b b b b b b b b b b b b b b b b b b b b b b b b b b b b b b b b b b b b b b b b b b b b b b b b b b b b b b b b b b b b b b b b b b b b b b b b b b b b b b b b b b b b b b b b b b b b b b\n"
     ]
    }
   ],
   "source": [
    "print(*cnt.elements())"
   ]
  },
  {
   "cell_type": "code",
   "execution_count": 199,
   "metadata": {
    "slideshow": {
     "slide_type": "slide"
    }
   },
   "outputs": [
    {
     "data": {
      "text/plain": [
       "[('r', 238), ('b', 238)]"
      ]
     },
     "execution_count": 199,
     "metadata": {},
     "output_type": "execute_result"
    }
   ],
   "source": [
    "cnt.most_common(2)"
   ]
  },
  {
   "cell_type": "code",
   "execution_count": 200,
   "metadata": {},
   "outputs": [
    {
     "data": {
      "text/plain": [
       "dict_values([238, 130, 238])"
      ]
     },
     "execution_count": 200,
     "metadata": {},
     "output_type": "execute_result"
    }
   ],
   "source": [
    "cnt.values()"
   ]
  },
  {
   "cell_type": "code",
   "execution_count": 67,
   "metadata": {},
   "outputs": [
    {
     "data": {
      "text/plain": [
       "[{'adipisci': 2,\n",
       "  'aliquam': 2,\n",
       "  'consectetur': 4,\n",
       "  'dolore': 3,\n",
       "  'dolorem': 1,\n",
       "  'eius': 5,\n",
       "  'est': 1,\n",
       "  'etincidunt': 2,\n",
       "  'ipsum': 1,\n",
       "  'labore': 5,\n",
       "  'modi': 1,\n",
       "  'neque': 3,\n",
       "  'non': 2,\n",
       "  'numquam': 1,\n",
       "  'porro': 2,\n",
       "  'quaerat': 4,\n",
       "  'quiquia': 2,\n",
       "  'quisquam': 3,\n",
       "  'sed': 5,\n",
       "  'sit': 2,\n",
       "  'tempora': 2,\n",
       "  'ut': 1,\n",
       "  'velit': 2,\n",
       "  'voluptatem': 2},\n",
       " {'adipisci': 2,\n",
       "  'aliquam': 1,\n",
       "  'amet': 3,\n",
       "  'consectetur': 1,\n",
       "  'dolor': 1,\n",
       "  'dolore': 1,\n",
       "  'dolorem': 1,\n",
       "  'est': 2,\n",
       "  'etincidunt': 1,\n",
       "  'ipsum': 1,\n",
       "  'labore': 2,\n",
       "  'modi': 2,\n",
       "  'neque': 2,\n",
       "  'non': 4,\n",
       "  'numquam': 1,\n",
       "  'porro': 2,\n",
       "  'quaerat': 2,\n",
       "  'quiquia': 1,\n",
       "  'quisquam': 2,\n",
       "  'sed': 3,\n",
       "  'sit': 1,\n",
       "  'tempora': 7,\n",
       "  'velit': 2,\n",
       "  'voluptatem': 2},\n",
       " {'adipisci': 1,\n",
       "  'aliquam': 5,\n",
       "  'amet': 2,\n",
       "  'consectetur': 2,\n",
       "  'dolor': 3,\n",
       "  'dolore': 2,\n",
       "  'dolorem': 3,\n",
       "  'eius': 1,\n",
       "  'est': 1,\n",
       "  'etincidunt': 1,\n",
       "  'ipsum': 5,\n",
       "  'magnam': 5,\n",
       "  'modi': 2,\n",
       "  'neque': 5,\n",
       "  'non': 3,\n",
       "  'porro': 1,\n",
       "  'quaerat': 3,\n",
       "  'quiquia': 1,\n",
       "  'quisquam': 5,\n",
       "  'sit': 2,\n",
       "  'tempora': 3,\n",
       "  'ut': 1,\n",
       "  'velit': 3,\n",
       "  'voluptatem': 2}]"
      ]
     },
     "execution_count": 67,
     "metadata": {},
     "output_type": "execute_result"
    }
   ],
   "source": [
    "from lorem import paragraph\n",
    "from collections import Counter\n",
    "\n",
    "import string\n",
    "\n",
    "def words(p):\n",
    "    translator = str.maketrans('', '', string.punctuation)\n",
    "    output = []\n",
    "    p = p.translate(translator)\n",
    "    for word in p.split():\n",
    "        word = word.lower()\n",
    "        output.append((word, 1))\n",
    "    output.sort()\n",
    "    return output\n",
    "\n",
    "def reduce(words):\n",
    "    \"\"\" Read the sorted list from map and print out every word with \n",
    "    its number of occurences\"\"\"\n",
    "    d = {}\n",
    "    for w in words:\n",
    "        try:\n",
    "            d[w[0]] +=1\n",
    "        except KeyError:\n",
    "            d[w[0]] = 1\n",
    "    return d\n",
    "\n",
    "d1, d2, d3 = [reduce(words(paragraph())) for i in range(3)]\n",
    "cm = ChainMap(d1,d2,d3)\n",
    "cm.maps"
   ]
  },
  {
   "cell_type": "markdown",
   "metadata": {},
   "source": [
    "\n",
    "`defaultdict` \n",
    "Using list as the default_factory, it is easy to group a sequence of key-value pairs into a dictionary of lists:\n",
    "\n",
    "\n",
    "\n"
   ]
  },
  {
   "cell_type": "code",
   "execution_count": null,
   "metadata": {
    "collapsed": true
   },
   "outputs": [],
   "source": [
    "s = [('yellow', 1), ('blue', 2), ('yellow', 3), ('blue', 4), ('red', 1)]\n",
    "d = defaultdict(list)\n",
    "for k, v in s:\n",
    "    d[k].append(v)\n",
    "\n",
    "sorted(d.items())"
   ]
  },
  {
   "cell_type": "markdown",
   "metadata": {
    "slideshow": {
     "slide_type": "slide"
    }
   },
   "source": [
    "## Partition\n",
    "\n",
    "Before **reduce** operation, data must be aligned in a container. Create a function named `partition` that stores the key/value pairs from `words` into a [defaultdict](https://docs.python.org/3.6/library/collections.html#collections.defaultdict) from `collections` module. Ouput will be:\n",
    "```python\n",
    "[('word1', [1, 1]), ('word2', [1]), ('word3', [1, 1, 1])]\n",
    "```"
   ]
  },
  {
   "cell_type": "markdown",
   "metadata": {},
   "source": [
    "\n",
    "When each key is encountered for the first time, it is not already in the mapping; so an entry is automatically created using the default_factory function which returns an empty list. The list.append() operation then attaches the value to the new list. When keys are encountered again, the look-up proceeds normally (returning the list for that key) and the list.append() operation adds another value to the list. This technique is simpler and faster than an equivalent technique using dict.setdefault():\n",
    "\n",
    "```python\n",
    ">>> d = {}\n",
    ">>> for k, v in s:\n",
    "...     d.setdefault(k, []).append(v)\n",
    "...\n",
    ">>> sorted(d.items())\n",
    "[('blue', [2, 4]), ('red', [1]), ('yellow', [1, 3])]\n",
    "```"
   ]
  },
  {
   "cell_type": "code",
   "execution_count": 19,
   "metadata": {
    "collapsed": true
   },
   "outputs": [],
   "source": [
    "from collections import defaultdict\n",
    "\n",
    "defaultdict??"
   ]
  },
  {
   "cell_type": "code",
   "execution_count": 39,
   "metadata": {
    "collapsed": true,
    "scrolled": false
   },
   "outputs": [],
   "source": [
    "import collections\n",
    "def partition_mp(mapped_values):\n",
    "    \"\"\"\n",
    "        Organize the mapped values by their key.\n",
    "        Returns an unsorted sequence of tuples with a key and a sequence of values.\n",
    "    \"\"\"\n",
    "    partitioned_data = collections.defaultdict(list)\n",
    "    for key, value in mapped_values:\n",
    "        partitioned_data[key].append(value)\n",
    "    return partitioned_data.items()"
   ]
  },
  {
   "cell_type": "markdown",
   "metadata": {
    "slideshow": {
     "slide_type": "slide"
    }
   },
   "source": [
    "- [itertools.chain(*mapped_values)](https://docs.python.org/3.6/library/itertools.html#itertools.chain) is used for treating consecutive sequences as a single sequence. \n",
    "- [operator](https://docs.python.org/3/library/operator.html).itemgetter(1)\n",
    "Return a callable object that fetches item from its operand using the operand’s __getitem__() method. \n",
    "```python\n",
    "inventory = [('apple', 3), ('banana', 2), ('pear', 5), ('orange', 1)]\n",
    "getcount = itemgetter(1)\n",
    ">>> list(map(getcount, inventory))\n",
    "[3, 2, 5, 1]\n",
    ">>> sorted(inventory, key=getcount)\n",
    "[('orange', 1), ('banana', 2), ('apple', 3), ('pear', 5)]\n",
    "```"
   ]
  },
  {
   "cell_type": "code",
   "execution_count": 4,
   "metadata": {},
   "outputs": [
    {
     "data": {
      "text/plain": [
       "[('sit', 21),\n",
       " ('consectetur', 16),\n",
       " ('ipsum', 15),\n",
       " ('velit', 15),\n",
       " ('neque', 14),\n",
       " ('modi', 14),\n",
       " ('est', 14),\n",
       " ('quiquia', 13),\n",
       " ('quisquam', 13),\n",
       " ('dolor', 13),\n",
       " ('dolore', 12),\n",
       " ('voluptatem', 12),\n",
       " ('adipisci', 12),\n",
       " ('etincidunt', 12),\n",
       " ('aliquam', 11),\n",
       " ('amet', 11),\n",
       " ('tempora', 10),\n",
       " ('dolorem', 10),\n",
       " ('labore', 9),\n",
       " ('magnam', 9),\n",
       " ('porro', 8),\n",
       " ('non', 8),\n",
       " ('numquam', 7),\n",
       " ('quaerat', 7),\n",
       " ('eius', 7),\n",
       " ('ut', 6),\n",
       " ('sed', 2)]"
      ]
     },
     "execution_count": 4,
     "metadata": {},
     "output_type": "execute_result"
    }
   ],
   "source": [
    "from lorem import text\n",
    "from string import punctuation\n",
    "from collections import Counter\n",
    "\n",
    "translator = str.maketrans('', '', punctuation)\n",
    "p = text().lower().translate(translator).replace('\\n',' ').split(' ')\n",
    "c = Counter(p)\n",
    "del c['']\n",
    "c.most_common()"
   ]
  },
  {
   "cell_type": "code",
   "execution_count": null,
   "metadata": {
    "collapsed": true
   },
   "outputs": [],
   "source": []
  }
 ],
 "metadata": {
  "celltoolbar": "Slideshow",
  "kernelspec": {
   "display_name": "Python 3",
   "language": "python",
   "name": "python3"
  },
  "language_info": {
   "codemirror_mode": {
    "name": "ipython",
    "version": 3
   },
   "file_extension": ".py",
   "mimetype": "text/x-python",
   "name": "python",
   "nbconvert_exporter": "python",
   "pygments_lexer": "ipython3",
   "version": "3.6.2"
  }
 },
 "nbformat": 4,
 "nbformat_minor": 2
}
