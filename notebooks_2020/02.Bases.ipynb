{
 "cells": [
  {
   "cell_type": "markdown",
   "metadata": {
    "cell_id": "00000-dc9848c5-12d4-499f-8d60-dd107a74bbb3",
    "deepnote_cell_type": "markdown",
    "slideshow": {
     "slide_type": "slide"
    }
   },
   "source": [
    "# First program\n",
    "\n",
    "- Print out the string \"Hello world!\" and its type.\n",
    "- Print out the value of `a` variable set to 6625 and its type."
   ]
  },
  {
   "cell_type": "code",
   "execution_count": null,
   "metadata": {
    "cell_id": "00001-65dc93e3-c3a3-4af3-8bc1-01260f514c70",
    "deepnote_cell_type": "code",
    "execution_millis": 3,
    "execution_start": 1606383767221,
    "output_cleared": false,
    "slideshow": {
     "slide_type": "fragment"
    },
    "source_hash": "aff0c761"
   },
   "outputs": [],
   "source": [
    "s1 = \"Hello World!\"\n",
    "s2 = 'Hello World'\n",
    "s3 = \"\"\" Hello \n",
    "World\n",
    "\"\"\"\n",
    "\n",
    "print(s1)\n",
    "print(s2)\n",
    "print(s3)"
   ]
  },
  {
   "cell_type": "code",
   "execution_count": null,
   "metadata": {
    "cell_id": "00002-a1739541-f635-4ba4-8a20-029355f2cd7c",
    "deepnote_cell_type": "code",
    "execution_millis": 1,
    "execution_start": 1606383781532,
    "output_cleared": false,
    "slideshow": {
     "slide_type": "fragment"
    },
    "source_hash": "bcdeaf4"
   },
   "outputs": [],
   "source": [
    "a = 6625\n",
    "print(type(a),a)"
   ]
  },
  {
   "cell_type": "markdown",
   "metadata": {
    "cell_id": "00003-8224089a-bb0a-4697-964a-f106f3442c66",
    "deepnote_cell_type": "markdown",
    "slideshow": {
     "slide_type": "slide"
    }
   },
   "source": [
    "# Python Types\n",
    "- Most of Python types are classes, typing is dynamic.\n",
    "- ; symbol can be used to split two Python commands on the same line."
   ]
  },
  {
   "cell_type": "code",
   "execution_count": null,
   "metadata": {
    "cell_id": "00004-20c299f6-4509-43cf-a4b3-4f1118cbfbd5",
    "deepnote_cell_type": "code",
    "execution_millis": 0,
    "execution_start": 1606383802988,
    "output_cleared": false,
    "slideshow": {
     "slide_type": "fragment"
    },
    "source_hash": "e4defe0a"
   },
   "outputs": [],
   "source": [
    "s = int(\"2010\"); print(type(s))\n",
    "s = 3.14; print(type(s))\n",
    "s = True; print(type(s))\n",
    "s = None; print(type(s))\n",
    "s = 1.0j; print(type(s))\n",
    "s = type(type(s)); print(type(s))\n",
    "\n"
   ]
  },
  {
   "cell_type": "markdown",
   "metadata": {
    "cell_id": "00005-67b34628-122a-41c3-a30b-aaaf21e8366a",
    "deepnote_cell_type": "markdown",
    "slideshow": {
     "slide_type": "slide"
    }
   },
   "source": [
    "# Calculate with Python"
   ]
  },
  {
   "cell_type": "code",
   "execution_count": null,
   "metadata": {
    "cell_id": "00006-efe495ae-0888-4156-998c-590c5ce958c5",
    "deepnote_cell_type": "code",
    "execution_millis": 1,
    "execution_start": 1606383893304,
    "output_cleared": false,
    "slideshow": {
     "slide_type": "fragment"
    },
    "source_hash": "33a59610"
   },
   "outputs": [],
   "source": [
    "x = 45      # This is a comment!\n",
    "x += 2        # equivalent to x = x + 2\n",
    "print(x, x > 45)"
   ]
  },
  {
   "cell_type": "code",
   "execution_count": null,
   "metadata": {
    "cell_id": "00007-5934d79e-1394-45c8-aef7-1bd55f479fb5",
    "deepnote_cell_type": "code",
    "execution_millis": 3,
    "execution_start": 1606383894594,
    "output_cleared": false,
    "slideshow": {
     "slide_type": "fragment"
    },
    "source_hash": "f74ea004"
   },
   "outputs": [],
   "source": [
    "y = 2.5\n",
    "print(\"x+y=\",x+y, type(x+y))  # Add float to integer, result will be a float"
   ]
  },
  {
   "cell_type": "code",
   "execution_count": null,
   "metadata": {
    "cell_id": "00008-36a2a430-7fec-43f8-91e3-89323a0bb4bc",
    "deepnote_cell_type": "code",
    "execution_millis": 1,
    "execution_start": 1606383942740,
    "output_cleared": false,
    "slideshow": {
     "slide_type": "fragment"
    },
    "source_hash": "8ce967ca"
   },
   "outputs": [],
   "source": [
    "print(x*10/y)   # true division returns a float\n",
    "print(x*10//3)  # floor division discards the fractional part"
   ]
  },
  {
   "cell_type": "code",
   "execution_count": null,
   "metadata": {
    "cell_id": "00009-132a1001-4ff2-46d7-b4d3-1cea9f93f3b0",
    "deepnote_cell_type": "code",
    "slideshow": {
     "slide_type": "fragment"
    }
   },
   "outputs": [],
   "source": [
    "print( x % 8) # the % operator returns the remainder of the division"
   ]
  },
  {
   "cell_type": "markdown",
   "metadata": {
    "cell_id": "00010-d8b39833-a964-4653-9f64-1b5548d0ca56",
    "deepnote_cell_type": "markdown",
    "slideshow": {
     "slide_type": "slide"
    }
   },
   "source": [
    "# Multiple Assignment\n",
    "- Variables can simultaneously get new values. \n",
    "- Expressions on the right-hand side are all evaluated first before assignments take place. \n",
    "- The right-hand side expressions are evaluated from the left to the right.\n",
    "- Use it very carefully"
   ]
  },
  {
   "cell_type": "code",
   "execution_count": null,
   "metadata": {
    "cell_id": "00011-1e61f249-7090-4249-b8f1-15a1a18b2c67",
    "deepnote_cell_type": "code",
    "execution_millis": 1,
    "execution_start": 1606383989952,
    "output_cleared": false,
    "slideshow": {
     "slide_type": "fragment"
    },
    "source_hash": "1ee0a914"
   },
   "outputs": [],
   "source": [
    "a = b = c = 1\n",
    "print(a, b, c) "
   ]
  },
  {
   "cell_type": "code",
   "execution_count": null,
   "metadata": {
    "cell_id": "00012-6bd99dad-bc84-445a-be35-6916e8bbfd51",
    "deepnote_cell_type": "code",
    "execution_millis": 3,
    "execution_start": 1606383997389,
    "output_cleared": false,
    "slideshow": {
     "slide_type": "fragment"
    },
    "source_hash": "8385f548"
   },
   "outputs": [],
   "source": [
    "a, b, c = 1, 2, 3\n",
    "print (a, b, c)"
   ]
  },
  {
   "cell_type": "code",
   "execution_count": null,
   "metadata": {
    "cell_id": "00013-9e262c13-bc22-4442-b01c-5b23ee767f11",
    "deepnote_cell_type": "code",
    "execution_millis": 4,
    "execution_start": 1606384008876,
    "output_cleared": false,
    "slideshow": {
     "slide_type": "fragment"
    },
    "source_hash": "58d3b588"
   },
   "outputs": [],
   "source": [
    "a, c = c, a     # Nice way to permute values\n",
    "print (a, b, c) "
   ]
  },
  {
   "cell_type": "code",
   "execution_count": null,
   "metadata": {
    "cell_id": "00014-ae13f6ba-d3c9-40da-97c3-1c8bd0503417",
    "deepnote_cell_type": "code",
    "execution_millis": 1,
    "execution_start": 1606384035020,
    "output_cleared": false,
    "slideshow": {
     "slide_type": "fragment"
    },
    "source_hash": "480a625b"
   },
   "outputs": [],
   "source": [
    "a < b < c, a > b > c"
   ]
  },
  {
   "cell_type": "markdown",
   "metadata": {
    "cell_id": "00015-509fa668-46c3-4d59-94c5-61833c8d4f2b",
    "deepnote_cell_type": "markdown"
   },
   "source": [
    "# Import a package"
   ]
  },
  {
   "cell_type": "code",
   "execution_count": null,
   "metadata": {},
   "outputs": [],
   "source": [
    "%pip install lorem"
   ]
  },
  {
   "cell_type": "code",
   "execution_count": null,
   "metadata": {
    "cell_id": "00016-5770d671-874f-41a5-8769-0cc95ff159e4",
    "deepnote_cell_type": "code",
    "execution_millis": 5,
    "execution_start": 1606384210758,
    "output_cleared": false,
    "source_hash": "f75a1440"
   },
   "outputs": [],
   "source": [
    "import lorem\n",
    "lorem.text()"
   ]
  },
  {
   "cell_type": "code",
   "execution_count": null,
   "metadata": {
    "cell_id": "00017-494c9129-7042-4371-b5af-2b90ce9eec0f",
    "deepnote_cell_type": "code"
   },
   "outputs": [],
   "source": [
    "from lorem import sentence\n",
    "sentence()"
   ]
  },
  {
   "cell_type": "markdown",
   "metadata": {
    "cell_id": "00018-a608e984-1a2e-44bf-a613-de1b5aceb99e",
    "deepnote_cell_type": "markdown"
   },
   "source": [
    "# Manipulate strings"
   ]
  },
  {
   "cell_type": "code",
   "execution_count": null,
   "metadata": {
    "cell_id": "00019-7a110670-edae-4d7a-b75c-472123ba62b0",
    "deepnote_cell_type": "code",
    "execution_millis": 1,
    "execution_start": 1606384232305,
    "output_cleared": false,
    "source_hash": "53d773e2"
   },
   "outputs": [],
   "source": [
    "s = lorem.sentence()\n",
    "s"
   ]
  },
  {
   "cell_type": "code",
   "execution_count": null,
   "metadata": {
    "cell_id": "00020-a6b3fa50-c46a-4bbe-b4a0-4a03944de92f",
    "deepnote_cell_type": "code",
    "execution_millis": 0,
    "execution_start": 1606384285612,
    "output_cleared": false,
    "source_hash": "c61f91e0"
   },
   "outputs": [],
   "source": [
    "s.lower()"
   ]
  },
  {
   "cell_type": "code",
   "execution_count": null,
   "metadata": {
    "cell_id": "00021-c50df5d0-a3c1-430a-9b45-07ae83692c9a",
    "deepnote_cell_type": "code",
    "execution_millis": 2,
    "execution_start": 1606384305558,
    "output_cleared": false,
    "source_hash": "9197531b"
   },
   "outputs": [],
   "source": [
    "s.replace(\".\",\"\")"
   ]
  },
  {
   "cell_type": "code",
   "execution_count": null,
   "metadata": {
    "cell_id": "00022-71ad0e84-e8d3-4abb-b50c-2b45317fdb8c",
    "deepnote_cell_type": "code",
    "execution_millis": 1,
    "execution_start": 1606384311124,
    "output_cleared": false,
    "source_hash": "53911d47"
   },
   "outputs": [],
   "source": [
    "s.count(\"e\")"
   ]
  },
  {
   "cell_type": "code",
   "execution_count": null,
   "metadata": {
    "cell_id": "00023-8feef38d-6a56-4333-8d64-7a885ae9705e",
    "deepnote_cell_type": "code",
    "execution_millis": 2,
    "execution_start": 1606384317063,
    "output_cleared": false,
    "source_hash": "e3d75ffb"
   },
   "outputs": [],
   "source": [
    "s.index(\"a\")"
   ]
  },
  {
   "cell_type": "code",
   "execution_count": null,
   "metadata": {
    "cell_id": "00024-673517eb-6197-4dd7-b0ae-e10aa3d357cb",
    "deepnote_cell_type": "code",
    "execution_millis": 4,
    "execution_start": 1606384838821,
    "output_cleared": false,
    "source_hash": "caf40223"
   },
   "outputs": [],
   "source": [
    "first = s.index(\" \") # position du premier espace\n",
    "last = s[::-1].index(\" \") # position du dernier espace\n",
    "\n",
    "print(s)\n",
    "print( s[:first], s[-last:])"
   ]
  },
  {
   "cell_type": "markdown",
   "metadata": {
    "cell_id": "00025-8f49724f-c772-40ac-a3b3-3dbdf88ec985",
    "deepnote_cell_type": "markdown"
   },
   "source": [
    "### Exercise\n",
    "\n",
    "- Use `index` method to get the first and the last word of the sentence."
   ]
  },
  {
   "cell_type": "markdown",
   "metadata": {
    "cell_id": "00026-63a9b4fc-1dfd-424b-84ee-0635c8461bf5",
    "deepnote_cell_type": "markdown"
   },
   "source": [
    "### String concatenation and repeat"
   ]
  },
  {
   "cell_type": "code",
   "execution_count": null,
   "metadata": {
    "cell_id": "00028-5af5c087-49bf-4c82-9093-cdef55b4c76e",
    "deepnote_cell_type": "code",
    "execution_millis": 3,
    "execution_start": 1606384914790,
    "output_cleared": false,
    "source_hash": "bd59617a",
    "tags": []
   },
   "outputs": [],
   "source": [
    "s + s"
   ]
  },
  {
   "cell_type": "code",
   "execution_count": null,
   "metadata": {
    "cell_id": "00029-bf8486c3-fdc0-45ac-aa52-6d0ec49c61ca",
    "deepnote_cell_type": "code",
    "execution_millis": 0,
    "execution_start": 1606384977116,
    "output_cleared": false,
    "source_hash": "ce1d73c7",
    "tags": []
   },
   "outputs": [],
   "source": [
    "\"abc\" * \"efd\""
   ]
  },
  {
   "cell_type": "code",
   "execution_count": null,
   "metadata": {
    "cell_id": "00027-24256c7e-f150-4e12-9476-e164bb3373bd",
    "deepnote_cell_type": "code"
   },
   "outputs": [],
   "source": [
    "2 * s == s + s"
   ]
  },
  {
   "cell_type": "markdown",
   "metadata": {
    "cell_id": "00028-17cdf19d-e12a-459d-92ca-d3e4b4dd188b",
    "deepnote_cell_type": "markdown"
   },
   "source": [
    "# Write to file"
   ]
  },
  {
   "cell_type": "code",
   "execution_count": null,
   "metadata": {
    "cell_id": "00029-faee56c7-7ba9-4931-9970-4f0874d8d9f0",
    "deepnote_cell_type": "code",
    "execution_millis": 65,
    "execution_start": 1606385307340,
    "output_cleared": false,
    "source_hash": "b6c23149"
   },
   "outputs": [],
   "source": [
    "with open(\"sample.txt\", \"w\") as f:\n",
    "    f.write(lorem.sentence() + \"\\n\")\n",
    "    f.write(lorem.sentence())"
   ]
  },
  {
   "cell_type": "code",
   "execution_count": null,
   "metadata": {
    "cell_id": "00030-7d3a4a52-9150-4277-a7ea-7f7e07ec2711",
    "deepnote_cell_type": "code",
    "execution_millis": 625,
    "execution_start": 1606385308401,
    "output_cleared": false,
    "source_hash": "80ccc8a"
   },
   "outputs": [],
   "source": [
    "%cat sample.txt"
   ]
  },
  {
   "cell_type": "markdown",
   "metadata": {
    "cell_id": "00031-2e8096e4-8ba6-4bfa-9a8e-2b3bb9cc4033",
    "deepnote_cell_type": "markdown"
   },
   "source": [
    "# Open and read from file"
   ]
  },
  {
   "cell_type": "code",
   "execution_count": null,
   "metadata": {
    "cell_id": "00032-d0feec0d-2b09-42c0-a559-07535e14078d",
    "deepnote_cell_type": "code",
    "execution_millis": 0,
    "execution_start": 1606385412357,
    "output_cleared": false,
    "source_hash": "1d71a570"
   },
   "outputs": [],
   "source": [
    "with open(\"sample.txt\") as f:\n",
    "    data = f.read()\n",
    "\n",
    "print(data)"
   ]
  },
  {
   "cell_type": "markdown",
   "metadata": {
    "cell_id": "00033-86d4242f-fd88-4307-b76c-c8a2744c0045",
    "deepnote_cell_type": "markdown"
   },
   "source": [
    "# Python Lists and tuples\n",
    "- List is the most versatile Python data type to group values with others\n",
    "- Can be written as a list of comma-separated values (items) between square brackets.\n",
    "- Tuples are written between parenthesis. They are read-only lists.\n",
    "- Lists can contain items of different types.\n",
    "- Like strings, lists can be indexed and sliced.\n",
    "- Lists also support operations like concatenation.\n"
   ]
  },
  {
   "cell_type": "markdown",
   "metadata": {
    "cell_id": "00034-583d390b-58c4-43c4-9398-dbca67080197",
    "deepnote_cell_type": "markdown"
   },
   "source": [
    "### Create list of words from a text"
   ]
  },
  {
   "cell_type": "code",
   "execution_count": null,
   "metadata": {
    "cell_id": "00035-0ca3da3b-54ee-4f4e-80af-2ad43451a3bc",
    "deepnote_cell_type": "code",
    "execution_millis": 3,
    "execution_start": 1606385481646,
    "output_cleared": false,
    "source_hash": "1c267ddd"
   },
   "outputs": [],
   "source": [
    "words = data.split()\n",
    "words"
   ]
  },
  {
   "cell_type": "code",
   "execution_count": null,
   "metadata": {
    "cell_id": "00036-4e5d2f30-eedb-4407-b3ee-18ffe88fafb8",
    "deepnote_cell_type": "code",
    "execution_millis": 0,
    "execution_start": 1606385653062,
    "output_cleared": false,
    "source_hash": "668f2d84"
   },
   "outputs": [],
   "source": [
    "words.append(\" coucou \")\n",
    "words2 = words.copy()\n",
    "words2.pop()"
   ]
  },
  {
   "cell_type": "code",
   "execution_count": null,
   "metadata": {
    "cell_id": "00040-c8d681c5-f822-4a53-83ba-a7447921ed51",
    "deepnote_cell_type": "code",
    "execution_millis": 3,
    "execution_start": 1606385752097,
    "output_cleared": false,
    "source_hash": "7c423e9d",
    "tags": []
   },
   "outputs": [],
   "source": [
    "\n",
    "words2.sort()\n",
    "words2"
   ]
  },
  {
   "cell_type": "markdown",
   "metadata": {
    "cell_id": "00037-18ea92c7-2565-4cc1-8b7e-b3f577cc450e",
    "deepnote_cell_type": "markdown"
   },
   "source": [
    "Methods available for a python list\n",
    "\n",
    "- `append` \n",
    "- `clear` \n",
    "- `copy` \n",
    "- `count` \n",
    "- `extend`\n",
    "- `index`\n",
    "- `insert`\n",
    "- `pop`\n",
    "- `remove`\n",
    "- `reverse`\n",
    "- `sort`\n",
    "\n",
    "To get the doc just type words.`<method>` (shift+TAB)"
   ]
  },
  {
   "cell_type": "markdown",
   "metadata": {
    "cell_id": "00038-1765959e-20a3-4571-9ea1-a6623f8034d5",
    "deepnote_cell_type": "markdown"
   },
   "source": [
    "# Loops and control flows\n",
    "\n",
    "## While"
   ]
  },
  {
   "cell_type": "code",
   "execution_count": null,
   "metadata": {
    "cell_id": "00039-92e60b69-b0ef-440d-a9ce-09ef3a1ededc",
    "deepnote_cell_type": "code",
    "execution_millis": 0,
    "execution_start": 1606385830268,
    "output_cleared": false,
    "source_hash": "2543749a"
   },
   "outputs": [],
   "source": [
    "a, b = 0, 1\n",
    "while b < 1000:\n",
    "    a, b = b, a+b # fibonacci numbers\n",
    "    print(round(b/a,3), end=\",\")"
   ]
  },
  {
   "cell_type": "markdown",
   "metadata": {
    "cell_id": "00040-294ec73c-2ea6-4131-b070-ac1db7565f64",
    "deepnote_cell_type": "markdown"
   },
   "source": [
    "## For"
   ]
  },
  {
   "cell_type": "code",
   "execution_count": null,
   "metadata": {
    "cell_id": "00041-ad82a26a-671b-44fc-8ca7-c726a08fd57f",
    "deepnote_cell_type": "code",
    "execution_millis": 13,
    "execution_start": 1606385895323,
    "output_cleared": false,
    "source_hash": "2031d674"
   },
   "outputs": [],
   "source": [
    "words = lorem.sentence().split()\n",
    "words"
   ]
  },
  {
   "cell_type": "code",
   "execution_count": null,
   "metadata": {
    "cell_id": "00042-a9a0531d-b1c4-424c-9f23-94544f4c3cc9",
    "deepnote_cell_type": "code",
    "execution_millis": 1,
    "execution_start": 1606386011692,
    "output_cleared": false,
    "source_hash": "368b8608"
   },
   "outputs": [],
   "source": [
    "for word in words:\n",
    "    print(f\"{word} \\t\\t {len(word)}\")"
   ]
  },
  {
   "cell_type": "code",
   "execution_count": null,
   "metadata": {
    "cell_id": "00047-f7d00515-6577-49ff-bc89-19376db5c57f",
    "deepnote_cell_type": "code",
    "execution_millis": 8,
    "execution_start": 1606386076741,
    "output_cleared": false,
    "source_hash": "9beb5cac",
    "tags": []
   },
   "outputs": [],
   "source": [
    "for i in range(len(words)):\n",
    "    print(f\"{words[i]} \\t\\t {len(words[i])}\")"
   ]
  },
  {
   "cell_type": "code",
   "execution_count": null,
   "metadata": {
    "cell_id": "00043-569f885e-662f-4edd-b132-55958ed1444e",
    "deepnote_cell_type": "code",
    "execution_millis": 1,
    "execution_start": 1606386108181,
    "output_cleared": false,
    "source_hash": "c2eb4ead"
   },
   "outputs": [],
   "source": [
    "for i in range(len(words)):\n",
    "    print(f\"{words[i]} \\t {len(words[i])}\")"
   ]
  },
  {
   "cell_type": "code",
   "execution_count": null,
   "metadata": {
    "cell_id": "00044-2822df38-aeae-4f0d-ab39-af3bcb34a182",
    "deepnote_cell_type": "code",
    "execution_millis": 1,
    "execution_start": 1606386171576,
    "output_cleared": false,
    "source_hash": "7e1d6c6e"
   },
   "outputs": [],
   "source": [
    "for i,word in enumerate(words):\n",
    "    print(f\"{i} \\t {word} \\t {len(word)}\")"
   ]
  },
  {
   "cell_type": "code",
   "execution_count": null,
   "metadata": {
    "cell_id": "00045-98ffd6e8-238c-4718-b57c-e1c5184f5806",
    "deepnote_cell_type": "code",
    "execution_millis": 7,
    "execution_start": 1606386188492,
    "output_cleared": false,
    "source_hash": "837cb3f4"
   },
   "outputs": [],
   "source": [
    "for i,w in enumerate(words[::-1]):\n",
    "    print(f\"{i} \\t {w} \\t {len(w)}\")"
   ]
  },
  {
   "cell_type": "code",
   "execution_count": null,
   "metadata": {
    "cell_id": "00046-646dc2ef-875b-42fe-b155-93305e8b3b8a",
    "deepnote_cell_type": "code",
    "execution_millis": 1,
    "execution_start": 1606386237384,
    "output_cleared": false,
    "source_hash": "5da8db85"
   },
   "outputs": [],
   "source": [
    "for i,w in enumerate(sorted(words)):\n",
    "    print(f\"{i} \\t {w} \\t {len(w)}\")"
   ]
  },
  {
   "cell_type": "markdown",
   "metadata": {
    "cell_id": "00047-d9543a81-2221-41d8-a6a5-1328893a2eb7",
    "deepnote_cell_type": "markdown"
   },
   "source": [
    "# If else"
   ]
  },
  {
   "cell_type": "code",
   "execution_count": null,
   "metadata": {
    "cell_id": "00048-ee7f584f-d41a-48be-a5bf-7014842b5cd0",
    "deepnote_cell_type": "code",
    "execution_millis": 1,
    "execution_start": 1606386316948,
    "output_cleared": false,
    "source_hash": "fd494d77"
   },
   "outputs": [],
   "source": [
    "for i in range(1,11):\n",
    "    print(i, end=\" is \")\n",
    "    if i % 2 == 0:\n",
    "        print(\"even\")\n",
    "    else:\n",
    "        print(\"odd\")"
   ]
  },
  {
   "cell_type": "markdown",
   "metadata": {
    "cell_id": "00049-85e3b09a-2c89-47f4-ab7f-2ddcc8e598a2",
    "deepnote_cell_type": "markdown"
   },
   "source": [
    "### Exercise [Collatz conjecture](https://en.wikipedia.org/wiki/Collatz_conjecture)\n",
    "\n",
    "Consider the following operation on an arbitrary positive integer:\n",
    " - If the number is even, divide it by two.\n",
    " - If the number is odd, triple it and add one.\n",
    "\n",
    "The conjecture is that no matter what initial value of this integer, the sequence will always reach 1.\n",
    " - Test the Collatz conjecture for n = 100000.\n",
    " - How many steps do you need to reach 1 ?\n",
    " "
   ]
  },
  {
   "cell_type": "code",
   "execution_count": null,
   "metadata": {
    "cell_id": "00055-ec6beae7-d70a-4e0c-b936-7d44c83eb6bb",
    "deepnote_cell_type": "code",
    "execution_millis": 3,
    "execution_start": 1606386948271,
    "output_cleared": false,
    "source_hash": "42da5602",
    "tags": []
   },
   "outputs": [],
   "source": [
    "n = 10000\n",
    "k = 0\n",
    "\n",
    "while n > 1:\n",
    "    k += 1\n",
    "    if not n & 1:\n",
    "        n //=  2\n",
    "    else:\n",
    "        n = 3 * n + 1\n",
    "print(k)"
   ]
  },
  {
   "cell_type": "markdown",
   "metadata": {
    "cell_id": "00050-93d26a01-2c23-4518-98ac-58cff41377a1",
    "deepnote_cell_type": "markdown"
   },
   "source": [
    "# `break` Statement."
   ]
  },
  {
   "cell_type": "code",
   "execution_count": null,
   "metadata": {
    "cell_id": "00051-00e78bc0-4679-43a3-b2c3-e6caec6fb8c5",
    "deepnote_cell_type": "code",
    "execution_millis": 1,
    "execution_start": 1606387048456,
    "output_cleared": false,
    "source_hash": "552a6f22"
   },
   "outputs": [],
   "source": [
    "for n in range(2, 10):     # n = 2,3,4,5,6,7,8,9\n",
    "    for x in range(2, n):  # x = 2, ..., n-1\n",
    "        if n % x == 0:     # Return the division remain (mod)\n",
    "            print(n, \" = \", x, \"*\", n//x)\n",
    "            break\n",
    "        else:\n",
    "            print(\"%d is a prime number\" % n)\n",
    "            break"
   ]
  },
  {
   "cell_type": "markdown",
   "metadata": {
    "cell_id": "00052-79414f34-8c63-4a9b-b557-92f721d6e552",
    "deepnote_cell_type": "markdown"
   },
   "source": [
    "# Defining Function"
   ]
  },
  {
   "cell_type": "markdown",
   "metadata": {
    "cell_id": "00053-12a7c075-6305-495b-826a-f00a8a50e4c0",
    "deepnote_cell_type": "markdown"
   },
   "source": [
    "- Body of the function start must be indented\n",
    "- Functions without a return statement do return a value called `None`."
   ]
  },
  {
   "cell_type": "code",
   "execution_count": null,
   "metadata": {
    "cell_id": "00054-64a81712-7e52-4a10-be18-e457d837da02",
    "deepnote_cell_type": "code"
   },
   "outputs": [],
   "source": [
    "def is_prime(n):\n",
    "    \"\"\"\n",
    "    Return True if the input int is a prime number\n",
    "    \"\"\"\n",
    "    for x in range(2, n): \n",
    "        if n % x == 0:\n",
    "            return False\n",
    "        \n",
    "    return True\n",
    "\n",
    "for n in range(1,10):\n",
    "    print(n, is_prime(n))"
   ]
  },
  {
   "cell_type": "code",
   "execution_count": null,
   "metadata": {
    "cell_id": "00055-d12295cf-bbfc-4e82-a1b9-ccbdfa537415",
    "deepnote_cell_type": "code"
   },
   "outputs": [],
   "source": [
    "help(is_prime)"
   ]
  },
  {
   "cell_type": "markdown",
   "metadata": {
    "cell_id": "00056-1710a501-03c0-41f7-979d-815eab2f5702",
    "deepnote_cell_type": "markdown"
   },
   "source": [
    "# Default Argument Values"
   ]
  },
  {
   "cell_type": "code",
   "execution_count": null,
   "metadata": {
    "cell_id": "00057-fb73c520-990e-4f9a-b061-7350d99b8290",
    "deepnote_cell_type": "code",
    "lines_to_next_cell": 1
   },
   "outputs": [],
   "source": [
    "def f(a,b=5):\n",
    "    return a+b"
   ]
  },
  {
   "cell_type": "code",
   "execution_count": null,
   "metadata": {
    "cell_id": "00058-e5b079eb-3805-4552-b2fd-a944aaa85b3f",
    "deepnote_cell_type": "code"
   },
   "outputs": [],
   "source": [
    "print(f(1))\n",
    "print(f(b=\"a\",a=\"bc\"))"
   ]
  },
  {
   "cell_type": "markdown",
   "metadata": {
    "cell_id": "00059-e890bad3-7984-46de-a4b5-88ee6433e00d",
    "deepnote_cell_type": "markdown"
   },
   "source": [
    "**Important warning**: The default value is evaluated only once. "
   ]
  },
  {
   "cell_type": "code",
   "execution_count": null,
   "metadata": {
    "cell_id": "00060-a0ee20fe-4a9d-464a-8642-2f7b453b840f",
    "deepnote_cell_type": "code",
    "lines_to_next_cell": 1
   },
   "outputs": [],
   "source": [
    "def f(a, L=[]):\n",
    "    L.append(a)\n",
    "    return L"
   ]
  },
  {
   "cell_type": "code",
   "execution_count": null,
   "metadata": {
    "cell_id": "00061-63ee82f4-68af-43d3-9e32-45e21b611c6a",
    "deepnote_cell_type": "code"
   },
   "outputs": [],
   "source": [
    "print(f(1))"
   ]
  },
  {
   "cell_type": "code",
   "execution_count": null,
   "metadata": {
    "cell_id": "00062-eec4294c-3ee5-4886-9253-8da845513b69",
    "deepnote_cell_type": "code"
   },
   "outputs": [],
   "source": [
    "print(f(2)) # L = [1]"
   ]
  },
  {
   "cell_type": "code",
   "execution_count": null,
   "metadata": {
    "cell_id": "00063-b1cc2a81-2bb3-4ca7-9e6c-b1a09133709d",
    "deepnote_cell_type": "code"
   },
   "outputs": [],
   "source": [
    "print(f(3)) # L = [1,2]"
   ]
  },
  {
   "cell_type": "markdown",
   "metadata": {
    "cell_id": "00064-b19ae1fd-46d7-4d0f-9fd7-64d27931d7b8",
    "deepnote_cell_type": "markdown"
   },
   "source": [
    "# Arbitrary Argument Lists\n",
    "\n",
    "Arguments can be wrapped up in a tuple or a list with form *args"
   ]
  },
  {
   "cell_type": "code",
   "execution_count": null,
   "metadata": {
    "cell_id": "00065-7088ecb9-bcf2-4dcd-a4b9-ffe19cbe59b9",
    "deepnote_cell_type": "code",
    "lines_to_next_cell": 1
   },
   "outputs": [],
   "source": [
    "def f(*args, sep=\" \"):\n",
    "    print(args)\n",
    "    return sep.join(args)"
   ]
  },
  {
   "cell_type": "code",
   "execution_count": null,
   "metadata": {
    "cell_id": "00066-54cdcc2b-b620-43cd-a4a3-6d458b8fcb33",
    "deepnote_cell_type": "code"
   },
   "outputs": [],
   "source": [
    "print(f(\"big\",\"data\"))"
   ]
  },
  {
   "cell_type": "markdown",
   "metadata": {
    "cell_id": "00067-04f21e2f-eeea-4705-99d1-2ae38f885a33",
    "deepnote_cell_type": "markdown"
   },
   "source": [
    "- Normally, these variadic arguments will be last in the list of formal parameters. \n",
    "- Any formal parameters which occur after the *args parameter are ‘keyword-only’ arguments."
   ]
  },
  {
   "cell_type": "markdown",
   "metadata": {
    "cell_id": "00068-39e04f2e-cc79-4cac-84b5-12712c9b3b0f",
    "deepnote_cell_type": "markdown"
   },
   "source": [
    "# Keyword Arguments Dictionary\n",
    "\n",
    "A final formal parameter of the form **name receives a dictionary."
   ]
  },
  {
   "cell_type": "code",
   "execution_count": null,
   "metadata": {
    "cell_id": "00069-976d0142-a72b-45e4-bcd8-955f4cf5f471",
    "deepnote_cell_type": "code"
   },
   "outputs": [],
   "source": [
    "def person(**kwargs):\n",
    "    for key, value in kwargs.items():\n",
    "        print(key, \":\", value)\n",
    "        \n",
    "person( firstname=\"Pierre\", lastname=\"Navaro\", office=112)"
   ]
  },
  {
   "cell_type": "markdown",
   "metadata": {
    "cell_id": "00070-585403aa-dae5-4049-adaf-9dcb3d239993",
    "deepnote_cell_type": "markdown"
   },
   "source": [
    "\\*args must occur before \\*\\*kwargs\n",
    "\n",
    "kwargs is a dictionary, we can do the same operation with"
   ]
  },
  {
   "cell_type": "markdown",
   "metadata": {},
   "source": [
    "What is a dictionnary ?"
   ]
  },
  {
   "cell_type": "code",
   "execution_count": null,
   "metadata": {
    "cell_id": "00071-73f68720-be0d-4108-9f5c-af38f177bcf7",
    "deepnote_cell_type": "code"
   },
   "outputs": [],
   "source": [
    "me = dict(firstname=\"Pierre\", lastname=\"Navaro\", office=112)\n",
    "me"
   ]
  },
  {
   "cell_type": "markdown",
   "metadata": {},
   "source": [
    "Different ways to initialize a dictionnary:"
   ]
  },
  {
   "cell_type": "code",
   "execution_count": null,
   "metadata": {},
   "outputs": [],
   "source": [
    "...\n",
    "\n"
   ]
  },
  {
   "cell_type": "code",
   "execution_count": null,
   "metadata": {
    "cell_id": "00072-cc40030b-9356-42f1-8c42-0f2ecd52c1d6",
    "deepnote_cell_type": "code"
   },
   "outputs": [],
   "source": [
    "type(me)"
   ]
  },
  {
   "cell_type": "code",
   "execution_count": null,
   "metadata": {
    "cell_id": "00073-ba0d50fa-00ed-44d9-a325-b957aeaf79ea",
    "deepnote_cell_type": "code"
   },
   "outputs": [],
   "source": [
    "me.keys()"
   ]
  },
  {
   "cell_type": "code",
   "execution_count": null,
   "metadata": {
    "cell_id": "00074-c40808fc-fa80-4b84-aa4a-36408fa6fd2b",
    "deepnote_cell_type": "code"
   },
   "outputs": [],
   "source": [
    "me.items()"
   ]
  },
  {
   "cell_type": "code",
   "execution_count": null,
   "metadata": {
    "cell_id": "00075-e732f9d1-42f3-4392-b54f-f2b9c3032837",
    "deepnote_cell_type": "code"
   },
   "outputs": [],
   "source": [
    "me[\"firstname\"]"
   ]
  },
  {
   "cell_type": "code",
   "execution_count": null,
   "metadata": {
    "cell_id": "00076-d92bb5aa-7948-4f39-8a9d-9650c3dce169",
    "deepnote_cell_type": "code"
   },
   "outputs": [],
   "source": [
    "me[\"position\"]=\"Engineer\""
   ]
  },
  {
   "cell_type": "code",
   "execution_count": null,
   "metadata": {
    "cell_id": "00077-2b5ae60c-4543-4f59-bf99-082696710cb5",
    "deepnote_cell_type": "code"
   },
   "outputs": [],
   "source": [
    "me"
   ]
  },
  {
   "cell_type": "code",
   "execution_count": null,
   "metadata": {},
   "outputs": [],
   "source": []
  },
  {
   "cell_type": "markdown",
   "metadata": {
    "cell_id": "00078-7e5d71cf-f8ec-41b8-8e1d-31b190589a36",
    "deepnote_cell_type": "markdown"
   },
   "source": [
    "# Lambda Expressions\n",
    "\n",
    "Lambda functions can be used wherever function objects are required."
   ]
  },
  {
   "cell_type": "code",
   "execution_count": null,
   "metadata": {
    "cell_id": "00079-7804a316-0a9a-4a14-993e-b72e61782d34",
    "deepnote_cell_type": "code"
   },
   "outputs": [],
   "source": [
    "f = lambda x : 2 * x + 2\n",
    "f(3)"
   ]
  },
  {
   "cell_type": "markdown",
   "metadata": {
    "cell_id": "00080-27dd79fe-d597-4cf3-9dbe-9ef6f96007dd",
    "deepnote_cell_type": "markdown"
   },
   "source": [
    "lambda functions can reference variables from the containing scope:\n",
    "\n",
    "Create the polynomial function p(x) = ax^2 +bx + c"
   ]
  },
  {
   "cell_type": "code",
   "execution_count": null,
   "metadata": {
    "cell_id": "00081-23289f25-8e97-4e99-8568-72c7c5405de4",
    "deepnote_cell_type": "code",
    "lines_to_next_cell": 1
   },
   "outputs": [],
   "source": [
    "def make_polynom(a, b, c):\n",
    "    return lambda x: a * x**2 + b * x + c "
   ]
  },
  {
   "cell_type": "code",
   "execution_count": null,
   "metadata": {
    "cell_id": "00082-3d90e7c3-2358-4cca-821c-b7d2afe31fd3",
    "deepnote_cell_type": "code"
   },
   "outputs": [],
   "source": [
    "p = make_polynom(a=1, b=2, c=3)\n",
    "p(0),p(1)"
   ]
  },
  {
   "cell_type": "markdown",
   "metadata": {
    "cell_id": "00083-cdcfa3aa-489a-469d-9b0b-824d3a49785e",
    "deepnote_cell_type": "markdown"
   },
   "source": [
    "# Unpacking Argument Lists\n",
    "Arguments are already in a list or tuple. They can be unpacked for a function call. \n",
    "For instance, the built-in range() function is called with the *-operator to unpack the arguments out of a list:"
   ]
  },
  {
   "cell_type": "code",
   "execution_count": null,
   "metadata": {
    "cell_id": "00084-0e5dee8c-b4c0-4482-b151-87e9cec4829e",
    "deepnote_cell_type": "code"
   },
   "outputs": [],
   "source": [
    "coeffs_list = [1, 2, 3]"
   ]
  },
  {
   "cell_type": "code",
   "execution_count": null,
   "metadata": {
    "cell_id": "00085-86508b21-54c1-4040-9c26-e1c766e57e46",
    "deepnote_cell_type": "code"
   },
   "outputs": [],
   "source": [
    "p = make_polynom(*coeffs_list)\n",
    "p(0),p(1)"
   ]
  },
  {
   "cell_type": "code",
   "execution_count": null,
   "metadata": {
    "cell_id": "00086-d57ab90d-d2c2-47cb-a087-63b5cf8b4e4d",
    "deepnote_cell_type": "code"
   },
   "outputs": [],
   "source": [
    "coeffs_dict = dict(a=1, b=2, c=3)\n",
    "coeffs_dict"
   ]
  },
  {
   "cell_type": "code",
   "execution_count": null,
   "metadata": {
    "cell_id": "00087-241d23c5-5adc-4008-9a3b-7afff544761e",
    "deepnote_cell_type": "code"
   },
   "outputs": [],
   "source": [
    "p = make_polynom(**coeffs_dict)\n",
    "p(0),p(1)"
   ]
  },
  {
   "cell_type": "markdown",
   "metadata": {
    "cell_id": "00088-15245039-d411-410b-9436-0659d2b53f4e",
    "deepnote_cell_type": "markdown"
   },
   "source": [
    "# Functions Scope\n",
    "\n",
    "- All variable assignments in a function store the value in the local symbol table.\n",
    "- Global variables cannot be directly assigned a value within a function (unless named in a global statement).\n",
    "- The value of the function can be assigned to another name which can then also be used as a function."
   ]
  },
  {
   "cell_type": "code",
   "execution_count": null,
   "metadata": {
    "cell_id": "00089-3365c2ea-3a21-404f-99b5-71fc2e38afae",
    "deepnote_cell_type": "code",
    "lines_to_next_cell": 1
   },
   "outputs": [],
   "source": [
    "pi = 1.\n",
    "def deg2rad(theta):\n",
    "    pi = 3.14\n",
    "    return theta * pi / 180."
   ]
  },
  {
   "cell_type": "code",
   "execution_count": null,
   "metadata": {
    "cell_id": "00090-c32f1e98-66fa-4211-8f55-1fe0779e341e",
    "deepnote_cell_type": "code"
   },
   "outputs": [],
   "source": [
    "print(deg2rad(45))\n",
    "print(pi)"
   ]
  },
  {
   "cell_type": "code",
   "execution_count": null,
   "metadata": {
    "cell_id": "00091-afdc6f37-3b64-4026-a3db-451fe3826908",
    "deepnote_cell_type": "code",
    "lines_to_next_cell": 1
   },
   "outputs": [],
   "source": [
    "def rad2deg(theta):\n",
    "    return theta*180./pi"
   ]
  },
  {
   "cell_type": "code",
   "execution_count": null,
   "metadata": {
    "cell_id": "00092-294350b7-7510-4a28-ba17-c0f778741b79",
    "deepnote_cell_type": "code"
   },
   "outputs": [],
   "source": [
    "print(rad2deg(0.785))\n",
    "pi = 3.14\n",
    "print(rad2deg(0.785))"
   ]
  },
  {
   "cell_type": "code",
   "execution_count": null,
   "metadata": {
    "cell_id": "00093-b9e7c0c5-c210-43a4-871f-47f50271402d",
    "deepnote_cell_type": "code",
    "lines_to_next_cell": 1
   },
   "outputs": [],
   "source": [
    "def deg2rad(theta):\n",
    "    global pi\n",
    "    pi = 3.14\n",
    "    return theta * pi / 180"
   ]
  },
  {
   "cell_type": "code",
   "execution_count": null,
   "metadata": {
    "cell_id": "00094-15761e07-5134-4dba-acae-133681e12356",
    "deepnote_cell_type": "code"
   },
   "outputs": [],
   "source": [
    "pi = 1\n",
    "print(deg2rad(45))"
   ]
  },
  {
   "cell_type": "code",
   "execution_count": null,
   "metadata": {
    "cell_id": "00095-fbfff486-35f9-45cf-b820-45772fc989e4",
    "deepnote_cell_type": "code"
   },
   "outputs": [],
   "source": [
    "print(pi)"
   ]
  },
  {
   "cell_type": "markdown",
   "metadata": {
    "cell_id": "00096-f1f0784b-2a3e-46aa-a06e-50afbfd2877f",
    "deepnote_cell_type": "markdown"
   },
   "source": [
    "# `zip` Builtin Function\n",
    "\n",
    "Loop over sequences simultaneously."
   ]
  },
  {
   "cell_type": "code",
   "execution_count": null,
   "metadata": {
    "cell_id": "00097-7b562a00-ed81-4da5-b703-decfab40a392",
    "deepnote_cell_type": "code"
   },
   "outputs": [],
   "source": [
    "L1, L2 = [1,2,3], [3,4,5]\n",
    "for (x, y) in zip(L1, L2):\n",
    "    print (x, y, '--', x + y)"
   ]
  },
  {
   "cell_type": "markdown",
   "metadata": {
    "cell_id": "00098-59612ed7-8638-49a5-942c-89316a9a0040",
    "deepnote_cell_type": "markdown"
   },
   "source": [
    "If we want to add element by element two lists."
   ]
  },
  {
   "cell_type": "code",
   "execution_count": null,
   "metadata": {
    "cell_id": "00099-effcf2e0-5af4-478b-aa7b-320ef758b5a6",
    "deepnote_cell_type": "code"
   },
   "outputs": [],
   "source": [
    "p1 = [1,2,3]\n",
    "p2 = [3,4,5]\n",
    "\n",
    "p3 = [] # create an empty list\n",
    "for c1,c2 in zip(p1,p2):\n",
    "    p3.append(c1+c2)\n",
    "    \n",
    "p3"
   ]
  },
  {
   "cell_type": "markdown",
   "metadata": {
    "cell_id": "00100-0a386646-c13c-4993-aee1-5d2cc89eaeca",
    "deepnote_cell_type": "markdown"
   },
   "source": [
    "# List comprehension\n",
    "\n",
    "- Set or change values inside a list\n",
    "- Create list from function"
   ]
  },
  {
   "cell_type": "code",
   "execution_count": null,
   "metadata": {
    "cell_id": "00101-8de7d6c3-5d2b-4337-a5d2-c588d582ff77",
    "deepnote_cell_type": "code"
   },
   "outputs": [],
   "source": [
    "p3 = [c1+c2 for c1,c2 in zip(p1,p2)]\n",
    "p3"
   ]
  },
  {
   "cell_type": "code",
   "execution_count": null,
   "metadata": {
    "cell_id": "00102-be2c19e3-9a6a-4b2e-83ff-82a091ddfe84",
    "deepnote_cell_type": "code"
   },
   "outputs": [],
   "source": [
    "[n*n for n in range(1,10)] # list of squares"
   ]
  },
  {
   "cell_type": "code",
   "execution_count": null,
   "metadata": {
    "cell_id": "00103-b784fd07-7951-412a-a02e-bc5aaee79f7a",
    "deepnote_cell_type": "code"
   },
   "outputs": [],
   "source": [
    "[n*n for n in range(1,10) if n % 2 != 0]"
   ]
  },
  {
   "cell_type": "code",
   "execution_count": null,
   "metadata": {
    "cell_id": "00104-883b19ba-9b1a-45ac-a610-f99e8175fcda",
    "deepnote_cell_type": "code"
   },
   "outputs": [],
   "source": [
    "[n+1 if n&1 else n//2 for n in range(1,10) ]"
   ]
  },
  {
   "cell_type": "markdown",
   "metadata": {
    "cell_id": "00105-8285b673-7131-4727-97ec-5e5bee3d6a07",
    "deepnote_cell_type": "markdown"
   },
   "source": [
    "# `map` built-in function\n",
    "\n",
    "Apply a function over a sequence.\n"
   ]
  },
  {
   "cell_type": "code",
   "execution_count": null,
   "metadata": {
    "cell_id": "00106-234f2b6f-23fd-418c-88d1-73858cc0b1c2",
    "deepnote_cell_type": "code"
   },
   "outputs": [],
   "source": [
    "res = map(is_prime,range(16))\n",
    "print(res)"
   ]
  },
  {
   "cell_type": "markdown",
   "metadata": {
    "cell_id": "00107-f360e768-6adb-46ef-83d7-66b858d2fc66",
    "deepnote_cell_type": "markdown"
   },
   "source": [
    "Since Python 3.x, `map` process return an iterator. Save memory, and should make things go faster.\n",
    "Display result by using unpacking operator."
   ]
  },
  {
   "cell_type": "code",
   "execution_count": null,
   "metadata": {
    "cell_id": "00108-9f0a9706-9cfe-40d1-b64b-a176b1e022ea",
    "deepnote_cell_type": "code"
   },
   "outputs": [],
   "source": [
    "print(*res)"
   ]
  },
  {
   "cell_type": "markdown",
   "metadata": {
    "cell_id": "00109-32cb9242-73d3-439b-b5bb-7d6fc46630b0",
    "deepnote_cell_type": "markdown"
   },
   "source": [
    "# `map` with user-defined function"
   ]
  },
  {
   "cell_type": "code",
   "execution_count": null,
   "metadata": {
    "cell_id": "00110-2c44aefa-b25b-48cc-9434-254b7d4976fb",
    "deepnote_cell_type": "code",
    "lines_to_next_cell": 1
   },
   "outputs": [],
   "source": [
    "def add(x,y):\n",
    "    return x+y"
   ]
  },
  {
   "cell_type": "code",
   "execution_count": null,
   "metadata": {
    "cell_id": "00111-28418a75-dfd3-470c-ace6-269aa75c09be",
    "deepnote_cell_type": "code"
   },
   "outputs": [],
   "source": [
    "L1, L2 = [1, 2, 3], [4, 5, 6]\n",
    "res = map(add,L1,L2)\n",
    "print(*res)"
   ]
  },
  {
   "cell_type": "code",
   "execution_count": null,
   "metadata": {
    "cell_id": "00112-4fc3daae-e289-4924-9cf8-a302c2f5e6f8",
    "deepnote_cell_type": "code"
   },
   "outputs": [],
   "source": [
    "print(*res) # res is empty"
   ]
  },
  {
   "cell_type": "markdown",
   "metadata": {
    "cell_id": "00113-c6cb6ed1-9d4e-4691-b496-8f8119e572ce",
    "deepnote_cell_type": "markdown"
   },
   "source": [
    "### `map` is often faster than `for` loop"
   ]
  },
  {
   "cell_type": "code",
   "execution_count": null,
   "metadata": {
    "cell_id": "00114-f7ea6573-bbf0-4198-bd79-c874a871e9d2",
    "deepnote_cell_type": "code"
   },
   "outputs": [],
   "source": [
    "M = range(10000)\n",
    "f = lambda x: x**2\n",
    "%timeit lmap = map(f,M)"
   ]
  },
  {
   "cell_type": "code",
   "execution_count": null,
   "metadata": {
    "cell_id": "00115-c58068d2-7436-487c-800d-e4a485e5db5b",
    "deepnote_cell_type": "code"
   },
   "outputs": [],
   "source": [
    "M = range(10000)\n",
    "f = lambda x: x**2\n",
    "%timeit lfor = (f(m) for m in M)"
   ]
  },
  {
   "cell_type": "markdown",
   "metadata": {
    "cell_id": "00116-3628ae18-6c50-42d2-b5fd-0c2fb92cc2d7",
    "deepnote_cell_type": "markdown"
   },
   "source": [
    "# Parallel version of map"
   ]
  },
  {
   "cell_type": "code",
   "execution_count": null,
   "metadata": {
    "cell_id": "00117-9fc17374-517b-4f55-8796-80df1437f9d5",
    "deepnote_cell_type": "code"
   },
   "outputs": [],
   "source": [
    "from time import sleep\n",
    "\n",
    "def slow_add( x ):\n",
    "    sleep(1.0)\n",
    "    return x+1\n",
    "\n",
    "data = list(range(8))\n",
    "data    "
   ]
  },
  {
   "cell_type": "code",
   "execution_count": null,
   "metadata": {
    "cell_id": "00118-beb2f445-d910-48bb-ab3d-af6815ec1efd",
    "deepnote_cell_type": "code"
   },
   "outputs": [],
   "source": [
    "%%time\n",
    "res = map(slow_add, data)\n",
    "print(*res)"
   ]
  },
  {
   "cell_type": "code",
   "execution_count": null,
   "metadata": {
    "cell_id": "00119-87883c93-fcd4-4d34-b44c-8c2bf8821c5e",
    "deepnote_cell_type": "code"
   },
   "outputs": [],
   "source": [
    "%%time\n",
    "\n",
    "from concurrent.futures import ThreadPoolExecutor\n",
    "\n",
    "with ThreadPoolExecutor(4) as pool:\n",
    "    res = pool.map(slow_add, data)\n",
    "\n",
    "print(*res)"
   ]
  },
  {
   "cell_type": "markdown",
   "metadata": {
    "cell_id": "00120-183c002f-2335-4465-8132-6ec642ff6a87",
    "deepnote_cell_type": "markdown"
   },
   "source": [
    "# Recursive Call"
   ]
  },
  {
   "cell_type": "code",
   "execution_count": null,
   "metadata": {
    "cell_id": "00121-428ea9d2-5492-4d81-b664-8b03f5951a26",
    "deepnote_cell_type": "code",
    "lines_to_next_cell": 1
   },
   "outputs": [],
   "source": [
    "def gcd(x, y): \n",
    "    \"\"\" returns the greatest common divisor.\"\"\"\n",
    "    if x == 0: \n",
    "        return y\n",
    "    else : \n",
    "        return gcd(y % x, x)"
   ]
  },
  {
   "cell_type": "code",
   "execution_count": null,
   "metadata": {
    "cell_id": "00122-d8dcbf22-5c92-40d1-96eb-03b4100d1a28",
    "deepnote_cell_type": "code"
   },
   "outputs": [],
   "source": [
    "gcd(12,16)"
   ]
  },
  {
   "cell_type": "markdown",
   "metadata": {
    "cell_id": "00123-a1ae6b6e-1902-4f7e-bf65-088070d96f49",
    "deepnote_cell_type": "markdown"
   },
   "source": [
    "# Assignment, Copy and Reference"
   ]
  },
  {
   "cell_type": "code",
   "execution_count": null,
   "metadata": {
    "cell_id": "00124-1035f463-d040-476e-ab27-91b407f7ad14",
    "deepnote_cell_type": "code"
   },
   "outputs": [],
   "source": [
    "a = [0, 1, 2, 3, 4]\n",
    "b = a\n",
    "print(\"b = \",b)\n",
    "b[1]= 20        # Change one value in b\n",
    "print(\"a = \",a) # Y"
   ]
  },
  {
   "cell_type": "markdown",
   "metadata": {
    "cell_id": "00125-25c990b8-d9e1-4e3b-b842-a221961d0886",
    "deepnote_cell_type": "markdown"
   },
   "source": [
    "**b is a reference to a, they occupy same space memory**"
   ]
  },
  {
   "cell_type": "code",
   "execution_count": null,
   "metadata": {
    "cell_id": "00126-b445d316-0086-46df-b8f3-922eddac4ca9",
    "deepnote_cell_type": "code"
   },
   "outputs": [],
   "source": [
    "b = a[:] # assign a slice of a and you create a new list (similar to a.copy())\n",
    "b[2]=10\n",
    "print(\"b = \",b)\n",
    "print(\"a = \",a)   "
   ]
  },
  {
   "cell_type": "markdown",
   "metadata": {
    "cell_id": "00127-1a07d5af-c5fc-4591-baf1-adccfa9f5415",
    "deepnote_cell_type": "markdown"
   },
   "source": [
    "## Exercise: Polynomial\n",
    "\n",
    "- A Polynomial is represented by a Python list of its coefficients.\n",
    "    [1,5,-4] => $1+5x-4x^2$\n",
    "    \n",
    "### Evaluation \n",
    "\n",
    "- Write the function eval(P,x) that return the value of P(x)\n",
    "\n",
    "```\n",
    "P = [3,2,1,5,7]\n",
    "eval([3,2,1,5,7],1) =  18\n",
    "```"
   ]
  },
  {
   "cell_type": "markdown",
   "metadata": {
    "cell_id": "00128-d3086bda-b938-496f-8b3f-5f11f4346ba8",
    "deepnote_cell_type": "markdown"
   },
   "source": [
    "### Derivative\n",
    "\n",
    "- Write the function diff(P,n) that return the nth derivative Q\n",
    "```\n",
    "diff([3,2,1,5,7],2) = [2, 30, 84]\n",
    "diff([-6,5,-3,-4,3,-4],3) = [-24, 72, -240]\n",
    "```\n",
    "\n",
    "### Addition\n",
    "- Write the function add(P,Q) that return the polynomial coefficients of P+Q\n",
    "- Your function must work when P and Q has different degrees\n",
    "\n",
    "### Multiplication\n",
    "- Write the function mul(P,Q) that return the polynomial coefficients of P*Q"
   ]
  },
  {
   "cell_type": "code",
   "execution_count": null,
   "metadata": {
    "cell_id": "00129-6f573485-2afc-4f90-a63b-8e89849dd676",
    "deepnote_cell_type": "code",
    "lines_to_next_cell": 2
   },
   "outputs": [],
   "source": [
    "P = [ 1, 5, 6, 8]\n",
    "Q = [ -2, 1, 3]"
   ]
  },
  {
   "cell_type": "code",
   "execution_count": null,
   "metadata": {
    "cell_id": "00130-ba27c242-f2f2-4791-9739-ebd41b67f25f",
    "deepnote_cell_type": "code"
   },
   "outputs": [],
   "source": [
    "from numpy import poly1d\n",
    "\n",
    "p = poly1d(P[::-1])\n",
    "q = poly1d(Q[::-1])"
   ]
  },
  {
   "cell_type": "code",
   "execution_count": null,
   "metadata": {
    "cell_id": "00131-9322c93a-cc7c-468f-b859-88f2b4364d6f",
    "deepnote_cell_type": "code"
   },
   "outputs": [],
   "source": [
    "p + q"
   ]
  },
  {
   "cell_type": "code",
   "execution_count": null,
   "metadata": {
    "cell_id": "00132-8b4b1880-9911-4705-aec6-3d47442a4653",
    "deepnote_cell_type": "code"
   },
   "outputs": [],
   "source": [
    "p * q"
   ]
  },
  {
   "cell_type": "code",
   "execution_count": null,
   "metadata": {},
   "outputs": [],
   "source": []
  }
 ],
 "metadata": {
  "deepnote_execution_queue": [],
  "deepnote_notebook_id": "9aaafa48-4ca4-4289-a617-857c0192c32f",
  "jupytext": {
   "cell_metadata_json": true,
   "comment_magics": false,
   "encoding": "# -*- coding: utf-8 -*-"
  },
  "kernelspec": {
   "display_name": "Python 3",
   "language": "python",
   "name": "python3"
  },
  "language_info": {
   "codemirror_mode": {
    "name": "ipython",
    "version": 3
   },
   "file_extension": ".py",
   "mimetype": "text/x-python",
   "name": "python",
   "nbconvert_exporter": "python",
   "pygments_lexer": "ipython3",
   "version": "3.9.0"
  }
 },
 "nbformat": 4,
 "nbformat_minor": 4
}
