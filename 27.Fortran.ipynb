{
 "cells": [
  {
   "cell_type": "markdown",
   "metadata": {
    "collapsed": true,
    "slideshow": {
     "slide_type": "slide"
    }
   },
   "source": [
    "Pierre Navaro - [Institut de Recherche Mathématique de Rennes](https://irmar.univ-rennes1.fr) - [CNRS](http://www.cnrs.fr/)"
   ]
  },
  {
   "cell_type": "code",
   "execution_count": 2,
   "metadata": {
    "slideshow": {
     "slide_type": "slide"
    }
   },
   "outputs": [],
   "source": [
    "%matplotlib inline\n",
    "%config InlineBackend.figure_format = 'retina'\n",
    "import matplotlib.pyplot as plt\n",
    "import scipy.fftpack as sf\n",
    "import scipy.linalg as sl\n",
    "import numpy as np"
   ]
  },
  {
   "cell_type": "code",
   "execution_count": 3,
   "metadata": {
    "slideshow": {
     "slide_type": "fragment"
    }
   },
   "outputs": [
    {
     "name": "stdout",
     "output_type": "stream",
     "text": [
      "env: CC=gcc-7\n"
     ]
    }
   ],
   "source": [
    "%env CC=gcc-7"
   ]
  },
  {
   "cell_type": "markdown",
   "metadata": {
    "slideshow": {
     "slide_type": "slide"
    }
   },
   "source": [
    "# f2py\n",
    "f2py is a part of Numpy and there are three ways to wrap Fortran with Python :\n",
    "- Write some fortran subroutines and just run f2py to create Python modules.\n",
    "- Insert special f2py directives inside Fortran source for complex wrapping.\n",
    "- Write a interface file (.pyf) to wrap Fortran files without changing them. f2py automatically generate the pyf template file that can be modified. "
   ]
  },
  {
   "cell_type": "markdown",
   "metadata": {
    "slideshow": {
     "slide_type": "slide"
    }
   },
   "source": [
    "# Simple Fortran subroutine to compute norm\n",
    "   \n",
    "### Fortran 90/95 free format"
   ]
  },
  {
   "cell_type": "code",
   "execution_count": 4,
   "metadata": {
    "slideshow": {
     "slide_type": "fragment"
    }
   },
   "outputs": [
    {
     "name": "stdout",
     "output_type": "stream",
     "text": [
      "Overwriting euclidian_norm.f90\n"
     ]
    }
   ],
   "source": [
    "%%file euclidian_norm.f90\n",
    "subroutine euclidian_norm (a, b, c)\n",
    "real(8), intent(in) :: a, b\n",
    "real(8), intent(out) :: c \n",
    "c =\tsqrt (a*a+b*b) \n",
    "end subroutine euclidian_norm"
   ]
  },
  {
   "cell_type": "markdown",
   "metadata": {
    "slideshow": {
     "slide_type": "slide"
    }
   },
   "source": [
    "### Fortran 77 fixed format"
   ]
  },
  {
   "cell_type": "code",
   "execution_count": 5,
   "metadata": {
    "slideshow": {
     "slide_type": "fragment"
    }
   },
   "outputs": [
    {
     "name": "stdout",
     "output_type": "stream",
     "text": [
      "Overwriting euclidian_norm.f\n"
     ]
    }
   ],
   "source": [
    "%%file euclidian_norm.f\n",
    "      subroutine euclidian_norm (a, b, c)\n",
    "      real*8 a,b,c\n",
    "Cf2py intent(out) c\n",
    "      c = sqrt (a*a+b*b) \n",
    "      end "
   ]
  },
  {
   "cell_type": "markdown",
   "metadata": {
    "slideshow": {
     "slide_type": "slide"
    }
   },
   "source": [
    "# Build extension module with f2py program\n"
   ]
  },
  {
   "cell_type": "code",
   "execution_count": 6,
   "metadata": {
    "slideshow": {
     "slide_type": "fragment"
    }
   },
   "outputs": [
    {
     "name": "stdout",
     "output_type": "stream",
     "text": [
      "\u001b[39mrunning build\u001b[0m\n",
      "\u001b[39mrunning config_cc\u001b[0m\n",
      "\u001b[39munifing config_cc, config, build_clib, build_ext, build commands --compiler options\u001b[0m\n",
      "\u001b[39mrunning config_fc\u001b[0m\n",
      "\u001b[39munifing config_fc, config, build_clib, build_ext, build commands --fcompiler options\u001b[0m\n",
      "\u001b[39mrunning build_src\u001b[0m\n",
      "\u001b[39mbuild_src\u001b[0m\n",
      "\u001b[39mbuilding extension \"vect\" sources\u001b[0m\n",
      "\u001b[39mf2py options: []\u001b[0m\n",
      "\u001b[39mf2py:> /var/folders/56/lhgl67bx4qj6tvjx41b1wgdr0000gn/T/tmp3zahd6c_/src.macosx-10.12-x86_64-3.6/vectmodule.c\u001b[0m\n",
      "\u001b[39mcreating /var/folders/56/lhgl67bx4qj6tvjx41b1wgdr0000gn/T/tmp3zahd6c_/src.macosx-10.12-x86_64-3.6\u001b[0m\n",
      "Reading fortran codes...\n",
      "\tReading file 'euclidian_norm.f90' (format:free)\n",
      "Post-processing...\n",
      "\tBlock: vect\n",
      "\t\t\tBlock: euclidian_norm\n",
      "Post-processing (stage 2)...\n",
      "Building modules...\n",
      "\tBuilding module \"vect\"...\n",
      "\t\tConstructing wrapper function \"euclidian_norm\"...\n",
      "\t\t  c = euclidian_norm(a,b)\n",
      "\tWrote C/API module \"vect\" to file \"/var/folders/56/lhgl67bx4qj6tvjx41b1wgdr0000gn/T/tmp3zahd6c_/src.macosx-10.12-x86_64-3.6/vectmodule.c\"\n",
      "\u001b[39m  adding '/var/folders/56/lhgl67bx4qj6tvjx41b1wgdr0000gn/T/tmp3zahd6c_/src.macosx-10.12-x86_64-3.6/fortranobject.c' to sources.\u001b[0m\n",
      "\u001b[39m  adding '/var/folders/56/lhgl67bx4qj6tvjx41b1wgdr0000gn/T/tmp3zahd6c_/src.macosx-10.12-x86_64-3.6' to include_dirs.\u001b[0m\n",
      "\u001b[39mcopying /usr/local/lib/python3.6/site-packages/numpy/f2py/src/fortranobject.c -> /var/folders/56/lhgl67bx4qj6tvjx41b1wgdr0000gn/T/tmp3zahd6c_/src.macosx-10.12-x86_64-3.6\u001b[0m\n",
      "\u001b[39mcopying /usr/local/lib/python3.6/site-packages/numpy/f2py/src/fortranobject.h -> /var/folders/56/lhgl67bx4qj6tvjx41b1wgdr0000gn/T/tmp3zahd6c_/src.macosx-10.12-x86_64-3.6\u001b[0m\n",
      "\u001b[39mbuild_src: building npy-pkg config files\u001b[0m\n",
      "\u001b[39mrunning build_ext\u001b[0m\n",
      "\u001b[39mcustomize UnixCCompiler\u001b[0m\n",
      "\u001b[39mcustomize UnixCCompiler using build_ext\u001b[0m\n",
      "\u001b[39mcustomize Gnu95FCompiler\u001b[0m\n",
      "\u001b[39mFound executable /usr/local/bin/gfortran\u001b[0m\n",
      "\u001b[39mcustomize Gnu95FCompiler using build_ext\u001b[0m\n",
      "\u001b[39mbuilding 'vect' extension\u001b[0m\n",
      "\u001b[39mcompiling C sources\u001b[0m\n",
      "\u001b[39mC compiler: gcc-7 -Wno-unused-result -Wsign-compare -Wunreachable-code -fno-common -dynamic -DNDEBUG -g -fwrapv -O3 -Wall -Wstrict-prototypes\n",
      "\u001b[0m\n",
      "\u001b[39mcreating /var/folders/56/lhgl67bx4qj6tvjx41b1wgdr0000gn/T/tmp3zahd6c_/var\u001b[0m\n",
      "\u001b[39mcreating /var/folders/56/lhgl67bx4qj6tvjx41b1wgdr0000gn/T/tmp3zahd6c_/var/folders\u001b[0m\n",
      "\u001b[39mcreating /var/folders/56/lhgl67bx4qj6tvjx41b1wgdr0000gn/T/tmp3zahd6c_/var/folders/56\u001b[0m\n",
      "\u001b[39mcreating /var/folders/56/lhgl67bx4qj6tvjx41b1wgdr0000gn/T/tmp3zahd6c_/var/folders/56/lhgl67bx4qj6tvjx41b1wgdr0000gn\u001b[0m\n",
      "\u001b[39mcreating /var/folders/56/lhgl67bx4qj6tvjx41b1wgdr0000gn/T/tmp3zahd6c_/var/folders/56/lhgl67bx4qj6tvjx41b1wgdr0000gn/T\u001b[0m\n",
      "\u001b[39mcreating /var/folders/56/lhgl67bx4qj6tvjx41b1wgdr0000gn/T/tmp3zahd6c_/var/folders/56/lhgl67bx4qj6tvjx41b1wgdr0000gn/T/tmp3zahd6c_\u001b[0m\n",
      "\u001b[39mcreating /var/folders/56/lhgl67bx4qj6tvjx41b1wgdr0000gn/T/tmp3zahd6c_/var/folders/56/lhgl67bx4qj6tvjx41b1wgdr0000gn/T/tmp3zahd6c_/src.macosx-10.12-x86_64-3.6\u001b[0m\n",
      "\u001b[39mcompile options: '-I/var/folders/56/lhgl67bx4qj6tvjx41b1wgdr0000gn/T/tmp3zahd6c_/src.macosx-10.12-x86_64-3.6 -I/usr/local/lib/python3.6/site-packages/numpy/core/include -I/usr/local/include -I/usr/local/opt/openssl/include -I/usr/local/opt/sqlite/include -I/usr/local/Cellar/python3/3.6.3/Frameworks/Python.framework/Versions/3.6/include/python3.6m -c'\u001b[0m\n",
      "\u001b[39mgcc-7: /var/folders/56/lhgl67bx4qj6tvjx41b1wgdr0000gn/T/tmp3zahd6c_/src.macosx-10.12-x86_64-3.6/vectmodule.c\u001b[0m\n",
      "In file included from /usr/local/lib/python3.6/site-packages/numpy/core/include/numpy/ndarraytypes.h:1809:0,\n",
      "                 from /usr/local/lib/python3.6/site-packages/numpy/core/include/numpy/ndarrayobject.h:18,\n",
      "                 from /usr/local/lib/python3.6/site-packages/numpy/core/include/numpy/arrayobject.h:4,\n",
      "                 from /var/folders/56/lhgl67bx4qj6tvjx41b1wgdr0000gn/T/tmp3zahd6c_/src.macosx-10.12-x86_64-3.6/fortranobject.h:13,\n",
      "                 from /var/folders/56/lhgl67bx4qj6tvjx41b1wgdr0000gn/T/tmp3zahd6c_/src.macosx-10.12-x86_64-3.6/vectmodule.c:18:\n",
      "/usr/local/lib/python3.6/site-packages/numpy/core/include/numpy/npy_1_7_deprecated_api.h:15:2: warning: #warning \"Using deprecated NumPy API, disable it by \" \"#defining NPY_NO_DEPRECATED_API NPY_1_7_API_VERSION\" [-Wcpp]\n",
      " #warning \"Using deprecated NumPy API, disable it by \" \\\n",
      "  ^~~~~~~\n",
      "\u001b[39mgcc-7: /var/folders/56/lhgl67bx4qj6tvjx41b1wgdr0000gn/T/tmp3zahd6c_/src.macosx-10.12-x86_64-3.6/fortranobject.c\u001b[0m\n",
      "In file included from /usr/local/lib/python3.6/site-packages/numpy/core/include/numpy/ndarraytypes.h:1809:0,\n",
      "                 from /usr/local/lib/python3.6/site-packages/numpy/core/include/numpy/ndarrayobject.h:18,\n",
      "                 from /usr/local/lib/python3.6/site-packages/numpy/core/include/numpy/arrayobject.h:4,\n",
      "                 from /var/folders/56/lhgl67bx4qj6tvjx41b1wgdr0000gn/T/tmp3zahd6c_/src.macosx-10.12-x86_64-3.6/fortranobject.h:13,\n",
      "                 from /var/folders/56/lhgl67bx4qj6tvjx41b1wgdr0000gn/T/tmp3zahd6c_/src.macosx-10.12-x86_64-3.6/fortranobject.c:2:\n",
      "/usr/local/lib/python3.6/site-packages/numpy/core/include/numpy/npy_1_7_deprecated_api.h:15:2: warning: #warning \"Using deprecated NumPy API, disable it by \" \"#defining NPY_NO_DEPRECATED_API NPY_1_7_API_VERSION\" [-Wcpp]\n",
      " #warning \"Using deprecated NumPy API, disable it by \" \\\n",
      "  ^~~~~~~\n",
      "/var/folders/56/lhgl67bx4qj6tvjx41b1wgdr0000gn/T/tmp3zahd6c_/src.macosx-10.12-x86_64-3.6/fortranobject.c: In function 'format_def':\n",
      "/var/folders/56/lhgl67bx4qj6tvjx41b1wgdr0000gn/T/tmp3zahd6c_/src.macosx-10.12-x86_64-3.6/fortranobject.c:138:18: warning: comparison between signed and unsigned integer expressions [-Wsign-compare]\n",
      "         if (size < sizeof(notalloc)) {\n",
      "                  ^\n",
      "\u001b[39mcompiling Fortran sources\u001b[0m\n",
      "\u001b[39mFortran f77 compiler: /usr/local/bin/gfortran -Wall -g -ffixed-form -fno-second-underscore -fPIC -O3 -funroll-loops\n",
      "Fortran f90 compiler: /usr/local/bin/gfortran -O3 -fPIC -O3 -funroll-loops\n",
      "Fortran fix compiler: /usr/local/bin/gfortran -Wall -g -ffixed-form -fno-second-underscore -O3 -fPIC -O3 -funroll-loops\u001b[0m\n",
      "\u001b[39mcompile options: '-I/var/folders/56/lhgl67bx4qj6tvjx41b1wgdr0000gn/T/tmp3zahd6c_/src.macosx-10.12-x86_64-3.6 -I/usr/local/lib/python3.6/site-packages/numpy/core/include -I/usr/local/include -I/usr/local/opt/openssl/include -I/usr/local/opt/sqlite/include -I/usr/local/Cellar/python3/3.6.3/Frameworks/Python.framework/Versions/3.6/include/python3.6m -c'\u001b[0m\n",
      "\u001b[39mgfortran:f90: euclidian_norm.f90\u001b[0m\n",
      "\u001b[39m/usr/local/bin/gfortran -Wall -g -Wall -g -undefined dynamic_lookup -bundle /var/folders/56/lhgl67bx4qj6tvjx41b1wgdr0000gn/T/tmp3zahd6c_/var/folders/56/lhgl67bx4qj6tvjx41b1wgdr0000gn/T/tmp3zahd6c_/src.macosx-10.12-x86_64-3.6/vectmodule.o /var/folders/56/lhgl67bx4qj6tvjx41b1wgdr0000gn/T/tmp3zahd6c_/var/folders/56/lhgl67bx4qj6tvjx41b1wgdr0000gn/T/tmp3zahd6c_/src.macosx-10.12-x86_64-3.6/fortranobject.o /var/folders/56/lhgl67bx4qj6tvjx41b1wgdr0000gn/T/tmp3zahd6c_/euclidian_norm.o -L/usr/local/Cellar/gcc/7.2.0/lib/gcc/7/gcc/x86_64-apple-darwin16.7.0/7.2.0 -L/usr/local/lib -L/usr/local/opt/openssl/lib -L/usr/local/opt/sqlite/lib -lgfortran -o ./vect.cpython-36m-darwin.so\u001b[0m\n",
      "Removing build directory /var/folders/56/lhgl67bx4qj6tvjx41b1wgdr0000gn/T/tmp3zahd6c_\n"
     ]
    }
   ],
   "source": [
    "!f2py -c euclidian_norm.f90 -m vect  --fcompiler=gnu95 --f90flags=-O3"
   ]
  },
  {
   "cell_type": "markdown",
   "metadata": {
    "slideshow": {
     "slide_type": "slide"
    }
   },
   "source": [
    "## Use the extension module in Python"
   ]
  },
  {
   "cell_type": "code",
   "execution_count": 7,
   "metadata": {
    "slideshow": {
     "slide_type": "fragment"
    }
   },
   "outputs": [
    {
     "data": {
      "text/plain": [
       "5.0"
      ]
     },
     "execution_count": 7,
     "metadata": {},
     "output_type": "execute_result"
    }
   ],
   "source": [
    "import vect\n",
    "c = vect.euclidian_norm(3,4)\n",
    "c"
   ]
  },
  {
   "cell_type": "code",
   "execution_count": 8,
   "metadata": {
    "slideshow": {
     "slide_type": "fragment"
    }
   },
   "outputs": [
    {
     "name": "stdout",
     "output_type": "stream",
     "text": [
      "c = euclidian_norm(a,b)\n",
      "\n",
      "Wrapper for ``euclidian_norm``.\n",
      "\n",
      "Parameters\n",
      "----------\n",
      "a : input float\n",
      "b : input float\n",
      "\n",
      "Returns\n",
      "-------\n",
      "c : float\n",
      "\n"
     ]
    }
   ],
   "source": [
    "print(vect.euclidian_norm.__doc__) # Docstring is automatically generate"
   ]
  },
  {
   "cell_type": "markdown",
   "metadata": {
    "slideshow": {
     "slide_type": "slide"
    }
   },
   "source": [
    "# Fortran magic \n",
    "\n",
    "- Jupyter extension that help to use fortran code in an interactive session.\n",
    "- It adds a %%fortran cell magic that compile and import the Fortran code in the cell, using F2py.\n",
    "- The contents of the cell are written to a .f90 file in the directory IPYTHONDIR/fortran using a filename with the hash of the code. This file is then compiled. The resulting module is imported and all of its symbols are injected into the user's namespace.\n",
    "\n",
    "[Documentation](http://nbviewer.jupyter.org/github/mgaitan/fortran_magic/blob/master/documentation.ipynb)"
   ]
  },
  {
   "cell_type": "code",
   "execution_count": 9,
   "metadata": {
    "slideshow": {
     "slide_type": "fragment"
    }
   },
   "outputs": [
    {
     "name": "stderr",
     "output_type": "stream",
     "text": [
      "/usr/local/lib/python3.6/site-packages/fortranmagic.py:147: UserWarning: get_ipython_cache_dir has moved to the IPython.paths module since IPython 4.0.\n",
      "  self._lib_dir = os.path.join(get_ipython_cache_dir(), 'fortran')\n"
     ]
    },
    {
     "data": {
      "application/javascript": [
       "$.getScript(\"https://raw.github.com/marijnh/CodeMirror/master/mode/fortran/fortran.js\", function () {\n",
       "IPython.config.cell_magic_highlight['magic_fortran'] = {'reg':[/^%%fortran/]};});\n"
      ]
     },
     "metadata": {},
     "output_type": "display_data"
    }
   ],
   "source": [
    "%load_ext fortranmagic"
   ]
  },
  {
   "cell_type": "markdown",
   "metadata": {
    "slideshow": {
     "slide_type": "slide"
    }
   },
   "source": [
    "# F2py directives\n",
    "- F2PY introduces also some extensions to Fortran 90/95 language specification that help designing Fortran to Python interface, make it more “Pythonic”.\n",
    "- If editing Fortran codes is acceptable, these specific attributes can be inserted directly to Fortran source codes. Special comment lines are ignored by Fortran compilers but F2PY interprets them as normal lines.\n",
    "\n"
   ]
  },
  {
   "cell_type": "code",
   "execution_count": 10,
   "metadata": {
    "slideshow": {
     "slide_type": "fragment"
    }
   },
   "outputs": [],
   "source": [
    "%%fortran \n",
    "subroutine euclidian_norm(a,c,n) \n",
    "integer :: n \n",
    "real(8),dimension(n),intent(in) :: a\n",
    "!f2py optional , depend(a) :: n=len(a)\n",
    "real(8),intent(out) :: c \n",
    "real(8) :: sommec \n",
    "integer :: i\n",
    "sommec = 0 \n",
    "do i=1,n\n",
    "   sommec=sommec+a( i )*a( i ) \n",
    "end do\n",
    "c=sqrt (sommec) \n",
    "end subroutine euclidian_norm"
   ]
  },
  {
   "cell_type": "code",
   "execution_count": 11,
   "metadata": {
    "slideshow": {
     "slide_type": "slide"
    }
   },
   "outputs": [
    {
     "data": {
      "text/plain": [
       "list"
      ]
     },
     "execution_count": 11,
     "metadata": {},
     "output_type": "execute_result"
    }
   ],
   "source": [
    "a=[2,3,4]  # Python list\n",
    "type(a)"
   ]
  },
  {
   "cell_type": "code",
   "execution_count": 12,
   "metadata": {
    "slideshow": {
     "slide_type": "fragment"
    }
   },
   "outputs": [
    {
     "data": {
      "text/plain": [
       "5.385164807134504"
      ]
     },
     "execution_count": 12,
     "metadata": {},
     "output_type": "execute_result"
    }
   ],
   "source": [
    "euclidian_norm(a)"
   ]
  },
  {
   "cell_type": "code",
   "execution_count": 13,
   "metadata": {
    "slideshow": {
     "slide_type": "fragment"
    }
   },
   "outputs": [
    {
     "data": {
      "text/plain": [
       "numpy.ndarray"
      ]
     },
     "execution_count": 13,
     "metadata": {},
     "output_type": "execute_result"
    }
   ],
   "source": [
    "a=np.arange(2,5)  # numpy array\n",
    "type(a)"
   ]
  },
  {
   "cell_type": "code",
   "execution_count": 14,
   "metadata": {
    "slideshow": {
     "slide_type": "fragment"
    }
   },
   "outputs": [
    {
     "data": {
      "text/plain": [
       "5.385164807134504"
      ]
     },
     "execution_count": 14,
     "metadata": {},
     "output_type": "execute_result"
    }
   ],
   "source": [
    "euclidian_norm(a)"
   ]
  },
  {
   "cell_type": "code",
   "execution_count": 15,
   "metadata": {
    "slideshow": {
     "slide_type": "slide"
    }
   },
   "outputs": [
    {
     "name": "stdout",
     "output_type": "stream",
     "text": [
      "c = euclidian_norm(a,[n])\n",
      "\n",
      "Wrapper for ``euclidian_norm``.\n",
      "\n",
      "Parameters\n",
      "----------\n",
      "a : input rank-1 array('d') with bounds (n)\n",
      "\n",
      "Other Parameters\n",
      "----------------\n",
      "n : input int, optional\n",
      "    Default: len(a)\n",
      "\n",
      "Returns\n",
      "-------\n",
      "c : float\n",
      "\n"
     ]
    }
   ],
   "source": [
    "print(euclidian_norm.__doc__) # Documentation"
   ]
  },
  {
   "cell_type": "markdown",
   "metadata": {},
   "source": [
    "# F2py directives\n",
    "- `optional`: The corresponding argument is moved to the end.\n",
    "- `required`: This is default. Use it to disable automatic optional setting.\n",
    "- `intent(in | inout | out | hide)` , `intent(in)` is the default.\n",
    "- `intent(out)` is implicitly translated to `intent(out,hide) `.\n",
    "- `intent(copy)` and `intent(overwrite)` control changes for input arguments.\n",
    "- `check` performs some assertions, it is often automatically generated.\n",
    "- `depend`:  f2py detects cyclic dependencies.\n",
    "- `allocatable, parameter`\n",
    "- `intent(callback), external`: for function as arguments.\n",
    "- `intent(c)` C-type argument , array or function.\n",
    "- C expressions: `rank, shape, len, size, slen`.\n"
   ]
  },
  {
   "cell_type": "markdown",
   "metadata": {
    "slideshow": {
     "slide_type": "slide"
    }
   },
   "source": [
    "# Callback\n",
    "\n",
    "You can call a python function inside your fortran code\n"
   ]
  },
  {
   "cell_type": "code",
   "execution_count": 16,
   "metadata": {
    "slideshow": {
     "slide_type": "fragment"
    }
   },
   "outputs": [],
   "source": [
    "%%fortran\n",
    "subroutine sum_f (f ,n,s) \n",
    "  !Compute sum(f(i), i=1,n) \n",
    "  external f \n",
    "  integer, intent(in) :: n \n",
    "  real, intent(out) ::s\n",
    "  s = 0.0 \n",
    "  do i=1,n\n",
    "    s=s+f(i)\n",
    "  end do \n",
    "end subroutine sum_f"
   ]
  },
  {
   "cell_type": "code",
   "execution_count": 17,
   "metadata": {
    "slideshow": {
     "slide_type": "slide"
    }
   },
   "outputs": [
    {
     "data": {
      "text/plain": [
       "14.0"
      ]
     },
     "execution_count": 17,
     "metadata": {},
     "output_type": "execute_result"
    }
   ],
   "source": [
    "def fonction(i) : # python function\n",
    "    return i*i\n",
    "\n",
    "sum_f(fonction,3) "
   ]
  },
  {
   "cell_type": "code",
   "execution_count": 18,
   "metadata": {
    "slideshow": {
     "slide_type": "fragment"
    }
   },
   "outputs": [
    {
     "data": {
      "text/plain": [
       "36.0"
      ]
     },
     "execution_count": 18,
     "metadata": {},
     "output_type": "execute_result"
    }
   ],
   "source": [
    "sum_f(lambda x :x**3,3) # lambda function"
   ]
  },
  {
   "cell_type": "markdown",
   "metadata": {
    "slideshow": {
     "slide_type": "slide"
    }
   },
   "source": [
    "# Fortran arrays and Numpy arrays\n",
    "\n",
    "Let's see how to pass numpy arrays to fortran subroutine.\n"
   ]
  },
  {
   "cell_type": "code",
   "execution_count": 19,
   "metadata": {
    "slideshow": {
     "slide_type": "fragment"
    }
   },
   "outputs": [],
   "source": [
    "%%fortran --extra \"-DF2PY_REPORT_ON_ARRAY_COPY=1\"\n",
    "subroutine push( positions, velocities, dt, n)\n",
    "  integer, intent(in) :: n\n",
    "  real(8), intent(in) :: dt\n",
    "  real(8), dimension(n,3), intent(in) :: velocities\n",
    "  real(8), dimension(n,3) :: positions\n",
    "  do i = 1, n\n",
    "    positions(i,:) = positions(i,:) + dt*velocities(i,:)\n",
    "  end do\n",
    "end subroutine push\n"
   ]
  },
  {
   "cell_type": "code",
   "execution_count": 20,
   "metadata": {
    "slideshow": {
     "slide_type": "slide"
    }
   },
   "outputs": [],
   "source": [
    "positions = [[0, 0, 0], [0, 0, 0], [0, 0, 0]]\n",
    "velocities = [[0, 1, 2], [0, 3, 2], [0, 1, 3]]"
   ]
  },
  {
   "cell_type": "code",
   "execution_count": 21,
   "metadata": {
    "slideshow": {
     "slide_type": "fragment"
    }
   },
   "outputs": [
    {
     "data": {
      "text/plain": [
       "[[0, 0, 0], [0, 0, 0], [0, 0, 0]]"
      ]
     },
     "execution_count": 21,
     "metadata": {},
     "output_type": "execute_result"
    }
   ],
   "source": [
    "push(positions, velocities, 0.1)\n",
    "positions # memory is not updated because we used C memory storage\n"
   ]
  },
  {
   "cell_type": "markdown",
   "metadata": {},
   "source": [
    "During execution, the message \"created an array from object\" is displayed, because a copy of is made when passing multidimensional array to fortran subroutine."
   ]
  },
  {
   "cell_type": "code",
   "execution_count": 22,
   "metadata": {},
   "outputs": [
    {
     "data": {
      "text/plain": [
       "array([[ 0. ,  0.1,  0.2],\n",
       "       [ 0. ,  0.3,  0.2],\n",
       "       [ 0. ,  0.1,  0.3]])"
      ]
     },
     "execution_count": 22,
     "metadata": {},
     "output_type": "execute_result"
    }
   ],
   "source": [
    "positions = np.array(positions, dtype='f8', order='F')\n",
    "push(positions, velocities, 0.1)\n",
    "positions # the memory is updated"
   ]
  },
  {
   "cell_type": "markdown",
   "metadata": {
    "slideshow": {
     "slide_type": "slide"
    }
   },
   "source": [
    "# Signature file\n",
    "\n",
    "This file contains descriptions of wrappers to Fortran or C functions, also called as signatures of the functions. F2PY can create initial signature file by scanning Fortran source codes and catching all relevant information needed to create wrapper functions.\n",
    "\n",
    "```bash\n",
    "f2py vector.f90 -h vector.pyf\n",
    "```\n",
    "- vector.pyf\n",
    "\n",
    "```fortran\n",
    "!    -*- f90 -*-\n",
    "! Note: the context of this file is case sensitive.\n",
    "\n",
    "subroutine euclidian_norm(a,c,n) ! in vector.f90\n",
    "    real(kind=8) dimension(n),intent(in) :: a\n",
    "    real(kind=8) intent(out) :: c\n",
    "    integer optional,check(len(a)>=n),depend(a) :: n=len(a)\n",
    "end subroutine euclidian_norm\n",
    "\n",
    "! This file was auto-generated with f2py (version:2).\n",
    "! See http://cens.ioc.ee/projects/f2py2e/\n",
    "```\n"
   ]
  },
  {
   "cell_type": "markdown",
   "metadata": {
    "slideshow": {
     "slide_type": "slide"
    }
   },
   "source": [
    "# Wrap lapack function dgemm  with f2py\n",
    "\n",
    "- Generate the signature file"
   ]
  },
  {
   "cell_type": "code",
   "execution_count": 23,
   "metadata": {
    "slideshow": {
     "slide_type": "fragment"
    }
   },
   "outputs": [
    {
     "name": "stdout",
     "output_type": "stream",
     "text": [
      "--2017-11-11 21:58:00--  http://ftp.mcs.anl.gov/pub/MINPACK-2/blas/dgemm.f\n",
      "Resolving ftp.mcs.anl.gov... 140.221.6.23\n",
      "Connecting to ftp.mcs.anl.gov|140.221.6.23|:80... connected.\n",
      "HTTP request sent, awaiting response... 200 OK\n",
      "Length: 9851 (9.6K) [text/plain]\n",
      "Saving to: 'dgemm.f'\n",
      "\n",
      "dgemm.f             100%[===================>]   9.62K  --.-KB/s    in 0.004s  \n",
      "\n",
      "2017-11-11 21:58:00 (2.23 MB/s) - 'dgemm.f' saved [9851/9851]\n",
      "\n"
     ]
    }
   ],
   "source": [
    "%rm -f dgemm.f dgemm.pyf\n",
    "!wget http://ftp.mcs.anl.gov/pub/MINPACK-2/blas/dgemm.f"
   ]
  },
  {
   "cell_type": "code",
   "execution_count": 24,
   "metadata": {
    "slideshow": {
     "slide_type": "slide"
    }
   },
   "outputs": [],
   "source": [
    "# %load dgemm.f"
   ]
  },
  {
   "cell_type": "code",
   "execution_count": 25,
   "metadata": {
    "slideshow": {
     "slide_type": "fragment"
    }
   },
   "outputs": [
    {
     "name": "stdout",
     "output_type": "stream",
     "text": [
      "Reading fortran codes...\n",
      "\tReading file 'dgemm.f' (format:fix,strict)\n",
      "Post-processing...\n",
      "\tBlock: mylapack\n",
      "\t\t\tBlock: dgemm\n",
      "Post-processing (stage 2)...\n",
      "Saving signatures to file \"./dgemm.pyf\"\n"
     ]
    }
   ],
   "source": [
    "!f2py -m mylapack --overwrite-signature -h dgemm.pyf dgemm.f"
   ]
  },
  {
   "cell_type": "markdown",
   "metadata": {
    "slideshow": {
     "slide_type": "slide"
    }
   },
   "source": [
    "```fortran\n",
    "!    -*- f90 -*-\n",
    "! Note: the context of this file is case sensitive.\n",
    "\n",
    "python module mylapack ! in \n",
    "    interface  ! in :mylapack\n",
    "        subroutine dgemm(transa,transb,m,n,k,alpha,a,lda,b,ldb,beta,c,ldc) ! in :mylapack:dgemm.f\n",
    "            character*1 :: transa\n",
    "            character*1 :: transb\n",
    "            integer :: m\n",
    "            integer :: n\n",
    "            integer :: k\n",
    "            double precision :: alpha\n",
    "            double precision dimension(lda,*) :: a\n",
    "            integer, optional,check(shape(a,0)==lda),depend(a) :: lda=shape(a,0)\n",
    "            double precision dimension(ldb,*) :: b\n",
    "            integer, optional,check(shape(b,0)==ldb),depend(b) :: ldb=shape(b,0)\n",
    "            double precision :: beta\n",
    "            double precision dimension(ldc,*) :: c\n",
    "            integer, optional,check(shape(c,0)==ldc),depend(c) :: ldc=shape(c,0)\n",
    "        end subroutine dgemm\n",
    "    end interface \n",
    "end python module mylapack\n",
    "\n",
    "! This file was auto-generated with f2py (version:2).\n",
    "! See http://cens.ioc.ee/projects/f2py2e/\n",
    "```"
   ]
  },
  {
   "cell_type": "code",
   "execution_count": 26,
   "metadata": {
    "slideshow": {
     "slide_type": "slide"
    }
   },
   "outputs": [
    {
     "name": "stdout",
     "output_type": "stream",
     "text": [
      "\u001b[39mrunning build\u001b[0m\n",
      "\u001b[39mrunning config_cc\u001b[0m\n",
      "\u001b[39munifing config_cc, config, build_clib, build_ext, build commands --compiler options\u001b[0m\n",
      "\u001b[39mrunning config_fc\u001b[0m\n",
      "\u001b[39munifing config_fc, config, build_clib, build_ext, build commands --fcompiler options\u001b[0m\n",
      "\u001b[39mrunning build_src\u001b[0m\n",
      "\u001b[39mbuild_src\u001b[0m\n",
      "\u001b[39mbuilding extension \"mylapack\" sources\u001b[0m\n",
      "\u001b[39mcreating /var/folders/56/lhgl67bx4qj6tvjx41b1wgdr0000gn/T/tmpp5irpzo7/src.macosx-10.12-x86_64-3.6\u001b[0m\n",
      "\u001b[39mf2py options: []\u001b[0m\n",
      "\u001b[39mf2py: dgemm.pyf\u001b[0m\n",
      "Reading fortran codes...\n",
      "\tReading file 'dgemm.pyf' (format:free)\n",
      "Post-processing...\n",
      "\tBlock: mylapack\n",
      "\t\t\tBlock: dgemm\n",
      "Post-processing (stage 2)...\n",
      "Building modules...\n",
      "\tBuilding module \"mylapack\"...\n",
      "\t\tConstructing wrapper function \"dgemm\"...\n",
      "getarrdims:warning: assumed shape array, using 0 instead of '*'\n",
      "getarrdims:warning: assumed shape array, using 0 instead of '*'\n",
      "getarrdims:warning: assumed shape array, using 0 instead of '*'\n",
      "\t\t  dgemm(transa,transb,m,n,k,alpha,a,b,beta,c,[lda,ldb,ldc])\n",
      "\tWrote C/API module \"mylapack\" to file \"/var/folders/56/lhgl67bx4qj6tvjx41b1wgdr0000gn/T/tmpp5irpzo7/src.macosx-10.12-x86_64-3.6/mylapackmodule.c\"\n",
      "\u001b[39m  adding '/var/folders/56/lhgl67bx4qj6tvjx41b1wgdr0000gn/T/tmpp5irpzo7/src.macosx-10.12-x86_64-3.6/fortranobject.c' to sources.\u001b[0m\n",
      "\u001b[39m  adding '/var/folders/56/lhgl67bx4qj6tvjx41b1wgdr0000gn/T/tmpp5irpzo7/src.macosx-10.12-x86_64-3.6' to include_dirs.\u001b[0m\n",
      "\u001b[39mcopying /usr/local/lib/python3.6/site-packages/numpy/f2py/src/fortranobject.c -> /var/folders/56/lhgl67bx4qj6tvjx41b1wgdr0000gn/T/tmpp5irpzo7/src.macosx-10.12-x86_64-3.6\u001b[0m\n",
      "\u001b[39mcopying /usr/local/lib/python3.6/site-packages/numpy/f2py/src/fortranobject.h -> /var/folders/56/lhgl67bx4qj6tvjx41b1wgdr0000gn/T/tmpp5irpzo7/src.macosx-10.12-x86_64-3.6\u001b[0m\n",
      "\u001b[39mbuild_src: building npy-pkg config files\u001b[0m\n",
      "\u001b[39mrunning build_ext\u001b[0m\n",
      "\u001b[39mcustomize UnixCCompiler\u001b[0m\n",
      "\u001b[39mcustomize UnixCCompiler using build_ext\u001b[0m\n",
      "\u001b[39mbuilding 'mylapack' extension\u001b[0m\n",
      "\u001b[39mcompiling C sources\u001b[0m\n",
      "\u001b[39mC compiler: gcc-7 -Wno-unused-result -Wsign-compare -Wunreachable-code -fno-common -dynamic -DNDEBUG -g -fwrapv -O3 -Wall -Wstrict-prototypes\n",
      "\u001b[0m\n",
      "\u001b[39mcreating /var/folders/56/lhgl67bx4qj6tvjx41b1wgdr0000gn/T/tmpp5irpzo7/var\u001b[0m\n",
      "\u001b[39mcreating /var/folders/56/lhgl67bx4qj6tvjx41b1wgdr0000gn/T/tmpp5irpzo7/var/folders\u001b[0m\n",
      "\u001b[39mcreating /var/folders/56/lhgl67bx4qj6tvjx41b1wgdr0000gn/T/tmpp5irpzo7/var/folders/56\u001b[0m\n",
      "\u001b[39mcreating /var/folders/56/lhgl67bx4qj6tvjx41b1wgdr0000gn/T/tmpp5irpzo7/var/folders/56/lhgl67bx4qj6tvjx41b1wgdr0000gn\u001b[0m\n",
      "\u001b[39mcreating /var/folders/56/lhgl67bx4qj6tvjx41b1wgdr0000gn/T/tmpp5irpzo7/var/folders/56/lhgl67bx4qj6tvjx41b1wgdr0000gn/T\u001b[0m\n",
      "\u001b[39mcreating /var/folders/56/lhgl67bx4qj6tvjx41b1wgdr0000gn/T/tmpp5irpzo7/var/folders/56/lhgl67bx4qj6tvjx41b1wgdr0000gn/T/tmpp5irpzo7\u001b[0m\n",
      "\u001b[39mcreating /var/folders/56/lhgl67bx4qj6tvjx41b1wgdr0000gn/T/tmpp5irpzo7/var/folders/56/lhgl67bx4qj6tvjx41b1wgdr0000gn/T/tmpp5irpzo7/src.macosx-10.12-x86_64-3.6\u001b[0m\n",
      "\u001b[39mcompile options: '-I/var/folders/56/lhgl67bx4qj6tvjx41b1wgdr0000gn/T/tmpp5irpzo7/src.macosx-10.12-x86_64-3.6 -I/usr/local/lib/python3.6/site-packages/numpy/core/include -I/usr/local/include -I/usr/local/opt/openssl/include -I/usr/local/opt/sqlite/include -I/usr/local/Cellar/python3/3.6.3/Frameworks/Python.framework/Versions/3.6/include/python3.6m -c'\u001b[0m\n",
      "\u001b[39mgcc-7: /var/folders/56/lhgl67bx4qj6tvjx41b1wgdr0000gn/T/tmpp5irpzo7/src.macosx-10.12-x86_64-3.6/mylapackmodule.c\u001b[0m\n",
      "In file included from /usr/local/lib/python3.6/site-packages/numpy/core/include/numpy/ndarraytypes.h:1809:0,\n",
      "                 from /usr/local/lib/python3.6/site-packages/numpy/core/include/numpy/ndarrayobject.h:18,\n",
      "                 from /usr/local/lib/python3.6/site-packages/numpy/core/include/numpy/arrayobject.h:4,\n",
      "                 from /var/folders/56/lhgl67bx4qj6tvjx41b1wgdr0000gn/T/tmpp5irpzo7/src.macosx-10.12-x86_64-3.6/fortranobject.h:13,\n",
      "                 from /var/folders/56/lhgl67bx4qj6tvjx41b1wgdr0000gn/T/tmpp5irpzo7/src.macosx-10.12-x86_64-3.6/mylapackmodule.c:19:\n",
      "/usr/local/lib/python3.6/site-packages/numpy/core/include/numpy/npy_1_7_deprecated_api.h:15:2: warning: #warning \"Using deprecated NumPy API, disable it by \" \"#defining NPY_NO_DEPRECATED_API NPY_1_7_API_VERSION\" [-Wcpp]\n",
      " #warning \"Using deprecated NumPy API, disable it by \" \\\n",
      "  ^~~~~~~\n",
      "/var/folders/56/lhgl67bx4qj6tvjx41b1wgdr0000gn/T/tmpp5irpzo7/src.macosx-10.12-x86_64-3.6/mylapackmodule.c:145:12: warning: 'f2py_size' defined but not used [-Wunused-function]\n",
      " static int f2py_size(PyArrayObject* var, ...)\n",
      "            ^~~~~~~~~\n",
      "\u001b[39mgcc-7: /var/folders/56/lhgl67bx4qj6tvjx41b1wgdr0000gn/T/tmpp5irpzo7/src.macosx-10.12-x86_64-3.6/fortranobject.c\u001b[0m\n",
      "In file included from /usr/local/lib/python3.6/site-packages/numpy/core/include/numpy/ndarraytypes.h:1809:0,\n",
      "                 from /usr/local/lib/python3.6/site-packages/numpy/core/include/numpy/ndarrayobject.h:18,\n",
      "                 from /usr/local/lib/python3.6/site-packages/numpy/core/include/numpy/arrayobject.h:4,\n",
      "                 from /var/folders/56/lhgl67bx4qj6tvjx41b1wgdr0000gn/T/tmpp5irpzo7/src.macosx-10.12-x86_64-3.6/fortranobject.h:13,\n",
      "                 from /var/folders/56/lhgl67bx4qj6tvjx41b1wgdr0000gn/T/tmpp5irpzo7/src.macosx-10.12-x86_64-3.6/fortranobject.c:2:\n",
      "/usr/local/lib/python3.6/site-packages/numpy/core/include/numpy/npy_1_7_deprecated_api.h:15:2: warning: #warning \"Using deprecated NumPy API, disable it by \" \"#defining NPY_NO_DEPRECATED_API NPY_1_7_API_VERSION\" [-Wcpp]\n",
      " #warning \"Using deprecated NumPy API, disable it by \" \\\n",
      "  ^~~~~~~\n",
      "/var/folders/56/lhgl67bx4qj6tvjx41b1wgdr0000gn/T/tmpp5irpzo7/src.macosx-10.12-x86_64-3.6/fortranobject.c: In function 'format_def':\n",
      "/var/folders/56/lhgl67bx4qj6tvjx41b1wgdr0000gn/T/tmpp5irpzo7/src.macosx-10.12-x86_64-3.6/fortranobject.c:138:18: warning: comparison between signed and unsigned integer expressions [-Wsign-compare]\n",
      "         if (size < sizeof(notalloc)) {\n",
      "                  ^\n",
      "\u001b[39mgcc-7 -bundle -undefined dynamic_lookup /var/folders/56/lhgl67bx4qj6tvjx41b1wgdr0000gn/T/tmpp5irpzo7/var/folders/56/lhgl67bx4qj6tvjx41b1wgdr0000gn/T/tmpp5irpzo7/src.macosx-10.12-x86_64-3.6/mylapackmodule.o /var/folders/56/lhgl67bx4qj6tvjx41b1wgdr0000gn/T/tmpp5irpzo7/var/folders/56/lhgl67bx4qj6tvjx41b1wgdr0000gn/T/tmpp5irpzo7/src.macosx-10.12-x86_64-3.6/fortranobject.o -L/usr/local/lib -L/usr/local/opt/openssl/lib -L/usr/local/opt/sqlite/lib -llapack -o ./mylapack.cpython-36m-darwin.so\u001b[0m\n",
      "Removing build directory /var/folders/56/lhgl67bx4qj6tvjx41b1wgdr0000gn/T/tmpp5irpzo7\n"
     ]
    }
   ],
   "source": [
    "!f2py -c dgemm.pyf -llapack"
   ]
  },
  {
   "cell_type": "code",
   "execution_count": 27,
   "metadata": {
    "slideshow": {
     "slide_type": "slide"
    }
   },
   "outputs": [
    {
     "name": "stdout",
     "output_type": "stream",
     "text": [
      "a= [[7 8]\n",
      " [3 4]\n",
      " [1 2]]\n",
      "b= [[1 2 3]\n",
      " [4 5 6]]\n",
      "[[ 39.  54.  69.]\n",
      " [ 19.  26.  33.]\n",
      " [  9.  12.  15.]]\n"
     ]
    },
    {
     "data": {
      "text/plain": [
       "True"
      ]
     },
     "execution_count": 27,
     "metadata": {},
     "output_type": "execute_result"
    }
   ],
   "source": [
    "import numpy as np\n",
    "import mylapack\n",
    "a = np.array([[7,8],[3,4],[1,2]])\n",
    "b = np.array([[1,2,3],[4,5,6]])\n",
    "print(\"a=\",a) \n",
    "print(\"b=\",b)\n",
    "assert a.shape[1] == b.shape[0]\n",
    "c = np.zeros((a.shape[0],b.shape[1]),'d',order='F')\n",
    "mylapack.dgemm('N','N',a.shape[0],b.shape[1],a.shape[1],1.0,a,b,1.0,c)\n",
    "print(c)\n",
    "np.all(c == a @ b) # check with numpy matrix multiplication "
   ]
  },
  {
   "cell_type": "markdown",
   "metadata": {
    "slideshow": {
     "slide_type": "slide"
    }
   },
   "source": [
    "```fortran\n",
    "python module mylapack2 ! in \n",
    "    interface  ! in :mylapack\n",
    "        subroutine dgemm(transa,transb,m,n,k,alpha,a,lda,b,ldb,beta,c,ldc)\n",
    "            character, optional :: transa = 'N'\n",
    "            character, optional :: transb = 'N'\n",
    "            integer, optional :: m = shape(a,0)\n",
    "            integer, optional :: n = shape(b,1)\n",
    "            integer, optional, check(shape(b,0)==k) :: k = shape(a,1)\n",
    "            double precision, optional :: alpha = 1.\n",
    "            double precision dimension(lda,*) :: a\n",
    "            integer optional,check(shape(a,0)==lda),depend(a) :: lda=shape(a,0)\n",
    "            double precision dimension(ldb,*) :: b\n",
    "            integer optional,check(shape(b,0)==ldb),depend(b) :: ldb=shape(b,0)\n",
    "            double precision, optional :: beta = 1.\n",
    "            double precision dimension(shape(a,0),shape(b,1)), intent(out) :: c\n",
    "            integer optional :: ldc=shape(a,0)\n",
    "        end subroutine dgemm\n",
    "    end interface \n",
    "end python module mylapack2\n",
    "```"
   ]
  },
  {
   "cell_type": "markdown",
   "metadata": {
    "slideshow": {
     "slide_type": "slide"
    }
   },
   "source": [
    "# Création du module python"
   ]
  },
  {
   "cell_type": "code",
   "execution_count": 28,
   "metadata": {
    "slideshow": {
     "slide_type": "fragment"
    }
   },
   "outputs": [
    {
     "name": "stdout",
     "output_type": "stream",
     "text": [
      "\u001b[39mrunning build\u001b[0m\n",
      "\u001b[39mrunning config_cc\u001b[0m\n",
      "\u001b[39munifing config_cc, config, build_clib, build_ext, build commands --compiler options\u001b[0m\n",
      "\u001b[39mrunning config_fc\u001b[0m\n",
      "\u001b[39munifing config_fc, config, build_clib, build_ext, build commands --fcompiler options\u001b[0m\n",
      "\u001b[39mrunning build_src\u001b[0m\n",
      "\u001b[39mbuild_src\u001b[0m\n",
      "\u001b[39mbuilding extension \"mylapack2\" sources\u001b[0m\n",
      "\u001b[39mcreating /var/folders/56/lhgl67bx4qj6tvjx41b1wgdr0000gn/T/tmpka_uxhnf/src.macosx-10.12-x86_64-3.6\u001b[0m\n",
      "\u001b[39mcreating /var/folders/56/lhgl67bx4qj6tvjx41b1wgdr0000gn/T/tmpka_uxhnf/src.macosx-10.12-x86_64-3.6/solutions\u001b[0m\n",
      "\u001b[39mf2py options: []\u001b[0m\n",
      "\u001b[39mf2py: solutions/dgemm.pyf\u001b[0m\n",
      "Reading fortran codes...\n",
      "\tReading file 'solutions/dgemm.pyf' (format:free)\n",
      "Post-processing...\n",
      "\tBlock: mylapack2\n",
      "\t\t\tBlock: dgemm\n",
      "Post-processing (stage 2)...\n",
      "Building modules...\n",
      "\tBuilding module \"mylapack2\"...\n",
      "\t\tConstructing wrapper function \"dgemm\"...\n",
      "getarrdims:warning: assumed shape array, using 0 instead of '*'\n",
      "getarrdims:warning: assumed shape array, using 0 instead of '*'\n",
      "\t\t  c = dgemm(a,b,[transa,transb,m,n,k,alpha,lda,ldb,beta,ldc])\n",
      "\tWrote C/API module \"mylapack2\" to file \"/var/folders/56/lhgl67bx4qj6tvjx41b1wgdr0000gn/T/tmpka_uxhnf/src.macosx-10.12-x86_64-3.6/solutions/mylapack2module.c\"\n",
      "\u001b[39m  adding '/var/folders/56/lhgl67bx4qj6tvjx41b1wgdr0000gn/T/tmpka_uxhnf/src.macosx-10.12-x86_64-3.6/solutions/fortranobject.c' to sources.\u001b[0m\n",
      "\u001b[39m  adding '/var/folders/56/lhgl67bx4qj6tvjx41b1wgdr0000gn/T/tmpka_uxhnf/src.macosx-10.12-x86_64-3.6/solutions' to include_dirs.\u001b[0m\n",
      "\u001b[39mcopying /usr/local/lib/python3.6/site-packages/numpy/f2py/src/fortranobject.c -> /var/folders/56/lhgl67bx4qj6tvjx41b1wgdr0000gn/T/tmpka_uxhnf/src.macosx-10.12-x86_64-3.6/solutions\u001b[0m\n",
      "\u001b[39mcopying /usr/local/lib/python3.6/site-packages/numpy/f2py/src/fortranobject.h -> /var/folders/56/lhgl67bx4qj6tvjx41b1wgdr0000gn/T/tmpka_uxhnf/src.macosx-10.12-x86_64-3.6/solutions\u001b[0m\n",
      "\u001b[39mbuild_src: building npy-pkg config files\u001b[0m\n",
      "\u001b[39mrunning build_ext\u001b[0m\n",
      "\u001b[39mcustomize UnixCCompiler\u001b[0m\n",
      "\u001b[39mcustomize UnixCCompiler using build_ext\u001b[0m\n",
      "\u001b[39mbuilding 'mylapack2' extension\u001b[0m\n",
      "\u001b[39mcompiling C sources\u001b[0m\n",
      "\u001b[39mC compiler: gcc-7 -Wno-unused-result -Wsign-compare -Wunreachable-code -fno-common -dynamic -DNDEBUG -g -fwrapv -O3 -Wall -Wstrict-prototypes\n",
      "\u001b[0m\n",
      "\u001b[39mcreating /var/folders/56/lhgl67bx4qj6tvjx41b1wgdr0000gn/T/tmpka_uxhnf/var\u001b[0m\n",
      "\u001b[39mcreating /var/folders/56/lhgl67bx4qj6tvjx41b1wgdr0000gn/T/tmpka_uxhnf/var/folders\u001b[0m\n",
      "\u001b[39mcreating /var/folders/56/lhgl67bx4qj6tvjx41b1wgdr0000gn/T/tmpka_uxhnf/var/folders/56\u001b[0m\n",
      "\u001b[39mcreating /var/folders/56/lhgl67bx4qj6tvjx41b1wgdr0000gn/T/tmpka_uxhnf/var/folders/56/lhgl67bx4qj6tvjx41b1wgdr0000gn\u001b[0m\n",
      "\u001b[39mcreating /var/folders/56/lhgl67bx4qj6tvjx41b1wgdr0000gn/T/tmpka_uxhnf/var/folders/56/lhgl67bx4qj6tvjx41b1wgdr0000gn/T\u001b[0m\n",
      "\u001b[39mcreating /var/folders/56/lhgl67bx4qj6tvjx41b1wgdr0000gn/T/tmpka_uxhnf/var/folders/56/lhgl67bx4qj6tvjx41b1wgdr0000gn/T/tmpka_uxhnf\u001b[0m\n",
      "\u001b[39mcreating /var/folders/56/lhgl67bx4qj6tvjx41b1wgdr0000gn/T/tmpka_uxhnf/var/folders/56/lhgl67bx4qj6tvjx41b1wgdr0000gn/T/tmpka_uxhnf/src.macosx-10.12-x86_64-3.6\u001b[0m\n",
      "\u001b[39mcreating /var/folders/56/lhgl67bx4qj6tvjx41b1wgdr0000gn/T/tmpka_uxhnf/var/folders/56/lhgl67bx4qj6tvjx41b1wgdr0000gn/T/tmpka_uxhnf/src.macosx-10.12-x86_64-3.6/solutions\u001b[0m\n",
      "\u001b[39mcompile options: '-I/var/folders/56/lhgl67bx4qj6tvjx41b1wgdr0000gn/T/tmpka_uxhnf/src.macosx-10.12-x86_64-3.6/solutions -I/usr/local/lib/python3.6/site-packages/numpy/core/include -I/usr/local/include -I/usr/local/opt/openssl/include -I/usr/local/opt/sqlite/include -I/usr/local/Cellar/python3/3.6.3/Frameworks/Python.framework/Versions/3.6/include/python3.6m -c'\u001b[0m\n",
      "\u001b[39mgcc-7: /var/folders/56/lhgl67bx4qj6tvjx41b1wgdr0000gn/T/tmpka_uxhnf/src.macosx-10.12-x86_64-3.6/solutions/mylapack2module.c\u001b[0m\n",
      "In file included from /usr/local/lib/python3.6/site-packages/numpy/core/include/numpy/ndarraytypes.h:1809:0,\n",
      "                 from /usr/local/lib/python3.6/site-packages/numpy/core/include/numpy/ndarrayobject.h:18,\n",
      "                 from /usr/local/lib/python3.6/site-packages/numpy/core/include/numpy/arrayobject.h:4,\n",
      "                 from /var/folders/56/lhgl67bx4qj6tvjx41b1wgdr0000gn/T/tmpka_uxhnf/src.macosx-10.12-x86_64-3.6/solutions/fortranobject.h:13,\n",
      "                 from /var/folders/56/lhgl67bx4qj6tvjx41b1wgdr0000gn/T/tmpka_uxhnf/src.macosx-10.12-x86_64-3.6/solutions/mylapack2module.c:19:\n",
      "/usr/local/lib/python3.6/site-packages/numpy/core/include/numpy/npy_1_7_deprecated_api.h:15:2: warning: #warning \"Using deprecated NumPy API, disable it by \" \"#defining NPY_NO_DEPRECATED_API NPY_1_7_API_VERSION\" [-Wcpp]\n",
      " #warning \"Using deprecated NumPy API, disable it by \" \\\n",
      "  ^~~~~~~\n",
      "/var/folders/56/lhgl67bx4qj6tvjx41b1wgdr0000gn/T/tmpka_uxhnf/src.macosx-10.12-x86_64-3.6/solutions/mylapack2module.c:145:12: warning: 'f2py_size' defined but not used [-Wunused-function]\n",
      " static int f2py_size(PyArrayObject* var, ...)\n",
      "            ^~~~~~~~~\n",
      "\u001b[39mgcc-7: /var/folders/56/lhgl67bx4qj6tvjx41b1wgdr0000gn/T/tmpka_uxhnf/src.macosx-10.12-x86_64-3.6/solutions/fortranobject.c\u001b[0m\n",
      "In file included from /usr/local/lib/python3.6/site-packages/numpy/core/include/numpy/ndarraytypes.h:1809:0,\n",
      "                 from /usr/local/lib/python3.6/site-packages/numpy/core/include/numpy/ndarrayobject.h:18,\n",
      "                 from /usr/local/lib/python3.6/site-packages/numpy/core/include/numpy/arrayobject.h:4,\n",
      "                 from /var/folders/56/lhgl67bx4qj6tvjx41b1wgdr0000gn/T/tmpka_uxhnf/src.macosx-10.12-x86_64-3.6/solutions/fortranobject.h:13,\n",
      "                 from /var/folders/56/lhgl67bx4qj6tvjx41b1wgdr0000gn/T/tmpka_uxhnf/src.macosx-10.12-x86_64-3.6/solutions/fortranobject.c:2:\n",
      "/usr/local/lib/python3.6/site-packages/numpy/core/include/numpy/npy_1_7_deprecated_api.h:15:2: warning: #warning \"Using deprecated NumPy API, disable it by \" \"#defining NPY_NO_DEPRECATED_API NPY_1_7_API_VERSION\" [-Wcpp]\n",
      " #warning \"Using deprecated NumPy API, disable it by \" \\\n",
      "  ^~~~~~~\n",
      "/var/folders/56/lhgl67bx4qj6tvjx41b1wgdr0000gn/T/tmpka_uxhnf/src.macosx-10.12-x86_64-3.6/solutions/fortranobject.c: In function 'format_def':\n",
      "/var/folders/56/lhgl67bx4qj6tvjx41b1wgdr0000gn/T/tmpka_uxhnf/src.macosx-10.12-x86_64-3.6/solutions/fortranobject.c:138:18: warning: comparison between signed and unsigned integer expressions [-Wsign-compare]\n",
      "         if (size < sizeof(notalloc)) {\n",
      "                  ^\n",
      "\u001b[39mgcc-7 -bundle -undefined dynamic_lookup /var/folders/56/lhgl67bx4qj6tvjx41b1wgdr0000gn/T/tmpka_uxhnf/var/folders/56/lhgl67bx4qj6tvjx41b1wgdr0000gn/T/tmpka_uxhnf/src.macosx-10.12-x86_64-3.6/solutions/mylapack2module.o /var/folders/56/lhgl67bx4qj6tvjx41b1wgdr0000gn/T/tmpka_uxhnf/var/folders/56/lhgl67bx4qj6tvjx41b1wgdr0000gn/T/tmpka_uxhnf/src.macosx-10.12-x86_64-3.6/solutions/fortranobject.o -L/usr/local/lib -L/usr/local/opt/openssl/lib -L/usr/local/opt/sqlite/lib -llapack -o ./mylapack2.cpython-36m-darwin.so\u001b[0m\n",
      "Removing build directory /var/folders/56/lhgl67bx4qj6tvjx41b1wgdr0000gn/T/tmpka_uxhnf\n"
     ]
    }
   ],
   "source": [
    "!f2py -c solutions/dgemm.pyf -llapack --f90flags=-O3"
   ]
  },
  {
   "cell_type": "code",
   "execution_count": 29,
   "metadata": {
    "slideshow": {
     "slide_type": "slide"
    }
   },
   "outputs": [
    {
     "data": {
      "text/plain": [
       "True"
      ]
     },
     "execution_count": 29,
     "metadata": {},
     "output_type": "execute_result"
    }
   ],
   "source": [
    "import mylapack2\n",
    "a = np.array([[7,8],[3,4],[1,2]])\n",
    "b = np.array([[1,2,3],[4,5,6]])\n",
    "c = mylapack2.dgemm(a,b)\n",
    "np.all( c == a @ b)"
   ]
  },
  {
   "cell_type": "markdown",
   "metadata": {
    "slideshow": {
     "slide_type": "slide"
    }
   },
   "source": [
    "## Check performance between numpy and mylapack"
   ]
  },
  {
   "cell_type": "code",
   "execution_count": 30,
   "metadata": {
    "slideshow": {
     "slide_type": "fragment"
    }
   },
   "outputs": [],
   "source": [
    "a = np.random.random((512,128))\n",
    "b = np.random.random((128,512))"
   ]
  },
  {
   "cell_type": "code",
   "execution_count": 31,
   "metadata": {
    "slideshow": {
     "slide_type": "fragment"
    }
   },
   "outputs": [
    {
     "name": "stdout",
     "output_type": "stream",
     "text": [
      "954 µs ± 83.6 µs per loop (mean ± std. dev. of 7 runs, 1000 loops each)\n"
     ]
    }
   ],
   "source": [
    "%timeit c = mylapack2.dgemm(a,b)"
   ]
  },
  {
   "cell_type": "code",
   "execution_count": 32,
   "metadata": {
    "slideshow": {
     "slide_type": "fragment"
    }
   },
   "outputs": [
    {
     "name": "stdout",
     "output_type": "stream",
     "text": [
      "649 µs ± 4.8 µs per loop (mean ± std. dev. of 7 runs, 1000 loops each)\n"
     ]
    }
   ],
   "source": [
    "%timeit c = a @ b"
   ]
  },
  {
   "cell_type": "markdown",
   "metadata": {
    "slideshow": {
     "slide_type": "slide"
    }
   },
   "source": [
    "**Fortran arrays allocated in a subroutine share same memory in Python**"
   ]
  },
  {
   "cell_type": "code",
   "execution_count": 33,
   "metadata": {
    "slideshow": {
     "slide_type": "fragment"
    }
   },
   "outputs": [],
   "source": [
    "%%fortran\n",
    "module f90module\n",
    "   implicit none\n",
    "   real(8), dimension(:),   allocatable :: farray\n",
    "contains\n",
    "   subroutine init( n ) !Allocation du tableau farray\n",
    "   integer, intent(in) :: n\n",
    "   allocate(farray(n))\n",
    "   end subroutine init\n",
    "end module f90module"
   ]
  },
  {
   "cell_type": "code",
   "execution_count": 34,
   "metadata": {
    "slideshow": {
     "slide_type": "fragment"
    }
   },
   "outputs": [
    {
     "data": {
      "text/plain": [
       "10"
      ]
     },
     "execution_count": 34,
     "metadata": {},
     "output_type": "execute_result"
    }
   ],
   "source": [
    "f90module.init(10)\n",
    "len(f90module.farray)"
   ]
  },
  {
   "cell_type": "markdown",
   "metadata": {
    "slideshow": {
     "slide_type": "slide"
    }
   },
   "source": [
    "**Numpy arrays allocated in Python passed to Fortran are already allocated**"
   ]
  },
  {
   "cell_type": "code",
   "execution_count": 35,
   "metadata": {
    "slideshow": {
     "slide_type": "fragment"
    }
   },
   "outputs": [],
   "source": [
    "%%fortran\n",
    "module f90module\n",
    "   implicit none\n",
    "   real(8), dimension(:),   allocatable :: farray\n",
    "contains\n",
    "   subroutine test_array( allocated_flag, array_size )\n",
    "   logical, intent(out) :: allocated_flag\n",
    "   integer, intent(out) :: array_size\n",
    "   allocated_flag = allocated(farray)\n",
    "   array_size = size(farray)\n",
    "   end subroutine test_array\n",
    "end module f90module"
   ]
  },
  {
   "cell_type": "code",
   "execution_count": 36,
   "metadata": {
    "slideshow": {
     "slide_type": "fragment"
    }
   },
   "outputs": [
    {
     "data": {
      "text/plain": [
       "(1, 10)"
      ]
     },
     "execution_count": 36,
     "metadata": {},
     "output_type": "execute_result"
    }
   ],
   "source": [
    "f90module.farray = np.random.rand(10).astype(np.float64)\n",
    "f90module.test_array()"
   ]
  },
  {
   "cell_type": "markdown",
   "metadata": {
    "slideshow": {
     "slide_type": "slide"
    }
   },
   "source": [
    "# Derived type"
   ]
  },
  {
   "cell_type": "code",
   "execution_count": 39,
   "metadata": {
    "slideshow": {
     "slide_type": "fragment"
    }
   },
   "outputs": [],
   "source": [
    "%%fortran\n",
    "module mesh\n",
    "implicit none\n",
    "type :: geometry\n",
    "   real(8) :: x0, x1, dx    ! coordinates of origin and grid size\n",
    "   integer :: nx               ! number of grid points\n",
    "   real(8), dimension(:), pointer :: xgrid  ! coordinates of points\n",
    "end type geometry\n",
    "\n",
    "contains\n",
    "\n",
    "subroutine create(geom,x0,nx,dx) \n",
    "!f2py integer, intent(out) :: geom\n",
    "type(geometry), pointer :: geom\n",
    "real(8), intent(in) :: x0, dx\n",
    "integer, intent(in) :: nx\n",
    "integer :: i   \n",
    "allocate(geom)\n",
    "geom%x0=x0\n",
    "geom%x1=x0+nx*dx\n",
    "geom%dx=dx\n",
    "geom%nx=nx\n",
    "allocate(geom%xgrid(nx))\n",
    "do i=1,nx\n",
    "   geom%xgrid(i)=geom%x0+(i-1)*geom%dx\n",
    "end do\n",
    "end subroutine create\n",
    "\n",
    "subroutine view(this)\n",
    "!f2py integer, intent(in) :: this\n",
    "type(geometry),pointer :: this\n",
    "print*, 'nx = ', this%nx\n",
    "print*, this%x0,this%x1\n",
    "print*, this%xgrid(:)\n",
    "end subroutine view\n",
    "\n",
    "end module mesh"
   ]
  },
  {
   "cell_type": "code",
   "execution_count": null,
   "metadata": {
    "slideshow": {
     "slide_type": "slide"
    }
   },
   "outputs": [],
   "source": [
    "geom = mesh.create(0.0,10,0.1)\n",
    "mesh.view(geom)"
   ]
  },
  {
   "cell_type": "markdown",
   "metadata": {
    "slideshow": {
     "slide_type": "slide"
    }
   },
   "source": [
    "# f2py + OpenMP\n",
    "\n"
   ]
  },
  {
   "cell_type": "code",
   "execution_count": 58,
   "metadata": {},
   "outputs": [],
   "source": [
    "import os\n",
    "os.environ['CC'] = 'gcc-7' # for mac users"
   ]
  },
  {
   "cell_type": "code",
   "execution_count": 37,
   "metadata": {
    "slideshow": {
     "slide_type": "fragment"
    }
   },
   "outputs": [],
   "source": [
    "%%fortran \n",
    "subroutine hello( )\n",
    "integer :: i\n",
    "do i = 1, 4\n",
    "   call sleep(1)\n",
    "end do\n",
    "end subroutine"
   ]
  },
  {
   "cell_type": "code",
   "execution_count": 38,
   "metadata": {
    "slideshow": {
     "slide_type": "fragment"
    }
   },
   "outputs": [
    {
     "name": "stdout",
     "output_type": "stream",
     "text": [
      "CPU times: user 10.8 ms, sys: 41.1 ms, total: 51.9 ms\n",
      "Wall time: 4.01 s\n"
     ]
    }
   ],
   "source": [
    "%%time\n",
    "hello()"
   ]
  },
  {
   "cell_type": "code",
   "execution_count": 39,
   "metadata": {
    "slideshow": {
     "slide_type": "slide"
    }
   },
   "outputs": [],
   "source": [
    "%%fortran --f90flags \"-fopenmp\" --extra \"-L/usr/local/lib -lgomp\"\n",
    "subroutine hello_omp( )\n",
    "\n",
    "integer :: i\n",
    "!$OMP PARALLEL PRIVATE(I)\n",
    "!$OMP DO \n",
    "do i = 1, 4\n",
    "   call sleep(1)\n",
    "end do\n",
    "!$OMP END DO\n",
    "!$OMP END PARALLEL\n",
    "\n",
    "end subroutine\n"
   ]
  },
  {
   "cell_type": "code",
   "execution_count": 40,
   "metadata": {
    "slideshow": {
     "slide_type": "fragment"
    }
   },
   "outputs": [
    {
     "name": "stdout",
     "output_type": "stream",
     "text": [
      "CPU times: user 3 ms, sys: 9.91 ms, total: 12.9 ms\n",
      "Wall time: 1.01 s\n"
     ]
    }
   ],
   "source": [
    "%%time\n",
    "hello_omp()"
   ]
  },
  {
   "cell_type": "markdown",
   "metadata": {
    "slideshow": {
     "slide_type": "slide"
    }
   },
   "source": [
    "# Conclusions\n",
    "\n",
    "- Easy to use, it works with modern fortran, legacy fortran and also C.\n",
    "- Works with common and modules and arrays dynamically allocated.\n",
    "- Python function callback can be very useful combined with Sympy\n",
    "- Documentation is  automatically generated\n",
    "- All fortran compilers are supported: GNU, Portland, Sun, Intel,...\n",
    "- F2py is integrated in numpy library.\n",
    "\n",
    "## cons \n",
    "- Derived types and fortran pointers are not well supported.\n",
    "- Absolutely not compatible with fortran 2003-2008 new features (classes)\n",
    "- f2py is maintained but not really improved. Development is stopped."
   ]
  },
  {
   "cell_type": "markdown",
   "metadata": {
    "slideshow": {
     "slide_type": "slide"
    }
   },
   "source": [
    "# distutils\n",
    "\n",
    "## setup.py\n",
    "```python\n",
    "from numpy.distutils.core import Extension, setup\n",
    "ext1 = Extension(name = 'scalar',\n",
    "                 sources = ['scalar.f'])\n",
    "ext2 = Extension(name = 'fib2',\n",
    "                 sources = ['fib2.pyf','fib1.f'])\n",
    "\n",
    "setup(name = 'f2py_example', ext_modules = [ext1,ext2])\n",
    "```\n",
    "Compilation\n",
    "```bash\n",
    "python3 setup.py build_ext --inplace\n",
    "```"
   ]
  },
  {
   "cell_type": "markdown",
   "metadata": {
    "slideshow": {
     "slide_type": "slide"
    }
   },
   "source": [
    "# Ressources\n",
    "- [Transparents E. Sonnendrücker](http://calcul.math.cnrs.fr/Documents/Journees/dec2006/python-fortran.pdf)\n",
    "- [SciPy](http://www.scipy.org/F2py)\n",
    "- [Documentation Sagemath](http://www.sagemath.org/doc/numerical_sage/f2py.html) \n",
    "- Hans Petter Langtangen.*Python Scripting for Computational Science*. Springer 2004\n"
   ]
  }
 ],
 "metadata": {
  "celltoolbar": "Slideshow",
  "kernelspec": {
   "display_name": "Python 3",
   "language": "python",
   "name": "python3"
  },
  "language_info": {
   "codemirror_mode": {
    "name": "ipython",
    "version": 3
   },
   "file_extension": ".py",
   "mimetype": "text/x-python",
   "name": "python",
   "nbconvert_exporter": "python",
   "pygments_lexer": "ipython3",
   "version": "3.6.3"
  }
 },
 "nbformat": 4,
 "nbformat_minor": 2
}
