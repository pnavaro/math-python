{
 "cells": [
  {
   "cell_type": "markdown",
   "metadata": {
    "collapsed": true,
    "slideshow": {
     "slide_type": "slide"
    }
   },
   "source": [
    "Pierre Navaro - [Institut de Recherche Mathématique de Rennes](https://irmar.univ-rennes1.fr) - [CNRS](http://www.cnrs.fr/)"
   ]
  },
  {
   "cell_type": "code",
   "execution_count": 1,
   "metadata": {
    "slideshow": {
     "slide_type": "slide"
    }
   },
   "outputs": [],
   "source": [
    "%matplotlib inline\n",
    "%config InlineBackend.figure_format = 'retina'\n",
    "import matplotlib.pyplot as plt\n",
    "import scipy.fftpack as sf\n",
    "import scipy.linalg as sl\n",
    "import numpy as np\n"
   ]
  },
  {
   "cell_type": "code",
   "execution_count": 2,
   "metadata": {
    "slideshow": {
     "slide_type": "fragment"
    }
   },
   "outputs": [
    {
     "name": "stderr",
     "output_type": "stream",
     "text": [
      "/usr/local/lib/python3.6/site-packages/fortranmagic.py:147: UserWarning: get_ipython_cache_dir has moved to the IPython.paths module since IPython 4.0.\n",
      "  self._lib_dir = os.path.join(get_ipython_cache_dir(), 'fortran')\n"
     ]
    },
    {
     "data": {
      "application/javascript": [
       "$.getScript(\"https://raw.github.com/marijnh/CodeMirror/master/mode/fortran/fortran.js\", function () {\n",
       "IPython.config.cell_magic_highlight['magic_fortran'] = {'reg':[/^%%fortran/]};});\n"
      ]
     },
     "metadata": {},
     "output_type": "display_data"
    }
   ],
   "source": [
    "%load_ext fortranmagic"
   ]
  },
  {
   "cell_type": "markdown",
   "metadata": {
    "slideshow": {
     "slide_type": "slide"
    }
   },
   "source": [
    "# Introduction\n",
    "\n",
    "Python poss\\`ede un certain nombre d'avantages :\n",
    "- Langage simple, interpr\\'et\\'e avec une syntaxe claire.\n",
    "- Facile \\`a programmer et la gestion de la m\\'emoire est automatique.\n",
    "- Open source, gratuit et portable.\n",
    "- Dispose de nombreux modules pour le calcul scientifique.\n",
    "\n"
   ]
  },
  {
   "cell_type": "markdown",
   "metadata": {
    "slideshow": {
     "slide_type": "fragment"
    }
   },
   "source": [
    "Il est n\\'eanmoins trop lent pour les taches num\\'eriques intensives. Dans ce cas on peut l'interfacer avec C ou Fortran. \n",
    "Cette technique permet d'utiliser le meilleur des deux mondes:\n",
    "- Taches de pr\\'e et post-traitement en Python.\n",
    "- Parties num\\'eriques intensives en Fortran (ou C) "
   ]
  },
  {
   "cell_type": "markdown",
   "metadata": {
    "slideshow": {
     "slide_type": "slide"
    }
   },
   "source": [
    "# f2py\n",
    "f2py est fourni avec Numpy et trois m\\'ethodes pour cr\\'eer une interface sont propos\\'ees :\n",
    "- Interfacer des subroutines simples sans \\'ecrire de code suppl\\'ementaire.\n",
    "- Ajouter des directives pour f2py dans le source Fortran pour un interfa\\c{c}age plus complexe.\n",
    "- \\'Ecrire un fichier d'interface d\\'ecrivant les subroutines et les donn\\'ees \\`a interfacer. f2py g\\'en\\`ere automatiquement un fichier d'interface simple qu'on peut ensuite \\'editer et modifier. "
   ]
  },
  {
   "cell_type": "markdown",
   "metadata": {
    "slideshow": {
     "slide_type": "slide"
    }
   },
   "source": [
    "# Exemple de subroutine simple\n",
    "   \n",
    "## Calcul de la norme.\n",
    "   \n",
    "### Fortran 90/95 format libre"
   ]
  },
  {
   "cell_type": "code",
   "execution_count": 3,
   "metadata": {
    "slideshow": {
     "slide_type": "fragment"
    }
   },
   "outputs": [
    {
     "name": "stdout",
     "output_type": "stream",
     "text": [
      "Overwriting norme.f90\n"
     ]
    }
   ],
   "source": [
    "%%file norme.f90\n",
    "subroutine norme (a, b, c)\n",
    "real(8), intent(in) :: a, b\n",
    "real(8), intent(out) :: c \n",
    "c =\tsqrt (a*a+b*b) \n",
    "end subroutine norme"
   ]
  },
  {
   "cell_type": "markdown",
   "metadata": {},
   "source": [
    "### Fortran 77 format fixe"
   ]
  },
  {
   "cell_type": "code",
   "execution_count": 4,
   "metadata": {},
   "outputs": [
    {
     "name": "stdout",
     "output_type": "stream",
     "text": [
      "Overwriting norme.f\n"
     ]
    }
   ],
   "source": [
    "%%file norme.f\n",
    "      subroutine norme (a, b, c)\n",
    "      real*8 a,b,c\n",
    "Cf2py intent(out) c\n",
    "      c = sqrt (a*a+b*b) \n",
    "      end "
   ]
  },
  {
   "cell_type": "markdown",
   "metadata": {},
   "source": [
    "# Compilation et ex\\'ecution\n",
    "\n",
    "## G\\'en\\'eration de l'interface Python avec f2py\n"
   ]
  },
  {
   "cell_type": "code",
   "execution_count": 5,
   "metadata": {},
   "outputs": [
    {
     "name": "stdout",
     "output_type": "stream",
     "text": [
      "\u001b[39mrunning build\u001b[0m\n",
      "\u001b[39mrunning config_cc\u001b[0m\n",
      "\u001b[39munifing config_cc, config, build_clib, build_ext, build commands --compiler options\u001b[0m\n",
      "\u001b[39mrunning config_fc\u001b[0m\n",
      "\u001b[39munifing config_fc, config, build_clib, build_ext, build commands --fcompiler options\u001b[0m\n",
      "\u001b[39mrunning build_src\u001b[0m\n",
      "\u001b[39mbuild_src\u001b[0m\n",
      "\u001b[39mbuilding extension \"vect\" sources\u001b[0m\n",
      "\u001b[39mf2py options: []\u001b[0m\n",
      "\u001b[39mf2py:> /var/folders/mw/nwq5qyg56fl585pb9jw81_qc0000gn/T/tmpsolg3jud/src.macosx-10.12-x86_64-3.6/vectmodule.c\u001b[0m\n",
      "\u001b[39mcreating /var/folders/mw/nwq5qyg56fl585pb9jw81_qc0000gn/T/tmpsolg3jud/src.macosx-10.12-x86_64-3.6\u001b[0m\n",
      "Reading fortran codes...\n",
      "\tReading file 'norme.f90' (format:free)\n",
      "Post-processing...\n",
      "\tBlock: vect\n",
      "\t\t\tBlock: norme\n",
      "Post-processing (stage 2)...\n",
      "Building modules...\n",
      "\tBuilding module \"vect\"...\n",
      "\t\tConstructing wrapper function \"norme\"...\n",
      "\t\t  c = norme(a,b)\n",
      "\tWrote C/API module \"vect\" to file \"/var/folders/mw/nwq5qyg56fl585pb9jw81_qc0000gn/T/tmpsolg3jud/src.macosx-10.12-x86_64-3.6/vectmodule.c\"\n",
      "\u001b[39m  adding '/var/folders/mw/nwq5qyg56fl585pb9jw81_qc0000gn/T/tmpsolg3jud/src.macosx-10.12-x86_64-3.6/fortranobject.c' to sources.\u001b[0m\n",
      "\u001b[39m  adding '/var/folders/mw/nwq5qyg56fl585pb9jw81_qc0000gn/T/tmpsolg3jud/src.macosx-10.12-x86_64-3.6' to include_dirs.\u001b[0m\n",
      "\u001b[39mcopying /usr/local/lib/python3.6/site-packages/numpy/f2py/src/fortranobject.c -> /var/folders/mw/nwq5qyg56fl585pb9jw81_qc0000gn/T/tmpsolg3jud/src.macosx-10.12-x86_64-3.6\u001b[0m\n",
      "\u001b[39mcopying /usr/local/lib/python3.6/site-packages/numpy/f2py/src/fortranobject.h -> /var/folders/mw/nwq5qyg56fl585pb9jw81_qc0000gn/T/tmpsolg3jud/src.macosx-10.12-x86_64-3.6\u001b[0m\n",
      "\u001b[39mbuild_src: building npy-pkg config files\u001b[0m\n",
      "\u001b[39mrunning build_ext\u001b[0m\n",
      "\u001b[39mcustomize UnixCCompiler\u001b[0m\n",
      "\u001b[39mcustomize UnixCCompiler using build_ext\u001b[0m\n",
      "\u001b[39mcustomize Gnu95FCompiler\u001b[0m\n",
      "\u001b[39mFound executable /usr/local/bin/gfortran\u001b[0m\n",
      "\u001b[39mcustomize Gnu95FCompiler using build_ext\u001b[0m\n",
      "\u001b[39mbuilding 'vect' extension\u001b[0m\n",
      "\u001b[39mcompiling C sources\u001b[0m\n",
      "\u001b[39mC compiler: clang -Wno-unused-result -Wsign-compare -Wunreachable-code -fno-common -dynamic -DNDEBUG -g -fwrapv -O3 -Wall -Wstrict-prototypes\n",
      "\u001b[0m\n",
      "\u001b[39mcreating /var/folders/mw/nwq5qyg56fl585pb9jw81_qc0000gn/T/tmpsolg3jud/var\u001b[0m\n",
      "\u001b[39mcreating /var/folders/mw/nwq5qyg56fl585pb9jw81_qc0000gn/T/tmpsolg3jud/var/folders\u001b[0m\n",
      "\u001b[39mcreating /var/folders/mw/nwq5qyg56fl585pb9jw81_qc0000gn/T/tmpsolg3jud/var/folders/mw\u001b[0m\n",
      "\u001b[39mcreating /var/folders/mw/nwq5qyg56fl585pb9jw81_qc0000gn/T/tmpsolg3jud/var/folders/mw/nwq5qyg56fl585pb9jw81_qc0000gn\u001b[0m\n",
      "\u001b[39mcreating /var/folders/mw/nwq5qyg56fl585pb9jw81_qc0000gn/T/tmpsolg3jud/var/folders/mw/nwq5qyg56fl585pb9jw81_qc0000gn/T\u001b[0m\n",
      "\u001b[39mcreating /var/folders/mw/nwq5qyg56fl585pb9jw81_qc0000gn/T/tmpsolg3jud/var/folders/mw/nwq5qyg56fl585pb9jw81_qc0000gn/T/tmpsolg3jud\u001b[0m\n",
      "\u001b[39mcreating /var/folders/mw/nwq5qyg56fl585pb9jw81_qc0000gn/T/tmpsolg3jud/var/folders/mw/nwq5qyg56fl585pb9jw81_qc0000gn/T/tmpsolg3jud/src.macosx-10.12-x86_64-3.6\u001b[0m\n",
      "\u001b[39mcompile options: '-I/var/folders/mw/nwq5qyg56fl585pb9jw81_qc0000gn/T/tmpsolg3jud/src.macosx-10.12-x86_64-3.6 -I/usr/local/lib/python3.6/site-packages/numpy/core/include -I/usr/local/include -I/usr/local/opt/openssl/include -I/usr/local/opt/sqlite/include -I/usr/local/Cellar/python3/3.6.3/Frameworks/Python.framework/Versions/3.6/include/python3.6m -c'\u001b[0m\n",
      "\u001b[39mclang: /var/folders/mw/nwq5qyg56fl585pb9jw81_qc0000gn/T/tmpsolg3jud/src.macosx-10.12-x86_64-3.6/vectmodule.c\u001b[0m\n",
      "In file included from /var/folders/mw/nwq5qyg56fl585pb9jw81_qc0000gn/T/tmpsolg3jud/src.macosx-10.12-x86_64-3.6/vectmodule.c:18:\n",
      "In file included from /var/folders/mw/nwq5qyg56fl585pb9jw81_qc0000gn/T/tmpsolg3jud/src.macosx-10.12-x86_64-3.6/fortranobject.h:13:\n",
      "In file included from /usr/local/lib/python3.6/site-packages/numpy/core/include/numpy/arrayobject.h:4:\n",
      "In file included from /usr/local/lib/python3.6/site-packages/numpy/core/include/numpy/ndarrayobject.h:18:\n",
      "In file included from /usr/local/lib/python3.6/site-packages/numpy/core/include/numpy/ndarraytypes.h:1809:\n",
      "/usr/local/lib/python3.6/site-packages/numpy/core/include/numpy/npy_1_7_deprecated_api.h:15:2: warning: \"Using deprecated NumPy API, disable it by \"          \"#defining NPY_NO_DEPRECATED_API NPY_1_7_API_VERSION\" [-W#warnings]\n",
      "#warning \"Using deprecated NumPy API, disable it by \" \\\n",
      " ^\n",
      "1 warning generated.\n",
      "\u001b[39mclang: /var/folders/mw/nwq5qyg56fl585pb9jw81_qc0000gn/T/tmpsolg3jud/src.macosx-10.12-x86_64-3.6/fortranobject.c\u001b[0m\n",
      "In file included from /var/folders/mw/nwq5qyg56fl585pb9jw81_qc0000gn/T/tmpsolg3jud/src.macosx-10.12-x86_64-3.6/fortranobject.c:2:\n",
      "In file included from /var/folders/mw/nwq5qyg56fl585pb9jw81_qc0000gn/T/tmpsolg3jud/src.macosx-10.12-x86_64-3.6/fortranobject.h:13:\n",
      "In file included from /usr/local/lib/python3.6/site-packages/numpy/core/include/numpy/arrayobject.h:4:\n",
      "In file included from /usr/local/lib/python3.6/site-packages/numpy/core/include/numpy/ndarrayobject.h:18:\n",
      "In file included from /usr/local/lib/python3.6/site-packages/numpy/core/include/numpy/ndarraytypes.h:1809:\n",
      "/usr/local/lib/python3.6/site-packages/numpy/core/include/numpy/npy_1_7_deprecated_api.h:15:2: warning: \"Using deprecated NumPy API, disable it by \"          \"#defining NPY_NO_DEPRECATED_API NPY_1_7_API_VERSION\" [-W#warnings]\n",
      "#warning \"Using deprecated NumPy API, disable it by \" \\\n",
      " ^\n",
      "/var/folders/mw/nwq5qyg56fl585pb9jw81_qc0000gn/T/tmpsolg3jud/src.macosx-10.12-x86_64-3.6/fortranobject.c:138:18: warning: comparison of integers of different signs: 'Py_ssize_t' (aka 'long') and 'unsigned long' [-Wsign-compare]\n",
      "        if (size < sizeof(notalloc)) {\n",
      "            ~~~~ ^ ~~~~~~~~~~~~~~~~\n",
      "2 warnings generated.\n",
      "\u001b[39mcompiling Fortran sources\u001b[0m\n",
      "\u001b[39mFortran f77 compiler: /usr/local/bin/gfortran -Wall -g -ffixed-form -fno-second-underscore -fPIC -O3 -funroll-loops\n",
      "Fortran f90 compiler: /usr/local/bin/gfortran -O3 -fPIC -O3 -funroll-loops\n",
      "Fortran fix compiler: /usr/local/bin/gfortran -Wall -g -ffixed-form -fno-second-underscore -O3 -fPIC -O3 -funroll-loops\u001b[0m\n",
      "\u001b[39mcompile options: '-I/var/folders/mw/nwq5qyg56fl585pb9jw81_qc0000gn/T/tmpsolg3jud/src.macosx-10.12-x86_64-3.6 -I/usr/local/lib/python3.6/site-packages/numpy/core/include -I/usr/local/include -I/usr/local/opt/openssl/include -I/usr/local/opt/sqlite/include -I/usr/local/Cellar/python3/3.6.3/Frameworks/Python.framework/Versions/3.6/include/python3.6m -c'\u001b[0m\n",
      "\u001b[39mgfortran:f90: norme.f90\u001b[0m\n",
      "\u001b[39m/usr/local/bin/gfortran -Wall -g -Wall -g -undefined dynamic_lookup -bundle /var/folders/mw/nwq5qyg56fl585pb9jw81_qc0000gn/T/tmpsolg3jud/var/folders/mw/nwq5qyg56fl585pb9jw81_qc0000gn/T/tmpsolg3jud/src.macosx-10.12-x86_64-3.6/vectmodule.o /var/folders/mw/nwq5qyg56fl585pb9jw81_qc0000gn/T/tmpsolg3jud/var/folders/mw/nwq5qyg56fl585pb9jw81_qc0000gn/T/tmpsolg3jud/src.macosx-10.12-x86_64-3.6/fortranobject.o /var/folders/mw/nwq5qyg56fl585pb9jw81_qc0000gn/T/tmpsolg3jud/norme.o -L/usr/local/Cellar/gcc/7.2.0/lib/gcc/7/gcc/x86_64-apple-darwin16.7.0/7.2.0 -L/usr/local/lib -L/usr/local/opt/openssl/lib -L/usr/local/opt/sqlite/lib -lgfortran -o ./vect.cpython-36m-darwin.so\u001b[0m\n",
      "Removing build directory /var/folders/mw/nwq5qyg56fl585pb9jw81_qc0000gn/T/tmpsolg3jud\n"
     ]
    }
   ],
   "source": [
    "!f2py -c norme.f90 -m vect  --fcompiler=gnu95 --f90flags=-O3"
   ]
  },
  {
   "cell_type": "markdown",
   "metadata": {
    "slideshow": {
     "slide_type": "slide"
    }
   },
   "source": [
    "Appel depuis un shell Python"
   ]
  },
  {
   "cell_type": "code",
   "execution_count": 6,
   "metadata": {
    "slideshow": {
     "slide_type": "fragment"
    }
   },
   "outputs": [
    {
     "data": {
      "text/plain": [
       "5.0"
      ]
     },
     "execution_count": 6,
     "metadata": {},
     "output_type": "execute_result"
    }
   ],
   "source": [
    "import os\n",
    "#os.environ['LD_LIBRARY_PATH'] = \"/usr/local/lib/python3.6/site-packages/scipy/.dylibs/\"\n",
    "import vect\n",
    "c = vect.norme(3,4)\n",
    "c"
   ]
  },
  {
   "cell_type": "code",
   "execution_count": 7,
   "metadata": {},
   "outputs": [
    {
     "name": "stdout",
     "output_type": "stream",
     "text": [
      "c = norme(a,b)\n",
      "\n",
      "Wrapper for ``norme``.\n",
      "\n",
      "Parameters\n",
      "----------\n",
      "a : input float\n",
      "b : input float\n",
      "\n",
      "Returns\n",
      "-------\n",
      "c : float\n",
      "\n"
     ]
    }
   ],
   "source": [
    "#Documentation g\\'en\\'er\\'ee automatiquement par f2py\n",
    "\n",
    "print(vect.norme.__doc__)\n"
   ]
  },
  {
   "cell_type": "markdown",
   "metadata": {
    "slideshow": {
     "slide_type": "slide"
    }
   },
   "source": [
    "# Ajout de directive f2py dans le source Fortran\n",
    "Ces ajouts dans le code source fortran permettent  de pr\\'eciser le r\\^ole et la d\\'efinition des variables d'entr\\'es-sorties. Sont utilis\\'es:\n",
    "- Les attributs du F90.\n",
    "- Les attributs sp\\'ecifiques.py f2py."
   ]
  },
  {
   "cell_type": "code",
   "execution_count": 8,
   "metadata": {
    "slideshow": {
     "slide_type": "fragment"
    }
   },
   "outputs": [],
   "source": [
    "%%fortran \n",
    "subroutine norme(a,c,n) \n",
    "integer :: n \n",
    "real(8),dimension(n),intent(in) :: a\n",
    "!f2py optional , depend(a) :: n=len(a)\n",
    "real(8),intent(out) :: c \n",
    "real(8) :: sommec \n",
    "integer :: i\n",
    "sommec = 0 \n",
    "do i=1,n\n",
    "   sommec=sommec+a( i )*a( i ) \n",
    "end do\n",
    "c=sqrt (sommec) \n",
    "end subroutine norme"
   ]
  },
  {
   "cell_type": "markdown",
   "metadata": {
    "slideshow": {
     "slide_type": "slide"
    }
   },
   "source": [
    "# Liste Python ou tableau numpy en argument"
   ]
  },
  {
   "cell_type": "code",
   "execution_count": 9,
   "metadata": {},
   "outputs": [
    {
     "data": {
      "text/plain": [
       "list"
      ]
     },
     "execution_count": 9,
     "metadata": {},
     "output_type": "execute_result"
    }
   ],
   "source": [
    "a=[2,3,4]  # Une liste Python\n",
    "type(a)"
   ]
  },
  {
   "cell_type": "code",
   "execution_count": 10,
   "metadata": {},
   "outputs": [
    {
     "data": {
      "text/plain": [
       "5.385164807134504"
      ]
     },
     "execution_count": 10,
     "metadata": {},
     "output_type": "execute_result"
    }
   ],
   "source": [
    "norme(a)"
   ]
  },
  {
   "cell_type": "code",
   "execution_count": 11,
   "metadata": {},
   "outputs": [
    {
     "data": {
      "text/plain": [
       "numpy.ndarray"
      ]
     },
     "execution_count": 11,
     "metadata": {},
     "output_type": "execute_result"
    }
   ],
   "source": [
    "from numpy import * \n",
    "a=arange(2,5)  # Un tableau numpy\n",
    "type(a)\n"
   ]
  },
  {
   "cell_type": "code",
   "execution_count": 12,
   "metadata": {},
   "outputs": [
    {
     "data": {
      "text/plain": [
       "5.385164807134504"
      ]
     },
     "execution_count": 12,
     "metadata": {},
     "output_type": "execute_result"
    }
   ],
   "source": [
    "norme(a) "
   ]
  },
  {
   "cell_type": "code",
   "execution_count": 13,
   "metadata": {},
   "outputs": [
    {
     "name": "stdout",
     "output_type": "stream",
     "text": [
      "c = norme(a,[n])\n",
      "\n",
      "Wrapper for ``norme``.\n",
      "\n",
      "Parameters\n",
      "----------\n",
      "a : input rank-1 array('d') with bounds (n)\n",
      "\n",
      "Other Parameters\n",
      "----------------\n",
      "n : input int, optional\n",
      "    Default: len(a)\n",
      "\n",
      "Returns\n",
      "-------\n",
      "c : float\n",
      "\n"
     ]
    }
   ],
   "source": [
    "print(norme.__doc__) # Documentation"
   ]
  },
  {
   "cell_type": "markdown",
   "metadata": {},
   "source": [
    "# Utilisation d'un fichier signature\n",
    "\n",
    "- On peut g\\'en\\'erer automatiquement un fichier signature\n",
    "```bash\n",
    "f2py vecteur.f90 -h vecteur.pyf\n",
    "```\n",
    "- Contennu de vecteur.pynu de vecteur.pyf\n",
    "\n",
    "```fortran\n",
    "!    -*- f90 -*-\n",
    "! Note: the context of this file is case sensitive.\n",
    "\n",
    "subroutine norme(a,c,n) ! in norme.f90\n",
    "    real(kind=8) dimension(n),intent(in) :: a\n",
    "    real(kind=8) intent(out) :: c\n",
    "    integer optional,check(len(a)>=n),depend(a) :: n=len(a)\n",
    "end subroutine norme\n",
    "\n",
    "! This file was auto-generated with f2py (version:2).\n",
    "! See http://cens.ioc.ee/projects/f2py2e/\n",
    "```\n"
   ]
  },
  {
   "cell_type": "markdown",
   "metadata": {},
   "source": [
    "# Appel d'une fonction Python depuis Fortran\n",
    "\n",
    "- Possibilité d'utiliser une fonction issue d'un calcul symbolique (module  python sympy)\n",
    "\n"
   ]
  },
  {
   "cell_type": "code",
   "execution_count": 16,
   "metadata": {},
   "outputs": [],
   "source": [
    "%%fortran\n",
    "subroutine sommef (f ,n,s) \n",
    "!Calcule la somme (f(i), i=1,n) \n",
    "external f \n",
    "integer, intent(in) :: n \n",
    "real, intent(out) ::s\n",
    "s=0.0 \n",
    "do i=1,n\n",
    "   s=s+f(i)\n",
    "end do \n",
    "end subroutine sommef"
   ]
  },
  {
   "cell_type": "code",
   "execution_count": 17,
   "metadata": {},
   "outputs": [
    {
     "data": {
      "text/plain": [
       "14.0"
      ]
     },
     "execution_count": 17,
     "metadata": {},
     "output_type": "execute_result"
    }
   ],
   "source": [
    "def fonction(i) : return(i*i) \n",
    "sommef(fonction,3) \n"
   ]
  },
  {
   "cell_type": "code",
   "execution_count": 18,
   "metadata": {},
   "outputs": [
    {
     "data": {
      "text/plain": [
       "36.0"
      ]
     },
     "execution_count": 18,
     "metadata": {},
     "output_type": "execute_result"
    }
   ],
   "source": [
    "sommef(lambda x :x**3,3) "
   ]
  },
  {
   "cell_type": "code",
   "execution_count": 19,
   "metadata": {},
   "outputs": [],
   "source": [
    "# Les tableaux multi dimensionnels\n"
   ]
  },
  {
   "cell_type": "code",
   "execution_count": 23,
   "metadata": {},
   "outputs": [],
   "source": [
    "%%fortran --extra \"-DF2PY_REPORT_ON_ARRAY_COPY=1\"\n",
    "subroutine move( positions, vitesses, dt, n)\n",
    "integer, intent(in) :: n\n",
    "real(8), intent(in) :: dt\n",
    "real(8), dimension(n,3), intent(in) :: vitesses\n",
    "real(8), dimension(n,3) :: positions\n",
    "do i = 1, n\n",
    "  positions(i,:) = positions(i,:) + dt*vitesses(i,:)\n",
    "end do\n",
    "end subroutine move\n"
   ]
  },
  {
   "cell_type": "code",
   "execution_count": 27,
   "metadata": {},
   "outputs": [],
   "source": [
    "positions = [[0, 0, 0], [0, 0, 0], [0, 0, 0]]\n",
    "vitesses = [[0, 1, 2], [0, 3, 2], [0, 1, 3]]"
   ]
  },
  {
   "cell_type": "code",
   "execution_count": 28,
   "metadata": {},
   "outputs": [
    {
     "data": {
      "text/plain": [
       "[[0, 0, 0], [0, 0, 0], [0, 0, 0]]"
      ]
     },
     "execution_count": 28,
     "metadata": {},
     "output_type": "execute_result"
    }
   ],
   "source": [
    "\n",
    "move(positions, vitesses, 0.1)\n",
    "positions #le tableau n'est pas mis a jour, stockage C\n"
   ]
  },
  {
   "cell_type": "code",
   "execution_count": 30,
   "metadata": {},
   "outputs": [
    {
     "data": {
      "text/plain": [
       "array([[ 0. ,  0.1,  0.2],\n",
       "       [ 0. ,  0.3,  0.2],\n",
       "       [ 0. ,  0.1,  0.3]])"
      ]
     },
     "execution_count": 30,
     "metadata": {},
     "output_type": "execute_result"
    }
   ],
   "source": [
    "positions = np.array(positions, dtype='f8', order='F')\n",
    "move(positions, vitesses, 0.1)\n",
    "positions #le tableau est modifie, stockage Fortran "
   ]
  },
  {
   "cell_type": "markdown",
   "metadata": {},
   "source": [
    "# Quelques directives\n",
    "- $optional, required$. Cet attribut est automatique lorsqu'un argument poss\\`ede une valeur par d\\'efaut.\n",
    "- $intent(in | inout | out | hide)$ , $intent(in)$ par d\\'efaut.\n",
    "- $intent(out)$ devient automatiquement $intent(out,hide) $.\n",
    "- $intent(copy)$ et $intent(overwrite)$ permet de contr\\^oler les changements dans les arguments d'entr\\'ee.\n",
    "- $check$ permet de v\\'erifier les arguments. Souvent g\\'er\\'e automatiquement par f2py.\n",
    "- $depend$:  f2py d\\'etecte les d\\'ependances cycliques.\n",
    "- $allocatable, parameter$\n",
    "- $intent(callback), external$: pour les arguments de type fonction.\n",
    "- $intent(c)$ argument de type C, tableau ou fonction.\n",
    "- Expressions C: $rank, shape, len, size, slen.$\n"
   ]
  },
  {
   "cell_type": "markdown",
   "metadata": {},
   "source": [
    "# distutils\n",
    "\n",
    "## Exemple de setup.py\n",
    "```python\n",
    "#!/usr/bin/env python\n",
    "from numpy.distutils.core import Extension\n",
    "ext1 = Extension(name = 'scalar',\n",
    "                 sources = ['scalar.f'])\n",
    "ext2 = Extension(name = 'fib2',\n",
    "                 sources = ['fib2.pyf','fib1.f'])\n",
    "if __name__ == \"__main__\":\n",
    "    from numpy.distutils.core import setup\n",
    "    setup(name = 'f2py_example', ext_modules = [ext1,ext2])\n",
    "\n",
    "```"
   ]
  },
  {
   "cell_type": "markdown",
   "metadata": {},
   "source": [
    "# Appel d'une fonction lapack avec F2PY\n",
    "```bash\n",
    "f2py -m mylapack -h degmm.pyf dgemm.f\n",
    "```\n",
    "```fortran\n",
    "python module mylapack ! in \n",
    "interface  ! in :mylapack\n",
    "subroutine dgemm(transa,transb,m,n,k,alpha,a,lda,b,ldb,beta,c,ldc) \n",
    "character*1 :: transa, transb\n",
    "integer :: m, n, k\n",
    "double precision :: alpha, beta\n",
    "double precision dimension(lda,*) :: a\n",
    "integer optional,check(shape(a,0)==lda),depend(a) :: lda=shape(a,0)\n",
    "double precision dimension(ldb,*) :: b\n",
    "integer optional,check(shape(b,0)==ldb),depend(b) :: ldb=shape(b,0) \n",
    "double precision dimension(shape(a,0),shape(b,1)), intent(out) :: c\n",
    "integer optional,check(shape(c,0)==ldc),depend(c) :: ldc=shape(c,0)\n",
    "end subroutine dgemm\n",
    "end interface \n",
    "end python module mylapack\n",
    "```\n"
   ]
  },
  {
   "cell_type": "markdown",
   "metadata": {},
   "source": [
    "# Edition de liens avec lapack\n",
    "f2py permet d'utiliser une biblioth\\`eque \\'ecrite en Fortran sans modifier les sources.\n",
    "```bash\n",
    "f2py -c degmm.pyf -llapack\n",
    "```\n",
    "\n",
    "```python\n",
    "import numpy \n",
    "import mylapack\n",
    "a = numpy.array([[7,8],[3,4],[1,2]])\n",
    "b = numpy.array([[1,2,3],[4,5,6]])\n",
    "c = mylapack.dgemm('N','N',3,2,2,1.0,a,b,1.0)\n",
    "print c\n",
    "[[ 39.  54.  69.]\n",
    " [ 19.  26.  33.]\n",
    " [  9.  12.  15.]]\n",
    "print numpy.dot(a,b) #fonction numpy pour le produit de matrices\n",
    "[[39 54 69]\n",
    " [19 26 33]\n",
    " [ 9 12 15]]"
   ]
  },
  {
   "cell_type": "markdown",
   "metadata": {},
   "source": [
    "## Les tableaux allou\\'es dans le script Python seront allou\\'es dans le module Fortran\n",
    "\\begin{fortran}\n",
    "module f90module\n",
    "   implicit none\n",
    "   real(8), dimension(:),   allocatable :: farray\n",
    "contains\n",
    "   subroutine init( n ) !Allocation du tableau farray\n",
    "   integer, intent(in) :: n\n",
    "   allocate(farray(n))\n",
    "   end subroutine init\n",
    "end module f90module\n",
    "\\end{fortran}\n",
    "\\pause\n",
    "\\begin{lstlisting}\n",
    "f2py -m f90mod -c f90module.f90\n",
    "\\end{lstlisting}\n",
    "\\pause\n",
    "\\begin{python}\n",
    ">>> import f90mod as F\n",
    ">>> F.f90module.init(10)\n",
    ">>> len(F.f90module.farray)\n",
    "10\n",
    "\\end{python}\n",
    "\\end{frame}\n",
    "\n"
   ]
  },
  {
   "cell_type": "markdown",
   "metadata": {},
   "source": [
    "\\begin{frame}[fragile]{Les tableaux allou\\'es dans le module Fortran seront allou\\'es dans le script Python}\n",
    "\\begin{fortran}\n",
    "module f90module\n",
    "   implicit none\n",
    "   real(8), dimension(:),   allocatable :: farray\n",
    "contains\n",
    "   subroutine test_array()\n",
    "   print*, allocated(farray), size(farray)\n",
    "   end subroutine test_array\n",
    "end module f90module\n",
    "\\end{fortran}\n",
    "\\pause\n",
    "\\begin{lstlisting}\n",
    "f2py -m f90mod -c f90module.f90\n",
    "\\end{lstlisting}\n",
    "\\pause\n",
    "\\begin{python}\n",
    ">>> import numpy\n",
    ">>> import f90mod\n",
    ">>> f90mod.f90module.farray = numpy.random.rand(10).astype(numpy.float64)\n",
    ">>> f90mod.f90module.test_array()\n",
    " T          10\n",
    "\\end{python}\n",
    "\n",
    "\\end{frame}\n",
    "\n",
    "\\begin{frame}[fragile]{Encapsulation de donn\\'ees Fortran dans une classe Python}\n",
    "\\begin{fortran}\n",
    "module f90module\n",
    "   real(8), dimension(:),   allocatable :: masses\n",
    "   real(8), dimension(:,:),   allocatable :: positions, velocities\n",
    "contains\n",
    " subroutine init_data( n )\n",
    " ...\n",
    " end subroutine init_data\n",
    " \n",
    " subroutine calc_forces( forces, n)\n",
    " ...\n",
    " end subroutine calc_forces\n",
    "end module f90module\n",
    "\\end{fortran}\n",
    "\\end{frame}"
   ]
  },
  {
   "cell_type": "markdown",
   "metadata": {},
   "source": [
    "\\begin{frame}[fragile]{La classe Python}\n",
    "\\begin{python}\n",
    "class SolarSystem(object):\n",
    "   def __init__(self, masses, positions, velocities):\n",
    "      self.index       = 0\n",
    "      self.numberof    = len(masses)\n",
    "      self._masses     = masses\n",
    "      self._positions  = positions\n",
    "      self._velocities = velocities\n",
    "   @property \n",
    "   def mass (self):      \t  \n",
    "      return self._masses[self.index]\n",
    "   @property \n",
    "   def position (self):      \n",
    "      return self._positions[self.index]\n",
    "   @property \n",
    "   def velocity (self):      \n",
    "      return self._velocities[self.index]\n",
    "\\end{python}\n",
    "\\end{frame}\n",
    "\n"
   ]
  },
  {
   "cell_type": "markdown",
   "metadata": {},
   "source": [
    "\\begin{frame}[fragile]{Acc\\`es aux donn\\'ees Fortran}\n",
    "\\begin{python}\n",
    ">>> import f90mod as F\n",
    ">>> seystem = SolarSystem(F.f90module.masses, F.f90module.positions,F.f90module.velocities)\n",
    ">>> system.index = 0\n",
    ">>> system.mass \n",
    "1800262.614350586\n",
    ">>> system.position \n",
    "array([-1.24902032,  0.02831779,  0.04840533])\n",
    ">>> system.index = 1\n",
    ">>> system.mass \n",
    "0.29846375576171874\n",
    ">>> system.position \n",
    "array([-54.8958322, -34.85936287,-13.02314489])\n",
    "\\end{python}\n",
    "\\end{frame}"
   ]
  },
  {
   "cell_type": "markdown",
   "metadata": {},
   "source": [
    "\\begin{frame}[fragile]{Encapsulation de donn\\'ees Fortran dans une classe Python}\n",
    "\\begin{python}\n",
    "class SolarSystemList(object):\n",
    "   def __init__(self, solarsystem):\n",
    "      self.solarsystem = solarsystem\n",
    "      self.numberof = solarsystem.numberof\n",
    "   def __getitem__(self, index): \n",
    "      self.solarsystem.index = index \n",
    "      return self.solarsystem\n",
    "   def __len__(self): \n",
    "      return self.numberof\n",
    "   def __iter__(self): \n",
    "      for i in xrange(self.numberof):\n",
    "         self.solarsystem.index=i\n",
    "         yield self.solarsystem\n",
    "\\end{python}\n",
    "\\end{frame}"
   ]
  },
  {
   "cell_type": "markdown",
   "metadata": {},
   "source": [
    "\\begin{frame}[fragile]{Encapsulation de donn\\'ees Fortran dans une classe Python}\n",
    "\\begin{python}\n",
    ">>> systemList = SolarSystemList(system)\n",
    ">>> systemList[0].mass\n",
    "1800262.614350586\n",
    ">>> systemList[0].position \n",
    "array([-1.24902032,  0.02831779,  0.04840533])\n",
    "\\end{python}\n",
    "\\pause\n",
    "Nous pouvons ajouter des fonctions (conversion, nouvelles caract\\'eristiques, representation graphique,...)\n",
    "\\begin{python}\n",
    "class MySolarSystem(SolarSystem):\n",
    "    def density(self):\n",
    "        return self.mass / ( 4./3.*N.pi* self.radius **3)\n",
    "\\end{python}\n",
    "\\pause\n",
    "\\begin{python}\n",
    ">>>myss = MySolarSystem(F.f90wrap.masses,F.f90wrap.positions, \\\n",
    "...    F.f90wrap.velocities, F.f90wrap.radii)\n",
    ">>>myssList = SolarSystemList(myss)\n",
    ">>>print myssList[3].density()\n",
    "5138322.1813\n",
    "\\end{python}\n",
    "\\end{frame}"
   ]
  },
  {
   "cell_type": "markdown",
   "metadata": {},
   "source": [
    "\\begin{frame}[fragile]{Types d\\'eriv\\'es Fortran 90}\n",
    "\\begin{fortran}\n",
    "module mesh\n",
    "implicit none\n",
    "type :: geometry\n",
    "   real(8) :: x0, x1, dx    ! coordinates of origin and grid size\n",
    "   integer :: nx               ! number of grid points\n",
    "   real(8), dimension(:), pointer :: xgrid  ! coordinates of points\n",
    "end type geometry\n",
    "\n",
    "contains\n",
    "\n",
    "subroutine create(geom,x0,nx,dx) \n",
    "!f2py integer, intent(out) :: geom\n",
    "type(geometry), pointer :: geom\n",
    "real(8), intent(in) :: x0, dx\n",
    "integer, intent(in) :: nx\n",
    "integer :: i   \n",
    "allocate(geom)\n",
    "geom%x0=x0; geom%x1=x0+nx*dx; geom%dx=dx; geom%nx=nx\n",
    "allocate(geom%xgrid(nx))\n",
    "do i=1,nx\n",
    "   geom%xgrid(i)=geom%x0+(i-1)*geom%dx\n",
    "end do\n",
    "end subroutine create\n",
    "\\end{fortran}\n",
    "\\end{frame}"
   ]
  },
  {
   "cell_type": "markdown",
   "metadata": {},
   "source": [
    "\\begin{frame}[fragile]{Types d\\'eriv\\'es Fortran 90}\n",
    "\\begin{fortran}\n",
    "subroutine view(this)\n",
    "!f2py integer, intent(in) :: this\n",
    "type(geometry),pointer :: this\n",
    "print*, 'nx = ', this%nx\n",
    "print*, this%x0,this%x1\n",
    "print*, this%xgrid(:)\n",
    "end subroutine view\n",
    "\n",
    "end module mesh\n",
    "\\end{fortran}\n",
    "\\pause\n",
    "\\begin{python}\n",
    ">>> import test\n",
    ">>> geom = test.mesh.create(0.0,10,0.1)\n",
    ">>> test.mesh.view()\n",
    ">>> test.mesh.view(geom)\n",
    " nx =           10\n",
    "0.00000000000000000       1.0000000000000000         0.0000000000000000      \n",
    "0.10000000000000001       0.20000000000000001       0.30000000000000004       \n",
    "0.40000000000000002       0.50000000000000000       0.60000000000000009       \n",
    "0.70000000000000007       0.80000000000000004       0.90000000000000002     \n",
    "\\end{python}\n",
    "\\end{frame}"
   ]
  },
  {
   "cell_type": "markdown",
   "metadata": {
    "slideshow": {
     "slide_type": "slide"
    }
   },
   "source": [
    "# f2py + OpenMP\n",
    "\n"
   ]
  },
  {
   "cell_type": "code",
   "execution_count": 36,
   "metadata": {},
   "outputs": [],
   "source": [
    "import os\n",
    "os.environ['CC'] = 'gcc-7' # for mac users"
   ]
  },
  {
   "cell_type": "code",
   "execution_count": 39,
   "metadata": {
    "slideshow": {
     "slide_type": "fragment"
    }
   },
   "outputs": [
    {
     "ename": "RuntimeError",
     "evalue": "f2py failed, see output",
     "output_type": "error",
     "traceback": [
      "\u001b[0;31m---------------------------------------------------------------------------\u001b[0m",
      "\u001b[0;31mRuntimeError\u001b[0m                              Traceback (most recent call last)",
      "\u001b[0;32m<ipython-input-39-f12be6ba2d11>\u001b[0m in \u001b[0;36m<module>\u001b[0;34m()\u001b[0m\n\u001b[0;32m----> 1\u001b[0;31m \u001b[0mget_ipython\u001b[0m\u001b[0;34m(\u001b[0m\u001b[0;34m)\u001b[0m\u001b[0;34m.\u001b[0m\u001b[0mrun_cell_magic\u001b[0m\u001b[0;34m(\u001b[0m\u001b[0;34m'fortran'\u001b[0m\u001b[0;34m,\u001b[0m \u001b[0;34m'--f90flags \"-fopenmp\" --extra \\'-l/usr/local/lib -lgomp\\''\u001b[0m\u001b[0;34m,\u001b[0m \u001b[0;34m\"subroutine hello( )\\nINTEGER NTHREADS, TID, OMP_GET_NUM_THREADS, OMP_GET_THREAD_NUM\\n! Fork a team of threads giving them their own copies of variables\\n!$OMP PARALLEL PRIVATE(NTHREADS, TID)\\nTID = OMP_GET_THREAD_NUM() ! Obtain thread number\\nPRINT *, 'Hello World from thread = ', TID\\nIF (TID .EQ. 0) THEN ! Only master thread does this\\n  NTHREADS = OMP_GET_NUM_THREADS()\\n  PRINT *, 'Number of threads = ', NTHREADS\\nEND IF\\n! All threads join master thread and disband\\n!$OMP END PARALLEL\\nend subroutine\"\u001b[0m\u001b[0;34m)\u001b[0m\u001b[0;34m\u001b[0m\u001b[0m\n\u001b[0m",
      "\u001b[0;32m/usr/local/lib/python3.6/site-packages/IPython/core/interactiveshell.py\u001b[0m in \u001b[0;36mrun_cell_magic\u001b[0;34m(self, magic_name, line, cell)\u001b[0m\n\u001b[1;32m   2129\u001b[0m             \u001b[0mmagic_arg_s\u001b[0m \u001b[0;34m=\u001b[0m \u001b[0mself\u001b[0m\u001b[0;34m.\u001b[0m\u001b[0mvar_expand\u001b[0m\u001b[0;34m(\u001b[0m\u001b[0mline\u001b[0m\u001b[0;34m,\u001b[0m \u001b[0mstack_depth\u001b[0m\u001b[0;34m)\u001b[0m\u001b[0;34m\u001b[0m\u001b[0m\n\u001b[1;32m   2130\u001b[0m             \u001b[0;32mwith\u001b[0m \u001b[0mself\u001b[0m\u001b[0;34m.\u001b[0m\u001b[0mbuiltin_trap\u001b[0m\u001b[0;34m:\u001b[0m\u001b[0;34m\u001b[0m\u001b[0m\n\u001b[0;32m-> 2131\u001b[0;31m                 \u001b[0mresult\u001b[0m \u001b[0;34m=\u001b[0m \u001b[0mfn\u001b[0m\u001b[0;34m(\u001b[0m\u001b[0mmagic_arg_s\u001b[0m\u001b[0;34m,\u001b[0m \u001b[0mcell\u001b[0m\u001b[0;34m)\u001b[0m\u001b[0;34m\u001b[0m\u001b[0m\n\u001b[0m\u001b[1;32m   2132\u001b[0m             \u001b[0;32mreturn\u001b[0m \u001b[0mresult\u001b[0m\u001b[0;34m\u001b[0m\u001b[0m\n\u001b[1;32m   2133\u001b[0m \u001b[0;34m\u001b[0m\u001b[0m\n",
      "\u001b[0;32m<decorator-gen-157>\u001b[0m in \u001b[0;36mfortran\u001b[0;34m(self, line, cell)\u001b[0m\n",
      "\u001b[0;32m/usr/local/lib/python3.6/site-packages/IPython/core/magic.py\u001b[0m in \u001b[0;36m<lambda>\u001b[0;34m(f, *a, **k)\u001b[0m\n\u001b[1;32m    185\u001b[0m     \u001b[0;31m# but it's overkill for just that one bit of state.\u001b[0m\u001b[0;34m\u001b[0m\u001b[0;34m\u001b[0m\u001b[0m\n\u001b[1;32m    186\u001b[0m     \u001b[0;32mdef\u001b[0m \u001b[0mmagic_deco\u001b[0m\u001b[0;34m(\u001b[0m\u001b[0marg\u001b[0m\u001b[0;34m)\u001b[0m\u001b[0;34m:\u001b[0m\u001b[0;34m\u001b[0m\u001b[0m\n\u001b[0;32m--> 187\u001b[0;31m         \u001b[0mcall\u001b[0m \u001b[0;34m=\u001b[0m \u001b[0;32mlambda\u001b[0m \u001b[0mf\u001b[0m\u001b[0;34m,\u001b[0m \u001b[0;34m*\u001b[0m\u001b[0ma\u001b[0m\u001b[0;34m,\u001b[0m \u001b[0;34m**\u001b[0m\u001b[0mk\u001b[0m\u001b[0;34m:\u001b[0m \u001b[0mf\u001b[0m\u001b[0;34m(\u001b[0m\u001b[0;34m*\u001b[0m\u001b[0ma\u001b[0m\u001b[0;34m,\u001b[0m \u001b[0;34m**\u001b[0m\u001b[0mk\u001b[0m\u001b[0;34m)\u001b[0m\u001b[0;34m\u001b[0m\u001b[0m\n\u001b[0m\u001b[1;32m    188\u001b[0m \u001b[0;34m\u001b[0m\u001b[0m\n\u001b[1;32m    189\u001b[0m         \u001b[0;32mif\u001b[0m \u001b[0mcallable\u001b[0m\u001b[0;34m(\u001b[0m\u001b[0marg\u001b[0m\u001b[0;34m)\u001b[0m\u001b[0;34m:\u001b[0m\u001b[0;34m\u001b[0m\u001b[0m\n",
      "\u001b[0;32m/usr/local/lib/python3.6/site-packages/fortranmagic.py\u001b[0m in \u001b[0;36mfortran\u001b[0;34m(self, line, cell)\u001b[0m\n\u001b[1;32m    377\u001b[0m                              verbosity=args.verbosity)\n\u001b[1;32m    378\u001b[0m         \u001b[0;32mif\u001b[0m \u001b[0mres\u001b[0m \u001b[0;34m!=\u001b[0m \u001b[0;36m0\u001b[0m\u001b[0;34m:\u001b[0m\u001b[0;34m\u001b[0m\u001b[0m\n\u001b[0;32m--> 379\u001b[0;31m            \u001b[0;32mraise\u001b[0m \u001b[0mRuntimeError\u001b[0m\u001b[0;34m(\u001b[0m\u001b[0;34m\"f2py failed, see output\"\u001b[0m\u001b[0;34m)\u001b[0m\u001b[0;34m\u001b[0m\u001b[0m\n\u001b[0m\u001b[1;32m    380\u001b[0m \u001b[0;34m\u001b[0m\u001b[0m\n\u001b[1;32m    381\u001b[0m         \u001b[0mself\u001b[0m\u001b[0;34m.\u001b[0m\u001b[0m_code_cache\u001b[0m\u001b[0;34m[\u001b[0m\u001b[0mkey\u001b[0m\u001b[0;34m]\u001b[0m \u001b[0;34m=\u001b[0m \u001b[0mmodule_name\u001b[0m\u001b[0;34m\u001b[0m\u001b[0m\n",
      "\u001b[0;31mRuntimeError\u001b[0m: f2py failed, see output"
     ]
    }
   ],
   "source": [
    "%%fortran --f90flags \"-fopenmp\" --extra '-l/usr/local/lib -lgomp'\n",
    "subroutine hello( )\n",
    "INTEGER NTHREADS, TID, OMP_GET_NUM_THREADS, OMP_GET_THREAD_NUM\n",
    "! Fork a team of threads giving them their own copies of variables\n",
    "!$OMP PARALLEL PRIVATE(NTHREADS, TID)\n",
    "TID = OMP_GET_THREAD_NUM() ! Obtain thread number\n",
    "PRINT *, 'Hello World from thread = ', TID\n",
    "IF (TID .EQ. 0) THEN ! Only master thread does this\n",
    "  NTHREADS = OMP_GET_NUM_THREADS()\n",
    "  PRINT *, 'Number of threads = ', NTHREADS\n",
    "END IF\n",
    "! All threads join master thread and disband\n",
    "!$OMP END PARALLEL\n",
    "end subroutine\n"
   ]
  },
  {
   "cell_type": "code",
   "execution_count": 67,
   "metadata": {},
   "outputs": [],
   "source": [
    "hello()"
   ]
  },
  {
   "cell_type": "code",
   "execution_count": 64,
   "metadata": {},
   "outputs": [
    {
     "name": "stdout",
     "output_type": "stream",
     "text": [
      "blas_info:\n",
      "customize UnixCCompiler\n",
      "C compiler: gcc-7 -Wno-unused-result -Wsign-compare -Wunreachable-code -fno-common -dynamic -DNDEBUG -g -fwrapv -O3 -Wall -Wstrict-prototypes\n",
      "\n",
      "creating /var/folders/mw/nwq5qyg56fl585pb9jw81_qc0000gn/T/tmpndgicadk/var\n",
      "creating /var/folders/mw/nwq5qyg56fl585pb9jw81_qc0000gn/T/tmpndgicadk/var/folders\n",
      "creating /var/folders/mw/nwq5qyg56fl585pb9jw81_qc0000gn/T/tmpndgicadk/var/folders/mw\n",
      "creating /var/folders/mw/nwq5qyg56fl585pb9jw81_qc0000gn/T/tmpndgicadk/var/folders/mw/nwq5qyg56fl585pb9jw81_qc0000gn\n",
      "creating /var/folders/mw/nwq5qyg56fl585pb9jw81_qc0000gn/T/tmpndgicadk/var/folders/mw/nwq5qyg56fl585pb9jw81_qc0000gn/T\n",
      "creating /var/folders/mw/nwq5qyg56fl585pb9jw81_qc0000gn/T/tmpndgicadk/var/folders/mw/nwq5qyg56fl585pb9jw81_qc0000gn/T/tmpndgicadk\n",
      "compile options: '-I/usr/local/include -I/usr/include -I/usr/local/Cellar/python3/3.6.3/Frameworks/Python.framework/Versions/3.6/include -c'\n",
      "gcc-7: /var/folders/mw/nwq5qyg56fl585pb9jw81_qc0000gn/T/tmpndgicadk/source.c\n",
      "/var/folders/mw/nwq5qyg56fl585pb9jw81_qc0000gn/T/tmpndgicadk/source.c:1:10: fatal error: cblas.h: No such file or directory\n",
      " #include <cblas.h>\n",
      "          ^~~~~~~~~\n",
      "compilation terminated.\n",
      "/var/folders/mw/nwq5qyg56fl585pb9jw81_qc0000gn/T/tmpndgicadk/source.c:1:10: fatal error: cblas.h: No such file or directory\n",
      " #include <cblas.h>\n",
      "          ^~~~~~~~~\n",
      "compilation terminated.\n",
      "  FOUND:\n",
      "    libraries = ['blas', 'blas']\n",
      "    library_dirs = ['/usr/lib']\n",
      "    include_dirs = ['/usr/local/include', '/usr/include', '/usr/local/Cellar/python3/3.6.3/Frameworks/Python.framework/Versions/3.6/include']\n",
      "\n"
     ]
    }
   ],
   "source": [
    "%f2py_help --link blas"
   ]
  },
  {
   "cell_type": "code",
   "execution_count": 58,
   "metadata": {},
   "outputs": [
    {
     "ename": "NameError",
     "evalue": "name 'hello' is not defined",
     "output_type": "error",
     "traceback": [
      "\u001b[0;31m---------------------------------------------------------------------------\u001b[0m",
      "\u001b[0;31mNameError\u001b[0m                                 Traceback (most recent call last)",
      "\u001b[0;32m<ipython-input-58-29e7f156d515>\u001b[0m in \u001b[0;36m<module>\u001b[0;34m()\u001b[0m\n\u001b[0;32m----> 1\u001b[0;31m \u001b[0mhello\u001b[0m\u001b[0;34m(\u001b[0m\u001b[0;34m)\u001b[0m\u001b[0;34m\u001b[0m\u001b[0m\n\u001b[0m\u001b[1;32m      2\u001b[0m \u001b[0;34m\u001b[0m\u001b[0m\n",
      "\u001b[0;31mNameError\u001b[0m: name 'hello' is not defined"
     ]
    }
   ],
   "source": [
    "hello()\n",
    " "
   ]
  },
  {
   "cell_type": "markdown",
   "metadata": {},
   "source": [
    "\\begin{frame}[fragile]\n",
    "\\frametitle{Interface avec C}\n",
    "\\begin{itemize}[<+->]\n",
    "\\item Utilisation obligatoire dÕun fichier signature (qui nÕest en gnral pas ncessaire en Fortran o les directives f2py sont directement prises des dclarations du Fortran ou rajoutes dans le code source.\n",
    "\\item Le nom de la fonction doit tre declar avec intent(c)\n",
    "\\item intent(c) doit tre utilis pour toutes les dclarations de variables, mais peut tre factoris en le mettant sur une ligne seul avant les dclarations de variables.\n",
    "\\item Commande :\n",
    "\\begin{lstlisting}\n",
    "f2py -c cfuncts.c cfuncts.pyf -m cfuncts\n",
    "\\end{lstlisting}\n",
    "\\end{itemize}\n",
    "\\end{frame}\n",
    "\n"
   ]
  },
  {
   "cell_type": "markdown",
   "metadata": {
    "slideshow": {
     "slide_type": "slide"
    }
   },
   "source": [
    "\\begin{frame}[fragile]\n",
    "\\frametitle{Fonctions en langage C}\n",
    "\\lstset{language=C}\n",
    "\\begin{lstlisting}\n",
    "void depositrho(double* rho,double* fold, int* indx,double* depx,int* indv, \n",
    "     double* depv, int nx, int\tnv){\n",
    " int i,j; \n",
    " double dx,dv; \n",
    " for (i=0; i<nx; i++)\n",
    "    rho[i] = 0; \n",
    " for (i=0; i<nx; i++){\n",
    "    for (j=0; j<nv; j++){ \n",
    "       dx = depx[i+nx*j]; \n",
    "       dv = depv[i+nx*j]; \n",
    "       rho[indx[i+nx*j]] += (1-dx)*fold[i+nx*j]; \n",
    "       rho[(indx[i+nx*j]+1)%nx]\t+= dx*fold[i+nx*j ];\n",
    " }}} \n",
    "void poisson1d_axi(double* ex, double* rho, double xmin, double dx, int nx)\n",
    " { int i; \n",
    "   double integral, xi;\n",
    "   integral =0; \n",
    "   ex[nx/2] = 0; \n",
    "   xi = 0; \n",
    "   for (i=1+ nx/2; i <nx; i++){\n",
    "      xi += dx; \n",
    "      integral += dx*(( xi-dx)*rho[i-1]+xi*rho[i])/2.; \n",
    "      ex[i] = integral/xi; \n",
    "      ex[nx-i-1] = -ex[i];\n",
    "}}\n",
    "\\end{lstlisting}\n",
    "\\end{frame}\n",
    "\n",
    "\\begin{frame}[fragile]\n",
    "\\frametitle{Fichier signature}\n",
    "\\begin{fortran}\n",
    "python module cfuncts \n",
    " interface\n",
    "  subroutine depositrho(rho,fold ,indx,depx,indv,depv,nx,nv) \n",
    "   intent(c)::\tdepositrho \n",
    "   intent(c) \n",
    "   integer, intent(in) :: nx,nv\n",
    "   real*8, dimension(nx,nv),depend(nx,nv),intent(in) :: fold ,depx, \n",
    "   real*8, dimension(nx),depend(nx),intent(out) :: rho \n",
    "   integer, dimension(nx,nv),depend(nx,nv),intent(in) :: indx,indv\n",
    "  end subroutine depositrho\n",
    "\n",
    "  subroutine poisson1d_axi(ex,rho,xmin, dx,nx) \n",
    "   intent(c) :: poisson1d_axi \n",
    "   intent(c) \n",
    "   integer, intent(in) :: nx\n",
    "   real*8, intent(in) :: xmin, dx \n",
    "   real*8, dimension(nx), depend(nx), intent(out) :: ex \n",
    "   real*8, dimension(nx), depend(nx), intent(in) :: rho\n",
    "  end subroutine poisson1d_axi \n",
    " end interface\n",
    "end python module cfuncts\n",
    "\\end{fortran}\n",
    "\\end{frame}"
   ]
  },
  {
   "cell_type": "markdown",
   "metadata": {
    "slideshow": {
     "slide_type": "slide"
    }
   },
   "source": [
    "# Les fonctionalit\\'es de F2PY\n",
    "\n",
    "- Fonctionne avec le F77, le F90 et \\'egalement des fonctions C.\n",
    "- G\\`ere les common du F77, les modules du F90 ainsi que les tableaux allou\\'es dynamiquement.\n",
    "- Permet d'appeler des fonctions Python depuis du C ou du Fortran (callback)\n",
    "- G\\`ere les diff\\'erences de stockage m\\'emoire du C et du Fortran.\n",
    "- G\\'en\\`ere la documentation Python\n",
    "- Compilateurs support\\'es: GNU, Portland, Sun, Intel,...\n",
    "- F2py fait partie int\\'egrante de numpy.\n",
    "\n",
    "## Limites \n",
    "- Ne g\\`ere pas de mani\\`ere simple les types d\\'eriv\\'ees Fortran et les pointeurs.\n",
    "- N'est pas compatible avec les dernières fonctionalités du fortran 2003-2008 (classes)\n",
    "- N'est plus réellement développé"
   ]
  },
  {
   "cell_type": "markdown",
   "metadata": {
    "slideshow": {
     "slide_type": "slide"
    }
   },
   "source": [
    "# Ressources\n",
    "- [Site f2py](http://cens.ioc.ee/projects/f2py2e/)\n",
    "- [Transparents E. Sonnendr\\\"ucker](http://calcul.math.cnrs.fr/Documents/Journees/dec2006/python-fortran.pdf)\n",
    "- [SciPy](http://www.scipy.org/F2py)\n",
    "- [Documentation Sagemath](http://www.sagemath.org/doc/numerical_sage/f2py.html) \n",
    "- [Wiki de l'IRMA](http://www-irma.u-strasbg.fr/irmawiki/index.php/Utilisation_de_F2PY)\n",
    "- Hans Petter Langtangen.*Python Scripting for Computational Science*. Springer 2004\n"
   ]
  },
  {
   "cell_type": "code",
   "execution_count": 16,
   "metadata": {},
   "outputs": [],
   "source": [
    "\n",
    "N=128 # matrix size\n",
    "# Define grid\n",
    "x, dx = np.linspace(0,1,N+1, retstep=True)\n",
    "y  = x[:-1] # periodic in y. Remove periodic point\n",
    "x  = x[1:-1] # Dirichlet 0 in x. Remove both boundary points\n",
    "dy = dx"
   ]
  },
  {
   "cell_type": "markdown",
   "metadata": {},
   "source": [
    "Matrix A is a 1D laplacian along x with homogeneous Dirichlet boundary condition"
   ]
  },
  {
   "cell_type": "code",
   "execution_count": 17,
   "metadata": {},
   "outputs": [],
   "source": [
    "A=np.ones((2,N),dtype=float)\n",
    "A[0,:]=A[0,:]*(-1.)/(dx*dx)\n",
    "A[1,:]=A[1,:]*2./(dx*dx)\n",
    "\n"
   ]
  },
  {
   "cell_type": "markdown",
   "metadata": {},
   "source": [
    "Matrix with periodic boundary conditions along y is defined by its eigen values."
   ]
  },
  {
   "cell_type": "code",
   "execution_count": 18,
   "metadata": {},
   "outputs": [],
   "source": [
    "c=[2./(dy**2), -1./(dy**2)] \n",
    "valp = c[0] + 2*c[1]*np.cos(2*np.pi*np.arange(N)/N)"
   ]
  },
  {
   "cell_type": "markdown",
   "metadata": {},
   "source": [
    "Define right-hand-side. Note that meshgrid reverses the order, so that F and Uex are of shape (ny,nx)  "
   ]
  },
  {
   "cell_type": "code",
   "execution_count": 21,
   "metadata": {},
   "outputs": [],
   "source": [
    "X,Y=np.meshgrid(x,y)\n",
    "Uex=np.sin(pi*X)*np.cos(2*np.pi*Y)\n",
    "F=5*np.pi**2*np.sin(pi*X)*np.cos(2*np.pi*Y)"
   ]
  },
  {
   "cell_type": "markdown",
   "metadata": {},
   "source": [
    "Fourier transform in direction y of F  "
   ]
  },
  {
   "cell_type": "code",
   "execution_count": 22,
   "metadata": {},
   "outputs": [],
   "source": [
    "for i in range(N-1):\n",
    "    F[:,i]=sf.rfft(F[:,i])\n",
    "\n"
   ]
  },
  {
   "cell_type": "code",
   "execution_count": 24,
   "metadata": {},
   "outputs": [],
   "source": [
    "%%fortran --link lapack\n",
    "subroutine poisson2d(U,F,nx,ny,dx,dy)\n",
    "    ! Solve 2D Poisson equation using 2nd order FD on structured grid \n",
    "    ! with Dirichlet BC in x and periodic in y\n",
    "    ! Tensor product technique used to bring the solution back to 1D problems\n",
    "    integer :: nx, ny  ! grid size, ny is expected to be a power of 2 for efficiency\n",
    "    real(8), dimension(ny,nx), intent(out) :: U ! solution in matrix form\n",
    "    real(8), dimension(ny,nx), intent(in) :: F !  RHS in matrix form\n",
    "    real(8) :: dx, dy ! cell size in x and y\n",
    "\n",
    "    integer :: info\n",
    "    real(8), dimension(2,nx) :: A, B ! banded matrices for problem in x \n",
    "    real(8), dimension(ny) :: valp ! eigenvalues of circulant matrix for problem in y direction \n",
    "    real(8) :: c0,c1  ! upper part of circulant matrix\n",
    "    real(8), parameter :: pi = 3.1415926535897931\n",
    "    real(8), dimension(nx,2) :: v\n",
    "            \n",
    "    !Assemble banded matrix and factor for Dirichlet problem for use with \n",
    "    !LAPACK Cholesky factorization DPBTRF and solve DPBTRS\n",
    "    A(1,:) = -1.0/(dx*dx)\n",
    "    A(2,:) = 2.0/(dx*dx)\n",
    "    !compute eigenvalues of circulant matrix\n",
    "    c0 = 2.0/(dy*dy)\n",
    "    c1 = -1.0/(dy*dy)\n",
    "    do k=1,ny\n",
    "       valp(k) = c0 + 2*c1*cos(2*pi*(k-1)/ny)\n",
    "    end do\n",
    "    ! Tridiagonal solves in x direction\n",
    "    U(:,:) = F(:,:)  ! copy rhs into solution\n",
    "    B(1,:)=A(1,:) \n",
    "    B(2,:)=A(2,:)+valp(1) ! add eigenvalue on diagonal  \n",
    "    call DPBTRF( 'U', nx, 1, B, 2, info ) ! Cholesky factorisation of B\n",
    "    call DPBTRS( 'U', nx, 1, 1, B, 2, U(1,:), nx, info ) ! Solution\n",
    "    do k = 1, ny/2-1\n",
    "       B(1,:)=A(1,:)\n",
    "       B(2,:)=A(2,:)+valp(k+1) ! add eigenvalue on diagonal\n",
    "       call DPBTRF( 'U', nx, 1, B, 2, info ) ! Cholesky factorisation of B\n",
    "       v = transpose(U(2*k:2*k+1,:))\n",
    "       call DPBTRS( 'U', nx, 1, 2, B, 2, v, nx, info ) ! Solution\n",
    "       U(2*k:2*k+1,:)=transpose(v)\n",
    "    end do\n",
    "    B(1,:)=A(1,:)\n",
    "    B(2,:)=A(2,:)+valp(ny/2+1) ! add eigenvalue on diagonal\n",
    "    call DPBTRF( 'U', nx, 1, B, 2, info ) ! Cholesky factorisation of B\n",
    "    call DPBTRS( 'U', nx, 1, 1, B, 2, U(ny,:), nx, info ) ! Solution\n",
    "end subroutine poisson2d\n",
    "\n"
   ]
  },
  {
   "cell_type": "markdown",
   "metadata": {},
   "source": [
    "Tridiagonal solves in x direction  "
   ]
  },
  {
   "cell_type": "code",
   "execution_count": 25,
   "metadata": {},
   "outputs": [],
   "source": [
    "U=poisson2d(F,dx,dy)"
   ]
  },
  {
   "cell_type": "markdown",
   "metadata": {},
   "source": [
    "Inverse Fourier transform in direction y of U  "
   ]
  },
  {
   "cell_type": "code",
   "execution_count": 26,
   "metadata": {},
   "outputs": [],
   "source": [
    "for i in range(N-1):\n",
    "    U[:,i]=sf.irfft(U[:,i])\n",
    "\n"
   ]
  },
  {
   "cell_type": "code",
   "execution_count": 27,
   "metadata": {},
   "outputs": [
    {
     "name": "stdout",
     "output_type": "stream",
     "text": [
      " error = 0.000170649480012 \n"
     ]
    }
   ],
   "source": [
    "print (\" error = %s \" % max(abs(ravel(U-Uex))))\n",
    "\n"
   ]
  },
  {
   "cell_type": "code",
   "execution_count": 28,
   "metadata": {},
   "outputs": [
    {
     "data": {
      "image/png": "[encoded data removed]",
      "text/plain": [
       "<matplotlib.figure.Figure at 0x1121d7390>"
      ]
     },
     "metadata": {
      "image/png": {
       "height": 252,
       "width": 364
      }
     },
     "output_type": "display_data"
    }
   ],
   "source": [
    "cs = plt.contourf(X,Y,U)\n",
    "cb = plt.colorbar(cs)"
   ]
  },
  {
   "cell_type": "code",
   "execution_count": null,
   "metadata": {},
   "outputs": [],
   "source": []
  },
  {
   "cell_type": "markdown",
   "metadata": {
    "slideshow": {
     "slide_type": "slide"
    }
   },
   "source": [
    "# References\n",
    "* [F2py](http://scipy.github.io/old-wiki/pages/F2py)\n",
    "* [Fortran extension for IPython](https://github.com/mgaitan/fortran_magic)\n"
   ]
  },
  {
   "cell_type": "code",
   "execution_count": null,
   "metadata": {},
   "outputs": [],
   "source": []
  }
 ],
 "metadata": {
  "celltoolbar": "Slideshow",
  "kernelspec": {
   "display_name": "Python 3",
   "language": "python",
   "name": "python3"
  },
  "language_info": {
   "codemirror_mode": {
    "name": "ipython",
    "version": 3
   },
   "file_extension": ".py",
   "mimetype": "text/x-python",
   "name": "python",
   "nbconvert_exporter": "python",
   "pygments_lexer": "ipython3",
   "version": "3.6.3"
  }
 },
 "nbformat": 4,
 "nbformat_minor": 2
}
