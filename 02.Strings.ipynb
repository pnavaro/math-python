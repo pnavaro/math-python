{
 "cells": [
  {
   "cell_type": "raw",
   "metadata": {
    "slideshow": {
     "slide_type": "slide"
    }
   },
   "source": [
    "<script>\n",
    "    function hide_prompt() {\n",
    "        $('div.prompt').hide(); // always hide prompt\n",
    "    }\n",
    "    $( document ).ready(hide_prompt);\n",
    "</script>"
   ]
  },
  {
   "cell_type": "code",
   "execution_count": 1,
   "metadata": {},
   "outputs": [],
   "source": [
    "word = \"bonjour\""
   ]
  },
  {
   "cell_type": "code",
   "execution_count": 2,
   "metadata": {},
   "outputs": [
    {
     "name": "stdout",
     "output_type": "stream",
     "text": [
      "Help on method_descriptor:\n",
      "\n",
      "replace(...)\n",
      "    S.replace(old, new[, count]) -> str\n",
      "    \n",
      "    Return a copy of S with all occurrences of substring\n",
      "    old replaced by new.  If the optional argument count is\n",
      "    given, only the first count occurrences are replaced.\n",
      "\n"
     ]
    }
   ],
   "source": [
    "word.replace.__doc__\n",
    "help(str.replace)"
   ]
  },
  {
   "cell_type": "code",
   "execution_count": null,
   "metadata": {},
   "outputs": [],
   "source": []
  },
  {
   "cell_type": "markdown",
   "metadata": {},
   "source": [
    "Pierre Navaro - [Institut de Recherche Mathématique de Rennes](https://irmar.univ-rennes1.fr) - [CNRS](http://www.cnrs.fr/)"
   ]
  },
  {
   "cell_type": "markdown",
   "metadata": {
    "slideshow": {
     "slide_type": "slide"
    }
   },
   "source": [
    "# Strings and `print` Function\n",
    "Strings can be enclosed in single quotes ('...') or double quotes (\"...\") with the same result. \\ can be used to escape quotes:\n",
    "\n"
   ]
  },
  {
   "cell_type": "code",
   "execution_count": 3,
   "metadata": {
    "slideshow": {
     "slide_type": "fragment"
    }
   },
   "outputs": [
    {
     "name": "stdout",
     "output_type": "stream",
     "text": [
      "spam eggs\n",
      "doesn't\n",
      "doesn't\n",
      "\"Yes,\" he said.\n",
      "\"Yes,\" he said.\n",
      "\"Isn't,\" she said.\n"
     ]
    }
   ],
   "source": [
    "print('spam eggs')          # single quotes\n",
    "print('doesn\\'t')           # use \\' to escape the single quote...\n",
    "print(\"doesn't\")            # ...or use double quotes instead\n",
    "print('\"Yes,\" he said.')    #\n",
    "print(\"\\\"Yes,\\\" he said.\")\n",
    "print('\"Isn\\'t,\" she said.')"
   ]
  },
  {
   "cell_type": "markdown",
   "metadata": {
    "slideshow": {
     "slide_type": "slide"
    }
   },
   "source": [
    "`print` function translates C special characters"
   ]
  },
  {
   "cell_type": "code",
   "execution_count": 4,
   "metadata": {
    "slideshow": {
     "slide_type": "fragment"
    }
   },
   "outputs": [
    {
     "name": "stdout",
     "output_type": "stream",
     "text": [
      "\tFirst line.\n",
      "Second line.\n",
      "\\tFirst line.\\nSecond line.\n"
     ]
    }
   ],
   "source": [
    "s = '\\tFirst line.\\nSecond line.'  # \\n means newline \\t inserts tab\n",
    "print(s)  # with print(), \\n produces a new line\n",
    "print(r'\\tFirst line.\\nSecond line.')  # note the r before the quote"
   ]
  },
  {
   "cell_type": "markdown",
   "metadata": {
    "slideshow": {
     "slide_type": "slide"
    }
   },
   "source": [
    "# String literals with multiple lines"
   ]
  },
  {
   "cell_type": "code",
   "execution_count": 5,
   "metadata": {
    "slideshow": {
     "slide_type": "fragment"
    }
   },
   "outputs": [
    {
     "name": "stdout",
     "output_type": "stream",
     "text": [
      "Usage: thingy [OPTIONS]\n",
      "     -h                        Display this usage message\n",
      "     -H hostname               Hostname to connect to\n",
      "\n"
     ]
    }
   ],
   "source": [
    "print(\"\"\"\\\n",
    "Usage: thingy [OPTIONS]\n",
    "     -h                        Display this usage message\n",
    "     -H hostname               Hostname to connect to\n",
    "\"\"\") "
   ]
  },
  {
   "cell_type": "markdown",
   "metadata": {
    "slideshow": {
     "slide_type": "fragment"
    }
   },
   "source": [
    "\\ character removes the initial newline.\n",
    "\n",
    "Strings can be concatenated (glued together) with the + operator, and repeated with *"
   ]
  },
  {
   "cell_type": "code",
   "execution_count": 6,
   "metadata": {
    "slideshow": {
     "slide_type": "fragment"
    }
   },
   "outputs": [
    {
     "name": "stdout",
     "output_type": "stream",
     "text": [
      "unununium\n"
     ]
    }
   ],
   "source": [
    "# 3 times 'un', followed by 'ium'\n",
    "print(3 * 'un' + 'ium')"
   ]
  },
  {
   "cell_type": "markdown",
   "metadata": {
    "slideshow": {
     "slide_type": "slide"
    }
   },
   "source": [
    "Two or more string literals next to each other are automatically concatenated."
   ]
  },
  {
   "cell_type": "code",
   "execution_count": 7,
   "metadata": {
    "slideshow": {
     "slide_type": "fragment"
    }
   },
   "outputs": [
    {
     "name": "stdout",
     "output_type": "stream",
     "text": [
      "Put several strings within parentheses to have them joined together.\n"
     ]
    }
   ],
   "source": [
    "text = ('Put several strings within parentheses '\n",
    "         'to have them joined together.')\n",
    "print(text)"
   ]
  },
  {
   "cell_type": "markdown",
   "metadata": {
    "slideshow": {
     "slide_type": "slide"
    }
   },
   "source": [
    "Strings can be indexed, with the first character having index 0. There is no separate character type; a character is simply a string of size one"
   ]
  },
  {
   "cell_type": "code",
   "execution_count": 8,
   "metadata": {
    "slideshow": {
     "slide_type": "fragment"
    }
   },
   "outputs": [
    {
     "name": "stdout",
     "output_type": "stream",
     "text": [
      "P\n",
      "n\n"
     ]
    }
   ],
   "source": [
    "word = 'Python'\n",
    "print(word[0]) # character in position 0\n",
    "print(word[5]) # character in position 5"
   ]
  },
  {
   "cell_type": "markdown",
   "metadata": {
    "slideshow": {
     "slide_type": "fragment"
    }
   },
   "source": [
    "Indices may also be negative numbers, to start counting from the right"
   ]
  },
  {
   "cell_type": "code",
   "execution_count": 9,
   "metadata": {
    "slideshow": {
     "slide_type": "fragment"
    }
   },
   "outputs": [
    {
     "name": "stdout",
     "output_type": "stream",
     "text": [
      "n\n",
      "o\n"
     ]
    }
   ],
   "source": [
    "print(word[-1])  # last character\n",
    "print(word[-2])  # second-last character"
   ]
  },
  {
   "cell_type": "markdown",
   "metadata": {
    "slideshow": {
     "slide_type": "slide"
    }
   },
   "source": [
    "# Slicing Strings\n",
    "- Omitted first index defaults to zero, \n",
    "- Omitted second index defaults to the size of the string being sliced.\n",
    "- Step can be set with the third index\n",
    "\n"
   ]
  },
  {
   "cell_type": "code",
   "execution_count": 10,
   "metadata": {
    "slideshow": {
     "slide_type": "fragment"
    }
   },
   "outputs": [
    {
     "name": "stdout",
     "output_type": "stream",
     "text": [
      "Py\n",
      "on\n",
      "on\n",
      "nohtyP\n"
     ]
    }
   ],
   "source": [
    "print(word[:2])  # character from the beginning to position 2 (excluded)\n",
    "print(word[4:])  # characters from position 4 (included) to the end\n",
    "print(word[-2:]) # characters from the second-last (included) to the end\n",
    "print(word[::-1]) # This is the reversed string!"
   ]
  },
  {
   "cell_type": "markdown",
   "metadata": {
    "slideshow": {
     "slide_type": "slide"
    }
   },
   "source": [
    "Python strings cannot be changed — they are immutable.\n",
    "If you need a different string, you should create a new or use Lists.\n",
    "\n"
   ]
  },
  {
   "cell_type": "code",
   "execution_count": 11,
   "metadata": {
    "slideshow": {
     "slide_type": "fragment"
    }
   },
   "outputs": [
    {
     "ename": "TypeError",
     "evalue": "'str' object does not support item assignment",
     "output_type": "error",
     "traceback": [
      "\u001b[0;31m---------------------------------------------------------------------------\u001b[0m",
      "\u001b[0;31mTypeError\u001b[0m                                 Traceback (most recent call last)",
      "\u001b[0;32m<ipython-input-11-91a956888ca7>\u001b[0m in \u001b[0;36m<module>\u001b[0;34m()\u001b[0m\n\u001b[0;32m----> 1\u001b[0;31m \u001b[0mword\u001b[0m\u001b[0;34m[\u001b[0m\u001b[0;36m0\u001b[0m\u001b[0;34m]\u001b[0m \u001b[0;34m=\u001b[0m \u001b[0;34m'J'\u001b[0m\u001b[0;34m\u001b[0m\u001b[0m\n\u001b[0m",
      "\u001b[0;31mTypeError\u001b[0m: 'str' object does not support item assignment"
     ]
    }
   ],
   "source": [
    "word[0] = 'J'"
   ]
  },
  {
   "cell_type": "code",
   "execution_count": 12,
   "metadata": {
    "slideshow": {
     "slide_type": "slide"
    }
   },
   "outputs": [
    {
     "name": "stdout",
     "output_type": "stream",
     "text": [
      "True\n"
     ]
    }
   ],
   "source": [
    "## Some string methods\n",
    "print(word.startswith('P'))"
   ]
  },
  {
   "cell_type": "code",
   "execution_count": 13,
   "metadata": {
    "slideshow": {
     "slide_type": "fragment"
    }
   },
   "outputs": [
    {
     "name": "stdout",
     "output_type": "stream",
     "text": [
      "capitalize casefold center count encode endswith expandtabs find format format_map index isalnum isalpha isdecimal isdigit isidentifier islower isnumeric isprintable isspace istitle isupper join ljust lower lstrip maketrans partition replace rfind rindex rjust rpartition rsplit rstrip split splitlines startswith strip swapcase title translate upper zfill\n"
     ]
    }
   ],
   "source": [
    "print(*(m for m in dir(word) if not m.startswith('_')) )"
   ]
  },
  {
   "cell_type": "markdown",
   "metadata": {
    "slideshow": {
     "slide_type": "slide"
    }
   },
   "source": [
    "### Exercise\n",
    "\n",
    "- Ask user to input a string.\n",
    "- Print out the string length.\n",
    "- Check if the last character is equal to the first character.\n",
    "- Check if this string is lower case.\n",
    "- Check there is no digit in the string.\n",
    "- Check if this string is a palindrome. A palindrome is a word, phrase, number, or other sequence of characters which reads the same backward as forward."
   ]
  },
  {
   "cell_type": "markdown",
   "metadata": {
    "slideshow": {
     "slide_type": "slide"
    }
   },
   "source": [
    "<button data-toggle=\"collapse\" data-target=\"#sol1\" class='btn btn-primary'>Solution</button>\n",
    "<div id=\"sol1\" class=\"collapse\">\n",
    "```python\n",
    "s = input(\"Please input a string :\")\n",
    "print( s + \" length :\", len(s))\n",
    "print( s + \" first character == last character :\", s[0] == s[-1])\n",
    "print( s + \" is lower case:\", s.islower())\n",
    "print( s + \" contains digits:\", not s.isalpha())\n",
    "print( s + \" is a palindrome \", s[::] == s[::-1])\n",
    "```"
   ]
  }
 ],
 "metadata": {
  "celltoolbar": "Slideshow",
  "kernelspec": {
   "display_name": "Python 3",
   "language": "python",
   "name": "python3"
  },
  "language_info": {
   "codemirror_mode": {
    "name": "ipython",
    "version": 3
   },
   "file_extension": ".py",
   "mimetype": "text/x-python",
   "name": "python",
   "nbconvert_exporter": "python",
   "pygments_lexer": "ipython3",
   "version": "3.6.3"
  }
 },
 "nbformat": 4,
 "nbformat_minor": 1
}
