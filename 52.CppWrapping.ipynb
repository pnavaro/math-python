{
 "cells": [
  {
   "cell_type": "raw",
   "metadata": {},
   "source": [
    "<script>\n",
    "    function hide_prompt() {\n",
    "        $('div.prompt').hide(); // always hide prompt\n",
    "    }\n",
    "    $( document ).ready(hide_prompt);\n",
    "</script>"
   ]
  },
  {
   "cell_type": "markdown",
   "metadata": {
    "slideshow": {
     "slide_type": "skip"
    }
   },
   "source": [
    "Pierre Navaro - [Institut de Recherche Mathématique de Rennes](https://irmar.univ-rennes1.fr) - [CNRS](http://www.cnrs.fr/)"
   ]
  },
  {
   "cell_type": "code",
   "execution_count": 1,
   "metadata": {
    "slideshow": {
     "slide_type": "skip"
    }
   },
   "outputs": [
    {
     "name": "stdout",
     "output_type": "stream",
     "text": [
      "env: CC='gcc-7'\n",
      "env: CXX='g++-7'\n"
     ]
    }
   ],
   "source": [
    "%env CC='gcc-7'\n",
    "%env CXX='g++-7'"
   ]
  },
  {
   "cell_type": "code",
   "execution_count": 2,
   "metadata": {
    "slideshow": {
     "slide_type": "skip"
    }
   },
   "outputs": [],
   "source": [
    "import numpy as np"
   ]
  },
  {
   "cell_type": "markdown",
   "metadata": {
    "slideshow": {
     "slide_type": "slide"
    }
   },
   "source": [
    "# Wrapping Mersenne twister C++ class in Cython\n",
    "\n",
    "Example MT_RNG Class from [K. W. Smith Book examples](https://github.com/cythonbook/examples)\n"
   ]
  },
  {
   "cell_type": "code",
   "execution_count": 3,
   "metadata": {
    "slideshow": {
     "slide_type": "skip"
    }
   },
   "outputs": [
    {
     "name": "stdout",
     "output_type": "stream",
     "text": [
      "Cloning into 'examples'...\n",
      "remote: Counting objects: 1737, done.\u001b[K\n",
      "remote: Total 1737 (delta 0), reused 0 (delta 0), pack-reused 1737\u001b[K\n",
      "Receiving objects: 100% (1737/1737), 934.05 KiB | 848.00 KiB/s, done.\n",
      "Resolving deltas: 100% (827/827), done.\n"
     ]
    }
   ],
   "source": [
    "%rm -rf examples\n",
    "!git clone https://github.com/cythonbook/examples.git"
   ]
  },
  {
   "cell_type": "code",
   "execution_count": 4,
   "metadata": {
    "slideshow": {
     "slide_type": "fragment"
    }
   },
   "outputs": [
    {
     "name": "stdout",
     "output_type": "stream",
     "text": [
      "/Users/navaro/osur-python-2017/examples/08-wrapping-cxx/01-simple-example-mt_rng-class\n"
     ]
    }
   ],
   "source": [
    "%cd /Users/navaro/osur-python-2017/examples/08-wrapping-cxx/01-simple-example-mt_rng-class"
   ]
  },
  {
   "cell_type": "markdown",
   "metadata": {
    "slideshow": {
     "slide_type": "slide"
    }
   },
   "source": [
    "A random generator is implemented in a C++ class with the following interface:"
   ]
  },
  {
   "cell_type": "markdown",
   "metadata": {
    "slideshow": {
     "slide_type": "fragment"
    }
   },
   "source": [
    "```C++\n",
    "namespace mtrandom {\n",
    "\n",
    "const static unsigned int N = 624;\n",
    "\n",
    "class MT_RNG\n",
    "{\n",
    "  public:\n",
    "    MT_RNG();\n",
    "    MT_RNG(unsigned long s);\n",
    "    MT_RNG(unsigned long init_key[], int key_length);\n",
    "\n",
    "    // initializes RNG state, called by constructors.\n",
    "    void init_genrand(unsigned long s);\n",
    "\n",
    "    /* generates a random number on [0,0xffffffff]-interval */\n",
    "    unsigned long genrand_int32();\n",
    "\n",
    "    /* generates a random number on [0,0x7fffffff]-interval */\n",
    "    long genrand_int31();\n",
    "\n",
    "    /* generates a random number on [0,1]-real-interval */\n",
    "    double genrand_real1();\n",
    "\n",
    "    /* generates a random number on [0,1)-real-interval */\n",
    "    double genrand_real2();\n",
    "\n",
    "    /* generates a random number on (0,1)-real-interval */\n",
    "    double genrand_real3();\n",
    "\n",
    "    /* generates a random number on [0,1) with 53-bit resolution*/\n",
    "    double genrand_res53();\n",
    "\n",
    "    double operator()() {\n",
    "      return genrand_real1();\n",
    "    }\n",
    "\n",
    "  private:\n",
    "\n",
    "    unsigned long mt[N];\n",
    "    int mti;\n",
    "}; // class MT_RNG\n",
    "\n",
    "} // namespace mtrandom\n",
    "```"
   ]
  },
  {
   "cell_type": "markdown",
   "metadata": {
    "slideshow": {
     "slide_type": "skip"
    }
   },
   "source": [
    "* Cython can only wrap public methods and members; any private or protected methods or members are not accessible, and thus not wrappable.\n",
    "* To declare this class interface for use in Cython, we use an extern block as before. This extern block requires three additional elements to handle C++-isms:\n",
    "    - Declaring the C++ namespace with the Cython namespace clause\n",
    "    - Using the cppclass keyword to declare a C++ class interface block\n",
    "    - Declaring the class’s interface in this block"
   ]
  },
  {
   "cell_type": "markdown",
   "metadata": {
    "slideshow": {
     "slide_type": "slide"
    }
   },
   "source": [
    "```cython\n",
    "# distutils: language = c++\n",
    "# distutils: sources = mt19937.cpp\n",
    "\n",
    "cdef extern from \"mt19937.h\" namespace \"mtrandom\":\n",
    "    unsigned int N\n",
    "    cdef cppclass MT_RNG:\n",
    "        MT_RNG()\n",
    "        MT_RNG(unsigned long s)\n",
    "        MT_RNG(unsigned long init_key[], int key_length)\n",
    "        void init_genrand(unsigned long s)\n",
    "        unsigned long genrand_int32()\n",
    "        double genrand_real1()\n",
    "        double operator()()\n",
    "\n",
    "cdef class RNG: # Wrapper extension type has a pointer \n",
    "                # to a heap-allocated instance of the C++ \n",
    "                # class it is wrapping:\n",
    "\n",
    "    cdef MT_RNG *_thisptr\n",
    "\n",
    "    # Method to create and initialize a valid MT_RNG object.\n",
    "    def __cinit__(self, unsigned long s):\n",
    "        self._thisptr = new MT_RNG(s)\n",
    "        if self._thisptr == NULL:\n",
    "            raise MemoryError()\n",
    "    # Method for finalization.\n",
    "    def __dealloc__(self):\n",
    "        if self._thisptr != NULL:\n",
    "            del self._thisptr\n",
    "\n",
    "    # cpdef methods to generate random numbers from Python\n",
    "    cpdef unsigned long randint(self):\n",
    "        return self._thisptr.genrand_int32()\n",
    "\n",
    "    cpdef double rand(self):\n",
    "        return self._thisptr.genrand_real1()\n",
    "```"
   ]
  },
  {
   "cell_type": "markdown",
   "metadata": {
    "slideshow": {
     "slide_type": "slide"
    }
   },
   "source": [
    "# Compiling with C++\n",
    "\n",
    "With compiler directives inside RNG.pyx, the\n",
    "distutils script is simpler. \n",
    "```C\n",
    "# distutils: language = c++\n",
    "# distutils: sources = mt19937.cpp\n",
    "```"
   ]
  },
  {
   "cell_type": "code",
   "execution_count": 5,
   "metadata": {
    "slideshow": {
     "slide_type": "fragment"
    }
   },
   "outputs": [
    {
     "name": "stdout",
     "output_type": "stream",
     "text": [
      "Overwriting setup.py\n"
     ]
    }
   ],
   "source": [
    "%%file setup.py\n",
    "from distutils.core import setup, Extension\n",
    "from Cython.Build import cythonize\n",
    "import os\n",
    "os.environ[\"CC\"] = 'gcc-7'\n",
    "os.environ[\"CXX\"] = 'g++-7'\n",
    "\n",
    "ext = Extension(\"RNG\",\n",
    "                sources=[\"RNG.pyx\", \"mt19937.cpp\"],\n",
    "                language=\"c++\")\n",
    "\n",
    "setup(name=\"RNG\",\n",
    "      ext_modules=cythonize(ext))"
   ]
  },
  {
   "cell_type": "code",
   "execution_count": 7,
   "metadata": {
    "slideshow": {
     "slide_type": "skip"
    }
   },
   "outputs": [
    {
     "name": "stdout",
     "output_type": "stream",
     "text": [
      "\u001b[33mWARNING \u001b[0m \u001b[34mPythran support disabled for module: omp\u001b[0m\n",
      "Compiling RNG.pyx because it changed.\n",
      "[1/1] Cythonizing RNG.pyx\n",
      "\u001b[39mrunning build_ext\u001b[0m\n",
      "\u001b[39mbuilding 'RNG' extension\u001b[0m\n",
      "\u001b[39mC compiler: gcc-7 -Wno-unused-result -Wsign-compare -Wunreachable-code -fno-common -dynamic -DNDEBUG -g -fwrapv -O3 -Wall -Wstrict-prototypes\n",
      "\u001b[0m\n",
      "\u001b[39mcreating build\u001b[0m\n",
      "\u001b[39mcreating build/temp.macosx-10.12-x86_64-3.6\u001b[0m\n",
      "\u001b[39mcompile options: '-I/usr/local/include -I/usr/local/opt/openssl/include -I/usr/local/opt/sqlite/include -I/usr/local/Cellar/python3/3.6.3/Frameworks/Python.framework/Versions/3.6/include/python3.6m -c'\u001b[0m\n",
      "\u001b[39mgcc-7: RNG.cpp\u001b[0m\n",
      "cc1plus: warning: command line option '-Wstrict-prototypes' is valid for C/ObjC but not for C++\n",
      "\u001b[39mgcc-7: mt19937.cpp\u001b[0m\n",
      "cc1plus: warning: command line option '-Wstrict-prototypes' is valid for C/ObjC but not for C++\n",
      "mt19937.cpp: In member function 'void mtrandom::MT_RNG::init_genrand(long unsigned int)':\n",
      "mt19937.cpp:23:18: warning: comparison between signed and unsigned integer expressions [-Wsign-compare]\n",
      "   for (mti=1; mti<N; mti++) {\n",
      "               ~~~^~\n",
      "mt19937.cpp: In constructor 'mtrandom::MT_RNG::MT_RNG(long unsigned int*, int)':\n",
      "mt19937.cpp:40:9: warning: comparison between signed and unsigned integer expressions [-Wsign-compare]\n",
      "   k = (N>key_length ? N : key_length);\n",
      "        ~^~~~~~~~~~~\n",
      "mt19937.cpp:46:10: warning: comparison between signed and unsigned integer expressions [-Wsign-compare]\n",
      "     if (i>=N) { mt[0] = mt[N-1]; i=1; }\n",
      "         ~^~~\n",
      "mt19937.cpp:54:10: warning: comparison between signed and unsigned integer expressions [-Wsign-compare]\n",
      "     if (i>=N) { mt[0] = mt[N-1]; i=1; }\n",
      "         ~^~~\n",
      "mt19937.cpp: In member function 'long unsigned int mtrandom::MT_RNG::genrand_int32()':\n",
      "mt19937.cpp:66:13: warning: comparison between signed and unsigned integer expressions [-Wsign-compare]\n",
      "     if (mti >= N) { /* generate N words at one time */\n",
      "         ~~~~^~~~\n",
      "mt19937.cpp:72:21: warning: comparison between signed and unsigned integer expressions [-Wsign-compare]\n",
      "         for (kk=0;kk<N-M;kk++) {\n",
      "                     ^\n",
      "mt19937.cpp:76:17: warning: comparison between signed and unsigned integer expressions [-Wsign-compare]\n",
      "         for (;kk<N-1;kk++) {\n",
      "               ~~^~~~\n",
      "\u001b[39mg++-7 -bundle -undefined dynamic_lookup build/temp.macosx-10.12-x86_64-3.6/RNG.o build/temp.macosx-10.12-x86_64-3.6/mt19937.o -L/usr/local/lib -L/usr/local/opt/openssl/lib -L/usr/local/opt/sqlite/lib -o /Users/navaro/osur-python-2017/examples/08-wrapping-cxx/01-simple-example-mt_rng-class/RNG.cpython-36m-darwin.so\u001b[0m\n",
      "\u001b[0m"
     ]
    }
   ],
   "source": [
    "!python3 setup.py build_ext -if"
   ]
  },
  {
   "cell_type": "markdown",
   "metadata": {
    "slideshow": {
     "slide_type": "slide"
    }
   },
   "source": [
    "## Using the Wrapper from Python"
   ]
  },
  {
   "cell_type": "code",
   "execution_count": 8,
   "metadata": {
    "slideshow": {
     "slide_type": "fragment"
    }
   },
   "outputs": [],
   "source": [
    "from RNG import RNG\n",
    "r = RNG(42)"
   ]
  },
  {
   "cell_type": "code",
   "execution_count": 9,
   "metadata": {
    "slideshow": {
     "slide_type": "fragment"
    }
   },
   "outputs": [
    {
     "data": {
      "text/plain": [
       "(1608637542, 3421126067)"
      ]
     },
     "execution_count": 9,
     "metadata": {},
     "output_type": "execute_result"
    }
   ],
   "source": [
    "r.randint(), r.randint()"
   ]
  },
  {
   "cell_type": "code",
   "execution_count": 10,
   "metadata": {
    "slideshow": {
     "slide_type": "fragment"
    }
   },
   "outputs": [
    {
     "data": {
      "text/plain": [
       "(0.9507143117838339, 0.1834347877147223)"
      ]
     },
     "execution_count": 10,
     "metadata": {},
     "output_type": "execute_result"
    }
   ],
   "source": [
    "r.rand(), r.rand()"
   ]
  },
  {
   "cell_type": "markdown",
   "metadata": {
    "slideshow": {
     "slide_type": "slide"
    }
   },
   "source": [
    "## Overloaded Methods and Functions\n",
    "\n",
    "The MT_RNG class has an alternate constructor that takes an array of unsigned longs to initialize the random-number generator’s state. How can we call this from Python?\n",
    "\n",
    "We can do this by checking argument types of `__cinit__` method. We use an cython array which has a similar interface to a list, but it requires that all contained elements have the same scalar C type. Modify the RNG.pyx file:\n",
    "```cython\n",
    "from cpython.array cimport array\n",
    "# ...\n",
    "    def __cinit__(self, seed_or_state): \n",
    "        cdef array state_arr\n",
    "        if isinstance(seed_or_state, int):\n",
    "            self._thisptr = new MT_RNG(seed_or_state) \n",
    "        else:\n",
    "            state_arr = array(\"L\", seed_or_state)\n",
    "            self._thisptr = new MT_RNG(state_arr.data.as_ulongs,\n",
    "                                       len(state_arr))\n",
    "```\n",
    "If a list is passed to the constructor, it is converted to an array and passed to the second constructor.\n",
    "\n",
    "*NumPy array could be used but it is less simple and introduces an external dependency.*"
   ]
  },
  {
   "cell_type": "code",
   "execution_count": 11,
   "metadata": {
    "slideshow": {
     "slide_type": "skip"
    }
   },
   "outputs": [
    {
     "name": "stdout",
     "output_type": "stream",
     "text": [
      "Overwriting RNG.pyx\n"
     ]
    }
   ],
   "source": [
    "%%file RNG.pyx\n",
    "# distutils: language = c++\n",
    "# distutils: sources = mt19937.cpp\n",
    "from cpython.array cimport array\n",
    "\n",
    "cdef extern from \"mt19937.h\" namespace \"mtrandom\":\n",
    "    unsigned int N\n",
    "    cdef cppclass MT_RNG:\n",
    "        MT_RNG()\n",
    "        MT_RNG(unsigned long s)\n",
    "        MT_RNG(unsigned long init_key[], int key_length)\n",
    "        void init_genrand(unsigned long s)\n",
    "        unsigned long genrand_int32()\n",
    "        double genrand_real1()\n",
    "        double operator()()\n",
    "\n",
    "cdef class RNG:\n",
    "\n",
    "    cdef MT_RNG *_thisptr\n",
    "\n",
    "    def __cinit__(self, seed_or_state): \n",
    "        \n",
    "        cdef array state_arr\n",
    "        if isinstance(seed_or_state, int):\n",
    "            self._thisptr = new MT_RNG(seed_or_state) \n",
    "        else:\n",
    "            state_arr = array(\"L\", seed_or_state)\n",
    "            self._thisptr = new MT_RNG(state_arr.data.as_ulongs,\n",
    "                                       len(state_arr))\n",
    "        if self._thisptr == NULL:\n",
    "            raise MemoryError()\n",
    "\n",
    "    def __dealloc__(self):\n",
    "        if self._thisptr != NULL:\n",
    "            del self._thisptr\n",
    "\n",
    "    cpdef unsigned long randint(self):\n",
    "        return self._thisptr.genrand_int32()\n",
    "\n",
    "    cpdef double rand(self):\n",
    "        return self._thisptr.genrand_real1()\n"
   ]
  },
  {
   "cell_type": "code",
   "execution_count": 12,
   "metadata": {
    "slideshow": {
     "slide_type": "slide"
    }
   },
   "outputs": [
    {
     "name": "stdout",
     "output_type": "stream",
     "text": [
      "rm -r RNG.cpp RNG.so build\n",
      "rm: RNG.so: No such file or directory\n",
      "make: [clean] Error 1 (ignored)\n",
      "\u001b[33mWARNING \u001b[0m \u001b[34mPythran support disabled for module: omp\u001b[0m\n",
      "Compiling RNG.pyx because it changed.\n",
      "[1/1] Cythonizing RNG.pyx\n",
      "\u001b[39mrunning build_ext\u001b[0m\n",
      "\u001b[39mbuilding 'RNG' extension\u001b[0m\n",
      "\u001b[39mC compiler: gcc-7 -Wno-unused-result -Wsign-compare -Wunreachable-code -fno-common -dynamic -DNDEBUG -g -fwrapv -O3 -Wall -Wstrict-prototypes\n",
      "\u001b[0m\n",
      "\u001b[39mcreating build\u001b[0m\n",
      "\u001b[39mcreating build/temp.macosx-10.12-x86_64-3.6\u001b[0m\n",
      "\u001b[39mcompile options: '-I/usr/local/include -I/usr/local/opt/openssl/include -I/usr/local/opt/sqlite/include -I/usr/local/Cellar/python3/3.6.3/Frameworks/Python.framework/Versions/3.6/include/python3.6m -c'\u001b[0m\n",
      "\u001b[39mgcc-7: RNG.cpp\u001b[0m\n",
      "cc1plus: warning: command line option '-Wstrict-prototypes' is valid for C/ObjC but not for C++\n",
      "\u001b[39mgcc-7: mt19937.cpp\u001b[0m\n",
      "cc1plus: warning: command line option '-Wstrict-prototypes' is valid for C/ObjC but not for C++\n",
      "mt19937.cpp: In member function 'void mtrandom::MT_RNG::init_genrand(long unsigned int)':\n",
      "mt19937.cpp:23:18: warning: comparison between signed and unsigned integer expressions [-Wsign-compare]\n",
      "   for (mti=1; mti<N; mti++) {\n",
      "               ~~~^~\n",
      "mt19937.cpp: In constructor 'mtrandom::MT_RNG::MT_RNG(long unsigned int*, int)':\n",
      "mt19937.cpp:40:9: warning: comparison between signed and unsigned integer expressions [-Wsign-compare]\n",
      "   k = (N>key_length ? N : key_length);\n",
      "        ~^~~~~~~~~~~\n",
      "mt19937.cpp:46:10: warning: comparison between signed and unsigned integer expressions [-Wsign-compare]\n",
      "     if (i>=N) { mt[0] = mt[N-1]; i=1; }\n",
      "         ~^~~\n",
      "mt19937.cpp:54:10: warning: comparison between signed and unsigned integer expressions [-Wsign-compare]\n",
      "     if (i>=N) { mt[0] = mt[N-1]; i=1; }\n",
      "         ~^~~\n",
      "mt19937.cpp: In member function 'long unsigned int mtrandom::MT_RNG::genrand_int32()':\n",
      "mt19937.cpp:66:13: warning: comparison between signed and unsigned integer expressions [-Wsign-compare]\n",
      "     if (mti >= N) { /* generate N words at one time */\n",
      "         ~~~~^~~~\n",
      "mt19937.cpp:72:21: warning: comparison between signed and unsigned integer expressions [-Wsign-compare]\n",
      "         for (kk=0;kk<N-M;kk++) {\n",
      "                     ^\n",
      "mt19937.cpp:76:17: warning: comparison between signed and unsigned integer expressions [-Wsign-compare]\n",
      "         for (;kk<N-1;kk++) {\n",
      "               ~~^~~~\n",
      "\u001b[39mg++-7 -bundle -undefined dynamic_lookup build/temp.macosx-10.12-x86_64-3.6/RNG.o build/temp.macosx-10.12-x86_64-3.6/mt19937.o -L/usr/local/lib -L/usr/local/opt/openssl/lib -L/usr/local/opt/sqlite/lib -o /Users/navaro/osur-python-2017/examples/08-wrapping-cxx/01-simple-example-mt_rng-class/RNG.cpython-36m-darwin.so\u001b[0m\n",
      "\u001b[0m"
     ]
    }
   ],
   "source": [
    "!make clean\n",
    "!python3 setup.py build_ext -if"
   ]
  },
  {
   "cell_type": "markdown",
   "metadata": {
    "slideshow": {
     "slide_type": "slide"
    }
   },
   "source": [
    "### Using the Wrapper from Python"
   ]
  },
  {
   "cell_type": "code",
   "execution_count": null,
   "metadata": {
    "slideshow": {
     "slide_type": "skip"
    }
   },
   "outputs": [],
   "source": [
    "import os\n",
    "os._exit(00)"
   ]
  },
  {
   "cell_type": "code",
   "execution_count": 4,
   "metadata": {
    "slideshow": {
     "slide_type": "fragment"
    }
   },
   "outputs": [
    {
     "name": "stdout",
     "output_type": "stream",
     "text": [
      "/Users/navaro/osur-python-2017/examples/08-wrapping-cxx/01-simple-example-mt_rng-class\n"
     ]
    }
   ],
   "source": [
    "%cd /Users/navaro/osur-python-2017/examples/08-wrapping-cxx/01-simple-example-mt_rng-class\n",
    "from RNG import RNG\n",
    "r2 = RNG(list(range(30,40)))"
   ]
  },
  {
   "cell_type": "code",
   "execution_count": 5,
   "metadata": {
    "slideshow": {
     "slide_type": "fragment"
    }
   },
   "outputs": [
    {
     "data": {
      "text/plain": [
       "0.04691027990703245"
      ]
     },
     "execution_count": 5,
     "metadata": {},
     "output_type": "execute_result"
    }
   ],
   "source": [
    "r2.rand()"
   ]
  },
  {
   "cell_type": "code",
   "execution_count": 6,
   "metadata": {
    "slideshow": {
     "slide_type": "fragment"
    }
   },
   "outputs": [
    {
     "data": {
      "text/plain": [
       "2626217183"
      ]
     },
     "execution_count": 6,
     "metadata": {},
     "output_type": "execute_result"
    }
   ],
   "source": [
    "r2.randint()"
   ]
  },
  {
   "cell_type": "markdown",
   "metadata": {
    "slideshow": {
     "slide_type": "slide"
    }
   },
   "source": [
    "# Operator Overloading\n",
    "- Cython supports most C++ operator overloads. \n",
    "- Currently, the in-place operators (+=, -=, etc.) are not supported. \n",
    "- Some operators are incompatible with Python’s syntax, so Cython provides a special [cython.operators](http://cython.readthedocs.io/en/latest/src/userguide/wrapping_CPlusPlus.html#c-operators-not-compatible-with-python-syntax) magic module to allow Python-compatible access. "
   ]
  },
  {
   "cell_type": "code",
   "execution_count": 7,
   "metadata": {
    "slideshow": {
     "slide_type": "slide"
    }
   },
   "outputs": [
    {
     "name": "stdout",
     "output_type": "stream",
     "text": [
      "Overwriting RNG.pyx\n"
     ]
    }
   ],
   "source": [
    "%%file RNG.pyx\n",
    "# distutils: language = c++\n",
    "# distutils: sources = mt19937.cpp\n",
    "from cpython.array cimport array\n",
    "from cython.operator cimport dereference as deref # new import\n",
    "\n",
    "cdef extern from \"mt19937.h\" namespace \"mtrandom\":\n",
    "    unsigned int N\n",
    "    cdef cppclass MT_RNG:\n",
    "        MT_RNG()\n",
    "        MT_RNG(unsigned long s)\n",
    "        MT_RNG(unsigned long init_key[], int key_length)\n",
    "        void init_genrand(unsigned long s)\n",
    "        unsigned long genrand_int32()\n",
    "        double genrand_real1()\n",
    "        double operator()()\n",
    "\n",
    "cdef class RNG:\n",
    "\n",
    "    cdef MT_RNG *_thisptr\n",
    "\n",
    "    def __cinit__(self, seed_or_state): \n",
    "        \n",
    "        cdef array state_arr\n",
    "        if isinstance(seed_or_state, int):\n",
    "            self._thisptr = new MT_RNG(seed_or_state) \n",
    "        else:\n",
    "            state_arr = array(\"L\", seed_or_state)\n",
    "            self._thisptr = new MT_RNG(state_arr.data.as_ulongs,\n",
    "                                       len(state_arr))\n",
    "        if self._thisptr == NULL:\n",
    "            raise MemoryError()\n",
    "        \n",
    "    def __call__(self):               # overload () operator\n",
    "        return deref(self._thisptr)()\n",
    "\n",
    "    def __dealloc__(self):\n",
    "        if self._thisptr != NULL:\n",
    "            del self._thisptr\n",
    "\n",
    "    cpdef unsigned long randint(self):\n",
    "        return self._thisptr.genrand_int32()\n",
    "\n",
    "    cpdef double rand(self):\n",
    "        return self._thisptr.genrand_real1()"
   ]
  },
  {
   "cell_type": "code",
   "execution_count": 8,
   "metadata": {
    "slideshow": {
     "slide_type": "skip"
    }
   },
   "outputs": [
    {
     "name": "stdout",
     "output_type": "stream",
     "text": [
      "rm -r RNG.cpp RNG.so build\n",
      "rm: RNG.so: No such file or directory\n",
      "make: [clean] Error 1 (ignored)\n",
      "\u001b[33mWARNING \u001b[0m \u001b[34mPythran support disabled for module: omp\u001b[0m\n",
      "Compiling RNG.pyx because it changed.\n",
      "[1/1] Cythonizing RNG.pyx\n",
      "\u001b[39mrunning build_ext\u001b[0m\n",
      "\u001b[39mbuilding 'RNG' extension\u001b[0m\n",
      "\u001b[39mC compiler: gcc-7 -Wno-unused-result -Wsign-compare -Wunreachable-code -fno-common -dynamic -DNDEBUG -g -fwrapv -O3 -Wall -Wstrict-prototypes\n",
      "\u001b[0m\n",
      "\u001b[39mcreating build\u001b[0m\n",
      "\u001b[39mcreating build/temp.macosx-10.12-x86_64-3.6\u001b[0m\n",
      "\u001b[39mcompile options: '-I/usr/local/include -I/usr/local/opt/openssl/include -I/usr/local/opt/sqlite/include -I/usr/local/Cellar/python3/3.6.3/Frameworks/Python.framework/Versions/3.6/include/python3.6m -c'\u001b[0m\n",
      "\u001b[39mgcc-7: RNG.cpp\u001b[0m\n",
      "cc1plus: warning: command line option '-Wstrict-prototypes' is valid for C/ObjC but not for C++\n",
      "\u001b[39mgcc-7: mt19937.cpp\u001b[0m\n",
      "cc1plus: warning: command line option '-Wstrict-prototypes' is valid for C/ObjC but not for C++\n",
      "mt19937.cpp: In member function 'void mtrandom::MT_RNG::init_genrand(long unsigned int)':\n",
      "mt19937.cpp:23:18: warning: comparison between signed and unsigned integer expressions [-Wsign-compare]\n",
      "   for (mti=1; mti<N; mti++) {\n",
      "               ~~~^~\n",
      "mt19937.cpp: In constructor 'mtrandom::MT_RNG::MT_RNG(long unsigned int*, int)':\n",
      "mt19937.cpp:40:9: warning: comparison between signed and unsigned integer expressions [-Wsign-compare]\n",
      "   k = (N>key_length ? N : key_length);\n",
      "        ~^~~~~~~~~~~\n",
      "mt19937.cpp:46:10: warning: comparison between signed and unsigned integer expressions [-Wsign-compare]\n",
      "     if (i>=N) { mt[0] = mt[N-1]; i=1; }\n",
      "         ~^~~\n",
      "mt19937.cpp:54:10: warning: comparison between signed and unsigned integer expressions [-Wsign-compare]\n",
      "     if (i>=N) { mt[0] = mt[N-1]; i=1; }\n",
      "         ~^~~\n",
      "mt19937.cpp: In member function 'long unsigned int mtrandom::MT_RNG::genrand_int32()':\n",
      "mt19937.cpp:66:13: warning: comparison between signed and unsigned integer expressions [-Wsign-compare]\n",
      "     if (mti >= N) { /* generate N words at one time */\n",
      "         ~~~~^~~~\n",
      "mt19937.cpp:72:21: warning: comparison between signed and unsigned integer expressions [-Wsign-compare]\n",
      "         for (kk=0;kk<N-M;kk++) {\n",
      "                     ^\n",
      "mt19937.cpp:76:17: warning: comparison between signed and unsigned integer expressions [-Wsign-compare]\n",
      "         for (;kk<N-1;kk++) {\n",
      "               ~~^~~~\n",
      "\u001b[39mg++-7 -bundle -undefined dynamic_lookup build/temp.macosx-10.12-x86_64-3.6/RNG.o build/temp.macosx-10.12-x86_64-3.6/mt19937.o -L/usr/local/lib -L/usr/local/opt/openssl/lib -L/usr/local/opt/sqlite/lib -o /Users/navaro/osur-python-2017/examples/08-wrapping-cxx/01-simple-example-mt_rng-class/RNG.cpython-36m-darwin.so\u001b[0m\n",
      "\u001b[0m"
     ]
    }
   ],
   "source": [
    "!make clean\n",
    "!python3 setup.py build_ext -if"
   ]
  },
  {
   "cell_type": "markdown",
   "metadata": {
    "slideshow": {
     "slide_type": "slide"
    }
   },
   "source": [
    "### Use the new operator"
   ]
  },
  {
   "cell_type": "code",
   "execution_count": null,
   "metadata": {
    "slideshow": {
     "slide_type": "skip"
    }
   },
   "outputs": [],
   "source": [
    "import os\n",
    "os._exit(00)"
   ]
  },
  {
   "cell_type": "code",
   "execution_count": 1,
   "metadata": {
    "slideshow": {
     "slide_type": "fragment"
    }
   },
   "outputs": [
    {
     "name": "stdout",
     "output_type": "stream",
     "text": [
      "/Users/navaro/osur-python-2017/examples/08-wrapping-cxx/01-simple-example-mt_rng-class\n"
     ]
    }
   ],
   "source": [
    "%cd /Users/navaro/osur-python-2017/examples/08-wrapping-cxx/01-simple-example-mt_rng-class\n",
    "from RNG import RNG"
   ]
  },
  {
   "cell_type": "code",
   "execution_count": 2,
   "metadata": {
    "slideshow": {
     "slide_type": "fragment"
    }
   },
   "outputs": [
    {
     "data": {
      "text/plain": [
       "0.7713206433158649"
      ]
     },
     "execution_count": 2,
     "metadata": {},
     "output_type": "execute_result"
    }
   ],
   "source": [
    "r = RNG(10)\n",
    "r()"
   ]
  },
  {
   "cell_type": "code",
   "execution_count": 3,
   "metadata": {
    "slideshow": {
     "slide_type": "fragment"
    }
   },
   "outputs": [
    {
     "data": {
      "text/plain": [
       "[0.29876115855266366, 0.02075194661057367, 0.49458992841993227]"
      ]
     },
     "execution_count": 3,
     "metadata": {},
     "output_type": "execute_result"
    }
   ],
   "source": [
    "[r() for i in range(3)]"
   ]
  },
  {
   "cell_type": "markdown",
   "metadata": {
    "slideshow": {
     "slide_type": "slide"
    }
   },
   "source": [
    "# Packages - pxd files\n",
    "\n",
    "Cython uses .pxd files which work like C header files – they contain Cython declarations (and sometimes code sections) which are only meant for inclusion by Cython modules. A pxd file is imported into a pyx module by using the cimport keyword.\n",
    "\n",
    "1. They can be used for sharing external C declarations.\n",
    "2. They can contain functions which are well suited for inlining by the C compiler. Such functions should be marked inline, example:\n",
    "```cython\n",
    "cdef inline int int_min(int a, int b):\n",
    "    return b if b < a else a\n",
    "```\n",
    "3. When accompanying an equally named pyx file, they provide a Cython interface to the Cython module so that other Cython modules can communicate with it using a more efficient protocol than the Python one.\n",
    "\n",
    "http://cython.readthedocs.io/en/latest/src/tutorial/pxd_files.html"
   ]
  },
  {
   "cell_type": "code",
   "execution_count": null,
   "metadata": {},
   "outputs": [],
   "source": []
  }
 ],
 "metadata": {
  "celltoolbar": "Slideshow",
  "kernelspec": {
   "display_name": "Python 3",
   "language": "python",
   "name": "python3"
  },
  "language_info": {
   "codemirror_mode": {
    "name": "ipython",
    "version": 3
   },
   "file_extension": ".py",
   "mimetype": "text/x-python",
   "name": "python",
   "nbconvert_exporter": "python",
   "pygments_lexer": "ipython3",
   "version": "3.6.3"
  }
 },
 "nbformat": 4,
 "nbformat_minor": 2
}
