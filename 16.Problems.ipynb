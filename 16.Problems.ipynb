{
 "cells": [
  {
   "cell_type": "markdown",
   "metadata": {},
   "source": [
    "# 01/05/2018\n",
    "\n",
    "Given an unordered list of flights taken by someone, each represented as (origin, destination) pairs, and a starting airport, compute the person's itinerary. If no such itinerary exists, return None. All flights must be used in the itinerary.\n",
    "\n",
    "For example, given the following list of flights:\n",
    "~~~\n",
    "HNL ➔ AKL\n",
    "YUL ➔ ORD\n",
    "ORD ➔ SFO\n",
    "SFO ➔ HNL\n",
    "~~~\n",
    "and starting airport YUL, you should return YUL ➔ ORD ➔ SFO ➔ HNL ➔ AKL."
   ]
  },
  {
   "cell_type": "code",
   "execution_count": 18,
   "metadata": {},
   "outputs": [
    {
     "name": "stdout",
     "output_type": "stream",
     "text": [
      "['YUL', 'ORD', 'SFO', 'HNL', 'AKL']\n"
     ]
    }
   ],
   "source": [
    "def get_itinerary(flights, current_itinerary):\n",
    "\n",
    "    if len(flights) == 1:\n",
    "        return current_itinerary\n",
    "    \n",
    "    last_stop = current_itinerary[-1]\n",
    "    for i, (origin, destination) in enumerate(flights):\n",
    "        # Make a copy of flights without the current one to mark it as used\n",
    "        flights_minus_current = flights[:i] + flights[i + 1:]\n",
    "        current_itinerary.append(destination)\n",
    "        if origin == last_stop:\n",
    "            return get_itinerary(flights_minus_current, current_itinerary)\n",
    "        current_itinerary.pop()\n",
    "    return None\n",
    "\n",
    "\n",
    "flights = [('HNL', 'AKL'), ('YUL', 'ORD'), ('ORD', 'SFO'), ('SFO', 'HNL')]\n",
    "\n",
    "print(get_itinerary(flights, ['YUL', 'ORD']))"
   ]
  },
  {
   "cell_type": "markdown",
   "metadata": {},
   "source": [
    "# 02/05/2018\n",
    "\n",
    "You have an N by N board. Write a function that returns the number of possible arrangements of the board where N queens can be placed on the board without threatening each other, i.e. no two queens share the same row, column, or diagonal.\n",
    "\n",
    "The board is represented as a 1D array of integers from 1..N, where the value at the index i that represents the column the queen on row i is on."
   ]
  },
  {
   "cell_type": "code",
   "execution_count": 53,
   "metadata": {},
   "outputs": [
    {
     "name": "stdout",
     "output_type": "stream",
     "text": [
      "[1, 1, 0, 0, 2, 10, 4, 40, 92, 352, 724, 2680]\n",
      "CPU times: user 5.47 s, sys: 12.1 ms, total: 5.48 s\n",
      "Wall time: 5.49 s\n"
     ]
    }
   ],
   "source": [
    "%%time\n",
    "\n",
    "def is_valid(board):\n",
    "    \"Check if any queens can attack the last queen.\"\n",
    "\n",
    "    current_queen_row, current_queen_col = len(board) - 1, board[-1]\n",
    "    for row, col in enumerate(board[:-1]):\n",
    "        diff = abs(current_queen_col - col)\n",
    "        if diff == 0 or diff == current_queen_row - row:\n",
    "            return False\n",
    "    return True\n",
    "\n",
    "\n",
    "def n_queens(n, board=[]):\n",
    "    if n == len(board):\n",
    "        return 1\n",
    "    count = 0\n",
    "    for col in range(n):  # try placing a queen in column 0..N through the first row\n",
    "        board.append(col)\n",
    "        if is_valid(board):\n",
    "            count += n_queens(n, board)\n",
    "        board.pop()\n",
    "    return count\n",
    "\n",
    "\n",
    "print([n_queens(i) for i in range(12)])"
   ]
  },
  {
   "cell_type": "markdown",
   "metadata": {},
   "source": [
    "# 03/05/2018\n",
    "\n",
    "Find the contiguous subarray within a one-dimensional array, a[1...n], of numbers which has the largest sum.\n",
    "a contains both positive and negative numbers along with 0. \n",
    "\n",
    "Example: a=[−2, 1, −3, 4, −1, 2, 1, −5, 4] the contiguous subarray with the largest sum is [4, −1, 2, 1] with sum 6."
   ]
  },
  {
   "cell_type": "code",
   "execution_count": 44,
   "metadata": {},
   "outputs": [
    {
     "data": {
      "text/plain": [
       "([4, -1, 2, 1], 6)"
      ]
     },
     "execution_count": 44,
     "metadata": {},
     "output_type": "execute_result"
    }
   ],
   "source": [
    "def max_subarray(a):\n",
    "    local_max = global_max = a[0]\n",
    "    local_start, local_end = 0, 1\n",
    "    global_start, global_end = 0, 1\n",
    "    for i, x in enumerate(a[1:]):\n",
    "        \n",
    "        local_max = local_max + x\n",
    "        \n",
    "        if x > local_max :\n",
    "            local_max = x \n",
    "            local_start = i+1 # x index in a\n",
    "            \n",
    "        local_end +=1\n",
    "\n",
    "        if local_max > global_max :\n",
    "            global_max = local_max\n",
    "            global_start, global_end = local_start, local_end\n",
    "           \n",
    "    return a[global_start:global_end], global_max\n",
    "\n",
    "max_subarray([-2, 1, -3, 4, -1, 2, 1, -5, 4])"
   ]
  },
  {
   "cell_type": "code",
   "execution_count": 45,
   "metadata": {},
   "outputs": [
    {
     "name": "stdout",
     "output_type": "stream",
     "text": [
      "[-4, -5, 3, -3, 3, -4, -5, 3, 3]\n"
     ]
    },
    {
     "data": {
      "text/plain": [
       "([3, 3], 6)"
      ]
     },
     "execution_count": 45,
     "metadata": {},
     "output_type": "execute_result"
    }
   ],
   "source": [
    "import random\n",
    "test = [random.randrange(-5,5) for i in range(9)]\n",
    "print(test)\n",
    "max_subarray(test)"
   ]
  },
  {
   "cell_type": "markdown",
   "metadata": {},
   "source": [
    "# 04/05/2018\n",
    "\n",
    "We have given numbers in form of triangle, by starting at the top of the triangle and moving to adjacent numbers on the row below, find the maximum total from top to bottom.\n",
    "\n",
    "```\n",
    "     3\n",
    "    7 4\n",
    "   2 4 6\n",
    "  9 5 9 3\n",
    "\n",
    "3+7+4+9 = 23\n",
    "```"
   ]
  },
  {
   "cell_type": "code",
   "execution_count": 18,
   "metadata": {},
   "outputs": [
    {
     "data": {
      "text/plain": [
       "23"
      ]
     },
     "execution_count": 18,
     "metadata": {},
     "output_type": "execute_result"
    }
   ],
   "source": [
    "triangle = [[3],[7,4],[2,4,6],[9,5,9,3]]\n",
    "\n",
    "def optimal_path(triangle):\n",
    "    c = triangle[-1] #  bottom\n",
    "    p = []\n",
    "    for line in triangle[-1:1:-1]: # loop bottom-up\n",
    "        for i, v in enumerate(line[:-1]): # loop over line\n",
    "            c[i] = v + max(c[i],c[i+1])\n",
    "            \n",
    "    return c[0]+triangle[0][0] # add top value\n",
    "\n",
    "optimal_path(triangle)"
   ]
  },
  {
   "cell_type": "markdown",
   "metadata": {},
   "source": [
    "# 05/05/2018\n",
    "\n",
    "Given a list of numbers, return whether any two sums to k.\n",
    "\n",
    "For example, given [10, 15, 3, 7] and k of 17, return true since 10 + 7 is 17."
   ]
  },
  {
   "cell_type": "code",
   "execution_count": 19,
   "metadata": {},
   "outputs": [
    {
     "data": {
      "text/plain": [
       "(True, False)"
      ]
     },
     "execution_count": 19,
     "metadata": {},
     "output_type": "execute_result"
    }
   ],
   "source": [
    "def problem( numbers, k ):\n",
    "    for n1 in numbers:\n",
    "        for n2 in numbers:\n",
    "            if n1+n2 == k :\n",
    "                return True\n",
    "    return False\n",
    "\n",
    "numbers = [10, 15, 3, 7] \n",
    "problem(numbers, 17), problem(numbers, 19)\n",
    "                "
   ]
  },
  {
   "cell_type": "code",
   "execution_count": 189,
   "metadata": {},
   "outputs": [
    {
     "data": {
      "text/plain": [
       "(True, False)"
      ]
     },
     "execution_count": 189,
     "metadata": {},
     "output_type": "execute_result"
    }
   ],
   "source": [
    "from itertools import combinations\n",
    "\n",
    "def problem( numbers, k ):\n",
    "    return k in map( sum, combinations(numbers, 2))\n",
    "\n",
    "numbers = [10, 15, 3, 7] \n",
    "problem(numbers, 17), problem(numbers, 19)\n",
    "                "
   ]
  },
  {
   "cell_type": "markdown",
   "metadata": {},
   "source": [
    "# 06/05/2018\n",
    "Given an array of integers, return a new array such that each element at index i of the new array is the product of all the numbers in the original array except the one at i.\n",
    "\n",
    "For example, if our input was [1, 2, 3, 4, 5], the expected output would be [120, 60, 40, 30, 24]. If our input was [3, 2, 1], the expected output would be [2, 3, 6]."
   ]
  },
  {
   "cell_type": "code",
   "execution_count": 190,
   "metadata": {},
   "outputs": [
    {
     "data": {
      "text/plain": [
       "([120, 60, 40, 30, 24], [2, 3, 6])"
      ]
     },
     "execution_count": 190,
     "metadata": {},
     "output_type": "execute_result"
    }
   ],
   "source": [
    "from functools import reduce\n",
    "from operator import mul\n",
    "    \n",
    "def product( numbers ):\n",
    "    \n",
    "    return [reduce(mul, [e for e in numbers if e != n]) for n in numbers]\n",
    "        \n",
    "product([1, 2, 3, 4, 5]), product([3,2,1])\n",
    "        "
   ]
  },
  {
   "cell_type": "markdown",
   "metadata": {},
   "source": [
    "# 07/05/2018\n",
    "\n",
    "Given the root to a [binary tree](https://bradfieldcs.com/algos/trees/representing-a-tree/), implement serialize(root), which serializes the tree into a string, and deserialize(s), which deserializes the string back into the tree.\n",
    "\n",
    "For example, given the following Node class\n",
    "```python\n",
    "class Node:\n",
    "    def __init__(self, val, left=None, right=None):\n",
    "        self.val = val\n",
    "        self.left = left\n",
    "        self.right = right\n",
    "```\n",
    "The following test should pass:\n",
    "\n",
    "```python\n",
    "node = Node('root', Node('left', Node('left.left')), Node('right'))\n",
    "assert deserialize(serialize(node)).left.left.val == 'left.left'\n",
    "```"
   ]
  },
  {
   "cell_type": "code",
   "execution_count": 191,
   "metadata": {},
   "outputs": [
    {
     "data": {
      "text/plain": [
       "'left.left'"
      ]
     },
     "execution_count": 191,
     "metadata": {},
     "output_type": "execute_result"
    }
   ],
   "source": [
    "class Node:\n",
    "\n",
    "    def __init__(self, val, left=None, right=None):\n",
    "        self.val = val\n",
    "        self.left = left\n",
    "        self.right = right\n",
    "\n",
    "    def __repr__(self):\n",
    "        if self.right:\n",
    "            fmt = '{}({val!r}, {left!r}, {right!r})'\n",
    "        elif self.left:\n",
    "            fmt = '{}({val!r}, {left!r})'\n",
    "        else:\n",
    "            fmt = '{}({val!r})'\n",
    "        return fmt.format(type(self).__name__, **vars(self))\n",
    "\n",
    "\n",
    "def serialize(root):\n",
    "    def doit(node):\n",
    "        if node:\n",
    "            vals.append(node.val)\n",
    "            doit(node.left)\n",
    "            doit(node.right)\n",
    "        else:\n",
    "            vals.append('#')\n",
    "    vals = []\n",
    "    doit(root)\n",
    "    return ' '.join(vals)\n",
    "\n",
    "\n",
    "def deserialize(data):\n",
    "    vals = iter(data.split())\n",
    "\n",
    "    def doit():\n",
    "        val = next(vals)\n",
    "        if val == '#':\n",
    "            return None\n",
    "        node = Node(val)\n",
    "        node.left = doit()\n",
    "        node.right = doit()\n",
    "        return node\n",
    "    return doit()\n",
    "\n",
    "\n",
    "node = Node('root', Node('left', Node('left.left')), Node('right'))\n",
    "deserialize(serialize(node)).left.left.val"
   ]
  },
  {
   "cell_type": "markdown",
   "metadata": {},
   "source": [
    "# 08/05/2018\n",
    "\n",
    "Given an array of integers, find the first missing positive integer in linear time and constant space. In other words, find the lowest positive integer that does not exist in the array. The array can contain duplicates and negative numbers as well.\n",
    "\n",
    "For example, the input [3, 4, -1, 1] should give 2. The input [1, 2, 0] should give 3.\n",
    "\n",
    "You can modify the input array in-place."
   ]
  },
  {
   "cell_type": "code",
   "execution_count": 192,
   "metadata": {},
   "outputs": [
    {
     "name": "stdout",
     "output_type": "stream",
     "text": [
      "2\n",
      "3\n",
      "1\n"
     ]
    }
   ],
   "source": [
    "def lowest_positive_integer(numbers):\n",
    "    numbers = [n for n in sorted(numbers) if n > 0]\n",
    "    for i,n  in enumerate(numbers):\n",
    "        if i+1 != n:\n",
    "            return i+1\n",
    "    return n+1\n",
    "\n",
    "from random import randrange\n",
    "\n",
    "print(lowest_positive_integer([3, 4, -1, 1]))\n",
    "print(lowest_positive_integer([1, 2, 0]))\n",
    "print(lowest_positive_integer([-3,-1, 2,3,7]))"
   ]
  },
  {
   "cell_type": "markdown",
   "metadata": {},
   "source": [
    "# 09/05/2018\n",
    "\n",
    "cons(a, b) constructs a pair, and car(pair) and cdr(pair) returns the first and last element of that pair. For example, car(cons(3, 4)) returns 3, and cdr(cons(3, 4)) returns 4.\n",
    "\n",
    "Given this implementation of cons:\n",
    "\n",
    "```py\n",
    "def cons(a, b):\n",
    "    def pair(f):\n",
    "        return f(a, b)\n",
    "    return pair\n",
    "```\n",
    "Implement car and cdr.\n",
    "\n"
   ]
  },
  {
   "cell_type": "code",
   "execution_count": 193,
   "metadata": {},
   "outputs": [
    {
     "data": {
      "text/plain": [
       "(3, 4)"
      ]
     },
     "execution_count": 193,
     "metadata": {},
     "output_type": "execute_result"
    }
   ],
   "source": [
    "def cons(a, b):\n",
    "    def pair(f):\n",
    "        return f(a, b)\n",
    "    return pair\n",
    "\n",
    "def car(pair):\n",
    "    return pair(lambda x,y:x)\n",
    "\n",
    "def cdr(pair):\n",
    "    return pair(lambda x,y:y)\n",
    "\n",
    "\n",
    "car(cons(3, 4)), cdr(cons(3,4))\n"
   ]
  },
  {
   "cell_type": "markdown",
   "metadata": {},
   "source": [
    "# 10/05/2018\n",
    "\n",
    "An XOR linked list is a more memory efficient doubly linked list. Instead of each node holding next and prev fields, it holds a field named both, which is an XOR of the next node and the previous node. Implement an XOR linked list; it has an add(element) which adds the element to the end, and a get(index) which returns the node at index.\n",
    "\n",
    "If using a language that has no pointers (such as Python), you can assume you have access to get_pointer and dereference_pointer functions that converts between nodes and memory addresses."
   ]
  },
  {
   "cell_type": "code",
   "execution_count": 194,
   "metadata": {},
   "outputs": [
    {
     "data": {
      "text/plain": [
       "(4, 3)"
      ]
     },
     "execution_count": 194,
     "metadata": {},
     "output_type": "execute_result"
    }
   ],
   "source": [
    "x, y = 3, 4\n",
    "x = x ^ y\n",
    "y = x ^ y\n",
    "x = x ^ y\n",
    "x, y"
   ]
  },
  {
   "cell_type": "code",
   "execution_count": 195,
   "metadata": {},
   "outputs": [
    {
     "data": {
      "text/plain": [
       "[4]"
      ]
     },
     "execution_count": 195,
     "metadata": {},
     "output_type": "execute_result"
    }
   ],
   "source": [
    "def get_pointer(value):\n",
    "    return id(value)\n",
    "\n",
    "def dereference_pointer(address):\n",
    "    return [x for x in globals().values() if id(x)==address]\n",
    "\n",
    "arr = 1\n",
    "dereference_pointer(get_pointer(x))"
   ]
  },
  {
   "cell_type": "markdown",
   "metadata": {},
   "source": [
    "# 11/05/2018\n",
    "\n",
    "Given the mapping a = 1, b = 2, ... z = 26, and an encoded message, count the number of ways it can be decoded.\n",
    "\n",
    "For example, the message '111' would give 3, since it could be decoded as 'aaa', 'ka', and 'ak'.\n",
    "\n",
    "You can assume that the messages are decodable. For example, '001' is not allowed.\n",
    "\n",
    "[stackoverflow](https://stackoverflow.com/questions/15586047/given-an-encoded-message-count-the-number-of-ways-it-can-be-decoded)"
   ]
  },
  {
   "cell_type": "code",
   "execution_count": 196,
   "metadata": {},
   "outputs": [
    {
     "data": {
      "text/plain": [
       "(3, 5, 6)"
      ]
     },
     "execution_count": 196,
     "metadata": {},
     "output_type": "execute_result"
    }
   ],
   "source": [
    "def decode(message):\n",
    "    way_0, way_1 = 1, 0\n",
    "    for i in range(len(message)):\n",
    "        w = 0\n",
    "        if i > 0 and (message[i - 1] == '1' or (message[i - 1] == '2' and message[i] < '7')):\n",
    "            w += way_1\n",
    "\n",
    "        if message[i] > '0':\n",
    "            w += way_0\n",
    "\n",
    "        way_1, way_0 = way_0, w\n",
    "\n",
    "    return way_0\n",
    "\n",
    "\n",
    "decode(\"111\"), decode(\"1226\"), decode(\"12321\")"
   ]
  },
  {
   "cell_type": "markdown",
   "metadata": {},
   "source": [
    "# 12/05/2018\n",
    "\n",
    "A unival tree (which stands for \"universal value\") is a tree where all nodes under it have the same value.\n",
    "\n",
    "Given the root to a binary tree, count the number of unival subtrees.\n",
    "\n",
    "For example, the following tree has 5 unival subtrees:\n",
    "```\n",
    "   0\n",
    "  / \\\n",
    " 1   0\n",
    "    / \\\n",
    "   1   0\n",
    "  / \\\n",
    " 1   1\n",
    "```\n",
    "\n",
    "[stackoverflow](https://stackoverflow.com/questions/29088835/counting-the-number-of-unival-subtrees-in-a-binary-tree)"
   ]
  },
  {
   "cell_type": "code",
   "execution_count": 199,
   "metadata": {},
   "outputs": [
    {
     "data": {
      "text/plain": [
       "7"
      ]
     },
     "execution_count": 199,
     "metadata": {},
     "output_type": "execute_result"
    }
   ],
   "source": [
    "def count_uni_vals(node):\n",
    "    if not node:\n",
    "        return 0, True\n",
    "    val_left,  uni_left = count_uni_vals(node.left)\n",
    "    val_right, uni_right = count_uni_vals(node.right)\n",
    "    s = val_left + val_right\n",
    "    unival = False\n",
    "    if uni_left and uni_right and (not node.left or node.left.val == node.val) and (not node.right or node.right.val == node.val):\n",
    "        s += 1\n",
    "        unival = True\n",
    "\n",
    "    return s, unival\n",
    "\n",
    "\n",
    "node = Node('0', Node('1',Node('1'),Node('1')), Node(\n",
    "    '0', Node('1', Node('1'), Node('1')), Node('0')))\n",
    "\n",
    "count_uni_vals(node)[0]"
   ]
  },
  {
   "cell_type": "markdown",
   "metadata": {},
   "source": [
    "# 13/05/2018\n",
    "Given a list of integers, write a function that returns the largest sum of non-adjacent numbers. Numbers can be 0 or negative.\n",
    "\n",
    "For example, [2, 4, 6, 8] should return 12, since we pick 4 and 8. [5, 1, 1, 5] should return 10, since we pick 5 and 5.\n",
    "\n",
    "Follow-up: Can you do this in O(N) time and constant space?\n",
    "\n",
    "[solution](http://blog.gainlo.co/index.php/2016/12/02/uber-interview-question-maximum-sum-non-adjacent-elements/)"
   ]
  },
  {
   "cell_type": "code",
   "execution_count": 329,
   "metadata": {},
   "outputs": [],
   "source": [
    "def largest_sum(numbers):\n",
    "    \" returns the largest sum of non-adjacent numbers \"\n",
    "    prev_one, prev_two, res = 0, 0, 0\n",
    "    for i, n  in enumerate(numbers):\n",
    "        if i == 0:\n",
    "            res = n\n",
    "        elif i == 1:\n",
    "            res = max(numbers[0], n)\n",
    "        else:\n",
    "            res = max(prev_one, n + prev_two)\n",
    "            \n",
    "        prev_two = prev_one\n",
    "        prev_one = res\n",
    "        \n",
    "    return res\n",
    "        "
   ]
  },
  {
   "cell_type": "code",
   "execution_count": 330,
   "metadata": {},
   "outputs": [
    {
     "data": {
      "text/plain": [
       "(12, 10)"
      ]
     },
     "execution_count": 330,
     "metadata": {},
     "output_type": "execute_result"
    }
   ],
   "source": [
    "largest_sum([2, 4, 6, 8]), largest_sum([5, 1, 1, 5] )"
   ]
  },
  {
   "cell_type": "code",
   "execution_count": 331,
   "metadata": {},
   "outputs": [
    {
     "data": {
      "text/plain": [
       "([-2, -1, -1, -4, -4], -1)"
      ]
     },
     "execution_count": 331,
     "metadata": {},
     "output_type": "execute_result"
    }
   ],
   "source": [
    "from random import randrange\n",
    "numbers = [randrange(-4,0) for i in range(5)]\n",
    "numbers, largest_sum(numbers)"
   ]
  },
  {
   "cell_type": "markdown",
   "metadata": {},
   "source": [
    "# 14/05/2018\n",
    "\n",
    "Implement a job scheduler which takes in a function f and an integer n, and calls f after n milliseconds.\n",
    "\n"
   ]
  },
  {
   "cell_type": "code",
   "execution_count": 10,
   "metadata": {},
   "outputs": [
    {
     "name": "stdout",
     "output_type": "stream",
     "text": [
      "Execute f!\n",
      "CPU times: user 7.66 ms, sys: 10.9 ms, total: 18.5 ms\n",
      "Wall time: 5.02 s\n"
     ]
    }
   ],
   "source": [
    "%%time\n",
    "from concurrent.futures import ProcessPoolExecutor\n",
    "from time import time, sleep\n",
    "\n",
    "def job_scheduler(f, n):\n",
    "    with ProcessPoolExecutor(max_workers=1) as executor:\n",
    "        future = executor.submit(f)\n",
    "        sleep (n)\n",
    "        print(future.result())\n",
    "\n",
    "def f():\n",
    "    return \"Execute f!\"\n",
    "\n",
    "job_scheduler(f, 5)"
   ]
  },
  {
   "cell_type": "markdown",
   "metadata": {},
   "source": [
    "# 15/04/2018\n",
    "\n",
    "Implement an autocomplete system. That is, given a query string s and a set of all possible query strings, return all strings in the set that have s as a prefix.\n",
    "\n",
    "For example, given the query string de and the set of strings [dog, deer, deal], return [deer, deal].\n",
    "\n",
    "Hint: Try preprocessing the dictionary into a more efficient data structure to speed up queries.\n",
    "\n",
    "My solution use brute-force algorithm but is simple. The most efficient data structure is a [prefix tree](https://towardsdatascience.com/implementing-a-trie-data-structure-in-python-in-less-than-100-lines-of-code-a877ea23c1a1)"
   ]
  },
  {
   "cell_type": "code",
   "execution_count": 9,
   "metadata": {},
   "outputs": [],
   "source": [
    "from lorem import paragraph\n",
    "from collections import Counter\n",
    "\n",
    "strings = paragraph().lower().replace('.','').split()\n",
    "\n",
    "def autocomplete(strings, prefix):\n",
    "    \n",
    "    return filter(lambda w:w.startswith(prefix), set(strings))"
   ]
  },
  {
   "cell_type": "code",
   "execution_count": 10,
   "metadata": {},
   "outputs": [
    {
     "name": "stdout",
     "output_type": "stream",
     "text": [
      "dolore dolorem\n"
     ]
    }
   ],
   "source": [
    "print(*autocomplete(strings, 'do'))"
   ]
  },
  {
   "cell_type": "markdown",
   "metadata": {},
   "source": [
    "## Solution with tee"
   ]
  },
  {
   "cell_type": "code",
   "execution_count": 85,
   "metadata": {},
   "outputs": [],
   "source": [
    "#todo"
   ]
  },
  {
   "cell_type": "markdown",
   "metadata": {},
   "source": [
    "# 16/05/2017\n",
    "\n",
    "There exists a staircase with N steps, and you can climb up either 1 or 2 steps at a time. Given N, write a function that returns the number of unique ways you can climb the staircase. The order of the steps matters.\n",
    "\n",
    "For example, if N is 4, then there are 5 unique ways:\n",
    "\n",
    "~~~\n",
    "1, 1, 1, 1\n",
    "2, 1, 1\n",
    "1, 2, 1\n",
    "1, 1, 2\n",
    "2, 2\n",
    "~~~\n",
    "\n",
    "What if, instead of being able to climb 1 or 2 steps at a time, you could climb any number from a set of positive integers X? For example, if X = {1, 3, 5}, you could climb 1, 3, or 5 steps at a time."
   ]
  },
  {
   "cell_type": "code",
   "execution_count": 86,
   "metadata": {},
   "outputs": [
    {
     "data": {
      "text/plain": [
       "[(1, 5, 1),\n",
       " (5, 1, 1),\n",
       " (1, 1, 5),\n",
       " (3, 1, 3),\n",
       " (3, 3, 1),\n",
       " (1, 3, 3),\n",
       " (3, 1, 1, 1, 1),\n",
       " (1, 1, 3, 1, 1),\n",
       " (1, 1, 1, 3, 1),\n",
       " (1, 1, 1, 1, 3),\n",
       " (1, 3, 1, 1, 1),\n",
       " (1, 1, 1, 1, 1, 1, 1)]"
      ]
     },
     "execution_count": 86,
     "metadata": {},
     "output_type": "execute_result"
    }
   ],
   "source": [
    "from itertools import combinations_with_replacement, permutations\n",
    "N = 7\n",
    "steps=[1,3,5]\n",
    "uw = 0\n",
    "ways = []\n",
    "for i in range(1,N+1):\n",
    "    for way in combinations_with_replacement(steps, i):\n",
    "        if sum(way) == N:\n",
    "            ways += set(permutations(way))\n",
    "            \n",
    "ways"
   ]
  },
  {
   "cell_type": "code",
   "execution_count": null,
   "metadata": {},
   "outputs": [],
   "source": []
  },
  {
   "cell_type": "markdown",
   "metadata": {},
   "source": [
    "# 17/05/2018\n",
    "\n",
    "Given an integer k and a string s, find the length of the longest substring that contains at most k distinct characters.\n",
    "\n",
    "For example, given s = \"abcba\" and k = 2, the longest substring with k distinct characters is \"bcb\".\n",
    "\n",
    "[Solution](https://www.geeksforgeeks.org/find-the-longest-substring-with-k-unique-characters-in-a-given-string/)"
   ]
  },
  {
   "cell_type": "code",
   "execution_count": 249,
   "metadata": {},
   "outputs": [],
   "source": [
    "from collections import deque\n",
    "\n",
    "def k_distincts(s, k):\n",
    "    \n",
    "    \" Finds the maximum substring with exactly k distinct characters \"\n",
    "    \n",
    "    assert( k <= len(set(s))) # If there are not enough unique characters\n",
    "\n",
    "    d = deque(s[:k]) # deque to store the window\n",
    "     \n",
    "    start = 0 # window start indice in s\n",
    "    ssize, sstart = k, 0 # smallest substring s[:k]\n",
    "  \n",
    "    for c in s[k:]: # Start from the character s[k]\n",
    "        \n",
    "        d.append(c) # Add the next character to window\n",
    " \n",
    "        while k < len(set(d)): # If there are more than k unique characters in\n",
    "                               # current window, remove from left side\n",
    "            d.popleft()\n",
    "            start += 1\n",
    "            \n",
    "        size = len(d)\n",
    "        if size > ssize:  # Update the longuest substring indices if required\n",
    "            ssize = size\n",
    "            sstart = start\n",
    "    \n",
    "    res = s[sstart:sstart+ssize]\n",
    "    \n",
    "    return res\n",
    " \n",
    "\n",
    "assert(k_distincts(\"aadbebebebac\", 3) == \"dbebebeb\")\n",
    "assert(k_distincts(\"aabacbebebea\", 3) == \"cbebebe\")\n",
    "assert(k_distincts(\"ebebeabacbee\", 3) == \"ebebeaba\")"
   ]
  },
  {
   "cell_type": "markdown",
   "metadata": {},
   "source": [
    "# 18/05/2018\n",
    "\n",
    "The area of a circle is defined as $\\pi r^2$. Estimate $\\pi$ to 3 decimal places using a Monte Carlo method.\n",
    "\n"
   ]
  },
  {
   "cell_type": "code",
   "execution_count": 323,
   "metadata": {},
   "outputs": [
    {
     "name": "stdout",
     "output_type": "stream",
     "text": [
      " pi = 3.140372 \n",
      "CPU times: user 724 ms, sys: 101 ms, total: 825 ms\n",
      "Wall time: 830 ms\n"
     ]
    }
   ],
   "source": [
    "%%time\n",
    "from random import random\n",
    "\n",
    "s = 0\n",
    "n = int(1e6)\n",
    "for i in range(n):\n",
    "    x = random()\n",
    "    y = random()\n",
    "    if x*x + y*y <= 1:\n",
    "        s += 1\n",
    "    \n",
    "print(f\" pi = {4*s/n} \")    "
   ]
  },
  {
   "cell_type": "code",
   "execution_count": 345,
   "metadata": {},
   "outputs": [
    {
     "name": "stdout",
     "output_type": "stream",
     "text": [
      " pi = 3.14184384\n",
      "CPU times: user 4.38 s, sys: 1.58 s, total: 5.96 s\n",
      "Wall time: 6.03 s\n"
     ]
    }
   ],
   "source": [
    "%%time\n",
    "import numpy as np\n",
    "n = int(100e6)\n",
    "x = np.random.random(n)\n",
    "y = np.random.random(n)\n",
    "print(f\" pi = {np.where(x*x+y*y<=1)[0].size / n * 4}\")"
   ]
  },
  {
   "cell_type": "markdown",
   "metadata": {},
   "source": [
    "# 19/05/2018\n",
    "Given a stream of elements too large to store in memory, pick a random element from the stream with uniform probability.\n",
    "\n",
    "This a [reservoir sampling](https://en.wikipedia.org/wiki/Reservoir_sampling) problem.\n",
    "The algorithm creates a \"reservoir\" array of size k\n",
    "and populates it with the first k items of the stream. It then iterates through the remaining elements of until is exhausted."
   ]
  },
  {
   "cell_type": "code",
   "execution_count": 391,
   "metadata": {},
   "outputs": [
    {
     "data": {
      "text/plain": [
       "410"
      ]
     },
     "execution_count": 391,
     "metadata": {},
     "output_type": "execute_result"
    }
   ],
   "source": [
    "from random import seed, randrange, choice\n",
    "\n",
    "def bigstream_uniform_select(stream, k):\n",
    "    \" A function to randomly select k items from stream.\"\n",
    "\n",
    "    reservoir = stream[:k]\n",
    "\n",
    "    for i, s in enumerate(stream[k:]):  # Iterate from the (k+1)th element to nth element\n",
    "\n",
    "        j = randrange(i+k)\n",
    "\n",
    "        # If the randomly  picked index is smaller than k, then replace\n",
    "        # the element present at the index with new element from stream\n",
    "        if (j < k):\n",
    "            reservoir[j] = s\n",
    "\n",
    "    return choice(reservoir)\n",
    "\n",
    "\n",
    "stream = list(range(1000))\n",
    "k = 5\n",
    "bigstream_uniform_select(stream, k)"
   ]
  },
  {
   "cell_type": "markdown",
   "metadata": {},
   "source": [
    "# 20/05/2018\n",
    "\n",
    "You run an e-commerce website and want to record the last N order ids in a log. Implement a data structure to accomplish this, with the following API:\n",
    "\n",
    "record(order_id): adds the order_id to the log\n",
    "get_last(i): gets the ith last element from the log. i is guaranteed to be smaller than or equal to N.\n",
    "You should be as efficient with time and space as possible."
   ]
  },
  {
   "cell_type": "markdown",
   "metadata": {},
   "source": [
    "# 21/05/2018\n",
    "\n",
    "Suppose we represent our file system by a string in the following manner:\n",
    "\n",
    "The string \"dir\\n\\tsubdir1\\n\\tsubdir2\\n\\t\\tfile.ext\" represents:\n",
    "~~~\n",
    "dir\n",
    "    subdir1\n",
    "    subdir2\n",
    "        file.ext\n",
    "~~~\n",
    "\n",
    "The directory dir contains an empty sub-directory subdir1 and a sub-directory subdir2 containing a file file.ext.\n",
    "\n",
    "The string \"dir\\n\\tsubdir1\\n\\t\\tfile1.ext\\n\\t\\tsubsubdir1\\n\\tsubdir2\\n\\t\\tsubsubdir2\\n\\t\\t\\tfile2.ext\" represents:\n",
    "~~~\n",
    "dir\n",
    "    subdir1\n",
    "        file1.ext\n",
    "        subsubdir1\n",
    "    subdir2\n",
    "        subsubdir2\n",
    "            file2.ext\n",
    "~~~\n",
    "\n",
    "The directory dir contains two sub-directories subdir1 and subdir2. subdir1 contains a file file1.ext and an empty second-level sub-directory subsubdir1. subdir2 contains a second-level sub-directory subsubdir2 containing a file file2.ext.\n",
    "\n",
    "We are interested in finding the longest (number of characters) absolute path to a file within our file system. For example, in the second example above, the longest absolute path is \"dir/subdir2/subsubdir2/file2.ext\", and its length is 32 (not including the double quotes).\n",
    "\n",
    "Given a string representing the file system in the above format, return the length of the longest absolute path to a file in the abstracted file system. If there is no file in the system, return 0.\n",
    "\n",
    "Note:\n",
    "- The name of a file contains at least a period and an extension.\n",
    "- The name of a directory or sub-directory will not contain a period."
   ]
  },
  {
   "cell_type": "code",
   "execution_count": 5,
   "metadata": {},
   "outputs": [
    {
     "name": "stdout",
     "output_type": "stream",
     "text": [
      "dir\n",
      "\tsubdir1\n",
      "\t\tfile1.ext\n",
      "\t\tsubsubdir1\n",
      "\tsubdir2\n",
      "\t\tsubsubdir2\n",
      "\t\t\tfile2.ext\n"
     ]
    },
    {
     "data": {
      "text/plain": [
       "['\\t\\tfile1.ext', '\\t\\t\\tfile2.ext']"
      ]
     },
     "execution_count": 5,
     "metadata": {},
     "output_type": "execute_result"
    }
   ],
   "source": [
    "path = \"dir\\n\\tsubdir1\\n\\t\\tfile1.ext\\n\\t\\tsubsubdir1\\n\\tsubdir2\\n\\t\\tsubsubdir2\\n\\t\\t\\tfile2.ext\"\n",
    "print(path)\n",
    "paths = path.split('\\n')\n",
    "files = [x for x in paths if '.' in x]\n",
    "files"
   ]
  },
  {
   "cell_type": "markdown",
   "metadata": {},
   "source": [
    "# 22/05/2018\n",
    "\n",
    "Given an array of integers and a number k, where 1 <= k <= length of the array, compute the maximum values of each subarray of length k.\n",
    "\n",
    "For example, given array = [10, 5, 2, 7, 8, 7] and k = 3, we should get: [10, 7, 8, 8], since:\n",
    "\n",
    "```\n",
    "10 = max(10, 5, 2)\n",
    "7 = max(5, 2, 7)\n",
    "8 = max(2, 7, 8)\n",
    "8 = max(7, 8, 7)\n",
    "```\n",
    "\n",
    "Do this in O(n) time and O(k) space. You can modify the input array in-place and you do not need to store the results. You can simply print them out as you compute them.\n",
    "\n"
   ]
  },
  {
   "cell_type": "code",
   "execution_count": 33,
   "metadata": {},
   "outputs": [
    {
     "data": {
      "text/plain": [
       "[10, 7, 8, 8, 8, 7, 6, 5, 4, 3]"
      ]
     },
     "execution_count": 33,
     "metadata": {},
     "output_type": "execute_result"
    }
   ],
   "source": [
    "array = [10, 5, 2, 7, 8, 7, 6, 5, 4, 3, 2, 1]\n",
    "k = 3\n",
    "for j in range(1,k):\n",
    "    array = [max(a) for a in zip(array[:-1],array[1:])]\n",
    "array"
   ]
  },
  {
   "cell_type": "code",
   "execution_count": 34,
   "metadata": {},
   "outputs": [
    {
     "name": "stdout",
     "output_type": "stream",
     "text": [
      "10 7 8 8 8 7 6 5 4 3 "
     ]
    }
   ],
   "source": [
    "array = [10, 5, 2, 7, 8, 7, 6, 5, 4, 3, 2, 1] \n",
    "for i in range(len(array) - k + 1):\n",
    "    amax = array[i]\n",
    "    for j in range(1, k):\n",
    "        amax = max(array[i + j], amax)\n",
    "    print(amax, end = \" \")\n",
    " "
   ]
  },
  {
   "cell_type": "code",
   "execution_count": 37,
   "metadata": {},
   "outputs": [
    {
     "name": "stdout",
     "output_type": "stream",
     "text": [
      "10 7 8 8 8 7 6 5 4 3\n"
     ]
    }
   ],
   "source": [
    "from collections import deque\n",
    "\n",
    "array = [10, 5, 2, 7, 8, 7, 6, 5, 4, 3, 2, 1]\n",
    "n = len(array)\n",
    "\n",
    "d = deque() # store indices of max\n",
    " \n",
    "for i in range(k): # loop over first window\n",
    "   \n",
    "    while d and array[i] >= array[d[-1]] : #remove smaller items\n",
    "        d.pop()\n",
    "     \n",
    "    d.append(i)\n",
    "     \n",
    "for i in range(k, n):\n",
    "     \n",
    "    print(array[d[0]], end = \" \")\n",
    "    \n",
    "    while d and d[0] <= i-k: #remove items outside the window\n",
    "        d.popleft() \n",
    "     \n",
    "    while d and array[i] >= array[d[-1]] : #remove smaller items\n",
    "        d.pop()\n",
    "     \n",
    "    d.append(i)\n",
    "     \n",
    "print(str(array[d[0]]))"
   ]
  },
  {
   "cell_type": "markdown",
   "metadata": {},
   "source": [
    "# 23/05/2018\n",
    "\n",
    "A builder is looking to build a row of N houses that can be of K different colors. He has a goal of minimizing cost while ensuring that no two neighboring houses are of the same color.\n",
    "\n",
    "Given an N by K matrix where the nth row and kth column represents the cost to build the nth house with kth color, return the minimum cost which achieves this goal.\n",
    "\n"
   ]
  }
 ],
 "metadata": {
  "kernelspec": {
   "display_name": "Python 3",
   "language": "python",
   "name": "python3"
  },
  "language_info": {
   "codemirror_mode": {
    "name": "ipython",
    "version": 3
   },
   "file_extension": ".py",
   "mimetype": "text/x-python",
   "name": "python",
   "nbconvert_exporter": "python",
   "pygments_lexer": "ipython3",
   "version": "3.6.5"
  }
 },
 "nbformat": 4,
 "nbformat_minor": 2
}
