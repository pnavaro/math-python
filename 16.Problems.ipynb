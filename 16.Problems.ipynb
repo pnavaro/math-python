{
 "cells": [
  {
   "cell_type": "markdown",
   "metadata": {},
   "source": [
    "# 05/05/2018\n",
    "\n",
    "Given a list of numbers, return whether any two sums to k.\n",
    "\n",
    "For example, given [10, 15, 3, 7] and k of 17, return true since 10 + 7 is 17."
   ]
  },
  {
   "cell_type": "code",
   "execution_count": 16,
   "metadata": {},
   "outputs": [
    {
     "data": {
      "text/plain": [
       "(True, False)"
      ]
     },
     "execution_count": 16,
     "metadata": {},
     "output_type": "execute_result"
    }
   ],
   "source": [
    "def problem( numbers, k ):\n",
    "    for n1 in numbers:\n",
    "        for n2 in numbers:\n",
    "            if n1+n2 == k :\n",
    "                return True\n",
    "    return False\n",
    "\n",
    "numbers = [10, 15, 3, 7] \n",
    "problem(numbers, 17), problem(numbers, 19)\n",
    "                "
   ]
  },
  {
   "cell_type": "code",
   "execution_count": 36,
   "metadata": {},
   "outputs": [
    {
     "data": {
      "text/plain": [
       "(True, False)"
      ]
     },
     "execution_count": 36,
     "metadata": {},
     "output_type": "execute_result"
    }
   ],
   "source": [
    "from itertools import combinations\n",
    "\n",
    "def problem( numbers, k ):\n",
    "    return k in map( sum, combinations(numbers, 2))\n",
    "\n",
    "numbers = [10, 15, 3, 7] \n",
    "problem(numbers, 17), problem(numbers, 19)\n",
    "                "
   ]
  },
  {
   "cell_type": "markdown",
   "metadata": {},
   "source": [
    "# 06/05/2018\n",
    "Given an array of integers, return a new array such that each element at index i of the new array is the product of all the numbers in the original array except the one at i.\n",
    "\n",
    "For example, if our input was [1, 2, 3, 4, 5], the expected output would be [120, 60, 40, 30, 24]. If our input was [3, 2, 1], the expected output would be [2, 3, 6]."
   ]
  },
  {
   "cell_type": "code",
   "execution_count": 37,
   "metadata": {},
   "outputs": [
    {
     "data": {
      "text/plain": [
       "([120, 60, 40, 30, 24], [2, 3, 6])"
      ]
     },
     "execution_count": 37,
     "metadata": {},
     "output_type": "execute_result"
    }
   ],
   "source": [
    "from functools import reduce\n",
    "from operator import mul\n",
    "    \n",
    "def product( numbers ):\n",
    "    \n",
    "    return [reduce(mul, [e for e in numbers if e != n]) for n in numbers]\n",
    "        \n",
    "product([1, 2, 3, 4, 5]), product([3,2,1])\n",
    "        "
   ]
  },
  {
   "cell_type": "markdown",
   "metadata": {},
   "source": [
    "# 07/05/2018\n",
    "\n",
    "Given the root to a binary tree, implement serialize(root), which serializes the tree into a string, and deserialize(s), which deserializes the string back into the tree.\n",
    "\n",
    "For example, given the following Node class\n",
    "```python\n",
    "class Node:\n",
    "    def __init__(self, val, left=None, right=None):\n",
    "        self.val = val\n",
    "        self.left = left\n",
    "        self.right = right\n",
    "```\n",
    "The following test should pass:\n",
    "\n",
    "```python\n",
    "node = Node('root', Node('left', Node('left.left')), Node('right'))\n",
    "assert deserialize(serialize(node)).left.left.val == 'left.left'\n",
    "```"
   ]
  },
  {
   "cell_type": "code",
   "execution_count": 38,
   "metadata": {},
   "outputs": [
    {
     "ename": "SyntaxError",
     "evalue": "EOL while scanning string literal (<ipython-input-38-0a4604b12481>, line 27)",
     "output_type": "error",
     "traceback": [
      "\u001b[0;36m  File \u001b[0;32m\"<ipython-input-38-0a4604b12481>\"\u001b[0;36m, line \u001b[0;32m27\u001b[0m\n\u001b[0;31m    if val is None':\u001b[0m\n\u001b[0m                    ^\u001b[0m\n\u001b[0;31mSyntaxError\u001b[0m\u001b[0;31m:\u001b[0m EOL while scanning string literal\n"
     ]
    }
   ],
   "source": [
    "class Node:\n",
    "\n",
    "    def __init__(self, val, left=None, right=None):\n",
    "        self.val = val\n",
    "        self.left = left\n",
    "        self.right = right\n",
    "\n",
    "\n",
    "def serialize(root):\n",
    "    def doit(node):\n",
    "        if node:\n",
    "            vals.append(node.val)\n",
    "            doit(node.left)\n",
    "            doit(node.right)\n",
    "        else:\n",
    "            vals.append(None)\n",
    "    vals = []\n",
    "    doit(root)\n",
    "    return ' '.join(vals)\n",
    "\n",
    "\n",
    "def deserialize(data):\n",
    "    vals = iter(data.split())\n",
    "\n",
    "    def doit():\n",
    "        val = next(vals)\n",
    "        if val is None':\n",
    "            return None\n",
    "        node = Node(val)\n",
    "        node.left = doit()\n",
    "        node.right = doit()\n",
    "        return node\n",
    "    return doit()\n",
    "\n",
    "\n",
    "node = Node('root', Node('left', Node('left.left')), Node('right'))\n",
    "deserialize(serialize(node)).left.left.val"
   ]
  },
  {
   "cell_type": "markdown",
   "metadata": {},
   "source": [
    "# 08/05/2018\n",
    "\n",
    "Given an array of integers, find the first missing positive integer in linear time and constant space. In other words, find the lowest positive integer that does not exist in the array. The array can contain duplicates and negative numbers as well.\n",
    "\n",
    "For example, the input [3, 4, -1, 1] should give 2. The input [1, 2, 0] should give 3.\n",
    "\n",
    "You can modify the input array in-place."
   ]
  },
  {
   "cell_type": "code",
   "execution_count": 72,
   "metadata": {},
   "outputs": [
    {
     "name": "stdout",
     "output_type": "stream",
     "text": [
      "[1, 3, 4]\t2\n",
      "[1, 2]\t3\n",
      "[2, 3, 7]\t1\n"
     ]
    }
   ],
   "source": [
    "def lowest_positive_integer(numbers):\n",
    "    numbers = [n for n in sorted(numbers) if n > 0]\n",
    "    print(numbers, end=\"\\t\")\n",
    "    linspace = list()\n",
    "    for i,n  in enumerate(numbers):\n",
    "        if i+1 != n:\n",
    "            return i+1\n",
    "    return n+1\n",
    "\n",
    "from random import randrange\n",
    "\n",
    "print(lowest_positive_integer([3, 4, -1, 1]))\n",
    "print(lowest_positive_integer([1, 2, 0]))\n",
    "print(lowest_positive_integer([-3,-1, 2,3,7]))"
   ]
  },
  {
   "cell_type": "code",
   "execution_count": null,
   "metadata": {},
   "outputs": [],
   "source": []
  },
  {
   "cell_type": "code",
   "execution_count": null,
   "metadata": {},
   "outputs": [],
   "source": []
  }
 ],
 "metadata": {
  "kernelspec": {
   "display_name": "Python 3",
   "language": "python",
   "name": "python3"
  },
  "language_info": {
   "codemirror_mode": {
    "name": "ipython",
    "version": 3
   },
   "file_extension": ".py",
   "mimetype": "text/x-python",
   "name": "python",
   "nbconvert_exporter": "python",
   "pygments_lexer": "ipython3",
   "version": "3.6.5"
  }
 },
 "nbformat": 4,
 "nbformat_minor": 2
}
