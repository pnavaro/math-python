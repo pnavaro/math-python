{
 "cells": [
  {
   "cell_type": "markdown",
   "metadata": {},
   "source": [
    "# 05/05/2018\n",
    "\n",
    "Given a list of numbers, return whether any two sums to k.\n",
    "\n",
    "For example, given [10, 15, 3, 7] and k of 17, return true since 10 + 7 is 17."
   ]
  },
  {
   "cell_type": "code",
   "execution_count": 188,
   "metadata": {},
   "outputs": [
    {
     "data": {
      "text/plain": [
       "(True, False)"
      ]
     },
     "execution_count": 188,
     "metadata": {},
     "output_type": "execute_result"
    }
   ],
   "source": [
    "def problem( numbers, k ):\n",
    "    for n1 in numbers:\n",
    "        for n2 in numbers:\n",
    "            if n1+n2 == k :\n",
    "                return True\n",
    "    return False\n",
    "\n",
    "numbers = [10, 15, 3, 7] \n",
    "problem(numbers, 17), problem(numbers, 19)\n",
    "                "
   ]
  },
  {
   "cell_type": "code",
   "execution_count": 189,
   "metadata": {},
   "outputs": [
    {
     "data": {
      "text/plain": [
       "(True, False)"
      ]
     },
     "execution_count": 189,
     "metadata": {},
     "output_type": "execute_result"
    }
   ],
   "source": [
    "from itertools import combinations\n",
    "\n",
    "def problem( numbers, k ):\n",
    "    return k in map( sum, combinations(numbers, 2))\n",
    "\n",
    "numbers = [10, 15, 3, 7] \n",
    "problem(numbers, 17), problem(numbers, 19)\n",
    "                "
   ]
  },
  {
   "cell_type": "markdown",
   "metadata": {},
   "source": [
    "# 06/05/2018\n",
    "Given an array of integers, return a new array such that each element at index i of the new array is the product of all the numbers in the original array except the one at i.\n",
    "\n",
    "For example, if our input was [1, 2, 3, 4, 5], the expected output would be [120, 60, 40, 30, 24]. If our input was [3, 2, 1], the expected output would be [2, 3, 6]."
   ]
  },
  {
   "cell_type": "code",
   "execution_count": 190,
   "metadata": {},
   "outputs": [
    {
     "data": {
      "text/plain": [
       "([120, 60, 40, 30, 24], [2, 3, 6])"
      ]
     },
     "execution_count": 190,
     "metadata": {},
     "output_type": "execute_result"
    }
   ],
   "source": [
    "from functools import reduce\n",
    "from operator import mul\n",
    "    \n",
    "def product( numbers ):\n",
    "    \n",
    "    return [reduce(mul, [e for e in numbers if e != n]) for n in numbers]\n",
    "        \n",
    "product([1, 2, 3, 4, 5]), product([3,2,1])\n",
    "        "
   ]
  },
  {
   "cell_type": "markdown",
   "metadata": {},
   "source": [
    "# 07/05/2018\n",
    "\n",
    "Given the root to a [binary tree](https://bradfieldcs.com/algos/trees/representing-a-tree/), implement serialize(root), which serializes the tree into a string, and deserialize(s), which deserializes the string back into the tree.\n",
    "\n",
    "For example, given the following Node class\n",
    "```python\n",
    "class Node:\n",
    "    def __init__(self, val, left=None, right=None):\n",
    "        self.val = val\n",
    "        self.left = left\n",
    "        self.right = right\n",
    "```\n",
    "The following test should pass:\n",
    "\n",
    "```python\n",
    "node = Node('root', Node('left', Node('left.left')), Node('right'))\n",
    "assert deserialize(serialize(node)).left.left.val == 'left.left'\n",
    "```"
   ]
  },
  {
   "cell_type": "code",
   "execution_count": 191,
   "metadata": {},
   "outputs": [
    {
     "data": {
      "text/plain": [
       "'left.left'"
      ]
     },
     "execution_count": 191,
     "metadata": {},
     "output_type": "execute_result"
    }
   ],
   "source": [
    "class Node:\n",
    "\n",
    "    def __init__(self, val, left=None, right=None):\n",
    "        self.val = val\n",
    "        self.left = left\n",
    "        self.right = right\n",
    "\n",
    "    def __repr__(self):\n",
    "        if self.right:\n",
    "            fmt = '{}({val!r}, {left!r}, {right!r})'\n",
    "        elif self.left:\n",
    "            fmt = '{}({val!r}, {left!r})'\n",
    "        else:\n",
    "            fmt = '{}({val!r})'\n",
    "        return fmt.format(type(self).__name__, **vars(self))\n",
    "\n",
    "\n",
    "def serialize(root):\n",
    "    def doit(node):\n",
    "        if node:\n",
    "            vals.append(node.val)\n",
    "            doit(node.left)\n",
    "            doit(node.right)\n",
    "        else:\n",
    "            vals.append('#')\n",
    "    vals = []\n",
    "    doit(root)\n",
    "    return ' '.join(vals)\n",
    "\n",
    "\n",
    "def deserialize(data):\n",
    "    vals = iter(data.split())\n",
    "\n",
    "    def doit():\n",
    "        val = next(vals)\n",
    "        if val == '#':\n",
    "            return None\n",
    "        node = Node(val)\n",
    "        node.left = doit()\n",
    "        node.right = doit()\n",
    "        return node\n",
    "    return doit()\n",
    "\n",
    "\n",
    "node = Node('root', Node('left', Node('left.left')), Node('right'))\n",
    "deserialize(serialize(node)).left.left.val"
   ]
  },
  {
   "cell_type": "markdown",
   "metadata": {},
   "source": [
    "# 08/05/2018\n",
    "\n",
    "Given an array of integers, find the first missing positive integer in linear time and constant space. In other words, find the lowest positive integer that does not exist in the array. The array can contain duplicates and negative numbers as well.\n",
    "\n",
    "For example, the input [3, 4, -1, 1] should give 2. The input [1, 2, 0] should give 3.\n",
    "\n",
    "You can modify the input array in-place."
   ]
  },
  {
   "cell_type": "code",
   "execution_count": 192,
   "metadata": {},
   "outputs": [
    {
     "name": "stdout",
     "output_type": "stream",
     "text": [
      "2\n",
      "3\n",
      "1\n"
     ]
    }
   ],
   "source": [
    "def lowest_positive_integer(numbers):\n",
    "    numbers = [n for n in sorted(numbers) if n > 0]\n",
    "    for i,n  in enumerate(numbers):\n",
    "        if i+1 != n:\n",
    "            return i+1\n",
    "    return n+1\n",
    "\n",
    "from random import randrange\n",
    "\n",
    "print(lowest_positive_integer([3, 4, -1, 1]))\n",
    "print(lowest_positive_integer([1, 2, 0]))\n",
    "print(lowest_positive_integer([-3,-1, 2,3,7]))"
   ]
  },
  {
   "cell_type": "markdown",
   "metadata": {},
   "source": [
    "# 09/05/2018\n",
    "\n",
    "cons(a, b) constructs a pair, and car(pair) and cdr(pair) returns the first and last element of that pair. For example, car(cons(3, 4)) returns 3, and cdr(cons(3, 4)) returns 4.\n",
    "\n",
    "Given this implementation of cons:\n",
    "\n",
    "```py\n",
    "def cons(a, b):\n",
    "    def pair(f):\n",
    "        return f(a, b)\n",
    "    return pair\n",
    "```\n",
    "Implement car and cdr.\n",
    "\n"
   ]
  },
  {
   "cell_type": "code",
   "execution_count": 193,
   "metadata": {},
   "outputs": [
    {
     "data": {
      "text/plain": [
       "(3, 4)"
      ]
     },
     "execution_count": 193,
     "metadata": {},
     "output_type": "execute_result"
    }
   ],
   "source": [
    "def cons(a, b):\n",
    "    def pair(f):\n",
    "        return f(a, b)\n",
    "    return pair\n",
    "\n",
    "def car(pair):\n",
    "    return pair(lambda x,y:x)\n",
    "\n",
    "def cdr(pair):\n",
    "    return pair(lambda x,y:y)\n",
    "\n",
    "\n",
    "car(cons(3, 4)), cdr(cons(3,4))\n"
   ]
  },
  {
   "cell_type": "markdown",
   "metadata": {},
   "source": [
    "# 10/05/2018\n",
    "\n",
    "An XOR linked list is a more memory efficient doubly linked list. Instead of each node holding next and prev fields, it holds a field named both, which is an XOR of the next node and the previous node. Implement an XOR linked list; it has an add(element) which adds the element to the end, and a get(index) which returns the node at index.\n",
    "\n",
    "If using a language that has no pointers (such as Python), you can assume you have access to get_pointer and dereference_pointer functions that converts between nodes and memory addresses."
   ]
  },
  {
   "cell_type": "code",
   "execution_count": 194,
   "metadata": {},
   "outputs": [
    {
     "data": {
      "text/plain": [
       "(4, 3)"
      ]
     },
     "execution_count": 194,
     "metadata": {},
     "output_type": "execute_result"
    }
   ],
   "source": [
    "x, y = 3, 4\n",
    "x = x ^ y\n",
    "y = x ^ y\n",
    "x = x ^ y\n",
    "x, y"
   ]
  },
  {
   "cell_type": "code",
   "execution_count": 195,
   "metadata": {},
   "outputs": [
    {
     "data": {
      "text/plain": [
       "[4]"
      ]
     },
     "execution_count": 195,
     "metadata": {},
     "output_type": "execute_result"
    }
   ],
   "source": [
    "def get_pointer(value):\n",
    "    return id(value)\n",
    "\n",
    "def dereference_pointer(address):\n",
    "    return [x for x in globals().values() if id(x)==address]\n",
    "\n",
    "arr = 1\n",
    "dereference_pointer(get_pointer(x))"
   ]
  },
  {
   "cell_type": "markdown",
   "metadata": {},
   "source": [
    "# 11/05/2018\n",
    "\n",
    "Given the mapping a = 1, b = 2, ... z = 26, and an encoded message, count the number of ways it can be decoded.\n",
    "\n",
    "For example, the message '111' would give 3, since it could be decoded as 'aaa', 'ka', and 'ak'.\n",
    "\n",
    "You can assume that the messages are decodable. For example, '001' is not allowed.\n",
    "\n",
    "[stackoverflow](https://stackoverflow.com/questions/15586047/given-an-encoded-message-count-the-number-of-ways-it-can-be-decoded)"
   ]
  },
  {
   "cell_type": "code",
   "execution_count": 196,
   "metadata": {},
   "outputs": [
    {
     "data": {
      "text/plain": [
       "(3, 5, 6)"
      ]
     },
     "execution_count": 196,
     "metadata": {},
     "output_type": "execute_result"
    }
   ],
   "source": [
    "def decode(message):\n",
    "    way_0, way_1 = 1, 0\n",
    "    for i in range(len(message)):\n",
    "        w = 0\n",
    "        if i > 0 and (message[i - 1] == '1' or (message[i - 1] == '2' and message[i] < '7')):\n",
    "            w += way_1\n",
    "\n",
    "        if message[i] > '0':\n",
    "            w += way_0\n",
    "\n",
    "        way_1, way_0 = way_0, w\n",
    "\n",
    "    return way_0\n",
    "\n",
    "\n",
    "decode(\"111\"), decode(\"1226\"), decode(\"12321\")"
   ]
  },
  {
   "cell_type": "markdown",
   "metadata": {},
   "source": [
    "# 12/05/2018\n",
    "\n",
    "A unival tree (which stands for \"universal value\") is a tree where all nodes under it have the same value.\n",
    "\n",
    "Given the root to a binary tree, count the number of unival subtrees.\n",
    "\n",
    "For example, the following tree has 5 unival subtrees:\n",
    "```\n",
    "   0\n",
    "  / \\\n",
    " 1   0\n",
    "    / \\\n",
    "   1   0\n",
    "  / \\\n",
    " 1   1\n",
    "```\n",
    "\n",
    "[stackoverflow](https://stackoverflow.com/questions/29088835/counting-the-number-of-unival-subtrees-in-a-binary-tree)"
   ]
  },
  {
   "cell_type": "code",
   "execution_count": 199,
   "metadata": {},
   "outputs": [
    {
     "data": {
      "text/plain": [
       "7"
      ]
     },
     "execution_count": 199,
     "metadata": {},
     "output_type": "execute_result"
    }
   ],
   "source": [
    "def count_uni_vals(node):\n",
    "    if not node:\n",
    "        return 0, True\n",
    "    val_left,  uni_left = count_uni_vals(node.left)\n",
    "    val_right, uni_right = count_uni_vals(node.right)\n",
    "    s = val_left + val_right\n",
    "    unival = False\n",
    "    if uni_left and uni_right and (not node.left or node.left.val == node.val) and (not node.right or node.right.val == node.val):\n",
    "        s += 1\n",
    "        unival = True\n",
    "\n",
    "    return s, unival\n",
    "\n",
    "\n",
    "node = Node('0', Node('1',Node('1'),Node('1')), Node(\n",
    "    '0', Node('1', Node('1'), Node('1')), Node('0')))\n",
    "\n",
    "count_uni_vals(node)[0]"
   ]
  },
  {
   "cell_type": "markdown",
   "metadata": {},
   "source": [
    "# 13/05/2018\n",
    "Given a list of integers, write a function that returns the largest sum of non-adjacent numbers. Numbers can be 0 or negative.\n",
    "\n",
    "For example, [2, 4, 6, 8] should return 12, since we pick 4 and 8. [5, 1, 1, 5] should return 10, since we pick 5 and 5.\n",
    "\n",
    "Follow-up: Can you do this in O(N) time and constant space?\n",
    "\n",
    "[solution](http://blog.gainlo.co/index.php/2016/12/02/uber-interview-question-maximum-sum-non-adjacent-elements/)"
   ]
  },
  {
   "cell_type": "code",
   "execution_count": 248,
   "metadata": {},
   "outputs": [],
   "source": [
    "def largest_sum(numbers):\n",
    "    \" returns the largest sum of non-adjacent numbers \"\n",
    "    prev_one, prev_two, res = 0, 0, 0\n",
    "    for i, n  in enumerate(numbers):\n",
    "        if i == 0:\n",
    "            res = n\n",
    "        elif i == 1:\n",
    "            res = max(numbers[0], n)\n",
    "        else:\n",
    "            res = max(prev_one, n + prev_two)\n",
    "            \n",
    "        prev_two = prev_one\n",
    "        prev_one = res\n",
    "        \n",
    "    return res\n",
    "        "
   ]
  },
  {
   "cell_type": "code",
   "execution_count": 249,
   "metadata": {},
   "outputs": [
    {
     "data": {
      "text/plain": [
       "(12, 10)"
      ]
     },
     "execution_count": 249,
     "metadata": {},
     "output_type": "execute_result"
    }
   ],
   "source": [
    "largest_sum([2, 4, 6, 8]), largest_sum([5, 1, 1, 5] )"
   ]
  },
  {
   "cell_type": "code",
   "execution_count": 1,
   "metadata": {},
   "outputs": [
    {
     "ename": "NameError",
     "evalue": "name 'largest_sum' is not defined",
     "output_type": "error",
     "traceback": [
      "\u001b[0;31m---------------------------------------------------------------------------\u001b[0m",
      "\u001b[0;31mNameError\u001b[0m                                 Traceback (most recent call last)",
      "\u001b[0;32m<ipython-input-1-d7804c8424d6>\u001b[0m in \u001b[0;36m<module>\u001b[0;34m()\u001b[0m\n\u001b[1;32m      1\u001b[0m \u001b[0;32mfrom\u001b[0m \u001b[0mrandom\u001b[0m \u001b[0;32mimport\u001b[0m \u001b[0mrandrange\u001b[0m\u001b[0;34m\u001b[0m\u001b[0m\n\u001b[1;32m      2\u001b[0m \u001b[0mnumbers\u001b[0m \u001b[0;34m=\u001b[0m \u001b[0;34m[\u001b[0m\u001b[0mrandrange\u001b[0m\u001b[0;34m(\u001b[0m\u001b[0;34m-\u001b[0m\u001b[0;36m4\u001b[0m\u001b[0;34m,\u001b[0m\u001b[0;36m0\u001b[0m\u001b[0;34m)\u001b[0m \u001b[0;32mfor\u001b[0m \u001b[0mi\u001b[0m \u001b[0;32min\u001b[0m \u001b[0mrange\u001b[0m\u001b[0;34m(\u001b[0m\u001b[0;36m5\u001b[0m\u001b[0;34m)\u001b[0m\u001b[0;34m]\u001b[0m\u001b[0;34m\u001b[0m\u001b[0m\n\u001b[0;32m----> 3\u001b[0;31m \u001b[0mnumbers\u001b[0m\u001b[0;34m,\u001b[0m \u001b[0mlargest_sum\u001b[0m\u001b[0;34m(\u001b[0m\u001b[0mnumbers\u001b[0m\u001b[0;34m)\u001b[0m\u001b[0;34m\u001b[0m\u001b[0m\n\u001b[0m",
      "\u001b[0;31mNameError\u001b[0m: name 'largest_sum' is not defined"
     ]
    }
   ],
   "source": [
    "from random import randrange\n",
    "numbers = [randrange(-4,0) for i in range(5)]\n",
    "numbers, largest_sum(numbers)"
   ]
  },
  {
   "cell_type": "markdown",
   "metadata": {},
   "source": [
    "# 14/05/2018\n",
    "\n",
    "Implement a job scheduler which takes in a function f and an integer n, and calls f after n milliseconds.\n",
    "\n"
   ]
  },
  {
   "cell_type": "code",
   "execution_count": 10,
   "metadata": {},
   "outputs": [
    {
     "name": "stdout",
     "output_type": "stream",
     "text": [
      "Execute f!\n",
      "CPU times: user 7.66 ms, sys: 10.9 ms, total: 18.5 ms\n",
      "Wall time: 5.02 s\n"
     ]
    }
   ],
   "source": [
    "%%time\n",
    "from concurrent.futures import ProcessPoolExecutor\n",
    "from time import time, sleep\n",
    "\n",
    "def job_scheduler(f, n):\n",
    "    with ProcessPoolExecutor(max_workers=1) as executor:\n",
    "        future = executor.submit(f)\n",
    "        sleep (n)\n",
    "        print(future.result())\n",
    "\n",
    "def f():\n",
    "    return \"Execute f!\"\n",
    "\n",
    "job_scheduler(f, 5)"
   ]
  },
  {
   "cell_type": "markdown",
   "metadata": {},
   "source": [
    "# 15/04/2018\n",
    "\n",
    "Implement an autocomplete system. That is, given a query string s and a set of all possible query strings, return all strings in the set that have s as a prefix.\n",
    "\n",
    "For example, given the query string de and the set of strings [dog, deer, deal], return [deer, deal].\n",
    "\n",
    "Hint: Try preprocessing the dictionary into a more efficient data structure to speed up queries.\n",
    "\n",
    "My solution use brute-force algorbut is simple. The most efficient data structure is a [prefix tree](https://towardsdatascience.com/implementing-a-trie-data-structure-in-python-in-less-than-100-lines-of-code-a877ea23c1a1)"
   ]
  },
  {
   "cell_type": "code",
   "execution_count": 48,
   "metadata": {},
   "outputs": [
    {
     "data": {
      "text/plain": [
       "['velit',\n",
       " 'tempora',\n",
       " 'aliquam',\n",
       " 'numquam',\n",
       " 'dolor',\n",
       " 'non',\n",
       " 'dolorem',\n",
       " 'non',\n",
       " 'modi',\n",
       " 'aliquam',\n",
       " 'quaerat',\n",
       " 'non',\n",
       " 'aliquam',\n",
       " 'magnam',\n",
       " 'dolor',\n",
       " 'dolor',\n",
       " 'dolore',\n",
       " 'dolore',\n",
       " 'non',\n",
       " 'neque',\n",
       " 'ipsum',\n",
       " 'etincidunt',\n",
       " 'numquam',\n",
       " 'ut',\n",
       " 'amet',\n",
       " 'quisquam',\n",
       " 'neque',\n",
       " 'dolor',\n",
       " 'aliquam',\n",
       " 'numquam',\n",
       " 'sed',\n",
       " 'porro',\n",
       " 'eius']"
      ]
     },
     "execution_count": 48,
     "metadata": {},
     "output_type": "execute_result"
    }
   ],
   "source": [
    "from lorem import paragraph\n",
    "from collections import Counter\n",
    "\n",
    "strings = paragraph().lower().replace('.','').split()\n",
    "\n",
    "def autocomplete(strings, prefix):\n",
    "    \n",
    "    return filter(lambda w:w.startswith(prefix), set(strings))\n",
    "        \n",
    "strings"
   ]
  },
  {
   "cell_type": "code",
   "execution_count": 49,
   "metadata": {},
   "outputs": [
    {
     "name": "stdout",
     "output_type": "stream",
     "text": [
      "dolorem dolor dolore\n"
     ]
    }
   ],
   "source": [
    "print(*autocomplete(strings, 'do'))"
   ]
  },
  {
   "cell_type": "markdown",
   "metadata": {},
   "source": [
    "# 16/05/2017\n",
    "\n",
    "There exists a staircase with N steps, and you can climb up either 1 or 2 steps at a time. Given N, write a function that returns the number of unique ways you can climb the staircase. The order of the steps matters.\n",
    "\n",
    "For example, if N is 4, then there are 5 unique ways:\n",
    "\n",
    "~~~\n",
    "1, 1, 1, 1\n",
    "2, 1, 1\n",
    "1, 2, 1\n",
    "1, 1, 2\n",
    "2, 2\n",
    "~~~\n",
    "\n",
    "What if, instead of being able to climb 1 or 2 steps at a time, you could climb any number from a set of positive integers X? For example, if X = {1, 3, 5}, you could climb 1, 3, or 5 steps at a time."
   ]
  },
  {
   "cell_type": "code",
   "execution_count": 56,
   "metadata": {},
   "outputs": [
    {
     "name": "stdout",
     "output_type": "stream",
     "text": [
      "[9, 5, 9, 3]\n"
     ]
    },
    {
     "data": {
      "text/plain": [
       "23"
      ]
     },
     "execution_count": 56,
     "metadata": {},
     "output_type": "execute_result"
    }
   ],
   "source": [
    "pyramide = [[3],[7,4],[2,4,6],[9,5,9,3]]\n",
    "\n",
    "def c_opt(pyramide):\n",
    "    pyramide.reverse()\n",
    "    c = pyramide[0] # pyramide bottom\n",
    "    for ligne in pyramide[1:-1]:\n",
    "        for i, v in enumerate(ligne[:-1]):\n",
    "            c[i] = v + max(c[i],c[i+1])\n",
    "    return c[0]+pyramide[-1][0] # add pyramide top\n",
    "\n",
    "c_opt(pyramide)"
   ]
  },
  {
   "cell_type": "code",
   "execution_count": null,
   "metadata": {},
   "outputs": [],
   "source": []
  }
 ],
 "metadata": {
  "kernelspec": {
   "display_name": "Python 3",
   "language": "python",
   "name": "python3"
  },
  "language_info": {
   "codemirror_mode": {
    "name": "ipython",
    "version": 3
   },
   "file_extension": ".py",
   "mimetype": "text/x-python",
   "name": "python",
   "nbconvert_exporter": "python",
   "pygments_lexer": "ipython3",
   "version": "3.6.5"
  }
 },
 "nbformat": 4,
 "nbformat_minor": 2
}
