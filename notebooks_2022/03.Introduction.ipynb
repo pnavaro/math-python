{
 "cells": [
  {
   "cell_type": "markdown",
   "id": "d236ca01",
   "metadata": {
    "slideshow": {
     "slide_type": "slide"
    }
   },
   "source": [
    "![jkvdp_tweet](jkvdp_tweet.png)"
   ]
  },
  {
   "cell_type": "markdown",
   "id": "42c14d36",
   "metadata": {
    "slideshow": {
     "slide_type": "slide"
    }
   },
   "source": [
    "# History\n",
    "\n",
    "- Project initiated by Guido Von Rossum in 1990\n",
    "- Interpreted language written in C.\n",
    "- Widely used in all domains (Web, Data Science, Scientific Computation).\n",
    "- This is a high level language with a simple syntax. \n",
    "- Python types are numerously and powerful.\n",
    "- Bind Python with other languages is easy.\n",
    "- You can perform a lot of operations with very few lines.\n",
    "- Available on all platforms Unix, Windows, Mac OS X...\n",
    "- Very few limits.\n",
    "- Many libraries offer Python bindings.\n",
    "\n"
   ]
  },
  {
   "cell_type": "markdown",
   "id": "26622e17",
   "metadata": {
    "slideshow": {
     "slide_type": "slide"
    }
   },
   "source": [
    "# Python installations\n",
    "\n",
    " Python packages are available with all linux distributions but you can get standalone bundles:\n",
    "- [Pycharm](https://www.jetbrains.com/fr-fr/pycharm/)\n",
    "- [Astropy](http://www.astropy.org)\n",
    "- [SAGEMATH](http://sagemath.org/)\n",
    "- [Anaconda](https://www.continuum.io/downloads)\n",
    "- [Thonny](https://thonny.org/)\n"
   ]
  },
  {
   "cell_type": "markdown",
   "id": "6be4ef56",
   "metadata": {
    "slideshow": {
     "slide_type": "slide"
    }
   },
   "source": [
    "# Performances\n",
    " Python is not fast... but:\n",
    "- Sometimes it is. \n",
    "- Most of operations are optimized.\n",
    "- Package like numpy can reduce the CPU time.\n",
    "- With Python you can save time to achieve your project.\n",
    "\n",
    "Some advices:\n",
    "- Write your program with Python language. \n",
    "- If it is fast enough, be happy.\n",
    "- After profiling, optimize costly parts of your code.\n",
    "- If you're still not satisfied, try [Julia](https://www.julialang.org).\n",
    "\n",
    "\"Premature optimization is the root of all evil\" (Donald Knuth 1974)\n"
   ]
  },
  {
   "cell_type": "markdown",
   "id": "9d115b86",
   "metadata": {
    "slideshow": {
     "slide_type": "slide"
    }
   },
   "source": [
    "# First program\n",
    "\n",
    "- Print out the string \"Hello world!\" and its type.\n",
    "- Print out the value of `a` variable set to 6625 and its type."
   ]
  },
  {
   "cell_type": "code",
   "execution_count": null,
   "id": "06151f7b",
   "metadata": {
    "slideshow": {
     "slide_type": "fragment"
    }
   },
   "outputs": [],
   "source": [
    "s = \"Hello World!\"\n",
    "print(type(s),s)\n",
    "a = 6625\n",
    "print(type(a),a)\n",
    "# a+s  # returns TypeError: unsupported operand type(s) for +: 'int' and 'str'"
   ]
  },
  {
   "cell_type": "markdown",
   "id": "d6e71964",
   "metadata": {
    "slideshow": {
     "slide_type": "slide"
    }
   },
   "source": [
    "## Execute using python"
   ]
  },
  {
   "cell_type": "code",
   "execution_count": null,
   "id": "a456cded",
   "metadata": {
    "slideshow": {
     "slide_type": "fragment"
    }
   },
   "outputs": [],
   "source": [
    "%%file hello.py\n",
    "\n",
    "s = \"Hello World!\"\n",
    "print(type(s),s)\n",
    "a = 6625\n",
    "print(type(a),a)"
   ]
  },
  {
   "cell_type": "markdown",
   "id": "78a91d96",
   "metadata": {
    "slideshow": {
     "slide_type": "fragment"
    }
   },
   "source": [
    "```bash\n",
    "$ python3 hello.py\n",
    "<class 'str'> Hello World!\n",
    "<class 'int'> 6625\n",
    "```"
   ]
  },
  {
   "cell_type": "markdown",
   "id": "114b9837",
   "metadata": {
    "slideshow": {
     "slide_type": "slide"
    }
   },
   "source": [
    "## Execute with ipython\n",
    "```ipython\n",
    "$ ipython\n",
    "Python 3.6.3 | packaged by conda-forge | (default, Nov  4 2017, 10:13:32)\n",
    "Type 'copyright', 'credits' or 'license' for more information\n",
    "IPython 6.2.1 -- An enhanced Interactive Python. Type '?' for help.\n",
    "\n",
    "In [1]: run hello.py\n",
    "<class 'str'> Hello World!\n",
    "<class 'int'> 6625\n",
    "```"
   ]
  },
  {
   "cell_type": "markdown",
   "id": "1c2dbc1c",
   "metadata": {
    "slideshow": {
     "slide_type": "slide"
    }
   },
   "source": [
    "# Python Types\n",
    "- Most of Python types are classes, typing is dynamic.\n",
    "- ; symbol can be used to split two Python commands on the same line."
   ]
  },
  {
   "cell_type": "code",
   "execution_count": null,
   "id": "e61bd117",
   "metadata": {
    "slideshow": {
     "slide_type": "fragment"
    }
   },
   "outputs": [],
   "source": [
    "s = int(2010); print(type(s))\n",
    "s = 3.14; print(type(s))\n",
    "s = True; print(type(s))\n",
    "s = None; print(type(s))\n",
    "s = 1.0j; print(type(s))\n",
    "s = type(type(s)); print(type(s))"
   ]
  },
  {
   "cell_type": "markdown",
   "id": "efaf40e8",
   "metadata": {
    "slideshow": {
     "slide_type": "slide"
    }
   },
   "source": [
    "# Calculate with Python"
   ]
  },
  {
   "cell_type": "code",
   "execution_count": null,
   "id": "234c4bab",
   "metadata": {
    "slideshow": {
     "slide_type": "fragment"
    }
   },
   "outputs": [],
   "source": [
    "x = 45      # This is a comment!\n",
    "x += 2        # equivalent to x = x + 2\n",
    "print(x, x > 45)"
   ]
  },
  {
   "cell_type": "code",
   "execution_count": null,
   "id": "8cce52cf",
   "metadata": {
    "slideshow": {
     "slide_type": "fragment"
    }
   },
   "outputs": [],
   "source": [
    "y = 2.5\n",
    "print(\"x+y=\",x+y, type(x+y))  # Add float to integer, result will be a float"
   ]
  },
  {
   "cell_type": "code",
   "execution_count": null,
   "id": "4201a48e",
   "metadata": {
    "slideshow": {
     "slide_type": "fragment"
    }
   },
   "outputs": [],
   "source": [
    "print(x*10/y)   # true division returns a float\n",
    "print(x*10//3)  # floor division discards the fractional part"
   ]
  },
  {
   "cell_type": "code",
   "execution_count": null,
   "id": "371ba473",
   "metadata": {
    "slideshow": {
     "slide_type": "fragment"
    }
   },
   "outputs": [],
   "source": [
    "print( x % 8) # the % operator returns the remainder of the division"
   ]
  },
  {
   "cell_type": "code",
   "execution_count": null,
   "id": "a52e35f9",
   "metadata": {
    "slideshow": {
     "slide_type": "fragment"
    }
   },
   "outputs": [],
   "source": [
    "print( \"x = %05d \" % x) # You can use C format rules to improve print output"
   ]
  },
  {
   "cell_type": "markdown",
   "id": "a4269d30",
   "metadata": {
    "slideshow": {
     "slide_type": "slide"
    }
   },
   "source": [
    "# Multiple Assignment\n",
    "- Variables can simultaneously get new values. \n",
    "- Expressions on the right-hand side are all evaluated first before assignments take place. \n",
    "- The right-hand side expressions are evaluated from the left to the right.\n",
    "- Use it very carefully"
   ]
  },
  {
   "cell_type": "code",
   "execution_count": null,
   "id": "d33d34b4",
   "metadata": {
    "slideshow": {
     "slide_type": "fragment"
    }
   },
   "outputs": [],
   "source": [
    "a = b = c = 1\n",
    "print(a, b, c) "
   ]
  },
  {
   "cell_type": "code",
   "execution_count": null,
   "id": "75fcc1b3",
   "metadata": {
    "slideshow": {
     "slide_type": "fragment"
    }
   },
   "outputs": [],
   "source": [
    "a, b, c = 1, 2, 3\n",
    "print (a, b, c)"
   ]
  },
  {
   "cell_type": "code",
   "execution_count": null,
   "id": "86281c32",
   "metadata": {
    "slideshow": {
     "slide_type": "fragment"
    }
   },
   "outputs": [],
   "source": [
    "a, c = c, a     # Nice way to permute values\n",
    "print (a, b, c) "
   ]
  },
  {
   "cell_type": "code",
   "execution_count": null,
   "id": "1252d5de",
   "metadata": {
    "slideshow": {
     "slide_type": "fragment"
    }
   },
   "outputs": [],
   "source": [
    "a < b < c, a > b > c"
   ]
  }
 ],
 "metadata": {
  "jupytext": {
   "cell_metadata_json": true,
   "comment_magics": false,
   "encoding": "# -*- coding: utf-8 -*-"
  },
  "kernelspec": {
   "display_name": "Python 3 (ipykernel)",
   "language": "python",
   "name": "python3"
  },
  "language_info": {
   "codemirror_mode": {
    "name": "ipython",
    "version": 3
   },
   "file_extension": ".py",
   "mimetype": "text/x-python",
   "name": "python",
   "nbconvert_exporter": "python",
   "pygments_lexer": "ipython3",
   "version": "3.8.8"
  }
 },
 "nbformat": 4,
 "nbformat_minor": 5
}
