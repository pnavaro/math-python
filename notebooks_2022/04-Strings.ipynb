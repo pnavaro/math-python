{
 "cells": [
  {
   "cell_type": "markdown",
   "metadata": {
    "slideshow": {
     "slide_type": "slide"
    }
   },
   "source": [
    "# Strings\n",
    "\n",
    "Python is a good language to manipulate strings. The `str` class They can be enclosed in single quotes ('...') or double quotes (\"...\"). The class representing strings is also a good first model to discover how Python types and object oriented programming work."
   ]
  },
  {
   "cell_type": "code",
   "execution_count": 19,
   "metadata": {
    "execution": {
     "iopub.execute_input": "2020-09-12T13:29:11.272576Z",
     "iopub.status.busy": "2020-09-12T13:29:11.271712Z",
     "iopub.status.idle": "2020-09-12T13:29:11.274193Z",
     "shell.execute_reply": "2020-09-12T13:29:11.274840Z"
    },
    "slideshow": {
     "slide_type": "slide"
    }
   },
   "outputs": [
    {
     "data": {
      "text/plain": [
       "str"
      ]
     },
     "execution_count": 19,
     "metadata": {},
     "output_type": "execute_result"
    }
   ],
   "source": [
    "word = \"irmar umr 6625\"\n",
    "type(word)"
   ]
  },
  {
   "cell_type": "code",
   "execution_count": 22,
   "metadata": {
    "execution": {
     "iopub.execute_input": "2020-09-12T13:29:11.280345Z",
     "iopub.status.busy": "2020-09-12T13:29:11.279370Z",
     "iopub.status.idle": "2020-09-12T13:29:11.282951Z",
     "shell.execute_reply": "2020-09-12T13:29:11.283593Z"
    },
    "slideshow": {
     "slide_type": "fragment"
    }
   },
   "outputs": [
    {
     "data": {
      "text/plain": [
       "14"
      ]
     },
     "execution_count": 22,
     "metadata": {},
     "output_type": "execute_result"
    }
   ],
   "source": [
    "len(word)"
   ]
  },
  {
   "cell_type": "markdown",
   "metadata": {
    "slideshow": {
     "slide_type": "fragment"
    }
   },
   "source": [
    "Add a `.` to the variable and then press `<TAB>` to get all attached methods available."
   ]
  },
  {
   "cell_type": "code",
   "execution_count": 23,
   "metadata": {
    "execution": {
     "iopub.execute_input": "2020-09-12T13:29:11.296678Z",
     "iopub.status.busy": "2020-09-12T13:29:11.295670Z",
     "iopub.status.idle": "2020-09-12T13:29:11.299105Z",
     "shell.execute_reply": "2020-09-12T13:29:11.299815Z"
    },
    "slideshow": {
     "slide_type": "fragment"
    }
   },
   "outputs": [
    {
     "data": {
      "text/plain": [
       "'Irmar umr 6625'"
      ]
     },
     "execution_count": 23,
     "metadata": {},
     "output_type": "execute_result"
    }
   ],
   "source": [
    "word.capitalize()"
   ]
  },
  {
   "cell_type": "markdown",
   "metadata": {
    "slideshow": {
     "slide_type": "fragment"
    }
   },
   "source": [
    "After choosing your method, press `shift+<TAB>` to get interface."
   ]
  },
  {
   "cell_type": "code",
   "execution_count": 26,
   "metadata": {},
   "outputs": [
    {
     "data": {
      "text/plain": [
       "'Irmar Umr 6625'"
      ]
     },
     "execution_count": 26,
     "metadata": {},
     "output_type": "execute_result"
    }
   ],
   "source": [
    "word.title()"
   ]
  },
  {
   "cell_type": "code",
   "execution_count": 27,
   "metadata": {
    "execution": {
     "iopub.execute_input": "2020-09-12T13:29:11.305144Z",
     "iopub.status.busy": "2020-09-12T13:29:11.304089Z",
     "iopub.status.idle": "2020-09-12T13:29:11.307759Z",
     "shell.execute_reply": "2020-09-12T13:29:11.308354Z"
    },
    "slideshow": {
     "slide_type": "fragment"
    }
   },
   "outputs": [
    {
     "data": {
      "text/plain": [
       "'IRMAR UMR 6625'"
      ]
     },
     "execution_count": 27,
     "metadata": {},
     "output_type": "execute_result"
    }
   ],
   "source": [
    "word.upper()"
   ]
  },
  {
   "cell_type": "code",
   "execution_count": 28,
   "metadata": {
    "execution": {
     "iopub.execute_input": "2020-09-12T13:29:11.315278Z",
     "iopub.status.busy": "2020-09-12T13:29:11.314144Z",
     "iopub.status.idle": "2020-09-12T13:29:11.317792Z",
     "shell.execute_reply": "2020-09-12T13:29:11.318376Z"
    },
    "slideshow": {
     "slide_type": "slide"
    }
   },
   "outputs": [
    {
     "name": "stdout",
     "output_type": "stream",
     "text": [
      "Help on built-in function replace:\n",
      "\n",
      "replace(old, new, count=-1, /) method of builtins.str instance\n",
      "    Return a copy with all occurrences of substring old replaced by new.\n",
      "    \n",
      "      count\n",
      "        Maximum number of occurrences to replace.\n",
      "        -1 (the default value) means replace all occurrences.\n",
      "    \n",
      "    If the optional argument count is given, only the first count occurrences are\n",
      "    replaced.\n",
      "\n"
     ]
    }
   ],
   "source": [
    "help(word.replace) # or word.replace? "
   ]
  },
  {
   "cell_type": "code",
   "execution_count": 31,
   "metadata": {},
   "outputs": [
    {
     "data": {
      "text/plain": [
       "'irMar uMr 6625'"
      ]
     },
     "execution_count": 31,
     "metadata": {},
     "output_type": "execute_result"
    }
   ],
   "source": [
    "word.replace('m','M')"
   ]
  },
  {
   "cell_type": "code",
   "execution_count": 32,
   "metadata": {
    "execution": {
     "iopub.execute_input": "2020-09-12T13:29:11.323852Z",
     "iopub.status.busy": "2020-09-12T13:29:11.322901Z",
     "iopub.status.idle": "2020-09-12T13:29:11.326457Z",
     "shell.execute_reply": "2020-09-12T13:29:11.327049Z"
    },
    "slideshow": {
     "slide_type": "fragment"
    }
   },
   "outputs": [
    {
     "data": {
      "text/plain": [
       "'irMar umr 6625'"
      ]
     },
     "execution_count": 32,
     "metadata": {},
     "output_type": "execute_result"
    }
   ],
   "source": [
    "word.replace('m','M',1)"
   ]
  },
  {
   "cell_type": "markdown",
   "metadata": {
    "slideshow": {
     "slide_type": "slide"
    }
   },
   "source": [
    "## Strings and `print` Function\n",
    "Strings can be enclosed in single quotes ('...') or double quotes (\"...\") with the same result. \\ can be used to escape quotes:\n",
    "\n"
   ]
  },
  {
   "cell_type": "code",
   "execution_count": 33,
   "metadata": {
    "execution": {
     "iopub.execute_input": "2020-09-12T13:29:11.332629Z",
     "iopub.status.busy": "2020-09-12T13:29:11.331690Z",
     "iopub.status.idle": "2020-09-12T13:29:11.335221Z",
     "shell.execute_reply": "2020-09-12T13:29:11.335857Z"
    },
    "slideshow": {
     "slide_type": "fragment"
    }
   },
   "outputs": [
    {
     "name": "stdout",
     "output_type": "stream",
     "text": [
      "spam eggs\n",
      "doesn't\n",
      "doesn't\n",
      "\"Yes,\" he said.\n",
      "\"Yes,\" he said.\n",
      "\"Isn't,\" she said.\n"
     ]
    }
   ],
   "source": [
    "print('spam eggs')          # single quotes\n",
    "print('doesn\\'t')           # use \\' to escape the single quote...\n",
    "print(\"doesn't\")            # ...or use double quotes instead\n",
    "print('\"Yes,\" he said.')    #\n",
    "print(\"\\\"Yes,\\\" he said.\")\n",
    "print('\"Isn\\'t,\" she said.')"
   ]
  },
  {
   "cell_type": "markdown",
   "metadata": {
    "slideshow": {
     "slide_type": "slide"
    }
   },
   "source": [
    "`print` function translates C special characters"
   ]
  },
  {
   "cell_type": "code",
   "execution_count": 34,
   "metadata": {
    "execution": {
     "iopub.execute_input": "2020-09-12T13:29:11.341080Z",
     "iopub.status.busy": "2020-09-12T13:29:11.340046Z",
     "iopub.status.idle": "2020-09-12T13:29:11.343540Z",
     "shell.execute_reply": "2020-09-12T13:29:11.344127Z"
    },
    "slideshow": {
     "slide_type": "fragment"
    }
   },
   "outputs": [
    {
     "name": "stdout",
     "output_type": "stream",
     "text": [
      "\tFirst line.\n",
      "Second line.\n",
      "\\tFirst line.\\nSecond line.\n"
     ]
    }
   ],
   "source": [
    "s = '\\tFirst line.\\nSecond line.'  # \\n means newline \\t inserts tab\n",
    "print(s)  # with print(), \\n produces a new line\n",
    "print(r'\\tFirst line.\\nSecond line.')  # note the r before the quote"
   ]
  },
  {
   "cell_type": "markdown",
   "metadata": {
    "slideshow": {
     "slide_type": "slide"
    }
   },
   "source": [
    "## String literals with multiple lines"
   ]
  },
  {
   "cell_type": "code",
   "execution_count": 35,
   "metadata": {
    "execution": {
     "iopub.execute_input": "2020-09-12T13:29:11.349191Z",
     "iopub.status.busy": "2020-09-12T13:29:11.348281Z",
     "iopub.status.idle": "2020-09-12T13:29:11.351754Z",
     "shell.execute_reply": "2020-09-12T13:29:11.352358Z"
    },
    "slideshow": {
     "slide_type": "fragment"
    }
   },
   "outputs": [
    {
     "name": "stdout",
     "output_type": "stream",
     "text": [
      "Usage: thingy [OPTIONS]\n",
      "     -h                        Display this usage message\n",
      "     -H hostname               Hostname to connect to\n",
      "\n"
     ]
    }
   ],
   "source": [
    "print(\"\"\"\\\n",
    "Usage: thingy [OPTIONS]\n",
    "     -h                        Display this usage message\n",
    "     -H hostname               Hostname to connect to\n",
    "\"\"\") "
   ]
  },
  {
   "cell_type": "markdown",
   "metadata": {
    "slideshow": {
     "slide_type": "fragment"
    }
   },
   "source": [
    "\\ character removes the initial newline.\n",
    "\n",
    "Strings can be concatenated (glued together) with the + operator, and repeated with *"
   ]
  },
  {
   "cell_type": "code",
   "execution_count": 37,
   "metadata": {
    "execution": {
     "iopub.execute_input": "2020-09-12T13:29:11.357683Z",
     "iopub.status.busy": "2020-09-12T13:29:11.356680Z",
     "iopub.status.idle": "2020-09-12T13:29:11.360145Z",
     "shell.execute_reply": "2020-09-12T13:29:11.360783Z"
    },
    "slideshow": {
     "slide_type": "fragment"
    }
   },
   "outputs": [
    {
     "data": {
      "text/plain": [
       "'Rennes Rennes Rennes '"
      ]
     },
     "execution_count": 37,
     "metadata": {},
     "output_type": "execute_result"
    }
   ],
   "source": [
    "3 * (\"Re\" + 2 * 'n' + 'es' + ' ')"
   ]
  },
  {
   "cell_type": "markdown",
   "metadata": {
    "slideshow": {
     "slide_type": "slide"
    }
   },
   "source": [
    "Two or more string literals next to each other are automatically concatenated."
   ]
  },
  {
   "cell_type": "code",
   "execution_count": 38,
   "metadata": {
    "execution": {
     "iopub.execute_input": "2020-09-12T13:29:11.366014Z",
     "iopub.status.busy": "2020-09-12T13:29:11.365019Z",
     "iopub.status.idle": "2020-09-12T13:29:11.368506Z",
     "shell.execute_reply": "2020-09-12T13:29:11.369208Z"
    },
    "slideshow": {
     "slide_type": "fragment"
    }
   },
   "outputs": [
    {
     "data": {
      "text/plain": [
       "'Put several strings within parentheses to have them joined together.'"
      ]
     },
     "execution_count": 38,
     "metadata": {},
     "output_type": "execute_result"
    }
   ],
   "source": [
    "text = ('Put several strings within parentheses '\n",
    "         'to have them joined together.')\n",
    "text"
   ]
  },
  {
   "cell_type": "markdown",
   "metadata": {
    "slideshow": {
     "slide_type": "slide"
    }
   },
   "source": [
    "Strings can be indexed, with the first character having index 0. There is no separate character type; a character is simply a string of size one"
   ]
  },
  {
   "cell_type": "code",
   "execution_count": 41,
   "metadata": {
    "execution": {
     "iopub.execute_input": "2020-09-12T13:29:11.374347Z",
     "iopub.status.busy": "2020-09-12T13:29:11.373496Z",
     "iopub.status.idle": "2020-09-12T13:29:11.377062Z",
     "shell.execute_reply": "2020-09-12T13:29:11.377673Z"
    },
    "slideshow": {
     "slide_type": "fragment"
    }
   },
   "outputs": [
    {
     "name": "stdout",
     "output_type": "stream",
     "text": [
      "a\n",
      "f\n"
     ]
    }
   ],
   "source": [
    "word = 'abcdefghijklmnopqrstuvwxyz'\n",
    "print(word[0]) # character in position 0\n",
    "print(word[5]) # character in position 5"
   ]
  },
  {
   "cell_type": "markdown",
   "metadata": {
    "slideshow": {
     "slide_type": "fragment"
    }
   },
   "source": [
    "Indices may also be negative numbers, to start counting from the right"
   ]
  },
  {
   "cell_type": "code",
   "execution_count": 42,
   "metadata": {
    "execution": {
     "iopub.execute_input": "2020-09-12T13:29:11.382921Z",
     "iopub.status.busy": "2020-09-12T13:29:11.381933Z",
     "iopub.status.idle": "2020-09-12T13:29:11.385332Z",
     "shell.execute_reply": "2020-09-12T13:29:11.385922Z"
    },
    "slideshow": {
     "slide_type": "fragment"
    }
   },
   "outputs": [
    {
     "name": "stdout",
     "output_type": "stream",
     "text": [
      "z\n",
      "y\n"
     ]
    }
   ],
   "source": [
    "print(word[-1])  # last character\n",
    "print(word[-2])  # second-last character"
   ]
  },
  {
   "cell_type": "markdown",
   "metadata": {
    "slideshow": {
     "slide_type": "slide"
    }
   },
   "source": [
    "## Slicing Strings\n",
    "- Omitted first index defaults to zero, \n",
    "- Omitted second index defaults to the size of the string being sliced.\n",
    "- Step can be set with the third index\n",
    "\n"
   ]
  },
  {
   "cell_type": "code",
   "execution_count": 43,
   "metadata": {
    "execution": {
     "iopub.execute_input": "2020-09-12T13:29:11.391702Z",
     "iopub.status.busy": "2020-09-12T13:29:11.390699Z",
     "iopub.status.idle": "2020-09-12T13:29:11.393981Z",
     "shell.execute_reply": "2020-09-12T13:29:11.394608Z"
    },
    "slideshow": {
     "slide_type": "fragment"
    }
   },
   "outputs": [
    {
     "name": "stdout",
     "output_type": "stream",
     "text": [
      "ab\n",
      "efghijklmnopqrstuvwxyz\n",
      "yz\n",
      "zyxwvutsrqponmlkjihgfedcba\n"
     ]
    }
   ],
   "source": [
    "print(word[:2])  # character from the beginning to position 2 (excluded)\n",
    "print(word[4:])  # characters from position 4 (included) to the end\n",
    "print(word[-2:]) # characters from the second-last (included) to the end\n",
    "print(word[::-1]) # This is the reversed string!"
   ]
  },
  {
   "cell_type": "markdown",
   "metadata": {},
   "source": [
    "You can see in the following example why the slice second index is excluded."
   ]
  },
  {
   "cell_type": "code",
   "execution_count": 46,
   "metadata": {},
   "outputs": [
    {
     "data": {
      "text/plain": [
       "'efghijkl'"
      ]
     },
     "execution_count": 46,
     "metadata": {},
     "output_type": "execute_result"
    }
   ],
   "source": [
    "word[4:7] + word[7:12]"
   ]
  },
  {
   "cell_type": "code",
   "execution_count": 47,
   "metadata": {
    "execution": {
     "iopub.execute_input": "2020-09-12T13:29:11.399755Z",
     "iopub.status.busy": "2020-09-12T13:29:11.398749Z",
     "iopub.status.idle": "2020-09-12T13:29:11.402313Z",
     "shell.execute_reply": "2020-09-12T13:29:11.402941Z"
    },
    "slideshow": {
     "slide_type": "fragment"
    }
   },
   "outputs": [
    {
     "data": {
      "text/plain": [
       "'acegikmoqsuwy'"
      ]
     },
     "execution_count": 47,
     "metadata": {},
     "output_type": "execute_result"
    }
   ],
   "source": [
    "word[::2]"
   ]
  },
  {
   "cell_type": "markdown",
   "metadata": {
    "slideshow": {
     "slide_type": "slide"
    }
   },
   "source": [
    "Python strings cannot be changed — they are immutable.\n",
    "If you need a different string, you should create a new or use Lists.\n",
    "\n"
   ]
  },
  {
   "cell_type": "code",
   "execution_count": 48,
   "metadata": {
    "execution": {
     "iopub.execute_input": "2020-09-12T13:29:11.408429Z",
     "iopub.status.busy": "2020-09-12T13:29:11.407422Z",
     "iopub.status.idle": "2020-09-12T13:29:11.410868Z",
     "shell.execute_reply": "2020-09-12T13:29:11.411449Z"
    },
    "slideshow": {
     "slide_type": "fragment"
    }
   },
   "outputs": [
    {
     "name": "stdout",
     "output_type": "stream",
     "text": [
      "<class 'TypeError'>\n"
     ]
    }
   ],
   "source": [
    "import sys\n",
    "try:\n",
    "    word[0] = 'J'\n",
    "except:\n",
    "    print(sys.exc_info()[0])"
   ]
  },
  {
   "cell_type": "markdown",
   "metadata": {},
   "source": [
    "## Some string methods\n"
   ]
  },
  {
   "cell_type": "code",
   "execution_count": 49,
   "metadata": {
    "execution": {
     "iopub.execute_input": "2020-09-12T13:29:11.416236Z",
     "iopub.status.busy": "2020-09-12T13:29:11.415276Z",
     "iopub.status.idle": "2020-09-12T13:29:11.418402Z",
     "shell.execute_reply": "2020-09-12T13:29:11.419007Z"
    },
    "slideshow": {
     "slide_type": "slide"
    }
   },
   "outputs": [
    {
     "name": "stdout",
     "output_type": "stream",
     "text": [
      "False\n"
     ]
    }
   ],
   "source": [
    "print(word.startswith('P'))"
   ]
  },
  {
   "cell_type": "markdown",
   "metadata": {},
   "source": [
    "## All methods available for a string"
   ]
  },
  {
   "cell_type": "code",
   "execution_count": 51,
   "metadata": {
    "execution": {
     "iopub.execute_input": "2020-09-12T13:29:11.425503Z",
     "iopub.status.busy": "2020-09-12T13:29:11.424525Z",
     "iopub.status.idle": "2020-09-12T13:29:11.427794Z",
     "shell.execute_reply": "2020-09-12T13:29:11.428417Z"
    },
    "slideshow": {
     "slide_type": "slide"
    }
   },
   "outputs": [
    {
     "name": "stdout",
     "output_type": "stream",
     "text": [
      "\n",
      "capitalize \n",
      "casefold \n",
      "center \n",
      "count \n",
      "encode \n",
      "endswith \n",
      "expandtabs \n",
      "find \n",
      "format \n",
      "format_map \n",
      "index \n",
      "isalnum \n",
      "isalpha \n",
      "isascii \n",
      "isdecimal \n",
      "isdigit \n",
      "isidentifier \n",
      "islower \n",
      "isnumeric \n",
      "isprintable \n",
      "isspace \n",
      "istitle \n",
      "isupper \n",
      "join \n",
      "ljust \n",
      "lower \n",
      "lstrip \n",
      "maketrans \n",
      "partition \n",
      "replace \n",
      "rfind \n",
      "rindex \n",
      "rjust \n",
      "rpartition \n",
      "rsplit \n",
      "rstrip \n",
      "split \n",
      "splitlines \n",
      "startswith \n",
      "strip \n",
      "swapcase \n",
      "title \n",
      "translate \n",
      "upper \n",
      "zfill\n"
     ]
    }
   ],
   "source": [
    "print(*(\"\\n\"+w for w in dir(word) if not w.startswith('_')) )"
   ]
  },
  {
   "cell_type": "markdown",
   "metadata": {},
   "source": [
    "It is possible to use all these methods as function by prefixing the call with `str.`. It is recommended to not use `str` as variable name."
   ]
  },
  {
   "cell_type": "code",
   "execution_count": 76,
   "metadata": {},
   "outputs": [
    {
     "name": "stdout",
     "output_type": "stream",
     "text": [
      "Paulette Fournier 0387764759\n"
     ]
    }
   ],
   "source": [
    "from faker import Faker\n",
    "\n",
    "Faker.seed(0)\n",
    "fake = Faker('fr_FR')\n",
    "\n",
    "\n",
    "person = fake.name() + \" \" \n",
    "person += fake.phone_number()\n",
    "print(person)\n",
    "\n"
   ]
  },
  {
   "cell_type": "code",
   "execution_count": 79,
   "metadata": {},
   "outputs": [
    {
     "data": {
      "text/plain": [
       "'Brusquement mériter présence menacer rompre matin véritable. Menacer durant beauté retour enlever depuis connaissance sable. Or personne jambe.'"
      ]
     },
     "execution_count": 79,
     "metadata": {},
     "output_type": "execute_result"
    }
   ],
   "source": [
    "text = fake.text()\n",
    "text"
   ]
  },
  {
   "cell_type": "markdown",
   "metadata": {
    "slideshow": {
     "slide_type": "slide"
    }
   },
   "source": [
    "## Exercise\n",
    "\n",
    "Answer to the following questions about the `text` produced by `faker`.\n",
    "\n",
    "- Print out the string length.\n",
    "- Check if the last character is equal to the first character.\n",
    "- Check if this string contains only letters.\n",
    "- Check if this string is lower case."
   ]
  },
  {
   "cell_type": "code",
   "execution_count": null,
   "metadata": {},
   "outputs": [],
   "source": []
  }
 ],
 "metadata": {
  "kernelspec": {
   "display_name": "Python 3 (ipykernel)",
   "language": "python",
   "name": "python3"
  },
  "language_info": {
   "codemirror_mode": {
    "name": "ipython",
    "version": 3
   },
   "file_extension": ".py",
   "mimetype": "text/x-python",
   "name": "python",
   "nbconvert_exporter": "python",
   "pygments_lexer": "ipython3",
   "version": "3.8.8"
  }
 },
 "nbformat": 4,
 "nbformat_minor": 4
}
