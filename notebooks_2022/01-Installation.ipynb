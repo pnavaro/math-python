{
 "cells": [
  {
   "cell_type": "markdown",
   "metadata": {},
   "source": [
    "# Install Python\n",
    "\n",
    "\n",
    "![xkcd](python_environment.png)\n"
   ]
  },
  {
   "cell_type": "markdown",
   "metadata": {},
   "source": [
    "# Linux\n",
    "\n",
    "```\n",
    "sudo apt-install python3 python3-numpy python3-matplotlib python3-pip\n",
    "```\n",
    "- (+) Very easy to install, stable and robust.\n",
    "- (+) It installs all non-python dependencies\n",
    "- (-) There are always some packages that are not available\n",
    "- (-) Some versions could be too old\n",
    "\n",
    "\n",
    "\n",
    "# MacOS\n",
    "\n",
    "Use [homebrew](https://brew.sh/index_fr)\n",
    "\n",
    "```\n",
    "/bin/bash -c \"$(curl -fsSL https://raw.githubusercontent.com/Homebrew/install/HEAD/install.sh)\"\n",
    "brew install python\n",
    "```\n",
    "\n",
    "- (+) A lot of packages available, mactex, firefox, zoom, vscode\n",
    "- (-) Very few python packages you need to use pip \n",
    "\n",
    "\n",
    "\n",
    "## Install non available package with pip\n",
    "\n",
    "Always use the `--user` flag, never use `sudo` you could break your python installation and your entire system.\n",
    "\n",
    "```\n",
    "pip install --user jupyter\n",
    "```\n",
    "\n",
    "## Virtual environement\n",
    "\n",
    "[documentation](https://docs.python.org/fr/3/tutorial/venv.html)\n",
    "\n",
    "```\n",
    "python3 -m venv my-env\n",
    "source my-env/bin/activate\n",
    "pip install numpy matplotlib\n",
    "pip install -U scikit-learn\n",
    "pip install -I numpy \n",
    "pip uninstall scikit-learn\n",
    "pip install numpy==1.19\n",
    "```\n",
    "\n",
    "\n",
    "```\n",
    "$ pip list\n",
    "Package         Version\n",
    "--------------- -------\n",
    "cycler          0.11.0 \n",
    "fonttools       4.29.0 \n",
    "joblib          1.1.0  \n",
    "keras           2.7.0  \n",
    "kiwisolver      1.3.2  \n",
    "matplotlib      3.5.1  \n",
    "numpy           1.22.1 \n",
    "packaging       21.3   \n",
    "Pillow          9.0.0  \n",
    "pip             20.0.2 \n",
    "pkg-resources   0.0.0  \n",
    "pyparsing       3.0.7  \n",
    "python-dateutil 2.8.2  \n",
    "scikit-learn    1.0.2  \n",
    "scipy           1.7.3  \n",
    "setuptools      44.0.0 \n",
    "six             1.16.0 \n",
    "threadpoolctl   3.0.0  \n",
    "```\n"
   ]
  },
  {
   "cell_type": "markdown",
   "metadata": {},
   "source": [
    "## requirements.txt\n",
    "\n",
    "Create the file\n",
    "```\n",
    "pip freeze > requirements.txt\n",
    "```\n",
    "Install from the file\n",
    "```\n",
    "pip install -r requirements.txt\n",
    "```\n"
   ]
  },
  {
   "cell_type": "markdown",
   "metadata": {
    "cell_id": "00000-c079c5a8-e332-4f27-a8b4-313451da4571",
    "deepnote_cell_type": "markdown",
    "slideshow": {
     "slide_type": "slide"
    }
   },
   "source": [
    "# Conda\n",
    "\n",
    "Conda is a powerful package manager and environment manager.\n",
    "\n",
    "[Ref: Getting started with conda](https://docs.conda.io/projects/conda/en/latest/user-guide/getting-started.html)\n",
    "\n",
    "<!-- #region {\"slideshow\": {\"slide_type\": \"slide\"}} -->\n",
    "##  Install [Anaconda](https://www.anaconda.com/downloads) (large) or [Miniconda](https://conda.io/miniconda.html) (small) or [Miniforge](https://github.com/conda-forge/miniforge/releases) (best)\n",
    "\n",
    "```bash\n",
    "wget https://github.com/conda-forge/miniforge/releases/latest/download/Miniforge3-Linux-x86_64.sh\n",
    "bash Miniforge3-Linux-x86_64.sh -b\n",
    "```"
   ]
  },
  {
   "cell_type": "markdown",
   "metadata": {
    "cell_id": "00001-ce04a564-f215-4e7a-bcd2-5d11d2311bef",
    "deepnote_cell_type": "markdown",
    "slideshow": {
     "slide_type": "slide"
    }
   },
   "source": [
    "##  Open a terminal (Linux/MacOSX) or a Anaconda prompt (Windows)"
   ]
  },
  {
   "cell_type": "markdown",
   "metadata": {
    "cell_id": "00002-433f0999-74bd-4b24-8203-b0da444ab8cb",
    "deepnote_cell_type": "markdown",
    "slideshow": {
     "slide_type": "fragment"
    }
   },
   "source": [
    "Verify that conda is installed and running on your system by typing:"
   ]
  },
  {
   "cell_type": "code",
   "execution_count": null,
   "metadata": {
    "cell_id": "00003-d557c9f8-81ee-4c1e-b7ac-6f454935523a",
    "deepnote_cell_type": "code",
    "execution_millis": 170,
    "execution_start": 1605782014656,
    "output_cleared": false,
    "slideshow": {
     "slide_type": "fragment"
    },
    "source_hash": "f0593b1f"
   },
   "outputs": [],
   "source": [
    "%%bash\n",
    "~/miniforge3/bin/conda init"
   ]
  },
  {
   "cell_type": "code",
   "execution_count": null,
   "metadata": {
    "cell_id": "00006-4178ff26-bed3-4b36-9fc8-acd37e1fb16c",
    "deepnote_cell_type": "code",
    "execution_millis": 3,
    "execution_start": 1605782209255,
    "output_cleared": false,
    "source_hash": "2be4121e",
    "tags": []
   },
   "outputs": [],
   "source": [
    "print(\"\"\"\n",
    "BONJOUR !\n",
    "Sur le coté il y a un lien \"add comment\" qui permet de commenter pour les visiteurs :-)\n",
    "\"\"\")"
   ]
  },
  {
   "cell_type": "markdown",
   "metadata": {
    "cell_id": "00004-8134637c-5ee9-45af-8325-3bdf3a606ab8",
    "deepnote_cell_type": "markdown",
    "slideshow": {
     "slide_type": "slide"
    }
   },
   "source": [
    "Conda displays the number of the version that you have installed.\n",
    "\n",
    "If you get an error message, make sure you closed and re-opened the\n",
    "terminal window after installing, or do it now. \n",
    "\n",
    "To update conda to the current version. Type the following:\n",
    "\n",
    "```bash\n",
    "conda update -y conda -n base\n",
    "```"
   ]
  },
  {
   "cell_type": "markdown",
   "metadata": {
    "cell_id": "00005-66113ab6-546a-428e-b895-f97a46553ee8",
    "deepnote_cell_type": "markdown",
    "slideshow": {
     "slide_type": "slide"
    }
   },
   "source": [
    "## Managing channels\n",
    "\n",
    "Conda channels are the locations where packages are stored. We use the [conda-forge](https://conda-forge.org),\n",
    "a good community-led collection of recipes for conda. If you installed [Miniforge](https://github.com/conda-forge/miniforge) you already have a conda specific to conda-forge.\n",
    "\n",
    "```bash\n",
    "conda config --add channels conda-forge \n",
    "conda config --set channel_priority strict\n",
    "```\n",
    "\n",
    "Strict channel priority speed up conda operations and also reduce package incompatibility problems."
   ]
  },
  {
   "cell_type": "markdown",
   "metadata": {
    "cell_id": "00006-47b827c2-9bc0-416d-993f-48e95819836d",
    "deepnote_cell_type": "markdown",
    "slideshow": {
     "slide_type": "slide"
    }
   },
   "source": [
    "## Managing environments\n",
    "\n",
    "Conda allows you to create separate environments containing files, packages,\n",
    "and their dependencies that will not interact with other environments.\n",
    "\n",
    "When you begin using conda, you already have a default environment named\n",
    "``base``. You don't want to put programs into your base environment, though.\n",
    "Create separate environments to keep your programs isolated from each other.\n",
    "\n",
    "### Create a new environment and install a package in it.\n",
    "\n",
    "We will name the environment `big-data` and install the version 3.8 of `python`. At the Anaconda Prompt or in your terminal window, type the following:\n",
    "```bash\n",
    "conda create -y -n big-data python=3.8\n",
    "```"
   ]
  },
  {
   "cell_type": "markdown",
   "metadata": {
    "cell_id": "00007-160cfa3a-76d6-4583-bd41-a61927c7da04",
    "deepnote_cell_type": "markdown",
    "slideshow": {
     "slide_type": "slide"
    }
   },
   "source": [
    "### To use, or \"activate\" the new environment, type the following:\n",
    "\n",
    "```bash\n",
    "conda activate big-data\n",
    "```"
   ]
  },
  {
   "cell_type": "markdown",
   "metadata": {
    "cell_id": "00008-9e275657-1b31-4aaa-bf05-795ea1f4d925",
    "deepnote_cell_type": "markdown",
    "slideshow": {
     "slide_type": "fragment"
    }
   },
   "source": [
    "Now that you are in your ``big-data`` environment, any conda commands you type will go to that environment until you deactivate it.\n",
    "\n",
    "Verify which version of Python is in your current environment:\n",
    "\n",
    "```bash\n",
    "python --version\n",
    "```"
   ]
  },
  {
   "cell_type": "markdown",
   "metadata": {
    "cell_id": "00009-131c5ed6-2ac9-41fe-9ca3-ffcf2d1fd9e1",
    "deepnote_cell_type": "markdown",
    "slideshow": {
     "slide_type": "slide"
    }
   },
   "source": [
    "### To see a list of all your environments, type:"
   ]
  },
  {
   "cell_type": "code",
   "execution_count": null,
   "metadata": {
    "cell_id": "00010-f66a0378-5833-4fa0-ab0b-005baa7bd2ff",
    "deepnote_cell_type": "code",
    "slideshow": {
     "slide_type": "fragment"
    }
   },
   "outputs": [],
   "source": [
    "%%bash\n",
    "conda info --envs"
   ]
  },
  {
   "cell_type": "markdown",
   "metadata": {
    "cell_id": "00011-fc26b545-3b11-4dfb-9d3b-fe64673f5da4",
    "deepnote_cell_type": "markdown",
    "slideshow": {
     "slide_type": "slide"
    }
   },
   "source": [
    "The active environment is the one with an asterisk (*).\n",
    "\n",
    "### Change your current environment back to the default (base):\n",
    "\n",
    "```bash\n",
    "conda activate\n",
    "```"
   ]
  },
  {
   "cell_type": "markdown",
   "metadata": {
    "cell_id": "00012-df8df772-187f-4b19-8e2d-9a5f70682378",
    "deepnote_cell_type": "markdown",
    "slideshow": {
     "slide_type": "slide"
    }
   },
   "source": [
    "## Managing packages\n",
    "\n",
    "- Check to see if a package you have not installed named \"jupyter\" is available from the Anaconda repository (must be connected to the Internet):"
   ]
  },
  {
   "cell_type": "code",
   "execution_count": null,
   "metadata": {
    "cell_id": "00013-2a0afc14-6f3c-4303-8fe1-c044376d61ef",
    "deepnote_cell_type": "code",
    "slideshow": {
     "slide_type": "fragment"
    }
   },
   "outputs": [],
   "source": [
    "%%bash\n",
    "conda search jupyter | grep conda-forge"
   ]
  },
  {
   "cell_type": "markdown",
   "metadata": {
    "cell_id": "00014-4fea59f6-2bad-427a-bcd8-ed50bf86d6f5",
    "deepnote_cell_type": "markdown",
    "slideshow": {
     "slide_type": "slide"
    }
   },
   "source": [
    "Conda displays a list of all packages with that name on conda-forge repository, so we know it is available.\n",
    "\n",
    "Install this package into the base environment:\n",
    "\n",
    "```bash\n",
    "conda activate\n",
    "conda install -y jupyter -c conda-forge -n base\n",
    "```"
   ]
  },
  {
   "cell_type": "markdown",
   "metadata": {
    "cell_id": "00015-8ffee693-33a1-4810-95ac-1a78bdc76747",
    "deepnote_cell_type": "markdown",
    "slideshow": {
     "slide_type": "slide"
    }
   },
   "source": [
    "Check to see if the newly installed program is in this environment:"
   ]
  },
  {
   "cell_type": "code",
   "execution_count": null,
   "metadata": {
    "cell_id": "00016-259afc3f-771d-445e-bef8-8a86ace41777",
    "deepnote_cell_type": "code",
    "slideshow": {
     "slide_type": "fragment"
    }
   },
   "outputs": [],
   "source": [
    "%%bash\n",
    "conda list jupyter"
   ]
  },
  {
   "cell_type": "markdown",
   "metadata": {
    "cell_id": "00017-aa5e9516-8a01-4d25-8caf-62e1f0497d46",
    "deepnote_cell_type": "markdown",
    "slideshow": {
     "slide_type": "slide"
    }
   },
   "source": [
    "### Update a new conda environment from file\n",
    "\n",
    "Download the file [environment.yml](https://raw.githubusercontent.com/pnavaro/big-data/master/environment.yml).\n",
    "This file contains the packages list for this course. Be aware that it takes time to download and install all packages.\n",
    "\n",
    "```bash\n",
    "conda env update -f environment.yml -n big-data\n",
    "```\n",
    "\n",
    "[Conda envs documentation](https://conda.io/docs/using/envs.html)."
   ]
  },
  {
   "cell_type": "markdown",
   "metadata": {
    "cell_id": "00018-61768c7e-7e7a-4459-bde5-3d98028bf4e1",
    "deepnote_cell_type": "markdown",
    "slideshow": {
     "slide_type": "slide"
    }
   },
   "source": [
    "Activating the conda environment will change your shell’s prompt to show what virtual environment you’re using, and modify the environment so that running python will get you that particular version and installation of Python. \n",
    "<pre>\n",
    "$ conda activate big-data\n",
    "(big-data) $ python\n",
    "Python 3.6.2 (default, Jul 17 2017, 16:44:45) \n",
    "[GCC 4.2.1 Compatible Apple LLVM 8.1.0 (clang-802.0.42)] on darwin\n",
    "Type \"help\", \"copyright\", \"credits\" or \"license\" for more information.\n",
    ">>> quit()\n",
    "</pre>\n",
    "\n",
    "**You must do this everytime you open a new terminal**"
   ]
  },
  {
   "cell_type": "markdown",
   "metadata": {
    "cell_id": "00019-243b5913-75c8-461a-a6b0-aac380449a2e",
    "deepnote_cell_type": "markdown",
    "slideshow": {
     "slide_type": "slide"
    }
   },
   "source": [
    "## Install the kernel for jupyter\n",
    "\n",
    "```bash\n",
    "conda run -n big-data python -m ipykernel install --user --name big-data\n",
    "```\n",
    "\n",
    "With this command you create the `big-data` kernel with python and all course dependencies.\n",
    "The cell above will give you the path to the python that runs in this notebook."
   ]
  },
  {
   "cell_type": "code",
   "execution_count": null,
   "metadata": {
    "cell_id": "00020-9708ee56-1207-4fc0-b94b-a3963e073993",
    "deepnote_cell_type": "code",
    "slideshow": {
     "slide_type": "slide"
    }
   },
   "outputs": [],
   "source": [
    "import sys\n",
    "print(f\"{sys.executable}\")"
   ]
  },
  {
   "cell_type": "code",
   "execution_count": null,
   "metadata": {
    "cell_id": "00021-ef265755-c5c4-4b5b-aaa3-9b1f5f3b5d3d",
    "deepnote_cell_type": "code",
    "slideshow": {
     "slide_type": "fragment"
    }
   },
   "outputs": [],
   "source": [
    "%%bash\n",
    "jupyter-kernelspec list"
   ]
  },
  {
   "cell_type": "markdown",
   "metadata": {
    "cell_id": "00022-67347d4a-f461-4846-8a07-c07b1f101726",
    "deepnote_cell_type": "markdown"
   },
   "source": [
    "## Mamba\n",
    "\n",
    "Mamba is a parallel reimplementation of the conda package manager in C++. It stays compatible as possible with conda interface. Install mamba from conda-forge:\n",
    "```bash\n",
    "conda install mamba -c conda-forge\n",
    "```\n",
    "\n",
    "To test it you can try to install the metapackage `r-tidyverse` which contains 144 packages.\n",
    "\n",
    "```bash\n",
    "$ time conda create -y r-tidyverse -n condatest\n",
    "real\t1m9.057s\n",
    "$ time mamba create -y r-tidyverse -n mambatest\n",
    "real\t0m32.365s\n",
    "```\n",
    "In this comparison packages are already downloaded, mamba is even better with downloads."
   ]
  }
 ],
 "metadata": {
  "deepnote_execution_queue": [],
  "deepnote_notebook_id": "a17cb0b0-e36b-4d80-a4d4-b1ec8efb60fb",
  "kernelspec": {
   "display_name": "Python 3 (ipykernel)",
   "language": "python",
   "name": "python3"
  },
  "language_info": {
   "codemirror_mode": {
    "name": "ipython",
    "version": 3
   },
   "file_extension": ".py",
   "mimetype": "text/x-python",
   "name": "python",
   "nbconvert_exporter": "python",
   "pygments_lexer": "ipython3",
   "version": "3.8.8"
  }
 },
 "nbformat": 4,
 "nbformat_minor": 4
}
