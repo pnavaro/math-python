{
 "cells": [
  {
   "cell_type": "markdown",
   "metadata": {},
   "source": [
    "# Install Python\n",
    "\n",
    "\n",
    "![xkcd](python_environment.png)\n"
   ]
  },
  {
   "cell_type": "markdown",
   "metadata": {},
   "source": [
    "# Linux\n",
    "\n",
    "```\n",
    "sudo apt-install python3 python3-numpy python3-matplotlib python3-pip\n",
    "```\n",
    "- (+) Very easy to install, stable and robust.\n",
    "- (+) It installs all non-python dependencies\n",
    "- (-) There are always some packages that are not available\n",
    "- (-) Some versions could be too old for your project\n",
    "\n",
    "\n",
    "\n",
    "# MacOS\n",
    "\n",
    "Use [homebrew](https://brew.sh/index_fr)\n",
    "\n",
    "```\n",
    "/bin/bash -c \"$(curl -fsSL https://raw.githubusercontent.com/Homebrew/install/HEAD/install.sh)\"\n",
    "brew install python\n",
    "```\n",
    "\n",
    "- (+) A lot of packages available, mactex, firefox, zoom, vscode\n",
    "- (-) Very few python brewed packages you need to use pip \n",
    "\n",
    "\n",
    "## Install non available package with pip\n",
    "\n",
    "Always use the `--user` flag, never use `sudo` you could break your python installation and your entire system.\n",
    "\n",
    "```\n",
    "pip install --user jupyter\n",
    "```\n",
    "\n",
    "## Virtual environement\n",
    "\n",
    "[documentation](https://docs.python.org/fr/3/tutorial/venv.html)\n",
    "\n",
    "```\n",
    "python3 -m venv my-env\n",
    "source my-env/bin/activate\n",
    "pip install numpy matplotlib\n",
    "pip install -U scikit-learn\n",
    "pip install -I numpy \n",
    "pip uninstall scikit-learn\n",
    "pip install numpy==1.19\n",
    "```\n",
    "\n",
    "\n",
    "```\n",
    "$ pip list\n",
    "Package         Version\n",
    "--------------- -------\n",
    "cycler          0.11.0 \n",
    "fonttools       4.29.0 \n",
    "joblib          1.1.0  \n",
    "keras           2.7.0  \n",
    "kiwisolver      1.3.2  \n",
    "matplotlib      3.5.1  \n",
    "numpy           1.22.1 \n",
    "packaging       21.3   \n",
    "Pillow          9.0.0  \n",
    "pip             20.0.2 \n",
    "pkg-resources   0.0.0  \n",
    "pyparsing       3.0.7  \n",
    "python-dateutil 2.8.2  \n",
    "scikit-learn    1.0.2  \n",
    "scipy           1.7.3  \n",
    "setuptools      44.0.0 \n",
    "six             1.16.0 \n",
    "threadpoolctl   3.0.0  \n",
    "```\n"
   ]
  },
  {
   "cell_type": "markdown",
   "metadata": {},
   "source": [
    "## requirements.txt\n",
    "\n",
    "Create the file\n",
    "```\n",
    "pip freeze > requirements.txt\n",
    "```\n",
    "Install from the file\n",
    "```\n",
    "pip install -r requirements.txt\n",
    "```\n"
   ]
  },
  {
   "cell_type": "markdown",
   "metadata": {
    "cell_id": "00000-c079c5a8-e332-4f27-a8b4-313451da4571",
    "deepnote_cell_type": "markdown",
    "slideshow": {
     "slide_type": "slide"
    }
   },
   "source": [
    "# Conda\n",
    "\n",
    "Conda is a powerful package manager and environment manager.\n",
    "\n",
    "[Ref: Getting started with conda](https://docs.conda.io/projects/conda/en/latest/user-guide/getting-started.html)\n",
    "\n",
    "<!-- #region {\"slideshow\": {\"slide_type\": \"slide\"}} -->\n",
    "##  Install [Anaconda](https://www.anaconda.com/downloads) (large) or [Miniconda](https://conda.io/miniconda.html) (small) or [Miniforge](https://github.com/conda-forge/miniforge/releases) (best)\n",
    "\n",
    "- Anaconda came with a lot of tools that you won't use. It is big 3-4 Go. The conda-forge channel is not the default. You could have some problems when you create new environments.\n",
    "- Miniconda, very good if you set the conda-forge channel\n",
    "- Miniforge is miniconda with the conda-forge channel"
   ]
  },
  {
   "cell_type": "markdown",
   "metadata": {
    "cell_id": "00000-c079c5a8-e332-4f27-a8b4-313451da4571",
    "deepnote_cell_type": "markdown",
    "slideshow": {
     "slide_type": "slide"
    }
   },
   "source": [
    "```bash\n",
    "wget https://github.com/conda-forge/miniforge/releases/latest/download/Miniforge3-Linux-x86_64.sh\n",
    "bash Miniforge3-Linux-x86_64.sh -b\n",
    "```"
   ]
  },
  {
   "cell_type": "markdown",
   "metadata": {},
   "source": [
    "On macOS, you can install miniforge with Homebrew by running\n",
    "```\n",
    "brew install miniforge\n",
    "```"
   ]
  },
  {
   "cell_type": "markdown",
   "metadata": {
    "cell_id": "00001-ce04a564-f215-4e7a-bcd2-5d11d2311bef",
    "deepnote_cell_type": "markdown",
    "slideshow": {
     "slide_type": "slide"
    }
   },
   "source": [
    "##  Open a terminal (Linux/MacOSX) or a Anaconda prompt (Windows)"
   ]
  },
  {
   "cell_type": "markdown",
   "metadata": {
    "cell_id": "00002-433f0999-74bd-4b24-8203-b0da444ab8cb",
    "deepnote_cell_type": "markdown",
    "slideshow": {
     "slide_type": "fragment"
    }
   },
   "source": [
    "Verify that conda is installed and running on your system by typing:"
   ]
  },
  {
   "cell_type": "code",
   "execution_count": null,
   "metadata": {
    "cell_id": "00003-d557c9f8-81ee-4c1e-b7ac-6f454935523a",
    "deepnote_cell_type": "code",
    "execution_millis": 170,
    "execution_start": 1605782014656,
    "output_cleared": false,
    "slideshow": {
     "slide_type": "fragment"
    },
    "source_hash": "f0593b1f"
   },
   "outputs": [],
   "source": [
    "%%bash\n",
    "~/miniforge3/bin/conda init"
   ]
  },
  {
   "cell_type": "code",
   "execution_count": null,
   "metadata": {
    "cell_id": "00006-4178ff26-bed3-4b36-9fc8-acd37e1fb16c",
    "deepnote_cell_type": "code",
    "execution_millis": 3,
    "execution_start": 1605782209255,
    "output_cleared": false,
    "source_hash": "2be4121e",
    "tags": []
   },
   "outputs": [],
   "source": [
    "print(\"\"\"\n",
    "BONJOUR !\n",
    "\"\"\")"
   ]
  },
  {
   "cell_type": "markdown",
   "metadata": {
    "cell_id": "00004-8134637c-5ee9-45af-8325-3bdf3a606ab8",
    "deepnote_cell_type": "markdown",
    "slideshow": {
     "slide_type": "slide"
    }
   },
   "source": [
    "Conda displays the number of the version that you have installed.\n",
    "\n",
    "If you get an error message, make sure you closed and re-opened the\n",
    "terminal window after installing, or do it now. \n",
    "\n",
    "To update conda to the current version. Type the following:\n",
    "\n",
    "```bash\n",
    "conda update -y conda -n base\n",
    "```"
   ]
  },
  {
   "cell_type": "markdown",
   "metadata": {
    "cell_id": "00005-66113ab6-546a-428e-b895-f97a46553ee8",
    "deepnote_cell_type": "markdown",
    "slideshow": {
     "slide_type": "slide"
    }
   },
   "source": [
    "## Managing channels\n",
    "\n",
    "Conda channels are the locations where packages are stored. We use the [conda-forge](https://conda-forge.org),\n",
    "a good community-led collection of recipes for conda. If you installed [Miniforge](https://github.com/conda-forge/miniforge) you already have a conda specific to conda-forge.\n",
    "\n",
    "```bash\n",
    "conda config --add channels conda-forge \n",
    "conda config --set channel_priority strict\n",
    "```\n",
    "\n",
    "Strict channel priority speed up conda operations and also reduce package incompatibility problems."
   ]
  },
  {
   "cell_type": "markdown",
   "metadata": {
    "cell_id": "00006-47b827c2-9bc0-416d-993f-48e95819836d",
    "deepnote_cell_type": "markdown",
    "slideshow": {
     "slide_type": "slide"
    }
   },
   "source": [
    "## Managing environments\n",
    "\n",
    "Conda allows you to create separate environments containing files, packages,\n",
    "and their dependencies that will not interact with other environments.\n",
    "\n",
    "When you begin using conda, you already have a default environment named\n",
    "``base``. You don't want to put programs into your base environment, though.\n",
    "Create separate environments to keep your programs isolated from each other.\n",
    "\n",
    "### Create a new environment and install a package in it.\n",
    "\n",
    "We will name the environment `irmar` and install the version 3.9 of `python`. At the Anaconda Prompt or in your terminal window, type the following:\n",
    "```bash\n",
    "conda create -y -n irmar python=3.8\n",
    "```"
   ]
  },
  {
   "cell_type": "markdown",
   "metadata": {
    "cell_id": "00007-160cfa3a-76d6-4583-bd41-a61927c7da04",
    "deepnote_cell_type": "markdown",
    "slideshow": {
     "slide_type": "slide"
    }
   },
   "source": [
    "### To use, or \"activate\" the new environment, type the following:\n",
    "\n",
    "```bash\n",
    "conda activate irmar\n",
    "```"
   ]
  },
  {
   "cell_type": "markdown",
   "metadata": {
    "cell_id": "00008-9e275657-1b31-4aaa-bf05-795ea1f4d925",
    "deepnote_cell_type": "markdown",
    "slideshow": {
     "slide_type": "fragment"
    }
   },
   "source": [
    "Now that you are in your `irmar` environment, any conda commands you type will go to that environment until you deactivate it.\n",
    "\n",
    "Verify which version of Python is in your current environment:\n",
    "\n",
    "```bash\n",
    "python --version\n",
    "```"
   ]
  },
  {
   "cell_type": "markdown",
   "metadata": {
    "cell_id": "00009-131c5ed6-2ac9-41fe-9ca3-ffcf2d1fd9e1",
    "deepnote_cell_type": "markdown",
    "slideshow": {
     "slide_type": "slide"
    }
   },
   "source": [
    "### To see a list of all your environments, type:"
   ]
  },
  {
   "cell_type": "code",
   "execution_count": 1,
   "metadata": {
    "cell_id": "00010-f66a0378-5833-4fa0-ab0b-005baa7bd2ff",
    "deepnote_cell_type": "code",
    "slideshow": {
     "slide_type": "fragment"
    }
   },
   "outputs": [
    {
     "name": "stdout",
     "output_type": "stream",
     "text": [
      "# conda environments:\n",
      "#\n",
      "base                  *  /home/navaro/miniforge3\n",
      "big-data                 /home/navaro/miniforge3/envs/big-data\n",
      "fda                      /home/navaro/miniforge3/envs/fda\n",
      "                         /opt/tljh/user\n",
      "\n"
     ]
    }
   ],
   "source": [
    "%%bash\n",
    "conda env list"
   ]
  },
  {
   "cell_type": "markdown",
   "metadata": {
    "cell_id": "00011-fc26b545-3b11-4dfb-9d3b-fe64673f5da4",
    "deepnote_cell_type": "markdown",
    "slideshow": {
     "slide_type": "slide"
    }
   },
   "source": [
    "The active environment is the one with an asterisk (*).\n",
    "\n",
    "### Change your current environment back to the default (base):\n",
    "\n",
    "```bash\n",
    "conda activate\n",
    "```"
   ]
  },
  {
   "cell_type": "markdown",
   "metadata": {
    "cell_id": "00012-df8df772-187f-4b19-8e2d-9a5f70682378",
    "deepnote_cell_type": "markdown",
    "slideshow": {
     "slide_type": "slide"
    }
   },
   "source": [
    "## Managing packages\n",
    "\n",
    "- Check to see if a package you have not installed named \"jupyter\" is available from the Anaconda repository (must be connected to the Internet):"
   ]
  },
  {
   "cell_type": "code",
   "execution_count": null,
   "metadata": {
    "cell_id": "00013-2a0afc14-6f3c-4303-8fe1-c044376d61ef",
    "deepnote_cell_type": "code",
    "slideshow": {
     "slide_type": "fragment"
    }
   },
   "outputs": [],
   "source": [
    "%%bash\n",
    "conda search jupyter | grep conda-forge"
   ]
  },
  {
   "cell_type": "markdown",
   "metadata": {
    "cell_id": "00014-4fea59f6-2bad-427a-bcd8-ed50bf86d6f5",
    "deepnote_cell_type": "markdown",
    "slideshow": {
     "slide_type": "slide"
    }
   },
   "source": [
    "Conda displays a list of all packages with that name on conda-forge repository, so we know it is available.\n",
    "\n",
    "Install this package into the base environment:\n",
    "\n",
    "```bash\n",
    "conda activate\n",
    "conda install -y jupyter -c conda-forge -n base\n",
    "```"
   ]
  },
  {
   "cell_type": "markdown",
   "metadata": {
    "cell_id": "00015-8ffee693-33a1-4810-95ac-1a78bdc76747",
    "deepnote_cell_type": "markdown",
    "slideshow": {
     "slide_type": "slide"
    }
   },
   "source": [
    "Check to see if the newly installed program is in this environment:"
   ]
  },
  {
   "cell_type": "code",
   "execution_count": null,
   "metadata": {
    "cell_id": "00016-259afc3f-771d-445e-bef8-8a86ace41777",
    "deepnote_cell_type": "code",
    "slideshow": {
     "slide_type": "fragment"
    }
   },
   "outputs": [],
   "source": [
    "%%bash\n",
    "conda list jupyter"
   ]
  },
  {
   "cell_type": "markdown",
   "metadata": {},
   "source": [
    "# Export your environment to file"
   ]
  },
  {
   "cell_type": "code",
   "execution_count": 6,
   "metadata": {},
   "outputs": [],
   "source": [
    "%%bash \n",
    "conda env export -n fda -f environment.yml"
   ]
  },
  {
   "cell_type": "code",
   "execution_count": 7,
   "metadata": {},
   "outputs": [
    {
     "name": "stdout",
     "output_type": "stream",
     "text": [
      "name: fda\r\n",
      "channels:\r\n",
      "  - conda-forge\r\n",
      "  - defaults\r\n",
      "dependencies:\r\n",
      "  - _libgcc_mutex=0.1=conda_forge\r\n",
      "  - _openmp_mutex=4.5=1_gnu\r\n",
      "  - alsa-lib=1.2.3=h516909a_0\r\n",
      "  - argon2-cffi=20.1.0=py37h8f50634_2\r\n",
      "  - async_generator=1.10=py_0\r\n",
      "  - attrs=21.2.0=pyhd8ed1ab_0\r\n",
      "  - backcall=0.2.0=pyh9f0ad1d_0\r\n",
      "  - backports=1.0=py_2\r\n",
      "  - backports.functools_lru_cache=1.6.4=pyhd8ed1ab_0\r\n",
      "  - bleach=3.3.0=pyh44b312d_0\r\n",
      "  - bzip2=1.0.8=h7f98852_4\r\n",
      "  - ca-certificates=2021.5.30=ha878542_0\r\n",
      "  - certifi=2021.5.30=py37h89c1867_0\r\n",
      "  - cffi=1.14.5=py37hc58025e_0\r\n",
      "  - cython=0.29.23=py37hcd2ae1e_1\r\n",
      "  - dbus=1.13.6=h48d8840_2\r\n",
      "  - debugpy=1.3.0=py37hcd2ae1e_0\r\n",
      "  - decorator=5.0.9=pyhd8ed1ab_0\r\n",
      "  - defusedxml=0.7.1=pyhd8ed1ab_0\r\n",
      "  - entrypoints=0.3=py37hc8dfbb8_1002\r\n",
      "  - expat=2.4.1=h9c3ff4c_0\r\n",
      "  - fontconfig=2.13.1=hba837de_1005\r\n",
      "  - freetype=2.10.4=h0708190_1\r\n",
      "  - future=0.18.2=py37h89c1867_3\r\n",
      "  - gdbm=1.18=h0a1914f_2\r\n",
      "  - gettext=0.19.8.1=h0b5b191_1005\r\n",
      "  - glib=2.68.3=h9c3ff4c_0\r\n",
      "  - glib-tools=2.68.3=h9c3ff4c_0\r\n",
      "  - gst-plugins-base=1.18.4=hf529b03_2\r\n",
      "  - gstreamer=1.18.4=h76c114f_2\r\n",
      "  - icu=68.1=h58526e2_0\r\n",
      "  - importlib-metadata=3.10.1=py37h89c1867_0\r\n",
      "  - importlib_metadata=3.10.1=hd8ed1ab_0\r\n",
      "  - iniconfig=1.1.1=pyh9f0ad1d_0\r\n",
      "  - ipykernel=6.0.1=py37h085eea5_0\r\n",
      "  - ipython=7.25.0=py37h085eea5_1\r\n",
      "  - ipython_genutils=0.2.0=py_1\r\n",
      "  - ipywidgets=7.6.3=pyhd3deb0d_0\r\n",
      "  - jbig=2.1=h7f98852_2003\r\n",
      "  - jedi=0.18.0=py37h89c1867_2\r\n",
      "  - jinja2=3.0.1=pyhd8ed1ab_0\r\n",
      "  - joblib=1.0.1=pyhd8ed1ab_0\r\n",
      "  - jpeg=9d=h516909a_0\r\n",
      "  - jsonschema=3.2.0=py37hc8dfbb8_1\r\n",
      "  - jupyter=1.0.0=py37h89c1867_6\r\n",
      "  - jupyter_client=6.1.12=pyhd8ed1ab_0\r\n",
      "  - jupyter_console=6.4.0=pyhd8ed1ab_0\r\n",
      "  - jupyter_core=4.7.1=py37h89c1867_0\r\n",
      "  - jupyterlab_pygments=0.1.2=pyh9f0ad1d_0\r\n",
      "  - jupyterlab_widgets=1.0.0=pyhd8ed1ab_1\r\n",
      "  - jupytext=1.11.3=pyh6c4a22f_1\r\n",
      "  - kiwisolver=1.3.1=py37h2527ec5_1\r\n",
      "  - krb5=1.19.1=hcc1bbae_0\r\n",
      "  - lcms2=2.12=hddcbb42_0\r\n",
      "  - ld_impl_linux-64=2.36.1=hea4e1c9_0\r\n",
      "  - lerc=2.2.1=h9c3ff4c_0\r\n",
      "  - libblas=3.9.0=9_openblas\r\n",
      "  - libcblas=3.9.0=9_openblas\r\n",
      "  - libclang=11.1.0=default_ha53f305_1\r\n",
      "  - libdeflate=1.7=h7f98852_5\r\n",
      "  - libedit=3.1.20191231=he28a2e2_2\r\n",
      "  - libevent=2.1.10=hcdb4288_3\r\n",
      "  - libffi=3.3=h58526e2_2\r\n",
      "  - libgcc-ng=9.3.0=h2828fa1_19\r\n",
      "  - libgfortran-ng=9.3.0=hff62375_19\r\n",
      "  - libgfortran5=9.3.0=hff62375_19\r\n",
      "  - libglib=2.68.3=h3e27bee_0\r\n",
      "  - libgomp=9.3.0=h2828fa1_19\r\n",
      "  - libiconv=1.16=h516909a_0\r\n",
      "  - liblapack=3.9.0=9_openblas\r\n",
      "  - libllvm10=10.0.1=he513fc3_3\r\n",
      "  - libllvm11=11.1.0=hf817b99_2\r\n",
      "  - libogg=1.3.4=h7f98852_1\r\n",
      "  - libopenblas=0.3.15=pthreads_h8fe5266_1\r\n",
      "  - libopus=1.3.1=h7f98852_1\r\n",
      "  - libpng=1.6.37=hed695b0_2\r\n",
      "  - libpq=13.3=hd57d9b9_0\r\n",
      "  - libsodium=1.0.18=h516909a_1\r\n",
      "  - libstdcxx-ng=9.3.0=h6de172a_19\r\n",
      "  - libtiff=4.3.0=hf544144_1\r\n",
      "  - libuuid=2.32.1=h14c3975_1000\r\n",
      "  - libvorbis=1.3.7=he1b5a44_0\r\n",
      "  - libwebp-base=1.2.0=h7f98852_2\r\n",
      "  - libxcb=1.13=h7f98852_1003\r\n",
      "  - libxkbcommon=1.0.3=he3ba5ed_0\r\n",
      "  - libxml2=2.9.12=h72842e0_0\r\n",
      "  - llvmlite=0.35.0=py37h9d7f4d0_1\r\n",
      "  - lz4-c=1.9.3=h9c3ff4c_0\r\n",
      "  - markdown-it-py=1.1.0=pyhd8ed1ab_0\r\n",
      "  - markupsafe=2.0.1=py37h5e8e339_0\r\n",
      "  - matplotlib-base=3.4.2=py37hdd32ed1_0\r\n",
      "  - matplotlib-inline=0.1.2=pyhd8ed1ab_2\r\n",
      "  - mdit-py-plugins=0.2.8=pyhd8ed1ab_0\r\n",
      "  - mistune=0.8.4=py37h5e8e339_1004\r\n",
      "  - more-itertools=8.8.0=pyhd8ed1ab_0\r\n",
      "  - mysql-common=8.0.25=ha770c72_2\r\n",
      "  - mysql-libs=8.0.25=hfa10184_2\r\n",
      "  - nbclient=0.5.3=pyhd8ed1ab_0\r\n",
      "  - nbconvert=6.1.0=py37h89c1867_0\r\n",
      "  - nbformat=5.1.3=pyhd8ed1ab_0\r\n",
      "  - ncurses=6.2=h58526e2_4\r\n",
      "  - nest-asyncio=1.5.1=pyhd8ed1ab_0\r\n",
      "  - notebook=6.4.0=pyha770c72_0\r\n",
      "  - nspr=4.30=h9c3ff4c_0\r\n",
      "  - nss=3.67=hb5efdd6_0\r\n",
      "  - numba=0.52.0=py37hdc94413_0\r\n",
      "  - olefile=0.46=pyh9f0ad1d_1\r\n",
      "  - openjpeg=2.4.0=hb52868f_1\r\n",
      "  - openssl=1.1.1k=h7f98852_0\r\n",
      "  - packaging=21.0=pyhd8ed1ab_0\r\n",
      "  - pandas=1.1.5=py37hdc94413_0\r\n",
      "  - pandoc=2.14.0.3=h7f98852_0\r\n",
      "  - pandocfilters=1.4.2=py_1\r\n",
      "  - parso=0.8.2=pyhd8ed1ab_0\r\n",
      "  - patsy=0.5.1=py_0\r\n",
      "  - pcre=8.45=h9c3ff4c_0\r\n",
      "  - pexpect=4.8.0=py37hc8dfbb8_1\r\n",
      "  - pickleshare=0.7.5=py37hc8dfbb8_1002\r\n",
      "  - pillow=8.3.0=py37h0f21c89_0\r\n",
      "  - pip=21.1.3=pyhd8ed1ab_0\r\n",
      "  - pluggy=0.13.1=py37h89c1867_4\r\n",
      "  - progressbar2=3.53.1=pyh9f0ad1d_0\r\n",
      "  - prometheus_client=0.11.0=pyhd8ed1ab_0\r\n",
      "  - prompt-toolkit=3.0.19=pyha770c72_0\r\n",
      "  - prompt_toolkit=3.0.19=hd8ed1ab_0\r\n",
      "  - pthread-stubs=0.4=h36c2ea0_1001\r\n",
      "  - ptyprocess=0.7.0=pyhd3deb0d_0\r\n",
      "  - py=1.10.0=pyhd3deb0d_0\r\n",
      "  - pycparser=2.20=pyh9f0ad1d_2\r\n",
      "  - pygam=0.8.0=py_0\r\n",
      "  - pygments=2.9.0=pyhd8ed1ab_0\r\n",
      "  - pyparsing=2.4.7=pyh9f0ad1d_0\r\n",
      "  - pypy3.7=7.3.5=hc4e864a_3\r\n",
      "  - pyqt=5.12.3=py37h89c1867_7\r\n",
      "  - pyqt-impl=5.12.3=py37he336c9b_7\r\n",
      "  - pyqt5-sip=4.19.18=py37hcd2ae1e_7\r\n",
      "  - pyqtchart=5.12=py37he336c9b_7\r\n",
      "  - pyqtwebengine=5.12.1=py37he336c9b_7\r\n",
      "  - pyrsistent=0.17.3=py37h5e8e339_2\r\n",
      "  - pytest=6.2.4=py37h89c1867_0\r\n",
      "  - python=3.7.10=hffdb5ce_100_cpython\r\n",
      "  - python-dateutil=2.8.1=py_0\r\n",
      "  - python-utils=2.5.6=pyh44b312d_0\r\n",
      "  - python_abi=3.7=2_cp37m\r\n",
      "  - pytz=2021.1=pyhd8ed1ab_0\r\n",
      "  - pyyaml=5.4.1=py37h5e8e339_0\r\n",
      "  - pyzmq=22.1.0=py37h336d617_0\r\n",
      "  - qt=5.12.9=hda022c4_4\r\n",
      "  - qtconsole=5.1.1=pyhd8ed1ab_0\r\n",
      "  - qtpy=1.9.0=py_0\r\n",
      "  - readline=8.1=h46c0cb4_0\r\n",
      "  - scikit-learn=0.24.2=py37h18a542f_0\r\n",
      "  - send2trash=1.7.1=pyhd8ed1ab_0\r\n",
      "  - setuptools=49.6.0=py37h89c1867_3\r\n",
      "  - six=1.16.0=pyh6c4a22f_0\r\n",
      "  - sktime=0.5.1=py37hcd2ae1e_0\r\n",
      "  - sqlite=3.36.0=h9cd32fc_0\r\n",
      "  - statsmodels=0.12.2=py37h902c9e0_0\r\n",
      "  - terminado=0.10.1=py37h89c1867_0\r\n",
      "  - testpath=0.5.0=pyhd8ed1ab_0\r\n",
      "  - threadpoolctl=2.1.0=pyh5ca1d4c_0\r\n",
      "  - tk=8.6.10=h21135ba_1\r\n",
      "  - toml=0.10.2=pyhd8ed1ab_0\r\n",
      "  - tornado=6.1=py37h5e8e339_1\r\n",
      "  - traitlets=5.0.5=py_0\r\n",
      "  - typing_extensions=3.10.0.0=pyha770c72_0\r\n",
      "  - wcwidth=0.2.5=pyh9f0ad1d_2\r\n",
      "  - webencodings=0.5.1=py_1\r\n",
      "  - widgetsnbextension=3.5.1=py37hc8dfbb8_4\r\n",
      "  - xorg-libxau=1.0.9=h14c3975_0\r\n",
      "  - xorg-libxdmcp=1.1.3=h516909a_0\r\n",
      "  - xz=5.2.5=h516909a_1\r\n",
      "  - yaml=0.2.5=h516909a_0\r\n",
      "  - zeromq=4.3.4=h9c3ff4c_0\r\n",
      "  - zipp=3.5.0=pyhd8ed1ab_0\r\n",
      "  - zlib=1.2.11=h516909a_1010\r\n",
      "  - zstd=1.5.0=ha95c52a_0\r\n",
      "  - pip:\r\n",
      "    - brewer2mpl==1.4.1\r\n",
      "    - csaps==1.0.4\r\n",
      "    - cycler==0.10.0\r\n",
      "    - fdapy==0.8.5\r\n",
      "    - ggplot==0.11.5\r\n",
      "    - matplotlib==3.4.2\r\n",
      "    - numpy==1.20.3\r\n",
      "    - scipy==1.6.3\r\n",
      "    - sklearn==0.0\r\n",
      "    - wheel==0.36.2\r\n",
      "prefix: /home/navaro/miniforge3/envs/fda\r\n"
     ]
    }
   ],
   "source": [
    "%cat environment.yml"
   ]
  },
  {
   "cell_type": "markdown",
   "metadata": {
    "cell_id": "00017-aa5e9516-8a01-4d25-8caf-62e1f0497d46",
    "deepnote_cell_type": "markdown",
    "slideshow": {
     "slide_type": "slide"
    }
   },
   "source": [
    "### Update a new conda environment from file\n",
    "\n",
    "Download the file [environment.yml](https://raw.githubusercontent.com/pnavaro/big-data/master/environment.yml).\n",
    "This file contains the packages list for this course. Be aware that it takes time to download and install all packages.\n",
    "\n",
    "```bash\n",
    "conda env update -f environment.yml -n big-data\n",
    "```\n",
    "\n",
    "[Conda envs documentation](https://conda.io/docs/using/envs.html)."
   ]
  },
  {
   "cell_type": "markdown",
   "metadata": {
    "cell_id": "00018-61768c7e-7e7a-4459-bde5-3d98028bf4e1",
    "deepnote_cell_type": "markdown",
    "slideshow": {
     "slide_type": "slide"
    }
   },
   "source": [
    "Activating the conda environment will change your shell’s prompt to show what virtual environment you’re using, and modify the environment so that running python will get you that particular version and installation of Python. \n",
    "<pre>\n",
    "$ conda activate big-data\n",
    "(big-data) $ python\n",
    "Python 3.6.2 (default, Jul 17 2017, 16:44:45) \n",
    "[GCC 4.2.1 Compatible Apple LLVM 8.1.0 (clang-802.0.42)] on darwin\n",
    "Type \"help\", \"copyright\", \"credits\" or \"license\" for more information.\n",
    ">>> quit()\n",
    "</pre>\n",
    "\n",
    "**You must do this everytime you open a new terminal**"
   ]
  },
  {
   "cell_type": "markdown",
   "metadata": {
    "cell_id": "00019-243b5913-75c8-461a-a6b0-aac380449a2e",
    "deepnote_cell_type": "markdown",
    "slideshow": {
     "slide_type": "slide"
    }
   },
   "source": [
    "## Install the kernel for jupyter\n",
    "\n",
    "```bash\n",
    "conda run -n big-data python -m ipykernel install --user --name big-data\n",
    "```\n",
    "\n",
    "With this command you create the `big-data` kernel with python and all course dependencies.\n",
    "The cell above will give you the path to the python that runs in this notebook."
   ]
  },
  {
   "cell_type": "code",
   "execution_count": null,
   "metadata": {
    "cell_id": "00020-9708ee56-1207-4fc0-b94b-a3963e073993",
    "deepnote_cell_type": "code",
    "slideshow": {
     "slide_type": "slide"
    }
   },
   "outputs": [],
   "source": [
    "import sys\n",
    "print(f\"{sys.executable}\")"
   ]
  },
  {
   "cell_type": "code",
   "execution_count": null,
   "metadata": {
    "cell_id": "00021-ef265755-c5c4-4b5b-aaa3-9b1f5f3b5d3d",
    "deepnote_cell_type": "code",
    "slideshow": {
     "slide_type": "fragment"
    }
   },
   "outputs": [],
   "source": [
    "%%bash\n",
    "jupyter-kernelspec list"
   ]
  },
  {
   "cell_type": "markdown",
   "metadata": {
    "cell_id": "00022-67347d4a-f461-4846-8a07-c07b1f101726",
    "deepnote_cell_type": "markdown"
   },
   "source": [
    "## Mamba\n",
    "\n",
    "Mamba is a parallel reimplementation of the conda package manager in C++. It stays compatible as possible with conda interface. Install mamba from conda-forge:\n",
    "```bash\n",
    "conda install mamba -c conda-forge\n",
    "```\n",
    "\n",
    "To test it you can try to install the metapackage `r-tidyverse` which contains 144 packages.\n",
    "\n",
    "```bash\n",
    "$ time conda create -y r-tidyverse -n condatest\n",
    "real\t1m9.057s\n",
    "$ time mamba create -y r-tidyverse -n mambatest\n",
    "real\t0m32.365s\n",
    "```\n",
    "In this comparison packages are already downloaded, mamba is even better with downloads."
   ]
  }
 ],
 "metadata": {
  "deepnote_execution_queue": [],
  "deepnote_notebook_id": "a17cb0b0-e36b-4d80-a4d4-b1ec8efb60fb",
  "kernelspec": {
   "display_name": "Python 3 (ipykernel)",
   "language": "python",
   "name": "python3"
  },
  "language_info": {
   "codemirror_mode": {
    "name": "ipython",
    "version": 3
   },
   "file_extension": ".py",
   "mimetype": "text/x-python",
   "name": "python",
   "nbconvert_exporter": "python",
   "pygments_lexer": "ipython3",
   "version": "3.8.8"
  }
 },
 "nbformat": 4,
 "nbformat_minor": 4
}
