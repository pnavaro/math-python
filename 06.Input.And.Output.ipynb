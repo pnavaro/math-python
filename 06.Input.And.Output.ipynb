{
 "cells": [
  {
   "cell_type": "markdown",
   "metadata": {},
   "source": [
    "Pierre Navaro - [Institut de Recherche Mathématique de Rennes](https://irmar.univ-rennes1.fr) - [CNRS](http://www.cnrs.fr/)"
   ]
  },
  {
   "cell_type": "markdown",
   "metadata": {
    "collapsed": true,
    "slideshow": {
     "slide_type": "slide"
    }
   },
   "source": [
    "# Input and Output\n",
    "- str() function return human-readable representations of values.\n",
    "- repr() generate representations which can be read by the interpreter.\n",
    "- For objects which don’t have a particular representation for human consumption, str() will return the same value as repr()."
   ]
  },
  {
   "cell_type": "raw",
   "metadata": {},
   "source": [
    "<script>\n",
    "    function hide_prompt() {\n",
    "        $('div.prompt').hide(); // always hide prompt\n",
    "    }\n",
    "    $( document ).ready(hide_prompt);\n",
    "</script>"
   ]
  },
  {
   "cell_type": "code",
   "execution_count": 1,
   "metadata": {
    "slideshow": {
     "slide_type": "fragment"
    }
   },
   "outputs": [
    {
     "data": {
      "text/plain": [
       "'Hello, world.'"
      ]
     },
     "execution_count": 1,
     "metadata": {},
     "output_type": "execute_result"
    }
   ],
   "source": [
    "s = 'Hello, world.'\n",
    "str(s)"
   ]
  },
  {
   "cell_type": "code",
   "execution_count": 2,
   "metadata": {
    "slideshow": {
     "slide_type": "fragment"
    }
   },
   "outputs": [
    {
     "data": {
      "text/plain": [
       "\"'Hello, world.'\""
      ]
     },
     "execution_count": 2,
     "metadata": {},
     "output_type": "execute_result"
    }
   ],
   "source": [
    "repr(s)"
   ]
  },
  {
   "cell_type": "code",
   "execution_count": 3,
   "metadata": {
    "slideshow": {
     "slide_type": "fragment"
    }
   },
   "outputs": [
    {
     "data": {
      "text/plain": [
       "'0.14285714285714285'"
      ]
     },
     "execution_count": 3,
     "metadata": {},
     "output_type": "execute_result"
    }
   ],
   "source": [
    "str(1/7)\n",
    "'0.14285714285714285'"
   ]
  },
  {
   "cell_type": "code",
   "execution_count": 4,
   "metadata": {
    "slideshow": {
     "slide_type": "slide"
    }
   },
   "outputs": [
    {
     "name": "stdout",
     "output_type": "stream",
     "text": [
      "The value of x is 32.5, and y is 40000...\n"
     ]
    }
   ],
   "source": [
    "x = 10 * 3.25\n",
    "y = 200 * 200\n",
    "s = 'The value of x is ' + repr(x) + ', and y is ' + repr(y) + '...'\n",
    "print(s)"
   ]
  },
  {
   "cell_type": "markdown",
   "metadata": {
    "slideshow": {
     "slide_type": "fragment"
    }
   },
   "source": [
    "repr() of a string adds string quotes and backslashes:"
   ]
  },
  {
   "cell_type": "code",
   "execution_count": 5,
   "metadata": {
    "slideshow": {
     "slide_type": "fragment"
    }
   },
   "outputs": [
    {
     "name": "stdout",
     "output_type": "stream",
     "text": [
      "'hello, world\\n'\n"
     ]
    }
   ],
   "source": [
    "hello = 'hello, world\\n'\n",
    "hellos = repr(hello)\n",
    "print(hellos)"
   ]
  },
  {
   "cell_type": "markdown",
   "metadata": {
    "slideshow": {
     "slide_type": "fragment"
    }
   },
   "source": [
    "The argument to repr() may be any Python object:"
   ]
  },
  {
   "cell_type": "code",
   "execution_count": 6,
   "metadata": {
    "slideshow": {
     "slide_type": "fragment"
    }
   },
   "outputs": [
    {
     "data": {
      "text/plain": [
       "\"(32.5, 40000, ('spam', 'eggs'))\""
      ]
     },
     "execution_count": 6,
     "metadata": {},
     "output_type": "execute_result"
    }
   ],
   "source": [
    "repr((x, y, ('spam', 'eggs')))"
   ]
  },
  {
   "cell_type": "code",
   "execution_count": 7,
   "metadata": {
    "slideshow": {
     "slide_type": "slide"
    }
   },
   "outputs": [
    {
     "name": "stdout",
     "output_type": "stream",
     "text": [
      "1  1   1    1     1      1       1        \n",
      "1  2   4    8     16     32      64       \n",
      "1  3   9    27    81     243     729      \n",
      "1  4   16   64    256    1024    4096     \n",
      "1  5   25   125   625    3125    15625    \n",
      "1  6   36   216   1296   7776    46656    \n"
     ]
    }
   ],
   "source": [
    "n = 7\n",
    "for x in range(1, n):\n",
    "    for i in range(n):\n",
    "        print(repr(x**i).ljust(i+2), end=' ') # rjust or center can be used\n",
    "    print()"
   ]
  },
  {
   "cell_type": "code",
   "execution_count": 8,
   "metadata": {
    "slideshow": {
     "slide_type": "fragment"
    }
   },
   "outputs": [
    {
     "name": "stdout",
     "output_type": "stream",
     "text": [
      "0000001 0000001 0000001 0000001 0000001 0000001 0000001 \n",
      "0000001 0000002 0000004 0000008 0000016 0000032 0000064 \n",
      "0000001 0000003 0000009 0000027 0000081 0000243 0000729 \n",
      "0000001 0000004 0000016 0000064 0000256 0001024 0004096 \n",
      "0000001 0000005 0000025 0000125 0000625 0003125 0015625 \n",
      "0000001 0000006 0000036 0000216 0001296 0007776 0046656 \n"
     ]
    }
   ],
   "source": [
    "for x in range(1, n):\n",
    "    for i in range(n):\n",
    "        print(\"%07d\" % x**i, end=' ')\n",
    "    print()"
   ]
  },
  {
   "cell_type": "markdown",
   "metadata": {
    "slideshow": {
     "slide_type": "slide"
    }
   },
   "source": [
    "# Usage of the `str.format()` method "
   ]
  },
  {
   "cell_type": "code",
   "execution_count": 9,
   "metadata": {
    "slideshow": {
     "slide_type": "fragment"
    }
   },
   "outputs": [
    {
     "name": "stdout",
     "output_type": "stream",
     "text": [
      "We are at the cemracs in Marseille!\n"
     ]
    }
   ],
   "source": [
    "print('We are at the {} in {}!'.format('cemracs', 'Marseille'))"
   ]
  },
  {
   "cell_type": "code",
   "execution_count": 10,
   "metadata": {
    "slideshow": {
     "slide_type": "fragment"
    }
   },
   "outputs": [
    {
     "name": "stdout",
     "output_type": "stream",
     "text": [
      "From July 17 to  August 25\n"
     ]
    }
   ],
   "source": [
    "print('From {0} to  {1}'.format('July 17', 'August 25'))"
   ]
  },
  {
   "cell_type": "code",
   "execution_count": 11,
   "metadata": {
    "slideshow": {
     "slide_type": "fragment"
    }
   },
   "outputs": [
    {
     "name": "stdout",
     "output_type": "stream",
     "text": [
      "It takes place at CIRM\n"
     ]
    }
   ],
   "source": [
    "print('It takes place at {place}'.format(place='CIRM'))"
   ]
  },
  {
   "cell_type": "code",
   "execution_count": 12,
   "metadata": {
    "slideshow": {
     "slide_type": "fragment"
    }
   },
   "outputs": [
    {
     "name": "stdout",
     "output_type": "stream",
     "text": [
      "The value of PI is approximately 3.1416.\n"
     ]
    }
   ],
   "source": [
    "import math\n",
    "print('The value of PI is approximately {0:.4f}.'.format(math.pi))"
   ]
  },
  {
   "cell_type": "markdown",
   "metadata": {
    "slideshow": {
     "slide_type": "slide"
    }
   },
   "source": [
    "# Exercise\n",
    "Create a list containing the values of [binomial coefficients](https://en.wikipedia.org/wiki/Binomial_coefficient) and reproduce the [Pascal's triangle](https://en.wikipedia.org/wiki/Pascal%27s_triangle)\n",
    "<pre>\n",
    "                 1  \n",
    "               1   1  \n",
    "             1   2   1  \n",
    "           1   3   3   1  \n",
    "         1   4   6   4   1  \n",
    "       1   5  10  10   5   1  \n",
    "     1   6  15  20  15   6   1  \n",
    "   1   7  21  35  35  21   7   1  \n",
    "</pre>"
   ]
  },
  {
   "cell_type": "markdown",
   "metadata": {},
   "source": [
    "<button data-toggle=\"collapse\" data-target=\"#pascal\" class='btn btn-primary'>Solution</button>\n",
    "<div id=\"pascal\" class=\"collapse\">\n",
    "```python\n",
    "def binomial(n, p):\n",
    "    b = 1    \n",
    "    for i in range(1, min(p, n - p) + 1):\n",
    "        b *= n\n",
    "        b = b // i\n",
    "        n -= 1\n",
    "    return b\n",
    "\n",
    "def pascal_triangle(n):\n",
    "    for i in range(n):\n",
    "        line = [binomial(i, j) for j in range(i+1)]\n",
    "        s = (n-i) * 3 * \" \" # number of spaces\n",
    "        for c in line:\n",
    "            s += repr(c).rjust(3) + 3 * \" \" # coeffs repr split by 3 spaces\n",
    "        print(s)\n",
    "        \n",
    "pascal_triangle(10)\n",
    "```"
   ]
  },
  {
   "cell_type": "markdown",
   "metadata": {
    "slideshow": {
     "slide_type": "slide"
    }
   },
   "source": [
    "# Reading and Writing Files\n",
    "\n",
    "`open()` returns a file object, and is most commonly used with file name and accessing mode argument.\n"
   ]
  },
  {
   "cell_type": "code",
   "execution_count": 13,
   "metadata": {
    "slideshow": {
     "slide_type": "fragment"
    }
   },
   "outputs": [
    {
     "name": "stdout",
     "output_type": "stream",
     "text": [
      "1. This is a txt file.\r\n",
      "2. \\n is used to begin a new line"
     ]
    }
   ],
   "source": [
    "f = open('workfile.txt', 'w')\n",
    "f.write(\"1. This is a txt file.\\n\")\n",
    "f.write(\"2. \\\\n is used to begin a new line\")\n",
    "f.close()\n",
    "!cat workfile.txt"
   ]
  },
  {
   "cell_type": "markdown",
   "metadata": {
    "slideshow": {
     "slide_type": "slide"
    }
   },
   "source": [
    "`mode` can be :\n",
    "- 'r' when the file will only be read, \n",
    "- 'w' for only writing (an existing file with the same name will be erased)\n",
    "- 'a' opens the file for appending; any data written to the file is automatically added to the end. \n",
    "- 'r+' opens the file for both reading and writing. \n",
    "- The mode argument is optional; 'r' will be assumed if it’s omitted.\n",
    "- Normally, files are opened in text mode.\n",
    "- 'b' appended to the mode opens the file in binary mode."
   ]
  },
  {
   "cell_type": "code",
   "execution_count": 14,
   "metadata": {
    "slideshow": {
     "slide_type": "slide"
    }
   },
   "outputs": [
    {
     "data": {
      "text/plain": [
       "True"
      ]
     },
     "execution_count": 14,
     "metadata": {},
     "output_type": "execute_result"
    }
   ],
   "source": [
    "with open('workfile.txt') as f:\n",
    "    read_text = f.read()\n",
    "f.closed"
   ]
  },
  {
   "cell_type": "code",
   "execution_count": 15,
   "metadata": {
    "slideshow": {
     "slide_type": "fragment"
    }
   },
   "outputs": [
    {
     "data": {
      "text/plain": [
       "'1. This is a txt file.\\n2. \\\\n is used to begin a new line'"
      ]
     },
     "execution_count": 15,
     "metadata": {},
     "output_type": "execute_result"
    }
   ],
   "source": [
    "read_text"
   ]
  },
  {
   "cell_type": "code",
   "execution_count": 16,
   "metadata": {
    "slideshow": {
     "slide_type": "fragment"
    }
   },
   "outputs": [
    {
     "data": {
      "text/plain": [
       "['1. This is a txt file.\\n', '2. \\\\n is used to begin a new line', '']"
      ]
     },
     "execution_count": 16,
     "metadata": {},
     "output_type": "execute_result"
    }
   ],
   "source": [
    "lines= []\n",
    "with open('workfile.txt') as f:\n",
    "    lines.append(f.readline())\n",
    "    lines.append(f.readline())\n",
    "    lines.append(f.readline())\n",
    "    \n",
    "lines"
   ]
  },
  {
   "cell_type": "markdown",
   "metadata": {
    "slideshow": {
     "slide_type": "slide"
    }
   },
   "source": [
    "- `f.readline()` returns an empty string when the end of the file has been reached.\n",
    "- `f.readlines()` or `list(f)` read all the lines of a file in a list.\n",
    "\n",
    "For reading lines from a file, you can loop over the file object. This is memory efficient, fast, and leads to simple code:"
   ]
  },
  {
   "cell_type": "code",
   "execution_count": 17,
   "metadata": {
    "slideshow": {
     "slide_type": "fragment"
    }
   },
   "outputs": [
    {
     "name": "stdout",
     "output_type": "stream",
     "text": [
      "1. This is a txt file.\n",
      "2. \\n is used to begin a new line"
     ]
    }
   ],
   "source": [
    "with open('workfile.txt') as f:\n",
    "    for line in f:\n",
    "        print(line, end='')"
   ]
  },
  {
   "cell_type": "markdown",
   "metadata": {
    "slideshow": {
     "slide_type": "slide"
    }
   },
   "source": [
    "# Saving structured data with json\n",
    "\n",
    "- JSON (JavaScript Object Notation) is a popular data interchange format.\n",
    "- JSON format is commonly used by modern applications to allow for data exchange. \n",
    "- JSON can be used to communicate with applications written in other languages."
   ]
  },
  {
   "cell_type": "code",
   "execution_count": 4,
   "metadata": {
    "slideshow": {
     "slide_type": "fragment"
    }
   },
   "outputs": [
    {
     "data": {
      "text/plain": [
       "'[1, \"simple\", \"list\"]'"
      ]
     },
     "execution_count": 4,
     "metadata": {},
     "output_type": "execute_result"
    }
   ],
   "source": [
    "import json\n",
    "json.dumps([1, 'simple', 'list'])"
   ]
  },
  {
   "cell_type": "code",
   "execution_count": 5,
   "metadata": {
    "collapsed": true,
    "slideshow": {
     "slide_type": "fragment"
    }
   },
   "outputs": [],
   "source": [
    "x = dict(name=\"Pierre Navaro\", univ=\"Rennes1\", position=\"IR\")\n",
    "with open('workfile.json','w') as f:\n",
    "    json.dump(x, f)"
   ]
  },
  {
   "cell_type": "code",
   "execution_count": 6,
   "metadata": {
    "slideshow": {
     "slide_type": "fragment"
    }
   },
   "outputs": [
    {
     "data": {
      "text/plain": [
       "{'name': 'Pierre Navaro', 'position': 'IR', 'univ': 'Rennes1'}"
      ]
     },
     "execution_count": 6,
     "metadata": {},
     "output_type": "execute_result"
    }
   ],
   "source": [
    "with open('workfile.json','r') as f:\n",
    "    x = json.load(f)\n",
    "x"
   ]
  },
  {
   "cell_type": "markdown",
   "metadata": {
    "collapsed": true,
    "slideshow": {
     "slide_type": "fragment"
    }
   },
   "source": [
    "Use `ujson` for big data structures\n",
    "https://pypi.python.org/pypi/ujson\n"
   ]
  },
  {
   "cell_type": "code",
   "execution_count": null,
   "metadata": {
    "collapsed": true
   },
   "outputs": [],
   "source": []
  }
 ],
 "metadata": {
  "celltoolbar": "Slideshow",
  "kernelspec": {
   "display_name": "Python 3",
   "language": "python",
   "name": "python3"
  },
  "language_info": {
   "codemirror_mode": {
    "name": "ipython",
    "version": 3
   },
   "file_extension": ".py",
   "mimetype": "text/x-python",
   "name": "python",
   "nbconvert_exporter": "python",
   "pygments_lexer": "ipython3",
   "version": "3.6.2"
  }
 },
 "nbformat": 4,
 "nbformat_minor": 2
}
