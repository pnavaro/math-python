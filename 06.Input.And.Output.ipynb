{
 "cells": [
  {
   "cell_type": "markdown",
   "metadata": {
    "collapsed": true,
    "slideshow": {
     "slide_type": "slide"
    }
   },
   "source": [
    "# Input and Output\n",
    "- str() function return human-readable representations of values.\n",
    "- repr() generate representations which can be read by the interpreter.\n",
    "- For objects which don’t have a particular representation for human consumption, str() will return the same value as repr()."
   ]
  },
  {
   "cell_type": "code",
   "execution_count": 27,
   "metadata": {
    "slideshow": {
     "slide_type": "fragment"
    }
   },
   "outputs": [
    {
     "data": {
      "text/plain": [
       "'Hello, world.'"
      ]
     },
     "execution_count": 27,
     "metadata": {},
     "output_type": "execute_result"
    }
   ],
   "source": [
    "s = 'Hello, world.'\n",
    "str(s)"
   ]
  },
  {
   "cell_type": "code",
   "execution_count": 28,
   "metadata": {
    "slideshow": {
     "slide_type": "fragment"
    }
   },
   "outputs": [
    {
     "data": {
      "text/plain": [
       "'[0, 1, 2, 3]'"
      ]
     },
     "execution_count": 28,
     "metadata": {},
     "output_type": "execute_result"
    }
   ],
   "source": [
    "l = list(range(4))\n",
    "str(l)"
   ]
  },
  {
   "cell_type": "code",
   "execution_count": 29,
   "metadata": {
    "slideshow": {
     "slide_type": "fragment"
    }
   },
   "outputs": [
    {
     "data": {
      "text/plain": [
       "\"'Hello, world.'\""
      ]
     },
     "execution_count": 29,
     "metadata": {},
     "output_type": "execute_result"
    }
   ],
   "source": [
    "repr(s)"
   ]
  },
  {
   "cell_type": "code",
   "execution_count": 30,
   "metadata": {
    "slideshow": {
     "slide_type": "fragment"
    }
   },
   "outputs": [
    {
     "data": {
      "text/plain": [
       "'[0, 1, 2, 3]'"
      ]
     },
     "execution_count": 30,
     "metadata": {},
     "output_type": "execute_result"
    }
   ],
   "source": [
    "repr(l)"
   ]
  },
  {
   "cell_type": "code",
   "execution_count": 31,
   "metadata": {
    "slideshow": {
     "slide_type": "slide"
    }
   },
   "outputs": [
    {
     "name": "stdout",
     "output_type": "stream",
     "text": [
      "The value of x is 32.5, and y is 40000...\n"
     ]
    }
   ],
   "source": [
    "x = 10 * 3.25\n",
    "y = 200 * 200\n",
    "s = 'The value of x is ' + str(x) + ', and y is ' + repr(y) + '...'\n",
    "print(s)"
   ]
  },
  {
   "cell_type": "markdown",
   "metadata": {
    "slideshow": {
     "slide_type": "fragment"
    }
   },
   "source": [
    "repr() of a string adds string quotes and backslashes:"
   ]
  },
  {
   "cell_type": "code",
   "execution_count": 32,
   "metadata": {
    "slideshow": {
     "slide_type": "fragment"
    }
   },
   "outputs": [
    {
     "data": {
      "text/plain": [
       "\"'hello, world\\\\n'\""
      ]
     },
     "execution_count": 32,
     "metadata": {},
     "output_type": "execute_result"
    }
   ],
   "source": [
    "hello = 'hello, world\\n'\n",
    "hellos = repr(hello)\n",
    "hellos"
   ]
  },
  {
   "cell_type": "markdown",
   "metadata": {
    "slideshow": {
     "slide_type": "fragment"
    }
   },
   "source": [
    "The argument to repr() may be any Python object:"
   ]
  },
  {
   "cell_type": "code",
   "execution_count": 33,
   "metadata": {
    "slideshow": {
     "slide_type": "fragment"
    }
   },
   "outputs": [
    {
     "data": {
      "text/plain": [
       "\"(32.5, 40000, ('spam', 'eggs'))\""
      ]
     },
     "execution_count": 33,
     "metadata": {},
     "output_type": "execute_result"
    }
   ],
   "source": [
    "repr((x, y, ('spam', 'eggs')))"
   ]
  },
  {
   "cell_type": "code",
   "execution_count": 34,
   "metadata": {
    "slideshow": {
     "slide_type": "slide"
    }
   },
   "outputs": [
    {
     "name": "stdout",
     "output_type": "stream",
     "text": [
      " 1   1    1     1      1       1        1 \n",
      " 1   2    4     8     16      32       64 \n",
      " 1   3    9    27     81     243      729 \n",
      " 1   4   16    64    256    1024     4096 \n",
      " 1   5   25   125    625    3125    15625 \n",
      " 1   6   36   216   1296    7776    46656 \n"
     ]
    }
   ],
   "source": [
    "n = 7\n",
    "for x in range(1, n):\n",
    "    for i in range(n):\n",
    "        print(repr(x**i).rjust(i+2), end=' ') # rjust or center can be used\n",
    "    print()"
   ]
  },
  {
   "cell_type": "code",
   "execution_count": 35,
   "metadata": {
    "slideshow": {
     "slide_type": "fragment"
    }
   },
   "outputs": [
    {
     "name": "stdout",
     "output_type": "stream",
     "text": [
      "0000001 0000001 0000001 0000001 0000001 0000001 0000001 \n",
      "0000001 0000002 0000004 0000008 0000016 0000032 0000064 \n",
      "0000001 0000003 0000009 0000027 0000081 0000243 0000729 \n",
      "0000001 0000004 0000016 0000064 0000256 0001024 0004096 \n",
      "0000001 0000005 0000025 0000125 0000625 0003125 0015625 \n",
      "0000001 0000006 0000036 0000216 0001296 0007776 0046656 \n"
     ]
    }
   ],
   "source": [
    "for x in range(1, n):\n",
    "    for i in range(n):\n",
    "        print(\"%07d\" % x**i, end=' ')  # old C format\n",
    "    print()"
   ]
  },
  {
   "cell_type": "markdown",
   "metadata": {
    "slideshow": {
     "slide_type": "slide"
    }
   },
   "source": [
    "# Usage of the `str.format()` method "
   ]
  },
  {
   "cell_type": "code",
   "execution_count": 36,
   "metadata": {
    "slideshow": {
     "slide_type": "fragment"
    }
   },
   "outputs": [
    {
     "name": "stdout",
     "output_type": "stream",
     "text": [
      "We are at the osur in Rennes!\n"
     ]
    }
   ],
   "source": [
    "print('We are at the {} in {}!'.format('osur', 'Rennes'))"
   ]
  },
  {
   "cell_type": "code",
   "execution_count": 37,
   "metadata": {
    "slideshow": {
     "slide_type": "fragment"
    }
   },
   "outputs": [
    {
     "name": "stdout",
     "output_type": "stream",
     "text": [
      "From November 17 to  November 24\n"
     ]
    }
   ],
   "source": [
    "print('From {0} to  {1}'.format('November 17', 'November 24'))"
   ]
  },
  {
   "cell_type": "code",
   "execution_count": 38,
   "metadata": {
    "slideshow": {
     "slide_type": "fragment"
    }
   },
   "outputs": [
    {
     "name": "stdout",
     "output_type": "stream",
     "text": [
      "It takes place at Milon room\n"
     ]
    }
   ],
   "source": [
    "print('It takes place at {place}'.format(place='Milon room'))"
   ]
  },
  {
   "cell_type": "code",
   "execution_count": 39,
   "metadata": {
    "slideshow": {
     "slide_type": "fragment"
    }
   },
   "outputs": [
    {
     "name": "stdout",
     "output_type": "stream",
     "text": [
      "The value of PI is approximately 3.141593.\n"
     ]
    }
   ],
   "source": [
    "import math\n",
    "print('The value of PI is approximately {:.7g}.'.format(math.pi))"
   ]
  },
  {
   "cell_type": "markdown",
   "metadata": {
    "slideshow": {
     "slide_type": "slide"
    }
   },
   "source": [
    "## Formatted string literals (Python 3.6)"
   ]
  },
  {
   "cell_type": "code",
   "execution_count": 40,
   "metadata": {
    "slideshow": {
     "slide_type": "fragment"
    }
   },
   "outputs": [
    {
     "name": "stdout",
     "output_type": "stream",
     "text": [
      "The value of PI is approximately 3.1416.\n"
     ]
    }
   ],
   "source": [
    "print(f'The value of PI is approximately {math.pi:.4f}.')"
   ]
  },
  {
   "cell_type": "code",
   "execution_count": 41,
   "metadata": {
    "slideshow": {
     "slide_type": "fragment"
    }
   },
   "outputs": [
    {
     "name": "stdout",
     "output_type": "stream",
     "text": [
      "He said his name is Fred.\n",
      "He said his name is 'Fred'.\n"
     ]
    }
   ],
   "source": [
    "name = \"Fred\"\n",
    "print(f\"He said his name is {name}.\")\n",
    "print(f\"He said his name is {name!r}.\")"
   ]
  },
  {
   "cell_type": "code",
   "execution_count": 42,
   "metadata": {
    "slideshow": {
     "slide_type": "fragment"
    }
   },
   "outputs": [
    {
     "data": {
      "text/plain": [
       "\"He said his name is 'Fred'.\""
      ]
     },
     "execution_count": 42,
     "metadata": {},
     "output_type": "execute_result"
    }
   ],
   "source": [
    "f\"He said his name is {repr(name)}.\"  # repr() is equivalent to !r"
   ]
  },
  {
   "cell_type": "code",
   "execution_count": 43,
   "metadata": {
    "slideshow": {
     "slide_type": "fragment"
    }
   },
   "outputs": [
    {
     "name": "stdout",
     "output_type": "stream",
     "text": [
      "result:    12.3457\n"
     ]
    }
   ],
   "source": [
    "width, precision = 10, 4\n",
    "value = 12.34567\n",
    "print(f\"result: {value:{width}.{precision}f}\")  # nested fields"
   ]
  },
  {
   "cell_type": "code",
   "execution_count": 44,
   "metadata": {
    "slideshow": {
     "slide_type": "fragment"
    }
   },
   "outputs": [
    {
     "name": "stdout",
     "output_type": "stream",
     "text": [
      "January 27, 2017\n"
     ]
    }
   ],
   "source": [
    "from datetime import *\n",
    "today = datetime(year=2017, month=1, day=27)\n",
    "print(f\"{today:%B %d, %Y}\")  # using date format specifier"
   ]
  },
  {
   "cell_type": "markdown",
   "metadata": {
    "slideshow": {
     "slide_type": "slide"
    }
   },
   "source": [
    "# Exercise\n",
    "Create a list containing the values of [binomial coefficients](https://en.wikipedia.org/wiki/Binomial_coefficient) and reproduce the [Pascal's triangle](https://en.wikipedia.org/wiki/Pascal%27s_triangle)\n",
    "<pre>\n",
    "                 1  \n",
    "               1   1  \n",
    "             1   2   1  \n",
    "           1   3   3   1  \n",
    "         1   4   6   4   1  \n",
    "       1   5  10  10   5   1  \n",
    "     1   6  15  20  15   6   1  \n",
    "   1   7  21  35  35  21   7   1  \n",
    "</pre>\n",
    "\n",
    "<button data-toggle=\"collapse\" data-target=\"#pascal\" class='btn btn-primary'>Solution</button>\n",
    "<div id=\"pascal\" class=\"collapse\">\n",
    "```python\n",
    "def binomial(n, p):\n",
    "    b = 1    \n",
    "    for i in range(1, min(p, n - p) + 1):\n",
    "        b *= n\n",
    "        b = b // i\n",
    "        n -= 1\n",
    "    return b\n",
    "\n",
    "def pascal_triangle(n):\n",
    "    for i in range(n):\n",
    "        line = [binomial(i, j) for j in range(i+1)]\n",
    "        s = (n-i) * 3 * \" \" # number of spaces\n",
    "        for c in line:\n",
    "            s += repr(c).rjust(3) + 3 * \" \" # coeffs repr split by 3 spaces\n",
    "        print(s)\n",
    "        \n",
    "pascal_triangle(10)\n",
    "```"
   ]
  },
  {
   "cell_type": "code",
   "execution_count": 54,
   "metadata": {},
   "outputs": [
    {
     "name": "stdout",
     "output_type": "stream",
     "text": [
      "                      1 \n",
      "                    1   1 \n",
      "                  1   2   1 \n",
      "                1   3   3   1 \n",
      "              1   4   6   4   1 \n",
      "            1   5  10  10   5   1 \n",
      "          1   6  15  20  15   6   1 \n",
      "        1   7  21  35  35  21   7   1 \n",
      "      1   8  28  56  70  56  28   8   1 \n",
      "    1   9  36  84 126 126  84  36   9   1 \n"
     ]
    }
   ],
   "source": [
    "# %load solutions/pascal.py\n",
    "def binomial(n, p):\n",
    "    b = 1    \n",
    "    for i in range(1, min(p, n - p) + 1):\n",
    "        b *= n\n",
    "        b = b // i\n",
    "        n -= 1\n",
    "    return b\n",
    "\n",
    "def pascal_triangle(n):\n",
    "    spaces = 2*n\n",
    "    for i in range(n):\n",
    "        for j in range(spaces):\n",
    "            print('', end=\" \")\n",
    "        for j in range(i+1):\n",
    "            print(\"{:3d}\".format(binomial(i, j)), end=\" \")\n",
    "        print()\n",
    "        spaces = spaces - 2\n",
    "        \n",
    "        \n",
    "\n",
    "pascal_triangle(10)\n"
   ]
  },
  {
   "cell_type": "markdown",
   "metadata": {
    "slideshow": {
     "slide_type": "slide"
    }
   },
   "source": [
    "# Reading and Writing Files\n",
    "\n",
    "`open()` returns a file object, and is most commonly used with file name and accessing mode argument.\n"
   ]
  },
  {
   "cell_type": "code",
   "execution_count": 55,
   "metadata": {
    "slideshow": {
     "slide_type": "fragment"
    }
   },
   "outputs": [
    {
     "name": "stdout",
     "output_type": "stream",
     "text": [
      "1. This is a txt file.\r\n",
      "2. \\n is used to begin a new line"
     ]
    }
   ],
   "source": [
    "f = open('workfile.txt', 'w')\n",
    "f.write(\"1. This is a txt file.\\n\")\n",
    "f.write(\"2. \\\\n is used to begin a new line\")\n",
    "f.close()\n",
    "!cat workfile.txt"
   ]
  },
  {
   "cell_type": "markdown",
   "metadata": {
    "slideshow": {
     "slide_type": "slide"
    }
   },
   "source": [
    "`mode` can be :\n",
    "- 'r' when the file will only be read, \n",
    "- 'w' for only writing (an existing file with the same name will be erased)\n",
    "- 'a' opens the file for appending; any data written to the file is automatically added to the end. \n",
    "- 'r+' opens the file for both reading and writing. \n",
    "- The mode argument is optional; 'r' will be assumed if it’s omitted.\n",
    "- Normally, files are opened in text mode.\n",
    "- 'b' appended to the mode opens the file in binary mode."
   ]
  },
  {
   "cell_type": "code",
   "execution_count": 56,
   "metadata": {
    "slideshow": {
     "slide_type": "slide"
    }
   },
   "outputs": [
    {
     "data": {
      "text/plain": [
       "True"
      ]
     },
     "execution_count": 56,
     "metadata": {},
     "output_type": "execute_result"
    }
   ],
   "source": [
    "with open('workfile.txt') as f:\n",
    "    read_text = f.read()\n",
    "f.closed"
   ]
  },
  {
   "cell_type": "code",
   "execution_count": 57,
   "metadata": {
    "slideshow": {
     "slide_type": "fragment"
    }
   },
   "outputs": [
    {
     "data": {
      "text/plain": [
       "'1. This is a txt file.\\n2. \\\\n is used to begin a new line'"
      ]
     },
     "execution_count": 57,
     "metadata": {},
     "output_type": "execute_result"
    }
   ],
   "source": [
    "read_text"
   ]
  },
  {
   "cell_type": "code",
   "execution_count": 58,
   "metadata": {
    "slideshow": {
     "slide_type": "fragment"
    }
   },
   "outputs": [
    {
     "data": {
      "text/plain": [
       "['1. This is a txt file.\\n', '2. \\\\n is used to begin a new line', '']"
      ]
     },
     "execution_count": 58,
     "metadata": {},
     "output_type": "execute_result"
    }
   ],
   "source": [
    "lines= []\n",
    "with open('workfile.txt') as f:\n",
    "    lines.append(f.readline())\n",
    "    lines.append(f.readline())\n",
    "    lines.append(f.readline())\n",
    "    \n",
    "lines"
   ]
  },
  {
   "cell_type": "markdown",
   "metadata": {
    "slideshow": {
     "slide_type": "slide"
    }
   },
   "source": [
    "- `f.readline()` returns an empty string when the end of the file has been reached.\n",
    "- `f.readlines()` or `list(f)` read all the lines of a file in a list.\n",
    "\n",
    "For reading lines from a file, you can loop over the file object. This is memory efficient, fast, and leads to simple code:"
   ]
  },
  {
   "cell_type": "code",
   "execution_count": 59,
   "metadata": {
    "slideshow": {
     "slide_type": "fragment"
    }
   },
   "outputs": [
    {
     "name": "stdout",
     "output_type": "stream",
     "text": [
      "1. This is a txt file.\n",
      "2. \\n is used to begin a new line"
     ]
    }
   ],
   "source": [
    "with open('workfile.txt') as f:\n",
    "    for line in f:\n",
    "        print(line, end='')"
   ]
  },
  {
   "cell_type": "markdown",
   "metadata": {
    "slideshow": {
     "slide_type": "slide"
    }
   },
   "source": [
    "### Exercise: Wordcount Example\n",
    "\n",
    "[WordCount](https://hadoop.apache.org/docs/current/hadoop-mapreduce-client/hadoop-mapreduce-client-core/MapReduceTutorial.html#Example:_WordCount_v1.0) is a simple application that counts the number of occurrences of each word in a given input set.\n",
    "\n",
    "- Use lorem module to write a text in the file \"sample.txt\"\n",
    "- Write a function `words` with file name as input that returns a sorted list of words present in the file.\n",
    "- Write the function `reduce` to read the results of words and sum the occurrences of each word to a final count, and then output the results as a dictionary\n",
    "`{word1:occurences1, word2:occurences2}`.\n",
    "- You can check the results using piped shell commands:\n",
    "```sh\n",
    "cat sample.txt | fmt -1 | tr [:upper:] [:lower:] | tr -d '.' | sort | uniq -c \n",
    "```\n",
    "\n",
    "<button data-toggle=\"collapse\" data-target=\"#words\" class='btn btn-primary'>Solution</button>\n",
    "<div id=\"words\" class=\"collapse\">\n",
    "```python\n",
    "from lorem import text\n",
    "\n",
    "with open('sample.txt','w') as f:\n",
    "    f.write(text())\n",
    "    \n",
    "def words(file):\n",
    "    \"\"\" Parse a file and returns a sorted list of words \"\"\"\n",
    "    with open(file) as f:\n",
    "        text = f.read()\n",
    "        \n",
    "    return sorted(text.lower().replace('.','').split())\n",
    "\n",
    "words('sample.txt')\n",
    "```"
   ]
  },
  {
   "cell_type": "markdown",
   "metadata": {
    "slideshow": {
     "slide_type": "slide"
    }
   },
   "source": [
    "### Install `lorem` with conda in the current Jupyter kernel\n",
    "\n",
    "```python\n",
    "import sys\n",
    "!conda install --yes --prefix {sys.prefix} -c conda-forge lorem\n",
    "```\n",
    "\n",
    "### Install `lorem` with pip in the current Jupyter kernel\n",
    "```python\n",
    "import sys\n",
    "!{sys.executable} -m pip install lorem\n",
    "```"
   ]
  },
  {
   "cell_type": "code",
   "execution_count": 63,
   "metadata": {
    "slideshow": {
     "slide_type": "slide"
    }
   },
   "outputs": [
    {
     "data": {
      "text/plain": [
       "'Dolorem porro voluptatem modi dolor. Labore velit velit ut non non eius. Amet est velit velit. Sed aliquam sit quiquia quiquia dolore quisquam. Labore porro quiquia labore. Quisquam eius velit etincidunt magnam porro quaerat. Modi quisquam magnam porro. Quaerat quisquam aliquam sed eius neque ipsum.\\n\\nQuaerat quaerat quaerat non amet est. Est non quaerat non eius aliquam dolorem dolore. Neque quaerat quiquia est est. Velit quisquam voluptatem non quaerat tempora. Neque porro sed modi neque modi. Ipsum adipisci neque eius ipsum velit labore. Amet non est dolore magnam. Ut etincidunt modi aliquam. Ut eius adipisci ipsum.\\n\\nAmet labore aliquam amet magnam ut modi adipisci. Numquam ipsum dolore non ipsum numquam. Dolorem quaerat dolore tempora. Est dolore ut quiquia consectetur. Est labore sed voluptatem consectetur porro porro.'"
      ]
     },
     "execution_count": 63,
     "metadata": {},
     "output_type": "execute_result"
    }
   ],
   "source": [
    "from lorem import text\n",
    "\n",
    "with open('sample.txt','w') as f:\n",
    "    f.write(text())\n",
    "    "
   ]
  },
  {
   "cell_type": "code",
   "execution_count": 62,
   "metadata": {},
   "outputs": [
    {
     "name": "stdout",
     "output_type": "stream",
     "text": [
      "Etincidunt tempora labore sed neque. Sit porro quisquam eius amet. Aliquam magnam quaerat aliquam. Quiquia tempora aliquam dolorem dolore aliquam dolor. Dolorem ipsum velit etincidunt sit porro magnam quisquam. Est amet dolorem quisquam aliquam adipisci numquam non. Porro amet sed est aliquam. Numquam quiquia velit quaerat sed est dolore. Sit ipsum sit sed dolor velit velit. Ut neque quiquia porro quaerat magnam adipisci.\r\n",
      "\r\n",
      "Quisquam ut modi amet. Aliquam magnam consectetur tempora. Dolore labore dolore consectetur. Est est neque quaerat sed porro. Quisquam porro magnam magnam. Consectetur dolor modi sed. Sit sit neque tempora quaerat. Labore quisquam non adipisci adipisci. Est labore dolorem est modi quiquia quiquia. Dolorem magnam quisquam labore tempora ipsum.\r\n",
      "\r\n",
      "Porro ipsum consectetur quiquia. Numquam est dolore quiquia dolorem labore. Neque velit tempora modi dolor eius adipisci. Magnam porro adipisci sed neque. Velit neque magnam non aliquam tempora. Modi consectetur etincidunt sed.\r\n",
      "\r\n",
      "Non dolore etincidunt magnam ut ipsum ipsum. Dolore ipsum amet ipsum etincidunt. Dolor dolorem numquam sed. Dolorem tempora velit ut quisquam ut dolorem sed. Est quisquam dolorem quisquam dolore non. Labore eius quiquia sit aliquam tempora dolorem. Porro velit sed dolor dolor magnam sit adipisci."
     ]
    }
   ],
   "source": [
    "%cat sample.txt"
   ]
  },
  {
   "cell_type": "code",
   "execution_count": 73,
   "metadata": {},
   "outputs": [
    {
     "data": {
      "text/plain": [
       "['adipisci',\n",
       " 'adipisci',\n",
       " 'adipisci',\n",
       " 'adipisci',\n",
       " 'adipisci',\n",
       " 'adipisci',\n",
       " 'aliquam',\n",
       " 'aliquam',\n",
       " 'aliquam',\n",
       " 'aliquam',\n",
       " 'amet',\n",
       " 'amet',\n",
       " 'consectetur',\n",
       " 'consectetur',\n",
       " 'dolor',\n",
       " 'dolorem',\n",
       " 'dolorem',\n",
       " 'etincidunt',\n",
       " 'etincidunt',\n",
       " 'ipsum',\n",
       " 'ipsum',\n",
       " 'ipsum',\n",
       " 'labore',\n",
       " 'magnam',\n",
       " 'modi',\n",
       " 'neque',\n",
       " 'neque',\n",
       " 'neque',\n",
       " 'porro',\n",
       " 'porro',\n",
       " 'porro',\n",
       " 'porro',\n",
       " 'quiquia',\n",
       " 'quiquia',\n",
       " 'quiquia',\n",
       " 'quiquia',\n",
       " 'quiquia',\n",
       " 'quisquam',\n",
       " 'quisquam',\n",
       " 'quisquam',\n",
       " 'sed',\n",
       " 'sed',\n",
       " 'tempora',\n",
       " 'tempora',\n",
       " 'tempora',\n",
       " 'ut',\n",
       " 'velit',\n",
       " 'velit',\n",
       " 'velit']"
      ]
     },
     "execution_count": 73,
     "metadata": {},
     "output_type": "execute_result"
    }
   ],
   "source": [
    "def words(filename):\n",
    "    with open(filename) as f:\n",
    "        for line in f:\n",
    "            line = line.strip().lower().replace('.','')\n",
    "    return sorted(line.split(' '))\n",
    "\n",
    "words('sample.txt')"
   ]
  },
  {
   "cell_type": "code",
   "execution_count": 81,
   "metadata": {},
   "outputs": [
    {
     "name": "stdout",
     "output_type": "stream",
     "text": [
      "Help on built-in function sorted in module builtins:\n",
      "\n",
      "sorted(iterable, /, *, key=None, reverse=False)\n",
      "    Return a new list containing all items from the iterable in ascending order.\n",
      "    \n",
      "    A custom key function can be supplied to customize the sort order, and the\n",
      "    reverse flag can be set to request the result in descending order.\n",
      "\n"
     ]
    }
   ],
   "source": [
    "l = []\n",
    "help(sorted)"
   ]
  },
  {
   "cell_type": "code",
   "execution_count": 94,
   "metadata": {},
   "outputs": [],
   "source": [
    "import operator\n",
    "\n",
    "def reduce(words):\n",
    "    d = {}\n",
    "    current_word = words[0]\n",
    "    d[current_word] = 1\n",
    "    n = len(words)\n",
    "    for i in range(1,n):\n",
    "        if words[i] == current_word:\n",
    "            d[words[i]] += 1\n",
    "        else:\n",
    "            d[words[i]] = 1\n",
    "            current_word = words[i]\n",
    "    #return sorted(d.items(), key=operator.itemgetter(1),reverse=True)\n",
    "    return sorted(d.items(), key=lambda x:x[1], reverse=True)\n",
    "\n",
    "#reduce(words('sample.txt'))\n",
    "                  "
   ]
  },
  {
   "cell_type": "code",
   "execution_count": 100,
   "metadata": {},
   "outputs": [
    {
     "name": "stdout",
     "output_type": "stream",
     "text": [
      "The fortranmagic extension is already loaded. To reload it, use:\n",
      "  %reload_ext fortranmagic\n",
      "env: ['CC']='gcc-7'\n"
     ]
    }
   ],
   "source": [
    "%load_ext fortranmagic\n",
    "%env['CC'] = 'gcc-7'"
   ]
  },
  {
   "cell_type": "code",
   "execution_count": 107,
   "metadata": {},
   "outputs": [],
   "source": [
    "%%fortran\n",
    "subroutine somme(  tab, s )\n",
    "integer :: n\n",
    "integer, dimension(:), intent(in) :: tab\n",
    "integer, intent(out) :: s\n",
    "n = size(tab)\n",
    "s = 0\n",
    "do i = 1, n\n",
    "   s = s + tab(i)\n",
    "end do\n",
    "end subroutine somme\n",
    "        "
   ]
  },
  {
   "cell_type": "code",
   "execution_count": 109,
   "metadata": {},
   "outputs": [
    {
     "data": {
      "text/plain": [
       "15"
      ]
     },
     "execution_count": 109,
     "metadata": {},
     "output_type": "execute_result"
    }
   ],
   "source": [
    "import numpy as np\n",
    "tab = np.array([1,2,3,4,5])\n",
    "somme( tab)"
   ]
  },
  {
   "cell_type": "code",
   "execution_count": 28,
   "metadata": {
    "slideshow": {
     "slide_type": "slide"
    }
   },
   "outputs": [],
   "source": [
    "def words( file ):\n",
    "    \"\"\" Parse a file and returns a sorted list of words \"\"\"\n",
    "    pass\n",
    "\n",
    "words('sample.txt')\n",
    "#[('adipisci', 1),\n",
    "# ('adipisci', 1),\n",
    "# ('adipisci', 1),\n",
    "# ('aliquam', 1),\n",
    "# ('aliquam', 1),"
   ]
  },
  {
   "cell_type": "code",
   "execution_count": 29,
   "metadata": {},
   "outputs": [
    {
     "data": {
      "text/plain": [
       "{'word1': 3, 'word2': 2}"
      ]
     },
     "execution_count": 29,
     "metadata": {},
     "output_type": "execute_result"
    }
   ],
   "source": [
    "d = {}\n",
    "d['word1'] = 3\n",
    "d['word2'] = 2\n",
    "d"
   ]
  },
  {
   "cell_type": "code",
   "execution_count": 21,
   "metadata": {
    "slideshow": {
     "slide_type": "slide"
    }
   },
   "outputs": [],
   "source": [
    "def reduce ( words ):\n",
    "    \"\"\" Count the number of occurences of a word in list\n",
    "    and return a dictionary \"\"\"\n",
    "    pass\n",
    "\n",
    "reduce(words('sample.txt'))\n",
    "#{'neque': 80),\n",
    "# 'ut': 80,\n",
    "# 'est': 76,\n",
    "# 'amet': 74,\n",
    "# 'magnam': 74,\n",
    "# 'adipisci': 73,"
   ]
  },
  {
   "cell_type": "markdown",
   "metadata": {},
   "source": [
    "<button data-toggle=\"collapse\" data-target=\"#reduce\" class='btn btn-primary'>Solution</button>\n",
    "<div id=\"reduce\" class=\"collapse\">\n",
    "```python\n",
    "def reduce ( words ):\n",
    "    \"\"\" Count the number of occurences of a word in list\n",
    "    and return a dictionary \"\"\"\n",
    "    current_word = None\n",
    "    result = {}\n",
    "    for word in words:\n",
    "        if current_word is None:\n",
    "            current_word = word\n",
    "            result[word] = 0  # Add the first word in result\n",
    "\n",
    "        # this if only works because words output is sorted \n",
    "        if current_word == word:\n",
    "            result[word] += 1\n",
    "        else:\n",
    "            current_word = word\n",
    "            result[word] = 1\n",
    "                       \n",
    "    return result\n",
    "reduce(words('sample.txt'))\n",
    "```"
   ]
  },
  {
   "cell_type": "markdown",
   "metadata": {
    "slideshow": {
     "slide_type": "slide"
    }
   },
   "source": [
    "# Saving structured data with json\n",
    "\n",
    "- JSON (JavaScript Object Notation) is a popular data interchange format.\n",
    "- JSON format is commonly used by modern applications to allow for data exchange. \n",
    "- JSON can be used to communicate with applications written in other languages."
   ]
  },
  {
   "cell_type": "code",
   "execution_count": 30,
   "metadata": {
    "slideshow": {
     "slide_type": "fragment"
    }
   },
   "outputs": [
    {
     "data": {
      "text/plain": [
       "'[1, \"simple\", \"list\"]'"
      ]
     },
     "execution_count": 30,
     "metadata": {},
     "output_type": "execute_result"
    }
   ],
   "source": [
    "import json\n",
    "json.dumps([1, 'simple', 'list'])"
   ]
  },
  {
   "cell_type": "code",
   "execution_count": 34,
   "metadata": {
    "slideshow": {
     "slide_type": "fragment"
    }
   },
   "outputs": [],
   "source": [
    "x = dict(name=\"Pierre Navaro\", organization=\"CNRS\", position=\"IR\")\n",
    "with open('workfile.json','w') as f:\n",
    "    json.dump(x, f)"
   ]
  },
  {
   "cell_type": "code",
   "execution_count": 35,
   "metadata": {
    "slideshow": {
     "slide_type": "fragment"
    }
   },
   "outputs": [
    {
     "data": {
      "text/plain": [
       "{'name': 'Pierre Navaro', 'organization': 'CNRS', 'position': 'IR'}"
      ]
     },
     "execution_count": 35,
     "metadata": {},
     "output_type": "execute_result"
    }
   ],
   "source": [
    "with open('workfile.json','r') as f:\n",
    "    x = json.load(f)\n",
    "x"
   ]
  },
  {
   "cell_type": "code",
   "execution_count": 36,
   "metadata": {
    "slideshow": {
     "slide_type": "slide"
    }
   },
   "outputs": [
    {
     "name": "stdout",
     "output_type": "stream",
     "text": [
      "{\"name\": \"Pierre Navaro\", \"organization\": \"CNRS\", \"position\": \"IR\"}"
     ]
    }
   ],
   "source": [
    "%cat workfile.json"
   ]
  },
  {
   "cell_type": "markdown",
   "metadata": {
    "collapsed": true,
    "slideshow": {
     "slide_type": "fragment"
    }
   },
   "source": [
    "Use `ujson` for big data structures\n",
    "https://pypi.python.org/pypi/ujson\n"
   ]
  }
 ],
 "metadata": {
  "celltoolbar": "Slideshow",
  "kernelspec": {
   "display_name": "Python 3",
   "language": "python",
   "name": "python3"
  },
  "language_info": {
   "codemirror_mode": {
    "name": "ipython",
    "version": 3
   },
   "file_extension": ".py",
   "mimetype": "text/x-python",
   "name": "python",
   "nbconvert_exporter": "python",
   "pygments_lexer": "ipython3",
   "version": "3.6.5"
  }
 },
 "nbformat": 4,
 "nbformat_minor": 2
}
