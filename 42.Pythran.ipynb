{
 "cells": [
  {
   "cell_type": "markdown",
   "metadata": {
    "slideshow": {
     "slide_type": "slide"
    }
   },
   "source": [
    "# Pythran\n",
    "\n",
    "- [Documentation](https://pythonhosted.org/pythran/)\n",
    "- [GitHub](https://github.com/serge-sans-paille/pythran)\n",
    "- [Pythran tutorial](http://serge-sans-paille.github.io/pythran-stories/pythran-tutorial.html)\n",
    "- [Mailing list](http://www.freelists.org/list/pythran)\n",
    "- [StackOverflow](http://stackoverflow.com/questions/tagged/pythran)\n",
    "\n",
    "\"Pythran is a Python to c++ compiler for a subset of the Python language, with a focus on scientific computing. It takes a Python module annotated with a few interface description and turns it into a native python module with the same interface, but (hopefully) faster.\"\n",
    "\n",
    "```bash\n",
    "brew install gcc gmp openblas python3\n",
    "pip3 install pythran\n",
    "```"
   ]
  },
  {
   "cell_type": "markdown",
   "metadata": {
    "slideshow": {
     "slide_type": "skip"
    }
   },
   "source": [
    "Skip the cell below if you are not on mac"
   ]
  },
  {
   "cell_type": "code",
   "execution_count": 1,
   "metadata": {
    "slideshow": {
     "slide_type": "skip"
    }
   },
   "outputs": [
    {
     "name": "stdout",
     "output_type": "stream",
     "text": [
      "Overwriting /Users/navaro/.pythranrc\n"
     ]
    }
   ],
   "source": [
    "%%file ~/.pythranrc \n",
    "[compiler]\n",
    "include_dirs=/usr/local/opt/openblas/include\n",
    "library_dirs=/usr/local/opt/openblas/lib\n",
    "blas=openblas\n",
    "CXX=g++-7\n",
    "CC=gcc-7\n"
   ]
  },
  {
   "cell_type": "markdown",
   "metadata": {
    "slideshow": {
     "slide_type": "slide"
    }
   },
   "source": [
    "# Introduction with Pi computation\n",
    "\n",
    "Computing $\\pi$ with a Fortran-like version:"
   ]
  },
  {
   "cell_type": "code",
   "execution_count": 2,
   "metadata": {
    "slideshow": {
     "slide_type": "slide"
    }
   },
   "outputs": [
    {
     "data": {
      "text/plain": [
       "3.1415926535897643"
      ]
     },
     "execution_count": 2,
     "metadata": {},
     "output_type": "execute_result"
    }
   ],
   "source": [
    "def pi_approximate(n):\n",
    "    step = 1.0 / n\n",
    "    result = 0   \n",
    "    for i in range(n):\n",
    "        x = (i + 0.5) * step\n",
    "        result += 4.0 / (1.0 + x * x)\n",
    "    return step * result\n",
    "\n",
    "pi_approximate(1000000)"
   ]
  },
  {
   "cell_type": "code",
   "execution_count": 3,
   "metadata": {
    "slideshow": {
     "slide_type": "fragment"
    }
   },
   "outputs": [
    {
     "name": "stdout",
     "output_type": "stream",
     "text": [
      "173 ms ± 3.58 ms per loop (mean ± std. dev. of 7 runs, 10 loops each)\n"
     ]
    }
   ],
   "source": [
    "%timeit pi_approximate(1000000)"
   ]
  },
  {
   "cell_type": "code",
   "execution_count": 4,
   "metadata": {
    "slideshow": {
     "slide_type": "slide"
    }
   },
   "outputs": [
    {
     "name": "stderr",
     "output_type": "stream",
     "text": [
      "WARNING  Pythran support disabled for module: omp\n"
     ]
    }
   ],
   "source": [
    "import pythran"
   ]
  },
  {
   "cell_type": "code",
   "execution_count": 5,
   "metadata": {
    "slideshow": {
     "slide_type": "fragment"
    }
   },
   "outputs": [],
   "source": [
    "%load_ext pythran.magic"
   ]
  },
  {
   "cell_type": "markdown",
   "metadata": {
    "slideshow": {
     "slide_type": "slide"
    }
   },
   "source": [
    "The additionnal line beginning by #pythran give information about the argument type. The return type is infered."
   ]
  },
  {
   "cell_type": "code",
   "execution_count": 6,
   "metadata": {
    "slideshow": {
     "slide_type": "fragment"
    }
   },
   "outputs": [
    {
     "name": "stdout",
     "output_type": "stream",
     "text": [
      "Writing pi_approximate_pythran.py\n"
     ]
    }
   ],
   "source": [
    "%%file pi_approximate_pythran.py\n",
    "#pythran export pi_approximate_pythran(int)\n",
    "import numpy as np\n",
    "def pi_approximate_pythran(n):\n",
    "    step = 1.0 / n\n",
    "    result = 0   \n",
    "    for i in range(n):\n",
    "        x = (i + 0.5) * step\n",
    "        result += 4.0 / (1.0 + x * x)\n",
    "    return step * result"
   ]
  },
  {
   "cell_type": "code",
   "execution_count": 7,
   "metadata": {
    "slideshow": {
     "slide_type": "slide"
    }
   },
   "outputs": [
    {
     "name": "stdout",
     "output_type": "stream",
     "text": [
      "WARNING  Pythran support disabled for module: omp\n",
      "#undef ENABLE_PYTHON_MODULE\n",
      "#define BOOST_SIMD_NO_STRICT_ALIASING 1\n",
      "#include <pythonic/core.hpp>\n",
      "#include <pythonic/python/core.hpp>\n",
      "#include <pythonic/types/bool.hpp>\n",
      "#include <pythonic/types/int.hpp>\n",
      "#ifdef _OPENMP\n",
      "#include <omp.h>\n",
      "#endif\n",
      "#include <pythonic/include/types/int.hpp>\n",
      "#include <pythonic/types/int.hpp>\n",
      "#include <pythonic/include/numpy/square.hpp>\n",
      "#include <pythonic/include/__builtin__/range.hpp>\n",
      "#include <pythonic/include/operator_/div.hpp>\n",
      "#include <pythonic/numpy/square.hpp>\n",
      "#include <pythonic/__builtin__/range.hpp>\n",
      "#include <pythonic/operator_/div.hpp>\n",
      "namespace __pythran_pi_approximate_pythran\n",
      "{\n",
      "  struct pi_approximate_pythran\n",
      "  {\n",
      "    typedef void callable;\n",
      "    typedef void pure;\n",
      "    template <typename argument_type0 >\n",
      "    struct type\n",
      "    {\n",
      "      typedef double __type0;\n",
      "      typedef typename std::remove_cv<typename std::remove_reference<argument_type0>::type>::type __type1;\n",
      "      typedef typename pythonic::assignable<decltype((pythonic::operator_::div(std::declval<__type0>(), std::declval<__type1>())))>::type __type2;\n",
      "      typedef typename pythonic::assignable<long>::type __type3;\n",
      "      typedef decltype(std::declval<typename std::remove_cv<typename std::remove_reference<decltype(pythonic::__builtin__::functor::range{})>::type>::type>()(std::declval<__type1>())) __type6;\n",
      "      typedef typename std::remove_cv<typename std::iterator_traits<typename std::remove_reference<__type6>::type::iterator>::value_type>::type __type7;\n",
      "      typedef decltype((std::declval<__type7>() + std::declval<__type0>())) __type9;\n",
      "      typedef decltype((std::declval<__type9>() * std::declval<__type2>())) __type10;\n",
      "      typedef decltype(std::declval<typename std::remove_cv<typename std::remove_reference<decltype(pythonic::numpy::functor::square{})>::type>::type>()(std::declval<__type10>())) __type11;\n",
      "      typedef decltype((std::declval<__type0>() + std::declval<__type11>())) __type12;\n",
      "      typedef decltype((pythonic::operator_::div(std::declval<__type0>(), std::declval<__type12>()))) __type13;\n",
      "      typedef decltype((std::declval<__type3>() + std::declval<__type13>())) __type14;\n",
      "      typedef typename __combined<__type3,__type13,__type14>::type __type15;\n",
      "      typedef typename pythonic::returnable<decltype((std::declval<__type2>() * std::declval<__type15>()))>::type result_type;\n",
      "    }  \n",
      "    ;\n",
      "    template <typename argument_type0 >\n",
      "    typename type<argument_type0>::result_type operator()(argument_type0 const & n) const\n",
      "    ;\n",
      "  }  ;\n",
      "  template <typename argument_type0 >\n",
      "  typename pi_approximate_pythran::type<argument_type0>::result_type pi_approximate_pythran::operator()(argument_type0 const & n) const\n",
      "  {\n",
      "    typedef typename pythonic::assignable<long>::type __type0;\n",
      "    typedef double __type1;\n",
      "    typedef typename std::remove_cv<typename std::remove_reference<argument_type0>::type>::type __type3;\n",
      "    typedef decltype(std::declval<typename std::remove_cv<typename std::remove_reference<decltype(pythonic::__builtin__::functor::range{})>::type>::type>()(std::declval<__type3>())) __type4;\n",
      "    typedef typename std::remove_cv<typename std::iterator_traits<typename std::remove_reference<__type4>::type::iterator>::value_type>::type __type5;\n",
      "    typedef decltype((std::declval<__type5>() + std::declval<__type1>())) __type7;\n",
      "    typedef typename pythonic::assignable<decltype((pythonic::operator_::div(std::declval<__type1>(), std::declval<__type3>())))>::type __type9;\n",
      "    typedef decltype((std::declval<__type7>() * std::declval<__type9>())) __type10;\n",
      "    typedef decltype(std::declval<typename std::remove_cv<typename std::remove_reference<decltype(pythonic::numpy::functor::square{})>::type>::type>()(std::declval<__type10>())) __type11;\n",
      "    typedef decltype((std::declval<__type1>() + std::declval<__type11>())) __type12;\n",
      "    typedef decltype((pythonic::operator_::div(std::declval<__type1>(), std::declval<__type12>()))) __type13;\n",
      "    typedef decltype((std::declval<__type0>() + std::declval<__type13>())) __type14;\n",
      "    typename pythonic::assignable<decltype((pythonic::operator_::div(1.0, n)))>::type step = (pythonic::operator_::div(1.0, n));\n",
      "    typename pythonic::assignable<typename __combined<__type0,__type13,__type14>::type>::type result = 0L;\n",
      "    {\n",
      "      long  __target1 = n;\n",
      "      for (long  i=0L; i < __target1; i += 1L)\n",
      "      {\n",
      "        ;\n",
      "        result += (pythonic::operator_::div(4.0, (1.0 + pythonic::numpy::functor::square{}(((i + 0.5) * step)))));\n",
      "      }\n",
      "    }\n",
      "    return (step * result);\n",
      "  }\n",
      "}\n",
      "#include <pythonic/python/exception_handler.hpp>\n",
      "#ifdef ENABLE_PYTHON_MODULE\n",
      "typename __pythran_pi_approximate_pythran::pi_approximate_pythran::type<long>::result_type pi_approximate_pythran0(long n) \n",
      "{\n",
      "  \n",
      "                            PyThreadState *_save = PyEval_SaveThread();\n",
      "                            try {\n",
      "                                auto res = __pythran_pi_approximate_pythran::pi_approximate_pythran()(n);\n",
      "                                PyEval_RestoreThread(_save);\n",
      "                                return res;\n",
      "                            }\n",
      "                            catch(...) {\n",
      "                                PyEval_RestoreThread(_save);\n",
      "                                throw;\n",
      "                            }\n",
      "                            ;\n",
      "}\n",
      "\n",
      "static PyObject *\n",
      "__pythran_wrap_pi_approximate_pythran0(PyObject *self, PyObject *args, PyObject *kw)\n",
      "{\n",
      "    PyObject* args_obj[1+1];\n",
      "    char const* keywords[] = {\"n\", nullptr};\n",
      "    if(! PyArg_ParseTupleAndKeywords(args, kw, \"O\",\n",
      "                                     (char**)keywords, &args_obj[0]))\n",
      "        return nullptr;\n",
      "    if(is_convertible<long>(args_obj[0]))\n",
      "        return to_python(pi_approximate_pythran0(from_python<long>(args_obj[0])));\n",
      "    else {\n",
      "        return nullptr;\n",
      "    }\n",
      "}\n",
      "\n",
      "            static PyObject *\n",
      "            __pythran_wrapall_pi_approximate_pythran(PyObject *self, PyObject *args, PyObject *kw)\n",
      "            {\n",
      "                return pythonic::handle_python_exception([self, args, kw]()\n",
      "                -> PyObject* {\n",
      "\n",
      "if(PyObject* obj = __pythran_wrap_pi_approximate_pythran0(self, args, kw))\n",
      "    return obj;\n",
      "PyErr_Clear();\n",
      "\n",
      "                PyErr_SetString(PyExc_TypeError,\n",
      "                \"Invalid argument type for pythranized function `pi_approximate_pythran'.\\n\"\n",
      "                \"Candidates are:\\n   pi_approximate_pythran(long)\\n\"\n",
      "                );\n",
      "                return nullptr;\n",
      "                });\n",
      "            }\n",
      "\n",
      "\n",
      "static PyMethodDef Methods[] = {\n",
      "    {\n",
      "    \"pi_approximate_pythran\",\n",
      "    (PyCFunction)__pythran_wrapall_pi_approximate_pythran,\n",
      "    METH_VARARGS | METH_KEYWORDS,\n",
      "    \"Supported prototypes:\\n    - pi_approximate_pythran(int)\\n\"},\n",
      "    {NULL, NULL, 0, NULL}\n",
      "};\n",
      "\n",
      "\n",
      "#if PY_MAJOR_VERSION >= 3\n",
      "  static struct PyModuleDef moduledef = {\n",
      "    PyModuleDef_HEAD_INIT,\n",
      "    \"pi_approximate_pythran\",            /* m_name */\n",
      "    \"\",         /* m_doc */\n",
      "    -1,                  /* m_size */\n",
      "    Methods,             /* m_methods */\n",
      "    NULL,                /* m_reload */\n",
      "    NULL,                /* m_traverse */\n",
      "    NULL,                /* m_clear */\n",
      "    NULL,                /* m_free */\n",
      "  };\n",
      "#define PYTHRAN_RETURN return theModule\n",
      "#define PYTHRAN_MODULE_INIT(s) PyInit_##s\n",
      "#else\n",
      "#define PYTHRAN_RETURN return\n",
      "#define PYTHRAN_MODULE_INIT(s) init##s\n",
      "#endif\n",
      "PyMODINIT_FUNC\n",
      "PYTHRAN_MODULE_INIT(pi_approximate_pythran)(void)\n",
      "__attribute__ ((visibility(\"default\")))\n",
      "__attribute__ ((externally_visible));\n",
      "PyMODINIT_FUNC\n",
      "PYTHRAN_MODULE_INIT(pi_approximate_pythran)(void) {\n",
      "    #ifdef PYTHONIC_TYPES_NDARRAY_HPP\n",
      "        import_array()\n",
      "    #endif\n",
      "    #if PY_MAJOR_VERSION >= 3\n",
      "    PyObject* theModule = PyModule_Create(&moduledef);\n",
      "    #else\n",
      "    PyObject* theModule = Py_InitModule3(\"pi_approximate_pythran\",\n",
      "                                         Methods,\n",
      "                                         \"\"\n",
      "    );\n",
      "    #endif\n",
      "    if(not theModule)\n",
      "        PYTHRAN_RETURN;\n",
      "    PyObject * theDoc = Py_BuildValue(\"(sss)\",\n",
      "                                      \"0.8.3\",\n",
      "                                      \"2017-11-27 18:04:08.644012\",\n",
      "                                      \"ee511a75efa8b9834d393dd619e1fdf4cd82c05d76a26d185c42245c665cd86e\");\n",
      "    if(not theDoc)\n",
      "        PYTHRAN_RETURN;\n",
      "    PyModule_AddObject(theModule,\n",
      "                       \"__pythran__\",\n",
      "                       theDoc);\n",
      "\n",
      "    PYTHRAN_RETURN;\n",
      "}\n",
      "\n",
      "#endif"
     ]
    }
   ],
   "source": [
    "!pythran -e pi_approximate_pythran.py\n",
    "!cat pi_approximate_pythran.cpp"
   ]
  },
  {
   "cell_type": "markdown",
   "metadata": {
    "collapsed": true,
    "slideshow": {
     "slide_type": "slide"
    }
   },
   "source": [
    "Hopefully, the code behaves the same:"
   ]
  },
  {
   "cell_type": "code",
   "execution_count": 8,
   "metadata": {
    "slideshow": {
     "slide_type": "fragment"
    }
   },
   "outputs": [
    {
     "name": "stdout",
     "output_type": "stream",
     "text": [
      "In file included from /usr/local/lib/python3.6/site-packages/pythran/pythonic/__builtin__/range.hpp:6:0,\n",
      "                 from /var/folders/mw/nwq5qyg56fl585pb9jw81_qc0000gn/T/tmpv9kh_2ck.cpp:14:\n",
      "/usr/local/lib/python3.6/site-packages/pythran/pythonic/__builtin__/xrange.hpp:102:39: warning: 'pythonic::__builtin__::xrange::reverse_iterator pythonic::__builtin__::xrange::rend() const' defined but not used [-Wunused-function]\n",
      "     typename xrange::reverse_iterator xrange::rend() const\n",
      "                                       ^~~~~~\n",
      "/usr/local/lib/python3.6/site-packages/pythran/pythonic/__builtin__/xrange.hpp:97:39: warning: 'pythonic::__builtin__::xrange::reverse_iterator pythonic::__builtin__::xrange::rbegin() const' defined but not used [-Wunused-function]\n",
      "     typename xrange::reverse_iterator xrange::rbegin() const\n",
      "                                       ^~~~~~\n",
      "/usr/local/lib/python3.6/site-packages/pythran/pythonic/__builtin__/xrange.hpp:68:10: warning: 'bool pythonic::__builtin__::{anonymous}::xrange_iterator::operator<(const pythonic::__builtin__::{anonymous}::xrange_iterator&) const' defined but not used [-Wunused-function]\n",
      "     bool xrange_iterator::operator<(xrange_iterator const &other) const\n",
      "          ^~~~~~~~~~~~~~~\n",
      "/usr/local/lib/python3.6/site-packages/pythran/pythonic/__builtin__/xrange.hpp:63:10: warning: 'bool pythonic::__builtin__::{anonymous}::xrange_iterator::operator==(const pythonic::__builtin__::{anonymous}::xrange_iterator&) const' defined but not used [-Wunused-function]\n",
      "     bool xrange_iterator::operator==(xrange_iterator const &other) const\n",
      "          ^~~~~~~~~~~~~~~\n",
      "/usr/local/lib/python3.6/site-packages/pythran/pythonic/__builtin__/xrange.hpp:58:10: warning: 'bool pythonic::__builtin__::{anonymous}::xrange_iterator::operator!=(const pythonic::__builtin__::{anonymous}::xrange_iterator&) const' defined but not used [-Wunused-function]\n",
      "     bool xrange_iterator::operator!=(xrange_iterator const &other) const\n",
      "          ^~~~~~~~~~~~~~~\n",
      "/usr/local/lib/python3.6/site-packages/pythran/pythonic/__builtin__/xrange.hpp:52:22: warning: 'pythonic::__builtin__::{anonymous}::xrange_iterator& pythonic::__builtin__::{anonymous}::xrange_iterator::operator+=(long int)' defined but not used [-Wunused-function]\n",
      "     xrange_iterator &xrange_iterator::operator+=(long n)\n",
      "                      ^~~~~~~~~~~~~~~\n",
      "/usr/local/lib/python3.6/site-packages/pythran/pythonic/__builtin__/xrange.hpp:45:21: warning: 'pythonic::__builtin__::{anonymous}::xrange_iterator pythonic::__builtin__::{anonymous}::xrange_iterator::operator++(int)' defined but not used [-Wunused-function]\n",
      "     xrange_iterator xrange_iterator::operator++(int)\n",
      "                     ^~~~~~~~~~~~~~~\n"
     ]
    }
   ],
   "source": [
    "%%pythran\n",
    "#pythran export pi_approximate_pythran(int)\n",
    "import numpy as np\n",
    "def pi_approximate_pythran(n):\n",
    "    step = 1.0 / n\n",
    "    result = 0   \n",
    "    for i in range(n):\n",
    "        x = (i + 0.5) * step\n",
    "        result += 4.0 / (1.0 + x * x)\n",
    "    return step * result"
   ]
  },
  {
   "cell_type": "code",
   "execution_count": 9,
   "metadata": {
    "slideshow": {
     "slide_type": "slide"
    }
   },
   "outputs": [
    {
     "data": {
      "text/plain": [
       "3.1415926535897643"
      ]
     },
     "execution_count": 9,
     "metadata": {},
     "output_type": "execute_result"
    }
   ],
   "source": [
    "pi_approximate_pythran(1000000)"
   ]
  },
  {
   "cell_type": "code",
   "execution_count": 10,
   "metadata": {
    "slideshow": {
     "slide_type": "fragment"
    }
   },
   "outputs": [
    {
     "name": "stdout",
     "output_type": "stream",
     "text": [
      "3.64 ms ± 23.4 µs per loop (mean ± std. dev. of 7 runs, 100 loops each)\n"
     ]
    }
   ],
   "source": [
    "%timeit pi_approximate_pythran(1000000)"
   ]
  },
  {
   "cell_type": "markdown",
   "metadata": {
    "slideshow": {
     "slide_type": "slide"
    }
   },
   "source": [
    "The loop can run in parallel with OpenMP integration:"
   ]
  },
  {
   "cell_type": "code",
   "execution_count": 11,
   "metadata": {
    "slideshow": {
     "slide_type": "fragment"
    }
   },
   "outputs": [
    {
     "name": "stdout",
     "output_type": "stream",
     "text": [
      "In file included from /usr/local/lib/python3.6/site-packages/pythran/pythonic/__builtin__/range.hpp:6:0,\n",
      "                 from /var/folders/mw/nwq5qyg56fl585pb9jw81_qc0000gn/T/tmpoqhe9tlt.cpp:14:\n",
      "/usr/local/lib/python3.6/site-packages/pythran/pythonic/__builtin__/xrange.hpp:102:39: warning: 'pythonic::__builtin__::xrange::reverse_iterator pythonic::__builtin__::xrange::rend() const' defined but not used [-Wunused-function]\n",
      "     typename xrange::reverse_iterator xrange::rend() const\n",
      "                                       ^~~~~~\n",
      "/usr/local/lib/python3.6/site-packages/pythran/pythonic/__builtin__/xrange.hpp:97:39: warning: 'pythonic::__builtin__::xrange::reverse_iterator pythonic::__builtin__::xrange::rbegin() const' defined but not used [-Wunused-function]\n",
      "     typename xrange::reverse_iterator xrange::rbegin() const\n",
      "                                       ^~~~~~\n",
      "/usr/local/lib/python3.6/site-packages/pythran/pythonic/__builtin__/xrange.hpp:68:10: warning: 'bool pythonic::__builtin__::{anonymous}::xrange_iterator::operator<(const pythonic::__builtin__::{anonymous}::xrange_iterator&) const' defined but not used [-Wunused-function]\n",
      "     bool xrange_iterator::operator<(xrange_iterator const &other) const\n",
      "          ^~~~~~~~~~~~~~~\n",
      "/usr/local/lib/python3.6/site-packages/pythran/pythonic/__builtin__/xrange.hpp:63:10: warning: 'bool pythonic::__builtin__::{anonymous}::xrange_iterator::operator==(const pythonic::__builtin__::{anonymous}::xrange_iterator&) const' defined but not used [-Wunused-function]\n",
      "     bool xrange_iterator::operator==(xrange_iterator const &other) const\n",
      "          ^~~~~~~~~~~~~~~\n",
      "/usr/local/lib/python3.6/site-packages/pythran/pythonic/__builtin__/xrange.hpp:58:10: warning: 'bool pythonic::__builtin__::{anonymous}::xrange_iterator::operator!=(const pythonic::__builtin__::{anonymous}::xrange_iterator&) const' defined but not used [-Wunused-function]\n",
      "     bool xrange_iterator::operator!=(xrange_iterator const &other) const\n",
      "          ^~~~~~~~~~~~~~~\n",
      "/usr/local/lib/python3.6/site-packages/pythran/pythonic/__builtin__/xrange.hpp:52:22: warning: 'pythonic::__builtin__::{anonymous}::xrange_iterator& pythonic::__builtin__::{anonymous}::xrange_iterator::operator+=(long int)' defined but not used [-Wunused-function]\n",
      "     xrange_iterator &xrange_iterator::operator+=(long n)\n",
      "                      ^~~~~~~~~~~~~~~\n",
      "/usr/local/lib/python3.6/site-packages/pythran/pythonic/__builtin__/xrange.hpp:45:21: warning: 'pythonic::__builtin__::{anonymous}::xrange_iterator pythonic::__builtin__::{anonymous}::xrange_iterator::operator++(int)' defined but not used [-Wunused-function]\n",
      "     xrange_iterator xrange_iterator::operator++(int)\n",
      "                     ^~~~~~~~~~~~~~~\n"
     ]
    }
   ],
   "source": [
    "%%pythran -fopenmp\n",
    "#pythran export pi_approximate_pythran_omp(int)\n",
    "import numpy as np\n",
    "def pi_approximate_pythran_omp(n):\n",
    "    step = 1.0 / n\n",
    "    result = 0\n",
    "    #omp parallel for reduction(+:result)\n",
    "    for i in range(n):\n",
    "        x = (i + 0.5) * step\n",
    "        result += 4.0 / (1.0 + x * x)\n",
    "    return step * result"
   ]
  },
  {
   "cell_type": "code",
   "execution_count": 12,
   "metadata": {
    "slideshow": {
     "slide_type": "slide"
    }
   },
   "outputs": [
    {
     "name": "stdout",
     "output_type": "stream",
     "text": [
      "989 µs ± 11.9 µs per loop (mean ± std. dev. of 7 runs, 1000 loops each)\n"
     ]
    }
   ],
   "source": [
    "%timeit pi_approximate_pythran_omp(1000000)"
   ]
  },
  {
   "cell_type": "markdown",
   "metadata": {
    "slideshow": {
     "slide_type": "slide"
    }
   },
   "source": [
    "# Vectorized code"
   ]
  },
  {
   "cell_type": "code",
   "execution_count": 13,
   "metadata": {
    "slideshow": {
     "slide_type": "fragment"
    }
   },
   "outputs": [],
   "source": [
    "import numpy as np\n",
    "def pi_approximation_numpy(n):\n",
    "    step = 1.0 / n\n",
    "    x = (np.arange(0, n, dtype=np.float64) + 0.5) * step\n",
    "    return step * np.sum(4. / (1. + x ** 2))"
   ]
  },
  {
   "cell_type": "code",
   "execution_count": 14,
   "metadata": {
    "slideshow": {
     "slide_type": "fragment"
    }
   },
   "outputs": [
    {
     "data": {
      "text/plain": [
       "3.1415926535898775"
      ]
     },
     "execution_count": 14,
     "metadata": {},
     "output_type": "execute_result"
    }
   ],
   "source": [
    "pi_approximation_numpy(1000000)"
   ]
  },
  {
   "cell_type": "code",
   "execution_count": 15,
   "metadata": {
    "slideshow": {
     "slide_type": "fragment"
    }
   },
   "outputs": [
    {
     "name": "stdout",
     "output_type": "stream",
     "text": [
      "9.1 ms ± 41.6 µs per loop (mean ± std. dev. of 7 runs, 100 loops each)\n"
     ]
    }
   ],
   "source": [
    "%timeit pi_approximation_numpy(1000000)"
   ]
  },
  {
   "cell_type": "markdown",
   "metadata": {
    "slideshow": {
     "slide_type": "slide"
    }
   },
   "source": [
    "The cell below does not work with Python3 (Pythran Version 0.8.2)\n",
    "\n",
    " - Pythran supports the vectorized code only for Python 2\n",
    " - SIMD code generation (-DUSE_BOOST_SIMD -march=native)"
   ]
  },
  {
   "cell_type": "code",
   "execution_count": 17,
   "metadata": {
    "slideshow": {
     "slide_type": "slide"
    }
   },
   "outputs": [
    {
     "name": "stdout",
     "output_type": "stream",
     "text": [
      "In file included from /usr/local/lib/python3.6/site-packages/pythran/pythonic/types/ndarray.hpp:37:0,\n",
      "                 from /usr/local/lib/python3.6/site-packages/pythran/pythonic/numpy/reduce.hpp:6,\n",
      "                 from /usr/local/lib/python3.6/site-packages/pythran/pythonic/numpy/sum.hpp:5,\n",
      "                 from /var/folders/mw/nwq5qyg56fl585pb9jw81_qc0000gn/T/tmptxdnlb7v.cpp:16:\n",
      "/usr/local/lib/python3.6/site-packages/pythran/pythonic/types/numpy_fexpr.hpp:203:10: error: prototype for 'decltype (((const pythonic::types::numpy_fexpr<A, F>*)this)->pythonic::types::numpy_fexpr<A, F>::fast(i)) pythonic::types::numpy_fexpr<A, F>::operator[](long int) const' does not match any in class 'pythonic::types::numpy_fexpr<A, F>'\n",
      "     auto numpy_fexpr<Arg, F>::operator[](long i) const\n",
      "          ^~~~~~~~~~~~~~~~~~~\n",
      "In file included from /usr/local/lib/python3.6/site-packages/pythran/pythonic/include/types/ndarray.hpp:35:0,\n",
      "                 from /usr/local/lib/python3.6/site-packages/pythran/pythonic/include/numpy/reduce.hpp:4,\n",
      "                 from /usr/local/lib/python3.6/site-packages/pythran/pythonic/include/numpy/sum.hpp:4,\n",
      "                 from /var/folders/mw/nwq5qyg56fl585pb9jw81_qc0000gn/T/tmptxdnlb7v.cpp:11:\n",
      "/usr/local/lib/python3.6/site-packages/pythran/pythonic/include/types/numpy_fexpr.hpp:123:7: error: candidates are: template<class Arg, class F> template<class E> typename std::enable_if<pythonic::types::is_numexpr_arg<E>::value, pythonic::types::numpy_fexpr<pythonic::types::numpy_fexpr<A, F>, E> >::type pythonic::types::numpy_fexpr<A, F>::operator[](const E&) const\n",
      "       operator[](E const &expr) const;\n",
      "       ^~~~~~~~\n",
      "/usr/local/lib/python3.6/site-packages/pythran/pythonic/include/types/numpy_fexpr.hpp:113:12: error:                 decltype (((pythonic::types::numpy_fexpr<A, F>*)this)->pythonic::types::numpy_fexpr<A, F>::fast(i)) pythonic::types::numpy_fexpr<A, F>::operator[](long int)\n",
      "       auto operator[](long i) -> decltype(this->fast(i));\n",
      "            ^~~~~~~~\n",
      "/usr/local/lib/python3.6/site-packages/pythran/pythonic/include/types/numpy_fexpr.hpp:112:12: error:                 decltype (((const pythonic::types::numpy_fexpr<A, F>*)this)->pythonic::types::numpy_fexpr<A, F>::fast(i)) pythonic::types::numpy_fexpr<A, F>::operator[](long int) const\n",
      "       auto operator[](long i) const -> decltype(this->fast(i));\n",
      "            ^~~~~~~~\n",
      "In file included from /usr/local/lib/python3.6/site-packages/pythran/pythonic/types/ndarray.hpp:37:0,\n",
      "                 from /usr/local/lib/python3.6/site-packages/pythran/pythonic/numpy/reduce.hpp:6,\n",
      "                 from /usr/local/lib/python3.6/site-packages/pythran/pythonic/numpy/sum.hpp:5,\n",
      "                 from /var/folders/mw/nwq5qyg56fl585pb9jw81_qc0000gn/T/tmptxdnlb7v.cpp:16:\n",
      "/usr/local/lib/python3.6/site-packages/pythran/pythonic/types/numpy_fexpr.hpp:212:10: error: prototype for 'decltype (((pythonic::types::numpy_fexpr<A, F>*)this)->pythonic::types::numpy_fexpr<A, F>::fast(i)) pythonic::types::numpy_fexpr<A, F>::operator[](long int)' does not match any in class 'pythonic::types::numpy_fexpr<A, F>'\n",
      "     auto numpy_fexpr<Arg, F>::operator[](long i) -> decltype(this->fast(i))\n",
      "          ^~~~~~~~~~~~~~~~~~~\n",
      "In file included from /usr/local/lib/python3.6/site-packages/pythran/pythonic/include/types/ndarray.hpp:35:0,\n",
      "                 from /usr/local/lib/python3.6/site-packages/pythran/pythonic/include/numpy/reduce.hpp:4,\n",
      "                 from /usr/local/lib/python3.6/site-packages/pythran/pythonic/include/numpy/sum.hpp:4,\n",
      "                 from /var/folders/mw/nwq5qyg56fl585pb9jw81_qc0000gn/T/tmptxdnlb7v.cpp:11:\n",
      "/usr/local/lib/python3.6/site-packages/pythran/pythonic/include/types/numpy_fexpr.hpp:123:7: error: candidates are: template<class Arg, class F> template<class E> typename std::enable_if<pythonic::types::is_numexpr_arg<E>::value, pythonic::types::numpy_fexpr<pythonic::types::numpy_fexpr<A, F>, E> >::type pythonic::types::numpy_fexpr<A, F>::operator[](const E&) const\n",
      "       operator[](E const &expr) const;\n",
      "       ^~~~~~~~\n",
      "/usr/local/lib/python3.6/site-packages/pythran/pythonic/include/types/numpy_fexpr.hpp:113:12: error:                 decltype (((pythonic::types::numpy_fexpr<A, F>*)this)->pythonic::types::numpy_fexpr<A, F>::fast(i)) pythonic::types::numpy_fexpr<A, F>::operator[](long int)\n",
      "       auto operator[](long i) -> decltype(this->fast(i));\n",
      "            ^~~~~~~~\n",
      "/usr/local/lib/python3.6/site-packages/pythran/pythonic/include/types/numpy_fexpr.hpp:112:12: error:                 decltype (((const pythonic::types::numpy_fexpr<A, F>*)this)->pythonic::types::numpy_fexpr<A, F>::fast(i)) pythonic::types::numpy_fexpr<A, F>::operator[](long int) const\n",
      "       auto operator[](long i) const -> decltype(this->fast(i));\n",
      "            ^~~~~~~~\n",
      "In file included from /usr/local/lib/python3.6/site-packages/pythran/pythonic/types/ndarray.hpp:38:0,\n",
      "                 from /usr/local/lib/python3.6/site-packages/pythran/pythonic/numpy/reduce.hpp:6,\n",
      "                 from /usr/local/lib/python3.6/site-packages/pythran/pythonic/numpy/sum.hpp:5,\n",
      "                 from /var/folders/mw/nwq5qyg56fl585pb9jw81_qc0000gn/T/tmptxdnlb7v.cpp:16:\n",
      "/usr/local/lib/python3.6/site-packages/pythran/pythonic/types/numpy_expr.hpp:181:10: error: prototype for 'decltype (((const pythonic::types::numpy_expr<O, Args>*)this)->pythonic::types::numpy_expr<O, Args>::fast(i)) pythonic::types::numpy_expr<O, Args>::operator[](long int) const' does not match any in class 'pythonic::types::numpy_expr<O, Args>'\n",
      "     auto numpy_expr<Op, Args...>::operator[](long i) const\n",
      "          ^~~~~~~~~~~~~~~~~~~~~~~\n",
      "In file included from /usr/local/lib/python3.6/site-packages/pythran/pythonic/include/types/ndarray.hpp:36:0,\n",
      "                 from /usr/local/lib/python3.6/site-packages/pythran/pythonic/include/numpy/reduce.hpp:4,\n",
      "                 from /usr/local/lib/python3.6/site-packages/pythran/pythonic/include/numpy/sum.hpp:4,\n",
      "                 from /var/folders/mw/nwq5qyg56fl585pb9jw81_qc0000gn/T/tmptxdnlb7v.cpp:11:\n",
      "/usr/local/lib/python3.6/site-packages/pythran/pythonic/include/types/numpy_expr.hpp:541:7: error: candidates are: template<class Op, class ... Args> template<class F> typename std::enable_if<pythonic::types::is_numexpr_arg<E>::value, pythonic::types::numpy_fexpr<pythonic::types::numpy_expr<O, Args>, F> >::type pythonic::types::numpy_expr<O, Args>::operator[](const F&) const\n",
      "       operator[](F const &filter) const;\n",
      "       ^~~~~~~~\n",
      "/usr/local/lib/python3.6/site-packages/pythran/pythonic/include/types/numpy_expr.hpp:472:12: error:                 decltype (((const pythonic::types::numpy_expr<O, Args>*)this)->pythonic::types::numpy_expr<O, Args>::fast(i)) pythonic::types::numpy_expr<O, Args>::operator[](long int) const\n",
      "       auto operator[](long i) const -> decltype(this->fast(i));\n",
      "            ^~~~~~~~\n",
      "In file included from /usr/local/lib/python3.6/site-packages/pythran/pythonic/types/ndarray.hpp:39:0,\n",
      "                 from /usr/local/lib/python3.6/site-packages/pythran/pythonic/numpy/reduce.hpp:6,\n",
      "                 from /usr/local/lib/python3.6/site-packages/pythran/pythonic/numpy/sum.hpp:5,\n",
      "                 from /var/folders/mw/nwq5qyg56fl585pb9jw81_qc0000gn/T/tmptxdnlb7v.cpp:16:\n",
      "/usr/local/lib/python3.6/site-packages/pythran/pythonic/types/numpy_texpr.hpp:102:10: error: prototype for 'decltype (((const pythonic::types::numpy_texpr_2<A>*)this)->pythonic::types::numpy_texpr_2<A>::fast(i)) pythonic::types::numpy_texpr_2<A>::operator[](long int) const' does not match any in class 'pythonic::types::numpy_texpr_2<A>'\n",
      "     auto numpy_texpr_2<E>::operator[](long i) const -> decltype(this->fast(i))\n",
      "          ^~~~~~~~~~~~~~~~\n",
      "In file included from /usr/local/lib/python3.6/site-packages/pythran/pythonic/include/types/ndarray.hpp:37:0,\n",
      "                 from /usr/local/lib/python3.6/site-packages/pythran/pythonic/include/numpy/reduce.hpp:4,\n",
      "                 from /usr/local/lib/python3.6/site-packages/pythran/pythonic/include/numpy/sum.hpp:4,\n",
      "                 from /var/folders/mw/nwq5qyg56fl585pb9jw81_qc0000gn/T/tmptxdnlb7v.cpp:11:\n",
      "/usr/local/lib/python3.6/site-packages/pythran/pythonic/include/types/numpy_texpr.hpp:127:7: error: candidates are: template<class E> template<class F> typename std::enable_if<(pythonic::types::is_numexpr_arg<E>::value && (! std::is_same<bool, typename F::dtype>::value)), pythonic::types::ndarray<typename E::dtype, 2> >::type pythonic::types::numpy_texpr_2<A>::operator[](const F&) const\n",
      "       operator[](F const &filter) const;\n",
      "       ^~~~~~~~\n",
      "/usr/local/lib/python3.6/site-packages/pythran/pythonic/include/types/numpy_texpr.hpp:120:7: error:                 template<class E> template<class F> typename std::enable_if<(pythonic::types::is_numexpr_arg<E>::value && std::is_same<bool, typename F::dtype>::value), pythonic::types::numpy_fexpr<pythonic::types::numpy_texpr_2<A>, F> >::type pythonic::types::numpy_texpr_2<A>::operator[](const F&) const\n",
      "       operator[](F const &filter) const;\n",
      "       ^~~~~~~~\n",
      "/usr/local/lib/python3.6/site-packages/pythran/pythonic/include/types/numpy_texpr.hpp:104:12: error:                 decltype (((pythonic::types::numpy_texpr_2<A>*)this)->arg(pythonic::types::contiguous_slice(pythonic::__builtin__::None, pythonic::__builtin__::None), s0)) pythonic::types::numpy_texpr_2<A>::operator[](const pythonic::types::slice&)\n",
      "       auto operator[](slice const &s0)\n",
      "            ^~~~~~~~\n",
      "/usr/local/lib/python3.6/site-packages/pythran/pythonic/include/types/numpy_texpr.hpp:100:12: error:                 decltype (((const pythonic::types::numpy_texpr_2<A>*)this)->arg(pythonic::types::contiguous_slice(pythonic::__builtin__::None, pythonic::__builtin__::None), s0)) pythonic::types::numpy_texpr_2<A>::operator[](const pythonic::types::slice&) const\n",
      "       auto operator[](slice const &s0) const\n",
      "            ^~~~~~~~\n",
      "/usr/local/lib/python3.6/site-packages/pythran/pythonic/include/types/numpy_texpr.hpp:96:12: error:                 decltype (((pythonic::types::numpy_texpr_2<A>*)this)->arg(pythonic::types::contiguous_slice(pythonic::__builtin__::None, pythonic::__builtin__::None), s0)) pythonic::types::numpy_texpr_2<A>::operator[](const pythonic::types::contiguous_slice&)\n",
      "       auto operator[](contiguous_slice const &s0)\n",
      "            ^~~~~~~~\n",
      "/usr/local/lib/python3.6/site-packages/pythran/pythonic/include/types/numpy_texpr.hpp:92:12: error:                 decltype (((const pythonic::types::numpy_texpr_2<A>*)this)->arg(pythonic::types::contiguous_slice(pythonic::__builtin__::None, pythonic::__builtin__::None), s0)) pythonic::types::numpy_texpr_2<A>::operator[](const pythonic::types::contiguous_slice&) const\n",
      "       auto operator[](contiguous_slice const &s0) const\n",
      "            ^~~~~~~~\n",
      "/usr/local/lib/python3.6/site-packages/pythran/pythonic/include/types/numpy_texpr.hpp:89:12: error:                 template<class E> template<class ... Tys> decltype (((const pythonic::types::numpy_texpr_2<A>*)this)->pythonic::types::numpy_texpr_2<A>::arg[pythonic::types::array<long int, 2>{{get<1>(indices), get<0>(indices)}}]) pythonic::types::numpy_texpr_2<A>::operator[](const std::tuple<_Args1 ...>&) const\n",
      "       auto operator[](std::tuple<Tys...> const &indices) const -> decltype(\n",
      "            ^~~~~~~~\n",
      "/usr/local/lib/python3.6/site-packages/pythran/pythonic/include/types/numpy_texpr.hpp:86:12: error:                 template<class E> template<class ... Tys> decltype (((pythonic::types::numpy_texpr_2<A>*)this)->pythonic::types::numpy_texpr_2<A>::arg[pythonic::types::array<long int, 2>{{get<1>(indices), get<0>(indices)}}]) pythonic::types::numpy_texpr_2<A>::operator[](const std::tuple<_Args1 ...>&)\n",
      "       auto operator[](std::tuple<Tys...> const &indices) -> decltype(\n",
      "            ^~~~~~~~\n",
      "/usr/local/lib/python3.6/site-packages/pythran/pythonic/include/types/numpy_texpr.hpp:83:12: error:                 decltype (((const pythonic::types::numpy_texpr_2<A>*)this)->pythonic::types::numpy_texpr_2<A>::arg[pythonic::types::array<long int, 2>{{indices[1], indices[0]}}]) pythonic::types::numpy_texpr_2<A>::operator[](const pythonic::types::array<long int, pythonic::types::numpy_texpr_2<A>::value>&) const\n",
      "       auto operator[](array<long, value> const &indices) const\n",
      "            ^~~~~~~~\n",
      "/usr/local/lib/python3.6/site-packages/pythran/pythonic/include/types/numpy_texpr.hpp:81:12: error:                 decltype (((pythonic::types::numpy_texpr_2<A>*)this)->pythonic::types::numpy_texpr_2<A>::arg[pythonic::types::array<long int, 2>{{indices[1], indices[0]}}]) pythonic::types::numpy_texpr_2<A>::operator[](const pythonic::types::array<long int, pythonic::types::numpy_texpr_2<A>::value>&)\n",
      "       auto operator[](array<long, value> const &indices)\n",
      "            ^~~~~~~~\n",
      "/usr/local/lib/python3.6/site-packages/pythran/pythonic/include/types/numpy_texpr.hpp:80:12: error:                 decltype (((pythonic::types::numpy_texpr_2<A>*)this)->pythonic::types::numpy_texpr_2<A>::fast(i)) pythonic::types::numpy_texpr_2<A>::operator[](long int)\n",
      "       auto operator[](long i) -> decltype(this->fast(i));\n",
      "            ^~~~~~~~\n",
      "/usr/local/lib/python3.6/site-packages/pythran/pythonic/include/types/numpy_texpr.hpp:79:12: error:                 decltype (((const pythonic::types::numpy_texpr_2<A>*)this)->pythonic::types::numpy_texpr_2<A>::fast(i)) pythonic::types::numpy_texpr_2<A>::operator[](long int) const\n",
      "       auto operator[](long i) const -> decltype(this->fast(i));\n",
      "            ^~~~~~~~\n",
      "In file included from /usr/local/lib/python3.6/site-packages/pythran/pythonic/types/ndarray.hpp:39:0,\n",
      "                 from /usr/local/lib/python3.6/site-packages/pythran/pythonic/numpy/reduce.hpp:6,\n",
      "                 from /usr/local/lib/python3.6/site-packages/pythran/pythonic/numpy/sum.hpp:5,\n",
      "                 from /var/folders/mw/nwq5qyg56fl585pb9jw81_qc0000gn/T/tmptxdnlb7v.cpp:16:\n",
      "/usr/local/lib/python3.6/site-packages/pythran/pythonic/types/numpy_texpr.hpp:110:10: error: prototype for 'decltype (((pythonic::types::numpy_texpr_2<A>*)this)->pythonic::types::numpy_texpr_2<A>::fast(i)) pythonic::types::numpy_texpr_2<A>::operator[](long int)' does not match any in class 'pythonic::types::numpy_texpr_2<A>'\n",
      "     auto numpy_texpr_2<E>::operator[](long i) -> decltype(this->fast(i))\n",
      "          ^~~~~~~~~~~~~~~~\n",
      "In file included from /usr/local/lib/python3.6/site-packages/pythran/pythonic/include/types/ndarray.hpp:37:0,\n",
      "                 from /usr/local/lib/python3.6/site-packages/pythran/pythonic/include/numpy/reduce.hpp:4,\n",
      "                 from /usr/local/lib/python3.6/site-packages/pythran/pythonic/include/numpy/sum.hpp:4,\n",
      "                 from /var/folders/mw/nwq5qyg56fl585pb9jw81_qc0000gn/T/tmptxdnlb7v.cpp:11:\n",
      "/usr/local/lib/python3.6/site-packages/pythran/pythonic/include/types/numpy_texpr.hpp:127:7: error: candidates are: template<class E> template<class F> typename std::enable_if<(pythonic::types::is_numexpr_arg<E>::value && (! std::is_same<bool, typename F::dtype>::value)), pythonic::types::ndarray<typename E::dtype, 2> >::type pythonic::types::numpy_texpr_2<A>::operator[](const F&) const\n",
      "       operator[](F const &filter) const;\n",
      "       ^~~~~~~~\n",
      "/usr/local/lib/python3.6/site-packages/pythran/pythonic/include/types/numpy_texpr.hpp:120:7: error:                 template<class E> template<class F> typename std::enable_if<(pythonic::types::is_numexpr_arg<E>::value && std::is_same<bool, typename F::dtype>::value), pythonic::types::numpy_fexpr<pythonic::types::numpy_texpr_2<A>, F> >::type pythonic::types::numpy_texpr_2<A>::operator[](const F&) const\n",
      "       operator[](F const &filter) const;\n",
      "       ^~~~~~~~\n",
      "/usr/local/lib/python3.6/site-packages/pythran/pythonic/include/types/numpy_texpr.hpp:104:12: error:                 decltype (((pythonic::types::numpy_texpr_2<A>*)this)->arg(pythonic::types::contiguous_slice(pythonic::__builtin__::None, pythonic::__builtin__::None), s0)) pythonic::types::numpy_texpr_2<A>::operator[](const pythonic::types::slice&)\n",
      "       auto operator[](slice const &s0)\n",
      "            ^~~~~~~~\n",
      "/usr/local/lib/python3.6/site-packages/pythran/pythonic/include/types/numpy_texpr.hpp:100:12: error:                 decltype (((const pythonic::types::numpy_texpr_2<A>*)this)->arg(pythonic::types::contiguous_slice(pythonic::__builtin__::None, pythonic::__builtin__::None), s0)) pythonic::types::numpy_texpr_2<A>::operator[](const pythonic::types::slice&) const\n",
      "       auto operator[](slice const &s0) const\n",
      "            ^~~~~~~~\n",
      "/usr/local/lib/python3.6/site-packages/pythran/pythonic/include/types/numpy_texpr.hpp:96:12: error:                 decltype (((pythonic::types::numpy_texpr_2<A>*)this)->arg(pythonic::types::contiguous_slice(pythonic::__builtin__::None, pythonic::__builtin__::None), s0)) pythonic::types::numpy_texpr_2<A>::operator[](const pythonic::types::contiguous_slice&)\n",
      "       auto operator[](contiguous_slice const &s0)\n",
      "            ^~~~~~~~\n",
      "/usr/local/lib/python3.6/site-packages/pythran/pythonic/include/types/numpy_texpr.hpp:92:12: error:                 decltype (((const pythonic::types::numpy_texpr_2<A>*)this)->arg(pythonic::types::contiguous_slice(pythonic::__builtin__::None, pythonic::__builtin__::None), s0)) pythonic::types::numpy_texpr_2<A>::operator[](const pythonic::types::contiguous_slice&) const\n",
      "       auto operator[](contiguous_slice const &s0) const\n",
      "            ^~~~~~~~\n",
      "/usr/local/lib/python3.6/site-packages/pythran/pythonic/include/types/numpy_texpr.hpp:89:12: error:                 template<class E> template<class ... Tys> decltype (((const pythonic::types::numpy_texpr_2<A>*)this)->pythonic::types::numpy_texpr_2<A>::arg[pythonic::types::array<long int, 2>{{get<1>(indices), get<0>(indices)}}]) pythonic::types::numpy_texpr_2<A>::operator[](const std::tuple<_Args1 ...>&) const\n",
      "       auto operator[](std::tuple<Tys...> const &indices) const -> decltype(\n",
      "            ^~~~~~~~\n",
      "/usr/local/lib/python3.6/site-packages/pythran/pythonic/include/types/numpy_texpr.hpp:86:12: error:                 template<class E> template<class ... Tys> decltype (((pythonic::types::numpy_texpr_2<A>*)this)->pythonic::types::numpy_texpr_2<A>::arg[pythonic::types::array<long int, 2>{{get<1>(indices), get<0>(indices)}}]) pythonic::types::numpy_texpr_2<A>::operator[](const std::tuple<_Args1 ...>&)\n",
      "       auto operator[](std::tuple<Tys...> const &indices) -> decltype(\n",
      "            ^~~~~~~~\n",
      "/usr/local/lib/python3.6/site-packages/pythran/pythonic/include/types/numpy_texpr.hpp:83:12: error:                 decltype (((const pythonic::types::numpy_texpr_2<A>*)this)->pythonic::types::numpy_texpr_2<A>::arg[pythonic::types::array<long int, 2>{{indices[1], indices[0]}}]) pythonic::types::numpy_texpr_2<A>::operator[](const pythonic::types::array<long int, pythonic::types::numpy_texpr_2<A>::value>&) const\n",
      "       auto operator[](array<long, value> const &indices) const\n",
      "            ^~~~~~~~\n",
      "/usr/local/lib/python3.6/site-packages/pythran/pythonic/include/types/numpy_texpr.hpp:81:12: error:                 decltype (((pythonic::types::numpy_texpr_2<A>*)this)->pythonic::types::numpy_texpr_2<A>::arg[pythonic::types::array<long int, 2>{{indices[1], indices[0]}}]) pythonic::types::numpy_texpr_2<A>::operator[](const pythonic::types::array<long int, pythonic::types::numpy_texpr_2<A>::value>&)\n",
      "       auto operator[](array<long, value> const &indices)\n",
      "            ^~~~~~~~\n",
      "/usr/local/lib/python3.6/site-packages/pythran/pythonic/include/types/numpy_texpr.hpp:80:12: error:                 decltype (((pythonic::types::numpy_texpr_2<A>*)this)->pythonic::types::numpy_texpr_2<A>::fast(i)) pythonic::types::numpy_texpr_2<A>::operator[](long int)\n",
      "       auto operator[](long i) -> decltype(this->fast(i));\n",
      "            ^~~~~~~~\n",
      "/usr/local/lib/python3.6/site-packages/pythran/pythonic/include/types/numpy_texpr.hpp:79:12: error:                 decltype (((const pythonic::types::numpy_texpr_2<A>*)this)->pythonic::types::numpy_texpr_2<A>::fast(i)) pythonic::types::numpy_texpr_2<A>::operator[](long int) const\n",
      "       auto operator[](long i) const -> decltype(this->fast(i));\n",
      "            ^~~~~~~~\n",
      "In file included from /usr/local/lib/python3.6/site-packages/pythran/pythonic/types/ndarray.hpp:40:0,\n",
      "                 from /usr/local/lib/python3.6/site-packages/pythran/pythonic/numpy/reduce.hpp:6,\n",
      "                 from /usr/local/lib/python3.6/site-packages/pythran/pythonic/numpy/sum.hpp:5,\n",
      "                 from /var/folders/mw/nwq5qyg56fl585pb9jw81_qc0000gn/T/tmptxdnlb7v.cpp:16:\n",
      "/usr/local/lib/python3.6/site-packages/pythran/pythonic/types/numpy_iexpr.hpp:279:10: error: prototype for 'decltype (((const pythonic::types::numpy_iexpr<A>*)this)->pythonic::types::numpy_iexpr<A>::fast(i)) pythonic::types::numpy_iexpr<A>::operator[](long int) const &' does not match any in class 'pythonic::types::numpy_iexpr<A>'\n",
      "     auto numpy_iexpr<Arg>::operator[](long i) const & -> decltype(this->fast(i))\n",
      "          ^~~~~~~~~~~~~~~~\n",
      "In file included from /usr/local/lib/python3.6/site-packages/pythran/pythonic/include/types/ndarray.hpp:38:0,\n",
      "                 from /usr/local/lib/python3.6/site-packages/pythran/pythonic/include/numpy/reduce.hpp:4,\n",
      "                 from /usr/local/lib/python3.6/site-packages/pythran/pythonic/include/numpy/sum.hpp:4,\n",
      "                 from /var/folders/mw/nwq5qyg56fl585pb9jw81_qc0000gn/T/tmptxdnlb7v.cpp:11:\n",
      "/usr/local/lib/python3.6/site-packages/pythran/pythonic/include/types/numpy_iexpr.hpp:191:14: error: candidates are: pythonic::types::numpy_iexpr<A>::dtype& pythonic::types::numpy_iexpr<A>::operator[](const pythonic::types::array<long int, pythonic::types::numpy_iexpr<A>::value>&)\n",
      "       dtype &operator[](array<long, value> const &indices);\n",
      "              ^~~~~~~~\n",
      "/usr/local/lib/python3.6/site-packages/pythran/pythonic/include/types/numpy_iexpr.hpp:190:20: error:                 const dtype& pythonic::types::numpy_iexpr<A>::operator[](const pythonic::types::array<long int, pythonic::types::numpy_iexpr<A>::value>&) const\n",
      "       dtype const &operator[](array<long, value> const &indices) const;\n",
      "                    ^~~~~~~~\n",
      "/usr/local/lib/python3.6/site-packages/pythran/pythonic/include/types/numpy_iexpr.hpp:188:7: error:                 template<class Arg> template<class F> typename std::enable_if<pythonic::types::is_numexpr_arg<E>::value, pythonic::types::numpy_fexpr<pythonic::types::numpy_iexpr<A>, F> >::type pythonic::types::numpy_iexpr<A>::operator[](const F&) const\n",
      "       operator[](F const &filter) const;\n",
      "       ^~~~~~~~\n",
      "/usr/local/lib/python3.6/site-packages/pythran/pythonic/include/types/numpy_iexpr.hpp:166:7: error:                 pythonic::types::numpy_gexpr<pythonic::types::numpy_iexpr<A>, pythonic::types::contiguous_slice> pythonic::types::numpy_iexpr<A>::operator[](const pythonic::types::contiguous_slice&) const\n",
      "       operator[](contiguous_slice const &s0) const;\n",
      "       ^~~~~~~~\n",
      "/usr/local/lib/python3.6/site-packages/pythran/pythonic/include/types/numpy_iexpr.hpp:164:39: error:                 pythonic::types::numpy_gexpr<pythonic::types::numpy_iexpr<A>, pythonic::types::slice> pythonic::types::numpy_iexpr<A>::operator[](const pythonic::types::slice&) const\n",
      "       numpy_gexpr<numpy_iexpr, slice> operator[](slice const &s0) const;\n",
      "                                       ^~~~~~~~\n",
      "/usr/local/lib/python3.6/site-packages/pythran/pythonic/include/types/numpy_iexpr.hpp:163:12: error:                 decltype (std::move((*(pythonic::types::numpy_iexpr<A>*)this)).fast(i)) pythonic::types::numpy_iexpr<A>::operator[](long int) &&\n",
      "       auto operator[](long i) && -> decltype(std::move(*this).fast(i));\n",
      "            ^~~~~~~~\n",
      "/usr/local/lib/python3.6/site-packages/pythran/pythonic/include/types/numpy_iexpr.hpp:162:12: error:                 decltype (((pythonic::types::numpy_iexpr<A>*)this)->pythonic::types::numpy_iexpr<A>::fast(i)) pythonic::types::numpy_iexpr<A>::operator[](long int) &\n",
      "       auto operator[](long i) & -> decltype(this->fast(i));\n",
      "            ^~~~~~~~\n",
      "/usr/local/lib/python3.6/site-packages/pythran/pythonic/include/types/numpy_iexpr.hpp:161:12: error:                 decltype (((const pythonic::types::numpy_iexpr<A>*)this)->pythonic::types::numpy_iexpr<A>::fast(i)) pythonic::types::numpy_iexpr<A>::operator[](long int) const &\n",
      "       auto operator[](long i) const & -> decltype(this->fast(i));\n",
      "            ^~~~~~~~\n",
      "In file included from /usr/local/lib/python3.6/site-packages/pythran/pythonic/types/ndarray.hpp:40:0,\n",
      "                 from /usr/local/lib/python3.6/site-packages/pythran/pythonic/numpy/reduce.hpp:6,\n",
      "                 from /usr/local/lib/python3.6/site-packages/pythran/pythonic/numpy/sum.hpp:5,\n",
      "                 from /var/folders/mw/nwq5qyg56fl585pb9jw81_qc0000gn/T/tmptxdnlb7v.cpp:16:\n",
      "/usr/local/lib/python3.6/site-packages/pythran/pythonic/types/numpy_iexpr.hpp:287:14: error: prototype for 'decltype (((pythonic::types::numpy_iexpr<A>*)this)->pythonic::types::numpy_iexpr<A>::fast(i)) pythonic::types::numpy_iexpr<A>::operator[](long int) &' does not match any in class 'pythonic::types::numpy_iexpr<A>'\n",
      "         auto numpy_iexpr<Arg>::operator[](long i) & -> decltype(this->fast(i))\n",
      "              ^~~~~~~~~~~~~~~~\n",
      "In file included from /usr/local/lib/python3.6/site-packages/pythran/pythonic/include/types/ndarray.hpp:38:0,\n",
      "                 from /usr/local/lib/python3.6/site-packages/pythran/pythonic/include/numpy/reduce.hpp:4,\n",
      "                 from /usr/local/lib/python3.6/site-packages/pythran/pythonic/include/numpy/sum.hpp:4,\n",
      "                 from /var/folders/mw/nwq5qyg56fl585pb9jw81_qc0000gn/T/tmptxdnlb7v.cpp:11:\n",
      "/usr/local/lib/python3.6/site-packages/pythran/pythonic/include/types/numpy_iexpr.hpp:191:14: error: candidates are: pythonic::types::numpy_iexpr<A>::dtype& pythonic::types::numpy_iexpr<A>::operator[](const pythonic::types::array<long int, pythonic::types::numpy_iexpr<A>::value>&)\n",
      "       dtype &operator[](array<long, value> const &indices);\n",
      "              ^~~~~~~~\n",
      "/usr/local/lib/python3.6/site-packages/pythran/pythonic/include/types/numpy_iexpr.hpp:190:20: error:                 const dtype& pythonic::types::numpy_iexpr<A>::operator[](const pythonic::types::array<long int, pythonic::types::numpy_iexpr<A>::value>&) const\n",
      "       dtype const &operator[](array<long, value> const &indices) const;\n",
      "                    ^~~~~~~~\n",
      "/usr/local/lib/python3.6/site-packages/pythran/pythonic/include/types/numpy_iexpr.hpp:188:7: error:                 template<class Arg> template<class F> typename std::enable_if<pythonic::types::is_numexpr_arg<E>::value, pythonic::types::numpy_fexpr<pythonic::types::numpy_iexpr<A>, F> >::type pythonic::types::numpy_iexpr<A>::operator[](const F&) const\n",
      "       operator[](F const &filter) const;\n",
      "       ^~~~~~~~\n",
      "/usr/local/lib/python3.6/site-packages/pythran/pythonic/include/types/numpy_iexpr.hpp:166:7: error:                 pythonic::types::numpy_gexpr<pythonic::types::numpy_iexpr<A>, pythonic::types::contiguous_slice> pythonic::types::numpy_iexpr<A>::operator[](const pythonic::types::contiguous_slice&) const\n",
      "       operator[](contiguous_slice const &s0) const;\n",
      "       ^~~~~~~~\n",
      "/usr/local/lib/python3.6/site-packages/pythran/pythonic/include/types/numpy_iexpr.hpp:164:39: error:                 pythonic::types::numpy_gexpr<pythonic::types::numpy_iexpr<A>, pythonic::types::slice> pythonic::types::numpy_iexpr<A>::operator[](const pythonic::types::slice&) const\n",
      "       numpy_gexpr<numpy_iexpr, slice> operator[](slice const &s0) const;\n",
      "                                       ^~~~~~~~\n",
      "/usr/local/lib/python3.6/site-packages/pythran/pythonic/include/types/numpy_iexpr.hpp:163:12: error:                 decltype (std::move((*(pythonic::types::numpy_iexpr<A>*)this)).fast(i)) pythonic::types::numpy_iexpr<A>::operator[](long int) &&\n",
      "       auto operator[](long i) && -> decltype(std::move(*this).fast(i));\n",
      "            ^~~~~~~~\n",
      "/usr/local/lib/python3.6/site-packages/pythran/pythonic/include/types/numpy_iexpr.hpp:162:12: error:                 decltype (((pythonic::types::numpy_iexpr<A>*)this)->pythonic::types::numpy_iexpr<A>::fast(i)) pythonic::types::numpy_iexpr<A>::operator[](long int) &\n",
      "       auto operator[](long i) & -> decltype(this->fast(i));\n",
      "            ^~~~~~~~\n",
      "/usr/local/lib/python3.6/site-packages/pythran/pythonic/include/types/numpy_iexpr.hpp:161:12: error:                 decltype (((const pythonic::types::numpy_iexpr<A>*)this)->pythonic::types::numpy_iexpr<A>::fast(i)) pythonic::types::numpy_iexpr<A>::operator[](long int) const &\n",
      "       auto operator[](long i) const & -> decltype(this->fast(i));\n",
      "            ^~~~~~~~\n",
      "In file included from /usr/local/lib/python3.6/site-packages/pythran/pythonic/types/ndarray.hpp:41:0,\n",
      "                 from /usr/local/lib/python3.6/site-packages/pythran/pythonic/numpy/reduce.hpp:6,\n",
      "                 from /usr/local/lib/python3.6/site-packages/pythran/pythonic/numpy/sum.hpp:5,\n",
      "                 from /var/folders/mw/nwq5qyg56fl585pb9jw81_qc0000gn/T/tmptxdnlb7v.cpp:16:\n",
      "/usr/local/lib/python3.6/site-packages/pythran/pythonic/types/numpy_gexpr.hpp:730:10: error: prototype for 'decltype (((const pythonic::types::numpy_gexpr<A, S>*)this)->pythonic::types::numpy_gexpr<A, S>::fast(i)) pythonic::types::numpy_gexpr<A, S>::operator[](long int) const' does not match any in class 'pythonic::types::numpy_gexpr<A, S>'\n",
      "     auto numpy_gexpr<Arg, S...>::operator[](long i) const\n",
      "          ^~~~~~~~~~~~~~~~~~~~~~\n",
      "In file included from /usr/local/lib/python3.6/site-packages/pythran/pythonic/include/types/ndarray.hpp:39:0,\n",
      "                 from /usr/local/lib/python3.6/site-packages/pythran/pythonic/include/numpy/reduce.hpp:4,\n",
      "                 from /usr/local/lib/python3.6/site-packages/pythran/pythonic/include/numpy/sum.hpp:4,\n",
      "                 from /var/folders/mw/nwq5qyg56fl585pb9jw81_qc0000gn/T/tmptxdnlb7v.cpp:11:\n",
      "/usr/local/lib/python3.6/site-packages/pythran/pythonic/include/types/numpy_gexpr.hpp:560:7: error: candidates are: template<class Arg, class ... S> template<class F> typename std::enable_if<pythonic::types::is_numexpr_arg<E>::value, pythonic::types::numpy_fexpr<pythonic::types::numpy_gexpr<A, S>, F> >::type pythonic::types::numpy_gexpr<A, S>::operator[](const F&) const\n",
      "       operator[](F const &filter) const;\n",
      "       ^~~~~~~~\n",
      "/usr/local/lib/python3.6/site-packages/pythran/pythonic/include/types/numpy_gexpr.hpp:549:16: error:                 template<class Arg, class ... S> template<long unsigned int M> decltype (pythonic::types::nget<(M - 1)>()(std::move((*(pythonic::types::numpy_gexpr<A, S>*)this)), indices)) pythonic::types::numpy_gexpr<A, S>::operator[](const pythonic::types::array<long int, M>&) &&\n",
      "           auto operator[](array<long, M> const &indices) &&\n",
      "                ^~~~~~~~\n",
      "/usr/local/lib/python3.6/site-packages/pythran/pythonic/include/types/numpy_gexpr.hpp:545:12: error:                 template<class Arg, class ... S> template<long unsigned int M> decltype (pythonic::types::nget<(M - 1)>()((*(const pythonic::types::numpy_gexpr<A, S>*)this), indices)) pythonic::types::numpy_gexpr<A, S>::operator[](const pythonic::types::array<long int, M>&) const &\n",
      "       auto operator[](array<long, M> const &indices) const\n",
      "            ^~~~~~~~\n",
      "/usr/local/lib/python3.6/site-packages/pythran/pythonic/include/types/numpy_gexpr.hpp:538:12: error:                 decltype (pythonic::types::make_gexpr((*(const pythonic::types::numpy_gexpr<A, S>*)this), s0)) pythonic::types::numpy_gexpr<A, S>::operator[](const pythonic::types::slice&) const\n",
      "       auto operator[](slice const &s0) const -> decltype(make_gexpr(*this, s0));\n",
      "            ^~~~~~~~\n",
      "/usr/local/lib/python3.6/site-packages/pythran/pythonic/include/types/numpy_gexpr.hpp:531:12: error:                 decltype (pythonic::types::make_gexpr((*(const pythonic::types::numpy_gexpr<A, S>*)this), s0)) pythonic::types::numpy_gexpr<A, S>::operator[](const pythonic::types::contiguous_slice&) const\n",
      "       auto operator[](contiguous_slice const &s0) const\n",
      "            ^~~~~~~~\n",
      "/usr/local/lib/python3.6/site-packages/pythran/pythonic/include/types/numpy_gexpr.hpp:525:12: error:                 decltype (((pythonic::types::numpy_gexpr<A, S>*)this)->pythonic::types::numpy_gexpr<A, S>::fast(i)) pythonic::types::numpy_gexpr<A, S>::operator[](long int)\n",
      "       auto operator[](long i) -> decltype(this->fast(i));\n",
      "            ^~~~~~~~\n",
      "/usr/local/lib/python3.6/site-packages/pythran/pythonic/include/types/numpy_gexpr.hpp:524:12: error:                 decltype (((const pythonic::types::numpy_gexpr<A, S>*)this)->pythonic::types::numpy_gexpr<A, S>::fast(i)) pythonic::types::numpy_gexpr<A, S>::operator[](long int) const\n",
      "       auto operator[](long i) const -> decltype(this->fast(i));\n",
      "            ^~~~~~~~\n",
      "In file included from /usr/local/lib/python3.6/site-packages/pythran/pythonic/types/ndarray.hpp:41:0,\n",
      "                 from /usr/local/lib/python3.6/site-packages/pythran/pythonic/numpy/reduce.hpp:6,\n",
      "                 from /usr/local/lib/python3.6/site-packages/pythran/pythonic/numpy/sum.hpp:5,\n",
      "                 from /var/folders/mw/nwq5qyg56fl585pb9jw81_qc0000gn/T/tmptxdnlb7v.cpp:16:\n",
      "/usr/local/lib/python3.6/site-packages/pythran/pythonic/types/numpy_gexpr.hpp:739:10: error: prototype for 'decltype (((pythonic::types::numpy_gexpr<A, S>*)this)->pythonic::types::numpy_gexpr<A, S>::fast(i)) pythonic::types::numpy_gexpr<A, S>::operator[](long int)' does not match any in class 'pythonic::types::numpy_gexpr<A, S>'\n",
      "     auto numpy_gexpr<Arg, S...>::operator[](long i) -> decltype(this->fast(i))\n",
      "          ^~~~~~~~~~~~~~~~~~~~~~\n",
      "In file included from /usr/local/lib/python3.6/site-packages/pythran/pythonic/include/types/ndarray.hpp:39:0,\n",
      "                 from /usr/local/lib/python3.6/site-packages/pythran/pythonic/include/numpy/reduce.hpp:4,\n",
      "                 from /usr/local/lib/python3.6/site-packages/pythran/pythonic/include/numpy/sum.hpp:4,\n",
      "                 from /var/folders/mw/nwq5qyg56fl585pb9jw81_qc0000gn/T/tmptxdnlb7v.cpp:11:\n",
      "/usr/local/lib/python3.6/site-packages/pythran/pythonic/include/types/numpy_gexpr.hpp:560:7: error: candidates are: template<class Arg, class ... S> template<class F> typename std::enable_if<pythonic::types::is_numexpr_arg<E>::value, pythonic::types::numpy_fexpr<pythonic::types::numpy_gexpr<A, S>, F> >::type pythonic::types::numpy_gexpr<A, S>::operator[](const F&) const\n",
      "       operator[](F const &filter) const;\n",
      "       ^~~~~~~~\n",
      "/usr/local/lib/python3.6/site-packages/pythran/pythonic/include/types/numpy_gexpr.hpp:549:16: error:                 template<class Arg, class ... S> template<long unsigned int M> decltype (pythonic::types::nget<(M - 1)>()(std::move((*(pythonic::types::numpy_gexpr<A, S>*)this)), indices)) pythonic::types::numpy_gexpr<A, S>::operator[](const pythonic::types::array<long int, M>&) &&\n",
      "           auto operator[](array<long, M> const &indices) &&\n",
      "                ^~~~~~~~\n",
      "/usr/local/lib/python3.6/site-packages/pythran/pythonic/include/types/numpy_gexpr.hpp:545:12: error:                 template<class Arg, class ... S> template<long unsigned int M> decltype (pythonic::types::nget<(M - 1)>()((*(const pythonic::types::numpy_gexpr<A, S>*)this), indices)) pythonic::types::numpy_gexpr<A, S>::operator[](const pythonic::types::array<long int, M>&) const &\n",
      "       auto operator[](array<long, M> const &indices) const\n",
      "            ^~~~~~~~\n",
      "/usr/local/lib/python3.6/site-packages/pythran/pythonic/include/types/numpy_gexpr.hpp:538:12: error:                 decltype (pythonic::types::make_gexpr((*(const pythonic::types::numpy_gexpr<A, S>*)this), s0)) pythonic::types::numpy_gexpr<A, S>::operator[](const pythonic::types::slice&) const\n",
      "       auto operator[](slice const &s0) const -> decltype(make_gexpr(*this, s0));\n",
      "            ^~~~~~~~\n",
      "/usr/local/lib/python3.6/site-packages/pythran/pythonic/include/types/numpy_gexpr.hpp:531:12: error:                 decltype (pythonic::types::make_gexpr((*(const pythonic::types::numpy_gexpr<A, S>*)this), s0)) pythonic::types::numpy_gexpr<A, S>::operator[](const pythonic::types::contiguous_slice&) const\n",
      "       auto operator[](contiguous_slice const &s0) const\n",
      "            ^~~~~~~~\n",
      "/usr/local/lib/python3.6/site-packages/pythran/pythonic/include/types/numpy_gexpr.hpp:525:12: error:                 decltype (((pythonic::types::numpy_gexpr<A, S>*)this)->pythonic::types::numpy_gexpr<A, S>::fast(i)) pythonic::types::numpy_gexpr<A, S>::operator[](long int)\n",
      "       auto operator[](long i) -> decltype(this->fast(i));\n",
      "            ^~~~~~~~\n",
      "/usr/local/lib/python3.6/site-packages/pythran/pythonic/include/types/numpy_gexpr.hpp:524:12: error:                 decltype (((const pythonic::types::numpy_gexpr<A, S>*)this)->pythonic::types::numpy_gexpr<A, S>::fast(i)) pythonic::types::numpy_gexpr<A, S>::operator[](long int) const\n",
      "       auto operator[](long i) const -> decltype(this->fast(i));\n",
      "            ^~~~~~~~\n",
      "In file included from /usr/local/lib/python3.6/site-packages/pythran/pythonic/numpy/reduce.hpp:6:0,\n",
      "                 from /usr/local/lib/python3.6/site-packages/pythran/pythonic/numpy/sum.hpp:5,\n",
      "                 from /var/folders/mw/nwq5qyg56fl585pb9jw81_qc0000gn/T/tmptxdnlb7v.cpp:16:\n",
      "/usr/local/lib/python3.6/site-packages/pythran/pythonic/types/ndarray.hpp:498:10: error: prototype for 'decltype (((const pythonic::types::ndarray<T, N>*)this)->pythonic::types::ndarray<T, N>::fast(i)) pythonic::types::ndarray<T, N>::operator[](long int) const &' does not match any in class 'pythonic::types::ndarray<T, N>'\n",
      "     auto ndarray<T, N>::operator[](long i) const & -> decltype(this->fast(i))\n",
      "          ^~~~~~~~~~~~~\n",
      "In file included from /usr/local/lib/python3.6/site-packages/pythran/pythonic/include/numpy/reduce.hpp:4:0,\n",
      "                 from /usr/local/lib/python3.6/site-packages/pythran/pythonic/include/numpy/sum.hpp:4,\n",
      "                 from /var/folders/mw/nwq5qyg56fl585pb9jw81_qc0000gn/T/tmptxdnlb7v.cpp:11:\n",
      "/usr/local/lib/python3.6/site-packages/pythran/pythonic/include/types/ndarray.hpp:411:7: error: candidates are: template<class T, long unsigned int N> template<class F> typename std::enable_if<(pythonic::types::is_numexpr_arg<E>::value && (! std::is_same<bool, typename F::dtype>::value)), pythonic::types::ndarray<T, N> >::type pythonic::types::ndarray<T, N>::operator[](const F&) const\n",
      "       operator[](F const &filter) const;\n",
      "       ^~~~~~~~\n",
      "/usr/local/lib/python3.6/site-packages/pythran/pythonic/include/types/ndarray.hpp:404:7: error:                 template<class T, long unsigned int N> template<class F> typename std::enable_if<(pythonic::types::is_numexpr_arg<E>::value && std::is_same<bool, typename F::dtype>::value), pythonic::types::numpy_fexpr<pythonic::types::ndarray<T, N>, F> >::type pythonic::types::ndarray<T, N>::operator[](const F&) const\n",
      "       operator[](F const &filter) const;\n",
      "       ^~~~~~~~\n",
      "/usr/local/lib/python3.6/site-packages/pythran/pythonic/include/types/ndarray.hpp:379:7: error:                 pythonic::types::numpy_gexpr<const pythonic::types::ndarray<T, N>&, pythonic::types::contiguous_slice> pythonic::types::ndarray<T, N>::operator[](const pythonic::types::contiguous_slice&) const\n",
      "       operator[](contiguous_slice const &s) const;\n",
      "       ^~~~~~~~\n",
      "/usr/local/lib/python3.6/site-packages/pythran/pythonic/include/types/ndarray.hpp:376:43: error:                 pythonic::types::numpy_gexpr<const pythonic::types::ndarray<T, N>&, pythonic::types::slice> pythonic::types::ndarray<T, N>::operator[](const pythonic::types::slice&) const\n",
      "       numpy_gexpr<ndarray const &, slice> operator[](slice const &s) const;\n",
      "                                           ^~~~~~~~\n",
      "/usr/local/lib/python3.6/site-packages/pythran/pythonic/include/types/ndarray.hpp:374:25: error:                 pythonic::types::ndarray<T, (N + 1)> pythonic::types::ndarray<T, N>::operator[](pythonic::types::none_type) const\n",
      "       ndarray<T, N + 1> operator[](none_type) const;\n",
      "                         ^~~~~~~~\n",
      "/usr/local/lib/python3.6/site-packages/pythran/pythonic/include/types/ndarray.hpp:356:12: error:                 template<class T, long unsigned int N> template<class ... Tys> decltype ((*(const pythonic::types::ndarray<T, N>*)this)[to_array<long int>(indices)]) pythonic::types::ndarray<T, N>::operator[](const std::tuple<_Args1 ...>&) const\n",
      "       auto operator[](std::tuple<Tys...> const &indices) const\n",
      "            ^~~~~~~~\n",
      "/usr/local/lib/python3.6/site-packages/pythran/pythonic/include/types/ndarray.hpp:352:16: error:                 template<class T, long unsigned int N> template<long unsigned int M> decltype (pythonic::types::nget<(M - 1)>()(std::move((*(pythonic::types::ndarray<T, N>*)this)), indices)) pythonic::types::ndarray<T, N>::operator[](const pythonic::types::array<long int, M>&) &&\n",
      "           auto operator[](array<long, M> const &indices) &&\n",
      "                ^~~~~~~~\n",
      "/usr/local/lib/python3.6/site-packages/pythran/pythonic/include/types/ndarray.hpp:348:12: error:                 template<class T, long unsigned int N> template<long unsigned int M> decltype (pythonic::types::nget<(M - 1)>()((*(const pythonic::types::ndarray<T, N>*)this), indices)) pythonic::types::ndarray<T, N>::operator[](const pythonic::types::array<long int, M>&) const &\n",
      "       auto operator[](array<long, M> const &indices) const\n",
      "            ^~~~~~~~\n",
      "/usr/local/lib/python3.6/site-packages/pythran/pythonic/include/types/ndarray.hpp:345:10: error:                 T& pythonic::types::ndarray<T, N>::operator[](const pythonic::types::array<long int, M>&)\n",
      "       T &operator[](array<long, N> const &indices);\n",
      "          ^~~~~~~~\n",
      "/usr/local/lib/python3.6/site-packages/pythran/pythonic/include/types/ndarray.hpp:343:16: error:                 const T& pythonic::types::ndarray<T, N>::operator[](const pythonic::types::array<long int, M>&) const\n",
      "       T const &operator[](array<long, N> const &indices) const;\n",
      "                ^~~~~~~~\n",
      "/usr/local/lib/python3.6/site-packages/pythran/pythonic/include/types/ndarray.hpp:341:12: error:                 decltype (std::move((*(pythonic::types::ndarray<T, N>*)this)).fast(i)) pythonic::types::ndarray<T, N>::operator[](long int) &&\n",
      "       auto operator[](long i) && -> decltype(std::move(*this).fast(i));\n",
      "            ^~~~~~~~\n",
      "/usr/local/lib/python3.6/site-packages/pythran/pythonic/include/types/ndarray.hpp:339:12: error:                 decltype (((const pythonic::types::ndarray<T, N>*)this)->pythonic::types::ndarray<T, N>::fast(i)) pythonic::types::ndarray<T, N>::operator[](long int) const &\n",
      "       auto operator[](long i) const & -> decltype(this->fast(i));\n",
      "            ^~~~~~~~\n",
      "In file included from /usr/local/lib/python3.6/site-packages/pythran/pythonic/operator_/add.hpp:7:0,\n",
      "                 from /usr/local/lib/python3.6/site-packages/pythran/pythonic/types/numpy_operators.hpp:7,\n",
      "                 from /usr/local/lib/python3.6/site-packages/pythran/pythonic/types/ndarray.hpp:1132,\n",
      "                 from /usr/local/lib/python3.6/site-packages/pythran/pythonic/numpy/reduce.hpp:6,\n",
      "                 from /usr/local/lib/python3.6/site-packages/pythran/pythonic/numpy/sum.hpp:5,\n",
      "                 from /var/folders/mw/nwq5qyg56fl585pb9jw81_qc0000gn/T/tmptxdnlb7v.cpp:16:\n",
      "/usr/local/lib/python3.6/site-packages/pythran/pythonic/operator_/lshift.hpp: In function 'bool pythonic::operator_::lshift(bool, bool)':\n",
      "/usr/local/lib/python3.6/site-packages/pythran/pythonic/operator_/lshift.hpp:21:48: warning: '<<' in boolean context, did you mean '<' ? [-Wint-in-bool-context]\n",
      "     DEFINE_ALL_OPERATOR_OVERLOADS_IMPL(lshift, << )\n",
      "/usr/local/lib/python3.6/site-packages/pythran/pythonic/operator_/overloads.hpp:9:14: note: in definition of macro 'PYTHONIC_OPERATOR_OVERLOAD_IMPL'\n",
      "     return a op b;                                                             \\\n",
      "              ^~\n",
      "/usr/local/lib/python3.6/site-packages/pythran/pythonic/operator_/lshift.hpp:21:5: note: in expansion of macro 'DEFINE_ALL_OPERATOR_OVERLOADS_IMPL'\n",
      "     DEFINE_ALL_OPERATOR_OVERLOADS_IMPL(lshift, << )\n",
      "     ^\n",
      "/usr/local/lib/python3.6/site-packages/pythran/pythonic/operator_/mul.hpp: In function 'bool pythonic::operator_::mul(bool, bool)':\n",
      "/usr/local/lib/python3.6/site-packages/pythran/pythonic/operator_/mul.hpp:21:45: warning: '*' in boolean context, suggest '&&' instead [-Wint-in-bool-context]\n",
      "     DEFINE_ALL_OPERATOR_OVERLOADS_IMPL(mul, *)\n",
      "/usr/local/lib/python3.6/site-packages/pythran/pythonic/operator_/overloads.hpp:9:14: note: in definition of macro 'PYTHONIC_OPERATOR_OVERLOAD_IMPL'\n",
      "     return a op b;                                                             \\\n",
      "              ^~\n",
      "/usr/local/lib/python3.6/site-packages/pythran/pythonic/operator_/mul.hpp:21:5: note: in expansion of macro 'DEFINE_ALL_OPERATOR_OVERLOADS_IMPL'\n",
      "     DEFINE_ALL_OPERATOR_OVERLOADS_IMPL(mul, *)\n",
      "     ^\n",
      "In file included from /usr/local/lib/python3.6/site-packages/pythran/pythonic/types/ndarray.hpp:38:0,\n",
      "                 from /usr/local/lib/python3.6/site-packages/pythran/pythonic/numpy/reduce.hpp:6,\n",
      "                 from /usr/local/lib/python3.6/site-packages/pythran/pythonic/numpy/sum.hpp:5,\n",
      "                 from /var/folders/mw/nwq5qyg56fl585pb9jw81_qc0000gn/T/tmptxdnlb7v.cpp:16:\n",
      "/usr/local/lib/python3.6/site-packages/pythran/pythonic/types/numpy_expr.hpp: In instantiation of 'pythonic::types::array<long int, M> pythonic::types::details::init_shape(const Args& ...) [with long unsigned int value = 1; Args = {pythonic::types::ndarray<double, 1>, pythonic::types::broadcast<double, double>}]':\n",
      "/usr/local/lib/python3.6/site-packages/pythran/pythonic/types/numpy_expr.hpp:41:59:   required from 'pythonic::types::numpy_expr<O, Args>::numpy_expr(const Args& ...) [with Op = pythonic::operator_::functor::add; Args = {pythonic::types::ndarray<double, 1>, pythonic::types::broadcast<double, double>}]'\n",
      "/usr/local/lib/python3.6/site-packages/pythran/pythonic/types/numpy_binary_op.hpp:16:22:   required from 'typename std::enable_if<pythonic::types::valid_numexpr_parameters<T0, T1>::value, pythonic::types::numpy_expr<pythonic::operator_::functor::add, typename pythonic::types::adapt_type<E0, E1>::type, typename pythonic::types::adapt_type<E1, E0>::type> >::type pythonic::types::operator+(const E0&, const E1&) [with E0 = pythonic::types::ndarray<double, 1>; E1 = double; typename std::enable_if<pythonic::types::valid_numexpr_parameters<T0, T1>::value, pythonic::types::numpy_expr<pythonic::operator_::functor::add, typename pythonic::types::adapt_type<E0, E1>::type, typename pythonic::types::adapt_type<E1, E0>::type> >::type = pythonic::types::numpy_expr<pythonic::operator_::functor::add, pythonic::types::ndarray<double, 1>, pythonic::types::broadcast<double, double> >]'\n",
      "/var/folders/mw/nwq5qyg56fl585pb9jw81_qc0000gn/T/tmptxdnlb7v.cpp:54:210:   required from 'typename __pythran_pythranized_98508de629426848c92640c864acc46c::pi_numpy_style_pythran::type<argument_type0>::result_type __pythran_pythranized_98508de629426848c92640c864acc46c::pi_numpy_style_pythran::operator()(const argument_type0&) const [with argument_type0 = long int; typename __pythran_pythranized_98508de629426848c92640c864acc46c::pi_numpy_style_pythran::type<argument_type0>::result_type = double]'\n",
      "/var/folders/mw/nwq5qyg56fl585pb9jw81_qc0000gn/T/tmptxdnlb7v.cpp:64:126:   required from here\n",
      "/usr/local/lib/python3.6/site-packages/pythran/pythonic/types/numpy_expr.hpp:22:27: warning: comparison between signed and unsigned integer expressions [-Wsign-compare]\n",
      "         for (int i = 0; i < value; ++i) {\n",
      "                         ~~^~~~~~~\n",
      "/usr/local/lib/python3.6/site-packages/pythran/pythonic/types/numpy_expr.hpp: In instantiation of 'pythonic::types::array<long int, M> pythonic::types::details::init_shape(const Args& ...) [with long unsigned int value = 1; Args = {pythonic::types::numpy_expr<pythonic::operator_::functor::add, pythonic::types::ndarray<double, 1>, pythonic::types::broadcast<double, double> >, pythonic::types::broadcast<double, double>}]':\n",
      "/usr/local/lib/python3.6/site-packages/pythran/pythonic/types/numpy_expr.hpp:41:59:   required from 'pythonic::types::numpy_expr<O, Args>::numpy_expr(const Args& ...) [with Op = pythonic::operator_::functor::mul; Args = {pythonic::types::numpy_expr<pythonic::operator_::functor::add, pythonic::types::ndarray<double, 1>, pythonic::types::broadcast<double, double> >, pythonic::types::broadcast<double, double>}]'\n",
      "/usr/local/lib/python3.6/site-packages/pythran/pythonic/types/numpy_binary_op.hpp:16:22:   required from 'typename std::enable_if<pythonic::types::valid_numexpr_parameters<T0, T1>::value, pythonic::types::numpy_expr<pythonic::operator_::functor::mul, typename pythonic::types::adapt_type<E0, E1>::type, typename pythonic::types::adapt_type<E1, E0>::type> >::type pythonic::types::operator*(const E0&, const E1&) [with E0 = pythonic::types::numpy_expr<pythonic::operator_::functor::add, pythonic::types::ndarray<double, 1>, pythonic::types::broadcast<double, double> >; E1 = double; typename std::enable_if<pythonic::types::valid_numexpr_parameters<T0, T1>::value, pythonic::types::numpy_expr<pythonic::operator_::functor::mul, typename pythonic::types::adapt_type<E0, E1>::type, typename pythonic::types::adapt_type<E1, E0>::type> >::type = pythonic::types::numpy_expr<pythonic::operator_::functor::mul, pythonic::types::numpy_expr<pythonic::operator_::functor::add, pythonic::types::ndarray<double, 1>, pythonic::types::broadcast<double, double> >, pythonic::types::broadcast<double, double> >]'\n",
      "/var/folders/mw/nwq5qyg56fl585pb9jw81_qc0000gn/T/tmptxdnlb7v.cpp:54:217:   required from 'typename __pythran_pythranized_98508de629426848c92640c864acc46c::pi_numpy_style_pythran::type<argument_type0>::result_type __pythran_pythranized_98508de629426848c92640c864acc46c::pi_numpy_style_pythran::operator()(const argument_type0&) const [with argument_type0 = long int; typename __pythran_pythranized_98508de629426848c92640c864acc46c::pi_numpy_style_pythran::type<argument_type0>::result_type = double]'\n",
      "/var/folders/mw/nwq5qyg56fl585pb9jw81_qc0000gn/T/tmptxdnlb7v.cpp:64:126:   required from here\n",
      "/usr/local/lib/python3.6/site-packages/pythran/pythonic/types/numpy_expr.hpp:22:27: warning: comparison between signed and unsigned integer expressions [-Wsign-compare]\n",
      "/usr/local/lib/python3.6/site-packages/pythran/pythonic/types/numpy_expr.hpp: In instantiation of 'pythonic::types::array<long int, M> pythonic::types::details::init_shape(const Args& ...) [with long unsigned int value = 1; Args = {pythonic::types::numpy_expr<pythonic::operator_::functor::mul, pythonic::types::numpy_expr<pythonic::operator_::functor::add, pythonic::types::ndarray<double, 1>, pythonic::types::broadcast<double, double> >, pythonic::types::broadcast<double, double> >}]':\n",
      "/usr/local/lib/python3.6/site-packages/pythran/pythonic/types/numpy_expr.hpp:41:59:   required from 'pythonic::types::numpy_expr<O, Args>::numpy_expr(const Args& ...) [with Op = pythonic::numpy::functor::square; Args = {pythonic::types::numpy_expr<pythonic::operator_::functor::mul, pythonic::types::numpy_expr<pythonic::operator_::functor::add, pythonic::types::ndarray<double, 1>, pythonic::types::broadcast<double, double> >, pythonic::types::broadcast<double, double> >}]'\n",
      "/usr/local/lib/python3.6/site-packages/pythran/pythonic/types/numpy_nary_expr.hpp:39:20:   required from 'typename std::enable_if<pythonic::types::valid_numexpr_parameters<Types>::value, pythonic::types::numpy_expr<pythonic::numpy::functor::square, typename pythonic::types::adapt_type<E, E ...>::type ...> >::type pythonic::numpy::functor::square::operator()(const E& ...) const [with E = {pythonic::types::numpy_expr<pythonic::operator_::functor::mul, pythonic::types::numpy_expr<pythonic::operator_::functor::add, pythonic::types::ndarray<double, 1>, pythonic::types::broadcast<double, double> >, pythonic::types::broadcast<double, double> >}; typename std::enable_if<pythonic::types::valid_numexpr_parameters<Types>::value, pythonic::types::numpy_expr<pythonic::numpy::functor::square, typename pythonic::types::adapt_type<E, E ...>::type ...> >::type = pythonic::types::numpy_expr<pythonic::numpy::functor::square, pythonic::types::numpy_expr<pythonic::operator_::functor::mul, pythonic::types::numpy_expr<pythonic::operator_::functor::add, pythonic::types::ndarray<double, 1>, pythonic::types::broadcast<double, double> >, pythonic::types::broadcast<double, double> > >]'\n",
      "/var/folders/mw/nwq5qyg56fl585pb9jw81_qc0000gn/T/tmptxdnlb7v.cpp:54:124:   required from 'typename __pythran_pythranized_98508de629426848c92640c864acc46c::pi_numpy_style_pythran::type<argument_type0>::result_type __pythran_pythranized_98508de629426848c92640c864acc46c::pi_numpy_style_pythran::operator()(const argument_type0&) const [with argument_type0 = long int; typename __pythran_pythranized_98508de629426848c92640c864acc46c::pi_numpy_style_pythran::type<argument_type0>::result_type = double]'\n",
      "/var/folders/mw/nwq5qyg56fl585pb9jw81_qc0000gn/T/tmptxdnlb7v.cpp:64:126:   required from here\n",
      "/usr/local/lib/python3.6/site-packages/pythran/pythonic/types/numpy_expr.hpp:22:27: warning: comparison between signed and unsigned integer expressions [-Wsign-compare]\n",
      "/usr/local/lib/python3.6/site-packages/pythran/pythonic/types/numpy_expr.hpp: In instantiation of 'pythonic::types::array<long int, M> pythonic::types::details::init_shape(const Args& ...) [with long unsigned int value = 1; Args = {pythonic::types::broadcast<double, double>, pythonic::types::numpy_expr<pythonic::numpy::functor::square, pythonic::types::numpy_expr<pythonic::operator_::functor::mul, pythonic::types::numpy_expr<pythonic::operator_::functor::add, pythonic::types::ndarray<double, 1>, pythonic::types::broadcast<double, double> >, pythonic::types::broadcast<double, double> > >}]':\n",
      "/usr/local/lib/python3.6/site-packages/pythran/pythonic/types/numpy_expr.hpp:41:59:   required from 'pythonic::types::numpy_expr<O, Args>::numpy_expr(const Args& ...) [with Op = pythonic::operator_::functor::add; Args = {pythonic::types::broadcast<double, double>, pythonic::types::numpy_expr<pythonic::numpy::functor::square, pythonic::types::numpy_expr<pythonic::operator_::functor::mul, pythonic::types::numpy_expr<pythonic::operator_::functor::add, pythonic::types::ndarray<double, 1>, pythonic::types::broadcast<double, double> >, pythonic::types::broadcast<double, double> > >}]'\n",
      "/usr/local/lib/python3.6/site-packages/pythran/pythonic/types/numpy_binary_op.hpp:16:22:   required from 'typename std::enable_if<pythonic::types::valid_numexpr_parameters<T0, T1>::value, pythonic::types::numpy_expr<pythonic::operator_::functor::add, typename pythonic::types::adapt_type<E0, E1>::type, typename pythonic::types::adapt_type<E1, E0>::type> >::type pythonic::types::operator+(const E0&, const E1&) [with E0 = double; E1 = pythonic::types::numpy_expr<pythonic::numpy::functor::square, pythonic::types::numpy_expr<pythonic::operator_::functor::mul, pythonic::types::numpy_expr<pythonic::operator_::functor::add, pythonic::types::ndarray<double, 1>, pythonic::types::broadcast<double, double> >, pythonic::types::broadcast<double, double> > >; typename std::enable_if<pythonic::types::valid_numexpr_parameters<T0, T1>::value, pythonic::types::numpy_expr<pythonic::operator_::functor::add, typename pythonic::types::adapt_type<E0, E1>::type, typename pythonic::types::adapt_type<E1, E0>::type> >::type = pythonic::types::numpy_expr<pythonic::operator_::functor::add, pythonic::types::broadcast<double, double>, pythonic::types::numpy_expr<pythonic::numpy::functor::square, pythonic::types::numpy_expr<pythonic::operator_::functor::mul, pythonic::types::numpy_expr<pythonic::operator_::functor::add, pythonic::types::ndarray<double, 1>, pythonic::types::broadcast<double, double> >, pythonic::types::broadcast<double, double> > > >]'\n",
      "/var/folders/mw/nwq5qyg56fl585pb9jw81_qc0000gn/T/tmptxdnlb7v.cpp:54:88:   required from 'typename __pythran_pythranized_98508de629426848c92640c864acc46c::pi_numpy_style_pythran::type<argument_type0>::result_type __pythran_pythranized_98508de629426848c92640c864acc46c::pi_numpy_style_pythran::operator()(const argument_type0&) const [with argument_type0 = long int; typename __pythran_pythranized_98508de629426848c92640c864acc46c::pi_numpy_style_pythran::type<argument_type0>::result_type = double]'\n",
      "/var/folders/mw/nwq5qyg56fl585pb9jw81_qc0000gn/T/tmptxdnlb7v.cpp:64:126:   required from here\n",
      "/usr/local/lib/python3.6/site-packages/pythran/pythonic/types/numpy_expr.hpp:22:27: warning: comparison between signed and unsigned integer expressions [-Wsign-compare]\n",
      "/usr/local/lib/python3.6/site-packages/pythran/pythonic/types/numpy_expr.hpp: In instantiation of 'pythonic::types::array<long int, M> pythonic::types::details::init_shape(const Args& ...) [with long unsigned int value = 1; Args = {pythonic::types::broadcast<double, double>, pythonic::types::numpy_expr<pythonic::operator_::functor::add, pythonic::types::broadcast<double, double>, pythonic::types::numpy_expr<pythonic::numpy::functor::square, pythonic::types::numpy_expr<pythonic::operator_::functor::mul, pythonic::types::numpy_expr<pythonic::operator_::functor::add, pythonic::types::ndarray<double, 1>, pythonic::types::broadcast<double, double> >, pythonic::types::broadcast<double, double> > > >}]':\n",
      "/usr/local/lib/python3.6/site-packages/pythran/pythonic/types/numpy_expr.hpp:41:59:   required from 'pythonic::types::numpy_expr<O, Args>::numpy_expr(const Args& ...) [with Op = pythonic::operator_::functor::div; Args = {pythonic::types::broadcast<double, double>, pythonic::types::numpy_expr<pythonic::operator_::functor::add, pythonic::types::broadcast<double, double>, pythonic::types::numpy_expr<pythonic::numpy::functor::square, pythonic::types::numpy_expr<pythonic::operator_::functor::mul, pythonic::types::numpy_expr<pythonic::operator_::functor::add, pythonic::types::ndarray<double, 1>, pythonic::types::broadcast<double, double> >, pythonic::types::broadcast<double, double> > > >}]'\n",
      "/usr/local/lib/python3.6/site-packages/pythran/pythonic/types/numpy_binary_op.hpp:16:22:   required from 'typename std::enable_if<pythonic::types::valid_numexpr_parameters<T0, T1>::value, pythonic::types::numpy_expr<pythonic::operator_::functor::div, typename pythonic::types::adapt_type<E0, E1>::type, typename pythonic::types::adapt_type<E1, E0>::type> >::type pythonic::types::operator/(const E0&, const E1&) [with E0 = double; E1 = pythonic::types::numpy_expr<pythonic::operator_::functor::add, pythonic::types::broadcast<double, double>, pythonic::types::numpy_expr<pythonic::numpy::functor::square, pythonic::types::numpy_expr<pythonic::operator_::functor::mul, pythonic::types::numpy_expr<pythonic::operator_::functor::add, pythonic::types::ndarray<double, 1>, pythonic::types::broadcast<double, double> >, pythonic::types::broadcast<double, double> > > >; typename std::enable_if<pythonic::types::valid_numexpr_parameters<T0, T1>::value, pythonic::types::numpy_expr<pythonic::operator_::functor::div, typename pythonic::types::adapt_type<E0, E1>::type, typename pythonic::types::adapt_type<E1, E0>::type> >::type = pythonic::types::numpy_expr<pythonic::operator_::functor::div, pythonic::types::broadcast<double, double>, pythonic::types::numpy_expr<pythonic::operator_::functor::add, pythonic::types::broadcast<double, double>, pythonic::types::numpy_expr<pythonic::numpy::functor::square, pythonic::types::numpy_expr<pythonic::operator_::functor::mul, pythonic::types::numpy_expr<pythonic::operator_::functor::add, pythonic::types::ndarray<double, 1>, pythonic::types::broadcast<double, double> >, pythonic::types::broadcast<double, double> > > > >]'\n",
      "/usr/local/lib/python3.6/site-packages/pythran/pythonic/operator_/div.hpp:22:16:   required from 'typename std::enable_if<((! std::is_fundamental<_Tp>::value) || (! std::is_fundamental<T1>::value)), decltype ((a / b))>::type pythonic::operator_::div(const A&, const B&) [with A = double; B = pythonic::types::numpy_expr<pythonic::operator_::functor::add, pythonic::types::broadcast<double, double>, pythonic::types::numpy_expr<pythonic::numpy::functor::square, pythonic::types::numpy_expr<pythonic::operator_::functor::mul, pythonic::types::numpy_expr<pythonic::operator_::functor::add, pythonic::types::ndarray<double, 1>, pythonic::types::broadcast<double, double> >, pythonic::types::broadcast<double, double> > > >; typename std::enable_if<((! std::is_fundamental<_Tp>::value) || (! std::is_fundamental<T1>::value)), decltype ((a / b))>::type = pythonic::types::numpy_expr<pythonic::operator_::functor::div, pythonic::types::broadcast<double, double>, pythonic::types::numpy_expr<pythonic::operator_::functor::add, pythonic::types::broadcast<double, double>, pythonic::types::numpy_expr<pythonic::numpy::functor::square, pythonic::types::numpy_expr<pythonic::operator_::functor::mul, pythonic::types::numpy_expr<pythonic::operator_::functor::add, pythonic::types::ndarray<double, 1>, pythonic::types::broadcast<double, double> >, pythonic::types::broadcast<double, double> > > > >]'\n",
      "/var/folders/mw/nwq5qyg56fl585pb9jw81_qc0000gn/T/tmptxdnlb7v.cpp:54:77:   required from 'typename __pythran_pythranized_98508de629426848c92640c864acc46c::pi_numpy_style_pythran::type<argument_type0>::result_type __pythran_pythranized_98508de629426848c92640c864acc46c::pi_numpy_style_pythran::operator()(const argument_type0&) const [with argument_type0 = long int; typename __pythran_pythranized_98508de629426848c92640c864acc46c::pi_numpy_style_pythran::type<argument_type0>::result_type = double]'\n",
      "/var/folders/mw/nwq5qyg56fl585pb9jw81_qc0000gn/T/tmptxdnlb7v.cpp:64:126:   required from here\n",
      "/usr/local/lib/python3.6/site-packages/pythran/pythonic/types/numpy_expr.hpp:22:27: warning: comparison between signed and unsigned integer expressions [-Wsign-compare]\n",
      "In file included from /usr/local/lib/python3.6/site-packages/pythran/pythonic/include/types/ndarray.hpp:17:0,\n",
      "                 from /usr/local/lib/python3.6/site-packages/pythran/pythonic/include/numpy/reduce.hpp:4,\n",
      "                 from /usr/local/lib/python3.6/site-packages/pythran/pythonic/include/numpy/sum.hpp:4,\n",
      "                 from /var/folders/mw/nwq5qyg56fl585pb9jw81_qc0000gn/T/tmptxdnlb7v.cpp:11:\n",
      "/usr/local/lib/python3.6/site-packages/pythran/pythonic/types/raw_array.hpp: In instantiation of 'pythonic::types::raw_array<T>::raw_array(size_t) [with T = double; size_t = long unsigned int]':\n",
      "/usr/local/lib/python3.6/site-packages/pythran/pythonic/utils/shared_ref.hpp:26:71:   required from 'pythonic::utils::shared_ref<T>::memory::memory(Types&& ...) [with Types = {int}; T = pythonic::types::raw_array<double>]'\n",
      "/usr/local/lib/python3.6/site-packages/pythran/pythonic/utils/shared_ref.hpp:43:15:   required from 'pythonic::utils::shared_ref<T>::shared_ref(Types&& ...) [with Types = {int}; T = pythonic::types::raw_array<double>]'\n",
      "/usr/local/lib/python3.6/site-packages/pythran/pythonic/types/ndarray.hpp:306:73:   required from 'pythonic::types::ndarray<T, N>::ndarray(const pythonic::types::array<long int, M>&, pythonic::types::none_type) [with T = double; long unsigned int N = 1]'\n",
      "/usr/local/lib/python3.6/site-packages/pythran/pythonic/numpy/arange.hpp:20:28:   required from 'pythonic::types::ndarray<typename dtype::type, 1> pythonic::numpy::arange(T, U, S, dtype) [with T = long int; U = long int; S = long int; dtype = pythonic::numpy::functor::float64; typename dtype::type = double]'\n",
      "/usr/local/lib/python3.6/site-packages/pythran/pythonic/numpy/arange.hpp:38:5:   required from 'decltype (pythonic::numpy::arange((forward<Types>)(pythonic::numpy::functor::arange::operator()::types)...)) pythonic::numpy::functor::arange::operator()(Types&& ...) const [with Types = {long int, const long int&, long int, pythonic::numpy::functor::float64}; decltype (pythonic::numpy::arange((forward<Types>)(pythonic::numpy::functor::arange::operator()::types)...)) = pythonic::types::ndarray<double, 1>]'\n",
      "/var/folders/mw/nwq5qyg56fl585pb9jw81_qc0000gn/T/tmptxdnlb7v.cpp:54:161:   required from 'typename __pythran_pythranized_98508de629426848c92640c864acc46c::pi_numpy_style_pythran::type<argument_type0>::result_type __pythran_pythranized_98508de629426848c92640c864acc46c::pi_numpy_style_pythran::operator()(const argument_type0&) const [with argument_type0 = long int; typename __pythran_pythranized_98508de629426848c92640c864acc46c::pi_numpy_style_pythran::type<argument_type0>::result_type = double]'\n",
      "/var/folders/mw/nwq5qyg56fl585pb9jw81_qc0000gn/T/tmptxdnlb7v.cpp:64:126:   required from here\n",
      "/usr/local/lib/python3.6/site-packages/pythran/pythonic/include/types/raw_array.hpp:26:10: warning: 'pythonic::types::raw_array<double>::data' will be initialized after [-Wreorder]\n",
      "       T *data;\n",
      "          ^~~~\n",
      "/usr/local/lib/python3.6/site-packages/pythran/pythonic/include/types/raw_array.hpp:21:12: warning:   'bool pythonic::types::raw_array<double>::external' [-Wreorder]\n",
      "       bool external;\n",
      "            ^~~~~~~~\n",
      "In file included from /usr/local/lib/python3.6/site-packages/pythran/pythonic/types/ndarray.hpp:19:0,\n",
      "                 from /usr/local/lib/python3.6/site-packages/pythran/pythonic/numpy/reduce.hpp:6,\n",
      "                 from /usr/local/lib/python3.6/site-packages/pythran/pythonic/numpy/sum.hpp:5,\n",
      "                 from /var/folders/mw/nwq5qyg56fl585pb9jw81_qc0000gn/T/tmptxdnlb7v.cpp:16:\n",
      "/usr/local/lib/python3.6/site-packages/pythran/pythonic/types/raw_array.hpp:22:5: warning:   when initialized here [-Wreorder]\n",
      "     raw_array<T>::raw_array(size_t n)\n"
     ]
    },
    {
     "name": "stdout",
     "output_type": "stream",
     "text": [
      "     ^~~~~~~~~~~~\n",
      "In file included from /usr/local/lib/python3.6/site-packages/pythran/pythonic/types/ndarray.hpp:37:0,\n",
      "                 from /usr/local/lib/python3.6/site-packages/pythran/pythonic/numpy/reduce.hpp:6,\n",
      "                 from /usr/local/lib/python3.6/site-packages/pythran/pythonic/numpy/sum.hpp:5,\n",
      "                 from /var/folders/mw/nwq5qyg56fl585pb9jw81_qc0000gn/T/tmptxdnlb7v.cpp:16:\n",
      "/usr/local/lib/python3.6/site-packages/pythran/pythonic/types/numpy_fexpr.hpp:203:10: error: prototype for 'decltype (((const pythonic::types::numpy_fexpr<A, F>*)this)->pythonic::types::numpy_fexpr<A, F>::fast(i)) pythonic::types::numpy_fexpr<A, F>::operator[](long int) const' does not match any in class 'pythonic::types::numpy_fexpr<A, F>'\n",
      "     auto numpy_fexpr<Arg, F>::operator[](long i) const\n",
      "          ^~~~~~~~~~~~~~~~~~~\n",
      "In file included from /usr/local/lib/python3.6/site-packages/pythran/pythonic/include/types/ndarray.hpp:35:0,\n",
      "                 from /usr/local/lib/python3.6/site-packages/pythran/pythonic/include/numpy/reduce.hpp:4,\n",
      "                 from /usr/local/lib/python3.6/site-packages/pythran/pythonic/include/numpy/sum.hpp:4,\n",
      "                 from /var/folders/mw/nwq5qyg56fl585pb9jw81_qc0000gn/T/tmptxdnlb7v.cpp:11:\n",
      "/usr/local/lib/python3.6/site-packages/pythran/pythonic/include/types/numpy_fexpr.hpp:123:7: error: candidates are: template<class Arg, class F> template<class E> typename std::enable_if<pythonic::types::is_numexpr_arg<E>::value, pythonic::types::numpy_fexpr<pythonic::types::numpy_fexpr<A, F>, E> >::type pythonic::types::numpy_fexpr<A, F>::operator[](const E&) const\n",
      "       operator[](E const &expr) const;\n",
      "       ^~~~~~~~\n",
      "/usr/local/lib/python3.6/site-packages/pythran/pythonic/include/types/numpy_fexpr.hpp:113:12: error:                 decltype (((pythonic::types::numpy_fexpr<A, F>*)this)->pythonic::types::numpy_fexpr<A, F>::fast(i)) pythonic::types::numpy_fexpr<A, F>::operator[](long int)\n",
      "       auto operator[](long i) -> decltype(this->fast(i));\n",
      "            ^~~~~~~~\n",
      "/usr/local/lib/python3.6/site-packages/pythran/pythonic/include/types/numpy_fexpr.hpp:112:12: error:                 decltype (((const pythonic::types::numpy_fexpr<A, F>*)this)->pythonic::types::numpy_fexpr<A, F>::fast(i)) pythonic::types::numpy_fexpr<A, F>::operator[](long int) const\n",
      "       auto operator[](long i) const -> decltype(this->fast(i));\n",
      "            ^~~~~~~~\n",
      "In file included from /usr/local/lib/python3.6/site-packages/pythran/pythonic/types/ndarray.hpp:37:0,\n",
      "                 from /usr/local/lib/python3.6/site-packages/pythran/pythonic/numpy/reduce.hpp:6,\n",
      "                 from /usr/local/lib/python3.6/site-packages/pythran/pythonic/numpy/sum.hpp:5,\n",
      "                 from /var/folders/mw/nwq5qyg56fl585pb9jw81_qc0000gn/T/tmptxdnlb7v.cpp:16:\n",
      "/usr/local/lib/python3.6/site-packages/pythran/pythonic/types/numpy_fexpr.hpp:212:10: error: prototype for 'decltype (((pythonic::types::numpy_fexpr<A, F>*)this)->pythonic::types::numpy_fexpr<A, F>::fast(i)) pythonic::types::numpy_fexpr<A, F>::operator[](long int)' does not match any in class 'pythonic::types::numpy_fexpr<A, F>'\n",
      "     auto numpy_fexpr<Arg, F>::operator[](long i) -> decltype(this->fast(i))\n",
      "          ^~~~~~~~~~~~~~~~~~~\n",
      "In file included from /usr/local/lib/python3.6/site-packages/pythran/pythonic/include/types/ndarray.hpp:35:0,\n",
      "                 from /usr/local/lib/python3.6/site-packages/pythran/pythonic/include/numpy/reduce.hpp:4,\n",
      "                 from /usr/local/lib/python3.6/site-packages/pythran/pythonic/include/numpy/sum.hpp:4,\n",
      "                 from /var/folders/mw/nwq5qyg56fl585pb9jw81_qc0000gn/T/tmptxdnlb7v.cpp:11:\n",
      "/usr/local/lib/python3.6/site-packages/pythran/pythonic/include/types/numpy_fexpr.hpp:123:7: error: candidates are: template<class Arg, class F> template<class E> typename std::enable_if<pythonic::types::is_numexpr_arg<E>::value, pythonic::types::numpy_fexpr<pythonic::types::numpy_fexpr<A, F>, E> >::type pythonic::types::numpy_fexpr<A, F>::operator[](const E&) const\n",
      "       operator[](E const &expr) const;\n",
      "       ^~~~~~~~\n",
      "/usr/local/lib/python3.6/site-packages/pythran/pythonic/include/types/numpy_fexpr.hpp:113:12: error:                 decltype (((pythonic::types::numpy_fexpr<A, F>*)this)->pythonic::types::numpy_fexpr<A, F>::fast(i)) pythonic::types::numpy_fexpr<A, F>::operator[](long int)\n",
      "       auto operator[](long i) -> decltype(this->fast(i));\n",
      "            ^~~~~~~~\n",
      "/usr/local/lib/python3.6/site-packages/pythran/pythonic/include/types/numpy_fexpr.hpp:112:12: error:                 decltype (((const pythonic::types::numpy_fexpr<A, F>*)this)->pythonic::types::numpy_fexpr<A, F>::fast(i)) pythonic::types::numpy_fexpr<A, F>::operator[](long int) const\n",
      "       auto operator[](long i) const -> decltype(this->fast(i));\n",
      "            ^~~~~~~~\n",
      "In file included from /usr/local/lib/python3.6/site-packages/pythran/pythonic/types/ndarray.hpp:38:0,\n",
      "                 from /usr/local/lib/python3.6/site-packages/pythran/pythonic/numpy/reduce.hpp:6,\n",
      "                 from /usr/local/lib/python3.6/site-packages/pythran/pythonic/numpy/sum.hpp:5,\n",
      "                 from /var/folders/mw/nwq5qyg56fl585pb9jw81_qc0000gn/T/tmptxdnlb7v.cpp:16:\n",
      "/usr/local/lib/python3.6/site-packages/pythran/pythonic/types/numpy_expr.hpp:181:10: error: prototype for 'decltype (((const pythonic::types::numpy_expr<O, Args>*)this)->pythonic::types::numpy_expr<O, Args>::fast(i)) pythonic::types::numpy_expr<O, Args>::operator[](long int) const' does not match any in class 'pythonic::types::numpy_expr<O, Args>'\n",
      "     auto numpy_expr<Op, Args...>::operator[](long i) const\n",
      "          ^~~~~~~~~~~~~~~~~~~~~~~\n",
      "In file included from /usr/local/lib/python3.6/site-packages/pythran/pythonic/include/types/ndarray.hpp:36:0,\n",
      "                 from /usr/local/lib/python3.6/site-packages/pythran/pythonic/include/numpy/reduce.hpp:4,\n",
      "                 from /usr/local/lib/python3.6/site-packages/pythran/pythonic/include/numpy/sum.hpp:4,\n",
      "                 from /var/folders/mw/nwq5qyg56fl585pb9jw81_qc0000gn/T/tmptxdnlb7v.cpp:11:\n",
      "/usr/local/lib/python3.6/site-packages/pythran/pythonic/include/types/numpy_expr.hpp:541:7: error: candidates are: template<class Op, class ... Args> template<class F> typename std::enable_if<pythonic::types::is_numexpr_arg<E>::value, pythonic::types::numpy_fexpr<pythonic::types::numpy_expr<O, Args>, F> >::type pythonic::types::numpy_expr<O, Args>::operator[](const F&) const\n",
      "       operator[](F const &filter) const;\n",
      "       ^~~~~~~~\n",
      "/usr/local/lib/python3.6/site-packages/pythran/pythonic/include/types/numpy_expr.hpp:472:12: error:                 decltype (((const pythonic::types::numpy_expr<O, Args>*)this)->pythonic::types::numpy_expr<O, Args>::fast(i)) pythonic::types::numpy_expr<O, Args>::operator[](long int) const\n",
      "       auto operator[](long i) const -> decltype(this->fast(i));\n",
      "            ^~~~~~~~\n",
      "In file included from /usr/local/lib/python3.6/site-packages/pythran/pythonic/types/ndarray.hpp:39:0,\n",
      "                 from /usr/local/lib/python3.6/site-packages/pythran/pythonic/numpy/reduce.hpp:6,\n",
      "                 from /usr/local/lib/python3.6/site-packages/pythran/pythonic/numpy/sum.hpp:5,\n",
      "                 from /var/folders/mw/nwq5qyg56fl585pb9jw81_qc0000gn/T/tmptxdnlb7v.cpp:16:\n",
      "/usr/local/lib/python3.6/site-packages/pythran/pythonic/types/numpy_texpr.hpp:102:10: error: prototype for 'decltype (((const pythonic::types::numpy_texpr_2<A>*)this)->pythonic::types::numpy_texpr_2<A>::fast(i)) pythonic::types::numpy_texpr_2<A>::operator[](long int) const' does not match any in class 'pythonic::types::numpy_texpr_2<A>'\n",
      "     auto numpy_texpr_2<E>::operator[](long i) const -> decltype(this->fast(i))\n",
      "          ^~~~~~~~~~~~~~~~\n",
      "In file included from /usr/local/lib/python3.6/site-packages/pythran/pythonic/include/types/ndarray.hpp:37:0,\n",
      "                 from /usr/local/lib/python3.6/site-packages/pythran/pythonic/include/numpy/reduce.hpp:4,\n",
      "                 from /usr/local/lib/python3.6/site-packages/pythran/pythonic/include/numpy/sum.hpp:4,\n",
      "                 from /var/folders/mw/nwq5qyg56fl585pb9jw81_qc0000gn/T/tmptxdnlb7v.cpp:11:\n",
      "/usr/local/lib/python3.6/site-packages/pythran/pythonic/include/types/numpy_texpr.hpp:127:7: error: candidates are: template<class E> template<class F> typename std::enable_if<(pythonic::types::is_numexpr_arg<E>::value && (! std::is_same<bool, typename F::dtype>::value)), pythonic::types::ndarray<typename E::dtype, 2> >::type pythonic::types::numpy_texpr_2<A>::operator[](const F&) const\n",
      "       operator[](F const &filter) const;\n",
      "       ^~~~~~~~\n",
      "/usr/local/lib/python3.6/site-packages/pythran/pythonic/include/types/numpy_texpr.hpp:120:7: error:                 template<class E> template<class F> typename std::enable_if<(pythonic::types::is_numexpr_arg<E>::value && std::is_same<bool, typename F::dtype>::value), pythonic::types::numpy_fexpr<pythonic::types::numpy_texpr_2<A>, F> >::type pythonic::types::numpy_texpr_2<A>::operator[](const F&) const\n",
      "       operator[](F const &filter) const;\n",
      "       ^~~~~~~~\n",
      "/usr/local/lib/python3.6/site-packages/pythran/pythonic/include/types/numpy_texpr.hpp:104:12: error:                 decltype (((pythonic::types::numpy_texpr_2<A>*)this)->arg(pythonic::types::contiguous_slice(pythonic::__builtin__::None, pythonic::__builtin__::None), s0)) pythonic::types::numpy_texpr_2<A>::operator[](const pythonic::types::slice&)\n",
      "       auto operator[](slice const &s0)\n",
      "            ^~~~~~~~\n",
      "/usr/local/lib/python3.6/site-packages/pythran/pythonic/include/types/numpy_texpr.hpp:100:12: error:                 decltype (((const pythonic::types::numpy_texpr_2<A>*)this)->arg(pythonic::types::contiguous_slice(pythonic::__builtin__::None, pythonic::__builtin__::None), s0)) pythonic::types::numpy_texpr_2<A>::operator[](const pythonic::types::slice&) const\n",
      "       auto operator[](slice const &s0) const\n",
      "            ^~~~~~~~\n",
      "/usr/local/lib/python3.6/site-packages/pythran/pythonic/include/types/numpy_texpr.hpp:96:12: error:                 decltype (((pythonic::types::numpy_texpr_2<A>*)this)->arg(pythonic::types::contiguous_slice(pythonic::__builtin__::None, pythonic::__builtin__::None), s0)) pythonic::types::numpy_texpr_2<A>::operator[](const pythonic::types::contiguous_slice&)\n",
      "       auto operator[](contiguous_slice const &s0)\n",
      "            ^~~~~~~~\n",
      "/usr/local/lib/python3.6/site-packages/pythran/pythonic/include/types/numpy_texpr.hpp:92:12: error:                 decltype (((const pythonic::types::numpy_texpr_2<A>*)this)->arg(pythonic::types::contiguous_slice(pythonic::__builtin__::None, pythonic::__builtin__::None), s0)) pythonic::types::numpy_texpr_2<A>::operator[](const pythonic::types::contiguous_slice&) const\n",
      "       auto operator[](contiguous_slice const &s0) const\n",
      "            ^~~~~~~~\n",
      "/usr/local/lib/python3.6/site-packages/pythran/pythonic/include/types/numpy_texpr.hpp:89:12: error:                 template<class E> template<class ... Tys> decltype (((const pythonic::types::numpy_texpr_2<A>*)this)->pythonic::types::numpy_texpr_2<A>::arg[pythonic::types::array<long int, 2>{{get<1>(indices), get<0>(indices)}}]) pythonic::types::numpy_texpr_2<A>::operator[](const std::tuple<_Args1 ...>&) const\n",
      "       auto operator[](std::tuple<Tys...> const &indices) const -> decltype(\n",
      "            ^~~~~~~~\n",
      "/usr/local/lib/python3.6/site-packages/pythran/pythonic/include/types/numpy_texpr.hpp:86:12: error:                 template<class E> template<class ... Tys> decltype (((pythonic::types::numpy_texpr_2<A>*)this)->pythonic::types::numpy_texpr_2<A>::arg[pythonic::types::array<long int, 2>{{get<1>(indices), get<0>(indices)}}]) pythonic::types::numpy_texpr_2<A>::operator[](const std::tuple<_Args1 ...>&)\n",
      "       auto operator[](std::tuple<Tys...> const &indices) -> decltype(\n",
      "            ^~~~~~~~\n",
      "/usr/local/lib/python3.6/site-packages/pythran/pythonic/include/types/numpy_texpr.hpp:83:12: error:                 decltype (((const pythonic::types::numpy_texpr_2<A>*)this)->pythonic::types::numpy_texpr_2<A>::arg[pythonic::types::array<long int, 2>{{indices[1], indices[0]}}]) pythonic::types::numpy_texpr_2<A>::operator[](const pythonic::types::array<long int, pythonic::types::numpy_texpr_2<A>::value>&) const\n",
      "       auto operator[](array<long, value> const &indices) const\n",
      "            ^~~~~~~~\n",
      "/usr/local/lib/python3.6/site-packages/pythran/pythonic/include/types/numpy_texpr.hpp:81:12: error:                 decltype (((pythonic::types::numpy_texpr_2<A>*)this)->pythonic::types::numpy_texpr_2<A>::arg[pythonic::types::array<long int, 2>{{indices[1], indices[0]}}]) pythonic::types::numpy_texpr_2<A>::operator[](const pythonic::types::array<long int, pythonic::types::numpy_texpr_2<A>::value>&)\n",
      "       auto operator[](array<long, value> const &indices)\n",
      "            ^~~~~~~~\n",
      "/usr/local/lib/python3.6/site-packages/pythran/pythonic/include/types/numpy_texpr.hpp:80:12: error:                 decltype (((pythonic::types::numpy_texpr_2<A>*)this)->pythonic::types::numpy_texpr_2<A>::fast(i)) pythonic::types::numpy_texpr_2<A>::operator[](long int)\n",
      "       auto operator[](long i) -> decltype(this->fast(i));\n",
      "            ^~~~~~~~\n",
      "/usr/local/lib/python3.6/site-packages/pythran/pythonic/include/types/numpy_texpr.hpp:79:12: error:                 decltype (((const pythonic::types::numpy_texpr_2<A>*)this)->pythonic::types::numpy_texpr_2<A>::fast(i)) pythonic::types::numpy_texpr_2<A>::operator[](long int) const\n",
      "       auto operator[](long i) const -> decltype(this->fast(i));\n",
      "            ^~~~~~~~\n",
      "In file included from /usr/local/lib/python3.6/site-packages/pythran/pythonic/types/ndarray.hpp:39:0,\n",
      "                 from /usr/local/lib/python3.6/site-packages/pythran/pythonic/numpy/reduce.hpp:6,\n",
      "                 from /usr/local/lib/python3.6/site-packages/pythran/pythonic/numpy/sum.hpp:5,\n",
      "                 from /var/folders/mw/nwq5qyg56fl585pb9jw81_qc0000gn/T/tmptxdnlb7v.cpp:16:\n",
      "/usr/local/lib/python3.6/site-packages/pythran/pythonic/types/numpy_texpr.hpp:110:10: error: prototype for 'decltype (((pythonic::types::numpy_texpr_2<A>*)this)->pythonic::types::numpy_texpr_2<A>::fast(i)) pythonic::types::numpy_texpr_2<A>::operator[](long int)' does not match any in class 'pythonic::types::numpy_texpr_2<A>'\n",
      "     auto numpy_texpr_2<E>::operator[](long i) -> decltype(this->fast(i))\n",
      "          ^~~~~~~~~~~~~~~~\n",
      "In file included from /usr/local/lib/python3.6/site-packages/pythran/pythonic/include/types/ndarray.hpp:37:0,\n",
      "                 from /usr/local/lib/python3.6/site-packages/pythran/pythonic/include/numpy/reduce.hpp:4,\n",
      "                 from /usr/local/lib/python3.6/site-packages/pythran/pythonic/include/numpy/sum.hpp:4,\n",
      "                 from /var/folders/mw/nwq5qyg56fl585pb9jw81_qc0000gn/T/tmptxdnlb7v.cpp:11:\n",
      "/usr/local/lib/python3.6/site-packages/pythran/pythonic/include/types/numpy_texpr.hpp:127:7: error: candidates are: template<class E> template<class F> typename std::enable_if<(pythonic::types::is_numexpr_arg<E>::value && (! std::is_same<bool, typename F::dtype>::value)), pythonic::types::ndarray<typename E::dtype, 2> >::type pythonic::types::numpy_texpr_2<A>::operator[](const F&) const\n",
      "       operator[](F const &filter) const;\n",
      "       ^~~~~~~~\n",
      "/usr/local/lib/python3.6/site-packages/pythran/pythonic/include/types/numpy_texpr.hpp:120:7: error:                 template<class E> template<class F> typename std::enable_if<(pythonic::types::is_numexpr_arg<E>::value && std::is_same<bool, typename F::dtype>::value), pythonic::types::numpy_fexpr<pythonic::types::numpy_texpr_2<A>, F> >::type pythonic::types::numpy_texpr_2<A>::operator[](const F&) const\n",
      "       operator[](F const &filter) const;\n",
      "       ^~~~~~~~\n",
      "/usr/local/lib/python3.6/site-packages/pythran/pythonic/include/types/numpy_texpr.hpp:104:12: error:                 decltype (((pythonic::types::numpy_texpr_2<A>*)this)->arg(pythonic::types::contiguous_slice(pythonic::__builtin__::None, pythonic::__builtin__::None), s0)) pythonic::types::numpy_texpr_2<A>::operator[](const pythonic::types::slice&)\n",
      "       auto operator[](slice const &s0)\n",
      "            ^~~~~~~~\n",
      "/usr/local/lib/python3.6/site-packages/pythran/pythonic/include/types/numpy_texpr.hpp:100:12: error:                 decltype (((const pythonic::types::numpy_texpr_2<A>*)this)->arg(pythonic::types::contiguous_slice(pythonic::__builtin__::None, pythonic::__builtin__::None), s0)) pythonic::types::numpy_texpr_2<A>::operator[](const pythonic::types::slice&) const\n",
      "       auto operator[](slice const &s0) const\n",
      "            ^~~~~~~~\n",
      "/usr/local/lib/python3.6/site-packages/pythran/pythonic/include/types/numpy_texpr.hpp:96:12: error:                 decltype (((pythonic::types::numpy_texpr_2<A>*)this)->arg(pythonic::types::contiguous_slice(pythonic::__builtin__::None, pythonic::__builtin__::None), s0)) pythonic::types::numpy_texpr_2<A>::operator[](const pythonic::types::contiguous_slice&)\n",
      "       auto operator[](contiguous_slice const &s0)\n",
      "            ^~~~~~~~\n",
      "/usr/local/lib/python3.6/site-packages/pythran/pythonic/include/types/numpy_texpr.hpp:92:12: error:                 decltype (((const pythonic::types::numpy_texpr_2<A>*)this)->arg(pythonic::types::contiguous_slice(pythonic::__builtin__::None, pythonic::__builtin__::None), s0)) pythonic::types::numpy_texpr_2<A>::operator[](const pythonic::types::contiguous_slice&) const\n",
      "       auto operator[](contiguous_slice const &s0) const\n",
      "            ^~~~~~~~\n",
      "/usr/local/lib/python3.6/site-packages/pythran/pythonic/include/types/numpy_texpr.hpp:89:12: error:                 template<class E> template<class ... Tys> decltype (((const pythonic::types::numpy_texpr_2<A>*)this)->pythonic::types::numpy_texpr_2<A>::arg[pythonic::types::array<long int, 2>{{get<1>(indices), get<0>(indices)}}]) pythonic::types::numpy_texpr_2<A>::operator[](const std::tuple<_Args1 ...>&) const\n",
      "       auto operator[](std::tuple<Tys...> const &indices) const -> decltype(\n",
      "            ^~~~~~~~\n",
      "/usr/local/lib/python3.6/site-packages/pythran/pythonic/include/types/numpy_texpr.hpp:86:12: error:                 template<class E> template<class ... Tys> decltype (((pythonic::types::numpy_texpr_2<A>*)this)->pythonic::types::numpy_texpr_2<A>::arg[pythonic::types::array<long int, 2>{{get<1>(indices), get<0>(indices)}}]) pythonic::types::numpy_texpr_2<A>::operator[](const std::tuple<_Args1 ...>&)\n",
      "       auto operator[](std::tuple<Tys...> const &indices) -> decltype(\n",
      "            ^~~~~~~~\n",
      "/usr/local/lib/python3.6/site-packages/pythran/pythonic/include/types/numpy_texpr.hpp:83:12: error:                 decltype (((const pythonic::types::numpy_texpr_2<A>*)this)->pythonic::types::numpy_texpr_2<A>::arg[pythonic::types::array<long int, 2>{{indices[1], indices[0]}}]) pythonic::types::numpy_texpr_2<A>::operator[](const pythonic::types::array<long int, pythonic::types::numpy_texpr_2<A>::value>&) const\n",
      "       auto operator[](array<long, value> const &indices) const\n",
      "            ^~~~~~~~\n",
      "/usr/local/lib/python3.6/site-packages/pythran/pythonic/include/types/numpy_texpr.hpp:81:12: error:                 decltype (((pythonic::types::numpy_texpr_2<A>*)this)->pythonic::types::numpy_texpr_2<A>::arg[pythonic::types::array<long int, 2>{{indices[1], indices[0]}}]) pythonic::types::numpy_texpr_2<A>::operator[](const pythonic::types::array<long int, pythonic::types::numpy_texpr_2<A>::value>&)\n",
      "       auto operator[](array<long, value> const &indices)\n",
      "            ^~~~~~~~\n",
      "/usr/local/lib/python3.6/site-packages/pythran/pythonic/include/types/numpy_texpr.hpp:80:12: error:                 decltype (((pythonic::types::numpy_texpr_2<A>*)this)->pythonic::types::numpy_texpr_2<A>::fast(i)) pythonic::types::numpy_texpr_2<A>::operator[](long int)\n",
      "       auto operator[](long i) -> decltype(this->fast(i));\n",
      "            ^~~~~~~~\n",
      "/usr/local/lib/python3.6/site-packages/pythran/pythonic/include/types/numpy_texpr.hpp:79:12: error:                 decltype (((const pythonic::types::numpy_texpr_2<A>*)this)->pythonic::types::numpy_texpr_2<A>::fast(i)) pythonic::types::numpy_texpr_2<A>::operator[](long int) const\n",
      "       auto operator[](long i) const -> decltype(this->fast(i));\n",
      "            ^~~~~~~~\n",
      "In file included from /usr/local/lib/python3.6/site-packages/pythran/pythonic/types/ndarray.hpp:40:0,\n",
      "                 from /usr/local/lib/python3.6/site-packages/pythran/pythonic/numpy/reduce.hpp:6,\n",
      "                 from /usr/local/lib/python3.6/site-packages/pythran/pythonic/numpy/sum.hpp:5,\n",
      "                 from /var/folders/mw/nwq5qyg56fl585pb9jw81_qc0000gn/T/tmptxdnlb7v.cpp:16:\n",
      "/usr/local/lib/python3.6/site-packages/pythran/pythonic/types/numpy_iexpr.hpp:279:10: error: prototype for 'decltype (((const pythonic::types::numpy_iexpr<A>*)this)->pythonic::types::numpy_iexpr<A>::fast(i)) pythonic::types::numpy_iexpr<A>::operator[](long int) const &' does not match any in class 'pythonic::types::numpy_iexpr<A>'\n",
      "     auto numpy_iexpr<Arg>::operator[](long i) const & -> decltype(this->fast(i))\n",
      "          ^~~~~~~~~~~~~~~~\n",
      "In file included from /usr/local/lib/python3.6/site-packages/pythran/pythonic/include/types/ndarray.hpp:38:0,\n",
      "                 from /usr/local/lib/python3.6/site-packages/pythran/pythonic/include/numpy/reduce.hpp:4,\n",
      "                 from /usr/local/lib/python3.6/site-packages/pythran/pythonic/include/numpy/sum.hpp:4,\n",
      "                 from /var/folders/mw/nwq5qyg56fl585pb9jw81_qc0000gn/T/tmptxdnlb7v.cpp:11:\n",
      "/usr/local/lib/python3.6/site-packages/pythran/pythonic/include/types/numpy_iexpr.hpp:191:14: error: candidates are: pythonic::types::numpy_iexpr<A>::dtype& pythonic::types::numpy_iexpr<A>::operator[](const pythonic::types::array<long int, pythonic::types::numpy_iexpr<A>::value>&)\n",
      "       dtype &operator[](array<long, value> const &indices);\n",
      "              ^~~~~~~~\n",
      "/usr/local/lib/python3.6/site-packages/pythran/pythonic/include/types/numpy_iexpr.hpp:190:20: error:                 const dtype& pythonic::types::numpy_iexpr<A>::operator[](const pythonic::types::array<long int, pythonic::types::numpy_iexpr<A>::value>&) const\n",
      "       dtype const &operator[](array<long, value> const &indices) const;\n",
      "                    ^~~~~~~~\n",
      "/usr/local/lib/python3.6/site-packages/pythran/pythonic/include/types/numpy_iexpr.hpp:188:7: error:                 template<class Arg> template<class F> typename std::enable_if<pythonic::types::is_numexpr_arg<E>::value, pythonic::types::numpy_fexpr<pythonic::types::numpy_iexpr<A>, F> >::type pythonic::types::numpy_iexpr<A>::operator[](const F&) const\n",
      "       operator[](F const &filter) const;\n",
      "       ^~~~~~~~\n",
      "/usr/local/lib/python3.6/site-packages/pythran/pythonic/include/types/numpy_iexpr.hpp:166:7: error:                 pythonic::types::numpy_gexpr<pythonic::types::numpy_iexpr<A>, pythonic::types::contiguous_slice> pythonic::types::numpy_iexpr<A>::operator[](const pythonic::types::contiguous_slice&) const\n",
      "       operator[](contiguous_slice const &s0) const;\n",
      "       ^~~~~~~~\n",
      "/usr/local/lib/python3.6/site-packages/pythran/pythonic/include/types/numpy_iexpr.hpp:164:39: error:                 pythonic::types::numpy_gexpr<pythonic::types::numpy_iexpr<A>, pythonic::types::slice> pythonic::types::numpy_iexpr<A>::operator[](const pythonic::types::slice&) const\n",
      "       numpy_gexpr<numpy_iexpr, slice> operator[](slice const &s0) const;\n",
      "                                       ^~~~~~~~\n",
      "/usr/local/lib/python3.6/site-packages/pythran/pythonic/include/types/numpy_iexpr.hpp:163:12: error:                 decltype (std::move((*(pythonic::types::numpy_iexpr<A>*)this)).fast(i)) pythonic::types::numpy_iexpr<A>::operator[](long int) &&\n",
      "       auto operator[](long i) && -> decltype(std::move(*this).fast(i));\n",
      "            ^~~~~~~~\n",
      "/usr/local/lib/python3.6/site-packages/pythran/pythonic/include/types/numpy_iexpr.hpp:162:12: error:                 decltype (((pythonic::types::numpy_iexpr<A>*)this)->pythonic::types::numpy_iexpr<A>::fast(i)) pythonic::types::numpy_iexpr<A>::operator[](long int) &\n",
      "       auto operator[](long i) & -> decltype(this->fast(i));\n",
      "            ^~~~~~~~\n",
      "/usr/local/lib/python3.6/site-packages/pythran/pythonic/include/types/numpy_iexpr.hpp:161:12: error:                 decltype (((const pythonic::types::numpy_iexpr<A>*)this)->pythonic::types::numpy_iexpr<A>::fast(i)) pythonic::types::numpy_iexpr<A>::operator[](long int) const &\n",
      "       auto operator[](long i) const & -> decltype(this->fast(i));\n",
      "            ^~~~~~~~\n",
      "In file included from /usr/local/lib/python3.6/site-packages/pythran/pythonic/types/ndarray.hpp:40:0,\n",
      "                 from /usr/local/lib/python3.6/site-packages/pythran/pythonic/numpy/reduce.hpp:6,\n",
      "                 from /usr/local/lib/python3.6/site-packages/pythran/pythonic/numpy/sum.hpp:5,\n",
      "                 from /var/folders/mw/nwq5qyg56fl585pb9jw81_qc0000gn/T/tmptxdnlb7v.cpp:16:\n",
      "/usr/local/lib/python3.6/site-packages/pythran/pythonic/types/numpy_iexpr.hpp:287:14: error: prototype for 'decltype (((pythonic::types::numpy_iexpr<A>*)this)->pythonic::types::numpy_iexpr<A>::fast(i)) pythonic::types::numpy_iexpr<A>::operator[](long int) &' does not match any in class 'pythonic::types::numpy_iexpr<A>'\n",
      "         auto numpy_iexpr<Arg>::operator[](long i) & -> decltype(this->fast(i))\n",
      "              ^~~~~~~~~~~~~~~~\n",
      "In file included from /usr/local/lib/python3.6/site-packages/pythran/pythonic/include/types/ndarray.hpp:38:0,\n",
      "                 from /usr/local/lib/python3.6/site-packages/pythran/pythonic/include/numpy/reduce.hpp:4,\n",
      "                 from /usr/local/lib/python3.6/site-packages/pythran/pythonic/include/numpy/sum.hpp:4,\n",
      "                 from /var/folders/mw/nwq5qyg56fl585pb9jw81_qc0000gn/T/tmptxdnlb7v.cpp:11:\n",
      "/usr/local/lib/python3.6/site-packages/pythran/pythonic/include/types/numpy_iexpr.hpp:191:14: error: candidates are: pythonic::types::numpy_iexpr<A>::dtype& pythonic::types::numpy_iexpr<A>::operator[](const pythonic::types::array<long int, pythonic::types::numpy_iexpr<A>::value>&)\n",
      "       dtype &operator[](array<long, value> const &indices);\n",
      "              ^~~~~~~~\n",
      "/usr/local/lib/python3.6/site-packages/pythran/pythonic/include/types/numpy_iexpr.hpp:190:20: error:                 const dtype& pythonic::types::numpy_iexpr<A>::operator[](const pythonic::types::array<long int, pythonic::types::numpy_iexpr<A>::value>&) const\n",
      "       dtype const &operator[](array<long, value> const &indices) const;\n",
      "                    ^~~~~~~~\n",
      "/usr/local/lib/python3.6/site-packages/pythran/pythonic/include/types/numpy_iexpr.hpp:188:7: error:                 template<class Arg> template<class F> typename std::enable_if<pythonic::types::is_numexpr_arg<E>::value, pythonic::types::numpy_fexpr<pythonic::types::numpy_iexpr<A>, F> >::type pythonic::types::numpy_iexpr<A>::operator[](const F&) const\n",
      "       operator[](F const &filter) const;\n",
      "       ^~~~~~~~\n",
      "/usr/local/lib/python3.6/site-packages/pythran/pythonic/include/types/numpy_iexpr.hpp:166:7: error:                 pythonic::types::numpy_gexpr<pythonic::types::numpy_iexpr<A>, pythonic::types::contiguous_slice> pythonic::types::numpy_iexpr<A>::operator[](const pythonic::types::contiguous_slice&) const\n",
      "       operator[](contiguous_slice const &s0) const;\n",
      "       ^~~~~~~~\n",
      "/usr/local/lib/python3.6/site-packages/pythran/pythonic/include/types/numpy_iexpr.hpp:164:39: error:                 pythonic::types::numpy_gexpr<pythonic::types::numpy_iexpr<A>, pythonic::types::slice> pythonic::types::numpy_iexpr<A>::operator[](const pythonic::types::slice&) const\n",
      "       numpy_gexpr<numpy_iexpr, slice> operator[](slice const &s0) const;\n",
      "                                       ^~~~~~~~\n",
      "/usr/local/lib/python3.6/site-packages/pythran/pythonic/include/types/numpy_iexpr.hpp:163:12: error:                 decltype (std::move((*(pythonic::types::numpy_iexpr<A>*)this)).fast(i)) pythonic::types::numpy_iexpr<A>::operator[](long int) &&\n",
      "       auto operator[](long i) && -> decltype(std::move(*this).fast(i));\n",
      "            ^~~~~~~~\n",
      "/usr/local/lib/python3.6/site-packages/pythran/pythonic/include/types/numpy_iexpr.hpp:162:12: error:                 decltype (((pythonic::types::numpy_iexpr<A>*)this)->pythonic::types::numpy_iexpr<A>::fast(i)) pythonic::types::numpy_iexpr<A>::operator[](long int) &\n",
      "       auto operator[](long i) & -> decltype(this->fast(i));\n",
      "            ^~~~~~~~\n",
      "/usr/local/lib/python3.6/site-packages/pythran/pythonic/include/types/numpy_iexpr.hpp:161:12: error:                 decltype (((const pythonic::types::numpy_iexpr<A>*)this)->pythonic::types::numpy_iexpr<A>::fast(i)) pythonic::types::numpy_iexpr<A>::operator[](long int) const &\n",
      "       auto operator[](long i) const & -> decltype(this->fast(i));\n",
      "            ^~~~~~~~\n",
      "In file included from /usr/local/lib/python3.6/site-packages/pythran/pythonic/types/ndarray.hpp:41:0,\n",
      "                 from /usr/local/lib/python3.6/site-packages/pythran/pythonic/numpy/reduce.hpp:6,\n",
      "                 from /usr/local/lib/python3.6/site-packages/pythran/pythonic/numpy/sum.hpp:5,\n",
      "                 from /var/folders/mw/nwq5qyg56fl585pb9jw81_qc0000gn/T/tmptxdnlb7v.cpp:16:\n",
      "/usr/local/lib/python3.6/site-packages/pythran/pythonic/types/numpy_gexpr.hpp:730:10: error: prototype for 'decltype (((const pythonic::types::numpy_gexpr<A, S>*)this)->pythonic::types::numpy_gexpr<A, S>::fast(i)) pythonic::types::numpy_gexpr<A, S>::operator[](long int) const' does not match any in class 'pythonic::types::numpy_gexpr<A, S>'\n",
      "     auto numpy_gexpr<Arg, S...>::operator[](long i) const\n",
      "          ^~~~~~~~~~~~~~~~~~~~~~\n",
      "In file included from /usr/local/lib/python3.6/site-packages/pythran/pythonic/include/types/ndarray.hpp:39:0,\n",
      "                 from /usr/local/lib/python3.6/site-packages/pythran/pythonic/include/numpy/reduce.hpp:4,\n",
      "                 from /usr/local/lib/python3.6/site-packages/pythran/pythonic/include/numpy/sum.hpp:4,\n",
      "                 from /var/folders/mw/nwq5qyg56fl585pb9jw81_qc0000gn/T/tmptxdnlb7v.cpp:11:\n",
      "/usr/local/lib/python3.6/site-packages/pythran/pythonic/include/types/numpy_gexpr.hpp:560:7: error: candidates are: template<class Arg, class ... S> template<class F> typename std::enable_if<pythonic::types::is_numexpr_arg<E>::value, pythonic::types::numpy_fexpr<pythonic::types::numpy_gexpr<A, S>, F> >::type pythonic::types::numpy_gexpr<A, S>::operator[](const F&) const\n",
      "       operator[](F const &filter) const;\n",
      "       ^~~~~~~~\n",
      "/usr/local/lib/python3.6/site-packages/pythran/pythonic/include/types/numpy_gexpr.hpp:549:16: error:                 template<class Arg, class ... S> template<long unsigned int M> decltype (pythonic::types::nget<(M - 1)>()(std::move((*(pythonic::types::numpy_gexpr<A, S>*)this)), indices)) pythonic::types::numpy_gexpr<A, S>::operator[](const pythonic::types::array<long int, M>&) &&\n",
      "           auto operator[](array<long, M> const &indices) &&\n",
      "                ^~~~~~~~\n",
      "/usr/local/lib/python3.6/site-packages/pythran/pythonic/include/types/numpy_gexpr.hpp:545:12: error:                 template<class Arg, class ... S> template<long unsigned int M> decltype (pythonic::types::nget<(M - 1)>()((*(const pythonic::types::numpy_gexpr<A, S>*)this), indices)) pythonic::types::numpy_gexpr<A, S>::operator[](const pythonic::types::array<long int, M>&) const &\n",
      "       auto operator[](array<long, M> const &indices) const\n",
      "            ^~~~~~~~\n",
      "/usr/local/lib/python3.6/site-packages/pythran/pythonic/include/types/numpy_gexpr.hpp:538:12: error:                 decltype (pythonic::types::make_gexpr((*(const pythonic::types::numpy_gexpr<A, S>*)this), s0)) pythonic::types::numpy_gexpr<A, S>::operator[](const pythonic::types::slice&) const\n",
      "       auto operator[](slice const &s0) const -> decltype(make_gexpr(*this, s0));\n",
      "            ^~~~~~~~\n",
      "/usr/local/lib/python3.6/site-packages/pythran/pythonic/include/types/numpy_gexpr.hpp:531:12: error:                 decltype (pythonic::types::make_gexpr((*(const pythonic::types::numpy_gexpr<A, S>*)this), s0)) pythonic::types::numpy_gexpr<A, S>::operator[](const pythonic::types::contiguous_slice&) const\n",
      "       auto operator[](contiguous_slice const &s0) const\n",
      "            ^~~~~~~~\n",
      "/usr/local/lib/python3.6/site-packages/pythran/pythonic/include/types/numpy_gexpr.hpp:525:12: error:                 decltype (((pythonic::types::numpy_gexpr<A, S>*)this)->pythonic::types::numpy_gexpr<A, S>::fast(i)) pythonic::types::numpy_gexpr<A, S>::operator[](long int)\n",
      "       auto operator[](long i) -> decltype(this->fast(i));\n",
      "            ^~~~~~~~\n",
      "/usr/local/lib/python3.6/site-packages/pythran/pythonic/include/types/numpy_gexpr.hpp:524:12: error:                 decltype (((const pythonic::types::numpy_gexpr<A, S>*)this)->pythonic::types::numpy_gexpr<A, S>::fast(i)) pythonic::types::numpy_gexpr<A, S>::operator[](long int) const\n",
      "       auto operator[](long i) const -> decltype(this->fast(i));\n",
      "            ^~~~~~~~\n",
      "In file included from /usr/local/lib/python3.6/site-packages/pythran/pythonic/types/ndarray.hpp:41:0,\n",
      "                 from /usr/local/lib/python3.6/site-packages/pythran/pythonic/numpy/reduce.hpp:6,\n",
      "                 from /usr/local/lib/python3.6/site-packages/pythran/pythonic/numpy/sum.hpp:5,\n",
      "                 from /var/folders/mw/nwq5qyg56fl585pb9jw81_qc0000gn/T/tmptxdnlb7v.cpp:16:\n",
      "/usr/local/lib/python3.6/site-packages/pythran/pythonic/types/numpy_gexpr.hpp:739:10: error: prototype for 'decltype (((pythonic::types::numpy_gexpr<A, S>*)this)->pythonic::types::numpy_gexpr<A, S>::fast(i)) pythonic::types::numpy_gexpr<A, S>::operator[](long int)' does not match any in class 'pythonic::types::numpy_gexpr<A, S>'\n",
      "     auto numpy_gexpr<Arg, S...>::operator[](long i) -> decltype(this->fast(i))\n",
      "          ^~~~~~~~~~~~~~~~~~~~~~\n",
      "In file included from /usr/local/lib/python3.6/site-packages/pythran/pythonic/include/types/ndarray.hpp:39:0,\n",
      "                 from /usr/local/lib/python3.6/site-packages/pythran/pythonic/include/numpy/reduce.hpp:4,\n",
      "                 from /usr/local/lib/python3.6/site-packages/pythran/pythonic/include/numpy/sum.hpp:4,\n",
      "                 from /var/folders/mw/nwq5qyg56fl585pb9jw81_qc0000gn/T/tmptxdnlb7v.cpp:11:\n",
      "/usr/local/lib/python3.6/site-packages/pythran/pythonic/include/types/numpy_gexpr.hpp:560:7: error: candidates are: template<class Arg, class ... S> template<class F> typename std::enable_if<pythonic::types::is_numexpr_arg<E>::value, pythonic::types::numpy_fexpr<pythonic::types::numpy_gexpr<A, S>, F> >::type pythonic::types::numpy_gexpr<A, S>::operator[](const F&) const\n",
      "       operator[](F const &filter) const;\n",
      "       ^~~~~~~~\n",
      "/usr/local/lib/python3.6/site-packages/pythran/pythonic/include/types/numpy_gexpr.hpp:549:16: error:                 template<class Arg, class ... S> template<long unsigned int M> decltype (pythonic::types::nget<(M - 1)>()(std::move((*(pythonic::types::numpy_gexpr<A, S>*)this)), indices)) pythonic::types::numpy_gexpr<A, S>::operator[](const pythonic::types::array<long int, M>&) &&\n",
      "           auto operator[](array<long, M> const &indices) &&\n",
      "                ^~~~~~~~\n",
      "/usr/local/lib/python3.6/site-packages/pythran/pythonic/include/types/numpy_gexpr.hpp:545:12: error:                 template<class Arg, class ... S> template<long unsigned int M> decltype (pythonic::types::nget<(M - 1)>()((*(const pythonic::types::numpy_gexpr<A, S>*)this), indices)) pythonic::types::numpy_gexpr<A, S>::operator[](const pythonic::types::array<long int, M>&) const &\n",
      "       auto operator[](array<long, M> const &indices) const\n",
      "            ^~~~~~~~\n",
      "/usr/local/lib/python3.6/site-packages/pythran/pythonic/include/types/numpy_gexpr.hpp:538:12: error:                 decltype (pythonic::types::make_gexpr((*(const pythonic::types::numpy_gexpr<A, S>*)this), s0)) pythonic::types::numpy_gexpr<A, S>::operator[](const pythonic::types::slice&) const\n",
      "       auto operator[](slice const &s0) const -> decltype(make_gexpr(*this, s0));\n",
      "            ^~~~~~~~\n",
      "/usr/local/lib/python3.6/site-packages/pythran/pythonic/include/types/numpy_gexpr.hpp:531:12: error:                 decltype (pythonic::types::make_gexpr((*(const pythonic::types::numpy_gexpr<A, S>*)this), s0)) pythonic::types::numpy_gexpr<A, S>::operator[](const pythonic::types::contiguous_slice&) const\n",
      "       auto operator[](contiguous_slice const &s0) const\n",
      "            ^~~~~~~~\n",
      "/usr/local/lib/python3.6/site-packages/pythran/pythonic/include/types/numpy_gexpr.hpp:525:12: error:                 decltype (((pythonic::types::numpy_gexpr<A, S>*)this)->pythonic::types::numpy_gexpr<A, S>::fast(i)) pythonic::types::numpy_gexpr<A, S>::operator[](long int)\n",
      "       auto operator[](long i) -> decltype(this->fast(i));\n",
      "            ^~~~~~~~\n",
      "/usr/local/lib/python3.6/site-packages/pythran/pythonic/include/types/numpy_gexpr.hpp:524:12: error:                 decltype (((const pythonic::types::numpy_gexpr<A, S>*)this)->pythonic::types::numpy_gexpr<A, S>::fast(i)) pythonic::types::numpy_gexpr<A, S>::operator[](long int) const\n",
      "       auto operator[](long i) const -> decltype(this->fast(i));\n",
      "            ^~~~~~~~\n",
      "In file included from /usr/local/lib/python3.6/site-packages/pythran/pythonic/numpy/reduce.hpp:6:0,\n",
      "                 from /usr/local/lib/python3.6/site-packages/pythran/pythonic/numpy/sum.hpp:5,\n",
      "                 from /var/folders/mw/nwq5qyg56fl585pb9jw81_qc0000gn/T/tmptxdnlb7v.cpp:16:\n",
      "/usr/local/lib/python3.6/site-packages/pythran/pythonic/types/ndarray.hpp:498:10: error: prototype for 'decltype (((const pythonic::types::ndarray<T, N>*)this)->pythonic::types::ndarray<T, N>::fast(i)) pythonic::types::ndarray<T, N>::operator[](long int) const &' does not match any in class 'pythonic::types::ndarray<T, N>'\n",
      "     auto ndarray<T, N>::operator[](long i) const & -> decltype(this->fast(i))\n",
      "          ^~~~~~~~~~~~~\n",
      "In file included from /usr/local/lib/python3.6/site-packages/pythran/pythonic/include/numpy/reduce.hpp:4:0,\n",
      "                 from /usr/local/lib/python3.6/site-packages/pythran/pythonic/include/numpy/sum.hpp:4,\n",
      "                 from /var/folders/mw/nwq5qyg56fl585pb9jw81_qc0000gn/T/tmptxdnlb7v.cpp:11:\n",
      "/usr/local/lib/python3.6/site-packages/pythran/pythonic/include/types/ndarray.hpp:411:7: error: candidates are: template<class T, long unsigned int N> template<class F> typename std::enable_if<(pythonic::types::is_numexpr_arg<E>::value && (! std::is_same<bool, typename F::dtype>::value)), pythonic::types::ndarray<T, N> >::type pythonic::types::ndarray<T, N>::operator[](const F&) const\n",
      "       operator[](F const &filter) const;\n",
      "       ^~~~~~~~\n",
      "/usr/local/lib/python3.6/site-packages/pythran/pythonic/include/types/ndarray.hpp:404:7: error:                 template<class T, long unsigned int N> template<class F> typename std::enable_if<(pythonic::types::is_numexpr_arg<E>::value && std::is_same<bool, typename F::dtype>::value), pythonic::types::numpy_fexpr<pythonic::types::ndarray<T, N>, F> >::type pythonic::types::ndarray<T, N>::operator[](const F&) const\n",
      "       operator[](F const &filter) const;\n",
      "       ^~~~~~~~\n",
      "/usr/local/lib/python3.6/site-packages/pythran/pythonic/include/types/ndarray.hpp:379:7: error:                 pythonic::types::numpy_gexpr<const pythonic::types::ndarray<T, N>&, pythonic::types::contiguous_slice> pythonic::types::ndarray<T, N>::operator[](const pythonic::types::contiguous_slice&) const\n",
      "       operator[](contiguous_slice const &s) const;\n",
      "       ^~~~~~~~\n",
      "/usr/local/lib/python3.6/site-packages/pythran/pythonic/include/types/ndarray.hpp:376:43: error:                 pythonic::types::numpy_gexpr<const pythonic::types::ndarray<T, N>&, pythonic::types::slice> pythonic::types::ndarray<T, N>::operator[](const pythonic::types::slice&) const\n",
      "       numpy_gexpr<ndarray const &, slice> operator[](slice const &s) const;\n",
      "                                           ^~~~~~~~\n",
      "/usr/local/lib/python3.6/site-packages/pythran/pythonic/include/types/ndarray.hpp:374:25: error:                 pythonic::types::ndarray<T, (N + 1)> pythonic::types::ndarray<T, N>::operator[](pythonic::types::none_type) const\n",
      "       ndarray<T, N + 1> operator[](none_type) const;\n",
      "                         ^~~~~~~~\n",
      "/usr/local/lib/python3.6/site-packages/pythran/pythonic/include/types/ndarray.hpp:356:12: error:                 template<class T, long unsigned int N> template<class ... Tys> decltype ((*(const pythonic::types::ndarray<T, N>*)this)[to_array<long int>(indices)]) pythonic::types::ndarray<T, N>::operator[](const std::tuple<_Args1 ...>&) const\n",
      "       auto operator[](std::tuple<Tys...> const &indices) const\n",
      "            ^~~~~~~~\n",
      "/usr/local/lib/python3.6/site-packages/pythran/pythonic/include/types/ndarray.hpp:352:16: error:                 template<class T, long unsigned int N> template<long unsigned int M> decltype (pythonic::types::nget<(M - 1)>()(std::move((*(pythonic::types::ndarray<T, N>*)this)), indices)) pythonic::types::ndarray<T, N>::operator[](const pythonic::types::array<long int, M>&) &&\n",
      "           auto operator[](array<long, M> const &indices) &&\n",
      "                ^~~~~~~~\n",
      "/usr/local/lib/python3.6/site-packages/pythran/pythonic/include/types/ndarray.hpp:348:12: error:                 template<class T, long unsigned int N> template<long unsigned int M> decltype (pythonic::types::nget<(M - 1)>()((*(const pythonic::types::ndarray<T, N>*)this), indices)) pythonic::types::ndarray<T, N>::operator[](const pythonic::types::array<long int, M>&) const &\n",
      "       auto operator[](array<long, M> const &indices) const\n",
      "            ^~~~~~~~\n",
      "/usr/local/lib/python3.6/site-packages/pythran/pythonic/include/types/ndarray.hpp:345:10: error:                 T& pythonic::types::ndarray<T, N>::operator[](const pythonic::types::array<long int, M>&)\n",
      "       T &operator[](array<long, N> const &indices);\n",
      "          ^~~~~~~~\n",
      "/usr/local/lib/python3.6/site-packages/pythran/pythonic/include/types/ndarray.hpp:343:16: error:                 const T& pythonic::types::ndarray<T, N>::operator[](const pythonic::types::array<long int, M>&) const\n",
      "       T const &operator[](array<long, N> const &indices) const;\n",
      "                ^~~~~~~~\n",
      "/usr/local/lib/python3.6/site-packages/pythran/pythonic/include/types/ndarray.hpp:341:12: error:                 decltype (std::move((*(pythonic::types::ndarray<T, N>*)this)).fast(i)) pythonic::types::ndarray<T, N>::operator[](long int) &&\n",
      "       auto operator[](long i) && -> decltype(std::move(*this).fast(i));\n",
      "            ^~~~~~~~\n",
      "/usr/local/lib/python3.6/site-packages/pythran/pythonic/include/types/ndarray.hpp:339:12: error:                 decltype (((const pythonic::types::ndarray<T, N>*)this)->pythonic::types::ndarray<T, N>::fast(i)) pythonic::types::ndarray<T, N>::operator[](long int) const &\n",
      "       auto operator[](long i) const & -> decltype(this->fast(i));\n",
      "            ^~~~~~~~\n",
      "In file included from /usr/local/lib/python3.6/site-packages/pythran/pythonic/operator_/add.hpp:7:0,\n",
      "                 from /usr/local/lib/python3.6/site-packages/pythran/pythonic/types/numpy_operators.hpp:7,\n",
      "                 from /usr/local/lib/python3.6/site-packages/pythran/pythonic/types/ndarray.hpp:1132,\n",
      "                 from /usr/local/lib/python3.6/site-packages/pythran/pythonic/numpy/reduce.hpp:6,\n",
      "                 from /usr/local/lib/python3.6/site-packages/pythran/pythonic/numpy/sum.hpp:5,\n",
      "                 from /var/folders/mw/nwq5qyg56fl585pb9jw81_qc0000gn/T/tmptxdnlb7v.cpp:16:\n",
      "/usr/local/lib/python3.6/site-packages/pythran/pythonic/operator_/lshift.hpp: In function 'bool pythonic::operator_::lshift(bool, bool)':\n",
      "/usr/local/lib/python3.6/site-packages/pythran/pythonic/operator_/lshift.hpp:21:48: warning: '<<' in boolean context, did you mean '<' ? [-Wint-in-bool-context]\n",
      "     DEFINE_ALL_OPERATOR_OVERLOADS_IMPL(lshift, << )\n",
      "/usr/local/lib/python3.6/site-packages/pythran/pythonic/operator_/overloads.hpp:9:14: note: in definition of macro 'PYTHONIC_OPERATOR_OVERLOAD_IMPL'\n",
      "     return a op b;                                                             \\\n",
      "              ^~\n",
      "/usr/local/lib/python3.6/site-packages/pythran/pythonic/operator_/lshift.hpp:21:5: note: in expansion of macro 'DEFINE_ALL_OPERATOR_OVERLOADS_IMPL'\n",
      "     DEFINE_ALL_OPERATOR_OVERLOADS_IMPL(lshift, << )\n",
      "     ^\n",
      "/usr/local/lib/python3.6/site-packages/pythran/pythonic/operator_/mul.hpp: In function 'bool pythonic::operator_::mul(bool, bool)':\n",
      "/usr/local/lib/python3.6/site-packages/pythran/pythonic/operator_/mul.hpp:21:45: warning: '*' in boolean context, suggest '&&' instead [-Wint-in-bool-context]\n",
      "     DEFINE_ALL_OPERATOR_OVERLOADS_IMPL(mul, *)\n",
      "/usr/local/lib/python3.6/site-packages/pythran/pythonic/operator_/overloads.hpp:9:14: note: in definition of macro 'PYTHONIC_OPERATOR_OVERLOAD_IMPL'\n",
      "     return a op b;                                                             \\\n",
      "              ^~\n",
      "/usr/local/lib/python3.6/site-packages/pythran/pythonic/operator_/mul.hpp:21:5: note: in expansion of macro 'DEFINE_ALL_OPERATOR_OVERLOADS_IMPL'\n",
      "     DEFINE_ALL_OPERATOR_OVERLOADS_IMPL(mul, *)\n",
      "     ^\n",
      "In file included from /usr/local/lib/python3.6/site-packages/pythran/pythonic/types/ndarray.hpp:38:0,\n",
      "                 from /usr/local/lib/python3.6/site-packages/pythran/pythonic/numpy/reduce.hpp:6,\n",
      "                 from /usr/local/lib/python3.6/site-packages/pythran/pythonic/numpy/sum.hpp:5,\n",
      "                 from /var/folders/mw/nwq5qyg56fl585pb9jw81_qc0000gn/T/tmptxdnlb7v.cpp:16:\n",
      "/usr/local/lib/python3.6/site-packages/pythran/pythonic/types/numpy_expr.hpp: In instantiation of 'pythonic::types::array<long int, M> pythonic::types::details::init_shape(const Args& ...) [with long unsigned int value = 1; Args = {pythonic::types::ndarray<double, 1>, pythonic::types::broadcast<double, double>}]':\n",
      "/usr/local/lib/python3.6/site-packages/pythran/pythonic/types/numpy_expr.hpp:41:59:   required from 'pythonic::types::numpy_expr<O, Args>::numpy_expr(const Args& ...) [with Op = pythonic::operator_::functor::add; Args = {pythonic::types::ndarray<double, 1>, pythonic::types::broadcast<double, double>}]'\n",
      "/usr/local/lib/python3.6/site-packages/pythran/pythonic/types/numpy_binary_op.hpp:16:22:   required from 'typename std::enable_if<pythonic::types::valid_numexpr_parameters<T0, T1>::value, pythonic::types::numpy_expr<pythonic::operator_::functor::add, typename pythonic::types::adapt_type<E0, E1>::type, typename pythonic::types::adapt_type<E1, E0>::type> >::type pythonic::types::operator+(const E0&, const E1&) [with E0 = pythonic::types::ndarray<double, 1>; E1 = double; typename std::enable_if<pythonic::types::valid_numexpr_parameters<T0, T1>::value, pythonic::types::numpy_expr<pythonic::operator_::functor::add, typename pythonic::types::adapt_type<E0, E1>::type, typename pythonic::types::adapt_type<E1, E0>::type> >::type = pythonic::types::numpy_expr<pythonic::operator_::functor::add, pythonic::types::ndarray<double, 1>, pythonic::types::broadcast<double, double> >]'\n",
      "/var/folders/mw/nwq5qyg56fl585pb9jw81_qc0000gn/T/tmptxdnlb7v.cpp:54:210:   required from 'typename __pythran_pythranized_98508de629426848c92640c864acc46c::pi_numpy_style_pythran::type<argument_type0>::result_type __pythran_pythranized_98508de629426848c92640c864acc46c::pi_numpy_style_pythran::operator()(const argument_type0&) const [with argument_type0 = long int; typename __pythran_pythranized_98508de629426848c92640c864acc46c::pi_numpy_style_pythran::type<argument_type0>::result_type = double]'\n",
      "/var/folders/mw/nwq5qyg56fl585pb9jw81_qc0000gn/T/tmptxdnlb7v.cpp:64:126:   required from here\n",
      "/usr/local/lib/python3.6/site-packages/pythran/pythonic/types/numpy_expr.hpp:22:27: warning: comparison between signed and unsigned integer expressions [-Wsign-compare]\n",
      "         for (int i = 0; i < value; ++i) {\n",
      "                         ~~^~~~~~~\n",
      "/usr/local/lib/python3.6/site-packages/pythran/pythonic/types/numpy_expr.hpp: In instantiation of 'pythonic::types::array<long int, M> pythonic::types::details::init_shape(const Args& ...) [with long unsigned int value = 1; Args = {pythonic::types::numpy_expr<pythonic::operator_::functor::add, pythonic::types::ndarray<double, 1>, pythonic::types::broadcast<double, double> >, pythonic::types::broadcast<double, double>}]':\n",
      "/usr/local/lib/python3.6/site-packages/pythran/pythonic/types/numpy_expr.hpp:41:59:   required from 'pythonic::types::numpy_expr<O, Args>::numpy_expr(const Args& ...) [with Op = pythonic::operator_::functor::mul; Args = {pythonic::types::numpy_expr<pythonic::operator_::functor::add, pythonic::types::ndarray<double, 1>, pythonic::types::broadcast<double, double> >, pythonic::types::broadcast<double, double>}]'\n",
      "/usr/local/lib/python3.6/site-packages/pythran/pythonic/types/numpy_binary_op.hpp:16:22:   required from 'typename std::enable_if<pythonic::types::valid_numexpr_parameters<T0, T1>::value, pythonic::types::numpy_expr<pythonic::operator_::functor::mul, typename pythonic::types::adapt_type<E0, E1>::type, typename pythonic::types::adapt_type<E1, E0>::type> >::type pythonic::types::operator*(const E0&, const E1&) [with E0 = pythonic::types::numpy_expr<pythonic::operator_::functor::add, pythonic::types::ndarray<double, 1>, pythonic::types::broadcast<double, double> >; E1 = double; typename std::enable_if<pythonic::types::valid_numexpr_parameters<T0, T1>::value, pythonic::types::numpy_expr<pythonic::operator_::functor::mul, typename pythonic::types::adapt_type<E0, E1>::type, typename pythonic::types::adapt_type<E1, E0>::type> >::type = pythonic::types::numpy_expr<pythonic::operator_::functor::mul, pythonic::types::numpy_expr<pythonic::operator_::functor::add, pythonic::types::ndarray<double, 1>, pythonic::types::broadcast<double, double> >, pythonic::types::broadcast<double, double> >]'\n",
      "/var/folders/mw/nwq5qyg56fl585pb9jw81_qc0000gn/T/tmptxdnlb7v.cpp:54:217:   required from 'typename __pythran_pythranized_98508de629426848c92640c864acc46c::pi_numpy_style_pythran::type<argument_type0>::result_type __pythran_pythranized_98508de629426848c92640c864acc46c::pi_numpy_style_pythran::operator()(const argument_type0&) const [with argument_type0 = long int; typename __pythran_pythranized_98508de629426848c92640c864acc46c::pi_numpy_style_pythran::type<argument_type0>::result_type = double]'\n",
      "/var/folders/mw/nwq5qyg56fl585pb9jw81_qc0000gn/T/tmptxdnlb7v.cpp:64:126:   required from here\n",
      "/usr/local/lib/python3.6/site-packages/pythran/pythonic/types/numpy_expr.hpp:22:27: warning: comparison between signed and unsigned integer expressions [-Wsign-compare]\n",
      "/usr/local/lib/python3.6/site-packages/pythran/pythonic/types/numpy_expr.hpp: In instantiation of 'pythonic::types::array<long int, M> pythonic::types::details::init_shape(const Args& ...) [with long unsigned int value = 1; Args = {pythonic::types::numpy_expr<pythonic::operator_::functor::mul, pythonic::types::numpy_expr<pythonic::operator_::functor::add, pythonic::types::ndarray<double, 1>, pythonic::types::broadcast<double, double> >, pythonic::types::broadcast<double, double> >}]':\n",
      "/usr/local/lib/python3.6/site-packages/pythran/pythonic/types/numpy_expr.hpp:41:59:   required from 'pythonic::types::numpy_expr<O, Args>::numpy_expr(const Args& ...) [with Op = pythonic::numpy::functor::square; Args = {pythonic::types::numpy_expr<pythonic::operator_::functor::mul, pythonic::types::numpy_expr<pythonic::operator_::functor::add, pythonic::types::ndarray<double, 1>, pythonic::types::broadcast<double, double> >, pythonic::types::broadcast<double, double> >}]'\n",
      "/usr/local/lib/python3.6/site-packages/pythran/pythonic/types/numpy_nary_expr.hpp:39:20:   required from 'typename std::enable_if<pythonic::types::valid_numexpr_parameters<Types>::value, pythonic::types::numpy_expr<pythonic::numpy::functor::square, typename pythonic::types::adapt_type<E, E ...>::type ...> >::type pythonic::numpy::functor::square::operator()(const E& ...) const [with E = {pythonic::types::numpy_expr<pythonic::operator_::functor::mul, pythonic::types::numpy_expr<pythonic::operator_::functor::add, pythonic::types::ndarray<double, 1>, pythonic::types::broadcast<double, double> >, pythonic::types::broadcast<double, double> >}; typename std::enable_if<pythonic::types::valid_numexpr_parameters<Types>::value, pythonic::types::numpy_expr<pythonic::numpy::functor::square, typename pythonic::types::adapt_type<E, E ...>::type ...> >::type = pythonic::types::numpy_expr<pythonic::numpy::functor::square, pythonic::types::numpy_expr<pythonic::operator_::functor::mul, pythonic::types::numpy_expr<pythonic::operator_::functor::add, pythonic::types::ndarray<double, 1>, pythonic::types::broadcast<double, double> >, pythonic::types::broadcast<double, double> > >]'\n",
      "/var/folders/mw/nwq5qyg56fl585pb9jw81_qc0000gn/T/tmptxdnlb7v.cpp:54:124:   required from 'typename __pythran_pythranized_98508de629426848c92640c864acc46c::pi_numpy_style_pythran::type<argument_type0>::result_type __pythran_pythranized_98508de629426848c92640c864acc46c::pi_numpy_style_pythran::operator()(const argument_type0&) const [with argument_type0 = long int; typename __pythran_pythranized_98508de629426848c92640c864acc46c::pi_numpy_style_pythran::type<argument_type0>::result_type = double]'\n",
      "/var/folders/mw/nwq5qyg56fl585pb9jw81_qc0000gn/T/tmptxdnlb7v.cpp:64:126:   required from here\n",
      "/usr/local/lib/python3.6/site-packages/pythran/pythonic/types/numpy_expr.hpp:22:27: warning: comparison between signed and unsigned integer expressions [-Wsign-compare]\n",
      "/usr/local/lib/python3.6/site-packages/pythran/pythonic/types/numpy_expr.hpp: In instantiation of 'pythonic::types::array<long int, M> pythonic::types::details::init_shape(const Args& ...) [with long unsigned int value = 1; Args = {pythonic::types::broadcast<double, double>, pythonic::types::numpy_expr<pythonic::numpy::functor::square, pythonic::types::numpy_expr<pythonic::operator_::functor::mul, pythonic::types::numpy_expr<pythonic::operator_::functor::add, pythonic::types::ndarray<double, 1>, pythonic::types::broadcast<double, double> >, pythonic::types::broadcast<double, double> > >}]':\n",
      "/usr/local/lib/python3.6/site-packages/pythran/pythonic/types/numpy_expr.hpp:41:59:   required from 'pythonic::types::numpy_expr<O, Args>::numpy_expr(const Args& ...) [with Op = pythonic::operator_::functor::add; Args = {pythonic::types::broadcast<double, double>, pythonic::types::numpy_expr<pythonic::numpy::functor::square, pythonic::types::numpy_expr<pythonic::operator_::functor::mul, pythonic::types::numpy_expr<pythonic::operator_::functor::add, pythonic::types::ndarray<double, 1>, pythonic::types::broadcast<double, double> >, pythonic::types::broadcast<double, double> > >}]'\n",
      "/usr/local/lib/python3.6/site-packages/pythran/pythonic/types/numpy_binary_op.hpp:16:22:   required from 'typename std::enable_if<pythonic::types::valid_numexpr_parameters<T0, T1>::value, pythonic::types::numpy_expr<pythonic::operator_::functor::add, typename pythonic::types::adapt_type<E0, E1>::type, typename pythonic::types::adapt_type<E1, E0>::type> >::type pythonic::types::operator+(const E0&, const E1&) [with E0 = double; E1 = pythonic::types::numpy_expr<pythonic::numpy::functor::square, pythonic::types::numpy_expr<pythonic::operator_::functor::mul, pythonic::types::numpy_expr<pythonic::operator_::functor::add, pythonic::types::ndarray<double, 1>, pythonic::types::broadcast<double, double> >, pythonic::types::broadcast<double, double> > >; typename std::enable_if<pythonic::types::valid_numexpr_parameters<T0, T1>::value, pythonic::types::numpy_expr<pythonic::operator_::functor::add, typename pythonic::types::adapt_type<E0, E1>::type, typename pythonic::types::adapt_type<E1, E0>::type> >::type = pythonic::types::numpy_expr<pythonic::operator_::functor::add, pythonic::types::broadcast<double, double>, pythonic::types::numpy_expr<pythonic::numpy::functor::square, pythonic::types::numpy_expr<pythonic::operator_::functor::mul, pythonic::types::numpy_expr<pythonic::operator_::functor::add, pythonic::types::ndarray<double, 1>, pythonic::types::broadcast<double, double> >, pythonic::types::broadcast<double, double> > > >]'\n",
      "/var/folders/mw/nwq5qyg56fl585pb9jw81_qc0000gn/T/tmptxdnlb7v.cpp:54:88:   required from 'typename __pythran_pythranized_98508de629426848c92640c864acc46c::pi_numpy_style_pythran::type<argument_type0>::result_type __pythran_pythranized_98508de629426848c92640c864acc46c::pi_numpy_style_pythran::operator()(const argument_type0&) const [with argument_type0 = long int; typename __pythran_pythranized_98508de629426848c92640c864acc46c::pi_numpy_style_pythran::type<argument_type0>::result_type = double]'\n",
      "/var/folders/mw/nwq5qyg56fl585pb9jw81_qc0000gn/T/tmptxdnlb7v.cpp:64:126:   required from here\n",
      "/usr/local/lib/python3.6/site-packages/pythran/pythonic/types/numpy_expr.hpp:22:27: warning: comparison between signed and unsigned integer expressions [-Wsign-compare]\n",
      "/usr/local/lib/python3.6/site-packages/pythran/pythonic/types/numpy_expr.hpp: In instantiation of 'pythonic::types::array<long int, M> pythonic::types::details::init_shape(const Args& ...) [with long unsigned int value = 1; Args = {pythonic::types::broadcast<double, double>, pythonic::types::numpy_expr<pythonic::operator_::functor::add, pythonic::types::broadcast<double, double>, pythonic::types::numpy_expr<pythonic::numpy::functor::square, pythonic::types::numpy_expr<pythonic::operator_::functor::mul, pythonic::types::numpy_expr<pythonic::operator_::functor::add, pythonic::types::ndarray<double, 1>, pythonic::types::broadcast<double, double> >, pythonic::types::broadcast<double, double> > > >}]':\n",
      "/usr/local/lib/python3.6/site-packages/pythran/pythonic/types/numpy_expr.hpp:41:59:   required from 'pythonic::types::numpy_expr<O, Args>::numpy_expr(const Args& ...) [with Op = pythonic::operator_::functor::div; Args = {pythonic::types::broadcast<double, double>, pythonic::types::numpy_expr<pythonic::operator_::functor::add, pythonic::types::broadcast<double, double>, pythonic::types::numpy_expr<pythonic::numpy::functor::square, pythonic::types::numpy_expr<pythonic::operator_::functor::mul, pythonic::types::numpy_expr<pythonic::operator_::functor::add, pythonic::types::ndarray<double, 1>, pythonic::types::broadcast<double, double> >, pythonic::types::broadcast<double, double> > > >}]'\n",
      "/usr/local/lib/python3.6/site-packages/pythran/pythonic/types/numpy_binary_op.hpp:16:22:   required from 'typename std::enable_if<pythonic::types::valid_numexpr_parameters<T0, T1>::value, pythonic::types::numpy_expr<pythonic::operator_::functor::div, typename pythonic::types::adapt_type<E0, E1>::type, typename pythonic::types::adapt_type<E1, E0>::type> >::type pythonic::types::operator/(const E0&, const E1&) [with E0 = double; E1 = pythonic::types::numpy_expr<pythonic::operator_::functor::add, pythonic::types::broadcast<double, double>, pythonic::types::numpy_expr<pythonic::numpy::functor::square, pythonic::types::numpy_expr<pythonic::operator_::functor::mul, pythonic::types::numpy_expr<pythonic::operator_::functor::add, pythonic::types::ndarray<double, 1>, pythonic::types::broadcast<double, double> >, pythonic::types::broadcast<double, double> > > >; typename std::enable_if<pythonic::types::valid_numexpr_parameters<T0, T1>::value, pythonic::types::numpy_expr<pythonic::operator_::functor::div, typename pythonic::types::adapt_type<E0, E1>::type, typename pythonic::types::adapt_type<E1, E0>::type> >::type = pythonic::types::numpy_expr<pythonic::operator_::functor::div, pythonic::types::broadcast<double, double>, pythonic::types::numpy_expr<pythonic::operator_::functor::add, pythonic::types::broadcast<double, double>, pythonic::types::numpy_expr<pythonic::numpy::functor::square, pythonic::types::numpy_expr<pythonic::operator_::functor::mul, pythonic::types::numpy_expr<pythonic::operator_::functor::add, pythonic::types::ndarray<double, 1>, pythonic::types::broadcast<double, double> >, pythonic::types::broadcast<double, double> > > > >]'\n",
      "/usr/local/lib/python3.6/site-packages/pythran/pythonic/operator_/div.hpp:22:16:   required from 'typename std::enable_if<((! std::is_fundamental<_Tp>::value) || (! std::is_fundamental<T1>::value)), decltype ((a / b))>::type pythonic::operator_::div(const A&, const B&) [with A = double; B = pythonic::types::numpy_expr<pythonic::operator_::functor::add, pythonic::types::broadcast<double, double>, pythonic::types::numpy_expr<pythonic::numpy::functor::square, pythonic::types::numpy_expr<pythonic::operator_::functor::mul, pythonic::types::numpy_expr<pythonic::operator_::functor::add, pythonic::types::ndarray<double, 1>, pythonic::types::broadcast<double, double> >, pythonic::types::broadcast<double, double> > > >; typename std::enable_if<((! std::is_fundamental<_Tp>::value) || (! std::is_fundamental<T1>::value)), decltype ((a / b))>::type = pythonic::types::numpy_expr<pythonic::operator_::functor::div, pythonic::types::broadcast<double, double>, pythonic::types::numpy_expr<pythonic::operator_::functor::add, pythonic::types::broadcast<double, double>, pythonic::types::numpy_expr<pythonic::numpy::functor::square, pythonic::types::numpy_expr<pythonic::operator_::functor::mul, pythonic::types::numpy_expr<pythonic::operator_::functor::add, pythonic::types::ndarray<double, 1>, pythonic::types::broadcast<double, double> >, pythonic::types::broadcast<double, double> > > > >]'\n",
      "/var/folders/mw/nwq5qyg56fl585pb9jw81_qc0000gn/T/tmptxdnlb7v.cpp:54:77:   required from 'typename __pythran_pythranized_98508de629426848c92640c864acc46c::pi_numpy_style_pythran::type<argument_type0>::result_type __pythran_pythranized_98508de629426848c92640c864acc46c::pi_numpy_style_pythran::operator()(const argument_type0&) const [with argument_type0 = long int; typename __pythran_pythranized_98508de629426848c92640c864acc46c::pi_numpy_style_pythran::type<argument_type0>::result_type = double]'\n",
      "/var/folders/mw/nwq5qyg56fl585pb9jw81_qc0000gn/T/tmptxdnlb7v.cpp:64:126:   required from here\n",
      "/usr/local/lib/python3.6/site-packages/pythran/pythonic/types/numpy_expr.hpp:22:27: warning: comparison between signed and unsigned integer expressions [-Wsign-compare]\n",
      "In file included from /usr/local/lib/python3.6/site-packages/pythran/pythonic/include/types/ndarray.hpp:17:0,\n",
      "                 from /usr/local/lib/python3.6/site-packages/pythran/pythonic/include/numpy/reduce.hpp:4,\n",
      "                 from /usr/local/lib/python3.6/site-packages/pythran/pythonic/include/numpy/sum.hpp:4,\n",
      "                 from /var/folders/mw/nwq5qyg56fl585pb9jw81_qc0000gn/T/tmptxdnlb7v.cpp:11:\n",
      "/usr/local/lib/python3.6/site-packages/pythran/pythonic/types/raw_array.hpp: In instantiation of 'pythonic::types::raw_array<T>::raw_array(size_t) [with T = double; size_t = long unsigned int]':\n",
      "/usr/local/lib/python3.6/site-packages/pythran/pythonic/utils/shared_ref.hpp:26:71:   required from 'pythonic::utils::shared_ref<T>::memory::memory(Types&& ...) [with Types = {int}; T = pythonic::types::raw_array<double>]'\n",
      "/usr/local/lib/python3.6/site-packages/pythran/pythonic/utils/shared_ref.hpp:43:15:   required from 'pythonic::utils::shared_ref<T>::shared_ref(Types&& ...) [with Types = {int}; T = pythonic::types::raw_array<double>]'\n",
      "/usr/local/lib/python3.6/site-packages/pythran/pythonic/types/ndarray.hpp:306:73:   required from 'pythonic::types::ndarray<T, N>::ndarray(const pythonic::types::array<long int, M>&, pythonic::types::none_type) [with T = double; long unsigned int N = 1]'\n",
      "/usr/local/lib/python3.6/site-packages/pythran/pythonic/numpy/arange.hpp:20:28:   required from 'pythonic::types::ndarray<typename dtype::type, 1> pythonic::numpy::arange(T, U, S, dtype) [with T = long int; U = long int; S = long int; dtype = pythonic::numpy::functor::float64; typename dtype::type = double]'\n",
      "/usr/local/lib/python3.6/site-packages/pythran/pythonic/numpy/arange.hpp:38:5:   required from 'decltype (pythonic::numpy::arange((forward<Types>)(pythonic::numpy::functor::arange::operator()::types)...)) pythonic::numpy::functor::arange::operator()(Types&& ...) const [with Types = {long int, const long int&, long int, pythonic::numpy::functor::float64}; decltype (pythonic::numpy::arange((forward<Types>)(pythonic::numpy::functor::arange::operator()::types)...)) = pythonic::types::ndarray<double, 1>]'\n",
      "/var/folders/mw/nwq5qyg56fl585pb9jw81_qc0000gn/T/tmptxdnlb7v.cpp:54:161:   required from 'typename __pythran_pythranized_98508de629426848c92640c864acc46c::pi_numpy_style_pythran::type<argument_type0>::result_type __pythran_pythranized_98508de629426848c92640c864acc46c::pi_numpy_style_pythran::operator()(const argument_type0&) const [with argument_type0 = long int; typename __pythran_pythranized_98508de629426848c92640c864acc46c::pi_numpy_style_pythran::type<argument_type0>::result_type = double]'\n",
      "/var/folders/mw/nwq5qyg56fl585pb9jw81_qc0000gn/T/tmptxdnlb7v.cpp:64:126:   required from here\n",
      "/usr/local/lib/python3.6/site-packages/pythran/pythonic/include/types/raw_array.hpp:26:10: warning: 'pythonic::types::raw_array<double>::data' will be initialized after [-Wreorder]\n",
      "       T *data;\n",
      "          ^~~~\n",
      "/usr/local/lib/python3.6/site-packages/pythran/pythonic/include/types/raw_array.hpp:21:12: warning:   'bool pythonic::types::raw_array<double>::external' [-Wreorder]\n",
      "       bool external;\n",
      "            ^~~~~~~~\n",
      "In file included from /usr/local/lib/python3.6/site-packages/pythran/pythonic/types/ndarray.hpp:19:0,\n",
      "                 from /usr/local/lib/python3.6/site-packages/pythran/pythonic/numpy/reduce.hpp:6,\n",
      "                 from /usr/local/lib/python3.6/site-packages/pythran/pythonic/numpy/sum.hpp:5,\n",
      "                 from /var/folders/mw/nwq5qyg56fl585pb9jw81_qc0000gn/T/tmptxdnlb7v.cpp:16:\n",
      "/usr/local/lib/python3.6/site-packages/pythran/pythonic/types/raw_array.hpp:22:5: warning:   when initialized here [-Wreorder]\n",
      "     raw_array<T>::raw_array(size_t n)\n"
     ]
    },
    {
     "name": "stdout",
     "output_type": "stream",
     "text": [
      "     ^~~~~~~~~~~~\n"
     ]
    },
    {
     "name": "stderr",
     "output_type": "stream",
     "text": [
      "WARNING  Compilation error, trying hard to find its origin...\n",
      "WARNING  Nop, I'm going to flood you with C++ errors!\n"
     ]
    },
    {
     "ename": "CompileError",
     "evalue": "error: Command \"g++-7 -Wno-unused-result -Wsign-compare -Wunreachable-code -fno-common -dynamic -DNDEBUG -g -fwrapv -O3 -Wall -DUSE_GMP -DBOOST_SIMD_CONFIG_SUPPORT_POSIX_MEMALIGN -DENABLE_PYTHON_MODULE -D__PYTHRAN__=3 -I/usr/local/opt/openblas/include -I/usr/local/lib/python3.6/site-packages/pythran -I/usr/local/lib/python3.6/site-packages/numpy/core/include -I/usr/local/lib/python3.6/site-packages/numpy/core/include -I/usr/local/include -I/usr/local/opt/openssl/include -I/usr/local/opt/sqlite/include -I/usr/local/Cellar/python3/3.6.3/Frameworks/Python.framework/Versions/3.6/include/python3.6m -c /var/folders/mw/nwq5qyg56fl585pb9jw81_qc0000gn/T/tmptxdnlb7v.cpp -o /var/folders/mw/nwq5qyg56fl585pb9jw81_qc0000gn/T/tmpr7xy1xwb/var/folders/mw/nwq5qyg56fl585pb9jw81_qc0000gn/T/tmptxdnlb7v.o -std=c++11 -fno-math-errno\" failed with exit status 1",
     "output_type": "error",
     "traceback": [
      "\u001b[0;31m---------------------------------------------------------------------------\u001b[0m",
      "\u001b[0;31mDistutilsExecError\u001b[0m                        Traceback (most recent call last)",
      "\u001b[0;32m/usr/local/lib/python3.6/site-packages/numpy/distutils/unixccompiler.py\u001b[0m in \u001b[0;36mUnixCCompiler__compile\u001b[0;34m(self, obj, src, ext, cc_args, extra_postargs, pp_opts)\u001b[0m\n\u001b[1;32m     57\u001b[0m         self.spawn(self.compiler_so + cc_args + [src, '-o', obj] + deps +\n\u001b[0;32m---> 58\u001b[0;31m                    extra_postargs, display = display)\n\u001b[0m\u001b[1;32m     59\u001b[0m     \u001b[0;32mexcept\u001b[0m \u001b[0mDistutilsExecError\u001b[0m\u001b[0;34m:\u001b[0m\u001b[0;34m\u001b[0m\u001b[0m\n",
      "\u001b[0;32m/usr/local/lib/python3.6/site-packages/numpy/distutils/ccompiler.py\u001b[0m in \u001b[0;36m<lambda>\u001b[0;34m(self, *args, **kw)\u001b[0m\n\u001b[1;32m     88\u001b[0m         \u001b[0;31m# Py3k does not have unbound method anymore, MethodType does not work\u001b[0m\u001b[0;34m\u001b[0m\u001b[0;34m\u001b[0m\u001b[0m\n\u001b[0;32m---> 89\u001b[0;31m         \u001b[0mm\u001b[0m \u001b[0;34m=\u001b[0m \u001b[0;32mlambda\u001b[0m \u001b[0mself\u001b[0m\u001b[0;34m,\u001b[0m \u001b[0;34m*\u001b[0m\u001b[0margs\u001b[0m\u001b[0;34m,\u001b[0m \u001b[0;34m**\u001b[0m\u001b[0mkw\u001b[0m\u001b[0;34m:\u001b[0m \u001b[0mfunc\u001b[0m\u001b[0;34m(\u001b[0m\u001b[0mself\u001b[0m\u001b[0;34m,\u001b[0m \u001b[0;34m*\u001b[0m\u001b[0margs\u001b[0m\u001b[0;34m,\u001b[0m \u001b[0;34m**\u001b[0m\u001b[0mkw\u001b[0m\u001b[0;34m)\u001b[0m\u001b[0;34m\u001b[0m\u001b[0m\n\u001b[0m\u001b[1;32m     90\u001b[0m     \u001b[0msetattr\u001b[0m\u001b[0;34m(\u001b[0m\u001b[0mklass\u001b[0m\u001b[0;34m,\u001b[0m \u001b[0mmethod_name\u001b[0m\u001b[0;34m,\u001b[0m \u001b[0mm\u001b[0m\u001b[0;34m)\u001b[0m\u001b[0;34m\u001b[0m\u001b[0m\n",
      "\u001b[0;32m/usr/local/lib/python3.6/site-packages/numpy/distutils/ccompiler.py\u001b[0m in \u001b[0;36mCCompiler_spawn\u001b[0;34m(self, cmd, display)\u001b[0m\n\u001b[1;32m    151\u001b[0m             \u001b[0mmsg\u001b[0m \u001b[0;34m=\u001b[0m \u001b[0;34m''\u001b[0m\u001b[0;34m\u001b[0m\u001b[0m\n\u001b[0;32m--> 152\u001b[0;31m         \u001b[0;32mraise\u001b[0m \u001b[0mDistutilsExecError\u001b[0m\u001b[0;34m(\u001b[0m\u001b[0;34m'Command \"%s\" failed with exit status %d%s'\u001b[0m \u001b[0;34m%\u001b[0m \u001b[0;34m(\u001b[0m\u001b[0mcmd\u001b[0m\u001b[0;34m,\u001b[0m \u001b[0ms\u001b[0m\u001b[0;34m,\u001b[0m \u001b[0mmsg\u001b[0m\u001b[0;34m)\u001b[0m\u001b[0;34m)\u001b[0m\u001b[0;34m\u001b[0m\u001b[0m\n\u001b[0m\u001b[1;32m    153\u001b[0m \u001b[0;34m\u001b[0m\u001b[0m\n",
      "\u001b[0;31mDistutilsExecError\u001b[0m: Command \"g++-7 -Wno-unused-result -Wsign-compare -Wunreachable-code -fno-common -dynamic -DNDEBUG -g -fwrapv -O3 -Wall -DUSE_GMP -DBOOST_SIMD_CONFIG_SUPPORT_POSIX_MEMALIGN -DENABLE_PYTHON_MODULE -D__PYTHRAN__=3 -I/usr/local/opt/openblas/include -I/usr/local/lib/python3.6/site-packages/pythran -I/usr/local/lib/python3.6/site-packages/numpy/core/include -I/usr/local/lib/python3.6/site-packages/numpy/core/include -I/usr/local/include -I/usr/local/opt/openssl/include -I/usr/local/opt/sqlite/include -I/usr/local/Cellar/python3/3.6.3/Frameworks/Python.framework/Versions/3.6/include/python3.6m -c /var/folders/mw/nwq5qyg56fl585pb9jw81_qc0000gn/T/tmptxdnlb7v.cpp -o /var/folders/mw/nwq5qyg56fl585pb9jw81_qc0000gn/T/tmpr7xy1xwb/var/folders/mw/nwq5qyg56fl585pb9jw81_qc0000gn/T/tmptxdnlb7v.o -std=c++11 -fno-math-errno\" failed with exit status 1",
      "\nDuring handling of the above exception, another exception occurred:\n",
      "\u001b[0;31mCompileError\u001b[0m                              Traceback (most recent call last)",
      "\u001b[0;32m/usr/local/Cellar/python3/3.6.3/Frameworks/Python.framework/Versions/3.6/lib/python3.6/distutils/core.py\u001b[0m in \u001b[0;36msetup\u001b[0;34m(**attrs)\u001b[0m\n\u001b[1;32m    147\u001b[0m         \u001b[0;32mtry\u001b[0m\u001b[0;34m:\u001b[0m\u001b[0;34m\u001b[0m\u001b[0m\n\u001b[0;32m--> 148\u001b[0;31m             \u001b[0mdist\u001b[0m\u001b[0;34m.\u001b[0m\u001b[0mrun_commands\u001b[0m\u001b[0;34m(\u001b[0m\u001b[0;34m)\u001b[0m\u001b[0;34m\u001b[0m\u001b[0m\n\u001b[0m\u001b[1;32m    149\u001b[0m         \u001b[0;32mexcept\u001b[0m \u001b[0mKeyboardInterrupt\u001b[0m\u001b[0;34m:\u001b[0m\u001b[0;34m\u001b[0m\u001b[0m\n",
      "\u001b[0;32m/usr/local/Cellar/python3/3.6.3/Frameworks/Python.framework/Versions/3.6/lib/python3.6/distutils/dist.py\u001b[0m in \u001b[0;36mrun_commands\u001b[0;34m(self)\u001b[0m\n\u001b[1;32m    954\u001b[0m         \u001b[0;32mfor\u001b[0m \u001b[0mcmd\u001b[0m \u001b[0;32min\u001b[0m \u001b[0mself\u001b[0m\u001b[0;34m.\u001b[0m\u001b[0mcommands\u001b[0m\u001b[0;34m:\u001b[0m\u001b[0;34m\u001b[0m\u001b[0m\n\u001b[0;32m--> 955\u001b[0;31m             \u001b[0mself\u001b[0m\u001b[0;34m.\u001b[0m\u001b[0mrun_command\u001b[0m\u001b[0;34m(\u001b[0m\u001b[0mcmd\u001b[0m\u001b[0;34m)\u001b[0m\u001b[0;34m\u001b[0m\u001b[0m\n\u001b[0m\u001b[1;32m    956\u001b[0m \u001b[0;34m\u001b[0m\u001b[0m\n",
      "\u001b[0;32m/usr/local/Cellar/python3/3.6.3/Frameworks/Python.framework/Versions/3.6/lib/python3.6/distutils/dist.py\u001b[0m in \u001b[0;36mrun_command\u001b[0;34m(self, command)\u001b[0m\n\u001b[1;32m    973\u001b[0m         \u001b[0mcmd_obj\u001b[0m\u001b[0;34m.\u001b[0m\u001b[0mensure_finalized\u001b[0m\u001b[0;34m(\u001b[0m\u001b[0;34m)\u001b[0m\u001b[0;34m\u001b[0m\u001b[0m\n\u001b[0;32m--> 974\u001b[0;31m         \u001b[0mcmd_obj\u001b[0m\u001b[0;34m.\u001b[0m\u001b[0mrun\u001b[0m\u001b[0;34m(\u001b[0m\u001b[0;34m)\u001b[0m\u001b[0;34m\u001b[0m\u001b[0m\n\u001b[0m\u001b[1;32m    975\u001b[0m         \u001b[0mself\u001b[0m\u001b[0;34m.\u001b[0m\u001b[0mhave_run\u001b[0m\u001b[0;34m[\u001b[0m\u001b[0mcommand\u001b[0m\u001b[0;34m]\u001b[0m \u001b[0;34m=\u001b[0m \u001b[0;36m1\u001b[0m\u001b[0;34m\u001b[0m\u001b[0m\n",
      "\u001b[0;32m/usr/local/lib/python3.6/site-packages/numpy/distutils/command/build_ext.py\u001b[0m in \u001b[0;36mrun\u001b[0;34m(self)\u001b[0m\n\u001b[1;32m    256\u001b[0m         \u001b[0;31m# Build extensions\u001b[0m\u001b[0;34m\u001b[0m\u001b[0;34m\u001b[0m\u001b[0m\n\u001b[0;32m--> 257\u001b[0;31m         \u001b[0mself\u001b[0m\u001b[0;34m.\u001b[0m\u001b[0mbuild_extensions\u001b[0m\u001b[0;34m(\u001b[0m\u001b[0;34m)\u001b[0m\u001b[0;34m\u001b[0m\u001b[0m\n\u001b[0m\u001b[1;32m    258\u001b[0m \u001b[0;34m\u001b[0m\u001b[0m\n",
      "\u001b[0;32m/usr/local/Cellar/python3/3.6.3/Frameworks/Python.framework/Versions/3.6/lib/python3.6/distutils/command/build_ext.py\u001b[0m in \u001b[0;36mbuild_extensions\u001b[0;34m(self)\u001b[0m\n\u001b[1;32m    447\u001b[0m         \u001b[0;32melse\u001b[0m\u001b[0;34m:\u001b[0m\u001b[0;34m\u001b[0m\u001b[0m\n\u001b[0;32m--> 448\u001b[0;31m             \u001b[0mself\u001b[0m\u001b[0;34m.\u001b[0m\u001b[0m_build_extensions_serial\u001b[0m\u001b[0;34m(\u001b[0m\u001b[0;34m)\u001b[0m\u001b[0;34m\u001b[0m\u001b[0m\n\u001b[0m\u001b[1;32m    449\u001b[0m \u001b[0;34m\u001b[0m\u001b[0m\n",
      "\u001b[0;32m/usr/local/Cellar/python3/3.6.3/Frameworks/Python.framework/Versions/3.6/lib/python3.6/distutils/command/build_ext.py\u001b[0m in \u001b[0;36m_build_extensions_serial\u001b[0;34m(self)\u001b[0m\n\u001b[1;32m    472\u001b[0m             \u001b[0;32mwith\u001b[0m \u001b[0mself\u001b[0m\u001b[0;34m.\u001b[0m\u001b[0m_filter_build_errors\u001b[0m\u001b[0;34m(\u001b[0m\u001b[0mext\u001b[0m\u001b[0;34m)\u001b[0m\u001b[0;34m:\u001b[0m\u001b[0;34m\u001b[0m\u001b[0m\n\u001b[0;32m--> 473\u001b[0;31m                 \u001b[0mself\u001b[0m\u001b[0;34m.\u001b[0m\u001b[0mbuild_extension\u001b[0m\u001b[0;34m(\u001b[0m\u001b[0mext\u001b[0m\u001b[0;34m)\u001b[0m\u001b[0;34m\u001b[0m\u001b[0m\n\u001b[0m\u001b[1;32m    474\u001b[0m \u001b[0;34m\u001b[0m\u001b[0m\n",
      "\u001b[0;32m/usr/local/lib/python3.6/site-packages/numpy/distutils/command/build_ext.py\u001b[0m in \u001b[0;36mbuild_extension\u001b[0;34m(self, ext)\u001b[0m\n\u001b[1;32m    364\u001b[0m                                               \u001b[0mextra_postargs\u001b[0m\u001b[0;34m=\u001b[0m\u001b[0mextra_args\u001b[0m\u001b[0;34m,\u001b[0m\u001b[0;34m\u001b[0m\u001b[0m\n\u001b[0;32m--> 365\u001b[0;31m                                               **kws)\n\u001b[0m\u001b[1;32m    366\u001b[0m \u001b[0;34m\u001b[0m\u001b[0m\n",
      "\u001b[0;32m/usr/local/lib/python3.6/site-packages/numpy/distutils/ccompiler.py\u001b[0m in \u001b[0;36m<lambda>\u001b[0;34m(self, *args, **kw)\u001b[0m\n\u001b[1;32m     88\u001b[0m         \u001b[0;31m# Py3k does not have unbound method anymore, MethodType does not work\u001b[0m\u001b[0;34m\u001b[0m\u001b[0;34m\u001b[0m\u001b[0m\n\u001b[0;32m---> 89\u001b[0;31m         \u001b[0mm\u001b[0m \u001b[0;34m=\u001b[0m \u001b[0;32mlambda\u001b[0m \u001b[0mself\u001b[0m\u001b[0;34m,\u001b[0m \u001b[0;34m*\u001b[0m\u001b[0margs\u001b[0m\u001b[0;34m,\u001b[0m \u001b[0;34m**\u001b[0m\u001b[0mkw\u001b[0m\u001b[0;34m:\u001b[0m \u001b[0mfunc\u001b[0m\u001b[0;34m(\u001b[0m\u001b[0mself\u001b[0m\u001b[0;34m,\u001b[0m \u001b[0;34m*\u001b[0m\u001b[0margs\u001b[0m\u001b[0;34m,\u001b[0m \u001b[0;34m**\u001b[0m\u001b[0mkw\u001b[0m\u001b[0;34m)\u001b[0m\u001b[0;34m\u001b[0m\u001b[0m\n\u001b[0m\u001b[1;32m     90\u001b[0m     \u001b[0msetattr\u001b[0m\u001b[0;34m(\u001b[0m\u001b[0mklass\u001b[0m\u001b[0;34m,\u001b[0m \u001b[0mmethod_name\u001b[0m\u001b[0;34m,\u001b[0m \u001b[0mm\u001b[0m\u001b[0;34m)\u001b[0m\u001b[0;34m\u001b[0m\u001b[0m\n",
      "\u001b[0;32m/usr/local/lib/python3.6/site-packages/numpy/distutils/ccompiler.py\u001b[0m in \u001b[0;36mCCompiler_compile\u001b[0;34m(self, sources, output_dir, macros, include_dirs, debug, extra_preargs, extra_postargs, depends)\u001b[0m\n\u001b[1;32m    342\u001b[0m         \u001b[0;32mfor\u001b[0m \u001b[0mo\u001b[0m \u001b[0;32min\u001b[0m \u001b[0mbuild_items\u001b[0m\u001b[0;34m:\u001b[0m\u001b[0;34m\u001b[0m\u001b[0m\n\u001b[0;32m--> 343\u001b[0;31m             \u001b[0msingle_compile\u001b[0m\u001b[0;34m(\u001b[0m\u001b[0mo\u001b[0m\u001b[0;34m)\u001b[0m\u001b[0;34m\u001b[0m\u001b[0m\n\u001b[0m\u001b[1;32m    344\u001b[0m \u001b[0;34m\u001b[0m\u001b[0m\n",
      "\u001b[0;32m/usr/local/lib/python3.6/site-packages/numpy/distutils/ccompiler.py\u001b[0m in \u001b[0;36msingle_compile\u001b[0;34m(args)\u001b[0m\n\u001b[1;32m    302\u001b[0m             \u001b[0;32mwith\u001b[0m \u001b[0m_job_semaphore\u001b[0m\u001b[0;34m:\u001b[0m\u001b[0;34m\u001b[0m\u001b[0m\n\u001b[0;32m--> 303\u001b[0;31m                 \u001b[0mself\u001b[0m\u001b[0;34m.\u001b[0m\u001b[0m_compile\u001b[0m\u001b[0;34m(\u001b[0m\u001b[0mobj\u001b[0m\u001b[0;34m,\u001b[0m \u001b[0msrc\u001b[0m\u001b[0;34m,\u001b[0m \u001b[0mext\u001b[0m\u001b[0;34m,\u001b[0m \u001b[0mcc_args\u001b[0m\u001b[0;34m,\u001b[0m \u001b[0mextra_postargs\u001b[0m\u001b[0;34m,\u001b[0m \u001b[0mpp_opts\u001b[0m\u001b[0;34m)\u001b[0m\u001b[0;34m\u001b[0m\u001b[0m\n\u001b[0m\u001b[1;32m    304\u001b[0m         \u001b[0;32mfinally\u001b[0m\u001b[0;34m:\u001b[0m\u001b[0;34m\u001b[0m\u001b[0m\n",
      "\u001b[0;32m/usr/local/lib/python3.6/site-packages/numpy/distutils/ccompiler.py\u001b[0m in \u001b[0;36m<lambda>\u001b[0;34m(self, *args, **kw)\u001b[0m\n\u001b[1;32m     88\u001b[0m         \u001b[0;31m# Py3k does not have unbound method anymore, MethodType does not work\u001b[0m\u001b[0;34m\u001b[0m\u001b[0;34m\u001b[0m\u001b[0m\n\u001b[0;32m---> 89\u001b[0;31m         \u001b[0mm\u001b[0m \u001b[0;34m=\u001b[0m \u001b[0;32mlambda\u001b[0m \u001b[0mself\u001b[0m\u001b[0;34m,\u001b[0m \u001b[0;34m*\u001b[0m\u001b[0margs\u001b[0m\u001b[0;34m,\u001b[0m \u001b[0;34m**\u001b[0m\u001b[0mkw\u001b[0m\u001b[0;34m:\u001b[0m \u001b[0mfunc\u001b[0m\u001b[0;34m(\u001b[0m\u001b[0mself\u001b[0m\u001b[0;34m,\u001b[0m \u001b[0;34m*\u001b[0m\u001b[0margs\u001b[0m\u001b[0;34m,\u001b[0m \u001b[0;34m**\u001b[0m\u001b[0mkw\u001b[0m\u001b[0;34m)\u001b[0m\u001b[0;34m\u001b[0m\u001b[0m\n\u001b[0m\u001b[1;32m     90\u001b[0m     \u001b[0msetattr\u001b[0m\u001b[0;34m(\u001b[0m\u001b[0mklass\u001b[0m\u001b[0;34m,\u001b[0m \u001b[0mmethod_name\u001b[0m\u001b[0;34m,\u001b[0m \u001b[0mm\u001b[0m\u001b[0;34m)\u001b[0m\u001b[0;34m\u001b[0m\u001b[0m\n",
      "\u001b[0;32m/usr/local/lib/python3.6/site-packages/numpy/distutils/unixccompiler.py\u001b[0m in \u001b[0;36mUnixCCompiler__compile\u001b[0;34m(self, obj, src, ext, cc_args, extra_postargs, pp_opts)\u001b[0m\n\u001b[1;32m     60\u001b[0m         \u001b[0mmsg\u001b[0m \u001b[0;34m=\u001b[0m \u001b[0mstr\u001b[0m\u001b[0;34m(\u001b[0m\u001b[0mget_exception\u001b[0m\u001b[0;34m(\u001b[0m\u001b[0;34m)\u001b[0m\u001b[0;34m)\u001b[0m\u001b[0;34m\u001b[0m\u001b[0m\n\u001b[0;32m---> 61\u001b[0;31m         \u001b[0;32mraise\u001b[0m \u001b[0mCompileError\u001b[0m\u001b[0;34m(\u001b[0m\u001b[0mmsg\u001b[0m\u001b[0;34m)\u001b[0m\u001b[0;34m\u001b[0m\u001b[0m\n\u001b[0m\u001b[1;32m     62\u001b[0m \u001b[0;34m\u001b[0m\u001b[0m\n",
      "\u001b[0;31mCompileError\u001b[0m: Command \"g++-7 -Wno-unused-result -Wsign-compare -Wunreachable-code -fno-common -dynamic -DNDEBUG -g -fwrapv -O3 -Wall -DUSE_GMP -DBOOST_SIMD_CONFIG_SUPPORT_POSIX_MEMALIGN -DENABLE_PYTHON_MODULE -D__PYTHRAN__=3 -I/usr/local/opt/openblas/include -I/usr/local/lib/python3.6/site-packages/pythran -I/usr/local/lib/python3.6/site-packages/numpy/core/include -I/usr/local/lib/python3.6/site-packages/numpy/core/include -I/usr/local/include -I/usr/local/opt/openssl/include -I/usr/local/opt/sqlite/include -I/usr/local/Cellar/python3/3.6.3/Frameworks/Python.framework/Versions/3.6/include/python3.6m -c /var/folders/mw/nwq5qyg56fl585pb9jw81_qc0000gn/T/tmptxdnlb7v.cpp -o /var/folders/mw/nwq5qyg56fl585pb9jw81_qc0000gn/T/tmpr7xy1xwb/var/folders/mw/nwq5qyg56fl585pb9jw81_qc0000gn/T/tmptxdnlb7v.o -std=c++11 -fno-math-errno\" failed with exit status 1",
      "\nDuring handling of the above exception, another exception occurred:\n",
      "\u001b[0;31mSystemExit\u001b[0m                                Traceback (most recent call last)",
      "\u001b[0;32m/usr/local/lib/python3.6/site-packages/pythran/toolchain.py\u001b[0m in \u001b[0;36mcompile_cxxfile\u001b[0;34m(module_name, cxxfile, output_binary, **kwargs)\u001b[0m\n\u001b[1;32m    274\u001b[0m                            \u001b[0;34m'--build-lib'\u001b[0m\u001b[0;34m,\u001b[0m \u001b[0mbuilddir\u001b[0m\u001b[0;34m,\u001b[0m\u001b[0;34m\u001b[0m\u001b[0m\n\u001b[0;32m--> 275\u001b[0;31m                            \u001b[0;34m'--build-temp'\u001b[0m\u001b[0;34m,\u001b[0m \u001b[0mbuildtmp\u001b[0m\u001b[0;34m,\u001b[0m\u001b[0;34m\u001b[0m\u001b[0m\n\u001b[0m\u001b[1;32m    276\u001b[0m                            ]\n",
      "\u001b[0;32m/usr/local/lib/python3.6/site-packages/numpy/distutils/core.py\u001b[0m in \u001b[0;36msetup\u001b[0;34m(**attr)\u001b[0m\n\u001b[1;32m    168\u001b[0m \u001b[0;34m\u001b[0m\u001b[0m\n\u001b[0;32m--> 169\u001b[0;31m     \u001b[0;32mreturn\u001b[0m \u001b[0mold_setup\u001b[0m\u001b[0;34m(\u001b[0m\u001b[0;34m**\u001b[0m\u001b[0mnew_attr\u001b[0m\u001b[0;34m)\u001b[0m\u001b[0;34m\u001b[0m\u001b[0m\n\u001b[0m\u001b[1;32m    170\u001b[0m \u001b[0;34m\u001b[0m\u001b[0m\n",
      "\u001b[0;32m/usr/local/Cellar/python3/3.6.3/Frameworks/Python.framework/Versions/3.6/lib/python3.6/distutils/core.py\u001b[0m in \u001b[0;36msetup\u001b[0;34m(**attrs)\u001b[0m\n\u001b[1;32m    162\u001b[0m             \u001b[0;32melse\u001b[0m\u001b[0;34m:\u001b[0m\u001b[0;34m\u001b[0m\u001b[0m\n\u001b[0;32m--> 163\u001b[0;31m                 \u001b[0;32mraise\u001b[0m \u001b[0mSystemExit\u001b[0m\u001b[0;34m(\u001b[0m\u001b[0;34m\"error: \"\u001b[0m \u001b[0;34m+\u001b[0m \u001b[0mstr\u001b[0m\u001b[0;34m(\u001b[0m\u001b[0mmsg\u001b[0m\u001b[0;34m)\u001b[0m\u001b[0;34m)\u001b[0m\u001b[0;34m\u001b[0m\u001b[0m\n\u001b[0m\u001b[1;32m    164\u001b[0m \u001b[0;34m\u001b[0m\u001b[0m\n",
      "\u001b[0;31mSystemExit\u001b[0m: error: Command \"g++-7 -Wno-unused-result -Wsign-compare -Wunreachable-code -fno-common -dynamic -DNDEBUG -g -fwrapv -O3 -Wall -DUSE_GMP -DBOOST_SIMD_CONFIG_SUPPORT_POSIX_MEMALIGN -DENABLE_PYTHON_MODULE -D__PYTHRAN__=3 -I/usr/local/opt/openblas/include -I/usr/local/lib/python3.6/site-packages/pythran -I/usr/local/lib/python3.6/site-packages/numpy/core/include -I/usr/local/lib/python3.6/site-packages/numpy/core/include -I/usr/local/include -I/usr/local/opt/openssl/include -I/usr/local/opt/sqlite/include -I/usr/local/Cellar/python3/3.6.3/Frameworks/Python.framework/Versions/3.6/include/python3.6m -c /var/folders/mw/nwq5qyg56fl585pb9jw81_qc0000gn/T/tmptxdnlb7v.cpp -o /var/folders/mw/nwq5qyg56fl585pb9jw81_qc0000gn/T/tmpr7xy1xwb/var/folders/mw/nwq5qyg56fl585pb9jw81_qc0000gn/T/tmptxdnlb7v.o -std=c++11 -fno-math-errno\" failed with exit status 1",
      "\nDuring handling of the above exception, another exception occurred:\n",
      "\u001b[0;31mCompileError\u001b[0m                              Traceback (most recent call last)",
      "\u001b[0;32m<ipython-input-17-2656d1a1bc90>\u001b[0m in \u001b[0;36m<module>\u001b[0;34m()\u001b[0m\n\u001b[0;32m----> 1\u001b[0;31m \u001b[0mget_ipython\u001b[0m\u001b[0;34m(\u001b[0m\u001b[0;34m)\u001b[0m\u001b[0;34m.\u001b[0m\u001b[0mrun_cell_magic\u001b[0m\u001b[0;34m(\u001b[0m\u001b[0;34m'pythran'\u001b[0m\u001b[0;34m,\u001b[0m \u001b[0;34m''\u001b[0m\u001b[0;34m,\u001b[0m \u001b[0;34m'import numpy as np\\n#pythran export pi_numpy_style_pythran(int)\\ndef pi_numpy_style_pythran(n):\\n    step = 1.0 / n\\n    x = (np.arange(0, n, dtype=np.float64) + 0.5) * step\\n    return step * np.sum(4. / (1. + x ** 2))'\u001b[0m\u001b[0;34m)\u001b[0m\u001b[0;34m\u001b[0m\u001b[0m\n\u001b[0m",
      "\u001b[0;32m/usr/local/lib/python3.6/site-packages/IPython/core/interactiveshell.py\u001b[0m in \u001b[0;36mrun_cell_magic\u001b[0;34m(self, magic_name, line, cell)\u001b[0m\n\u001b[1;32m   2129\u001b[0m             \u001b[0mmagic_arg_s\u001b[0m \u001b[0;34m=\u001b[0m \u001b[0mself\u001b[0m\u001b[0;34m.\u001b[0m\u001b[0mvar_expand\u001b[0m\u001b[0;34m(\u001b[0m\u001b[0mline\u001b[0m\u001b[0;34m,\u001b[0m \u001b[0mstack_depth\u001b[0m\u001b[0;34m)\u001b[0m\u001b[0;34m\u001b[0m\u001b[0m\n\u001b[1;32m   2130\u001b[0m             \u001b[0;32mwith\u001b[0m \u001b[0mself\u001b[0m\u001b[0;34m.\u001b[0m\u001b[0mbuiltin_trap\u001b[0m\u001b[0;34m:\u001b[0m\u001b[0;34m\u001b[0m\u001b[0m\n\u001b[0;32m-> 2131\u001b[0;31m                 \u001b[0mresult\u001b[0m \u001b[0;34m=\u001b[0m \u001b[0mfn\u001b[0m\u001b[0;34m(\u001b[0m\u001b[0mmagic_arg_s\u001b[0m\u001b[0;34m,\u001b[0m \u001b[0mcell\u001b[0m\u001b[0;34m)\u001b[0m\u001b[0;34m\u001b[0m\u001b[0m\n\u001b[0m\u001b[1;32m   2132\u001b[0m             \u001b[0;32mreturn\u001b[0m \u001b[0mresult\u001b[0m\u001b[0;34m\u001b[0m\u001b[0m\n\u001b[1;32m   2133\u001b[0m \u001b[0;34m\u001b[0m\u001b[0m\n",
      "\u001b[0;32m<decorator-gen-573>\u001b[0m in \u001b[0;36mpythran\u001b[0;34m(self, line, cell)\u001b[0m\n",
      "\u001b[0;32m/usr/local/lib/python3.6/site-packages/IPython/core/magic.py\u001b[0m in \u001b[0;36m<lambda>\u001b[0;34m(f, *a, **k)\u001b[0m\n\u001b[1;32m    185\u001b[0m     \u001b[0;31m# but it's overkill for just that one bit of state.\u001b[0m\u001b[0;34m\u001b[0m\u001b[0;34m\u001b[0m\u001b[0m\n\u001b[1;32m    186\u001b[0m     \u001b[0;32mdef\u001b[0m \u001b[0mmagic_deco\u001b[0m\u001b[0;34m(\u001b[0m\u001b[0marg\u001b[0m\u001b[0;34m)\u001b[0m\u001b[0;34m:\u001b[0m\u001b[0;34m\u001b[0m\u001b[0m\n\u001b[0;32m--> 187\u001b[0;31m         \u001b[0mcall\u001b[0m \u001b[0;34m=\u001b[0m \u001b[0;32mlambda\u001b[0m \u001b[0mf\u001b[0m\u001b[0;34m,\u001b[0m \u001b[0;34m*\u001b[0m\u001b[0ma\u001b[0m\u001b[0;34m,\u001b[0m \u001b[0;34m**\u001b[0m\u001b[0mk\u001b[0m\u001b[0;34m:\u001b[0m \u001b[0mf\u001b[0m\u001b[0;34m(\u001b[0m\u001b[0;34m*\u001b[0m\u001b[0ma\u001b[0m\u001b[0;34m,\u001b[0m \u001b[0;34m**\u001b[0m\u001b[0mk\u001b[0m\u001b[0;34m)\u001b[0m\u001b[0;34m\u001b[0m\u001b[0m\n\u001b[0m\u001b[1;32m    188\u001b[0m \u001b[0;34m\u001b[0m\u001b[0m\n\u001b[1;32m    189\u001b[0m         \u001b[0;32mif\u001b[0m \u001b[0mcallable\u001b[0m\u001b[0;34m(\u001b[0m\u001b[0marg\u001b[0m\u001b[0;34m)\u001b[0m\u001b[0;34m:\u001b[0m\u001b[0;34m\u001b[0m\u001b[0m\n",
      "\u001b[0;32m/usr/local/lib/python3.6/site-packages/pythran/magic.py\u001b[0m in \u001b[0;36mpythran\u001b[0;34m(self, line, cell)\u001b[0m\n\u001b[1;32m     69\u001b[0m         \u001b[0mm\u001b[0m\u001b[0;34m.\u001b[0m\u001b[0mupdate\u001b[0m\u001b[0;34m(\u001b[0m\u001b[0mcell\u001b[0m\u001b[0;34m.\u001b[0m\u001b[0mencode\u001b[0m\u001b[0;34m(\u001b[0m\u001b[0;34m'utf-8'\u001b[0m\u001b[0;34m)\u001b[0m\u001b[0;34m)\u001b[0m\u001b[0;34m\u001b[0m\u001b[0m\n\u001b[1;32m     70\u001b[0m         \u001b[0mmodule_name\u001b[0m \u001b[0;34m=\u001b[0m \u001b[0;34m\"pythranized_\"\u001b[0m \u001b[0;34m+\u001b[0m \u001b[0mm\u001b[0m\u001b[0;34m.\u001b[0m\u001b[0mhexdigest\u001b[0m\u001b[0;34m(\u001b[0m\u001b[0;34m)\u001b[0m\u001b[0;34m\u001b[0m\u001b[0m\n\u001b[0;32m---> 71\u001b[0;31m         \u001b[0mmodule_path\u001b[0m \u001b[0;34m=\u001b[0m \u001b[0mpythran\u001b[0m\u001b[0;34m.\u001b[0m\u001b[0mcompile_pythrancode\u001b[0m\u001b[0;34m(\u001b[0m\u001b[0mmodule_name\u001b[0m\u001b[0;34m,\u001b[0m \u001b[0mcell\u001b[0m\u001b[0;34m,\u001b[0m \u001b[0;34m**\u001b[0m\u001b[0mkwargs\u001b[0m\u001b[0;34m)\u001b[0m\u001b[0;34m\u001b[0m\u001b[0m\n\u001b[0m\u001b[1;32m     72\u001b[0m         \u001b[0mmodule\u001b[0m \u001b[0;34m=\u001b[0m \u001b[0mimp\u001b[0m\u001b[0;34m.\u001b[0m\u001b[0mload_dynamic\u001b[0m\u001b[0;34m(\u001b[0m\u001b[0mmodule_name\u001b[0m\u001b[0;34m,\u001b[0m \u001b[0mmodule_path\u001b[0m\u001b[0;34m)\u001b[0m\u001b[0;34m\u001b[0m\u001b[0m\n\u001b[1;32m     73\u001b[0m         \u001b[0mself\u001b[0m\u001b[0;34m.\u001b[0m\u001b[0m_import_all\u001b[0m\u001b[0;34m(\u001b[0m\u001b[0mmodule\u001b[0m\u001b[0;34m)\u001b[0m\u001b[0;34m\u001b[0m\u001b[0m\n",
      "\u001b[0;32m/usr/local/lib/python3.6/site-packages/pythran/toolchain.py\u001b[0m in \u001b[0;36mcompile_pythrancode\u001b[0;34m(module_name, pythrancode, specs, opts, cpponly, output_file, **kwargs)\u001b[0m\n\u001b[1;32m    345\u001b[0m                                           \u001b[0mstr\u001b[0m\u001b[0;34m(\u001b[0m\u001b[0mmodule\u001b[0m\u001b[0;34m)\u001b[0m\u001b[0;34m,\u001b[0m\u001b[0;34m\u001b[0m\u001b[0m\n\u001b[1;32m    346\u001b[0m                                           \u001b[0moutput_binary\u001b[0m\u001b[0;34m=\u001b[0m\u001b[0moutput_file\u001b[0m\u001b[0;34m,\u001b[0m\u001b[0;34m\u001b[0m\u001b[0m\n\u001b[0;32m--> 347\u001b[0;31m                                           **kwargs)\n\u001b[0m\u001b[1;32m    348\u001b[0m         \u001b[0;32mexcept\u001b[0m \u001b[0mCompileError\u001b[0m \u001b[0;32mas\u001b[0m \u001b[0mce\u001b[0m\u001b[0;34m:\u001b[0m\u001b[0;34m\u001b[0m\u001b[0m\n\u001b[1;32m    349\u001b[0m             \u001b[0mlogger\u001b[0m\u001b[0;34m.\u001b[0m\u001b[0mwarn\u001b[0m\u001b[0;34m(\u001b[0m\u001b[0;34m\"Compilation error, trying hard to find its origin...\"\u001b[0m\u001b[0;34m)\u001b[0m\u001b[0;34m\u001b[0m\u001b[0m\n",
      "\u001b[0;32m/usr/local/lib/python3.6/site-packages/pythran/toolchain.py\u001b[0m in \u001b[0;36mcompile_cxxcode\u001b[0;34m(module_name, cxxcode, output_binary, keep_temp, **kwargs)\u001b[0m\n\u001b[1;32m    303\u001b[0m     \u001b[0m_\u001b[0m\u001b[0;34m,\u001b[0m \u001b[0mfdpath\u001b[0m \u001b[0;34m=\u001b[0m \u001b[0m_get_temp\u001b[0m\u001b[0;34m(\u001b[0m\u001b[0mcxxcode\u001b[0m\u001b[0;34m)\u001b[0m\u001b[0;34m\u001b[0m\u001b[0m\n\u001b[1;32m    304\u001b[0m     output_binary = compile_cxxfile(module_name, fdpath,\n\u001b[0;32m--> 305\u001b[0;31m                                     output_binary, **kwargs)\n\u001b[0m\u001b[1;32m    306\u001b[0m     \u001b[0;32mif\u001b[0m \u001b[0;32mnot\u001b[0m \u001b[0mkeep_temp\u001b[0m\u001b[0;34m:\u001b[0m\u001b[0;34m\u001b[0m\u001b[0m\n\u001b[1;32m    307\u001b[0m         \u001b[0;31m# remove tempfile\u001b[0m\u001b[0;34m\u001b[0m\u001b[0;34m\u001b[0m\u001b[0m\n",
      "\u001b[0;32m/usr/local/lib/python3.6/site-packages/pythran/toolchain.py\u001b[0m in \u001b[0;36mcompile_cxxfile\u001b[0;34m(module_name, cxxfile, output_binary, **kwargs)\u001b[0m\n\u001b[1;32m    277\u001b[0m               )\n\u001b[1;32m    278\u001b[0m     \u001b[0;32mexcept\u001b[0m \u001b[0mSystemExit\u001b[0m \u001b[0;32mas\u001b[0m \u001b[0me\u001b[0m\u001b[0;34m:\u001b[0m\u001b[0;34m\u001b[0m\u001b[0m\n\u001b[0;32m--> 279\u001b[0;31m         \u001b[0;32mraise\u001b[0m \u001b[0mCompileError\u001b[0m\u001b[0;34m(\u001b[0m\u001b[0mstr\u001b[0m\u001b[0;34m(\u001b[0m\u001b[0me\u001b[0m\u001b[0;34m)\u001b[0m\u001b[0;34m)\u001b[0m\u001b[0;34m\u001b[0m\u001b[0m\n\u001b[0m\u001b[1;32m    280\u001b[0m \u001b[0;34m\u001b[0m\u001b[0m\n\u001b[1;32m    281\u001b[0m     \u001b[0;34m[\u001b[0m\u001b[0mtarget\u001b[0m\u001b[0;34m]\u001b[0m \u001b[0;34m=\u001b[0m \u001b[0mglob\u001b[0m\u001b[0;34m.\u001b[0m\u001b[0mglob\u001b[0m\u001b[0;34m(\u001b[0m\u001b[0mos\u001b[0m\u001b[0;34m.\u001b[0m\u001b[0mpath\u001b[0m\u001b[0;34m.\u001b[0m\u001b[0mjoin\u001b[0m\u001b[0;34m(\u001b[0m\u001b[0mbuilddir\u001b[0m\u001b[0;34m,\u001b[0m \u001b[0mmodule_name\u001b[0m \u001b[0;34m+\u001b[0m \u001b[0;34m\"*\"\u001b[0m\u001b[0;34m)\u001b[0m\u001b[0;34m)\u001b[0m\u001b[0;34m\u001b[0m\u001b[0m\n",
      "\u001b[0;31mCompileError\u001b[0m: error: Command \"g++-7 -Wno-unused-result -Wsign-compare -Wunreachable-code -fno-common -dynamic -DNDEBUG -g -fwrapv -O3 -Wall -DUSE_GMP -DBOOST_SIMD_CONFIG_SUPPORT_POSIX_MEMALIGN -DENABLE_PYTHON_MODULE -D__PYTHRAN__=3 -I/usr/local/opt/openblas/include -I/usr/local/lib/python3.6/site-packages/pythran -I/usr/local/lib/python3.6/site-packages/numpy/core/include -I/usr/local/lib/python3.6/site-packages/numpy/core/include -I/usr/local/include -I/usr/local/opt/openssl/include -I/usr/local/opt/sqlite/include -I/usr/local/Cellar/python3/3.6.3/Frameworks/Python.framework/Versions/3.6/include/python3.6m -c /var/folders/mw/nwq5qyg56fl585pb9jw81_qc0000gn/T/tmptxdnlb7v.cpp -o /var/folders/mw/nwq5qyg56fl585pb9jw81_qc0000gn/T/tmpr7xy1xwb/var/folders/mw/nwq5qyg56fl585pb9jw81_qc0000gn/T/tmptxdnlb7v.o -std=c++11 -fno-math-errno\" failed with exit status 1"
     ]
    }
   ],
   "source": [
    "%%pythran\n",
    "import numpy as np\n",
    "#pythran export pi_numpy_style_pythran(int)\n",
    "def pi_numpy_style_pythran(n):\n",
    "    step = 1.0 / n\n",
    "    x = (np.arange(0, n, dtype=np.float64) + 0.5) * step\n",
    "    return step * np.sum(4. / (1. + x ** 2))\n"
   ]
  },
  {
   "cell_type": "markdown",
   "metadata": {
    "slideshow": {
     "slide_type": "slide"
    }
   },
   "source": [
    "# Type Annotations\n",
    "\n",
    "Consider the following function:"
   ]
  },
  {
   "cell_type": "code",
   "execution_count": 18,
   "metadata": {
    "slideshow": {
     "slide_type": "fragment"
    }
   },
   "outputs": [],
   "source": [
    "%%pythran\n",
    "#pythran export f_pythran(int, int)\n",
    "def f_pythran(u, v):\n",
    "    return u+v"
   ]
  },
  {
   "cell_type": "code",
   "execution_count": 19,
   "metadata": {
    "slideshow": {
     "slide_type": "fragment"
    }
   },
   "outputs": [
    {
     "ename": "TypeError",
     "evalue": "Invalid argument type for pythranized function `f_pythran'.\nCandidates are:\n   f_pythran(long,long)\n",
     "output_type": "error",
     "traceback": [
      "\u001b[0;31m---------------------------------------------------------------------------\u001b[0m",
      "\u001b[0;31mTypeError\u001b[0m                                 Traceback (most recent call last)",
      "\u001b[0;32m<ipython-input-19-e476707442b1>\u001b[0m in \u001b[0;36m<module>\u001b[0;34m()\u001b[0m\n\u001b[0;32m----> 1\u001b[0;31m \u001b[0mf_pythran\u001b[0m\u001b[0;34m(\u001b[0m\u001b[0;36m1.0\u001b[0m\u001b[0;34m,\u001b[0m\u001b[0;36m2.0\u001b[0m\u001b[0;34m)\u001b[0m\u001b[0;34m\u001b[0m\u001b[0m\n\u001b[0m",
      "\u001b[0;31mTypeError\u001b[0m: Invalid argument type for pythranized function `f_pythran'.\nCandidates are:\n   f_pythran(long,long)\n"
     ]
    }
   ],
   "source": [
    "f_pythran(1.0,2.0)"
   ]
  },
  {
   "cell_type": "markdown",
   "metadata": {
    "slideshow": {
     "slide_type": "slide"
    }
   },
   "source": [
    "Use double export to specify the overloads:"
   ]
  },
  {
   "cell_type": "code",
   "execution_count": 20,
   "metadata": {
    "slideshow": {
     "slide_type": "fragment"
    }
   },
   "outputs": [],
   "source": [
    "%%pythran\n",
    "#pythran export f_pythran(int, int)\n",
    "#pythran export f_pythran(float64, float64)\n",
    "def f_pythran(u, v):\n",
    "    return u+v"
   ]
  },
  {
   "cell_type": "code",
   "execution_count": 21,
   "metadata": {
    "slideshow": {
     "slide_type": "fragment"
    }
   },
   "outputs": [
    {
     "data": {
      "text/plain": [
       "(3.0, 2)"
      ]
     },
     "execution_count": 21,
     "metadata": {},
     "output_type": "execute_result"
    }
   ],
   "source": [
    "f_pythran(1.0,2.0), f_pythran(1,1)"
   ]
  },
  {
   "cell_type": "markdown",
   "metadata": {
    "slideshow": {
     "slide_type": "slide"
    }
   },
   "source": [
    "# Using Pythran from the Command Line\n",
    "\n",
    "1. Write your code to Pythranize into a seperate file;\n",
    "2. Call the Pythran compiler."
   ]
  },
  {
   "cell_type": "code",
   "execution_count": 22,
   "metadata": {
    "slideshow": {
     "slide_type": "fragment"
    }
   },
   "outputs": [
    {
     "name": "stdout",
     "output_type": "stream",
     "text": [
      "Writing scrabble.py\n"
     ]
    }
   ],
   "source": [
    "%%file scrabble.py\n",
    "#pythran export scrabble_score(str, str:int dict)\n",
    "def scrabble_score(word, scoretable):\n",
    "    score = 0\n",
    "    for letter in word:\n",
    "        if letter in scoretable:\n",
    "            score += scoretable[letter]\n",
    "    return score\n"
   ]
  },
  {
   "cell_type": "code",
   "execution_count": 23,
   "metadata": {},
   "outputs": [
    {
     "name": "stdout",
     "output_type": "stream",
     "text": [
      "WARNING  Pythran support disabled for module: omp\n",
      "running build_ext\n",
      "running build_src\n",
      "build_src\n",
      "building extension \"scrabble\" sources\n",
      "build_src: building npy-pkg config files\n",
      "new_compiler returns <class 'distutils.unixccompiler.UnixCCompiler'>\n",
      "INFO     customize UnixCCompiler\n",
      "customize UnixCCompiler using build_ext\n",
      "********************************************************************************\n",
      "<class 'distutils.unixccompiler.UnixCCompiler'>\n",
      "preprocessor  = ['gcc-7', '-E']\n",
      "compiler      = ['gcc-7', '-Wno-unused-result', '-Wsign-compare', '-Wunreachable-code', '-fno-common', '-dynamic', '-DNDEBUG', '-g', '-fwrapv', '-O3', '-Wall', '-Wstrict-prototypes']\n",
      "compiler_so   = ['gcc-7', '-Wno-unused-result', '-Wsign-compare', '-Wunreachable-code', '-fno-common', '-dynamic', '-DNDEBUG', '-g', '-fwrapv', '-O3', '-Wall', '-Wstrict-prototypes']\n",
      "compiler_cxx  = ['g++-7']\n",
      "linker_so     = ['gcc-7', '-bundle', '-undefined', 'dynamic_lookup']\n",
      "linker_exe    = ['gcc-7']\n",
      "archiver      = ['ar', 'rc']\n",
      "ranlib        = ['ranlib']\n",
      "libraries     = []\n",
      "library_dirs  = ['/usr/local/lib', '/usr/local/opt/openssl/lib', '/usr/local/opt/sqlite/lib']\n",
      "include_dirs  = ['/usr/local/include', '/usr/local/opt/openssl/include', '/usr/local/opt/sqlite/include', '/usr/local/Cellar/python3/3.6.3/Frameworks/Python.framework/Versions/3.6/include/python3.6m']\n",
      "********************************************************************************\n",
      "new_compiler returns <class 'distutils.unixccompiler.UnixCCompiler'>\n",
      "INFO     customize UnixCCompiler\n",
      "customize UnixCCompiler using build_ext\n",
      "********************************************************************************\n",
      "<class 'distutils.unixccompiler.UnixCCompiler'>\n",
      "preprocessor  = ['gcc-7', '-E']\n",
      "compiler      = ['gcc-7', '-Wno-unused-result', '-Wsign-compare', '-Wunreachable-code', '-fno-common', '-dynamic', '-DNDEBUG', '-g', '-fwrapv', '-O3', '-Wall', '-Wstrict-prototypes']\n",
      "compiler_so   = ['gcc-7', '-Wno-unused-result', '-Wsign-compare', '-Wunreachable-code', '-fno-common', '-dynamic', '-DNDEBUG', '-g', '-fwrapv', '-O3', '-Wall']\n",
      "compiler_cxx  = ['g++-7']\n",
      "linker_so     = ['gcc-7', '-bundle', '-undefined', 'dynamic_lookup']\n",
      "linker_exe    = ['gcc-7']\n",
      "archiver      = ['ar', 'rc']\n",
      "ranlib        = ['ranlib']\n",
      "libraries     = []\n",
      "library_dirs  = ['/usr/local/lib', '/usr/local/opt/openssl/lib', '/usr/local/opt/sqlite/lib']\n",
      "include_dirs  = ['/usr/local/include', '/usr/local/opt/openssl/include', '/usr/local/opt/sqlite/include', '/usr/local/Cellar/python3/3.6.3/Frameworks/Python.framework/Versions/3.6/include/python3.6m']\n",
      "********************************************************************************\n",
      "building 'scrabble' extension\n",
      "compiling C++ sources\n",
      "C compiler: g++-7 -Wno-unused-result -Wsign-compare -Wunreachable-code -fno-common -dynamic -DNDEBUG -g -fwrapv -O3 -Wall\n",
      "\n",
      "creating /var/folders/mw/nwq5qyg56fl585pb9jw81_qc0000gn/T/tmpxkdi436c/var\n",
      "creating /var/folders/mw/nwq5qyg56fl585pb9jw81_qc0000gn/T/tmpxkdi436c/var/folders\n",
      "creating /var/folders/mw/nwq5qyg56fl585pb9jw81_qc0000gn/T/tmpxkdi436c/var/folders/mw\n",
      "creating /var/folders/mw/nwq5qyg56fl585pb9jw81_qc0000gn/T/tmpxkdi436c/var/folders/mw/nwq5qyg56fl585pb9jw81_qc0000gn\n",
      "creating /var/folders/mw/nwq5qyg56fl585pb9jw81_qc0000gn/T/tmpxkdi436c/var/folders/mw/nwq5qyg56fl585pb9jw81_qc0000gn/T\n",
      "compile options: '-DUSE_GMP -DBOOST_SIMD_CONFIG_SUPPORT_POSIX_MEMALIGN -DENABLE_PYTHON_MODULE -D__PYTHRAN__=3 -I/usr/local/opt/openblas/include -I/usr/local/lib/python3.6/site-packages/pythran -I/usr/local/lib/python3.6/site-packages/numpy/core/include -I/usr/local/lib/python3.6/site-packages/numpy/core/include -I/usr/local/include -I/usr/local/opt/openssl/include -I/usr/local/opt/sqlite/include -I/usr/local/Cellar/python3/3.6.3/Frameworks/Python.framework/Versions/3.6/include/python3.6m -c'\n",
      "extra options: '-std=c++11 -fno-math-errno'\n",
      "g++-7: /var/folders/mw/nwq5qyg56fl585pb9jw81_qc0000gn/T/tmpsfdg3zss.cpp\n",
      "exec_command(['g++-7', '-Wno-unused-result', '-Wsign-compare', '-Wunreachable-code', '-fno-common', '-dynamic', '-DNDEBUG', '-g', '-fwrapv', '-O3', '-Wall', '-DUSE_GMP', '-DBOOST_SIMD_CONFIG_SUPPORT_POSIX_MEMALIGN', '-DENABLE_PYTHON_MODULE', '-D__PYTHRAN__=3', '-I/usr/local/opt/openblas/include', '-I/usr/local/lib/python3.6/site-packages/pythran', '-I/usr/local/lib/python3.6/site-packages/numpy/core/include', '-I/usr/local/lib/python3.6/site-packages/numpy/core/include', '-I/usr/local/include', '-I/usr/local/opt/openssl/include', '-I/usr/local/opt/sqlite/include', '-I/usr/local/Cellar/python3/3.6.3/Frameworks/Python.framework/Versions/3.6/include/python3.6m', '-c', '/var/folders/mw/nwq5qyg56fl585pb9jw81_qc0000gn/T/tmpsfdg3zss.cpp', '-o', '/var/folders/mw/nwq5qyg56fl585pb9jw81_qc0000gn/T/tmpxkdi436c/var/folders/mw/nwq5qyg56fl585pb9jw81_qc0000gn/T/tmpsfdg3zss.o', '-std=c++11', '-fno-math-errno'],)\n",
      "Retaining cwd: /Users/navaro/PycharmProjects/notebooks-python\n",
      "_preserve_environment([])\n",
      "_update_environment(...)\n",
      "_update_environment(...)\n",
      "g++-7 -bundle -undefined dynamic_lookup /var/folders/mw/nwq5qyg56fl585pb9jw81_qc0000gn/T/tmpxkdi436c/var/folders/mw/nwq5qyg56fl585pb9jw81_qc0000gn/T/tmpsfdg3zss.o -L/usr/local/opt/openblas/lib -L/usr/local/lib -L/usr/local/opt/openssl/lib -L/usr/local/opt/sqlite/lib -lgmp -lgmpxx -lopenblas -o /var/folders/mw/nwq5qyg56fl585pb9jw81_qc0000gn/T/tmp0jdjm0n8/scrabble.cpython-36m-darwin.so\n",
      "exec_command(['g++-7', '-bundle', '-undefined', 'dynamic_lookup', '/var/folders/mw/nwq5qyg56fl585pb9jw81_qc0000gn/T/tmpxkdi436c/var/folders/mw/nwq5qyg56fl585pb9jw81_qc0000gn/T/tmpsfdg3zss.o', '-L/usr/local/opt/openblas/lib', '-L/usr/local/lib', '-L/usr/local/opt/openssl/lib', '-L/usr/local/opt/sqlite/lib', '-lgmp', '-lgmpxx', '-lopenblas', '-o', '/var/folders/mw/nwq5qyg56fl585pb9jw81_qc0000gn/T/tmp0jdjm0n8/scrabble.cpython-36m-darwin.so'],)\n",
      "Retaining cwd: /Users/navaro/PycharmProjects/notebooks-python\n",
      "_preserve_environment([])\n",
      "_update_environment(...)\n",
      "_update_environment(...)\n",
      "INFO     Generated module: scrabble\n",
      "INFO     Output: /Users/navaro/PycharmProjects/notebooks-python/scrabble.so\n"
     ]
    }
   ],
   "source": [
    "!python3 -m pythran.run -v scrabble.py"
   ]
  },
  {
   "cell_type": "code",
   "execution_count": 24,
   "metadata": {
    "slideshow": {
     "slide_type": "fragment"
    }
   },
   "outputs": [],
   "source": [
    "import scrabble"
   ]
  },
  {
   "cell_type": "code",
   "execution_count": 25,
   "metadata": {
    "slideshow": {
     "slide_type": "fragment"
    }
   },
   "outputs": [
    {
     "data": {
      "text/plain": [
       "'/Users/navaro/PycharmProjects/notebooks-python/scrabble.so'"
      ]
     },
     "execution_count": 25,
     "metadata": {},
     "output_type": "execute_result"
    }
   ],
   "source": [
    "scrabble.__file__"
   ]
  },
  {
   "cell_type": "code",
   "execution_count": 26,
   "metadata": {
    "slideshow": {
     "slide_type": "fragment"
    }
   },
   "outputs": [
    {
     "data": {
      "text/plain": [
       "8"
      ]
     },
     "execution_count": 26,
     "metadata": {},
     "output_type": "execute_result"
    }
   ],
   "source": [
    "scrabble.scrabble_score(\"hello\", {\"h\": 4, \"e\": 1, \"l\": 1, \"o\": 1})"
   ]
  },
  {
   "cell_type": "markdown",
   "metadata": {
    "slideshow": {
     "slide_type": "slide"
    }
   },
   "source": [
    "# Pyhran setup.py\n",
    "\n",
    "```python\n",
    "from distutils.core import Extension\n",
    "from setuptools import setup, dist\n",
    "\n",
    "dist.Distribution(dict(setup_requires='pythran'))\n",
    "\n",
    "from pythran import PythranExtension\n",
    "module1 = PythranExtension('demo', sources = ['scrabble.py'])\n",
    "\n",
    "setup(name = 'demo',\n",
    "      version = '1.0',\n",
    "      description = 'This is a demo package',\n",
    "      ext_modules = [module1])\n",
    "```"
   ]
  },
  {
   "cell_type": "markdown",
   "metadata": {
    "slideshow": {
     "slide_type": "slide"
    }
   },
   "source": [
    "## Functions as regular values"
   ]
  },
  {
   "cell_type": "code",
   "execution_count": 27,
   "metadata": {
    "slideshow": {
     "slide_type": "fragment"
    }
   },
   "outputs": [],
   "source": [
    "%%pythran\n",
    "#pythran export modify(int, str)\n",
    "actions = {\"increase\": lambda x: x + 1,\n",
    "           \"decrease\": lambda x: x - 1}\n",
    "\n",
    "def modify(value, action):\n",
    "    what = actions[action]\n",
    "    return what(value)"
   ]
  },
  {
   "cell_type": "code",
   "execution_count": 28,
   "metadata": {
    "slideshow": {
     "slide_type": "fragment"
    }
   },
   "outputs": [
    {
     "data": {
      "text/plain": [
       "2"
      ]
     },
     "execution_count": 28,
     "metadata": {},
     "output_type": "execute_result"
    }
   ],
   "source": [
    "modify(1, \"increase\")"
   ]
  },
  {
   "cell_type": "markdown",
   "metadata": {
    "slideshow": {
     "slide_type": "fragment"
    }
   },
   "source": [
    "Passing functions in and out is not supported."
   ]
  },
  {
   "cell_type": "code",
   "execution_count": null,
   "metadata": {
    "collapsed": true
   },
   "outputs": [],
   "source": []
  }
 ],
 "metadata": {
  "celltoolbar": "Slideshow",
  "kernelspec": {
   "display_name": "Python 3",
   "language": "python",
   "name": "python3"
  },
  "language_info": {
   "codemirror_mode": {
    "name": "ipython",
    "version": 3
   },
   "file_extension": ".py",
   "mimetype": "text/x-python",
   "name": "python",
   "nbconvert_exporter": "python",
   "pygments_lexer": "ipython3",
   "version": "3.6.3"
  }
 },
 "nbformat": 4,
 "nbformat_minor": 1
}
