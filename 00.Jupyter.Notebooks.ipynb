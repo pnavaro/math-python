{
 "cells": [
  {
   "cell_type": "markdown",
   "metadata": {},
   "source": [
    "Pierre Navaro - [Institut de Recherche Mathématique de Rennes](https://irmar.univ-rennes1.fr) - [CNRS](http://www.cnrs.fr/)"
   ]
  },
  {
   "cell_type": "markdown",
   "metadata": {},
   "source": [
    "[Polyglot Data Analysis visually demonstrated with Python and R\n",
    "](https://github.com/lgautier/jpd-pdapr-slides/blob/gh-pages/notebooks/potholes.ipynb)\n",
    "\n",
    "[A gallery of interesting Jupyter Notebooks](https://github.com/jupyter/jupyter/wiki/A-gallery-of-interesting-Jupyter-Notebooks)\n",
    "\n",
    "[matplotlib - 2D and 3D plotting in Python](http://nbviewer.ipython.org/github/jrjohansson/scientific-python-lectures/blob/master/Lecture-4-Matplotlib.ipynb)\n",
    "\n",
    "[10 Useful Python Data Visualization Libraries for Any Discipline](https://blog.modeanalytics.com/python-data-visualization-libraries/)\n",
    "\n",
    "[adjustText](https://github.com/Phlya/adjustText/blob/master/examples/Examples.ipynb): A small library for automatically adjusting text position in matplotlib plots to minimize overlaps.\n",
    "\n",
    "[10 Useful Python Data Visualization Libraries for Any Discipline](https://blog.modeanalytics.com/python-data-visualization-libraries/)\n",
    "\n",
    "[Reducing Dimensionality from Dimensionality Reduction Techniques](https://github.com/eliorc/Medium/blob/master/PCA-tSNE-AE.ipynb)\n",
    "\n",
    "[Good article about timing and profiling in Jupyter](http://pynash.org/2013/03/06/timing-and-profiling/)\n",
    "\n",
    "[28 Jupyter Notebook tips, tricks and shortcuts](https://www.dataquest.io/blog/jupyter-notebook-tips-tricks-shortcuts/)\n",
    "\n",
    "[Documentation for all IPython Magic commands](http://ipython.readthedocs.io/en/stable/interactive/magics.html)\n",
    "\n",
    "[Py4Science: a Starter Kit](http://fperez.org/py4science/starter_kit.html)\n",
    "\n",
    "[Scipy Lecture Notes](http://www.scipy-lectures.org)\n",
    "\n",
    "[Getting started with Python in HPC](http://andy.terrel.us/blog/2012/09/27/starting-with-python/)\n",
    "\n",
    "[Neal Hughes Blog](http://nealhughes.net/posts/)"
   ]
  },
  {
   "cell_type": "markdown",
   "metadata": {
    "collapsed": true
   },
   "source": [
    "[Python Data Science Handbook by  Jake VanderPlas, in the form of (free!) Jupyter notebooks](https://github.com/jakevdp/PythonDataScienceHandbook/tree/master/notebooks)"
   ]
  },
  {
   "cell_type": "code",
   "execution_count": null,
   "metadata": {
    "collapsed": true
   },
   "outputs": [],
   "source": []
  }
 ],
 "metadata": {
  "kernelspec": {
   "display_name": "Python 3",
   "language": "python",
   "name": "python3"
  },
  "language_info": {
   "codemirror_mode": {
    "name": "ipython",
    "version": 3
   },
   "file_extension": ".py",
   "mimetype": "text/x-python",
   "name": "python",
   "nbconvert_exporter": "python",
   "pygments_lexer": "ipython3",
   "version": "3.6.2"
  }
 },
 "nbformat": 4,
 "nbformat_minor": 2
}
