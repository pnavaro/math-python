{
 "cells": [
  {
   "cell_type": "code",
   "execution_count": 2,
   "metadata": {},
   "outputs": [],
   "source": [
    "%load_ext cython"
   ]
  },
  {
   "cell_type": "code",
   "execution_count": 8,
   "metadata": {},
   "outputs": [
    {
     "name": "stderr",
     "output_type": "stream",
     "text": [
      "\n",
      "Error compiling Cython file:\n",
      "------------------------------------------------------------\n",
      "...\n",
      "\n",
      "@cython.boundscheck(False) # turn off bounds-checking for entire function\n",
      "@cython.wraparound(False)  # turn off negative index wrapping for entire function\n",
      "def cdist_normalized_cc(np.ndarray[DTYPE_t, ndim=3] dataset1, np.ndarray[DTYPE_t, ndim=3] dataset2,\n",
      "                        np.ndarray[DTYPE_t, ndim=1] norms1, np.ndarray[DTYPE_t, ndim=1] norms2,\n",
      "                        bool self_similarity):\n",
      "                       ^\n",
      "------------------------------------------------------------\n",
      "\n",
      "/Users/navaro/.ipython/cython/_cython_magic_febb750cad3ed5f187861816745f9387.pyx:43:24: 'bool' is not a type identifier\n",
      "\n",
      "Error compiling Cython file:\n",
      "------------------------------------------------------------\n",
      "...\n",
      "    cdef DTYPE_t s = 0.\n",
      "    cdef int sz = s1.shape[0]\n",
      "    cdef int d = s1.shape[1]\n",
      "    # Compute fft size based on tip from\n",
      "    # https://stackoverflow.com/questions/14267555/how-can-i-find-the-smallest-power-of-2-greater-than-n-in-python\n",
      "    cdef int fft_sz = 1 << bit_length(2 * sz - 1)\n",
      "                                    ^\n",
      "------------------------------------------------------------\n",
      "\n",
      "/Users/navaro/.ipython/cython/_cython_magic_febb750cad3ed5f187861816745f9387.pyx:20:37: undeclared name not builtin: bit_length\n"
     ]
    }
   ],
   "source": [
    "%%cython -a\n",
    "\n",
    "import cython\n",
    "import numpy as np\n",
    "cimport numpy as np\n",
    "\n",
    "DTYPE = np.float\n",
    "ctypedef np.float_t DTYPE_t\n",
    "\n",
    "@cython.boundscheck(False) # turn off bounds-checking for entire function\n",
    "@cython.wraparound(False)  # turn off negative index wrapping for entire function\n",
    "def normalized_cc(np.ndarray[DTYPE_t, ndim=2] s1, np.ndarray[DTYPE_t, ndim=2] s2,\n",
    "                  float norm1=-1., float norm2=-1.):\n",
    "    assert s1.dtype == DTYPE and s2.dtype == DTYPE\n",
    "    assert s1.shape[1] == s2.shape[1]\n",
    "    cdef DTYPE_t s = 0.\n",
    "    cdef int sz = s1.shape[0]\n",
    "    cdef int d = s1.shape[1]\n",
    "    # Compute fft size based on tip from\n",
    "    # https://stackoverflow.com/questions/14267555/how-can-i-find-the-smallest-power-of-2-greater-than-n-in-python\n",
    "    cdef int fft_sz = 1 << bit_length(2 * sz - 1)\n",
    "    cdef float denom = 0.\n",
    "    cdef np.ndarray[DTYPE_t, ndim=2] cc\n",
    "\n",
    "    if norm1 < 0.:\n",
    "        norm1 = np.linalg.norm(s1)\n",
    "    if norm2 < 0.:\n",
    "        norm2 = np.linalg.norm(s2)\n",
    "\n",
    "    denom = norm1 * norm2\n",
    "    if denom < 1e-9:  # To avoid NaNs\n",
    "        denom = np.inf\n",
    "\n",
    "    cc = np.real(np.fft.ifft(np.fft.fft(s1, fft_sz, axis=0) *\n",
    "                                   np.conj(np.fft.fft(s2, fft_sz, axis=0)), axis=0))\n",
    "    cc = np.vstack((cc[-(sz-1):], cc[:sz]))\n",
    "    return np.real(cc).sum(axis=-1) / denom\n",
    "\n",
    "\n",
    "@cython.boundscheck(False) # turn off bounds-checking for entire function\n",
    "@cython.wraparound(False)  # turn off negative index wrapping for entire function\n",
    "def cdist_normalized_cc(np.ndarray[DTYPE_t, ndim=3] dataset1, np.ndarray[DTYPE_t, ndim=3] dataset2,\n",
    "                        np.ndarray[DTYPE_t, ndim=1] norms1, np.ndarray[DTYPE_t, ndim=1] norms2,\n",
    "                        bool self_similarity):\n",
    "    assert dataset1.dtype == DTYPE and dataset2.dtype == DTYPE\n",
    "    assert dataset1.shape[2] == dataset2.shape[2]\n",
    "    cdef int i = 0\n",
    "    cdef int j = 0\n",
    "    cdef np.ndarray[DTYPE_t, ndim=2] dists = np.empty((dataset1.shape[0], dataset2.shape[0]))\n",
    "\n",
    "    if (norms1 < 0.).any():\n",
    "        norms1 = np.linalg.norm(dataset1, axis=(1, 2))\n",
    "    if (norms2 < 0.).any():\n",
    "        norms2 = np.linalg.norm(dataset2, axis=(1, 2))\n",
    "\n",
    "    for i in range(dataset1.shape[0]):\n",
    "        for j in range(dataset2.shape[0]):\n",
    "            if self_similarity and j < i:\n",
    "                dists[i, j] = dists[j, i]\n",
    "            elif self_similarity and i == j:\n",
    "                dists[i, j] = 0.\n",
    "            else:\n",
    "                dists[i, j] = normalized_cc(dataset1[i], dataset2[j], norm1=norms1[i], norm2=norms2[j]).max()\n",
    "    return dists"
   ]
  },
  {
   "cell_type": "code",
   "execution_count": null,
   "metadata": {
    "collapsed": true
   },
   "outputs": [],
   "source": []
  }
 ],
 "metadata": {
  "kernelspec": {
   "display_name": "Python 2",
   "language": "python",
   "name": "python2"
  },
  "language_info": {
   "codemirror_mode": {
    "name": "ipython",
    "version": 2
   },
   "file_extension": ".py",
   "mimetype": "text/x-python",
   "name": "python",
   "nbconvert_exporter": "python",
   "pygments_lexer": "ipython2",
   "version": "2.7.14"
  }
 },
 "nbformat": 4,
 "nbformat_minor": 2
}
