{
 "cells": [
  {
   "cell_type": "markdown",
   "metadata": {
    "slideshow": {
     "slide_type": "slide"
    }
   },
   "source": [
    "# Dask\n",
    "\n",
    "![Dask logo](https://www.continuum.io/sites/default/files/dask_stacked.png)"
   ]
  },
  {
   "cell_type": "markdown",
   "metadata": {
    "slideshow": {
     "slide_type": "slide"
    }
   },
   "source": [
    "# Dask Features\n",
    "\n",
    "- process data that doesn't fit into memory by breaking it into blocks and specifying task chains\n",
    "- parallelize execution of tasks across cores and even nodes of a cluster\n",
    "- move computation to the data rather than the other way around, to minimize communication overheads\n",
    "\n"
   ]
  },
  {
   "cell_type": "code",
   "execution_count": 51,
   "metadata": {
    "slideshow": {
     "slide_type": "slide"
    }
   },
   "outputs": [],
   "source": [
    "import sys\n",
    "import pandas as pd\n",
    "import dask\n",
    "import dask.multiprocessing\n",
    "\n",
    "WINDOWS = sys.platform.startswith('win')\n",
    "\n",
    "if WINDOWS:\n",
    "    dask.config.set(scheduler=\"threads\")\n",
    "else:\n",
    "    dask.config.set(scheduler=\"processes\")\n",
    "\n",
    "pd.set_option(\"display.max_rows\", 8)"
   ]
  },
  {
   "cell_type": "code",
   "execution_count": 52,
   "metadata": {
    "slideshow": {
     "slide_type": "slide"
    }
   },
   "outputs": [],
   "source": [
    "from time import sleep\n",
    "\n",
    "def slowinc(x, delay=1):\n",
    "    sleep(delay)\n",
    "    return x + 1\n",
    "\n",
    "def slowadd(x, y, delay=1):\n",
    "    sleep(delay)\n",
    "    return x + y"
   ]
  },
  {
   "cell_type": "code",
   "execution_count": 53,
   "metadata": {
    "slideshow": {
     "slide_type": "fragment"
    }
   },
   "outputs": [
    {
     "name": "stdout",
     "output_type": "stream",
     "text": [
      "CPU times: user 815 µs, sys: 1.22 ms, total: 2.04 ms\n",
      "Wall time: 3.01 s\n"
     ]
    }
   ],
   "source": [
    "%%time\n",
    "x = slowinc(1)\n",
    "y = slowinc(2)\n",
    "z = slowadd(x, y)"
   ]
  },
  {
   "cell_type": "markdown",
   "metadata": {
    "slideshow": {
     "slide_type": "slide"
    }
   },
   "source": [
    "# Parallelize with dask.delayed\n",
    "\n",
    "- Functions wrapped by `dask.delayed` don't run immediately, but instead put those functions and arguments into a task graph. \n",
    "- The result is computed separately by calling the `.compute()` method."
   ]
  },
  {
   "cell_type": "code",
   "execution_count": 54,
   "metadata": {
    "slideshow": {
     "slide_type": "fragment"
    }
   },
   "outputs": [],
   "source": [
    "from dask import delayed"
   ]
  },
  {
   "cell_type": "code",
   "execution_count": 55,
   "metadata": {
    "slideshow": {
     "slide_type": "fragment"
    }
   },
   "outputs": [],
   "source": [
    "x = delayed(slowinc)(1)\n",
    "y = delayed(slowinc)(2)\n",
    "z = delayed(slowadd)(x, y)"
   ]
  },
  {
   "cell_type": "code",
   "execution_count": 56,
   "metadata": {
    "slideshow": {
     "slide_type": "fragment"
    }
   },
   "outputs": [
    {
     "name": "stdout",
     "output_type": "stream",
     "text": [
      "CPU times: user 21.9 ms, sys: 32.3 ms, total: 54.2 ms\n",
      "Wall time: 2.05 s\n"
     ]
    },
    {
     "data": {
      "text/plain": [
       "5"
      ]
     },
     "execution_count": 56,
     "metadata": {},
     "output_type": "execute_result"
    }
   ],
   "source": [
    "%%time\n",
    "z.compute()"
   ]
  },
  {
   "cell_type": "markdown",
   "metadata": {
    "slideshow": {
     "slide_type": "slide"
    }
   },
   "source": [
    "# Dask graph\n",
    "\n",
    "- Contains description of the calculations necessary to produce the result. \n",
    "- The z object is a lazy Delayed object. This object holds everything we need to compute the final result. We can compute the result with .compute() as above or we can visualize the task graph for this value with .visualize()."
   ]
  },
  {
   "cell_type": "code",
   "execution_count": 57,
   "metadata": {
    "slideshow": {
     "slide_type": "fragment"
    }
   },
   "outputs": [
    {
     "data": {
      "image/png": "[encoded data removed]",
      "text/plain": [
       "<IPython.core.display.Image object>"
      ]
     },
     "execution_count": 57,
     "metadata": {},
     "output_type": "execute_result"
    }
   ],
   "source": [
    "z.visualize()"
   ]
  },
  {
   "cell_type": "markdown",
   "metadata": {
    "slideshow": {
     "slide_type": "slide"
    }
   },
   "source": [
    "# Parallelize a loop\n"
   ]
  },
  {
   "cell_type": "code",
   "execution_count": 58,
   "metadata": {
    "slideshow": {
     "slide_type": "fragment"
    }
   },
   "outputs": [],
   "source": [
    "data = [1, 2, 3, 4, 5, 6, 7, 8]"
   ]
  },
  {
   "cell_type": "code",
   "execution_count": 59,
   "metadata": {
    "slideshow": {
     "slide_type": "fragment"
    }
   },
   "outputs": [
    {
     "name": "stdout",
     "output_type": "stream",
     "text": [
      "CPU times: user 1.61 ms, sys: 1.91 ms, total: 3.52 ms\n",
      "Wall time: 8.02 s\n"
     ]
    }
   ],
   "source": [
    "%%time\n",
    "\n",
    "results = []\n",
    "for x in data:\n",
    "    y = slowinc(x)\n",
    "    results.append(y)\n",
    "    \n",
    "total = sum(results)"
   ]
  },
  {
   "cell_type": "markdown",
   "metadata": {
    "slideshow": {
     "slide_type": "slide"
    }
   },
   "source": [
    "### Exercise 5.1\n",
    "\n",
    "- Parallelize this by appending the delayed `slowinc` calls to the list `results`.\n",
    "- Display the graph of `total` computation\n",
    "- Compute time elapsed for the computation."
   ]
  },
  {
   "cell_type": "code",
   "execution_count": 60,
   "metadata": {},
   "outputs": [],
   "source": [
    "results = []\n",
    "for x in data:\n",
    "    y = delayed(slowinc)(x)\n",
    "    results.append(y)\n",
    "    \n",
    "total = (delayed)(sum)(results)"
   ]
  },
  {
   "cell_type": "code",
   "execution_count": 61,
   "metadata": {},
   "outputs": [
    {
     "data": {
      "image/png": "[encoded data removed]",
      "text/plain": [
       "<IPython.core.display.Image object>"
      ]
     },
     "execution_count": 61,
     "metadata": {},
     "output_type": "execute_result"
    }
   ],
   "source": [
    "total.visualize()"
   ]
  },
  {
   "cell_type": "code",
   "execution_count": 62,
   "metadata": {},
   "outputs": [
    {
     "name": "stdout",
     "output_type": "stream",
     "text": [
      "CPU times: user 22.4 ms, sys: 30.3 ms, total: 52.6 ms\n",
      "Wall time: 1.06 s\n"
     ]
    },
    {
     "data": {
      "text/plain": [
       "44"
      ]
     },
     "execution_count": 62,
     "metadata": {},
     "output_type": "execute_result"
    }
   ],
   "source": [
    "%%time\n",
    "total.compute()"
   ]
  },
  {
   "cell_type": "markdown",
   "metadata": {
    "slideshow": {
     "slide_type": "slide"
    }
   },
   "source": [
    "# Control flow\n",
    "-  Delay only some functions, running a few of them immediately. This is helpful when those functions are fast and help us to determine what other slower functions we should call. \n",
    "- In the example below we iterate through a list of inputs. If that input is even then we want to call `half`. If the input is odd then we want to call `odd_process`. This iseven decision to call `half` or `odd_process` has to be made immediately (not lazily) in order for our graph-building Python code to proceed.\n"
   ]
  },
  {
   "cell_type": "code",
   "execution_count": 63,
   "metadata": {
    "slideshow": {
     "slide_type": "fragment"
    }
   },
   "outputs": [
    {
     "data": {
      "text/plain": [
       "[64, 60, 10, 19, 100, 98, 1, 43]"
      ]
     },
     "execution_count": 63,
     "metadata": {},
     "output_type": "execute_result"
    }
   ],
   "source": [
    "from random import randint\n",
    "\n",
    "def half(x):\n",
    "    sleep(1)\n",
    "    return x // 2\n",
    "\n",
    "def odd_process(x):\n",
    "    sleep(1)\n",
    "    return 3*x+1\n",
    "\n",
    "def is_even(x):\n",
    "    return not x % 2\n",
    "\n",
    "data = [randint(0,100) for i in range(8)]\n",
    "data"
   ]
  },
  {
   "cell_type": "code",
   "execution_count": 64,
   "metadata": {
    "slideshow": {
     "slide_type": "fragment"
    }
   },
   "outputs": [
    {
     "name": "stdout",
     "output_type": "stream",
     "text": [
      "358\n",
      "CPU times: user 1.57 ms, sys: 1.56 ms, total: 3.14 ms\n",
      "Wall time: 8.02 s\n"
     ]
    }
   ],
   "source": [
    "%%time\n",
    "results = []\n",
    "for x in data:\n",
    "    if is_even(x):\n",
    "        y = half(x)\n",
    "    else:\n",
    "        y = odd_process(x)\n",
    "    results.append(y)\n",
    "    \n",
    "total = sum(results)\n",
    "print(total)"
   ]
  },
  {
   "cell_type": "markdown",
   "metadata": {
    "slideshow": {
     "slide_type": "slide"
    }
   },
   "source": [
    "### Exercise 5.2\n",
    "- Parallelize the sequential code above using dask.delayed\n",
    "- You will need to delay some functions, but not all\n",
    "- Visualize and check the computed result\n"
   ]
  },
  {
   "cell_type": "markdown",
   "metadata": {},
   "source": [
    "### Exercise 5.3\n",
    "- Parallelize the hdf5 conversion from json files\n",
    "- Create a function `convert_to_hdf`\n",
    "- Use dask.compute function on delayed calls of the funtion created list\n",
    "- Is it really  faster as expected ?"
   ]
  },
  {
   "cell_type": "code",
   "execution_count": 65,
   "metadata": {
    "slideshow": {
     "slide_type": "slide"
    }
   },
   "outputs": [],
   "source": [
    "import os, sys\n",
    "from glob import glob\n",
    "import pandas as pd\n",
    "\n",
    "raw_data = {}\n",
    "for year in range(2008,2017):\n",
    "\n",
    "    fp = os.path.join(\"../data\", f\"nba-{year}.csv\")\n",
    "\n",
    "    if not os.path.exists(fp):\n",
    "        url = f\"http://www.basketball-reference.com/leagues/NBA_{year}_games.html\"\n",
    "        tables = pd.read_html(url)\n",
    "        games = tables[0]\n",
    "        games.to_csv(fp)\n",
    "        raw_data[str(year)] = games\n",
    "    else:\n",
    "        raw_data[str(year)] = pd.read_csv(fp)"
   ]
  },
  {
   "cell_type": "code",
   "execution_count": 66,
   "metadata": {},
   "outputs": [
    {
     "data": {
      "text/html": [
       "<div>\n",
       "<style scoped>\n",
       "    .dataframe tbody tr th:only-of-type {\n",
       "        vertical-align: middle;\n",
       "    }\n",
       "\n",
       "    .dataframe tbody tr th {\n",
       "        vertical-align: top;\n",
       "    }\n",
       "\n",
       "    .dataframe thead th {\n",
       "        text-align: right;\n",
       "    }\n",
       "</style>\n",
       "<table border=\"1\" class=\"dataframe\">\n",
       "  <thead>\n",
       "    <tr style=\"text-align: right;\">\n",
       "      <th></th>\n",
       "      <th>Unnamed: 0</th>\n",
       "      <th>Date</th>\n",
       "      <th>Start (ET)</th>\n",
       "      <th>Visitor/Neutral</th>\n",
       "      <th>PTS</th>\n",
       "      <th>Home/Neutral</th>\n",
       "      <th>PTS.1</th>\n",
       "      <th>Unnamed: 6</th>\n",
       "      <th>Unnamed: 7</th>\n",
       "      <th>Attend.</th>\n",
       "      <th>Notes</th>\n",
       "    </tr>\n",
       "  </thead>\n",
       "  <tbody>\n",
       "    <tr>\n",
       "      <th>0</th>\n",
       "      <td>0</td>\n",
       "      <td>Tue, Oct 30, 2007</td>\n",
       "      <td>7:30 pm</td>\n",
       "      <td>Utah Jazz</td>\n",
       "      <td>117</td>\n",
       "      <td>Golden State Warriors</td>\n",
       "      <td>96</td>\n",
       "      <td>Box Score</td>\n",
       "      <td>NaN</td>\n",
       "      <td>19832</td>\n",
       "      <td>NaN</td>\n",
       "    </tr>\n",
       "    <tr>\n",
       "      <th>1</th>\n",
       "      <td>1</td>\n",
       "      <td>Tue, Oct 30, 2007</td>\n",
       "      <td>7:30 pm</td>\n",
       "      <td>Houston Rockets</td>\n",
       "      <td>95</td>\n",
       "      <td>Los Angeles Lakers</td>\n",
       "      <td>93</td>\n",
       "      <td>Box Score</td>\n",
       "      <td>NaN</td>\n",
       "      <td>18997</td>\n",
       "      <td>NaN</td>\n",
       "    </tr>\n",
       "    <tr>\n",
       "      <th>2</th>\n",
       "      <td>2</td>\n",
       "      <td>Tue, Oct 30, 2007</td>\n",
       "      <td>7:00 pm</td>\n",
       "      <td>Portland Trail Blazers</td>\n",
       "      <td>97</td>\n",
       "      <td>San Antonio Spurs</td>\n",
       "      <td>106</td>\n",
       "      <td>Box Score</td>\n",
       "      <td>NaN</td>\n",
       "      <td>18797</td>\n",
       "      <td>NaN</td>\n",
       "    </tr>\n",
       "    <tr>\n",
       "      <th>3</th>\n",
       "      <td>3</td>\n",
       "      <td>Wed, Oct 31, 2007</td>\n",
       "      <td>8:00 pm</td>\n",
       "      <td>Dallas Mavericks</td>\n",
       "      <td>92</td>\n",
       "      <td>Cleveland Cavaliers</td>\n",
       "      <td>74</td>\n",
       "      <td>Box Score</td>\n",
       "      <td>NaN</td>\n",
       "      <td>20562</td>\n",
       "      <td>NaN</td>\n",
       "    </tr>\n",
       "    <tr>\n",
       "      <th>4</th>\n",
       "      <td>4</td>\n",
       "      <td>Wed, Oct 31, 2007</td>\n",
       "      <td>8:30 pm</td>\n",
       "      <td>Seattle SuperSonics</td>\n",
       "      <td>103</td>\n",
       "      <td>Denver Nuggets</td>\n",
       "      <td>120</td>\n",
       "      <td>Box Score</td>\n",
       "      <td>NaN</td>\n",
       "      <td>19380</td>\n",
       "      <td>NaN</td>\n",
       "    </tr>\n",
       "  </tbody>\n",
       "</table>\n",
       "</div>"
      ],
      "text/plain": [
       "   Unnamed: 0               Date Start (ET)         Visitor/Neutral  PTS  \\\n",
       "0           0  Tue, Oct 30, 2007    7:30 pm               Utah Jazz  117   \n",
       "1           1  Tue, Oct 30, 2007    7:30 pm         Houston Rockets   95   \n",
       "2           2  Tue, Oct 30, 2007    7:00 pm  Portland Trail Blazers   97   \n",
       "3           3  Wed, Oct 31, 2007    8:00 pm        Dallas Mavericks   92   \n",
       "4           4  Wed, Oct 31, 2007    8:30 pm     Seattle SuperSonics  103   \n",
       "\n",
       "            Home/Neutral  PTS.1 Unnamed: 6 Unnamed: 7  Attend.  Notes  \n",
       "0  Golden State Warriors     96  Box Score        NaN    19832    NaN  \n",
       "1     Los Angeles Lakers     93  Box Score        NaN    18997    NaN  \n",
       "2      San Antonio Spurs    106  Box Score        NaN    18797    NaN  \n",
       "3    Cleveland Cavaliers     74  Box Score        NaN    20562    NaN  \n",
       "4         Denver Nuggets    120  Box Score        NaN    19380    NaN  "
      ]
     },
     "execution_count": 66,
     "metadata": {},
     "output_type": "execute_result"
    }
   ],
   "source": [
    "raw_data['2008'].head()"
   ]
  },
  {
   "cell_type": "markdown",
   "metadata": {
    "slideshow": {
     "slide_type": "slide"
    }
   },
   "source": [
    "As you can see, we have some extra rows of mostly NaNs, the column names aren't useful, and we have some dtypes to fix up."
   ]
  },
  {
   "cell_type": "code",
   "execution_count": 69,
   "metadata": {},
   "outputs": [
    {
     "name": "stdout",
     "output_type": "stream",
     "text": [
      "CPU times: user 66.4 ms, sys: 6.6 ms, total: 73 ms\n",
      "Wall time: 68 ms\n"
     ]
    }
   ],
   "source": [
    "%%time \n",
    "seasons = {}\n",
    "for year, games in raw_data.items():\n",
    "    \n",
    "    column_names = {'Date': 'date', 'Start (ET)': 'start',\n",
    "                'Unamed: 2': 'box', 'Visitor/Neutral': 'away_team', \n",
    "                'PTS': 'away_points', 'Home/Neutral': 'home_team',\n",
    "                'PTS.1': 'home_points', 'Unamed: 7': 'n_ot'}\n",
    "\n",
    "    seasons[str(year)] = (games.rename(columns=column_names)\n",
    "        .dropna(thresh=4)\n",
    "        [['date', 'away_team', 'away_points', 'home_team', 'home_points']]\n",
    "        .assign(date=lambda x: pd.to_datetime(x['date'], format='%a, %b %d, %Y'))\n",
    "        .set_index('date', append=True)\n",
    "        .rename_axis([\"game_id\", \"date\"])\n",
    "        .sort_index())\n",
    "    "
   ]
  },
  {
   "cell_type": "code",
   "execution_count": 70,
   "metadata": {},
   "outputs": [
    {
     "data": {
      "text/html": [
       "<div>\n",
       "<style scoped>\n",
       "    .dataframe tbody tr th:only-of-type {\n",
       "        vertical-align: middle;\n",
       "    }\n",
       "\n",
       "    .dataframe tbody tr th {\n",
       "        vertical-align: top;\n",
       "    }\n",
       "\n",
       "    .dataframe thead th {\n",
       "        text-align: right;\n",
       "    }\n",
       "</style>\n",
       "<table border=\"1\" class=\"dataframe\">\n",
       "  <thead>\n",
       "    <tr style=\"text-align: right;\">\n",
       "      <th></th>\n",
       "      <th></th>\n",
       "      <th>away_team</th>\n",
       "      <th>away_points</th>\n",
       "      <th>home_team</th>\n",
       "      <th>home_points</th>\n",
       "    </tr>\n",
       "    <tr>\n",
       "      <th>game_id</th>\n",
       "      <th>date</th>\n",
       "      <th></th>\n",
       "      <th></th>\n",
       "      <th></th>\n",
       "      <th></th>\n",
       "    </tr>\n",
       "  </thead>\n",
       "  <tbody>\n",
       "    <tr>\n",
       "      <th>0</th>\n",
       "      <th>2013-10-29</th>\n",
       "      <td>Orlando Magic</td>\n",
       "      <td>87</td>\n",
       "      <td>Indiana Pacers</td>\n",
       "      <td>97</td>\n",
       "    </tr>\n",
       "    <tr>\n",
       "      <th>1</th>\n",
       "      <th>2013-10-29</th>\n",
       "      <td>Los Angeles Clippers</td>\n",
       "      <td>103</td>\n",
       "      <td>Los Angeles Lakers</td>\n",
       "      <td>116</td>\n",
       "    </tr>\n",
       "    <tr>\n",
       "      <th>2</th>\n",
       "      <th>2013-10-29</th>\n",
       "      <td>Chicago Bulls</td>\n",
       "      <td>95</td>\n",
       "      <td>Miami Heat</td>\n",
       "      <td>107</td>\n",
       "    </tr>\n",
       "    <tr>\n",
       "      <th>3</th>\n",
       "      <th>2013-10-30</th>\n",
       "      <td>Brooklyn Nets</td>\n",
       "      <td>94</td>\n",
       "      <td>Cleveland Cavaliers</td>\n",
       "      <td>98</td>\n",
       "    </tr>\n",
       "    <tr>\n",
       "      <th>...</th>\n",
       "      <th>...</th>\n",
       "      <td>...</td>\n",
       "      <td>...</td>\n",
       "      <td>...</td>\n",
       "      <td>...</td>\n",
       "    </tr>\n",
       "    <tr>\n",
       "      <th>15</th>\n",
       "      <th>2013-10-30</th>\n",
       "      <td>Boston Celtics</td>\n",
       "      <td>87</td>\n",
       "      <td>Toronto Raptors</td>\n",
       "      <td>93</td>\n",
       "    </tr>\n",
       "    <tr>\n",
       "      <th>16</th>\n",
       "      <th>2013-10-30</th>\n",
       "      <td>Oklahoma City Thunder</td>\n",
       "      <td>101</td>\n",
       "      <td>Utah Jazz</td>\n",
       "      <td>98</td>\n",
       "    </tr>\n",
       "    <tr>\n",
       "      <th>17</th>\n",
       "      <th>2013-10-31</th>\n",
       "      <td>New York Knicks</td>\n",
       "      <td>81</td>\n",
       "      <td>Chicago Bulls</td>\n",
       "      <td>82</td>\n",
       "    </tr>\n",
       "    <tr>\n",
       "      <th>18</th>\n",
       "      <th>2013-10-31</th>\n",
       "      <td>Golden State Warriors</td>\n",
       "      <td>115</td>\n",
       "      <td>Los Angeles Clippers</td>\n",
       "      <td>126</td>\n",
       "    </tr>\n",
       "  </tbody>\n",
       "</table>\n",
       "<p>19 rows × 4 columns</p>\n",
       "</div>"
      ],
      "text/plain": [
       "                                away_team  away_points             home_team  \\\n",
       "game_id date                                                                   \n",
       "0       2013-10-29          Orlando Magic           87        Indiana Pacers   \n",
       "1       2013-10-29   Los Angeles Clippers          103    Los Angeles Lakers   \n",
       "2       2013-10-29          Chicago Bulls           95            Miami Heat   \n",
       "3       2013-10-30          Brooklyn Nets           94   Cleveland Cavaliers   \n",
       "...                                   ...          ...                   ...   \n",
       "15      2013-10-30         Boston Celtics           87       Toronto Raptors   \n",
       "16      2013-10-30  Oklahoma City Thunder          101             Utah Jazz   \n",
       "17      2013-10-31        New York Knicks           81         Chicago Bulls   \n",
       "18      2013-10-31  Golden State Warriors          115  Los Angeles Clippers   \n",
       "\n",
       "                    home_points  \n",
       "game_id date                     \n",
       "0       2013-10-29           97  \n",
       "1       2013-10-29          116  \n",
       "2       2013-10-29          107  \n",
       "3       2013-10-30           98  \n",
       "...                         ...  \n",
       "15      2013-10-30           93  \n",
       "16      2013-10-30           98  \n",
       "17      2013-10-31           82  \n",
       "18      2013-10-31          126  \n",
       "\n",
       "[19 rows x 4 columns]"
      ]
     },
     "execution_count": 70,
     "metadata": {},
     "output_type": "execute_result"
    }
   ],
   "source": [
    "seasons['2014']"
   ]
  },
  {
   "cell_type": "markdown",
   "metadata": {
    "slideshow": {
     "slide_type": "slide"
    }
   },
   "source": [
    "- `dropna` has a thresh argument. If at least thresh items are missing, the row is dropped. We used it to remove the \"Month headers\" that slipped into the table.\n",
    "- `assign` can take a callable. This lets us refer to the DataFrame in the previous step of the chain. Otherwise we would have to assign temp_df = games.dropna()... And then do the pd.to_datetime on that.\n",
    "-`set_index` has an append keyword. We keep the original index around since it will be our unique identifier per game.\n",
    "- `.rename_axis` is used to set the index names."
   ]
  },
  {
   "cell_type": "markdown",
   "metadata": {
    "slideshow": {
     "slide_type": "slide"
    }
   },
   "source": [
    "### How many days of rest did each team get between each game?\n"
   ]
  },
  {
   "cell_type": "code",
   "execution_count": null,
   "metadata": {},
   "outputs": [],
   "source": []
  },
  {
   "cell_type": "markdown",
   "metadata": {
    "slideshow": {
     "slide_type": "fragment"
    }
   },
   "source": [
    "In this case, an observation is a (team, game) pair, which we don't have yet. Rather, we have two observations per row, one for home and one for away. We'll fix that with `pd.melt`.\n",
    "\n",
    "`pd.melt` works by taking observations that are spread across columns (away_team, home_team), and melting them down into one column with multiple rows. However, we don't want to lose the metadata (like game_id and date) that is shared between the observations. By including those columns as id_vars, the values will be repeated as many times as needed to stay with their observations."
   ]
  },
  {
   "cell_type": "code",
   "execution_count": 81,
   "metadata": {},
   "outputs": [
    {
     "name": "stdout",
     "output_type": "stream",
     "text": [
      "CPU times: user 1.25 s, sys: 1.33 s, total: 2.57 s\n",
      "Wall time: 5.35 s\n"
     ]
    }
   ],
   "source": [
    "%%time\n",
    "### Parallel Code\n",
    "\n",
    "import dask.bag as db\n",
    "\n",
    "b = db.from_sequence(filenames)\n",
    "series = b.map(lambda fn: pd.read_hdf(fn)['close'])\n",
    "\n",
    "corr = (series.product(series)\n",
    "              .filter(lambda ab: not (ab[0] == ab[1]).all())\n",
    "              .map(lambda ab: ab[0].corr(ab[1])).max())\n",
    "\n",
    "result = corr.compute()"
   ]
  },
  {
   "cell_type": "markdown",
   "metadata": {
    "slideshow": {
     "slide_type": "slide"
    }
   },
   "source": [
    "# References\n",
    "* [Dask website](https://dask.pydata.org/)\n",
    "* [Modern Pandas (Part 5): Tidy Data by T. Augspurger](https://tomaugspurger.github.io/modern-5-tidy)\n"
   ]
  },
  {
   "cell_type": "code",
   "execution_count": null,
   "metadata": {},
   "outputs": [],
   "source": []
  }
 ],
 "metadata": {
  "celltoolbar": "Slideshow",
  "kernelspec": {
   "display_name": "Python 3",
   "language": "python",
   "name": "python3"
  },
  "language_info": {
   "codemirror_mode": {
    "name": "ipython",
    "version": 3
   },
   "file_extension": ".py",
   "mimetype": "text/x-python",
   "name": "python",
   "nbconvert_exporter": "python",
   "pygments_lexer": "ipython3",
   "version": "3.6.5"
  }
 },
 "nbformat": 4,
 "nbformat_minor": 2
}
