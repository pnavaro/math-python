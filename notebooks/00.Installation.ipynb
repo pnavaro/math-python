{
 "cells": [
  {
   "cell_type": "markdown",
   "metadata": {
    "slideshow": {
     "slide_type": "slide"
    }
   },
   "source": [
    "# Installation"
   ]
  },
  {
   "cell_type": "markdown",
   "metadata": {
    "slideshow": {
     "slide_type": "fragment"
    }
   },
   "source": [
    "### 1. Install [Anaconda](https://www.anaconda.com/downloads) (large) or [Miniconda](https://conda.io/miniconda.html) (small)"
   ]
  },
  {
   "cell_type": "markdown",
   "metadata": {
    "slideshow": {
     "slide_type": "fragment"
    }
   },
   "source": [
    "### 2. Open a terminal (Linux/MacOSX) or a conda prompt (Windows)"
   ]
  },
  {
   "cell_type": "markdown",
   "metadata": {
    "slideshow": {
     "slide_type": "slide"
    }
   },
   "source": [
    "### 3. Configure git\n",
    "```\n",
    "conda install git # install with conda if not present\n",
    "git config --global user.name “Prenom Nom\"\n",
    "git config --global user.email “prenom.nom@domain.fr\"\n",
    "git clone https://github.com/pnavaro/math-python.git\n",
    "```"
   ]
  },
  {
   "cell_type": "markdown",
   "metadata": {
    "slideshow": {
     "slide_type": "fragment"
    }
   },
   "source": [
    "### 4. Create the conda environment\n",
    "\n",
    "```\n",
    "cd math-python\n",
    "conda env create -f binder/environment.yml\n",
    "```"
   ]
  },
  {
   "cell_type": "markdown",
   "metadata": {
    "slideshow": {
     "slide_type": "slide"
    }
   },
   "source": [
    "### 5. Activate the new environment\n",
    "\n",
    "Activating the conda environment will change your shell’s prompt to show what virtual environment you’re using, and modify the environment so that running python will get you that particular version and installation of Python. \n",
    "<pre>\n",
    "$ source activate math-python   (activate math-python on Windows)\n",
    "(math-python) $ python\n",
    "Python 3.6.2 (default, Jul 17 2017, 16:44:45) \n",
    "[GCC 4.2.1 Compatible Apple LLVM 8.1.0 (clang-802.0.42)] on darwin\n",
    "Type \"help\", \"copyright\", \"credits\" or \"license\" for more information.\n",
    ">>> quit()\n",
    "</pre>\n",
    "\n",
    "[Conda envs documentation](https://conda.io/docs/using/envs.html)."
   ]
  },
  {
   "cell_type": "markdown",
   "metadata": {
    "slideshow": {
     "slide_type": "slide"
    }
   },
   "source": [
    "### Managing packages with conda\n",
    "\n",
    "* Use conda-forge channel\n",
    "```sh\n",
    "conda config --add channels conda-forge\n",
    "```\n",
    "\n",
    "* List all packages\n",
    "```sh\n",
    "conda list\n",
    "```\n",
    "\n",
    "* Search a package\n",
    "```sh\n",
    "conda search jupyter\n",
    "```\n",
    "\n",
    "You can also update or remove, check the [documentation](https://conda.io/docs/using/pkgs.html)."
   ]
  },
  {
   "cell_type": "markdown",
   "metadata": {
    "slideshow": {
     "slide_type": "slide"
    }
   },
   "source": [
    "### Install jupyter with extensions\n",
    "\n",
    "```\n",
    "conda install jupyter_contrib_nbextensions\n",
    "conda install autopep8\n",
    "```"
   ]
  },
  {
   "cell_type": "markdown",
   "metadata": {
    "slideshow": {
     "slide_type": "fragment"
    }
   },
   "source": [
    "### Enable autopep8 extension\n",
    "\n",
    "```\n",
    "jupyter nbextension enable code_prettify/autopep8\n",
    "```"
   ]
  },
  {
   "cell_type": "markdown",
   "metadata": {
    "slideshow": {
     "slide_type": "fragment"
    }
   },
   "source": [
    "### Run jupyter\n",
    "\n",
    "```\n",
    "cd python-notebooks\n",
    "jupyter notebook\n",
    "```"
   ]
  },
  {
   "cell_type": "markdown",
   "metadata": {
    "slideshow": {
     "slide_type": "slide"
    }
   },
   "source": [
    "## Installing Python Packages from a Jupyter Notebook\n",
    "\n",
    "### conda package in the current Jupyter kernel\n",
    "\n",
    "Example with package `lorem` from *conda-forge*\n",
    "```python\n",
    "import sys\n",
    "!conda install --yes --prefix {sys.prefix} -c conda-forge lorem\n",
    "```\n",
    "\n",
    "### pip package in the current Jupyter kernel\n",
    "```\n",
    "import sys\n",
    "!{sys.executable} -m pip install lorem\n",
    "```"
   ]
  },
  {
   "cell_type": "code",
   "execution_count": 2,
   "metadata": {
    "slideshow": {
     "slide_type": "fragment"
    }
   },
   "outputs": [
    {
     "name": "stdout",
     "output_type": "stream",
     "text": [
      "/opt/miniconda3/envs/math-python/bin/python\n"
     ]
    }
   ],
   "source": [
    "import sys\n",
    "print(sys.executable)"
   ]
  }
 ],
 "metadata": {
  "celltoolbar": "Slideshow",
  "kernelspec": {
   "display_name": "Python (math-python)",
   "language": "python",
   "name": "math-python"
  },
  "language_info": {
   "codemirror_mode": {
    "name": "ipython",
    "version": 3
   },
   "file_extension": ".py",
   "mimetype": "text/x-python",
   "name": "python",
   "nbconvert_exporter": "python",
   "pygments_lexer": "ipython3",
   "version": "3.6.6"
  }
 },
 "nbformat": 4,
 "nbformat_minor": 2
}
