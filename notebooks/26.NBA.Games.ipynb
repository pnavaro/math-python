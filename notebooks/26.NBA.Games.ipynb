{
 "cells": [
  {
   "cell_type": "markdown",
   "metadata": {},
   "source": [
    "###  NBA Games"
   ]
  },
  {
   "cell_type": "code",
   "execution_count": 1,
   "metadata": {
    "slideshow": {
     "slide_type": "slide"
    }
   },
   "outputs": [],
   "source": [
    "import os, sys\n",
    "from glob import glob\n",
    "import pandas as pd\n",
    "\n",
    "raw_data = {}\n",
    "for year in range(2000,2017):\n",
    "\n",
    "    fp = os.path.join(\"../data\", f\"nba-{year}.csv\")\n",
    "\n",
    "    if not os.path.exists(fp):\n",
    "        url = f\"http://www.basketball-reference.com/leagues/NBA_{year}_games.html\"\n",
    "        tables = pd.read_html(url)\n",
    "        games = tables[0]\n",
    "        games.to_csv(fp)\n",
    "        raw_data[str(year)] = games\n",
    "    else:\n",
    "        raw_data[str(year)] = pd.read_csv(fp)"
   ]
  },
  {
   "cell_type": "code",
   "execution_count": 2,
   "metadata": {},
   "outputs": [
    {
     "data": {
      "text/html": [
       "<div>\n",
       "<style scoped>\n",
       "    .dataframe tbody tr th:only-of-type {\n",
       "        vertical-align: middle;\n",
       "    }\n",
       "\n",
       "    .dataframe tbody tr th {\n",
       "        vertical-align: top;\n",
       "    }\n",
       "\n",
       "    .dataframe thead th {\n",
       "        text-align: right;\n",
       "    }\n",
       "</style>\n",
       "<table border=\"1\" class=\"dataframe\">\n",
       "  <thead>\n",
       "    <tr style=\"text-align: right;\">\n",
       "      <th></th>\n",
       "      <th>Unnamed: 0</th>\n",
       "      <th>Date</th>\n",
       "      <th>Start (ET)</th>\n",
       "      <th>Visitor/Neutral</th>\n",
       "      <th>PTS</th>\n",
       "      <th>Home/Neutral</th>\n",
       "      <th>PTS.1</th>\n",
       "      <th>Unnamed: 6</th>\n",
       "      <th>Unnamed: 7</th>\n",
       "      <th>Attend.</th>\n",
       "      <th>Notes</th>\n",
       "    </tr>\n",
       "  </thead>\n",
       "  <tbody>\n",
       "    <tr>\n",
       "      <th>0</th>\n",
       "      <td>0</td>\n",
       "      <td>Tue, Oct 30, 2007</td>\n",
       "      <td>7:30 pm</td>\n",
       "      <td>Utah Jazz</td>\n",
       "      <td>117</td>\n",
       "      <td>Golden State Warriors</td>\n",
       "      <td>96</td>\n",
       "      <td>Box Score</td>\n",
       "      <td>NaN</td>\n",
       "      <td>19832</td>\n",
       "      <td>NaN</td>\n",
       "    </tr>\n",
       "    <tr>\n",
       "      <th>1</th>\n",
       "      <td>1</td>\n",
       "      <td>Tue, Oct 30, 2007</td>\n",
       "      <td>7:30 pm</td>\n",
       "      <td>Houston Rockets</td>\n",
       "      <td>95</td>\n",
       "      <td>Los Angeles Lakers</td>\n",
       "      <td>93</td>\n",
       "      <td>Box Score</td>\n",
       "      <td>NaN</td>\n",
       "      <td>18997</td>\n",
       "      <td>NaN</td>\n",
       "    </tr>\n",
       "    <tr>\n",
       "      <th>2</th>\n",
       "      <td>2</td>\n",
       "      <td>Tue, Oct 30, 2007</td>\n",
       "      <td>7:00 pm</td>\n",
       "      <td>Portland Trail Blazers</td>\n",
       "      <td>97</td>\n",
       "      <td>San Antonio Spurs</td>\n",
       "      <td>106</td>\n",
       "      <td>Box Score</td>\n",
       "      <td>NaN</td>\n",
       "      <td>18797</td>\n",
       "      <td>NaN</td>\n",
       "    </tr>\n",
       "    <tr>\n",
       "      <th>3</th>\n",
       "      <td>3</td>\n",
       "      <td>Wed, Oct 31, 2007</td>\n",
       "      <td>8:00 pm</td>\n",
       "      <td>Dallas Mavericks</td>\n",
       "      <td>92</td>\n",
       "      <td>Cleveland Cavaliers</td>\n",
       "      <td>74</td>\n",
       "      <td>Box Score</td>\n",
       "      <td>NaN</td>\n",
       "      <td>20562</td>\n",
       "      <td>NaN</td>\n",
       "    </tr>\n",
       "    <tr>\n",
       "      <th>4</th>\n",
       "      <td>4</td>\n",
       "      <td>Wed, Oct 31, 2007</td>\n",
       "      <td>8:30 pm</td>\n",
       "      <td>Seattle SuperSonics</td>\n",
       "      <td>103</td>\n",
       "      <td>Denver Nuggets</td>\n",
       "      <td>120</td>\n",
       "      <td>Box Score</td>\n",
       "      <td>NaN</td>\n",
       "      <td>19380</td>\n",
       "      <td>NaN</td>\n",
       "    </tr>\n",
       "  </tbody>\n",
       "</table>\n",
       "</div>"
      ],
      "text/plain": [
       "   Unnamed: 0               Date Start (ET)         Visitor/Neutral  PTS  \\\n",
       "0           0  Tue, Oct 30, 2007    7:30 pm               Utah Jazz  117   \n",
       "1           1  Tue, Oct 30, 2007    7:30 pm         Houston Rockets   95   \n",
       "2           2  Tue, Oct 30, 2007    7:00 pm  Portland Trail Blazers   97   \n",
       "3           3  Wed, Oct 31, 2007    8:00 pm        Dallas Mavericks   92   \n",
       "4           4  Wed, Oct 31, 2007    8:30 pm     Seattle SuperSonics  103   \n",
       "\n",
       "            Home/Neutral  PTS.1 Unnamed: 6 Unnamed: 7  Attend.  Notes  \n",
       "0  Golden State Warriors     96  Box Score        NaN    19832    NaN  \n",
       "1     Los Angeles Lakers     93  Box Score        NaN    18997    NaN  \n",
       "2      San Antonio Spurs    106  Box Score        NaN    18797    NaN  \n",
       "3    Cleveland Cavaliers     74  Box Score        NaN    20562    NaN  \n",
       "4         Denver Nuggets    120  Box Score        NaN    19380    NaN  "
      ]
     },
     "execution_count": 2,
     "metadata": {},
     "output_type": "execute_result"
    }
   ],
   "source": [
    "raw_data['2008'].head()"
   ]
  },
  {
   "cell_type": "markdown",
   "metadata": {
    "slideshow": {
     "slide_type": "slide"
    }
   },
   "source": [
    "As you can see, we have some extra rows of mostly NaNs, the column names aren't useful, and we have some dtypes to fix up."
   ]
  },
  {
   "cell_type": "code",
   "execution_count": 3,
   "metadata": {},
   "outputs": [
    {
     "name": "stdout",
     "output_type": "stream",
     "text": [
      "CPU times: user 115 ms, sys: 3.16 ms, total: 118 ms\n",
      "Wall time: 119 ms\n"
     ]
    }
   ],
   "source": [
    "%%time \n",
    "seasons = {}\n",
    "for year, games in raw_data.items():\n",
    "    \n",
    "    column_names = {'Date': 'date', 'Start (ET)': 'start',\n",
    "                'Unamed: 2': 'box', 'Visitor/Neutral': 'away_team', \n",
    "                'PTS': 'away_points', 'Home/Neutral': 'home_team',\n",
    "                'PTS.1': 'home_points', 'Unamed: 7': 'n_ot'}\n",
    "\n",
    "    seasons[str(year)] = (games.rename(columns=column_names)\n",
    "        .dropna(thresh=4)\n",
    "        [['date', 'away_team', 'away_points', 'home_team', 'home_points']]\n",
    "        .assign(date=lambda x: pd.to_datetime(x['date'], format='%a, %b %d, %Y'))\n",
    "        .set_index('date', append=True)\n",
    "        .rename_axis([\"game_id\", \"date\"])\n",
    "        .sort_index())\n",
    "    "
   ]
  },
  {
   "cell_type": "code",
   "execution_count": 4,
   "metadata": {},
   "outputs": [
    {
     "data": {
      "text/html": [
       "<div>\n",
       "<style scoped>\n",
       "    .dataframe tbody tr th:only-of-type {\n",
       "        vertical-align: middle;\n",
       "    }\n",
       "\n",
       "    .dataframe tbody tr th {\n",
       "        vertical-align: top;\n",
       "    }\n",
       "\n",
       "    .dataframe thead th {\n",
       "        text-align: right;\n",
       "    }\n",
       "</style>\n",
       "<table border=\"1\" class=\"dataframe\">\n",
       "  <thead>\n",
       "    <tr style=\"text-align: right;\">\n",
       "      <th></th>\n",
       "      <th></th>\n",
       "      <th>away_team</th>\n",
       "      <th>away_points</th>\n",
       "      <th>home_team</th>\n",
       "      <th>home_points</th>\n",
       "    </tr>\n",
       "    <tr>\n",
       "      <th>game_id</th>\n",
       "      <th>date</th>\n",
       "      <th></th>\n",
       "      <th></th>\n",
       "      <th></th>\n",
       "      <th></th>\n",
       "    </tr>\n",
       "  </thead>\n",
       "  <tbody>\n",
       "    <tr>\n",
       "      <th>0</th>\n",
       "      <th>2013-10-29</th>\n",
       "      <td>Orlando Magic</td>\n",
       "      <td>87</td>\n",
       "      <td>Indiana Pacers</td>\n",
       "      <td>97</td>\n",
       "    </tr>\n",
       "    <tr>\n",
       "      <th>1</th>\n",
       "      <th>2013-10-29</th>\n",
       "      <td>Los Angeles Clippers</td>\n",
       "      <td>103</td>\n",
       "      <td>Los Angeles Lakers</td>\n",
       "      <td>116</td>\n",
       "    </tr>\n",
       "    <tr>\n",
       "      <th>2</th>\n",
       "      <th>2013-10-29</th>\n",
       "      <td>Chicago Bulls</td>\n",
       "      <td>95</td>\n",
       "      <td>Miami Heat</td>\n",
       "      <td>107</td>\n",
       "    </tr>\n",
       "    <tr>\n",
       "      <th>3</th>\n",
       "      <th>2013-10-30</th>\n",
       "      <td>Brooklyn Nets</td>\n",
       "      <td>94</td>\n",
       "      <td>Cleveland Cavaliers</td>\n",
       "      <td>98</td>\n",
       "    </tr>\n",
       "    <tr>\n",
       "      <th>4</th>\n",
       "      <th>2013-10-30</th>\n",
       "      <td>Atlanta Hawks</td>\n",
       "      <td>109</td>\n",
       "      <td>Dallas Mavericks</td>\n",
       "      <td>118</td>\n",
       "    </tr>\n",
       "    <tr>\n",
       "      <th>5</th>\n",
       "      <th>2013-10-30</th>\n",
       "      <td>Washington Wizards</td>\n",
       "      <td>102</td>\n",
       "      <td>Detroit Pistons</td>\n",
       "      <td>113</td>\n",
       "    </tr>\n",
       "    <tr>\n",
       "      <th>6</th>\n",
       "      <th>2013-10-30</th>\n",
       "      <td>Los Angeles Lakers</td>\n",
       "      <td>94</td>\n",
       "      <td>Golden State Warriors</td>\n",
       "      <td>125</td>\n",
       "    </tr>\n",
       "    <tr>\n",
       "      <th>7</th>\n",
       "      <th>2013-10-30</th>\n",
       "      <td>Charlotte Bobcats</td>\n",
       "      <td>83</td>\n",
       "      <td>Houston Rockets</td>\n",
       "      <td>96</td>\n",
       "    </tr>\n",
       "    <tr>\n",
       "      <th>8</th>\n",
       "      <th>2013-10-30</th>\n",
       "      <td>Orlando Magic</td>\n",
       "      <td>115</td>\n",
       "      <td>Minnesota Timberwolves</td>\n",
       "      <td>120</td>\n",
       "    </tr>\n",
       "    <tr>\n",
       "      <th>9</th>\n",
       "      <th>2013-10-30</th>\n",
       "      <td>Indiana Pacers</td>\n",
       "      <td>95</td>\n",
       "      <td>New Orleans Pelicans</td>\n",
       "      <td>90</td>\n",
       "    </tr>\n",
       "    <tr>\n",
       "      <th>10</th>\n",
       "      <th>2013-10-30</th>\n",
       "      <td>Milwaukee Bucks</td>\n",
       "      <td>83</td>\n",
       "      <td>New York Knicks</td>\n",
       "      <td>90</td>\n",
       "    </tr>\n",
       "    <tr>\n",
       "      <th>11</th>\n",
       "      <th>2013-10-30</th>\n",
       "      <td>Miami Heat</td>\n",
       "      <td>110</td>\n",
       "      <td>Philadelphia 76ers</td>\n",
       "      <td>114</td>\n",
       "    </tr>\n",
       "    <tr>\n",
       "      <th>12</th>\n",
       "      <th>2013-10-30</th>\n",
       "      <td>Portland Trail Blazers</td>\n",
       "      <td>91</td>\n",
       "      <td>Phoenix Suns</td>\n",
       "      <td>104</td>\n",
       "    </tr>\n",
       "    <tr>\n",
       "      <th>13</th>\n",
       "      <th>2013-10-30</th>\n",
       "      <td>Denver Nuggets</td>\n",
       "      <td>88</td>\n",
       "      <td>Sacramento Kings</td>\n",
       "      <td>90</td>\n",
       "    </tr>\n",
       "    <tr>\n",
       "      <th>14</th>\n",
       "      <th>2013-10-30</th>\n",
       "      <td>Memphis Grizzlies</td>\n",
       "      <td>94</td>\n",
       "      <td>San Antonio Spurs</td>\n",
       "      <td>101</td>\n",
       "    </tr>\n",
       "    <tr>\n",
       "      <th>15</th>\n",
       "      <th>2013-10-30</th>\n",
       "      <td>Boston Celtics</td>\n",
       "      <td>87</td>\n",
       "      <td>Toronto Raptors</td>\n",
       "      <td>93</td>\n",
       "    </tr>\n",
       "    <tr>\n",
       "      <th>16</th>\n",
       "      <th>2013-10-30</th>\n",
       "      <td>Oklahoma City Thunder</td>\n",
       "      <td>101</td>\n",
       "      <td>Utah Jazz</td>\n",
       "      <td>98</td>\n",
       "    </tr>\n",
       "    <tr>\n",
       "      <th>17</th>\n",
       "      <th>2013-10-31</th>\n",
       "      <td>New York Knicks</td>\n",
       "      <td>81</td>\n",
       "      <td>Chicago Bulls</td>\n",
       "      <td>82</td>\n",
       "    </tr>\n",
       "    <tr>\n",
       "      <th>18</th>\n",
       "      <th>2013-10-31</th>\n",
       "      <td>Golden State Warriors</td>\n",
       "      <td>115</td>\n",
       "      <td>Los Angeles Clippers</td>\n",
       "      <td>126</td>\n",
       "    </tr>\n",
       "  </tbody>\n",
       "</table>\n",
       "</div>"
      ],
      "text/plain": [
       "                                 away_team  away_points  \\\n",
       "game_id date                                              \n",
       "0       2013-10-29           Orlando Magic           87   \n",
       "1       2013-10-29    Los Angeles Clippers          103   \n",
       "2       2013-10-29           Chicago Bulls           95   \n",
       "3       2013-10-30           Brooklyn Nets           94   \n",
       "4       2013-10-30           Atlanta Hawks          109   \n",
       "5       2013-10-30      Washington Wizards          102   \n",
       "6       2013-10-30      Los Angeles Lakers           94   \n",
       "7       2013-10-30       Charlotte Bobcats           83   \n",
       "8       2013-10-30           Orlando Magic          115   \n",
       "9       2013-10-30          Indiana Pacers           95   \n",
       "10      2013-10-30         Milwaukee Bucks           83   \n",
       "11      2013-10-30              Miami Heat          110   \n",
       "12      2013-10-30  Portland Trail Blazers           91   \n",
       "13      2013-10-30          Denver Nuggets           88   \n",
       "14      2013-10-30       Memphis Grizzlies           94   \n",
       "15      2013-10-30          Boston Celtics           87   \n",
       "16      2013-10-30   Oklahoma City Thunder          101   \n",
       "17      2013-10-31         New York Knicks           81   \n",
       "18      2013-10-31   Golden State Warriors          115   \n",
       "\n",
       "                                 home_team  home_points  \n",
       "game_id date                                             \n",
       "0       2013-10-29          Indiana Pacers           97  \n",
       "1       2013-10-29      Los Angeles Lakers          116  \n",
       "2       2013-10-29              Miami Heat          107  \n",
       "3       2013-10-30     Cleveland Cavaliers           98  \n",
       "4       2013-10-30        Dallas Mavericks          118  \n",
       "5       2013-10-30         Detroit Pistons          113  \n",
       "6       2013-10-30   Golden State Warriors          125  \n",
       "7       2013-10-30         Houston Rockets           96  \n",
       "8       2013-10-30  Minnesota Timberwolves          120  \n",
       "9       2013-10-30    New Orleans Pelicans           90  \n",
       "10      2013-10-30         New York Knicks           90  \n",
       "11      2013-10-30      Philadelphia 76ers          114  \n",
       "12      2013-10-30            Phoenix Suns          104  \n",
       "13      2013-10-30        Sacramento Kings           90  \n",
       "14      2013-10-30       San Antonio Spurs          101  \n",
       "15      2013-10-30         Toronto Raptors           93  \n",
       "16      2013-10-30               Utah Jazz           98  \n",
       "17      2013-10-31           Chicago Bulls           82  \n",
       "18      2013-10-31    Los Angeles Clippers          126  "
      ]
     },
     "execution_count": 4,
     "metadata": {},
     "output_type": "execute_result"
    }
   ],
   "source": [
    "seasons['2014']"
   ]
  },
  {
   "cell_type": "markdown",
   "metadata": {
    "slideshow": {
     "slide_type": "slide"
    }
   },
   "source": [
    "- `dropna` has a thresh argument. If at least thresh items are missing, the row is dropped. We used it to remove the \"Month headers\" that slipped into the table.\n",
    "- `assign` can take a callable. This lets us refer to the DataFrame in the previous step of the chain. Otherwise we would have to assign temp_df = games.dropna()... And then do the pd.to_datetime on that.\n",
    "-`set_index` has an append keyword. We keep the original index around since it will be our unique identifier per game.\n",
    "- `.rename_axis` is used to set the index names."
   ]
  },
  {
   "cell_type": "markdown",
   "metadata": {
    "slideshow": {
     "slide_type": "slide"
    }
   },
   "source": [
    "### How many days of rest did each team get between each game?\n"
   ]
  },
  {
   "cell_type": "markdown",
   "metadata": {
    "slideshow": {
     "slide_type": "fragment"
    }
   },
   "source": [
    "In this case, an observation is a (team, game) pair, which we don't have yet. Rather, we have two observations per row, one for home and one for away. We'll fix that with `pd.melt`.\n",
    "\n",
    "`pd.melt` works by taking observations that are spread across columns (away_team, home_team), and melting them down into one column with multiple rows. However, we don't want to lose the metadata (like game_id and date) that is shared between the observations. By including those columns as id_vars, the values will be repeated as many times as needed to stay with their observations."
   ]
  },
  {
   "cell_type": "code",
   "execution_count": 5,
   "metadata": {},
   "outputs": [
    {
     "name": "stdout",
     "output_type": "stream",
     "text": [
      "CPU times: user 79.2 ms, sys: 2.47 ms, total: 81.7 ms\n",
      "Wall time: 80.1 ms\n"
     ]
    }
   ],
   "source": [
    "%%time\n",
    "tidy = {}\n",
    "for year, games in seasons.items():\n",
    "    tidy[str(year)] = pd.melt(games.reset_index(),\n",
    "               id_vars=['game_id', 'date'], value_vars=['away_team', 'home_team'],\n",
    "               value_name='team')"
   ]
  },
  {
   "cell_type": "code",
   "execution_count": 6,
   "metadata": {
    "slideshow": {
     "slide_type": "slide"
    }
   },
   "outputs": [
    {
     "data": {
      "text/plain": [
       "0     NaN\n",
       "1     NaN\n",
       "2     NaN\n",
       "3     NaN\n",
       "4     NaN\n",
       "5     NaN\n",
       "6     NaN\n",
       "7     NaN\n",
       "8     0.0\n",
       "9     NaN\n",
       "10    NaN\n",
       "11    NaN\n",
       "12    NaN\n",
       "13    NaN\n",
       "14    NaN\n",
       "15    NaN\n",
       "16    NaN\n",
       "17    NaN\n",
       "18    NaN\n",
       "19   -2.0\n",
       "20   -2.0\n",
       "21   -2.0\n",
       "22    NaN\n",
       "23    NaN\n",
       "24    NaN\n",
       "25   -2.0\n",
       "26    NaN\n",
       "27    NaN\n",
       "28    NaN\n",
       "29   -2.0\n",
       "30    NaN\n",
       "31    NaN\n",
       "32    NaN\n",
       "33    NaN\n",
       "34    NaN\n",
       "35    NaN\n",
       "36    1.0\n",
       "37    1.0\n",
       "Name: date, dtype: float64"
      ]
     },
     "execution_count": 6,
     "metadata": {},
     "output_type": "execute_result"
    }
   ],
   "source": [
    "tidy['2014'].groupby('team')['date'].diff().dt.days - 1"
   ]
  },
  {
   "cell_type": "code",
   "execution_count": 7,
   "metadata": {},
   "outputs": [
    {
     "data": {
      "text/plain": [
       "0     NaN\n",
       "1     NaN\n",
       "2     NaN\n",
       "3     NaN\n",
       "4     NaN\n",
       "5     NaN\n",
       "6     NaN\n",
       "7     0.0\n",
       "8     NaN\n",
       "9     NaN\n",
       "10    NaN\n",
       "11    NaN\n",
       "12    NaN\n",
       "13    NaN\n",
       "14    NaN\n",
       "15    NaN\n",
       "16    NaN\n",
       "17    NaN\n",
       "18    2.0\n",
       "19    NaN\n",
       "20    1.0\n",
       "21    NaN\n",
       "22    NaN\n",
       "23    NaN\n",
       "24    NaN\n",
       "25    1.0\n",
       "26    NaN\n",
       "27    1.0\n",
       "28    NaN\n",
       "29    NaN\n",
       "     ... \n",
       "46   -3.0\n",
       "47    NaN\n",
       "48   -3.0\n",
       "49    NaN\n",
       "50   -3.0\n",
       "51   -3.0\n",
       "52   -2.0\n",
       "53   -3.0\n",
       "54   -2.0\n",
       "55    1.0\n",
       "56    1.0\n",
       "57    1.0\n",
       "58   -2.0\n",
       "59   -2.0\n",
       "60    1.0\n",
       "61    2.0\n",
       "62    1.0\n",
       "63    1.0\n",
       "64   -2.0\n",
       "65    1.0\n",
       "66   -2.0\n",
       "67    1.0\n",
       "68    1.0\n",
       "69    3.0\n",
       "70    2.0\n",
       "71    2.0\n",
       "72    0.0\n",
       "73    0.0\n",
       "74    2.0\n",
       "75    0.0\n",
       "Name: date, Length: 76, dtype: float64"
      ]
     },
     "execution_count": 7,
     "metadata": {},
     "output_type": "execute_result"
    }
   ],
   "source": [
    "tidy['2010'].groupby('team')['date'].diff().dt.days - 1"
   ]
  },
  {
   "cell_type": "code",
   "execution_count": 8,
   "metadata": {},
   "outputs": [],
   "source": [
    "tidy['2010']['rest'] = tidy['2010'].sort_values('date').groupby('team').date.diff().dt.days - 1"
   ]
  },
  {
   "cell_type": "markdown",
   "metadata": {
    "slideshow": {
     "slide_type": "slide"
    }
   },
   "source": [
    "# References\n",
    "* [Modern Pandas (Part 5): Tidy Data by T. Augspurger](https://tomaugspurger.github.io/modern-5-tidy)\n"
   ]
  }
 ],
 "metadata": {
  "celltoolbar": "Slideshow",
  "kernelspec": {
   "display_name": "Python 3",
   "language": "python",
   "name": "python3"
  },
  "language_info": {
   "codemirror_mode": {
    "name": "ipython",
    "version": 3
   },
   "file_extension": ".py",
   "mimetype": "text/x-python",
   "name": "python",
   "nbconvert_exporter": "python",
   "pygments_lexer": "ipython3",
   "version": "3.6.5"
  }
 },
 "nbformat": 4,
 "nbformat_minor": 2
}
